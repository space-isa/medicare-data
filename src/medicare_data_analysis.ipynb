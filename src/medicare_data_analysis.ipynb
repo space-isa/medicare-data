{
 "cells": [
  {
   "cell_type": "code",
   "execution_count": 6,
   "metadata": {
    "ExecuteTime": {
     "end_time": "2021-06-24T01:36:54.007458Z",
     "start_time": "2021-06-24T01:36:53.999721Z"
    }
   },
   "outputs": [],
   "source": [
    "# !python3 -m pip install --upgrade 'google-cloud-bigquery[bqstorage,pandas]'"
   ]
  },
  {
   "cell_type": "code",
   "execution_count": 41,
   "metadata": {
    "ExecuteTime": {
     "end_time": "2021-06-24T22:09:05.154475Z",
     "start_time": "2021-06-24T22:09:05.118909Z"
    },
    "code_folding": []
   },
   "outputs": [],
   "source": [
    "#  Standard library imports\n",
    "from collections import Counter\n",
    "#  Companion scripts \n",
    "from client_auth import create_client\n",
    "# #  BigQuery import\n",
    "# from google.oauth2 import service_account\n",
    "# from google.cloud import bigquery\n",
    "#  Data processing\n",
    "import pandas as pd\n",
    "pd.set_option(\"display.max_columns\", None) \n",
    "#  Data vizualization\n",
    "from matplotlib import pyplot as plt\n",
    "import seaborn as sns\n",
    "import chart_studio.plotly as py\n",
    "import plotly.graph_objects as go"
   ]
  },
  {
   "cell_type": "markdown",
   "metadata": {
    "heading_collapsed": true
   },
   "source": [
    "## Set up"
   ]
  },
  {
   "cell_type": "markdown",
   "metadata": {
    "hidden": true
   },
   "source": [
    "### Authenticate and connect to BigQuery API."
   ]
  },
  {
   "cell_type": "code",
   "execution_count": 43,
   "metadata": {
    "ExecuteTime": {
     "end_time": "2021-06-24T22:09:27.026525Z",
     "start_time": "2021-06-24T22:09:26.976823Z"
    },
    "hidden": true
   },
   "outputs": [],
   "source": [
    "def create_client():\n",
    "    key_path = \"/Users/Isabel/Documents/Git/iron-axon-317718-542c36710a0a.json\"\n",
    "    scope = \"https://www.googleapis.com/auth/cloud-platform\"\n",
    "    credentials = service_account.Credentials.from_service_account_file(key_path, scopes=[scope],)\n",
    "    #  Create an instance of the bigquery.Client class to create the client\n",
    "    client = bigquery.Client(credentials=credentials, project=credentials.project_id,)\n",
    "    return client\n",
    "\n",
    "client = create_client()"
   ]
  },
  {
   "cell_type": "markdown",
   "metadata": {
    "hidden": true
   },
   "source": [
    "### Fetch medicare dataset"
   ]
  },
  {
   "cell_type": "code",
   "execution_count": null,
   "metadata": {
    "hidden": true
   },
   "outputs": [],
   "source": [
    "#  Define dataset reference\n",
    "project = \"bigquery-public-data\"\n",
    "dataset_id = \"medicare\"\n",
    "dataset_ref = client.dataset(dataset_id, project=project)\n",
    "\n",
    "#  Fetch dataset via API request\n",
    "dataset = client.get_dataset(dataset_ref)"
   ]
  },
  {
   "cell_type": "markdown",
   "metadata": {},
   "source": [
    "## Data exploration"
   ]
  },
  {
   "cell_type": "markdown",
   "metadata": {
    "heading_collapsed": true
   },
   "source": [
    "### Taking a peek at table schema"
   ]
  },
  {
   "cell_type": "code",
   "execution_count": 52,
   "metadata": {
    "ExecuteTime": {
     "end_time": "2021-06-24T23:02:00.019902Z",
     "start_time": "2021-06-24T23:01:59.815020Z"
    },
    "hidden": true
   },
   "outputs": [
    {
     "name": "stdout",
     "output_type": "stream",
     "text": [
      "inpatient_charges_2011\n",
      "inpatient_charges_2012\n",
      "inpatient_charges_2013\n",
      "inpatient_charges_2014\n",
      "outpatient_charges_2011\n",
      "outpatient_charges_2012\n",
      "outpatient_charges_2013\n",
      "outpatient_charges_2014\n",
      "part_d_prescriber_2014\n",
      "physicians_and_other_supplier_2012\n",
      "physicians_and_other_supplier_2013\n",
      "physicians_and_other_supplier_2014\n"
     ]
    }
   ],
   "source": [
    "#  List all tables in the medicare dataset\n",
    "tables = list(client.list_tables(dataset))\n",
    "\n",
    "#  Display names of all tables w/i dataset\n",
    "for table in tables:  \n",
    "    print(table.table_id)"
   ]
  },
  {
   "cell_type": "code",
   "execution_count": 67,
   "metadata": {
    "ExecuteTime": {
     "end_time": "2021-06-25T00:04:45.086769Z",
     "start_time": "2021-06-25T00:04:44.895700Z"
    },
    "hidden": true
   },
   "outputs": [
    {
     "data": {
      "text/plain": [
       "[SchemaField('npi', 'INTEGER', 'REQUIRED', 'National Provider Identifier', (), None),\n",
       " SchemaField('nppes_provider_last_org_name', 'STRING', 'NULLABLE', 'Last Name/Organization Name of the Provider', (), None),\n",
       " SchemaField('nppes_provider_first_name', 'STRING', 'NULLABLE', 'First Name of the Provider', (), None),\n",
       " SchemaField('nppes_provider_city', 'STRING', 'NULLABLE', 'City of the Provider', (), None),\n",
       " SchemaField('nppes_provider_state', 'STRING', 'NULLABLE', 'State Code of the Provider', (), None),\n",
       " SchemaField('specialty_description', 'STRING', 'NULLABLE', 'Provider Specialty Type', (), None),\n",
       " SchemaField('description_flag', 'STRING', 'NULLABLE', 'Source of Provider Specialty', (), None),\n",
       " SchemaField('drug_name', 'STRING', 'REQUIRED', 'Name of the drug', (), None),\n",
       " SchemaField('generic_name', 'STRING', 'NULLABLE', 'Generic name of the drug', (), None),\n",
       " SchemaField('bene_count', 'INTEGER', 'NULLABLE', 'Number of Medicare Beneficiaries', (), None),\n",
       " SchemaField('total_claim_count', 'INTEGER', 'NULLABLE', 'Number of Medicare Part D Claims, Including Refills', (), None),\n",
       " SchemaField('total_day_supply', 'INTEGER', 'NULLABLE', \"Number of Day's Supply for All Claims\", (), None),\n",
       " SchemaField('total_drug_cost', 'FLOAT', 'NULLABLE', 'Aggregate Cost Paid for All Claims', (), None),\n",
       " SchemaField('bene_count_ge65', 'INTEGER', 'NULLABLE', 'Number of Medicare Beneficiaries Age 65+', (), None),\n",
       " SchemaField('bene_count_ge65_suppress_flag', 'STRING', 'NULLABLE', 'Reason for Suppression of Bene_Count_ge65', (), None),\n",
       " SchemaField('total_claim_count_ge65', 'INTEGER', 'NULLABLE', 'Number of Claims, Including Refills, for Beneficiaries Age 65+', (), None),\n",
       " SchemaField('ge65_suppress_flag', 'STRING', 'NULLABLE', 'Reason for Suppression of Total_Claim_Count_Ge65, Total_Drug_Cost_Ge65, and Total_Day_Supply_Ge65', (), None),\n",
       " SchemaField('total_day_supply_ge65', 'INTEGER', 'NULLABLE', \"Number of Day's Supply for All Claims for Beneficiaries Age 65+\", (), None),\n",
       " SchemaField('total_drug_cost_ge65', 'FLOAT', 'NULLABLE', 'Aggregate Cost Paid for All Claims for Beneficiaries Age 65+', (), None)]"
      ]
     },
     "execution_count": 67,
     "metadata": {},
     "output_type": "execute_result"
    }
   ],
   "source": [
    "# Construct a reference to a given table\n",
    "table_ref_2014 = dataset_ref.table(\"part_d_prescriber_2014\")\n",
    "\n",
    "# API request - fetch the table\n",
    "table_2014 = client.get_table(table_ref_2014)\n",
    "table_2014.schema"
   ]
  },
  {
   "cell_type": "code",
   "execution_count": 488,
   "metadata": {
    "ExecuteTime": {
     "end_time": "2021-06-27T02:14:18.392314Z",
     "start_time": "2021-06-27T02:14:13.806869Z"
    },
    "hidden": true
   },
   "outputs": [
    {
     "name": "stderr",
     "output_type": "stream",
     "text": [
      "/Users/Isabel/opt/anaconda3/lib/python3.8/site-packages/google/cloud/bigquery/table.py:1860: UserWarning:\n",
      "\n",
      "Cannot use bqstorage_client if max_results is set, reverting to fetching data with the REST endpoint.\n",
      "\n"
     ]
    },
    {
     "data": {
      "text/html": [
       "<div>\n",
       "<style scoped>\n",
       "    .dataframe tbody tr th:only-of-type {\n",
       "        vertical-align: middle;\n",
       "    }\n",
       "\n",
       "    .dataframe tbody tr th {\n",
       "        vertical-align: top;\n",
       "    }\n",
       "\n",
       "    .dataframe thead th {\n",
       "        text-align: right;\n",
       "    }\n",
       "</style>\n",
       "<table border=\"1\" class=\"dataframe\">\n",
       "  <thead>\n",
       "    <tr style=\"text-align: right;\">\n",
       "      <th></th>\n",
       "      <th>npi</th>\n",
       "      <th>nppes_provider_last_org_name</th>\n",
       "      <th>nppes_provider_first_name</th>\n",
       "      <th>nppes_provider_city</th>\n",
       "      <th>nppes_provider_state</th>\n",
       "      <th>specialty_description</th>\n",
       "      <th>description_flag</th>\n",
       "      <th>drug_name</th>\n",
       "      <th>generic_name</th>\n",
       "      <th>bene_count</th>\n",
       "      <th>total_claim_count</th>\n",
       "      <th>total_day_supply</th>\n",
       "      <th>total_drug_cost</th>\n",
       "      <th>bene_count_ge65</th>\n",
       "      <th>bene_count_ge65_suppress_flag</th>\n",
       "      <th>total_claim_count_ge65</th>\n",
       "      <th>ge65_suppress_flag</th>\n",
       "      <th>total_day_supply_ge65</th>\n",
       "      <th>total_drug_cost_ge65</th>\n",
       "    </tr>\n",
       "  </thead>\n",
       "  <tbody>\n",
       "    <tr>\n",
       "      <th>0</th>\n",
       "      <td>1417953134</td>\n",
       "      <td>KELLOGG</td>\n",
       "      <td>WILLIAM</td>\n",
       "      <td>POTTSVILLE</td>\n",
       "      <td>PA</td>\n",
       "      <td>Ophthalmology</td>\n",
       "      <td>S</td>\n",
       "      <td>FML</td>\n",
       "      <td>FLUOROMETHOLONE</td>\n",
       "      <td>43</td>\n",
       "      <td>81</td>\n",
       "      <td>1970</td>\n",
       "      <td>7025.69</td>\n",
       "      <td>30</td>\n",
       "      <td></td>\n",
       "      <td>57</td>\n",
       "      <td></td>\n",
       "      <td>1332</td>\n",
       "      <td>4954.08</td>\n",
       "    </tr>\n",
       "    <tr>\n",
       "      <th>1</th>\n",
       "      <td>1366428872</td>\n",
       "      <td>NIGRO</td>\n",
       "      <td>JEFF</td>\n",
       "      <td>VANDERGRIFT</td>\n",
       "      <td>PA</td>\n",
       "      <td>Podiatry</td>\n",
       "      <td>S</td>\n",
       "      <td>SSD</td>\n",
       "      <td>SILVER SULFADIAZINE</td>\n",
       "      <td>19</td>\n",
       "      <td>22</td>\n",
       "      <td>307</td>\n",
       "      <td>193.07</td>\n",
       "      <td>19</td>\n",
       "      <td></td>\n",
       "      <td>22</td>\n",
       "      <td></td>\n",
       "      <td>307</td>\n",
       "      <td>193.07</td>\n",
       "    </tr>\n",
       "    <tr>\n",
       "      <th>2</th>\n",
       "      <td>1891724027</td>\n",
       "      <td>CHEBANOVA</td>\n",
       "      <td>ELENA</td>\n",
       "      <td>DENVER</td>\n",
       "      <td>CO</td>\n",
       "      <td>Internal Medicine</td>\n",
       "      <td>S</td>\n",
       "      <td>SSD</td>\n",
       "      <td>SILVER SULFADIAZINE</td>\n",
       "      <td>12</td>\n",
       "      <td>23</td>\n",
       "      <td>690</td>\n",
       "      <td>285.08</td>\n",
       "      <td>12</td>\n",
       "      <td></td>\n",
       "      <td>23</td>\n",
       "      <td></td>\n",
       "      <td>690</td>\n",
       "      <td>285.08</td>\n",
       "    </tr>\n",
       "    <tr>\n",
       "      <th>3</th>\n",
       "      <td>1013911098</td>\n",
       "      <td>SAUNDERS</td>\n",
       "      <td>NEIL</td>\n",
       "      <td>TOLEDO</td>\n",
       "      <td>OH</td>\n",
       "      <td>Podiatry</td>\n",
       "      <td>S</td>\n",
       "      <td>SSD</td>\n",
       "      <td>SILVER SULFADIAZINE</td>\n",
       "      <td>32</td>\n",
       "      <td>39</td>\n",
       "      <td>751</td>\n",
       "      <td>373.45</td>\n",
       "      <td>21</td>\n",
       "      <td></td>\n",
       "      <td>24</td>\n",
       "      <td></td>\n",
       "      <td>484</td>\n",
       "      <td>220.64</td>\n",
       "    </tr>\n",
       "    <tr>\n",
       "      <th>4</th>\n",
       "      <td>1093796542</td>\n",
       "      <td>GREATHOUSE</td>\n",
       "      <td>MARK</td>\n",
       "      <td>PITTSBURGH</td>\n",
       "      <td>PA</td>\n",
       "      <td>Cardiology</td>\n",
       "      <td>S</td>\n",
       "      <td>AZOR</td>\n",
       "      <td>AMLODIPINE BES/OLMESARTAN MED</td>\n",
       "      <td>15</td>\n",
       "      <td>54</td>\n",
       "      <td>2970</td>\n",
       "      <td>13844.40</td>\n",
       "      <td>15</td>\n",
       "      <td></td>\n",
       "      <td>54</td>\n",
       "      <td></td>\n",
       "      <td>2970</td>\n",
       "      <td>13844.40</td>\n",
       "    </tr>\n",
       "    <tr>\n",
       "      <th>...</th>\n",
       "      <td>...</td>\n",
       "      <td>...</td>\n",
       "      <td>...</td>\n",
       "      <td>...</td>\n",
       "      <td>...</td>\n",
       "      <td>...</td>\n",
       "      <td>...</td>\n",
       "      <td>...</td>\n",
       "      <td>...</td>\n",
       "      <td>...</td>\n",
       "      <td>...</td>\n",
       "      <td>...</td>\n",
       "      <td>...</td>\n",
       "      <td>...</td>\n",
       "      <td>...</td>\n",
       "      <td>...</td>\n",
       "      <td>...</td>\n",
       "      <td>...</td>\n",
       "      <td>...</td>\n",
       "    </tr>\n",
       "    <tr>\n",
       "      <th>95</th>\n",
       "      <td>1548203474</td>\n",
       "      <td>DUXBURY</td>\n",
       "      <td>ANDREW</td>\n",
       "      <td>BIRMINGHAM</td>\n",
       "      <td>AL</td>\n",
       "      <td>Geriatric Medicine</td>\n",
       "      <td>S</td>\n",
       "      <td>DIGOX</td>\n",
       "      <td>DIGOXIN</td>\n",
       "      <td>12</td>\n",
       "      <td>31</td>\n",
       "      <td>1372</td>\n",
       "      <td>1299.30</td>\n",
       "      <td>12</td>\n",
       "      <td></td>\n",
       "      <td>31</td>\n",
       "      <td></td>\n",
       "      <td>1372</td>\n",
       "      <td>1299.30</td>\n",
       "    </tr>\n",
       "    <tr>\n",
       "      <th>96</th>\n",
       "      <td>1750422184</td>\n",
       "      <td>THEILADE</td>\n",
       "      <td>KAREN</td>\n",
       "      <td>PALM COAST</td>\n",
       "      <td>FL</td>\n",
       "      <td>Internal Medicine</td>\n",
       "      <td>S</td>\n",
       "      <td>DIGOX</td>\n",
       "      <td>DIGOXIN</td>\n",
       "      <td>12</td>\n",
       "      <td>31</td>\n",
       "      <td>2252</td>\n",
       "      <td>1591.93</td>\n",
       "      <td>12</td>\n",
       "      <td></td>\n",
       "      <td>31</td>\n",
       "      <td></td>\n",
       "      <td>2252</td>\n",
       "      <td>1591.93</td>\n",
       "    </tr>\n",
       "    <tr>\n",
       "      <th>97</th>\n",
       "      <td>1205891942</td>\n",
       "      <td>REMINES</td>\n",
       "      <td>MICHAEL</td>\n",
       "      <td>PRINCETON</td>\n",
       "      <td>WV</td>\n",
       "      <td>Internal Medicine</td>\n",
       "      <td>S</td>\n",
       "      <td>DIGOX</td>\n",
       "      <td>DIGOXIN</td>\n",
       "      <td>11</td>\n",
       "      <td>32</td>\n",
       "      <td>1935</td>\n",
       "      <td>1168.87</td>\n",
       "      <td>11</td>\n",
       "      <td></td>\n",
       "      <td>32</td>\n",
       "      <td></td>\n",
       "      <td>1935</td>\n",
       "      <td>1168.87</td>\n",
       "    </tr>\n",
       "    <tr>\n",
       "      <th>98</th>\n",
       "      <td>1215915913</td>\n",
       "      <td>GELBER</td>\n",
       "      <td>PHILIP</td>\n",
       "      <td>NEW HYDE PARK</td>\n",
       "      <td>NY</td>\n",
       "      <td>Cardiology</td>\n",
       "      <td>S</td>\n",
       "      <td>DIGOX</td>\n",
       "      <td>DIGOXIN</td>\n",
       "      <td>13</td>\n",
       "      <td>33</td>\n",
       "      <td>1984</td>\n",
       "      <td>1935.84</td>\n",
       "      <td>13</td>\n",
       "      <td></td>\n",
       "      <td>33</td>\n",
       "      <td></td>\n",
       "      <td>1984</td>\n",
       "      <td>1935.84</td>\n",
       "    </tr>\n",
       "    <tr>\n",
       "      <th>99</th>\n",
       "      <td>1679591911</td>\n",
       "      <td>SANDMIRE</td>\n",
       "      <td>KEVIN</td>\n",
       "      <td>GREEN BAY</td>\n",
       "      <td>WI</td>\n",
       "      <td>Internal Medicine</td>\n",
       "      <td>S</td>\n",
       "      <td>DIGOX</td>\n",
       "      <td>DIGOXIN</td>\n",
       "      <td>12</td>\n",
       "      <td>34</td>\n",
       "      <td>2756</td>\n",
       "      <td>2121.10</td>\n",
       "      <td>12</td>\n",
       "      <td></td>\n",
       "      <td>34</td>\n",
       "      <td></td>\n",
       "      <td>2756</td>\n",
       "      <td>2121.10</td>\n",
       "    </tr>\n",
       "  </tbody>\n",
       "</table>\n",
       "<p>100 rows × 19 columns</p>\n",
       "</div>"
      ],
      "text/plain": [
       "           npi nppes_provider_last_org_name nppes_provider_first_name  \\\n",
       "0   1417953134                      KELLOGG                   WILLIAM   \n",
       "1   1366428872                        NIGRO                      JEFF   \n",
       "2   1891724027                    CHEBANOVA                     ELENA   \n",
       "3   1013911098                     SAUNDERS                      NEIL   \n",
       "4   1093796542                   GREATHOUSE                      MARK   \n",
       "..         ...                          ...                       ...   \n",
       "95  1548203474                      DUXBURY                    ANDREW   \n",
       "96  1750422184                     THEILADE                     KAREN   \n",
       "97  1205891942                      REMINES                   MICHAEL   \n",
       "98  1215915913                       GELBER                    PHILIP   \n",
       "99  1679591911                     SANDMIRE                     KEVIN   \n",
       "\n",
       "   nppes_provider_city nppes_provider_state specialty_description  \\\n",
       "0           POTTSVILLE                   PA         Ophthalmology   \n",
       "1          VANDERGRIFT                   PA              Podiatry   \n",
       "2               DENVER                   CO     Internal Medicine   \n",
       "3               TOLEDO                   OH              Podiatry   \n",
       "4           PITTSBURGH                   PA            Cardiology   \n",
       "..                 ...                  ...                   ...   \n",
       "95          BIRMINGHAM                   AL    Geriatric Medicine   \n",
       "96          PALM COAST                   FL     Internal Medicine   \n",
       "97           PRINCETON                   WV     Internal Medicine   \n",
       "98       NEW HYDE PARK                   NY            Cardiology   \n",
       "99           GREEN BAY                   WI     Internal Medicine   \n",
       "\n",
       "   description_flag drug_name                   generic_name  bene_count  \\\n",
       "0                 S       FML                FLUOROMETHOLONE          43   \n",
       "1                 S       SSD            SILVER SULFADIAZINE          19   \n",
       "2                 S       SSD            SILVER SULFADIAZINE          12   \n",
       "3                 S       SSD            SILVER SULFADIAZINE          32   \n",
       "4                 S      AZOR  AMLODIPINE BES/OLMESARTAN MED          15   \n",
       "..              ...       ...                            ...         ...   \n",
       "95                S     DIGOX                        DIGOXIN          12   \n",
       "96                S     DIGOX                        DIGOXIN          12   \n",
       "97                S     DIGOX                        DIGOXIN          11   \n",
       "98                S     DIGOX                        DIGOXIN          13   \n",
       "99                S     DIGOX                        DIGOXIN          12   \n",
       "\n",
       "    total_claim_count  total_day_supply  total_drug_cost  bene_count_ge65  \\\n",
       "0                  81              1970          7025.69               30   \n",
       "1                  22               307           193.07               19   \n",
       "2                  23               690           285.08               12   \n",
       "3                  39               751           373.45               21   \n",
       "4                  54              2970         13844.40               15   \n",
       "..                ...               ...              ...              ...   \n",
       "95                 31              1372          1299.30               12   \n",
       "96                 31              2252          1591.93               12   \n",
       "97                 32              1935          1168.87               11   \n",
       "98                 33              1984          1935.84               13   \n",
       "99                 34              2756          2121.10               12   \n",
       "\n",
       "   bene_count_ge65_suppress_flag  total_claim_count_ge65 ge65_suppress_flag  \\\n",
       "0                                                     57                      \n",
       "1                                                     22                      \n",
       "2                                                     23                      \n",
       "3                                                     24                      \n",
       "4                                                     54                      \n",
       "..                           ...                     ...                ...   \n",
       "95                                                    31                      \n",
       "96                                                    31                      \n",
       "97                                                    32                      \n",
       "98                                                    33                      \n",
       "99                                                    34                      \n",
       "\n",
       "    total_day_supply_ge65  total_drug_cost_ge65  \n",
       "0                    1332               4954.08  \n",
       "1                     307                193.07  \n",
       "2                     690                285.08  \n",
       "3                     484                220.64  \n",
       "4                    2970              13844.40  \n",
       "..                    ...                   ...  \n",
       "95                   1372               1299.30  \n",
       "96                   2252               1591.93  \n",
       "97                   1935               1168.87  \n",
       "98                   1984               1935.84  \n",
       "99                   2756               2121.10  \n",
       "\n",
       "[100 rows x 19 columns]"
      ]
     },
     "execution_count": 488,
     "metadata": {},
     "output_type": "execute_result"
    }
   ],
   "source": [
    "client.list_rows(table_2014, max_results=100).to_dataframe()"
   ]
  },
  {
   "cell_type": "code",
   "execution_count": 65,
   "metadata": {
    "ExecuteTime": {
     "end_time": "2021-06-25T00:03:33.616960Z",
     "start_time": "2021-06-25T00:03:33.393756Z"
    },
    "hidden": true
   },
   "outputs": [
    {
     "data": {
      "text/plain": [
       "[SchemaField('npi', 'INTEGER', 'REQUIRED', 'National Provider Identifier', (), None),\n",
       " SchemaField('nppes_provider_last_org_name', 'STRING', 'NULLABLE', 'Last Name/Organization Name of the Provider', (), None),\n",
       " SchemaField('nppes_provider_first_name', 'STRING', 'NULLABLE', 'First Name of the Provider', (), None),\n",
       " SchemaField('nppes_provider_mi', 'STRING', 'NULLABLE', 'Middle Initial of the Provider', (), None),\n",
       " SchemaField('nppes_credentials', 'STRING', 'NULLABLE', 'Credentials of the Provider', (), None),\n",
       " SchemaField('nppes_provider_gender', 'STRING', 'NULLABLE', 'Gender of the Provider', (), None),\n",
       " SchemaField('nppes_entity_code', 'STRING', 'NULLABLE', 'Entity Type of the Provider', (), None),\n",
       " SchemaField('nppes_provider_street1', 'STRING', 'NULLABLE', 'Street Address 1 of the Provider', (), None),\n",
       " SchemaField('nppes_provider_street2', 'STRING', 'NULLABLE', 'Street Address 2 of the Provider', (), None),\n",
       " SchemaField('nppes_provider_city', 'STRING', 'NULLABLE', 'City of the Provider', (), None),\n",
       " SchemaField('nppes_provider_zip', 'STRING', 'NULLABLE', 'Zip Code of the Provider', (), None),\n",
       " SchemaField('nppes_provider_state', 'STRING', 'NULLABLE', 'State Code of the Provider', (), None),\n",
       " SchemaField('nppes_provider_country', 'STRING', 'NULLABLE', 'Country Code of the Provider', (), None),\n",
       " SchemaField('provider_type', 'STRING', 'NULLABLE', 'Provider Type of the Provider', (), None),\n",
       " SchemaField('medicare_participation_indicator', 'STRING', 'NULLABLE', 'Medicare Participation Indicator', (), None),\n",
       " SchemaField('place_of_service', 'STRING', 'REQUIRED', 'Place of Service', (), None),\n",
       " SchemaField('hcpcs_code', 'STRING', 'REQUIRED', 'HCPCS Code', (), None),\n",
       " SchemaField('hcpcs_description', 'STRING', 'NULLABLE', 'HCPCS Description', (), None),\n",
       " SchemaField('hcpcs_drug_indicator', 'STRING', 'NULLABLE', 'Identifies HCPCS As Drug Included in the ASP Drug List', (), None),\n",
       " SchemaField('line_srvc_cnt', 'FLOAT', 'NULLABLE', 'Number of Services', (), None),\n",
       " SchemaField('bene_unique_cnt', 'INTEGER', 'NULLABLE', 'Number of Medicare Beneficiaries', (), None),\n",
       " SchemaField('bene_day_srvc_cnt', 'INTEGER', 'NULLABLE', 'Number of Distinct Medicare Beneficiary/Per Day Services', (), None),\n",
       " SchemaField('average_medicare_allowed_amt', 'FLOAT', 'NULLABLE', 'Average Medicare Allowed Amount', (), None),\n",
       " SchemaField('average_submitted_chrg_amt', 'FLOAT', 'NULLABLE', 'Average Submitted Charge Amount', (), None),\n",
       " SchemaField('average_medicare_payment_amt', 'FLOAT', 'NULLABLE', 'Average Medicare Payment Amount', (), None),\n",
       " SchemaField('average_medicare_standard_amt', 'FLOAT', 'NULLABLE', 'Average Medicare Standardized Payment Amount', (), None)]"
      ]
     },
     "execution_count": 65,
     "metadata": {},
     "output_type": "execute_result"
    }
   ],
   "source": [
    "# Construct a reference to a given table\n",
    "table_ref = dataset_ref.table(\"physicians_and_other_supplier_2014\")\n",
    "\n",
    "# API request - fetch the table\n",
    "table = client.get_table(table_ref)\n",
    "table.schema"
   ]
  },
  {
   "cell_type": "code",
   "execution_count": 66,
   "metadata": {
    "ExecuteTime": {
     "end_time": "2021-06-25T00:03:37.899100Z",
     "start_time": "2021-06-25T00:03:37.006932Z"
    },
    "hidden": true
   },
   "outputs": [
    {
     "name": "stderr",
     "output_type": "stream",
     "text": [
      "/Users/Isabel/opt/anaconda3/lib/python3.8/site-packages/google/cloud/bigquery/table.py:1860: UserWarning: Cannot use bqstorage_client if max_results is set, reverting to fetching data with the REST endpoint.\n",
      "  if not self._validate_bqstorage(bqstorage_client, create_bqstorage_client):\n"
     ]
    },
    {
     "data": {
      "text/html": [
       "<div>\n",
       "<style scoped>\n",
       "    .dataframe tbody tr th:only-of-type {\n",
       "        vertical-align: middle;\n",
       "    }\n",
       "\n",
       "    .dataframe tbody tr th {\n",
       "        vertical-align: top;\n",
       "    }\n",
       "\n",
       "    .dataframe thead th {\n",
       "        text-align: right;\n",
       "    }\n",
       "</style>\n",
       "<table border=\"1\" class=\"dataframe\">\n",
       "  <thead>\n",
       "    <tr style=\"text-align: right;\">\n",
       "      <th></th>\n",
       "      <th>npi</th>\n",
       "      <th>nppes_provider_last_org_name</th>\n",
       "      <th>nppes_provider_first_name</th>\n",
       "      <th>nppes_provider_mi</th>\n",
       "      <th>nppes_credentials</th>\n",
       "      <th>nppes_provider_gender</th>\n",
       "      <th>nppes_entity_code</th>\n",
       "      <th>nppes_provider_street1</th>\n",
       "      <th>nppes_provider_street2</th>\n",
       "      <th>nppes_provider_city</th>\n",
       "      <th>nppes_provider_zip</th>\n",
       "      <th>nppes_provider_state</th>\n",
       "      <th>nppes_provider_country</th>\n",
       "      <th>provider_type</th>\n",
       "      <th>medicare_participation_indicator</th>\n",
       "      <th>place_of_service</th>\n",
       "      <th>hcpcs_code</th>\n",
       "      <th>hcpcs_description</th>\n",
       "      <th>hcpcs_drug_indicator</th>\n",
       "      <th>line_srvc_cnt</th>\n",
       "      <th>bene_unique_cnt</th>\n",
       "      <th>bene_day_srvc_cnt</th>\n",
       "      <th>average_medicare_allowed_amt</th>\n",
       "      <th>average_submitted_chrg_amt</th>\n",
       "      <th>average_medicare_payment_amt</th>\n",
       "      <th>average_medicare_standard_amt</th>\n",
       "    </tr>\n",
       "  </thead>\n",
       "  <tbody>\n",
       "    <tr>\n",
       "      <th>0</th>\n",
       "      <td>1053378265</td>\n",
       "      <td>NEW ENGLAND EYE SURGICAL CENTER INC</td>\n",
       "      <td></td>\n",
       "      <td></td>\n",
       "      <td></td>\n",
       "      <td></td>\n",
       "      <td>O</td>\n",
       "      <td>696 MAIN ST</td>\n",
       "      <td></td>\n",
       "      <td>WEYMOUTH</td>\n",
       "      <td>02190</td>\n",
       "      <td>MA</td>\n",
       "      <td>US</td>\n",
       "      <td>Ambulatory Surgical Center</td>\n",
       "      <td>Y</td>\n",
       "      <td>F</td>\n",
       "      <td>0191T</td>\n",
       "      <td>Internal insertion of eye fluid drainage device</td>\n",
       "      <td>N</td>\n",
       "      <td>21.0</td>\n",
       "      <td>18</td>\n",
       "      <td>21</td>\n",
       "      <td>1883.69</td>\n",
       "      <td>2500.000000</td>\n",
       "      <td>1476.81</td>\n",
       "      <td>1315.47000</td>\n",
       "    </tr>\n",
       "    <tr>\n",
       "      <th>1</th>\n",
       "      <td>1972532539</td>\n",
       "      <td>WILTON SURGERY CENTER LLC</td>\n",
       "      <td></td>\n",
       "      <td></td>\n",
       "      <td></td>\n",
       "      <td></td>\n",
       "      <td>O</td>\n",
       "      <td>195 DANBURY ROAD</td>\n",
       "      <td></td>\n",
       "      <td>WILTON</td>\n",
       "      <td>068974075</td>\n",
       "      <td>CT</td>\n",
       "      <td>US</td>\n",
       "      <td>Ambulatory Surgical Center</td>\n",
       "      <td>Y</td>\n",
       "      <td>F</td>\n",
       "      <td>0191T</td>\n",
       "      <td>Internal insertion of eye fluid drainage device</td>\n",
       "      <td>N</td>\n",
       "      <td>48.0</td>\n",
       "      <td>32</td>\n",
       "      <td>48</td>\n",
       "      <td>1950.73</td>\n",
       "      <td>7745.000000</td>\n",
       "      <td>1529.37</td>\n",
       "      <td>1319.92625</td>\n",
       "    </tr>\n",
       "    <tr>\n",
       "      <th>2</th>\n",
       "      <td>1720182835</td>\n",
       "      <td>LIMESTONE MEDICAL CENTER, INC</td>\n",
       "      <td></td>\n",
       "      <td></td>\n",
       "      <td></td>\n",
       "      <td></td>\n",
       "      <td>O</td>\n",
       "      <td>1941 LIMESTONE RD STE 113</td>\n",
       "      <td></td>\n",
       "      <td>WILMINGTON</td>\n",
       "      <td>198085413</td>\n",
       "      <td>DE</td>\n",
       "      <td>US</td>\n",
       "      <td>Ambulatory Surgical Center</td>\n",
       "      <td>Y</td>\n",
       "      <td>F</td>\n",
       "      <td>0191T</td>\n",
       "      <td>Internal insertion of eye fluid drainage device</td>\n",
       "      <td>N</td>\n",
       "      <td>13.0</td>\n",
       "      <td>11</td>\n",
       "      <td>13</td>\n",
       "      <td>1727.65</td>\n",
       "      <td>2012.307692</td>\n",
       "      <td>1354.48</td>\n",
       "      <td>1315.47000</td>\n",
       "    </tr>\n",
       "    <tr>\n",
       "      <th>3</th>\n",
       "      <td>1487765897</td>\n",
       "      <td>BAY MICROSURGICAL UNIT</td>\n",
       "      <td></td>\n",
       "      <td></td>\n",
       "      <td></td>\n",
       "      <td></td>\n",
       "      <td>O</td>\n",
       "      <td>1200 HIGHMARKET ST</td>\n",
       "      <td>STE 100</td>\n",
       "      <td>GEORGETOWN</td>\n",
       "      <td>294403227</td>\n",
       "      <td>SC</td>\n",
       "      <td>US</td>\n",
       "      <td>Ambulatory Surgical Center</td>\n",
       "      <td>Y</td>\n",
       "      <td>F</td>\n",
       "      <td>0191T</td>\n",
       "      <td>Internal insertion of eye fluid drainage device</td>\n",
       "      <td>N</td>\n",
       "      <td>27.0</td>\n",
       "      <td>20</td>\n",
       "      <td>27</td>\n",
       "      <td>1537.71</td>\n",
       "      <td>2000.000000</td>\n",
       "      <td>1205.57</td>\n",
       "      <td>1315.47000</td>\n",
       "    </tr>\n",
       "    <tr>\n",
       "      <th>4</th>\n",
       "      <td>1801811773</td>\n",
       "      <td>DUPAGE EYE SURGERY CENTER, LLC</td>\n",
       "      <td></td>\n",
       "      <td></td>\n",
       "      <td></td>\n",
       "      <td></td>\n",
       "      <td>O</td>\n",
       "      <td>2015 N MAIN ST</td>\n",
       "      <td></td>\n",
       "      <td>WHEATON</td>\n",
       "      <td>601873152</td>\n",
       "      <td>IL</td>\n",
       "      <td>US</td>\n",
       "      <td>Ambulatory Surgical Center</td>\n",
       "      <td>Y</td>\n",
       "      <td>F</td>\n",
       "      <td>0191T</td>\n",
       "      <td>Internal insertion of eye fluid drainage device</td>\n",
       "      <td>N</td>\n",
       "      <td>18.0</td>\n",
       "      <td>14</td>\n",
       "      <td>18</td>\n",
       "      <td>1712.97</td>\n",
       "      <td>1824.000000</td>\n",
       "      <td>1342.97</td>\n",
       "      <td>1315.47000</td>\n",
       "    </tr>\n",
       "  </tbody>\n",
       "</table>\n",
       "</div>"
      ],
      "text/plain": [
       "          npi         nppes_provider_last_org_name nppes_provider_first_name  \\\n",
       "0  1053378265  NEW ENGLAND EYE SURGICAL CENTER INC                             \n",
       "1  1972532539            WILTON SURGERY CENTER LLC                             \n",
       "2  1720182835        LIMESTONE MEDICAL CENTER, INC                             \n",
       "3  1487765897               BAY MICROSURGICAL UNIT                             \n",
       "4  1801811773       DUPAGE EYE SURGERY CENTER, LLC                             \n",
       "\n",
       "  nppes_provider_mi nppes_credentials nppes_provider_gender nppes_entity_code  \\\n",
       "0                                                                           O   \n",
       "1                                                                           O   \n",
       "2                                                                           O   \n",
       "3                                                                           O   \n",
       "4                                                                           O   \n",
       "\n",
       "      nppes_provider_street1 nppes_provider_street2 nppes_provider_city  \\\n",
       "0                696 MAIN ST                                   WEYMOUTH   \n",
       "1           195 DANBURY ROAD                                     WILTON   \n",
       "2  1941 LIMESTONE RD STE 113                                 WILMINGTON   \n",
       "3         1200 HIGHMARKET ST                STE 100          GEORGETOWN   \n",
       "4             2015 N MAIN ST                                    WHEATON   \n",
       "\n",
       "  nppes_provider_zip nppes_provider_state nppes_provider_country  \\\n",
       "0              02190                   MA                     US   \n",
       "1          068974075                   CT                     US   \n",
       "2          198085413                   DE                     US   \n",
       "3          294403227                   SC                     US   \n",
       "4          601873152                   IL                     US   \n",
       "\n",
       "                provider_type medicare_participation_indicator  \\\n",
       "0  Ambulatory Surgical Center                                Y   \n",
       "1  Ambulatory Surgical Center                                Y   \n",
       "2  Ambulatory Surgical Center                                Y   \n",
       "3  Ambulatory Surgical Center                                Y   \n",
       "4  Ambulatory Surgical Center                                Y   \n",
       "\n",
       "  place_of_service hcpcs_code  \\\n",
       "0                F      0191T   \n",
       "1                F      0191T   \n",
       "2                F      0191T   \n",
       "3                F      0191T   \n",
       "4                F      0191T   \n",
       "\n",
       "                                 hcpcs_description hcpcs_drug_indicator  \\\n",
       "0  Internal insertion of eye fluid drainage device                    N   \n",
       "1  Internal insertion of eye fluid drainage device                    N   \n",
       "2  Internal insertion of eye fluid drainage device                    N   \n",
       "3  Internal insertion of eye fluid drainage device                    N   \n",
       "4  Internal insertion of eye fluid drainage device                    N   \n",
       "\n",
       "   line_srvc_cnt  bene_unique_cnt  bene_day_srvc_cnt  \\\n",
       "0           21.0               18                 21   \n",
       "1           48.0               32                 48   \n",
       "2           13.0               11                 13   \n",
       "3           27.0               20                 27   \n",
       "4           18.0               14                 18   \n",
       "\n",
       "   average_medicare_allowed_amt  average_submitted_chrg_amt  \\\n",
       "0                       1883.69                 2500.000000   \n",
       "1                       1950.73                 7745.000000   \n",
       "2                       1727.65                 2012.307692   \n",
       "3                       1537.71                 2000.000000   \n",
       "4                       1712.97                 1824.000000   \n",
       "\n",
       "   average_medicare_payment_amt  average_medicare_standard_amt  \n",
       "0                       1476.81                     1315.47000  \n",
       "1                       1529.37                     1319.92625  \n",
       "2                       1354.48                     1315.47000  \n",
       "3                       1205.57                     1315.47000  \n",
       "4                       1342.97                     1315.47000  "
      ]
     },
     "execution_count": 66,
     "metadata": {},
     "output_type": "execute_result"
    }
   ],
   "source": [
    "client.list_rows(table, max_results=5).to_dataframe()"
   ]
  },
  {
   "cell_type": "code",
   "execution_count": 58,
   "metadata": {
    "ExecuteTime": {
     "end_time": "2021-06-24T23:44:28.250746Z",
     "start_time": "2021-06-24T23:44:28.183815Z"
    },
    "hidden": true
   },
   "outputs": [],
   "source": [
    "# table_ref = dataset_ref.table('inpatient_charges_2011', 'inpatient_charges_2012')\n",
    "# table = client.get_table(table_ref)"
   ]
  },
  {
   "cell_type": "code",
   "execution_count": 526,
   "metadata": {
    "ExecuteTime": {
     "end_time": "2021-06-27T03:11:18.089374Z",
     "start_time": "2021-06-27T03:11:17.846586Z"
    },
    "hidden": true
   },
   "outputs": [],
   "source": [
    "#  Defining a helper function\n",
    "def most_common(category, N):\n",
    "    print(dict(Counter(df[category].values).most_common(N)))"
   ]
  },
  {
   "cell_type": "code",
   "execution_count": 27,
   "metadata": {
    "ExecuteTime": {
     "end_time": "2021-06-24T21:34:50.169486Z",
     "start_time": "2021-06-24T21:34:50.067451Z"
    },
    "hidden": true
   },
   "outputs": [
    {
     "name": "stdout",
     "output_type": "stream",
     "text": [
      "{'194 - SIMPLE PNEUMONIA & PLEURISY W CC': 3023, '690 - KIDNEY & URINARY TRACT INFECTIONS W/O MCC': 2989, '292 - HEART FAILURE & SHOCK W CC': 2953, '392 - ESOPHAGITIS, GASTROENT & MISC DIGEST DISORDERS W/O MCC': 2950, '641 - MISC DISORDERS OF NUTRITION,METABOLISM,FLUIDS/ELECTROLYTES W/O MCC': 2899}\n"
     ]
    }
   ],
   "source": [
    "category = 'drg_definition'\n",
    "N = 5\n",
    "most_common(category, N)"
   ]
  },
  {
   "cell_type": "markdown",
   "metadata": {},
   "source": [
    "### Constructing SQL queries to snag data of interest"
   ]
  },
  {
   "cell_type": "markdown",
   "metadata": {
    "heading_collapsed": true
   },
   "source": [
    "#### Question of interest: Total number of medications perscribed in each state."
   ]
  },
  {
   "cell_type": "code",
   "execution_count": 134,
   "metadata": {
    "ExecuteTime": {
     "end_time": "2021-06-25T01:54:44.361509Z",
     "start_time": "2021-06-25T01:54:44.356226Z"
    },
    "hidden": true
   },
   "outputs": [],
   "source": [
    "query = \"\"\" SELECT nppes_provider_state as state, \n",
    "                   COUNT(generic_name) as total_num_medications\n",
    "                    FROM bigquery-public-data.medicare.part_d_prescriber_2014\n",
    "                    WHERE (nppes_provider_state != 'AA' AND \n",
    "                                    nppes_provider_state != 'AE' AND \n",
    "                                    nppes_provider_state != 'AS' AND\n",
    "                                    nppes_provider_state != 'AP' AND\n",
    "                                    nppes_provider_state != 'GU' AND\n",
    "                                    nppes_provider_state != 'MP' AND\n",
    "                                    nppes_provider_state != 'PR' AND\n",
    "                                    nppes_provider_state != 'VI' AND\n",
    "                                    nppes_provider_state != 'XX' AND\n",
    "                                    nppes_provider_state != 'ZZ')\n",
    "                    GROUP BY 1\n",
    "                    ORDER BY 1\n",
    "              \"\"\""
   ]
  },
  {
   "cell_type": "code",
   "execution_count": 135,
   "metadata": {
    "ExecuteTime": {
     "end_time": "2021-06-25T01:54:48.276127Z",
     "start_time": "2021-06-25T01:54:46.114849Z"
    },
    "hidden": true
   },
   "outputs": [
    {
     "name": "stdout",
     "output_type": "stream",
     "text": [
      "51\n"
     ]
    },
    {
     "data": {
      "text/plain": [
       "state  total_num_medications\n",
       "AK     28790                    1\n",
       "PA     1229131                  1\n",
       "ND     66878                    1\n",
       "NE     166949                   1\n",
       "NH     103143                   1\n",
       "dtype: int64"
      ]
     },
     "execution_count": 135,
     "metadata": {},
     "output_type": "execute_result"
    }
   ],
   "source": [
    "query_job = client.query(query)\n",
    "tot_meds_per_state = query_job.to_dataframe()\n",
    "print(len(tot_meds_per_state))\n",
    "tot_meds_per_state.value_counts().head()"
   ]
  },
  {
   "cell_type": "code",
   "execution_count": 128,
   "metadata": {
    "ExecuteTime": {
     "end_time": "2021-06-25T01:47:31.549157Z",
     "start_time": "2021-06-25T01:47:31.533630Z"
    },
    "hidden": true
   },
   "outputs": [],
   "source": [
    "# tot_meds_per_state_sorted = tot_meds_per_state.sort_values(by=['total_num_medications'], ascending=False)"
   ]
  },
  {
   "cell_type": "code",
   "execution_count": 432,
   "metadata": {
    "ExecuteTime": {
     "end_time": "2021-06-25T17:31:33.440523Z",
     "start_time": "2021-06-25T17:31:33.344842Z"
    },
    "hidden": true,
    "scrolled": false
   },
   "outputs": [
    {
     "data": {
      "application/vnd.plotly.v1+json": {
       "config": {
        "plotlyServerURL": "https://plotly.com"
       },
       "data": [
        {
         "alignmentgroup": "True",
         "hovertemplate": "State=%{x}<br>Number of perscriptions=%{y}<extra></extra>",
         "legendgroup": "",
         "marker": {
          "color": "#636efa",
          "pattern": {
           "shape": ""
          }
         },
         "name": "",
         "offsetgroup": "",
         "orientation": "v",
         "showlegend": false,
         "textposition": "auto",
         "type": "bar",
         "x": [
          "CA",
          "NY",
          "FL",
          "TX",
          "PA",
          "OH",
          "NC",
          "IL",
          "MI",
          "GA",
          "NJ",
          "TN",
          "MA",
          "MO",
          "IN",
          "VA",
          "WI",
          "WA",
          "KY",
          "AZ",
          "AL",
          "SC",
          "MN",
          "LA",
          "MD",
          "OR",
          "CO",
          "OK",
          "IA",
          "CT",
          "AR",
          "MS",
          "KS",
          "WV",
          "NE",
          "NV",
          "ME",
          "UT",
          "NM",
          "ID",
          "NH",
          "RI",
          "MT",
          "HI",
          "SD",
          "DE",
          "ND",
          "VT",
          "DC",
          "WY",
          "AK"
         ],
         "xaxis": "x",
         "y": [
          2314584,
          1650394,
          1611284,
          1472280,
          1229131,
          1001898,
          876333,
          866586,
          824255,
          665139,
          650290,
          634787,
          557205,
          553268,
          536188,
          532061,
          463205,
          458158,
          451310,
          422571,
          416439,
          403898,
          401268,
          394543,
          337520,
          317060,
          310094,
          290348,
          287806,
          285161,
          270039,
          269130,
          245816,
          205156,
          166949,
          149881,
          138406,
          137469,
          131202,
          112699,
          103143,
          100822,
          79668,
          79298,
          75409,
          68645,
          66878,
          53724,
          40966,
          34778,
          28790
         ],
         "yaxis": "y"
        }
       ],
       "layout": {
        "barmode": "relative",
        "legend": {
         "tracegroupgap": 0
        },
        "template": {
         "data": {
          "bar": [
           {
            "error_x": {
             "color": "#2a3f5f"
            },
            "error_y": {
             "color": "#2a3f5f"
            },
            "marker": {
             "line": {
              "color": "#E5ECF6",
              "width": 0.5
             },
             "pattern": {
              "fillmode": "overlay",
              "size": 10,
              "solidity": 0.2
             }
            },
            "type": "bar"
           }
          ],
          "barpolar": [
           {
            "marker": {
             "line": {
              "color": "#E5ECF6",
              "width": 0.5
             },
             "pattern": {
              "fillmode": "overlay",
              "size": 10,
              "solidity": 0.2
             }
            },
            "type": "barpolar"
           }
          ],
          "carpet": [
           {
            "aaxis": {
             "endlinecolor": "#2a3f5f",
             "gridcolor": "white",
             "linecolor": "white",
             "minorgridcolor": "white",
             "startlinecolor": "#2a3f5f"
            },
            "baxis": {
             "endlinecolor": "#2a3f5f",
             "gridcolor": "white",
             "linecolor": "white",
             "minorgridcolor": "white",
             "startlinecolor": "#2a3f5f"
            },
            "type": "carpet"
           }
          ],
          "choropleth": [
           {
            "colorbar": {
             "outlinewidth": 0,
             "ticks": ""
            },
            "type": "choropleth"
           }
          ],
          "contour": [
           {
            "colorbar": {
             "outlinewidth": 0,
             "ticks": ""
            },
            "colorscale": [
             [
              0,
              "#0d0887"
             ],
             [
              0.1111111111111111,
              "#46039f"
             ],
             [
              0.2222222222222222,
              "#7201a8"
             ],
             [
              0.3333333333333333,
              "#9c179e"
             ],
             [
              0.4444444444444444,
              "#bd3786"
             ],
             [
              0.5555555555555556,
              "#d8576b"
             ],
             [
              0.6666666666666666,
              "#ed7953"
             ],
             [
              0.7777777777777778,
              "#fb9f3a"
             ],
             [
              0.8888888888888888,
              "#fdca26"
             ],
             [
              1,
              "#f0f921"
             ]
            ],
            "type": "contour"
           }
          ],
          "contourcarpet": [
           {
            "colorbar": {
             "outlinewidth": 0,
             "ticks": ""
            },
            "type": "contourcarpet"
           }
          ],
          "heatmap": [
           {
            "colorbar": {
             "outlinewidth": 0,
             "ticks": ""
            },
            "colorscale": [
             [
              0,
              "#0d0887"
             ],
             [
              0.1111111111111111,
              "#46039f"
             ],
             [
              0.2222222222222222,
              "#7201a8"
             ],
             [
              0.3333333333333333,
              "#9c179e"
             ],
             [
              0.4444444444444444,
              "#bd3786"
             ],
             [
              0.5555555555555556,
              "#d8576b"
             ],
             [
              0.6666666666666666,
              "#ed7953"
             ],
             [
              0.7777777777777778,
              "#fb9f3a"
             ],
             [
              0.8888888888888888,
              "#fdca26"
             ],
             [
              1,
              "#f0f921"
             ]
            ],
            "type": "heatmap"
           }
          ],
          "heatmapgl": [
           {
            "colorbar": {
             "outlinewidth": 0,
             "ticks": ""
            },
            "colorscale": [
             [
              0,
              "#0d0887"
             ],
             [
              0.1111111111111111,
              "#46039f"
             ],
             [
              0.2222222222222222,
              "#7201a8"
             ],
             [
              0.3333333333333333,
              "#9c179e"
             ],
             [
              0.4444444444444444,
              "#bd3786"
             ],
             [
              0.5555555555555556,
              "#d8576b"
             ],
             [
              0.6666666666666666,
              "#ed7953"
             ],
             [
              0.7777777777777778,
              "#fb9f3a"
             ],
             [
              0.8888888888888888,
              "#fdca26"
             ],
             [
              1,
              "#f0f921"
             ]
            ],
            "type": "heatmapgl"
           }
          ],
          "histogram": [
           {
            "marker": {
             "pattern": {
              "fillmode": "overlay",
              "size": 10,
              "solidity": 0.2
             }
            },
            "type": "histogram"
           }
          ],
          "histogram2d": [
           {
            "colorbar": {
             "outlinewidth": 0,
             "ticks": ""
            },
            "colorscale": [
             [
              0,
              "#0d0887"
             ],
             [
              0.1111111111111111,
              "#46039f"
             ],
             [
              0.2222222222222222,
              "#7201a8"
             ],
             [
              0.3333333333333333,
              "#9c179e"
             ],
             [
              0.4444444444444444,
              "#bd3786"
             ],
             [
              0.5555555555555556,
              "#d8576b"
             ],
             [
              0.6666666666666666,
              "#ed7953"
             ],
             [
              0.7777777777777778,
              "#fb9f3a"
             ],
             [
              0.8888888888888888,
              "#fdca26"
             ],
             [
              1,
              "#f0f921"
             ]
            ],
            "type": "histogram2d"
           }
          ],
          "histogram2dcontour": [
           {
            "colorbar": {
             "outlinewidth": 0,
             "ticks": ""
            },
            "colorscale": [
             [
              0,
              "#0d0887"
             ],
             [
              0.1111111111111111,
              "#46039f"
             ],
             [
              0.2222222222222222,
              "#7201a8"
             ],
             [
              0.3333333333333333,
              "#9c179e"
             ],
             [
              0.4444444444444444,
              "#bd3786"
             ],
             [
              0.5555555555555556,
              "#d8576b"
             ],
             [
              0.6666666666666666,
              "#ed7953"
             ],
             [
              0.7777777777777778,
              "#fb9f3a"
             ],
             [
              0.8888888888888888,
              "#fdca26"
             ],
             [
              1,
              "#f0f921"
             ]
            ],
            "type": "histogram2dcontour"
           }
          ],
          "mesh3d": [
           {
            "colorbar": {
             "outlinewidth": 0,
             "ticks": ""
            },
            "type": "mesh3d"
           }
          ],
          "parcoords": [
           {
            "line": {
             "colorbar": {
              "outlinewidth": 0,
              "ticks": ""
             }
            },
            "type": "parcoords"
           }
          ],
          "pie": [
           {
            "automargin": true,
            "type": "pie"
           }
          ],
          "scatter": [
           {
            "marker": {
             "colorbar": {
              "outlinewidth": 0,
              "ticks": ""
             }
            },
            "type": "scatter"
           }
          ],
          "scatter3d": [
           {
            "line": {
             "colorbar": {
              "outlinewidth": 0,
              "ticks": ""
             }
            },
            "marker": {
             "colorbar": {
              "outlinewidth": 0,
              "ticks": ""
             }
            },
            "type": "scatter3d"
           }
          ],
          "scattercarpet": [
           {
            "marker": {
             "colorbar": {
              "outlinewidth": 0,
              "ticks": ""
             }
            },
            "type": "scattercarpet"
           }
          ],
          "scattergeo": [
           {
            "marker": {
             "colorbar": {
              "outlinewidth": 0,
              "ticks": ""
             }
            },
            "type": "scattergeo"
           }
          ],
          "scattergl": [
           {
            "marker": {
             "colorbar": {
              "outlinewidth": 0,
              "ticks": ""
             }
            },
            "type": "scattergl"
           }
          ],
          "scattermapbox": [
           {
            "marker": {
             "colorbar": {
              "outlinewidth": 0,
              "ticks": ""
             }
            },
            "type": "scattermapbox"
           }
          ],
          "scatterpolar": [
           {
            "marker": {
             "colorbar": {
              "outlinewidth": 0,
              "ticks": ""
             }
            },
            "type": "scatterpolar"
           }
          ],
          "scatterpolargl": [
           {
            "marker": {
             "colorbar": {
              "outlinewidth": 0,
              "ticks": ""
             }
            },
            "type": "scatterpolargl"
           }
          ],
          "scatterternary": [
           {
            "marker": {
             "colorbar": {
              "outlinewidth": 0,
              "ticks": ""
             }
            },
            "type": "scatterternary"
           }
          ],
          "surface": [
           {
            "colorbar": {
             "outlinewidth": 0,
             "ticks": ""
            },
            "colorscale": [
             [
              0,
              "#0d0887"
             ],
             [
              0.1111111111111111,
              "#46039f"
             ],
             [
              0.2222222222222222,
              "#7201a8"
             ],
             [
              0.3333333333333333,
              "#9c179e"
             ],
             [
              0.4444444444444444,
              "#bd3786"
             ],
             [
              0.5555555555555556,
              "#d8576b"
             ],
             [
              0.6666666666666666,
              "#ed7953"
             ],
             [
              0.7777777777777778,
              "#fb9f3a"
             ],
             [
              0.8888888888888888,
              "#fdca26"
             ],
             [
              1,
              "#f0f921"
             ]
            ],
            "type": "surface"
           }
          ],
          "table": [
           {
            "cells": {
             "fill": {
              "color": "#EBF0F8"
             },
             "line": {
              "color": "white"
             }
            },
            "header": {
             "fill": {
              "color": "#C8D4E3"
             },
             "line": {
              "color": "white"
             }
            },
            "type": "table"
           }
          ]
         },
         "layout": {
          "annotationdefaults": {
           "arrowcolor": "#2a3f5f",
           "arrowhead": 0,
           "arrowwidth": 1
          },
          "autotypenumbers": "strict",
          "coloraxis": {
           "colorbar": {
            "outlinewidth": 0,
            "ticks": ""
           }
          },
          "colorscale": {
           "diverging": [
            [
             0,
             "#8e0152"
            ],
            [
             0.1,
             "#c51b7d"
            ],
            [
             0.2,
             "#de77ae"
            ],
            [
             0.3,
             "#f1b6da"
            ],
            [
             0.4,
             "#fde0ef"
            ],
            [
             0.5,
             "#f7f7f7"
            ],
            [
             0.6,
             "#e6f5d0"
            ],
            [
             0.7,
             "#b8e186"
            ],
            [
             0.8,
             "#7fbc41"
            ],
            [
             0.9,
             "#4d9221"
            ],
            [
             1,
             "#276419"
            ]
           ],
           "sequential": [
            [
             0,
             "#0d0887"
            ],
            [
             0.1111111111111111,
             "#46039f"
            ],
            [
             0.2222222222222222,
             "#7201a8"
            ],
            [
             0.3333333333333333,
             "#9c179e"
            ],
            [
             0.4444444444444444,
             "#bd3786"
            ],
            [
             0.5555555555555556,
             "#d8576b"
            ],
            [
             0.6666666666666666,
             "#ed7953"
            ],
            [
             0.7777777777777778,
             "#fb9f3a"
            ],
            [
             0.8888888888888888,
             "#fdca26"
            ],
            [
             1,
             "#f0f921"
            ]
           ],
           "sequentialminus": [
            [
             0,
             "#0d0887"
            ],
            [
             0.1111111111111111,
             "#46039f"
            ],
            [
             0.2222222222222222,
             "#7201a8"
            ],
            [
             0.3333333333333333,
             "#9c179e"
            ],
            [
             0.4444444444444444,
             "#bd3786"
            ],
            [
             0.5555555555555556,
             "#d8576b"
            ],
            [
             0.6666666666666666,
             "#ed7953"
            ],
            [
             0.7777777777777778,
             "#fb9f3a"
            ],
            [
             0.8888888888888888,
             "#fdca26"
            ],
            [
             1,
             "#f0f921"
            ]
           ]
          },
          "colorway": [
           "#636efa",
           "#EF553B",
           "#00cc96",
           "#ab63fa",
           "#FFA15A",
           "#19d3f3",
           "#FF6692",
           "#B6E880",
           "#FF97FF",
           "#FECB52"
          ],
          "font": {
           "color": "#2a3f5f"
          },
          "geo": {
           "bgcolor": "white",
           "lakecolor": "white",
           "landcolor": "#E5ECF6",
           "showlakes": true,
           "showland": true,
           "subunitcolor": "white"
          },
          "hoverlabel": {
           "align": "left"
          },
          "hovermode": "closest",
          "mapbox": {
           "style": "light"
          },
          "paper_bgcolor": "white",
          "plot_bgcolor": "#E5ECF6",
          "polar": {
           "angularaxis": {
            "gridcolor": "white",
            "linecolor": "white",
            "ticks": ""
           },
           "bgcolor": "#E5ECF6",
           "radialaxis": {
            "gridcolor": "white",
            "linecolor": "white",
            "ticks": ""
           }
          },
          "scene": {
           "xaxis": {
            "backgroundcolor": "#E5ECF6",
            "gridcolor": "white",
            "gridwidth": 2,
            "linecolor": "white",
            "showbackground": true,
            "ticks": "",
            "zerolinecolor": "white"
           },
           "yaxis": {
            "backgroundcolor": "#E5ECF6",
            "gridcolor": "white",
            "gridwidth": 2,
            "linecolor": "white",
            "showbackground": true,
            "ticks": "",
            "zerolinecolor": "white"
           },
           "zaxis": {
            "backgroundcolor": "#E5ECF6",
            "gridcolor": "white",
            "gridwidth": 2,
            "linecolor": "white",
            "showbackground": true,
            "ticks": "",
            "zerolinecolor": "white"
           }
          },
          "shapedefaults": {
           "line": {
            "color": "#2a3f5f"
           }
          },
          "ternary": {
           "aaxis": {
            "gridcolor": "white",
            "linecolor": "white",
            "ticks": ""
           },
           "baxis": {
            "gridcolor": "white",
            "linecolor": "white",
            "ticks": ""
           },
           "bgcolor": "#E5ECF6",
           "caxis": {
            "gridcolor": "white",
            "linecolor": "white",
            "ticks": ""
           }
          },
          "title": {
           "x": 0.05
          },
          "xaxis": {
           "automargin": true,
           "gridcolor": "white",
           "linecolor": "white",
           "ticks": "",
           "title": {
            "standoff": 15
           },
           "zerolinecolor": "white",
           "zerolinewidth": 2
          },
          "yaxis": {
           "automargin": true,
           "gridcolor": "white",
           "linecolor": "white",
           "ticks": "",
           "title": {
            "standoff": 15
           },
           "zerolinecolor": "white",
           "zerolinewidth": 2
          }
         }
        },
        "title": {
         "text": "Total number of perscriptions per state (US, 2014)"
        },
        "xaxis": {
         "anchor": "y",
         "domain": [
          0,
          1
         ],
         "title": {
          "text": "State"
         }
        },
        "yaxis": {
         "anchor": "x",
         "domain": [
          0,
          1
         ],
         "title": {
          "text": "Number of perscriptions"
         }
        }
       }
      },
      "text/html": [
       "<div>                            <div id=\"3e8b10d2-520d-44e4-a025-041f16757db2\" class=\"plotly-graph-div\" style=\"height:525px; width:100%;\"></div>            <script type=\"text/javascript\">                require([\"plotly\"], function(Plotly) {                    window.PLOTLYENV=window.PLOTLYENV || {};                                    if (document.getElementById(\"3e8b10d2-520d-44e4-a025-041f16757db2\")) {                    Plotly.newPlot(                        \"3e8b10d2-520d-44e4-a025-041f16757db2\",                        [{\"alignmentgroup\":\"True\",\"hovertemplate\":\"State=%{x}<br>Number of perscriptions=%{y}<extra></extra>\",\"legendgroup\":\"\",\"marker\":{\"color\":\"#636efa\",\"pattern\":{\"shape\":\"\"}},\"name\":\"\",\"offsetgroup\":\"\",\"orientation\":\"v\",\"showlegend\":false,\"textposition\":\"auto\",\"type\":\"bar\",\"x\":[\"CA\",\"NY\",\"FL\",\"TX\",\"PA\",\"OH\",\"NC\",\"IL\",\"MI\",\"GA\",\"NJ\",\"TN\",\"MA\",\"MO\",\"IN\",\"VA\",\"WI\",\"WA\",\"KY\",\"AZ\",\"AL\",\"SC\",\"MN\",\"LA\",\"MD\",\"OR\",\"CO\",\"OK\",\"IA\",\"CT\",\"AR\",\"MS\",\"KS\",\"WV\",\"NE\",\"NV\",\"ME\",\"UT\",\"NM\",\"ID\",\"NH\",\"RI\",\"MT\",\"HI\",\"SD\",\"DE\",\"ND\",\"VT\",\"DC\",\"WY\",\"AK\"],\"xaxis\":\"x\",\"y\":[2314584,1650394,1611284,1472280,1229131,1001898,876333,866586,824255,665139,650290,634787,557205,553268,536188,532061,463205,458158,451310,422571,416439,403898,401268,394543,337520,317060,310094,290348,287806,285161,270039,269130,245816,205156,166949,149881,138406,137469,131202,112699,103143,100822,79668,79298,75409,68645,66878,53724,40966,34778,28790],\"yaxis\":\"y\"}],                        {\"barmode\":\"relative\",\"legend\":{\"tracegroupgap\":0},\"template\":{\"data\":{\"bar\":[{\"error_x\":{\"color\":\"#2a3f5f\"},\"error_y\":{\"color\":\"#2a3f5f\"},\"marker\":{\"line\":{\"color\":\"#E5ECF6\",\"width\":0.5},\"pattern\":{\"fillmode\":\"overlay\",\"size\":10,\"solidity\":0.2}},\"type\":\"bar\"}],\"barpolar\":[{\"marker\":{\"line\":{\"color\":\"#E5ECF6\",\"width\":0.5},\"pattern\":{\"fillmode\":\"overlay\",\"size\":10,\"solidity\":0.2}},\"type\":\"barpolar\"}],\"carpet\":[{\"aaxis\":{\"endlinecolor\":\"#2a3f5f\",\"gridcolor\":\"white\",\"linecolor\":\"white\",\"minorgridcolor\":\"white\",\"startlinecolor\":\"#2a3f5f\"},\"baxis\":{\"endlinecolor\":\"#2a3f5f\",\"gridcolor\":\"white\",\"linecolor\":\"white\",\"minorgridcolor\":\"white\",\"startlinecolor\":\"#2a3f5f\"},\"type\":\"carpet\"}],\"choropleth\":[{\"colorbar\":{\"outlinewidth\":0,\"ticks\":\"\"},\"type\":\"choropleth\"}],\"contour\":[{\"colorbar\":{\"outlinewidth\":0,\"ticks\":\"\"},\"colorscale\":[[0.0,\"#0d0887\"],[0.1111111111111111,\"#46039f\"],[0.2222222222222222,\"#7201a8\"],[0.3333333333333333,\"#9c179e\"],[0.4444444444444444,\"#bd3786\"],[0.5555555555555556,\"#d8576b\"],[0.6666666666666666,\"#ed7953\"],[0.7777777777777778,\"#fb9f3a\"],[0.8888888888888888,\"#fdca26\"],[1.0,\"#f0f921\"]],\"type\":\"contour\"}],\"contourcarpet\":[{\"colorbar\":{\"outlinewidth\":0,\"ticks\":\"\"},\"type\":\"contourcarpet\"}],\"heatmap\":[{\"colorbar\":{\"outlinewidth\":0,\"ticks\":\"\"},\"colorscale\":[[0.0,\"#0d0887\"],[0.1111111111111111,\"#46039f\"],[0.2222222222222222,\"#7201a8\"],[0.3333333333333333,\"#9c179e\"],[0.4444444444444444,\"#bd3786\"],[0.5555555555555556,\"#d8576b\"],[0.6666666666666666,\"#ed7953\"],[0.7777777777777778,\"#fb9f3a\"],[0.8888888888888888,\"#fdca26\"],[1.0,\"#f0f921\"]],\"type\":\"heatmap\"}],\"heatmapgl\":[{\"colorbar\":{\"outlinewidth\":0,\"ticks\":\"\"},\"colorscale\":[[0.0,\"#0d0887\"],[0.1111111111111111,\"#46039f\"],[0.2222222222222222,\"#7201a8\"],[0.3333333333333333,\"#9c179e\"],[0.4444444444444444,\"#bd3786\"],[0.5555555555555556,\"#d8576b\"],[0.6666666666666666,\"#ed7953\"],[0.7777777777777778,\"#fb9f3a\"],[0.8888888888888888,\"#fdca26\"],[1.0,\"#f0f921\"]],\"type\":\"heatmapgl\"}],\"histogram\":[{\"marker\":{\"pattern\":{\"fillmode\":\"overlay\",\"size\":10,\"solidity\":0.2}},\"type\":\"histogram\"}],\"histogram2d\":[{\"colorbar\":{\"outlinewidth\":0,\"ticks\":\"\"},\"colorscale\":[[0.0,\"#0d0887\"],[0.1111111111111111,\"#46039f\"],[0.2222222222222222,\"#7201a8\"],[0.3333333333333333,\"#9c179e\"],[0.4444444444444444,\"#bd3786\"],[0.5555555555555556,\"#d8576b\"],[0.6666666666666666,\"#ed7953\"],[0.7777777777777778,\"#fb9f3a\"],[0.8888888888888888,\"#fdca26\"],[1.0,\"#f0f921\"]],\"type\":\"histogram2d\"}],\"histogram2dcontour\":[{\"colorbar\":{\"outlinewidth\":0,\"ticks\":\"\"},\"colorscale\":[[0.0,\"#0d0887\"],[0.1111111111111111,\"#46039f\"],[0.2222222222222222,\"#7201a8\"],[0.3333333333333333,\"#9c179e\"],[0.4444444444444444,\"#bd3786\"],[0.5555555555555556,\"#d8576b\"],[0.6666666666666666,\"#ed7953\"],[0.7777777777777778,\"#fb9f3a\"],[0.8888888888888888,\"#fdca26\"],[1.0,\"#f0f921\"]],\"type\":\"histogram2dcontour\"}],\"mesh3d\":[{\"colorbar\":{\"outlinewidth\":0,\"ticks\":\"\"},\"type\":\"mesh3d\"}],\"parcoords\":[{\"line\":{\"colorbar\":{\"outlinewidth\":0,\"ticks\":\"\"}},\"type\":\"parcoords\"}],\"pie\":[{\"automargin\":true,\"type\":\"pie\"}],\"scatter\":[{\"marker\":{\"colorbar\":{\"outlinewidth\":0,\"ticks\":\"\"}},\"type\":\"scatter\"}],\"scatter3d\":[{\"line\":{\"colorbar\":{\"outlinewidth\":0,\"ticks\":\"\"}},\"marker\":{\"colorbar\":{\"outlinewidth\":0,\"ticks\":\"\"}},\"type\":\"scatter3d\"}],\"scattercarpet\":[{\"marker\":{\"colorbar\":{\"outlinewidth\":0,\"ticks\":\"\"}},\"type\":\"scattercarpet\"}],\"scattergeo\":[{\"marker\":{\"colorbar\":{\"outlinewidth\":0,\"ticks\":\"\"}},\"type\":\"scattergeo\"}],\"scattergl\":[{\"marker\":{\"colorbar\":{\"outlinewidth\":0,\"ticks\":\"\"}},\"type\":\"scattergl\"}],\"scattermapbox\":[{\"marker\":{\"colorbar\":{\"outlinewidth\":0,\"ticks\":\"\"}},\"type\":\"scattermapbox\"}],\"scatterpolar\":[{\"marker\":{\"colorbar\":{\"outlinewidth\":0,\"ticks\":\"\"}},\"type\":\"scatterpolar\"}],\"scatterpolargl\":[{\"marker\":{\"colorbar\":{\"outlinewidth\":0,\"ticks\":\"\"}},\"type\":\"scatterpolargl\"}],\"scatterternary\":[{\"marker\":{\"colorbar\":{\"outlinewidth\":0,\"ticks\":\"\"}},\"type\":\"scatterternary\"}],\"surface\":[{\"colorbar\":{\"outlinewidth\":0,\"ticks\":\"\"},\"colorscale\":[[0.0,\"#0d0887\"],[0.1111111111111111,\"#46039f\"],[0.2222222222222222,\"#7201a8\"],[0.3333333333333333,\"#9c179e\"],[0.4444444444444444,\"#bd3786\"],[0.5555555555555556,\"#d8576b\"],[0.6666666666666666,\"#ed7953\"],[0.7777777777777778,\"#fb9f3a\"],[0.8888888888888888,\"#fdca26\"],[1.0,\"#f0f921\"]],\"type\":\"surface\"}],\"table\":[{\"cells\":{\"fill\":{\"color\":\"#EBF0F8\"},\"line\":{\"color\":\"white\"}},\"header\":{\"fill\":{\"color\":\"#C8D4E3\"},\"line\":{\"color\":\"white\"}},\"type\":\"table\"}]},\"layout\":{\"annotationdefaults\":{\"arrowcolor\":\"#2a3f5f\",\"arrowhead\":0,\"arrowwidth\":1},\"autotypenumbers\":\"strict\",\"coloraxis\":{\"colorbar\":{\"outlinewidth\":0,\"ticks\":\"\"}},\"colorscale\":{\"diverging\":[[0,\"#8e0152\"],[0.1,\"#c51b7d\"],[0.2,\"#de77ae\"],[0.3,\"#f1b6da\"],[0.4,\"#fde0ef\"],[0.5,\"#f7f7f7\"],[0.6,\"#e6f5d0\"],[0.7,\"#b8e186\"],[0.8,\"#7fbc41\"],[0.9,\"#4d9221\"],[1,\"#276419\"]],\"sequential\":[[0.0,\"#0d0887\"],[0.1111111111111111,\"#46039f\"],[0.2222222222222222,\"#7201a8\"],[0.3333333333333333,\"#9c179e\"],[0.4444444444444444,\"#bd3786\"],[0.5555555555555556,\"#d8576b\"],[0.6666666666666666,\"#ed7953\"],[0.7777777777777778,\"#fb9f3a\"],[0.8888888888888888,\"#fdca26\"],[1.0,\"#f0f921\"]],\"sequentialminus\":[[0.0,\"#0d0887\"],[0.1111111111111111,\"#46039f\"],[0.2222222222222222,\"#7201a8\"],[0.3333333333333333,\"#9c179e\"],[0.4444444444444444,\"#bd3786\"],[0.5555555555555556,\"#d8576b\"],[0.6666666666666666,\"#ed7953\"],[0.7777777777777778,\"#fb9f3a\"],[0.8888888888888888,\"#fdca26\"],[1.0,\"#f0f921\"]]},\"colorway\":[\"#636efa\",\"#EF553B\",\"#00cc96\",\"#ab63fa\",\"#FFA15A\",\"#19d3f3\",\"#FF6692\",\"#B6E880\",\"#FF97FF\",\"#FECB52\"],\"font\":{\"color\":\"#2a3f5f\"},\"geo\":{\"bgcolor\":\"white\",\"lakecolor\":\"white\",\"landcolor\":\"#E5ECF6\",\"showlakes\":true,\"showland\":true,\"subunitcolor\":\"white\"},\"hoverlabel\":{\"align\":\"left\"},\"hovermode\":\"closest\",\"mapbox\":{\"style\":\"light\"},\"paper_bgcolor\":\"white\",\"plot_bgcolor\":\"#E5ECF6\",\"polar\":{\"angularaxis\":{\"gridcolor\":\"white\",\"linecolor\":\"white\",\"ticks\":\"\"},\"bgcolor\":\"#E5ECF6\",\"radialaxis\":{\"gridcolor\":\"white\",\"linecolor\":\"white\",\"ticks\":\"\"}},\"scene\":{\"xaxis\":{\"backgroundcolor\":\"#E5ECF6\",\"gridcolor\":\"white\",\"gridwidth\":2,\"linecolor\":\"white\",\"showbackground\":true,\"ticks\":\"\",\"zerolinecolor\":\"white\"},\"yaxis\":{\"backgroundcolor\":\"#E5ECF6\",\"gridcolor\":\"white\",\"gridwidth\":2,\"linecolor\":\"white\",\"showbackground\":true,\"ticks\":\"\",\"zerolinecolor\":\"white\"},\"zaxis\":{\"backgroundcolor\":\"#E5ECF6\",\"gridcolor\":\"white\",\"gridwidth\":2,\"linecolor\":\"white\",\"showbackground\":true,\"ticks\":\"\",\"zerolinecolor\":\"white\"}},\"shapedefaults\":{\"line\":{\"color\":\"#2a3f5f\"}},\"ternary\":{\"aaxis\":{\"gridcolor\":\"white\",\"linecolor\":\"white\",\"ticks\":\"\"},\"baxis\":{\"gridcolor\":\"white\",\"linecolor\":\"white\",\"ticks\":\"\"},\"bgcolor\":\"#E5ECF6\",\"caxis\":{\"gridcolor\":\"white\",\"linecolor\":\"white\",\"ticks\":\"\"}},\"title\":{\"x\":0.05},\"xaxis\":{\"automargin\":true,\"gridcolor\":\"white\",\"linecolor\":\"white\",\"ticks\":\"\",\"title\":{\"standoff\":15},\"zerolinecolor\":\"white\",\"zerolinewidth\":2},\"yaxis\":{\"automargin\":true,\"gridcolor\":\"white\",\"linecolor\":\"white\",\"ticks\":\"\",\"title\":{\"standoff\":15},\"zerolinecolor\":\"white\",\"zerolinewidth\":2}}},\"title\":{\"text\":\"Total number of perscriptions per state (US, 2014)\"},\"xaxis\":{\"anchor\":\"y\",\"domain\":[0.0,1.0],\"title\":{\"text\":\"State\"}},\"yaxis\":{\"anchor\":\"x\",\"domain\":[0.0,1.0],\"title\":{\"text\":\"Number of perscriptions\"}}},                        {\"responsive\": true}                    ).then(function(){\n",
       "                            \n",
       "var gd = document.getElementById('3e8b10d2-520d-44e4-a025-041f16757db2');\n",
       "var x = new MutationObserver(function (mutations, observer) {{\n",
       "        var display = window.getComputedStyle(gd).display;\n",
       "        if (!display || display === 'none') {{\n",
       "            console.log([gd, 'removed!']);\n",
       "            Plotly.purge(gd);\n",
       "            observer.disconnect();\n",
       "        }}\n",
       "}});\n",
       "\n",
       "// Listen for the removal of the full notebook cells\n",
       "var notebookContainer = gd.closest('#notebook-container');\n",
       "if (notebookContainer) {{\n",
       "    x.observe(notebookContainer, {childList: true});\n",
       "}}\n",
       "\n",
       "// Listen for the clearing of the current output cell\n",
       "var outputEl = gd.closest('.output');\n",
       "if (outputEl) {{\n",
       "    x.observe(outputEl, {childList: true});\n",
       "}}\n",
       "\n",
       "                        })                };                });            </script>        </div>"
      ]
     },
     "metadata": {},
     "output_type": "display_data"
    }
   ],
   "source": [
    "fig = px.bar(tot_meds_per_state_sorted, x='state', y='total_num_medications', \n",
    "                     labels={'total_num_medications':'Number of perscriptions', 'state': 'State'}, \n",
    "                     title='Total number of perscriptions per state (US, 2014)',\n",
    "                     ) #hover_data=['lifeExp', 'gdpPercap']\n",
    "fig.show()\n",
    "\n",
    "# Note, could be useful to pair this with state population census data from 2010, that data could be used as a heat map"
   ]
  },
  {
   "cell_type": "markdown",
   "metadata": {
    "hidden": true
   },
   "source": [
    "Fig. 1: The above plot appears to show that the number of perscriptions per state is correlated with population. We can test this by using census data with the estimated state population in 2014 as an extra dimension (a heat map)."
   ]
  },
  {
   "cell_type": "markdown",
   "metadata": {
    "heading_collapsed": true
   },
   "source": [
    "#### Question of interest: Most perscribed medication in each state."
   ]
  },
  {
   "cell_type": "code",
   "execution_count": 520,
   "metadata": {
    "ExecuteTime": {
     "end_time": "2021-06-27T02:45:35.499740Z",
     "start_time": "2021-06-27T02:45:35.492638Z"
    },
    "hidden": true
   },
   "outputs": [],
   "source": [
    "query = \"\"\" SELECT * FROM (SELECT nppes_provider_state as state, \n",
    "                                                  generic_name as medication_perscribed,\n",
    "                                                  COUNT(generic_name) as num_perscribed,\n",
    "                                                   ROW_NUMBER() OVER (PARTITION BY nppes_provider_state \n",
    "                                                                                              ORDER BY COUNT(generic_name) DESC) as rank \n",
    "                                                   FROM bigquery-public-data.medicare.part_d_prescriber_2014\n",
    "                                                   WHERE (nppes_provider_state != 'AA' AND \n",
    "                                                                    nppes_provider_state != 'AE' AND \n",
    "                                                                    nppes_provider_state != 'AS' AND\n",
    "                                                                    nppes_provider_state != 'AP' AND\n",
    "                                                                    nppes_provider_state != 'GU' AND\n",
    "                                                                    nppes_provider_state != 'MP' AND\n",
    "                                                                    nppes_provider_state != 'PR' AND\n",
    "                                                                    nppes_provider_state != 'VI' AND\n",
    "                                                                    nppes_provider_state != 'XX' AND\n",
    "                                                                    nppes_provider_state != 'ZZ')\n",
    "                                                   GROUP BY 1, 2\n",
    "                                                   ORDER BY 1, 3 DESC) as ranks\n",
    "                   WHERE rank = 1;\n",
    "              \"\"\""
   ]
  },
  {
   "cell_type": "code",
   "execution_count": 521,
   "metadata": {
    "ExecuteTime": {
     "end_time": "2021-06-27T02:46:20.652373Z",
     "start_time": "2021-06-27T02:46:17.188869Z"
    },
    "hidden": true
   },
   "outputs": [
    {
     "name": "stdout",
     "output_type": "stream",
     "text": [
      "51\n"
     ]
    },
    {
     "data": {
      "text/plain": [
       "state  medication_perscribed      num_perscribed  rank\n",
       "AK     HYDROCODONE/ACETAMINOPHEN  678             1       1\n",
       "PA     POTASSIUM CHLORIDE         18141           1       1\n",
       "ND     POTASSIUM CHLORIDE         1018            1       1\n",
       "NE     LEVOTHYROXINE SODIUM       2422            1       1\n",
       "NH     LEVOTHYROXINE SODIUM       1745            1       1\n",
       "NJ     LEVOTHYROXINE SODIUM       9587            1       1\n",
       "NM     LEVOTHYROXINE SODIUM       2395            1       1\n",
       "NV     HYDROCODONE/ACETAMINOPHEN  2979            1       1\n",
       "NY     LEVOTHYROXINE SODIUM       24089           1       1\n",
       "OH     POTASSIUM CHLORIDE         16721           1       1\n",
       "OK     HYDROCODONE/ACETAMINOPHEN  5081            1       1\n",
       "OR     HYDROCODONE/ACETAMINOPHEN  5971            1       1\n",
       "RI     LEVOTHYROXINE SODIUM       1356            1       1\n",
       "MT     HYDROCODONE/ACETAMINOPHEN  1542            1       1\n",
       "SC     POTASSIUM CHLORIDE         6319            1       1\n",
       "SD     HYDROCODONE/ACETAMINOPHEN  1200            1       1\n",
       "TN     HYDROCODONE/ACETAMINOPHEN  10367           1       1\n",
       "TX     HYDROCODONE/ACETAMINOPHEN  25009           1       1\n",
       "UT     HYDROCODONE/ACETAMINOPHEN  2971            1       1\n",
       "VA     POTASSIUM CHLORIDE         7805            1       1\n",
       "dtype: int64"
      ]
     },
     "execution_count": 521,
     "metadata": {},
     "output_type": "execute_result"
    }
   ],
   "source": [
    "query_job = client.query(query)\n",
    "most_common_perscription = query_job.to_dataframe()\n",
    "print(len(most_common_perscription))\n",
    "most_common_perscription.value_counts().head(20)"
   ]
  },
  {
   "cell_type": "code",
   "execution_count": 454,
   "metadata": {
    "ExecuteTime": {
     "end_time": "2021-06-25T18:00:02.664041Z",
     "start_time": "2021-06-25T18:00:02.658515Z"
    },
    "hidden": true
   },
   "outputs": [],
   "source": [
    "most_common_perscription_sorted = most_common_perscription.sort_values(by=['num_perscribed'], ascending=True)"
   ]
  },
  {
   "cell_type": "code",
   "execution_count": 175,
   "metadata": {
    "ExecuteTime": {
     "end_time": "2021-06-25T02:44:31.701838Z",
     "start_time": "2021-06-25T02:44:31.692048Z"
    },
    "hidden": true
   },
   "outputs": [
    {
     "data": {
      "text/plain": [
       "Counter({'HYDROCODONE/ACETAMINOPHEN': 22,\n",
       "         'POTASSIUM CHLORIDE': 14,\n",
       "         'LEVOTHYROXINE SODIUM': 13,\n",
       "         'LISINOPRIL': 1,\n",
       "         'ALBUTEROL SULFATE': 1})"
      ]
     },
     "execution_count": 175,
     "metadata": {},
     "output_type": "execute_result"
    }
   ],
   "source": [
    "Counter(most_common_perscription['medication_perscribed'].values)"
   ]
  },
  {
   "cell_type": "code",
   "execution_count": 455,
   "metadata": {
    "ExecuteTime": {
     "end_time": "2021-06-25T18:00:05.277975Z",
     "start_time": "2021-06-25T18:00:05.172262Z"
    },
    "hidden": true
   },
   "outputs": [
    {
     "data": {
      "application/vnd.plotly.v1+json": {
       "config": {
        "plotlyServerURL": "https://plotly.com"
       },
       "data": [
        {
         "alignmentgroup": "True",
         "customdata": [
          [
           "AK",
           678,
           1
          ],
          [
           "WY",
           683,
           1
          ],
          [
           "VT",
           796,
           1
          ],
          [
           "DC",
           866,
           1
          ],
          [
           "DE",
           1004,
           1
          ],
          [
           "ND",
           1018,
           1
          ],
          [
           "HI",
           1184,
           1
          ],
          [
           "SD",
           1200,
           1
          ],
          [
           "RI",
           1356,
           1
          ],
          [
           "MT",
           1542,
           1
          ],
          [
           "NH",
           1745,
           1
          ],
          [
           "ME",
           2122,
           1
          ],
          [
           "ID",
           2319,
           1
          ],
          [
           "NM",
           2395,
           1
          ],
          [
           "NE",
           2422,
           1
          ],
          [
           "UT",
           2971,
           1
          ],
          [
           "NV",
           2979,
           1
          ],
          [
           "WV",
           3174,
           1
          ],
          [
           "IA",
           3864,
           1
          ],
          [
           "KS",
           3913,
           1
          ],
          [
           "CT",
           4143,
           1
          ],
          [
           "AR",
           4218,
           1
          ],
          [
           "MS",
           4306,
           1
          ],
          [
           "OK",
           5081,
           1
          ],
          [
           "MD",
           5225,
           1
          ],
          [
           "OR",
           5971,
           1
          ],
          [
           "LA",
           5988,
           1
          ],
          [
           "MN",
           6039,
           1
          ],
          [
           "CO",
           6082,
           1
          ],
          [
           "SC",
           6319,
           1
          ],
          [
           "AL",
           6595,
           1
          ],
          [
           "KY",
           7040,
           1
          ],
          [
           "AZ",
           7136,
           1
          ],
          [
           "WI",
           7487,
           1
          ],
          [
           "VA",
           7805,
           1
          ],
          [
           "MO",
           8240,
           1
          ],
          [
           "MA",
           8652,
           1
          ],
          [
           "WA",
           8810,
           1
          ],
          [
           "IN",
           9219,
           1
          ],
          [
           "NJ",
           9587,
           1
          ],
          [
           "TN",
           10367,
           1
          ],
          [
           "GA",
           10732,
           1
          ],
          [
           "NC",
           12929,
           1
          ],
          [
           "IL",
           14493,
           1
          ],
          [
           "MI",
           15915,
           1
          ],
          [
           "OH",
           16721,
           1
          ],
          [
           "PA",
           18141,
           1
          ],
          [
           "FL",
           21601,
           1
          ],
          [
           "NY",
           24089,
           1
          ],
          [
           "TX",
           25009,
           1
          ],
          [
           "CA",
           40966,
           1
          ]
         ],
         "hovertemplate": "=%{x}<br>Number of states=%{y}<br>state=%{customdata[0]}<br>Number perscribed=%{marker.color}<extra></extra>",
         "legendgroup": "",
         "marker": {
          "color": [
           678,
           683,
           796,
           866,
           1004,
           1018,
           1184,
           1200,
           1356,
           1542,
           1745,
           2122,
           2319,
           2395,
           2422,
           2971,
           2979,
           3174,
           3864,
           3913,
           4143,
           4218,
           4306,
           5081,
           5225,
           5971,
           5988,
           6039,
           6082,
           6319,
           6595,
           7040,
           7136,
           7487,
           7805,
           8240,
           8652,
           8810,
           9219,
           9587,
           10367,
           10732,
           12929,
           14493,
           15915,
           16721,
           18141,
           21601,
           24089,
           25009,
           40966
          ],
          "coloraxis": "coloraxis",
          "pattern": {
           "shape": ""
          }
         },
         "name": "",
         "offsetgroup": "",
         "orientation": "v",
         "showlegend": false,
         "textposition": "auto",
         "type": "bar",
         "x": [
          "HYDROCODONE/ACETAMINOPHEN",
          "HYDROCODONE/ACETAMINOPHEN",
          "LEVOTHYROXINE SODIUM",
          "LISINOPRIL",
          "LEVOTHYROXINE SODIUM",
          "POTASSIUM CHLORIDE",
          "LEVOTHYROXINE SODIUM",
          "HYDROCODONE/ACETAMINOPHEN",
          "LEVOTHYROXINE SODIUM",
          "HYDROCODONE/ACETAMINOPHEN",
          "LEVOTHYROXINE SODIUM",
          "ALBUTEROL SULFATE",
          "HYDROCODONE/ACETAMINOPHEN",
          "LEVOTHYROXINE SODIUM",
          "LEVOTHYROXINE SODIUM",
          "HYDROCODONE/ACETAMINOPHEN",
          "HYDROCODONE/ACETAMINOPHEN",
          "POTASSIUM CHLORIDE",
          "HYDROCODONE/ACETAMINOPHEN",
          "HYDROCODONE/ACETAMINOPHEN",
          "LEVOTHYROXINE SODIUM",
          "POTASSIUM CHLORIDE",
          "POTASSIUM CHLORIDE",
          "HYDROCODONE/ACETAMINOPHEN",
          "LEVOTHYROXINE SODIUM",
          "HYDROCODONE/ACETAMINOPHEN",
          "HYDROCODONE/ACETAMINOPHEN",
          "HYDROCODONE/ACETAMINOPHEN",
          "HYDROCODONE/ACETAMINOPHEN",
          "POTASSIUM CHLORIDE",
          "POTASSIUM CHLORIDE",
          "POTASSIUM CHLORIDE",
          "HYDROCODONE/ACETAMINOPHEN",
          "HYDROCODONE/ACETAMINOPHEN",
          "POTASSIUM CHLORIDE",
          "POTASSIUM CHLORIDE",
          "LEVOTHYROXINE SODIUM",
          "HYDROCODONE/ACETAMINOPHEN",
          "POTASSIUM CHLORIDE",
          "LEVOTHYROXINE SODIUM",
          "HYDROCODONE/ACETAMINOPHEN",
          "POTASSIUM CHLORIDE",
          "POTASSIUM CHLORIDE",
          "HYDROCODONE/ACETAMINOPHEN",
          "HYDROCODONE/ACETAMINOPHEN",
          "POTASSIUM CHLORIDE",
          "POTASSIUM CHLORIDE",
          "LEVOTHYROXINE SODIUM",
          "LEVOTHYROXINE SODIUM",
          "HYDROCODONE/ACETAMINOPHEN",
          "HYDROCODONE/ACETAMINOPHEN"
         ],
         "xaxis": "x",
         "y": [
          1,
          1,
          1,
          1,
          1,
          1,
          1,
          1,
          1,
          1,
          1,
          1,
          1,
          1,
          1,
          1,
          1,
          1,
          1,
          1,
          1,
          1,
          1,
          1,
          1,
          1,
          1,
          1,
          1,
          1,
          1,
          1,
          1,
          1,
          1,
          1,
          1,
          1,
          1,
          1,
          1,
          1,
          1,
          1,
          1,
          1,
          1,
          1,
          1,
          1,
          1
         ],
         "yaxis": "y"
        }
       ],
       "layout": {
        "barmode": "relative",
        "coloraxis": {
         "colorbar": {
          "title": {
           "text": "Number perscribed"
          }
         },
         "colorscale": [
          [
           0,
           "#0d0887"
          ],
          [
           0.1111111111111111,
           "#46039f"
          ],
          [
           0.2222222222222222,
           "#7201a8"
          ],
          [
           0.3333333333333333,
           "#9c179e"
          ],
          [
           0.4444444444444444,
           "#bd3786"
          ],
          [
           0.5555555555555556,
           "#d8576b"
          ],
          [
           0.6666666666666666,
           "#ed7953"
          ],
          [
           0.7777777777777778,
           "#fb9f3a"
          ],
          [
           0.8888888888888888,
           "#fdca26"
          ],
          [
           1,
           "#f0f921"
          ]
         ]
        },
        "legend": {
         "tracegroupgap": 0
        },
        "template": {
         "data": {
          "bar": [
           {
            "error_x": {
             "color": "#2a3f5f"
            },
            "error_y": {
             "color": "#2a3f5f"
            },
            "marker": {
             "line": {
              "color": "#E5ECF6",
              "width": 0.5
             },
             "pattern": {
              "fillmode": "overlay",
              "size": 10,
              "solidity": 0.2
             }
            },
            "type": "bar"
           }
          ],
          "barpolar": [
           {
            "marker": {
             "line": {
              "color": "#E5ECF6",
              "width": 0.5
             },
             "pattern": {
              "fillmode": "overlay",
              "size": 10,
              "solidity": 0.2
             }
            },
            "type": "barpolar"
           }
          ],
          "carpet": [
           {
            "aaxis": {
             "endlinecolor": "#2a3f5f",
             "gridcolor": "white",
             "linecolor": "white",
             "minorgridcolor": "white",
             "startlinecolor": "#2a3f5f"
            },
            "baxis": {
             "endlinecolor": "#2a3f5f",
             "gridcolor": "white",
             "linecolor": "white",
             "minorgridcolor": "white",
             "startlinecolor": "#2a3f5f"
            },
            "type": "carpet"
           }
          ],
          "choropleth": [
           {
            "colorbar": {
             "outlinewidth": 0,
             "ticks": ""
            },
            "type": "choropleth"
           }
          ],
          "contour": [
           {
            "colorbar": {
             "outlinewidth": 0,
             "ticks": ""
            },
            "colorscale": [
             [
              0,
              "#0d0887"
             ],
             [
              0.1111111111111111,
              "#46039f"
             ],
             [
              0.2222222222222222,
              "#7201a8"
             ],
             [
              0.3333333333333333,
              "#9c179e"
             ],
             [
              0.4444444444444444,
              "#bd3786"
             ],
             [
              0.5555555555555556,
              "#d8576b"
             ],
             [
              0.6666666666666666,
              "#ed7953"
             ],
             [
              0.7777777777777778,
              "#fb9f3a"
             ],
             [
              0.8888888888888888,
              "#fdca26"
             ],
             [
              1,
              "#f0f921"
             ]
            ],
            "type": "contour"
           }
          ],
          "contourcarpet": [
           {
            "colorbar": {
             "outlinewidth": 0,
             "ticks": ""
            },
            "type": "contourcarpet"
           }
          ],
          "heatmap": [
           {
            "colorbar": {
             "outlinewidth": 0,
             "ticks": ""
            },
            "colorscale": [
             [
              0,
              "#0d0887"
             ],
             [
              0.1111111111111111,
              "#46039f"
             ],
             [
              0.2222222222222222,
              "#7201a8"
             ],
             [
              0.3333333333333333,
              "#9c179e"
             ],
             [
              0.4444444444444444,
              "#bd3786"
             ],
             [
              0.5555555555555556,
              "#d8576b"
             ],
             [
              0.6666666666666666,
              "#ed7953"
             ],
             [
              0.7777777777777778,
              "#fb9f3a"
             ],
             [
              0.8888888888888888,
              "#fdca26"
             ],
             [
              1,
              "#f0f921"
             ]
            ],
            "type": "heatmap"
           }
          ],
          "heatmapgl": [
           {
            "colorbar": {
             "outlinewidth": 0,
             "ticks": ""
            },
            "colorscale": [
             [
              0,
              "#0d0887"
             ],
             [
              0.1111111111111111,
              "#46039f"
             ],
             [
              0.2222222222222222,
              "#7201a8"
             ],
             [
              0.3333333333333333,
              "#9c179e"
             ],
             [
              0.4444444444444444,
              "#bd3786"
             ],
             [
              0.5555555555555556,
              "#d8576b"
             ],
             [
              0.6666666666666666,
              "#ed7953"
             ],
             [
              0.7777777777777778,
              "#fb9f3a"
             ],
             [
              0.8888888888888888,
              "#fdca26"
             ],
             [
              1,
              "#f0f921"
             ]
            ],
            "type": "heatmapgl"
           }
          ],
          "histogram": [
           {
            "marker": {
             "pattern": {
              "fillmode": "overlay",
              "size": 10,
              "solidity": 0.2
             }
            },
            "type": "histogram"
           }
          ],
          "histogram2d": [
           {
            "colorbar": {
             "outlinewidth": 0,
             "ticks": ""
            },
            "colorscale": [
             [
              0,
              "#0d0887"
             ],
             [
              0.1111111111111111,
              "#46039f"
             ],
             [
              0.2222222222222222,
              "#7201a8"
             ],
             [
              0.3333333333333333,
              "#9c179e"
             ],
             [
              0.4444444444444444,
              "#bd3786"
             ],
             [
              0.5555555555555556,
              "#d8576b"
             ],
             [
              0.6666666666666666,
              "#ed7953"
             ],
             [
              0.7777777777777778,
              "#fb9f3a"
             ],
             [
              0.8888888888888888,
              "#fdca26"
             ],
             [
              1,
              "#f0f921"
             ]
            ],
            "type": "histogram2d"
           }
          ],
          "histogram2dcontour": [
           {
            "colorbar": {
             "outlinewidth": 0,
             "ticks": ""
            },
            "colorscale": [
             [
              0,
              "#0d0887"
             ],
             [
              0.1111111111111111,
              "#46039f"
             ],
             [
              0.2222222222222222,
              "#7201a8"
             ],
             [
              0.3333333333333333,
              "#9c179e"
             ],
             [
              0.4444444444444444,
              "#bd3786"
             ],
             [
              0.5555555555555556,
              "#d8576b"
             ],
             [
              0.6666666666666666,
              "#ed7953"
             ],
             [
              0.7777777777777778,
              "#fb9f3a"
             ],
             [
              0.8888888888888888,
              "#fdca26"
             ],
             [
              1,
              "#f0f921"
             ]
            ],
            "type": "histogram2dcontour"
           }
          ],
          "mesh3d": [
           {
            "colorbar": {
             "outlinewidth": 0,
             "ticks": ""
            },
            "type": "mesh3d"
           }
          ],
          "parcoords": [
           {
            "line": {
             "colorbar": {
              "outlinewidth": 0,
              "ticks": ""
             }
            },
            "type": "parcoords"
           }
          ],
          "pie": [
           {
            "automargin": true,
            "type": "pie"
           }
          ],
          "scatter": [
           {
            "marker": {
             "colorbar": {
              "outlinewidth": 0,
              "ticks": ""
             }
            },
            "type": "scatter"
           }
          ],
          "scatter3d": [
           {
            "line": {
             "colorbar": {
              "outlinewidth": 0,
              "ticks": ""
             }
            },
            "marker": {
             "colorbar": {
              "outlinewidth": 0,
              "ticks": ""
             }
            },
            "type": "scatter3d"
           }
          ],
          "scattercarpet": [
           {
            "marker": {
             "colorbar": {
              "outlinewidth": 0,
              "ticks": ""
             }
            },
            "type": "scattercarpet"
           }
          ],
          "scattergeo": [
           {
            "marker": {
             "colorbar": {
              "outlinewidth": 0,
              "ticks": ""
             }
            },
            "type": "scattergeo"
           }
          ],
          "scattergl": [
           {
            "marker": {
             "colorbar": {
              "outlinewidth": 0,
              "ticks": ""
             }
            },
            "type": "scattergl"
           }
          ],
          "scattermapbox": [
           {
            "marker": {
             "colorbar": {
              "outlinewidth": 0,
              "ticks": ""
             }
            },
            "type": "scattermapbox"
           }
          ],
          "scatterpolar": [
           {
            "marker": {
             "colorbar": {
              "outlinewidth": 0,
              "ticks": ""
             }
            },
            "type": "scatterpolar"
           }
          ],
          "scatterpolargl": [
           {
            "marker": {
             "colorbar": {
              "outlinewidth": 0,
              "ticks": ""
             }
            },
            "type": "scatterpolargl"
           }
          ],
          "scatterternary": [
           {
            "marker": {
             "colorbar": {
              "outlinewidth": 0,
              "ticks": ""
             }
            },
            "type": "scatterternary"
           }
          ],
          "surface": [
           {
            "colorbar": {
             "outlinewidth": 0,
             "ticks": ""
            },
            "colorscale": [
             [
              0,
              "#0d0887"
             ],
             [
              0.1111111111111111,
              "#46039f"
             ],
             [
              0.2222222222222222,
              "#7201a8"
             ],
             [
              0.3333333333333333,
              "#9c179e"
             ],
             [
              0.4444444444444444,
              "#bd3786"
             ],
             [
              0.5555555555555556,
              "#d8576b"
             ],
             [
              0.6666666666666666,
              "#ed7953"
             ],
             [
              0.7777777777777778,
              "#fb9f3a"
             ],
             [
              0.8888888888888888,
              "#fdca26"
             ],
             [
              1,
              "#f0f921"
             ]
            ],
            "type": "surface"
           }
          ],
          "table": [
           {
            "cells": {
             "fill": {
              "color": "#EBF0F8"
             },
             "line": {
              "color": "white"
             }
            },
            "header": {
             "fill": {
              "color": "#C8D4E3"
             },
             "line": {
              "color": "white"
             }
            },
            "type": "table"
           }
          ]
         },
         "layout": {
          "annotationdefaults": {
           "arrowcolor": "#2a3f5f",
           "arrowhead": 0,
           "arrowwidth": 1
          },
          "autotypenumbers": "strict",
          "coloraxis": {
           "colorbar": {
            "outlinewidth": 0,
            "ticks": ""
           }
          },
          "colorscale": {
           "diverging": [
            [
             0,
             "#8e0152"
            ],
            [
             0.1,
             "#c51b7d"
            ],
            [
             0.2,
             "#de77ae"
            ],
            [
             0.3,
             "#f1b6da"
            ],
            [
             0.4,
             "#fde0ef"
            ],
            [
             0.5,
             "#f7f7f7"
            ],
            [
             0.6,
             "#e6f5d0"
            ],
            [
             0.7,
             "#b8e186"
            ],
            [
             0.8,
             "#7fbc41"
            ],
            [
             0.9,
             "#4d9221"
            ],
            [
             1,
             "#276419"
            ]
           ],
           "sequential": [
            [
             0,
             "#0d0887"
            ],
            [
             0.1111111111111111,
             "#46039f"
            ],
            [
             0.2222222222222222,
             "#7201a8"
            ],
            [
             0.3333333333333333,
             "#9c179e"
            ],
            [
             0.4444444444444444,
             "#bd3786"
            ],
            [
             0.5555555555555556,
             "#d8576b"
            ],
            [
             0.6666666666666666,
             "#ed7953"
            ],
            [
             0.7777777777777778,
             "#fb9f3a"
            ],
            [
             0.8888888888888888,
             "#fdca26"
            ],
            [
             1,
             "#f0f921"
            ]
           ],
           "sequentialminus": [
            [
             0,
             "#0d0887"
            ],
            [
             0.1111111111111111,
             "#46039f"
            ],
            [
             0.2222222222222222,
             "#7201a8"
            ],
            [
             0.3333333333333333,
             "#9c179e"
            ],
            [
             0.4444444444444444,
             "#bd3786"
            ],
            [
             0.5555555555555556,
             "#d8576b"
            ],
            [
             0.6666666666666666,
             "#ed7953"
            ],
            [
             0.7777777777777778,
             "#fb9f3a"
            ],
            [
             0.8888888888888888,
             "#fdca26"
            ],
            [
             1,
             "#f0f921"
            ]
           ]
          },
          "colorway": [
           "#636efa",
           "#EF553B",
           "#00cc96",
           "#ab63fa",
           "#FFA15A",
           "#19d3f3",
           "#FF6692",
           "#B6E880",
           "#FF97FF",
           "#FECB52"
          ],
          "font": {
           "color": "#2a3f5f"
          },
          "geo": {
           "bgcolor": "white",
           "lakecolor": "white",
           "landcolor": "#E5ECF6",
           "showlakes": true,
           "showland": true,
           "subunitcolor": "white"
          },
          "hoverlabel": {
           "align": "left"
          },
          "hovermode": "closest",
          "mapbox": {
           "style": "light"
          },
          "paper_bgcolor": "white",
          "plot_bgcolor": "#E5ECF6",
          "polar": {
           "angularaxis": {
            "gridcolor": "white",
            "linecolor": "white",
            "ticks": ""
           },
           "bgcolor": "#E5ECF6",
           "radialaxis": {
            "gridcolor": "white",
            "linecolor": "white",
            "ticks": ""
           }
          },
          "scene": {
           "xaxis": {
            "backgroundcolor": "#E5ECF6",
            "gridcolor": "white",
            "gridwidth": 2,
            "linecolor": "white",
            "showbackground": true,
            "ticks": "",
            "zerolinecolor": "white"
           },
           "yaxis": {
            "backgroundcolor": "#E5ECF6",
            "gridcolor": "white",
            "gridwidth": 2,
            "linecolor": "white",
            "showbackground": true,
            "ticks": "",
            "zerolinecolor": "white"
           },
           "zaxis": {
            "backgroundcolor": "#E5ECF6",
            "gridcolor": "white",
            "gridwidth": 2,
            "linecolor": "white",
            "showbackground": true,
            "ticks": "",
            "zerolinecolor": "white"
           }
          },
          "shapedefaults": {
           "line": {
            "color": "#2a3f5f"
           }
          },
          "ternary": {
           "aaxis": {
            "gridcolor": "white",
            "linecolor": "white",
            "ticks": ""
           },
           "baxis": {
            "gridcolor": "white",
            "linecolor": "white",
            "ticks": ""
           },
           "bgcolor": "#E5ECF6",
           "caxis": {
            "gridcolor": "white",
            "linecolor": "white",
            "ticks": ""
           }
          },
          "title": {
           "x": 0.05
          },
          "xaxis": {
           "automargin": true,
           "gridcolor": "white",
           "linecolor": "white",
           "ticks": "",
           "title": {
            "standoff": 15
           },
           "zerolinecolor": "white",
           "zerolinewidth": 2
          },
          "yaxis": {
           "automargin": true,
           "gridcolor": "white",
           "linecolor": "white",
           "ticks": "",
           "title": {
            "standoff": 15
           },
           "zerolinecolor": "white",
           "zerolinewidth": 2
          }
         }
        },
        "title": {
         "text": "Most commonly perscribed medications by state (US, 2014)"
        },
        "xaxis": {
         "anchor": "y",
         "domain": [
          0,
          1
         ],
         "title": {
          "text": ""
         }
        },
        "yaxis": {
         "anchor": "x",
         "domain": [
          0,
          1
         ],
         "title": {
          "text": "Number of states"
         }
        }
       }
      },
      "text/html": [
       "<div>                            <div id=\"6e77290d-75dc-4744-aa0b-ce2069fa2e20\" class=\"plotly-graph-div\" style=\"height:525px; width:100%;\"></div>            <script type=\"text/javascript\">                require([\"plotly\"], function(Plotly) {                    window.PLOTLYENV=window.PLOTLYENV || {};                                    if (document.getElementById(\"6e77290d-75dc-4744-aa0b-ce2069fa2e20\")) {                    Plotly.newPlot(                        \"6e77290d-75dc-4744-aa0b-ce2069fa2e20\",                        [{\"alignmentgroup\":\"True\",\"customdata\":[[\"AK\",678,1],[\"WY\",683,1],[\"VT\",796,1],[\"DC\",866,1],[\"DE\",1004,1],[\"ND\",1018,1],[\"HI\",1184,1],[\"SD\",1200,1],[\"RI\",1356,1],[\"MT\",1542,1],[\"NH\",1745,1],[\"ME\",2122,1],[\"ID\",2319,1],[\"NM\",2395,1],[\"NE\",2422,1],[\"UT\",2971,1],[\"NV\",2979,1],[\"WV\",3174,1],[\"IA\",3864,1],[\"KS\",3913,1],[\"CT\",4143,1],[\"AR\",4218,1],[\"MS\",4306,1],[\"OK\",5081,1],[\"MD\",5225,1],[\"OR\",5971,1],[\"LA\",5988,1],[\"MN\",6039,1],[\"CO\",6082,1],[\"SC\",6319,1],[\"AL\",6595,1],[\"KY\",7040,1],[\"AZ\",7136,1],[\"WI\",7487,1],[\"VA\",7805,1],[\"MO\",8240,1],[\"MA\",8652,1],[\"WA\",8810,1],[\"IN\",9219,1],[\"NJ\",9587,1],[\"TN\",10367,1],[\"GA\",10732,1],[\"NC\",12929,1],[\"IL\",14493,1],[\"MI\",15915,1],[\"OH\",16721,1],[\"PA\",18141,1],[\"FL\",21601,1],[\"NY\",24089,1],[\"TX\",25009,1],[\"CA\",40966,1]],\"hovertemplate\":\"=%{x}<br>Number of states=%{y}<br>state=%{customdata[0]}<br>Number perscribed=%{marker.color}<extra></extra>\",\"legendgroup\":\"\",\"marker\":{\"color\":[678,683,796,866,1004,1018,1184,1200,1356,1542,1745,2122,2319,2395,2422,2971,2979,3174,3864,3913,4143,4218,4306,5081,5225,5971,5988,6039,6082,6319,6595,7040,7136,7487,7805,8240,8652,8810,9219,9587,10367,10732,12929,14493,15915,16721,18141,21601,24089,25009,40966],\"coloraxis\":\"coloraxis\",\"pattern\":{\"shape\":\"\"}},\"name\":\"\",\"offsetgroup\":\"\",\"orientation\":\"v\",\"showlegend\":false,\"textposition\":\"auto\",\"type\":\"bar\",\"x\":[\"HYDROCODONE/ACETAMINOPHEN\",\"HYDROCODONE/ACETAMINOPHEN\",\"LEVOTHYROXINE SODIUM\",\"LISINOPRIL\",\"LEVOTHYROXINE SODIUM\",\"POTASSIUM CHLORIDE\",\"LEVOTHYROXINE SODIUM\",\"HYDROCODONE/ACETAMINOPHEN\",\"LEVOTHYROXINE SODIUM\",\"HYDROCODONE/ACETAMINOPHEN\",\"LEVOTHYROXINE SODIUM\",\"ALBUTEROL SULFATE\",\"HYDROCODONE/ACETAMINOPHEN\",\"LEVOTHYROXINE SODIUM\",\"LEVOTHYROXINE SODIUM\",\"HYDROCODONE/ACETAMINOPHEN\",\"HYDROCODONE/ACETAMINOPHEN\",\"POTASSIUM CHLORIDE\",\"HYDROCODONE/ACETAMINOPHEN\",\"HYDROCODONE/ACETAMINOPHEN\",\"LEVOTHYROXINE SODIUM\",\"POTASSIUM CHLORIDE\",\"POTASSIUM CHLORIDE\",\"HYDROCODONE/ACETAMINOPHEN\",\"LEVOTHYROXINE SODIUM\",\"HYDROCODONE/ACETAMINOPHEN\",\"HYDROCODONE/ACETAMINOPHEN\",\"HYDROCODONE/ACETAMINOPHEN\",\"HYDROCODONE/ACETAMINOPHEN\",\"POTASSIUM CHLORIDE\",\"POTASSIUM CHLORIDE\",\"POTASSIUM CHLORIDE\",\"HYDROCODONE/ACETAMINOPHEN\",\"HYDROCODONE/ACETAMINOPHEN\",\"POTASSIUM CHLORIDE\",\"POTASSIUM CHLORIDE\",\"LEVOTHYROXINE SODIUM\",\"HYDROCODONE/ACETAMINOPHEN\",\"POTASSIUM CHLORIDE\",\"LEVOTHYROXINE SODIUM\",\"HYDROCODONE/ACETAMINOPHEN\",\"POTASSIUM CHLORIDE\",\"POTASSIUM CHLORIDE\",\"HYDROCODONE/ACETAMINOPHEN\",\"HYDROCODONE/ACETAMINOPHEN\",\"POTASSIUM CHLORIDE\",\"POTASSIUM CHLORIDE\",\"LEVOTHYROXINE SODIUM\",\"LEVOTHYROXINE SODIUM\",\"HYDROCODONE/ACETAMINOPHEN\",\"HYDROCODONE/ACETAMINOPHEN\"],\"xaxis\":\"x\",\"y\":[1,1,1,1,1,1,1,1,1,1,1,1,1,1,1,1,1,1,1,1,1,1,1,1,1,1,1,1,1,1,1,1,1,1,1,1,1,1,1,1,1,1,1,1,1,1,1,1,1,1,1],\"yaxis\":\"y\"}],                        {\"barmode\":\"relative\",\"coloraxis\":{\"colorbar\":{\"title\":{\"text\":\"Number perscribed\"}},\"colorscale\":[[0.0,\"#0d0887\"],[0.1111111111111111,\"#46039f\"],[0.2222222222222222,\"#7201a8\"],[0.3333333333333333,\"#9c179e\"],[0.4444444444444444,\"#bd3786\"],[0.5555555555555556,\"#d8576b\"],[0.6666666666666666,\"#ed7953\"],[0.7777777777777778,\"#fb9f3a\"],[0.8888888888888888,\"#fdca26\"],[1.0,\"#f0f921\"]]},\"legend\":{\"tracegroupgap\":0},\"template\":{\"data\":{\"bar\":[{\"error_x\":{\"color\":\"#2a3f5f\"},\"error_y\":{\"color\":\"#2a3f5f\"},\"marker\":{\"line\":{\"color\":\"#E5ECF6\",\"width\":0.5},\"pattern\":{\"fillmode\":\"overlay\",\"size\":10,\"solidity\":0.2}},\"type\":\"bar\"}],\"barpolar\":[{\"marker\":{\"line\":{\"color\":\"#E5ECF6\",\"width\":0.5},\"pattern\":{\"fillmode\":\"overlay\",\"size\":10,\"solidity\":0.2}},\"type\":\"barpolar\"}],\"carpet\":[{\"aaxis\":{\"endlinecolor\":\"#2a3f5f\",\"gridcolor\":\"white\",\"linecolor\":\"white\",\"minorgridcolor\":\"white\",\"startlinecolor\":\"#2a3f5f\"},\"baxis\":{\"endlinecolor\":\"#2a3f5f\",\"gridcolor\":\"white\",\"linecolor\":\"white\",\"minorgridcolor\":\"white\",\"startlinecolor\":\"#2a3f5f\"},\"type\":\"carpet\"}],\"choropleth\":[{\"colorbar\":{\"outlinewidth\":0,\"ticks\":\"\"},\"type\":\"choropleth\"}],\"contour\":[{\"colorbar\":{\"outlinewidth\":0,\"ticks\":\"\"},\"colorscale\":[[0.0,\"#0d0887\"],[0.1111111111111111,\"#46039f\"],[0.2222222222222222,\"#7201a8\"],[0.3333333333333333,\"#9c179e\"],[0.4444444444444444,\"#bd3786\"],[0.5555555555555556,\"#d8576b\"],[0.6666666666666666,\"#ed7953\"],[0.7777777777777778,\"#fb9f3a\"],[0.8888888888888888,\"#fdca26\"],[1.0,\"#f0f921\"]],\"type\":\"contour\"}],\"contourcarpet\":[{\"colorbar\":{\"outlinewidth\":0,\"ticks\":\"\"},\"type\":\"contourcarpet\"}],\"heatmap\":[{\"colorbar\":{\"outlinewidth\":0,\"ticks\":\"\"},\"colorscale\":[[0.0,\"#0d0887\"],[0.1111111111111111,\"#46039f\"],[0.2222222222222222,\"#7201a8\"],[0.3333333333333333,\"#9c179e\"],[0.4444444444444444,\"#bd3786\"],[0.5555555555555556,\"#d8576b\"],[0.6666666666666666,\"#ed7953\"],[0.7777777777777778,\"#fb9f3a\"],[0.8888888888888888,\"#fdca26\"],[1.0,\"#f0f921\"]],\"type\":\"heatmap\"}],\"heatmapgl\":[{\"colorbar\":{\"outlinewidth\":0,\"ticks\":\"\"},\"colorscale\":[[0.0,\"#0d0887\"],[0.1111111111111111,\"#46039f\"],[0.2222222222222222,\"#7201a8\"],[0.3333333333333333,\"#9c179e\"],[0.4444444444444444,\"#bd3786\"],[0.5555555555555556,\"#d8576b\"],[0.6666666666666666,\"#ed7953\"],[0.7777777777777778,\"#fb9f3a\"],[0.8888888888888888,\"#fdca26\"],[1.0,\"#f0f921\"]],\"type\":\"heatmapgl\"}],\"histogram\":[{\"marker\":{\"pattern\":{\"fillmode\":\"overlay\",\"size\":10,\"solidity\":0.2}},\"type\":\"histogram\"}],\"histogram2d\":[{\"colorbar\":{\"outlinewidth\":0,\"ticks\":\"\"},\"colorscale\":[[0.0,\"#0d0887\"],[0.1111111111111111,\"#46039f\"],[0.2222222222222222,\"#7201a8\"],[0.3333333333333333,\"#9c179e\"],[0.4444444444444444,\"#bd3786\"],[0.5555555555555556,\"#d8576b\"],[0.6666666666666666,\"#ed7953\"],[0.7777777777777778,\"#fb9f3a\"],[0.8888888888888888,\"#fdca26\"],[1.0,\"#f0f921\"]],\"type\":\"histogram2d\"}],\"histogram2dcontour\":[{\"colorbar\":{\"outlinewidth\":0,\"ticks\":\"\"},\"colorscale\":[[0.0,\"#0d0887\"],[0.1111111111111111,\"#46039f\"],[0.2222222222222222,\"#7201a8\"],[0.3333333333333333,\"#9c179e\"],[0.4444444444444444,\"#bd3786\"],[0.5555555555555556,\"#d8576b\"],[0.6666666666666666,\"#ed7953\"],[0.7777777777777778,\"#fb9f3a\"],[0.8888888888888888,\"#fdca26\"],[1.0,\"#f0f921\"]],\"type\":\"histogram2dcontour\"}],\"mesh3d\":[{\"colorbar\":{\"outlinewidth\":0,\"ticks\":\"\"},\"type\":\"mesh3d\"}],\"parcoords\":[{\"line\":{\"colorbar\":{\"outlinewidth\":0,\"ticks\":\"\"}},\"type\":\"parcoords\"}],\"pie\":[{\"automargin\":true,\"type\":\"pie\"}],\"scatter\":[{\"marker\":{\"colorbar\":{\"outlinewidth\":0,\"ticks\":\"\"}},\"type\":\"scatter\"}],\"scatter3d\":[{\"line\":{\"colorbar\":{\"outlinewidth\":0,\"ticks\":\"\"}},\"marker\":{\"colorbar\":{\"outlinewidth\":0,\"ticks\":\"\"}},\"type\":\"scatter3d\"}],\"scattercarpet\":[{\"marker\":{\"colorbar\":{\"outlinewidth\":0,\"ticks\":\"\"}},\"type\":\"scattercarpet\"}],\"scattergeo\":[{\"marker\":{\"colorbar\":{\"outlinewidth\":0,\"ticks\":\"\"}},\"type\":\"scattergeo\"}],\"scattergl\":[{\"marker\":{\"colorbar\":{\"outlinewidth\":0,\"ticks\":\"\"}},\"type\":\"scattergl\"}],\"scattermapbox\":[{\"marker\":{\"colorbar\":{\"outlinewidth\":0,\"ticks\":\"\"}},\"type\":\"scattermapbox\"}],\"scatterpolar\":[{\"marker\":{\"colorbar\":{\"outlinewidth\":0,\"ticks\":\"\"}},\"type\":\"scatterpolar\"}],\"scatterpolargl\":[{\"marker\":{\"colorbar\":{\"outlinewidth\":0,\"ticks\":\"\"}},\"type\":\"scatterpolargl\"}],\"scatterternary\":[{\"marker\":{\"colorbar\":{\"outlinewidth\":0,\"ticks\":\"\"}},\"type\":\"scatterternary\"}],\"surface\":[{\"colorbar\":{\"outlinewidth\":0,\"ticks\":\"\"},\"colorscale\":[[0.0,\"#0d0887\"],[0.1111111111111111,\"#46039f\"],[0.2222222222222222,\"#7201a8\"],[0.3333333333333333,\"#9c179e\"],[0.4444444444444444,\"#bd3786\"],[0.5555555555555556,\"#d8576b\"],[0.6666666666666666,\"#ed7953\"],[0.7777777777777778,\"#fb9f3a\"],[0.8888888888888888,\"#fdca26\"],[1.0,\"#f0f921\"]],\"type\":\"surface\"}],\"table\":[{\"cells\":{\"fill\":{\"color\":\"#EBF0F8\"},\"line\":{\"color\":\"white\"}},\"header\":{\"fill\":{\"color\":\"#C8D4E3\"},\"line\":{\"color\":\"white\"}},\"type\":\"table\"}]},\"layout\":{\"annotationdefaults\":{\"arrowcolor\":\"#2a3f5f\",\"arrowhead\":0,\"arrowwidth\":1},\"autotypenumbers\":\"strict\",\"coloraxis\":{\"colorbar\":{\"outlinewidth\":0,\"ticks\":\"\"}},\"colorscale\":{\"diverging\":[[0,\"#8e0152\"],[0.1,\"#c51b7d\"],[0.2,\"#de77ae\"],[0.3,\"#f1b6da\"],[0.4,\"#fde0ef\"],[0.5,\"#f7f7f7\"],[0.6,\"#e6f5d0\"],[0.7,\"#b8e186\"],[0.8,\"#7fbc41\"],[0.9,\"#4d9221\"],[1,\"#276419\"]],\"sequential\":[[0.0,\"#0d0887\"],[0.1111111111111111,\"#46039f\"],[0.2222222222222222,\"#7201a8\"],[0.3333333333333333,\"#9c179e\"],[0.4444444444444444,\"#bd3786\"],[0.5555555555555556,\"#d8576b\"],[0.6666666666666666,\"#ed7953\"],[0.7777777777777778,\"#fb9f3a\"],[0.8888888888888888,\"#fdca26\"],[1.0,\"#f0f921\"]],\"sequentialminus\":[[0.0,\"#0d0887\"],[0.1111111111111111,\"#46039f\"],[0.2222222222222222,\"#7201a8\"],[0.3333333333333333,\"#9c179e\"],[0.4444444444444444,\"#bd3786\"],[0.5555555555555556,\"#d8576b\"],[0.6666666666666666,\"#ed7953\"],[0.7777777777777778,\"#fb9f3a\"],[0.8888888888888888,\"#fdca26\"],[1.0,\"#f0f921\"]]},\"colorway\":[\"#636efa\",\"#EF553B\",\"#00cc96\",\"#ab63fa\",\"#FFA15A\",\"#19d3f3\",\"#FF6692\",\"#B6E880\",\"#FF97FF\",\"#FECB52\"],\"font\":{\"color\":\"#2a3f5f\"},\"geo\":{\"bgcolor\":\"white\",\"lakecolor\":\"white\",\"landcolor\":\"#E5ECF6\",\"showlakes\":true,\"showland\":true,\"subunitcolor\":\"white\"},\"hoverlabel\":{\"align\":\"left\"},\"hovermode\":\"closest\",\"mapbox\":{\"style\":\"light\"},\"paper_bgcolor\":\"white\",\"plot_bgcolor\":\"#E5ECF6\",\"polar\":{\"angularaxis\":{\"gridcolor\":\"white\",\"linecolor\":\"white\",\"ticks\":\"\"},\"bgcolor\":\"#E5ECF6\",\"radialaxis\":{\"gridcolor\":\"white\",\"linecolor\":\"white\",\"ticks\":\"\"}},\"scene\":{\"xaxis\":{\"backgroundcolor\":\"#E5ECF6\",\"gridcolor\":\"white\",\"gridwidth\":2,\"linecolor\":\"white\",\"showbackground\":true,\"ticks\":\"\",\"zerolinecolor\":\"white\"},\"yaxis\":{\"backgroundcolor\":\"#E5ECF6\",\"gridcolor\":\"white\",\"gridwidth\":2,\"linecolor\":\"white\",\"showbackground\":true,\"ticks\":\"\",\"zerolinecolor\":\"white\"},\"zaxis\":{\"backgroundcolor\":\"#E5ECF6\",\"gridcolor\":\"white\",\"gridwidth\":2,\"linecolor\":\"white\",\"showbackground\":true,\"ticks\":\"\",\"zerolinecolor\":\"white\"}},\"shapedefaults\":{\"line\":{\"color\":\"#2a3f5f\"}},\"ternary\":{\"aaxis\":{\"gridcolor\":\"white\",\"linecolor\":\"white\",\"ticks\":\"\"},\"baxis\":{\"gridcolor\":\"white\",\"linecolor\":\"white\",\"ticks\":\"\"},\"bgcolor\":\"#E5ECF6\",\"caxis\":{\"gridcolor\":\"white\",\"linecolor\":\"white\",\"ticks\":\"\"}},\"title\":{\"x\":0.05},\"xaxis\":{\"automargin\":true,\"gridcolor\":\"white\",\"linecolor\":\"white\",\"ticks\":\"\",\"title\":{\"standoff\":15},\"zerolinecolor\":\"white\",\"zerolinewidth\":2},\"yaxis\":{\"automargin\":true,\"gridcolor\":\"white\",\"linecolor\":\"white\",\"ticks\":\"\",\"title\":{\"standoff\":15},\"zerolinecolor\":\"white\",\"zerolinewidth\":2}}},\"title\":{\"text\":\"Most commonly perscribed medications by state (US, 2014)\"},\"xaxis\":{\"anchor\":\"y\",\"domain\":[0.0,1.0],\"title\":{\"text\":\"\"}},\"yaxis\":{\"anchor\":\"x\",\"domain\":[0.0,1.0],\"title\":{\"text\":\"Number of states\"}}},                        {\"responsive\": true}                    ).then(function(){\n",
       "                            \n",
       "var gd = document.getElementById('6e77290d-75dc-4744-aa0b-ce2069fa2e20');\n",
       "var x = new MutationObserver(function (mutations, observer) {{\n",
       "        var display = window.getComputedStyle(gd).display;\n",
       "        if (!display || display === 'none') {{\n",
       "            console.log([gd, 'removed!']);\n",
       "            Plotly.purge(gd);\n",
       "            observer.disconnect();\n",
       "        }}\n",
       "}});\n",
       "\n",
       "// Listen for the removal of the full notebook cells\n",
       "var notebookContainer = gd.closest('#notebook-container');\n",
       "if (notebookContainer) {{\n",
       "    x.observe(notebookContainer, {childList: true});\n",
       "}}\n",
       "\n",
       "// Listen for the clearing of the current output cell\n",
       "var outputEl = gd.closest('.output');\n",
       "if (outputEl) {{\n",
       "    x.observe(outputEl, {childList: true});\n",
       "}}\n",
       "\n",
       "                        })                };                });            </script>        </div>"
      ]
     },
     "metadata": {},
     "output_type": "display_data"
    }
   ],
   "source": [
    "fig = px.bar(most_common_perscription_sorted, x='medication_perscribed',\n",
    "                     labels={'medication_perscribed':'', 'count': 'Number of states',\n",
    "                                    'num_perscribed': 'Number perscribed'}, \n",
    "                     color = 'num_perscribed',\n",
    "                     title='Most commonly perscribed medications by state (US, 2014)',\n",
    "                     hover_data={'state': True, 'num_perscribed': True, 'rank':False}\n",
    "                     ) #hover_data=['lifeExp', 'gdpPercap']\n",
    "fig.show()"
   ]
  },
  {
   "cell_type": "markdown",
   "metadata": {
    "hidden": true
   },
   "source": [
    "Fig. 2: This bar chart isn't the most effective way to display this data. Let's try a geographic map instead!"
   ]
  },
  {
   "cell_type": "code",
   "execution_count": 316,
   "metadata": {
    "ExecuteTime": {
     "end_time": "2021-06-25T05:43:58.384161Z",
     "start_time": "2021-06-25T05:43:58.197231Z"
    },
    "hidden": true
   },
   "outputs": [],
   "source": [
    "# def retrieve_token():\n",
    "#     with open('mapbox_token.json', 'r') as file:\n",
    "#             config = json.load(file)\n",
    "#             return config['token']"
   ]
  },
  {
   "cell_type": "code",
   "execution_count": 458,
   "metadata": {
    "ExecuteTime": {
     "end_time": "2021-06-25T21:03:03.215947Z",
     "start_time": "2021-06-25T21:03:02.489339Z"
    },
    "hidden": true
   },
   "outputs": [
    {
     "data": {
      "application/vnd.plotly.v1+json": {
       "config": {
        "plotlyServerURL": "https://plotly.com"
       },
       "data": [
        {
         "colorscale": [
          [
           0,
           "#636efa"
          ],
          [
           1,
           "#636efa"
          ]
         ],
         "customdata": [
          [
           "HYDROCODONE/ACETAMINOPHEN",
           "AK",
           678
          ],
          [
           "HYDROCODONE/ACETAMINOPHEN",
           "AZ",
           7136
          ],
          [
           "HYDROCODONE/ACETAMINOPHEN",
           "CA",
           40966
          ],
          [
           "HYDROCODONE/ACETAMINOPHEN",
           "CO",
           6082
          ],
          [
           "HYDROCODONE/ACETAMINOPHEN",
           "IA",
           3864
          ],
          [
           "HYDROCODONE/ACETAMINOPHEN",
           "ID",
           2319
          ],
          [
           "HYDROCODONE/ACETAMINOPHEN",
           "IL",
           14493
          ],
          [
           "HYDROCODONE/ACETAMINOPHEN",
           "KS",
           3913
          ],
          [
           "HYDROCODONE/ACETAMINOPHEN",
           "LA",
           5988
          ],
          [
           "HYDROCODONE/ACETAMINOPHEN",
           "MI",
           15915
          ],
          [
           "HYDROCODONE/ACETAMINOPHEN",
           "MN",
           6039
          ],
          [
           "HYDROCODONE/ACETAMINOPHEN",
           "MT",
           1542
          ],
          [
           "HYDROCODONE/ACETAMINOPHEN",
           "NV",
           2979
          ],
          [
           "HYDROCODONE/ACETAMINOPHEN",
           "OK",
           5081
          ],
          [
           "HYDROCODONE/ACETAMINOPHEN",
           "OR",
           5971
          ],
          [
           "HYDROCODONE/ACETAMINOPHEN",
           "SD",
           1200
          ],
          [
           "HYDROCODONE/ACETAMINOPHEN",
           "TN",
           10367
          ],
          [
           "HYDROCODONE/ACETAMINOPHEN",
           "TX",
           25009
          ],
          [
           "HYDROCODONE/ACETAMINOPHEN",
           "UT",
           2971
          ],
          [
           "HYDROCODONE/ACETAMINOPHEN",
           "WA",
           8810
          ],
          [
           "HYDROCODONE/ACETAMINOPHEN",
           "WI",
           7487
          ],
          [
           "HYDROCODONE/ACETAMINOPHEN",
           "WY",
           683
          ]
         ],
         "geo": "geo",
         "hovertemplate": "<b>%{hovertext}</b><br><br>medication_perscribed=%{customdata[0]}<br>num_perscribed=%{customdata[2]}<extra></extra>",
         "hovertext": [
          "AK",
          "AZ",
          "CA",
          "CO",
          "IA",
          "ID",
          "IL",
          "KS",
          "LA",
          "MI",
          "MN",
          "MT",
          "NV",
          "OK",
          "OR",
          "SD",
          "TN",
          "TX",
          "UT",
          "WA",
          "WI",
          "WY"
         ],
         "locationmode": "USA-states",
         "locations": [
          "AK",
          "AZ",
          "CA",
          "CO",
          "IA",
          "ID",
          "IL",
          "KS",
          "LA",
          "MI",
          "MN",
          "MT",
          "NV",
          "OK",
          "OR",
          "SD",
          "TN",
          "TX",
          "UT",
          "WA",
          "WI",
          "WY"
         ],
         "name": "HYDROCODONE/ACETAMINOPHEN",
         "showlegend": true,
         "showscale": false,
         "type": "choropleth",
         "z": [
          1,
          1,
          1,
          1,
          1,
          1,
          1,
          1,
          1,
          1,
          1,
          1,
          1,
          1,
          1,
          1,
          1,
          1,
          1,
          1,
          1,
          1
         ]
        },
        {
         "colorscale": [
          [
           0,
           "#EF553B"
          ],
          [
           1,
           "#EF553B"
          ]
         ],
         "customdata": [
          [
           "POTASSIUM CHLORIDE",
           "AL",
           6595
          ],
          [
           "POTASSIUM CHLORIDE",
           "AR",
           4218
          ],
          [
           "POTASSIUM CHLORIDE",
           "GA",
           10732
          ],
          [
           "POTASSIUM CHLORIDE",
           "IN",
           9219
          ],
          [
           "POTASSIUM CHLORIDE",
           "KY",
           7040
          ],
          [
           "POTASSIUM CHLORIDE",
           "MO",
           8240
          ],
          [
           "POTASSIUM CHLORIDE",
           "MS",
           4306
          ],
          [
           "POTASSIUM CHLORIDE",
           "NC",
           12929
          ],
          [
           "POTASSIUM CHLORIDE",
           "ND",
           1018
          ],
          [
           "POTASSIUM CHLORIDE",
           "OH",
           16721
          ],
          [
           "POTASSIUM CHLORIDE",
           "PA",
           18141
          ],
          [
           "POTASSIUM CHLORIDE",
           "SC",
           6319
          ],
          [
           "POTASSIUM CHLORIDE",
           "VA",
           7805
          ],
          [
           "POTASSIUM CHLORIDE",
           "WV",
           3174
          ]
         ],
         "geo": "geo",
         "hovertemplate": "<b>%{hovertext}</b><br><br>medication_perscribed=%{customdata[0]}<br>num_perscribed=%{customdata[2]}<extra></extra>",
         "hovertext": [
          "AL",
          "AR",
          "GA",
          "IN",
          "KY",
          "MO",
          "MS",
          "NC",
          "ND",
          "OH",
          "PA",
          "SC",
          "VA",
          "WV"
         ],
         "locationmode": "USA-states",
         "locations": [
          "AL",
          "AR",
          "GA",
          "IN",
          "KY",
          "MO",
          "MS",
          "NC",
          "ND",
          "OH",
          "PA",
          "SC",
          "VA",
          "WV"
         ],
         "name": "POTASSIUM CHLORIDE",
         "showlegend": true,
         "showscale": false,
         "type": "choropleth",
         "z": [
          1,
          1,
          1,
          1,
          1,
          1,
          1,
          1,
          1,
          1,
          1,
          1,
          1,
          1
         ]
        },
        {
         "colorscale": [
          [
           0,
           "#00cc96"
          ],
          [
           1,
           "#00cc96"
          ]
         ],
         "customdata": [
          [
           "LEVOTHYROXINE SODIUM",
           "CT",
           4143
          ],
          [
           "LEVOTHYROXINE SODIUM",
           "DE",
           1004
          ],
          [
           "LEVOTHYROXINE SODIUM",
           "FL",
           21601
          ],
          [
           "LEVOTHYROXINE SODIUM",
           "HI",
           1184
          ],
          [
           "LEVOTHYROXINE SODIUM",
           "MA",
           8652
          ],
          [
           "LEVOTHYROXINE SODIUM",
           "MD",
           5225
          ],
          [
           "LEVOTHYROXINE SODIUM",
           "NE",
           2422
          ],
          [
           "LEVOTHYROXINE SODIUM",
           "NH",
           1745
          ],
          [
           "LEVOTHYROXINE SODIUM",
           "NJ",
           9587
          ],
          [
           "LEVOTHYROXINE SODIUM",
           "NM",
           2395
          ],
          [
           "LEVOTHYROXINE SODIUM",
           "NY",
           24089
          ],
          [
           "LEVOTHYROXINE SODIUM",
           "RI",
           1356
          ],
          [
           "LEVOTHYROXINE SODIUM",
           "VT",
           796
          ]
         ],
         "geo": "geo",
         "hovertemplate": "<b>%{hovertext}</b><br><br>medication_perscribed=%{customdata[0]}<br>num_perscribed=%{customdata[2]}<extra></extra>",
         "hovertext": [
          "CT",
          "DE",
          "FL",
          "HI",
          "MA",
          "MD",
          "NE",
          "NH",
          "NJ",
          "NM",
          "NY",
          "RI",
          "VT"
         ],
         "locationmode": "USA-states",
         "locations": [
          "CT",
          "DE",
          "FL",
          "HI",
          "MA",
          "MD",
          "NE",
          "NH",
          "NJ",
          "NM",
          "NY",
          "RI",
          "VT"
         ],
         "name": "LEVOTHYROXINE SODIUM",
         "showlegend": true,
         "showscale": false,
         "type": "choropleth",
         "z": [
          1,
          1,
          1,
          1,
          1,
          1,
          1,
          1,
          1,
          1,
          1,
          1,
          1
         ]
        },
        {
         "colorscale": [
          [
           0,
           "#ab63fa"
          ],
          [
           1,
           "#ab63fa"
          ]
         ],
         "customdata": [
          [
           "LISINOPRIL",
           "DC",
           866
          ]
         ],
         "geo": "geo",
         "hovertemplate": "<b>%{hovertext}</b><br><br>medication_perscribed=%{customdata[0]}<br>num_perscribed=%{customdata[2]}<extra></extra>",
         "hovertext": [
          "DC"
         ],
         "locationmode": "USA-states",
         "locations": [
          "DC"
         ],
         "name": "LISINOPRIL",
         "showlegend": true,
         "showscale": false,
         "type": "choropleth",
         "z": [
          1
         ]
        },
        {
         "colorscale": [
          [
           0,
           "#FFA15A"
          ],
          [
           1,
           "#FFA15A"
          ]
         ],
         "customdata": [
          [
           "ALBUTEROL SULFATE",
           "ME",
           2122
          ]
         ],
         "geo": "geo",
         "hovertemplate": "<b>%{hovertext}</b><br><br>medication_perscribed=%{customdata[0]}<br>num_perscribed=%{customdata[2]}<extra></extra>",
         "hovertext": [
          "ME"
         ],
         "locationmode": "USA-states",
         "locations": [
          "ME"
         ],
         "name": "ALBUTEROL SULFATE",
         "showlegend": true,
         "showscale": false,
         "type": "choropleth",
         "z": [
          1
         ]
        }
       ],
       "layout": {
        "geo": {
         "center": {},
         "domain": {
          "x": [
           0,
           1
          ],
          "y": [
           0,
           1
          ]
         },
         "projection": {
          "type": "natural earth"
         },
         "scope": "world"
        },
        "height": 300,
        "legend": {
         "bgcolor": "white",
         "bordercolor": "Black",
         "borderwidth": 2,
         "font": {
          "color": "black",
          "family": "Courier",
          "size": 16
         },
         "title": {},
         "tracegroupgap": 0,
         "traceorder": "reversed",
         "x": 1,
         "y": 0.5
        },
        "margin": {
         "b": 20,
         "l": 0,
         "r": 0,
         "t": 40
        },
        "template": {
         "data": {
          "bar": [
           {
            "error_x": {
             "color": "#2a3f5f"
            },
            "error_y": {
             "color": "#2a3f5f"
            },
            "marker": {
             "line": {
              "color": "#E5ECF6",
              "width": 0.5
             },
             "pattern": {
              "fillmode": "overlay",
              "size": 10,
              "solidity": 0.2
             }
            },
            "type": "bar"
           }
          ],
          "barpolar": [
           {
            "marker": {
             "line": {
              "color": "#E5ECF6",
              "width": 0.5
             },
             "pattern": {
              "fillmode": "overlay",
              "size": 10,
              "solidity": 0.2
             }
            },
            "type": "barpolar"
           }
          ],
          "carpet": [
           {
            "aaxis": {
             "endlinecolor": "#2a3f5f",
             "gridcolor": "white",
             "linecolor": "white",
             "minorgridcolor": "white",
             "startlinecolor": "#2a3f5f"
            },
            "baxis": {
             "endlinecolor": "#2a3f5f",
             "gridcolor": "white",
             "linecolor": "white",
             "minorgridcolor": "white",
             "startlinecolor": "#2a3f5f"
            },
            "type": "carpet"
           }
          ],
          "choropleth": [
           {
            "colorbar": {
             "outlinewidth": 0,
             "ticks": ""
            },
            "type": "choropleth"
           }
          ],
          "contour": [
           {
            "colorbar": {
             "outlinewidth": 0,
             "ticks": ""
            },
            "colorscale": [
             [
              0,
              "#0d0887"
             ],
             [
              0.1111111111111111,
              "#46039f"
             ],
             [
              0.2222222222222222,
              "#7201a8"
             ],
             [
              0.3333333333333333,
              "#9c179e"
             ],
             [
              0.4444444444444444,
              "#bd3786"
             ],
             [
              0.5555555555555556,
              "#d8576b"
             ],
             [
              0.6666666666666666,
              "#ed7953"
             ],
             [
              0.7777777777777778,
              "#fb9f3a"
             ],
             [
              0.8888888888888888,
              "#fdca26"
             ],
             [
              1,
              "#f0f921"
             ]
            ],
            "type": "contour"
           }
          ],
          "contourcarpet": [
           {
            "colorbar": {
             "outlinewidth": 0,
             "ticks": ""
            },
            "type": "contourcarpet"
           }
          ],
          "heatmap": [
           {
            "colorbar": {
             "outlinewidth": 0,
             "ticks": ""
            },
            "colorscale": [
             [
              0,
              "#0d0887"
             ],
             [
              0.1111111111111111,
              "#46039f"
             ],
             [
              0.2222222222222222,
              "#7201a8"
             ],
             [
              0.3333333333333333,
              "#9c179e"
             ],
             [
              0.4444444444444444,
              "#bd3786"
             ],
             [
              0.5555555555555556,
              "#d8576b"
             ],
             [
              0.6666666666666666,
              "#ed7953"
             ],
             [
              0.7777777777777778,
              "#fb9f3a"
             ],
             [
              0.8888888888888888,
              "#fdca26"
             ],
             [
              1,
              "#f0f921"
             ]
            ],
            "type": "heatmap"
           }
          ],
          "heatmapgl": [
           {
            "colorbar": {
             "outlinewidth": 0,
             "ticks": ""
            },
            "colorscale": [
             [
              0,
              "#0d0887"
             ],
             [
              0.1111111111111111,
              "#46039f"
             ],
             [
              0.2222222222222222,
              "#7201a8"
             ],
             [
              0.3333333333333333,
              "#9c179e"
             ],
             [
              0.4444444444444444,
              "#bd3786"
             ],
             [
              0.5555555555555556,
              "#d8576b"
             ],
             [
              0.6666666666666666,
              "#ed7953"
             ],
             [
              0.7777777777777778,
              "#fb9f3a"
             ],
             [
              0.8888888888888888,
              "#fdca26"
             ],
             [
              1,
              "#f0f921"
             ]
            ],
            "type": "heatmapgl"
           }
          ],
          "histogram": [
           {
            "marker": {
             "pattern": {
              "fillmode": "overlay",
              "size": 10,
              "solidity": 0.2
             }
            },
            "type": "histogram"
           }
          ],
          "histogram2d": [
           {
            "colorbar": {
             "outlinewidth": 0,
             "ticks": ""
            },
            "colorscale": [
             [
              0,
              "#0d0887"
             ],
             [
              0.1111111111111111,
              "#46039f"
             ],
             [
              0.2222222222222222,
              "#7201a8"
             ],
             [
              0.3333333333333333,
              "#9c179e"
             ],
             [
              0.4444444444444444,
              "#bd3786"
             ],
             [
              0.5555555555555556,
              "#d8576b"
             ],
             [
              0.6666666666666666,
              "#ed7953"
             ],
             [
              0.7777777777777778,
              "#fb9f3a"
             ],
             [
              0.8888888888888888,
              "#fdca26"
             ],
             [
              1,
              "#f0f921"
             ]
            ],
            "type": "histogram2d"
           }
          ],
          "histogram2dcontour": [
           {
            "colorbar": {
             "outlinewidth": 0,
             "ticks": ""
            },
            "colorscale": [
             [
              0,
              "#0d0887"
             ],
             [
              0.1111111111111111,
              "#46039f"
             ],
             [
              0.2222222222222222,
              "#7201a8"
             ],
             [
              0.3333333333333333,
              "#9c179e"
             ],
             [
              0.4444444444444444,
              "#bd3786"
             ],
             [
              0.5555555555555556,
              "#d8576b"
             ],
             [
              0.6666666666666666,
              "#ed7953"
             ],
             [
              0.7777777777777778,
              "#fb9f3a"
             ],
             [
              0.8888888888888888,
              "#fdca26"
             ],
             [
              1,
              "#f0f921"
             ]
            ],
            "type": "histogram2dcontour"
           }
          ],
          "mesh3d": [
           {
            "colorbar": {
             "outlinewidth": 0,
             "ticks": ""
            },
            "type": "mesh3d"
           }
          ],
          "parcoords": [
           {
            "line": {
             "colorbar": {
              "outlinewidth": 0,
              "ticks": ""
             }
            },
            "type": "parcoords"
           }
          ],
          "pie": [
           {
            "automargin": true,
            "type": "pie"
           }
          ],
          "scatter": [
           {
            "marker": {
             "colorbar": {
              "outlinewidth": 0,
              "ticks": ""
             }
            },
            "type": "scatter"
           }
          ],
          "scatter3d": [
           {
            "line": {
             "colorbar": {
              "outlinewidth": 0,
              "ticks": ""
             }
            },
            "marker": {
             "colorbar": {
              "outlinewidth": 0,
              "ticks": ""
             }
            },
            "type": "scatter3d"
           }
          ],
          "scattercarpet": [
           {
            "marker": {
             "colorbar": {
              "outlinewidth": 0,
              "ticks": ""
             }
            },
            "type": "scattercarpet"
           }
          ],
          "scattergeo": [
           {
            "marker": {
             "colorbar": {
              "outlinewidth": 0,
              "ticks": ""
             }
            },
            "type": "scattergeo"
           }
          ],
          "scattergl": [
           {
            "marker": {
             "colorbar": {
              "outlinewidth": 0,
              "ticks": ""
             }
            },
            "type": "scattergl"
           }
          ],
          "scattermapbox": [
           {
            "marker": {
             "colorbar": {
              "outlinewidth": 0,
              "ticks": ""
             }
            },
            "type": "scattermapbox"
           }
          ],
          "scatterpolar": [
           {
            "marker": {
             "colorbar": {
              "outlinewidth": 0,
              "ticks": ""
             }
            },
            "type": "scatterpolar"
           }
          ],
          "scatterpolargl": [
           {
            "marker": {
             "colorbar": {
              "outlinewidth": 0,
              "ticks": ""
             }
            },
            "type": "scatterpolargl"
           }
          ],
          "scatterternary": [
           {
            "marker": {
             "colorbar": {
              "outlinewidth": 0,
              "ticks": ""
             }
            },
            "type": "scatterternary"
           }
          ],
          "surface": [
           {
            "colorbar": {
             "outlinewidth": 0,
             "ticks": ""
            },
            "colorscale": [
             [
              0,
              "#0d0887"
             ],
             [
              0.1111111111111111,
              "#46039f"
             ],
             [
              0.2222222222222222,
              "#7201a8"
             ],
             [
              0.3333333333333333,
              "#9c179e"
             ],
             [
              0.4444444444444444,
              "#bd3786"
             ],
             [
              0.5555555555555556,
              "#d8576b"
             ],
             [
              0.6666666666666666,
              "#ed7953"
             ],
             [
              0.7777777777777778,
              "#fb9f3a"
             ],
             [
              0.8888888888888888,
              "#fdca26"
             ],
             [
              1,
              "#f0f921"
             ]
            ],
            "type": "surface"
           }
          ],
          "table": [
           {
            "cells": {
             "fill": {
              "color": "#EBF0F8"
             },
             "line": {
              "color": "white"
             }
            },
            "header": {
             "fill": {
              "color": "#C8D4E3"
             },
             "line": {
              "color": "white"
             }
            },
            "type": "table"
           }
          ]
         },
         "layout": {
          "annotationdefaults": {
           "arrowcolor": "#2a3f5f",
           "arrowhead": 0,
           "arrowwidth": 1
          },
          "autotypenumbers": "strict",
          "coloraxis": {
           "colorbar": {
            "outlinewidth": 0,
            "ticks": ""
           }
          },
          "colorscale": {
           "diverging": [
            [
             0,
             "#8e0152"
            ],
            [
             0.1,
             "#c51b7d"
            ],
            [
             0.2,
             "#de77ae"
            ],
            [
             0.3,
             "#f1b6da"
            ],
            [
             0.4,
             "#fde0ef"
            ],
            [
             0.5,
             "#f7f7f7"
            ],
            [
             0.6,
             "#e6f5d0"
            ],
            [
             0.7,
             "#b8e186"
            ],
            [
             0.8,
             "#7fbc41"
            ],
            [
             0.9,
             "#4d9221"
            ],
            [
             1,
             "#276419"
            ]
           ],
           "sequential": [
            [
             0,
             "#0d0887"
            ],
            [
             0.1111111111111111,
             "#46039f"
            ],
            [
             0.2222222222222222,
             "#7201a8"
            ],
            [
             0.3333333333333333,
             "#9c179e"
            ],
            [
             0.4444444444444444,
             "#bd3786"
            ],
            [
             0.5555555555555556,
             "#d8576b"
            ],
            [
             0.6666666666666666,
             "#ed7953"
            ],
            [
             0.7777777777777778,
             "#fb9f3a"
            ],
            [
             0.8888888888888888,
             "#fdca26"
            ],
            [
             1,
             "#f0f921"
            ]
           ],
           "sequentialminus": [
            [
             0,
             "#0d0887"
            ],
            [
             0.1111111111111111,
             "#46039f"
            ],
            [
             0.2222222222222222,
             "#7201a8"
            ],
            [
             0.3333333333333333,
             "#9c179e"
            ],
            [
             0.4444444444444444,
             "#bd3786"
            ],
            [
             0.5555555555555556,
             "#d8576b"
            ],
            [
             0.6666666666666666,
             "#ed7953"
            ],
            [
             0.7777777777777778,
             "#fb9f3a"
            ],
            [
             0.8888888888888888,
             "#fdca26"
            ],
            [
             1,
             "#f0f921"
            ]
           ]
          },
          "colorway": [
           "#636efa",
           "#EF553B",
           "#00cc96",
           "#ab63fa",
           "#FFA15A",
           "#19d3f3",
           "#FF6692",
           "#B6E880",
           "#FF97FF",
           "#FECB52"
          ],
          "font": {
           "color": "#2a3f5f"
          },
          "geo": {
           "bgcolor": "white",
           "lakecolor": "white",
           "landcolor": "#E5ECF6",
           "showlakes": true,
           "showland": true,
           "subunitcolor": "white"
          },
          "hoverlabel": {
           "align": "left"
          },
          "hovermode": "closest",
          "mapbox": {
           "style": "light"
          },
          "paper_bgcolor": "white",
          "plot_bgcolor": "#E5ECF6",
          "polar": {
           "angularaxis": {
            "gridcolor": "white",
            "linecolor": "white",
            "ticks": ""
           },
           "bgcolor": "#E5ECF6",
           "radialaxis": {
            "gridcolor": "white",
            "linecolor": "white",
            "ticks": ""
           }
          },
          "scene": {
           "xaxis": {
            "backgroundcolor": "#E5ECF6",
            "gridcolor": "white",
            "gridwidth": 2,
            "linecolor": "white",
            "showbackground": true,
            "ticks": "",
            "zerolinecolor": "white"
           },
           "yaxis": {
            "backgroundcolor": "#E5ECF6",
            "gridcolor": "white",
            "gridwidth": 2,
            "linecolor": "white",
            "showbackground": true,
            "ticks": "",
            "zerolinecolor": "white"
           },
           "zaxis": {
            "backgroundcolor": "#E5ECF6",
            "gridcolor": "white",
            "gridwidth": 2,
            "linecolor": "white",
            "showbackground": true,
            "ticks": "",
            "zerolinecolor": "white"
           }
          },
          "shapedefaults": {
           "line": {
            "color": "#2a3f5f"
           }
          },
          "ternary": {
           "aaxis": {
            "gridcolor": "white",
            "linecolor": "white",
            "ticks": ""
           },
           "baxis": {
            "gridcolor": "white",
            "linecolor": "white",
            "ticks": ""
           },
           "bgcolor": "#E5ECF6",
           "caxis": {
            "gridcolor": "white",
            "linecolor": "white",
            "ticks": ""
           }
          },
          "title": {
           "x": 0.05
          },
          "xaxis": {
           "automargin": true,
           "gridcolor": "white",
           "linecolor": "white",
           "ticks": "",
           "title": {
            "standoff": 15
           },
           "zerolinecolor": "white",
           "zerolinewidth": 2
          },
          "yaxis": {
           "automargin": true,
           "gridcolor": "white",
           "linecolor": "white",
           "ticks": "",
           "title": {
            "standoff": 15
           },
           "zerolinecolor": "white",
           "zerolinewidth": 2
          }
         }
        },
        "title": {
         "font": {
          "color": "black",
          "family": "Courier",
          "size": 20
         },
         "text": "Most commonly perscribed medication by state (US, 2014)"
        }
       }
      },
      "text/html": [
       "<div>                            <div id=\"6099be5b-31a5-421b-aa12-ea5ed03ca520\" class=\"plotly-graph-div\" style=\"height:300px; width:100%;\"></div>            <script type=\"text/javascript\">                require([\"plotly\"], function(Plotly) {                    window.PLOTLYENV=window.PLOTLYENV || {};                                    if (document.getElementById(\"6099be5b-31a5-421b-aa12-ea5ed03ca520\")) {                    Plotly.newPlot(                        \"6099be5b-31a5-421b-aa12-ea5ed03ca520\",                        [{\"colorscale\":[[0.0,\"#636efa\"],[1.0,\"#636efa\"]],\"customdata\":[[\"HYDROCODONE/ACETAMINOPHEN\",\"AK\",678],[\"HYDROCODONE/ACETAMINOPHEN\",\"AZ\",7136],[\"HYDROCODONE/ACETAMINOPHEN\",\"CA\",40966],[\"HYDROCODONE/ACETAMINOPHEN\",\"CO\",6082],[\"HYDROCODONE/ACETAMINOPHEN\",\"IA\",3864],[\"HYDROCODONE/ACETAMINOPHEN\",\"ID\",2319],[\"HYDROCODONE/ACETAMINOPHEN\",\"IL\",14493],[\"HYDROCODONE/ACETAMINOPHEN\",\"KS\",3913],[\"HYDROCODONE/ACETAMINOPHEN\",\"LA\",5988],[\"HYDROCODONE/ACETAMINOPHEN\",\"MI\",15915],[\"HYDROCODONE/ACETAMINOPHEN\",\"MN\",6039],[\"HYDROCODONE/ACETAMINOPHEN\",\"MT\",1542],[\"HYDROCODONE/ACETAMINOPHEN\",\"NV\",2979],[\"HYDROCODONE/ACETAMINOPHEN\",\"OK\",5081],[\"HYDROCODONE/ACETAMINOPHEN\",\"OR\",5971],[\"HYDROCODONE/ACETAMINOPHEN\",\"SD\",1200],[\"HYDROCODONE/ACETAMINOPHEN\",\"TN\",10367],[\"HYDROCODONE/ACETAMINOPHEN\",\"TX\",25009],[\"HYDROCODONE/ACETAMINOPHEN\",\"UT\",2971],[\"HYDROCODONE/ACETAMINOPHEN\",\"WA\",8810],[\"HYDROCODONE/ACETAMINOPHEN\",\"WI\",7487],[\"HYDROCODONE/ACETAMINOPHEN\",\"WY\",683]],\"geo\":\"geo\",\"hovertemplate\":\"<b>%{hovertext}</b><br><br>medication_perscribed=%{customdata[0]}<br>num_perscribed=%{customdata[2]}<extra></extra>\",\"hovertext\":[\"AK\",\"AZ\",\"CA\",\"CO\",\"IA\",\"ID\",\"IL\",\"KS\",\"LA\",\"MI\",\"MN\",\"MT\",\"NV\",\"OK\",\"OR\",\"SD\",\"TN\",\"TX\",\"UT\",\"WA\",\"WI\",\"WY\"],\"locationmode\":\"USA-states\",\"locations\":[\"AK\",\"AZ\",\"CA\",\"CO\",\"IA\",\"ID\",\"IL\",\"KS\",\"LA\",\"MI\",\"MN\",\"MT\",\"NV\",\"OK\",\"OR\",\"SD\",\"TN\",\"TX\",\"UT\",\"WA\",\"WI\",\"WY\"],\"name\":\"HYDROCODONE/ACETAMINOPHEN\",\"showlegend\":true,\"showscale\":false,\"type\":\"choropleth\",\"z\":[1,1,1,1,1,1,1,1,1,1,1,1,1,1,1,1,1,1,1,1,1,1]},{\"colorscale\":[[0.0,\"#EF553B\"],[1.0,\"#EF553B\"]],\"customdata\":[[\"POTASSIUM CHLORIDE\",\"AL\",6595],[\"POTASSIUM CHLORIDE\",\"AR\",4218],[\"POTASSIUM CHLORIDE\",\"GA\",10732],[\"POTASSIUM CHLORIDE\",\"IN\",9219],[\"POTASSIUM CHLORIDE\",\"KY\",7040],[\"POTASSIUM CHLORIDE\",\"MO\",8240],[\"POTASSIUM CHLORIDE\",\"MS\",4306],[\"POTASSIUM CHLORIDE\",\"NC\",12929],[\"POTASSIUM CHLORIDE\",\"ND\",1018],[\"POTASSIUM CHLORIDE\",\"OH\",16721],[\"POTASSIUM CHLORIDE\",\"PA\",18141],[\"POTASSIUM CHLORIDE\",\"SC\",6319],[\"POTASSIUM CHLORIDE\",\"VA\",7805],[\"POTASSIUM CHLORIDE\",\"WV\",3174]],\"geo\":\"geo\",\"hovertemplate\":\"<b>%{hovertext}</b><br><br>medication_perscribed=%{customdata[0]}<br>num_perscribed=%{customdata[2]}<extra></extra>\",\"hovertext\":[\"AL\",\"AR\",\"GA\",\"IN\",\"KY\",\"MO\",\"MS\",\"NC\",\"ND\",\"OH\",\"PA\",\"SC\",\"VA\",\"WV\"],\"locationmode\":\"USA-states\",\"locations\":[\"AL\",\"AR\",\"GA\",\"IN\",\"KY\",\"MO\",\"MS\",\"NC\",\"ND\",\"OH\",\"PA\",\"SC\",\"VA\",\"WV\"],\"name\":\"POTASSIUM CHLORIDE\",\"showlegend\":true,\"showscale\":false,\"type\":\"choropleth\",\"z\":[1,1,1,1,1,1,1,1,1,1,1,1,1,1]},{\"colorscale\":[[0.0,\"#00cc96\"],[1.0,\"#00cc96\"]],\"customdata\":[[\"LEVOTHYROXINE SODIUM\",\"CT\",4143],[\"LEVOTHYROXINE SODIUM\",\"DE\",1004],[\"LEVOTHYROXINE SODIUM\",\"FL\",21601],[\"LEVOTHYROXINE SODIUM\",\"HI\",1184],[\"LEVOTHYROXINE SODIUM\",\"MA\",8652],[\"LEVOTHYROXINE SODIUM\",\"MD\",5225],[\"LEVOTHYROXINE SODIUM\",\"NE\",2422],[\"LEVOTHYROXINE SODIUM\",\"NH\",1745],[\"LEVOTHYROXINE SODIUM\",\"NJ\",9587],[\"LEVOTHYROXINE SODIUM\",\"NM\",2395],[\"LEVOTHYROXINE SODIUM\",\"NY\",24089],[\"LEVOTHYROXINE SODIUM\",\"RI\",1356],[\"LEVOTHYROXINE SODIUM\",\"VT\",796]],\"geo\":\"geo\",\"hovertemplate\":\"<b>%{hovertext}</b><br><br>medication_perscribed=%{customdata[0]}<br>num_perscribed=%{customdata[2]}<extra></extra>\",\"hovertext\":[\"CT\",\"DE\",\"FL\",\"HI\",\"MA\",\"MD\",\"NE\",\"NH\",\"NJ\",\"NM\",\"NY\",\"RI\",\"VT\"],\"locationmode\":\"USA-states\",\"locations\":[\"CT\",\"DE\",\"FL\",\"HI\",\"MA\",\"MD\",\"NE\",\"NH\",\"NJ\",\"NM\",\"NY\",\"RI\",\"VT\"],\"name\":\"LEVOTHYROXINE SODIUM\",\"showlegend\":true,\"showscale\":false,\"type\":\"choropleth\",\"z\":[1,1,1,1,1,1,1,1,1,1,1,1,1]},{\"colorscale\":[[0.0,\"#ab63fa\"],[1.0,\"#ab63fa\"]],\"customdata\":[[\"LISINOPRIL\",\"DC\",866]],\"geo\":\"geo\",\"hovertemplate\":\"<b>%{hovertext}</b><br><br>medication_perscribed=%{customdata[0]}<br>num_perscribed=%{customdata[2]}<extra></extra>\",\"hovertext\":[\"DC\"],\"locationmode\":\"USA-states\",\"locations\":[\"DC\"],\"name\":\"LISINOPRIL\",\"showlegend\":true,\"showscale\":false,\"type\":\"choropleth\",\"z\":[1]},{\"colorscale\":[[0.0,\"#FFA15A\"],[1.0,\"#FFA15A\"]],\"customdata\":[[\"ALBUTEROL SULFATE\",\"ME\",2122]],\"geo\":\"geo\",\"hovertemplate\":\"<b>%{hovertext}</b><br><br>medication_perscribed=%{customdata[0]}<br>num_perscribed=%{customdata[2]}<extra></extra>\",\"hovertext\":[\"ME\"],\"locationmode\":\"USA-states\",\"locations\":[\"ME\"],\"name\":\"ALBUTEROL SULFATE\",\"showlegend\":true,\"showscale\":false,\"type\":\"choropleth\",\"z\":[1]}],                        {\"geo\":{\"center\":{},\"domain\":{\"x\":[0.0,1.0],\"y\":[0.0,1.0]},\"projection\":{\"type\":\"natural earth\"},\"scope\":\"world\"},\"height\":300,\"legend\":{\"bgcolor\":\"white\",\"bordercolor\":\"Black\",\"borderwidth\":2,\"font\":{\"color\":\"black\",\"family\":\"Courier\",\"size\":16},\"title\":{},\"tracegroupgap\":0,\"traceorder\":\"reversed\",\"x\":1,\"y\":0.5},\"margin\":{\"b\":20,\"l\":0,\"r\":0,\"t\":40},\"template\":{\"data\":{\"bar\":[{\"error_x\":{\"color\":\"#2a3f5f\"},\"error_y\":{\"color\":\"#2a3f5f\"},\"marker\":{\"line\":{\"color\":\"#E5ECF6\",\"width\":0.5},\"pattern\":{\"fillmode\":\"overlay\",\"size\":10,\"solidity\":0.2}},\"type\":\"bar\"}],\"barpolar\":[{\"marker\":{\"line\":{\"color\":\"#E5ECF6\",\"width\":0.5},\"pattern\":{\"fillmode\":\"overlay\",\"size\":10,\"solidity\":0.2}},\"type\":\"barpolar\"}],\"carpet\":[{\"aaxis\":{\"endlinecolor\":\"#2a3f5f\",\"gridcolor\":\"white\",\"linecolor\":\"white\",\"minorgridcolor\":\"white\",\"startlinecolor\":\"#2a3f5f\"},\"baxis\":{\"endlinecolor\":\"#2a3f5f\",\"gridcolor\":\"white\",\"linecolor\":\"white\",\"minorgridcolor\":\"white\",\"startlinecolor\":\"#2a3f5f\"},\"type\":\"carpet\"}],\"choropleth\":[{\"colorbar\":{\"outlinewidth\":0,\"ticks\":\"\"},\"type\":\"choropleth\"}],\"contour\":[{\"colorbar\":{\"outlinewidth\":0,\"ticks\":\"\"},\"colorscale\":[[0.0,\"#0d0887\"],[0.1111111111111111,\"#46039f\"],[0.2222222222222222,\"#7201a8\"],[0.3333333333333333,\"#9c179e\"],[0.4444444444444444,\"#bd3786\"],[0.5555555555555556,\"#d8576b\"],[0.6666666666666666,\"#ed7953\"],[0.7777777777777778,\"#fb9f3a\"],[0.8888888888888888,\"#fdca26\"],[1.0,\"#f0f921\"]],\"type\":\"contour\"}],\"contourcarpet\":[{\"colorbar\":{\"outlinewidth\":0,\"ticks\":\"\"},\"type\":\"contourcarpet\"}],\"heatmap\":[{\"colorbar\":{\"outlinewidth\":0,\"ticks\":\"\"},\"colorscale\":[[0.0,\"#0d0887\"],[0.1111111111111111,\"#46039f\"],[0.2222222222222222,\"#7201a8\"],[0.3333333333333333,\"#9c179e\"],[0.4444444444444444,\"#bd3786\"],[0.5555555555555556,\"#d8576b\"],[0.6666666666666666,\"#ed7953\"],[0.7777777777777778,\"#fb9f3a\"],[0.8888888888888888,\"#fdca26\"],[1.0,\"#f0f921\"]],\"type\":\"heatmap\"}],\"heatmapgl\":[{\"colorbar\":{\"outlinewidth\":0,\"ticks\":\"\"},\"colorscale\":[[0.0,\"#0d0887\"],[0.1111111111111111,\"#46039f\"],[0.2222222222222222,\"#7201a8\"],[0.3333333333333333,\"#9c179e\"],[0.4444444444444444,\"#bd3786\"],[0.5555555555555556,\"#d8576b\"],[0.6666666666666666,\"#ed7953\"],[0.7777777777777778,\"#fb9f3a\"],[0.8888888888888888,\"#fdca26\"],[1.0,\"#f0f921\"]],\"type\":\"heatmapgl\"}],\"histogram\":[{\"marker\":{\"pattern\":{\"fillmode\":\"overlay\",\"size\":10,\"solidity\":0.2}},\"type\":\"histogram\"}],\"histogram2d\":[{\"colorbar\":{\"outlinewidth\":0,\"ticks\":\"\"},\"colorscale\":[[0.0,\"#0d0887\"],[0.1111111111111111,\"#46039f\"],[0.2222222222222222,\"#7201a8\"],[0.3333333333333333,\"#9c179e\"],[0.4444444444444444,\"#bd3786\"],[0.5555555555555556,\"#d8576b\"],[0.6666666666666666,\"#ed7953\"],[0.7777777777777778,\"#fb9f3a\"],[0.8888888888888888,\"#fdca26\"],[1.0,\"#f0f921\"]],\"type\":\"histogram2d\"}],\"histogram2dcontour\":[{\"colorbar\":{\"outlinewidth\":0,\"ticks\":\"\"},\"colorscale\":[[0.0,\"#0d0887\"],[0.1111111111111111,\"#46039f\"],[0.2222222222222222,\"#7201a8\"],[0.3333333333333333,\"#9c179e\"],[0.4444444444444444,\"#bd3786\"],[0.5555555555555556,\"#d8576b\"],[0.6666666666666666,\"#ed7953\"],[0.7777777777777778,\"#fb9f3a\"],[0.8888888888888888,\"#fdca26\"],[1.0,\"#f0f921\"]],\"type\":\"histogram2dcontour\"}],\"mesh3d\":[{\"colorbar\":{\"outlinewidth\":0,\"ticks\":\"\"},\"type\":\"mesh3d\"}],\"parcoords\":[{\"line\":{\"colorbar\":{\"outlinewidth\":0,\"ticks\":\"\"}},\"type\":\"parcoords\"}],\"pie\":[{\"automargin\":true,\"type\":\"pie\"}],\"scatter\":[{\"marker\":{\"colorbar\":{\"outlinewidth\":0,\"ticks\":\"\"}},\"type\":\"scatter\"}],\"scatter3d\":[{\"line\":{\"colorbar\":{\"outlinewidth\":0,\"ticks\":\"\"}},\"marker\":{\"colorbar\":{\"outlinewidth\":0,\"ticks\":\"\"}},\"type\":\"scatter3d\"}],\"scattercarpet\":[{\"marker\":{\"colorbar\":{\"outlinewidth\":0,\"ticks\":\"\"}},\"type\":\"scattercarpet\"}],\"scattergeo\":[{\"marker\":{\"colorbar\":{\"outlinewidth\":0,\"ticks\":\"\"}},\"type\":\"scattergeo\"}],\"scattergl\":[{\"marker\":{\"colorbar\":{\"outlinewidth\":0,\"ticks\":\"\"}},\"type\":\"scattergl\"}],\"scattermapbox\":[{\"marker\":{\"colorbar\":{\"outlinewidth\":0,\"ticks\":\"\"}},\"type\":\"scattermapbox\"}],\"scatterpolar\":[{\"marker\":{\"colorbar\":{\"outlinewidth\":0,\"ticks\":\"\"}},\"type\":\"scatterpolar\"}],\"scatterpolargl\":[{\"marker\":{\"colorbar\":{\"outlinewidth\":0,\"ticks\":\"\"}},\"type\":\"scatterpolargl\"}],\"scatterternary\":[{\"marker\":{\"colorbar\":{\"outlinewidth\":0,\"ticks\":\"\"}},\"type\":\"scatterternary\"}],\"surface\":[{\"colorbar\":{\"outlinewidth\":0,\"ticks\":\"\"},\"colorscale\":[[0.0,\"#0d0887\"],[0.1111111111111111,\"#46039f\"],[0.2222222222222222,\"#7201a8\"],[0.3333333333333333,\"#9c179e\"],[0.4444444444444444,\"#bd3786\"],[0.5555555555555556,\"#d8576b\"],[0.6666666666666666,\"#ed7953\"],[0.7777777777777778,\"#fb9f3a\"],[0.8888888888888888,\"#fdca26\"],[1.0,\"#f0f921\"]],\"type\":\"surface\"}],\"table\":[{\"cells\":{\"fill\":{\"color\":\"#EBF0F8\"},\"line\":{\"color\":\"white\"}},\"header\":{\"fill\":{\"color\":\"#C8D4E3\"},\"line\":{\"color\":\"white\"}},\"type\":\"table\"}]},\"layout\":{\"annotationdefaults\":{\"arrowcolor\":\"#2a3f5f\",\"arrowhead\":0,\"arrowwidth\":1},\"autotypenumbers\":\"strict\",\"coloraxis\":{\"colorbar\":{\"outlinewidth\":0,\"ticks\":\"\"}},\"colorscale\":{\"diverging\":[[0,\"#8e0152\"],[0.1,\"#c51b7d\"],[0.2,\"#de77ae\"],[0.3,\"#f1b6da\"],[0.4,\"#fde0ef\"],[0.5,\"#f7f7f7\"],[0.6,\"#e6f5d0\"],[0.7,\"#b8e186\"],[0.8,\"#7fbc41\"],[0.9,\"#4d9221\"],[1,\"#276419\"]],\"sequential\":[[0.0,\"#0d0887\"],[0.1111111111111111,\"#46039f\"],[0.2222222222222222,\"#7201a8\"],[0.3333333333333333,\"#9c179e\"],[0.4444444444444444,\"#bd3786\"],[0.5555555555555556,\"#d8576b\"],[0.6666666666666666,\"#ed7953\"],[0.7777777777777778,\"#fb9f3a\"],[0.8888888888888888,\"#fdca26\"],[1.0,\"#f0f921\"]],\"sequentialminus\":[[0.0,\"#0d0887\"],[0.1111111111111111,\"#46039f\"],[0.2222222222222222,\"#7201a8\"],[0.3333333333333333,\"#9c179e\"],[0.4444444444444444,\"#bd3786\"],[0.5555555555555556,\"#d8576b\"],[0.6666666666666666,\"#ed7953\"],[0.7777777777777778,\"#fb9f3a\"],[0.8888888888888888,\"#fdca26\"],[1.0,\"#f0f921\"]]},\"colorway\":[\"#636efa\",\"#EF553B\",\"#00cc96\",\"#ab63fa\",\"#FFA15A\",\"#19d3f3\",\"#FF6692\",\"#B6E880\",\"#FF97FF\",\"#FECB52\"],\"font\":{\"color\":\"#2a3f5f\"},\"geo\":{\"bgcolor\":\"white\",\"lakecolor\":\"white\",\"landcolor\":\"#E5ECF6\",\"showlakes\":true,\"showland\":true,\"subunitcolor\":\"white\"},\"hoverlabel\":{\"align\":\"left\"},\"hovermode\":\"closest\",\"mapbox\":{\"style\":\"light\"},\"paper_bgcolor\":\"white\",\"plot_bgcolor\":\"#E5ECF6\",\"polar\":{\"angularaxis\":{\"gridcolor\":\"white\",\"linecolor\":\"white\",\"ticks\":\"\"},\"bgcolor\":\"#E5ECF6\",\"radialaxis\":{\"gridcolor\":\"white\",\"linecolor\":\"white\",\"ticks\":\"\"}},\"scene\":{\"xaxis\":{\"backgroundcolor\":\"#E5ECF6\",\"gridcolor\":\"white\",\"gridwidth\":2,\"linecolor\":\"white\",\"showbackground\":true,\"ticks\":\"\",\"zerolinecolor\":\"white\"},\"yaxis\":{\"backgroundcolor\":\"#E5ECF6\",\"gridcolor\":\"white\",\"gridwidth\":2,\"linecolor\":\"white\",\"showbackground\":true,\"ticks\":\"\",\"zerolinecolor\":\"white\"},\"zaxis\":{\"backgroundcolor\":\"#E5ECF6\",\"gridcolor\":\"white\",\"gridwidth\":2,\"linecolor\":\"white\",\"showbackground\":true,\"ticks\":\"\",\"zerolinecolor\":\"white\"}},\"shapedefaults\":{\"line\":{\"color\":\"#2a3f5f\"}},\"ternary\":{\"aaxis\":{\"gridcolor\":\"white\",\"linecolor\":\"white\",\"ticks\":\"\"},\"baxis\":{\"gridcolor\":\"white\",\"linecolor\":\"white\",\"ticks\":\"\"},\"bgcolor\":\"#E5ECF6\",\"caxis\":{\"gridcolor\":\"white\",\"linecolor\":\"white\",\"ticks\":\"\"}},\"title\":{\"x\":0.05},\"xaxis\":{\"automargin\":true,\"gridcolor\":\"white\",\"linecolor\":\"white\",\"ticks\":\"\",\"title\":{\"standoff\":15},\"zerolinecolor\":\"white\",\"zerolinewidth\":2},\"yaxis\":{\"automargin\":true,\"gridcolor\":\"white\",\"linecolor\":\"white\",\"ticks\":\"\",\"title\":{\"standoff\":15},\"zerolinecolor\":\"white\",\"zerolinewidth\":2}}},\"title\":{\"font\":{\"color\":\"black\",\"family\":\"Courier\",\"size\":20},\"text\":\"Most commonly perscribed medication by state (US, 2014)\"}},                        {\"responsive\": true}                    ).then(function(){\n",
       "                            \n",
       "var gd = document.getElementById('6099be5b-31a5-421b-aa12-ea5ed03ca520');\n",
       "var x = new MutationObserver(function (mutations, observer) {{\n",
       "        var display = window.getComputedStyle(gd).display;\n",
       "        if (!display || display === 'none') {{\n",
       "            console.log([gd, 'removed!']);\n",
       "            Plotly.purge(gd);\n",
       "            observer.disconnect();\n",
       "        }}\n",
       "}});\n",
       "\n",
       "// Listen for the removal of the full notebook cells\n",
       "var notebookContainer = gd.closest('#notebook-container');\n",
       "if (notebookContainer) {{\n",
       "    x.observe(notebookContainer, {childList: true});\n",
       "}}\n",
       "\n",
       "// Listen for the clearing of the current output cell\n",
       "var outputEl = gd.closest('.output');\n",
       "if (outputEl) {{\n",
       "    x.observe(outputEl, {childList: true});\n",
       "}}\n",
       "\n",
       "                        })                };                });            </script>        </div>"
      ]
     },
     "metadata": {},
     "output_type": "display_data"
    }
   ],
   "source": [
    "fig = px.choropleth(most_common_perscription,   \n",
    "                                   locations=\"state\",   \n",
    "                                  color=\"medication_perscribed\",   \n",
    "                                  hover_name=\"state\", \n",
    "                                  hover_data = {\"medication_perscribed\": True, \"state\" : False, \"num_perscribed\": True},\n",
    "                                  locationmode = 'USA-states')\n",
    "\n",
    "fig.update_layout(height=300,\n",
    "                                margin={'r':0, 't':40, 'l':0 ,'b':20},\n",
    "                                title_text = 'Most commonly perscribed medication by state (US, 2014)',\n",
    "                                geo_scope='world',\n",
    "                                title=dict(\n",
    "                                font=dict(family=\"Courier\",\n",
    "                                                  size=20, \n",
    "                                                  color='black')),\n",
    "                                legend=dict(x=1,y=0.5,\n",
    "                                                       title=None,\n",
    "                                                        traceorder=\"reversed\",\n",
    "                                                        font=dict(family=\"Courier\",\n",
    "                                                                          size=16,\n",
    "                                                                          color=\"black\"),\n",
    "                                                        bgcolor=\"white\",\n",
    "                                                        bordercolor=\"Black\",\n",
    "                                                        borderwidth=2))\n",
    "\n",
    "fig.update_geos(projection_type=\"natural earth\")\n",
    "\n",
    "fig.show()  # Output the plot to the screen"
   ]
  },
  {
   "cell_type": "markdown",
   "metadata": {
    "hidden": true
   },
   "source": [
    "Fig. 3: By using a choropleth, we can plot without needing to worry about missing latitude and longitude data. Notice that this type of viz reveals regional distributions in a way that the bar chart doesn't. "
   ]
  },
  {
   "cell_type": "markdown",
   "metadata": {
    "heading_collapsed": true
   },
   "source": [
    "#### Question of interest: Inpatient + outpatient charges"
   ]
  },
  {
   "cell_type": "code",
   "execution_count": 456,
   "metadata": {
    "ExecuteTime": {
     "end_time": "2021-06-25T18:04:07.471057Z",
     "start_time": "2021-06-25T18:04:04.282220Z"
    },
    "hidden": true
   },
   "outputs": [
    {
     "data": {
      "text/plain": [
       "[SchemaField('drg_definition', 'STRING', 'REQUIRED', 'The code and description identifying the MS-DRG. MS-DRGs are a classification system that groups similar clinical conditions (diagnoses) and the procedures furnished by the hospital during the stay', (), None),\n",
       " SchemaField('provider_id', 'INTEGER', 'REQUIRED', 'The CMS Certification Number (CCN) of the provider billing for outpatient hospital services', (), None),\n",
       " SchemaField('provider_name', 'STRING', 'NULLABLE', 'The name of the provider', (), None),\n",
       " SchemaField('provider_street_address', 'STRING', 'NULLABLE', 'The street address in which the provider is physically located', (), None),\n",
       " SchemaField('provider_city', 'STRING', 'NULLABLE', 'The city in which the provider is physically located', (), None),\n",
       " SchemaField('provider_state', 'STRING', 'NULLABLE', 'The state in which the provider is physically located', (), None),\n",
       " SchemaField('provider_zipcode', 'INTEGER', 'NULLABLE', 'The zip code in which the provider is physically located', (), None),\n",
       " SchemaField('hospital_referral_region_description', 'STRING', 'NULLABLE', 'The Hospital Referral Region (HRR) in which the provider is physically located', (), None),\n",
       " SchemaField('total_discharges', 'INTEGER', 'NULLABLE', 'The number of discharges billed by the provider for inpatient hospital services', (), None),\n",
       " SchemaField('average_covered_charges', 'FLOAT', 'NULLABLE', \"The provider's average charge for services covered by Medicare for all discharges in the MS-DRG. These will vary from hospital to hospital because of differences in hospital charge structures\", (), None),\n",
       " SchemaField('average_total_payments', 'FLOAT', 'NULLABLE', 'The average total payments to all providers for the MS-DRG including the MSDRG amount, teaching, disproportionate share, capital, and outlier payments for all cases. Also included 5 in average total payments are co-payment and deductible amounts that the patient is responsible for and any additional payments by third parties for coordination of benefits', (), None),\n",
       " SchemaField('average_medicare_payments', 'FLOAT', 'NULLABLE', \"The average amount that Medicare pays to the provider for Medicare's share of the MS-DRG. Average Medicare payment amounts include the MS-DRG amount, teaching, disproportionate share, capital, and outlier payments for all cases. Medicare payments DO NOT include beneficiary co-payments and deductible amounts nor any additional payments from third parties for coordination of benefits.\", (), None)]"
      ]
     },
     "execution_count": 456,
     "metadata": {},
     "output_type": "execute_result"
    }
   ],
   "source": [
    "# Construct a reference to a given table\n",
    "table_ref_2011_inpatient = dataset_ref.table(\"inpatient_charges_2011\")\n",
    "\n",
    "# API request - fetch the table\n",
    "table_2011_inpatient = client.get_table(table_ref_2011_inpatient)\n",
    "table_2011_inpatient.schema"
   ]
  },
  {
   "cell_type": "code",
   "execution_count": 459,
   "metadata": {
    "ExecuteTime": {
     "end_time": "2021-06-25T21:07:41.157873Z",
     "start_time": "2021-06-25T21:07:37.916956Z"
    },
    "hidden": true,
    "scrolled": true
   },
   "outputs": [
    {
     "name": "stderr",
     "output_type": "stream",
     "text": [
      "/Users/Isabel/opt/anaconda3/lib/python3.8/site-packages/google/cloud/bigquery/table.py:1860: UserWarning:\n",
      "\n",
      "Cannot use bqstorage_client if max_results is set, reverting to fetching data with the REST endpoint.\n",
      "\n"
     ]
    },
    {
     "data": {
      "text/html": [
       "<div>\n",
       "<style scoped>\n",
       "    .dataframe tbody tr th:only-of-type {\n",
       "        vertical-align: middle;\n",
       "    }\n",
       "\n",
       "    .dataframe tbody tr th {\n",
       "        vertical-align: top;\n",
       "    }\n",
       "\n",
       "    .dataframe thead th {\n",
       "        text-align: right;\n",
       "    }\n",
       "</style>\n",
       "<table border=\"1\" class=\"dataframe\">\n",
       "  <thead>\n",
       "    <tr style=\"text-align: right;\">\n",
       "      <th></th>\n",
       "      <th>drg_definition</th>\n",
       "      <th>provider_id</th>\n",
       "      <th>provider_name</th>\n",
       "      <th>provider_street_address</th>\n",
       "      <th>provider_city</th>\n",
       "      <th>provider_state</th>\n",
       "      <th>provider_zipcode</th>\n",
       "      <th>hospital_referral_region_description</th>\n",
       "      <th>total_discharges</th>\n",
       "      <th>average_covered_charges</th>\n",
       "      <th>average_total_payments</th>\n",
       "      <th>average_medicare_payments</th>\n",
       "    </tr>\n",
       "  </thead>\n",
       "  <tbody>\n",
       "    <tr>\n",
       "      <th>0</th>\n",
       "      <td>418 - LAPAROSCOPIC CHOLECYSTECTOMY W/O C.D.E. ...</td>\n",
       "      <td>20001</td>\n",
       "      <td>PROVIDENCE ALASKA MEDICAL CENTER</td>\n",
       "      <td>BOX 196604</td>\n",
       "      <td>ANCHORAGE</td>\n",
       "      <td>AK</td>\n",
       "      <td>99519</td>\n",
       "      <td>AK - Anchorage</td>\n",
       "      <td>15</td>\n",
       "      <td>51772.20000</td>\n",
       "      <td>14947.80000</td>\n",
       "      <td>12831.333330</td>\n",
       "    </tr>\n",
       "    <tr>\n",
       "      <th>1</th>\n",
       "      <td>481 - HIP &amp; FEMUR PROCEDURES EXCEPT MAJOR JOIN...</td>\n",
       "      <td>20001</td>\n",
       "      <td>PROVIDENCE ALASKA MEDICAL CENTER</td>\n",
       "      <td>BOX 196604</td>\n",
       "      <td>ANCHORAGE</td>\n",
       "      <td>AK</td>\n",
       "      <td>99519</td>\n",
       "      <td>AK - Anchorage</td>\n",
       "      <td>26</td>\n",
       "      <td>66346.50000</td>\n",
       "      <td>16523.88462</td>\n",
       "      <td>15662.961540</td>\n",
       "    </tr>\n",
       "    <tr>\n",
       "      <th>2</th>\n",
       "      <td>473 - CERVICAL SPINAL FUSION W/O CC/MCC</td>\n",
       "      <td>20001</td>\n",
       "      <td>PROVIDENCE ALASKA MEDICAL CENTER</td>\n",
       "      <td>BOX 196604</td>\n",
       "      <td>ANCHORAGE</td>\n",
       "      <td>AK</td>\n",
       "      <td>99519</td>\n",
       "      <td>AK - Anchorage</td>\n",
       "      <td>38</td>\n",
       "      <td>46312.21053</td>\n",
       "      <td>17798.55263</td>\n",
       "      <td>16117.815790</td>\n",
       "    </tr>\n",
       "    <tr>\n",
       "      <th>3</th>\n",
       "      <td>871 - SEPTICEMIA OR SEVERE SEPSIS W/O MV 96+ H...</td>\n",
       "      <td>20001</td>\n",
       "      <td>PROVIDENCE ALASKA MEDICAL CENTER</td>\n",
       "      <td>BOX 196604</td>\n",
       "      <td>ANCHORAGE</td>\n",
       "      <td>AK</td>\n",
       "      <td>99519</td>\n",
       "      <td>AK - Anchorage</td>\n",
       "      <td>82</td>\n",
       "      <td>64126.21951</td>\n",
       "      <td>20012.18293</td>\n",
       "      <td>16658.609760</td>\n",
       "    </tr>\n",
       "    <tr>\n",
       "      <th>4</th>\n",
       "      <td>065 - INTRACRANIAL HEMORRHAGE OR CEREBRAL INFA...</td>\n",
       "      <td>20001</td>\n",
       "      <td>PROVIDENCE ALASKA MEDICAL CENTER</td>\n",
       "      <td>BOX 196604</td>\n",
       "      <td>ANCHORAGE</td>\n",
       "      <td>AK</td>\n",
       "      <td>99519</td>\n",
       "      <td>AK - Anchorage</td>\n",
       "      <td>72</td>\n",
       "      <td>47362.62500</td>\n",
       "      <td>10424.84722</td>\n",
       "      <td>9364.027778</td>\n",
       "    </tr>\n",
       "  </tbody>\n",
       "</table>\n",
       "</div>"
      ],
      "text/plain": [
       "                                      drg_definition  provider_id  \\\n",
       "0  418 - LAPAROSCOPIC CHOLECYSTECTOMY W/O C.D.E. ...        20001   \n",
       "1  481 - HIP & FEMUR PROCEDURES EXCEPT MAJOR JOIN...        20001   \n",
       "2            473 - CERVICAL SPINAL FUSION W/O CC/MCC        20001   \n",
       "3  871 - SEPTICEMIA OR SEVERE SEPSIS W/O MV 96+ H...        20001   \n",
       "4  065 - INTRACRANIAL HEMORRHAGE OR CEREBRAL INFA...        20001   \n",
       "\n",
       "                      provider_name provider_street_address provider_city  \\\n",
       "0  PROVIDENCE ALASKA MEDICAL CENTER              BOX 196604     ANCHORAGE   \n",
       "1  PROVIDENCE ALASKA MEDICAL CENTER              BOX 196604     ANCHORAGE   \n",
       "2  PROVIDENCE ALASKA MEDICAL CENTER              BOX 196604     ANCHORAGE   \n",
       "3  PROVIDENCE ALASKA MEDICAL CENTER              BOX 196604     ANCHORAGE   \n",
       "4  PROVIDENCE ALASKA MEDICAL CENTER              BOX 196604     ANCHORAGE   \n",
       "\n",
       "  provider_state  provider_zipcode hospital_referral_region_description  \\\n",
       "0             AK             99519                       AK - Anchorage   \n",
       "1             AK             99519                       AK - Anchorage   \n",
       "2             AK             99519                       AK - Anchorage   \n",
       "3             AK             99519                       AK - Anchorage   \n",
       "4             AK             99519                       AK - Anchorage   \n",
       "\n",
       "   total_discharges  average_covered_charges  average_total_payments  \\\n",
       "0                15              51772.20000             14947.80000   \n",
       "1                26              66346.50000             16523.88462   \n",
       "2                38              46312.21053             17798.55263   \n",
       "3                82              64126.21951             20012.18293   \n",
       "4                72              47362.62500             10424.84722   \n",
       "\n",
       "   average_medicare_payments  \n",
       "0               12831.333330  \n",
       "1               15662.961540  \n",
       "2               16117.815790  \n",
       "3               16658.609760  \n",
       "4                9364.027778  "
      ]
     },
     "execution_count": 459,
     "metadata": {},
     "output_type": "execute_result"
    }
   ],
   "source": [
    "client.list_rows(table_2011_inpatient, max_results=5).to_dataframe()"
   ]
  },
  {
   "cell_type": "markdown",
   "metadata": {},
   "source": [
    "### Pulling in state population dataset\n",
    "\n",
    "More info on where this came from."
   ]
  },
  {
   "cell_type": "markdown",
   "metadata": {
    "heading_collapsed": true
   },
   "source": [
    "#### Total number of perscriptions by state"
   ]
  },
  {
   "cell_type": "code",
   "execution_count": 471,
   "metadata": {
    "ExecuteTime": {
     "end_time": "2021-06-25T23:04:17.290266Z",
     "start_time": "2021-06-25T23:04:17.230948Z"
    },
    "hidden": true
   },
   "outputs": [],
   "source": [
    "nst_est_data = pd.read_csv(\"../data/nst-est2014-01-cleaned.csv\", usecols=[\"Abbrv.\",\n",
    "                                                                \"2011.0\",\"2012.0\",\"2013.0\",\"2014.0\"])\n",
    "\n",
    "nst_est_data.columns = [\"state\", \"est_pop_2011\", \"est_pop_2012\", \"est_pop_2013\", \"est_pop_2014\"]"
   ]
  },
  {
   "cell_type": "code",
   "execution_count": 472,
   "metadata": {
    "ExecuteTime": {
     "end_time": "2021-06-25T23:04:20.150692Z",
     "start_time": "2021-06-25T23:04:20.110244Z"
    },
    "hidden": true
   },
   "outputs": [
    {
     "data": {
      "text/html": [
       "<div>\n",
       "<style scoped>\n",
       "    .dataframe tbody tr th:only-of-type {\n",
       "        vertical-align: middle;\n",
       "    }\n",
       "\n",
       "    .dataframe tbody tr th {\n",
       "        vertical-align: top;\n",
       "    }\n",
       "\n",
       "    .dataframe thead th {\n",
       "        text-align: right;\n",
       "    }\n",
       "</style>\n",
       "<table border=\"1\" class=\"dataframe\">\n",
       "  <thead>\n",
       "    <tr style=\"text-align: right;\">\n",
       "      <th></th>\n",
       "      <th>state</th>\n",
       "      <th>est_pop_2011</th>\n",
       "      <th>est_pop_2012</th>\n",
       "      <th>est_pop_2013</th>\n",
       "      <th>est_pop_2014</th>\n",
       "    </tr>\n",
       "  </thead>\n",
       "  <tbody>\n",
       "    <tr>\n",
       "      <th>0</th>\n",
       "      <td>AL</td>\n",
       "      <td>4799069.0</td>\n",
       "      <td>4815588.0</td>\n",
       "      <td>4830081.0</td>\n",
       "      <td>4841799.0</td>\n",
       "    </tr>\n",
       "    <tr>\n",
       "      <th>1</th>\n",
       "      <td>AK</td>\n",
       "      <td>722128.0</td>\n",
       "      <td>730443.0</td>\n",
       "      <td>737068.0</td>\n",
       "      <td>736283.0</td>\n",
       "    </tr>\n",
       "    <tr>\n",
       "      <th>2</th>\n",
       "      <td>AZ</td>\n",
       "      <td>6472643.0</td>\n",
       "      <td>6554978.0</td>\n",
       "      <td>6632764.0</td>\n",
       "      <td>6730413.0</td>\n",
       "    </tr>\n",
       "    <tr>\n",
       "      <th>3</th>\n",
       "      <td>AR</td>\n",
       "      <td>2940667.0</td>\n",
       "      <td>2952164.0</td>\n",
       "      <td>2959400.0</td>\n",
       "      <td>2967392.0</td>\n",
       "    </tr>\n",
       "    <tr>\n",
       "      <th>4</th>\n",
       "      <td>CA</td>\n",
       "      <td>37638369.0</td>\n",
       "      <td>37948800.0</td>\n",
       "      <td>38260787.0</td>\n",
       "      <td>38596972.0</td>\n",
       "    </tr>\n",
       "    <tr>\n",
       "      <th>5</th>\n",
       "      <td>CO</td>\n",
       "      <td>5121108.0</td>\n",
       "      <td>5192647.0</td>\n",
       "      <td>5269035.0</td>\n",
       "      <td>5350101.0</td>\n",
       "    </tr>\n",
       "    <tr>\n",
       "      <th>6</th>\n",
       "      <td>CT</td>\n",
       "      <td>3588283.0</td>\n",
       "      <td>3594547.0</td>\n",
       "      <td>3594841.0</td>\n",
       "      <td>3594524.0</td>\n",
       "    </tr>\n",
       "    <tr>\n",
       "      <th>7</th>\n",
       "      <td>DE</td>\n",
       "      <td>907381.0</td>\n",
       "      <td>915179.0</td>\n",
       "      <td>923576.0</td>\n",
       "      <td>932487.0</td>\n",
       "    </tr>\n",
       "    <tr>\n",
       "      <th>8</th>\n",
       "      <td>DC</td>\n",
       "      <td>619800.0</td>\n",
       "      <td>634924.0</td>\n",
       "      <td>650581.0</td>\n",
       "      <td>662328.0</td>\n",
       "    </tr>\n",
       "    <tr>\n",
       "      <th>9</th>\n",
       "      <td>FL</td>\n",
       "      <td>19053237.0</td>\n",
       "      <td>19297822.0</td>\n",
       "      <td>19545621.0</td>\n",
       "      <td>19845911.0</td>\n",
       "    </tr>\n",
       "    <tr>\n",
       "      <th>10</th>\n",
       "      <td>GA</td>\n",
       "      <td>9802431.0</td>\n",
       "      <td>9901430.0</td>\n",
       "      <td>9972479.0</td>\n",
       "      <td>10067278.0</td>\n",
       "    </tr>\n",
       "    <tr>\n",
       "      <th>11</th>\n",
       "      <td>HI</td>\n",
       "      <td>1379329.0</td>\n",
       "      <td>1394804.0</td>\n",
       "      <td>1408243.0</td>\n",
       "      <td>1414538.0</td>\n",
       "    </tr>\n",
       "    <tr>\n",
       "      <th>12</th>\n",
       "      <td>ID</td>\n",
       "      <td>1583910.0</td>\n",
       "      <td>1595324.0</td>\n",
       "      <td>1611206.0</td>\n",
       "      <td>1631112.0</td>\n",
       "    </tr>\n",
       "    <tr>\n",
       "      <th>13</th>\n",
       "      <td>IL</td>\n",
       "      <td>12867454.0</td>\n",
       "      <td>12882510.0</td>\n",
       "      <td>12895129.0</td>\n",
       "      <td>12884493.0</td>\n",
       "    </tr>\n",
       "    <tr>\n",
       "      <th>14</th>\n",
       "      <td>IN</td>\n",
       "      <td>6516528.0</td>\n",
       "      <td>6537703.0</td>\n",
       "      <td>6568713.0</td>\n",
       "      <td>6593644.0</td>\n",
       "    </tr>\n",
       "    <tr>\n",
       "      <th>15</th>\n",
       "      <td>IA</td>\n",
       "      <td>3066336.0</td>\n",
       "      <td>3076190.0</td>\n",
       "      <td>3092997.0</td>\n",
       "      <td>3109350.0</td>\n",
       "    </tr>\n",
       "    <tr>\n",
       "      <th>16</th>\n",
       "      <td>KS</td>\n",
       "      <td>2869225.0</td>\n",
       "      <td>2885257.0</td>\n",
       "      <td>2893212.0</td>\n",
       "      <td>2900475.0</td>\n",
       "    </tr>\n",
       "    <tr>\n",
       "      <th>17</th>\n",
       "      <td>KY</td>\n",
       "      <td>4369821.0</td>\n",
       "      <td>4386346.0</td>\n",
       "      <td>4404659.0</td>\n",
       "      <td>4414349.0</td>\n",
       "    </tr>\n",
       "    <tr>\n",
       "      <th>18</th>\n",
       "      <td>LA</td>\n",
       "      <td>4575625.0</td>\n",
       "      <td>4600972.0</td>\n",
       "      <td>4624527.0</td>\n",
       "      <td>4644013.0</td>\n",
       "    </tr>\n",
       "    <tr>\n",
       "      <th>19</th>\n",
       "      <td>ME</td>\n",
       "      <td>1328284.0</td>\n",
       "      <td>1327729.0</td>\n",
       "      <td>1328009.0</td>\n",
       "      <td>1330513.0</td>\n",
       "    </tr>\n",
       "    <tr>\n",
       "      <th>20</th>\n",
       "      <td>MD</td>\n",
       "      <td>5839419.0</td>\n",
       "      <td>5886992.0</td>\n",
       "      <td>5923188.0</td>\n",
       "      <td>5957283.0</td>\n",
       "    </tr>\n",
       "    <tr>\n",
       "      <th>21</th>\n",
       "      <td>MA</td>\n",
       "      <td>6613583.0</td>\n",
       "      <td>6663005.0</td>\n",
       "      <td>6713315.0</td>\n",
       "      <td>6762596.0</td>\n",
       "    </tr>\n",
       "    <tr>\n",
       "      <th>22</th>\n",
       "      <td>MI</td>\n",
       "      <td>9882412.0</td>\n",
       "      <td>9897145.0</td>\n",
       "      <td>9913065.0</td>\n",
       "      <td>9929848.0</td>\n",
       "    </tr>\n",
       "    <tr>\n",
       "      <th>23</th>\n",
       "      <td>MN</td>\n",
       "      <td>5346143.0</td>\n",
       "      <td>5376643.0</td>\n",
       "      <td>5413479.0</td>\n",
       "      <td>5451079.0</td>\n",
       "    </tr>\n",
       "    <tr>\n",
       "      <th>24</th>\n",
       "      <td>MS</td>\n",
       "      <td>2978731.0</td>\n",
       "      <td>2983816.0</td>\n",
       "      <td>2988711.0</td>\n",
       "      <td>2990468.0</td>\n",
       "    </tr>\n",
       "    <tr>\n",
       "      <th>25</th>\n",
       "      <td>MO</td>\n",
       "      <td>6010275.0</td>\n",
       "      <td>6024367.0</td>\n",
       "      <td>6040715.0</td>\n",
       "      <td>6056202.0</td>\n",
       "    </tr>\n",
       "    <tr>\n",
       "      <th>26</th>\n",
       "      <td>MT</td>\n",
       "      <td>997316.0</td>\n",
       "      <td>1003783.0</td>\n",
       "      <td>1013569.0</td>\n",
       "      <td>1021869.0</td>\n",
       "    </tr>\n",
       "    <tr>\n",
       "      <th>27</th>\n",
       "      <td>NE</td>\n",
       "      <td>1840672.0</td>\n",
       "      <td>1853303.0</td>\n",
       "      <td>1865279.0</td>\n",
       "      <td>1879321.0</td>\n",
       "    </tr>\n",
       "    <tr>\n",
       "      <th>28</th>\n",
       "      <td>NV</td>\n",
       "      <td>2712730.0</td>\n",
       "      <td>2743996.0</td>\n",
       "      <td>2775970.0</td>\n",
       "      <td>2817628.0</td>\n",
       "    </tr>\n",
       "    <tr>\n",
       "      <th>29</th>\n",
       "      <td>NH</td>\n",
       "      <td>1320202.0</td>\n",
       "      <td>1324232.0</td>\n",
       "      <td>1326622.0</td>\n",
       "      <td>1333341.0</td>\n",
       "    </tr>\n",
       "    <tr>\n",
       "      <th>30</th>\n",
       "      <td>NJ</td>\n",
       "      <td>8828117.0</td>\n",
       "      <td>8844942.0</td>\n",
       "      <td>8856972.0</td>\n",
       "      <td>8864525.0</td>\n",
       "    </tr>\n",
       "    <tr>\n",
       "      <th>31</th>\n",
       "      <td>NM</td>\n",
       "      <td>2080450.0</td>\n",
       "      <td>2087309.0</td>\n",
       "      <td>2092273.0</td>\n",
       "      <td>2089568.0</td>\n",
       "    </tr>\n",
       "    <tr>\n",
       "      <th>32</th>\n",
       "      <td>NY</td>\n",
       "      <td>19499241.0</td>\n",
       "      <td>19572932.0</td>\n",
       "      <td>19624447.0</td>\n",
       "      <td>19651049.0</td>\n",
       "    </tr>\n",
       "    <tr>\n",
       "      <th>33</th>\n",
       "      <td>NC</td>\n",
       "      <td>9657592.0</td>\n",
       "      <td>9749476.0</td>\n",
       "      <td>9843336.0</td>\n",
       "      <td>9932887.0</td>\n",
       "    </tr>\n",
       "    <tr>\n",
       "      <th>34</th>\n",
       "      <td>ND</td>\n",
       "      <td>685225.0</td>\n",
       "      <td>701176.0</td>\n",
       "      <td>722036.0</td>\n",
       "      <td>737401.0</td>\n",
       "    </tr>\n",
       "    <tr>\n",
       "      <th>35</th>\n",
       "      <td>OH</td>\n",
       "      <td>11544663.0</td>\n",
       "      <td>11548923.0</td>\n",
       "      <td>11576684.0</td>\n",
       "      <td>11602700.0</td>\n",
       "    </tr>\n",
       "    <tr>\n",
       "      <th>36</th>\n",
       "      <td>OK</td>\n",
       "      <td>3788379.0</td>\n",
       "      <td>3818814.0</td>\n",
       "      <td>3853214.0</td>\n",
       "      <td>3878187.0</td>\n",
       "    </tr>\n",
       "    <tr>\n",
       "      <th>37</th>\n",
       "      <td>OR</td>\n",
       "      <td>3872036.0</td>\n",
       "      <td>3899001.0</td>\n",
       "      <td>3922468.0</td>\n",
       "      <td>3963244.0</td>\n",
       "    </tr>\n",
       "    <tr>\n",
       "      <th>38</th>\n",
       "      <td>PA</td>\n",
       "      <td>12745815.0</td>\n",
       "      <td>12767118.0</td>\n",
       "      <td>12776309.0</td>\n",
       "      <td>12788313.0</td>\n",
       "    </tr>\n",
       "    <tr>\n",
       "      <th>39</th>\n",
       "      <td>RI</td>\n",
       "      <td>1053649.0</td>\n",
       "      <td>1054621.0</td>\n",
       "      <td>1055081.0</td>\n",
       "      <td>1055936.0</td>\n",
       "    </tr>\n",
       "    <tr>\n",
       "      <th>40</th>\n",
       "      <td>SC</td>\n",
       "      <td>4671994.0</td>\n",
       "      <td>4717354.0</td>\n",
       "      <td>4764080.0</td>\n",
       "      <td>4823617.0</td>\n",
       "    </tr>\n",
       "    <tr>\n",
       "      <th>41</th>\n",
       "      <td>SD</td>\n",
       "      <td>823579.0</td>\n",
       "      <td>833566.0</td>\n",
       "      <td>842316.0</td>\n",
       "      <td>849129.0</td>\n",
       "    </tr>\n",
       "    <tr>\n",
       "      <th>42</th>\n",
       "      <td>TN</td>\n",
       "      <td>6399291.0</td>\n",
       "      <td>6453898.0</td>\n",
       "      <td>6494340.0</td>\n",
       "      <td>6541223.0</td>\n",
       "    </tr>\n",
       "    <tr>\n",
       "      <th>43</th>\n",
       "      <td>TX</td>\n",
       "      <td>25645629.0</td>\n",
       "      <td>26084481.0</td>\n",
       "      <td>26480266.0</td>\n",
       "      <td>26964333.0</td>\n",
       "    </tr>\n",
       "    <tr>\n",
       "      <th>44</th>\n",
       "      <td>UT</td>\n",
       "      <td>2814384.0</td>\n",
       "      <td>2853375.0</td>\n",
       "      <td>2897640.0</td>\n",
       "      <td>2936879.0</td>\n",
       "    </tr>\n",
       "    <tr>\n",
       "      <th>45</th>\n",
       "      <td>VT</td>\n",
       "      <td>627049.0</td>\n",
       "      <td>626090.0</td>\n",
       "      <td>626210.0</td>\n",
       "      <td>625214.0</td>\n",
       "    </tr>\n",
       "    <tr>\n",
       "      <th>46</th>\n",
       "      <td>VA</td>\n",
       "      <td>8101155.0</td>\n",
       "      <td>8185080.0</td>\n",
       "      <td>8252427.0</td>\n",
       "      <td>8310993.0</td>\n",
       "    </tr>\n",
       "    <tr>\n",
       "      <th>47</th>\n",
       "      <td>WA</td>\n",
       "      <td>6826627.0</td>\n",
       "      <td>6897058.0</td>\n",
       "      <td>6963985.0</td>\n",
       "      <td>7054655.0</td>\n",
       "    </tr>\n",
       "    <tr>\n",
       "      <th>48</th>\n",
       "      <td>WV</td>\n",
       "      <td>1856301.0</td>\n",
       "      <td>1856872.0</td>\n",
       "      <td>1853914.0</td>\n",
       "      <td>1849489.0</td>\n",
       "    </tr>\n",
       "    <tr>\n",
       "      <th>49</th>\n",
       "      <td>WI</td>\n",
       "      <td>5705288.0</td>\n",
       "      <td>5719960.0</td>\n",
       "      <td>5736754.0</td>\n",
       "      <td>5751525.0</td>\n",
       "    </tr>\n",
       "    <tr>\n",
       "      <th>50</th>\n",
       "      <td>WY</td>\n",
       "      <td>567299.0</td>\n",
       "      <td>576305.0</td>\n",
       "      <td>582122.0</td>\n",
       "      <td>582531.0</td>\n",
       "    </tr>\n",
       "  </tbody>\n",
       "</table>\n",
       "</div>"
      ],
      "text/plain": [
       "   state  est_pop_2011  est_pop_2012  est_pop_2013  est_pop_2014\n",
       "0     AL     4799069.0     4815588.0     4830081.0     4841799.0\n",
       "1     AK      722128.0      730443.0      737068.0      736283.0\n",
       "2     AZ     6472643.0     6554978.0     6632764.0     6730413.0\n",
       "3     AR     2940667.0     2952164.0     2959400.0     2967392.0\n",
       "4     CA    37638369.0    37948800.0    38260787.0    38596972.0\n",
       "5     CO     5121108.0     5192647.0     5269035.0     5350101.0\n",
       "6     CT     3588283.0     3594547.0     3594841.0     3594524.0\n",
       "7     DE      907381.0      915179.0      923576.0      932487.0\n",
       "8     DC      619800.0      634924.0      650581.0      662328.0\n",
       "9     FL    19053237.0    19297822.0    19545621.0    19845911.0\n",
       "10    GA     9802431.0     9901430.0     9972479.0    10067278.0\n",
       "11    HI     1379329.0     1394804.0     1408243.0     1414538.0\n",
       "12    ID     1583910.0     1595324.0     1611206.0     1631112.0\n",
       "13    IL    12867454.0    12882510.0    12895129.0    12884493.0\n",
       "14    IN     6516528.0     6537703.0     6568713.0     6593644.0\n",
       "15    IA     3066336.0     3076190.0     3092997.0     3109350.0\n",
       "16    KS     2869225.0     2885257.0     2893212.0     2900475.0\n",
       "17    KY     4369821.0     4386346.0     4404659.0     4414349.0\n",
       "18    LA     4575625.0     4600972.0     4624527.0     4644013.0\n",
       "19    ME     1328284.0     1327729.0     1328009.0     1330513.0\n",
       "20    MD     5839419.0     5886992.0     5923188.0     5957283.0\n",
       "21    MA     6613583.0     6663005.0     6713315.0     6762596.0\n",
       "22    MI     9882412.0     9897145.0     9913065.0     9929848.0\n",
       "23    MN     5346143.0     5376643.0     5413479.0     5451079.0\n",
       "24    MS     2978731.0     2983816.0     2988711.0     2990468.0\n",
       "25    MO     6010275.0     6024367.0     6040715.0     6056202.0\n",
       "26    MT      997316.0     1003783.0     1013569.0     1021869.0\n",
       "27    NE     1840672.0     1853303.0     1865279.0     1879321.0\n",
       "28    NV     2712730.0     2743996.0     2775970.0     2817628.0\n",
       "29    NH     1320202.0     1324232.0     1326622.0     1333341.0\n",
       "30    NJ     8828117.0     8844942.0     8856972.0     8864525.0\n",
       "31    NM     2080450.0     2087309.0     2092273.0     2089568.0\n",
       "32    NY    19499241.0    19572932.0    19624447.0    19651049.0\n",
       "33    NC     9657592.0     9749476.0     9843336.0     9932887.0\n",
       "34    ND      685225.0      701176.0      722036.0      737401.0\n",
       "35    OH    11544663.0    11548923.0    11576684.0    11602700.0\n",
       "36    OK     3788379.0     3818814.0     3853214.0     3878187.0\n",
       "37    OR     3872036.0     3899001.0     3922468.0     3963244.0\n",
       "38    PA    12745815.0    12767118.0    12776309.0    12788313.0\n",
       "39    RI     1053649.0     1054621.0     1055081.0     1055936.0\n",
       "40    SC     4671994.0     4717354.0     4764080.0     4823617.0\n",
       "41    SD      823579.0      833566.0      842316.0      849129.0\n",
       "42    TN     6399291.0     6453898.0     6494340.0     6541223.0\n",
       "43    TX    25645629.0    26084481.0    26480266.0    26964333.0\n",
       "44    UT     2814384.0     2853375.0     2897640.0     2936879.0\n",
       "45    VT      627049.0      626090.0      626210.0      625214.0\n",
       "46    VA     8101155.0     8185080.0     8252427.0     8310993.0\n",
       "47    WA     6826627.0     6897058.0     6963985.0     7054655.0\n",
       "48    WV     1856301.0     1856872.0     1853914.0     1849489.0\n",
       "49    WI     5705288.0     5719960.0     5736754.0     5751525.0\n",
       "50    WY      567299.0      576305.0      582122.0      582531.0"
      ]
     },
     "execution_count": 472,
     "metadata": {},
     "output_type": "execute_result"
    }
   ],
   "source": [
    "nst_est_data"
   ]
  },
  {
   "cell_type": "code",
   "execution_count": 473,
   "metadata": {
    "ExecuteTime": {
     "end_time": "2021-06-25T23:04:31.563815Z",
     "start_time": "2021-06-25T23:04:31.552042Z"
    },
    "hidden": true
   },
   "outputs": [],
   "source": [
    "tot_meds_est_pop_df = pd.merge(tot_meds_per_state_sorted, nst_est_data, on=\"state\")"
   ]
  },
  {
   "cell_type": "code",
   "execution_count": 474,
   "metadata": {
    "ExecuteTime": {
     "end_time": "2021-06-25T23:04:34.070084Z",
     "start_time": "2021-06-25T23:04:33.728570Z"
    },
    "code_folding": [
     0
    ],
    "hidden": true
   },
   "outputs": [
    {
     "data": {
      "application/vnd.plotly.v1+json": {
       "config": {
        "plotlyServerURL": "https://plotly.com"
       },
       "data": [
        {
         "alignmentgroup": "True",
         "hovertemplate": "State=%{x}<br>Number of perscriptions=%{y}<br>est_pop_2014=%{marker.color}<extra></extra>",
         "legendgroup": "",
         "marker": {
          "color": [
           38596972,
           19651049,
           19845911,
           26964333,
           12788313,
           11602700,
           9932887,
           12884493,
           9929848,
           10067278,
           8864525,
           6541223,
           6762596,
           6056202,
           6593644,
           8310993,
           5751525,
           7054655,
           4414349,
           6730413,
           4841799,
           4823617,
           5451079,
           4644013,
           5957283,
           3963244,
           5350101,
           3878187,
           3109350,
           3594524,
           2967392,
           2990468,
           2900475,
           1849489,
           1879321,
           2817628,
           1330513,
           2936879,
           2089568,
           1631112,
           1333341,
           1055936,
           1021869,
           1414538,
           849129,
           932487,
           737401,
           625214,
           662328,
           582531,
           736283
          ],
          "coloraxis": "coloraxis",
          "pattern": {
           "shape": ""
          }
         },
         "name": "",
         "offsetgroup": "",
         "orientation": "v",
         "showlegend": false,
         "textposition": "auto",
         "type": "bar",
         "x": [
          "CA",
          "NY",
          "FL",
          "TX",
          "PA",
          "OH",
          "NC",
          "IL",
          "MI",
          "GA",
          "NJ",
          "TN",
          "MA",
          "MO",
          "IN",
          "VA",
          "WI",
          "WA",
          "KY",
          "AZ",
          "AL",
          "SC",
          "MN",
          "LA",
          "MD",
          "OR",
          "CO",
          "OK",
          "IA",
          "CT",
          "AR",
          "MS",
          "KS",
          "WV",
          "NE",
          "NV",
          "ME",
          "UT",
          "NM",
          "ID",
          "NH",
          "RI",
          "MT",
          "HI",
          "SD",
          "DE",
          "ND",
          "VT",
          "DC",
          "WY",
          "AK"
         ],
         "xaxis": "x",
         "y": [
          2314584,
          1650394,
          1611284,
          1472280,
          1229131,
          1001898,
          876333,
          866586,
          824255,
          665139,
          650290,
          634787,
          557205,
          553268,
          536188,
          532061,
          463205,
          458158,
          451310,
          422571,
          416439,
          403898,
          401268,
          394543,
          337520,
          317060,
          310094,
          290348,
          287806,
          285161,
          270039,
          269130,
          245816,
          205156,
          166949,
          149881,
          138406,
          137469,
          131202,
          112699,
          103143,
          100822,
          79668,
          79298,
          75409,
          68645,
          66878,
          53724,
          40966,
          34778,
          28790
         ],
         "yaxis": "y"
        }
       ],
       "layout": {
        "barmode": "relative",
        "coloraxis": {
         "colorbar": {
          "title": {
           "text": "est_pop_2014"
          }
         },
         "colorscale": [
          [
           0,
           "#0d0887"
          ],
          [
           0.1111111111111111,
           "#46039f"
          ],
          [
           0.2222222222222222,
           "#7201a8"
          ],
          [
           0.3333333333333333,
           "#9c179e"
          ],
          [
           0.4444444444444444,
           "#bd3786"
          ],
          [
           0.5555555555555556,
           "#d8576b"
          ],
          [
           0.6666666666666666,
           "#ed7953"
          ],
          [
           0.7777777777777778,
           "#fb9f3a"
          ],
          [
           0.8888888888888888,
           "#fdca26"
          ],
          [
           1,
           "#f0f921"
          ]
         ]
        },
        "legend": {
         "tracegroupgap": 0
        },
        "template": {
         "data": {
          "bar": [
           {
            "error_x": {
             "color": "#2a3f5f"
            },
            "error_y": {
             "color": "#2a3f5f"
            },
            "marker": {
             "line": {
              "color": "#E5ECF6",
              "width": 0.5
             },
             "pattern": {
              "fillmode": "overlay",
              "size": 10,
              "solidity": 0.2
             }
            },
            "type": "bar"
           }
          ],
          "barpolar": [
           {
            "marker": {
             "line": {
              "color": "#E5ECF6",
              "width": 0.5
             },
             "pattern": {
              "fillmode": "overlay",
              "size": 10,
              "solidity": 0.2
             }
            },
            "type": "barpolar"
           }
          ],
          "carpet": [
           {
            "aaxis": {
             "endlinecolor": "#2a3f5f",
             "gridcolor": "white",
             "linecolor": "white",
             "minorgridcolor": "white",
             "startlinecolor": "#2a3f5f"
            },
            "baxis": {
             "endlinecolor": "#2a3f5f",
             "gridcolor": "white",
             "linecolor": "white",
             "minorgridcolor": "white",
             "startlinecolor": "#2a3f5f"
            },
            "type": "carpet"
           }
          ],
          "choropleth": [
           {
            "colorbar": {
             "outlinewidth": 0,
             "ticks": ""
            },
            "type": "choropleth"
           }
          ],
          "contour": [
           {
            "colorbar": {
             "outlinewidth": 0,
             "ticks": ""
            },
            "colorscale": [
             [
              0,
              "#0d0887"
             ],
             [
              0.1111111111111111,
              "#46039f"
             ],
             [
              0.2222222222222222,
              "#7201a8"
             ],
             [
              0.3333333333333333,
              "#9c179e"
             ],
             [
              0.4444444444444444,
              "#bd3786"
             ],
             [
              0.5555555555555556,
              "#d8576b"
             ],
             [
              0.6666666666666666,
              "#ed7953"
             ],
             [
              0.7777777777777778,
              "#fb9f3a"
             ],
             [
              0.8888888888888888,
              "#fdca26"
             ],
             [
              1,
              "#f0f921"
             ]
            ],
            "type": "contour"
           }
          ],
          "contourcarpet": [
           {
            "colorbar": {
             "outlinewidth": 0,
             "ticks": ""
            },
            "type": "contourcarpet"
           }
          ],
          "heatmap": [
           {
            "colorbar": {
             "outlinewidth": 0,
             "ticks": ""
            },
            "colorscale": [
             [
              0,
              "#0d0887"
             ],
             [
              0.1111111111111111,
              "#46039f"
             ],
             [
              0.2222222222222222,
              "#7201a8"
             ],
             [
              0.3333333333333333,
              "#9c179e"
             ],
             [
              0.4444444444444444,
              "#bd3786"
             ],
             [
              0.5555555555555556,
              "#d8576b"
             ],
             [
              0.6666666666666666,
              "#ed7953"
             ],
             [
              0.7777777777777778,
              "#fb9f3a"
             ],
             [
              0.8888888888888888,
              "#fdca26"
             ],
             [
              1,
              "#f0f921"
             ]
            ],
            "type": "heatmap"
           }
          ],
          "heatmapgl": [
           {
            "colorbar": {
             "outlinewidth": 0,
             "ticks": ""
            },
            "colorscale": [
             [
              0,
              "#0d0887"
             ],
             [
              0.1111111111111111,
              "#46039f"
             ],
             [
              0.2222222222222222,
              "#7201a8"
             ],
             [
              0.3333333333333333,
              "#9c179e"
             ],
             [
              0.4444444444444444,
              "#bd3786"
             ],
             [
              0.5555555555555556,
              "#d8576b"
             ],
             [
              0.6666666666666666,
              "#ed7953"
             ],
             [
              0.7777777777777778,
              "#fb9f3a"
             ],
             [
              0.8888888888888888,
              "#fdca26"
             ],
             [
              1,
              "#f0f921"
             ]
            ],
            "type": "heatmapgl"
           }
          ],
          "histogram": [
           {
            "marker": {
             "pattern": {
              "fillmode": "overlay",
              "size": 10,
              "solidity": 0.2
             }
            },
            "type": "histogram"
           }
          ],
          "histogram2d": [
           {
            "colorbar": {
             "outlinewidth": 0,
             "ticks": ""
            },
            "colorscale": [
             [
              0,
              "#0d0887"
             ],
             [
              0.1111111111111111,
              "#46039f"
             ],
             [
              0.2222222222222222,
              "#7201a8"
             ],
             [
              0.3333333333333333,
              "#9c179e"
             ],
             [
              0.4444444444444444,
              "#bd3786"
             ],
             [
              0.5555555555555556,
              "#d8576b"
             ],
             [
              0.6666666666666666,
              "#ed7953"
             ],
             [
              0.7777777777777778,
              "#fb9f3a"
             ],
             [
              0.8888888888888888,
              "#fdca26"
             ],
             [
              1,
              "#f0f921"
             ]
            ],
            "type": "histogram2d"
           }
          ],
          "histogram2dcontour": [
           {
            "colorbar": {
             "outlinewidth": 0,
             "ticks": ""
            },
            "colorscale": [
             [
              0,
              "#0d0887"
             ],
             [
              0.1111111111111111,
              "#46039f"
             ],
             [
              0.2222222222222222,
              "#7201a8"
             ],
             [
              0.3333333333333333,
              "#9c179e"
             ],
             [
              0.4444444444444444,
              "#bd3786"
             ],
             [
              0.5555555555555556,
              "#d8576b"
             ],
             [
              0.6666666666666666,
              "#ed7953"
             ],
             [
              0.7777777777777778,
              "#fb9f3a"
             ],
             [
              0.8888888888888888,
              "#fdca26"
             ],
             [
              1,
              "#f0f921"
             ]
            ],
            "type": "histogram2dcontour"
           }
          ],
          "mesh3d": [
           {
            "colorbar": {
             "outlinewidth": 0,
             "ticks": ""
            },
            "type": "mesh3d"
           }
          ],
          "parcoords": [
           {
            "line": {
             "colorbar": {
              "outlinewidth": 0,
              "ticks": ""
             }
            },
            "type": "parcoords"
           }
          ],
          "pie": [
           {
            "automargin": true,
            "type": "pie"
           }
          ],
          "scatter": [
           {
            "marker": {
             "colorbar": {
              "outlinewidth": 0,
              "ticks": ""
             }
            },
            "type": "scatter"
           }
          ],
          "scatter3d": [
           {
            "line": {
             "colorbar": {
              "outlinewidth": 0,
              "ticks": ""
             }
            },
            "marker": {
             "colorbar": {
              "outlinewidth": 0,
              "ticks": ""
             }
            },
            "type": "scatter3d"
           }
          ],
          "scattercarpet": [
           {
            "marker": {
             "colorbar": {
              "outlinewidth": 0,
              "ticks": ""
             }
            },
            "type": "scattercarpet"
           }
          ],
          "scattergeo": [
           {
            "marker": {
             "colorbar": {
              "outlinewidth": 0,
              "ticks": ""
             }
            },
            "type": "scattergeo"
           }
          ],
          "scattergl": [
           {
            "marker": {
             "colorbar": {
              "outlinewidth": 0,
              "ticks": ""
             }
            },
            "type": "scattergl"
           }
          ],
          "scattermapbox": [
           {
            "marker": {
             "colorbar": {
              "outlinewidth": 0,
              "ticks": ""
             }
            },
            "type": "scattermapbox"
           }
          ],
          "scatterpolar": [
           {
            "marker": {
             "colorbar": {
              "outlinewidth": 0,
              "ticks": ""
             }
            },
            "type": "scatterpolar"
           }
          ],
          "scatterpolargl": [
           {
            "marker": {
             "colorbar": {
              "outlinewidth": 0,
              "ticks": ""
             }
            },
            "type": "scatterpolargl"
           }
          ],
          "scatterternary": [
           {
            "marker": {
             "colorbar": {
              "outlinewidth": 0,
              "ticks": ""
             }
            },
            "type": "scatterternary"
           }
          ],
          "surface": [
           {
            "colorbar": {
             "outlinewidth": 0,
             "ticks": ""
            },
            "colorscale": [
             [
              0,
              "#0d0887"
             ],
             [
              0.1111111111111111,
              "#46039f"
             ],
             [
              0.2222222222222222,
              "#7201a8"
             ],
             [
              0.3333333333333333,
              "#9c179e"
             ],
             [
              0.4444444444444444,
              "#bd3786"
             ],
             [
              0.5555555555555556,
              "#d8576b"
             ],
             [
              0.6666666666666666,
              "#ed7953"
             ],
             [
              0.7777777777777778,
              "#fb9f3a"
             ],
             [
              0.8888888888888888,
              "#fdca26"
             ],
             [
              1,
              "#f0f921"
             ]
            ],
            "type": "surface"
           }
          ],
          "table": [
           {
            "cells": {
             "fill": {
              "color": "#EBF0F8"
             },
             "line": {
              "color": "white"
             }
            },
            "header": {
             "fill": {
              "color": "#C8D4E3"
             },
             "line": {
              "color": "white"
             }
            },
            "type": "table"
           }
          ]
         },
         "layout": {
          "annotationdefaults": {
           "arrowcolor": "#2a3f5f",
           "arrowhead": 0,
           "arrowwidth": 1
          },
          "autotypenumbers": "strict",
          "coloraxis": {
           "colorbar": {
            "outlinewidth": 0,
            "ticks": ""
           }
          },
          "colorscale": {
           "diverging": [
            [
             0,
             "#8e0152"
            ],
            [
             0.1,
             "#c51b7d"
            ],
            [
             0.2,
             "#de77ae"
            ],
            [
             0.3,
             "#f1b6da"
            ],
            [
             0.4,
             "#fde0ef"
            ],
            [
             0.5,
             "#f7f7f7"
            ],
            [
             0.6,
             "#e6f5d0"
            ],
            [
             0.7,
             "#b8e186"
            ],
            [
             0.8,
             "#7fbc41"
            ],
            [
             0.9,
             "#4d9221"
            ],
            [
             1,
             "#276419"
            ]
           ],
           "sequential": [
            [
             0,
             "#0d0887"
            ],
            [
             0.1111111111111111,
             "#46039f"
            ],
            [
             0.2222222222222222,
             "#7201a8"
            ],
            [
             0.3333333333333333,
             "#9c179e"
            ],
            [
             0.4444444444444444,
             "#bd3786"
            ],
            [
             0.5555555555555556,
             "#d8576b"
            ],
            [
             0.6666666666666666,
             "#ed7953"
            ],
            [
             0.7777777777777778,
             "#fb9f3a"
            ],
            [
             0.8888888888888888,
             "#fdca26"
            ],
            [
             1,
             "#f0f921"
            ]
           ],
           "sequentialminus": [
            [
             0,
             "#0d0887"
            ],
            [
             0.1111111111111111,
             "#46039f"
            ],
            [
             0.2222222222222222,
             "#7201a8"
            ],
            [
             0.3333333333333333,
             "#9c179e"
            ],
            [
             0.4444444444444444,
             "#bd3786"
            ],
            [
             0.5555555555555556,
             "#d8576b"
            ],
            [
             0.6666666666666666,
             "#ed7953"
            ],
            [
             0.7777777777777778,
             "#fb9f3a"
            ],
            [
             0.8888888888888888,
             "#fdca26"
            ],
            [
             1,
             "#f0f921"
            ]
           ]
          },
          "colorway": [
           "#636efa",
           "#EF553B",
           "#00cc96",
           "#ab63fa",
           "#FFA15A",
           "#19d3f3",
           "#FF6692",
           "#B6E880",
           "#FF97FF",
           "#FECB52"
          ],
          "font": {
           "color": "#2a3f5f"
          },
          "geo": {
           "bgcolor": "white",
           "lakecolor": "white",
           "landcolor": "#E5ECF6",
           "showlakes": true,
           "showland": true,
           "subunitcolor": "white"
          },
          "hoverlabel": {
           "align": "left"
          },
          "hovermode": "closest",
          "mapbox": {
           "style": "light"
          },
          "paper_bgcolor": "white",
          "plot_bgcolor": "#E5ECF6",
          "polar": {
           "angularaxis": {
            "gridcolor": "white",
            "linecolor": "white",
            "ticks": ""
           },
           "bgcolor": "#E5ECF6",
           "radialaxis": {
            "gridcolor": "white",
            "linecolor": "white",
            "ticks": ""
           }
          },
          "scene": {
           "xaxis": {
            "backgroundcolor": "#E5ECF6",
            "gridcolor": "white",
            "gridwidth": 2,
            "linecolor": "white",
            "showbackground": true,
            "ticks": "",
            "zerolinecolor": "white"
           },
           "yaxis": {
            "backgroundcolor": "#E5ECF6",
            "gridcolor": "white",
            "gridwidth": 2,
            "linecolor": "white",
            "showbackground": true,
            "ticks": "",
            "zerolinecolor": "white"
           },
           "zaxis": {
            "backgroundcolor": "#E5ECF6",
            "gridcolor": "white",
            "gridwidth": 2,
            "linecolor": "white",
            "showbackground": true,
            "ticks": "",
            "zerolinecolor": "white"
           }
          },
          "shapedefaults": {
           "line": {
            "color": "#2a3f5f"
           }
          },
          "ternary": {
           "aaxis": {
            "gridcolor": "white",
            "linecolor": "white",
            "ticks": ""
           },
           "baxis": {
            "gridcolor": "white",
            "linecolor": "white",
            "ticks": ""
           },
           "bgcolor": "#E5ECF6",
           "caxis": {
            "gridcolor": "white",
            "linecolor": "white",
            "ticks": ""
           }
          },
          "title": {
           "x": 0.05
          },
          "xaxis": {
           "automargin": true,
           "gridcolor": "white",
           "linecolor": "white",
           "ticks": "",
           "title": {
            "standoff": 15
           },
           "zerolinecolor": "white",
           "zerolinewidth": 2
          },
          "yaxis": {
           "automargin": true,
           "gridcolor": "white",
           "linecolor": "white",
           "ticks": "",
           "title": {
            "standoff": 15
           },
           "zerolinecolor": "white",
           "zerolinewidth": 2
          }
         }
        },
        "title": {
         "text": "Total number of perscriptions per state (US, 2014)"
        },
        "xaxis": {
         "anchor": "y",
         "domain": [
          0,
          1
         ],
         "title": {
          "text": "State"
         }
        },
        "yaxis": {
         "anchor": "x",
         "domain": [
          0,
          1
         ],
         "title": {
          "text": "Number of perscriptions"
         }
        }
       }
      },
      "text/html": [
       "<div>                            <div id=\"4a7bc1fc-d78f-4e15-bb74-88c482753a40\" class=\"plotly-graph-div\" style=\"height:525px; width:100%;\"></div>            <script type=\"text/javascript\">                require([\"plotly\"], function(Plotly) {                    window.PLOTLYENV=window.PLOTLYENV || {};                                    if (document.getElementById(\"4a7bc1fc-d78f-4e15-bb74-88c482753a40\")) {                    Plotly.newPlot(                        \"4a7bc1fc-d78f-4e15-bb74-88c482753a40\",                        [{\"alignmentgroup\":\"True\",\"hovertemplate\":\"State=%{x}<br>Number of perscriptions=%{y}<br>est_pop_2014=%{marker.color}<extra></extra>\",\"legendgroup\":\"\",\"marker\":{\"color\":[38596972.0,19651049.0,19845911.0,26964333.0,12788313.0,11602700.0,9932887.0,12884493.0,9929848.0,10067278.0,8864525.0,6541223.0,6762596.0,6056202.0,6593644.0,8310993.0,5751525.0,7054655.0,4414349.0,6730413.0,4841799.0,4823617.0,5451079.0,4644013.0,5957283.0,3963244.0,5350101.0,3878187.0,3109350.0,3594524.0,2967392.0,2990468.0,2900475.0,1849489.0,1879321.0,2817628.0,1330513.0,2936879.0,2089568.0,1631112.0,1333341.0,1055936.0,1021869.0,1414538.0,849129.0,932487.0,737401.0,625214.0,662328.0,582531.0,736283.0],\"coloraxis\":\"coloraxis\",\"pattern\":{\"shape\":\"\"}},\"name\":\"\",\"offsetgroup\":\"\",\"orientation\":\"v\",\"showlegend\":false,\"textposition\":\"auto\",\"type\":\"bar\",\"x\":[\"CA\",\"NY\",\"FL\",\"TX\",\"PA\",\"OH\",\"NC\",\"IL\",\"MI\",\"GA\",\"NJ\",\"TN\",\"MA\",\"MO\",\"IN\",\"VA\",\"WI\",\"WA\",\"KY\",\"AZ\",\"AL\",\"SC\",\"MN\",\"LA\",\"MD\",\"OR\",\"CO\",\"OK\",\"IA\",\"CT\",\"AR\",\"MS\",\"KS\",\"WV\",\"NE\",\"NV\",\"ME\",\"UT\",\"NM\",\"ID\",\"NH\",\"RI\",\"MT\",\"HI\",\"SD\",\"DE\",\"ND\",\"VT\",\"DC\",\"WY\",\"AK\"],\"xaxis\":\"x\",\"y\":[2314584,1650394,1611284,1472280,1229131,1001898,876333,866586,824255,665139,650290,634787,557205,553268,536188,532061,463205,458158,451310,422571,416439,403898,401268,394543,337520,317060,310094,290348,287806,285161,270039,269130,245816,205156,166949,149881,138406,137469,131202,112699,103143,100822,79668,79298,75409,68645,66878,53724,40966,34778,28790],\"yaxis\":\"y\"}],                        {\"barmode\":\"relative\",\"coloraxis\":{\"colorbar\":{\"title\":{\"text\":\"est_pop_2014\"}},\"colorscale\":[[0.0,\"#0d0887\"],[0.1111111111111111,\"#46039f\"],[0.2222222222222222,\"#7201a8\"],[0.3333333333333333,\"#9c179e\"],[0.4444444444444444,\"#bd3786\"],[0.5555555555555556,\"#d8576b\"],[0.6666666666666666,\"#ed7953\"],[0.7777777777777778,\"#fb9f3a\"],[0.8888888888888888,\"#fdca26\"],[1.0,\"#f0f921\"]]},\"legend\":{\"tracegroupgap\":0},\"template\":{\"data\":{\"bar\":[{\"error_x\":{\"color\":\"#2a3f5f\"},\"error_y\":{\"color\":\"#2a3f5f\"},\"marker\":{\"line\":{\"color\":\"#E5ECF6\",\"width\":0.5},\"pattern\":{\"fillmode\":\"overlay\",\"size\":10,\"solidity\":0.2}},\"type\":\"bar\"}],\"barpolar\":[{\"marker\":{\"line\":{\"color\":\"#E5ECF6\",\"width\":0.5},\"pattern\":{\"fillmode\":\"overlay\",\"size\":10,\"solidity\":0.2}},\"type\":\"barpolar\"}],\"carpet\":[{\"aaxis\":{\"endlinecolor\":\"#2a3f5f\",\"gridcolor\":\"white\",\"linecolor\":\"white\",\"minorgridcolor\":\"white\",\"startlinecolor\":\"#2a3f5f\"},\"baxis\":{\"endlinecolor\":\"#2a3f5f\",\"gridcolor\":\"white\",\"linecolor\":\"white\",\"minorgridcolor\":\"white\",\"startlinecolor\":\"#2a3f5f\"},\"type\":\"carpet\"}],\"choropleth\":[{\"colorbar\":{\"outlinewidth\":0,\"ticks\":\"\"},\"type\":\"choropleth\"}],\"contour\":[{\"colorbar\":{\"outlinewidth\":0,\"ticks\":\"\"},\"colorscale\":[[0.0,\"#0d0887\"],[0.1111111111111111,\"#46039f\"],[0.2222222222222222,\"#7201a8\"],[0.3333333333333333,\"#9c179e\"],[0.4444444444444444,\"#bd3786\"],[0.5555555555555556,\"#d8576b\"],[0.6666666666666666,\"#ed7953\"],[0.7777777777777778,\"#fb9f3a\"],[0.8888888888888888,\"#fdca26\"],[1.0,\"#f0f921\"]],\"type\":\"contour\"}],\"contourcarpet\":[{\"colorbar\":{\"outlinewidth\":0,\"ticks\":\"\"},\"type\":\"contourcarpet\"}],\"heatmap\":[{\"colorbar\":{\"outlinewidth\":0,\"ticks\":\"\"},\"colorscale\":[[0.0,\"#0d0887\"],[0.1111111111111111,\"#46039f\"],[0.2222222222222222,\"#7201a8\"],[0.3333333333333333,\"#9c179e\"],[0.4444444444444444,\"#bd3786\"],[0.5555555555555556,\"#d8576b\"],[0.6666666666666666,\"#ed7953\"],[0.7777777777777778,\"#fb9f3a\"],[0.8888888888888888,\"#fdca26\"],[1.0,\"#f0f921\"]],\"type\":\"heatmap\"}],\"heatmapgl\":[{\"colorbar\":{\"outlinewidth\":0,\"ticks\":\"\"},\"colorscale\":[[0.0,\"#0d0887\"],[0.1111111111111111,\"#46039f\"],[0.2222222222222222,\"#7201a8\"],[0.3333333333333333,\"#9c179e\"],[0.4444444444444444,\"#bd3786\"],[0.5555555555555556,\"#d8576b\"],[0.6666666666666666,\"#ed7953\"],[0.7777777777777778,\"#fb9f3a\"],[0.8888888888888888,\"#fdca26\"],[1.0,\"#f0f921\"]],\"type\":\"heatmapgl\"}],\"histogram\":[{\"marker\":{\"pattern\":{\"fillmode\":\"overlay\",\"size\":10,\"solidity\":0.2}},\"type\":\"histogram\"}],\"histogram2d\":[{\"colorbar\":{\"outlinewidth\":0,\"ticks\":\"\"},\"colorscale\":[[0.0,\"#0d0887\"],[0.1111111111111111,\"#46039f\"],[0.2222222222222222,\"#7201a8\"],[0.3333333333333333,\"#9c179e\"],[0.4444444444444444,\"#bd3786\"],[0.5555555555555556,\"#d8576b\"],[0.6666666666666666,\"#ed7953\"],[0.7777777777777778,\"#fb9f3a\"],[0.8888888888888888,\"#fdca26\"],[1.0,\"#f0f921\"]],\"type\":\"histogram2d\"}],\"histogram2dcontour\":[{\"colorbar\":{\"outlinewidth\":0,\"ticks\":\"\"},\"colorscale\":[[0.0,\"#0d0887\"],[0.1111111111111111,\"#46039f\"],[0.2222222222222222,\"#7201a8\"],[0.3333333333333333,\"#9c179e\"],[0.4444444444444444,\"#bd3786\"],[0.5555555555555556,\"#d8576b\"],[0.6666666666666666,\"#ed7953\"],[0.7777777777777778,\"#fb9f3a\"],[0.8888888888888888,\"#fdca26\"],[1.0,\"#f0f921\"]],\"type\":\"histogram2dcontour\"}],\"mesh3d\":[{\"colorbar\":{\"outlinewidth\":0,\"ticks\":\"\"},\"type\":\"mesh3d\"}],\"parcoords\":[{\"line\":{\"colorbar\":{\"outlinewidth\":0,\"ticks\":\"\"}},\"type\":\"parcoords\"}],\"pie\":[{\"automargin\":true,\"type\":\"pie\"}],\"scatter\":[{\"marker\":{\"colorbar\":{\"outlinewidth\":0,\"ticks\":\"\"}},\"type\":\"scatter\"}],\"scatter3d\":[{\"line\":{\"colorbar\":{\"outlinewidth\":0,\"ticks\":\"\"}},\"marker\":{\"colorbar\":{\"outlinewidth\":0,\"ticks\":\"\"}},\"type\":\"scatter3d\"}],\"scattercarpet\":[{\"marker\":{\"colorbar\":{\"outlinewidth\":0,\"ticks\":\"\"}},\"type\":\"scattercarpet\"}],\"scattergeo\":[{\"marker\":{\"colorbar\":{\"outlinewidth\":0,\"ticks\":\"\"}},\"type\":\"scattergeo\"}],\"scattergl\":[{\"marker\":{\"colorbar\":{\"outlinewidth\":0,\"ticks\":\"\"}},\"type\":\"scattergl\"}],\"scattermapbox\":[{\"marker\":{\"colorbar\":{\"outlinewidth\":0,\"ticks\":\"\"}},\"type\":\"scattermapbox\"}],\"scatterpolar\":[{\"marker\":{\"colorbar\":{\"outlinewidth\":0,\"ticks\":\"\"}},\"type\":\"scatterpolar\"}],\"scatterpolargl\":[{\"marker\":{\"colorbar\":{\"outlinewidth\":0,\"ticks\":\"\"}},\"type\":\"scatterpolargl\"}],\"scatterternary\":[{\"marker\":{\"colorbar\":{\"outlinewidth\":0,\"ticks\":\"\"}},\"type\":\"scatterternary\"}],\"surface\":[{\"colorbar\":{\"outlinewidth\":0,\"ticks\":\"\"},\"colorscale\":[[0.0,\"#0d0887\"],[0.1111111111111111,\"#46039f\"],[0.2222222222222222,\"#7201a8\"],[0.3333333333333333,\"#9c179e\"],[0.4444444444444444,\"#bd3786\"],[0.5555555555555556,\"#d8576b\"],[0.6666666666666666,\"#ed7953\"],[0.7777777777777778,\"#fb9f3a\"],[0.8888888888888888,\"#fdca26\"],[1.0,\"#f0f921\"]],\"type\":\"surface\"}],\"table\":[{\"cells\":{\"fill\":{\"color\":\"#EBF0F8\"},\"line\":{\"color\":\"white\"}},\"header\":{\"fill\":{\"color\":\"#C8D4E3\"},\"line\":{\"color\":\"white\"}},\"type\":\"table\"}]},\"layout\":{\"annotationdefaults\":{\"arrowcolor\":\"#2a3f5f\",\"arrowhead\":0,\"arrowwidth\":1},\"autotypenumbers\":\"strict\",\"coloraxis\":{\"colorbar\":{\"outlinewidth\":0,\"ticks\":\"\"}},\"colorscale\":{\"diverging\":[[0,\"#8e0152\"],[0.1,\"#c51b7d\"],[0.2,\"#de77ae\"],[0.3,\"#f1b6da\"],[0.4,\"#fde0ef\"],[0.5,\"#f7f7f7\"],[0.6,\"#e6f5d0\"],[0.7,\"#b8e186\"],[0.8,\"#7fbc41\"],[0.9,\"#4d9221\"],[1,\"#276419\"]],\"sequential\":[[0.0,\"#0d0887\"],[0.1111111111111111,\"#46039f\"],[0.2222222222222222,\"#7201a8\"],[0.3333333333333333,\"#9c179e\"],[0.4444444444444444,\"#bd3786\"],[0.5555555555555556,\"#d8576b\"],[0.6666666666666666,\"#ed7953\"],[0.7777777777777778,\"#fb9f3a\"],[0.8888888888888888,\"#fdca26\"],[1.0,\"#f0f921\"]],\"sequentialminus\":[[0.0,\"#0d0887\"],[0.1111111111111111,\"#46039f\"],[0.2222222222222222,\"#7201a8\"],[0.3333333333333333,\"#9c179e\"],[0.4444444444444444,\"#bd3786\"],[0.5555555555555556,\"#d8576b\"],[0.6666666666666666,\"#ed7953\"],[0.7777777777777778,\"#fb9f3a\"],[0.8888888888888888,\"#fdca26\"],[1.0,\"#f0f921\"]]},\"colorway\":[\"#636efa\",\"#EF553B\",\"#00cc96\",\"#ab63fa\",\"#FFA15A\",\"#19d3f3\",\"#FF6692\",\"#B6E880\",\"#FF97FF\",\"#FECB52\"],\"font\":{\"color\":\"#2a3f5f\"},\"geo\":{\"bgcolor\":\"white\",\"lakecolor\":\"white\",\"landcolor\":\"#E5ECF6\",\"showlakes\":true,\"showland\":true,\"subunitcolor\":\"white\"},\"hoverlabel\":{\"align\":\"left\"},\"hovermode\":\"closest\",\"mapbox\":{\"style\":\"light\"},\"paper_bgcolor\":\"white\",\"plot_bgcolor\":\"#E5ECF6\",\"polar\":{\"angularaxis\":{\"gridcolor\":\"white\",\"linecolor\":\"white\",\"ticks\":\"\"},\"bgcolor\":\"#E5ECF6\",\"radialaxis\":{\"gridcolor\":\"white\",\"linecolor\":\"white\",\"ticks\":\"\"}},\"scene\":{\"xaxis\":{\"backgroundcolor\":\"#E5ECF6\",\"gridcolor\":\"white\",\"gridwidth\":2,\"linecolor\":\"white\",\"showbackground\":true,\"ticks\":\"\",\"zerolinecolor\":\"white\"},\"yaxis\":{\"backgroundcolor\":\"#E5ECF6\",\"gridcolor\":\"white\",\"gridwidth\":2,\"linecolor\":\"white\",\"showbackground\":true,\"ticks\":\"\",\"zerolinecolor\":\"white\"},\"zaxis\":{\"backgroundcolor\":\"#E5ECF6\",\"gridcolor\":\"white\",\"gridwidth\":2,\"linecolor\":\"white\",\"showbackground\":true,\"ticks\":\"\",\"zerolinecolor\":\"white\"}},\"shapedefaults\":{\"line\":{\"color\":\"#2a3f5f\"}},\"ternary\":{\"aaxis\":{\"gridcolor\":\"white\",\"linecolor\":\"white\",\"ticks\":\"\"},\"baxis\":{\"gridcolor\":\"white\",\"linecolor\":\"white\",\"ticks\":\"\"},\"bgcolor\":\"#E5ECF6\",\"caxis\":{\"gridcolor\":\"white\",\"linecolor\":\"white\",\"ticks\":\"\"}},\"title\":{\"x\":0.05},\"xaxis\":{\"automargin\":true,\"gridcolor\":\"white\",\"linecolor\":\"white\",\"ticks\":\"\",\"title\":{\"standoff\":15},\"zerolinecolor\":\"white\",\"zerolinewidth\":2},\"yaxis\":{\"automargin\":true,\"gridcolor\":\"white\",\"linecolor\":\"white\",\"ticks\":\"\",\"title\":{\"standoff\":15},\"zerolinecolor\":\"white\",\"zerolinewidth\":2}}},\"title\":{\"text\":\"Total number of perscriptions per state (US, 2014)\"},\"xaxis\":{\"anchor\":\"y\",\"domain\":[0.0,1.0],\"title\":{\"text\":\"State\"}},\"yaxis\":{\"anchor\":\"x\",\"domain\":[0.0,1.0],\"title\":{\"text\":\"Number of perscriptions\"}}},                        {\"responsive\": true}                    ).then(function(){\n",
       "                            \n",
       "var gd = document.getElementById('4a7bc1fc-d78f-4e15-bb74-88c482753a40');\n",
       "var x = new MutationObserver(function (mutations, observer) {{\n",
       "        var display = window.getComputedStyle(gd).display;\n",
       "        if (!display || display === 'none') {{\n",
       "            console.log([gd, 'removed!']);\n",
       "            Plotly.purge(gd);\n",
       "            observer.disconnect();\n",
       "        }}\n",
       "}});\n",
       "\n",
       "// Listen for the removal of the full notebook cells\n",
       "var notebookContainer = gd.closest('#notebook-container');\n",
       "if (notebookContainer) {{\n",
       "    x.observe(notebookContainer, {childList: true});\n",
       "}}\n",
       "\n",
       "// Listen for the clearing of the current output cell\n",
       "var outputEl = gd.closest('.output');\n",
       "if (outputEl) {{\n",
       "    x.observe(outputEl, {childList: true});\n",
       "}}\n",
       "\n",
       "                        })                };                });            </script>        </div>"
      ]
     },
     "metadata": {},
     "output_type": "display_data"
    }
   ],
   "source": [
    "fig = px.bar(tot_meds_est_pop_df, x='state', y='total_num_medications', \n",
    "                     labels={'total_num_medications':'Number of perscriptions', 'state': 'State'}, \n",
    "                     title='Total number of perscriptions per state (US, 2014)',\n",
    "                     color = 'est_pop_2014'\n",
    "                     ) #hover_data=['lifeExp', 'gdpPercap']\n",
    "fig.show()"
   ]
  },
  {
   "cell_type": "markdown",
   "metadata": {
    "hidden": true
   },
   "source": [
    "Fig. 4: Applying the 2014 population data confirms that this graph largely shows a correlation between state population and the number of perscriptions. A per capita approach might reveal more interesting results."
   ]
  },
  {
   "cell_type": "markdown",
   "metadata": {
    "heading_collapsed": true
   },
   "source": [
    "#### Number of perscriptions per capita"
   ]
  },
  {
   "cell_type": "code",
   "execution_count": 479,
   "metadata": {
    "ExecuteTime": {
     "end_time": "2021-06-26T13:22:35.370104Z",
     "start_time": "2021-06-26T13:22:35.310975Z"
    },
    "code_folding": [],
    "hidden": true
   },
   "outputs": [],
   "source": [
    "#  Adding a new per capita column (per 100k people)\n",
    "tot_meds_est_pop_df[\"num_med_per_100000\"] = (tot_meds_est_pop_df[\"total_num_medications\"] / tot_meds_est_pop_df[\"est_pop_2014\"]) * 100000"
   ]
  },
  {
   "cell_type": "code",
   "execution_count": 481,
   "metadata": {
    "ExecuteTime": {
     "end_time": "2021-06-26T13:25:33.312254Z",
     "start_time": "2021-06-26T13:25:33.003029Z"
    },
    "code_folding": [],
    "hidden": true
   },
   "outputs": [
    {
     "data": {
      "application/vnd.plotly.v1+json": {
       "config": {
        "plotlyServerURL": "https://plotly.com"
       },
       "data": [
        {
         "alignmentgroup": "True",
         "hovertemplate": "State=%{x}<br>num_med_per_100000=%{y}<br>est_pop_2014=%{marker.color}<extra></extra>",
         "legendgroup": "",
         "marker": {
          "color": [
           736283,
           2936879,
           2817628,
           26964333,
           1414538,
           5957283,
           5350101,
           582531,
           38596972,
           662328,
           6730413,
           2089568,
           8310993,
           7054655,
           10067278,
           12884493,
           1631112,
           8864525,
           5451079,
           932487,
           3878187,
           1333341,
           1021869,
           3594524,
           3963244,
           5751525,
           19845911,
           6593644,
           6762596,
           9929848,
           4823617,
           19651049,
           2900475,
           4644013,
           625214,
           4841799,
           11602700,
           9932887,
           849129,
           1879321,
           2990468,
           737401,
           2967392,
           6056202,
           3109350,
           1055936,
           12788313,
           6541223,
           4414349,
           1330513,
           1849489
          ],
          "coloraxis": "coloraxis",
          "pattern": {
           "shape": ""
          }
         },
         "name": "",
         "offsetgroup": "",
         "orientation": "v",
         "showlegend": false,
         "textposition": "auto",
         "type": "bar",
         "x": [
          "AK",
          "UT",
          "NV",
          "TX",
          "HI",
          "MD",
          "CO",
          "WY",
          "CA",
          "DC",
          "AZ",
          "NM",
          "VA",
          "WA",
          "GA",
          "IL",
          "ID",
          "NJ",
          "MN",
          "DE",
          "OK",
          "NH",
          "MT",
          "CT",
          "OR",
          "WI",
          "FL",
          "IN",
          "MA",
          "MI",
          "SC",
          "NY",
          "KS",
          "LA",
          "VT",
          "AL",
          "OH",
          "NC",
          "SD",
          "NE",
          "MS",
          "ND",
          "AR",
          "MO",
          "IA",
          "RI",
          "PA",
          "TN",
          "KY",
          "ME",
          "WV"
         ],
         "xaxis": "x",
         "y": [
          3910.1812754063317,
          4680.78528260783,
          5319.40341308363,
          5460.101683212412,
          5605.929285745593,
          5665.670071406714,
          5796.040112139939,
          5970.154378050266,
          5996.802028925999,
          6185.152975564977,
          6278.530009971156,
          6278.905496255685,
          6401.894454730019,
          6494.406884532269,
          6606.939830210311,
          6725.805974670482,
          6909.335471751786,
          7335.869660246883,
          7361.258202275182,
          7361.496728640721,
          7486.6941692084465,
          7735.680519837011,
          7796.3026571899145,
          7933.206176951385,
          8000.01211129065,
          8053.603174810159,
          8118.972215485598,
          8131.891864346938,
          8239.51334664972,
          8300.781643384673,
          8373.343074294664,
          8398.503306362933,
          8475.025642351684,
          8495.734185067957,
          8592.89779179609,
          8600.91466002616,
          8635.041843708792,
          8822.540717517475,
          8880.747212732105,
          8883.474403787326,
          8999.594712265773,
          9069.420844289607,
          9100.213251232059,
          9135.560537775986,
          9256.146783089715,
          9548.116552518335,
          9611.361561137892,
          9704.408487525956,
          10223.704559834305,
          10402.453790380103,
          11092.577463288508
         ],
         "yaxis": "y"
        }
       ],
       "layout": {
        "barmode": "relative",
        "coloraxis": {
         "colorbar": {
          "title": {
           "text": "est_pop_2014"
          }
         },
         "colorscale": [
          [
           0,
           "#0d0887"
          ],
          [
           0.1111111111111111,
           "#46039f"
          ],
          [
           0.2222222222222222,
           "#7201a8"
          ],
          [
           0.3333333333333333,
           "#9c179e"
          ],
          [
           0.4444444444444444,
           "#bd3786"
          ],
          [
           0.5555555555555556,
           "#d8576b"
          ],
          [
           0.6666666666666666,
           "#ed7953"
          ],
          [
           0.7777777777777778,
           "#fb9f3a"
          ],
          [
           0.8888888888888888,
           "#fdca26"
          ],
          [
           1,
           "#f0f921"
          ]
         ]
        },
        "legend": {
         "tracegroupgap": 0
        },
        "template": {
         "data": {
          "bar": [
           {
            "error_x": {
             "color": "#2a3f5f"
            },
            "error_y": {
             "color": "#2a3f5f"
            },
            "marker": {
             "line": {
              "color": "#E5ECF6",
              "width": 0.5
             },
             "pattern": {
              "fillmode": "overlay",
              "size": 10,
              "solidity": 0.2
             }
            },
            "type": "bar"
           }
          ],
          "barpolar": [
           {
            "marker": {
             "line": {
              "color": "#E5ECF6",
              "width": 0.5
             },
             "pattern": {
              "fillmode": "overlay",
              "size": 10,
              "solidity": 0.2
             }
            },
            "type": "barpolar"
           }
          ],
          "carpet": [
           {
            "aaxis": {
             "endlinecolor": "#2a3f5f",
             "gridcolor": "white",
             "linecolor": "white",
             "minorgridcolor": "white",
             "startlinecolor": "#2a3f5f"
            },
            "baxis": {
             "endlinecolor": "#2a3f5f",
             "gridcolor": "white",
             "linecolor": "white",
             "minorgridcolor": "white",
             "startlinecolor": "#2a3f5f"
            },
            "type": "carpet"
           }
          ],
          "choropleth": [
           {
            "colorbar": {
             "outlinewidth": 0,
             "ticks": ""
            },
            "type": "choropleth"
           }
          ],
          "contour": [
           {
            "colorbar": {
             "outlinewidth": 0,
             "ticks": ""
            },
            "colorscale": [
             [
              0,
              "#0d0887"
             ],
             [
              0.1111111111111111,
              "#46039f"
             ],
             [
              0.2222222222222222,
              "#7201a8"
             ],
             [
              0.3333333333333333,
              "#9c179e"
             ],
             [
              0.4444444444444444,
              "#bd3786"
             ],
             [
              0.5555555555555556,
              "#d8576b"
             ],
             [
              0.6666666666666666,
              "#ed7953"
             ],
             [
              0.7777777777777778,
              "#fb9f3a"
             ],
             [
              0.8888888888888888,
              "#fdca26"
             ],
             [
              1,
              "#f0f921"
             ]
            ],
            "type": "contour"
           }
          ],
          "contourcarpet": [
           {
            "colorbar": {
             "outlinewidth": 0,
             "ticks": ""
            },
            "type": "contourcarpet"
           }
          ],
          "heatmap": [
           {
            "colorbar": {
             "outlinewidth": 0,
             "ticks": ""
            },
            "colorscale": [
             [
              0,
              "#0d0887"
             ],
             [
              0.1111111111111111,
              "#46039f"
             ],
             [
              0.2222222222222222,
              "#7201a8"
             ],
             [
              0.3333333333333333,
              "#9c179e"
             ],
             [
              0.4444444444444444,
              "#bd3786"
             ],
             [
              0.5555555555555556,
              "#d8576b"
             ],
             [
              0.6666666666666666,
              "#ed7953"
             ],
             [
              0.7777777777777778,
              "#fb9f3a"
             ],
             [
              0.8888888888888888,
              "#fdca26"
             ],
             [
              1,
              "#f0f921"
             ]
            ],
            "type": "heatmap"
           }
          ],
          "heatmapgl": [
           {
            "colorbar": {
             "outlinewidth": 0,
             "ticks": ""
            },
            "colorscale": [
             [
              0,
              "#0d0887"
             ],
             [
              0.1111111111111111,
              "#46039f"
             ],
             [
              0.2222222222222222,
              "#7201a8"
             ],
             [
              0.3333333333333333,
              "#9c179e"
             ],
             [
              0.4444444444444444,
              "#bd3786"
             ],
             [
              0.5555555555555556,
              "#d8576b"
             ],
             [
              0.6666666666666666,
              "#ed7953"
             ],
             [
              0.7777777777777778,
              "#fb9f3a"
             ],
             [
              0.8888888888888888,
              "#fdca26"
             ],
             [
              1,
              "#f0f921"
             ]
            ],
            "type": "heatmapgl"
           }
          ],
          "histogram": [
           {
            "marker": {
             "pattern": {
              "fillmode": "overlay",
              "size": 10,
              "solidity": 0.2
             }
            },
            "type": "histogram"
           }
          ],
          "histogram2d": [
           {
            "colorbar": {
             "outlinewidth": 0,
             "ticks": ""
            },
            "colorscale": [
             [
              0,
              "#0d0887"
             ],
             [
              0.1111111111111111,
              "#46039f"
             ],
             [
              0.2222222222222222,
              "#7201a8"
             ],
             [
              0.3333333333333333,
              "#9c179e"
             ],
             [
              0.4444444444444444,
              "#bd3786"
             ],
             [
              0.5555555555555556,
              "#d8576b"
             ],
             [
              0.6666666666666666,
              "#ed7953"
             ],
             [
              0.7777777777777778,
              "#fb9f3a"
             ],
             [
              0.8888888888888888,
              "#fdca26"
             ],
             [
              1,
              "#f0f921"
             ]
            ],
            "type": "histogram2d"
           }
          ],
          "histogram2dcontour": [
           {
            "colorbar": {
             "outlinewidth": 0,
             "ticks": ""
            },
            "colorscale": [
             [
              0,
              "#0d0887"
             ],
             [
              0.1111111111111111,
              "#46039f"
             ],
             [
              0.2222222222222222,
              "#7201a8"
             ],
             [
              0.3333333333333333,
              "#9c179e"
             ],
             [
              0.4444444444444444,
              "#bd3786"
             ],
             [
              0.5555555555555556,
              "#d8576b"
             ],
             [
              0.6666666666666666,
              "#ed7953"
             ],
             [
              0.7777777777777778,
              "#fb9f3a"
             ],
             [
              0.8888888888888888,
              "#fdca26"
             ],
             [
              1,
              "#f0f921"
             ]
            ],
            "type": "histogram2dcontour"
           }
          ],
          "mesh3d": [
           {
            "colorbar": {
             "outlinewidth": 0,
             "ticks": ""
            },
            "type": "mesh3d"
           }
          ],
          "parcoords": [
           {
            "line": {
             "colorbar": {
              "outlinewidth": 0,
              "ticks": ""
             }
            },
            "type": "parcoords"
           }
          ],
          "pie": [
           {
            "automargin": true,
            "type": "pie"
           }
          ],
          "scatter": [
           {
            "marker": {
             "colorbar": {
              "outlinewidth": 0,
              "ticks": ""
             }
            },
            "type": "scatter"
           }
          ],
          "scatter3d": [
           {
            "line": {
             "colorbar": {
              "outlinewidth": 0,
              "ticks": ""
             }
            },
            "marker": {
             "colorbar": {
              "outlinewidth": 0,
              "ticks": ""
             }
            },
            "type": "scatter3d"
           }
          ],
          "scattercarpet": [
           {
            "marker": {
             "colorbar": {
              "outlinewidth": 0,
              "ticks": ""
             }
            },
            "type": "scattercarpet"
           }
          ],
          "scattergeo": [
           {
            "marker": {
             "colorbar": {
              "outlinewidth": 0,
              "ticks": ""
             }
            },
            "type": "scattergeo"
           }
          ],
          "scattergl": [
           {
            "marker": {
             "colorbar": {
              "outlinewidth": 0,
              "ticks": ""
             }
            },
            "type": "scattergl"
           }
          ],
          "scattermapbox": [
           {
            "marker": {
             "colorbar": {
              "outlinewidth": 0,
              "ticks": ""
             }
            },
            "type": "scattermapbox"
           }
          ],
          "scatterpolar": [
           {
            "marker": {
             "colorbar": {
              "outlinewidth": 0,
              "ticks": ""
             }
            },
            "type": "scatterpolar"
           }
          ],
          "scatterpolargl": [
           {
            "marker": {
             "colorbar": {
              "outlinewidth": 0,
              "ticks": ""
             }
            },
            "type": "scatterpolargl"
           }
          ],
          "scatterternary": [
           {
            "marker": {
             "colorbar": {
              "outlinewidth": 0,
              "ticks": ""
             }
            },
            "type": "scatterternary"
           }
          ],
          "surface": [
           {
            "colorbar": {
             "outlinewidth": 0,
             "ticks": ""
            },
            "colorscale": [
             [
              0,
              "#0d0887"
             ],
             [
              0.1111111111111111,
              "#46039f"
             ],
             [
              0.2222222222222222,
              "#7201a8"
             ],
             [
              0.3333333333333333,
              "#9c179e"
             ],
             [
              0.4444444444444444,
              "#bd3786"
             ],
             [
              0.5555555555555556,
              "#d8576b"
             ],
             [
              0.6666666666666666,
              "#ed7953"
             ],
             [
              0.7777777777777778,
              "#fb9f3a"
             ],
             [
              0.8888888888888888,
              "#fdca26"
             ],
             [
              1,
              "#f0f921"
             ]
            ],
            "type": "surface"
           }
          ],
          "table": [
           {
            "cells": {
             "fill": {
              "color": "#EBF0F8"
             },
             "line": {
              "color": "white"
             }
            },
            "header": {
             "fill": {
              "color": "#C8D4E3"
             },
             "line": {
              "color": "white"
             }
            },
            "type": "table"
           }
          ]
         },
         "layout": {
          "annotationdefaults": {
           "arrowcolor": "#2a3f5f",
           "arrowhead": 0,
           "arrowwidth": 1
          },
          "autotypenumbers": "strict",
          "coloraxis": {
           "colorbar": {
            "outlinewidth": 0,
            "ticks": ""
           }
          },
          "colorscale": {
           "diverging": [
            [
             0,
             "#8e0152"
            ],
            [
             0.1,
             "#c51b7d"
            ],
            [
             0.2,
             "#de77ae"
            ],
            [
             0.3,
             "#f1b6da"
            ],
            [
             0.4,
             "#fde0ef"
            ],
            [
             0.5,
             "#f7f7f7"
            ],
            [
             0.6,
             "#e6f5d0"
            ],
            [
             0.7,
             "#b8e186"
            ],
            [
             0.8,
             "#7fbc41"
            ],
            [
             0.9,
             "#4d9221"
            ],
            [
             1,
             "#276419"
            ]
           ],
           "sequential": [
            [
             0,
             "#0d0887"
            ],
            [
             0.1111111111111111,
             "#46039f"
            ],
            [
             0.2222222222222222,
             "#7201a8"
            ],
            [
             0.3333333333333333,
             "#9c179e"
            ],
            [
             0.4444444444444444,
             "#bd3786"
            ],
            [
             0.5555555555555556,
             "#d8576b"
            ],
            [
             0.6666666666666666,
             "#ed7953"
            ],
            [
             0.7777777777777778,
             "#fb9f3a"
            ],
            [
             0.8888888888888888,
             "#fdca26"
            ],
            [
             1,
             "#f0f921"
            ]
           ],
           "sequentialminus": [
            [
             0,
             "#0d0887"
            ],
            [
             0.1111111111111111,
             "#46039f"
            ],
            [
             0.2222222222222222,
             "#7201a8"
            ],
            [
             0.3333333333333333,
             "#9c179e"
            ],
            [
             0.4444444444444444,
             "#bd3786"
            ],
            [
             0.5555555555555556,
             "#d8576b"
            ],
            [
             0.6666666666666666,
             "#ed7953"
            ],
            [
             0.7777777777777778,
             "#fb9f3a"
            ],
            [
             0.8888888888888888,
             "#fdca26"
            ],
            [
             1,
             "#f0f921"
            ]
           ]
          },
          "colorway": [
           "#636efa",
           "#EF553B",
           "#00cc96",
           "#ab63fa",
           "#FFA15A",
           "#19d3f3",
           "#FF6692",
           "#B6E880",
           "#FF97FF",
           "#FECB52"
          ],
          "font": {
           "color": "#2a3f5f"
          },
          "geo": {
           "bgcolor": "white",
           "lakecolor": "white",
           "landcolor": "#E5ECF6",
           "showlakes": true,
           "showland": true,
           "subunitcolor": "white"
          },
          "hoverlabel": {
           "align": "left"
          },
          "hovermode": "closest",
          "mapbox": {
           "style": "light"
          },
          "paper_bgcolor": "white",
          "plot_bgcolor": "#E5ECF6",
          "polar": {
           "angularaxis": {
            "gridcolor": "white",
            "linecolor": "white",
            "ticks": ""
           },
           "bgcolor": "#E5ECF6",
           "radialaxis": {
            "gridcolor": "white",
            "linecolor": "white",
            "ticks": ""
           }
          },
          "scene": {
           "xaxis": {
            "backgroundcolor": "#E5ECF6",
            "gridcolor": "white",
            "gridwidth": 2,
            "linecolor": "white",
            "showbackground": true,
            "ticks": "",
            "zerolinecolor": "white"
           },
           "yaxis": {
            "backgroundcolor": "#E5ECF6",
            "gridcolor": "white",
            "gridwidth": 2,
            "linecolor": "white",
            "showbackground": true,
            "ticks": "",
            "zerolinecolor": "white"
           },
           "zaxis": {
            "backgroundcolor": "#E5ECF6",
            "gridcolor": "white",
            "gridwidth": 2,
            "linecolor": "white",
            "showbackground": true,
            "ticks": "",
            "zerolinecolor": "white"
           }
          },
          "shapedefaults": {
           "line": {
            "color": "#2a3f5f"
           }
          },
          "ternary": {
           "aaxis": {
            "gridcolor": "white",
            "linecolor": "white",
            "ticks": ""
           },
           "baxis": {
            "gridcolor": "white",
            "linecolor": "white",
            "ticks": ""
           },
           "bgcolor": "#E5ECF6",
           "caxis": {
            "gridcolor": "white",
            "linecolor": "white",
            "ticks": ""
           }
          },
          "title": {
           "x": 0.05
          },
          "xaxis": {
           "automargin": true,
           "gridcolor": "white",
           "linecolor": "white",
           "ticks": "",
           "title": {
            "standoff": 15
           },
           "zerolinecolor": "white",
           "zerolinewidth": 2
          },
          "yaxis": {
           "automargin": true,
           "gridcolor": "white",
           "linecolor": "white",
           "ticks": "",
           "title": {
            "standoff": 15
           },
           "zerolinecolor": "white",
           "zerolinewidth": 2
          }
         }
        },
        "title": {
         "text": "Number of perscriptions per 100,000 people (US, 2014)"
        },
        "xaxis": {
         "anchor": "y",
         "domain": [
          0,
          1
         ],
         "title": {
          "text": "State"
         }
        },
        "yaxis": {
         "anchor": "x",
         "domain": [
          0,
          1
         ],
         "title": {
          "text": "num_med_per_100000"
         }
        }
       }
      },
      "text/html": [
       "<div>                            <div id=\"4252a4e8-7e7c-4734-a17d-848c803de2b3\" class=\"plotly-graph-div\" style=\"height:525px; width:100%;\"></div>            <script type=\"text/javascript\">                require([\"plotly\"], function(Plotly) {                    window.PLOTLYENV=window.PLOTLYENV || {};                                    if (document.getElementById(\"4252a4e8-7e7c-4734-a17d-848c803de2b3\")) {                    Plotly.newPlot(                        \"4252a4e8-7e7c-4734-a17d-848c803de2b3\",                        [{\"alignmentgroup\":\"True\",\"hovertemplate\":\"State=%{x}<br>num_med_per_100000=%{y}<br>est_pop_2014=%{marker.color}<extra></extra>\",\"legendgroup\":\"\",\"marker\":{\"color\":[736283.0,2936879.0,2817628.0,26964333.0,1414538.0,5957283.0,5350101.0,582531.0,38596972.0,662328.0,6730413.0,2089568.0,8310993.0,7054655.0,10067278.0,12884493.0,1631112.0,8864525.0,5451079.0,932487.0,3878187.0,1333341.0,1021869.0,3594524.0,3963244.0,5751525.0,19845911.0,6593644.0,6762596.0,9929848.0,4823617.0,19651049.0,2900475.0,4644013.0,625214.0,4841799.0,11602700.0,9932887.0,849129.0,1879321.0,2990468.0,737401.0,2967392.0,6056202.0,3109350.0,1055936.0,12788313.0,6541223.0,4414349.0,1330513.0,1849489.0],\"coloraxis\":\"coloraxis\",\"pattern\":{\"shape\":\"\"}},\"name\":\"\",\"offsetgroup\":\"\",\"orientation\":\"v\",\"showlegend\":false,\"textposition\":\"auto\",\"type\":\"bar\",\"x\":[\"AK\",\"UT\",\"NV\",\"TX\",\"HI\",\"MD\",\"CO\",\"WY\",\"CA\",\"DC\",\"AZ\",\"NM\",\"VA\",\"WA\",\"GA\",\"IL\",\"ID\",\"NJ\",\"MN\",\"DE\",\"OK\",\"NH\",\"MT\",\"CT\",\"OR\",\"WI\",\"FL\",\"IN\",\"MA\",\"MI\",\"SC\",\"NY\",\"KS\",\"LA\",\"VT\",\"AL\",\"OH\",\"NC\",\"SD\",\"NE\",\"MS\",\"ND\",\"AR\",\"MO\",\"IA\",\"RI\",\"PA\",\"TN\",\"KY\",\"ME\",\"WV\"],\"xaxis\":\"x\",\"y\":[3910.1812754063317,4680.78528260783,5319.40341308363,5460.101683212412,5605.929285745593,5665.670071406714,5796.040112139939,5970.154378050266,5996.802028925999,6185.152975564977,6278.530009971156,6278.905496255685,6401.894454730019,6494.406884532269,6606.939830210311,6725.805974670482,6909.335471751786,7335.869660246883,7361.258202275182,7361.496728640721,7486.6941692084465,7735.680519837011,7796.3026571899145,7933.206176951385,8000.01211129065,8053.603174810159,8118.972215485598,8131.891864346938,8239.51334664972,8300.781643384673,8373.343074294664,8398.503306362933,8475.025642351684,8495.734185067957,8592.89779179609,8600.91466002616,8635.041843708792,8822.540717517475,8880.747212732105,8883.474403787326,8999.594712265773,9069.420844289607,9100.213251232059,9135.560537775986,9256.146783089715,9548.116552518335,9611.361561137892,9704.408487525956,10223.704559834305,10402.453790380103,11092.577463288508],\"yaxis\":\"y\"}],                        {\"barmode\":\"relative\",\"coloraxis\":{\"colorbar\":{\"title\":{\"text\":\"est_pop_2014\"}},\"colorscale\":[[0.0,\"#0d0887\"],[0.1111111111111111,\"#46039f\"],[0.2222222222222222,\"#7201a8\"],[0.3333333333333333,\"#9c179e\"],[0.4444444444444444,\"#bd3786\"],[0.5555555555555556,\"#d8576b\"],[0.6666666666666666,\"#ed7953\"],[0.7777777777777778,\"#fb9f3a\"],[0.8888888888888888,\"#fdca26\"],[1.0,\"#f0f921\"]]},\"legend\":{\"tracegroupgap\":0},\"template\":{\"data\":{\"bar\":[{\"error_x\":{\"color\":\"#2a3f5f\"},\"error_y\":{\"color\":\"#2a3f5f\"},\"marker\":{\"line\":{\"color\":\"#E5ECF6\",\"width\":0.5},\"pattern\":{\"fillmode\":\"overlay\",\"size\":10,\"solidity\":0.2}},\"type\":\"bar\"}],\"barpolar\":[{\"marker\":{\"line\":{\"color\":\"#E5ECF6\",\"width\":0.5},\"pattern\":{\"fillmode\":\"overlay\",\"size\":10,\"solidity\":0.2}},\"type\":\"barpolar\"}],\"carpet\":[{\"aaxis\":{\"endlinecolor\":\"#2a3f5f\",\"gridcolor\":\"white\",\"linecolor\":\"white\",\"minorgridcolor\":\"white\",\"startlinecolor\":\"#2a3f5f\"},\"baxis\":{\"endlinecolor\":\"#2a3f5f\",\"gridcolor\":\"white\",\"linecolor\":\"white\",\"minorgridcolor\":\"white\",\"startlinecolor\":\"#2a3f5f\"},\"type\":\"carpet\"}],\"choropleth\":[{\"colorbar\":{\"outlinewidth\":0,\"ticks\":\"\"},\"type\":\"choropleth\"}],\"contour\":[{\"colorbar\":{\"outlinewidth\":0,\"ticks\":\"\"},\"colorscale\":[[0.0,\"#0d0887\"],[0.1111111111111111,\"#46039f\"],[0.2222222222222222,\"#7201a8\"],[0.3333333333333333,\"#9c179e\"],[0.4444444444444444,\"#bd3786\"],[0.5555555555555556,\"#d8576b\"],[0.6666666666666666,\"#ed7953\"],[0.7777777777777778,\"#fb9f3a\"],[0.8888888888888888,\"#fdca26\"],[1.0,\"#f0f921\"]],\"type\":\"contour\"}],\"contourcarpet\":[{\"colorbar\":{\"outlinewidth\":0,\"ticks\":\"\"},\"type\":\"contourcarpet\"}],\"heatmap\":[{\"colorbar\":{\"outlinewidth\":0,\"ticks\":\"\"},\"colorscale\":[[0.0,\"#0d0887\"],[0.1111111111111111,\"#46039f\"],[0.2222222222222222,\"#7201a8\"],[0.3333333333333333,\"#9c179e\"],[0.4444444444444444,\"#bd3786\"],[0.5555555555555556,\"#d8576b\"],[0.6666666666666666,\"#ed7953\"],[0.7777777777777778,\"#fb9f3a\"],[0.8888888888888888,\"#fdca26\"],[1.0,\"#f0f921\"]],\"type\":\"heatmap\"}],\"heatmapgl\":[{\"colorbar\":{\"outlinewidth\":0,\"ticks\":\"\"},\"colorscale\":[[0.0,\"#0d0887\"],[0.1111111111111111,\"#46039f\"],[0.2222222222222222,\"#7201a8\"],[0.3333333333333333,\"#9c179e\"],[0.4444444444444444,\"#bd3786\"],[0.5555555555555556,\"#d8576b\"],[0.6666666666666666,\"#ed7953\"],[0.7777777777777778,\"#fb9f3a\"],[0.8888888888888888,\"#fdca26\"],[1.0,\"#f0f921\"]],\"type\":\"heatmapgl\"}],\"histogram\":[{\"marker\":{\"pattern\":{\"fillmode\":\"overlay\",\"size\":10,\"solidity\":0.2}},\"type\":\"histogram\"}],\"histogram2d\":[{\"colorbar\":{\"outlinewidth\":0,\"ticks\":\"\"},\"colorscale\":[[0.0,\"#0d0887\"],[0.1111111111111111,\"#46039f\"],[0.2222222222222222,\"#7201a8\"],[0.3333333333333333,\"#9c179e\"],[0.4444444444444444,\"#bd3786\"],[0.5555555555555556,\"#d8576b\"],[0.6666666666666666,\"#ed7953\"],[0.7777777777777778,\"#fb9f3a\"],[0.8888888888888888,\"#fdca26\"],[1.0,\"#f0f921\"]],\"type\":\"histogram2d\"}],\"histogram2dcontour\":[{\"colorbar\":{\"outlinewidth\":0,\"ticks\":\"\"},\"colorscale\":[[0.0,\"#0d0887\"],[0.1111111111111111,\"#46039f\"],[0.2222222222222222,\"#7201a8\"],[0.3333333333333333,\"#9c179e\"],[0.4444444444444444,\"#bd3786\"],[0.5555555555555556,\"#d8576b\"],[0.6666666666666666,\"#ed7953\"],[0.7777777777777778,\"#fb9f3a\"],[0.8888888888888888,\"#fdca26\"],[1.0,\"#f0f921\"]],\"type\":\"histogram2dcontour\"}],\"mesh3d\":[{\"colorbar\":{\"outlinewidth\":0,\"ticks\":\"\"},\"type\":\"mesh3d\"}],\"parcoords\":[{\"line\":{\"colorbar\":{\"outlinewidth\":0,\"ticks\":\"\"}},\"type\":\"parcoords\"}],\"pie\":[{\"automargin\":true,\"type\":\"pie\"}],\"scatter\":[{\"marker\":{\"colorbar\":{\"outlinewidth\":0,\"ticks\":\"\"}},\"type\":\"scatter\"}],\"scatter3d\":[{\"line\":{\"colorbar\":{\"outlinewidth\":0,\"ticks\":\"\"}},\"marker\":{\"colorbar\":{\"outlinewidth\":0,\"ticks\":\"\"}},\"type\":\"scatter3d\"}],\"scattercarpet\":[{\"marker\":{\"colorbar\":{\"outlinewidth\":0,\"ticks\":\"\"}},\"type\":\"scattercarpet\"}],\"scattergeo\":[{\"marker\":{\"colorbar\":{\"outlinewidth\":0,\"ticks\":\"\"}},\"type\":\"scattergeo\"}],\"scattergl\":[{\"marker\":{\"colorbar\":{\"outlinewidth\":0,\"ticks\":\"\"}},\"type\":\"scattergl\"}],\"scattermapbox\":[{\"marker\":{\"colorbar\":{\"outlinewidth\":0,\"ticks\":\"\"}},\"type\":\"scattermapbox\"}],\"scatterpolar\":[{\"marker\":{\"colorbar\":{\"outlinewidth\":0,\"ticks\":\"\"}},\"type\":\"scatterpolar\"}],\"scatterpolargl\":[{\"marker\":{\"colorbar\":{\"outlinewidth\":0,\"ticks\":\"\"}},\"type\":\"scatterpolargl\"}],\"scatterternary\":[{\"marker\":{\"colorbar\":{\"outlinewidth\":0,\"ticks\":\"\"}},\"type\":\"scatterternary\"}],\"surface\":[{\"colorbar\":{\"outlinewidth\":0,\"ticks\":\"\"},\"colorscale\":[[0.0,\"#0d0887\"],[0.1111111111111111,\"#46039f\"],[0.2222222222222222,\"#7201a8\"],[0.3333333333333333,\"#9c179e\"],[0.4444444444444444,\"#bd3786\"],[0.5555555555555556,\"#d8576b\"],[0.6666666666666666,\"#ed7953\"],[0.7777777777777778,\"#fb9f3a\"],[0.8888888888888888,\"#fdca26\"],[1.0,\"#f0f921\"]],\"type\":\"surface\"}],\"table\":[{\"cells\":{\"fill\":{\"color\":\"#EBF0F8\"},\"line\":{\"color\":\"white\"}},\"header\":{\"fill\":{\"color\":\"#C8D4E3\"},\"line\":{\"color\":\"white\"}},\"type\":\"table\"}]},\"layout\":{\"annotationdefaults\":{\"arrowcolor\":\"#2a3f5f\",\"arrowhead\":0,\"arrowwidth\":1},\"autotypenumbers\":\"strict\",\"coloraxis\":{\"colorbar\":{\"outlinewidth\":0,\"ticks\":\"\"}},\"colorscale\":{\"diverging\":[[0,\"#8e0152\"],[0.1,\"#c51b7d\"],[0.2,\"#de77ae\"],[0.3,\"#f1b6da\"],[0.4,\"#fde0ef\"],[0.5,\"#f7f7f7\"],[0.6,\"#e6f5d0\"],[0.7,\"#b8e186\"],[0.8,\"#7fbc41\"],[0.9,\"#4d9221\"],[1,\"#276419\"]],\"sequential\":[[0.0,\"#0d0887\"],[0.1111111111111111,\"#46039f\"],[0.2222222222222222,\"#7201a8\"],[0.3333333333333333,\"#9c179e\"],[0.4444444444444444,\"#bd3786\"],[0.5555555555555556,\"#d8576b\"],[0.6666666666666666,\"#ed7953\"],[0.7777777777777778,\"#fb9f3a\"],[0.8888888888888888,\"#fdca26\"],[1.0,\"#f0f921\"]],\"sequentialminus\":[[0.0,\"#0d0887\"],[0.1111111111111111,\"#46039f\"],[0.2222222222222222,\"#7201a8\"],[0.3333333333333333,\"#9c179e\"],[0.4444444444444444,\"#bd3786\"],[0.5555555555555556,\"#d8576b\"],[0.6666666666666666,\"#ed7953\"],[0.7777777777777778,\"#fb9f3a\"],[0.8888888888888888,\"#fdca26\"],[1.0,\"#f0f921\"]]},\"colorway\":[\"#636efa\",\"#EF553B\",\"#00cc96\",\"#ab63fa\",\"#FFA15A\",\"#19d3f3\",\"#FF6692\",\"#B6E880\",\"#FF97FF\",\"#FECB52\"],\"font\":{\"color\":\"#2a3f5f\"},\"geo\":{\"bgcolor\":\"white\",\"lakecolor\":\"white\",\"landcolor\":\"#E5ECF6\",\"showlakes\":true,\"showland\":true,\"subunitcolor\":\"white\"},\"hoverlabel\":{\"align\":\"left\"},\"hovermode\":\"closest\",\"mapbox\":{\"style\":\"light\"},\"paper_bgcolor\":\"white\",\"plot_bgcolor\":\"#E5ECF6\",\"polar\":{\"angularaxis\":{\"gridcolor\":\"white\",\"linecolor\":\"white\",\"ticks\":\"\"},\"bgcolor\":\"#E5ECF6\",\"radialaxis\":{\"gridcolor\":\"white\",\"linecolor\":\"white\",\"ticks\":\"\"}},\"scene\":{\"xaxis\":{\"backgroundcolor\":\"#E5ECF6\",\"gridcolor\":\"white\",\"gridwidth\":2,\"linecolor\":\"white\",\"showbackground\":true,\"ticks\":\"\",\"zerolinecolor\":\"white\"},\"yaxis\":{\"backgroundcolor\":\"#E5ECF6\",\"gridcolor\":\"white\",\"gridwidth\":2,\"linecolor\":\"white\",\"showbackground\":true,\"ticks\":\"\",\"zerolinecolor\":\"white\"},\"zaxis\":{\"backgroundcolor\":\"#E5ECF6\",\"gridcolor\":\"white\",\"gridwidth\":2,\"linecolor\":\"white\",\"showbackground\":true,\"ticks\":\"\",\"zerolinecolor\":\"white\"}},\"shapedefaults\":{\"line\":{\"color\":\"#2a3f5f\"}},\"ternary\":{\"aaxis\":{\"gridcolor\":\"white\",\"linecolor\":\"white\",\"ticks\":\"\"},\"baxis\":{\"gridcolor\":\"white\",\"linecolor\":\"white\",\"ticks\":\"\"},\"bgcolor\":\"#E5ECF6\",\"caxis\":{\"gridcolor\":\"white\",\"linecolor\":\"white\",\"ticks\":\"\"}},\"title\":{\"x\":0.05},\"xaxis\":{\"automargin\":true,\"gridcolor\":\"white\",\"linecolor\":\"white\",\"ticks\":\"\",\"title\":{\"standoff\":15},\"zerolinecolor\":\"white\",\"zerolinewidth\":2},\"yaxis\":{\"automargin\":true,\"gridcolor\":\"white\",\"linecolor\":\"white\",\"ticks\":\"\",\"title\":{\"standoff\":15},\"zerolinecolor\":\"white\",\"zerolinewidth\":2}}},\"title\":{\"text\":\"Number of perscriptions per 100,000 people (US, 2014)\"},\"xaxis\":{\"anchor\":\"y\",\"domain\":[0.0,1.0],\"title\":{\"text\":\"State\"}},\"yaxis\":{\"anchor\":\"x\",\"domain\":[0.0,1.0],\"title\":{\"text\":\"num_med_per_100000\"}}},                        {\"responsive\": true}                    ).then(function(){\n",
       "                            \n",
       "var gd = document.getElementById('4252a4e8-7e7c-4734-a17d-848c803de2b3');\n",
       "var x = new MutationObserver(function (mutations, observer) {{\n",
       "        var display = window.getComputedStyle(gd).display;\n",
       "        if (!display || display === 'none') {{\n",
       "            console.log([gd, 'removed!']);\n",
       "            Plotly.purge(gd);\n",
       "            observer.disconnect();\n",
       "        }}\n",
       "}});\n",
       "\n",
       "// Listen for the removal of the full notebook cells\n",
       "var notebookContainer = gd.closest('#notebook-container');\n",
       "if (notebookContainer) {{\n",
       "    x.observe(notebookContainer, {childList: true});\n",
       "}}\n",
       "\n",
       "// Listen for the clearing of the current output cell\n",
       "var outputEl = gd.closest('.output');\n",
       "if (outputEl) {{\n",
       "    x.observe(outputEl, {childList: true});\n",
       "}}\n",
       "\n",
       "                        })                };                });            </script>        </div>"
      ]
     },
     "metadata": {},
     "output_type": "display_data"
    }
   ],
   "source": [
    "fig = px.bar(tot_meds_est_pop_df.sort_values('num_med_per_100000'), x='state', y='num_med_per_100000', \n",
    "                     labels={'total_num_medications':'Number of perscriptions', 'state': 'State'}, \n",
    "                     title='Number of perscriptions per 100,000 people (US, 2014)',\n",
    "                     color = 'est_pop_2014'\n",
    "                     ) #hover_data=['lifeExp', 'gdpPercap']\n",
    "fig.show()"
   ]
  },
  {
   "cell_type": "markdown",
   "metadata": {
    "hidden": true
   },
   "source": [
    "Fig. 5: Above figure is per 100,000 people based on the total estimated population. Notice that in this case, Alaska still ranks the lowest but West Virginia ranks the highest with California having one of the top 10 lowest perscription rates per capita. We can also look at the per capita based on the total estimated population of those 65 and over (the majority of folks who are eligable for medicare)."
   ]
  },
  {
   "cell_type": "markdown",
   "metadata": {},
   "source": [
    "#### Number of perscriptions per capita (over 65)"
   ]
  },
  {
   "cell_type": "code",
   "execution_count": 635,
   "metadata": {
    "ExecuteTime": {
     "end_time": "2021-06-27T15:42:35.565271Z",
     "start_time": "2021-06-27T15:42:33.972594Z"
    }
   },
   "outputs": [
    {
     "data": {
      "text/html": [
       "<div>\n",
       "<style scoped>\n",
       "    .dataframe tbody tr th:only-of-type {\n",
       "        vertical-align: middle;\n",
       "    }\n",
       "\n",
       "    .dataframe tbody tr th {\n",
       "        vertical-align: top;\n",
       "    }\n",
       "\n",
       "    .dataframe thead th {\n",
       "        text-align: right;\n",
       "    }\n",
       "</style>\n",
       "<table border=\"1\" class=\"dataframe\">\n",
       "  <thead>\n",
       "    <tr style=\"text-align: right;\">\n",
       "      <th></th>\n",
       "      <th>NAME</th>\n",
       "      <th>SEX</th>\n",
       "      <th>ORIGIN</th>\n",
       "      <th>RACE</th>\n",
       "      <th>AGE</th>\n",
       "      <th>POPESTIMATE2014</th>\n",
       "    </tr>\n",
       "  </thead>\n",
       "  <tbody>\n",
       "    <tr>\n",
       "      <th>0</th>\n",
       "      <td>Alabama</td>\n",
       "      <td>0</td>\n",
       "      <td>0</td>\n",
       "      <td>1</td>\n",
       "      <td>0</td>\n",
       "      <td>37575</td>\n",
       "    </tr>\n",
       "    <tr>\n",
       "      <th>1</th>\n",
       "      <td>Alabama</td>\n",
       "      <td>0</td>\n",
       "      <td>0</td>\n",
       "      <td>1</td>\n",
       "      <td>1</td>\n",
       "      <td>36968</td>\n",
       "    </tr>\n",
       "    <tr>\n",
       "      <th>2</th>\n",
       "      <td>Alabama</td>\n",
       "      <td>0</td>\n",
       "      <td>0</td>\n",
       "      <td>1</td>\n",
       "      <td>2</td>\n",
       "      <td>37769</td>\n",
       "    </tr>\n",
       "    <tr>\n",
       "      <th>3</th>\n",
       "      <td>Alabama</td>\n",
       "      <td>0</td>\n",
       "      <td>0</td>\n",
       "      <td>1</td>\n",
       "      <td>3</td>\n",
       "      <td>38605</td>\n",
       "    </tr>\n",
       "    <tr>\n",
       "      <th>4</th>\n",
       "      <td>Alabama</td>\n",
       "      <td>0</td>\n",
       "      <td>0</td>\n",
       "      <td>1</td>\n",
       "      <td>4</td>\n",
       "      <td>37751</td>\n",
       "    </tr>\n",
       "  </tbody>\n",
       "</table>\n",
       "</div>"
      ],
      "text/plain": [
       "      NAME  SEX  ORIGIN  RACE  AGE  POPESTIMATE2014\n",
       "0  Alabama    0       0     1    0            37575\n",
       "1  Alabama    0       0     1    1            36968\n",
       "2  Alabama    0       0     1    2            37769\n",
       "3  Alabama    0       0     1    3            38605\n",
       "4  Alabama    0       0     1    4            37751"
      ]
     },
     "execution_count": 635,
     "metadata": {},
     "output_type": "execute_result"
    }
   ],
   "source": [
    "# Pull in state population by age group data\n",
    "pop_alldata_2014 = pd.read_csv(\"../data/csv/sc-est2019-alldata6.csv\", usecols=[ \"NAME\", \"AGE\", \"SEX\", \n",
    "                                                                                                                                                 \"RACE\", \"ORIGIN\", \"POPESTIMATE2014\"])\n",
    "pop_alldata_2014.head()"
   ]
  },
  {
   "cell_type": "code",
   "execution_count": 636,
   "metadata": {
    "ExecuteTime": {
     "end_time": "2021-06-27T15:42:46.793280Z",
     "start_time": "2021-06-27T15:42:46.776276Z"
    }
   },
   "outputs": [
    {
     "data": {
      "text/html": [
       "<div>\n",
       "<style scoped>\n",
       "    .dataframe tbody tr th:only-of-type {\n",
       "        vertical-align: middle;\n",
       "    }\n",
       "\n",
       "    .dataframe tbody tr th {\n",
       "        vertical-align: top;\n",
       "    }\n",
       "\n",
       "    .dataframe thead th {\n",
       "        text-align: right;\n",
       "    }\n",
       "</style>\n",
       "<table border=\"1\" class=\"dataframe\">\n",
       "  <thead>\n",
       "    <tr style=\"text-align: right;\">\n",
       "      <th></th>\n",
       "      <th>NAME</th>\n",
       "      <th>SEX</th>\n",
       "      <th>ORIGIN</th>\n",
       "      <th>RACE</th>\n",
       "      <th>AGE</th>\n",
       "      <th>POPESTIMATE2014</th>\n",
       "    </tr>\n",
       "  </thead>\n",
       "  <tbody>\n",
       "    <tr>\n",
       "      <th>236839</th>\n",
       "      <td>Wyoming</td>\n",
       "      <td>2</td>\n",
       "      <td>2</td>\n",
       "      <td>6</td>\n",
       "      <td>81</td>\n",
       "      <td>2</td>\n",
       "    </tr>\n",
       "    <tr>\n",
       "      <th>236840</th>\n",
       "      <td>Wyoming</td>\n",
       "      <td>2</td>\n",
       "      <td>2</td>\n",
       "      <td>6</td>\n",
       "      <td>82</td>\n",
       "      <td>1</td>\n",
       "    </tr>\n",
       "    <tr>\n",
       "      <th>236841</th>\n",
       "      <td>Wyoming</td>\n",
       "      <td>2</td>\n",
       "      <td>2</td>\n",
       "      <td>6</td>\n",
       "      <td>83</td>\n",
       "      <td>2</td>\n",
       "    </tr>\n",
       "    <tr>\n",
       "      <th>236842</th>\n",
       "      <td>Wyoming</td>\n",
       "      <td>2</td>\n",
       "      <td>2</td>\n",
       "      <td>6</td>\n",
       "      <td>84</td>\n",
       "      <td>1</td>\n",
       "    </tr>\n",
       "    <tr>\n",
       "      <th>236843</th>\n",
       "      <td>Wyoming</td>\n",
       "      <td>2</td>\n",
       "      <td>2</td>\n",
       "      <td>6</td>\n",
       "      <td>85</td>\n",
       "      <td>3</td>\n",
       "    </tr>\n",
       "  </tbody>\n",
       "</table>\n",
       "</div>"
      ],
      "text/plain": [
       "           NAME  SEX  ORIGIN  RACE  AGE  POPESTIMATE2014\n",
       "236839  Wyoming    2       2     6   81                2\n",
       "236840  Wyoming    2       2     6   82                1\n",
       "236841  Wyoming    2       2     6   83                2\n",
       "236842  Wyoming    2       2     6   84                1\n",
       "236843  Wyoming    2       2     6   85                3"
      ]
     },
     "execution_count": 636,
     "metadata": {},
     "output_type": "execute_result"
    }
   ],
   "source": [
    "pop_alldata_2014.tail()"
   ]
  },
  {
   "cell_type": "markdown",
   "metadata": {},
   "source": [
    "AGE is single-year of age (0, 1, 2,… 84, 85+ years)\n",
    "\n",
    "The key for SEX is as follows:\n",
    "- 0 = Total\n",
    "- 1 = Male\n",
    "- 2 = Female\n",
    "\n",
    "The key for ORIGIN is as follows:\n",
    "- 0 = Total\n",
    "- 1 = Not Hispanic\n",
    "- 2 = Hispanic\n",
    "\n",
    "The key for RACE is as follows:\n",
    "- 1 = White Alone\n",
    "- 2 = Black or African American Alone\n",
    "- 3 = American Indian or Alaska Native Alone\n",
    "- 4 = Asian Alone\n",
    "- 5 = Native Hawaiian and Other Pacific Islander Alone\n",
    "- 6 = Two or more races\n",
    "\n",
    "We want (per state ages 65+): 1) total pop 2) percentages by gender 4) percent hisp 6) percentages by race"
   ]
  },
  {
   "cell_type": "code",
   "execution_count": 637,
   "metadata": {
    "ExecuteTime": {
     "end_time": "2021-06-27T15:43:04.634273Z",
     "start_time": "2021-06-27T15:43:04.628876Z"
    }
   },
   "outputs": [
    {
     "name": "stdout",
     "output_type": "stream",
     "text": [
      "236844\n"
     ]
    }
   ],
   "source": [
    "print(len(pop_alldata_2014))"
   ]
  },
  {
   "cell_type": "code",
   "execution_count": 638,
   "metadata": {
    "ExecuteTime": {
     "end_time": "2021-06-27T15:43:43.700372Z",
     "start_time": "2021-06-27T15:43:43.455561Z"
    }
   },
   "outputs": [],
   "source": [
    "# Want all ages over 65, but don't want to include 999 (which likley means 'unknown')\n",
    "pop_alldata_over_65_2014 = pop_alldata_2014[ (pop_alldata_2014[\"AGE\"] >= 65) &  (pop_alldata_2014[\"AGE\"] < 999)] "
   ]
  },
  {
   "cell_type": "code",
   "execution_count": 640,
   "metadata": {
    "ExecuteTime": {
     "end_time": "2021-06-27T15:53:58.706426Z",
     "start_time": "2021-06-27T15:53:58.549573Z"
    }
   },
   "outputs": [],
   "source": [
    "#  Source: A Python Dictionary to translate US States to Two letter codes (https://gist.github.com/rogerallen/1583593)\n",
    "\n",
    "us_state_abbrev = {\n",
    "    'Alabama': 'AL',\n",
    "    'Alaska': 'AK',\n",
    "    'Arizona': 'AZ',\n",
    "    'Arkansas': 'AR',\n",
    "    'California': 'CA',\n",
    "    'Colorado': 'CO',\n",
    "    'Connecticut': 'CT',\n",
    "    'Delaware': 'DE',\n",
    "    'District of Columbia': 'DC',\n",
    "    'Florida': 'FL',\n",
    "    'Georgia': 'GA',\n",
    "    'Hawaii': 'HI',\n",
    "    'Idaho': 'ID',\n",
    "    'Illinois': 'IL',\n",
    "    'Indiana': 'IN',\n",
    "    'Iowa': 'IA',\n",
    "    'Kansas': 'KS',\n",
    "    'Kentucky': 'KY',\n",
    "    'Louisiana': 'LA',\n",
    "    'Maine': 'ME',\n",
    "    'Maryland': 'MD',\n",
    "    'Massachusetts': 'MA',\n",
    "    'Michigan': 'MI',\n",
    "    'Minnesota': 'MN',\n",
    "    'Mississippi': 'MS',\n",
    "    'Missouri': 'MO',\n",
    "    'Montana': 'MT',\n",
    "    'Nebraska': 'NE',\n",
    "    'Nevada': 'NV',\n",
    "    'New Hampshire': 'NH',\n",
    "    'New Jersey': 'NJ',\n",
    "    'New Mexico': 'NM',\n",
    "    'New York': 'NY',\n",
    "    'North Carolina': 'NC',\n",
    "    'North Dakota': 'ND',\n",
    "    'Ohio': 'OH',\n",
    "    'Oklahoma': 'OK',\n",
    "    'Oregon': 'OR',\n",
    "    'Pennsylvania': 'PA',\n",
    "    'Rhode Island': 'RI',\n",
    "    'South Carolina': 'SC',\n",
    "    'South Dakota': 'SD',\n",
    "    'Tennessee': 'TN',\n",
    "    'Texas': 'TX',\n",
    "    'United States': 'US',\n",
    "    'Utah': 'UT',\n",
    "    'Vermont': 'VT',\n",
    "    'Virginia': 'VA',\n",
    "    'Washington': 'WA',\n",
    "    'West Virginia': 'WV',\n",
    "    'Wisconsin': 'WI',\n",
    "    'Wyoming': 'WY'\n",
    "}\n",
    "\n",
    "abbrev_us_state = dict(map(reversed, us_state_abbrev.items()))"
   ]
  },
  {
   "cell_type": "code",
   "execution_count": 714,
   "metadata": {
    "ExecuteTime": {
     "end_time": "2021-06-27T16:46:29.760168Z",
     "start_time": "2021-06-27T16:46:29.752486Z"
    }
   },
   "outputs": [],
   "source": [
    "def sum_data(df, where_category, value, column):\n",
    "    return df.where(df[where_category] == value)[column].sum()\n",
    "\n",
    "def calc_percent(df, category1, category2, state, val1, val2, column, use_sum=False):\n",
    "    if use_sum:\n",
    "            partial_sum =  df.where((df[category1] == state) & \n",
    "                                                (df[category2] == val1))[column].sum()\n",
    "            total_sum = val2\n",
    "    else:\n",
    "        partial_sum =  df.where((df[category1] == state) & \n",
    "                                                    (df[category2] == val1))[column].sum() \n",
    "        total_sum = df.where((df[category1] == state) & \n",
    "                                                    (df[category2] == val2))[column].sum()\n",
    "    percent = (partial_sum / total_sum) * 100\n",
    "    return percent"
   ]
  },
  {
   "cell_type": "code",
   "execution_count": 709,
   "metadata": {
    "ExecuteTime": {
     "end_time": "2021-06-27T16:38:26.135440Z",
     "start_time": "2021-06-27T16:38:26.122118Z"
    }
   },
   "outputs": [],
   "source": [
    "data_key = {'total gender': 0.0, 'm': 1.0, 'f': 2.0, \n",
    "                     'total hisp': 0.0, 'hisp': 1.0,\n",
    "                      'white': 1.0, 'black': 2.0, 'nam': 3.0, 'asian': 4.0, 'nhi pi': 5.0, '2+': 6.0}"
   ]
  },
  {
   "cell_type": "code",
   "execution_count": 753,
   "metadata": {
    "ExecuteTime": {
     "end_time": "2021-06-27T19:09:15.303369Z",
     "start_time": "2021-06-27T19:08:59.831649Z"
    }
   },
   "outputs": [
    {
     "name": "stderr",
     "output_type": "stream",
     "text": [
      "<ipython-input-714-46509bf6a8f4>:14: RuntimeWarning:\n",
      "\n",
      "invalid value encountered in double_scalars\n",
      "\n",
      "<ipython-input-714-46509bf6a8f4>:14: RuntimeWarning:\n",
      "\n",
      "invalid value encountered in double_scalars\n",
      "\n",
      "<ipython-input-714-46509bf6a8f4>:14: RuntimeWarning:\n",
      "\n",
      "invalid value encountered in double_scalars\n",
      "\n",
      "<ipython-input-714-46509bf6a8f4>:14: RuntimeWarning:\n",
      "\n",
      "invalid value encountered in double_scalars\n",
      "\n",
      "<ipython-input-714-46509bf6a8f4>:14: RuntimeWarning:\n",
      "\n",
      "invalid value encountered in double_scalars\n",
      "\n",
      "<ipython-input-714-46509bf6a8f4>:14: RuntimeWarning:\n",
      "\n",
      "invalid value encountered in double_scalars\n",
      "\n",
      "<ipython-input-714-46509bf6a8f4>:14: RuntimeWarning:\n",
      "\n",
      "invalid value encountered in double_scalars\n",
      "\n",
      "<ipython-input-714-46509bf6a8f4>:14: RuntimeWarning:\n",
      "\n",
      "invalid value encountered in double_scalars\n",
      "\n"
     ]
    }
   ],
   "source": [
    "my_dict = {}\n",
    "for key, val in abbrev_us_state.items():\n",
    "    state_pop = sum_data(pop_alldata_over_65_2014, 'NAME', val,  'POPESTIMATE2014')\n",
    "    my_dict[val] = {\"state\": key, \n",
    "                                'Population over 65': state_pop,\n",
    "                                'Male (%)': calc_percent(pop_alldata_over_65_2014, 'NAME', 'SEX', val, data_key['m'], \n",
    "                                                                           data_key['total gender'], 'POPESTIMATE2014'),\n",
    "                                'Female (%)': calc_percent(pop_alldata_over_65_2014, 'NAME', 'SEX', val, data_key['f'], \n",
    "                                                                           data_key['total gender'], 'POPESTIMATE2014'),\n",
    "                                'White (%)': calc_percent(pop_alldata_over_65_2014, 'NAME', 'RACE', val, data_key['white'], \n",
    "                                                                           state_pop, 'POPESTIMATE2014', use_sum=True),\n",
    "                                'Black (%)': calc_percent(pop_alldata_over_65_2014, 'NAME', 'RACE', val, data_key['black'], \n",
    "                                                                           state_pop, 'POPESTIMATE2014', use_sum=True),\n",
    "                                'Native American (%)': calc_percent(pop_alldata_over_65_2014, 'NAME', 'RACE', val, \n",
    "                                                                            data_key['nam'], state_pop, 'POPESTIMATE2014', use_sum=True),\n",
    "                                'Asian (%)': calc_percent(pop_alldata_over_65_2014, 'NAME', 'RACE', val, \n",
    "                                                                            data_key['asian'], state_pop, 'POPESTIMATE2014', use_sum=True),\n",
    "                                'Native Hawaiian and Pacific Islander (%)': calc_percent(pop_alldata_over_65_2014, 'NAME', 'RACE', val, \n",
    "                                                                            data_key['nhi pi'], state_pop, 'POPESTIMATE2014', use_sum=True),\n",
    "                                'Two or More Races (%)': calc_percent(pop_alldata_over_65_2014, 'NAME', 'RACE', val, \n",
    "                                                                            data_key['2+'], state_pop, 'POPESTIMATE2014', use_sum=True)\n",
    "                                }"
   ]
  },
  {
   "cell_type": "code",
   "execution_count": 754,
   "metadata": {
    "ExecuteTime": {
     "end_time": "2021-06-27T19:09:22.644808Z",
     "start_time": "2021-06-27T19:09:22.617905Z"
    }
   },
   "outputs": [],
   "source": [
    "state_data_over_65_2014 = pd.DataFrame.from_dict(my_dict, orient='index')"
   ]
  },
  {
   "cell_type": "code",
   "execution_count": 755,
   "metadata": {
    "ExecuteTime": {
     "end_time": "2021-06-27T19:09:29.667162Z",
     "start_time": "2021-06-27T19:09:29.593606Z"
    }
   },
   "outputs": [
    {
     "data": {
      "text/html": [
       "<div>\n",
       "<style scoped>\n",
       "    .dataframe tbody tr th:only-of-type {\n",
       "        vertical-align: middle;\n",
       "    }\n",
       "\n",
       "    .dataframe tbody tr th {\n",
       "        vertical-align: top;\n",
       "    }\n",
       "\n",
       "    .dataframe thead th {\n",
       "        text-align: right;\n",
       "    }\n",
       "</style>\n",
       "<table border=\"1\" class=\"dataframe\">\n",
       "  <thead>\n",
       "    <tr style=\"text-align: right;\">\n",
       "      <th></th>\n",
       "      <th>state</th>\n",
       "      <th>Population over 65</th>\n",
       "      <th>Male (%)</th>\n",
       "      <th>Female (%)</th>\n",
       "      <th>White (%)</th>\n",
       "      <th>Black (%)</th>\n",
       "      <th>Native American (%)</th>\n",
       "      <th>Asian (%)</th>\n",
       "      <th>Native Hawaiian and Pacific Islander (%)</th>\n",
       "      <th>Two or More Races (%)</th>\n",
       "    </tr>\n",
       "  </thead>\n",
       "  <tbody>\n",
       "    <tr>\n",
       "      <th>Alabama</th>\n",
       "      <td>AL</td>\n",
       "      <td>2967264.0</td>\n",
       "      <td>43.217860</td>\n",
       "      <td>56.782140</td>\n",
       "      <td>79.907147</td>\n",
       "      <td>18.243877</td>\n",
       "      <td>0.475050</td>\n",
       "      <td>0.655958</td>\n",
       "      <td>0.025478</td>\n",
       "      <td>0.692490</td>\n",
       "    </tr>\n",
       "    <tr>\n",
       "      <th>Alaska</th>\n",
       "      <td>AK</td>\n",
       "      <td>279576.0</td>\n",
       "      <td>49.587947</td>\n",
       "      <td>50.412053</td>\n",
       "      <td>76.867828</td>\n",
       "      <td>2.057401</td>\n",
       "      <td>12.408790</td>\n",
       "      <td>5.923255</td>\n",
       "      <td>0.437806</td>\n",
       "      <td>2.304919</td>\n",
       "    </tr>\n",
       "    <tr>\n",
       "      <th>Arizona</th>\n",
       "      <td>AZ</td>\n",
       "      <td>4239816.0</td>\n",
       "      <td>46.086245</td>\n",
       "      <td>53.913755</td>\n",
       "      <td>92.575999</td>\n",
       "      <td>2.212926</td>\n",
       "      <td>2.428879</td>\n",
       "      <td>1.953575</td>\n",
       "      <td>0.096891</td>\n",
       "      <td>0.731730</td>\n",
       "    </tr>\n",
       "    <tr>\n",
       "      <th>Arkansas</th>\n",
       "      <td>AR</td>\n",
       "      <td>1862060.0</td>\n",
       "      <td>44.251420</td>\n",
       "      <td>55.748580</td>\n",
       "      <td>88.554826</td>\n",
       "      <td>9.309260</td>\n",
       "      <td>0.558951</td>\n",
       "      <td>0.630914</td>\n",
       "      <td>0.038452</td>\n",
       "      <td>0.907597</td>\n",
       "    </tr>\n",
       "    <tr>\n",
       "      <th>California</th>\n",
       "      <td>CA</td>\n",
       "      <td>19803224.0</td>\n",
       "      <td>44.155315</td>\n",
       "      <td>55.844685</td>\n",
       "      <td>77.230576</td>\n",
       "      <td>5.423359</td>\n",
       "      <td>0.933000</td>\n",
       "      <td>14.692052</td>\n",
       "      <td>0.295326</td>\n",
       "      <td>1.425687</td>\n",
       "    </tr>\n",
       "  </tbody>\n",
       "</table>\n",
       "</div>"
      ],
      "text/plain": [
       "           state  Population over 65   Male (%)  Female (%)  White (%)  \\\n",
       "Alabama       AL           2967264.0  43.217860   56.782140  79.907147   \n",
       "Alaska        AK            279576.0  49.587947   50.412053  76.867828   \n",
       "Arizona       AZ           4239816.0  46.086245   53.913755  92.575999   \n",
       "Arkansas      AR           1862060.0  44.251420   55.748580  88.554826   \n",
       "California    CA          19803224.0  44.155315   55.844685  77.230576   \n",
       "\n",
       "            Black (%)  Native American (%)  Asian (%)  \\\n",
       "Alabama     18.243877             0.475050   0.655958   \n",
       "Alaska       2.057401            12.408790   5.923255   \n",
       "Arizona      2.212926             2.428879   1.953575   \n",
       "Arkansas     9.309260             0.558951   0.630914   \n",
       "California   5.423359             0.933000  14.692052   \n",
       "\n",
       "            Native Hawaiian and Pacific Islander (%)  Two or More Races (%)  \n",
       "Alabama                                     0.025478               0.692490  \n",
       "Alaska                                      0.437806               2.304919  \n",
       "Arizona                                     0.096891               0.731730  \n",
       "Arkansas                                    0.038452               0.907597  \n",
       "California                                  0.295326               1.425687  "
      ]
     },
     "execution_count": 755,
     "metadata": {},
     "output_type": "execute_result"
    }
   ],
   "source": [
    "state_data_over_65_2014.head()"
   ]
  },
  {
   "cell_type": "code",
   "execution_count": 722,
   "metadata": {
    "ExecuteTime": {
     "end_time": "2021-06-27T16:56:40.576779Z",
     "start_time": "2021-06-27T16:56:40.503124Z"
    },
    "scrolled": true
   },
   "outputs": [
    {
     "data": {
      "text/html": [
       "<div>\n",
       "<style scoped>\n",
       "    .dataframe tbody tr th:only-of-type {\n",
       "        vertical-align: middle;\n",
       "    }\n",
       "\n",
       "    .dataframe tbody tr th {\n",
       "        vertical-align: top;\n",
       "    }\n",
       "\n",
       "    .dataframe thead th {\n",
       "        text-align: right;\n",
       "    }\n",
       "</style>\n",
       "<table border=\"1\" class=\"dataframe\">\n",
       "  <thead>\n",
       "    <tr style=\"text-align: right;\">\n",
       "      <th></th>\n",
       "      <th>state</th>\n",
       "      <th>total_num_medications</th>\n",
       "      <th>est_pop_2011</th>\n",
       "      <th>est_pop_2012</th>\n",
       "      <th>est_pop_2013</th>\n",
       "      <th>est_pop_2014</th>\n",
       "      <th>num_med_per_100000</th>\n",
       "    </tr>\n",
       "  </thead>\n",
       "  <tbody>\n",
       "    <tr>\n",
       "      <th>0</th>\n",
       "      <td>CA</td>\n",
       "      <td>2314584</td>\n",
       "      <td>37638369.0</td>\n",
       "      <td>37948800.0</td>\n",
       "      <td>38260787.0</td>\n",
       "      <td>38596972.0</td>\n",
       "      <td>5996.802029</td>\n",
       "    </tr>\n",
       "    <tr>\n",
       "      <th>1</th>\n",
       "      <td>NY</td>\n",
       "      <td>1650394</td>\n",
       "      <td>19499241.0</td>\n",
       "      <td>19572932.0</td>\n",
       "      <td>19624447.0</td>\n",
       "      <td>19651049.0</td>\n",
       "      <td>8398.503306</td>\n",
       "    </tr>\n",
       "    <tr>\n",
       "      <th>2</th>\n",
       "      <td>FL</td>\n",
       "      <td>1611284</td>\n",
       "      <td>19053237.0</td>\n",
       "      <td>19297822.0</td>\n",
       "      <td>19545621.0</td>\n",
       "      <td>19845911.0</td>\n",
       "      <td>8118.972215</td>\n",
       "    </tr>\n",
       "    <tr>\n",
       "      <th>3</th>\n",
       "      <td>TX</td>\n",
       "      <td>1472280</td>\n",
       "      <td>25645629.0</td>\n",
       "      <td>26084481.0</td>\n",
       "      <td>26480266.0</td>\n",
       "      <td>26964333.0</td>\n",
       "      <td>5460.101683</td>\n",
       "    </tr>\n",
       "    <tr>\n",
       "      <th>4</th>\n",
       "      <td>PA</td>\n",
       "      <td>1229131</td>\n",
       "      <td>12745815.0</td>\n",
       "      <td>12767118.0</td>\n",
       "      <td>12776309.0</td>\n",
       "      <td>12788313.0</td>\n",
       "      <td>9611.361561</td>\n",
       "    </tr>\n",
       "  </tbody>\n",
       "</table>\n",
       "</div>"
      ],
      "text/plain": [
       "  state  total_num_medications  est_pop_2011  est_pop_2012  est_pop_2013  \\\n",
       "0    CA                2314584    37638369.0    37948800.0    38260787.0   \n",
       "1    NY                1650394    19499241.0    19572932.0    19624447.0   \n",
       "2    FL                1611284    19053237.0    19297822.0    19545621.0   \n",
       "3    TX                1472280    25645629.0    26084481.0    26480266.0   \n",
       "4    PA                1229131    12745815.0    12767118.0    12776309.0   \n",
       "\n",
       "   est_pop_2014  num_med_per_100000  \n",
       "0    38596972.0         5996.802029  \n",
       "1    19651049.0         8398.503306  \n",
       "2    19845911.0         8118.972215  \n",
       "3    26964333.0         5460.101683  \n",
       "4    12788313.0         9611.361561  "
      ]
     },
     "execution_count": 722,
     "metadata": {},
     "output_type": "execute_result"
    }
   ],
   "source": [
    "tot_meds_est_pop_df.head()"
   ]
  },
  {
   "cell_type": "code",
   "execution_count": 723,
   "metadata": {
    "ExecuteTime": {
     "end_time": "2021-06-27T16:59:19.714859Z",
     "start_time": "2021-06-27T16:59:19.533840Z"
    }
   },
   "outputs": [],
   "source": [
    "compiled_df = pd.merge(most_common_perscription, tot_meds_est_pop_df, on=\"state\")"
   ]
  },
  {
   "cell_type": "code",
   "execution_count": 724,
   "metadata": {
    "ExecuteTime": {
     "end_time": "2021-06-27T16:59:26.707225Z",
     "start_time": "2021-06-27T16:59:26.674220Z"
    }
   },
   "outputs": [],
   "source": [
    "# renaming columns to keep (focusing only on 2014 data)\n",
    "compiled_df.columns = ['state', 'Most common perscription', \n",
    "                                           'Number perscribed', 'rank', 'Total perscriptions', \n",
    "                                           'est_pop_2011', 'est_pop_2012', 'est_pop_2013', \n",
    "                                           'Est. population 2014', 'Total perscriptions per 100k']"
   ]
  },
  {
   "cell_type": "code",
   "execution_count": 726,
   "metadata": {
    "ExecuteTime": {
     "end_time": "2021-06-27T17:01:31.417383Z",
     "start_time": "2021-06-27T17:01:31.353569Z"
    }
   },
   "outputs": [],
   "source": [
    "compiled_df['Percent of total perscriptions']=(compiled_df[\"Number perscribed\"] / compiled_df[\"Total perscriptions\"]) * 100"
   ]
  },
  {
   "cell_type": "code",
   "execution_count": 727,
   "metadata": {
    "ExecuteTime": {
     "end_time": "2021-06-27T17:01:58.137019Z",
     "start_time": "2021-06-27T17:01:58.114540Z"
    }
   },
   "outputs": [],
   "source": [
    "compiled_df =  compiled_df[['state', 'Total perscriptions', 'Most common perscription', \n",
    "                                                   'Number perscribed', 'rank', 'Percent of total perscriptions',\n",
    "                                                   'est_pop_2011', 'est_pop_2012', 'est_pop_2013', \n",
    "                                                   'Est. population 2014', 'Total perscriptions per 100k']]"
   ]
  },
  {
   "cell_type": "code",
   "execution_count": 728,
   "metadata": {
    "ExecuteTime": {
     "end_time": "2021-06-27T17:02:20.799104Z",
     "start_time": "2021-06-27T17:02:20.768832Z"
    }
   },
   "outputs": [],
   "source": [
    "compiled_df['Total perscriptions per 100k'] = (compiled_df['Number perscribed'] / compiled_df['Est. population 2014']) * 100000"
   ]
  },
  {
   "cell_type": "code",
   "execution_count": 732,
   "metadata": {
    "ExecuteTime": {
     "end_time": "2021-06-27T17:04:17.236158Z",
     "start_time": "2021-06-27T17:04:17.200966Z"
    }
   },
   "outputs": [
    {
     "data": {
      "text/plain": [
       "1.66"
      ]
     },
     "execution_count": 732,
     "metadata": {},
     "output_type": "execute_result"
    }
   ],
   "source": [
    "import numpy as np\n",
    "\n",
    "np.round(compiled_df['Percent of total perscriptions'].mean(), 2)"
   ]
  },
  {
   "cell_type": "markdown",
   "metadata": {},
   "source": [
    "Table: When we look at what percentage the most commonly perscribed medication is compared to the total number of perscriptions, we see that the average value is ~1.66%. We'll look into this some more in 2.4."
   ]
  },
  {
   "cell_type": "code",
   "execution_count": 756,
   "metadata": {
    "ExecuteTime": {
     "end_time": "2021-06-27T19:09:57.868097Z",
     "start_time": "2021-06-27T19:09:57.790267Z"
    }
   },
   "outputs": [],
   "source": [
    "state_med_pop_data = pd.merge(state_data_over_65_2014, compiled_df, on='state')"
   ]
  },
  {
   "cell_type": "code",
   "execution_count": 757,
   "metadata": {
    "ExecuteTime": {
     "end_time": "2021-06-27T19:10:06.283683Z",
     "start_time": "2021-06-27T19:10:06.131559Z"
    }
   },
   "outputs": [
    {
     "data": {
      "text/html": [
       "<div>\n",
       "<style scoped>\n",
       "    .dataframe tbody tr th:only-of-type {\n",
       "        vertical-align: middle;\n",
       "    }\n",
       "\n",
       "    .dataframe tbody tr th {\n",
       "        vertical-align: top;\n",
       "    }\n",
       "\n",
       "    .dataframe thead th {\n",
       "        text-align: right;\n",
       "    }\n",
       "</style>\n",
       "<table border=\"1\" class=\"dataframe\">\n",
       "  <thead>\n",
       "    <tr style=\"text-align: right;\">\n",
       "      <th></th>\n",
       "      <th>state</th>\n",
       "      <th>Population over 65</th>\n",
       "      <th>Male (%)</th>\n",
       "      <th>Female (%)</th>\n",
       "      <th>White (%)</th>\n",
       "      <th>Black (%)</th>\n",
       "      <th>Native American (%)</th>\n",
       "      <th>Asian (%)</th>\n",
       "      <th>Native Hawaiian and Pacific Islander (%)</th>\n",
       "      <th>Two or More Races (%)</th>\n",
       "      <th>Total perscriptions</th>\n",
       "      <th>Most common perscription</th>\n",
       "      <th>Number perscribed</th>\n",
       "      <th>rank</th>\n",
       "      <th>Percent of total perscriptions</th>\n",
       "      <th>est_pop_2011</th>\n",
       "      <th>est_pop_2012</th>\n",
       "      <th>est_pop_2013</th>\n",
       "      <th>Est. population 2014</th>\n",
       "      <th>Total perscriptions per 100k</th>\n",
       "    </tr>\n",
       "  </thead>\n",
       "  <tbody>\n",
       "    <tr>\n",
       "      <th>0</th>\n",
       "      <td>AL</td>\n",
       "      <td>2967264.0</td>\n",
       "      <td>43.217860</td>\n",
       "      <td>56.782140</td>\n",
       "      <td>79.907147</td>\n",
       "      <td>18.243877</td>\n",
       "      <td>0.475050</td>\n",
       "      <td>0.655958</td>\n",
       "      <td>0.025478</td>\n",
       "      <td>0.692490</td>\n",
       "      <td>416439</td>\n",
       "      <td>POTASSIUM CHLORIDE</td>\n",
       "      <td>6595</td>\n",
       "      <td>1</td>\n",
       "      <td>1.583665</td>\n",
       "      <td>4799069.0</td>\n",
       "      <td>4815588.0</td>\n",
       "      <td>4830081.0</td>\n",
       "      <td>4841799.0</td>\n",
       "      <td>136.209702</td>\n",
       "    </tr>\n",
       "    <tr>\n",
       "      <th>1</th>\n",
       "      <td>AK</td>\n",
       "      <td>279576.0</td>\n",
       "      <td>49.587947</td>\n",
       "      <td>50.412053</td>\n",
       "      <td>76.867828</td>\n",
       "      <td>2.057401</td>\n",
       "      <td>12.408790</td>\n",
       "      <td>5.923255</td>\n",
       "      <td>0.437806</td>\n",
       "      <td>2.304919</td>\n",
       "      <td>28790</td>\n",
       "      <td>HYDROCODONE/ACETAMINOPHEN</td>\n",
       "      <td>678</td>\n",
       "      <td>1</td>\n",
       "      <td>2.354984</td>\n",
       "      <td>722128.0</td>\n",
       "      <td>730443.0</td>\n",
       "      <td>737068.0</td>\n",
       "      <td>736283.0</td>\n",
       "      <td>92.084158</td>\n",
       "    </tr>\n",
       "    <tr>\n",
       "      <th>2</th>\n",
       "      <td>AZ</td>\n",
       "      <td>4239816.0</td>\n",
       "      <td>46.086245</td>\n",
       "      <td>53.913755</td>\n",
       "      <td>92.575999</td>\n",
       "      <td>2.212926</td>\n",
       "      <td>2.428879</td>\n",
       "      <td>1.953575</td>\n",
       "      <td>0.096891</td>\n",
       "      <td>0.731730</td>\n",
       "      <td>422571</td>\n",
       "      <td>HYDROCODONE/ACETAMINOPHEN</td>\n",
       "      <td>7136</td>\n",
       "      <td>1</td>\n",
       "      <td>1.688710</td>\n",
       "      <td>6472643.0</td>\n",
       "      <td>6554978.0</td>\n",
       "      <td>6632764.0</td>\n",
       "      <td>6730413.0</td>\n",
       "      <td>106.026183</td>\n",
       "    </tr>\n",
       "    <tr>\n",
       "      <th>3</th>\n",
       "      <td>AR</td>\n",
       "      <td>1862060.0</td>\n",
       "      <td>44.251420</td>\n",
       "      <td>55.748580</td>\n",
       "      <td>88.554826</td>\n",
       "      <td>9.309260</td>\n",
       "      <td>0.558951</td>\n",
       "      <td>0.630914</td>\n",
       "      <td>0.038452</td>\n",
       "      <td>0.907597</td>\n",
       "      <td>270039</td>\n",
       "      <td>POTASSIUM CHLORIDE</td>\n",
       "      <td>4218</td>\n",
       "      <td>1</td>\n",
       "      <td>1.561997</td>\n",
       "      <td>2940667.0</td>\n",
       "      <td>2952164.0</td>\n",
       "      <td>2959400.0</td>\n",
       "      <td>2967392.0</td>\n",
       "      <td>142.145022</td>\n",
       "    </tr>\n",
       "    <tr>\n",
       "      <th>4</th>\n",
       "      <td>CA</td>\n",
       "      <td>19803224.0</td>\n",
       "      <td>44.155315</td>\n",
       "      <td>55.844685</td>\n",
       "      <td>77.230576</td>\n",
       "      <td>5.423359</td>\n",
       "      <td>0.933000</td>\n",
       "      <td>14.692052</td>\n",
       "      <td>0.295326</td>\n",
       "      <td>1.425687</td>\n",
       "      <td>2314584</td>\n",
       "      <td>HYDROCODONE/ACETAMINOPHEN</td>\n",
       "      <td>40966</td>\n",
       "      <td>1</td>\n",
       "      <td>1.769908</td>\n",
       "      <td>37638369.0</td>\n",
       "      <td>37948800.0</td>\n",
       "      <td>38260787.0</td>\n",
       "      <td>38596972.0</td>\n",
       "      <td>106.137860</td>\n",
       "    </tr>\n",
       "  </tbody>\n",
       "</table>\n",
       "</div>"
      ],
      "text/plain": [
       "  state  Population over 65   Male (%)  Female (%)  White (%)  Black (%)  \\\n",
       "0    AL           2967264.0  43.217860   56.782140  79.907147  18.243877   \n",
       "1    AK            279576.0  49.587947   50.412053  76.867828   2.057401   \n",
       "2    AZ           4239816.0  46.086245   53.913755  92.575999   2.212926   \n",
       "3    AR           1862060.0  44.251420   55.748580  88.554826   9.309260   \n",
       "4    CA          19803224.0  44.155315   55.844685  77.230576   5.423359   \n",
       "\n",
       "   Native American (%)  Asian (%)  Native Hawaiian and Pacific Islander (%)  \\\n",
       "0             0.475050   0.655958                                  0.025478   \n",
       "1            12.408790   5.923255                                  0.437806   \n",
       "2             2.428879   1.953575                                  0.096891   \n",
       "3             0.558951   0.630914                                  0.038452   \n",
       "4             0.933000  14.692052                                  0.295326   \n",
       "\n",
       "   Two or More Races (%)  Total perscriptions   Most common perscription  \\\n",
       "0               0.692490               416439         POTASSIUM CHLORIDE   \n",
       "1               2.304919                28790  HYDROCODONE/ACETAMINOPHEN   \n",
       "2               0.731730               422571  HYDROCODONE/ACETAMINOPHEN   \n",
       "3               0.907597               270039         POTASSIUM CHLORIDE   \n",
       "4               1.425687              2314584  HYDROCODONE/ACETAMINOPHEN   \n",
       "\n",
       "   Number perscribed  rank  Percent of total perscriptions  est_pop_2011  \\\n",
       "0               6595     1                        1.583665     4799069.0   \n",
       "1                678     1                        2.354984      722128.0   \n",
       "2               7136     1                        1.688710     6472643.0   \n",
       "3               4218     1                        1.561997     2940667.0   \n",
       "4              40966     1                        1.769908    37638369.0   \n",
       "\n",
       "   est_pop_2012  est_pop_2013  Est. population 2014  \\\n",
       "0     4815588.0     4830081.0             4841799.0   \n",
       "1      730443.0      737068.0              736283.0   \n",
       "2     6554978.0     6632764.0             6730413.0   \n",
       "3     2952164.0     2959400.0             2967392.0   \n",
       "4    37948800.0    38260787.0            38596972.0   \n",
       "\n",
       "   Total perscriptions per 100k  \n",
       "0                    136.209702  \n",
       "1                     92.084158  \n",
       "2                    106.026183  \n",
       "3                    142.145022  \n",
       "4                    106.137860  "
      ]
     },
     "execution_count": 757,
     "metadata": {},
     "output_type": "execute_result"
    }
   ],
   "source": [
    "state_med_pop_data.head()"
   ]
  },
  {
   "cell_type": "code",
   "execution_count": 758,
   "metadata": {
    "ExecuteTime": {
     "end_time": "2021-06-27T19:10:37.360861Z",
     "start_time": "2021-06-27T19:10:37.287634Z"
    }
   },
   "outputs": [],
   "source": [
    "state_med_pop_data['Total perscriptions per 1k over 65'] = (state_med_pop_data['Total perscriptions'] / \n",
    "                                                  state_med_pop_data['Population over 65']) * 1000"
   ]
  },
  {
   "cell_type": "code",
   "execution_count": 759,
   "metadata": {
    "ExecuteTime": {
     "end_time": "2021-06-27T19:10:47.500980Z",
     "start_time": "2021-06-27T19:10:47.460842Z"
    }
   },
   "outputs": [],
   "source": [
    "state_med_pop_data = state_med_pop_data.drop(columns=['rank', 'est_pop_2011', 'est_pop_2012', 'est_pop_2013'])"
   ]
  },
  {
   "cell_type": "code",
   "execution_count": 760,
   "metadata": {
    "ExecuteTime": {
     "end_time": "2021-06-27T19:10:56.107266Z",
     "start_time": "2021-06-27T19:10:56.038665Z"
    },
    "scrolled": true
   },
   "outputs": [
    {
     "data": {
      "text/html": [
       "<div>\n",
       "<style scoped>\n",
       "    .dataframe tbody tr th:only-of-type {\n",
       "        vertical-align: middle;\n",
       "    }\n",
       "\n",
       "    .dataframe tbody tr th {\n",
       "        vertical-align: top;\n",
       "    }\n",
       "\n",
       "    .dataframe thead th {\n",
       "        text-align: right;\n",
       "    }\n",
       "</style>\n",
       "<table border=\"1\" class=\"dataframe\">\n",
       "  <thead>\n",
       "    <tr style=\"text-align: right;\">\n",
       "      <th></th>\n",
       "      <th>state</th>\n",
       "      <th>Population over 65</th>\n",
       "      <th>Male (%)</th>\n",
       "      <th>Female (%)</th>\n",
       "      <th>White (%)</th>\n",
       "      <th>Black (%)</th>\n",
       "      <th>Native American (%)</th>\n",
       "      <th>Asian (%)</th>\n",
       "      <th>Native Hawaiian and Pacific Islander (%)</th>\n",
       "      <th>Two or More Races (%)</th>\n",
       "      <th>Total perscriptions</th>\n",
       "      <th>Most common perscription</th>\n",
       "      <th>Number perscribed</th>\n",
       "      <th>Percent of total perscriptions</th>\n",
       "      <th>Est. population 2014</th>\n",
       "      <th>Total perscriptions per 100k</th>\n",
       "      <th>Total perscriptions per 1k over 65</th>\n",
       "    </tr>\n",
       "  </thead>\n",
       "  <tbody>\n",
       "    <tr>\n",
       "      <th>0</th>\n",
       "      <td>AL</td>\n",
       "      <td>2967264.0</td>\n",
       "      <td>43.217860</td>\n",
       "      <td>56.782140</td>\n",
       "      <td>79.907147</td>\n",
       "      <td>18.243877</td>\n",
       "      <td>0.475050</td>\n",
       "      <td>0.655958</td>\n",
       "      <td>0.025478</td>\n",
       "      <td>0.692490</td>\n",
       "      <td>416439</td>\n",
       "      <td>POTASSIUM CHLORIDE</td>\n",
       "      <td>6595</td>\n",
       "      <td>1.583665</td>\n",
       "      <td>4841799.0</td>\n",
       "      <td>136.209702</td>\n",
       "      <td>140.344439</td>\n",
       "    </tr>\n",
       "    <tr>\n",
       "      <th>1</th>\n",
       "      <td>AK</td>\n",
       "      <td>279576.0</td>\n",
       "      <td>49.587947</td>\n",
       "      <td>50.412053</td>\n",
       "      <td>76.867828</td>\n",
       "      <td>2.057401</td>\n",
       "      <td>12.408790</td>\n",
       "      <td>5.923255</td>\n",
       "      <td>0.437806</td>\n",
       "      <td>2.304919</td>\n",
       "      <td>28790</td>\n",
       "      <td>HYDROCODONE/ACETAMINOPHEN</td>\n",
       "      <td>678</td>\n",
       "      <td>2.354984</td>\n",
       "      <td>736283.0</td>\n",
       "      <td>92.084158</td>\n",
       "      <td>102.977366</td>\n",
       "    </tr>\n",
       "    <tr>\n",
       "      <th>2</th>\n",
       "      <td>AZ</td>\n",
       "      <td>4239816.0</td>\n",
       "      <td>46.086245</td>\n",
       "      <td>53.913755</td>\n",
       "      <td>92.575999</td>\n",
       "      <td>2.212926</td>\n",
       "      <td>2.428879</td>\n",
       "      <td>1.953575</td>\n",
       "      <td>0.096891</td>\n",
       "      <td>0.731730</td>\n",
       "      <td>422571</td>\n",
       "      <td>HYDROCODONE/ACETAMINOPHEN</td>\n",
       "      <td>7136</td>\n",
       "      <td>1.688710</td>\n",
       "      <td>6730413.0</td>\n",
       "      <td>106.026183</td>\n",
       "      <td>99.667297</td>\n",
       "    </tr>\n",
       "    <tr>\n",
       "      <th>3</th>\n",
       "      <td>AR</td>\n",
       "      <td>1862060.0</td>\n",
       "      <td>44.251420</td>\n",
       "      <td>55.748580</td>\n",
       "      <td>88.554826</td>\n",
       "      <td>9.309260</td>\n",
       "      <td>0.558951</td>\n",
       "      <td>0.630914</td>\n",
       "      <td>0.038452</td>\n",
       "      <td>0.907597</td>\n",
       "      <td>270039</td>\n",
       "      <td>POTASSIUM CHLORIDE</td>\n",
       "      <td>4218</td>\n",
       "      <td>1.561997</td>\n",
       "      <td>2967392.0</td>\n",
       "      <td>142.145022</td>\n",
       "      <td>145.021643</td>\n",
       "    </tr>\n",
       "    <tr>\n",
       "      <th>4</th>\n",
       "      <td>CA</td>\n",
       "      <td>19803224.0</td>\n",
       "      <td>44.155315</td>\n",
       "      <td>55.844685</td>\n",
       "      <td>77.230576</td>\n",
       "      <td>5.423359</td>\n",
       "      <td>0.933000</td>\n",
       "      <td>14.692052</td>\n",
       "      <td>0.295326</td>\n",
       "      <td>1.425687</td>\n",
       "      <td>2314584</td>\n",
       "      <td>HYDROCODONE/ACETAMINOPHEN</td>\n",
       "      <td>40966</td>\n",
       "      <td>1.769908</td>\n",
       "      <td>38596972.0</td>\n",
       "      <td>106.137860</td>\n",
       "      <td>116.879151</td>\n",
       "    </tr>\n",
       "  </tbody>\n",
       "</table>\n",
       "</div>"
      ],
      "text/plain": [
       "  state  Population over 65   Male (%)  Female (%)  White (%)  Black (%)  \\\n",
       "0    AL           2967264.0  43.217860   56.782140  79.907147  18.243877   \n",
       "1    AK            279576.0  49.587947   50.412053  76.867828   2.057401   \n",
       "2    AZ           4239816.0  46.086245   53.913755  92.575999   2.212926   \n",
       "3    AR           1862060.0  44.251420   55.748580  88.554826   9.309260   \n",
       "4    CA          19803224.0  44.155315   55.844685  77.230576   5.423359   \n",
       "\n",
       "   Native American (%)  Asian (%)  Native Hawaiian and Pacific Islander (%)  \\\n",
       "0             0.475050   0.655958                                  0.025478   \n",
       "1            12.408790   5.923255                                  0.437806   \n",
       "2             2.428879   1.953575                                  0.096891   \n",
       "3             0.558951   0.630914                                  0.038452   \n",
       "4             0.933000  14.692052                                  0.295326   \n",
       "\n",
       "   Two or More Races (%)  Total perscriptions   Most common perscription  \\\n",
       "0               0.692490               416439         POTASSIUM CHLORIDE   \n",
       "1               2.304919                28790  HYDROCODONE/ACETAMINOPHEN   \n",
       "2               0.731730               422571  HYDROCODONE/ACETAMINOPHEN   \n",
       "3               0.907597               270039         POTASSIUM CHLORIDE   \n",
       "4               1.425687              2314584  HYDROCODONE/ACETAMINOPHEN   \n",
       "\n",
       "   Number perscribed  Percent of total perscriptions  Est. population 2014  \\\n",
       "0               6595                        1.583665             4841799.0   \n",
       "1                678                        2.354984              736283.0   \n",
       "2               7136                        1.688710             6730413.0   \n",
       "3               4218                        1.561997             2967392.0   \n",
       "4              40966                        1.769908            38596972.0   \n",
       "\n",
       "   Total perscriptions per 100k  Total perscriptions per 1k over 65  \n",
       "0                    136.209702                          140.344439  \n",
       "1                     92.084158                          102.977366  \n",
       "2                    106.026183                           99.667297  \n",
       "3                    142.145022                          145.021643  \n",
       "4                    106.137860                          116.879151  "
      ]
     },
     "execution_count": 760,
     "metadata": {},
     "output_type": "execute_result"
    }
   ],
   "source": [
    "state_med_pop_data.head()"
   ]
  },
  {
   "cell_type": "code",
   "execution_count": null,
   "metadata": {},
   "outputs": [],
   "source": []
  },
  {
   "cell_type": "code",
   "execution_count": 761,
   "metadata": {
    "ExecuteTime": {
     "end_time": "2021-06-27T19:11:13.390039Z",
     "start_time": "2021-06-27T19:11:13.010336Z"
    },
    "scrolled": true
   },
   "outputs": [
    {
     "data": {
      "application/vnd.plotly.v1+json": {
       "config": {
        "plotlyServerURL": "https://plotly.com"
       },
       "data": [
        {
         "alignmentgroup": "True",
         "hovertemplate": "State=%{x}<br>=%{y}<br>Population over 65=%{marker.color}<extra></extra>",
         "legendgroup": "",
         "marker": {
          "color": [
           918924,
           1600164,
           4239816,
           3286900,
           279576,
           1269060,
           327824,
           15082188,
           615796,
           2702640,
           4591688,
           3942632,
           1176544,
           19803224,
           678340,
           12319260,
           7196932,
           849028,
           925752,
           5269872,
           2511540,
           2252040,
           422556,
           3110104,
           2244544,
           309376,
           3043484,
           3481504,
           4992452,
           6124864,
           4082484,
           7199992,
           2967264,
           11694912,
           972768,
           3767316,
           8538972,
           1862060,
           513304,
           1958552,
           1658416,
           3730236,
           5835596,
           666240,
           1083268,
           2537576,
           1317204,
           1704688,
           418536,
           3931888,
           2618168
          ],
          "coloraxis": "coloraxis",
          "pattern": {
           "shape": ""
          }
         },
         "name": "",
         "offsetgroup": "",
         "orientation": "v",
         "showlegend": false,
         "textposition": "auto",
         "type": "bar",
         "x": [
          "HI",
          "NV",
          "AZ",
          "MD",
          "AK",
          "NM",
          "WY",
          "FL",
          "DE",
          "CO",
          "VA",
          "WA",
          "UT",
          "CA",
          "MT",
          "TX",
          "IL",
          "NH",
          "ID",
          "NJ",
          "OR",
          "CT",
          "VT",
          "MN",
          "OK",
          "DC",
          "SC",
          "WI",
          "GA",
          "MI",
          "MA",
          "OH",
          "AL",
          "NY",
          "ME",
          "IN",
          "PA",
          "AR",
          "SD",
          "IA",
          "KS",
          "MO",
          "NC",
          "RI",
          "NE",
          "LA",
          "WV",
          "MS",
          "ND",
          "TN",
          "KY"
         ],
         "xaxis": "x",
         "y": [
          86.29440519564186,
          93.66602423251618,
          99.6672968826949,
          102.6864218564605,
          102.97736572524107,
          103.38518273367688,
          106.0874127580653,
          106.83357083203047,
          111.47360489512761,
          114.73744190865227,
          115.87481553624724,
          116.20612829196334,
          116.84135909919222,
          116.87915058679334,
          117.44552879087183,
          119.51042513917231,
          120.4104749079191,
          121.48362598171084,
          121.73778722595252,
          123.39768404242076,
          126.24127029631221,
          126.62341699081722,
          127.1405446852015,
          129.0207658650643,
          129.35723247127257,
          132.41492552751345,
          132.7090926057111,
          133.0473841190474,
          133.22892238122668,
          134.57523301741884,
          136.48675659230997,
          139.15265461406068,
          140.34443851305446,
          141.1206856451763,
          142.28058488766078,
          142.326260924223,
          143.94367378180885,
          145.02164269679818,
          146.90904415317237,
          146.94835776634986,
          148.22336494582783,
          148.31983820862808,
          150.17026538506093,
          151.32985110470702,
          154.1160636149134,
          155.48026935942016,
          155.75112131454202,
          157.8763973231465,
          159.79031672305368,
          161.4458499326532,
          172.37625698580075
         ],
         "yaxis": "y"
        }
       ],
       "layout": {
        "barmode": "relative",
        "coloraxis": {
         "colorbar": {
          "title": {
           "text": "Population over 65"
          }
         },
         "colorscale": [
          [
           0,
           "#0d0887"
          ],
          [
           0.1111111111111111,
           "#46039f"
          ],
          [
           0.2222222222222222,
           "#7201a8"
          ],
          [
           0.3333333333333333,
           "#9c179e"
          ],
          [
           0.4444444444444444,
           "#bd3786"
          ],
          [
           0.5555555555555556,
           "#d8576b"
          ],
          [
           0.6666666666666666,
           "#ed7953"
          ],
          [
           0.7777777777777778,
           "#fb9f3a"
          ],
          [
           0.8888888888888888,
           "#fdca26"
          ],
          [
           1,
           "#f0f921"
          ]
         ]
        },
        "legend": {
         "tracegroupgap": 0
        },
        "template": {
         "data": {
          "bar": [
           {
            "error_x": {
             "color": "#2a3f5f"
            },
            "error_y": {
             "color": "#2a3f5f"
            },
            "marker": {
             "line": {
              "color": "#E5ECF6",
              "width": 0.5
             },
             "pattern": {
              "fillmode": "overlay",
              "size": 10,
              "solidity": 0.2
             }
            },
            "type": "bar"
           }
          ],
          "barpolar": [
           {
            "marker": {
             "line": {
              "color": "#E5ECF6",
              "width": 0.5
             },
             "pattern": {
              "fillmode": "overlay",
              "size": 10,
              "solidity": 0.2
             }
            },
            "type": "barpolar"
           }
          ],
          "carpet": [
           {
            "aaxis": {
             "endlinecolor": "#2a3f5f",
             "gridcolor": "white",
             "linecolor": "white",
             "minorgridcolor": "white",
             "startlinecolor": "#2a3f5f"
            },
            "baxis": {
             "endlinecolor": "#2a3f5f",
             "gridcolor": "white",
             "linecolor": "white",
             "minorgridcolor": "white",
             "startlinecolor": "#2a3f5f"
            },
            "type": "carpet"
           }
          ],
          "choropleth": [
           {
            "colorbar": {
             "outlinewidth": 0,
             "ticks": ""
            },
            "type": "choropleth"
           }
          ],
          "contour": [
           {
            "colorbar": {
             "outlinewidth": 0,
             "ticks": ""
            },
            "colorscale": [
             [
              0,
              "#0d0887"
             ],
             [
              0.1111111111111111,
              "#46039f"
             ],
             [
              0.2222222222222222,
              "#7201a8"
             ],
             [
              0.3333333333333333,
              "#9c179e"
             ],
             [
              0.4444444444444444,
              "#bd3786"
             ],
             [
              0.5555555555555556,
              "#d8576b"
             ],
             [
              0.6666666666666666,
              "#ed7953"
             ],
             [
              0.7777777777777778,
              "#fb9f3a"
             ],
             [
              0.8888888888888888,
              "#fdca26"
             ],
             [
              1,
              "#f0f921"
             ]
            ],
            "type": "contour"
           }
          ],
          "contourcarpet": [
           {
            "colorbar": {
             "outlinewidth": 0,
             "ticks": ""
            },
            "type": "contourcarpet"
           }
          ],
          "heatmap": [
           {
            "colorbar": {
             "outlinewidth": 0,
             "ticks": ""
            },
            "colorscale": [
             [
              0,
              "#0d0887"
             ],
             [
              0.1111111111111111,
              "#46039f"
             ],
             [
              0.2222222222222222,
              "#7201a8"
             ],
             [
              0.3333333333333333,
              "#9c179e"
             ],
             [
              0.4444444444444444,
              "#bd3786"
             ],
             [
              0.5555555555555556,
              "#d8576b"
             ],
             [
              0.6666666666666666,
              "#ed7953"
             ],
             [
              0.7777777777777778,
              "#fb9f3a"
             ],
             [
              0.8888888888888888,
              "#fdca26"
             ],
             [
              1,
              "#f0f921"
             ]
            ],
            "type": "heatmap"
           }
          ],
          "heatmapgl": [
           {
            "colorbar": {
             "outlinewidth": 0,
             "ticks": ""
            },
            "colorscale": [
             [
              0,
              "#0d0887"
             ],
             [
              0.1111111111111111,
              "#46039f"
             ],
             [
              0.2222222222222222,
              "#7201a8"
             ],
             [
              0.3333333333333333,
              "#9c179e"
             ],
             [
              0.4444444444444444,
              "#bd3786"
             ],
             [
              0.5555555555555556,
              "#d8576b"
             ],
             [
              0.6666666666666666,
              "#ed7953"
             ],
             [
              0.7777777777777778,
              "#fb9f3a"
             ],
             [
              0.8888888888888888,
              "#fdca26"
             ],
             [
              1,
              "#f0f921"
             ]
            ],
            "type": "heatmapgl"
           }
          ],
          "histogram": [
           {
            "marker": {
             "pattern": {
              "fillmode": "overlay",
              "size": 10,
              "solidity": 0.2
             }
            },
            "type": "histogram"
           }
          ],
          "histogram2d": [
           {
            "colorbar": {
             "outlinewidth": 0,
             "ticks": ""
            },
            "colorscale": [
             [
              0,
              "#0d0887"
             ],
             [
              0.1111111111111111,
              "#46039f"
             ],
             [
              0.2222222222222222,
              "#7201a8"
             ],
             [
              0.3333333333333333,
              "#9c179e"
             ],
             [
              0.4444444444444444,
              "#bd3786"
             ],
             [
              0.5555555555555556,
              "#d8576b"
             ],
             [
              0.6666666666666666,
              "#ed7953"
             ],
             [
              0.7777777777777778,
              "#fb9f3a"
             ],
             [
              0.8888888888888888,
              "#fdca26"
             ],
             [
              1,
              "#f0f921"
             ]
            ],
            "type": "histogram2d"
           }
          ],
          "histogram2dcontour": [
           {
            "colorbar": {
             "outlinewidth": 0,
             "ticks": ""
            },
            "colorscale": [
             [
              0,
              "#0d0887"
             ],
             [
              0.1111111111111111,
              "#46039f"
             ],
             [
              0.2222222222222222,
              "#7201a8"
             ],
             [
              0.3333333333333333,
              "#9c179e"
             ],
             [
              0.4444444444444444,
              "#bd3786"
             ],
             [
              0.5555555555555556,
              "#d8576b"
             ],
             [
              0.6666666666666666,
              "#ed7953"
             ],
             [
              0.7777777777777778,
              "#fb9f3a"
             ],
             [
              0.8888888888888888,
              "#fdca26"
             ],
             [
              1,
              "#f0f921"
             ]
            ],
            "type": "histogram2dcontour"
           }
          ],
          "mesh3d": [
           {
            "colorbar": {
             "outlinewidth": 0,
             "ticks": ""
            },
            "type": "mesh3d"
           }
          ],
          "parcoords": [
           {
            "line": {
             "colorbar": {
              "outlinewidth": 0,
              "ticks": ""
             }
            },
            "type": "parcoords"
           }
          ],
          "pie": [
           {
            "automargin": true,
            "type": "pie"
           }
          ],
          "scatter": [
           {
            "marker": {
             "colorbar": {
              "outlinewidth": 0,
              "ticks": ""
             }
            },
            "type": "scatter"
           }
          ],
          "scatter3d": [
           {
            "line": {
             "colorbar": {
              "outlinewidth": 0,
              "ticks": ""
             }
            },
            "marker": {
             "colorbar": {
              "outlinewidth": 0,
              "ticks": ""
             }
            },
            "type": "scatter3d"
           }
          ],
          "scattercarpet": [
           {
            "marker": {
             "colorbar": {
              "outlinewidth": 0,
              "ticks": ""
             }
            },
            "type": "scattercarpet"
           }
          ],
          "scattergeo": [
           {
            "marker": {
             "colorbar": {
              "outlinewidth": 0,
              "ticks": ""
             }
            },
            "type": "scattergeo"
           }
          ],
          "scattergl": [
           {
            "marker": {
             "colorbar": {
              "outlinewidth": 0,
              "ticks": ""
             }
            },
            "type": "scattergl"
           }
          ],
          "scattermapbox": [
           {
            "marker": {
             "colorbar": {
              "outlinewidth": 0,
              "ticks": ""
             }
            },
            "type": "scattermapbox"
           }
          ],
          "scatterpolar": [
           {
            "marker": {
             "colorbar": {
              "outlinewidth": 0,
              "ticks": ""
             }
            },
            "type": "scatterpolar"
           }
          ],
          "scatterpolargl": [
           {
            "marker": {
             "colorbar": {
              "outlinewidth": 0,
              "ticks": ""
             }
            },
            "type": "scatterpolargl"
           }
          ],
          "scatterternary": [
           {
            "marker": {
             "colorbar": {
              "outlinewidth": 0,
              "ticks": ""
             }
            },
            "type": "scatterternary"
           }
          ],
          "surface": [
           {
            "colorbar": {
             "outlinewidth": 0,
             "ticks": ""
            },
            "colorscale": [
             [
              0,
              "#0d0887"
             ],
             [
              0.1111111111111111,
              "#46039f"
             ],
             [
              0.2222222222222222,
              "#7201a8"
             ],
             [
              0.3333333333333333,
              "#9c179e"
             ],
             [
              0.4444444444444444,
              "#bd3786"
             ],
             [
              0.5555555555555556,
              "#d8576b"
             ],
             [
              0.6666666666666666,
              "#ed7953"
             ],
             [
              0.7777777777777778,
              "#fb9f3a"
             ],
             [
              0.8888888888888888,
              "#fdca26"
             ],
             [
              1,
              "#f0f921"
             ]
            ],
            "type": "surface"
           }
          ],
          "table": [
           {
            "cells": {
             "fill": {
              "color": "#EBF0F8"
             },
             "line": {
              "color": "white"
             }
            },
            "header": {
             "fill": {
              "color": "#C8D4E3"
             },
             "line": {
              "color": "white"
             }
            },
            "type": "table"
           }
          ]
         },
         "layout": {
          "annotationdefaults": {
           "arrowcolor": "#2a3f5f",
           "arrowhead": 0,
           "arrowwidth": 1
          },
          "autotypenumbers": "strict",
          "coloraxis": {
           "colorbar": {
            "outlinewidth": 0,
            "ticks": ""
           }
          },
          "colorscale": {
           "diverging": [
            [
             0,
             "#8e0152"
            ],
            [
             0.1,
             "#c51b7d"
            ],
            [
             0.2,
             "#de77ae"
            ],
            [
             0.3,
             "#f1b6da"
            ],
            [
             0.4,
             "#fde0ef"
            ],
            [
             0.5,
             "#f7f7f7"
            ],
            [
             0.6,
             "#e6f5d0"
            ],
            [
             0.7,
             "#b8e186"
            ],
            [
             0.8,
             "#7fbc41"
            ],
            [
             0.9,
             "#4d9221"
            ],
            [
             1,
             "#276419"
            ]
           ],
           "sequential": [
            [
             0,
             "#0d0887"
            ],
            [
             0.1111111111111111,
             "#46039f"
            ],
            [
             0.2222222222222222,
             "#7201a8"
            ],
            [
             0.3333333333333333,
             "#9c179e"
            ],
            [
             0.4444444444444444,
             "#bd3786"
            ],
            [
             0.5555555555555556,
             "#d8576b"
            ],
            [
             0.6666666666666666,
             "#ed7953"
            ],
            [
             0.7777777777777778,
             "#fb9f3a"
            ],
            [
             0.8888888888888888,
             "#fdca26"
            ],
            [
             1,
             "#f0f921"
            ]
           ],
           "sequentialminus": [
            [
             0,
             "#0d0887"
            ],
            [
             0.1111111111111111,
             "#46039f"
            ],
            [
             0.2222222222222222,
             "#7201a8"
            ],
            [
             0.3333333333333333,
             "#9c179e"
            ],
            [
             0.4444444444444444,
             "#bd3786"
            ],
            [
             0.5555555555555556,
             "#d8576b"
            ],
            [
             0.6666666666666666,
             "#ed7953"
            ],
            [
             0.7777777777777778,
             "#fb9f3a"
            ],
            [
             0.8888888888888888,
             "#fdca26"
            ],
            [
             1,
             "#f0f921"
            ]
           ]
          },
          "colorway": [
           "#636efa",
           "#EF553B",
           "#00cc96",
           "#ab63fa",
           "#FFA15A",
           "#19d3f3",
           "#FF6692",
           "#B6E880",
           "#FF97FF",
           "#FECB52"
          ],
          "font": {
           "color": "#2a3f5f"
          },
          "geo": {
           "bgcolor": "white",
           "lakecolor": "white",
           "landcolor": "#E5ECF6",
           "showlakes": true,
           "showland": true,
           "subunitcolor": "white"
          },
          "hoverlabel": {
           "align": "left"
          },
          "hovermode": "closest",
          "mapbox": {
           "style": "light"
          },
          "paper_bgcolor": "white",
          "plot_bgcolor": "#E5ECF6",
          "polar": {
           "angularaxis": {
            "gridcolor": "white",
            "linecolor": "white",
            "ticks": ""
           },
           "bgcolor": "#E5ECF6",
           "radialaxis": {
            "gridcolor": "white",
            "linecolor": "white",
            "ticks": ""
           }
          },
          "scene": {
           "xaxis": {
            "backgroundcolor": "#E5ECF6",
            "gridcolor": "white",
            "gridwidth": 2,
            "linecolor": "white",
            "showbackground": true,
            "ticks": "",
            "zerolinecolor": "white"
           },
           "yaxis": {
            "backgroundcolor": "#E5ECF6",
            "gridcolor": "white",
            "gridwidth": 2,
            "linecolor": "white",
            "showbackground": true,
            "ticks": "",
            "zerolinecolor": "white"
           },
           "zaxis": {
            "backgroundcolor": "#E5ECF6",
            "gridcolor": "white",
            "gridwidth": 2,
            "linecolor": "white",
            "showbackground": true,
            "ticks": "",
            "zerolinecolor": "white"
           }
          },
          "shapedefaults": {
           "line": {
            "color": "#2a3f5f"
           }
          },
          "ternary": {
           "aaxis": {
            "gridcolor": "white",
            "linecolor": "white",
            "ticks": ""
           },
           "baxis": {
            "gridcolor": "white",
            "linecolor": "white",
            "ticks": ""
           },
           "bgcolor": "#E5ECF6",
           "caxis": {
            "gridcolor": "white",
            "linecolor": "white",
            "ticks": ""
           }
          },
          "title": {
           "x": 0.05
          },
          "xaxis": {
           "automargin": true,
           "gridcolor": "white",
           "linecolor": "white",
           "ticks": "",
           "title": {
            "standoff": 15
           },
           "zerolinecolor": "white",
           "zerolinewidth": 2
          },
          "yaxis": {
           "automargin": true,
           "gridcolor": "white",
           "linecolor": "white",
           "ticks": "",
           "title": {
            "standoff": 15
           },
           "zerolinecolor": "white",
           "zerolinewidth": 2
          }
         }
        },
        "title": {
         "text": "Number of perscriptions per 1000 people over 65 (US, 2014)"
        },
        "xaxis": {
         "anchor": "y",
         "domain": [
          0,
          1
         ],
         "title": {
          "text": "State"
         }
        },
        "yaxis": {
         "anchor": "x",
         "domain": [
          0,
          1
         ],
         "title": {
          "text": ""
         }
        }
       }
      },
      "text/html": [
       "<div>                            <div id=\"708fa943-51b6-4f1a-9499-e62da47f554a\" class=\"plotly-graph-div\" style=\"height:525px; width:100%;\"></div>            <script type=\"text/javascript\">                require([\"plotly\"], function(Plotly) {                    window.PLOTLYENV=window.PLOTLYENV || {};                                    if (document.getElementById(\"708fa943-51b6-4f1a-9499-e62da47f554a\")) {                    Plotly.newPlot(                        \"708fa943-51b6-4f1a-9499-e62da47f554a\",                        [{\"alignmentgroup\":\"True\",\"hovertemplate\":\"State=%{x}<br>=%{y}<br>Population over 65=%{marker.color}<extra></extra>\",\"legendgroup\":\"\",\"marker\":{\"color\":[918924.0,1600164.0,4239816.0,3286900.0,279576.0,1269060.0,327824.0,15082188.0,615796.0,2702640.0,4591688.0,3942632.0,1176544.0,19803224.0,678340.0,12319260.0,7196932.0,849028.0,925752.0,5269872.0,2511540.0,2252040.0,422556.0,3110104.0,2244544.0,309376.0,3043484.0,3481504.0,4992452.0,6124864.0,4082484.0,7199992.0,2967264.0,11694912.0,972768.0,3767316.0,8538972.0,1862060.0,513304.0,1958552.0,1658416.0,3730236.0,5835596.0,666240.0,1083268.0,2537576.0,1317204.0,1704688.0,418536.0,3931888.0,2618168.0],\"coloraxis\":\"coloraxis\",\"pattern\":{\"shape\":\"\"}},\"name\":\"\",\"offsetgroup\":\"\",\"orientation\":\"v\",\"showlegend\":false,\"textposition\":\"auto\",\"type\":\"bar\",\"x\":[\"HI\",\"NV\",\"AZ\",\"MD\",\"AK\",\"NM\",\"WY\",\"FL\",\"DE\",\"CO\",\"VA\",\"WA\",\"UT\",\"CA\",\"MT\",\"TX\",\"IL\",\"NH\",\"ID\",\"NJ\",\"OR\",\"CT\",\"VT\",\"MN\",\"OK\",\"DC\",\"SC\",\"WI\",\"GA\",\"MI\",\"MA\",\"OH\",\"AL\",\"NY\",\"ME\",\"IN\",\"PA\",\"AR\",\"SD\",\"IA\",\"KS\",\"MO\",\"NC\",\"RI\",\"NE\",\"LA\",\"WV\",\"MS\",\"ND\",\"TN\",\"KY\"],\"xaxis\":\"x\",\"y\":[86.29440519564186,93.66602423251618,99.6672968826949,102.6864218564605,102.97736572524107,103.38518273367688,106.0874127580653,106.83357083203047,111.47360489512761,114.73744190865227,115.87481553624724,116.20612829196334,116.84135909919222,116.87915058679334,117.44552879087183,119.51042513917231,120.4104749079191,121.48362598171084,121.73778722595252,123.39768404242076,126.24127029631221,126.62341699081722,127.1405446852015,129.0207658650643,129.35723247127257,132.41492552751345,132.7090926057111,133.0473841190474,133.22892238122668,134.57523301741884,136.48675659230997,139.15265461406068,140.34443851305446,141.1206856451763,142.28058488766078,142.326260924223,143.94367378180885,145.02164269679818,146.90904415317237,146.94835776634986,148.22336494582783,148.31983820862808,150.17026538506093,151.32985110470702,154.1160636149134,155.48026935942016,155.75112131454202,157.8763973231465,159.79031672305368,161.4458499326532,172.37625698580075],\"yaxis\":\"y\"}],                        {\"barmode\":\"relative\",\"coloraxis\":{\"colorbar\":{\"title\":{\"text\":\"Population over 65\"}},\"colorscale\":[[0.0,\"#0d0887\"],[0.1111111111111111,\"#46039f\"],[0.2222222222222222,\"#7201a8\"],[0.3333333333333333,\"#9c179e\"],[0.4444444444444444,\"#bd3786\"],[0.5555555555555556,\"#d8576b\"],[0.6666666666666666,\"#ed7953\"],[0.7777777777777778,\"#fb9f3a\"],[0.8888888888888888,\"#fdca26\"],[1.0,\"#f0f921\"]]},\"legend\":{\"tracegroupgap\":0},\"template\":{\"data\":{\"bar\":[{\"error_x\":{\"color\":\"#2a3f5f\"},\"error_y\":{\"color\":\"#2a3f5f\"},\"marker\":{\"line\":{\"color\":\"#E5ECF6\",\"width\":0.5},\"pattern\":{\"fillmode\":\"overlay\",\"size\":10,\"solidity\":0.2}},\"type\":\"bar\"}],\"barpolar\":[{\"marker\":{\"line\":{\"color\":\"#E5ECF6\",\"width\":0.5},\"pattern\":{\"fillmode\":\"overlay\",\"size\":10,\"solidity\":0.2}},\"type\":\"barpolar\"}],\"carpet\":[{\"aaxis\":{\"endlinecolor\":\"#2a3f5f\",\"gridcolor\":\"white\",\"linecolor\":\"white\",\"minorgridcolor\":\"white\",\"startlinecolor\":\"#2a3f5f\"},\"baxis\":{\"endlinecolor\":\"#2a3f5f\",\"gridcolor\":\"white\",\"linecolor\":\"white\",\"minorgridcolor\":\"white\",\"startlinecolor\":\"#2a3f5f\"},\"type\":\"carpet\"}],\"choropleth\":[{\"colorbar\":{\"outlinewidth\":0,\"ticks\":\"\"},\"type\":\"choropleth\"}],\"contour\":[{\"colorbar\":{\"outlinewidth\":0,\"ticks\":\"\"},\"colorscale\":[[0.0,\"#0d0887\"],[0.1111111111111111,\"#46039f\"],[0.2222222222222222,\"#7201a8\"],[0.3333333333333333,\"#9c179e\"],[0.4444444444444444,\"#bd3786\"],[0.5555555555555556,\"#d8576b\"],[0.6666666666666666,\"#ed7953\"],[0.7777777777777778,\"#fb9f3a\"],[0.8888888888888888,\"#fdca26\"],[1.0,\"#f0f921\"]],\"type\":\"contour\"}],\"contourcarpet\":[{\"colorbar\":{\"outlinewidth\":0,\"ticks\":\"\"},\"type\":\"contourcarpet\"}],\"heatmap\":[{\"colorbar\":{\"outlinewidth\":0,\"ticks\":\"\"},\"colorscale\":[[0.0,\"#0d0887\"],[0.1111111111111111,\"#46039f\"],[0.2222222222222222,\"#7201a8\"],[0.3333333333333333,\"#9c179e\"],[0.4444444444444444,\"#bd3786\"],[0.5555555555555556,\"#d8576b\"],[0.6666666666666666,\"#ed7953\"],[0.7777777777777778,\"#fb9f3a\"],[0.8888888888888888,\"#fdca26\"],[1.0,\"#f0f921\"]],\"type\":\"heatmap\"}],\"heatmapgl\":[{\"colorbar\":{\"outlinewidth\":0,\"ticks\":\"\"},\"colorscale\":[[0.0,\"#0d0887\"],[0.1111111111111111,\"#46039f\"],[0.2222222222222222,\"#7201a8\"],[0.3333333333333333,\"#9c179e\"],[0.4444444444444444,\"#bd3786\"],[0.5555555555555556,\"#d8576b\"],[0.6666666666666666,\"#ed7953\"],[0.7777777777777778,\"#fb9f3a\"],[0.8888888888888888,\"#fdca26\"],[1.0,\"#f0f921\"]],\"type\":\"heatmapgl\"}],\"histogram\":[{\"marker\":{\"pattern\":{\"fillmode\":\"overlay\",\"size\":10,\"solidity\":0.2}},\"type\":\"histogram\"}],\"histogram2d\":[{\"colorbar\":{\"outlinewidth\":0,\"ticks\":\"\"},\"colorscale\":[[0.0,\"#0d0887\"],[0.1111111111111111,\"#46039f\"],[0.2222222222222222,\"#7201a8\"],[0.3333333333333333,\"#9c179e\"],[0.4444444444444444,\"#bd3786\"],[0.5555555555555556,\"#d8576b\"],[0.6666666666666666,\"#ed7953\"],[0.7777777777777778,\"#fb9f3a\"],[0.8888888888888888,\"#fdca26\"],[1.0,\"#f0f921\"]],\"type\":\"histogram2d\"}],\"histogram2dcontour\":[{\"colorbar\":{\"outlinewidth\":0,\"ticks\":\"\"},\"colorscale\":[[0.0,\"#0d0887\"],[0.1111111111111111,\"#46039f\"],[0.2222222222222222,\"#7201a8\"],[0.3333333333333333,\"#9c179e\"],[0.4444444444444444,\"#bd3786\"],[0.5555555555555556,\"#d8576b\"],[0.6666666666666666,\"#ed7953\"],[0.7777777777777778,\"#fb9f3a\"],[0.8888888888888888,\"#fdca26\"],[1.0,\"#f0f921\"]],\"type\":\"histogram2dcontour\"}],\"mesh3d\":[{\"colorbar\":{\"outlinewidth\":0,\"ticks\":\"\"},\"type\":\"mesh3d\"}],\"parcoords\":[{\"line\":{\"colorbar\":{\"outlinewidth\":0,\"ticks\":\"\"}},\"type\":\"parcoords\"}],\"pie\":[{\"automargin\":true,\"type\":\"pie\"}],\"scatter\":[{\"marker\":{\"colorbar\":{\"outlinewidth\":0,\"ticks\":\"\"}},\"type\":\"scatter\"}],\"scatter3d\":[{\"line\":{\"colorbar\":{\"outlinewidth\":0,\"ticks\":\"\"}},\"marker\":{\"colorbar\":{\"outlinewidth\":0,\"ticks\":\"\"}},\"type\":\"scatter3d\"}],\"scattercarpet\":[{\"marker\":{\"colorbar\":{\"outlinewidth\":0,\"ticks\":\"\"}},\"type\":\"scattercarpet\"}],\"scattergeo\":[{\"marker\":{\"colorbar\":{\"outlinewidth\":0,\"ticks\":\"\"}},\"type\":\"scattergeo\"}],\"scattergl\":[{\"marker\":{\"colorbar\":{\"outlinewidth\":0,\"ticks\":\"\"}},\"type\":\"scattergl\"}],\"scattermapbox\":[{\"marker\":{\"colorbar\":{\"outlinewidth\":0,\"ticks\":\"\"}},\"type\":\"scattermapbox\"}],\"scatterpolar\":[{\"marker\":{\"colorbar\":{\"outlinewidth\":0,\"ticks\":\"\"}},\"type\":\"scatterpolar\"}],\"scatterpolargl\":[{\"marker\":{\"colorbar\":{\"outlinewidth\":0,\"ticks\":\"\"}},\"type\":\"scatterpolargl\"}],\"scatterternary\":[{\"marker\":{\"colorbar\":{\"outlinewidth\":0,\"ticks\":\"\"}},\"type\":\"scatterternary\"}],\"surface\":[{\"colorbar\":{\"outlinewidth\":0,\"ticks\":\"\"},\"colorscale\":[[0.0,\"#0d0887\"],[0.1111111111111111,\"#46039f\"],[0.2222222222222222,\"#7201a8\"],[0.3333333333333333,\"#9c179e\"],[0.4444444444444444,\"#bd3786\"],[0.5555555555555556,\"#d8576b\"],[0.6666666666666666,\"#ed7953\"],[0.7777777777777778,\"#fb9f3a\"],[0.8888888888888888,\"#fdca26\"],[1.0,\"#f0f921\"]],\"type\":\"surface\"}],\"table\":[{\"cells\":{\"fill\":{\"color\":\"#EBF0F8\"},\"line\":{\"color\":\"white\"}},\"header\":{\"fill\":{\"color\":\"#C8D4E3\"},\"line\":{\"color\":\"white\"}},\"type\":\"table\"}]},\"layout\":{\"annotationdefaults\":{\"arrowcolor\":\"#2a3f5f\",\"arrowhead\":0,\"arrowwidth\":1},\"autotypenumbers\":\"strict\",\"coloraxis\":{\"colorbar\":{\"outlinewidth\":0,\"ticks\":\"\"}},\"colorscale\":{\"diverging\":[[0,\"#8e0152\"],[0.1,\"#c51b7d\"],[0.2,\"#de77ae\"],[0.3,\"#f1b6da\"],[0.4,\"#fde0ef\"],[0.5,\"#f7f7f7\"],[0.6,\"#e6f5d0\"],[0.7,\"#b8e186\"],[0.8,\"#7fbc41\"],[0.9,\"#4d9221\"],[1,\"#276419\"]],\"sequential\":[[0.0,\"#0d0887\"],[0.1111111111111111,\"#46039f\"],[0.2222222222222222,\"#7201a8\"],[0.3333333333333333,\"#9c179e\"],[0.4444444444444444,\"#bd3786\"],[0.5555555555555556,\"#d8576b\"],[0.6666666666666666,\"#ed7953\"],[0.7777777777777778,\"#fb9f3a\"],[0.8888888888888888,\"#fdca26\"],[1.0,\"#f0f921\"]],\"sequentialminus\":[[0.0,\"#0d0887\"],[0.1111111111111111,\"#46039f\"],[0.2222222222222222,\"#7201a8\"],[0.3333333333333333,\"#9c179e\"],[0.4444444444444444,\"#bd3786\"],[0.5555555555555556,\"#d8576b\"],[0.6666666666666666,\"#ed7953\"],[0.7777777777777778,\"#fb9f3a\"],[0.8888888888888888,\"#fdca26\"],[1.0,\"#f0f921\"]]},\"colorway\":[\"#636efa\",\"#EF553B\",\"#00cc96\",\"#ab63fa\",\"#FFA15A\",\"#19d3f3\",\"#FF6692\",\"#B6E880\",\"#FF97FF\",\"#FECB52\"],\"font\":{\"color\":\"#2a3f5f\"},\"geo\":{\"bgcolor\":\"white\",\"lakecolor\":\"white\",\"landcolor\":\"#E5ECF6\",\"showlakes\":true,\"showland\":true,\"subunitcolor\":\"white\"},\"hoverlabel\":{\"align\":\"left\"},\"hovermode\":\"closest\",\"mapbox\":{\"style\":\"light\"},\"paper_bgcolor\":\"white\",\"plot_bgcolor\":\"#E5ECF6\",\"polar\":{\"angularaxis\":{\"gridcolor\":\"white\",\"linecolor\":\"white\",\"ticks\":\"\"},\"bgcolor\":\"#E5ECF6\",\"radialaxis\":{\"gridcolor\":\"white\",\"linecolor\":\"white\",\"ticks\":\"\"}},\"scene\":{\"xaxis\":{\"backgroundcolor\":\"#E5ECF6\",\"gridcolor\":\"white\",\"gridwidth\":2,\"linecolor\":\"white\",\"showbackground\":true,\"ticks\":\"\",\"zerolinecolor\":\"white\"},\"yaxis\":{\"backgroundcolor\":\"#E5ECF6\",\"gridcolor\":\"white\",\"gridwidth\":2,\"linecolor\":\"white\",\"showbackground\":true,\"ticks\":\"\",\"zerolinecolor\":\"white\"},\"zaxis\":{\"backgroundcolor\":\"#E5ECF6\",\"gridcolor\":\"white\",\"gridwidth\":2,\"linecolor\":\"white\",\"showbackground\":true,\"ticks\":\"\",\"zerolinecolor\":\"white\"}},\"shapedefaults\":{\"line\":{\"color\":\"#2a3f5f\"}},\"ternary\":{\"aaxis\":{\"gridcolor\":\"white\",\"linecolor\":\"white\",\"ticks\":\"\"},\"baxis\":{\"gridcolor\":\"white\",\"linecolor\":\"white\",\"ticks\":\"\"},\"bgcolor\":\"#E5ECF6\",\"caxis\":{\"gridcolor\":\"white\",\"linecolor\":\"white\",\"ticks\":\"\"}},\"title\":{\"x\":0.05},\"xaxis\":{\"automargin\":true,\"gridcolor\":\"white\",\"linecolor\":\"white\",\"ticks\":\"\",\"title\":{\"standoff\":15},\"zerolinecolor\":\"white\",\"zerolinewidth\":2},\"yaxis\":{\"automargin\":true,\"gridcolor\":\"white\",\"linecolor\":\"white\",\"ticks\":\"\",\"title\":{\"standoff\":15},\"zerolinecolor\":\"white\",\"zerolinewidth\":2}}},\"title\":{\"text\":\"Number of perscriptions per 1000 people over 65 (US, 2014)\"},\"xaxis\":{\"anchor\":\"y\",\"domain\":[0.0,1.0],\"title\":{\"text\":\"State\"}},\"yaxis\":{\"anchor\":\"x\",\"domain\":[0.0,1.0],\"title\":{\"text\":\"\"}}},                        {\"responsive\": true}                    ).then(function(){\n",
       "                            \n",
       "var gd = document.getElementById('708fa943-51b6-4f1a-9499-e62da47f554a');\n",
       "var x = new MutationObserver(function (mutations, observer) {{\n",
       "        var display = window.getComputedStyle(gd).display;\n",
       "        if (!display || display === 'none') {{\n",
       "            console.log([gd, 'removed!']);\n",
       "            Plotly.purge(gd);\n",
       "            observer.disconnect();\n",
       "        }}\n",
       "}});\n",
       "\n",
       "// Listen for the removal of the full notebook cells\n",
       "var notebookContainer = gd.closest('#notebook-container');\n",
       "if (notebookContainer) {{\n",
       "    x.observe(notebookContainer, {childList: true});\n",
       "}}\n",
       "\n",
       "// Listen for the clearing of the current output cell\n",
       "var outputEl = gd.closest('.output');\n",
       "if (outputEl) {{\n",
       "    x.observe(outputEl, {childList: true});\n",
       "}}\n",
       "\n",
       "                        })                };                });            </script>        </div>"
      ]
     },
     "metadata": {},
     "output_type": "display_data"
    }
   ],
   "source": [
    "percent_over_65 = (state_med_pop_data['Population over 65'] / state_med_pop_data['Est. population 2014']) * 100\n",
    "fig = px.bar(state_med_pop_data.sort_values('Total perscriptions per 1k over 65'), x='state', y='Total perscriptions per 1k over 65', \n",
    "                     labels={'state': 'State', \n",
    "#                                      'most_common_med_perscribed': 'Most common medication perscribed',\n",
    "#                                      'total_num_med_perscribed':'Total number of perscriptions',\n",
    "                                     'Total perscriptions per 1k over 65': ''\n",
    "                                        }, \n",
    "                     title='Number of perscriptions per 1000 people over 65 (US, 2014)',\n",
    "                     color = 'Population over 65'\n",
    "                     )\n",
    "fig.show()"
   ]
  },
  {
   "cell_type": "markdown",
   "metadata": {},
   "source": [
    "Fig. 6: Above figure is per 1000 people over the age of 65. Notice that in this case, Hawaii now ranks the lowest and Kentuky the highest. The top 5 states with the most perscriptions per capita (KY, TN, ND, MS, WV),  as well as the bottom 5 states (HI, NV, AZ, MD, AK), both have elderly populations under 3M. Note that we will not be using the heat map in our final presentation--this is for exploratory purposes. Actually, top 10-ish sates are largely southern and midwestern while the bottom 10-ish are largely western and mid-atlantic states. Some of the things we can consider in an explanitory analysis is how these states differ in terms of gender, income and poverty rates, race, and education level. "
   ]
  },
  {
   "cell_type": "markdown",
   "metadata": {},
   "source": [
    "From Fig.3, we determined that the most commonly perscribed medication is potassium chloride which is used as a treatment for potassium defficiency (hypokalemia).  "
   ]
  },
  {
   "cell_type": "code",
   "execution_count": 838,
   "metadata": {
    "ExecuteTime": {
     "end_time": "2021-06-30T18:16:01.452493Z",
     "start_time": "2021-06-30T18:16:01.402154Z"
    }
   },
   "outputs": [],
   "source": [
    "state_med_pop_data = state_med_pop_data.rename(columns={'state':'Postal Code'})"
   ]
  },
  {
   "cell_type": "markdown",
   "metadata": {
    "heading_collapsed": true
   },
   "source": [
    "#### Pulling in poverty and median household income data (2014)"
   ]
  },
  {
   "cell_type": "code",
   "execution_count": 836,
   "metadata": {
    "ExecuteTime": {
     "end_time": "2021-06-30T18:15:26.272460Z",
     "start_time": "2021-06-30T18:15:25.764548Z"
    },
    "hidden": true
   },
   "outputs": [],
   "source": [
    "poverty_data = pd.read_csv(\"../data/csv/est14us.csv\", usecols=['Postal Code', 'Poverty Estimate, All Ages', \n",
    "                                                                                                                   'Median Household Income'])"
   ]
  },
  {
   "cell_type": "code",
   "execution_count": 839,
   "metadata": {
    "ExecuteTime": {
     "end_time": "2021-06-30T18:16:20.833445Z",
     "start_time": "2021-06-30T18:16:20.558334Z"
    },
    "hidden": true
   },
   "outputs": [
    {
     "data": {
      "text/html": [
       "<div>\n",
       "<style scoped>\n",
       "    .dataframe tbody tr th:only-of-type {\n",
       "        vertical-align: middle;\n",
       "    }\n",
       "\n",
       "    .dataframe tbody tr th {\n",
       "        vertical-align: top;\n",
       "    }\n",
       "\n",
       "    .dataframe thead th {\n",
       "        text-align: right;\n",
       "    }\n",
       "</style>\n",
       "<table border=\"1\" class=\"dataframe\">\n",
       "  <thead>\n",
       "    <tr style=\"text-align: right;\">\n",
       "      <th></th>\n",
       "      <th>Postal Code</th>\n",
       "      <th>Population over 65</th>\n",
       "      <th>Male (%)</th>\n",
       "      <th>Female (%)</th>\n",
       "      <th>White (%)</th>\n",
       "      <th>Black (%)</th>\n",
       "      <th>Native American (%)</th>\n",
       "      <th>Asian (%)</th>\n",
       "      <th>Native Hawaiian and Pacific Islander (%)</th>\n",
       "      <th>Two or More Races (%)</th>\n",
       "      <th>Total perscriptions</th>\n",
       "      <th>Most common perscription</th>\n",
       "      <th>Number perscribed</th>\n",
       "      <th>Percent of total perscriptions</th>\n",
       "      <th>Est. population 2014</th>\n",
       "      <th>Total perscriptions per 100k</th>\n",
       "      <th>Total perscriptions per 1k over 65</th>\n",
       "      <th>Poverty Estimate, All Ages</th>\n",
       "      <th>Median Household Income</th>\n",
       "    </tr>\n",
       "  </thead>\n",
       "  <tbody>\n",
       "    <tr>\n",
       "      <th>0</th>\n",
       "      <td>AL</td>\n",
       "      <td>2967264.0</td>\n",
       "      <td>43.217860</td>\n",
       "      <td>56.782140</td>\n",
       "      <td>79.907147</td>\n",
       "      <td>18.243877</td>\n",
       "      <td>0.475050</td>\n",
       "      <td>0.655958</td>\n",
       "      <td>0.025478</td>\n",
       "      <td>0.692490</td>\n",
       "      <td>416439</td>\n",
       "      <td>POTASSIUM CHLORIDE</td>\n",
       "      <td>6595</td>\n",
       "      <td>1.583665</td>\n",
       "      <td>4841799.0</td>\n",
       "      <td>136.209702</td>\n",
       "      <td>140.344439</td>\n",
       "      <td>905682.0</td>\n",
       "      <td>42917.0</td>\n",
       "    </tr>\n",
       "    <tr>\n",
       "      <th>1</th>\n",
       "      <td>AK</td>\n",
       "      <td>279576.0</td>\n",
       "      <td>49.587947</td>\n",
       "      <td>50.412053</td>\n",
       "      <td>76.867828</td>\n",
       "      <td>2.057401</td>\n",
       "      <td>12.408790</td>\n",
       "      <td>5.923255</td>\n",
       "      <td>0.437806</td>\n",
       "      <td>2.304919</td>\n",
       "      <td>28790</td>\n",
       "      <td>HYDROCODONE/ACETAMINOPHEN</td>\n",
       "      <td>678</td>\n",
       "      <td>2.354984</td>\n",
       "      <td>736283.0</td>\n",
       "      <td>92.084158</td>\n",
       "      <td>102.977366</td>\n",
       "      <td>81622.0</td>\n",
       "      <td>70898.0</td>\n",
       "    </tr>\n",
       "    <tr>\n",
       "      <th>2</th>\n",
       "      <td>AZ</td>\n",
       "      <td>4239816.0</td>\n",
       "      <td>46.086245</td>\n",
       "      <td>53.913755</td>\n",
       "      <td>92.575999</td>\n",
       "      <td>2.212926</td>\n",
       "      <td>2.428879</td>\n",
       "      <td>1.953575</td>\n",
       "      <td>0.096891</td>\n",
       "      <td>0.731730</td>\n",
       "      <td>422571</td>\n",
       "      <td>HYDROCODONE/ACETAMINOPHEN</td>\n",
       "      <td>7136</td>\n",
       "      <td>1.688710</td>\n",
       "      <td>6730413.0</td>\n",
       "      <td>106.026183</td>\n",
       "      <td>99.667297</td>\n",
       "      <td>1195889.0</td>\n",
       "      <td>50036.0</td>\n",
       "    </tr>\n",
       "    <tr>\n",
       "      <th>3</th>\n",
       "      <td>AR</td>\n",
       "      <td>1862060.0</td>\n",
       "      <td>44.251420</td>\n",
       "      <td>55.748580</td>\n",
       "      <td>88.554826</td>\n",
       "      <td>9.309260</td>\n",
       "      <td>0.558951</td>\n",
       "      <td>0.630914</td>\n",
       "      <td>0.038452</td>\n",
       "      <td>0.907597</td>\n",
       "      <td>270039</td>\n",
       "      <td>POTASSIUM CHLORIDE</td>\n",
       "      <td>4218</td>\n",
       "      <td>1.561997</td>\n",
       "      <td>2967392.0</td>\n",
       "      <td>142.145022</td>\n",
       "      <td>145.021643</td>\n",
       "      <td>539999.0</td>\n",
       "      <td>41335.0</td>\n",
       "    </tr>\n",
       "    <tr>\n",
       "      <th>4</th>\n",
       "      <td>CA</td>\n",
       "      <td>19803224.0</td>\n",
       "      <td>44.155315</td>\n",
       "      <td>55.844685</td>\n",
       "      <td>77.230576</td>\n",
       "      <td>5.423359</td>\n",
       "      <td>0.933000</td>\n",
       "      <td>14.692052</td>\n",
       "      <td>0.295326</td>\n",
       "      <td>1.425687</td>\n",
       "      <td>2314584</td>\n",
       "      <td>HYDROCODONE/ACETAMINOPHEN</td>\n",
       "      <td>40966</td>\n",
       "      <td>1.769908</td>\n",
       "      <td>38596972.0</td>\n",
       "      <td>106.137860</td>\n",
       "      <td>116.879151</td>\n",
       "      <td>6253423.0</td>\n",
       "      <td>61927.0</td>\n",
       "    </tr>\n",
       "  </tbody>\n",
       "</table>\n",
       "</div>"
      ],
      "text/plain": [
       "  Postal Code  Population over 65   Male (%)  Female (%)  White (%)  \\\n",
       "0          AL           2967264.0  43.217860   56.782140  79.907147   \n",
       "1          AK            279576.0  49.587947   50.412053  76.867828   \n",
       "2          AZ           4239816.0  46.086245   53.913755  92.575999   \n",
       "3          AR           1862060.0  44.251420   55.748580  88.554826   \n",
       "4          CA          19803224.0  44.155315   55.844685  77.230576   \n",
       "\n",
       "   Black (%)  Native American (%)  Asian (%)  \\\n",
       "0  18.243877             0.475050   0.655958   \n",
       "1   2.057401            12.408790   5.923255   \n",
       "2   2.212926             2.428879   1.953575   \n",
       "3   9.309260             0.558951   0.630914   \n",
       "4   5.423359             0.933000  14.692052   \n",
       "\n",
       "   Native Hawaiian and Pacific Islander (%)  Two or More Races (%)  \\\n",
       "0                                  0.025478               0.692490   \n",
       "1                                  0.437806               2.304919   \n",
       "2                                  0.096891               0.731730   \n",
       "3                                  0.038452               0.907597   \n",
       "4                                  0.295326               1.425687   \n",
       "\n",
       "   Total perscriptions   Most common perscription  Number perscribed  \\\n",
       "0               416439         POTASSIUM CHLORIDE               6595   \n",
       "1                28790  HYDROCODONE/ACETAMINOPHEN                678   \n",
       "2               422571  HYDROCODONE/ACETAMINOPHEN               7136   \n",
       "3               270039         POTASSIUM CHLORIDE               4218   \n",
       "4              2314584  HYDROCODONE/ACETAMINOPHEN              40966   \n",
       "\n",
       "   Percent of total perscriptions  Est. population 2014  \\\n",
       "0                        1.583665             4841799.0   \n",
       "1                        2.354984              736283.0   \n",
       "2                        1.688710             6730413.0   \n",
       "3                        1.561997             2967392.0   \n",
       "4                        1.769908            38596972.0   \n",
       "\n",
       "   Total perscriptions per 100k  Total perscriptions per 1k over 65  \\\n",
       "0                    136.209702                          140.344439   \n",
       "1                     92.084158                          102.977366   \n",
       "2                    106.026183                           99.667297   \n",
       "3                    142.145022                          145.021643   \n",
       "4                    106.137860                          116.879151   \n",
       "\n",
       "   Poverty Estimate, All Ages  Median Household Income  \n",
       "0                    905682.0                  42917.0  \n",
       "1                     81622.0                  70898.0  \n",
       "2                   1195889.0                  50036.0  \n",
       "3                    539999.0                  41335.0  \n",
       "4                   6253423.0                  61927.0  "
      ]
     },
     "execution_count": 839,
     "metadata": {},
     "output_type": "execute_result"
    }
   ],
   "source": [
    "state_med_estpop_income_df = pd.merge(state_med_pop_data, poverty_data, on='Postal Code')\n",
    "state_med_estpop_income_df.head()"
   ]
  },
  {
   "cell_type": "code",
   "execution_count": 842,
   "metadata": {
    "ExecuteTime": {
     "end_time": "2021-06-30T18:19:14.829165Z",
     "start_time": "2021-06-30T18:19:14.778388Z"
    },
    "hidden": true
   },
   "outputs": [],
   "source": [
    "state_med_estpop_income_df[\"Poverty Rate, All Ages\"] = (state_med_estpop_income_df['Poverty Estimate, All Ages'] / \n",
    "                                                                            state_med_estpop_income_df['Est. population 2014']) * 100"
   ]
  },
  {
   "cell_type": "code",
   "execution_count": 843,
   "metadata": {
    "ExecuteTime": {
     "end_time": "2021-06-30T18:19:37.854797Z",
     "start_time": "2021-06-30T18:19:37.686708Z"
    },
    "hidden": true
   },
   "outputs": [
    {
     "data": {
      "text/html": [
       "<div>\n",
       "<style scoped>\n",
       "    .dataframe tbody tr th:only-of-type {\n",
       "        vertical-align: middle;\n",
       "    }\n",
       "\n",
       "    .dataframe tbody tr th {\n",
       "        vertical-align: top;\n",
       "    }\n",
       "\n",
       "    .dataframe thead th {\n",
       "        text-align: right;\n",
       "    }\n",
       "</style>\n",
       "<table border=\"1\" class=\"dataframe\">\n",
       "  <thead>\n",
       "    <tr style=\"text-align: right;\">\n",
       "      <th></th>\n",
       "      <th>Postal Code</th>\n",
       "      <th>Population over 65</th>\n",
       "      <th>Male (%)</th>\n",
       "      <th>Female (%)</th>\n",
       "      <th>White (%)</th>\n",
       "      <th>Black (%)</th>\n",
       "      <th>Native American (%)</th>\n",
       "      <th>Asian (%)</th>\n",
       "      <th>Native Hawaiian and Pacific Islander (%)</th>\n",
       "      <th>Two or More Races (%)</th>\n",
       "      <th>Total perscriptions</th>\n",
       "      <th>Most common perscription</th>\n",
       "      <th>Number perscribed</th>\n",
       "      <th>Percent of total perscriptions</th>\n",
       "      <th>Est. population 2014</th>\n",
       "      <th>Total perscriptions per 100k</th>\n",
       "      <th>Total perscriptions per 1k over 65</th>\n",
       "      <th>Poverty Estimate, All Ages</th>\n",
       "      <th>Median Household Income</th>\n",
       "      <th>Poverty Rate, All Ages</th>\n",
       "    </tr>\n",
       "  </thead>\n",
       "  <tbody>\n",
       "    <tr>\n",
       "      <th>0</th>\n",
       "      <td>AL</td>\n",
       "      <td>2967264.0</td>\n",
       "      <td>43.217860</td>\n",
       "      <td>56.782140</td>\n",
       "      <td>79.907147</td>\n",
       "      <td>18.243877</td>\n",
       "      <td>0.475050</td>\n",
       "      <td>0.655958</td>\n",
       "      <td>0.025478</td>\n",
       "      <td>0.692490</td>\n",
       "      <td>416439</td>\n",
       "      <td>POTASSIUM CHLORIDE</td>\n",
       "      <td>6595</td>\n",
       "      <td>1.583665</td>\n",
       "      <td>4841799.0</td>\n",
       "      <td>136.209702</td>\n",
       "      <td>140.344439</td>\n",
       "      <td>905682.0</td>\n",
       "      <td>42917.0</td>\n",
       "      <td>18.705485</td>\n",
       "    </tr>\n",
       "    <tr>\n",
       "      <th>1</th>\n",
       "      <td>AK</td>\n",
       "      <td>279576.0</td>\n",
       "      <td>49.587947</td>\n",
       "      <td>50.412053</td>\n",
       "      <td>76.867828</td>\n",
       "      <td>2.057401</td>\n",
       "      <td>12.408790</td>\n",
       "      <td>5.923255</td>\n",
       "      <td>0.437806</td>\n",
       "      <td>2.304919</td>\n",
       "      <td>28790</td>\n",
       "      <td>HYDROCODONE/ACETAMINOPHEN</td>\n",
       "      <td>678</td>\n",
       "      <td>2.354984</td>\n",
       "      <td>736283.0</td>\n",
       "      <td>92.084158</td>\n",
       "      <td>102.977366</td>\n",
       "      <td>81622.0</td>\n",
       "      <td>70898.0</td>\n",
       "      <td>11.085683</td>\n",
       "    </tr>\n",
       "    <tr>\n",
       "      <th>2</th>\n",
       "      <td>AZ</td>\n",
       "      <td>4239816.0</td>\n",
       "      <td>46.086245</td>\n",
       "      <td>53.913755</td>\n",
       "      <td>92.575999</td>\n",
       "      <td>2.212926</td>\n",
       "      <td>2.428879</td>\n",
       "      <td>1.953575</td>\n",
       "      <td>0.096891</td>\n",
       "      <td>0.731730</td>\n",
       "      <td>422571</td>\n",
       "      <td>HYDROCODONE/ACETAMINOPHEN</td>\n",
       "      <td>7136</td>\n",
       "      <td>1.688710</td>\n",
       "      <td>6730413.0</td>\n",
       "      <td>106.026183</td>\n",
       "      <td>99.667297</td>\n",
       "      <td>1195889.0</td>\n",
       "      <td>50036.0</td>\n",
       "      <td>17.768434</td>\n",
       "    </tr>\n",
       "    <tr>\n",
       "      <th>3</th>\n",
       "      <td>AR</td>\n",
       "      <td>1862060.0</td>\n",
       "      <td>44.251420</td>\n",
       "      <td>55.748580</td>\n",
       "      <td>88.554826</td>\n",
       "      <td>9.309260</td>\n",
       "      <td>0.558951</td>\n",
       "      <td>0.630914</td>\n",
       "      <td>0.038452</td>\n",
       "      <td>0.907597</td>\n",
       "      <td>270039</td>\n",
       "      <td>POTASSIUM CHLORIDE</td>\n",
       "      <td>4218</td>\n",
       "      <td>1.561997</td>\n",
       "      <td>2967392.0</td>\n",
       "      <td>142.145022</td>\n",
       "      <td>145.021643</td>\n",
       "      <td>539999.0</td>\n",
       "      <td>41335.0</td>\n",
       "      <td>18.197764</td>\n",
       "    </tr>\n",
       "    <tr>\n",
       "      <th>4</th>\n",
       "      <td>CA</td>\n",
       "      <td>19803224.0</td>\n",
       "      <td>44.155315</td>\n",
       "      <td>55.844685</td>\n",
       "      <td>77.230576</td>\n",
       "      <td>5.423359</td>\n",
       "      <td>0.933000</td>\n",
       "      <td>14.692052</td>\n",
       "      <td>0.295326</td>\n",
       "      <td>1.425687</td>\n",
       "      <td>2314584</td>\n",
       "      <td>HYDROCODONE/ACETAMINOPHEN</td>\n",
       "      <td>40966</td>\n",
       "      <td>1.769908</td>\n",
       "      <td>38596972.0</td>\n",
       "      <td>106.137860</td>\n",
       "      <td>116.879151</td>\n",
       "      <td>6253423.0</td>\n",
       "      <td>61927.0</td>\n",
       "      <td>16.201849</td>\n",
       "    </tr>\n",
       "  </tbody>\n",
       "</table>\n",
       "</div>"
      ],
      "text/plain": [
       "  Postal Code  Population over 65   Male (%)  Female (%)  White (%)  \\\n",
       "0          AL           2967264.0  43.217860   56.782140  79.907147   \n",
       "1          AK            279576.0  49.587947   50.412053  76.867828   \n",
       "2          AZ           4239816.0  46.086245   53.913755  92.575999   \n",
       "3          AR           1862060.0  44.251420   55.748580  88.554826   \n",
       "4          CA          19803224.0  44.155315   55.844685  77.230576   \n",
       "\n",
       "   Black (%)  Native American (%)  Asian (%)  \\\n",
       "0  18.243877             0.475050   0.655958   \n",
       "1   2.057401            12.408790   5.923255   \n",
       "2   2.212926             2.428879   1.953575   \n",
       "3   9.309260             0.558951   0.630914   \n",
       "4   5.423359             0.933000  14.692052   \n",
       "\n",
       "   Native Hawaiian and Pacific Islander (%)  Two or More Races (%)  \\\n",
       "0                                  0.025478               0.692490   \n",
       "1                                  0.437806               2.304919   \n",
       "2                                  0.096891               0.731730   \n",
       "3                                  0.038452               0.907597   \n",
       "4                                  0.295326               1.425687   \n",
       "\n",
       "   Total perscriptions   Most common perscription  Number perscribed  \\\n",
       "0               416439         POTASSIUM CHLORIDE               6595   \n",
       "1                28790  HYDROCODONE/ACETAMINOPHEN                678   \n",
       "2               422571  HYDROCODONE/ACETAMINOPHEN               7136   \n",
       "3               270039         POTASSIUM CHLORIDE               4218   \n",
       "4              2314584  HYDROCODONE/ACETAMINOPHEN              40966   \n",
       "\n",
       "   Percent of total perscriptions  Est. population 2014  \\\n",
       "0                        1.583665             4841799.0   \n",
       "1                        2.354984              736283.0   \n",
       "2                        1.688710             6730413.0   \n",
       "3                        1.561997             2967392.0   \n",
       "4                        1.769908            38596972.0   \n",
       "\n",
       "   Total perscriptions per 100k  Total perscriptions per 1k over 65  \\\n",
       "0                    136.209702                          140.344439   \n",
       "1                     92.084158                          102.977366   \n",
       "2                    106.026183                           99.667297   \n",
       "3                    142.145022                          145.021643   \n",
       "4                    106.137860                          116.879151   \n",
       "\n",
       "   Poverty Estimate, All Ages  Median Household Income  Poverty Rate, All Ages  \n",
       "0                    905682.0                  42917.0               18.705485  \n",
       "1                     81622.0                  70898.0               11.085683  \n",
       "2                   1195889.0                  50036.0               17.768434  \n",
       "3                    539999.0                  41335.0               18.197764  \n",
       "4                   6253423.0                  61927.0               16.201849  "
      ]
     },
     "execution_count": 843,
     "metadata": {},
     "output_type": "execute_result"
    }
   ],
   "source": [
    "state_med_estpop_income_df.head()"
   ]
  },
  {
   "cell_type": "code",
   "execution_count": 881,
   "metadata": {
    "ExecuteTime": {
     "end_time": "2021-07-01T02:03:03.620651Z",
     "start_time": "2021-07-01T02:03:03.137015Z"
    },
    "hidden": true
   },
   "outputs": [],
   "source": [
    "state_med_estpop_income_df.to_csv('../data/csv/state_med_estpop_income_2014.csv', header=True)"
   ]
  },
  {
   "cell_type": "markdown",
   "metadata": {},
   "source": [
    "### Finalizing dataset"
   ]
  },
  {
   "cell_type": "markdown",
   "metadata": {
    "heading_collapsed": true
   },
   "source": [
    "### Chloropleth maps (univariate)"
   ]
  },
  {
   "cell_type": "markdown",
   "metadata": {
    "heading_collapsed": true,
    "hidden": true
   },
   "source": [
    "#### Percentage of the population over 65"
   ]
  },
  {
   "cell_type": "code",
   "execution_count": 846,
   "metadata": {
    "ExecuteTime": {
     "end_time": "2021-07-01T00:40:02.834186Z",
     "start_time": "2021-07-01T00:39:42.600722Z"
    },
    "hidden": true
   },
   "outputs": [],
   "source": [
    "from splot.mapping import vba_choropleth\n",
    "import geopandas as gpd"
   ]
  },
  {
   "cell_type": "code",
   "execution_count": 847,
   "metadata": {
    "ExecuteTime": {
     "end_time": "2021-07-01T00:40:35.155606Z",
     "start_time": "2021-07-01T00:40:31.378208Z"
    },
    "hidden": true
   },
   "outputs": [],
   "source": [
    "states = gpd.read_file('../data/cb_2014_us_state_5m/cb_2014_us_state_5m.shp')\n",
    "states = states.rename(columns={\"STUSPS\": \"Postal Code\"})"
   ]
  },
  {
   "cell_type": "code",
   "execution_count": 874,
   "metadata": {
    "ExecuteTime": {
     "end_time": "2021-07-01T01:49:37.008386Z",
     "start_time": "2021-07-01T01:49:32.966145Z"
    },
    "hidden": true
   },
   "outputs": [
    {
     "name": "stderr",
     "output_type": "stream",
     "text": [
      "<ipython-input-874-9b50f0d02db5>:1: UserWarning:\n",
      "\n",
      "Column names longer than 10 characters will be truncated when saved to ESRI Shapefile.\n",
      "\n"
     ]
    }
   ],
   "source": [
    "states.to_file('../data/states-postal-code.shp')"
   ]
  },
  {
   "cell_type": "code",
   "execution_count": 848,
   "metadata": {
    "ExecuteTime": {
     "end_time": "2021-07-01T00:41:12.972885Z",
     "start_time": "2021-07-01T00:41:12.628961Z"
    },
    "hidden": true
   },
   "outputs": [],
   "source": [
    "state_med_estpop_income_gdf = pd.merge(state_med_estpop_income_df, states, on=\"Postal Code\")"
   ]
  },
  {
   "cell_type": "code",
   "execution_count": 882,
   "metadata": {
    "ExecuteTime": {
     "end_time": "2021-07-01T03:34:15.515563Z",
     "start_time": "2021-07-01T03:34:12.860839Z"
    },
    "hidden": true
   },
   "outputs": [],
   "source": [
    "state_med_estpop_income_gdf.to_csv('../data/csv/state_med_estpop_income_geo_2014.csv', header=True)"
   ]
  },
  {
   "cell_type": "code",
   "execution_count": 856,
   "metadata": {
    "ExecuteTime": {
     "end_time": "2021-07-01T01:13:16.860232Z",
     "start_time": "2021-07-01T01:13:16.703386Z"
    },
    "hidden": true
   },
   "outputs": [
    {
     "data": {
      "text/html": [
       "<div>\n",
       "<style scoped>\n",
       "    .dataframe tbody tr th:only-of-type {\n",
       "        vertical-align: middle;\n",
       "    }\n",
       "\n",
       "    .dataframe tbody tr th {\n",
       "        vertical-align: top;\n",
       "    }\n",
       "\n",
       "    .dataframe thead th {\n",
       "        text-align: right;\n",
       "    }\n",
       "</style>\n",
       "<table border=\"1\" class=\"dataframe\">\n",
       "  <thead>\n",
       "    <tr style=\"text-align: right;\">\n",
       "      <th></th>\n",
       "      <th>Postal Code</th>\n",
       "      <th>Population over 65</th>\n",
       "      <th>Male (%)</th>\n",
       "      <th>Female (%)</th>\n",
       "      <th>White (%)</th>\n",
       "      <th>Black (%)</th>\n",
       "      <th>Native American (%)</th>\n",
       "      <th>Asian (%)</th>\n",
       "      <th>Native Hawaiian and Pacific Islander (%)</th>\n",
       "      <th>Two or More Races (%)</th>\n",
       "      <th>Total perscriptions</th>\n",
       "      <th>Most common perscription</th>\n",
       "      <th>Number perscribed</th>\n",
       "      <th>Percent of total perscriptions</th>\n",
       "      <th>Est. population 2014</th>\n",
       "      <th>Total perscriptions per 100k</th>\n",
       "      <th>Total perscriptions per 1k over 65</th>\n",
       "      <th>Poverty Estimate, All Ages</th>\n",
       "      <th>Median Household Income</th>\n",
       "      <th>Poverty Rate, All Ages</th>\n",
       "      <th>STATEFP</th>\n",
       "      <th>STATENS</th>\n",
       "      <th>AFFGEOID</th>\n",
       "      <th>GEOID</th>\n",
       "      <th>NAME</th>\n",
       "      <th>LSAD</th>\n",
       "      <th>ALAND</th>\n",
       "      <th>AWATER</th>\n",
       "      <th>geometry</th>\n",
       "    </tr>\n",
       "  </thead>\n",
       "  <tbody>\n",
       "    <tr>\n",
       "      <th>0</th>\n",
       "      <td>AL</td>\n",
       "      <td>2967264.0</td>\n",
       "      <td>43.217860</td>\n",
       "      <td>56.782140</td>\n",
       "      <td>79.907147</td>\n",
       "      <td>18.243877</td>\n",
       "      <td>0.475050</td>\n",
       "      <td>0.655958</td>\n",
       "      <td>0.025478</td>\n",
       "      <td>0.692490</td>\n",
       "      <td>416439</td>\n",
       "      <td>POTASSIUM CHLORIDE</td>\n",
       "      <td>6595</td>\n",
       "      <td>1.583665</td>\n",
       "      <td>4841799.0</td>\n",
       "      <td>136.209702</td>\n",
       "      <td>140.344439</td>\n",
       "      <td>905682.0</td>\n",
       "      <td>42917.0</td>\n",
       "      <td>18.705485</td>\n",
       "      <td>01</td>\n",
       "      <td>01779775</td>\n",
       "      <td>0400000US01</td>\n",
       "      <td>01</td>\n",
       "      <td>Alabama</td>\n",
       "      <td>00</td>\n",
       "      <td>131172403111</td>\n",
       "      <td>4594951242</td>\n",
       "      <td>MULTIPOLYGON Z (((-88.04374 30.51742 0.00000, ...</td>\n",
       "    </tr>\n",
       "    <tr>\n",
       "      <th>1</th>\n",
       "      <td>AK</td>\n",
       "      <td>279576.0</td>\n",
       "      <td>49.587947</td>\n",
       "      <td>50.412053</td>\n",
       "      <td>76.867828</td>\n",
       "      <td>2.057401</td>\n",
       "      <td>12.408790</td>\n",
       "      <td>5.923255</td>\n",
       "      <td>0.437806</td>\n",
       "      <td>2.304919</td>\n",
       "      <td>28790</td>\n",
       "      <td>HYDROCODONE/ACETAMINOPHEN</td>\n",
       "      <td>678</td>\n",
       "      <td>2.354984</td>\n",
       "      <td>736283.0</td>\n",
       "      <td>92.084158</td>\n",
       "      <td>102.977366</td>\n",
       "      <td>81622.0</td>\n",
       "      <td>70898.0</td>\n",
       "      <td>11.085683</td>\n",
       "      <td>02</td>\n",
       "      <td>01785533</td>\n",
       "      <td>0400000US02</td>\n",
       "      <td>02</td>\n",
       "      <td>Alaska</td>\n",
       "      <td>00</td>\n",
       "      <td>1477849359548</td>\n",
       "      <td>245487700921</td>\n",
       "      <td>MULTIPOLYGON Z (((179.48246 51.98283 0.00000, ...</td>\n",
       "    </tr>\n",
       "    <tr>\n",
       "      <th>2</th>\n",
       "      <td>AZ</td>\n",
       "      <td>4239816.0</td>\n",
       "      <td>46.086245</td>\n",
       "      <td>53.913755</td>\n",
       "      <td>92.575999</td>\n",
       "      <td>2.212926</td>\n",
       "      <td>2.428879</td>\n",
       "      <td>1.953575</td>\n",
       "      <td>0.096891</td>\n",
       "      <td>0.731730</td>\n",
       "      <td>422571</td>\n",
       "      <td>HYDROCODONE/ACETAMINOPHEN</td>\n",
       "      <td>7136</td>\n",
       "      <td>1.688710</td>\n",
       "      <td>6730413.0</td>\n",
       "      <td>106.026183</td>\n",
       "      <td>99.667297</td>\n",
       "      <td>1195889.0</td>\n",
       "      <td>50036.0</td>\n",
       "      <td>17.768434</td>\n",
       "      <td>04</td>\n",
       "      <td>01779777</td>\n",
       "      <td>0400000US04</td>\n",
       "      <td>04</td>\n",
       "      <td>Arizona</td>\n",
       "      <td>00</td>\n",
       "      <td>294205282243</td>\n",
       "      <td>1027790845</td>\n",
       "      <td>POLYGON Z ((-114.79968 32.59362 0.00000, -114....</td>\n",
       "    </tr>\n",
       "    <tr>\n",
       "      <th>3</th>\n",
       "      <td>AR</td>\n",
       "      <td>1862060.0</td>\n",
       "      <td>44.251420</td>\n",
       "      <td>55.748580</td>\n",
       "      <td>88.554826</td>\n",
       "      <td>9.309260</td>\n",
       "      <td>0.558951</td>\n",
       "      <td>0.630914</td>\n",
       "      <td>0.038452</td>\n",
       "      <td>0.907597</td>\n",
       "      <td>270039</td>\n",
       "      <td>POTASSIUM CHLORIDE</td>\n",
       "      <td>4218</td>\n",
       "      <td>1.561997</td>\n",
       "      <td>2967392.0</td>\n",
       "      <td>142.145022</td>\n",
       "      <td>145.021643</td>\n",
       "      <td>539999.0</td>\n",
       "      <td>41335.0</td>\n",
       "      <td>18.197764</td>\n",
       "      <td>05</td>\n",
       "      <td>00068085</td>\n",
       "      <td>0400000US05</td>\n",
       "      <td>05</td>\n",
       "      <td>Arkansas</td>\n",
       "      <td>00</td>\n",
       "      <td>134771603434</td>\n",
       "      <td>2960200961</td>\n",
       "      <td>POLYGON Z ((-94.61792 36.49941 0.00000, -94.55...</td>\n",
       "    </tr>\n",
       "    <tr>\n",
       "      <th>4</th>\n",
       "      <td>CA</td>\n",
       "      <td>19803224.0</td>\n",
       "      <td>44.155315</td>\n",
       "      <td>55.844685</td>\n",
       "      <td>77.230576</td>\n",
       "      <td>5.423359</td>\n",
       "      <td>0.933000</td>\n",
       "      <td>14.692052</td>\n",
       "      <td>0.295326</td>\n",
       "      <td>1.425687</td>\n",
       "      <td>2314584</td>\n",
       "      <td>HYDROCODONE/ACETAMINOPHEN</td>\n",
       "      <td>40966</td>\n",
       "      <td>1.769908</td>\n",
       "      <td>38596972.0</td>\n",
       "      <td>106.137860</td>\n",
       "      <td>116.879151</td>\n",
       "      <td>6253423.0</td>\n",
       "      <td>61927.0</td>\n",
       "      <td>16.201849</td>\n",
       "      <td>06</td>\n",
       "      <td>01779778</td>\n",
       "      <td>0400000US06</td>\n",
       "      <td>06</td>\n",
       "      <td>California</td>\n",
       "      <td>00</td>\n",
       "      <td>403483823181</td>\n",
       "      <td>20483271881</td>\n",
       "      <td>MULTIPOLYGON Z (((-118.60337 33.47810 0.00000,...</td>\n",
       "    </tr>\n",
       "  </tbody>\n",
       "</table>\n",
       "</div>"
      ],
      "text/plain": [
       "  Postal Code  Population over 65   Male (%)  Female (%)  White (%)  \\\n",
       "0          AL           2967264.0  43.217860   56.782140  79.907147   \n",
       "1          AK            279576.0  49.587947   50.412053  76.867828   \n",
       "2          AZ           4239816.0  46.086245   53.913755  92.575999   \n",
       "3          AR           1862060.0  44.251420   55.748580  88.554826   \n",
       "4          CA          19803224.0  44.155315   55.844685  77.230576   \n",
       "\n",
       "   Black (%)  Native American (%)  Asian (%)  \\\n",
       "0  18.243877             0.475050   0.655958   \n",
       "1   2.057401            12.408790   5.923255   \n",
       "2   2.212926             2.428879   1.953575   \n",
       "3   9.309260             0.558951   0.630914   \n",
       "4   5.423359             0.933000  14.692052   \n",
       "\n",
       "   Native Hawaiian and Pacific Islander (%)  Two or More Races (%)  \\\n",
       "0                                  0.025478               0.692490   \n",
       "1                                  0.437806               2.304919   \n",
       "2                                  0.096891               0.731730   \n",
       "3                                  0.038452               0.907597   \n",
       "4                                  0.295326               1.425687   \n",
       "\n",
       "   Total perscriptions   Most common perscription  Number perscribed  \\\n",
       "0               416439         POTASSIUM CHLORIDE               6595   \n",
       "1                28790  HYDROCODONE/ACETAMINOPHEN                678   \n",
       "2               422571  HYDROCODONE/ACETAMINOPHEN               7136   \n",
       "3               270039         POTASSIUM CHLORIDE               4218   \n",
       "4              2314584  HYDROCODONE/ACETAMINOPHEN              40966   \n",
       "\n",
       "   Percent of total perscriptions  Est. population 2014  \\\n",
       "0                        1.583665             4841799.0   \n",
       "1                        2.354984              736283.0   \n",
       "2                        1.688710             6730413.0   \n",
       "3                        1.561997             2967392.0   \n",
       "4                        1.769908            38596972.0   \n",
       "\n",
       "   Total perscriptions per 100k  Total perscriptions per 1k over 65  \\\n",
       "0                    136.209702                          140.344439   \n",
       "1                     92.084158                          102.977366   \n",
       "2                    106.026183                           99.667297   \n",
       "3                    142.145022                          145.021643   \n",
       "4                    106.137860                          116.879151   \n",
       "\n",
       "   Poverty Estimate, All Ages  Median Household Income  \\\n",
       "0                    905682.0                  42917.0   \n",
       "1                     81622.0                  70898.0   \n",
       "2                   1195889.0                  50036.0   \n",
       "3                    539999.0                  41335.0   \n",
       "4                   6253423.0                  61927.0   \n",
       "\n",
       "   Poverty Rate, All Ages STATEFP   STATENS     AFFGEOID GEOID        NAME  \\\n",
       "0               18.705485      01  01779775  0400000US01    01     Alabama   \n",
       "1               11.085683      02  01785533  0400000US02    02      Alaska   \n",
       "2               17.768434      04  01779777  0400000US04    04     Arizona   \n",
       "3               18.197764      05  00068085  0400000US05    05    Arkansas   \n",
       "4               16.201849      06  01779778  0400000US06    06  California   \n",
       "\n",
       "  LSAD          ALAND        AWATER  \\\n",
       "0   00   131172403111    4594951242   \n",
       "1   00  1477849359548  245487700921   \n",
       "2   00   294205282243    1027790845   \n",
       "3   00   134771603434    2960200961   \n",
       "4   00   403483823181   20483271881   \n",
       "\n",
       "                                            geometry  \n",
       "0  MULTIPOLYGON Z (((-88.04374 30.51742 0.00000, ...  \n",
       "1  MULTIPOLYGON Z (((179.48246 51.98283 0.00000, ...  \n",
       "2  POLYGON Z ((-114.79968 32.59362 0.00000, -114....  \n",
       "3  POLYGON Z ((-94.61792 36.49941 0.00000, -94.55...  \n",
       "4  MULTIPOLYGON Z (((-118.60337 33.47810 0.00000,...  "
      ]
     },
     "execution_count": 856,
     "metadata": {},
     "output_type": "execute_result"
    }
   ],
   "source": [
    "state_med_estpop_income_gdf.head()"
   ]
  },
  {
   "cell_type": "code",
   "execution_count": 901,
   "metadata": {
    "ExecuteTime": {
     "end_time": "2021-07-01T04:32:35.304356Z",
     "start_time": "2021-07-01T04:32:34.302756Z"
    },
    "hidden": true
   },
   "outputs": [
    {
     "data": {
      "application/vnd.plotly.v1+json": {
       "config": {
        "plotlyServerURL": "https://plotly.com"
       },
       "data": [
        {
         "coloraxis": "coloraxis",
         "geo": "geo",
         "hovertemplate": "<b>%{hovertext}</b><br><br>Postal Code=%{location}<br>color=%{z}<extra></extra>",
         "hovertext": [
          "AL",
          "AK",
          "AZ",
          "AR",
          "CA",
          "CO",
          "CT",
          "DE",
          "DC",
          "FL",
          "GA",
          "HI",
          "ID",
          "IL",
          "IN",
          "IA",
          "KS",
          "KY",
          "LA",
          "ME",
          "MD",
          "MA",
          "MI",
          "MN",
          "MS",
          "MO",
          "MT",
          "NE",
          "NV",
          "NH",
          "NJ",
          "NM",
          "NY",
          "NC",
          "ND",
          "OH",
          "OK",
          "OR",
          "PA",
          "RI",
          "SC",
          "SD",
          "TN",
          "TX",
          "UT",
          "VT",
          "VA",
          "WA",
          "WV",
          "WI",
          "WY"
         ],
         "locationmode": "USA-states",
         "locations": [
          "AL",
          "AK",
          "AZ",
          "AR",
          "CA",
          "CO",
          "CT",
          "DE",
          "DC",
          "FL",
          "GA",
          "HI",
          "ID",
          "IL",
          "IN",
          "IA",
          "KS",
          "KY",
          "LA",
          "ME",
          "MD",
          "MA",
          "MI",
          "MN",
          "MS",
          "MO",
          "MT",
          "NE",
          "NV",
          "NH",
          "NJ",
          "NM",
          "NY",
          "NC",
          "ND",
          "OH",
          "OK",
          "OR",
          "PA",
          "RI",
          "SC",
          "SD",
          "TN",
          "TX",
          "UT",
          "VT",
          "VA",
          "WA",
          "WV",
          "WI",
          "WY"
         ],
         "name": "",
         "type": "choropleth",
         "z": [
          61.28432840768483,
          37.971269199479,
          62.9948860493405,
          62.7507252159472,
          51.30771398336636,
          50.51568185348276,
          62.65196727021436,
          66.03802519498932,
          46.71039122609946,
          75.99645085579594,
          49.590882460979024,
          64.9628359224001,
          56.755881876903615,
          55.857316232776874,
          57.13556873862162,
          62.98911348030939,
          57.177393357984464,
          59.31039888327815,
          54.64187977079307,
          73.11225068826836,
          55.17448138690071,
          60.36859217968957,
          61.681346985371775,
          57.05483263038382,
          57.00405421492556,
          61.59365225928725,
          66.38228579201444,
          57.6414566750438,
          56.791173284762934,
          63.67673385878031,
          59.449006009910285,
          60.73312761298028,
          59.51291455229693,
          58.750250556560246,
          56.758263143120224,
          62.05445284287278,
          57.87611582422405,
          63.370814413647004,
          66.77168442780528,
          63.09473301412207,
          63.09547379072592,
          60.45065001901949,
          60.10937098460028,
          45.68724173522112,
          40.06103077450586,
          67.58581861570599,
          55.248368034962844,
          55.8869569100119,
          71.21988830428296,
          60.53184155506584,
          56.27580334780467
         ]
        }
       ],
       "layout": {
        "coloraxis": {
         "colorbar": {
          "title": {
           "text": "color"
          }
         },
         "colorscale": [
          [
           0,
           "#0d0887"
          ],
          [
           0.1111111111111111,
           "#46039f"
          ],
          [
           0.2222222222222222,
           "#7201a8"
          ],
          [
           0.3333333333333333,
           "#9c179e"
          ],
          [
           0.4444444444444444,
           "#bd3786"
          ],
          [
           0.5555555555555556,
           "#d8576b"
          ],
          [
           0.6666666666666666,
           "#ed7953"
          ],
          [
           0.7777777777777778,
           "#fb9f3a"
          ],
          [
           0.8888888888888888,
           "#fdca26"
          ],
          [
           1,
           "#f0f921"
          ]
         ]
        },
        "geo": {
         "center": {},
         "domain": {
          "x": [
           0,
           1
          ],
          "y": [
           0,
           1
          ]
         },
         "projection": {
          "type": "natural earth"
         },
         "scope": "world"
        },
        "height": 300,
        "legend": {
         "bgcolor": "white",
         "bordercolor": "Black",
         "borderwidth": 2,
         "font": {
          "color": "black",
          "family": "Courier",
          "size": 16
         },
         "title": {},
         "tracegroupgap": 0,
         "traceorder": "reversed",
         "x": 1,
         "y": 0.5
        },
        "margin": {
         "b": 20,
         "l": 0,
         "r": 0,
         "t": 40
        },
        "template": {
         "data": {
          "bar": [
           {
            "error_x": {
             "color": "#2a3f5f"
            },
            "error_y": {
             "color": "#2a3f5f"
            },
            "marker": {
             "line": {
              "color": "#E5ECF6",
              "width": 0.5
             },
             "pattern": {
              "fillmode": "overlay",
              "size": 10,
              "solidity": 0.2
             }
            },
            "type": "bar"
           }
          ],
          "barpolar": [
           {
            "marker": {
             "line": {
              "color": "#E5ECF6",
              "width": 0.5
             },
             "pattern": {
              "fillmode": "overlay",
              "size": 10,
              "solidity": 0.2
             }
            },
            "type": "barpolar"
           }
          ],
          "carpet": [
           {
            "aaxis": {
             "endlinecolor": "#2a3f5f",
             "gridcolor": "white",
             "linecolor": "white",
             "minorgridcolor": "white",
             "startlinecolor": "#2a3f5f"
            },
            "baxis": {
             "endlinecolor": "#2a3f5f",
             "gridcolor": "white",
             "linecolor": "white",
             "minorgridcolor": "white",
             "startlinecolor": "#2a3f5f"
            },
            "type": "carpet"
           }
          ],
          "choropleth": [
           {
            "colorbar": {
             "outlinewidth": 0,
             "ticks": ""
            },
            "type": "choropleth"
           }
          ],
          "contour": [
           {
            "colorbar": {
             "outlinewidth": 0,
             "ticks": ""
            },
            "colorscale": [
             [
              0,
              "#0d0887"
             ],
             [
              0.1111111111111111,
              "#46039f"
             ],
             [
              0.2222222222222222,
              "#7201a8"
             ],
             [
              0.3333333333333333,
              "#9c179e"
             ],
             [
              0.4444444444444444,
              "#bd3786"
             ],
             [
              0.5555555555555556,
              "#d8576b"
             ],
             [
              0.6666666666666666,
              "#ed7953"
             ],
             [
              0.7777777777777778,
              "#fb9f3a"
             ],
             [
              0.8888888888888888,
              "#fdca26"
             ],
             [
              1,
              "#f0f921"
             ]
            ],
            "type": "contour"
           }
          ],
          "contourcarpet": [
           {
            "colorbar": {
             "outlinewidth": 0,
             "ticks": ""
            },
            "type": "contourcarpet"
           }
          ],
          "heatmap": [
           {
            "colorbar": {
             "outlinewidth": 0,
             "ticks": ""
            },
            "colorscale": [
             [
              0,
              "#0d0887"
             ],
             [
              0.1111111111111111,
              "#46039f"
             ],
             [
              0.2222222222222222,
              "#7201a8"
             ],
             [
              0.3333333333333333,
              "#9c179e"
             ],
             [
              0.4444444444444444,
              "#bd3786"
             ],
             [
              0.5555555555555556,
              "#d8576b"
             ],
             [
              0.6666666666666666,
              "#ed7953"
             ],
             [
              0.7777777777777778,
              "#fb9f3a"
             ],
             [
              0.8888888888888888,
              "#fdca26"
             ],
             [
              1,
              "#f0f921"
             ]
            ],
            "type": "heatmap"
           }
          ],
          "heatmapgl": [
           {
            "colorbar": {
             "outlinewidth": 0,
             "ticks": ""
            },
            "colorscale": [
             [
              0,
              "#0d0887"
             ],
             [
              0.1111111111111111,
              "#46039f"
             ],
             [
              0.2222222222222222,
              "#7201a8"
             ],
             [
              0.3333333333333333,
              "#9c179e"
             ],
             [
              0.4444444444444444,
              "#bd3786"
             ],
             [
              0.5555555555555556,
              "#d8576b"
             ],
             [
              0.6666666666666666,
              "#ed7953"
             ],
             [
              0.7777777777777778,
              "#fb9f3a"
             ],
             [
              0.8888888888888888,
              "#fdca26"
             ],
             [
              1,
              "#f0f921"
             ]
            ],
            "type": "heatmapgl"
           }
          ],
          "histogram": [
           {
            "marker": {
             "pattern": {
              "fillmode": "overlay",
              "size": 10,
              "solidity": 0.2
             }
            },
            "type": "histogram"
           }
          ],
          "histogram2d": [
           {
            "colorbar": {
             "outlinewidth": 0,
             "ticks": ""
            },
            "colorscale": [
             [
              0,
              "#0d0887"
             ],
             [
              0.1111111111111111,
              "#46039f"
             ],
             [
              0.2222222222222222,
              "#7201a8"
             ],
             [
              0.3333333333333333,
              "#9c179e"
             ],
             [
              0.4444444444444444,
              "#bd3786"
             ],
             [
              0.5555555555555556,
              "#d8576b"
             ],
             [
              0.6666666666666666,
              "#ed7953"
             ],
             [
              0.7777777777777778,
              "#fb9f3a"
             ],
             [
              0.8888888888888888,
              "#fdca26"
             ],
             [
              1,
              "#f0f921"
             ]
            ],
            "type": "histogram2d"
           }
          ],
          "histogram2dcontour": [
           {
            "colorbar": {
             "outlinewidth": 0,
             "ticks": ""
            },
            "colorscale": [
             [
              0,
              "#0d0887"
             ],
             [
              0.1111111111111111,
              "#46039f"
             ],
             [
              0.2222222222222222,
              "#7201a8"
             ],
             [
              0.3333333333333333,
              "#9c179e"
             ],
             [
              0.4444444444444444,
              "#bd3786"
             ],
             [
              0.5555555555555556,
              "#d8576b"
             ],
             [
              0.6666666666666666,
              "#ed7953"
             ],
             [
              0.7777777777777778,
              "#fb9f3a"
             ],
             [
              0.8888888888888888,
              "#fdca26"
             ],
             [
              1,
              "#f0f921"
             ]
            ],
            "type": "histogram2dcontour"
           }
          ],
          "mesh3d": [
           {
            "colorbar": {
             "outlinewidth": 0,
             "ticks": ""
            },
            "type": "mesh3d"
           }
          ],
          "parcoords": [
           {
            "line": {
             "colorbar": {
              "outlinewidth": 0,
              "ticks": ""
             }
            },
            "type": "parcoords"
           }
          ],
          "pie": [
           {
            "automargin": true,
            "type": "pie"
           }
          ],
          "scatter": [
           {
            "marker": {
             "colorbar": {
              "outlinewidth": 0,
              "ticks": ""
             }
            },
            "type": "scatter"
           }
          ],
          "scatter3d": [
           {
            "line": {
             "colorbar": {
              "outlinewidth": 0,
              "ticks": ""
             }
            },
            "marker": {
             "colorbar": {
              "outlinewidth": 0,
              "ticks": ""
             }
            },
            "type": "scatter3d"
           }
          ],
          "scattercarpet": [
           {
            "marker": {
             "colorbar": {
              "outlinewidth": 0,
              "ticks": ""
             }
            },
            "type": "scattercarpet"
           }
          ],
          "scattergeo": [
           {
            "marker": {
             "colorbar": {
              "outlinewidth": 0,
              "ticks": ""
             }
            },
            "type": "scattergeo"
           }
          ],
          "scattergl": [
           {
            "marker": {
             "colorbar": {
              "outlinewidth": 0,
              "ticks": ""
             }
            },
            "type": "scattergl"
           }
          ],
          "scattermapbox": [
           {
            "marker": {
             "colorbar": {
              "outlinewidth": 0,
              "ticks": ""
             }
            },
            "type": "scattermapbox"
           }
          ],
          "scatterpolar": [
           {
            "marker": {
             "colorbar": {
              "outlinewidth": 0,
              "ticks": ""
             }
            },
            "type": "scatterpolar"
           }
          ],
          "scatterpolargl": [
           {
            "marker": {
             "colorbar": {
              "outlinewidth": 0,
              "ticks": ""
             }
            },
            "type": "scatterpolargl"
           }
          ],
          "scatterternary": [
           {
            "marker": {
             "colorbar": {
              "outlinewidth": 0,
              "ticks": ""
             }
            },
            "type": "scatterternary"
           }
          ],
          "surface": [
           {
            "colorbar": {
             "outlinewidth": 0,
             "ticks": ""
            },
            "colorscale": [
             [
              0,
              "#0d0887"
             ],
             [
              0.1111111111111111,
              "#46039f"
             ],
             [
              0.2222222222222222,
              "#7201a8"
             ],
             [
              0.3333333333333333,
              "#9c179e"
             ],
             [
              0.4444444444444444,
              "#bd3786"
             ],
             [
              0.5555555555555556,
              "#d8576b"
             ],
             [
              0.6666666666666666,
              "#ed7953"
             ],
             [
              0.7777777777777778,
              "#fb9f3a"
             ],
             [
              0.8888888888888888,
              "#fdca26"
             ],
             [
              1,
              "#f0f921"
             ]
            ],
            "type": "surface"
           }
          ],
          "table": [
           {
            "cells": {
             "fill": {
              "color": "#EBF0F8"
             },
             "line": {
              "color": "white"
             }
            },
            "header": {
             "fill": {
              "color": "#C8D4E3"
             },
             "line": {
              "color": "white"
             }
            },
            "type": "table"
           }
          ]
         },
         "layout": {
          "annotationdefaults": {
           "arrowcolor": "#2a3f5f",
           "arrowhead": 0,
           "arrowwidth": 1
          },
          "autotypenumbers": "strict",
          "coloraxis": {
           "colorbar": {
            "outlinewidth": 0,
            "ticks": ""
           }
          },
          "colorscale": {
           "diverging": [
            [
             0,
             "#8e0152"
            ],
            [
             0.1,
             "#c51b7d"
            ],
            [
             0.2,
             "#de77ae"
            ],
            [
             0.3,
             "#f1b6da"
            ],
            [
             0.4,
             "#fde0ef"
            ],
            [
             0.5,
             "#f7f7f7"
            ],
            [
             0.6,
             "#e6f5d0"
            ],
            [
             0.7,
             "#b8e186"
            ],
            [
             0.8,
             "#7fbc41"
            ],
            [
             0.9,
             "#4d9221"
            ],
            [
             1,
             "#276419"
            ]
           ],
           "sequential": [
            [
             0,
             "#0d0887"
            ],
            [
             0.1111111111111111,
             "#46039f"
            ],
            [
             0.2222222222222222,
             "#7201a8"
            ],
            [
             0.3333333333333333,
             "#9c179e"
            ],
            [
             0.4444444444444444,
             "#bd3786"
            ],
            [
             0.5555555555555556,
             "#d8576b"
            ],
            [
             0.6666666666666666,
             "#ed7953"
            ],
            [
             0.7777777777777778,
             "#fb9f3a"
            ],
            [
             0.8888888888888888,
             "#fdca26"
            ],
            [
             1,
             "#f0f921"
            ]
           ],
           "sequentialminus": [
            [
             0,
             "#0d0887"
            ],
            [
             0.1111111111111111,
             "#46039f"
            ],
            [
             0.2222222222222222,
             "#7201a8"
            ],
            [
             0.3333333333333333,
             "#9c179e"
            ],
            [
             0.4444444444444444,
             "#bd3786"
            ],
            [
             0.5555555555555556,
             "#d8576b"
            ],
            [
             0.6666666666666666,
             "#ed7953"
            ],
            [
             0.7777777777777778,
             "#fb9f3a"
            ],
            [
             0.8888888888888888,
             "#fdca26"
            ],
            [
             1,
             "#f0f921"
            ]
           ]
          },
          "colorway": [
           "#636efa",
           "#EF553B",
           "#00cc96",
           "#ab63fa",
           "#FFA15A",
           "#19d3f3",
           "#FF6692",
           "#B6E880",
           "#FF97FF",
           "#FECB52"
          ],
          "font": {
           "color": "#2a3f5f"
          },
          "geo": {
           "bgcolor": "white",
           "lakecolor": "white",
           "landcolor": "#E5ECF6",
           "showlakes": true,
           "showland": true,
           "subunitcolor": "white"
          },
          "hoverlabel": {
           "align": "left"
          },
          "hovermode": "closest",
          "mapbox": {
           "style": "light"
          },
          "paper_bgcolor": "white",
          "plot_bgcolor": "#E5ECF6",
          "polar": {
           "angularaxis": {
            "gridcolor": "white",
            "linecolor": "white",
            "ticks": ""
           },
           "bgcolor": "#E5ECF6",
           "radialaxis": {
            "gridcolor": "white",
            "linecolor": "white",
            "ticks": ""
           }
          },
          "scene": {
           "xaxis": {
            "backgroundcolor": "#E5ECF6",
            "gridcolor": "white",
            "gridwidth": 2,
            "linecolor": "white",
            "showbackground": true,
            "ticks": "",
            "zerolinecolor": "white"
           },
           "yaxis": {
            "backgroundcolor": "#E5ECF6",
            "gridcolor": "white",
            "gridwidth": 2,
            "linecolor": "white",
            "showbackground": true,
            "ticks": "",
            "zerolinecolor": "white"
           },
           "zaxis": {
            "backgroundcolor": "#E5ECF6",
            "gridcolor": "white",
            "gridwidth": 2,
            "linecolor": "white",
            "showbackground": true,
            "ticks": "",
            "zerolinecolor": "white"
           }
          },
          "shapedefaults": {
           "line": {
            "color": "#2a3f5f"
           }
          },
          "ternary": {
           "aaxis": {
            "gridcolor": "white",
            "linecolor": "white",
            "ticks": ""
           },
           "baxis": {
            "gridcolor": "white",
            "linecolor": "white",
            "ticks": ""
           },
           "bgcolor": "#E5ECF6",
           "caxis": {
            "gridcolor": "white",
            "linecolor": "white",
            "ticks": ""
           }
          },
          "title": {
           "x": 0.05
          },
          "xaxis": {
           "automargin": true,
           "gridcolor": "white",
           "linecolor": "white",
           "ticks": "",
           "title": {
            "standoff": 15
           },
           "zerolinecolor": "white",
           "zerolinewidth": 2
          },
          "yaxis": {
           "automargin": true,
           "gridcolor": "white",
           "linecolor": "white",
           "ticks": "",
           "title": {
            "standoff": 15
           },
           "zerolinecolor": "white",
           "zerolinewidth": 2
          }
         }
        },
        "title": {
         "font": {
          "color": "black",
          "family": "Courier",
          "size": 20
         },
         "text": "Percentage of the US population over 65 (2014)"
        }
       }
      },
      "text/html": [
       "<div>                            <div id=\"0f5f606a-8972-4168-a1f7-5e967e53cebb\" class=\"plotly-graph-div\" style=\"height:300px; width:100%;\"></div>            <script type=\"text/javascript\">                require([\"plotly\"], function(Plotly) {                    window.PLOTLYENV=window.PLOTLYENV || {};                                    if (document.getElementById(\"0f5f606a-8972-4168-a1f7-5e967e53cebb\")) {                    Plotly.newPlot(                        \"0f5f606a-8972-4168-a1f7-5e967e53cebb\",                        [{\"coloraxis\":\"coloraxis\",\"geo\":\"geo\",\"hovertemplate\":\"<b>%{hovertext}</b><br><br>Postal Code=%{location}<br>color=%{z}<extra></extra>\",\"hovertext\":[\"AL\",\"AK\",\"AZ\",\"AR\",\"CA\",\"CO\",\"CT\",\"DE\",\"DC\",\"FL\",\"GA\",\"HI\",\"ID\",\"IL\",\"IN\",\"IA\",\"KS\",\"KY\",\"LA\",\"ME\",\"MD\",\"MA\",\"MI\",\"MN\",\"MS\",\"MO\",\"MT\",\"NE\",\"NV\",\"NH\",\"NJ\",\"NM\",\"NY\",\"NC\",\"ND\",\"OH\",\"OK\",\"OR\",\"PA\",\"RI\",\"SC\",\"SD\",\"TN\",\"TX\",\"UT\",\"VT\",\"VA\",\"WA\",\"WV\",\"WI\",\"WY\"],\"locationmode\":\"USA-states\",\"locations\":[\"AL\",\"AK\",\"AZ\",\"AR\",\"CA\",\"CO\",\"CT\",\"DE\",\"DC\",\"FL\",\"GA\",\"HI\",\"ID\",\"IL\",\"IN\",\"IA\",\"KS\",\"KY\",\"LA\",\"ME\",\"MD\",\"MA\",\"MI\",\"MN\",\"MS\",\"MO\",\"MT\",\"NE\",\"NV\",\"NH\",\"NJ\",\"NM\",\"NY\",\"NC\",\"ND\",\"OH\",\"OK\",\"OR\",\"PA\",\"RI\",\"SC\",\"SD\",\"TN\",\"TX\",\"UT\",\"VT\",\"VA\",\"WA\",\"WV\",\"WI\",\"WY\"],\"name\":\"\",\"type\":\"choropleth\",\"z\":[61.28432840768483,37.971269199479,62.9948860493405,62.7507252159472,51.30771398336636,50.51568185348276,62.65196727021436,66.03802519498932,46.71039122609946,75.99645085579594,49.590882460979024,64.9628359224001,56.755881876903615,55.857316232776874,57.13556873862162,62.98911348030939,57.177393357984464,59.31039888327815,54.64187977079307,73.11225068826836,55.17448138690071,60.36859217968957,61.681346985371775,57.05483263038382,57.00405421492556,61.59365225928725,66.38228579201444,57.6414566750438,56.791173284762934,63.67673385878031,59.449006009910285,60.73312761298028,59.51291455229693,58.750250556560246,56.758263143120224,62.05445284287278,57.87611582422405,63.370814413647004,66.77168442780528,63.09473301412207,63.09547379072592,60.45065001901949,60.10937098460028,45.68724173522112,40.06103077450586,67.58581861570599,55.248368034962844,55.8869569100119,71.21988830428296,60.53184155506584,56.27580334780467]}],                        {\"coloraxis\":{\"colorbar\":{\"title\":{\"text\":\"color\"}},\"colorscale\":[[0.0,\"#0d0887\"],[0.1111111111111111,\"#46039f\"],[0.2222222222222222,\"#7201a8\"],[0.3333333333333333,\"#9c179e\"],[0.4444444444444444,\"#bd3786\"],[0.5555555555555556,\"#d8576b\"],[0.6666666666666666,\"#ed7953\"],[0.7777777777777778,\"#fb9f3a\"],[0.8888888888888888,\"#fdca26\"],[1.0,\"#f0f921\"]]},\"geo\":{\"center\":{},\"domain\":{\"x\":[0.0,1.0],\"y\":[0.0,1.0]},\"projection\":{\"type\":\"natural earth\"},\"scope\":\"world\"},\"height\":300,\"legend\":{\"bgcolor\":\"white\",\"bordercolor\":\"Black\",\"borderwidth\":2,\"font\":{\"color\":\"black\",\"family\":\"Courier\",\"size\":16},\"title\":{},\"tracegroupgap\":0,\"traceorder\":\"reversed\",\"x\":1,\"y\":0.5},\"margin\":{\"b\":20,\"l\":0,\"r\":0,\"t\":40},\"template\":{\"data\":{\"bar\":[{\"error_x\":{\"color\":\"#2a3f5f\"},\"error_y\":{\"color\":\"#2a3f5f\"},\"marker\":{\"line\":{\"color\":\"#E5ECF6\",\"width\":0.5},\"pattern\":{\"fillmode\":\"overlay\",\"size\":10,\"solidity\":0.2}},\"type\":\"bar\"}],\"barpolar\":[{\"marker\":{\"line\":{\"color\":\"#E5ECF6\",\"width\":0.5},\"pattern\":{\"fillmode\":\"overlay\",\"size\":10,\"solidity\":0.2}},\"type\":\"barpolar\"}],\"carpet\":[{\"aaxis\":{\"endlinecolor\":\"#2a3f5f\",\"gridcolor\":\"white\",\"linecolor\":\"white\",\"minorgridcolor\":\"white\",\"startlinecolor\":\"#2a3f5f\"},\"baxis\":{\"endlinecolor\":\"#2a3f5f\",\"gridcolor\":\"white\",\"linecolor\":\"white\",\"minorgridcolor\":\"white\",\"startlinecolor\":\"#2a3f5f\"},\"type\":\"carpet\"}],\"choropleth\":[{\"colorbar\":{\"outlinewidth\":0,\"ticks\":\"\"},\"type\":\"choropleth\"}],\"contour\":[{\"colorbar\":{\"outlinewidth\":0,\"ticks\":\"\"},\"colorscale\":[[0.0,\"#0d0887\"],[0.1111111111111111,\"#46039f\"],[0.2222222222222222,\"#7201a8\"],[0.3333333333333333,\"#9c179e\"],[0.4444444444444444,\"#bd3786\"],[0.5555555555555556,\"#d8576b\"],[0.6666666666666666,\"#ed7953\"],[0.7777777777777778,\"#fb9f3a\"],[0.8888888888888888,\"#fdca26\"],[1.0,\"#f0f921\"]],\"type\":\"contour\"}],\"contourcarpet\":[{\"colorbar\":{\"outlinewidth\":0,\"ticks\":\"\"},\"type\":\"contourcarpet\"}],\"heatmap\":[{\"colorbar\":{\"outlinewidth\":0,\"ticks\":\"\"},\"colorscale\":[[0.0,\"#0d0887\"],[0.1111111111111111,\"#46039f\"],[0.2222222222222222,\"#7201a8\"],[0.3333333333333333,\"#9c179e\"],[0.4444444444444444,\"#bd3786\"],[0.5555555555555556,\"#d8576b\"],[0.6666666666666666,\"#ed7953\"],[0.7777777777777778,\"#fb9f3a\"],[0.8888888888888888,\"#fdca26\"],[1.0,\"#f0f921\"]],\"type\":\"heatmap\"}],\"heatmapgl\":[{\"colorbar\":{\"outlinewidth\":0,\"ticks\":\"\"},\"colorscale\":[[0.0,\"#0d0887\"],[0.1111111111111111,\"#46039f\"],[0.2222222222222222,\"#7201a8\"],[0.3333333333333333,\"#9c179e\"],[0.4444444444444444,\"#bd3786\"],[0.5555555555555556,\"#d8576b\"],[0.6666666666666666,\"#ed7953\"],[0.7777777777777778,\"#fb9f3a\"],[0.8888888888888888,\"#fdca26\"],[1.0,\"#f0f921\"]],\"type\":\"heatmapgl\"}],\"histogram\":[{\"marker\":{\"pattern\":{\"fillmode\":\"overlay\",\"size\":10,\"solidity\":0.2}},\"type\":\"histogram\"}],\"histogram2d\":[{\"colorbar\":{\"outlinewidth\":0,\"ticks\":\"\"},\"colorscale\":[[0.0,\"#0d0887\"],[0.1111111111111111,\"#46039f\"],[0.2222222222222222,\"#7201a8\"],[0.3333333333333333,\"#9c179e\"],[0.4444444444444444,\"#bd3786\"],[0.5555555555555556,\"#d8576b\"],[0.6666666666666666,\"#ed7953\"],[0.7777777777777778,\"#fb9f3a\"],[0.8888888888888888,\"#fdca26\"],[1.0,\"#f0f921\"]],\"type\":\"histogram2d\"}],\"histogram2dcontour\":[{\"colorbar\":{\"outlinewidth\":0,\"ticks\":\"\"},\"colorscale\":[[0.0,\"#0d0887\"],[0.1111111111111111,\"#46039f\"],[0.2222222222222222,\"#7201a8\"],[0.3333333333333333,\"#9c179e\"],[0.4444444444444444,\"#bd3786\"],[0.5555555555555556,\"#d8576b\"],[0.6666666666666666,\"#ed7953\"],[0.7777777777777778,\"#fb9f3a\"],[0.8888888888888888,\"#fdca26\"],[1.0,\"#f0f921\"]],\"type\":\"histogram2dcontour\"}],\"mesh3d\":[{\"colorbar\":{\"outlinewidth\":0,\"ticks\":\"\"},\"type\":\"mesh3d\"}],\"parcoords\":[{\"line\":{\"colorbar\":{\"outlinewidth\":0,\"ticks\":\"\"}},\"type\":\"parcoords\"}],\"pie\":[{\"automargin\":true,\"type\":\"pie\"}],\"scatter\":[{\"marker\":{\"colorbar\":{\"outlinewidth\":0,\"ticks\":\"\"}},\"type\":\"scatter\"}],\"scatter3d\":[{\"line\":{\"colorbar\":{\"outlinewidth\":0,\"ticks\":\"\"}},\"marker\":{\"colorbar\":{\"outlinewidth\":0,\"ticks\":\"\"}},\"type\":\"scatter3d\"}],\"scattercarpet\":[{\"marker\":{\"colorbar\":{\"outlinewidth\":0,\"ticks\":\"\"}},\"type\":\"scattercarpet\"}],\"scattergeo\":[{\"marker\":{\"colorbar\":{\"outlinewidth\":0,\"ticks\":\"\"}},\"type\":\"scattergeo\"}],\"scattergl\":[{\"marker\":{\"colorbar\":{\"outlinewidth\":0,\"ticks\":\"\"}},\"type\":\"scattergl\"}],\"scattermapbox\":[{\"marker\":{\"colorbar\":{\"outlinewidth\":0,\"ticks\":\"\"}},\"type\":\"scattermapbox\"}],\"scatterpolar\":[{\"marker\":{\"colorbar\":{\"outlinewidth\":0,\"ticks\":\"\"}},\"type\":\"scatterpolar\"}],\"scatterpolargl\":[{\"marker\":{\"colorbar\":{\"outlinewidth\":0,\"ticks\":\"\"}},\"type\":\"scatterpolargl\"}],\"scatterternary\":[{\"marker\":{\"colorbar\":{\"outlinewidth\":0,\"ticks\":\"\"}},\"type\":\"scatterternary\"}],\"surface\":[{\"colorbar\":{\"outlinewidth\":0,\"ticks\":\"\"},\"colorscale\":[[0.0,\"#0d0887\"],[0.1111111111111111,\"#46039f\"],[0.2222222222222222,\"#7201a8\"],[0.3333333333333333,\"#9c179e\"],[0.4444444444444444,\"#bd3786\"],[0.5555555555555556,\"#d8576b\"],[0.6666666666666666,\"#ed7953\"],[0.7777777777777778,\"#fb9f3a\"],[0.8888888888888888,\"#fdca26\"],[1.0,\"#f0f921\"]],\"type\":\"surface\"}],\"table\":[{\"cells\":{\"fill\":{\"color\":\"#EBF0F8\"},\"line\":{\"color\":\"white\"}},\"header\":{\"fill\":{\"color\":\"#C8D4E3\"},\"line\":{\"color\":\"white\"}},\"type\":\"table\"}]},\"layout\":{\"annotationdefaults\":{\"arrowcolor\":\"#2a3f5f\",\"arrowhead\":0,\"arrowwidth\":1},\"autotypenumbers\":\"strict\",\"coloraxis\":{\"colorbar\":{\"outlinewidth\":0,\"ticks\":\"\"}},\"colorscale\":{\"diverging\":[[0,\"#8e0152\"],[0.1,\"#c51b7d\"],[0.2,\"#de77ae\"],[0.3,\"#f1b6da\"],[0.4,\"#fde0ef\"],[0.5,\"#f7f7f7\"],[0.6,\"#e6f5d0\"],[0.7,\"#b8e186\"],[0.8,\"#7fbc41\"],[0.9,\"#4d9221\"],[1,\"#276419\"]],\"sequential\":[[0.0,\"#0d0887\"],[0.1111111111111111,\"#46039f\"],[0.2222222222222222,\"#7201a8\"],[0.3333333333333333,\"#9c179e\"],[0.4444444444444444,\"#bd3786\"],[0.5555555555555556,\"#d8576b\"],[0.6666666666666666,\"#ed7953\"],[0.7777777777777778,\"#fb9f3a\"],[0.8888888888888888,\"#fdca26\"],[1.0,\"#f0f921\"]],\"sequentialminus\":[[0.0,\"#0d0887\"],[0.1111111111111111,\"#46039f\"],[0.2222222222222222,\"#7201a8\"],[0.3333333333333333,\"#9c179e\"],[0.4444444444444444,\"#bd3786\"],[0.5555555555555556,\"#d8576b\"],[0.6666666666666666,\"#ed7953\"],[0.7777777777777778,\"#fb9f3a\"],[0.8888888888888888,\"#fdca26\"],[1.0,\"#f0f921\"]]},\"colorway\":[\"#636efa\",\"#EF553B\",\"#00cc96\",\"#ab63fa\",\"#FFA15A\",\"#19d3f3\",\"#FF6692\",\"#B6E880\",\"#FF97FF\",\"#FECB52\"],\"font\":{\"color\":\"#2a3f5f\"},\"geo\":{\"bgcolor\":\"white\",\"lakecolor\":\"white\",\"landcolor\":\"#E5ECF6\",\"showlakes\":true,\"showland\":true,\"subunitcolor\":\"white\"},\"hoverlabel\":{\"align\":\"left\"},\"hovermode\":\"closest\",\"mapbox\":{\"style\":\"light\"},\"paper_bgcolor\":\"white\",\"plot_bgcolor\":\"#E5ECF6\",\"polar\":{\"angularaxis\":{\"gridcolor\":\"white\",\"linecolor\":\"white\",\"ticks\":\"\"},\"bgcolor\":\"#E5ECF6\",\"radialaxis\":{\"gridcolor\":\"white\",\"linecolor\":\"white\",\"ticks\":\"\"}},\"scene\":{\"xaxis\":{\"backgroundcolor\":\"#E5ECF6\",\"gridcolor\":\"white\",\"gridwidth\":2,\"linecolor\":\"white\",\"showbackground\":true,\"ticks\":\"\",\"zerolinecolor\":\"white\"},\"yaxis\":{\"backgroundcolor\":\"#E5ECF6\",\"gridcolor\":\"white\",\"gridwidth\":2,\"linecolor\":\"white\",\"showbackground\":true,\"ticks\":\"\",\"zerolinecolor\":\"white\"},\"zaxis\":{\"backgroundcolor\":\"#E5ECF6\",\"gridcolor\":\"white\",\"gridwidth\":2,\"linecolor\":\"white\",\"showbackground\":true,\"ticks\":\"\",\"zerolinecolor\":\"white\"}},\"shapedefaults\":{\"line\":{\"color\":\"#2a3f5f\"}},\"ternary\":{\"aaxis\":{\"gridcolor\":\"white\",\"linecolor\":\"white\",\"ticks\":\"\"},\"baxis\":{\"gridcolor\":\"white\",\"linecolor\":\"white\",\"ticks\":\"\"},\"bgcolor\":\"#E5ECF6\",\"caxis\":{\"gridcolor\":\"white\",\"linecolor\":\"white\",\"ticks\":\"\"}},\"title\":{\"x\":0.05},\"xaxis\":{\"automargin\":true,\"gridcolor\":\"white\",\"linecolor\":\"white\",\"ticks\":\"\",\"title\":{\"standoff\":15},\"zerolinecolor\":\"white\",\"zerolinewidth\":2},\"yaxis\":{\"automargin\":true,\"gridcolor\":\"white\",\"linecolor\":\"white\",\"ticks\":\"\",\"title\":{\"standoff\":15},\"zerolinecolor\":\"white\",\"zerolinewidth\":2}}},\"title\":{\"font\":{\"color\":\"black\",\"family\":\"Courier\",\"size\":20},\"text\":\"Percentage of the US population over 65 (2014)\"}},                        {\"responsive\": true}                    ).then(function(){\n",
       "                            \n",
       "var gd = document.getElementById('0f5f606a-8972-4168-a1f7-5e967e53cebb');\n",
       "var x = new MutationObserver(function (mutations, observer) {{\n",
       "        var display = window.getComputedStyle(gd).display;\n",
       "        if (!display || display === 'none') {{\n",
       "            console.log([gd, 'removed!']);\n",
       "            Plotly.purge(gd);\n",
       "            observer.disconnect();\n",
       "        }}\n",
       "}});\n",
       "\n",
       "// Listen for the removal of the full notebook cells\n",
       "var notebookContainer = gd.closest('#notebook-container');\n",
       "if (notebookContainer) {{\n",
       "    x.observe(notebookContainer, {childList: true});\n",
       "}}\n",
       "\n",
       "// Listen for the clearing of the current output cell\n",
       "var outputEl = gd.closest('.output');\n",
       "if (outputEl) {{\n",
       "    x.observe(outputEl, {childList: true});\n",
       "}}\n",
       "\n",
       "                        })                };                });            </script>        </div>"
      ]
     },
     "metadata": {},
     "output_type": "display_data"
    }
   ],
   "source": [
    "percent_over_65 = (state_med_estpop_income_df['Population over 65']/state_med_estpop_income_df['Est. population 2014']) * 100\n",
    "fig = px.choropleth(state_med_estpop_income_df,   \n",
    "                                   locations=\"Postal Code\",   \n",
    "                                  color= percent_over_65,   \n",
    "                                  hover_name=\"Postal Code\", \n",
    "#                                   hover_data = {\"medication_perscribed\": True, \"state\" : False, \"num_perscribed\": True},\n",
    "                                  locationmode = 'USA-states')\n",
    "\n",
    "fig.update_layout(height=300,\n",
    "                                margin={'r':0, 't':40, 'l':0 ,'b':20},\n",
    "                                title_text = 'Percentage of the US population over 65 (2014)',\n",
    "                                geo_scope='world',\n",
    "                                title=dict(\n",
    "                                font=dict(family=\"Courier\",\n",
    "                                                  size=20, \n",
    "                                                  color='black')),\n",
    "                                legend=dict(x=1,y=0.5,\n",
    "                                                       title=None,\n",
    "                                                        traceorder=\"reversed\",\n",
    "                                                        font=dict(family=\"Courier\",\n",
    "                                                                          size=16,\n",
    "                                                                          color=\"black\"),\n",
    "                                                        bgcolor=\"white\",\n",
    "                                                        bordercolor=\"Black\",\n",
    "                                                        borderwidth=2))\n",
    "\n",
    "fig.update_geos(projection_type=\"natural earth\")\n",
    "\n",
    "fig.show()  # Output the plot to the screen"
   ]
  },
  {
   "cell_type": "markdown",
   "metadata": {
    "hidden": true
   },
   "source": [
    "A couple of things to note: The majority of states have over 50% of the popultaion over 65, with the top 3 states being Florida (~ 76%), Maine (~ 73%), and West Virginia (~ 71%). The three states with the lowest are Alaska (~ 38%), Utah (~ 40%), and Texas (~ 46%).  "
   ]
  },
  {
   "cell_type": "markdown",
   "metadata": {
    "heading_collapsed": true,
    "hidden": true
   },
   "source": [
    "#### Histograms"
   ]
  },
  {
   "cell_type": "code",
   "execution_count": 850,
   "metadata": {
    "ExecuteTime": {
     "end_time": "2021-07-01T00:53:42.334549Z",
     "start_time": "2021-07-01T00:53:33.903147Z"
    },
    "hidden": true,
    "scrolled": true
   },
   "outputs": [
    {
     "data": {
      "image/png": "[encoded data removed]",
      "text/plain": [
       "<Figure size 1440x720 with 20 Axes>"
      ]
     },
     "metadata": {},
     "output_type": "display_data"
    }
   ],
   "source": [
    "state_med_estpop_income_df.hist(alpha=0.5, figsize=(20, 10))\n",
    "plt.tight_layout()\n",
    "plt.show()"
   ]
  },
  {
   "cell_type": "markdown",
   "metadata": {},
   "source": [
    "### Tangents"
   ]
  },
  {
   "cell_type": "markdown",
   "metadata": {
    "heading_collapsed": true
   },
   "source": [
    "#### Bivariate chloropleth maps\n",
    "This will move to a different notebook"
   ]
  },
  {
   "cell_type": "markdown",
   "metadata": {
    "heading_collapsed": true
   },
   "source": [
    "#### Slices of the perscription pie..."
   ]
  },
  {
   "cell_type": "code",
   "execution_count": 509,
   "metadata": {
    "ExecuteTime": {
     "end_time": "2021-06-27T02:39:53.527521Z",
     "start_time": "2021-06-27T02:39:53.491641Z"
    },
    "hidden": true
   },
   "outputs": [],
   "source": [
    "query = \"\"\" SELECT * FROM (SELECT nppes_provider_state as state, \n",
    "                                                  generic_name as medication_perscribed,\n",
    "                                                  COUNT(generic_name) as num_perscribed,\n",
    "                                                   ROW_NUMBER() OVER (PARTITION BY nppes_provider_state \n",
    "                                                                                              ORDER BY COUNT(generic_name) DESC) as rank \n",
    "                                                   FROM bigquery-public-data.medicare.part_d_prescriber_2014\n",
    "                                                   WHERE (nppes_provider_state != 'AA' AND \n",
    "                                                                    nppes_provider_state != 'AE' AND \n",
    "                                                                    nppes_provider_state != 'AS' AND\n",
    "                                                                    nppes_provider_state != 'AP' AND\n",
    "                                                                    nppes_provider_state != 'GU' AND\n",
    "                                                                    nppes_provider_state != 'MP' AND\n",
    "                                                                    nppes_provider_state != 'PR' AND\n",
    "                                                                    nppes_provider_state != 'VI' AND\n",
    "                                                                    nppes_provider_state != 'XX' AND\n",
    "                                                                    nppes_provider_state != 'ZZ')\n",
    "                                                   GROUP BY 1, 2\n",
    "                                                   ORDER BY 1, 3 DESC) as ranks\n",
    "                   WHERE rank < 11;\n",
    "              \"\"\""
   ]
  },
  {
   "cell_type": "code",
   "execution_count": 518,
   "metadata": {
    "ExecuteTime": {
     "end_time": "2021-06-27T02:45:11.703977Z",
     "start_time": "2021-06-27T02:45:08.460505Z"
    },
    "hidden": true
   },
   "outputs": [
    {
     "name": "stdout",
     "output_type": "stream",
     "text": [
      "510\n"
     ]
    },
    {
     "data": {
      "text/plain": [
       "state  medication_perscribed        num_perscribed  rank\n",
       "AK     AMLODIPINE BESYLATE          498             6       1\n",
       "NV     LISINOPRIL                   1924            4       1\n",
       "NY     OMEPRAZOLE                   18893           6       1\n",
       "       METOPROLOL SUCCINATE         18739           7       1\n",
       "       METFORMIN HCL                21926           2       1\n",
       "       LISINOPRIL                   17847           8       1\n",
       "       LEVOTHYROXINE SODIUM         24089           1       1\n",
       "       GABAPENTIN                   16890           10      1\n",
       "       ATORVASTATIN CALCIUM         18942           5       1\n",
       "       AMLODIPINE BESYLATE          19225           4       1\n",
       "       ALBUTEROL SULFATE            19354           3       1\n",
       "NV     POTASSIUM CHLORIDE           2134            3       1\n",
       "       OXYCODONE HCL/ACETAMINOPHEN  1691            10      1\n",
       "       OMEPRAZOLE                   1750            7       1\n",
       "       METFORMIN HCL                1912            5       1\n",
       "       LEVOTHYROXINE SODIUM         2308            2       1\n",
       "OH     ALBUTEROL SULFATE            10603           6       1\n",
       "NV     HYDROCODONE/ACETAMINOPHEN    2979            1       1\n",
       "       GABAPENTIN                   1742            8       1\n",
       "       AMLODIPINE BESYLATE          1740            9       1\n",
       "dtype: int64"
      ]
     },
     "execution_count": 518,
     "metadata": {},
     "output_type": "execute_result"
    }
   ],
   "source": [
    "query_job = client.query(query)\n",
    "ten_most_common_perscriptions = query_job.to_dataframe()\n",
    "print(len(ten_most_common_perscriptions))\n",
    "ten_most_common_perscriptions.value_counts().head(20)"
   ]
  },
  {
   "cell_type": "code",
   "execution_count": 519,
   "metadata": {
    "ExecuteTime": {
     "end_time": "2021-06-27T02:45:24.313365Z",
     "start_time": "2021-06-27T02:45:24.301298Z"
    },
    "hidden": true
   },
   "outputs": [
    {
     "data": {
      "text/plain": [
       "23336"
      ]
     },
     "execution_count": 519,
     "metadata": {},
     "output_type": "execute_result"
    }
   ],
   "source": [
    "ten_most_common_perscriptions[ten_most_common_perscriptions[\"state\"] == \"WV\"][\"num_perscribed\"].sum()"
   ]
  },
  {
   "cell_type": "code",
   "execution_count": 525,
   "metadata": {
    "ExecuteTime": {
     "end_time": "2021-06-27T02:50:05.461918Z",
     "start_time": "2021-06-27T02:50:05.435257Z"
    },
    "hidden": true
   },
   "outputs": [
    {
     "data": {
      "text/plain": [
       "11.37"
      ]
     },
     "execution_count": 525,
     "metadata": {},
     "output_type": "execute_result"
    }
   ],
   "source": [
    "np.round((23336/205156)*100, 2)"
   ]
  },
  {
   "cell_type": "markdown",
   "metadata": {},
   "source": [
    "#### Statistical analysis with scipy and pandas"
   ]
  },
  {
   "cell_type": "code",
   "execution_count": 898,
   "metadata": {
    "ExecuteTime": {
     "end_time": "2021-07-01T04:21:26.966567Z",
     "start_time": "2021-07-01T04:21:26.683555Z"
    }
   },
   "outputs": [
    {
     "data": {
      "text/html": [
       "<style  type=\"text/css\" >\n",
       "#T_1b4bb_row0_col0,#T_1b4bb_row1_col1,#T_1b4bb_row2_col2,#T_1b4bb_row3_col3,#T_1b4bb_row4_col4,#T_1b4bb_row5_col5,#T_1b4bb_row6_col6,#T_1b4bb_row7_col7,#T_1b4bb_row8_col8,#T_1b4bb_row9_col9,#T_1b4bb_row10_col10,#T_1b4bb_row11_col11,#T_1b4bb_row12_col12,#T_1b4bb_row13_col13,#T_1b4bb_row14_col14,#T_1b4bb_row15_col15,#T_1b4bb_row16_col16,#T_1b4bb_row17_col17{\n",
       "            background-color:  #ff00ff;\n",
       "            color:  #f1f1f1;\n",
       "        }#T_1b4bb_row0_col1,#T_1b4bb_row1_col2,#T_1b4bb_row2_col1,#T_1b4bb_row3_col6,#T_1b4bb_row4_col3,#T_1b4bb_row5_col2,#T_1b4bb_row6_col3,#T_1b4bb_row7_col3,#T_1b4bb_row8_col3,#T_1b4bb_row9_col1,#T_1b4bb_row10_col1,#T_1b4bb_row11_col2,#T_1b4bb_row12_col1,#T_1b4bb_row13_col16,#T_1b4bb_row14_col1,#T_1b4bb_row15_col1,#T_1b4bb_row16_col17,#T_1b4bb_row17_col16{\n",
       "            background-color:  #00ffff;\n",
       "            color:  #000000;\n",
       "        }#T_1b4bb_row0_col2{\n",
       "            background-color:  #6e91ff;\n",
       "            color:  #000000;\n",
       "        }#T_1b4bb_row0_col3{\n",
       "            background-color:  #28d7ff;\n",
       "            color:  #000000;\n",
       "        }#T_1b4bb_row0_col4{\n",
       "            background-color:  #47b8ff;\n",
       "            color:  #000000;\n",
       "        }#T_1b4bb_row0_col5,#T_1b4bb_row15_col5{\n",
       "            background-color:  #10efff;\n",
       "            color:  #000000;\n",
       "        }#T_1b4bb_row0_col6,#T_1b4bb_row11_col12{\n",
       "            background-color:  #49b6ff;\n",
       "            color:  #000000;\n",
       "        }#T_1b4bb_row0_col7,#T_1b4bb_row0_col8,#T_1b4bb_row0_col14,#T_1b4bb_row12_col8{\n",
       "            background-color:  #25daff;\n",
       "            color:  #000000;\n",
       "        }#T_1b4bb_row0_col9,#T_1b4bb_row9_col0,#T_1b4bb_row10_col9{\n",
       "            background-color:  #fd02ff;\n",
       "            color:  #f1f1f1;\n",
       "        }#T_1b4bb_row0_col10,#T_1b4bb_row10_col0,#T_1b4bb_row10_col12,#T_1b4bb_row12_col10{\n",
       "            background-color:  #fc03ff;\n",
       "            color:  #f1f1f1;\n",
       "        }#T_1b4bb_row0_col11{\n",
       "            background-color:  #13ecff;\n",
       "            color:  #000000;\n",
       "        }#T_1b4bb_row0_col12,#T_1b4bb_row12_col0{\n",
       "            background-color:  #fb04ff;\n",
       "            color:  #f1f1f1;\n",
       "        }#T_1b4bb_row0_col13,#T_1b4bb_row14_col11{\n",
       "            background-color:  #0cf3ff;\n",
       "            color:  #000000;\n",
       "        }#T_1b4bb_row0_col15,#T_1b4bb_row7_col8,#T_1b4bb_row8_col7,#T_1b4bb_row12_col9,#T_1b4bb_row15_col0{\n",
       "            background-color:  #f906ff;\n",
       "            color:  #f1f1f1;\n",
       "        }#T_1b4bb_row0_col16,#T_1b4bb_row2_col5,#T_1b4bb_row3_col2{\n",
       "            background-color:  #37c8ff;\n",
       "            color:  #000000;\n",
       "        }#T_1b4bb_row0_col17{\n",
       "            background-color:  #609fff;\n",
       "            color:  #000000;\n",
       "        }#T_1b4bb_row1_col0,#T_1b4bb_row3_col0,#T_1b4bb_row3_col11{\n",
       "            background-color:  #5ca3ff;\n",
       "            color:  #000000;\n",
       "        }#T_1b4bb_row1_col3,#T_1b4bb_row2_col10,#T_1b4bb_row14_col2,#T_1b4bb_row17_col4{\n",
       "            background-color:  #a758ff;\n",
       "            color:  #000000;\n",
       "        }#T_1b4bb_row1_col4{\n",
       "            background-color:  #33ccff;\n",
       "            color:  #000000;\n",
       "        }#T_1b4bb_row1_col5{\n",
       "            background-color:  #c837ff;\n",
       "            color:  #f1f1f1;\n",
       "        }#T_1b4bb_row1_col6{\n",
       "            background-color:  #8679ff;\n",
       "            color:  #000000;\n",
       "        }#T_1b4bb_row1_col7{\n",
       "            background-color:  #8d72ff;\n",
       "            color:  #000000;\n",
       "        }#T_1b4bb_row1_col8{\n",
       "            background-color:  #936cff;\n",
       "            color:  #000000;\n",
       "        }#T_1b4bb_row1_col9,#T_1b4bb_row7_col0,#T_1b4bb_row8_col9,#T_1b4bb_row8_col17,#T_1b4bb_row9_col4,#T_1b4bb_row17_col6{\n",
       "            background-color:  #54abff;\n",
       "            color:  #000000;\n",
       "        }#T_1b4bb_row1_col10,#T_1b4bb_row2_col3,#T_1b4bb_row3_col15,#T_1b4bb_row4_col6,#T_1b4bb_row8_col0,#T_1b4bb_row11_col6,#T_1b4bb_row11_col7,#T_1b4bb_row13_col4{\n",
       "            background-color:  #58a7ff;\n",
       "            color:  #000000;\n",
       "        }#T_1b4bb_row1_col11{\n",
       "            background-color:  #c936ff;\n",
       "            color:  #f1f1f1;\n",
       "        }#T_1b4bb_row1_col12,#T_1b4bb_row3_col9,#T_1b4bb_row3_col10,#T_1b4bb_row7_col11,#T_1b4bb_row17_col8{\n",
       "            background-color:  #5ea1ff;\n",
       "            color:  #000000;\n",
       "        }#T_1b4bb_row1_col13,#T_1b4bb_row4_col16,#T_1b4bb_row6_col1,#T_1b4bb_row16_col0{\n",
       "            background-color:  #6f90ff;\n",
       "            color:  #000000;\n",
       "        }#T_1b4bb_row1_col14{\n",
       "            background-color:  #41beff;\n",
       "            color:  #000000;\n",
       "        }#T_1b4bb_row1_col15,#T_1b4bb_row7_col5{\n",
       "            background-color:  #619eff;\n",
       "            color:  #000000;\n",
       "        }#T_1b4bb_row1_col16,#T_1b4bb_row6_col12,#T_1b4bb_row16_col4{\n",
       "            background-color:  #7887ff;\n",
       "            color:  #000000;\n",
       "        }#T_1b4bb_row1_col17,#T_1b4bb_row3_col5,#T_1b4bb_row16_col15{\n",
       "            background-color:  #6798ff;\n",
       "            color:  #000000;\n",
       "        }#T_1b4bb_row2_col0,#T_1b4bb_row3_col13{\n",
       "            background-color:  #a35cff;\n",
       "            color:  #000000;\n",
       "        }#T_1b4bb_row2_col4{\n",
       "            background-color:  #cc33ff;\n",
       "            color:  #f1f1f1;\n",
       "        }#T_1b4bb_row2_col6,#T_1b4bb_row4_col14{\n",
       "            background-color:  #7986ff;\n",
       "            color:  #000000;\n",
       "        }#T_1b4bb_row2_col7,#T_1b4bb_row4_col0,#T_1b4bb_row4_col10,#T_1b4bb_row4_col12,#T_1b4bb_row6_col10,#T_1b4bb_row11_col16{\n",
       "            background-color:  #728dff;\n",
       "            color:  #000000;\n",
       "        }#T_1b4bb_row2_col8{\n",
       "            background-color:  #6c93ff;\n",
       "            color:  #000000;\n",
       "        }#T_1b4bb_row2_col9{\n",
       "            background-color:  #ab54ff;\n",
       "            color:  #000000;\n",
       "        }#T_1b4bb_row2_col11{\n",
       "            background-color:  #36c9ff;\n",
       "            color:  #000000;\n",
       "        }#T_1b4bb_row2_col12{\n",
       "            background-color:  #a15eff;\n",
       "            color:  #000000;\n",
       "        }#T_1b4bb_row2_col13{\n",
       "            background-color:  #906fff;\n",
       "            color:  #000000;\n",
       "        }#T_1b4bb_row2_col14{\n",
       "            background-color:  #be41ff;\n",
       "            color:  #000000;\n",
       "        }#T_1b4bb_row2_col15{\n",
       "            background-color:  #9e61ff;\n",
       "            color:  #000000;\n",
       "        }#T_1b4bb_row2_col16{\n",
       "            background-color:  #8778ff;\n",
       "            color:  #000000;\n",
       "        }#T_1b4bb_row2_col17{\n",
       "            background-color:  #9867ff;\n",
       "            color:  #000000;\n",
       "        }#T_1b4bb_row3_col1{\n",
       "            background-color:  #9669ff;\n",
       "            color:  #000000;\n",
       "        }#T_1b4bb_row3_col4,#T_1b4bb_row3_col8{\n",
       "            background-color:  #02fdff;\n",
       "            color:  #000000;\n",
       "        }#T_1b4bb_row3_col7,#T_1b4bb_row14_col6{\n",
       "            background-color:  #07f8ff;\n",
       "            color:  #000000;\n",
       "        }#T_1b4bb_row3_col12,#T_1b4bb_row5_col6{\n",
       "            background-color:  #59a6ff;\n",
       "            color:  #000000;\n",
       "        }#T_1b4bb_row3_col14,#T_1b4bb_row17_col9,#T_1b4bb_row17_col10{\n",
       "            background-color:  #916eff;\n",
       "            color:  #000000;\n",
       "        }#T_1b4bb_row3_col16,#T_1b4bb_row10_col16{\n",
       "            background-color:  #35caff;\n",
       "            color:  #000000;\n",
       "        }#T_1b4bb_row3_col17,#T_1b4bb_row8_col2,#T_1b4bb_row13_col1,#T_1b4bb_row13_col10{\n",
       "            background-color:  #4eb1ff;\n",
       "            color:  #000000;\n",
       "        }#T_1b4bb_row4_col1{\n",
       "            background-color:  #09f6ff;\n",
       "            color:  #000000;\n",
       "        }#T_1b4bb_row4_col2{\n",
       "            background-color:  #c13eff;\n",
       "            color:  #f1f1f1;\n",
       "        }#T_1b4bb_row4_col5,#T_1b4bb_row15_col6{\n",
       "            background-color:  #45baff;\n",
       "            color:  #000000;\n",
       "        }#T_1b4bb_row4_col7,#T_1b4bb_row11_col13{\n",
       "            background-color:  #52adff;\n",
       "            color:  #000000;\n",
       "        }#T_1b4bb_row4_col8,#T_1b4bb_row8_col4,#T_1b4bb_row17_col7{\n",
       "            background-color:  #56a9ff;\n",
       "            color:  #000000;\n",
       "        }#T_1b4bb_row4_col9,#T_1b4bb_row4_col15,#T_1b4bb_row6_col0,#T_1b4bb_row13_col2{\n",
       "            background-color:  #758aff;\n",
       "            color:  #000000;\n",
       "        }#T_1b4bb_row4_col11,#T_1b4bb_row16_col1{\n",
       "            background-color:  #6699ff;\n",
       "            color:  #000000;\n",
       "        }#T_1b4bb_row4_col13,#T_1b4bb_row5_col7,#T_1b4bb_row5_col17,#T_1b4bb_row8_col15{\n",
       "            background-color:  #5ba4ff;\n",
       "            color:  #000000;\n",
       "        }#T_1b4bb_row4_col17{\n",
       "            background-color:  #a25dff;\n",
       "            color:  #000000;\n",
       "        }#T_1b4bb_row5_col0,#T_1b4bb_row5_col13,#T_1b4bb_row12_col16{\n",
       "            background-color:  #3cc3ff;\n",
       "            color:  #000000;\n",
       "        }#T_1b4bb_row5_col1{\n",
       "            background-color:  #b946ff;\n",
       "            color:  #000000;\n",
       "        }#T_1b4bb_row5_col3,#T_1b4bb_row11_col4,#T_1b4bb_row12_col17{\n",
       "            background-color:  #5da2ff;\n",
       "            color:  #000000;\n",
       "        }#T_1b4bb_row5_col4,#T_1b4bb_row13_col12{\n",
       "            background-color:  #3ac5ff;\n",
       "            color:  #000000;\n",
       "        }#T_1b4bb_row5_col8,#T_1b4bb_row10_col2,#T_1b4bb_row16_col2{\n",
       "            background-color:  #7788ff;\n",
       "            color:  #000000;\n",
       "        }#T_1b4bb_row5_col9,#T_1b4bb_row9_col16{\n",
       "            background-color:  #38c7ff;\n",
       "            color:  #000000;\n",
       "        }#T_1b4bb_row5_col10,#T_1b4bb_row10_col14,#T_1b4bb_row11_col9{\n",
       "            background-color:  #3bc4ff;\n",
       "            color:  #000000;\n",
       "        }#T_1b4bb_row5_col11,#T_1b4bb_row11_col5{\n",
       "            background-color:  #ae51ff;\n",
       "            color:  #000000;\n",
       "        }#T_1b4bb_row5_col12,#T_1b4bb_row16_col3{\n",
       "            background-color:  #3fc0ff;\n",
       "            color:  #000000;\n",
       "        }#T_1b4bb_row5_col14{\n",
       "            background-color:  #2ed1ff;\n",
       "            color:  #000000;\n",
       "        }#T_1b4bb_row5_col15,#T_1b4bb_row9_col14,#T_1b4bb_row13_col5,#T_1b4bb_row14_col12{\n",
       "            background-color:  #43bcff;\n",
       "            color:  #000000;\n",
       "        }#T_1b4bb_row5_col16,#T_1b4bb_row10_col17{\n",
       "            background-color:  #6b94ff;\n",
       "            color:  #000000;\n",
       "        }#T_1b4bb_row6_col2,#T_1b4bb_row11_col17{\n",
       "            background-color:  #5fa0ff;\n",
       "            color:  #000000;\n",
       "        }#T_1b4bb_row6_col4,#T_1b4bb_row8_col12{\n",
       "            background-color:  #5aa5ff;\n",
       "            color:  #000000;\n",
       "        }#T_1b4bb_row6_col5{\n",
       "            background-color:  #649bff;\n",
       "            color:  #000000;\n",
       "        }#T_1b4bb_row6_col7,#T_1b4bb_row7_col6,#T_1b4bb_row9_col12,#T_1b4bb_row10_col15,#T_1b4bb_row15_col10{\n",
       "            background-color:  #fa05ff;\n",
       "            color:  #f1f1f1;\n",
       "        }#T_1b4bb_row6_col8,#T_1b4bb_row8_col6{\n",
       "            background-color:  #f609ff;\n",
       "            color:  #f1f1f1;\n",
       "        }#T_1b4bb_row6_col9,#T_1b4bb_row8_col11{\n",
       "            background-color:  #708fff;\n",
       "            color:  #000000;\n",
       "        }#T_1b4bb_row6_col11,#T_1b4bb_row15_col2{\n",
       "            background-color:  #629dff;\n",
       "            color:  #000000;\n",
       "        }#T_1b4bb_row6_col13,#T_1b4bb_row6_col14,#T_1b4bb_row10_col13,#T_1b4bb_row14_col5,#T_1b4bb_row15_col14{\n",
       "            background-color:  #23dcff;\n",
       "            color:  #000000;\n",
       "        }#T_1b4bb_row6_col15{\n",
       "            background-color:  #7689ff;\n",
       "            color:  #000000;\n",
       "        }#T_1b4bb_row6_col16,#T_1b4bb_row13_col3{\n",
       "            background-color:  #a05fff;\n",
       "            color:  #000000;\n",
       "        }#T_1b4bb_row6_col17,#T_1b4bb_row10_col6{\n",
       "            background-color:  #4ab5ff;\n",
       "            color:  #000000;\n",
       "        }#T_1b4bb_row7_col1{\n",
       "            background-color:  #738cff;\n",
       "            color:  #000000;\n",
       "        }#T_1b4bb_row7_col2,#T_1b4bb_row7_col9,#T_1b4bb_row7_col10,#T_1b4bb_row11_col3{\n",
       "            background-color:  #51aeff;\n",
       "            color:  #000000;\n",
       "        }#T_1b4bb_row7_col4{\n",
       "            background-color:  #4fb0ff;\n",
       "            color:  #000000;\n",
       "        }#T_1b4bb_row7_col12,#T_1b4bb_row7_col15,#T_1b4bb_row8_col10{\n",
       "            background-color:  #55aaff;\n",
       "            color:  #000000;\n",
       "        }#T_1b4bb_row7_col13,#T_1b4bb_row13_col8{\n",
       "            background-color:  #2cd3ff;\n",
       "            color:  #000000;\n",
       "        }#T_1b4bb_row7_col14,#T_1b4bb_row9_col13,#T_1b4bb_row10_col8{\n",
       "            background-color:  #27d8ff;\n",
       "            color:  #000000;\n",
       "        }#T_1b4bb_row7_col16,#T_1b4bb_row17_col0{\n",
       "            background-color:  #8c73ff;\n",
       "            color:  #000000;\n",
       "        }#T_1b4bb_row7_col17,#T_1b4bb_row11_col10,#T_1b4bb_row14_col15{\n",
       "            background-color:  #48b7ff;\n",
       "            color:  #000000;\n",
       "        }#T_1b4bb_row8_col1{\n",
       "            background-color:  #7d82ff;\n",
       "            color:  #000000;\n",
       "        }#T_1b4bb_row8_col5{\n",
       "            background-color:  #7f80ff;\n",
       "            color:  #000000;\n",
       "        }#T_1b4bb_row8_col13{\n",
       "            background-color:  #31ceff;\n",
       "            color:  #000000;\n",
       "        }#T_1b4bb_row8_col14,#T_1b4bb_row12_col7{\n",
       "            background-color:  #24dbff;\n",
       "            color:  #000000;\n",
       "        }#T_1b4bb_row8_col16{\n",
       "            background-color:  #8e71ff;\n",
       "            color:  #000000;\n",
       "        }#T_1b4bb_row9_col2{\n",
       "            background-color:  #807fff;\n",
       "            color:  #000000;\n",
       "        }#T_1b4bb_row9_col3{\n",
       "            background-color:  #34cbff;\n",
       "            color:  #000000;\n",
       "        }#T_1b4bb_row9_col5{\n",
       "            background-color:  #16e9ff;\n",
       "            color:  #000000;\n",
       "        }#T_1b4bb_row9_col6,#T_1b4bb_row10_col4,#T_1b4bb_row11_col15{\n",
       "            background-color:  #4cb3ff;\n",
       "            color:  #000000;\n",
       "        }#T_1b4bb_row9_col7,#T_1b4bb_row9_col8{\n",
       "            background-color:  #2ad5ff;\n",
       "            color:  #000000;\n",
       "        }#T_1b4bb_row9_col10,#T_1b4bb_row12_col15,#T_1b4bb_row15_col12{\n",
       "            background-color:  #fe01ff;\n",
       "            color:  #f1f1f1;\n",
       "        }#T_1b4bb_row9_col11{\n",
       "            background-color:  #18e7ff;\n",
       "            color:  #000000;\n",
       "        }#T_1b4bb_row9_col15,#T_1b4bb_row15_col9{\n",
       "            background-color:  #f708ff;\n",
       "            color:  #f1f1f1;\n",
       "        }#T_1b4bb_row9_col17,#T_1b4bb_row15_col17,#T_1b4bb_row17_col5{\n",
       "            background-color:  #6d92ff;\n",
       "            color:  #000000;\n",
       "        }#T_1b4bb_row10_col3{\n",
       "            background-color:  #2fd0ff;\n",
       "            color:  #000000;\n",
       "        }#T_1b4bb_row10_col5,#T_1b4bb_row16_col13{\n",
       "            background-color:  #14ebff;\n",
       "            color:  #000000;\n",
       "        }#T_1b4bb_row10_col7,#T_1b4bb_row15_col16{\n",
       "            background-color:  #26d9ff;\n",
       "            color:  #000000;\n",
       "        }#T_1b4bb_row10_col11,#T_1b4bb_row12_col3,#T_1b4bb_row15_col8{\n",
       "            background-color:  #22ddff;\n",
       "            color:  #000000;\n",
       "        }#T_1b4bb_row11_col0,#T_1b4bb_row13_col0,#T_1b4bb_row13_col15{\n",
       "            background-color:  #40bfff;\n",
       "            color:  #000000;\n",
       "        }#T_1b4bb_row11_col1{\n",
       "            background-color:  #ba45ff;\n",
       "            color:  #000000;\n",
       "        }#T_1b4bb_row11_col8{\n",
       "            background-color:  #6897ff;\n",
       "            color:  #000000;\n",
       "        }#T_1b4bb_row11_col14{\n",
       "            background-color:  #19e6ff;\n",
       "            color:  #000000;\n",
       "        }#T_1b4bb_row12_col2,#T_1b4bb_row14_col4,#T_1b4bb_row16_col9{\n",
       "            background-color:  #6996ff;\n",
       "            color:  #000000;\n",
       "        }#T_1b4bb_row12_col4,#T_1b4bb_row15_col4{\n",
       "            background-color:  #46b9ff;\n",
       "            color:  #000000;\n",
       "        }#T_1b4bb_row12_col5{\n",
       "            background-color:  #11eeff;\n",
       "            color:  #000000;\n",
       "        }#T_1b4bb_row12_col6{\n",
       "            background-color:  #4bb4ff;\n",
       "            color:  #000000;\n",
       "        }#T_1b4bb_row12_col11{\n",
       "            background-color:  #1de2ff;\n",
       "            color:  #000000;\n",
       "        }#T_1b4bb_row12_col13,#T_1b4bb_row14_col16{\n",
       "            background-color:  #01feff;\n",
       "            color:  #000000;\n",
       "        }#T_1b4bb_row12_col14{\n",
       "            background-color:  #21deff;\n",
       "            color:  #000000;\n",
       "        }#T_1b4bb_row13_col6,#T_1b4bb_row15_col3{\n",
       "            background-color:  #1ce3ff;\n",
       "            color:  #000000;\n",
       "        }#T_1b4bb_row13_col7{\n",
       "            background-color:  #2bd4ff;\n",
       "            color:  #000000;\n",
       "        }#T_1b4bb_row13_col9{\n",
       "            background-color:  #4db2ff;\n",
       "            color:  #000000;\n",
       "        }#T_1b4bb_row13_col11,#T_1b4bb_row14_col9,#T_1b4bb_row17_col3{\n",
       "            background-color:  #57a8ff;\n",
       "            color:  #000000;\n",
       "        }#T_1b4bb_row13_col14{\n",
       "            background-color:  #d52aff;\n",
       "            color:  #f1f1f1;\n",
       "        }#T_1b4bb_row13_col17{\n",
       "            background-color:  #9c63ff;\n",
       "            color:  #000000;\n",
       "        }#T_1b4bb_row14_col0{\n",
       "            background-color:  #44bbff;\n",
       "            color:  #000000;\n",
       "        }#T_1b4bb_row14_col3{\n",
       "            background-color:  #837cff;\n",
       "            color:  #000000;\n",
       "        }#T_1b4bb_row14_col7{\n",
       "            background-color:  #12edff;\n",
       "            color:  #000000;\n",
       "        }#T_1b4bb_row14_col8{\n",
       "            background-color:  #0bf4ff;\n",
       "            color:  #000000;\n",
       "        }#T_1b4bb_row14_col10,#T_1b4bb_row17_col1{\n",
       "            background-color:  #53acff;\n",
       "            color:  #000000;\n",
       "        }#T_1b4bb_row14_col13{\n",
       "            background-color:  #d12eff;\n",
       "            color:  #f1f1f1;\n",
       "        }#T_1b4bb_row14_col17{\n",
       "            background-color:  #8976ff;\n",
       "            color:  #000000;\n",
       "        }#T_1b4bb_row15_col7{\n",
       "            background-color:  #1fe0ff;\n",
       "            color:  #000000;\n",
       "        }#T_1b4bb_row15_col11{\n",
       "            background-color:  #1be4ff;\n",
       "            color:  #000000;\n",
       "        }#T_1b4bb_row15_col13{\n",
       "            background-color:  #04fbff;\n",
       "            color:  #000000;\n",
       "        }#T_1b4bb_row16_col5{\n",
       "            background-color:  #7b84ff;\n",
       "            color:  #000000;\n",
       "        }#T_1b4bb_row16_col6{\n",
       "            background-color:  #a55aff;\n",
       "            color:  #000000;\n",
       "        }#T_1b4bb_row16_col7,#T_1b4bb_row16_col8{\n",
       "            background-color:  #956aff;\n",
       "            color:  #000000;\n",
       "        }#T_1b4bb_row16_col10{\n",
       "            background-color:  #6a95ff;\n",
       "            color:  #000000;\n",
       "        }#T_1b4bb_row16_col11{\n",
       "            background-color:  #827dff;\n",
       "            color:  #000000;\n",
       "        }#T_1b4bb_row16_col12{\n",
       "            background-color:  #748bff;\n",
       "            color:  #000000;\n",
       "        }#T_1b4bb_row16_col14{\n",
       "            background-color:  #29d6ff;\n",
       "            color:  #000000;\n",
       "        }#T_1b4bb_row17_col2{\n",
       "            background-color:  #8a75ff;\n",
       "            color:  #000000;\n",
       "        }#T_1b4bb_row17_col11{\n",
       "            background-color:  #718eff;\n",
       "            color:  #000000;\n",
       "        }#T_1b4bb_row17_col12{\n",
       "            background-color:  #8b74ff;\n",
       "            color:  #000000;\n",
       "        }#T_1b4bb_row17_col13{\n",
       "            background-color:  #a45bff;\n",
       "            color:  #000000;\n",
       "        }#T_1b4bb_row17_col14{\n",
       "            background-color:  #9b64ff;\n",
       "            color:  #000000;\n",
       "        }#T_1b4bb_row17_col15{\n",
       "            background-color:  #9966ff;\n",
       "            color:  #000000;\n",
       "        }</style><table id=\"T_1b4bb_\" ><thead>    <tr>        <th class=\"blank level0\" ></th>        <th class=\"col_heading level0 col0\" >Population over 65</th>        <th class=\"col_heading level0 col1\" >Male (%)</th>        <th class=\"col_heading level0 col2\" >Female (%)</th>        <th class=\"col_heading level0 col3\" >White (%)</th>        <th class=\"col_heading level0 col4\" >Black (%)</th>        <th class=\"col_heading level0 col5\" >Native American (%)</th>        <th class=\"col_heading level0 col6\" >Asian (%)</th>        <th class=\"col_heading level0 col7\" >Native Hawaiian and Pacific Islander (%)</th>        <th class=\"col_heading level0 col8\" >Two or More Races (%)</th>        <th class=\"col_heading level0 col9\" >Total perscriptions</th>        <th class=\"col_heading level0 col10\" >Number perscribed</th>        <th class=\"col_heading level0 col11\" >Percent of total perscriptions</th>        <th class=\"col_heading level0 col12\" >Est. population 2014</th>        <th class=\"col_heading level0 col13\" >Total perscriptions per 100k</th>        <th class=\"col_heading level0 col14\" >Total perscriptions per 1k over 65</th>        <th class=\"col_heading level0 col15\" >Poverty Estimate, All Ages</th>        <th class=\"col_heading level0 col16\" >Median Household Income</th>        <th class=\"col_heading level0 col17\" >Poverty Rate, All Ages</th>    </tr></thead><tbody>\n",
       "                <tr>\n",
       "                        <th id=\"T_1b4bb_level0_row0\" class=\"row_heading level0 row0\" >Population over 65</th>\n",
       "                        <td id=\"T_1b4bb_row0_col0\" class=\"data row0 col0\" >1.0</td>\n",
       "                        <td id=\"T_1b4bb_row0_col1\" class=\"data row0 col1\" >-0.27</td>\n",
       "                        <td id=\"T_1b4bb_row0_col2\" class=\"data row0 col2\" >0.27</td>\n",
       "                        <td id=\"T_1b4bb_row0_col3\" class=\"data row0 col3\" >-0.072</td>\n",
       "                        <td id=\"T_1b4bb_row0_col4\" class=\"data row0 col4\" >0.082</td>\n",
       "                        <td id=\"T_1b4bb_row0_col5\" class=\"data row0 col5\" >-0.19</td>\n",
       "                        <td id=\"T_1b4bb_row0_col6\" class=\"data row0 col6\" >0.091</td>\n",
       "                        <td id=\"T_1b4bb_row0_col7\" class=\"data row0 col7\" >-0.09</td>\n",
       "                        <td id=\"T_1b4bb_row0_col8\" class=\"data row0 col8\" >-0.089</td>\n",
       "                        <td id=\"T_1b4bb_row0_col9\" class=\"data row0 col9\" >0.99</td>\n",
       "                        <td id=\"T_1b4bb_row0_col10\" class=\"data row0 col10\" >0.98</td>\n",
       "                        <td id=\"T_1b4bb_row0_col11\" class=\"data row0 col11\" >-0.18</td>\n",
       "                        <td id=\"T_1b4bb_row0_col12\" class=\"data row0 col12\" >0.98</td>\n",
       "                        <td id=\"T_1b4bb_row0_col13\" class=\"data row0 col13\" >-0.21</td>\n",
       "                        <td id=\"T_1b4bb_row0_col14\" class=\"data row0 col14\" >-0.089</td>\n",
       "                        <td id=\"T_1b4bb_row0_col15\" class=\"data row0 col15\" >0.97</td>\n",
       "                        <td id=\"T_1b4bb_row0_col16\" class=\"data row0 col16\" >0.0038</td>\n",
       "                        <td id=\"T_1b4bb_row0_col17\" class=\"data row0 col17\" >0.2</td>\n",
       "            </tr>\n",
       "            <tr>\n",
       "                        <th id=\"T_1b4bb_level0_row1\" class=\"row_heading level0 row1\" >Male (%)</th>\n",
       "                        <td id=\"T_1b4bb_row1_col0\" class=\"data row1 col0\" >-0.27</td>\n",
       "                        <td id=\"T_1b4bb_row1_col1\" class=\"data row1 col1\" >1.0</td>\n",
       "                        <td id=\"T_1b4bb_row1_col2\" class=\"data row1 col2\" >-1.0</td>\n",
       "                        <td id=\"T_1b4bb_row1_col3\" class=\"data row1 col3\" >0.31</td>\n",
       "                        <td id=\"T_1b4bb_row1_col4\" class=\"data row1 col4\" >-0.6</td>\n",
       "                        <td id=\"T_1b4bb_row1_col5\" class=\"data row1 col5\" >0.57</td>\n",
       "                        <td id=\"T_1b4bb_row1_col6\" class=\"data row1 col6\" >0.051</td>\n",
       "                        <td id=\"T_1b4bb_row1_col7\" class=\"data row1 col7\" >0.11</td>\n",
       "                        <td id=\"T_1b4bb_row1_col8\" class=\"data row1 col8\" >0.15</td>\n",
       "                        <td id=\"T_1b4bb_row1_col9\" class=\"data row1 col9\" >-0.34</td>\n",
       "                        <td id=\"T_1b4bb_row1_col10\" class=\"data row1 col10\" >-0.31</td>\n",
       "                        <td id=\"T_1b4bb_row1_col11\" class=\"data row1 col11\" >0.57</td>\n",
       "                        <td id=\"T_1b4bb_row1_col12\" class=\"data row1 col12\" >-0.26</td>\n",
       "                        <td id=\"T_1b4bb_row1_col13\" class=\"data row1 col13\" >-0.13</td>\n",
       "                        <td id=\"T_1b4bb_row1_col14\" class=\"data row1 col14\" >-0.49</td>\n",
       "                        <td id=\"T_1b4bb_row1_col15\" class=\"data row1 col15\" >-0.24</td>\n",
       "                        <td id=\"T_1b4bb_row1_col16\" class=\"data row1 col16\" >-0.057</td>\n",
       "                        <td id=\"T_1b4bb_row1_col17\" class=\"data row1 col17\" >-0.19</td>\n",
       "            </tr>\n",
       "            <tr>\n",
       "                        <th id=\"T_1b4bb_level0_row2\" class=\"row_heading level0 row2\" >Female (%)</th>\n",
       "                        <td id=\"T_1b4bb_row2_col0\" class=\"data row2 col0\" >0.27</td>\n",
       "                        <td id=\"T_1b4bb_row2_col1\" class=\"data row2 col1\" >-1.0</td>\n",
       "                        <td id=\"T_1b4bb_row2_col2\" class=\"data row2 col2\" >1.0</td>\n",
       "                        <td id=\"T_1b4bb_row2_col3\" class=\"data row2 col3\" >-0.31</td>\n",
       "                        <td id=\"T_1b4bb_row2_col4\" class=\"data row2 col4\" >0.6</td>\n",
       "                        <td id=\"T_1b4bb_row2_col5\" class=\"data row2 col5\" >-0.57</td>\n",
       "                        <td id=\"T_1b4bb_row2_col6\" class=\"data row2 col6\" >-0.051</td>\n",
       "                        <td id=\"T_1b4bb_row2_col7\" class=\"data row2 col7\" >-0.11</td>\n",
       "                        <td id=\"T_1b4bb_row2_col8\" class=\"data row2 col8\" >-0.15</td>\n",
       "                        <td id=\"T_1b4bb_row2_col9\" class=\"data row2 col9\" >0.34</td>\n",
       "                        <td id=\"T_1b4bb_row2_col10\" class=\"data row2 col10\" >0.31</td>\n",
       "                        <td id=\"T_1b4bb_row2_col11\" class=\"data row2 col11\" >-0.57</td>\n",
       "                        <td id=\"T_1b4bb_row2_col12\" class=\"data row2 col12\" >0.26</td>\n",
       "                        <td id=\"T_1b4bb_row2_col13\" class=\"data row2 col13\" >0.13</td>\n",
       "                        <td id=\"T_1b4bb_row2_col14\" class=\"data row2 col14\" >0.49</td>\n",
       "                        <td id=\"T_1b4bb_row2_col15\" class=\"data row2 col15\" >0.24</td>\n",
       "                        <td id=\"T_1b4bb_row2_col16\" class=\"data row2 col16\" >0.057</td>\n",
       "                        <td id=\"T_1b4bb_row2_col17\" class=\"data row2 col17\" >0.19</td>\n",
       "            </tr>\n",
       "            <tr>\n",
       "                        <th id=\"T_1b4bb_level0_row3\" class=\"row_heading level0 row3\" >White (%)</th>\n",
       "                        <td id=\"T_1b4bb_row3_col0\" class=\"data row3 col0\" >-0.072</td>\n",
       "                        <td id=\"T_1b4bb_row3_col1\" class=\"data row3 col1\" >0.31</td>\n",
       "                        <td id=\"T_1b4bb_row3_col2\" class=\"data row3 col2\" >-0.31</td>\n",
       "                        <td id=\"T_1b4bb_row3_col3\" class=\"data row3 col3\" >1.0</td>\n",
       "                        <td id=\"T_1b4bb_row3_col4\" class=\"data row3 col4\" >-0.66</td>\n",
       "                        <td id=\"T_1b4bb_row3_col5\" class=\"data row3 col5\" >0.0044</td>\n",
       "                        <td id=\"T_1b4bb_row3_col6\" class=\"data row3 col6\" >-0.68</td>\n",
       "                        <td id=\"T_1b4bb_row3_col7\" class=\"data row3 col7\" >-0.63</td>\n",
       "                        <td id=\"T_1b4bb_row3_col8\" class=\"data row3 col8\" >-0.66</td>\n",
       "                        <td id=\"T_1b4bb_row3_col9\" class=\"data row3 col9\" >-0.061</td>\n",
       "                        <td id=\"T_1b4bb_row3_col10\" class=\"data row3 col10\" >-0.061</td>\n",
       "                        <td id=\"T_1b4bb_row3_col11\" class=\"data row3 col11\" >-0.068</td>\n",
       "                        <td id=\"T_1b4bb_row3_col12\" class=\"data row3 col12\" >-0.089</td>\n",
       "                        <td id=\"T_1b4bb_row3_col13\" class=\"data row3 col13\" >0.39</td>\n",
       "                        <td id=\"T_1b4bb_row3_col14\" class=\"data row3 col14\" >0.27</td>\n",
       "                        <td id=\"T_1b4bb_row3_col15\" class=\"data row3 col15\" >-0.1</td>\n",
       "                        <td id=\"T_1b4bb_row3_col16\" class=\"data row3 col16\" >-0.32</td>\n",
       "                        <td id=\"T_1b4bb_row3_col17\" class=\"data row3 col17\" >-0.16</td>\n",
       "            </tr>\n",
       "            <tr>\n",
       "                        <th id=\"T_1b4bb_level0_row4\" class=\"row_heading level0 row4\" >Black (%)</th>\n",
       "                        <td id=\"T_1b4bb_row4_col0\" class=\"data row4 col0\" >0.082</td>\n",
       "                        <td id=\"T_1b4bb_row4_col1\" class=\"data row4 col1\" >-0.6</td>\n",
       "                        <td id=\"T_1b4bb_row4_col2\" class=\"data row4 col2\" >0.6</td>\n",
       "                        <td id=\"T_1b4bb_row4_col3\" class=\"data row4 col3\" >-0.66</td>\n",
       "                        <td id=\"T_1b4bb_row4_col4\" class=\"data row4 col4\" >1.0</td>\n",
       "                        <td id=\"T_1b4bb_row4_col5\" class=\"data row4 col5\" >-0.21</td>\n",
       "                        <td id=\"T_1b4bb_row4_col6\" class=\"data row4 col6\" >-0.082</td>\n",
       "                        <td id=\"T_1b4bb_row4_col7\" class=\"data row4 col7\" >-0.12</td>\n",
       "                        <td id=\"T_1b4bb_row4_col8\" class=\"data row4 col8\" >-0.099</td>\n",
       "                        <td id=\"T_1b4bb_row4_col9\" class=\"data row4 col9\" >0.1</td>\n",
       "                        <td id=\"T_1b4bb_row4_col10\" class=\"data row4 col10\" >0.086</td>\n",
       "                        <td id=\"T_1b4bb_row4_col11\" class=\"data row4 col11\" >0.0056</td>\n",
       "                        <td id=\"T_1b4bb_row4_col12\" class=\"data row4 col12\" >0.085</td>\n",
       "                        <td id=\"T_1b4bb_row4_col13\" class=\"data row4 col13\" >-0.064</td>\n",
       "                        <td id=\"T_1b4bb_row4_col14\" class=\"data row4 col14\" >0.13</td>\n",
       "                        <td id=\"T_1b4bb_row4_col15\" class=\"data row4 col15\" >0.1</td>\n",
       "                        <td id=\"T_1b4bb_row4_col16\" class=\"data row4 col16\" >0.064</td>\n",
       "                        <td id=\"T_1b4bb_row4_col17\" class=\"data row4 col17\" >0.39</td>\n",
       "            </tr>\n",
       "            <tr>\n",
       "                        <th id=\"T_1b4bb_level0_row5\" class=\"row_heading level0 row5\" >Native American (%)</th>\n",
       "                        <td id=\"T_1b4bb_row5_col0\" class=\"data row5 col0\" >-0.19</td>\n",
       "                        <td id=\"T_1b4bb_row5_col1\" class=\"data row5 col1\" >0.57</td>\n",
       "                        <td id=\"T_1b4bb_row5_col2\" class=\"data row5 col2\" >-0.57</td>\n",
       "                        <td id=\"T_1b4bb_row5_col3\" class=\"data row5 col3\" >0.0044</td>\n",
       "                        <td id=\"T_1b4bb_row5_col4\" class=\"data row5 col4\" >-0.21</td>\n",
       "                        <td id=\"T_1b4bb_row5_col5\" class=\"data row5 col5\" >1.0</td>\n",
       "                        <td id=\"T_1b4bb_row5_col6\" class=\"data row5 col6\" >-0.021</td>\n",
       "                        <td id=\"T_1b4bb_row5_col7\" class=\"data row5 col7\" >-0.0068</td>\n",
       "                        <td id=\"T_1b4bb_row5_col8\" class=\"data row5 col8\" >0.16</td>\n",
       "                        <td id=\"T_1b4bb_row5_col9\" class=\"data row5 col9\" >-0.22</td>\n",
       "                        <td id=\"T_1b4bb_row5_col10\" class=\"data row5 col10\" >-0.2</td>\n",
       "                        <td id=\"T_1b4bb_row5_col11\" class=\"data row5 col11\" >0.5</td>\n",
       "                        <td id=\"T_1b4bb_row5_col12\" class=\"data row5 col12\" >-0.18</td>\n",
       "                        <td id=\"T_1b4bb_row5_col13\" class=\"data row5 col13\" >-0.2</td>\n",
       "                        <td id=\"T_1b4bb_row5_col14\" class=\"data row5 col14\" >-0.28</td>\n",
       "                        <td id=\"T_1b4bb_row5_col15\" class=\"data row5 col15\" >-0.16</td>\n",
       "                        <td id=\"T_1b4bb_row5_col16\" class=\"data row5 col16\" >0.088</td>\n",
       "                        <td id=\"T_1b4bb_row5_col17\" class=\"data row5 col17\" >-0.0087</td>\n",
       "            </tr>\n",
       "            <tr>\n",
       "                        <th id=\"T_1b4bb_level0_row6\" class=\"row_heading level0 row6\" >Asian (%)</th>\n",
       "                        <td id=\"T_1b4bb_row6_col0\" class=\"data row6 col0\" >0.091</td>\n",
       "                        <td id=\"T_1b4bb_row6_col1\" class=\"data row6 col1\" >0.051</td>\n",
       "                        <td id=\"T_1b4bb_row6_col2\" class=\"data row6 col2\" >-0.051</td>\n",
       "                        <td id=\"T_1b4bb_row6_col3\" class=\"data row6 col3\" >-0.68</td>\n",
       "                        <td id=\"T_1b4bb_row6_col4\" class=\"data row6 col4\" >-0.082</td>\n",
       "                        <td id=\"T_1b4bb_row6_col5\" class=\"data row6 col5\" >-0.021</td>\n",
       "                        <td id=\"T_1b4bb_row6_col6\" class=\"data row6 col6\" >1.0</td>\n",
       "                        <td id=\"T_1b4bb_row6_col7\" class=\"data row6 col7\" >0.96</td>\n",
       "                        <td id=\"T_1b4bb_row6_col8\" class=\"data row6 col8\" >0.94</td>\n",
       "                        <td id=\"T_1b4bb_row6_col9\" class=\"data row6 col9\" >0.061</td>\n",
       "                        <td id=\"T_1b4bb_row6_col10\" class=\"data row6 col10\" >0.074</td>\n",
       "                        <td id=\"T_1b4bb_row6_col11\" class=\"data row6 col11\" >-0.029</td>\n",
       "                        <td id=\"T_1b4bb_row6_col12\" class=\"data row6 col12\" >0.11</td>\n",
       "                        <td id=\"T_1b4bb_row6_col13\" class=\"data row6 col13\" >-0.44</td>\n",
       "                        <td id=\"T_1b4bb_row6_col14\" class=\"data row6 col14\" >-0.44</td>\n",
       "                        <td id=\"T_1b4bb_row6_col15\" class=\"data row6 col15\" >0.098</td>\n",
       "                        <td id=\"T_1b4bb_row6_col16\" class=\"data row6 col16\" >0.37</td>\n",
       "                        <td id=\"T_1b4bb_row6_col17\" class=\"data row6 col17\" >-0.19</td>\n",
       "            </tr>\n",
       "            <tr>\n",
       "                        <th id=\"T_1b4bb_level0_row7\" class=\"row_heading level0 row7\" >Native Hawaiian and Pacific Islander (%)</th>\n",
       "                        <td id=\"T_1b4bb_row7_col0\" class=\"data row7 col0\" >-0.09</td>\n",
       "                        <td id=\"T_1b4bb_row7_col1\" class=\"data row7 col1\" >0.11</td>\n",
       "                        <td id=\"T_1b4bb_row7_col2\" class=\"data row7 col2\" >-0.11</td>\n",
       "                        <td id=\"T_1b4bb_row7_col3\" class=\"data row7 col3\" >-0.63</td>\n",
       "                        <td id=\"T_1b4bb_row7_col4\" class=\"data row7 col4\" >-0.12</td>\n",
       "                        <td id=\"T_1b4bb_row7_col5\" class=\"data row7 col5\" >-0.0068</td>\n",
       "                        <td id=\"T_1b4bb_row7_col6\" class=\"data row7 col6\" >0.96</td>\n",
       "                        <td id=\"T_1b4bb_row7_col7\" class=\"data row7 col7\" >1.0</td>\n",
       "                        <td id=\"T_1b4bb_row7_col8\" class=\"data row7 col8\" >0.96</td>\n",
       "                        <td id=\"T_1b4bb_row7_col9\" class=\"data row7 col9\" >-0.11</td>\n",
       "                        <td id=\"T_1b4bb_row7_col10\" class=\"data row7 col10\" >-0.11</td>\n",
       "                        <td id=\"T_1b4bb_row7_col11\" class=\"data row7 col11\" >-0.025</td>\n",
       "                        <td id=\"T_1b4bb_row7_col12\" class=\"data row7 col12\" >-0.083</td>\n",
       "                        <td id=\"T_1b4bb_row7_col13\" class=\"data row7 col13\" >-0.34</td>\n",
       "                        <td id=\"T_1b4bb_row7_col14\" class=\"data row7 col14\" >-0.38</td>\n",
       "                        <td id=\"T_1b4bb_row7_col15\" class=\"data row7 col15\" >-0.083</td>\n",
       "                        <td id=\"T_1b4bb_row7_col16\" class=\"data row7 col16\" >0.27</td>\n",
       "                        <td id=\"T_1b4bb_row7_col17\" class=\"data row7 col17\" >-0.17</td>\n",
       "            </tr>\n",
       "            <tr>\n",
       "                        <th id=\"T_1b4bb_level0_row8\" class=\"row_heading level0 row8\" >Two or More Races (%)</th>\n",
       "                        <td id=\"T_1b4bb_row8_col0\" class=\"data row8 col0\" >-0.089</td>\n",
       "                        <td id=\"T_1b4bb_row8_col1\" class=\"data row8 col1\" >0.15</td>\n",
       "                        <td id=\"T_1b4bb_row8_col2\" class=\"data row8 col2\" >-0.15</td>\n",
       "                        <td id=\"T_1b4bb_row8_col3\" class=\"data row8 col3\" >-0.66</td>\n",
       "                        <td id=\"T_1b4bb_row8_col4\" class=\"data row8 col4\" >-0.099</td>\n",
       "                        <td id=\"T_1b4bb_row8_col5\" class=\"data row8 col5\" >0.16</td>\n",
       "                        <td id=\"T_1b4bb_row8_col6\" class=\"data row8 col6\" >0.94</td>\n",
       "                        <td id=\"T_1b4bb_row8_col7\" class=\"data row8 col7\" >0.96</td>\n",
       "                        <td id=\"T_1b4bb_row8_col8\" class=\"data row8 col8\" >1.0</td>\n",
       "                        <td id=\"T_1b4bb_row8_col9\" class=\"data row8 col9\" >-0.12</td>\n",
       "                        <td id=\"T_1b4bb_row8_col10\" class=\"data row8 col10\" >-0.1</td>\n",
       "                        <td id=\"T_1b4bb_row8_col11\" class=\"data row8 col11\" >0.07</td>\n",
       "                        <td id=\"T_1b4bb_row8_col12\" class=\"data row8 col12\" >-0.077</td>\n",
       "                        <td id=\"T_1b4bb_row8_col13\" class=\"data row8 col13\" >-0.34</td>\n",
       "                        <td id=\"T_1b4bb_row8_col14\" class=\"data row8 col14\" >-0.42</td>\n",
       "                        <td id=\"T_1b4bb_row8_col15\" class=\"data row8 col15\" >-0.071</td>\n",
       "                        <td id=\"T_1b4bb_row8_col16\" class=\"data row8 col16\" >0.26</td>\n",
       "                        <td id=\"T_1b4bb_row8_col17\" class=\"data row8 col17\" >-0.12</td>\n",
       "            </tr>\n",
       "            <tr>\n",
       "                        <th id=\"T_1b4bb_level0_row9\" class=\"row_heading level0 row9\" >Total perscriptions</th>\n",
       "                        <td id=\"T_1b4bb_row9_col0\" class=\"data row9 col0\" >0.99</td>\n",
       "                        <td id=\"T_1b4bb_row9_col1\" class=\"data row9 col1\" >-0.34</td>\n",
       "                        <td id=\"T_1b4bb_row9_col2\" class=\"data row9 col2\" >0.34</td>\n",
       "                        <td id=\"T_1b4bb_row9_col3\" class=\"data row9 col3\" >-0.061</td>\n",
       "                        <td id=\"T_1b4bb_row9_col4\" class=\"data row9 col4\" >0.1</td>\n",
       "                        <td id=\"T_1b4bb_row9_col5\" class=\"data row9 col5\" >-0.22</td>\n",
       "                        <td id=\"T_1b4bb_row9_col6\" class=\"data row9 col6\" >0.061</td>\n",
       "                        <td id=\"T_1b4bb_row9_col7\" class=\"data row9 col7\" >-0.11</td>\n",
       "                        <td id=\"T_1b4bb_row9_col8\" class=\"data row9 col8\" >-0.12</td>\n",
       "                        <td id=\"T_1b4bb_row9_col9\" class=\"data row9 col9\" >1.0</td>\n",
       "                        <td id=\"T_1b4bb_row9_col10\" class=\"data row9 col10\" >0.99</td>\n",
       "                        <td id=\"T_1b4bb_row9_col11\" class=\"data row9 col11\" >-0.21</td>\n",
       "                        <td id=\"T_1b4bb_row9_col12\" class=\"data row9 col12\" >0.97</td>\n",
       "                        <td id=\"T_1b4bb_row9_col13\" class=\"data row9 col13\" >-0.13</td>\n",
       "                        <td id=\"T_1b4bb_row9_col14\" class=\"data row9 col14\" >0.018</td>\n",
       "                        <td id=\"T_1b4bb_row9_col15\" class=\"data row9 col15\" >0.96</td>\n",
       "                        <td id=\"T_1b4bb_row9_col16\" class=\"data row9 col16\" >-0.04</td>\n",
       "                        <td id=\"T_1b4bb_row9_col17\" class=\"data row9 col17\" >0.23</td>\n",
       "            </tr>\n",
       "            <tr>\n",
       "                        <th id=\"T_1b4bb_level0_row10\" class=\"row_heading level0 row10\" >Number perscribed</th>\n",
       "                        <td id=\"T_1b4bb_row10_col0\" class=\"data row10 col0\" >0.98</td>\n",
       "                        <td id=\"T_1b4bb_row10_col1\" class=\"data row10 col1\" >-0.31</td>\n",
       "                        <td id=\"T_1b4bb_row10_col2\" class=\"data row10 col2\" >0.31</td>\n",
       "                        <td id=\"T_1b4bb_row10_col3\" class=\"data row10 col3\" >-0.061</td>\n",
       "                        <td id=\"T_1b4bb_row10_col4\" class=\"data row10 col4\" >0.086</td>\n",
       "                        <td id=\"T_1b4bb_row10_col5\" class=\"data row10 col5\" >-0.2</td>\n",
       "                        <td id=\"T_1b4bb_row10_col6\" class=\"data row10 col6\" >0.074</td>\n",
       "                        <td id=\"T_1b4bb_row10_col7\" class=\"data row10 col7\" >-0.11</td>\n",
       "                        <td id=\"T_1b4bb_row10_col8\" class=\"data row10 col8\" >-0.1</td>\n",
       "                        <td id=\"T_1b4bb_row10_col9\" class=\"data row10 col9\" >0.99</td>\n",
       "                        <td id=\"T_1b4bb_row10_col10\" class=\"data row10 col10\" >1.0</td>\n",
       "                        <td id=\"T_1b4bb_row10_col11\" class=\"data row10 col11\" >-0.13</td>\n",
       "                        <td id=\"T_1b4bb_row10_col12\" class=\"data row10 col12\" >0.98</td>\n",
       "                        <td id=\"T_1b4bb_row10_col13\" class=\"data row10 col13\" >-0.12</td>\n",
       "                        <td id=\"T_1b4bb_row10_col14\" class=\"data row10 col14\" >-0.0031</td>\n",
       "                        <td id=\"T_1b4bb_row10_col15\" class=\"data row10 col15\" >0.97</td>\n",
       "                        <td id=\"T_1b4bb_row10_col16\" class=\"data row10 col16\" >-0.033</td>\n",
       "                        <td id=\"T_1b4bb_row10_col17\" class=\"data row10 col17\" >0.24</td>\n",
       "            </tr>\n",
       "            <tr>\n",
       "                        <th id=\"T_1b4bb_level0_row11\" class=\"row_heading level0 row11\" >Percent of total perscriptions</th>\n",
       "                        <td id=\"T_1b4bb_row11_col0\" class=\"data row11 col0\" >-0.18</td>\n",
       "                        <td id=\"T_1b4bb_row11_col1\" class=\"data row11 col1\" >0.57</td>\n",
       "                        <td id=\"T_1b4bb_row11_col2\" class=\"data row11 col2\" >-0.57</td>\n",
       "                        <td id=\"T_1b4bb_row11_col3\" class=\"data row11 col3\" >-0.068</td>\n",
       "                        <td id=\"T_1b4bb_row11_col4\" class=\"data row11 col4\" >0.0056</td>\n",
       "                        <td id=\"T_1b4bb_row11_col5\" class=\"data row11 col5\" >0.5</td>\n",
       "                        <td id=\"T_1b4bb_row11_col6\" class=\"data row11 col6\" >-0.029</td>\n",
       "                        <td id=\"T_1b4bb_row11_col7\" class=\"data row11 col7\" >-0.025</td>\n",
       "                        <td id=\"T_1b4bb_row11_col8\" class=\"data row11 col8\" >0.07</td>\n",
       "                        <td id=\"T_1b4bb_row11_col9\" class=\"data row11 col9\" >-0.21</td>\n",
       "                        <td id=\"T_1b4bb_row11_col10\" class=\"data row11 col10\" >-0.13</td>\n",
       "                        <td id=\"T_1b4bb_row11_col11\" class=\"data row11 col11\" >1.0</td>\n",
       "                        <td id=\"T_1b4bb_row11_col12\" class=\"data row11 col12\" >-0.12</td>\n",
       "                        <td id=\"T_1b4bb_row11_col13\" class=\"data row11 col13\" >-0.067</td>\n",
       "                        <td id=\"T_1b4bb_row11_col14\" class=\"data row11 col14\" >-0.42</td>\n",
       "                        <td id=\"T_1b4bb_row11_col15\" class=\"data row11 col15\" >-0.1</td>\n",
       "                        <td id=\"T_1b4bb_row11_col16\" class=\"data row11 col16\" >0.13</td>\n",
       "                        <td id=\"T_1b4bb_row11_col17\" class=\"data row11 col17\" >0.018</td>\n",
       "            </tr>\n",
       "            <tr>\n",
       "                        <th id=\"T_1b4bb_level0_row12\" class=\"row_heading level0 row12\" >Est. population 2014</th>\n",
       "                        <td id=\"T_1b4bb_row12_col0\" class=\"data row12 col0\" >0.98</td>\n",
       "                        <td id=\"T_1b4bb_row12_col1\" class=\"data row12 col1\" >-0.26</td>\n",
       "                        <td id=\"T_1b4bb_row12_col2\" class=\"data row12 col2\" >0.26</td>\n",
       "                        <td id=\"T_1b4bb_row12_col3\" class=\"data row12 col3\" >-0.089</td>\n",
       "                        <td id=\"T_1b4bb_row12_col4\" class=\"data row12 col4\" >0.085</td>\n",
       "                        <td id=\"T_1b4bb_row12_col5\" class=\"data row12 col5\" >-0.18</td>\n",
       "                        <td id=\"T_1b4bb_row12_col6\" class=\"data row12 col6\" >0.11</td>\n",
       "                        <td id=\"T_1b4bb_row12_col7\" class=\"data row12 col7\" >-0.083</td>\n",
       "                        <td id=\"T_1b4bb_row12_col8\" class=\"data row12 col8\" >-0.077</td>\n",
       "                        <td id=\"T_1b4bb_row12_col9\" class=\"data row12 col9\" >0.97</td>\n",
       "                        <td id=\"T_1b4bb_row12_col10\" class=\"data row12 col10\" >0.98</td>\n",
       "                        <td id=\"T_1b4bb_row12_col11\" class=\"data row12 col11\" >-0.12</td>\n",
       "                        <td id=\"T_1b4bb_row12_col12\" class=\"data row12 col12\" >1.0</td>\n",
       "                        <td id=\"T_1b4bb_row12_col13\" class=\"data row12 col13\" >-0.25</td>\n",
       "                        <td id=\"T_1b4bb_row12_col14\" class=\"data row12 col14\" >-0.096</td>\n",
       "                        <td id=\"T_1b4bb_row12_col15\" class=\"data row12 col15\" >0.99</td>\n",
       "                        <td id=\"T_1b4bb_row12_col16\" class=\"data row12 col16\" >0.037</td>\n",
       "                        <td id=\"T_1b4bb_row12_col17\" class=\"data row12 col17\" >0.2</td>\n",
       "            </tr>\n",
       "            <tr>\n",
       "                        <th id=\"T_1b4bb_level0_row13\" class=\"row_heading level0 row13\" >Total perscriptions per 100k</th>\n",
       "                        <td id=\"T_1b4bb_row13_col0\" class=\"data row13 col0\" >-0.21</td>\n",
       "                        <td id=\"T_1b4bb_row13_col1\" class=\"data row13 col1\" >-0.13</td>\n",
       "                        <td id=\"T_1b4bb_row13_col2\" class=\"data row13 col2\" >0.13</td>\n",
       "                        <td id=\"T_1b4bb_row13_col3\" class=\"data row13 col3\" >0.39</td>\n",
       "                        <td id=\"T_1b4bb_row13_col4\" class=\"data row13 col4\" >-0.064</td>\n",
       "                        <td id=\"T_1b4bb_row13_col5\" class=\"data row13 col5\" >-0.2</td>\n",
       "                        <td id=\"T_1b4bb_row13_col6\" class=\"data row13 col6\" >-0.44</td>\n",
       "                        <td id=\"T_1b4bb_row13_col7\" class=\"data row13 col7\" >-0.34</td>\n",
       "                        <td id=\"T_1b4bb_row13_col8\" class=\"data row13 col8\" >-0.34</td>\n",
       "                        <td id=\"T_1b4bb_row13_col9\" class=\"data row13 col9\" >-0.13</td>\n",
       "                        <td id=\"T_1b4bb_row13_col10\" class=\"data row13 col10\" >-0.12</td>\n",
       "                        <td id=\"T_1b4bb_row13_col11\" class=\"data row13 col11\" >-0.067</td>\n",
       "                        <td id=\"T_1b4bb_row13_col12\" class=\"data row13 col12\" >-0.25</td>\n",
       "                        <td id=\"T_1b4bb_row13_col13\" class=\"data row13 col13\" >1.0</td>\n",
       "                        <td id=\"T_1b4bb_row13_col14\" class=\"data row13 col14\" >0.73</td>\n",
       "                        <td id=\"T_1b4bb_row13_col15\" class=\"data row13 col15\" >-0.22</td>\n",
       "                        <td id=\"T_1b4bb_row13_col16\" class=\"data row13 col16\" >-0.62</td>\n",
       "                        <td id=\"T_1b4bb_row13_col17\" class=\"data row13 col17\" >0.37</td>\n",
       "            </tr>\n",
       "            <tr>\n",
       "                        <th id=\"T_1b4bb_level0_row14\" class=\"row_heading level0 row14\" >Total perscriptions per 1k over 65</th>\n",
       "                        <td id=\"T_1b4bb_row14_col0\" class=\"data row14 col0\" >-0.089</td>\n",
       "                        <td id=\"T_1b4bb_row14_col1\" class=\"data row14 col1\" >-0.49</td>\n",
       "                        <td id=\"T_1b4bb_row14_col2\" class=\"data row14 col2\" >0.49</td>\n",
       "                        <td id=\"T_1b4bb_row14_col3\" class=\"data row14 col3\" >0.27</td>\n",
       "                        <td id=\"T_1b4bb_row14_col4\" class=\"data row14 col4\" >0.13</td>\n",
       "                        <td id=\"T_1b4bb_row14_col5\" class=\"data row14 col5\" >-0.28</td>\n",
       "                        <td id=\"T_1b4bb_row14_col6\" class=\"data row14 col6\" >-0.44</td>\n",
       "                        <td id=\"T_1b4bb_row14_col7\" class=\"data row14 col7\" >-0.38</td>\n",
       "                        <td id=\"T_1b4bb_row14_col8\" class=\"data row14 col8\" >-0.42</td>\n",
       "                        <td id=\"T_1b4bb_row14_col9\" class=\"data row14 col9\" >0.018</td>\n",
       "                        <td id=\"T_1b4bb_row14_col10\" class=\"data row14 col10\" >-0.0031</td>\n",
       "                        <td id=\"T_1b4bb_row14_col11\" class=\"data row14 col11\" >-0.42</td>\n",
       "                        <td id=\"T_1b4bb_row14_col12\" class=\"data row14 col12\" >-0.096</td>\n",
       "                        <td id=\"T_1b4bb_row14_col13\" class=\"data row14 col13\" >0.73</td>\n",
       "                        <td id=\"T_1b4bb_row14_col14\" class=\"data row14 col14\" >1.0</td>\n",
       "                        <td id=\"T_1b4bb_row14_col15\" class=\"data row14 col15\" >-0.067</td>\n",
       "                        <td id=\"T_1b4bb_row14_col16\" class=\"data row14 col16\" >-0.48</td>\n",
       "                        <td id=\"T_1b4bb_row14_col17\" class=\"data row14 col17\" >0.31</td>\n",
       "            </tr>\n",
       "            <tr>\n",
       "                        <th id=\"T_1b4bb_level0_row15\" class=\"row_heading level0 row15\" >Poverty Estimate, All Ages</th>\n",
       "                        <td id=\"T_1b4bb_row15_col0\" class=\"data row15 col0\" >0.97</td>\n",
       "                        <td id=\"T_1b4bb_row15_col1\" class=\"data row15 col1\" >-0.24</td>\n",
       "                        <td id=\"T_1b4bb_row15_col2\" class=\"data row15 col2\" >0.24</td>\n",
       "                        <td id=\"T_1b4bb_row15_col3\" class=\"data row15 col3\" >-0.1</td>\n",
       "                        <td id=\"T_1b4bb_row15_col4\" class=\"data row15 col4\" >0.1</td>\n",
       "                        <td id=\"T_1b4bb_row15_col5\" class=\"data row15 col5\" >-0.16</td>\n",
       "                        <td id=\"T_1b4bb_row15_col6\" class=\"data row15 col6\" >0.098</td>\n",
       "                        <td id=\"T_1b4bb_row15_col7\" class=\"data row15 col7\" >-0.083</td>\n",
       "                        <td id=\"T_1b4bb_row15_col8\" class=\"data row15 col8\" >-0.071</td>\n",
       "                        <td id=\"T_1b4bb_row15_col9\" class=\"data row15 col9\" >0.96</td>\n",
       "                        <td id=\"T_1b4bb_row15_col10\" class=\"data row15 col10\" >0.97</td>\n",
       "                        <td id=\"T_1b4bb_row15_col11\" class=\"data row15 col11\" >-0.1</td>\n",
       "                        <td id=\"T_1b4bb_row15_col12\" class=\"data row15 col12\" >0.99</td>\n",
       "                        <td id=\"T_1b4bb_row15_col13\" class=\"data row15 col13\" >-0.22</td>\n",
       "                        <td id=\"T_1b4bb_row15_col14\" class=\"data row15 col14\" >-0.067</td>\n",
       "                        <td id=\"T_1b4bb_row15_col15\" class=\"data row15 col15\" >1.0</td>\n",
       "                        <td id=\"T_1b4bb_row15_col16\" class=\"data row15 col16\" >-0.05</td>\n",
       "                        <td id=\"T_1b4bb_row15_col17\" class=\"data row15 col17\" >0.29</td>\n",
       "            </tr>\n",
       "            <tr>\n",
       "                        <th id=\"T_1b4bb_level0_row16\" class=\"row_heading level0 row16\" >Median Household Income</th>\n",
       "                        <td id=\"T_1b4bb_row16_col0\" class=\"data row16 col0\" >0.0038</td>\n",
       "                        <td id=\"T_1b4bb_row16_col1\" class=\"data row16 col1\" >-0.057</td>\n",
       "                        <td id=\"T_1b4bb_row16_col2\" class=\"data row16 col2\" >0.057</td>\n",
       "                        <td id=\"T_1b4bb_row16_col3\" class=\"data row16 col3\" >-0.32</td>\n",
       "                        <td id=\"T_1b4bb_row16_col4\" class=\"data row16 col4\" >0.064</td>\n",
       "                        <td id=\"T_1b4bb_row16_col5\" class=\"data row16 col5\" >0.088</td>\n",
       "                        <td id=\"T_1b4bb_row16_col6\" class=\"data row16 col6\" >0.37</td>\n",
       "                        <td id=\"T_1b4bb_row16_col7\" class=\"data row16 col7\" >0.27</td>\n",
       "                        <td id=\"T_1b4bb_row16_col8\" class=\"data row16 col8\" >0.26</td>\n",
       "                        <td id=\"T_1b4bb_row16_col9\" class=\"data row16 col9\" >-0.04</td>\n",
       "                        <td id=\"T_1b4bb_row16_col10\" class=\"data row16 col10\" >-0.033</td>\n",
       "                        <td id=\"T_1b4bb_row16_col11\" class=\"data row16 col11\" >0.13</td>\n",
       "                        <td id=\"T_1b4bb_row16_col12\" class=\"data row16 col12\" >0.037</td>\n",
       "                        <td id=\"T_1b4bb_row16_col13\" class=\"data row16 col13\" >-0.62</td>\n",
       "                        <td id=\"T_1b4bb_row16_col14\" class=\"data row16 col14\" >-0.48</td>\n",
       "                        <td id=\"T_1b4bb_row16_col15\" class=\"data row16 col15\" >-0.05</td>\n",
       "                        <td id=\"T_1b4bb_row16_col16\" class=\"data row16 col16\" >1.0</td>\n",
       "                        <td id=\"T_1b4bb_row16_col17\" class=\"data row16 col17\" >-0.77</td>\n",
       "            </tr>\n",
       "            <tr>\n",
       "                        <th id=\"T_1b4bb_level0_row17\" class=\"row_heading level0 row17\" >Poverty Rate, All Ages</th>\n",
       "                        <td id=\"T_1b4bb_row17_col0\" class=\"data row17 col0\" >0.2</td>\n",
       "                        <td id=\"T_1b4bb_row17_col1\" class=\"data row17 col1\" >-0.19</td>\n",
       "                        <td id=\"T_1b4bb_row17_col2\" class=\"data row17 col2\" >0.19</td>\n",
       "                        <td id=\"T_1b4bb_row17_col3\" class=\"data row17 col3\" >-0.16</td>\n",
       "                        <td id=\"T_1b4bb_row17_col4\" class=\"data row17 col4\" >0.39</td>\n",
       "                        <td id=\"T_1b4bb_row17_col5\" class=\"data row17 col5\" >-0.0087</td>\n",
       "                        <td id=\"T_1b4bb_row17_col6\" class=\"data row17 col6\" >-0.19</td>\n",
       "                        <td id=\"T_1b4bb_row17_col7\" class=\"data row17 col7\" >-0.17</td>\n",
       "                        <td id=\"T_1b4bb_row17_col8\" class=\"data row17 col8\" >-0.12</td>\n",
       "                        <td id=\"T_1b4bb_row17_col9\" class=\"data row17 col9\" >0.23</td>\n",
       "                        <td id=\"T_1b4bb_row17_col10\" class=\"data row17 col10\" >0.24</td>\n",
       "                        <td id=\"T_1b4bb_row17_col11\" class=\"data row17 col11\" >0.018</td>\n",
       "                        <td id=\"T_1b4bb_row17_col12\" class=\"data row17 col12\" >0.2</td>\n",
       "                        <td id=\"T_1b4bb_row17_col13\" class=\"data row17 col13\" >0.37</td>\n",
       "                        <td id=\"T_1b4bb_row17_col14\" class=\"data row17 col14\" >0.31</td>\n",
       "                        <td id=\"T_1b4bb_row17_col15\" class=\"data row17 col15\" >0.29</td>\n",
       "                        <td id=\"T_1b4bb_row17_col16\" class=\"data row17 col16\" >-0.77</td>\n",
       "                        <td id=\"T_1b4bb_row17_col17\" class=\"data row17 col17\" >1.0</td>\n",
       "            </tr>\n",
       "    </tbody></table>"
      ],
      "text/plain": [
       "<pandas.io.formats.style.Styler at 0x7fb71369feb0>"
      ]
     },
     "execution_count": 898,
     "metadata": {},
     "output_type": "execute_result"
    }
   ],
   "source": [
    "state_med_estpop_income_df.corr().style.format(\"{:.2}\").background_gradient(cmap=plt.get_cmap(\"cool\"), axis=1)"
   ]
  },
  {
   "cell_type": "code",
   "execution_count": 617,
   "metadata": {
    "ExecuteTime": {
     "end_time": "2021-06-27T05:47:54.503034Z",
     "start_time": "2021-06-27T05:47:54.255322Z"
    }
   },
   "outputs": [],
   "source": [
    "from scipy import stats"
   ]
  },
  {
   "cell_type": "code",
   "execution_count": 630,
   "metadata": {
    "ExecuteTime": {
     "end_time": "2021-06-27T06:10:42.906215Z",
     "start_time": "2021-06-27T06:10:41.893058Z"
    }
   },
   "outputs": [
    {
     "data": {
      "application/vnd.plotly.v1+json": {
       "config": {
        "plotlyServerURL": "https://plotly.com"
       },
       "data": [
        {
         "hovertemplate": "x=%{x}<br>y=%{y}<extra></extra>",
         "legendgroup": "",
         "marker": {
          "color": "#636efa",
          "symbol": "circle"
         },
         "mode": "markers",
         "name": "",
         "orientation": "v",
         "showlegend": false,
         "type": "scatter",
         "x": [
          1483632,
          139788,
          2119908,
          931030,
          9901612,
          1351320,
          1126020,
          307898,
          154688,
          7541094,
          2496226,
          459462,
          462876,
          3598466,
          1883658,
          979276,
          829208,
          1309084,
          1268788,
          486384,
          1643450,
          2041242,
          3062432,
          1555052,
          852344,
          1865118,
          339170,
          541634,
          800082,
          424514,
          2634936,
          634530,
          5847456,
          2917798,
          209268,
          3599996,
          1122272,
          1255770,
          4269486,
          333120,
          1521742,
          256652,
          1965944,
          6159630,
          588272,
          211278,
          2295844,
          1971316,
          658602,
          1740752,
          163912
         ],
         "xaxis": "x",
         "y": [
          416439,
          28790,
          422571,
          270039,
          2314584,
          310094,
          285161,
          68645,
          40966,
          1611284,
          665139,
          79298,
          112699,
          866586,
          536188,
          287806,
          245816,
          451310,
          394543,
          138406,
          337520,
          557205,
          824255,
          401268,
          269130,
          553268,
          79668,
          166949,
          149881,
          103143,
          650290,
          131202,
          1650394,
          876333,
          66878,
          1001898,
          290348,
          317060,
          1229131,
          100822,
          403898,
          75409,
          634787,
          1472280,
          137469,
          53724,
          532061,
          458158,
          205156,
          463205,
          34778
         ],
         "yaxis": "y"
        }
       ],
       "layout": {
        "legend": {
         "tracegroupgap": 0
        },
        "margin": {
         "t": 60
        },
        "template": {
         "data": {
          "bar": [
           {
            "error_x": {
             "color": "#2a3f5f"
            },
            "error_y": {
             "color": "#2a3f5f"
            },
            "marker": {
             "line": {
              "color": "#E5ECF6",
              "width": 0.5
             },
             "pattern": {
              "fillmode": "overlay",
              "size": 10,
              "solidity": 0.2
             }
            },
            "type": "bar"
           }
          ],
          "barpolar": [
           {
            "marker": {
             "line": {
              "color": "#E5ECF6",
              "width": 0.5
             },
             "pattern": {
              "fillmode": "overlay",
              "size": 10,
              "solidity": 0.2
             }
            },
            "type": "barpolar"
           }
          ],
          "carpet": [
           {
            "aaxis": {
             "endlinecolor": "#2a3f5f",
             "gridcolor": "white",
             "linecolor": "white",
             "minorgridcolor": "white",
             "startlinecolor": "#2a3f5f"
            },
            "baxis": {
             "endlinecolor": "#2a3f5f",
             "gridcolor": "white",
             "linecolor": "white",
             "minorgridcolor": "white",
             "startlinecolor": "#2a3f5f"
            },
            "type": "carpet"
           }
          ],
          "choropleth": [
           {
            "colorbar": {
             "outlinewidth": 0,
             "ticks": ""
            },
            "type": "choropleth"
           }
          ],
          "contour": [
           {
            "colorbar": {
             "outlinewidth": 0,
             "ticks": ""
            },
            "colorscale": [
             [
              0,
              "#0d0887"
             ],
             [
              0.1111111111111111,
              "#46039f"
             ],
             [
              0.2222222222222222,
              "#7201a8"
             ],
             [
              0.3333333333333333,
              "#9c179e"
             ],
             [
              0.4444444444444444,
              "#bd3786"
             ],
             [
              0.5555555555555556,
              "#d8576b"
             ],
             [
              0.6666666666666666,
              "#ed7953"
             ],
             [
              0.7777777777777778,
              "#fb9f3a"
             ],
             [
              0.8888888888888888,
              "#fdca26"
             ],
             [
              1,
              "#f0f921"
             ]
            ],
            "type": "contour"
           }
          ],
          "contourcarpet": [
           {
            "colorbar": {
             "outlinewidth": 0,
             "ticks": ""
            },
            "type": "contourcarpet"
           }
          ],
          "heatmap": [
           {
            "colorbar": {
             "outlinewidth": 0,
             "ticks": ""
            },
            "colorscale": [
             [
              0,
              "#0d0887"
             ],
             [
              0.1111111111111111,
              "#46039f"
             ],
             [
              0.2222222222222222,
              "#7201a8"
             ],
             [
              0.3333333333333333,
              "#9c179e"
             ],
             [
              0.4444444444444444,
              "#bd3786"
             ],
             [
              0.5555555555555556,
              "#d8576b"
             ],
             [
              0.6666666666666666,
              "#ed7953"
             ],
             [
              0.7777777777777778,
              "#fb9f3a"
             ],
             [
              0.8888888888888888,
              "#fdca26"
             ],
             [
              1,
              "#f0f921"
             ]
            ],
            "type": "heatmap"
           }
          ],
          "heatmapgl": [
           {
            "colorbar": {
             "outlinewidth": 0,
             "ticks": ""
            },
            "colorscale": [
             [
              0,
              "#0d0887"
             ],
             [
              0.1111111111111111,
              "#46039f"
             ],
             [
              0.2222222222222222,
              "#7201a8"
             ],
             [
              0.3333333333333333,
              "#9c179e"
             ],
             [
              0.4444444444444444,
              "#bd3786"
             ],
             [
              0.5555555555555556,
              "#d8576b"
             ],
             [
              0.6666666666666666,
              "#ed7953"
             ],
             [
              0.7777777777777778,
              "#fb9f3a"
             ],
             [
              0.8888888888888888,
              "#fdca26"
             ],
             [
              1,
              "#f0f921"
             ]
            ],
            "type": "heatmapgl"
           }
          ],
          "histogram": [
           {
            "marker": {
             "pattern": {
              "fillmode": "overlay",
              "size": 10,
              "solidity": 0.2
             }
            },
            "type": "histogram"
           }
          ],
          "histogram2d": [
           {
            "colorbar": {
             "outlinewidth": 0,
             "ticks": ""
            },
            "colorscale": [
             [
              0,
              "#0d0887"
             ],
             [
              0.1111111111111111,
              "#46039f"
             ],
             [
              0.2222222222222222,
              "#7201a8"
             ],
             [
              0.3333333333333333,
              "#9c179e"
             ],
             [
              0.4444444444444444,
              "#bd3786"
             ],
             [
              0.5555555555555556,
              "#d8576b"
             ],
             [
              0.6666666666666666,
              "#ed7953"
             ],
             [
              0.7777777777777778,
              "#fb9f3a"
             ],
             [
              0.8888888888888888,
              "#fdca26"
             ],
             [
              1,
              "#f0f921"
             ]
            ],
            "type": "histogram2d"
           }
          ],
          "histogram2dcontour": [
           {
            "colorbar": {
             "outlinewidth": 0,
             "ticks": ""
            },
            "colorscale": [
             [
              0,
              "#0d0887"
             ],
             [
              0.1111111111111111,
              "#46039f"
             ],
             [
              0.2222222222222222,
              "#7201a8"
             ],
             [
              0.3333333333333333,
              "#9c179e"
             ],
             [
              0.4444444444444444,
              "#bd3786"
             ],
             [
              0.5555555555555556,
              "#d8576b"
             ],
             [
              0.6666666666666666,
              "#ed7953"
             ],
             [
              0.7777777777777778,
              "#fb9f3a"
             ],
             [
              0.8888888888888888,
              "#fdca26"
             ],
             [
              1,
              "#f0f921"
             ]
            ],
            "type": "histogram2dcontour"
           }
          ],
          "mesh3d": [
           {
            "colorbar": {
             "outlinewidth": 0,
             "ticks": ""
            },
            "type": "mesh3d"
           }
          ],
          "parcoords": [
           {
            "line": {
             "colorbar": {
              "outlinewidth": 0,
              "ticks": ""
             }
            },
            "type": "parcoords"
           }
          ],
          "pie": [
           {
            "automargin": true,
            "type": "pie"
           }
          ],
          "scatter": [
           {
            "marker": {
             "colorbar": {
              "outlinewidth": 0,
              "ticks": ""
             }
            },
            "type": "scatter"
           }
          ],
          "scatter3d": [
           {
            "line": {
             "colorbar": {
              "outlinewidth": 0,
              "ticks": ""
             }
            },
            "marker": {
             "colorbar": {
              "outlinewidth": 0,
              "ticks": ""
             }
            },
            "type": "scatter3d"
           }
          ],
          "scattercarpet": [
           {
            "marker": {
             "colorbar": {
              "outlinewidth": 0,
              "ticks": ""
             }
            },
            "type": "scattercarpet"
           }
          ],
          "scattergeo": [
           {
            "marker": {
             "colorbar": {
              "outlinewidth": 0,
              "ticks": ""
             }
            },
            "type": "scattergeo"
           }
          ],
          "scattergl": [
           {
            "marker": {
             "colorbar": {
              "outlinewidth": 0,
              "ticks": ""
             }
            },
            "type": "scattergl"
           }
          ],
          "scattermapbox": [
           {
            "marker": {
             "colorbar": {
              "outlinewidth": 0,
              "ticks": ""
             }
            },
            "type": "scattermapbox"
           }
          ],
          "scatterpolar": [
           {
            "marker": {
             "colorbar": {
              "outlinewidth": 0,
              "ticks": ""
             }
            },
            "type": "scatterpolar"
           }
          ],
          "scatterpolargl": [
           {
            "marker": {
             "colorbar": {
              "outlinewidth": 0,
              "ticks": ""
             }
            },
            "type": "scatterpolargl"
           }
          ],
          "scatterternary": [
           {
            "marker": {
             "colorbar": {
              "outlinewidth": 0,
              "ticks": ""
             }
            },
            "type": "scatterternary"
           }
          ],
          "surface": [
           {
            "colorbar": {
             "outlinewidth": 0,
             "ticks": ""
            },
            "colorscale": [
             [
              0,
              "#0d0887"
             ],
             [
              0.1111111111111111,
              "#46039f"
             ],
             [
              0.2222222222222222,
              "#7201a8"
             ],
             [
              0.3333333333333333,
              "#9c179e"
             ],
             [
              0.4444444444444444,
              "#bd3786"
             ],
             [
              0.5555555555555556,
              "#d8576b"
             ],
             [
              0.6666666666666666,
              "#ed7953"
             ],
             [
              0.7777777777777778,
              "#fb9f3a"
             ],
             [
              0.8888888888888888,
              "#fdca26"
             ],
             [
              1,
              "#f0f921"
             ]
            ],
            "type": "surface"
           }
          ],
          "table": [
           {
            "cells": {
             "fill": {
              "color": "#EBF0F8"
             },
             "line": {
              "color": "white"
             }
            },
            "header": {
             "fill": {
              "color": "#C8D4E3"
             },
             "line": {
              "color": "white"
             }
            },
            "type": "table"
           }
          ]
         },
         "layout": {
          "annotationdefaults": {
           "arrowcolor": "#2a3f5f",
           "arrowhead": 0,
           "arrowwidth": 1
          },
          "autotypenumbers": "strict",
          "coloraxis": {
           "colorbar": {
            "outlinewidth": 0,
            "ticks": ""
           }
          },
          "colorscale": {
           "diverging": [
            [
             0,
             "#8e0152"
            ],
            [
             0.1,
             "#c51b7d"
            ],
            [
             0.2,
             "#de77ae"
            ],
            [
             0.3,
             "#f1b6da"
            ],
            [
             0.4,
             "#fde0ef"
            ],
            [
             0.5,
             "#f7f7f7"
            ],
            [
             0.6,
             "#e6f5d0"
            ],
            [
             0.7,
             "#b8e186"
            ],
            [
             0.8,
             "#7fbc41"
            ],
            [
             0.9,
             "#4d9221"
            ],
            [
             1,
             "#276419"
            ]
           ],
           "sequential": [
            [
             0,
             "#0d0887"
            ],
            [
             0.1111111111111111,
             "#46039f"
            ],
            [
             0.2222222222222222,
             "#7201a8"
            ],
            [
             0.3333333333333333,
             "#9c179e"
            ],
            [
             0.4444444444444444,
             "#bd3786"
            ],
            [
             0.5555555555555556,
             "#d8576b"
            ],
            [
             0.6666666666666666,
             "#ed7953"
            ],
            [
             0.7777777777777778,
             "#fb9f3a"
            ],
            [
             0.8888888888888888,
             "#fdca26"
            ],
            [
             1,
             "#f0f921"
            ]
           ],
           "sequentialminus": [
            [
             0,
             "#0d0887"
            ],
            [
             0.1111111111111111,
             "#46039f"
            ],
            [
             0.2222222222222222,
             "#7201a8"
            ],
            [
             0.3333333333333333,
             "#9c179e"
            ],
            [
             0.4444444444444444,
             "#bd3786"
            ],
            [
             0.5555555555555556,
             "#d8576b"
            ],
            [
             0.6666666666666666,
             "#ed7953"
            ],
            [
             0.7777777777777778,
             "#fb9f3a"
            ],
            [
             0.8888888888888888,
             "#fdca26"
            ],
            [
             1,
             "#f0f921"
            ]
           ]
          },
          "colorway": [
           "#636efa",
           "#EF553B",
           "#00cc96",
           "#ab63fa",
           "#FFA15A",
           "#19d3f3",
           "#FF6692",
           "#B6E880",
           "#FF97FF",
           "#FECB52"
          ],
          "font": {
           "color": "#2a3f5f"
          },
          "geo": {
           "bgcolor": "white",
           "lakecolor": "white",
           "landcolor": "#E5ECF6",
           "showlakes": true,
           "showland": true,
           "subunitcolor": "white"
          },
          "hoverlabel": {
           "align": "left"
          },
          "hovermode": "closest",
          "mapbox": {
           "style": "light"
          },
          "paper_bgcolor": "white",
          "plot_bgcolor": "#E5ECF6",
          "polar": {
           "angularaxis": {
            "gridcolor": "white",
            "linecolor": "white",
            "ticks": ""
           },
           "bgcolor": "#E5ECF6",
           "radialaxis": {
            "gridcolor": "white",
            "linecolor": "white",
            "ticks": ""
           }
          },
          "scene": {
           "xaxis": {
            "backgroundcolor": "#E5ECF6",
            "gridcolor": "white",
            "gridwidth": 2,
            "linecolor": "white",
            "showbackground": true,
            "ticks": "",
            "zerolinecolor": "white"
           },
           "yaxis": {
            "backgroundcolor": "#E5ECF6",
            "gridcolor": "white",
            "gridwidth": 2,
            "linecolor": "white",
            "showbackground": true,
            "ticks": "",
            "zerolinecolor": "white"
           },
           "zaxis": {
            "backgroundcolor": "#E5ECF6",
            "gridcolor": "white",
            "gridwidth": 2,
            "linecolor": "white",
            "showbackground": true,
            "ticks": "",
            "zerolinecolor": "white"
           }
          },
          "shapedefaults": {
           "line": {
            "color": "#2a3f5f"
           }
          },
          "ternary": {
           "aaxis": {
            "gridcolor": "white",
            "linecolor": "white",
            "ticks": ""
           },
           "baxis": {
            "gridcolor": "white",
            "linecolor": "white",
            "ticks": ""
           },
           "bgcolor": "#E5ECF6",
           "caxis": {
            "gridcolor": "white",
            "linecolor": "white",
            "ticks": ""
           }
          },
          "title": {
           "x": 0.05
          },
          "xaxis": {
           "automargin": true,
           "gridcolor": "white",
           "linecolor": "white",
           "ticks": "",
           "title": {
            "standoff": 15
           },
           "zerolinecolor": "white",
           "zerolinewidth": 2
          },
          "yaxis": {
           "automargin": true,
           "gridcolor": "white",
           "linecolor": "white",
           "ticks": "",
           "title": {
            "standoff": 15
           },
           "zerolinecolor": "white",
           "zerolinewidth": 2
          }
         }
        },
        "xaxis": {
         "anchor": "y",
         "domain": [
          0,
          1
         ],
         "title": {
          "text": "x"
         }
        },
        "yaxis": {
         "anchor": "x",
         "domain": [
          0,
          1
         ],
         "title": {
          "text": "y"
         }
        }
       }
      },
      "text/html": [
       "<div>                            <div id=\"3b6c1cc9-1297-4ce3-894c-48aabdbb2d68\" class=\"plotly-graph-div\" style=\"height:525px; width:100%;\"></div>            <script type=\"text/javascript\">                require([\"plotly\"], function(Plotly) {                    window.PLOTLYENV=window.PLOTLYENV || {};                                    if (document.getElementById(\"3b6c1cc9-1297-4ce3-894c-48aabdbb2d68\")) {                    Plotly.newPlot(                        \"3b6c1cc9-1297-4ce3-894c-48aabdbb2d68\",                        [{\"hovertemplate\":\"x=%{x}<br>y=%{y}<extra></extra>\",\"legendgroup\":\"\",\"marker\":{\"color\":\"#636efa\",\"symbol\":\"circle\"},\"mode\":\"markers\",\"name\":\"\",\"orientation\":\"v\",\"showlegend\":false,\"type\":\"scatter\",\"x\":[1483632.0,139788.0,2119908.0,931030.0,9901612.0,1351320.0,1126020.0,307898.0,154688.0,7541094.0,2496226.0,459462.0,462876.0,3598466.0,1883658.0,979276.0,829208.0,1309084.0,1268788.0,486384.0,1643450.0,2041242.0,3062432.0,1555052.0,852344.0,1865118.0,339170.0,541634.0,800082.0,424514.0,2634936.0,634530.0,5847456.0,2917798.0,209268.0,3599996.0,1122272.0,1255770.0,4269486.0,333120.0,1521742.0,256652.0,1965944.0,6159630.0,588272.0,211278.0,2295844.0,1971316.0,658602.0,1740752.0,163912.0],\"xaxis\":\"x\",\"y\":[416439,28790,422571,270039,2314584,310094,285161,68645,40966,1611284,665139,79298,112699,866586,536188,287806,245816,451310,394543,138406,337520,557205,824255,401268,269130,553268,79668,166949,149881,103143,650290,131202,1650394,876333,66878,1001898,290348,317060,1229131,100822,403898,75409,634787,1472280,137469,53724,532061,458158,205156,463205,34778],\"yaxis\":\"y\"}],                        {\"legend\":{\"tracegroupgap\":0},\"margin\":{\"t\":60},\"template\":{\"data\":{\"bar\":[{\"error_x\":{\"color\":\"#2a3f5f\"},\"error_y\":{\"color\":\"#2a3f5f\"},\"marker\":{\"line\":{\"color\":\"#E5ECF6\",\"width\":0.5},\"pattern\":{\"fillmode\":\"overlay\",\"size\":10,\"solidity\":0.2}},\"type\":\"bar\"}],\"barpolar\":[{\"marker\":{\"line\":{\"color\":\"#E5ECF6\",\"width\":0.5},\"pattern\":{\"fillmode\":\"overlay\",\"size\":10,\"solidity\":0.2}},\"type\":\"barpolar\"}],\"carpet\":[{\"aaxis\":{\"endlinecolor\":\"#2a3f5f\",\"gridcolor\":\"white\",\"linecolor\":\"white\",\"minorgridcolor\":\"white\",\"startlinecolor\":\"#2a3f5f\"},\"baxis\":{\"endlinecolor\":\"#2a3f5f\",\"gridcolor\":\"white\",\"linecolor\":\"white\",\"minorgridcolor\":\"white\",\"startlinecolor\":\"#2a3f5f\"},\"type\":\"carpet\"}],\"choropleth\":[{\"colorbar\":{\"outlinewidth\":0,\"ticks\":\"\"},\"type\":\"choropleth\"}],\"contour\":[{\"colorbar\":{\"outlinewidth\":0,\"ticks\":\"\"},\"colorscale\":[[0.0,\"#0d0887\"],[0.1111111111111111,\"#46039f\"],[0.2222222222222222,\"#7201a8\"],[0.3333333333333333,\"#9c179e\"],[0.4444444444444444,\"#bd3786\"],[0.5555555555555556,\"#d8576b\"],[0.6666666666666666,\"#ed7953\"],[0.7777777777777778,\"#fb9f3a\"],[0.8888888888888888,\"#fdca26\"],[1.0,\"#f0f921\"]],\"type\":\"contour\"}],\"contourcarpet\":[{\"colorbar\":{\"outlinewidth\":0,\"ticks\":\"\"},\"type\":\"contourcarpet\"}],\"heatmap\":[{\"colorbar\":{\"outlinewidth\":0,\"ticks\":\"\"},\"colorscale\":[[0.0,\"#0d0887\"],[0.1111111111111111,\"#46039f\"],[0.2222222222222222,\"#7201a8\"],[0.3333333333333333,\"#9c179e\"],[0.4444444444444444,\"#bd3786\"],[0.5555555555555556,\"#d8576b\"],[0.6666666666666666,\"#ed7953\"],[0.7777777777777778,\"#fb9f3a\"],[0.8888888888888888,\"#fdca26\"],[1.0,\"#f0f921\"]],\"type\":\"heatmap\"}],\"heatmapgl\":[{\"colorbar\":{\"outlinewidth\":0,\"ticks\":\"\"},\"colorscale\":[[0.0,\"#0d0887\"],[0.1111111111111111,\"#46039f\"],[0.2222222222222222,\"#7201a8\"],[0.3333333333333333,\"#9c179e\"],[0.4444444444444444,\"#bd3786\"],[0.5555555555555556,\"#d8576b\"],[0.6666666666666666,\"#ed7953\"],[0.7777777777777778,\"#fb9f3a\"],[0.8888888888888888,\"#fdca26\"],[1.0,\"#f0f921\"]],\"type\":\"heatmapgl\"}],\"histogram\":[{\"marker\":{\"pattern\":{\"fillmode\":\"overlay\",\"size\":10,\"solidity\":0.2}},\"type\":\"histogram\"}],\"histogram2d\":[{\"colorbar\":{\"outlinewidth\":0,\"ticks\":\"\"},\"colorscale\":[[0.0,\"#0d0887\"],[0.1111111111111111,\"#46039f\"],[0.2222222222222222,\"#7201a8\"],[0.3333333333333333,\"#9c179e\"],[0.4444444444444444,\"#bd3786\"],[0.5555555555555556,\"#d8576b\"],[0.6666666666666666,\"#ed7953\"],[0.7777777777777778,\"#fb9f3a\"],[0.8888888888888888,\"#fdca26\"],[1.0,\"#f0f921\"]],\"type\":\"histogram2d\"}],\"histogram2dcontour\":[{\"colorbar\":{\"outlinewidth\":0,\"ticks\":\"\"},\"colorscale\":[[0.0,\"#0d0887\"],[0.1111111111111111,\"#46039f\"],[0.2222222222222222,\"#7201a8\"],[0.3333333333333333,\"#9c179e\"],[0.4444444444444444,\"#bd3786\"],[0.5555555555555556,\"#d8576b\"],[0.6666666666666666,\"#ed7953\"],[0.7777777777777778,\"#fb9f3a\"],[0.8888888888888888,\"#fdca26\"],[1.0,\"#f0f921\"]],\"type\":\"histogram2dcontour\"}],\"mesh3d\":[{\"colorbar\":{\"outlinewidth\":0,\"ticks\":\"\"},\"type\":\"mesh3d\"}],\"parcoords\":[{\"line\":{\"colorbar\":{\"outlinewidth\":0,\"ticks\":\"\"}},\"type\":\"parcoords\"}],\"pie\":[{\"automargin\":true,\"type\":\"pie\"}],\"scatter\":[{\"marker\":{\"colorbar\":{\"outlinewidth\":0,\"ticks\":\"\"}},\"type\":\"scatter\"}],\"scatter3d\":[{\"line\":{\"colorbar\":{\"outlinewidth\":0,\"ticks\":\"\"}},\"marker\":{\"colorbar\":{\"outlinewidth\":0,\"ticks\":\"\"}},\"type\":\"scatter3d\"}],\"scattercarpet\":[{\"marker\":{\"colorbar\":{\"outlinewidth\":0,\"ticks\":\"\"}},\"type\":\"scattercarpet\"}],\"scattergeo\":[{\"marker\":{\"colorbar\":{\"outlinewidth\":0,\"ticks\":\"\"}},\"type\":\"scattergeo\"}],\"scattergl\":[{\"marker\":{\"colorbar\":{\"outlinewidth\":0,\"ticks\":\"\"}},\"type\":\"scattergl\"}],\"scattermapbox\":[{\"marker\":{\"colorbar\":{\"outlinewidth\":0,\"ticks\":\"\"}},\"type\":\"scattermapbox\"}],\"scatterpolar\":[{\"marker\":{\"colorbar\":{\"outlinewidth\":0,\"ticks\":\"\"}},\"type\":\"scatterpolar\"}],\"scatterpolargl\":[{\"marker\":{\"colorbar\":{\"outlinewidth\":0,\"ticks\":\"\"}},\"type\":\"scatterpolargl\"}],\"scatterternary\":[{\"marker\":{\"colorbar\":{\"outlinewidth\":0,\"ticks\":\"\"}},\"type\":\"scatterternary\"}],\"surface\":[{\"colorbar\":{\"outlinewidth\":0,\"ticks\":\"\"},\"colorscale\":[[0.0,\"#0d0887\"],[0.1111111111111111,\"#46039f\"],[0.2222222222222222,\"#7201a8\"],[0.3333333333333333,\"#9c179e\"],[0.4444444444444444,\"#bd3786\"],[0.5555555555555556,\"#d8576b\"],[0.6666666666666666,\"#ed7953\"],[0.7777777777777778,\"#fb9f3a\"],[0.8888888888888888,\"#fdca26\"],[1.0,\"#f0f921\"]],\"type\":\"surface\"}],\"table\":[{\"cells\":{\"fill\":{\"color\":\"#EBF0F8\"},\"line\":{\"color\":\"white\"}},\"header\":{\"fill\":{\"color\":\"#C8D4E3\"},\"line\":{\"color\":\"white\"}},\"type\":\"table\"}]},\"layout\":{\"annotationdefaults\":{\"arrowcolor\":\"#2a3f5f\",\"arrowhead\":0,\"arrowwidth\":1},\"autotypenumbers\":\"strict\",\"coloraxis\":{\"colorbar\":{\"outlinewidth\":0,\"ticks\":\"\"}},\"colorscale\":{\"diverging\":[[0,\"#8e0152\"],[0.1,\"#c51b7d\"],[0.2,\"#de77ae\"],[0.3,\"#f1b6da\"],[0.4,\"#fde0ef\"],[0.5,\"#f7f7f7\"],[0.6,\"#e6f5d0\"],[0.7,\"#b8e186\"],[0.8,\"#7fbc41\"],[0.9,\"#4d9221\"],[1,\"#276419\"]],\"sequential\":[[0.0,\"#0d0887\"],[0.1111111111111111,\"#46039f\"],[0.2222222222222222,\"#7201a8\"],[0.3333333333333333,\"#9c179e\"],[0.4444444444444444,\"#bd3786\"],[0.5555555555555556,\"#d8576b\"],[0.6666666666666666,\"#ed7953\"],[0.7777777777777778,\"#fb9f3a\"],[0.8888888888888888,\"#fdca26\"],[1.0,\"#f0f921\"]],\"sequentialminus\":[[0.0,\"#0d0887\"],[0.1111111111111111,\"#46039f\"],[0.2222222222222222,\"#7201a8\"],[0.3333333333333333,\"#9c179e\"],[0.4444444444444444,\"#bd3786\"],[0.5555555555555556,\"#d8576b\"],[0.6666666666666666,\"#ed7953\"],[0.7777777777777778,\"#fb9f3a\"],[0.8888888888888888,\"#fdca26\"],[1.0,\"#f0f921\"]]},\"colorway\":[\"#636efa\",\"#EF553B\",\"#00cc96\",\"#ab63fa\",\"#FFA15A\",\"#19d3f3\",\"#FF6692\",\"#B6E880\",\"#FF97FF\",\"#FECB52\"],\"font\":{\"color\":\"#2a3f5f\"},\"geo\":{\"bgcolor\":\"white\",\"lakecolor\":\"white\",\"landcolor\":\"#E5ECF6\",\"showlakes\":true,\"showland\":true,\"subunitcolor\":\"white\"},\"hoverlabel\":{\"align\":\"left\"},\"hovermode\":\"closest\",\"mapbox\":{\"style\":\"light\"},\"paper_bgcolor\":\"white\",\"plot_bgcolor\":\"#E5ECF6\",\"polar\":{\"angularaxis\":{\"gridcolor\":\"white\",\"linecolor\":\"white\",\"ticks\":\"\"},\"bgcolor\":\"#E5ECF6\",\"radialaxis\":{\"gridcolor\":\"white\",\"linecolor\":\"white\",\"ticks\":\"\"}},\"scene\":{\"xaxis\":{\"backgroundcolor\":\"#E5ECF6\",\"gridcolor\":\"white\",\"gridwidth\":2,\"linecolor\":\"white\",\"showbackground\":true,\"ticks\":\"\",\"zerolinecolor\":\"white\"},\"yaxis\":{\"backgroundcolor\":\"#E5ECF6\",\"gridcolor\":\"white\",\"gridwidth\":2,\"linecolor\":\"white\",\"showbackground\":true,\"ticks\":\"\",\"zerolinecolor\":\"white\"},\"zaxis\":{\"backgroundcolor\":\"#E5ECF6\",\"gridcolor\":\"white\",\"gridwidth\":2,\"linecolor\":\"white\",\"showbackground\":true,\"ticks\":\"\",\"zerolinecolor\":\"white\"}},\"shapedefaults\":{\"line\":{\"color\":\"#2a3f5f\"}},\"ternary\":{\"aaxis\":{\"gridcolor\":\"white\",\"linecolor\":\"white\",\"ticks\":\"\"},\"baxis\":{\"gridcolor\":\"white\",\"linecolor\":\"white\",\"ticks\":\"\"},\"bgcolor\":\"#E5ECF6\",\"caxis\":{\"gridcolor\":\"white\",\"linecolor\":\"white\",\"ticks\":\"\"}},\"title\":{\"x\":0.05},\"xaxis\":{\"automargin\":true,\"gridcolor\":\"white\",\"linecolor\":\"white\",\"ticks\":\"\",\"title\":{\"standoff\":15},\"zerolinecolor\":\"white\",\"zerolinewidth\":2},\"yaxis\":{\"automargin\":true,\"gridcolor\":\"white\",\"linecolor\":\"white\",\"ticks\":\"\",\"title\":{\"standoff\":15},\"zerolinecolor\":\"white\",\"zerolinewidth\":2}}},\"xaxis\":{\"anchor\":\"y\",\"domain\":[0.0,1.0],\"title\":{\"text\":\"x\"}},\"yaxis\":{\"anchor\":\"x\",\"domain\":[0.0,1.0],\"title\":{\"text\":\"y\"}}},                        {\"responsive\": true}                    ).then(function(){\n",
       "                            \n",
       "var gd = document.getElementById('3b6c1cc9-1297-4ce3-894c-48aabdbb2d68');\n",
       "var x = new MutationObserver(function (mutations, observer) {{\n",
       "        var display = window.getComputedStyle(gd).display;\n",
       "        if (!display || display === 'none') {{\n",
       "            console.log([gd, 'removed!']);\n",
       "            Plotly.purge(gd);\n",
       "            observer.disconnect();\n",
       "        }}\n",
       "}});\n",
       "\n",
       "// Listen for the removal of the full notebook cells\n",
       "var notebookContainer = gd.closest('#notebook-container');\n",
       "if (notebookContainer) {{\n",
       "    x.observe(notebookContainer, {childList: true});\n",
       "}}\n",
       "\n",
       "// Listen for the clearing of the current output cell\n",
       "var outputEl = gd.closest('.output');\n",
       "if (outputEl) {{\n",
       "    x.observe(outputEl, {childList: true});\n",
       "}}\n",
       "\n",
       "                        })                };                });            </script>        </div>"
      ]
     },
     "metadata": {},
     "output_type": "display_data"
    }
   ],
   "source": [
    "fig = px.scatter(x=state_med_pop_data.pop_over_65_2014, y=state_med_pop_data.total_num_med_perscribed)\n",
    "fig.show()"
   ]
  },
  {
   "cell_type": "code",
   "execution_count": 631,
   "metadata": {
    "ExecuteTime": {
     "end_time": "2021-06-27T06:12:50.016968Z",
     "start_time": "2021-06-27T06:12:49.476386Z"
    }
   },
   "outputs": [
    {
     "data": {
      "application/vnd.plotly.v1+json": {
       "config": {
        "plotlyServerURL": "https://plotly.com"
       },
       "data": [
        {
         "hovertemplate": "x=%{x}<br>y=%{y}<extra></extra>",
         "legendgroup": "",
         "marker": {
          "color": "#636efa",
          "symbol": "circle"
         },
         "mode": "markers",
         "name": "",
         "orientation": "v",
         "showlegend": false,
         "type": "scatter",
         "x": [
          4841799,
          736283,
          6730413,
          2967392,
          38596972,
          5350101,
          3594524,
          932487,
          662328,
          19845911,
          10067278,
          1414538,
          1631112,
          12884493,
          6593644,
          3109350,
          2900475,
          4414349,
          4644013,
          1330513,
          5957283,
          6762596,
          9929848,
          5451079,
          2990468,
          6056202,
          1021869,
          1879321,
          2817628,
          1333341,
          8864525,
          2089568,
          19651049,
          9932887,
          737401,
          11602700,
          3878187,
          3963244,
          12788313,
          1055936,
          4823617,
          849129,
          6541223,
          26964333,
          2936879,
          625214,
          8310993,
          7054655,
          1849489,
          5751525,
          582531
         ],
         "xaxis": "x",
         "y": [
          1483632,
          139788,
          2119908,
          931030,
          9901612,
          1351320,
          1126020,
          307898,
          154688,
          7541094,
          2496226,
          459462,
          462876,
          3598466,
          1883658,
          979276,
          829208,
          1309084,
          1268788,
          486384,
          1643450,
          2041242,
          3062432,
          1555052,
          852344,
          1865118,
          339170,
          541634,
          800082,
          424514,
          2634936,
          634530,
          5847456,
          2917798,
          209268,
          3599996,
          1122272,
          1255770,
          4269486,
          333120,
          1521742,
          256652,
          1965944,
          6159630,
          588272,
          211278,
          2295844,
          1971316,
          658602,
          1740752,
          163912
         ],
         "yaxis": "y"
        }
       ],
       "layout": {
        "legend": {
         "tracegroupgap": 0
        },
        "margin": {
         "t": 60
        },
        "template": {
         "data": {
          "bar": [
           {
            "error_x": {
             "color": "#2a3f5f"
            },
            "error_y": {
             "color": "#2a3f5f"
            },
            "marker": {
             "line": {
              "color": "#E5ECF6",
              "width": 0.5
             },
             "pattern": {
              "fillmode": "overlay",
              "size": 10,
              "solidity": 0.2
             }
            },
            "type": "bar"
           }
          ],
          "barpolar": [
           {
            "marker": {
             "line": {
              "color": "#E5ECF6",
              "width": 0.5
             },
             "pattern": {
              "fillmode": "overlay",
              "size": 10,
              "solidity": 0.2
             }
            },
            "type": "barpolar"
           }
          ],
          "carpet": [
           {
            "aaxis": {
             "endlinecolor": "#2a3f5f",
             "gridcolor": "white",
             "linecolor": "white",
             "minorgridcolor": "white",
             "startlinecolor": "#2a3f5f"
            },
            "baxis": {
             "endlinecolor": "#2a3f5f",
             "gridcolor": "white",
             "linecolor": "white",
             "minorgridcolor": "white",
             "startlinecolor": "#2a3f5f"
            },
            "type": "carpet"
           }
          ],
          "choropleth": [
           {
            "colorbar": {
             "outlinewidth": 0,
             "ticks": ""
            },
            "type": "choropleth"
           }
          ],
          "contour": [
           {
            "colorbar": {
             "outlinewidth": 0,
             "ticks": ""
            },
            "colorscale": [
             [
              0,
              "#0d0887"
             ],
             [
              0.1111111111111111,
              "#46039f"
             ],
             [
              0.2222222222222222,
              "#7201a8"
             ],
             [
              0.3333333333333333,
              "#9c179e"
             ],
             [
              0.4444444444444444,
              "#bd3786"
             ],
             [
              0.5555555555555556,
              "#d8576b"
             ],
             [
              0.6666666666666666,
              "#ed7953"
             ],
             [
              0.7777777777777778,
              "#fb9f3a"
             ],
             [
              0.8888888888888888,
              "#fdca26"
             ],
             [
              1,
              "#f0f921"
             ]
            ],
            "type": "contour"
           }
          ],
          "contourcarpet": [
           {
            "colorbar": {
             "outlinewidth": 0,
             "ticks": ""
            },
            "type": "contourcarpet"
           }
          ],
          "heatmap": [
           {
            "colorbar": {
             "outlinewidth": 0,
             "ticks": ""
            },
            "colorscale": [
             [
              0,
              "#0d0887"
             ],
             [
              0.1111111111111111,
              "#46039f"
             ],
             [
              0.2222222222222222,
              "#7201a8"
             ],
             [
              0.3333333333333333,
              "#9c179e"
             ],
             [
              0.4444444444444444,
              "#bd3786"
             ],
             [
              0.5555555555555556,
              "#d8576b"
             ],
             [
              0.6666666666666666,
              "#ed7953"
             ],
             [
              0.7777777777777778,
              "#fb9f3a"
             ],
             [
              0.8888888888888888,
              "#fdca26"
             ],
             [
              1,
              "#f0f921"
             ]
            ],
            "type": "heatmap"
           }
          ],
          "heatmapgl": [
           {
            "colorbar": {
             "outlinewidth": 0,
             "ticks": ""
            },
            "colorscale": [
             [
              0,
              "#0d0887"
             ],
             [
              0.1111111111111111,
              "#46039f"
             ],
             [
              0.2222222222222222,
              "#7201a8"
             ],
             [
              0.3333333333333333,
              "#9c179e"
             ],
             [
              0.4444444444444444,
              "#bd3786"
             ],
             [
              0.5555555555555556,
              "#d8576b"
             ],
             [
              0.6666666666666666,
              "#ed7953"
             ],
             [
              0.7777777777777778,
              "#fb9f3a"
             ],
             [
              0.8888888888888888,
              "#fdca26"
             ],
             [
              1,
              "#f0f921"
             ]
            ],
            "type": "heatmapgl"
           }
          ],
          "histogram": [
           {
            "marker": {
             "pattern": {
              "fillmode": "overlay",
              "size": 10,
              "solidity": 0.2
             }
            },
            "type": "histogram"
           }
          ],
          "histogram2d": [
           {
            "colorbar": {
             "outlinewidth": 0,
             "ticks": ""
            },
            "colorscale": [
             [
              0,
              "#0d0887"
             ],
             [
              0.1111111111111111,
              "#46039f"
             ],
             [
              0.2222222222222222,
              "#7201a8"
             ],
             [
              0.3333333333333333,
              "#9c179e"
             ],
             [
              0.4444444444444444,
              "#bd3786"
             ],
             [
              0.5555555555555556,
              "#d8576b"
             ],
             [
              0.6666666666666666,
              "#ed7953"
             ],
             [
              0.7777777777777778,
              "#fb9f3a"
             ],
             [
              0.8888888888888888,
              "#fdca26"
             ],
             [
              1,
              "#f0f921"
             ]
            ],
            "type": "histogram2d"
           }
          ],
          "histogram2dcontour": [
           {
            "colorbar": {
             "outlinewidth": 0,
             "ticks": ""
            },
            "colorscale": [
             [
              0,
              "#0d0887"
             ],
             [
              0.1111111111111111,
              "#46039f"
             ],
             [
              0.2222222222222222,
              "#7201a8"
             ],
             [
              0.3333333333333333,
              "#9c179e"
             ],
             [
              0.4444444444444444,
              "#bd3786"
             ],
             [
              0.5555555555555556,
              "#d8576b"
             ],
             [
              0.6666666666666666,
              "#ed7953"
             ],
             [
              0.7777777777777778,
              "#fb9f3a"
             ],
             [
              0.8888888888888888,
              "#fdca26"
             ],
             [
              1,
              "#f0f921"
             ]
            ],
            "type": "histogram2dcontour"
           }
          ],
          "mesh3d": [
           {
            "colorbar": {
             "outlinewidth": 0,
             "ticks": ""
            },
            "type": "mesh3d"
           }
          ],
          "parcoords": [
           {
            "line": {
             "colorbar": {
              "outlinewidth": 0,
              "ticks": ""
             }
            },
            "type": "parcoords"
           }
          ],
          "pie": [
           {
            "automargin": true,
            "type": "pie"
           }
          ],
          "scatter": [
           {
            "marker": {
             "colorbar": {
              "outlinewidth": 0,
              "ticks": ""
             }
            },
            "type": "scatter"
           }
          ],
          "scatter3d": [
           {
            "line": {
             "colorbar": {
              "outlinewidth": 0,
              "ticks": ""
             }
            },
            "marker": {
             "colorbar": {
              "outlinewidth": 0,
              "ticks": ""
             }
            },
            "type": "scatter3d"
           }
          ],
          "scattercarpet": [
           {
            "marker": {
             "colorbar": {
              "outlinewidth": 0,
              "ticks": ""
             }
            },
            "type": "scattercarpet"
           }
          ],
          "scattergeo": [
           {
            "marker": {
             "colorbar": {
              "outlinewidth": 0,
              "ticks": ""
             }
            },
            "type": "scattergeo"
           }
          ],
          "scattergl": [
           {
            "marker": {
             "colorbar": {
              "outlinewidth": 0,
              "ticks": ""
             }
            },
            "type": "scattergl"
           }
          ],
          "scattermapbox": [
           {
            "marker": {
             "colorbar": {
              "outlinewidth": 0,
              "ticks": ""
             }
            },
            "type": "scattermapbox"
           }
          ],
          "scatterpolar": [
           {
            "marker": {
             "colorbar": {
              "outlinewidth": 0,
              "ticks": ""
             }
            },
            "type": "scatterpolar"
           }
          ],
          "scatterpolargl": [
           {
            "marker": {
             "colorbar": {
              "outlinewidth": 0,
              "ticks": ""
             }
            },
            "type": "scatterpolargl"
           }
          ],
          "scatterternary": [
           {
            "marker": {
             "colorbar": {
              "outlinewidth": 0,
              "ticks": ""
             }
            },
            "type": "scatterternary"
           }
          ],
          "surface": [
           {
            "colorbar": {
             "outlinewidth": 0,
             "ticks": ""
            },
            "colorscale": [
             [
              0,
              "#0d0887"
             ],
             [
              0.1111111111111111,
              "#46039f"
             ],
             [
              0.2222222222222222,
              "#7201a8"
             ],
             [
              0.3333333333333333,
              "#9c179e"
             ],
             [
              0.4444444444444444,
              "#bd3786"
             ],
             [
              0.5555555555555556,
              "#d8576b"
             ],
             [
              0.6666666666666666,
              "#ed7953"
             ],
             [
              0.7777777777777778,
              "#fb9f3a"
             ],
             [
              0.8888888888888888,
              "#fdca26"
             ],
             [
              1,
              "#f0f921"
             ]
            ],
            "type": "surface"
           }
          ],
          "table": [
           {
            "cells": {
             "fill": {
              "color": "#EBF0F8"
             },
             "line": {
              "color": "white"
             }
            },
            "header": {
             "fill": {
              "color": "#C8D4E3"
             },
             "line": {
              "color": "white"
             }
            },
            "type": "table"
           }
          ]
         },
         "layout": {
          "annotationdefaults": {
           "arrowcolor": "#2a3f5f",
           "arrowhead": 0,
           "arrowwidth": 1
          },
          "autotypenumbers": "strict",
          "coloraxis": {
           "colorbar": {
            "outlinewidth": 0,
            "ticks": ""
           }
          },
          "colorscale": {
           "diverging": [
            [
             0,
             "#8e0152"
            ],
            [
             0.1,
             "#c51b7d"
            ],
            [
             0.2,
             "#de77ae"
            ],
            [
             0.3,
             "#f1b6da"
            ],
            [
             0.4,
             "#fde0ef"
            ],
            [
             0.5,
             "#f7f7f7"
            ],
            [
             0.6,
             "#e6f5d0"
            ],
            [
             0.7,
             "#b8e186"
            ],
            [
             0.8,
             "#7fbc41"
            ],
            [
             0.9,
             "#4d9221"
            ],
            [
             1,
             "#276419"
            ]
           ],
           "sequential": [
            [
             0,
             "#0d0887"
            ],
            [
             0.1111111111111111,
             "#46039f"
            ],
            [
             0.2222222222222222,
             "#7201a8"
            ],
            [
             0.3333333333333333,
             "#9c179e"
            ],
            [
             0.4444444444444444,
             "#bd3786"
            ],
            [
             0.5555555555555556,
             "#d8576b"
            ],
            [
             0.6666666666666666,
             "#ed7953"
            ],
            [
             0.7777777777777778,
             "#fb9f3a"
            ],
            [
             0.8888888888888888,
             "#fdca26"
            ],
            [
             1,
             "#f0f921"
            ]
           ],
           "sequentialminus": [
            [
             0,
             "#0d0887"
            ],
            [
             0.1111111111111111,
             "#46039f"
            ],
            [
             0.2222222222222222,
             "#7201a8"
            ],
            [
             0.3333333333333333,
             "#9c179e"
            ],
            [
             0.4444444444444444,
             "#bd3786"
            ],
            [
             0.5555555555555556,
             "#d8576b"
            ],
            [
             0.6666666666666666,
             "#ed7953"
            ],
            [
             0.7777777777777778,
             "#fb9f3a"
            ],
            [
             0.8888888888888888,
             "#fdca26"
            ],
            [
             1,
             "#f0f921"
            ]
           ]
          },
          "colorway": [
           "#636efa",
           "#EF553B",
           "#00cc96",
           "#ab63fa",
           "#FFA15A",
           "#19d3f3",
           "#FF6692",
           "#B6E880",
           "#FF97FF",
           "#FECB52"
          ],
          "font": {
           "color": "#2a3f5f"
          },
          "geo": {
           "bgcolor": "white",
           "lakecolor": "white",
           "landcolor": "#E5ECF6",
           "showlakes": true,
           "showland": true,
           "subunitcolor": "white"
          },
          "hoverlabel": {
           "align": "left"
          },
          "hovermode": "closest",
          "mapbox": {
           "style": "light"
          },
          "paper_bgcolor": "white",
          "plot_bgcolor": "#E5ECF6",
          "polar": {
           "angularaxis": {
            "gridcolor": "white",
            "linecolor": "white",
            "ticks": ""
           },
           "bgcolor": "#E5ECF6",
           "radialaxis": {
            "gridcolor": "white",
            "linecolor": "white",
            "ticks": ""
           }
          },
          "scene": {
           "xaxis": {
            "backgroundcolor": "#E5ECF6",
            "gridcolor": "white",
            "gridwidth": 2,
            "linecolor": "white",
            "showbackground": true,
            "ticks": "",
            "zerolinecolor": "white"
           },
           "yaxis": {
            "backgroundcolor": "#E5ECF6",
            "gridcolor": "white",
            "gridwidth": 2,
            "linecolor": "white",
            "showbackground": true,
            "ticks": "",
            "zerolinecolor": "white"
           },
           "zaxis": {
            "backgroundcolor": "#E5ECF6",
            "gridcolor": "white",
            "gridwidth": 2,
            "linecolor": "white",
            "showbackground": true,
            "ticks": "",
            "zerolinecolor": "white"
           }
          },
          "shapedefaults": {
           "line": {
            "color": "#2a3f5f"
           }
          },
          "ternary": {
           "aaxis": {
            "gridcolor": "white",
            "linecolor": "white",
            "ticks": ""
           },
           "baxis": {
            "gridcolor": "white",
            "linecolor": "white",
            "ticks": ""
           },
           "bgcolor": "#E5ECF6",
           "caxis": {
            "gridcolor": "white",
            "linecolor": "white",
            "ticks": ""
           }
          },
          "title": {
           "x": 0.05
          },
          "xaxis": {
           "automargin": true,
           "gridcolor": "white",
           "linecolor": "white",
           "ticks": "",
           "title": {
            "standoff": 15
           },
           "zerolinecolor": "white",
           "zerolinewidth": 2
          },
          "yaxis": {
           "automargin": true,
           "gridcolor": "white",
           "linecolor": "white",
           "ticks": "",
           "title": {
            "standoff": 15
           },
           "zerolinecolor": "white",
           "zerolinewidth": 2
          }
         }
        },
        "xaxis": {
         "anchor": "y",
         "domain": [
          0,
          1
         ],
         "title": {
          "text": "x"
         }
        },
        "yaxis": {
         "anchor": "x",
         "domain": [
          0,
          1
         ],
         "title": {
          "text": "y"
         }
        }
       }
      },
      "text/html": [
       "<div>                            <div id=\"d8d2c6bf-fdfc-40f1-b454-86d845832014\" class=\"plotly-graph-div\" style=\"height:525px; width:100%;\"></div>            <script type=\"text/javascript\">                require([\"plotly\"], function(Plotly) {                    window.PLOTLYENV=window.PLOTLYENV || {};                                    if (document.getElementById(\"d8d2c6bf-fdfc-40f1-b454-86d845832014\")) {                    Plotly.newPlot(                        \"d8d2c6bf-fdfc-40f1-b454-86d845832014\",                        [{\"hovertemplate\":\"x=%{x}<br>y=%{y}<extra></extra>\",\"legendgroup\":\"\",\"marker\":{\"color\":\"#636efa\",\"symbol\":\"circle\"},\"mode\":\"markers\",\"name\":\"\",\"orientation\":\"v\",\"showlegend\":false,\"type\":\"scatter\",\"x\":[4841799.0,736283.0,6730413.0,2967392.0,38596972.0,5350101.0,3594524.0,932487.0,662328.0,19845911.0,10067278.0,1414538.0,1631112.0,12884493.0,6593644.0,3109350.0,2900475.0,4414349.0,4644013.0,1330513.0,5957283.0,6762596.0,9929848.0,5451079.0,2990468.0,6056202.0,1021869.0,1879321.0,2817628.0,1333341.0,8864525.0,2089568.0,19651049.0,9932887.0,737401.0,11602700.0,3878187.0,3963244.0,12788313.0,1055936.0,4823617.0,849129.0,6541223.0,26964333.0,2936879.0,625214.0,8310993.0,7054655.0,1849489.0,5751525.0,582531.0],\"xaxis\":\"x\",\"y\":[1483632.0,139788.0,2119908.0,931030.0,9901612.0,1351320.0,1126020.0,307898.0,154688.0,7541094.0,2496226.0,459462.0,462876.0,3598466.0,1883658.0,979276.0,829208.0,1309084.0,1268788.0,486384.0,1643450.0,2041242.0,3062432.0,1555052.0,852344.0,1865118.0,339170.0,541634.0,800082.0,424514.0,2634936.0,634530.0,5847456.0,2917798.0,209268.0,3599996.0,1122272.0,1255770.0,4269486.0,333120.0,1521742.0,256652.0,1965944.0,6159630.0,588272.0,211278.0,2295844.0,1971316.0,658602.0,1740752.0,163912.0],\"yaxis\":\"y\"}],                        {\"legend\":{\"tracegroupgap\":0},\"margin\":{\"t\":60},\"template\":{\"data\":{\"bar\":[{\"error_x\":{\"color\":\"#2a3f5f\"},\"error_y\":{\"color\":\"#2a3f5f\"},\"marker\":{\"line\":{\"color\":\"#E5ECF6\",\"width\":0.5},\"pattern\":{\"fillmode\":\"overlay\",\"size\":10,\"solidity\":0.2}},\"type\":\"bar\"}],\"barpolar\":[{\"marker\":{\"line\":{\"color\":\"#E5ECF6\",\"width\":0.5},\"pattern\":{\"fillmode\":\"overlay\",\"size\":10,\"solidity\":0.2}},\"type\":\"barpolar\"}],\"carpet\":[{\"aaxis\":{\"endlinecolor\":\"#2a3f5f\",\"gridcolor\":\"white\",\"linecolor\":\"white\",\"minorgridcolor\":\"white\",\"startlinecolor\":\"#2a3f5f\"},\"baxis\":{\"endlinecolor\":\"#2a3f5f\",\"gridcolor\":\"white\",\"linecolor\":\"white\",\"minorgridcolor\":\"white\",\"startlinecolor\":\"#2a3f5f\"},\"type\":\"carpet\"}],\"choropleth\":[{\"colorbar\":{\"outlinewidth\":0,\"ticks\":\"\"},\"type\":\"choropleth\"}],\"contour\":[{\"colorbar\":{\"outlinewidth\":0,\"ticks\":\"\"},\"colorscale\":[[0.0,\"#0d0887\"],[0.1111111111111111,\"#46039f\"],[0.2222222222222222,\"#7201a8\"],[0.3333333333333333,\"#9c179e\"],[0.4444444444444444,\"#bd3786\"],[0.5555555555555556,\"#d8576b\"],[0.6666666666666666,\"#ed7953\"],[0.7777777777777778,\"#fb9f3a\"],[0.8888888888888888,\"#fdca26\"],[1.0,\"#f0f921\"]],\"type\":\"contour\"}],\"contourcarpet\":[{\"colorbar\":{\"outlinewidth\":0,\"ticks\":\"\"},\"type\":\"contourcarpet\"}],\"heatmap\":[{\"colorbar\":{\"outlinewidth\":0,\"ticks\":\"\"},\"colorscale\":[[0.0,\"#0d0887\"],[0.1111111111111111,\"#46039f\"],[0.2222222222222222,\"#7201a8\"],[0.3333333333333333,\"#9c179e\"],[0.4444444444444444,\"#bd3786\"],[0.5555555555555556,\"#d8576b\"],[0.6666666666666666,\"#ed7953\"],[0.7777777777777778,\"#fb9f3a\"],[0.8888888888888888,\"#fdca26\"],[1.0,\"#f0f921\"]],\"type\":\"heatmap\"}],\"heatmapgl\":[{\"colorbar\":{\"outlinewidth\":0,\"ticks\":\"\"},\"colorscale\":[[0.0,\"#0d0887\"],[0.1111111111111111,\"#46039f\"],[0.2222222222222222,\"#7201a8\"],[0.3333333333333333,\"#9c179e\"],[0.4444444444444444,\"#bd3786\"],[0.5555555555555556,\"#d8576b\"],[0.6666666666666666,\"#ed7953\"],[0.7777777777777778,\"#fb9f3a\"],[0.8888888888888888,\"#fdca26\"],[1.0,\"#f0f921\"]],\"type\":\"heatmapgl\"}],\"histogram\":[{\"marker\":{\"pattern\":{\"fillmode\":\"overlay\",\"size\":10,\"solidity\":0.2}},\"type\":\"histogram\"}],\"histogram2d\":[{\"colorbar\":{\"outlinewidth\":0,\"ticks\":\"\"},\"colorscale\":[[0.0,\"#0d0887\"],[0.1111111111111111,\"#46039f\"],[0.2222222222222222,\"#7201a8\"],[0.3333333333333333,\"#9c179e\"],[0.4444444444444444,\"#bd3786\"],[0.5555555555555556,\"#d8576b\"],[0.6666666666666666,\"#ed7953\"],[0.7777777777777778,\"#fb9f3a\"],[0.8888888888888888,\"#fdca26\"],[1.0,\"#f0f921\"]],\"type\":\"histogram2d\"}],\"histogram2dcontour\":[{\"colorbar\":{\"outlinewidth\":0,\"ticks\":\"\"},\"colorscale\":[[0.0,\"#0d0887\"],[0.1111111111111111,\"#46039f\"],[0.2222222222222222,\"#7201a8\"],[0.3333333333333333,\"#9c179e\"],[0.4444444444444444,\"#bd3786\"],[0.5555555555555556,\"#d8576b\"],[0.6666666666666666,\"#ed7953\"],[0.7777777777777778,\"#fb9f3a\"],[0.8888888888888888,\"#fdca26\"],[1.0,\"#f0f921\"]],\"type\":\"histogram2dcontour\"}],\"mesh3d\":[{\"colorbar\":{\"outlinewidth\":0,\"ticks\":\"\"},\"type\":\"mesh3d\"}],\"parcoords\":[{\"line\":{\"colorbar\":{\"outlinewidth\":0,\"ticks\":\"\"}},\"type\":\"parcoords\"}],\"pie\":[{\"automargin\":true,\"type\":\"pie\"}],\"scatter\":[{\"marker\":{\"colorbar\":{\"outlinewidth\":0,\"ticks\":\"\"}},\"type\":\"scatter\"}],\"scatter3d\":[{\"line\":{\"colorbar\":{\"outlinewidth\":0,\"ticks\":\"\"}},\"marker\":{\"colorbar\":{\"outlinewidth\":0,\"ticks\":\"\"}},\"type\":\"scatter3d\"}],\"scattercarpet\":[{\"marker\":{\"colorbar\":{\"outlinewidth\":0,\"ticks\":\"\"}},\"type\":\"scattercarpet\"}],\"scattergeo\":[{\"marker\":{\"colorbar\":{\"outlinewidth\":0,\"ticks\":\"\"}},\"type\":\"scattergeo\"}],\"scattergl\":[{\"marker\":{\"colorbar\":{\"outlinewidth\":0,\"ticks\":\"\"}},\"type\":\"scattergl\"}],\"scattermapbox\":[{\"marker\":{\"colorbar\":{\"outlinewidth\":0,\"ticks\":\"\"}},\"type\":\"scattermapbox\"}],\"scatterpolar\":[{\"marker\":{\"colorbar\":{\"outlinewidth\":0,\"ticks\":\"\"}},\"type\":\"scatterpolar\"}],\"scatterpolargl\":[{\"marker\":{\"colorbar\":{\"outlinewidth\":0,\"ticks\":\"\"}},\"type\":\"scatterpolargl\"}],\"scatterternary\":[{\"marker\":{\"colorbar\":{\"outlinewidth\":0,\"ticks\":\"\"}},\"type\":\"scatterternary\"}],\"surface\":[{\"colorbar\":{\"outlinewidth\":0,\"ticks\":\"\"},\"colorscale\":[[0.0,\"#0d0887\"],[0.1111111111111111,\"#46039f\"],[0.2222222222222222,\"#7201a8\"],[0.3333333333333333,\"#9c179e\"],[0.4444444444444444,\"#bd3786\"],[0.5555555555555556,\"#d8576b\"],[0.6666666666666666,\"#ed7953\"],[0.7777777777777778,\"#fb9f3a\"],[0.8888888888888888,\"#fdca26\"],[1.0,\"#f0f921\"]],\"type\":\"surface\"}],\"table\":[{\"cells\":{\"fill\":{\"color\":\"#EBF0F8\"},\"line\":{\"color\":\"white\"}},\"header\":{\"fill\":{\"color\":\"#C8D4E3\"},\"line\":{\"color\":\"white\"}},\"type\":\"table\"}]},\"layout\":{\"annotationdefaults\":{\"arrowcolor\":\"#2a3f5f\",\"arrowhead\":0,\"arrowwidth\":1},\"autotypenumbers\":\"strict\",\"coloraxis\":{\"colorbar\":{\"outlinewidth\":0,\"ticks\":\"\"}},\"colorscale\":{\"diverging\":[[0,\"#8e0152\"],[0.1,\"#c51b7d\"],[0.2,\"#de77ae\"],[0.3,\"#f1b6da\"],[0.4,\"#fde0ef\"],[0.5,\"#f7f7f7\"],[0.6,\"#e6f5d0\"],[0.7,\"#b8e186\"],[0.8,\"#7fbc41\"],[0.9,\"#4d9221\"],[1,\"#276419\"]],\"sequential\":[[0.0,\"#0d0887\"],[0.1111111111111111,\"#46039f\"],[0.2222222222222222,\"#7201a8\"],[0.3333333333333333,\"#9c179e\"],[0.4444444444444444,\"#bd3786\"],[0.5555555555555556,\"#d8576b\"],[0.6666666666666666,\"#ed7953\"],[0.7777777777777778,\"#fb9f3a\"],[0.8888888888888888,\"#fdca26\"],[1.0,\"#f0f921\"]],\"sequentialminus\":[[0.0,\"#0d0887\"],[0.1111111111111111,\"#46039f\"],[0.2222222222222222,\"#7201a8\"],[0.3333333333333333,\"#9c179e\"],[0.4444444444444444,\"#bd3786\"],[0.5555555555555556,\"#d8576b\"],[0.6666666666666666,\"#ed7953\"],[0.7777777777777778,\"#fb9f3a\"],[0.8888888888888888,\"#fdca26\"],[1.0,\"#f0f921\"]]},\"colorway\":[\"#636efa\",\"#EF553B\",\"#00cc96\",\"#ab63fa\",\"#FFA15A\",\"#19d3f3\",\"#FF6692\",\"#B6E880\",\"#FF97FF\",\"#FECB52\"],\"font\":{\"color\":\"#2a3f5f\"},\"geo\":{\"bgcolor\":\"white\",\"lakecolor\":\"white\",\"landcolor\":\"#E5ECF6\",\"showlakes\":true,\"showland\":true,\"subunitcolor\":\"white\"},\"hoverlabel\":{\"align\":\"left\"},\"hovermode\":\"closest\",\"mapbox\":{\"style\":\"light\"},\"paper_bgcolor\":\"white\",\"plot_bgcolor\":\"#E5ECF6\",\"polar\":{\"angularaxis\":{\"gridcolor\":\"white\",\"linecolor\":\"white\",\"ticks\":\"\"},\"bgcolor\":\"#E5ECF6\",\"radialaxis\":{\"gridcolor\":\"white\",\"linecolor\":\"white\",\"ticks\":\"\"}},\"scene\":{\"xaxis\":{\"backgroundcolor\":\"#E5ECF6\",\"gridcolor\":\"white\",\"gridwidth\":2,\"linecolor\":\"white\",\"showbackground\":true,\"ticks\":\"\",\"zerolinecolor\":\"white\"},\"yaxis\":{\"backgroundcolor\":\"#E5ECF6\",\"gridcolor\":\"white\",\"gridwidth\":2,\"linecolor\":\"white\",\"showbackground\":true,\"ticks\":\"\",\"zerolinecolor\":\"white\"},\"zaxis\":{\"backgroundcolor\":\"#E5ECF6\",\"gridcolor\":\"white\",\"gridwidth\":2,\"linecolor\":\"white\",\"showbackground\":true,\"ticks\":\"\",\"zerolinecolor\":\"white\"}},\"shapedefaults\":{\"line\":{\"color\":\"#2a3f5f\"}},\"ternary\":{\"aaxis\":{\"gridcolor\":\"white\",\"linecolor\":\"white\",\"ticks\":\"\"},\"baxis\":{\"gridcolor\":\"white\",\"linecolor\":\"white\",\"ticks\":\"\"},\"bgcolor\":\"#E5ECF6\",\"caxis\":{\"gridcolor\":\"white\",\"linecolor\":\"white\",\"ticks\":\"\"}},\"title\":{\"x\":0.05},\"xaxis\":{\"automargin\":true,\"gridcolor\":\"white\",\"linecolor\":\"white\",\"ticks\":\"\",\"title\":{\"standoff\":15},\"zerolinecolor\":\"white\",\"zerolinewidth\":2},\"yaxis\":{\"automargin\":true,\"gridcolor\":\"white\",\"linecolor\":\"white\",\"ticks\":\"\",\"title\":{\"standoff\":15},\"zerolinecolor\":\"white\",\"zerolinewidth\":2}}},\"xaxis\":{\"anchor\":\"y\",\"domain\":[0.0,1.0],\"title\":{\"text\":\"x\"}},\"yaxis\":{\"anchor\":\"x\",\"domain\":[0.0,1.0],\"title\":{\"text\":\"y\"}}},                        {\"responsive\": true}                    ).then(function(){\n",
       "                            \n",
       "var gd = document.getElementById('d8d2c6bf-fdfc-40f1-b454-86d845832014');\n",
       "var x = new MutationObserver(function (mutations, observer) {{\n",
       "        var display = window.getComputedStyle(gd).display;\n",
       "        if (!display || display === 'none') {{\n",
       "            console.log([gd, 'removed!']);\n",
       "            Plotly.purge(gd);\n",
       "            observer.disconnect();\n",
       "        }}\n",
       "}});\n",
       "\n",
       "// Listen for the removal of the full notebook cells\n",
       "var notebookContainer = gd.closest('#notebook-container');\n",
       "if (notebookContainer) {{\n",
       "    x.observe(notebookContainer, {childList: true});\n",
       "}}\n",
       "\n",
       "// Listen for the clearing of the current output cell\n",
       "var outputEl = gd.closest('.output');\n",
       "if (outputEl) {{\n",
       "    x.observe(outputEl, {childList: true});\n",
       "}}\n",
       "\n",
       "                        })                };                });            </script>        </div>"
      ]
     },
     "metadata": {},
     "output_type": "display_data"
    }
   ],
   "source": [
    "fig = px.scatter(x=state_med_pop_data.est_pop_2014, y=state_med_pop_data.pop_over_65_2014)\n",
    "fig.show()"
   ]
  },
  {
   "cell_type": "code",
   "execution_count": 624,
   "metadata": {
    "ExecuteTime": {
     "end_time": "2021-06-27T05:58:00.543440Z",
     "start_time": "2021-06-27T05:58:00.535859Z"
    },
    "scrolled": true
   },
   "outputs": [
    {
     "name": "stdout",
     "output_type": "stream",
     "text": [
      "0.9879\n",
      "3.0000000000000004e-41\n"
     ]
    }
   ],
   "source": [
    "#  returns correlation, p-value\n",
    "# r=1 implies a strong, positive relationship\n",
    "# r=0 implies no correlation\n",
    "# r=-1 implies strong, negative relationship\n",
    "\n",
    "r, p_value = stats.pearsonr(state_med_pop_data.total_num_med_perscribed, state_med_pop_data.pop_over_65_2014)\n",
    "print(np.round(r, 4))\n",
    "print(np.round(p_value, 41))"
   ]
  },
  {
   "cell_type": "markdown",
   "metadata": {},
   "source": [
    "From this we can for sure say that Fig.1 implied a correlation between population and total number of perscriptions!"
   ]
  },
  {
   "cell_type": "code",
   "execution_count": 633,
   "metadata": {
    "ExecuteTime": {
     "end_time": "2021-06-27T06:13:26.915654Z",
     "start_time": "2021-06-27T06:13:26.902285Z"
    }
   },
   "outputs": [
    {
     "name": "stdout",
     "output_type": "stream",
     "text": [
      "0.98\n",
      "5.000000000000001e-36\n"
     ]
    }
   ],
   "source": [
    "r, p_value = stats.pearsonr(state_med_pop_data.est_pop_2014, state_med_pop_data.pop_over_65_2014)\n",
    "print(np.round(r, 4))\n",
    "print(np.round(p_value, 36))"
   ]
  },
  {
   "cell_type": "code",
   "execution_count": null,
   "metadata": {},
   "outputs": [],
   "source": []
  }
 ],
 "metadata": {
  "kernelspec": {
   "display_name": "Python 3",
   "language": "python",
   "name": "python3"
  },
  "language_info": {
   "codemirror_mode": {
    "name": "ipython",
    "version": 3
   },
   "file_extension": ".py",
   "mimetype": "text/x-python",
   "name": "python",
   "nbconvert_exporter": "python",
   "pygments_lexer": "ipython3",
   "version": "3.8.8"
  },
  "toc": {
   "base_numbering": 1,
   "nav_menu": {},
   "number_sections": true,
   "sideBar": true,
   "skip_h1_title": true,
   "title_cell": "Table of Contents",
   "title_sidebar": "Contents",
   "toc_cell": false,
   "toc_position": {},
   "toc_section_display": true,
   "toc_window_display": false
  },
  "varInspector": {
   "cols": {
    "lenName": 16,
    "lenType": 16,
    "lenVar": 40
   },
   "kernels_config": {
    "python": {
     "delete_cmd_postfix": "",
     "delete_cmd_prefix": "del ",
     "library": "var_list.py",
     "varRefreshCmd": "print(var_dic_list())"
    },
    "r": {
     "delete_cmd_postfix": ") ",
     "delete_cmd_prefix": "rm(",
     "library": "var_list.r",
     "varRefreshCmd": "cat(var_dic_list()) "
    }
   },
   "types_to_exclude": [
    "module",
    "function",
    "builtin_function_or_method",
    "instance",
    "_Feature"
   ],
   "window_display": false
  }
 },
 "nbformat": 4,
 "nbformat_minor": 4
}
