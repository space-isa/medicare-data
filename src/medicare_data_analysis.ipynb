{
 "cells": [
  {
   "cell_type": "code",
   "execution_count": 6,
   "metadata": {
    "ExecuteTime": {
     "end_time": "2021-06-24T01:36:54.007458Z",
     "start_time": "2021-06-24T01:36:53.999721Z"
    }
   },
   "outputs": [],
   "source": [
    "# !python3 -m pip install --upgrade 'google-cloud-bigquery[bqstorage,pandas]'"
   ]
  },
  {
   "cell_type": "code",
   "execution_count": 41,
   "metadata": {
    "ExecuteTime": {
     "end_time": "2021-06-24T22:09:05.154475Z",
     "start_time": "2021-06-24T22:09:05.118909Z"
    }
   },
   "outputs": [],
   "source": [
    "#  Standard library imports\n",
    "from collections import Counter\n",
    "#  Companion scripts \n",
    "from client_auth import create_client\n",
    "# #  BigQuery import\n",
    "# from google.oauth2 import service_account\n",
    "# from google.cloud import bigquery\n",
    "#  Data processing\n",
    "import pandas as pd\n",
    "pd.set_option(\"display.max_columns\", None) \n",
    "#  Data vizualization\n",
    "from matplotlib import pyplot as plt\n",
    "import seaborn as sns"
   ]
  },
  {
   "cell_type": "markdown",
   "metadata": {},
   "source": [
    "## Set up"
   ]
  },
  {
   "cell_type": "markdown",
   "metadata": {},
   "source": [
    "### Authenticate and connect to BigQuery API."
   ]
  },
  {
   "cell_type": "code",
   "execution_count": 43,
   "metadata": {
    "ExecuteTime": {
     "end_time": "2021-06-24T22:09:27.026525Z",
     "start_time": "2021-06-24T22:09:26.976823Z"
    }
   },
   "outputs": [],
   "source": [
    "def create_client():\n",
    "    key_path = \"/Users/Isabel/Documents/Git/iron-axon-317718-542c36710a0a.json\"\n",
    "    scope = \"https://www.googleapis.com/auth/cloud-platform\"\n",
    "    credentials = service_account.Credentials.from_service_account_file(key_path, scopes=[scope],)\n",
    "    #  Create an instance of the bigquery.Client class to create the client\n",
    "    client = bigquery.Client(credentials=credentials, project=credentials.project_id,)\n",
    "    return client\n",
    "\n",
    "client = create_client()"
   ]
  },
  {
   "cell_type": "markdown",
   "metadata": {},
   "source": [
    "### Fetch dataset"
   ]
  },
  {
   "cell_type": "code",
   "execution_count": null,
   "metadata": {},
   "outputs": [],
   "source": [
    "#  Define dataset reference\n",
    "project = \"bigquery-public-data\"\n",
    "dataset_id = \"medicare\"\n",
    "dataset_ref = client.dataset(dataset_id, project=project)\n",
    "\n",
    "#  Fetch dataset via API request\n",
    "dataset = client.get_dataset(dataset_ref)"
   ]
  },
  {
   "cell_type": "markdown",
   "metadata": {},
   "source": [
    "## Data exploration"
   ]
  },
  {
   "cell_type": "code",
   "execution_count": 52,
   "metadata": {
    "ExecuteTime": {
     "end_time": "2021-06-24T23:02:00.019902Z",
     "start_time": "2021-06-24T23:01:59.815020Z"
    }
   },
   "outputs": [
    {
     "name": "stdout",
     "output_type": "stream",
     "text": [
      "inpatient_charges_2011\n",
      "inpatient_charges_2012\n",
      "inpatient_charges_2013\n",
      "inpatient_charges_2014\n",
      "outpatient_charges_2011\n",
      "outpatient_charges_2012\n",
      "outpatient_charges_2013\n",
      "outpatient_charges_2014\n",
      "part_d_prescriber_2014\n",
      "physicians_and_other_supplier_2012\n",
      "physicians_and_other_supplier_2013\n",
      "physicians_and_other_supplier_2014\n"
     ]
    }
   ],
   "source": [
    "#  List all tables in the medicare dataset\n",
    "tables = list(client.list_tables(dataset))\n",
    "\n",
    "#  Display names of all tables w/i dataset\n",
    "for table in tables:  \n",
    "    print(table.table_id)"
   ]
  },
  {
   "cell_type": "code",
   "execution_count": 67,
   "metadata": {
    "ExecuteTime": {
     "end_time": "2021-06-25T00:04:45.086769Z",
     "start_time": "2021-06-25T00:04:44.895700Z"
    }
   },
   "outputs": [
    {
     "data": {
      "text/plain": [
       "[SchemaField('npi', 'INTEGER', 'REQUIRED', 'National Provider Identifier', (), None),\n",
       " SchemaField('nppes_provider_last_org_name', 'STRING', 'NULLABLE', 'Last Name/Organization Name of the Provider', (), None),\n",
       " SchemaField('nppes_provider_first_name', 'STRING', 'NULLABLE', 'First Name of the Provider', (), None),\n",
       " SchemaField('nppes_provider_city', 'STRING', 'NULLABLE', 'City of the Provider', (), None),\n",
       " SchemaField('nppes_provider_state', 'STRING', 'NULLABLE', 'State Code of the Provider', (), None),\n",
       " SchemaField('specialty_description', 'STRING', 'NULLABLE', 'Provider Specialty Type', (), None),\n",
       " SchemaField('description_flag', 'STRING', 'NULLABLE', 'Source of Provider Specialty', (), None),\n",
       " SchemaField('drug_name', 'STRING', 'REQUIRED', 'Name of the drug', (), None),\n",
       " SchemaField('generic_name', 'STRING', 'NULLABLE', 'Generic name of the drug', (), None),\n",
       " SchemaField('bene_count', 'INTEGER', 'NULLABLE', 'Number of Medicare Beneficiaries', (), None),\n",
       " SchemaField('total_claim_count', 'INTEGER', 'NULLABLE', 'Number of Medicare Part D Claims, Including Refills', (), None),\n",
       " SchemaField('total_day_supply', 'INTEGER', 'NULLABLE', \"Number of Day's Supply for All Claims\", (), None),\n",
       " SchemaField('total_drug_cost', 'FLOAT', 'NULLABLE', 'Aggregate Cost Paid for All Claims', (), None),\n",
       " SchemaField('bene_count_ge65', 'INTEGER', 'NULLABLE', 'Number of Medicare Beneficiaries Age 65+', (), None),\n",
       " SchemaField('bene_count_ge65_suppress_flag', 'STRING', 'NULLABLE', 'Reason for Suppression of Bene_Count_ge65', (), None),\n",
       " SchemaField('total_claim_count_ge65', 'INTEGER', 'NULLABLE', 'Number of Claims, Including Refills, for Beneficiaries Age 65+', (), None),\n",
       " SchemaField('ge65_suppress_flag', 'STRING', 'NULLABLE', 'Reason for Suppression of Total_Claim_Count_Ge65, Total_Drug_Cost_Ge65, and Total_Day_Supply_Ge65', (), None),\n",
       " SchemaField('total_day_supply_ge65', 'INTEGER', 'NULLABLE', \"Number of Day's Supply for All Claims for Beneficiaries Age 65+\", (), None),\n",
       " SchemaField('total_drug_cost_ge65', 'FLOAT', 'NULLABLE', 'Aggregate Cost Paid for All Claims for Beneficiaries Age 65+', (), None)]"
      ]
     },
     "execution_count": 67,
     "metadata": {},
     "output_type": "execute_result"
    }
   ],
   "source": [
    "# Construct a reference to a given table\n",
    "table_ref_2014 = dataset_ref.table(\"part_d_prescriber_2014\")\n",
    "\n",
    "# API request - fetch the table\n",
    "table_2014 = client.get_table(table_ref_2014)\n",
    "table_2014.schema"
   ]
  },
  {
   "cell_type": "code",
   "execution_count": 68,
   "metadata": {
    "ExecuteTime": {
     "end_time": "2021-06-25T00:05:13.844314Z",
     "start_time": "2021-06-25T00:05:13.359635Z"
    }
   },
   "outputs": [
    {
     "name": "stderr",
     "output_type": "stream",
     "text": [
      "/Users/Isabel/opt/anaconda3/lib/python3.8/site-packages/google/cloud/bigquery/table.py:1860: UserWarning: Cannot use bqstorage_client if max_results is set, reverting to fetching data with the REST endpoint.\n",
      "  if not self._validate_bqstorage(bqstorage_client, create_bqstorage_client):\n"
     ]
    },
    {
     "data": {
      "text/html": [
       "<div>\n",
       "<style scoped>\n",
       "    .dataframe tbody tr th:only-of-type {\n",
       "        vertical-align: middle;\n",
       "    }\n",
       "\n",
       "    .dataframe tbody tr th {\n",
       "        vertical-align: top;\n",
       "    }\n",
       "\n",
       "    .dataframe thead th {\n",
       "        text-align: right;\n",
       "    }\n",
       "</style>\n",
       "<table border=\"1\" class=\"dataframe\">\n",
       "  <thead>\n",
       "    <tr style=\"text-align: right;\">\n",
       "      <th></th>\n",
       "      <th>npi</th>\n",
       "      <th>nppes_provider_last_org_name</th>\n",
       "      <th>nppes_provider_first_name</th>\n",
       "      <th>nppes_provider_city</th>\n",
       "      <th>nppes_provider_state</th>\n",
       "      <th>specialty_description</th>\n",
       "      <th>description_flag</th>\n",
       "      <th>drug_name</th>\n",
       "      <th>generic_name</th>\n",
       "      <th>bene_count</th>\n",
       "      <th>total_claim_count</th>\n",
       "      <th>total_day_supply</th>\n",
       "      <th>total_drug_cost</th>\n",
       "      <th>bene_count_ge65</th>\n",
       "      <th>bene_count_ge65_suppress_flag</th>\n",
       "      <th>total_claim_count_ge65</th>\n",
       "      <th>ge65_suppress_flag</th>\n",
       "      <th>total_day_supply_ge65</th>\n",
       "      <th>total_drug_cost_ge65</th>\n",
       "    </tr>\n",
       "  </thead>\n",
       "  <tbody>\n",
       "    <tr>\n",
       "      <th>0</th>\n",
       "      <td>1417953134</td>\n",
       "      <td>KELLOGG</td>\n",
       "      <td>WILLIAM</td>\n",
       "      <td>POTTSVILLE</td>\n",
       "      <td>PA</td>\n",
       "      <td>Ophthalmology</td>\n",
       "      <td>S</td>\n",
       "      <td>FML</td>\n",
       "      <td>FLUOROMETHOLONE</td>\n",
       "      <td>43</td>\n",
       "      <td>81</td>\n",
       "      <td>1970</td>\n",
       "      <td>7025.69</td>\n",
       "      <td>30</td>\n",
       "      <td></td>\n",
       "      <td>57</td>\n",
       "      <td></td>\n",
       "      <td>1332</td>\n",
       "      <td>4954.08</td>\n",
       "    </tr>\n",
       "    <tr>\n",
       "      <th>1</th>\n",
       "      <td>1366428872</td>\n",
       "      <td>NIGRO</td>\n",
       "      <td>JEFF</td>\n",
       "      <td>VANDERGRIFT</td>\n",
       "      <td>PA</td>\n",
       "      <td>Podiatry</td>\n",
       "      <td>S</td>\n",
       "      <td>SSD</td>\n",
       "      <td>SILVER SULFADIAZINE</td>\n",
       "      <td>19</td>\n",
       "      <td>22</td>\n",
       "      <td>307</td>\n",
       "      <td>193.07</td>\n",
       "      <td>19</td>\n",
       "      <td></td>\n",
       "      <td>22</td>\n",
       "      <td></td>\n",
       "      <td>307</td>\n",
       "      <td>193.07</td>\n",
       "    </tr>\n",
       "    <tr>\n",
       "      <th>2</th>\n",
       "      <td>1891724027</td>\n",
       "      <td>CHEBANOVA</td>\n",
       "      <td>ELENA</td>\n",
       "      <td>DENVER</td>\n",
       "      <td>CO</td>\n",
       "      <td>Internal Medicine</td>\n",
       "      <td>S</td>\n",
       "      <td>SSD</td>\n",
       "      <td>SILVER SULFADIAZINE</td>\n",
       "      <td>12</td>\n",
       "      <td>23</td>\n",
       "      <td>690</td>\n",
       "      <td>285.08</td>\n",
       "      <td>12</td>\n",
       "      <td></td>\n",
       "      <td>23</td>\n",
       "      <td></td>\n",
       "      <td>690</td>\n",
       "      <td>285.08</td>\n",
       "    </tr>\n",
       "    <tr>\n",
       "      <th>3</th>\n",
       "      <td>1013911098</td>\n",
       "      <td>SAUNDERS</td>\n",
       "      <td>NEIL</td>\n",
       "      <td>TOLEDO</td>\n",
       "      <td>OH</td>\n",
       "      <td>Podiatry</td>\n",
       "      <td>S</td>\n",
       "      <td>SSD</td>\n",
       "      <td>SILVER SULFADIAZINE</td>\n",
       "      <td>32</td>\n",
       "      <td>39</td>\n",
       "      <td>751</td>\n",
       "      <td>373.45</td>\n",
       "      <td>21</td>\n",
       "      <td></td>\n",
       "      <td>24</td>\n",
       "      <td></td>\n",
       "      <td>484</td>\n",
       "      <td>220.64</td>\n",
       "    </tr>\n",
       "    <tr>\n",
       "      <th>4</th>\n",
       "      <td>1093796542</td>\n",
       "      <td>GREATHOUSE</td>\n",
       "      <td>MARK</td>\n",
       "      <td>PITTSBURGH</td>\n",
       "      <td>PA</td>\n",
       "      <td>Cardiology</td>\n",
       "      <td>S</td>\n",
       "      <td>AZOR</td>\n",
       "      <td>AMLODIPINE BES/OLMESARTAN MED</td>\n",
       "      <td>15</td>\n",
       "      <td>54</td>\n",
       "      <td>2970</td>\n",
       "      <td>13844.40</td>\n",
       "      <td>15</td>\n",
       "      <td></td>\n",
       "      <td>54</td>\n",
       "      <td></td>\n",
       "      <td>2970</td>\n",
       "      <td>13844.40</td>\n",
       "    </tr>\n",
       "  </tbody>\n",
       "</table>\n",
       "</div>"
      ],
      "text/plain": [
       "          npi nppes_provider_last_org_name nppes_provider_first_name  \\\n",
       "0  1417953134                      KELLOGG                   WILLIAM   \n",
       "1  1366428872                        NIGRO                      JEFF   \n",
       "2  1891724027                    CHEBANOVA                     ELENA   \n",
       "3  1013911098                     SAUNDERS                      NEIL   \n",
       "4  1093796542                   GREATHOUSE                      MARK   \n",
       "\n",
       "  nppes_provider_city nppes_provider_state specialty_description  \\\n",
       "0          POTTSVILLE                   PA         Ophthalmology   \n",
       "1         VANDERGRIFT                   PA              Podiatry   \n",
       "2              DENVER                   CO     Internal Medicine   \n",
       "3              TOLEDO                   OH              Podiatry   \n",
       "4          PITTSBURGH                   PA            Cardiology   \n",
       "\n",
       "  description_flag drug_name                   generic_name  bene_count  \\\n",
       "0                S       FML                FLUOROMETHOLONE          43   \n",
       "1                S       SSD            SILVER SULFADIAZINE          19   \n",
       "2                S       SSD            SILVER SULFADIAZINE          12   \n",
       "3                S       SSD            SILVER SULFADIAZINE          32   \n",
       "4                S      AZOR  AMLODIPINE BES/OLMESARTAN MED          15   \n",
       "\n",
       "   total_claim_count  total_day_supply  total_drug_cost  bene_count_ge65  \\\n",
       "0                 81              1970          7025.69               30   \n",
       "1                 22               307           193.07               19   \n",
       "2                 23               690           285.08               12   \n",
       "3                 39               751           373.45               21   \n",
       "4                 54              2970         13844.40               15   \n",
       "\n",
       "  bene_count_ge65_suppress_flag  total_claim_count_ge65 ge65_suppress_flag  \\\n",
       "0                                                    57                      \n",
       "1                                                    22                      \n",
       "2                                                    23                      \n",
       "3                                                    24                      \n",
       "4                                                    54                      \n",
       "\n",
       "   total_day_supply_ge65  total_drug_cost_ge65  \n",
       "0                   1332               4954.08  \n",
       "1                    307                193.07  \n",
       "2                    690                285.08  \n",
       "3                    484                220.64  \n",
       "4                   2970              13844.40  "
      ]
     },
     "execution_count": 68,
     "metadata": {},
     "output_type": "execute_result"
    }
   ],
   "source": [
    "client.list_rows(table_2014, max_results=5).to_dataframe()"
   ]
  },
  {
   "cell_type": "code",
   "execution_count": 65,
   "metadata": {
    "ExecuteTime": {
     "end_time": "2021-06-25T00:03:33.616960Z",
     "start_time": "2021-06-25T00:03:33.393756Z"
    }
   },
   "outputs": [
    {
     "data": {
      "text/plain": [
       "[SchemaField('npi', 'INTEGER', 'REQUIRED', 'National Provider Identifier', (), None),\n",
       " SchemaField('nppes_provider_last_org_name', 'STRING', 'NULLABLE', 'Last Name/Organization Name of the Provider', (), None),\n",
       " SchemaField('nppes_provider_first_name', 'STRING', 'NULLABLE', 'First Name of the Provider', (), None),\n",
       " SchemaField('nppes_provider_mi', 'STRING', 'NULLABLE', 'Middle Initial of the Provider', (), None),\n",
       " SchemaField('nppes_credentials', 'STRING', 'NULLABLE', 'Credentials of the Provider', (), None),\n",
       " SchemaField('nppes_provider_gender', 'STRING', 'NULLABLE', 'Gender of the Provider', (), None),\n",
       " SchemaField('nppes_entity_code', 'STRING', 'NULLABLE', 'Entity Type of the Provider', (), None),\n",
       " SchemaField('nppes_provider_street1', 'STRING', 'NULLABLE', 'Street Address 1 of the Provider', (), None),\n",
       " SchemaField('nppes_provider_street2', 'STRING', 'NULLABLE', 'Street Address 2 of the Provider', (), None),\n",
       " SchemaField('nppes_provider_city', 'STRING', 'NULLABLE', 'City of the Provider', (), None),\n",
       " SchemaField('nppes_provider_zip', 'STRING', 'NULLABLE', 'Zip Code of the Provider', (), None),\n",
       " SchemaField('nppes_provider_state', 'STRING', 'NULLABLE', 'State Code of the Provider', (), None),\n",
       " SchemaField('nppes_provider_country', 'STRING', 'NULLABLE', 'Country Code of the Provider', (), None),\n",
       " SchemaField('provider_type', 'STRING', 'NULLABLE', 'Provider Type of the Provider', (), None),\n",
       " SchemaField('medicare_participation_indicator', 'STRING', 'NULLABLE', 'Medicare Participation Indicator', (), None),\n",
       " SchemaField('place_of_service', 'STRING', 'REQUIRED', 'Place of Service', (), None),\n",
       " SchemaField('hcpcs_code', 'STRING', 'REQUIRED', 'HCPCS Code', (), None),\n",
       " SchemaField('hcpcs_description', 'STRING', 'NULLABLE', 'HCPCS Description', (), None),\n",
       " SchemaField('hcpcs_drug_indicator', 'STRING', 'NULLABLE', 'Identifies HCPCS As Drug Included in the ASP Drug List', (), None),\n",
       " SchemaField('line_srvc_cnt', 'FLOAT', 'NULLABLE', 'Number of Services', (), None),\n",
       " SchemaField('bene_unique_cnt', 'INTEGER', 'NULLABLE', 'Number of Medicare Beneficiaries', (), None),\n",
       " SchemaField('bene_day_srvc_cnt', 'INTEGER', 'NULLABLE', 'Number of Distinct Medicare Beneficiary/Per Day Services', (), None),\n",
       " SchemaField('average_medicare_allowed_amt', 'FLOAT', 'NULLABLE', 'Average Medicare Allowed Amount', (), None),\n",
       " SchemaField('average_submitted_chrg_amt', 'FLOAT', 'NULLABLE', 'Average Submitted Charge Amount', (), None),\n",
       " SchemaField('average_medicare_payment_amt', 'FLOAT', 'NULLABLE', 'Average Medicare Payment Amount', (), None),\n",
       " SchemaField('average_medicare_standard_amt', 'FLOAT', 'NULLABLE', 'Average Medicare Standardized Payment Amount', (), None)]"
      ]
     },
     "execution_count": 65,
     "metadata": {},
     "output_type": "execute_result"
    }
   ],
   "source": [
    "# Construct a reference to a given table\n",
    "table_ref = dataset_ref.table(\"physicians_and_other_supplier_2014\")\n",
    "\n",
    "# API request - fetch the table\n",
    "table = client.get_table(table_ref)\n",
    "table.schema"
   ]
  },
  {
   "cell_type": "code",
   "execution_count": 66,
   "metadata": {
    "ExecuteTime": {
     "end_time": "2021-06-25T00:03:37.899100Z",
     "start_time": "2021-06-25T00:03:37.006932Z"
    }
   },
   "outputs": [
    {
     "name": "stderr",
     "output_type": "stream",
     "text": [
      "/Users/Isabel/opt/anaconda3/lib/python3.8/site-packages/google/cloud/bigquery/table.py:1860: UserWarning: Cannot use bqstorage_client if max_results is set, reverting to fetching data with the REST endpoint.\n",
      "  if not self._validate_bqstorage(bqstorage_client, create_bqstorage_client):\n"
     ]
    },
    {
     "data": {
      "text/html": [
       "<div>\n",
       "<style scoped>\n",
       "    .dataframe tbody tr th:only-of-type {\n",
       "        vertical-align: middle;\n",
       "    }\n",
       "\n",
       "    .dataframe tbody tr th {\n",
       "        vertical-align: top;\n",
       "    }\n",
       "\n",
       "    .dataframe thead th {\n",
       "        text-align: right;\n",
       "    }\n",
       "</style>\n",
       "<table border=\"1\" class=\"dataframe\">\n",
       "  <thead>\n",
       "    <tr style=\"text-align: right;\">\n",
       "      <th></th>\n",
       "      <th>npi</th>\n",
       "      <th>nppes_provider_last_org_name</th>\n",
       "      <th>nppes_provider_first_name</th>\n",
       "      <th>nppes_provider_mi</th>\n",
       "      <th>nppes_credentials</th>\n",
       "      <th>nppes_provider_gender</th>\n",
       "      <th>nppes_entity_code</th>\n",
       "      <th>nppes_provider_street1</th>\n",
       "      <th>nppes_provider_street2</th>\n",
       "      <th>nppes_provider_city</th>\n",
       "      <th>nppes_provider_zip</th>\n",
       "      <th>nppes_provider_state</th>\n",
       "      <th>nppes_provider_country</th>\n",
       "      <th>provider_type</th>\n",
       "      <th>medicare_participation_indicator</th>\n",
       "      <th>place_of_service</th>\n",
       "      <th>hcpcs_code</th>\n",
       "      <th>hcpcs_description</th>\n",
       "      <th>hcpcs_drug_indicator</th>\n",
       "      <th>line_srvc_cnt</th>\n",
       "      <th>bene_unique_cnt</th>\n",
       "      <th>bene_day_srvc_cnt</th>\n",
       "      <th>average_medicare_allowed_amt</th>\n",
       "      <th>average_submitted_chrg_amt</th>\n",
       "      <th>average_medicare_payment_amt</th>\n",
       "      <th>average_medicare_standard_amt</th>\n",
       "    </tr>\n",
       "  </thead>\n",
       "  <tbody>\n",
       "    <tr>\n",
       "      <th>0</th>\n",
       "      <td>1053378265</td>\n",
       "      <td>NEW ENGLAND EYE SURGICAL CENTER INC</td>\n",
       "      <td></td>\n",
       "      <td></td>\n",
       "      <td></td>\n",
       "      <td></td>\n",
       "      <td>O</td>\n",
       "      <td>696 MAIN ST</td>\n",
       "      <td></td>\n",
       "      <td>WEYMOUTH</td>\n",
       "      <td>02190</td>\n",
       "      <td>MA</td>\n",
       "      <td>US</td>\n",
       "      <td>Ambulatory Surgical Center</td>\n",
       "      <td>Y</td>\n",
       "      <td>F</td>\n",
       "      <td>0191T</td>\n",
       "      <td>Internal insertion of eye fluid drainage device</td>\n",
       "      <td>N</td>\n",
       "      <td>21.0</td>\n",
       "      <td>18</td>\n",
       "      <td>21</td>\n",
       "      <td>1883.69</td>\n",
       "      <td>2500.000000</td>\n",
       "      <td>1476.81</td>\n",
       "      <td>1315.47000</td>\n",
       "    </tr>\n",
       "    <tr>\n",
       "      <th>1</th>\n",
       "      <td>1972532539</td>\n",
       "      <td>WILTON SURGERY CENTER LLC</td>\n",
       "      <td></td>\n",
       "      <td></td>\n",
       "      <td></td>\n",
       "      <td></td>\n",
       "      <td>O</td>\n",
       "      <td>195 DANBURY ROAD</td>\n",
       "      <td></td>\n",
       "      <td>WILTON</td>\n",
       "      <td>068974075</td>\n",
       "      <td>CT</td>\n",
       "      <td>US</td>\n",
       "      <td>Ambulatory Surgical Center</td>\n",
       "      <td>Y</td>\n",
       "      <td>F</td>\n",
       "      <td>0191T</td>\n",
       "      <td>Internal insertion of eye fluid drainage device</td>\n",
       "      <td>N</td>\n",
       "      <td>48.0</td>\n",
       "      <td>32</td>\n",
       "      <td>48</td>\n",
       "      <td>1950.73</td>\n",
       "      <td>7745.000000</td>\n",
       "      <td>1529.37</td>\n",
       "      <td>1319.92625</td>\n",
       "    </tr>\n",
       "    <tr>\n",
       "      <th>2</th>\n",
       "      <td>1720182835</td>\n",
       "      <td>LIMESTONE MEDICAL CENTER, INC</td>\n",
       "      <td></td>\n",
       "      <td></td>\n",
       "      <td></td>\n",
       "      <td></td>\n",
       "      <td>O</td>\n",
       "      <td>1941 LIMESTONE RD STE 113</td>\n",
       "      <td></td>\n",
       "      <td>WILMINGTON</td>\n",
       "      <td>198085413</td>\n",
       "      <td>DE</td>\n",
       "      <td>US</td>\n",
       "      <td>Ambulatory Surgical Center</td>\n",
       "      <td>Y</td>\n",
       "      <td>F</td>\n",
       "      <td>0191T</td>\n",
       "      <td>Internal insertion of eye fluid drainage device</td>\n",
       "      <td>N</td>\n",
       "      <td>13.0</td>\n",
       "      <td>11</td>\n",
       "      <td>13</td>\n",
       "      <td>1727.65</td>\n",
       "      <td>2012.307692</td>\n",
       "      <td>1354.48</td>\n",
       "      <td>1315.47000</td>\n",
       "    </tr>\n",
       "    <tr>\n",
       "      <th>3</th>\n",
       "      <td>1487765897</td>\n",
       "      <td>BAY MICROSURGICAL UNIT</td>\n",
       "      <td></td>\n",
       "      <td></td>\n",
       "      <td></td>\n",
       "      <td></td>\n",
       "      <td>O</td>\n",
       "      <td>1200 HIGHMARKET ST</td>\n",
       "      <td>STE 100</td>\n",
       "      <td>GEORGETOWN</td>\n",
       "      <td>294403227</td>\n",
       "      <td>SC</td>\n",
       "      <td>US</td>\n",
       "      <td>Ambulatory Surgical Center</td>\n",
       "      <td>Y</td>\n",
       "      <td>F</td>\n",
       "      <td>0191T</td>\n",
       "      <td>Internal insertion of eye fluid drainage device</td>\n",
       "      <td>N</td>\n",
       "      <td>27.0</td>\n",
       "      <td>20</td>\n",
       "      <td>27</td>\n",
       "      <td>1537.71</td>\n",
       "      <td>2000.000000</td>\n",
       "      <td>1205.57</td>\n",
       "      <td>1315.47000</td>\n",
       "    </tr>\n",
       "    <tr>\n",
       "      <th>4</th>\n",
       "      <td>1801811773</td>\n",
       "      <td>DUPAGE EYE SURGERY CENTER, LLC</td>\n",
       "      <td></td>\n",
       "      <td></td>\n",
       "      <td></td>\n",
       "      <td></td>\n",
       "      <td>O</td>\n",
       "      <td>2015 N MAIN ST</td>\n",
       "      <td></td>\n",
       "      <td>WHEATON</td>\n",
       "      <td>601873152</td>\n",
       "      <td>IL</td>\n",
       "      <td>US</td>\n",
       "      <td>Ambulatory Surgical Center</td>\n",
       "      <td>Y</td>\n",
       "      <td>F</td>\n",
       "      <td>0191T</td>\n",
       "      <td>Internal insertion of eye fluid drainage device</td>\n",
       "      <td>N</td>\n",
       "      <td>18.0</td>\n",
       "      <td>14</td>\n",
       "      <td>18</td>\n",
       "      <td>1712.97</td>\n",
       "      <td>1824.000000</td>\n",
       "      <td>1342.97</td>\n",
       "      <td>1315.47000</td>\n",
       "    </tr>\n",
       "  </tbody>\n",
       "</table>\n",
       "</div>"
      ],
      "text/plain": [
       "          npi         nppes_provider_last_org_name nppes_provider_first_name  \\\n",
       "0  1053378265  NEW ENGLAND EYE SURGICAL CENTER INC                             \n",
       "1  1972532539            WILTON SURGERY CENTER LLC                             \n",
       "2  1720182835        LIMESTONE MEDICAL CENTER, INC                             \n",
       "3  1487765897               BAY MICROSURGICAL UNIT                             \n",
       "4  1801811773       DUPAGE EYE SURGERY CENTER, LLC                             \n",
       "\n",
       "  nppes_provider_mi nppes_credentials nppes_provider_gender nppes_entity_code  \\\n",
       "0                                                                           O   \n",
       "1                                                                           O   \n",
       "2                                                                           O   \n",
       "3                                                                           O   \n",
       "4                                                                           O   \n",
       "\n",
       "      nppes_provider_street1 nppes_provider_street2 nppes_provider_city  \\\n",
       "0                696 MAIN ST                                   WEYMOUTH   \n",
       "1           195 DANBURY ROAD                                     WILTON   \n",
       "2  1941 LIMESTONE RD STE 113                                 WILMINGTON   \n",
       "3         1200 HIGHMARKET ST                STE 100          GEORGETOWN   \n",
       "4             2015 N MAIN ST                                    WHEATON   \n",
       "\n",
       "  nppes_provider_zip nppes_provider_state nppes_provider_country  \\\n",
       "0              02190                   MA                     US   \n",
       "1          068974075                   CT                     US   \n",
       "2          198085413                   DE                     US   \n",
       "3          294403227                   SC                     US   \n",
       "4          601873152                   IL                     US   \n",
       "\n",
       "                provider_type medicare_participation_indicator  \\\n",
       "0  Ambulatory Surgical Center                                Y   \n",
       "1  Ambulatory Surgical Center                                Y   \n",
       "2  Ambulatory Surgical Center                                Y   \n",
       "3  Ambulatory Surgical Center                                Y   \n",
       "4  Ambulatory Surgical Center                                Y   \n",
       "\n",
       "  place_of_service hcpcs_code  \\\n",
       "0                F      0191T   \n",
       "1                F      0191T   \n",
       "2                F      0191T   \n",
       "3                F      0191T   \n",
       "4                F      0191T   \n",
       "\n",
       "                                 hcpcs_description hcpcs_drug_indicator  \\\n",
       "0  Internal insertion of eye fluid drainage device                    N   \n",
       "1  Internal insertion of eye fluid drainage device                    N   \n",
       "2  Internal insertion of eye fluid drainage device                    N   \n",
       "3  Internal insertion of eye fluid drainage device                    N   \n",
       "4  Internal insertion of eye fluid drainage device                    N   \n",
       "\n",
       "   line_srvc_cnt  bene_unique_cnt  bene_day_srvc_cnt  \\\n",
       "0           21.0               18                 21   \n",
       "1           48.0               32                 48   \n",
       "2           13.0               11                 13   \n",
       "3           27.0               20                 27   \n",
       "4           18.0               14                 18   \n",
       "\n",
       "   average_medicare_allowed_amt  average_submitted_chrg_amt  \\\n",
       "0                       1883.69                 2500.000000   \n",
       "1                       1950.73                 7745.000000   \n",
       "2                       1727.65                 2012.307692   \n",
       "3                       1537.71                 2000.000000   \n",
       "4                       1712.97                 1824.000000   \n",
       "\n",
       "   average_medicare_payment_amt  average_medicare_standard_amt  \n",
       "0                       1476.81                     1315.47000  \n",
       "1                       1529.37                     1319.92625  \n",
       "2                       1354.48                     1315.47000  \n",
       "3                       1205.57                     1315.47000  \n",
       "4                       1342.97                     1315.47000  "
      ]
     },
     "execution_count": 66,
     "metadata": {},
     "output_type": "execute_result"
    }
   ],
   "source": [
    "client.list_rows(table, max_results=5).to_dataframe()"
   ]
  },
  {
   "cell_type": "code",
   "execution_count": 58,
   "metadata": {
    "ExecuteTime": {
     "end_time": "2021-06-24T23:44:28.250746Z",
     "start_time": "2021-06-24T23:44:28.183815Z"
    }
   },
   "outputs": [],
   "source": [
    "# table_ref = dataset_ref.table('inpatient_charges_2011', 'inpatient_charges_2012')\n",
    "# table = client.get_table(table_ref)"
   ]
  },
  {
   "cell_type": "code",
   "execution_count": 21,
   "metadata": {
    "ExecuteTime": {
     "end_time": "2021-06-24T21:33:09.405224Z",
     "start_time": "2021-06-24T21:33:09.399996Z"
    }
   },
   "outputs": [],
   "source": [
    "def most_common(category, N):\n",
    "    print(dict(Counter(df[category].values).most_common(N)))"
   ]
  },
  {
   "cell_type": "code",
   "execution_count": 27,
   "metadata": {
    "ExecuteTime": {
     "end_time": "2021-06-24T21:34:50.169486Z",
     "start_time": "2021-06-24T21:34:50.067451Z"
    }
   },
   "outputs": [
    {
     "name": "stdout",
     "output_type": "stream",
     "text": [
      "{'194 - SIMPLE PNEUMONIA & PLEURISY W CC': 3023, '690 - KIDNEY & URINARY TRACT INFECTIONS W/O MCC': 2989, '292 - HEART FAILURE & SHOCK W CC': 2953, '392 - ESOPHAGITIS, GASTROENT & MISC DIGEST DISORDERS W/O MCC': 2950, '641 - MISC DISORDERS OF NUTRITION,METABOLISM,FLUIDS/ELECTROLYTES W/O MCC': 2899}\n"
     ]
    }
   ],
   "source": [
    "category = 'drg_definition'\n",
    "N = 5\n",
    "most_common(category, N)"
   ]
  },
  {
   "cell_type": "code",
   "execution_count": 134,
   "metadata": {
    "ExecuteTime": {
     "end_time": "2021-06-25T01:54:44.361509Z",
     "start_time": "2021-06-25T01:54:44.356226Z"
    }
   },
   "outputs": [],
   "source": [
    "query = \"\"\" SELECT nppes_provider_state as state, \n",
    "                   COUNT(generic_name) as total_num_medications\n",
    "                    FROM bigquery-public-data.medicare.part_d_prescriber_2014\n",
    "                    WHERE (nppes_provider_state != 'AA' AND \n",
    "                                    nppes_provider_state != 'AE' AND \n",
    "                                    nppes_provider_state != 'AS' AND\n",
    "                                    nppes_provider_state != 'AP' AND\n",
    "                                    nppes_provider_state != 'GU' AND\n",
    "                                    nppes_provider_state != 'MP' AND\n",
    "                                    nppes_provider_state != 'PR' AND\n",
    "                                    nppes_provider_state != 'VI' AND\n",
    "                                    nppes_provider_state != 'XX' AND\n",
    "                                    nppes_provider_state != 'ZZ')\n",
    "                    GROUP BY 1\n",
    "                    ORDER BY 1\n",
    "              \"\"\""
   ]
  },
  {
   "cell_type": "code",
   "execution_count": 135,
   "metadata": {
    "ExecuteTime": {
     "end_time": "2021-06-25T01:54:48.276127Z",
     "start_time": "2021-06-25T01:54:46.114849Z"
    }
   },
   "outputs": [
    {
     "name": "stdout",
     "output_type": "stream",
     "text": [
      "51\n"
     ]
    },
    {
     "data": {
      "text/plain": [
       "state  total_num_medications\n",
       "AK     28790                    1\n",
       "PA     1229131                  1\n",
       "ND     66878                    1\n",
       "NE     166949                   1\n",
       "NH     103143                   1\n",
       "dtype: int64"
      ]
     },
     "execution_count": 135,
     "metadata": {},
     "output_type": "execute_result"
    }
   ],
   "source": [
    "query_job = client.query(query)\n",
    "tot_meds_per_state = query_job.to_dataframe()\n",
    "print(len(tot_meds_per_state))\n",
    "tot_meds_per_state.value_counts().head()"
   ]
  },
  {
   "cell_type": "code",
   "execution_count": 136,
   "metadata": {
    "ExecuteTime": {
     "end_time": "2021-06-25T01:54:50.275994Z",
     "start_time": "2021-06-25T01:54:50.266050Z"
    }
   },
   "outputs": [
    {
     "name": "stdout",
     "output_type": "stream",
     "text": [
      "   state  total_num_medications\n",
      "0     AK                  28790\n",
      "1     AL                 416439\n",
      "2     AR                 270039\n",
      "3     AZ                 422571\n",
      "4     CA                2314584\n",
      "5     CO                 310094\n",
      "6     CT                 285161\n",
      "7     DC                  40966\n",
      "8     DE                  68645\n",
      "9     FL                1611284\n",
      "10    GA                 665139\n",
      "11    HI                  79298\n",
      "12    IA                 287806\n",
      "13    ID                 112699\n",
      "14    IL                 866586\n",
      "15    IN                 536188\n",
      "16    KS                 245816\n",
      "17    KY                 451310\n",
      "18    LA                 394543\n",
      "19    MA                 557205\n",
      "20    MD                 337520\n",
      "21    ME                 138406\n",
      "22    MI                 824255\n",
      "23    MN                 401268\n",
      "24    MO                 553268\n",
      "25    MS                 269130\n",
      "26    MT                  79668\n",
      "27    NC                 876333\n",
      "28    ND                  66878\n",
      "29    NE                 166949\n",
      "30    NH                 103143\n",
      "31    NJ                 650290\n",
      "32    NM                 131202\n",
      "33    NV                 149881\n",
      "34    NY                1650394\n",
      "35    OH                1001898\n",
      "36    OK                 290348\n",
      "37    OR                 317060\n",
      "38    PA                1229131\n",
      "39    RI                 100822\n",
      "40    SC                 403898\n",
      "41    SD                  75409\n",
      "42    TN                 634787\n",
      "43    TX                1472280\n",
      "44    UT                 137469\n",
      "45    VA                 532061\n",
      "46    VT                  53724\n",
      "47    WA                 458158\n",
      "48    WI                 463205\n",
      "49    WV                 205156\n",
      "50    WY                  34778\n"
     ]
    }
   ],
   "source": [
    "print(tot_meds_per_state)"
   ]
  },
  {
   "cell_type": "code",
   "execution_count": 124,
   "metadata": {
    "ExecuteTime": {
     "end_time": "2021-06-25T01:37:49.236951Z",
     "start_time": "2021-06-25T01:37:46.977980Z"
    }
   },
   "outputs": [
    {
     "data": {
      "image/png": "[encoded data removed]",
      "text/plain": [
       "<Figure size 1440x360 with 1 Axes>"
      ]
     },
     "metadata": {},
     "output_type": "display_data"
    }
   ],
   "source": [
    "plt.rcParams[\"figure.figsize\"] = (20,5)\n",
    "x = tot_meds_per_state['state'].values\n",
    "height  = tot_meds_per_state['total_num_medications'].values\n",
    "plt.bar(x, height)\n",
    "plt.show()"
   ]
  },
  {
   "cell_type": "code",
   "execution_count": 128,
   "metadata": {
    "ExecuteTime": {
     "end_time": "2021-06-25T01:47:31.549157Z",
     "start_time": "2021-06-25T01:47:31.533630Z"
    }
   },
   "outputs": [],
   "source": [
    "tot_meds_per_state_sorted = tot_meds_per_state.sort_values(by=['total_num_medications'], ascending=False)"
   ]
  },
  {
   "cell_type": "code",
   "execution_count": 129,
   "metadata": {
    "ExecuteTime": {
     "end_time": "2021-06-25T01:47:35.600515Z",
     "start_time": "2021-06-25T01:47:35.561874Z"
    }
   },
   "outputs": [
    {
     "data": {
      "text/html": [
       "<div>\n",
       "<style scoped>\n",
       "    .dataframe tbody tr th:only-of-type {\n",
       "        vertical-align: middle;\n",
       "    }\n",
       "\n",
       "    .dataframe tbody tr th {\n",
       "        vertical-align: top;\n",
       "    }\n",
       "\n",
       "    .dataframe thead th {\n",
       "        text-align: right;\n",
       "    }\n",
       "</style>\n",
       "<table border=\"1\" class=\"dataframe\">\n",
       "  <thead>\n",
       "    <tr style=\"text-align: right;\">\n",
       "      <th></th>\n",
       "      <th>state</th>\n",
       "      <th>total_num_medications</th>\n",
       "    </tr>\n",
       "  </thead>\n",
       "  <tbody>\n",
       "    <tr>\n",
       "      <th>4</th>\n",
       "      <td>CA</td>\n",
       "      <td>2314584</td>\n",
       "    </tr>\n",
       "    <tr>\n",
       "      <th>34</th>\n",
       "      <td>NY</td>\n",
       "      <td>1650394</td>\n",
       "    </tr>\n",
       "    <tr>\n",
       "      <th>9</th>\n",
       "      <td>FL</td>\n",
       "      <td>1611284</td>\n",
       "    </tr>\n",
       "    <tr>\n",
       "      <th>43</th>\n",
       "      <td>TX</td>\n",
       "      <td>1472280</td>\n",
       "    </tr>\n",
       "    <tr>\n",
       "      <th>38</th>\n",
       "      <td>PA</td>\n",
       "      <td>1229131</td>\n",
       "    </tr>\n",
       "    <tr>\n",
       "      <th>35</th>\n",
       "      <td>OH</td>\n",
       "      <td>1001898</td>\n",
       "    </tr>\n",
       "    <tr>\n",
       "      <th>27</th>\n",
       "      <td>NC</td>\n",
       "      <td>876333</td>\n",
       "    </tr>\n",
       "    <tr>\n",
       "      <th>14</th>\n",
       "      <td>IL</td>\n",
       "      <td>866586</td>\n",
       "    </tr>\n",
       "    <tr>\n",
       "      <th>22</th>\n",
       "      <td>MI</td>\n",
       "      <td>824255</td>\n",
       "    </tr>\n",
       "    <tr>\n",
       "      <th>10</th>\n",
       "      <td>GA</td>\n",
       "      <td>665139</td>\n",
       "    </tr>\n",
       "    <tr>\n",
       "      <th>31</th>\n",
       "      <td>NJ</td>\n",
       "      <td>650290</td>\n",
       "    </tr>\n",
       "    <tr>\n",
       "      <th>42</th>\n",
       "      <td>TN</td>\n",
       "      <td>634787</td>\n",
       "    </tr>\n",
       "    <tr>\n",
       "      <th>19</th>\n",
       "      <td>MA</td>\n",
       "      <td>557205</td>\n",
       "    </tr>\n",
       "    <tr>\n",
       "      <th>24</th>\n",
       "      <td>MO</td>\n",
       "      <td>553268</td>\n",
       "    </tr>\n",
       "    <tr>\n",
       "      <th>15</th>\n",
       "      <td>IN</td>\n",
       "      <td>536188</td>\n",
       "    </tr>\n",
       "    <tr>\n",
       "      <th>45</th>\n",
       "      <td>VA</td>\n",
       "      <td>532061</td>\n",
       "    </tr>\n",
       "    <tr>\n",
       "      <th>48</th>\n",
       "      <td>WI</td>\n",
       "      <td>463205</td>\n",
       "    </tr>\n",
       "    <tr>\n",
       "      <th>47</th>\n",
       "      <td>WA</td>\n",
       "      <td>458158</td>\n",
       "    </tr>\n",
       "    <tr>\n",
       "      <th>17</th>\n",
       "      <td>KY</td>\n",
       "      <td>451310</td>\n",
       "    </tr>\n",
       "    <tr>\n",
       "      <th>3</th>\n",
       "      <td>AZ</td>\n",
       "      <td>422571</td>\n",
       "    </tr>\n",
       "    <tr>\n",
       "      <th>1</th>\n",
       "      <td>AL</td>\n",
       "      <td>416439</td>\n",
       "    </tr>\n",
       "    <tr>\n",
       "      <th>40</th>\n",
       "      <td>SC</td>\n",
       "      <td>403898</td>\n",
       "    </tr>\n",
       "    <tr>\n",
       "      <th>23</th>\n",
       "      <td>MN</td>\n",
       "      <td>401268</td>\n",
       "    </tr>\n",
       "    <tr>\n",
       "      <th>18</th>\n",
       "      <td>LA</td>\n",
       "      <td>394543</td>\n",
       "    </tr>\n",
       "    <tr>\n",
       "      <th>20</th>\n",
       "      <td>MD</td>\n",
       "      <td>337520</td>\n",
       "    </tr>\n",
       "    <tr>\n",
       "      <th>37</th>\n",
       "      <td>OR</td>\n",
       "      <td>317060</td>\n",
       "    </tr>\n",
       "    <tr>\n",
       "      <th>5</th>\n",
       "      <td>CO</td>\n",
       "      <td>310094</td>\n",
       "    </tr>\n",
       "    <tr>\n",
       "      <th>36</th>\n",
       "      <td>OK</td>\n",
       "      <td>290348</td>\n",
       "    </tr>\n",
       "    <tr>\n",
       "      <th>12</th>\n",
       "      <td>IA</td>\n",
       "      <td>287806</td>\n",
       "    </tr>\n",
       "    <tr>\n",
       "      <th>6</th>\n",
       "      <td>CT</td>\n",
       "      <td>285161</td>\n",
       "    </tr>\n",
       "    <tr>\n",
       "      <th>2</th>\n",
       "      <td>AR</td>\n",
       "      <td>270039</td>\n",
       "    </tr>\n",
       "    <tr>\n",
       "      <th>25</th>\n",
       "      <td>MS</td>\n",
       "      <td>269130</td>\n",
       "    </tr>\n",
       "    <tr>\n",
       "      <th>16</th>\n",
       "      <td>KS</td>\n",
       "      <td>245816</td>\n",
       "    </tr>\n",
       "    <tr>\n",
       "      <th>49</th>\n",
       "      <td>WV</td>\n",
       "      <td>205156</td>\n",
       "    </tr>\n",
       "    <tr>\n",
       "      <th>29</th>\n",
       "      <td>NE</td>\n",
       "      <td>166949</td>\n",
       "    </tr>\n",
       "    <tr>\n",
       "      <th>33</th>\n",
       "      <td>NV</td>\n",
       "      <td>149881</td>\n",
       "    </tr>\n",
       "    <tr>\n",
       "      <th>21</th>\n",
       "      <td>ME</td>\n",
       "      <td>138406</td>\n",
       "    </tr>\n",
       "    <tr>\n",
       "      <th>44</th>\n",
       "      <td>UT</td>\n",
       "      <td>137469</td>\n",
       "    </tr>\n",
       "    <tr>\n",
       "      <th>32</th>\n",
       "      <td>NM</td>\n",
       "      <td>131202</td>\n",
       "    </tr>\n",
       "    <tr>\n",
       "      <th>13</th>\n",
       "      <td>ID</td>\n",
       "      <td>112699</td>\n",
       "    </tr>\n",
       "    <tr>\n",
       "      <th>30</th>\n",
       "      <td>NH</td>\n",
       "      <td>103143</td>\n",
       "    </tr>\n",
       "    <tr>\n",
       "      <th>39</th>\n",
       "      <td>RI</td>\n",
       "      <td>100822</td>\n",
       "    </tr>\n",
       "    <tr>\n",
       "      <th>26</th>\n",
       "      <td>MT</td>\n",
       "      <td>79668</td>\n",
       "    </tr>\n",
       "    <tr>\n",
       "      <th>11</th>\n",
       "      <td>HI</td>\n",
       "      <td>79298</td>\n",
       "    </tr>\n",
       "    <tr>\n",
       "      <th>41</th>\n",
       "      <td>SD</td>\n",
       "      <td>75409</td>\n",
       "    </tr>\n",
       "    <tr>\n",
       "      <th>8</th>\n",
       "      <td>DE</td>\n",
       "      <td>68645</td>\n",
       "    </tr>\n",
       "    <tr>\n",
       "      <th>28</th>\n",
       "      <td>ND</td>\n",
       "      <td>66878</td>\n",
       "    </tr>\n",
       "    <tr>\n",
       "      <th>46</th>\n",
       "      <td>VT</td>\n",
       "      <td>53724</td>\n",
       "    </tr>\n",
       "    <tr>\n",
       "      <th>7</th>\n",
       "      <td>DC</td>\n",
       "      <td>40966</td>\n",
       "    </tr>\n",
       "    <tr>\n",
       "      <th>50</th>\n",
       "      <td>WY</td>\n",
       "      <td>34778</td>\n",
       "    </tr>\n",
       "    <tr>\n",
       "      <th>0</th>\n",
       "      <td>AK</td>\n",
       "      <td>28790</td>\n",
       "    </tr>\n",
       "  </tbody>\n",
       "</table>\n",
       "</div>"
      ],
      "text/plain": [
       "   state  total_num_medications\n",
       "4     CA                2314584\n",
       "34    NY                1650394\n",
       "9     FL                1611284\n",
       "43    TX                1472280\n",
       "38    PA                1229131\n",
       "35    OH                1001898\n",
       "27    NC                 876333\n",
       "14    IL                 866586\n",
       "22    MI                 824255\n",
       "10    GA                 665139\n",
       "31    NJ                 650290\n",
       "42    TN                 634787\n",
       "19    MA                 557205\n",
       "24    MO                 553268\n",
       "15    IN                 536188\n",
       "45    VA                 532061\n",
       "48    WI                 463205\n",
       "47    WA                 458158\n",
       "17    KY                 451310\n",
       "3     AZ                 422571\n",
       "1     AL                 416439\n",
       "40    SC                 403898\n",
       "23    MN                 401268\n",
       "18    LA                 394543\n",
       "20    MD                 337520\n",
       "37    OR                 317060\n",
       "5     CO                 310094\n",
       "36    OK                 290348\n",
       "12    IA                 287806\n",
       "6     CT                 285161\n",
       "2     AR                 270039\n",
       "25    MS                 269130\n",
       "16    KS                 245816\n",
       "49    WV                 205156\n",
       "29    NE                 166949\n",
       "33    NV                 149881\n",
       "21    ME                 138406\n",
       "44    UT                 137469\n",
       "32    NM                 131202\n",
       "13    ID                 112699\n",
       "30    NH                 103143\n",
       "39    RI                 100822\n",
       "26    MT                  79668\n",
       "11    HI                  79298\n",
       "41    SD                  75409\n",
       "8     DE                  68645\n",
       "28    ND                  66878\n",
       "46    VT                  53724\n",
       "7     DC                  40966\n",
       "50    WY                  34778\n",
       "0     AK                  28790"
      ]
     },
     "execution_count": 129,
     "metadata": {},
     "output_type": "execute_result"
    }
   ],
   "source": [
    "tot_meds_per_state_sorted"
   ]
  },
  {
   "cell_type": "code",
   "execution_count": 130,
   "metadata": {
    "ExecuteTime": {
     "end_time": "2021-06-25T01:48:01.502234Z",
     "start_time": "2021-06-25T01:47:59.054678Z"
    }
   },
   "outputs": [
    {
     "data": {
      "image/png": "[encoded data removed]",
      "text/plain": [
       "<Figure size 1440x360 with 1 Axes>"
      ]
     },
     "metadata": {},
     "output_type": "display_data"
    }
   ],
   "source": [
    "plt.rcParams[\"figure.figsize\"] = (20,5)\n",
    "x = tot_meds_per_state_sorted['state'].values\n",
    "height  = tot_meds_per_state_sorted['total_num_medications'].values\n",
    "plt.bar(x, height)\n",
    "plt.show()"
   ]
  },
  {
   "cell_type": "code",
   "execution_count": 167,
   "metadata": {
    "ExecuteTime": {
     "end_time": "2021-06-25T02:42:19.447742Z",
     "start_time": "2021-06-25T02:42:19.441518Z"
    }
   },
   "outputs": [],
   "source": [
    "query = \"\"\" SELECT * FROM (SELECT nppes_provider_state as state, \n",
    "                                                  generic_name as medication_perscribed,\n",
    "                                                  COUNT(generic_name) as num_perscribed,\n",
    "                                                   ROW_NUMBER() OVER (PARTITION BY nppes_provider_state \n",
    "                                                                                              ORDER BY COUNT(generic_name) DESC) as rank \n",
    "                                                   FROM bigquery-public-data.medicare.part_d_prescriber_2014\n",
    "                                                   WHERE (nppes_provider_state != 'AA' AND \n",
    "                                                                    nppes_provider_state != 'AE' AND \n",
    "                                                                    nppes_provider_state != 'AS' AND\n",
    "                                                                    nppes_provider_state != 'AP' AND\n",
    "                                                                    nppes_provider_state != 'GU' AND\n",
    "                                                                    nppes_provider_state != 'MP' AND\n",
    "                                                                    nppes_provider_state != 'PR' AND\n",
    "                                                                    nppes_provider_state != 'VI' AND\n",
    "                                                                    nppes_provider_state != 'XX' AND\n",
    "                                                                    nppes_provider_state != 'ZZ')\n",
    "                                                   GROUP BY 1, 2\n",
    "                                                   ORDER BY 1, 3 DESC) as ranks\n",
    "                   WHERE rank = 1;\n",
    "              \"\"\""
   ]
  },
  {
   "cell_type": "code",
   "execution_count": 170,
   "metadata": {
    "ExecuteTime": {
     "end_time": "2021-06-25T02:43:01.329223Z",
     "start_time": "2021-06-25T02:42:58.868681Z"
    }
   },
   "outputs": [
    {
     "name": "stdout",
     "output_type": "stream",
     "text": [
      "51\n"
     ]
    },
    {
     "data": {
      "text/plain": [
       "state  medication_perscribed      num_perscribed  rank\n",
       "AK     HYDROCODONE/ACETAMINOPHEN  678             1       1\n",
       "PA     POTASSIUM CHLORIDE         18141           1       1\n",
       "ND     POTASSIUM CHLORIDE         1018            1       1\n",
       "NE     LEVOTHYROXINE SODIUM       2422            1       1\n",
       "NH     LEVOTHYROXINE SODIUM       1745            1       1\n",
       "dtype: int64"
      ]
     },
     "execution_count": 170,
     "metadata": {},
     "output_type": "execute_result"
    }
   ],
   "source": [
    "query_job = client.query(query)\n",
    "most_common_perscription = query_job.to_dataframe()\n",
    "print(len(most_common_perscription))\n",
    "most_common_perscription.value_counts().head()"
   ]
  },
  {
   "cell_type": "code",
   "execution_count": 176,
   "metadata": {
    "ExecuteTime": {
     "end_time": "2021-06-25T02:46:56.843974Z",
     "start_time": "2021-06-25T02:46:56.811403Z"
    }
   },
   "outputs": [
    {
     "data": {
      "text/html": [
       "<div>\n",
       "<style scoped>\n",
       "    .dataframe tbody tr th:only-of-type {\n",
       "        vertical-align: middle;\n",
       "    }\n",
       "\n",
       "    .dataframe tbody tr th {\n",
       "        vertical-align: top;\n",
       "    }\n",
       "\n",
       "    .dataframe thead th {\n",
       "        text-align: right;\n",
       "    }\n",
       "</style>\n",
       "<table border=\"1\" class=\"dataframe\">\n",
       "  <thead>\n",
       "    <tr style=\"text-align: right;\">\n",
       "      <th></th>\n",
       "      <th>state</th>\n",
       "      <th>medication_perscribed</th>\n",
       "      <th>num_perscribed</th>\n",
       "      <th>rank</th>\n",
       "    </tr>\n",
       "  </thead>\n",
       "  <tbody>\n",
       "    <tr>\n",
       "      <th>0</th>\n",
       "      <td>AK</td>\n",
       "      <td>HYDROCODONE/ACETAMINOPHEN</td>\n",
       "      <td>678</td>\n",
       "      <td>1</td>\n",
       "    </tr>\n",
       "    <tr>\n",
       "      <th>1</th>\n",
       "      <td>AL</td>\n",
       "      <td>POTASSIUM CHLORIDE</td>\n",
       "      <td>6595</td>\n",
       "      <td>1</td>\n",
       "    </tr>\n",
       "    <tr>\n",
       "      <th>2</th>\n",
       "      <td>AR</td>\n",
       "      <td>POTASSIUM CHLORIDE</td>\n",
       "      <td>4218</td>\n",
       "      <td>1</td>\n",
       "    </tr>\n",
       "    <tr>\n",
       "      <th>3</th>\n",
       "      <td>AZ</td>\n",
       "      <td>HYDROCODONE/ACETAMINOPHEN</td>\n",
       "      <td>7136</td>\n",
       "      <td>1</td>\n",
       "    </tr>\n",
       "    <tr>\n",
       "      <th>4</th>\n",
       "      <td>CA</td>\n",
       "      <td>HYDROCODONE/ACETAMINOPHEN</td>\n",
       "      <td>40966</td>\n",
       "      <td>1</td>\n",
       "    </tr>\n",
       "    <tr>\n",
       "      <th>5</th>\n",
       "      <td>CO</td>\n",
       "      <td>HYDROCODONE/ACETAMINOPHEN</td>\n",
       "      <td>6082</td>\n",
       "      <td>1</td>\n",
       "    </tr>\n",
       "    <tr>\n",
       "      <th>6</th>\n",
       "      <td>CT</td>\n",
       "      <td>LEVOTHYROXINE SODIUM</td>\n",
       "      <td>4143</td>\n",
       "      <td>1</td>\n",
       "    </tr>\n",
       "    <tr>\n",
       "      <th>7</th>\n",
       "      <td>DC</td>\n",
       "      <td>LISINOPRIL</td>\n",
       "      <td>866</td>\n",
       "      <td>1</td>\n",
       "    </tr>\n",
       "    <tr>\n",
       "      <th>8</th>\n",
       "      <td>DE</td>\n",
       "      <td>LEVOTHYROXINE SODIUM</td>\n",
       "      <td>1004</td>\n",
       "      <td>1</td>\n",
       "    </tr>\n",
       "    <tr>\n",
       "      <th>9</th>\n",
       "      <td>FL</td>\n",
       "      <td>LEVOTHYROXINE SODIUM</td>\n",
       "      <td>21601</td>\n",
       "      <td>1</td>\n",
       "    </tr>\n",
       "    <tr>\n",
       "      <th>10</th>\n",
       "      <td>GA</td>\n",
       "      <td>POTASSIUM CHLORIDE</td>\n",
       "      <td>10732</td>\n",
       "      <td>1</td>\n",
       "    </tr>\n",
       "    <tr>\n",
       "      <th>11</th>\n",
       "      <td>HI</td>\n",
       "      <td>LEVOTHYROXINE SODIUM</td>\n",
       "      <td>1184</td>\n",
       "      <td>1</td>\n",
       "    </tr>\n",
       "    <tr>\n",
       "      <th>12</th>\n",
       "      <td>IA</td>\n",
       "      <td>HYDROCODONE/ACETAMINOPHEN</td>\n",
       "      <td>3864</td>\n",
       "      <td>1</td>\n",
       "    </tr>\n",
       "    <tr>\n",
       "      <th>13</th>\n",
       "      <td>ID</td>\n",
       "      <td>HYDROCODONE/ACETAMINOPHEN</td>\n",
       "      <td>2319</td>\n",
       "      <td>1</td>\n",
       "    </tr>\n",
       "    <tr>\n",
       "      <th>14</th>\n",
       "      <td>IL</td>\n",
       "      <td>HYDROCODONE/ACETAMINOPHEN</td>\n",
       "      <td>14493</td>\n",
       "      <td>1</td>\n",
       "    </tr>\n",
       "    <tr>\n",
       "      <th>15</th>\n",
       "      <td>IN</td>\n",
       "      <td>POTASSIUM CHLORIDE</td>\n",
       "      <td>9219</td>\n",
       "      <td>1</td>\n",
       "    </tr>\n",
       "    <tr>\n",
       "      <th>16</th>\n",
       "      <td>KS</td>\n",
       "      <td>HYDROCODONE/ACETAMINOPHEN</td>\n",
       "      <td>3913</td>\n",
       "      <td>1</td>\n",
       "    </tr>\n",
       "    <tr>\n",
       "      <th>17</th>\n",
       "      <td>KY</td>\n",
       "      <td>POTASSIUM CHLORIDE</td>\n",
       "      <td>7040</td>\n",
       "      <td>1</td>\n",
       "    </tr>\n",
       "    <tr>\n",
       "      <th>18</th>\n",
       "      <td>LA</td>\n",
       "      <td>HYDROCODONE/ACETAMINOPHEN</td>\n",
       "      <td>5988</td>\n",
       "      <td>1</td>\n",
       "    </tr>\n",
       "    <tr>\n",
       "      <th>19</th>\n",
       "      <td>MA</td>\n",
       "      <td>LEVOTHYROXINE SODIUM</td>\n",
       "      <td>8652</td>\n",
       "      <td>1</td>\n",
       "    </tr>\n",
       "    <tr>\n",
       "      <th>20</th>\n",
       "      <td>MD</td>\n",
       "      <td>LEVOTHYROXINE SODIUM</td>\n",
       "      <td>5225</td>\n",
       "      <td>1</td>\n",
       "    </tr>\n",
       "    <tr>\n",
       "      <th>21</th>\n",
       "      <td>ME</td>\n",
       "      <td>ALBUTEROL SULFATE</td>\n",
       "      <td>2122</td>\n",
       "      <td>1</td>\n",
       "    </tr>\n",
       "    <tr>\n",
       "      <th>22</th>\n",
       "      <td>MI</td>\n",
       "      <td>HYDROCODONE/ACETAMINOPHEN</td>\n",
       "      <td>15915</td>\n",
       "      <td>1</td>\n",
       "    </tr>\n",
       "    <tr>\n",
       "      <th>23</th>\n",
       "      <td>MN</td>\n",
       "      <td>HYDROCODONE/ACETAMINOPHEN</td>\n",
       "      <td>6039</td>\n",
       "      <td>1</td>\n",
       "    </tr>\n",
       "    <tr>\n",
       "      <th>24</th>\n",
       "      <td>MO</td>\n",
       "      <td>POTASSIUM CHLORIDE</td>\n",
       "      <td>8240</td>\n",
       "      <td>1</td>\n",
       "    </tr>\n",
       "    <tr>\n",
       "      <th>25</th>\n",
       "      <td>MS</td>\n",
       "      <td>POTASSIUM CHLORIDE</td>\n",
       "      <td>4306</td>\n",
       "      <td>1</td>\n",
       "    </tr>\n",
       "    <tr>\n",
       "      <th>26</th>\n",
       "      <td>MT</td>\n",
       "      <td>HYDROCODONE/ACETAMINOPHEN</td>\n",
       "      <td>1542</td>\n",
       "      <td>1</td>\n",
       "    </tr>\n",
       "    <tr>\n",
       "      <th>27</th>\n",
       "      <td>NC</td>\n",
       "      <td>POTASSIUM CHLORIDE</td>\n",
       "      <td>12929</td>\n",
       "      <td>1</td>\n",
       "    </tr>\n",
       "    <tr>\n",
       "      <th>28</th>\n",
       "      <td>ND</td>\n",
       "      <td>POTASSIUM CHLORIDE</td>\n",
       "      <td>1018</td>\n",
       "      <td>1</td>\n",
       "    </tr>\n",
       "    <tr>\n",
       "      <th>29</th>\n",
       "      <td>NE</td>\n",
       "      <td>LEVOTHYROXINE SODIUM</td>\n",
       "      <td>2422</td>\n",
       "      <td>1</td>\n",
       "    </tr>\n",
       "    <tr>\n",
       "      <th>30</th>\n",
       "      <td>NH</td>\n",
       "      <td>LEVOTHYROXINE SODIUM</td>\n",
       "      <td>1745</td>\n",
       "      <td>1</td>\n",
       "    </tr>\n",
       "    <tr>\n",
       "      <th>31</th>\n",
       "      <td>NJ</td>\n",
       "      <td>LEVOTHYROXINE SODIUM</td>\n",
       "      <td>9587</td>\n",
       "      <td>1</td>\n",
       "    </tr>\n",
       "    <tr>\n",
       "      <th>32</th>\n",
       "      <td>NM</td>\n",
       "      <td>LEVOTHYROXINE SODIUM</td>\n",
       "      <td>2395</td>\n",
       "      <td>1</td>\n",
       "    </tr>\n",
       "    <tr>\n",
       "      <th>33</th>\n",
       "      <td>NV</td>\n",
       "      <td>HYDROCODONE/ACETAMINOPHEN</td>\n",
       "      <td>2979</td>\n",
       "      <td>1</td>\n",
       "    </tr>\n",
       "    <tr>\n",
       "      <th>34</th>\n",
       "      <td>NY</td>\n",
       "      <td>LEVOTHYROXINE SODIUM</td>\n",
       "      <td>24089</td>\n",
       "      <td>1</td>\n",
       "    </tr>\n",
       "    <tr>\n",
       "      <th>35</th>\n",
       "      <td>OH</td>\n",
       "      <td>POTASSIUM CHLORIDE</td>\n",
       "      <td>16721</td>\n",
       "      <td>1</td>\n",
       "    </tr>\n",
       "    <tr>\n",
       "      <th>36</th>\n",
       "      <td>OK</td>\n",
       "      <td>HYDROCODONE/ACETAMINOPHEN</td>\n",
       "      <td>5081</td>\n",
       "      <td>1</td>\n",
       "    </tr>\n",
       "    <tr>\n",
       "      <th>37</th>\n",
       "      <td>OR</td>\n",
       "      <td>HYDROCODONE/ACETAMINOPHEN</td>\n",
       "      <td>5971</td>\n",
       "      <td>1</td>\n",
       "    </tr>\n",
       "    <tr>\n",
       "      <th>38</th>\n",
       "      <td>PA</td>\n",
       "      <td>POTASSIUM CHLORIDE</td>\n",
       "      <td>18141</td>\n",
       "      <td>1</td>\n",
       "    </tr>\n",
       "    <tr>\n",
       "      <th>39</th>\n",
       "      <td>RI</td>\n",
       "      <td>LEVOTHYROXINE SODIUM</td>\n",
       "      <td>1356</td>\n",
       "      <td>1</td>\n",
       "    </tr>\n",
       "    <tr>\n",
       "      <th>40</th>\n",
       "      <td>SC</td>\n",
       "      <td>POTASSIUM CHLORIDE</td>\n",
       "      <td>6319</td>\n",
       "      <td>1</td>\n",
       "    </tr>\n",
       "    <tr>\n",
       "      <th>41</th>\n",
       "      <td>SD</td>\n",
       "      <td>HYDROCODONE/ACETAMINOPHEN</td>\n",
       "      <td>1200</td>\n",
       "      <td>1</td>\n",
       "    </tr>\n",
       "    <tr>\n",
       "      <th>42</th>\n",
       "      <td>TN</td>\n",
       "      <td>HYDROCODONE/ACETAMINOPHEN</td>\n",
       "      <td>10367</td>\n",
       "      <td>1</td>\n",
       "    </tr>\n",
       "    <tr>\n",
       "      <th>43</th>\n",
       "      <td>TX</td>\n",
       "      <td>HYDROCODONE/ACETAMINOPHEN</td>\n",
       "      <td>25009</td>\n",
       "      <td>1</td>\n",
       "    </tr>\n",
       "    <tr>\n",
       "      <th>44</th>\n",
       "      <td>UT</td>\n",
       "      <td>HYDROCODONE/ACETAMINOPHEN</td>\n",
       "      <td>2971</td>\n",
       "      <td>1</td>\n",
       "    </tr>\n",
       "    <tr>\n",
       "      <th>45</th>\n",
       "      <td>VA</td>\n",
       "      <td>POTASSIUM CHLORIDE</td>\n",
       "      <td>7805</td>\n",
       "      <td>1</td>\n",
       "    </tr>\n",
       "    <tr>\n",
       "      <th>46</th>\n",
       "      <td>VT</td>\n",
       "      <td>LEVOTHYROXINE SODIUM</td>\n",
       "      <td>796</td>\n",
       "      <td>1</td>\n",
       "    </tr>\n",
       "    <tr>\n",
       "      <th>47</th>\n",
       "      <td>WA</td>\n",
       "      <td>HYDROCODONE/ACETAMINOPHEN</td>\n",
       "      <td>8810</td>\n",
       "      <td>1</td>\n",
       "    </tr>\n",
       "    <tr>\n",
       "      <th>48</th>\n",
       "      <td>WI</td>\n",
       "      <td>HYDROCODONE/ACETAMINOPHEN</td>\n",
       "      <td>7487</td>\n",
       "      <td>1</td>\n",
       "    </tr>\n",
       "    <tr>\n",
       "      <th>49</th>\n",
       "      <td>WV</td>\n",
       "      <td>POTASSIUM CHLORIDE</td>\n",
       "      <td>3174</td>\n",
       "      <td>1</td>\n",
       "    </tr>\n",
       "    <tr>\n",
       "      <th>50</th>\n",
       "      <td>WY</td>\n",
       "      <td>HYDROCODONE/ACETAMINOPHEN</td>\n",
       "      <td>683</td>\n",
       "      <td>1</td>\n",
       "    </tr>\n",
       "  </tbody>\n",
       "</table>\n",
       "</div>"
      ],
      "text/plain": [
       "   state      medication_perscribed  num_perscribed  rank\n",
       "0     AK  HYDROCODONE/ACETAMINOPHEN             678     1\n",
       "1     AL         POTASSIUM CHLORIDE            6595     1\n",
       "2     AR         POTASSIUM CHLORIDE            4218     1\n",
       "3     AZ  HYDROCODONE/ACETAMINOPHEN            7136     1\n",
       "4     CA  HYDROCODONE/ACETAMINOPHEN           40966     1\n",
       "5     CO  HYDROCODONE/ACETAMINOPHEN            6082     1\n",
       "6     CT       LEVOTHYROXINE SODIUM            4143     1\n",
       "7     DC                 LISINOPRIL             866     1\n",
       "8     DE       LEVOTHYROXINE SODIUM            1004     1\n",
       "9     FL       LEVOTHYROXINE SODIUM           21601     1\n",
       "10    GA         POTASSIUM CHLORIDE           10732     1\n",
       "11    HI       LEVOTHYROXINE SODIUM            1184     1\n",
       "12    IA  HYDROCODONE/ACETAMINOPHEN            3864     1\n",
       "13    ID  HYDROCODONE/ACETAMINOPHEN            2319     1\n",
       "14    IL  HYDROCODONE/ACETAMINOPHEN           14493     1\n",
       "15    IN         POTASSIUM CHLORIDE            9219     1\n",
       "16    KS  HYDROCODONE/ACETAMINOPHEN            3913     1\n",
       "17    KY         POTASSIUM CHLORIDE            7040     1\n",
       "18    LA  HYDROCODONE/ACETAMINOPHEN            5988     1\n",
       "19    MA       LEVOTHYROXINE SODIUM            8652     1\n",
       "20    MD       LEVOTHYROXINE SODIUM            5225     1\n",
       "21    ME          ALBUTEROL SULFATE            2122     1\n",
       "22    MI  HYDROCODONE/ACETAMINOPHEN           15915     1\n",
       "23    MN  HYDROCODONE/ACETAMINOPHEN            6039     1\n",
       "24    MO         POTASSIUM CHLORIDE            8240     1\n",
       "25    MS         POTASSIUM CHLORIDE            4306     1\n",
       "26    MT  HYDROCODONE/ACETAMINOPHEN            1542     1\n",
       "27    NC         POTASSIUM CHLORIDE           12929     1\n",
       "28    ND         POTASSIUM CHLORIDE            1018     1\n",
       "29    NE       LEVOTHYROXINE SODIUM            2422     1\n",
       "30    NH       LEVOTHYROXINE SODIUM            1745     1\n",
       "31    NJ       LEVOTHYROXINE SODIUM            9587     1\n",
       "32    NM       LEVOTHYROXINE SODIUM            2395     1\n",
       "33    NV  HYDROCODONE/ACETAMINOPHEN            2979     1\n",
       "34    NY       LEVOTHYROXINE SODIUM           24089     1\n",
       "35    OH         POTASSIUM CHLORIDE           16721     1\n",
       "36    OK  HYDROCODONE/ACETAMINOPHEN            5081     1\n",
       "37    OR  HYDROCODONE/ACETAMINOPHEN            5971     1\n",
       "38    PA         POTASSIUM CHLORIDE           18141     1\n",
       "39    RI       LEVOTHYROXINE SODIUM            1356     1\n",
       "40    SC         POTASSIUM CHLORIDE            6319     1\n",
       "41    SD  HYDROCODONE/ACETAMINOPHEN            1200     1\n",
       "42    TN  HYDROCODONE/ACETAMINOPHEN           10367     1\n",
       "43    TX  HYDROCODONE/ACETAMINOPHEN           25009     1\n",
       "44    UT  HYDROCODONE/ACETAMINOPHEN            2971     1\n",
       "45    VA         POTASSIUM CHLORIDE            7805     1\n",
       "46    VT       LEVOTHYROXINE SODIUM             796     1\n",
       "47    WA  HYDROCODONE/ACETAMINOPHEN            8810     1\n",
       "48    WI  HYDROCODONE/ACETAMINOPHEN            7487     1\n",
       "49    WV         POTASSIUM CHLORIDE            3174     1\n",
       "50    WY  HYDROCODONE/ACETAMINOPHEN             683     1"
      ]
     },
     "execution_count": 176,
     "metadata": {},
     "output_type": "execute_result"
    }
   ],
   "source": [
    "most_common_perscription"
   ]
  },
  {
   "cell_type": "code",
   "execution_count": 175,
   "metadata": {
    "ExecuteTime": {
     "end_time": "2021-06-25T02:44:31.701838Z",
     "start_time": "2021-06-25T02:44:31.692048Z"
    }
   },
   "outputs": [
    {
     "data": {
      "text/plain": [
       "Counter({'HYDROCODONE/ACETAMINOPHEN': 22,\n",
       "         'POTASSIUM CHLORIDE': 14,\n",
       "         'LEVOTHYROXINE SODIUM': 13,\n",
       "         'LISINOPRIL': 1,\n",
       "         'ALBUTEROL SULFATE': 1})"
      ]
     },
     "execution_count": 175,
     "metadata": {},
     "output_type": "execute_result"
    }
   ],
   "source": [
    "Counter(most_common_perscription['medication_perscribed'].values)"
   ]
  },
  {
   "cell_type": "code",
   "execution_count": 183,
   "metadata": {
    "ExecuteTime": {
     "end_time": "2021-06-25T03:02:50.624245Z",
     "start_time": "2021-06-25T03:02:50.260138Z"
    }
   },
   "outputs": [
    {
     "data": {
      "image/png": "[encoded data removed]",
      "text/plain": [
       "<Figure size 1440x576 with 1 Axes>"
      ]
     },
     "metadata": {},
     "output_type": "display_data"
    }
   ],
   "source": [
    "plt.rcParams[\"figure.figsize\"] = (20,8)\n",
    "label = most_common_perscription['state'].values\n",
    "x = most_common_perscription['medication_perscribed'].values\n",
    "height  = most_common_perscription['num_perscribed'].values\n",
    "plt.bar(x, height)\n",
    "plt.show()"
   ]
  },
  {
   "cell_type": "code",
   "execution_count": 249,
   "metadata": {
    "ExecuteTime": {
     "end_time": "2021-06-25T03:36:11.625965Z",
     "start_time": "2021-06-25T03:36:09.609184Z"
    }
   },
   "outputs": [
    {
     "data": {
      "text/plain": [
       "<AxesSubplot:ylabel='medication_perscribed'>"
      ]
     },
     "execution_count": 249,
     "metadata": {},
     "output_type": "execute_result"
    },
    {
     "data": {
      "image/png": "[encoded data removed]",
      "text/plain": [
       "<Figure size 1440x576 with 1 Axes>"
      ]
     },
     "metadata": {},
     "output_type": "display_data"
    }
   ],
   "source": [
    "most_common_perscription.plot.barh(x='medication_perscribed', y='num_perscribed', rot=0)"
   ]
  },
  {
   "cell_type": "code",
   "execution_count": 253,
   "metadata": {
    "ExecuteTime": {
     "end_time": "2021-06-25T03:38:34.491273Z",
     "start_time": "2021-06-25T03:38:34.408168Z"
    }
   },
   "outputs": [
    {
     "ename": "AttributeError",
     "evalue": "'SeriesGroupBy' object has no attribute 'values'",
     "output_type": "error",
     "traceback": [
      "\u001b[0;31m---------------------------------------------------------------------------\u001b[0m",
      "\u001b[0;31mAttributeError\u001b[0m                            Traceback (most recent call last)",
      "\u001b[0;32m<ipython-input-253-648228d48049>\u001b[0m in \u001b[0;36m<module>\u001b[0;34m\u001b[0m\n\u001b[0;32m----> 1\u001b[0;31m \u001b[0mmost_common_perscription\u001b[0m\u001b[0;34m.\u001b[0m\u001b[0mgroupby\u001b[0m\u001b[0;34m(\u001b[0m\u001b[0;34m'medication_perscribed'\u001b[0m\u001b[0;34m)\u001b[0m\u001b[0;34m.\u001b[0m\u001b[0mstate\u001b[0m\u001b[0;34m.\u001b[0m\u001b[0mvalues\u001b[0m\u001b[0;34m.\u001b[0m\u001b[0mplot\u001b[0m\u001b[0;34m.\u001b[0m\u001b[0mbarh\u001b[0m\u001b[0;34m(\u001b[0m\u001b[0;34m)\u001b[0m\u001b[0;34m\u001b[0m\u001b[0;34m\u001b[0m\u001b[0m\n\u001b[0m",
      "\u001b[0;32m~/opt/anaconda3/lib/python3.8/site-packages/pandas/core/groupby/groupby.py\u001b[0m in \u001b[0;36m__getattr__\u001b[0;34m(self, attr)\u001b[0m\n\u001b[1;32m    750\u001b[0m             \u001b[0;32mreturn\u001b[0m \u001b[0mself\u001b[0m\u001b[0;34m[\u001b[0m\u001b[0mattr\u001b[0m\u001b[0;34m]\u001b[0m\u001b[0;34m\u001b[0m\u001b[0;34m\u001b[0m\u001b[0m\n\u001b[1;32m    751\u001b[0m \u001b[0;34m\u001b[0m\u001b[0m\n\u001b[0;32m--> 752\u001b[0;31m         raise AttributeError(\n\u001b[0m\u001b[1;32m    753\u001b[0m             \u001b[0;34mf\"'{type(self).__name__}' object has no attribute '{attr}'\"\u001b[0m\u001b[0;34m\u001b[0m\u001b[0;34m\u001b[0m\u001b[0m\n\u001b[1;32m    754\u001b[0m         )\n",
      "\u001b[0;31mAttributeError\u001b[0m: 'SeriesGroupBy' object has no attribute 'values'"
     ]
    }
   ],
   "source": [
    "most_common_perscription.groupby('medication_perscribed').state.values.plot.barh()"
   ]
  },
  {
   "cell_type": "code",
   "execution_count": 252,
   "metadata": {
    "ExecuteTime": {
     "end_time": "2021-06-25T03:37:51.143227Z",
     "start_time": "2021-06-25T03:37:51.135959Z"
    }
   },
   "outputs": [
    {
     "data": {
      "text/plain": [
       "array([  678,  6595,  4218,  7136, 40966,  6082,  4143,   866,  1004,\n",
       "       21601, 10732,  1184,  3864,  2319, 14493,  9219,  3913,  7040,\n",
       "        5988,  8652,  5225,  2122, 15915,  6039,  8240,  4306,  1542,\n",
       "       12929,  1018,  2422,  1745,  9587,  2395,  2979, 24089, 16721,\n",
       "        5081,  5971, 18141,  1356,  6319,  1200, 10367, 25009,  2971,\n",
       "        7805,   796,  8810,  7487,  3174,   683])"
      ]
     },
     "execution_count": 252,
     "metadata": {},
     "output_type": "execute_result"
    }
   ],
   "source": [
    "most_common_perscription.num_perscribed.values"
   ]
  },
  {
   "cell_type": "code",
   "execution_count": 255,
   "metadata": {
    "ExecuteTime": {
     "end_time": "2021-06-25T03:40:41.661997Z",
     "start_time": "2021-06-25T03:40:41.530576Z"
    }
   },
   "outputs": [
    {
     "data": {
      "text/plain": [
       "0     AK\n",
       "1     AL\n",
       "2     AR\n",
       "3     AZ\n",
       "4     CA\n",
       "5     CO\n",
       "6     CT\n",
       "7     DC\n",
       "8     DE\n",
       "9     FL\n",
       "10    GA\n",
       "11    HI\n",
       "12    IA\n",
       "15    IN\n",
       "17    KY\n",
       "19    MA\n",
       "21    ME\n",
       "Name: state, dtype: object"
      ]
     },
     "execution_count": 255,
     "metadata": {},
     "output_type": "execute_result"
    }
   ],
   "source": [
    "most_common_perscription.groupby('medication_perscribed').state.head()"
   ]
  },
  {
   "cell_type": "code",
   "execution_count": null,
   "metadata": {
    "ExecuteTime": {
     "end_time": "2021-06-25T03:44:47.619869Z",
     "start_time": "2021-06-25T03:44:44.948130Z"
    }
   },
   "outputs": [],
   "source": []
  },
  {
   "cell_type": "code",
   "execution_count": 292,
   "metadata": {
    "ExecuteTime": {
     "end_time": "2021-06-25T04:33:05.459594Z",
     "start_time": "2021-06-25T04:33:05.438530Z"
    }
   },
   "outputs": [],
   "source": [
    "df_pivot = pd.pivot_table(\n",
    "    most_common_perscription,\n",
    "    values=\"num_perscribed\",\n",
    "    index=\"state\",\n",
    "    columns=\"medication_perscribed\") #state, medication_perscribed"
   ]
  },
  {
   "cell_type": "code",
   "execution_count": 293,
   "metadata": {
    "ExecuteTime": {
     "end_time": "2021-06-25T04:33:10.981032Z",
     "start_time": "2021-06-25T04:33:07.294337Z"
    }
   },
   "outputs": [
    {
     "data": {
      "image/png": "[encoded data removed]",
      "text/plain": [
       "<Figure size 1440x576 with 5 Axes>"
      ]
     },
     "metadata": {},
     "output_type": "display_data"
    }
   ],
   "source": [
    "ax = df_pivot.plot(kind=\"bar\", rot=0, subplots=True)\n",
    "# Get a Matplotlib figure from the axes object for formatting purposes\n",
    "# fig = ax.get_figure()\n",
    "# Change the plot dimensions (width, height)\n",
    "fig.set_size_inches(25, 25)\n",
    "# Change the axes labels\n",
    "# ax.set_xlabel(\"State\")\n",
    "# ax.set_ylabel(\"Number of medications perscribed\")"
   ]
  },
  {
   "cell_type": "code",
   "execution_count": 296,
   "metadata": {
    "ExecuteTime": {
     "end_time": "2021-06-25T04:35:43.977838Z",
     "start_time": "2021-06-25T04:35:43.713620Z"
    }
   },
   "outputs": [
    {
     "data": {
      "image/png": "[encoded data removed]",
      "text/plain": [
       "<Figure size 1440x576 with 1 Axes>"
      ]
     },
     "metadata": {},
     "output_type": "display_data"
    }
   ],
   "source": [
    "most_common_perscription.groupby('medication_perscribed')['state'].nunique().plot(kind='bar', rot=0)\n",
    "plt.show()\n",
    "# most_common_perscription.groupby('medication_perscribed').num_perscribed.value_counts().unstack().plot.barh()"
   ]
  },
  {
   "cell_type": "code",
   "execution_count": 301,
   "metadata": {
    "ExecuteTime": {
     "end_time": "2021-06-25T04:43:26.589090Z",
     "start_time": "2021-06-25T04:43:22.587561Z"
    }
   },
   "outputs": [
    {
     "data": {
      "image/png": "[encoded data removed]",
      "text/plain": [
       "<Figure size 1440x576 with 5 Axes>"
      ]
     },
     "metadata": {},
     "output_type": "display_data"
    }
   ],
   "source": [
    "most_common_perscription.groupby(['state','medication_perscribed']).size().unstack().plot(kind='bar',stacked=True, \n",
    "                                                                                          subplots=True, legend=False)\n",
    "plt.show()"
   ]
  },
  {
   "cell_type": "code",
   "execution_count": 310,
   "metadata": {
    "ExecuteTime": {
     "end_time": "2021-06-25T05:23:58.086685Z",
     "start_time": "2021-06-25T05:23:57.350078Z"
    }
   },
   "outputs": [],
   "source": [
    "import chart_studio.plotly as py\n",
    "import plotly.graph_objects as go"
   ]
  },
  {
   "cell_type": "code",
   "execution_count": 316,
   "metadata": {
    "ExecuteTime": {
     "end_time": "2021-06-25T05:43:58.384161Z",
     "start_time": "2021-06-25T05:43:58.197231Z"
    }
   },
   "outputs": [],
   "source": [
    "def retrieve_token():\n",
    "    with open('mapbox_token.json', 'r') as file:\n",
    "            config = json.load(file)\n",
    "            return config['token']"
   ]
  },
  {
   "cell_type": "code",
   "execution_count": 404,
   "metadata": {
    "ExecuteTime": {
     "end_time": "2021-06-25T06:53:47.271917Z",
     "start_time": "2021-06-25T06:53:47.102703Z"
    }
   },
   "outputs": [
    {
     "data": {
      "application/vnd.plotly.v1+json": {
       "config": {
        "plotlyServerURL": "https://plotly.com"
       },
       "data": [
        {
         "colorscale": [
          [
           0,
           "#636efa"
          ],
          [
           1,
           "#636efa"
          ]
         ],
         "customdata": [
          [
           "HYDROCODONE/ACETAMINOPHEN",
           "AK",
           678
          ],
          [
           "HYDROCODONE/ACETAMINOPHEN",
           "AZ",
           7136
          ],
          [
           "HYDROCODONE/ACETAMINOPHEN",
           "CA",
           40966
          ],
          [
           "HYDROCODONE/ACETAMINOPHEN",
           "CO",
           6082
          ],
          [
           "HYDROCODONE/ACETAMINOPHEN",
           "IA",
           3864
          ],
          [
           "HYDROCODONE/ACETAMINOPHEN",
           "ID",
           2319
          ],
          [
           "HYDROCODONE/ACETAMINOPHEN",
           "IL",
           14493
          ],
          [
           "HYDROCODONE/ACETAMINOPHEN",
           "KS",
           3913
          ],
          [
           "HYDROCODONE/ACETAMINOPHEN",
           "LA",
           5988
          ],
          [
           "HYDROCODONE/ACETAMINOPHEN",
           "MI",
           15915
          ],
          [
           "HYDROCODONE/ACETAMINOPHEN",
           "MN",
           6039
          ],
          [
           "HYDROCODONE/ACETAMINOPHEN",
           "MT",
           1542
          ],
          [
           "HYDROCODONE/ACETAMINOPHEN",
           "NV",
           2979
          ],
          [
           "HYDROCODONE/ACETAMINOPHEN",
           "OK",
           5081
          ],
          [
           "HYDROCODONE/ACETAMINOPHEN",
           "OR",
           5971
          ],
          [
           "HYDROCODONE/ACETAMINOPHEN",
           "SD",
           1200
          ],
          [
           "HYDROCODONE/ACETAMINOPHEN",
           "TN",
           10367
          ],
          [
           "HYDROCODONE/ACETAMINOPHEN",
           "TX",
           25009
          ],
          [
           "HYDROCODONE/ACETAMINOPHEN",
           "UT",
           2971
          ],
          [
           "HYDROCODONE/ACETAMINOPHEN",
           "WA",
           8810
          ],
          [
           "HYDROCODONE/ACETAMINOPHEN",
           "WI",
           7487
          ],
          [
           "HYDROCODONE/ACETAMINOPHEN",
           "WY",
           683
          ]
         ],
         "geo": "geo",
         "hovertemplate": "<b>%{hovertext}</b><br><br>medication_perscribed=%{customdata[0]}<br>num_perscribed=%{customdata[2]}<extra></extra>",
         "hovertext": [
          "AK",
          "AZ",
          "CA",
          "CO",
          "IA",
          "ID",
          "IL",
          "KS",
          "LA",
          "MI",
          "MN",
          "MT",
          "NV",
          "OK",
          "OR",
          "SD",
          "TN",
          "TX",
          "UT",
          "WA",
          "WI",
          "WY"
         ],
         "locationmode": "USA-states",
         "locations": [
          "AK",
          "AZ",
          "CA",
          "CO",
          "IA",
          "ID",
          "IL",
          "KS",
          "LA",
          "MI",
          "MN",
          "MT",
          "NV",
          "OK",
          "OR",
          "SD",
          "TN",
          "TX",
          "UT",
          "WA",
          "WI",
          "WY"
         ],
         "name": "HYDROCODONE/ACETAMINOPHEN",
         "showlegend": true,
         "showscale": false,
         "type": "choropleth",
         "z": [
          1,
          1,
          1,
          1,
          1,
          1,
          1,
          1,
          1,
          1,
          1,
          1,
          1,
          1,
          1,
          1,
          1,
          1,
          1,
          1,
          1,
          1
         ]
        },
        {
         "colorscale": [
          [
           0,
           "#EF553B"
          ],
          [
           1,
           "#EF553B"
          ]
         ],
         "customdata": [
          [
           "POTASSIUM CHLORIDE",
           "AL",
           6595
          ],
          [
           "POTASSIUM CHLORIDE",
           "AR",
           4218
          ],
          [
           "POTASSIUM CHLORIDE",
           "GA",
           10732
          ],
          [
           "POTASSIUM CHLORIDE",
           "IN",
           9219
          ],
          [
           "POTASSIUM CHLORIDE",
           "KY",
           7040
          ],
          [
           "POTASSIUM CHLORIDE",
           "MO",
           8240
          ],
          [
           "POTASSIUM CHLORIDE",
           "MS",
           4306
          ],
          [
           "POTASSIUM CHLORIDE",
           "NC",
           12929
          ],
          [
           "POTASSIUM CHLORIDE",
           "ND",
           1018
          ],
          [
           "POTASSIUM CHLORIDE",
           "OH",
           16721
          ],
          [
           "POTASSIUM CHLORIDE",
           "PA",
           18141
          ],
          [
           "POTASSIUM CHLORIDE",
           "SC",
           6319
          ],
          [
           "POTASSIUM CHLORIDE",
           "VA",
           7805
          ],
          [
           "POTASSIUM CHLORIDE",
           "WV",
           3174
          ]
         ],
         "geo": "geo",
         "hovertemplate": "<b>%{hovertext}</b><br><br>medication_perscribed=%{customdata[0]}<br>num_perscribed=%{customdata[2]}<extra></extra>",
         "hovertext": [
          "AL",
          "AR",
          "GA",
          "IN",
          "KY",
          "MO",
          "MS",
          "NC",
          "ND",
          "OH",
          "PA",
          "SC",
          "VA",
          "WV"
         ],
         "locationmode": "USA-states",
         "locations": [
          "AL",
          "AR",
          "GA",
          "IN",
          "KY",
          "MO",
          "MS",
          "NC",
          "ND",
          "OH",
          "PA",
          "SC",
          "VA",
          "WV"
         ],
         "name": "POTASSIUM CHLORIDE",
         "showlegend": true,
         "showscale": false,
         "type": "choropleth",
         "z": [
          1,
          1,
          1,
          1,
          1,
          1,
          1,
          1,
          1,
          1,
          1,
          1,
          1,
          1
         ]
        },
        {
         "colorscale": [
          [
           0,
           "#00cc96"
          ],
          [
           1,
           "#00cc96"
          ]
         ],
         "customdata": [
          [
           "LEVOTHYROXINE SODIUM",
           "CT",
           4143
          ],
          [
           "LEVOTHYROXINE SODIUM",
           "DE",
           1004
          ],
          [
           "LEVOTHYROXINE SODIUM",
           "FL",
           21601
          ],
          [
           "LEVOTHYROXINE SODIUM",
           "HI",
           1184
          ],
          [
           "LEVOTHYROXINE SODIUM",
           "MA",
           8652
          ],
          [
           "LEVOTHYROXINE SODIUM",
           "MD",
           5225
          ],
          [
           "LEVOTHYROXINE SODIUM",
           "NE",
           2422
          ],
          [
           "LEVOTHYROXINE SODIUM",
           "NH",
           1745
          ],
          [
           "LEVOTHYROXINE SODIUM",
           "NJ",
           9587
          ],
          [
           "LEVOTHYROXINE SODIUM",
           "NM",
           2395
          ],
          [
           "LEVOTHYROXINE SODIUM",
           "NY",
           24089
          ],
          [
           "LEVOTHYROXINE SODIUM",
           "RI",
           1356
          ],
          [
           "LEVOTHYROXINE SODIUM",
           "VT",
           796
          ]
         ],
         "geo": "geo",
         "hovertemplate": "<b>%{hovertext}</b><br><br>medication_perscribed=%{customdata[0]}<br>num_perscribed=%{customdata[2]}<extra></extra>",
         "hovertext": [
          "CT",
          "DE",
          "FL",
          "HI",
          "MA",
          "MD",
          "NE",
          "NH",
          "NJ",
          "NM",
          "NY",
          "RI",
          "VT"
         ],
         "locationmode": "USA-states",
         "locations": [
          "CT",
          "DE",
          "FL",
          "HI",
          "MA",
          "MD",
          "NE",
          "NH",
          "NJ",
          "NM",
          "NY",
          "RI",
          "VT"
         ],
         "name": "LEVOTHYROXINE SODIUM",
         "showlegend": true,
         "showscale": false,
         "type": "choropleth",
         "z": [
          1,
          1,
          1,
          1,
          1,
          1,
          1,
          1,
          1,
          1,
          1,
          1,
          1
         ]
        },
        {
         "colorscale": [
          [
           0,
           "#ab63fa"
          ],
          [
           1,
           "#ab63fa"
          ]
         ],
         "customdata": [
          [
           "LISINOPRIL",
           "DC",
           866
          ]
         ],
         "geo": "geo",
         "hovertemplate": "<b>%{hovertext}</b><br><br>medication_perscribed=%{customdata[0]}<br>num_perscribed=%{customdata[2]}<extra></extra>",
         "hovertext": [
          "DC"
         ],
         "locationmode": "USA-states",
         "locations": [
          "DC"
         ],
         "name": "LISINOPRIL",
         "showlegend": true,
         "showscale": false,
         "type": "choropleth",
         "z": [
          1
         ]
        },
        {
         "colorscale": [
          [
           0,
           "#FFA15A"
          ],
          [
           1,
           "#FFA15A"
          ]
         ],
         "customdata": [
          [
           "ALBUTEROL SULFATE",
           "ME",
           2122
          ]
         ],
         "geo": "geo",
         "hovertemplate": "<b>%{hovertext}</b><br><br>medication_perscribed=%{customdata[0]}<br>num_perscribed=%{customdata[2]}<extra></extra>",
         "hovertext": [
          "ME"
         ],
         "locationmode": "USA-states",
         "locations": [
          "ME"
         ],
         "name": "ALBUTEROL SULFATE",
         "showlegend": true,
         "showscale": false,
         "type": "choropleth",
         "z": [
          1
         ]
        }
       ],
       "layout": {
        "geo": {
         "center": {},
         "domain": {
          "x": [
           0,
           1
          ],
          "y": [
           0,
           1
          ]
         },
         "projection": {
          "type": "natural earth"
         },
         "scope": "world"
        },
        "height": 300,
        "legend": {
         "bgcolor": "LightSteelBlue",
         "bordercolor": "Black",
         "borderwidth": 2,
         "font": {
          "color": "black",
          "family": "Courier",
          "size": 16
         },
         "title": {},
         "tracegroupgap": 0,
         "traceorder": "reversed",
         "x": 1,
         "y": 0.5
        },
        "margin": {
         "b": 20,
         "l": 0,
         "r": 0,
         "t": 40
        },
        "template": {
         "data": {
          "bar": [
           {
            "error_x": {
             "color": "#2a3f5f"
            },
            "error_y": {
             "color": "#2a3f5f"
            },
            "marker": {
             "line": {
              "color": "#E5ECF6",
              "width": 0.5
             },
             "pattern": {
              "fillmode": "overlay",
              "size": 10,
              "solidity": 0.2
             }
            },
            "type": "bar"
           }
          ],
          "barpolar": [
           {
            "marker": {
             "line": {
              "color": "#E5ECF6",
              "width": 0.5
             },
             "pattern": {
              "fillmode": "overlay",
              "size": 10,
              "solidity": 0.2
             }
            },
            "type": "barpolar"
           }
          ],
          "carpet": [
           {
            "aaxis": {
             "endlinecolor": "#2a3f5f",
             "gridcolor": "white",
             "linecolor": "white",
             "minorgridcolor": "white",
             "startlinecolor": "#2a3f5f"
            },
            "baxis": {
             "endlinecolor": "#2a3f5f",
             "gridcolor": "white",
             "linecolor": "white",
             "minorgridcolor": "white",
             "startlinecolor": "#2a3f5f"
            },
            "type": "carpet"
           }
          ],
          "choropleth": [
           {
            "colorbar": {
             "outlinewidth": 0,
             "ticks": ""
            },
            "type": "choropleth"
           }
          ],
          "contour": [
           {
            "colorbar": {
             "outlinewidth": 0,
             "ticks": ""
            },
            "colorscale": [
             [
              0,
              "#0d0887"
             ],
             [
              0.1111111111111111,
              "#46039f"
             ],
             [
              0.2222222222222222,
              "#7201a8"
             ],
             [
              0.3333333333333333,
              "#9c179e"
             ],
             [
              0.4444444444444444,
              "#bd3786"
             ],
             [
              0.5555555555555556,
              "#d8576b"
             ],
             [
              0.6666666666666666,
              "#ed7953"
             ],
             [
              0.7777777777777778,
              "#fb9f3a"
             ],
             [
              0.8888888888888888,
              "#fdca26"
             ],
             [
              1,
              "#f0f921"
             ]
            ],
            "type": "contour"
           }
          ],
          "contourcarpet": [
           {
            "colorbar": {
             "outlinewidth": 0,
             "ticks": ""
            },
            "type": "contourcarpet"
           }
          ],
          "heatmap": [
           {
            "colorbar": {
             "outlinewidth": 0,
             "ticks": ""
            },
            "colorscale": [
             [
              0,
              "#0d0887"
             ],
             [
              0.1111111111111111,
              "#46039f"
             ],
             [
              0.2222222222222222,
              "#7201a8"
             ],
             [
              0.3333333333333333,
              "#9c179e"
             ],
             [
              0.4444444444444444,
              "#bd3786"
             ],
             [
              0.5555555555555556,
              "#d8576b"
             ],
             [
              0.6666666666666666,
              "#ed7953"
             ],
             [
              0.7777777777777778,
              "#fb9f3a"
             ],
             [
              0.8888888888888888,
              "#fdca26"
             ],
             [
              1,
              "#f0f921"
             ]
            ],
            "type": "heatmap"
           }
          ],
          "heatmapgl": [
           {
            "colorbar": {
             "outlinewidth": 0,
             "ticks": ""
            },
            "colorscale": [
             [
              0,
              "#0d0887"
             ],
             [
              0.1111111111111111,
              "#46039f"
             ],
             [
              0.2222222222222222,
              "#7201a8"
             ],
             [
              0.3333333333333333,
              "#9c179e"
             ],
             [
              0.4444444444444444,
              "#bd3786"
             ],
             [
              0.5555555555555556,
              "#d8576b"
             ],
             [
              0.6666666666666666,
              "#ed7953"
             ],
             [
              0.7777777777777778,
              "#fb9f3a"
             ],
             [
              0.8888888888888888,
              "#fdca26"
             ],
             [
              1,
              "#f0f921"
             ]
            ],
            "type": "heatmapgl"
           }
          ],
          "histogram": [
           {
            "marker": {
             "pattern": {
              "fillmode": "overlay",
              "size": 10,
              "solidity": 0.2
             }
            },
            "type": "histogram"
           }
          ],
          "histogram2d": [
           {
            "colorbar": {
             "outlinewidth": 0,
             "ticks": ""
            },
            "colorscale": [
             [
              0,
              "#0d0887"
             ],
             [
              0.1111111111111111,
              "#46039f"
             ],
             [
              0.2222222222222222,
              "#7201a8"
             ],
             [
              0.3333333333333333,
              "#9c179e"
             ],
             [
              0.4444444444444444,
              "#bd3786"
             ],
             [
              0.5555555555555556,
              "#d8576b"
             ],
             [
              0.6666666666666666,
              "#ed7953"
             ],
             [
              0.7777777777777778,
              "#fb9f3a"
             ],
             [
              0.8888888888888888,
              "#fdca26"
             ],
             [
              1,
              "#f0f921"
             ]
            ],
            "type": "histogram2d"
           }
          ],
          "histogram2dcontour": [
           {
            "colorbar": {
             "outlinewidth": 0,
             "ticks": ""
            },
            "colorscale": [
             [
              0,
              "#0d0887"
             ],
             [
              0.1111111111111111,
              "#46039f"
             ],
             [
              0.2222222222222222,
              "#7201a8"
             ],
             [
              0.3333333333333333,
              "#9c179e"
             ],
             [
              0.4444444444444444,
              "#bd3786"
             ],
             [
              0.5555555555555556,
              "#d8576b"
             ],
             [
              0.6666666666666666,
              "#ed7953"
             ],
             [
              0.7777777777777778,
              "#fb9f3a"
             ],
             [
              0.8888888888888888,
              "#fdca26"
             ],
             [
              1,
              "#f0f921"
             ]
            ],
            "type": "histogram2dcontour"
           }
          ],
          "mesh3d": [
           {
            "colorbar": {
             "outlinewidth": 0,
             "ticks": ""
            },
            "type": "mesh3d"
           }
          ],
          "parcoords": [
           {
            "line": {
             "colorbar": {
              "outlinewidth": 0,
              "ticks": ""
             }
            },
            "type": "parcoords"
           }
          ],
          "pie": [
           {
            "automargin": true,
            "type": "pie"
           }
          ],
          "scatter": [
           {
            "marker": {
             "colorbar": {
              "outlinewidth": 0,
              "ticks": ""
             }
            },
            "type": "scatter"
           }
          ],
          "scatter3d": [
           {
            "line": {
             "colorbar": {
              "outlinewidth": 0,
              "ticks": ""
             }
            },
            "marker": {
             "colorbar": {
              "outlinewidth": 0,
              "ticks": ""
             }
            },
            "type": "scatter3d"
           }
          ],
          "scattercarpet": [
           {
            "marker": {
             "colorbar": {
              "outlinewidth": 0,
              "ticks": ""
             }
            },
            "type": "scattercarpet"
           }
          ],
          "scattergeo": [
           {
            "marker": {
             "colorbar": {
              "outlinewidth": 0,
              "ticks": ""
             }
            },
            "type": "scattergeo"
           }
          ],
          "scattergl": [
           {
            "marker": {
             "colorbar": {
              "outlinewidth": 0,
              "ticks": ""
             }
            },
            "type": "scattergl"
           }
          ],
          "scattermapbox": [
           {
            "marker": {
             "colorbar": {
              "outlinewidth": 0,
              "ticks": ""
             }
            },
            "type": "scattermapbox"
           }
          ],
          "scatterpolar": [
           {
            "marker": {
             "colorbar": {
              "outlinewidth": 0,
              "ticks": ""
             }
            },
            "type": "scatterpolar"
           }
          ],
          "scatterpolargl": [
           {
            "marker": {
             "colorbar": {
              "outlinewidth": 0,
              "ticks": ""
             }
            },
            "type": "scatterpolargl"
           }
          ],
          "scatterternary": [
           {
            "marker": {
             "colorbar": {
              "outlinewidth": 0,
              "ticks": ""
             }
            },
            "type": "scatterternary"
           }
          ],
          "surface": [
           {
            "colorbar": {
             "outlinewidth": 0,
             "ticks": ""
            },
            "colorscale": [
             [
              0,
              "#0d0887"
             ],
             [
              0.1111111111111111,
              "#46039f"
             ],
             [
              0.2222222222222222,
              "#7201a8"
             ],
             [
              0.3333333333333333,
              "#9c179e"
             ],
             [
              0.4444444444444444,
              "#bd3786"
             ],
             [
              0.5555555555555556,
              "#d8576b"
             ],
             [
              0.6666666666666666,
              "#ed7953"
             ],
             [
              0.7777777777777778,
              "#fb9f3a"
             ],
             [
              0.8888888888888888,
              "#fdca26"
             ],
             [
              1,
              "#f0f921"
             ]
            ],
            "type": "surface"
           }
          ],
          "table": [
           {
            "cells": {
             "fill": {
              "color": "#EBF0F8"
             },
             "line": {
              "color": "white"
             }
            },
            "header": {
             "fill": {
              "color": "#C8D4E3"
             },
             "line": {
              "color": "white"
             }
            },
            "type": "table"
           }
          ]
         },
         "layout": {
          "annotationdefaults": {
           "arrowcolor": "#2a3f5f",
           "arrowhead": 0,
           "arrowwidth": 1
          },
          "autotypenumbers": "strict",
          "coloraxis": {
           "colorbar": {
            "outlinewidth": 0,
            "ticks": ""
           }
          },
          "colorscale": {
           "diverging": [
            [
             0,
             "#8e0152"
            ],
            [
             0.1,
             "#c51b7d"
            ],
            [
             0.2,
             "#de77ae"
            ],
            [
             0.3,
             "#f1b6da"
            ],
            [
             0.4,
             "#fde0ef"
            ],
            [
             0.5,
             "#f7f7f7"
            ],
            [
             0.6,
             "#e6f5d0"
            ],
            [
             0.7,
             "#b8e186"
            ],
            [
             0.8,
             "#7fbc41"
            ],
            [
             0.9,
             "#4d9221"
            ],
            [
             1,
             "#276419"
            ]
           ],
           "sequential": [
            [
             0,
             "#0d0887"
            ],
            [
             0.1111111111111111,
             "#46039f"
            ],
            [
             0.2222222222222222,
             "#7201a8"
            ],
            [
             0.3333333333333333,
             "#9c179e"
            ],
            [
             0.4444444444444444,
             "#bd3786"
            ],
            [
             0.5555555555555556,
             "#d8576b"
            ],
            [
             0.6666666666666666,
             "#ed7953"
            ],
            [
             0.7777777777777778,
             "#fb9f3a"
            ],
            [
             0.8888888888888888,
             "#fdca26"
            ],
            [
             1,
             "#f0f921"
            ]
           ],
           "sequentialminus": [
            [
             0,
             "#0d0887"
            ],
            [
             0.1111111111111111,
             "#46039f"
            ],
            [
             0.2222222222222222,
             "#7201a8"
            ],
            [
             0.3333333333333333,
             "#9c179e"
            ],
            [
             0.4444444444444444,
             "#bd3786"
            ],
            [
             0.5555555555555556,
             "#d8576b"
            ],
            [
             0.6666666666666666,
             "#ed7953"
            ],
            [
             0.7777777777777778,
             "#fb9f3a"
            ],
            [
             0.8888888888888888,
             "#fdca26"
            ],
            [
             1,
             "#f0f921"
            ]
           ]
          },
          "colorway": [
           "#636efa",
           "#EF553B",
           "#00cc96",
           "#ab63fa",
           "#FFA15A",
           "#19d3f3",
           "#FF6692",
           "#B6E880",
           "#FF97FF",
           "#FECB52"
          ],
          "font": {
           "color": "#2a3f5f"
          },
          "geo": {
           "bgcolor": "white",
           "lakecolor": "white",
           "landcolor": "#E5ECF6",
           "showlakes": true,
           "showland": true,
           "subunitcolor": "white"
          },
          "hoverlabel": {
           "align": "left"
          },
          "hovermode": "closest",
          "mapbox": {
           "style": "light"
          },
          "paper_bgcolor": "white",
          "plot_bgcolor": "#E5ECF6",
          "polar": {
           "angularaxis": {
            "gridcolor": "white",
            "linecolor": "white",
            "ticks": ""
           },
           "bgcolor": "#E5ECF6",
           "radialaxis": {
            "gridcolor": "white",
            "linecolor": "white",
            "ticks": ""
           }
          },
          "scene": {
           "xaxis": {
            "backgroundcolor": "#E5ECF6",
            "gridcolor": "white",
            "gridwidth": 2,
            "linecolor": "white",
            "showbackground": true,
            "ticks": "",
            "zerolinecolor": "white"
           },
           "yaxis": {
            "backgroundcolor": "#E5ECF6",
            "gridcolor": "white",
            "gridwidth": 2,
            "linecolor": "white",
            "showbackground": true,
            "ticks": "",
            "zerolinecolor": "white"
           },
           "zaxis": {
            "backgroundcolor": "#E5ECF6",
            "gridcolor": "white",
            "gridwidth": 2,
            "linecolor": "white",
            "showbackground": true,
            "ticks": "",
            "zerolinecolor": "white"
           }
          },
          "shapedefaults": {
           "line": {
            "color": "#2a3f5f"
           }
          },
          "ternary": {
           "aaxis": {
            "gridcolor": "white",
            "linecolor": "white",
            "ticks": ""
           },
           "baxis": {
            "gridcolor": "white",
            "linecolor": "white",
            "ticks": ""
           },
           "bgcolor": "#E5ECF6",
           "caxis": {
            "gridcolor": "white",
            "linecolor": "white",
            "ticks": ""
           }
          },
          "title": {
           "x": 0.05
          },
          "xaxis": {
           "automargin": true,
           "gridcolor": "white",
           "linecolor": "white",
           "ticks": "",
           "title": {
            "standoff": 15
           },
           "zerolinecolor": "white",
           "zerolinewidth": 2
          },
          "yaxis": {
           "automargin": true,
           "gridcolor": "white",
           "linecolor": "white",
           "ticks": "",
           "title": {
            "standoff": 15
           },
           "zerolinecolor": "white",
           "zerolinewidth": 2
          }
         }
        },
        "title": {
         "font": {
          "color": "black",
          "family": "Courier",
          "size": 20
         },
         "text": "Most commonly perscribed medication by state (US, 2014)"
        }
       }
      },
      "text/html": [
       "<div>                            <div id=\"6f630e08-808f-4d2f-a5b9-af393991cc37\" class=\"plotly-graph-div\" style=\"height:300px; width:100%;\"></div>            <script type=\"text/javascript\">                require([\"plotly\"], function(Plotly) {                    window.PLOTLYENV=window.PLOTLYENV || {};                                    if (document.getElementById(\"6f630e08-808f-4d2f-a5b9-af393991cc37\")) {                    Plotly.newPlot(                        \"6f630e08-808f-4d2f-a5b9-af393991cc37\",                        [{\"colorscale\":[[0.0,\"#636efa\"],[1.0,\"#636efa\"]],\"customdata\":[[\"HYDROCODONE/ACETAMINOPHEN\",\"AK\",678],[\"HYDROCODONE/ACETAMINOPHEN\",\"AZ\",7136],[\"HYDROCODONE/ACETAMINOPHEN\",\"CA\",40966],[\"HYDROCODONE/ACETAMINOPHEN\",\"CO\",6082],[\"HYDROCODONE/ACETAMINOPHEN\",\"IA\",3864],[\"HYDROCODONE/ACETAMINOPHEN\",\"ID\",2319],[\"HYDROCODONE/ACETAMINOPHEN\",\"IL\",14493],[\"HYDROCODONE/ACETAMINOPHEN\",\"KS\",3913],[\"HYDROCODONE/ACETAMINOPHEN\",\"LA\",5988],[\"HYDROCODONE/ACETAMINOPHEN\",\"MI\",15915],[\"HYDROCODONE/ACETAMINOPHEN\",\"MN\",6039],[\"HYDROCODONE/ACETAMINOPHEN\",\"MT\",1542],[\"HYDROCODONE/ACETAMINOPHEN\",\"NV\",2979],[\"HYDROCODONE/ACETAMINOPHEN\",\"OK\",5081],[\"HYDROCODONE/ACETAMINOPHEN\",\"OR\",5971],[\"HYDROCODONE/ACETAMINOPHEN\",\"SD\",1200],[\"HYDROCODONE/ACETAMINOPHEN\",\"TN\",10367],[\"HYDROCODONE/ACETAMINOPHEN\",\"TX\",25009],[\"HYDROCODONE/ACETAMINOPHEN\",\"UT\",2971],[\"HYDROCODONE/ACETAMINOPHEN\",\"WA\",8810],[\"HYDROCODONE/ACETAMINOPHEN\",\"WI\",7487],[\"HYDROCODONE/ACETAMINOPHEN\",\"WY\",683]],\"geo\":\"geo\",\"hovertemplate\":\"<b>%{hovertext}</b><br><br>medication_perscribed=%{customdata[0]}<br>num_perscribed=%{customdata[2]}<extra></extra>\",\"hovertext\":[\"AK\",\"AZ\",\"CA\",\"CO\",\"IA\",\"ID\",\"IL\",\"KS\",\"LA\",\"MI\",\"MN\",\"MT\",\"NV\",\"OK\",\"OR\",\"SD\",\"TN\",\"TX\",\"UT\",\"WA\",\"WI\",\"WY\"],\"locationmode\":\"USA-states\",\"locations\":[\"AK\",\"AZ\",\"CA\",\"CO\",\"IA\",\"ID\",\"IL\",\"KS\",\"LA\",\"MI\",\"MN\",\"MT\",\"NV\",\"OK\",\"OR\",\"SD\",\"TN\",\"TX\",\"UT\",\"WA\",\"WI\",\"WY\"],\"name\":\"HYDROCODONE/ACETAMINOPHEN\",\"showlegend\":true,\"showscale\":false,\"type\":\"choropleth\",\"z\":[1,1,1,1,1,1,1,1,1,1,1,1,1,1,1,1,1,1,1,1,1,1]},{\"colorscale\":[[0.0,\"#EF553B\"],[1.0,\"#EF553B\"]],\"customdata\":[[\"POTASSIUM CHLORIDE\",\"AL\",6595],[\"POTASSIUM CHLORIDE\",\"AR\",4218],[\"POTASSIUM CHLORIDE\",\"GA\",10732],[\"POTASSIUM CHLORIDE\",\"IN\",9219],[\"POTASSIUM CHLORIDE\",\"KY\",7040],[\"POTASSIUM CHLORIDE\",\"MO\",8240],[\"POTASSIUM CHLORIDE\",\"MS\",4306],[\"POTASSIUM CHLORIDE\",\"NC\",12929],[\"POTASSIUM CHLORIDE\",\"ND\",1018],[\"POTASSIUM CHLORIDE\",\"OH\",16721],[\"POTASSIUM CHLORIDE\",\"PA\",18141],[\"POTASSIUM CHLORIDE\",\"SC\",6319],[\"POTASSIUM CHLORIDE\",\"VA\",7805],[\"POTASSIUM CHLORIDE\",\"WV\",3174]],\"geo\":\"geo\",\"hovertemplate\":\"<b>%{hovertext}</b><br><br>medication_perscribed=%{customdata[0]}<br>num_perscribed=%{customdata[2]}<extra></extra>\",\"hovertext\":[\"AL\",\"AR\",\"GA\",\"IN\",\"KY\",\"MO\",\"MS\",\"NC\",\"ND\",\"OH\",\"PA\",\"SC\",\"VA\",\"WV\"],\"locationmode\":\"USA-states\",\"locations\":[\"AL\",\"AR\",\"GA\",\"IN\",\"KY\",\"MO\",\"MS\",\"NC\",\"ND\",\"OH\",\"PA\",\"SC\",\"VA\",\"WV\"],\"name\":\"POTASSIUM CHLORIDE\",\"showlegend\":true,\"showscale\":false,\"type\":\"choropleth\",\"z\":[1,1,1,1,1,1,1,1,1,1,1,1,1,1]},{\"colorscale\":[[0.0,\"#00cc96\"],[1.0,\"#00cc96\"]],\"customdata\":[[\"LEVOTHYROXINE SODIUM\",\"CT\",4143],[\"LEVOTHYROXINE SODIUM\",\"DE\",1004],[\"LEVOTHYROXINE SODIUM\",\"FL\",21601],[\"LEVOTHYROXINE SODIUM\",\"HI\",1184],[\"LEVOTHYROXINE SODIUM\",\"MA\",8652],[\"LEVOTHYROXINE SODIUM\",\"MD\",5225],[\"LEVOTHYROXINE SODIUM\",\"NE\",2422],[\"LEVOTHYROXINE SODIUM\",\"NH\",1745],[\"LEVOTHYROXINE SODIUM\",\"NJ\",9587],[\"LEVOTHYROXINE SODIUM\",\"NM\",2395],[\"LEVOTHYROXINE SODIUM\",\"NY\",24089],[\"LEVOTHYROXINE SODIUM\",\"RI\",1356],[\"LEVOTHYROXINE SODIUM\",\"VT\",796]],\"geo\":\"geo\",\"hovertemplate\":\"<b>%{hovertext}</b><br><br>medication_perscribed=%{customdata[0]}<br>num_perscribed=%{customdata[2]}<extra></extra>\",\"hovertext\":[\"CT\",\"DE\",\"FL\",\"HI\",\"MA\",\"MD\",\"NE\",\"NH\",\"NJ\",\"NM\",\"NY\",\"RI\",\"VT\"],\"locationmode\":\"USA-states\",\"locations\":[\"CT\",\"DE\",\"FL\",\"HI\",\"MA\",\"MD\",\"NE\",\"NH\",\"NJ\",\"NM\",\"NY\",\"RI\",\"VT\"],\"name\":\"LEVOTHYROXINE SODIUM\",\"showlegend\":true,\"showscale\":false,\"type\":\"choropleth\",\"z\":[1,1,1,1,1,1,1,1,1,1,1,1,1]},{\"colorscale\":[[0.0,\"#ab63fa\"],[1.0,\"#ab63fa\"]],\"customdata\":[[\"LISINOPRIL\",\"DC\",866]],\"geo\":\"geo\",\"hovertemplate\":\"<b>%{hovertext}</b><br><br>medication_perscribed=%{customdata[0]}<br>num_perscribed=%{customdata[2]}<extra></extra>\",\"hovertext\":[\"DC\"],\"locationmode\":\"USA-states\",\"locations\":[\"DC\"],\"name\":\"LISINOPRIL\",\"showlegend\":true,\"showscale\":false,\"type\":\"choropleth\",\"z\":[1]},{\"colorscale\":[[0.0,\"#FFA15A\"],[1.0,\"#FFA15A\"]],\"customdata\":[[\"ALBUTEROL SULFATE\",\"ME\",2122]],\"geo\":\"geo\",\"hovertemplate\":\"<b>%{hovertext}</b><br><br>medication_perscribed=%{customdata[0]}<br>num_perscribed=%{customdata[2]}<extra></extra>\",\"hovertext\":[\"ME\"],\"locationmode\":\"USA-states\",\"locations\":[\"ME\"],\"name\":\"ALBUTEROL SULFATE\",\"showlegend\":true,\"showscale\":false,\"type\":\"choropleth\",\"z\":[1]}],                        {\"geo\":{\"center\":{},\"domain\":{\"x\":[0.0,1.0],\"y\":[0.0,1.0]},\"projection\":{\"type\":\"natural earth\"},\"scope\":\"world\"},\"height\":300,\"legend\":{\"bgcolor\":\"LightSteelBlue\",\"bordercolor\":\"Black\",\"borderwidth\":2,\"font\":{\"color\":\"black\",\"family\":\"Courier\",\"size\":16},\"title\":{},\"tracegroupgap\":0,\"traceorder\":\"reversed\",\"x\":1,\"y\":0.5},\"margin\":{\"b\":20,\"l\":0,\"r\":0,\"t\":40},\"template\":{\"data\":{\"bar\":[{\"error_x\":{\"color\":\"#2a3f5f\"},\"error_y\":{\"color\":\"#2a3f5f\"},\"marker\":{\"line\":{\"color\":\"#E5ECF6\",\"width\":0.5},\"pattern\":{\"fillmode\":\"overlay\",\"size\":10,\"solidity\":0.2}},\"type\":\"bar\"}],\"barpolar\":[{\"marker\":{\"line\":{\"color\":\"#E5ECF6\",\"width\":0.5},\"pattern\":{\"fillmode\":\"overlay\",\"size\":10,\"solidity\":0.2}},\"type\":\"barpolar\"}],\"carpet\":[{\"aaxis\":{\"endlinecolor\":\"#2a3f5f\",\"gridcolor\":\"white\",\"linecolor\":\"white\",\"minorgridcolor\":\"white\",\"startlinecolor\":\"#2a3f5f\"},\"baxis\":{\"endlinecolor\":\"#2a3f5f\",\"gridcolor\":\"white\",\"linecolor\":\"white\",\"minorgridcolor\":\"white\",\"startlinecolor\":\"#2a3f5f\"},\"type\":\"carpet\"}],\"choropleth\":[{\"colorbar\":{\"outlinewidth\":0,\"ticks\":\"\"},\"type\":\"choropleth\"}],\"contour\":[{\"colorbar\":{\"outlinewidth\":0,\"ticks\":\"\"},\"colorscale\":[[0.0,\"#0d0887\"],[0.1111111111111111,\"#46039f\"],[0.2222222222222222,\"#7201a8\"],[0.3333333333333333,\"#9c179e\"],[0.4444444444444444,\"#bd3786\"],[0.5555555555555556,\"#d8576b\"],[0.6666666666666666,\"#ed7953\"],[0.7777777777777778,\"#fb9f3a\"],[0.8888888888888888,\"#fdca26\"],[1.0,\"#f0f921\"]],\"type\":\"contour\"}],\"contourcarpet\":[{\"colorbar\":{\"outlinewidth\":0,\"ticks\":\"\"},\"type\":\"contourcarpet\"}],\"heatmap\":[{\"colorbar\":{\"outlinewidth\":0,\"ticks\":\"\"},\"colorscale\":[[0.0,\"#0d0887\"],[0.1111111111111111,\"#46039f\"],[0.2222222222222222,\"#7201a8\"],[0.3333333333333333,\"#9c179e\"],[0.4444444444444444,\"#bd3786\"],[0.5555555555555556,\"#d8576b\"],[0.6666666666666666,\"#ed7953\"],[0.7777777777777778,\"#fb9f3a\"],[0.8888888888888888,\"#fdca26\"],[1.0,\"#f0f921\"]],\"type\":\"heatmap\"}],\"heatmapgl\":[{\"colorbar\":{\"outlinewidth\":0,\"ticks\":\"\"},\"colorscale\":[[0.0,\"#0d0887\"],[0.1111111111111111,\"#46039f\"],[0.2222222222222222,\"#7201a8\"],[0.3333333333333333,\"#9c179e\"],[0.4444444444444444,\"#bd3786\"],[0.5555555555555556,\"#d8576b\"],[0.6666666666666666,\"#ed7953\"],[0.7777777777777778,\"#fb9f3a\"],[0.8888888888888888,\"#fdca26\"],[1.0,\"#f0f921\"]],\"type\":\"heatmapgl\"}],\"histogram\":[{\"marker\":{\"pattern\":{\"fillmode\":\"overlay\",\"size\":10,\"solidity\":0.2}},\"type\":\"histogram\"}],\"histogram2d\":[{\"colorbar\":{\"outlinewidth\":0,\"ticks\":\"\"},\"colorscale\":[[0.0,\"#0d0887\"],[0.1111111111111111,\"#46039f\"],[0.2222222222222222,\"#7201a8\"],[0.3333333333333333,\"#9c179e\"],[0.4444444444444444,\"#bd3786\"],[0.5555555555555556,\"#d8576b\"],[0.6666666666666666,\"#ed7953\"],[0.7777777777777778,\"#fb9f3a\"],[0.8888888888888888,\"#fdca26\"],[1.0,\"#f0f921\"]],\"type\":\"histogram2d\"}],\"histogram2dcontour\":[{\"colorbar\":{\"outlinewidth\":0,\"ticks\":\"\"},\"colorscale\":[[0.0,\"#0d0887\"],[0.1111111111111111,\"#46039f\"],[0.2222222222222222,\"#7201a8\"],[0.3333333333333333,\"#9c179e\"],[0.4444444444444444,\"#bd3786\"],[0.5555555555555556,\"#d8576b\"],[0.6666666666666666,\"#ed7953\"],[0.7777777777777778,\"#fb9f3a\"],[0.8888888888888888,\"#fdca26\"],[1.0,\"#f0f921\"]],\"type\":\"histogram2dcontour\"}],\"mesh3d\":[{\"colorbar\":{\"outlinewidth\":0,\"ticks\":\"\"},\"type\":\"mesh3d\"}],\"parcoords\":[{\"line\":{\"colorbar\":{\"outlinewidth\":0,\"ticks\":\"\"}},\"type\":\"parcoords\"}],\"pie\":[{\"automargin\":true,\"type\":\"pie\"}],\"scatter\":[{\"marker\":{\"colorbar\":{\"outlinewidth\":0,\"ticks\":\"\"}},\"type\":\"scatter\"}],\"scatter3d\":[{\"line\":{\"colorbar\":{\"outlinewidth\":0,\"ticks\":\"\"}},\"marker\":{\"colorbar\":{\"outlinewidth\":0,\"ticks\":\"\"}},\"type\":\"scatter3d\"}],\"scattercarpet\":[{\"marker\":{\"colorbar\":{\"outlinewidth\":0,\"ticks\":\"\"}},\"type\":\"scattercarpet\"}],\"scattergeo\":[{\"marker\":{\"colorbar\":{\"outlinewidth\":0,\"ticks\":\"\"}},\"type\":\"scattergeo\"}],\"scattergl\":[{\"marker\":{\"colorbar\":{\"outlinewidth\":0,\"ticks\":\"\"}},\"type\":\"scattergl\"}],\"scattermapbox\":[{\"marker\":{\"colorbar\":{\"outlinewidth\":0,\"ticks\":\"\"}},\"type\":\"scattermapbox\"}],\"scatterpolar\":[{\"marker\":{\"colorbar\":{\"outlinewidth\":0,\"ticks\":\"\"}},\"type\":\"scatterpolar\"}],\"scatterpolargl\":[{\"marker\":{\"colorbar\":{\"outlinewidth\":0,\"ticks\":\"\"}},\"type\":\"scatterpolargl\"}],\"scatterternary\":[{\"marker\":{\"colorbar\":{\"outlinewidth\":0,\"ticks\":\"\"}},\"type\":\"scatterternary\"}],\"surface\":[{\"colorbar\":{\"outlinewidth\":0,\"ticks\":\"\"},\"colorscale\":[[0.0,\"#0d0887\"],[0.1111111111111111,\"#46039f\"],[0.2222222222222222,\"#7201a8\"],[0.3333333333333333,\"#9c179e\"],[0.4444444444444444,\"#bd3786\"],[0.5555555555555556,\"#d8576b\"],[0.6666666666666666,\"#ed7953\"],[0.7777777777777778,\"#fb9f3a\"],[0.8888888888888888,\"#fdca26\"],[1.0,\"#f0f921\"]],\"type\":\"surface\"}],\"table\":[{\"cells\":{\"fill\":{\"color\":\"#EBF0F8\"},\"line\":{\"color\":\"white\"}},\"header\":{\"fill\":{\"color\":\"#C8D4E3\"},\"line\":{\"color\":\"white\"}},\"type\":\"table\"}]},\"layout\":{\"annotationdefaults\":{\"arrowcolor\":\"#2a3f5f\",\"arrowhead\":0,\"arrowwidth\":1},\"autotypenumbers\":\"strict\",\"coloraxis\":{\"colorbar\":{\"outlinewidth\":0,\"ticks\":\"\"}},\"colorscale\":{\"diverging\":[[0,\"#8e0152\"],[0.1,\"#c51b7d\"],[0.2,\"#de77ae\"],[0.3,\"#f1b6da\"],[0.4,\"#fde0ef\"],[0.5,\"#f7f7f7\"],[0.6,\"#e6f5d0\"],[0.7,\"#b8e186\"],[0.8,\"#7fbc41\"],[0.9,\"#4d9221\"],[1,\"#276419\"]],\"sequential\":[[0.0,\"#0d0887\"],[0.1111111111111111,\"#46039f\"],[0.2222222222222222,\"#7201a8\"],[0.3333333333333333,\"#9c179e\"],[0.4444444444444444,\"#bd3786\"],[0.5555555555555556,\"#d8576b\"],[0.6666666666666666,\"#ed7953\"],[0.7777777777777778,\"#fb9f3a\"],[0.8888888888888888,\"#fdca26\"],[1.0,\"#f0f921\"]],\"sequentialminus\":[[0.0,\"#0d0887\"],[0.1111111111111111,\"#46039f\"],[0.2222222222222222,\"#7201a8\"],[0.3333333333333333,\"#9c179e\"],[0.4444444444444444,\"#bd3786\"],[0.5555555555555556,\"#d8576b\"],[0.6666666666666666,\"#ed7953\"],[0.7777777777777778,\"#fb9f3a\"],[0.8888888888888888,\"#fdca26\"],[1.0,\"#f0f921\"]]},\"colorway\":[\"#636efa\",\"#EF553B\",\"#00cc96\",\"#ab63fa\",\"#FFA15A\",\"#19d3f3\",\"#FF6692\",\"#B6E880\",\"#FF97FF\",\"#FECB52\"],\"font\":{\"color\":\"#2a3f5f\"},\"geo\":{\"bgcolor\":\"white\",\"lakecolor\":\"white\",\"landcolor\":\"#E5ECF6\",\"showlakes\":true,\"showland\":true,\"subunitcolor\":\"white\"},\"hoverlabel\":{\"align\":\"left\"},\"hovermode\":\"closest\",\"mapbox\":{\"style\":\"light\"},\"paper_bgcolor\":\"white\",\"plot_bgcolor\":\"#E5ECF6\",\"polar\":{\"angularaxis\":{\"gridcolor\":\"white\",\"linecolor\":\"white\",\"ticks\":\"\"},\"bgcolor\":\"#E5ECF6\",\"radialaxis\":{\"gridcolor\":\"white\",\"linecolor\":\"white\",\"ticks\":\"\"}},\"scene\":{\"xaxis\":{\"backgroundcolor\":\"#E5ECF6\",\"gridcolor\":\"white\",\"gridwidth\":2,\"linecolor\":\"white\",\"showbackground\":true,\"ticks\":\"\",\"zerolinecolor\":\"white\"},\"yaxis\":{\"backgroundcolor\":\"#E5ECF6\",\"gridcolor\":\"white\",\"gridwidth\":2,\"linecolor\":\"white\",\"showbackground\":true,\"ticks\":\"\",\"zerolinecolor\":\"white\"},\"zaxis\":{\"backgroundcolor\":\"#E5ECF6\",\"gridcolor\":\"white\",\"gridwidth\":2,\"linecolor\":\"white\",\"showbackground\":true,\"ticks\":\"\",\"zerolinecolor\":\"white\"}},\"shapedefaults\":{\"line\":{\"color\":\"#2a3f5f\"}},\"ternary\":{\"aaxis\":{\"gridcolor\":\"white\",\"linecolor\":\"white\",\"ticks\":\"\"},\"baxis\":{\"gridcolor\":\"white\",\"linecolor\":\"white\",\"ticks\":\"\"},\"bgcolor\":\"#E5ECF6\",\"caxis\":{\"gridcolor\":\"white\",\"linecolor\":\"white\",\"ticks\":\"\"}},\"title\":{\"x\":0.05},\"xaxis\":{\"automargin\":true,\"gridcolor\":\"white\",\"linecolor\":\"white\",\"ticks\":\"\",\"title\":{\"standoff\":15},\"zerolinecolor\":\"white\",\"zerolinewidth\":2},\"yaxis\":{\"automargin\":true,\"gridcolor\":\"white\",\"linecolor\":\"white\",\"ticks\":\"\",\"title\":{\"standoff\":15},\"zerolinecolor\":\"white\",\"zerolinewidth\":2}}},\"title\":{\"font\":{\"color\":\"black\",\"family\":\"Courier\",\"size\":20},\"text\":\"Most commonly perscribed medication by state (US, 2014)\"}},                        {\"responsive\": true}                    ).then(function(){\n",
       "                            \n",
       "var gd = document.getElementById('6f630e08-808f-4d2f-a5b9-af393991cc37');\n",
       "var x = new MutationObserver(function (mutations, observer) {{\n",
       "        var display = window.getComputedStyle(gd).display;\n",
       "        if (!display || display === 'none') {{\n",
       "            console.log([gd, 'removed!']);\n",
       "            Plotly.purge(gd);\n",
       "            observer.disconnect();\n",
       "        }}\n",
       "}});\n",
       "\n",
       "// Listen for the removal of the full notebook cells\n",
       "var notebookContainer = gd.closest('#notebook-container');\n",
       "if (notebookContainer) {{\n",
       "    x.observe(notebookContainer, {childList: true});\n",
       "}}\n",
       "\n",
       "// Listen for the clearing of the current output cell\n",
       "var outputEl = gd.closest('.output');\n",
       "if (outputEl) {{\n",
       "    x.observe(outputEl, {childList: true});\n",
       "}}\n",
       "\n",
       "                        })                };                });            </script>        </div>"
      ]
     },
     "metadata": {},
     "output_type": "display_data"
    }
   ],
   "source": [
    "fig = px.choropleth(most_common_perscription,   \n",
    "                                   locations=\"state\",   \n",
    "                                  color=\"medication_perscribed\",   \n",
    "                                  hover_name=\"state\", \n",
    "                                  hover_data = {\"medication_perscribed\": True, \"state\" : False, \"num_perscribed\": True},\n",
    "                                  locationmode = 'USA-states')\n",
    "fig.update_layout(\n",
    "    height=300,\n",
    "    margin={'r':0,'t':40,'l':0,'b':20},\n",
    "    title_text = 'Most commonly perscribed medication by state (US, 2014)', # Create a Title\n",
    "    geo_scope='world', \n",
    ")\n",
    "fig.update_geos(projection_type=\"natural earth\")\n",
    "\n",
    "fig.update_layout(\n",
    "    title=dict(font=dict(family=\"Courier\", size=20, color='black')),\n",
    "    legend=dict(\n",
    "        x=1,\n",
    "        y=0.5,\n",
    "        title=None,\n",
    "        traceorder=\"reversed\",\n",
    "        font=dict(\n",
    "            family=\"Courier\",\n",
    "            size=16,\n",
    "            color=\"black\"\n",
    "        ),\n",
    "        bgcolor=\"LightSteelBlue\",\n",
    "        bordercolor=\"Black\",\n",
    "        borderwidth=2\n",
    "    )\n",
    ")\n",
    "\n",
    "fig.show()  # Output the plot to the screen"
   ]
  },
  {
   "cell_type": "code",
   "execution_count": null,
   "metadata": {},
   "outputs": [],
   "source": []
  }
 ],
 "metadata": {
  "kernelspec": {
   "display_name": "Python 3",
   "language": "python",
   "name": "python3"
  },
  "language_info": {
   "codemirror_mode": {
    "name": "ipython",
    "version": 3
   },
   "file_extension": ".py",
   "mimetype": "text/x-python",
   "name": "python",
   "nbconvert_exporter": "python",
   "pygments_lexer": "ipython3",
   "version": "3.8.8"
  },
  "toc": {
   "base_numbering": 1,
   "nav_menu": {},
   "number_sections": true,
   "sideBar": true,
   "skip_h1_title": true,
   "title_cell": "Table of Contents",
   "title_sidebar": "Contents",
   "toc_cell": false,
   "toc_position": {},
   "toc_section_display": true,
   "toc_window_display": false
  },
  "varInspector": {
   "cols": {
    "lenName": 16,
    "lenType": 16,
    "lenVar": 40
   },
   "kernels_config": {
    "python": {
     "delete_cmd_postfix": "",
     "delete_cmd_prefix": "del ",
     "library": "var_list.py",
     "varRefreshCmd": "print(var_dic_list())"
    },
    "r": {
     "delete_cmd_postfix": ") ",
     "delete_cmd_prefix": "rm(",
     "library": "var_list.r",
     "varRefreshCmd": "cat(var_dic_list()) "
    }
   },
   "types_to_exclude": [
    "module",
    "function",
    "builtin_function_or_method",
    "instance",
    "_Feature"
   ],
   "window_display": false
  }
 },
 "nbformat": 4,
 "nbformat_minor": 4
}
