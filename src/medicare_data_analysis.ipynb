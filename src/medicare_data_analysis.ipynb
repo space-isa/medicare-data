{
 "cells": [
  {
   "cell_type": "markdown",
   "metadata": {},
   "source": [
    "# Deep 2014 medicare analysis using BigQuery\n",
    "\n",
    "**Background:** Medicare provides federal health insurance to people age 65 and over, as well as to younger folks with disabilities. The Medicare dataset found on BigQuery was provided by the Centers for Medicare & Medicade Services (CMS), and the estimated state population, population demographics, and poverty rates in 2014 came from the US Census' website (census.gov). \n",
    "\n",
    "**Goals:**\n",
    "1. Gain insights into medicare data (inpatient, outpatient, and prescriptions) for the year 2014.\n",
    "2. Place medicare data into context with estimated 2014 state population and demographics for folks 65 and over.\n",
    "3. Place medicare data into context with estimated 2014 state poverty rates (all ages).\n",
    "\n",
    "Tools used in this notebook: BigQuery (APIs), Pandas, Scipy, Numpy, Geopandas, Plotly (+Matplotlib, Seaborn)\n",
    "External tools: Tableau\n",
    "\n",
    "**A few takeaways:**\n",
    "- Total precription cost (65 and over): $41 billion\n",
    "\n",
    "- Total inpatient care cost: $2.7 billion\n",
    "\n",
    "- Total outpatient care cost: $12.1 million\n",
    "\n",
    "- State with highest prescription rate per capita 65 and older: Kentuky \n",
    "- State with lowest prescription rate per capita 65 and older: Alaska\n",
    "- Southeastern US states tend to have higher rates of poverty and higher elderly prescription rates.\n",
    "\n",
    "**Suggestions improvement:** i) identifying trends over time by comparing datasets across multiple years, ii) using CMS data disaggregated by zipcode/county as well as race and gender.  "
   ]
  },
  {
   "cell_type": "markdown",
   "metadata": {
    "heading_collapsed": true
   },
   "source": [
    "## Set up"
   ]
  },
  {
   "cell_type": "markdown",
   "metadata": {
    "heading_collapsed": true,
    "hidden": true
   },
   "source": [
    "### Imports"
   ]
  },
  {
   "cell_type": "code",
   "execution_count": 6,
   "metadata": {
    "ExecuteTime": {
     "end_time": "2021-06-24T01:36:54.007458Z",
     "start_time": "2021-06-24T01:36:53.999721Z"
    },
    "hidden": true
   },
   "outputs": [],
   "source": [
    "# uncomment if needed\n",
    "# !python3 -m pip install --upgrade 'google-cloud-bigquery[bqstorage,pandas]'"
   ]
  },
  {
   "cell_type": "code",
   "execution_count": 41,
   "metadata": {
    "ExecuteTime": {
     "end_time": "2021-06-24T22:09:05.154475Z",
     "start_time": "2021-06-24T22:09:05.118909Z"
    },
    "code_folding": [],
    "hidden": true
   },
   "outputs": [],
   "source": [
    "#  Standard library imports\n",
    "from collections import Counter\n",
    "\n",
    "#  Companion scripts \n",
    "from client_auth import create_client\n",
    "\n",
    "#  BigQuery import\n",
    "# from google.oauth2 import service_account\n",
    "# from google.cloud import bigquery\n",
    "\n",
    "#  Data processing and analysis\n",
    "import pandas as pd\n",
    "pd.set_option(\"display.max_columns\", None) \n",
    "import numpy as np\n",
    "from scipy import stats\n",
    "\n",
    "#  Data vizualization\n",
    "from matplotlib import pyplot as plt\n",
    "import seaborn as sns\n",
    "import chart_studio.plotly as py\n",
    "import plotly.graph_objects as go\n",
    "import geopandas as gpd"
   ]
  },
  {
   "cell_type": "markdown",
   "metadata": {
    "heading_collapsed": true,
    "hidden": true
   },
   "source": [
    "### Authenticate and connect to BigQuery API."
   ]
  },
  {
   "cell_type": "code",
   "execution_count": 43,
   "metadata": {
    "ExecuteTime": {
     "end_time": "2021-06-24T22:09:27.026525Z",
     "start_time": "2021-06-24T22:09:26.976823Z"
    },
    "code_folding": [],
    "hidden": true
   },
   "outputs": [],
   "source": [
    "# def create_client():\n",
    "#     key_path = \"/path/to/key/filename.json\"\n",
    "#     scope = \"https://www.googleapis.com/auth/cloud-platform\"\n",
    "#     credentials = service_account.Credentials.from_service_account_file(key_path, scopes=[scope],)\n",
    "#     #  Create an instance of the bigquery.Client class to create the client\n",
    "#     client = bigquery.Client(credentials=credentials, project=credentials.project_id,)\n",
    "#     return client\n",
    "\n",
    "#  Call function from script\n",
    "client = create_client()"
   ]
  },
  {
   "cell_type": "markdown",
   "metadata": {
    "heading_collapsed": true,
    "hidden": true
   },
   "source": [
    "### Fetch medicare dataset"
   ]
  },
  {
   "cell_type": "code",
   "execution_count": null,
   "metadata": {
    "hidden": true
   },
   "outputs": [],
   "source": [
    "#  Define dataset reference\n",
    "project = \"bigquery-public-data\"\n",
    "dataset_id = \"medicare\"\n",
    "dataset_ref = client.dataset(dataset_id, project=project)\n",
    "\n",
    "#  Fetch dataset via API request\n",
    "dataset = client.get_dataset(dataset_ref)"
   ]
  },
  {
   "cell_type": "markdown",
   "metadata": {
    "heading_collapsed": true
   },
   "source": [
    "## Data exploration"
   ]
  },
  {
   "cell_type": "markdown",
   "metadata": {
    "heading_collapsed": true,
    "hidden": true
   },
   "source": [
    "### Define helper functions"
   ]
  },
  {
   "cell_type": "markdown",
   "metadata": {
    "heading_collapsed": true,
    "hidden": true
   },
   "source": [
    "#### Query to DataFrame"
   ]
  },
  {
   "cell_type": "code",
   "execution_count": 949,
   "metadata": {
    "ExecuteTime": {
     "end_time": "2021-07-02T18:49:48.717716Z",
     "start_time": "2021-07-02T18:49:48.707670Z"
    },
    "hidden": true
   },
   "outputs": [],
   "source": [
    "def query_to_df(query):\n",
    "    query_job = client.query(query)\n",
    "    df = query_job.to_dataframe()\n",
    "    return df"
   ]
  },
  {
   "cell_type": "markdown",
   "metadata": {
    "heading_collapsed": true,
    "hidden": true
   },
   "source": [
    "#### View table schema"
   ]
  },
  {
   "cell_type": "code",
   "execution_count": 954,
   "metadata": {
    "ExecuteTime": {
     "end_time": "2021-07-02T19:09:54.203106Z",
     "start_time": "2021-07-02T19:09:54.170500Z"
    },
    "hidden": true
   },
   "outputs": [],
   "source": [
    "def table_schema(table_name, num_results, view_schema=True):\n",
    "    #  Construct a reference to a given table\n",
    "    table_reference = dataset_ref.table(table_name)\n",
    "\n",
    "    #  API request to fetch table\n",
    "    table = client.get_table(table_reference)\n",
    "    if view_schema:\n",
    "        print(table.schema)\n",
    "\n",
    "    df = client.list_rows(table, max_results=num_results).to_dataframe()\n",
    "    return df"
   ]
  },
  {
   "cell_type": "markdown",
   "metadata": {
    "heading_collapsed": true,
    "hidden": true
   },
   "source": [
    "#### Find top N most common"
   ]
  },
  {
   "cell_type": "code",
   "execution_count": 1089,
   "metadata": {
    "ExecuteTime": {
     "end_time": "2021-07-03T01:12:15.121456Z",
     "start_time": "2021-07-03T01:12:15.105675Z"
    },
    "hidden": true
   },
   "outputs": [],
   "source": [
    "def most_common(df, category, N, groupby=None, counter=False):\n",
    "    if counter:\n",
    "        print(dict(Counter(df[category].values).most_common(N)))\n",
    "    else:\n",
    "        df_aggregated = df.groupby([groupby])[category].sum()\n",
    "        df_aggregated = df_aggregated.reset_index()\n",
    "        df_top_N = df_aggregated.sort_values(category, ascending=False).head(N)\n",
    "        return df_top_N"
   ]
  },
  {
   "cell_type": "markdown",
   "metadata": {
    "hidden": true
   },
   "source": [
    "#### Choropleth map"
   ]
  },
  {
   "cell_type": "code",
   "execution_count": 1169,
   "metadata": {
    "ExecuteTime": {
     "end_time": "2021-07-03T05:48:05.379054Z",
     "start_time": "2021-07-03T05:48:05.307806Z"
    },
    "hidden": true
   },
   "outputs": [],
   "source": [
    "def plot_most_common_by_state(df, locations, color, hover_name, title, fontsize, hover_data=None):\n",
    "    fig = px.choropleth(df,   \n",
    "                                       locations=locations,   \n",
    "                                      color=color,   \n",
    "                                      hover_name=hover_name, \n",
    "                                      hover_data=hover_data,\n",
    "                                      locationmode = 'USA-states')\n",
    "\n",
    "    fig.update_layout(height=300,\n",
    "                                    margin={'r':0, 't':40, 'l':0 ,'b':20},\n",
    "                                    title_text = title,\n",
    "                                    geo_scope='world',\n",
    "                                    title=dict(\n",
    "                                    font=dict(family=\"Courier\",\n",
    "                                                      size=20, \n",
    "                                                      color='black')),\n",
    "                                    legend=dict(x=1,y=0.5,\n",
    "                                                           title=None,\n",
    "                                                            traceorder=\"reversed\",\n",
    "                                                            font=dict(family=\"Courier\",\n",
    "                                                                              size=fontsize,\n",
    "                                                                              color=\"black\"),\n",
    "                                                            bgcolor=\"white\",\n",
    "                                                            bordercolor=\"white\",\n",
    "                                                            borderwidth=2))\n",
    "\n",
    "    fig.update_geos(projection_type=\"natural earth\")\n",
    "\n",
    "    fig.show()"
   ]
  },
  {
   "cell_type": "markdown",
   "metadata": {
    "heading_collapsed": true,
    "hidden": true
   },
   "source": [
    "### Explore medicare table schema"
   ]
  },
  {
   "cell_type": "markdown",
   "metadata": {
    "hidden": true
   },
   "source": [
    "#### View all tables in medicare dataset"
   ]
  },
  {
   "cell_type": "code",
   "execution_count": 52,
   "metadata": {
    "ExecuteTime": {
     "end_time": "2021-06-24T23:02:00.019902Z",
     "start_time": "2021-06-24T23:01:59.815020Z"
    },
    "hidden": true
   },
   "outputs": [
    {
     "name": "stdout",
     "output_type": "stream",
     "text": [
      "inpatient_charges_2011\n",
      "inpatient_charges_2012\n",
      "inpatient_charges_2013\n",
      "inpatient_charges_2014\n",
      "outpatient_charges_2011\n",
      "outpatient_charges_2012\n",
      "outpatient_charges_2013\n",
      "outpatient_charges_2014\n",
      "part_d_prescriber_2014\n",
      "physicians_and_other_supplier_2012\n",
      "physicians_and_other_supplier_2013\n",
      "physicians_and_other_supplier_2014\n"
     ]
    }
   ],
   "source": [
    "#  List all tables in the medicare dataset\n",
    "tables = list(client.list_tables(dataset))\n",
    "\n",
    "#  Display names of all tables w/i dataset\n",
    "for table in tables:  \n",
    "    print(table.table_id)"
   ]
  },
  {
   "cell_type": "markdown",
   "metadata": {
    "hidden": true
   },
   "source": [
    "This dataset contains inpatient, outpatient, medicare part d, and physicians data from between 2011 and 2014. Notice there's only one table contiaining prescription information from 2014. Looking at this table's schema, we find:"
   ]
  },
  {
   "cell_type": "code",
   "execution_count": 948,
   "metadata": {
    "ExecuteTime": {
     "end_time": "2021-07-02T18:46:28.559836Z",
     "start_time": "2021-07-02T18:46:27.666678Z"
    },
    "hidden": true,
    "scrolled": false
   },
   "outputs": [
    {
     "name": "stdout",
     "output_type": "stream",
     "text": [
      "[SchemaField('npi', 'INTEGER', 'REQUIRED', 'National Provider Identifier', (), None), SchemaField('nppes_provider_last_org_name', 'STRING', 'NULLABLE', 'Last Name/Organization Name of the Provider', (), None), SchemaField('nppes_provider_first_name', 'STRING', 'NULLABLE', 'First Name of the Provider', (), None), SchemaField('nppes_provider_city', 'STRING', 'NULLABLE', 'City of the Provider', (), None), SchemaField('nppes_provider_state', 'STRING', 'NULLABLE', 'State Code of the Provider', (), None), SchemaField('specialty_description', 'STRING', 'NULLABLE', 'Provider Specialty Type', (), None), SchemaField('description_flag', 'STRING', 'NULLABLE', 'Source of Provider Specialty', (), None), SchemaField('drug_name', 'STRING', 'REQUIRED', 'Name of the drug', (), None), SchemaField('generic_name', 'STRING', 'NULLABLE', 'Generic name of the drug', (), None), SchemaField('bene_count', 'INTEGER', 'NULLABLE', 'Number of Medicare Beneficiaries', (), None), SchemaField('total_claim_count', 'INTEGER', 'NULLABLE', 'Number of Medicare Part D Claims, Including Refills', (), None), SchemaField('total_day_supply', 'INTEGER', 'NULLABLE', \"Number of Day's Supply for All Claims\", (), None), SchemaField('total_drug_cost', 'FLOAT', 'NULLABLE', 'Aggregate Cost Paid for All Claims', (), None), SchemaField('bene_count_ge65', 'INTEGER', 'NULLABLE', 'Number of Medicare Beneficiaries Age 65+', (), None), SchemaField('bene_count_ge65_suppress_flag', 'STRING', 'NULLABLE', 'Reason for Suppression of Bene_Count_ge65', (), None), SchemaField('total_claim_count_ge65', 'INTEGER', 'NULLABLE', 'Number of Claims, Including Refills, for Beneficiaries Age 65+', (), None), SchemaField('ge65_suppress_flag', 'STRING', 'NULLABLE', 'Reason for Suppression of Total_Claim_Count_Ge65, Total_Drug_Cost_Ge65, and Total_Day_Supply_Ge65', (), None), SchemaField('total_day_supply_ge65', 'INTEGER', 'NULLABLE', \"Number of Day's Supply for All Claims for Beneficiaries Age 65+\", (), None), SchemaField('total_drug_cost_ge65', 'FLOAT', 'NULLABLE', 'Aggregate Cost Paid for All Claims for Beneficiaries Age 65+', (), None)]\n"
     ]
    },
    {
     "name": "stderr",
     "output_type": "stream",
     "text": [
      "/Users/Isabel/opt/anaconda3/lib/python3.8/site-packages/google/cloud/bigquery/table.py:1860: UserWarning:\n",
      "\n",
      "Cannot use bqstorage_client if max_results is set, reverting to fetching data with the REST endpoint.\n",
      "\n"
     ]
    },
    {
     "data": {
      "text/html": [
       "<div>\n",
       "<style scoped>\n",
       "    .dataframe tbody tr th:only-of-type {\n",
       "        vertical-align: middle;\n",
       "    }\n",
       "\n",
       "    .dataframe tbody tr th {\n",
       "        vertical-align: top;\n",
       "    }\n",
       "\n",
       "    .dataframe thead th {\n",
       "        text-align: right;\n",
       "    }\n",
       "</style>\n",
       "<table border=\"1\" class=\"dataframe\">\n",
       "  <thead>\n",
       "    <tr style=\"text-align: right;\">\n",
       "      <th></th>\n",
       "      <th>npi</th>\n",
       "      <th>nppes_provider_last_org_name</th>\n",
       "      <th>nppes_provider_first_name</th>\n",
       "      <th>nppes_provider_city</th>\n",
       "      <th>nppes_provider_state</th>\n",
       "      <th>specialty_description</th>\n",
       "      <th>description_flag</th>\n",
       "      <th>drug_name</th>\n",
       "      <th>generic_name</th>\n",
       "      <th>bene_count</th>\n",
       "      <th>total_claim_count</th>\n",
       "      <th>total_day_supply</th>\n",
       "      <th>total_drug_cost</th>\n",
       "      <th>bene_count_ge65</th>\n",
       "      <th>bene_count_ge65_suppress_flag</th>\n",
       "      <th>total_claim_count_ge65</th>\n",
       "      <th>ge65_suppress_flag</th>\n",
       "      <th>total_day_supply_ge65</th>\n",
       "      <th>total_drug_cost_ge65</th>\n",
       "    </tr>\n",
       "  </thead>\n",
       "  <tbody>\n",
       "    <tr>\n",
       "      <th>0</th>\n",
       "      <td>1417953134</td>\n",
       "      <td>KELLOGG</td>\n",
       "      <td>WILLIAM</td>\n",
       "      <td>POTTSVILLE</td>\n",
       "      <td>PA</td>\n",
       "      <td>Ophthalmology</td>\n",
       "      <td>S</td>\n",
       "      <td>FML</td>\n",
       "      <td>FLUOROMETHOLONE</td>\n",
       "      <td>43</td>\n",
       "      <td>81</td>\n",
       "      <td>1970</td>\n",
       "      <td>7025.69</td>\n",
       "      <td>30</td>\n",
       "      <td></td>\n",
       "      <td>57</td>\n",
       "      <td></td>\n",
       "      <td>1332</td>\n",
       "      <td>4954.08</td>\n",
       "    </tr>\n",
       "    <tr>\n",
       "      <th>1</th>\n",
       "      <td>1366428872</td>\n",
       "      <td>NIGRO</td>\n",
       "      <td>JEFF</td>\n",
       "      <td>VANDERGRIFT</td>\n",
       "      <td>PA</td>\n",
       "      <td>Podiatry</td>\n",
       "      <td>S</td>\n",
       "      <td>SSD</td>\n",
       "      <td>SILVER SULFADIAZINE</td>\n",
       "      <td>19</td>\n",
       "      <td>22</td>\n",
       "      <td>307</td>\n",
       "      <td>193.07</td>\n",
       "      <td>19</td>\n",
       "      <td></td>\n",
       "      <td>22</td>\n",
       "      <td></td>\n",
       "      <td>307</td>\n",
       "      <td>193.07</td>\n",
       "    </tr>\n",
       "    <tr>\n",
       "      <th>2</th>\n",
       "      <td>1891724027</td>\n",
       "      <td>CHEBANOVA</td>\n",
       "      <td>ELENA</td>\n",
       "      <td>DENVER</td>\n",
       "      <td>CO</td>\n",
       "      <td>Internal Medicine</td>\n",
       "      <td>S</td>\n",
       "      <td>SSD</td>\n",
       "      <td>SILVER SULFADIAZINE</td>\n",
       "      <td>12</td>\n",
       "      <td>23</td>\n",
       "      <td>690</td>\n",
       "      <td>285.08</td>\n",
       "      <td>12</td>\n",
       "      <td></td>\n",
       "      <td>23</td>\n",
       "      <td></td>\n",
       "      <td>690</td>\n",
       "      <td>285.08</td>\n",
       "    </tr>\n",
       "    <tr>\n",
       "      <th>3</th>\n",
       "      <td>1013911098</td>\n",
       "      <td>SAUNDERS</td>\n",
       "      <td>NEIL</td>\n",
       "      <td>TOLEDO</td>\n",
       "      <td>OH</td>\n",
       "      <td>Podiatry</td>\n",
       "      <td>S</td>\n",
       "      <td>SSD</td>\n",
       "      <td>SILVER SULFADIAZINE</td>\n",
       "      <td>32</td>\n",
       "      <td>39</td>\n",
       "      <td>751</td>\n",
       "      <td>373.45</td>\n",
       "      <td>21</td>\n",
       "      <td></td>\n",
       "      <td>24</td>\n",
       "      <td></td>\n",
       "      <td>484</td>\n",
       "      <td>220.64</td>\n",
       "    </tr>\n",
       "    <tr>\n",
       "      <th>4</th>\n",
       "      <td>1093796542</td>\n",
       "      <td>GREATHOUSE</td>\n",
       "      <td>MARK</td>\n",
       "      <td>PITTSBURGH</td>\n",
       "      <td>PA</td>\n",
       "      <td>Cardiology</td>\n",
       "      <td>S</td>\n",
       "      <td>AZOR</td>\n",
       "      <td>AMLODIPINE BES/OLMESARTAN MED</td>\n",
       "      <td>15</td>\n",
       "      <td>54</td>\n",
       "      <td>2970</td>\n",
       "      <td>13844.40</td>\n",
       "      <td>15</td>\n",
       "      <td></td>\n",
       "      <td>54</td>\n",
       "      <td></td>\n",
       "      <td>2970</td>\n",
       "      <td>13844.40</td>\n",
       "    </tr>\n",
       "    <tr>\n",
       "      <th>5</th>\n",
       "      <td>1821042771</td>\n",
       "      <td>SHARMA</td>\n",
       "      <td>SARIKA</td>\n",
       "      <td>HACKENSACK</td>\n",
       "      <td>NJ</td>\n",
       "      <td>Cardiology</td>\n",
       "      <td>S</td>\n",
       "      <td>AZOR</td>\n",
       "      <td>AMLODIPINE BES/OLMESARTAN MED</td>\n",
       "      <td>12</td>\n",
       "      <td>59</td>\n",
       "      <td>2910</td>\n",
       "      <td>17583.03</td>\n",
       "      <td>12</td>\n",
       "      <td></td>\n",
       "      <td>59</td>\n",
       "      <td></td>\n",
       "      <td>2910</td>\n",
       "      <td>17583.03</td>\n",
       "    </tr>\n",
       "    <tr>\n",
       "      <th>6</th>\n",
       "      <td>1124115027</td>\n",
       "      <td>LICHTINGER</td>\n",
       "      <td>DAVID</td>\n",
       "      <td>LEESBURG</td>\n",
       "      <td>FL</td>\n",
       "      <td>Internal Medicine</td>\n",
       "      <td>S</td>\n",
       "      <td>AZOR</td>\n",
       "      <td>AMLODIPINE BES/OLMESARTAN MED</td>\n",
       "      <td>12</td>\n",
       "      <td>59</td>\n",
       "      <td>3450</td>\n",
       "      <td>18898.41</td>\n",
       "      <td>12</td>\n",
       "      <td></td>\n",
       "      <td>59</td>\n",
       "      <td></td>\n",
       "      <td>3450</td>\n",
       "      <td>18898.41</td>\n",
       "    </tr>\n",
       "    <tr>\n",
       "      <th>7</th>\n",
       "      <td>1790835940</td>\n",
       "      <td>CLARK</td>\n",
       "      <td>PRESTON</td>\n",
       "      <td>GREENSBORO</td>\n",
       "      <td>NC</td>\n",
       "      <td>Internal Medicine</td>\n",
       "      <td>S</td>\n",
       "      <td>AZOR</td>\n",
       "      <td>AMLODIPINE BES/OLMESARTAN MED</td>\n",
       "      <td>12</td>\n",
       "      <td>76</td>\n",
       "      <td>3482</td>\n",
       "      <td>19925.52</td>\n",
       "      <td>12</td>\n",
       "      <td></td>\n",
       "      <td>76</td>\n",
       "      <td></td>\n",
       "      <td>3482</td>\n",
       "      <td>19925.52</td>\n",
       "    </tr>\n",
       "    <tr>\n",
       "      <th>8</th>\n",
       "      <td>1801871470</td>\n",
       "      <td>SOLOMON</td>\n",
       "      <td>WILLIAM</td>\n",
       "      <td>SOUTHFIELD</td>\n",
       "      <td>MI</td>\n",
       "      <td>Internal Medicine</td>\n",
       "      <td>S</td>\n",
       "      <td>AZOR</td>\n",
       "      <td>AMLODIPINE BES/OLMESARTAN MED</td>\n",
       "      <td>21</td>\n",
       "      <td>96</td>\n",
       "      <td>5143</td>\n",
       "      <td>27414.76</td>\n",
       "      <td>21</td>\n",
       "      <td></td>\n",
       "      <td>96</td>\n",
       "      <td></td>\n",
       "      <td>5143</td>\n",
       "      <td>27414.76</td>\n",
       "    </tr>\n",
       "    <tr>\n",
       "      <th>9</th>\n",
       "      <td>1679591564</td>\n",
       "      <td>STANILOIU</td>\n",
       "      <td>MARIA</td>\n",
       "      <td>FOREST HILLS</td>\n",
       "      <td>NY</td>\n",
       "      <td>Internal Medicine</td>\n",
       "      <td>S</td>\n",
       "      <td>AZOR</td>\n",
       "      <td>AMLODIPINE BES/OLMESARTAN MED</td>\n",
       "      <td>18</td>\n",
       "      <td>99</td>\n",
       "      <td>4530</td>\n",
       "      <td>23313.00</td>\n",
       "      <td>18</td>\n",
       "      <td></td>\n",
       "      <td>99</td>\n",
       "      <td></td>\n",
       "      <td>4530</td>\n",
       "      <td>23313.00</td>\n",
       "    </tr>\n",
       "  </tbody>\n",
       "</table>\n",
       "</div>"
      ],
      "text/plain": [
       "          npi nppes_provider_last_org_name nppes_provider_first_name  \\\n",
       "0  1417953134                      KELLOGG                   WILLIAM   \n",
       "1  1366428872                        NIGRO                      JEFF   \n",
       "2  1891724027                    CHEBANOVA                     ELENA   \n",
       "3  1013911098                     SAUNDERS                      NEIL   \n",
       "4  1093796542                   GREATHOUSE                      MARK   \n",
       "5  1821042771                       SHARMA                    SARIKA   \n",
       "6  1124115027                   LICHTINGER                     DAVID   \n",
       "7  1790835940                        CLARK                   PRESTON   \n",
       "8  1801871470                      SOLOMON                   WILLIAM   \n",
       "9  1679591564                    STANILOIU                     MARIA   \n",
       "\n",
       "  nppes_provider_city nppes_provider_state specialty_description  \\\n",
       "0          POTTSVILLE                   PA         Ophthalmology   \n",
       "1         VANDERGRIFT                   PA              Podiatry   \n",
       "2              DENVER                   CO     Internal Medicine   \n",
       "3              TOLEDO                   OH              Podiatry   \n",
       "4          PITTSBURGH                   PA            Cardiology   \n",
       "5          HACKENSACK                   NJ            Cardiology   \n",
       "6            LEESBURG                   FL     Internal Medicine   \n",
       "7          GREENSBORO                   NC     Internal Medicine   \n",
       "8          SOUTHFIELD                   MI     Internal Medicine   \n",
       "9        FOREST HILLS                   NY     Internal Medicine   \n",
       "\n",
       "  description_flag drug_name                   generic_name  bene_count  \\\n",
       "0                S       FML                FLUOROMETHOLONE          43   \n",
       "1                S       SSD            SILVER SULFADIAZINE          19   \n",
       "2                S       SSD            SILVER SULFADIAZINE          12   \n",
       "3                S       SSD            SILVER SULFADIAZINE          32   \n",
       "4                S      AZOR  AMLODIPINE BES/OLMESARTAN MED          15   \n",
       "5                S      AZOR  AMLODIPINE BES/OLMESARTAN MED          12   \n",
       "6                S      AZOR  AMLODIPINE BES/OLMESARTAN MED          12   \n",
       "7                S      AZOR  AMLODIPINE BES/OLMESARTAN MED          12   \n",
       "8                S      AZOR  AMLODIPINE BES/OLMESARTAN MED          21   \n",
       "9                S      AZOR  AMLODIPINE BES/OLMESARTAN MED          18   \n",
       "\n",
       "   total_claim_count  total_day_supply  total_drug_cost  bene_count_ge65  \\\n",
       "0                 81              1970          7025.69               30   \n",
       "1                 22               307           193.07               19   \n",
       "2                 23               690           285.08               12   \n",
       "3                 39               751           373.45               21   \n",
       "4                 54              2970         13844.40               15   \n",
       "5                 59              2910         17583.03               12   \n",
       "6                 59              3450         18898.41               12   \n",
       "7                 76              3482         19925.52               12   \n",
       "8                 96              5143         27414.76               21   \n",
       "9                 99              4530         23313.00               18   \n",
       "\n",
       "  bene_count_ge65_suppress_flag  total_claim_count_ge65 ge65_suppress_flag  \\\n",
       "0                                                    57                      \n",
       "1                                                    22                      \n",
       "2                                                    23                      \n",
       "3                                                    24                      \n",
       "4                                                    54                      \n",
       "5                                                    59                      \n",
       "6                                                    59                      \n",
       "7                                                    76                      \n",
       "8                                                    96                      \n",
       "9                                                    99                      \n",
       "\n",
       "   total_day_supply_ge65  total_drug_cost_ge65  \n",
       "0                   1332               4954.08  \n",
       "1                    307                193.07  \n",
       "2                    690                285.08  \n",
       "3                    484                220.64  \n",
       "4                   2970              13844.40  \n",
       "5                   2910              17583.03  \n",
       "6                   3450              18898.41  \n",
       "7                   3482              19925.52  \n",
       "8                   5143              27414.76  \n",
       "9                   4530              23313.00  "
      ]
     },
     "execution_count": 948,
     "metadata": {},
     "output_type": "execute_result"
    }
   ],
   "source": [
    "table_name = 'part_d_prescriber_2014'\n",
    "df = table_schema(table_name, num_results=10, view_schema=True)\n",
    "df"
   ]
  },
  {
   "cell_type": "markdown",
   "metadata": {
    "hidden": true
   },
   "source": [
    "Offhand, there are a number of columns that could be of interest, including: \n",
    "- city \n",
    "- state  \n",
    "- drug name \n",
    "- generic name \n",
    "- beneficiary count (65+) \n",
    "- total claim count (65+) \n",
    "- total drug cost (65+)"
   ]
  },
  {
   "cell_type": "markdown",
   "metadata": {
    "heading_collapsed": true,
    "hidden": true
   },
   "source": [
    "### Compile medicare data of interest"
   ]
  },
  {
   "cell_type": "markdown",
   "metadata": {
    "heading_collapsed": true,
    "hidden": true
   },
   "source": [
    "#### Total number and cost of medications perscribed in each state (age 65+)"
   ]
  },
  {
   "cell_type": "markdown",
   "metadata": {
    "hidden": true
   },
   "source": [
    "We'll calculate the sum of total_claim_count_ge65 and total_drug_cost_ge65 for each state and create some exploratory plots."
   ]
  },
  {
   "cell_type": "markdown",
   "metadata": {
    "heading_collapsed": true,
    "hidden": true
   },
   "source": [
    "##### SQL query: Total prescribed per state"
   ]
  },
  {
   "cell_type": "code",
   "execution_count": 951,
   "metadata": {
    "ExecuteTime": {
     "end_time": "2021-07-02T18:51:53.821325Z",
     "start_time": "2021-07-02T18:51:53.813183Z"
    },
    "code_folding": [],
    "hidden": true
   },
   "outputs": [],
   "source": [
    "query = \"\"\" SELECT nppes_provider_state as state, \n",
    "                   SUM(total_claim_count_ge65) as total_num_medications,\n",
    "                   SUM(total_drug_cost_ge65) as total_drug_cost\n",
    "                    FROM bigquery-public-data.medicare.part_d_prescriber_2014\n",
    "                    WHERE (nppes_provider_state != 'AA' AND \n",
    "                                    nppes_provider_state != 'AE' AND \n",
    "                                    nppes_provider_state != 'AS' AND\n",
    "                                    nppes_provider_state != 'AP' AND\n",
    "                                    nppes_provider_state != 'GU' AND\n",
    "                                    nppes_provider_state != 'MP' AND\n",
    "                                    nppes_provider_state != 'PR' AND\n",
    "                                    nppes_provider_state != 'VI' AND\n",
    "                                    nppes_provider_state != 'XX' AND\n",
    "                                    nppes_provider_state != 'ZZ')\n",
    "                    GROUP BY 1\n",
    "                    ORDER BY 1\n",
    "              \"\"\""
   ]
  },
  {
   "cell_type": "code",
   "execution_count": 952,
   "metadata": {
    "ExecuteTime": {
     "end_time": "2021-07-02T18:53:08.798265Z",
     "start_time": "2021-07-02T18:53:05.081623Z"
    },
    "hidden": true
   },
   "outputs": [
    {
     "name": "stdout",
     "output_type": "stream",
     "text": [
      "51\n"
     ]
    },
    {
     "data": {
      "text/plain": [
       "state  total_num_medications  total_drug_cost\n",
       "AK     428694                 2.432429e+07       1\n",
       "PA     34153102               2.187894e+09       1\n",
       "ND     1641185                9.039789e+07       1\n",
       "NE     4398631                2.294336e+08       1\n",
       "NH     1835310                1.175772e+08       1\n",
       "dtype: int64"
      ]
     },
     "execution_count": 952,
     "metadata": {},
     "output_type": "execute_result"
    }
   ],
   "source": [
    "total_prescription_state = query_to_df(query)\n",
    "\n",
    "#  Checking results\n",
    "print(len(total_prescription_state)) # expect 50 states + DC\n",
    "total_prescription_state.value_counts().head()"
   ]
  },
  {
   "cell_type": "code",
   "execution_count": 1262,
   "metadata": {
    "ExecuteTime": {
     "end_time": "2021-07-03T19:35:06.222835Z",
     "start_time": "2021-07-03T19:35:06.186211Z"
    },
    "hidden": true
   },
   "outputs": [
    {
     "name": "stdout",
     "output_type": "stream",
     "text": [
      "$40,993,937,079.59\n"
     ]
    }
   ],
   "source": [
    "total_prescription_cost_over_65 = total_prescription_state.total_drug_cost.sum()\n",
    "print('${0:,.2f}'.format(total_prescription_cost_over_65))"
   ]
  },
  {
   "cell_type": "markdown",
   "metadata": {
    "heading_collapsed": true,
    "hidden": true
   },
   "source": [
    "##### Exploratory plots and statistical analysis"
   ]
  },
  {
   "cell_type": "code",
   "execution_count": 909,
   "metadata": {
    "ExecuteTime": {
     "end_time": "2021-07-02T14:56:47.223907Z",
     "start_time": "2021-07-02T14:56:47.049579Z"
    },
    "hidden": true,
    "scrolled": false
   },
   "outputs": [
    {
     "data": {
      "application/vnd.plotly.v1+json": {
       "config": {
        "plotlyServerURL": "https://plotly.com"
       },
       "data": [
        {
         "alignmentgroup": "True",
         "customdata": [
          [
           24324293.750000004
          ],
          [
           58827514.61999998
          ],
          [
           37656762.79
          ],
          [
           62939851.72999998
          ],
          [
           127366494.88000001
          ],
          [
           90397888.51999997
          ],
          [
           97737074.08999999
          ],
          [
           117577228.92999996
          ],
          [
           110631896.33
          ],
          [
           176486193.75999996
          ],
          [
           128361784.49
          ],
          [
           162207254.2599999
          ],
          [
           185494782.87999997
          ],
          [
           160256986.70999998
          ],
          [
           154767411.23999995
          ],
          [
           223677020.33
          ],
          [
           229433601.33000004
          ],
          [
           340928201.84999996
          ],
          [
           411706914.45
          ],
          [
           518748181.45000035
          ],
          [
           353361346.5899999
          ],
          [
           544698584.6200001
          ],
          [
           400010370.71999997
          ],
          [
           468734269.02000004
          ],
          [
           407526070.15
          ],
          [
           389917566.2700001
          ],
          [
           515789041.1799998
          ],
          [
           406622898.03999996
          ],
          [
           557468014.0699998
          ],
          [
           678136778.0899998
          ],
          [
           653927159.5999999
          ],
          [
           705108037.5599998
          ],
          [
           700086999.89
          ],
          [
           795804823.4000005
          ],
          [
           796566691.5099998
          ],
          [
           755983685.0699997
          ],
          [
           751572626.1999999
          ],
          [
           898818223.1
          ],
          [
           1382456109.5400002
          ],
          [
           923089445.3399992
          ],
          [
           989631065.2099991
          ],
          [
           1266437007.4199996
          ],
          [
           1240075119.9099998
          ],
          [
           1432565908.2099998
          ],
          [
           1408441713.1800005
          ],
          [
           1794862017.760001
          ],
          [
           2187894073.8100004
          ],
          [
           2892099664.9000015
          ],
          [
           3545453052.7200003
          ],
          [
           3163068510.879997
          ],
          [
           4568202867.240004
          ]
         ],
         "hovertemplate": "State=%{x}<br>Number of perscriptions=%{y}<br>total_drug_cost=%{customdata[0]}<extra></extra>",
         "legendgroup": "",
         "marker": {
          "color": "#636efa",
          "pattern": {
           "shape": ""
          }
         },
         "name": "",
         "offsetgroup": "",
         "orientation": "v",
         "showlegend": false,
         "textposition": "auto",
         "type": "bar",
         "x": [
          "AK",
          "DC",
          "WY",
          "VT",
          "DE",
          "ND",
          "MT",
          "NH",
          "SD",
          "HI",
          "ID",
          "ME",
          "UT",
          "NM",
          "RI",
          "NV",
          "NE",
          "WV",
          "CO",
          "MD",
          "KS",
          "CT",
          "OR",
          "OK",
          "IA",
          "AR",
          "MN",
          "MS",
          "WA",
          "AZ",
          "WI",
          "SC",
          "LA",
          "VA",
          "MA",
          "KY",
          "AL",
          "IN",
          "NJ",
          "MO",
          "TN",
          "MI",
          "GA",
          "IL",
          "NC",
          "OH",
          "PA",
          "TX",
          "NY",
          "FL",
          "CA"
         ],
         "xaxis": "x",
         "y": [
          428694,
          666335,
          694749,
          957109,
          1419524,
          1641185,
          1661742,
          1835310,
          1945888,
          2038572,
          2354627,
          2523120,
          2738787,
          2843734,
          3175981,
          3854826,
          4398631,
          5880592,
          6192081,
          6487990,
          6489969,
          6629831,
          6993802,
          7651289,
          8266318,
          8452560,
          8487142,
          8502072,
          9218117,
          9845726,
          10826772,
          11595687,
          12335806,
          13183822,
          13265632,
          13860318,
          14067221,
          14470683,
          14834277,
          16296315,
          18306965,
          18668305,
          21524246,
          22578345,
          24483045,
          28325661,
          34153102,
          40256877,
          42639182,
          50202887,
          61833844
         ],
         "yaxis": "y"
        }
       ],
       "layout": {
        "barmode": "relative",
        "legend": {
         "tracegroupgap": 0
        },
        "template": {
         "data": {
          "bar": [
           {
            "error_x": {
             "color": "#2a3f5f"
            },
            "error_y": {
             "color": "#2a3f5f"
            },
            "marker": {
             "line": {
              "color": "#E5ECF6",
              "width": 0.5
             },
             "pattern": {
              "fillmode": "overlay",
              "size": 10,
              "solidity": 0.2
             }
            },
            "type": "bar"
           }
          ],
          "barpolar": [
           {
            "marker": {
             "line": {
              "color": "#E5ECF6",
              "width": 0.5
             },
             "pattern": {
              "fillmode": "overlay",
              "size": 10,
              "solidity": 0.2
             }
            },
            "type": "barpolar"
           }
          ],
          "carpet": [
           {
            "aaxis": {
             "endlinecolor": "#2a3f5f",
             "gridcolor": "white",
             "linecolor": "white",
             "minorgridcolor": "white",
             "startlinecolor": "#2a3f5f"
            },
            "baxis": {
             "endlinecolor": "#2a3f5f",
             "gridcolor": "white",
             "linecolor": "white",
             "minorgridcolor": "white",
             "startlinecolor": "#2a3f5f"
            },
            "type": "carpet"
           }
          ],
          "choropleth": [
           {
            "colorbar": {
             "outlinewidth": 0,
             "ticks": ""
            },
            "type": "choropleth"
           }
          ],
          "contour": [
           {
            "colorbar": {
             "outlinewidth": 0,
             "ticks": ""
            },
            "colorscale": [
             [
              0,
              "#0d0887"
             ],
             [
              0.1111111111111111,
              "#46039f"
             ],
             [
              0.2222222222222222,
              "#7201a8"
             ],
             [
              0.3333333333333333,
              "#9c179e"
             ],
             [
              0.4444444444444444,
              "#bd3786"
             ],
             [
              0.5555555555555556,
              "#d8576b"
             ],
             [
              0.6666666666666666,
              "#ed7953"
             ],
             [
              0.7777777777777778,
              "#fb9f3a"
             ],
             [
              0.8888888888888888,
              "#fdca26"
             ],
             [
              1,
              "#f0f921"
             ]
            ],
            "type": "contour"
           }
          ],
          "contourcarpet": [
           {
            "colorbar": {
             "outlinewidth": 0,
             "ticks": ""
            },
            "type": "contourcarpet"
           }
          ],
          "heatmap": [
           {
            "colorbar": {
             "outlinewidth": 0,
             "ticks": ""
            },
            "colorscale": [
             [
              0,
              "#0d0887"
             ],
             [
              0.1111111111111111,
              "#46039f"
             ],
             [
              0.2222222222222222,
              "#7201a8"
             ],
             [
              0.3333333333333333,
              "#9c179e"
             ],
             [
              0.4444444444444444,
              "#bd3786"
             ],
             [
              0.5555555555555556,
              "#d8576b"
             ],
             [
              0.6666666666666666,
              "#ed7953"
             ],
             [
              0.7777777777777778,
              "#fb9f3a"
             ],
             [
              0.8888888888888888,
              "#fdca26"
             ],
             [
              1,
              "#f0f921"
             ]
            ],
            "type": "heatmap"
           }
          ],
          "heatmapgl": [
           {
            "colorbar": {
             "outlinewidth": 0,
             "ticks": ""
            },
            "colorscale": [
             [
              0,
              "#0d0887"
             ],
             [
              0.1111111111111111,
              "#46039f"
             ],
             [
              0.2222222222222222,
              "#7201a8"
             ],
             [
              0.3333333333333333,
              "#9c179e"
             ],
             [
              0.4444444444444444,
              "#bd3786"
             ],
             [
              0.5555555555555556,
              "#d8576b"
             ],
             [
              0.6666666666666666,
              "#ed7953"
             ],
             [
              0.7777777777777778,
              "#fb9f3a"
             ],
             [
              0.8888888888888888,
              "#fdca26"
             ],
             [
              1,
              "#f0f921"
             ]
            ],
            "type": "heatmapgl"
           }
          ],
          "histogram": [
           {
            "marker": {
             "pattern": {
              "fillmode": "overlay",
              "size": 10,
              "solidity": 0.2
             }
            },
            "type": "histogram"
           }
          ],
          "histogram2d": [
           {
            "colorbar": {
             "outlinewidth": 0,
             "ticks": ""
            },
            "colorscale": [
             [
              0,
              "#0d0887"
             ],
             [
              0.1111111111111111,
              "#46039f"
             ],
             [
              0.2222222222222222,
              "#7201a8"
             ],
             [
              0.3333333333333333,
              "#9c179e"
             ],
             [
              0.4444444444444444,
              "#bd3786"
             ],
             [
              0.5555555555555556,
              "#d8576b"
             ],
             [
              0.6666666666666666,
              "#ed7953"
             ],
             [
              0.7777777777777778,
              "#fb9f3a"
             ],
             [
              0.8888888888888888,
              "#fdca26"
             ],
             [
              1,
              "#f0f921"
             ]
            ],
            "type": "histogram2d"
           }
          ],
          "histogram2dcontour": [
           {
            "colorbar": {
             "outlinewidth": 0,
             "ticks": ""
            },
            "colorscale": [
             [
              0,
              "#0d0887"
             ],
             [
              0.1111111111111111,
              "#46039f"
             ],
             [
              0.2222222222222222,
              "#7201a8"
             ],
             [
              0.3333333333333333,
              "#9c179e"
             ],
             [
              0.4444444444444444,
              "#bd3786"
             ],
             [
              0.5555555555555556,
              "#d8576b"
             ],
             [
              0.6666666666666666,
              "#ed7953"
             ],
             [
              0.7777777777777778,
              "#fb9f3a"
             ],
             [
              0.8888888888888888,
              "#fdca26"
             ],
             [
              1,
              "#f0f921"
             ]
            ],
            "type": "histogram2dcontour"
           }
          ],
          "mesh3d": [
           {
            "colorbar": {
             "outlinewidth": 0,
             "ticks": ""
            },
            "type": "mesh3d"
           }
          ],
          "parcoords": [
           {
            "line": {
             "colorbar": {
              "outlinewidth": 0,
              "ticks": ""
             }
            },
            "type": "parcoords"
           }
          ],
          "pie": [
           {
            "automargin": true,
            "type": "pie"
           }
          ],
          "scatter": [
           {
            "marker": {
             "colorbar": {
              "outlinewidth": 0,
              "ticks": ""
             }
            },
            "type": "scatter"
           }
          ],
          "scatter3d": [
           {
            "line": {
             "colorbar": {
              "outlinewidth": 0,
              "ticks": ""
             }
            },
            "marker": {
             "colorbar": {
              "outlinewidth": 0,
              "ticks": ""
             }
            },
            "type": "scatter3d"
           }
          ],
          "scattercarpet": [
           {
            "marker": {
             "colorbar": {
              "outlinewidth": 0,
              "ticks": ""
             }
            },
            "type": "scattercarpet"
           }
          ],
          "scattergeo": [
           {
            "marker": {
             "colorbar": {
              "outlinewidth": 0,
              "ticks": ""
             }
            },
            "type": "scattergeo"
           }
          ],
          "scattergl": [
           {
            "marker": {
             "colorbar": {
              "outlinewidth": 0,
              "ticks": ""
             }
            },
            "type": "scattergl"
           }
          ],
          "scattermapbox": [
           {
            "marker": {
             "colorbar": {
              "outlinewidth": 0,
              "ticks": ""
             }
            },
            "type": "scattermapbox"
           }
          ],
          "scatterpolar": [
           {
            "marker": {
             "colorbar": {
              "outlinewidth": 0,
              "ticks": ""
             }
            },
            "type": "scatterpolar"
           }
          ],
          "scatterpolargl": [
           {
            "marker": {
             "colorbar": {
              "outlinewidth": 0,
              "ticks": ""
             }
            },
            "type": "scatterpolargl"
           }
          ],
          "scatterternary": [
           {
            "marker": {
             "colorbar": {
              "outlinewidth": 0,
              "ticks": ""
             }
            },
            "type": "scatterternary"
           }
          ],
          "surface": [
           {
            "colorbar": {
             "outlinewidth": 0,
             "ticks": ""
            },
            "colorscale": [
             [
              0,
              "#0d0887"
             ],
             [
              0.1111111111111111,
              "#46039f"
             ],
             [
              0.2222222222222222,
              "#7201a8"
             ],
             [
              0.3333333333333333,
              "#9c179e"
             ],
             [
              0.4444444444444444,
              "#bd3786"
             ],
             [
              0.5555555555555556,
              "#d8576b"
             ],
             [
              0.6666666666666666,
              "#ed7953"
             ],
             [
              0.7777777777777778,
              "#fb9f3a"
             ],
             [
              0.8888888888888888,
              "#fdca26"
             ],
             [
              1,
              "#f0f921"
             ]
            ],
            "type": "surface"
           }
          ],
          "table": [
           {
            "cells": {
             "fill": {
              "color": "#EBF0F8"
             },
             "line": {
              "color": "white"
             }
            },
            "header": {
             "fill": {
              "color": "#C8D4E3"
             },
             "line": {
              "color": "white"
             }
            },
            "type": "table"
           }
          ]
         },
         "layout": {
          "annotationdefaults": {
           "arrowcolor": "#2a3f5f",
           "arrowhead": 0,
           "arrowwidth": 1
          },
          "autotypenumbers": "strict",
          "coloraxis": {
           "colorbar": {
            "outlinewidth": 0,
            "ticks": ""
           }
          },
          "colorscale": {
           "diverging": [
            [
             0,
             "#8e0152"
            ],
            [
             0.1,
             "#c51b7d"
            ],
            [
             0.2,
             "#de77ae"
            ],
            [
             0.3,
             "#f1b6da"
            ],
            [
             0.4,
             "#fde0ef"
            ],
            [
             0.5,
             "#f7f7f7"
            ],
            [
             0.6,
             "#e6f5d0"
            ],
            [
             0.7,
             "#b8e186"
            ],
            [
             0.8,
             "#7fbc41"
            ],
            [
             0.9,
             "#4d9221"
            ],
            [
             1,
             "#276419"
            ]
           ],
           "sequential": [
            [
             0,
             "#0d0887"
            ],
            [
             0.1111111111111111,
             "#46039f"
            ],
            [
             0.2222222222222222,
             "#7201a8"
            ],
            [
             0.3333333333333333,
             "#9c179e"
            ],
            [
             0.4444444444444444,
             "#bd3786"
            ],
            [
             0.5555555555555556,
             "#d8576b"
            ],
            [
             0.6666666666666666,
             "#ed7953"
            ],
            [
             0.7777777777777778,
             "#fb9f3a"
            ],
            [
             0.8888888888888888,
             "#fdca26"
            ],
            [
             1,
             "#f0f921"
            ]
           ],
           "sequentialminus": [
            [
             0,
             "#0d0887"
            ],
            [
             0.1111111111111111,
             "#46039f"
            ],
            [
             0.2222222222222222,
             "#7201a8"
            ],
            [
             0.3333333333333333,
             "#9c179e"
            ],
            [
             0.4444444444444444,
             "#bd3786"
            ],
            [
             0.5555555555555556,
             "#d8576b"
            ],
            [
             0.6666666666666666,
             "#ed7953"
            ],
            [
             0.7777777777777778,
             "#fb9f3a"
            ],
            [
             0.8888888888888888,
             "#fdca26"
            ],
            [
             1,
             "#f0f921"
            ]
           ]
          },
          "colorway": [
           "#636efa",
           "#EF553B",
           "#00cc96",
           "#ab63fa",
           "#FFA15A",
           "#19d3f3",
           "#FF6692",
           "#B6E880",
           "#FF97FF",
           "#FECB52"
          ],
          "font": {
           "color": "#2a3f5f"
          },
          "geo": {
           "bgcolor": "white",
           "lakecolor": "white",
           "landcolor": "#E5ECF6",
           "showlakes": true,
           "showland": true,
           "subunitcolor": "white"
          },
          "hoverlabel": {
           "align": "left"
          },
          "hovermode": "closest",
          "mapbox": {
           "style": "light"
          },
          "paper_bgcolor": "white",
          "plot_bgcolor": "#E5ECF6",
          "polar": {
           "angularaxis": {
            "gridcolor": "white",
            "linecolor": "white",
            "ticks": ""
           },
           "bgcolor": "#E5ECF6",
           "radialaxis": {
            "gridcolor": "white",
            "linecolor": "white",
            "ticks": ""
           }
          },
          "scene": {
           "xaxis": {
            "backgroundcolor": "#E5ECF6",
            "gridcolor": "white",
            "gridwidth": 2,
            "linecolor": "white",
            "showbackground": true,
            "ticks": "",
            "zerolinecolor": "white"
           },
           "yaxis": {
            "backgroundcolor": "#E5ECF6",
            "gridcolor": "white",
            "gridwidth": 2,
            "linecolor": "white",
            "showbackground": true,
            "ticks": "",
            "zerolinecolor": "white"
           },
           "zaxis": {
            "backgroundcolor": "#E5ECF6",
            "gridcolor": "white",
            "gridwidth": 2,
            "linecolor": "white",
            "showbackground": true,
            "ticks": "",
            "zerolinecolor": "white"
           }
          },
          "shapedefaults": {
           "line": {
            "color": "#2a3f5f"
           }
          },
          "ternary": {
           "aaxis": {
            "gridcolor": "white",
            "linecolor": "white",
            "ticks": ""
           },
           "baxis": {
            "gridcolor": "white",
            "linecolor": "white",
            "ticks": ""
           },
           "bgcolor": "#E5ECF6",
           "caxis": {
            "gridcolor": "white",
            "linecolor": "white",
            "ticks": ""
           }
          },
          "title": {
           "x": 0.05
          },
          "xaxis": {
           "automargin": true,
           "gridcolor": "white",
           "linecolor": "white",
           "ticks": "",
           "title": {
            "standoff": 15
           },
           "zerolinecolor": "white",
           "zerolinewidth": 2
          },
          "yaxis": {
           "automargin": true,
           "gridcolor": "white",
           "linecolor": "white",
           "ticks": "",
           "title": {
            "standoff": 15
           },
           "zerolinecolor": "white",
           "zerolinewidth": 2
          }
         }
        },
        "title": {
         "text": "Total number of perscriptions per state 65+ (US, 2014)"
        },
        "xaxis": {
         "anchor": "y",
         "domain": [
          0,
          1
         ],
         "title": {
          "text": "State"
         }
        },
        "yaxis": {
         "anchor": "x",
         "domain": [
          0,
          1
         ],
         "title": {
          "text": "Number of perscriptions"
         }
        }
       }
      },
      "text/html": [
       "<div>                            <div id=\"42a256ce-5f08-4ae7-831d-2ab723321931\" class=\"plotly-graph-div\" style=\"height:525px; width:100%;\"></div>            <script type=\"text/javascript\">                require([\"plotly\"], function(Plotly) {                    window.PLOTLYENV=window.PLOTLYENV || {};                                    if (document.getElementById(\"42a256ce-5f08-4ae7-831d-2ab723321931\")) {                    Plotly.newPlot(                        \"42a256ce-5f08-4ae7-831d-2ab723321931\",                        [{\"alignmentgroup\":\"True\",\"customdata\":[[24324293.750000004],[58827514.61999998],[37656762.79],[62939851.72999998],[127366494.88000001],[90397888.51999997],[97737074.08999999],[117577228.92999996],[110631896.33],[176486193.75999996],[128361784.49],[162207254.2599999],[185494782.87999997],[160256986.70999998],[154767411.23999995],[223677020.33],[229433601.33000004],[340928201.84999996],[411706914.45],[518748181.45000035],[353361346.5899999],[544698584.6200001],[400010370.71999997],[468734269.02000004],[407526070.15],[389917566.2700001],[515789041.1799998],[406622898.03999996],[557468014.0699998],[678136778.0899998],[653927159.5999999],[705108037.5599998],[700086999.89],[795804823.4000005],[796566691.5099998],[755983685.0699997],[751572626.1999999],[898818223.1],[1382456109.5400002],[923089445.3399992],[989631065.2099991],[1266437007.4199996],[1240075119.9099998],[1432565908.2099998],[1408441713.1800005],[1794862017.760001],[2187894073.8100004],[2892099664.9000015],[3545453052.7200003],[3163068510.879997],[4568202867.240004]],\"hovertemplate\":\"State=%{x}<br>Number of perscriptions=%{y}<br>total_drug_cost=%{customdata[0]}<extra></extra>\",\"legendgroup\":\"\",\"marker\":{\"color\":\"#636efa\",\"pattern\":{\"shape\":\"\"}},\"name\":\"\",\"offsetgroup\":\"\",\"orientation\":\"v\",\"showlegend\":false,\"textposition\":\"auto\",\"type\":\"bar\",\"x\":[\"AK\",\"DC\",\"WY\",\"VT\",\"DE\",\"ND\",\"MT\",\"NH\",\"SD\",\"HI\",\"ID\",\"ME\",\"UT\",\"NM\",\"RI\",\"NV\",\"NE\",\"WV\",\"CO\",\"MD\",\"KS\",\"CT\",\"OR\",\"OK\",\"IA\",\"AR\",\"MN\",\"MS\",\"WA\",\"AZ\",\"WI\",\"SC\",\"LA\",\"VA\",\"MA\",\"KY\",\"AL\",\"IN\",\"NJ\",\"MO\",\"TN\",\"MI\",\"GA\",\"IL\",\"NC\",\"OH\",\"PA\",\"TX\",\"NY\",\"FL\",\"CA\"],\"xaxis\":\"x\",\"y\":[428694,666335,694749,957109,1419524,1641185,1661742,1835310,1945888,2038572,2354627,2523120,2738787,2843734,3175981,3854826,4398631,5880592,6192081,6487990,6489969,6629831,6993802,7651289,8266318,8452560,8487142,8502072,9218117,9845726,10826772,11595687,12335806,13183822,13265632,13860318,14067221,14470683,14834277,16296315,18306965,18668305,21524246,22578345,24483045,28325661,34153102,40256877,42639182,50202887,61833844],\"yaxis\":\"y\"}],                        {\"barmode\":\"relative\",\"legend\":{\"tracegroupgap\":0},\"template\":{\"data\":{\"bar\":[{\"error_x\":{\"color\":\"#2a3f5f\"},\"error_y\":{\"color\":\"#2a3f5f\"},\"marker\":{\"line\":{\"color\":\"#E5ECF6\",\"width\":0.5},\"pattern\":{\"fillmode\":\"overlay\",\"size\":10,\"solidity\":0.2}},\"type\":\"bar\"}],\"barpolar\":[{\"marker\":{\"line\":{\"color\":\"#E5ECF6\",\"width\":0.5},\"pattern\":{\"fillmode\":\"overlay\",\"size\":10,\"solidity\":0.2}},\"type\":\"barpolar\"}],\"carpet\":[{\"aaxis\":{\"endlinecolor\":\"#2a3f5f\",\"gridcolor\":\"white\",\"linecolor\":\"white\",\"minorgridcolor\":\"white\",\"startlinecolor\":\"#2a3f5f\"},\"baxis\":{\"endlinecolor\":\"#2a3f5f\",\"gridcolor\":\"white\",\"linecolor\":\"white\",\"minorgridcolor\":\"white\",\"startlinecolor\":\"#2a3f5f\"},\"type\":\"carpet\"}],\"choropleth\":[{\"colorbar\":{\"outlinewidth\":0,\"ticks\":\"\"},\"type\":\"choropleth\"}],\"contour\":[{\"colorbar\":{\"outlinewidth\":0,\"ticks\":\"\"},\"colorscale\":[[0.0,\"#0d0887\"],[0.1111111111111111,\"#46039f\"],[0.2222222222222222,\"#7201a8\"],[0.3333333333333333,\"#9c179e\"],[0.4444444444444444,\"#bd3786\"],[0.5555555555555556,\"#d8576b\"],[0.6666666666666666,\"#ed7953\"],[0.7777777777777778,\"#fb9f3a\"],[0.8888888888888888,\"#fdca26\"],[1.0,\"#f0f921\"]],\"type\":\"contour\"}],\"contourcarpet\":[{\"colorbar\":{\"outlinewidth\":0,\"ticks\":\"\"},\"type\":\"contourcarpet\"}],\"heatmap\":[{\"colorbar\":{\"outlinewidth\":0,\"ticks\":\"\"},\"colorscale\":[[0.0,\"#0d0887\"],[0.1111111111111111,\"#46039f\"],[0.2222222222222222,\"#7201a8\"],[0.3333333333333333,\"#9c179e\"],[0.4444444444444444,\"#bd3786\"],[0.5555555555555556,\"#d8576b\"],[0.6666666666666666,\"#ed7953\"],[0.7777777777777778,\"#fb9f3a\"],[0.8888888888888888,\"#fdca26\"],[1.0,\"#f0f921\"]],\"type\":\"heatmap\"}],\"heatmapgl\":[{\"colorbar\":{\"outlinewidth\":0,\"ticks\":\"\"},\"colorscale\":[[0.0,\"#0d0887\"],[0.1111111111111111,\"#46039f\"],[0.2222222222222222,\"#7201a8\"],[0.3333333333333333,\"#9c179e\"],[0.4444444444444444,\"#bd3786\"],[0.5555555555555556,\"#d8576b\"],[0.6666666666666666,\"#ed7953\"],[0.7777777777777778,\"#fb9f3a\"],[0.8888888888888888,\"#fdca26\"],[1.0,\"#f0f921\"]],\"type\":\"heatmapgl\"}],\"histogram\":[{\"marker\":{\"pattern\":{\"fillmode\":\"overlay\",\"size\":10,\"solidity\":0.2}},\"type\":\"histogram\"}],\"histogram2d\":[{\"colorbar\":{\"outlinewidth\":0,\"ticks\":\"\"},\"colorscale\":[[0.0,\"#0d0887\"],[0.1111111111111111,\"#46039f\"],[0.2222222222222222,\"#7201a8\"],[0.3333333333333333,\"#9c179e\"],[0.4444444444444444,\"#bd3786\"],[0.5555555555555556,\"#d8576b\"],[0.6666666666666666,\"#ed7953\"],[0.7777777777777778,\"#fb9f3a\"],[0.8888888888888888,\"#fdca26\"],[1.0,\"#f0f921\"]],\"type\":\"histogram2d\"}],\"histogram2dcontour\":[{\"colorbar\":{\"outlinewidth\":0,\"ticks\":\"\"},\"colorscale\":[[0.0,\"#0d0887\"],[0.1111111111111111,\"#46039f\"],[0.2222222222222222,\"#7201a8\"],[0.3333333333333333,\"#9c179e\"],[0.4444444444444444,\"#bd3786\"],[0.5555555555555556,\"#d8576b\"],[0.6666666666666666,\"#ed7953\"],[0.7777777777777778,\"#fb9f3a\"],[0.8888888888888888,\"#fdca26\"],[1.0,\"#f0f921\"]],\"type\":\"histogram2dcontour\"}],\"mesh3d\":[{\"colorbar\":{\"outlinewidth\":0,\"ticks\":\"\"},\"type\":\"mesh3d\"}],\"parcoords\":[{\"line\":{\"colorbar\":{\"outlinewidth\":0,\"ticks\":\"\"}},\"type\":\"parcoords\"}],\"pie\":[{\"automargin\":true,\"type\":\"pie\"}],\"scatter\":[{\"marker\":{\"colorbar\":{\"outlinewidth\":0,\"ticks\":\"\"}},\"type\":\"scatter\"}],\"scatter3d\":[{\"line\":{\"colorbar\":{\"outlinewidth\":0,\"ticks\":\"\"}},\"marker\":{\"colorbar\":{\"outlinewidth\":0,\"ticks\":\"\"}},\"type\":\"scatter3d\"}],\"scattercarpet\":[{\"marker\":{\"colorbar\":{\"outlinewidth\":0,\"ticks\":\"\"}},\"type\":\"scattercarpet\"}],\"scattergeo\":[{\"marker\":{\"colorbar\":{\"outlinewidth\":0,\"ticks\":\"\"}},\"type\":\"scattergeo\"}],\"scattergl\":[{\"marker\":{\"colorbar\":{\"outlinewidth\":0,\"ticks\":\"\"}},\"type\":\"scattergl\"}],\"scattermapbox\":[{\"marker\":{\"colorbar\":{\"outlinewidth\":0,\"ticks\":\"\"}},\"type\":\"scattermapbox\"}],\"scatterpolar\":[{\"marker\":{\"colorbar\":{\"outlinewidth\":0,\"ticks\":\"\"}},\"type\":\"scatterpolar\"}],\"scatterpolargl\":[{\"marker\":{\"colorbar\":{\"outlinewidth\":0,\"ticks\":\"\"}},\"type\":\"scatterpolargl\"}],\"scatterternary\":[{\"marker\":{\"colorbar\":{\"outlinewidth\":0,\"ticks\":\"\"}},\"type\":\"scatterternary\"}],\"surface\":[{\"colorbar\":{\"outlinewidth\":0,\"ticks\":\"\"},\"colorscale\":[[0.0,\"#0d0887\"],[0.1111111111111111,\"#46039f\"],[0.2222222222222222,\"#7201a8\"],[0.3333333333333333,\"#9c179e\"],[0.4444444444444444,\"#bd3786\"],[0.5555555555555556,\"#d8576b\"],[0.6666666666666666,\"#ed7953\"],[0.7777777777777778,\"#fb9f3a\"],[0.8888888888888888,\"#fdca26\"],[1.0,\"#f0f921\"]],\"type\":\"surface\"}],\"table\":[{\"cells\":{\"fill\":{\"color\":\"#EBF0F8\"},\"line\":{\"color\":\"white\"}},\"header\":{\"fill\":{\"color\":\"#C8D4E3\"},\"line\":{\"color\":\"white\"}},\"type\":\"table\"}]},\"layout\":{\"annotationdefaults\":{\"arrowcolor\":\"#2a3f5f\",\"arrowhead\":0,\"arrowwidth\":1},\"autotypenumbers\":\"strict\",\"coloraxis\":{\"colorbar\":{\"outlinewidth\":0,\"ticks\":\"\"}},\"colorscale\":{\"diverging\":[[0,\"#8e0152\"],[0.1,\"#c51b7d\"],[0.2,\"#de77ae\"],[0.3,\"#f1b6da\"],[0.4,\"#fde0ef\"],[0.5,\"#f7f7f7\"],[0.6,\"#e6f5d0\"],[0.7,\"#b8e186\"],[0.8,\"#7fbc41\"],[0.9,\"#4d9221\"],[1,\"#276419\"]],\"sequential\":[[0.0,\"#0d0887\"],[0.1111111111111111,\"#46039f\"],[0.2222222222222222,\"#7201a8\"],[0.3333333333333333,\"#9c179e\"],[0.4444444444444444,\"#bd3786\"],[0.5555555555555556,\"#d8576b\"],[0.6666666666666666,\"#ed7953\"],[0.7777777777777778,\"#fb9f3a\"],[0.8888888888888888,\"#fdca26\"],[1.0,\"#f0f921\"]],\"sequentialminus\":[[0.0,\"#0d0887\"],[0.1111111111111111,\"#46039f\"],[0.2222222222222222,\"#7201a8\"],[0.3333333333333333,\"#9c179e\"],[0.4444444444444444,\"#bd3786\"],[0.5555555555555556,\"#d8576b\"],[0.6666666666666666,\"#ed7953\"],[0.7777777777777778,\"#fb9f3a\"],[0.8888888888888888,\"#fdca26\"],[1.0,\"#f0f921\"]]},\"colorway\":[\"#636efa\",\"#EF553B\",\"#00cc96\",\"#ab63fa\",\"#FFA15A\",\"#19d3f3\",\"#FF6692\",\"#B6E880\",\"#FF97FF\",\"#FECB52\"],\"font\":{\"color\":\"#2a3f5f\"},\"geo\":{\"bgcolor\":\"white\",\"lakecolor\":\"white\",\"landcolor\":\"#E5ECF6\",\"showlakes\":true,\"showland\":true,\"subunitcolor\":\"white\"},\"hoverlabel\":{\"align\":\"left\"},\"hovermode\":\"closest\",\"mapbox\":{\"style\":\"light\"},\"paper_bgcolor\":\"white\",\"plot_bgcolor\":\"#E5ECF6\",\"polar\":{\"angularaxis\":{\"gridcolor\":\"white\",\"linecolor\":\"white\",\"ticks\":\"\"},\"bgcolor\":\"#E5ECF6\",\"radialaxis\":{\"gridcolor\":\"white\",\"linecolor\":\"white\",\"ticks\":\"\"}},\"scene\":{\"xaxis\":{\"backgroundcolor\":\"#E5ECF6\",\"gridcolor\":\"white\",\"gridwidth\":2,\"linecolor\":\"white\",\"showbackground\":true,\"ticks\":\"\",\"zerolinecolor\":\"white\"},\"yaxis\":{\"backgroundcolor\":\"#E5ECF6\",\"gridcolor\":\"white\",\"gridwidth\":2,\"linecolor\":\"white\",\"showbackground\":true,\"ticks\":\"\",\"zerolinecolor\":\"white\"},\"zaxis\":{\"backgroundcolor\":\"#E5ECF6\",\"gridcolor\":\"white\",\"gridwidth\":2,\"linecolor\":\"white\",\"showbackground\":true,\"ticks\":\"\",\"zerolinecolor\":\"white\"}},\"shapedefaults\":{\"line\":{\"color\":\"#2a3f5f\"}},\"ternary\":{\"aaxis\":{\"gridcolor\":\"white\",\"linecolor\":\"white\",\"ticks\":\"\"},\"baxis\":{\"gridcolor\":\"white\",\"linecolor\":\"white\",\"ticks\":\"\"},\"bgcolor\":\"#E5ECF6\",\"caxis\":{\"gridcolor\":\"white\",\"linecolor\":\"white\",\"ticks\":\"\"}},\"title\":{\"x\":0.05},\"xaxis\":{\"automargin\":true,\"gridcolor\":\"white\",\"linecolor\":\"white\",\"ticks\":\"\",\"title\":{\"standoff\":15},\"zerolinecolor\":\"white\",\"zerolinewidth\":2},\"yaxis\":{\"automargin\":true,\"gridcolor\":\"white\",\"linecolor\":\"white\",\"ticks\":\"\",\"title\":{\"standoff\":15},\"zerolinecolor\":\"white\",\"zerolinewidth\":2}}},\"title\":{\"text\":\"Total number of perscriptions per state 65+ (US, 2014)\"},\"xaxis\":{\"anchor\":\"y\",\"domain\":[0.0,1.0],\"title\":{\"text\":\"State\"}},\"yaxis\":{\"anchor\":\"x\",\"domain\":[0.0,1.0],\"title\":{\"text\":\"Number of perscriptions\"}}},                        {\"responsive\": true}                    ).then(function(){\n",
       "                            \n",
       "var gd = document.getElementById('42a256ce-5f08-4ae7-831d-2ab723321931');\n",
       "var x = new MutationObserver(function (mutations, observer) {{\n",
       "        var display = window.getComputedStyle(gd).display;\n",
       "        if (!display || display === 'none') {{\n",
       "            console.log([gd, 'removed!']);\n",
       "            Plotly.purge(gd);\n",
       "            observer.disconnect();\n",
       "        }}\n",
       "}});\n",
       "\n",
       "// Listen for the removal of the full notebook cells\n",
       "var notebookContainer = gd.closest('#notebook-container');\n",
       "if (notebookContainer) {{\n",
       "    x.observe(notebookContainer, {childList: true});\n",
       "}}\n",
       "\n",
       "// Listen for the clearing of the current output cell\n",
       "var outputEl = gd.closest('.output');\n",
       "if (outputEl) {{\n",
       "    x.observe(outputEl, {childList: true});\n",
       "}}\n",
       "\n",
       "                        })                };                });            </script>        </div>"
      ]
     },
     "metadata": {},
     "output_type": "display_data"
    }
   ],
   "source": [
    "fig = px.bar(tot_meds_per_state.sort_values('total_num_medications'), x='state', y='total_num_medications', \n",
    "                     labels={'total_num_medications':'Number of perscriptions', 'state': 'State'}, \n",
    "                     title='Total number of perscriptions per state 65+ (US, 2014)',\n",
    "                     hover_data=['state', 'total_num_medications', 'total_drug_cost']\n",
    "                     )\n",
    "fig.show()"
   ]
  },
  {
   "cell_type": "markdown",
   "metadata": {
    "hidden": true
   },
   "source": [
    "Fig. 1: The above plot appears to show that the number of perscriptions per state is correlated with population. We can confirm this in a number of ways. For example, by using census data with the estimated state population in 2014 as an extra dimension in the above plot, and/or by taking a statistical approach."
   ]
  },
  {
   "cell_type": "code",
   "execution_count": 910,
   "metadata": {
    "ExecuteTime": {
     "end_time": "2021-07-02T14:57:51.774648Z",
     "start_time": "2021-07-02T14:57:51.468896Z"
    },
    "hidden": true,
    "scrolled": false
   },
   "outputs": [
    {
     "data": {
      "application/vnd.plotly.v1+json": {
       "config": {
        "plotlyServerURL": "https://plotly.com"
       },
       "data": [
        {
         "alignmentgroup": "True",
         "hovertemplate": "State=%{x}<br>total_drug_cost=%{y}<extra></extra>",
         "legendgroup": "",
         "marker": {
          "color": "#636efa",
          "pattern": {
           "shape": ""
          }
         },
         "name": "",
         "offsetgroup": "",
         "orientation": "v",
         "showlegend": false,
         "textposition": "auto",
         "type": "bar",
         "x": [
          "AK",
          "DC",
          "WY",
          "VT",
          "DE",
          "ND",
          "MT",
          "NH",
          "SD",
          "HI",
          "ID",
          "ME",
          "UT",
          "NM",
          "RI",
          "NV",
          "NE",
          "WV",
          "CO",
          "MD",
          "KS",
          "CT",
          "OR",
          "OK",
          "IA",
          "AR",
          "MN",
          "MS",
          "WA",
          "AZ",
          "WI",
          "SC",
          "LA",
          "VA",
          "MA",
          "KY",
          "AL",
          "IN",
          "NJ",
          "MO",
          "TN",
          "MI",
          "GA",
          "IL",
          "NC",
          "OH",
          "PA",
          "TX",
          "NY",
          "FL",
          "CA"
         ],
         "xaxis": "x",
         "y": [
          24324293.750000004,
          58827514.61999998,
          37656762.79,
          62939851.72999998,
          127366494.88000001,
          90397888.51999997,
          97737074.08999999,
          117577228.92999996,
          110631896.33,
          176486193.75999996,
          128361784.49,
          162207254.2599999,
          185494782.87999997,
          160256986.70999998,
          154767411.23999995,
          223677020.33,
          229433601.33000004,
          340928201.84999996,
          411706914.45,
          518748181.45000035,
          353361346.5899999,
          544698584.6200001,
          400010370.71999997,
          468734269.02000004,
          407526070.15,
          389917566.2700001,
          515789041.1799998,
          406622898.03999996,
          557468014.0699998,
          678136778.0899998,
          653927159.5999999,
          705108037.5599998,
          700086999.89,
          795804823.4000005,
          796566691.5099998,
          755983685.0699997,
          751572626.1999999,
          898818223.1,
          1382456109.5400002,
          923089445.3399992,
          989631065.2099991,
          1266437007.4199996,
          1240075119.9099998,
          1432565908.2099998,
          1408441713.1800005,
          1794862017.760001,
          2187894073.8100004,
          2892099664.9000015,
          3545453052.7200003,
          3163068510.879997,
          4568202867.240004
         ],
         "yaxis": "y"
        }
       ],
       "layout": {
        "barmode": "relative",
        "legend": {
         "tracegroupgap": 0
        },
        "template": {
         "data": {
          "bar": [
           {
            "error_x": {
             "color": "#2a3f5f"
            },
            "error_y": {
             "color": "#2a3f5f"
            },
            "marker": {
             "line": {
              "color": "#E5ECF6",
              "width": 0.5
             },
             "pattern": {
              "fillmode": "overlay",
              "size": 10,
              "solidity": 0.2
             }
            },
            "type": "bar"
           }
          ],
          "barpolar": [
           {
            "marker": {
             "line": {
              "color": "#E5ECF6",
              "width": 0.5
             },
             "pattern": {
              "fillmode": "overlay",
              "size": 10,
              "solidity": 0.2
             }
            },
            "type": "barpolar"
           }
          ],
          "carpet": [
           {
            "aaxis": {
             "endlinecolor": "#2a3f5f",
             "gridcolor": "white",
             "linecolor": "white",
             "minorgridcolor": "white",
             "startlinecolor": "#2a3f5f"
            },
            "baxis": {
             "endlinecolor": "#2a3f5f",
             "gridcolor": "white",
             "linecolor": "white",
             "minorgridcolor": "white",
             "startlinecolor": "#2a3f5f"
            },
            "type": "carpet"
           }
          ],
          "choropleth": [
           {
            "colorbar": {
             "outlinewidth": 0,
             "ticks": ""
            },
            "type": "choropleth"
           }
          ],
          "contour": [
           {
            "colorbar": {
             "outlinewidth": 0,
             "ticks": ""
            },
            "colorscale": [
             [
              0,
              "#0d0887"
             ],
             [
              0.1111111111111111,
              "#46039f"
             ],
             [
              0.2222222222222222,
              "#7201a8"
             ],
             [
              0.3333333333333333,
              "#9c179e"
             ],
             [
              0.4444444444444444,
              "#bd3786"
             ],
             [
              0.5555555555555556,
              "#d8576b"
             ],
             [
              0.6666666666666666,
              "#ed7953"
             ],
             [
              0.7777777777777778,
              "#fb9f3a"
             ],
             [
              0.8888888888888888,
              "#fdca26"
             ],
             [
              1,
              "#f0f921"
             ]
            ],
            "type": "contour"
           }
          ],
          "contourcarpet": [
           {
            "colorbar": {
             "outlinewidth": 0,
             "ticks": ""
            },
            "type": "contourcarpet"
           }
          ],
          "heatmap": [
           {
            "colorbar": {
             "outlinewidth": 0,
             "ticks": ""
            },
            "colorscale": [
             [
              0,
              "#0d0887"
             ],
             [
              0.1111111111111111,
              "#46039f"
             ],
             [
              0.2222222222222222,
              "#7201a8"
             ],
             [
              0.3333333333333333,
              "#9c179e"
             ],
             [
              0.4444444444444444,
              "#bd3786"
             ],
             [
              0.5555555555555556,
              "#d8576b"
             ],
             [
              0.6666666666666666,
              "#ed7953"
             ],
             [
              0.7777777777777778,
              "#fb9f3a"
             ],
             [
              0.8888888888888888,
              "#fdca26"
             ],
             [
              1,
              "#f0f921"
             ]
            ],
            "type": "heatmap"
           }
          ],
          "heatmapgl": [
           {
            "colorbar": {
             "outlinewidth": 0,
             "ticks": ""
            },
            "colorscale": [
             [
              0,
              "#0d0887"
             ],
             [
              0.1111111111111111,
              "#46039f"
             ],
             [
              0.2222222222222222,
              "#7201a8"
             ],
             [
              0.3333333333333333,
              "#9c179e"
             ],
             [
              0.4444444444444444,
              "#bd3786"
             ],
             [
              0.5555555555555556,
              "#d8576b"
             ],
             [
              0.6666666666666666,
              "#ed7953"
             ],
             [
              0.7777777777777778,
              "#fb9f3a"
             ],
             [
              0.8888888888888888,
              "#fdca26"
             ],
             [
              1,
              "#f0f921"
             ]
            ],
            "type": "heatmapgl"
           }
          ],
          "histogram": [
           {
            "marker": {
             "pattern": {
              "fillmode": "overlay",
              "size": 10,
              "solidity": 0.2
             }
            },
            "type": "histogram"
           }
          ],
          "histogram2d": [
           {
            "colorbar": {
             "outlinewidth": 0,
             "ticks": ""
            },
            "colorscale": [
             [
              0,
              "#0d0887"
             ],
             [
              0.1111111111111111,
              "#46039f"
             ],
             [
              0.2222222222222222,
              "#7201a8"
             ],
             [
              0.3333333333333333,
              "#9c179e"
             ],
             [
              0.4444444444444444,
              "#bd3786"
             ],
             [
              0.5555555555555556,
              "#d8576b"
             ],
             [
              0.6666666666666666,
              "#ed7953"
             ],
             [
              0.7777777777777778,
              "#fb9f3a"
             ],
             [
              0.8888888888888888,
              "#fdca26"
             ],
             [
              1,
              "#f0f921"
             ]
            ],
            "type": "histogram2d"
           }
          ],
          "histogram2dcontour": [
           {
            "colorbar": {
             "outlinewidth": 0,
             "ticks": ""
            },
            "colorscale": [
             [
              0,
              "#0d0887"
             ],
             [
              0.1111111111111111,
              "#46039f"
             ],
             [
              0.2222222222222222,
              "#7201a8"
             ],
             [
              0.3333333333333333,
              "#9c179e"
             ],
             [
              0.4444444444444444,
              "#bd3786"
             ],
             [
              0.5555555555555556,
              "#d8576b"
             ],
             [
              0.6666666666666666,
              "#ed7953"
             ],
             [
              0.7777777777777778,
              "#fb9f3a"
             ],
             [
              0.8888888888888888,
              "#fdca26"
             ],
             [
              1,
              "#f0f921"
             ]
            ],
            "type": "histogram2dcontour"
           }
          ],
          "mesh3d": [
           {
            "colorbar": {
             "outlinewidth": 0,
             "ticks": ""
            },
            "type": "mesh3d"
           }
          ],
          "parcoords": [
           {
            "line": {
             "colorbar": {
              "outlinewidth": 0,
              "ticks": ""
             }
            },
            "type": "parcoords"
           }
          ],
          "pie": [
           {
            "automargin": true,
            "type": "pie"
           }
          ],
          "scatter": [
           {
            "marker": {
             "colorbar": {
              "outlinewidth": 0,
              "ticks": ""
             }
            },
            "type": "scatter"
           }
          ],
          "scatter3d": [
           {
            "line": {
             "colorbar": {
              "outlinewidth": 0,
              "ticks": ""
             }
            },
            "marker": {
             "colorbar": {
              "outlinewidth": 0,
              "ticks": ""
             }
            },
            "type": "scatter3d"
           }
          ],
          "scattercarpet": [
           {
            "marker": {
             "colorbar": {
              "outlinewidth": 0,
              "ticks": ""
             }
            },
            "type": "scattercarpet"
           }
          ],
          "scattergeo": [
           {
            "marker": {
             "colorbar": {
              "outlinewidth": 0,
              "ticks": ""
             }
            },
            "type": "scattergeo"
           }
          ],
          "scattergl": [
           {
            "marker": {
             "colorbar": {
              "outlinewidth": 0,
              "ticks": ""
             }
            },
            "type": "scattergl"
           }
          ],
          "scattermapbox": [
           {
            "marker": {
             "colorbar": {
              "outlinewidth": 0,
              "ticks": ""
             }
            },
            "type": "scattermapbox"
           }
          ],
          "scatterpolar": [
           {
            "marker": {
             "colorbar": {
              "outlinewidth": 0,
              "ticks": ""
             }
            },
            "type": "scatterpolar"
           }
          ],
          "scatterpolargl": [
           {
            "marker": {
             "colorbar": {
              "outlinewidth": 0,
              "ticks": ""
             }
            },
            "type": "scatterpolargl"
           }
          ],
          "scatterternary": [
           {
            "marker": {
             "colorbar": {
              "outlinewidth": 0,
              "ticks": ""
             }
            },
            "type": "scatterternary"
           }
          ],
          "surface": [
           {
            "colorbar": {
             "outlinewidth": 0,
             "ticks": ""
            },
            "colorscale": [
             [
              0,
              "#0d0887"
             ],
             [
              0.1111111111111111,
              "#46039f"
             ],
             [
              0.2222222222222222,
              "#7201a8"
             ],
             [
              0.3333333333333333,
              "#9c179e"
             ],
             [
              0.4444444444444444,
              "#bd3786"
             ],
             [
              0.5555555555555556,
              "#d8576b"
             ],
             [
              0.6666666666666666,
              "#ed7953"
             ],
             [
              0.7777777777777778,
              "#fb9f3a"
             ],
             [
              0.8888888888888888,
              "#fdca26"
             ],
             [
              1,
              "#f0f921"
             ]
            ],
            "type": "surface"
           }
          ],
          "table": [
           {
            "cells": {
             "fill": {
              "color": "#EBF0F8"
             },
             "line": {
              "color": "white"
             }
            },
            "header": {
             "fill": {
              "color": "#C8D4E3"
             },
             "line": {
              "color": "white"
             }
            },
            "type": "table"
           }
          ]
         },
         "layout": {
          "annotationdefaults": {
           "arrowcolor": "#2a3f5f",
           "arrowhead": 0,
           "arrowwidth": 1
          },
          "autotypenumbers": "strict",
          "coloraxis": {
           "colorbar": {
            "outlinewidth": 0,
            "ticks": ""
           }
          },
          "colorscale": {
           "diverging": [
            [
             0,
             "#8e0152"
            ],
            [
             0.1,
             "#c51b7d"
            ],
            [
             0.2,
             "#de77ae"
            ],
            [
             0.3,
             "#f1b6da"
            ],
            [
             0.4,
             "#fde0ef"
            ],
            [
             0.5,
             "#f7f7f7"
            ],
            [
             0.6,
             "#e6f5d0"
            ],
            [
             0.7,
             "#b8e186"
            ],
            [
             0.8,
             "#7fbc41"
            ],
            [
             0.9,
             "#4d9221"
            ],
            [
             1,
             "#276419"
            ]
           ],
           "sequential": [
            [
             0,
             "#0d0887"
            ],
            [
             0.1111111111111111,
             "#46039f"
            ],
            [
             0.2222222222222222,
             "#7201a8"
            ],
            [
             0.3333333333333333,
             "#9c179e"
            ],
            [
             0.4444444444444444,
             "#bd3786"
            ],
            [
             0.5555555555555556,
             "#d8576b"
            ],
            [
             0.6666666666666666,
             "#ed7953"
            ],
            [
             0.7777777777777778,
             "#fb9f3a"
            ],
            [
             0.8888888888888888,
             "#fdca26"
            ],
            [
             1,
             "#f0f921"
            ]
           ],
           "sequentialminus": [
            [
             0,
             "#0d0887"
            ],
            [
             0.1111111111111111,
             "#46039f"
            ],
            [
             0.2222222222222222,
             "#7201a8"
            ],
            [
             0.3333333333333333,
             "#9c179e"
            ],
            [
             0.4444444444444444,
             "#bd3786"
            ],
            [
             0.5555555555555556,
             "#d8576b"
            ],
            [
             0.6666666666666666,
             "#ed7953"
            ],
            [
             0.7777777777777778,
             "#fb9f3a"
            ],
            [
             0.8888888888888888,
             "#fdca26"
            ],
            [
             1,
             "#f0f921"
            ]
           ]
          },
          "colorway": [
           "#636efa",
           "#EF553B",
           "#00cc96",
           "#ab63fa",
           "#FFA15A",
           "#19d3f3",
           "#FF6692",
           "#B6E880",
           "#FF97FF",
           "#FECB52"
          ],
          "font": {
           "color": "#2a3f5f"
          },
          "geo": {
           "bgcolor": "white",
           "lakecolor": "white",
           "landcolor": "#E5ECF6",
           "showlakes": true,
           "showland": true,
           "subunitcolor": "white"
          },
          "hoverlabel": {
           "align": "left"
          },
          "hovermode": "closest",
          "mapbox": {
           "style": "light"
          },
          "paper_bgcolor": "white",
          "plot_bgcolor": "#E5ECF6",
          "polar": {
           "angularaxis": {
            "gridcolor": "white",
            "linecolor": "white",
            "ticks": ""
           },
           "bgcolor": "#E5ECF6",
           "radialaxis": {
            "gridcolor": "white",
            "linecolor": "white",
            "ticks": ""
           }
          },
          "scene": {
           "xaxis": {
            "backgroundcolor": "#E5ECF6",
            "gridcolor": "white",
            "gridwidth": 2,
            "linecolor": "white",
            "showbackground": true,
            "ticks": "",
            "zerolinecolor": "white"
           },
           "yaxis": {
            "backgroundcolor": "#E5ECF6",
            "gridcolor": "white",
            "gridwidth": 2,
            "linecolor": "white",
            "showbackground": true,
            "ticks": "",
            "zerolinecolor": "white"
           },
           "zaxis": {
            "backgroundcolor": "#E5ECF6",
            "gridcolor": "white",
            "gridwidth": 2,
            "linecolor": "white",
            "showbackground": true,
            "ticks": "",
            "zerolinecolor": "white"
           }
          },
          "shapedefaults": {
           "line": {
            "color": "#2a3f5f"
           }
          },
          "ternary": {
           "aaxis": {
            "gridcolor": "white",
            "linecolor": "white",
            "ticks": ""
           },
           "baxis": {
            "gridcolor": "white",
            "linecolor": "white",
            "ticks": ""
           },
           "bgcolor": "#E5ECF6",
           "caxis": {
            "gridcolor": "white",
            "linecolor": "white",
            "ticks": ""
           }
          },
          "title": {
           "x": 0.05
          },
          "xaxis": {
           "automargin": true,
           "gridcolor": "white",
           "linecolor": "white",
           "ticks": "",
           "title": {
            "standoff": 15
           },
           "zerolinecolor": "white",
           "zerolinewidth": 2
          },
          "yaxis": {
           "automargin": true,
           "gridcolor": "white",
           "linecolor": "white",
           "ticks": "",
           "title": {
            "standoff": 15
           },
           "zerolinecolor": "white",
           "zerolinewidth": 2
          }
         }
        },
        "title": {
         "text": "Total drug cost per state 65+ (US, 2014)"
        },
        "xaxis": {
         "anchor": "y",
         "domain": [
          0,
          1
         ],
         "title": {
          "text": "State"
         }
        },
        "yaxis": {
         "anchor": "x",
         "domain": [
          0,
          1
         ],
         "title": {
          "text": "total_drug_cost"
         }
        }
       }
      },
      "text/html": [
       "<div>                            <div id=\"e47532d5-4fbe-40eb-afe8-db7bf1c46ee0\" class=\"plotly-graph-div\" style=\"height:525px; width:100%;\"></div>            <script type=\"text/javascript\">                require([\"plotly\"], function(Plotly) {                    window.PLOTLYENV=window.PLOTLYENV || {};                                    if (document.getElementById(\"e47532d5-4fbe-40eb-afe8-db7bf1c46ee0\")) {                    Plotly.newPlot(                        \"e47532d5-4fbe-40eb-afe8-db7bf1c46ee0\",                        [{\"alignmentgroup\":\"True\",\"hovertemplate\":\"State=%{x}<br>total_drug_cost=%{y}<extra></extra>\",\"legendgroup\":\"\",\"marker\":{\"color\":\"#636efa\",\"pattern\":{\"shape\":\"\"}},\"name\":\"\",\"offsetgroup\":\"\",\"orientation\":\"v\",\"showlegend\":false,\"textposition\":\"auto\",\"type\":\"bar\",\"x\":[\"AK\",\"DC\",\"WY\",\"VT\",\"DE\",\"ND\",\"MT\",\"NH\",\"SD\",\"HI\",\"ID\",\"ME\",\"UT\",\"NM\",\"RI\",\"NV\",\"NE\",\"WV\",\"CO\",\"MD\",\"KS\",\"CT\",\"OR\",\"OK\",\"IA\",\"AR\",\"MN\",\"MS\",\"WA\",\"AZ\",\"WI\",\"SC\",\"LA\",\"VA\",\"MA\",\"KY\",\"AL\",\"IN\",\"NJ\",\"MO\",\"TN\",\"MI\",\"GA\",\"IL\",\"NC\",\"OH\",\"PA\",\"TX\",\"NY\",\"FL\",\"CA\"],\"xaxis\":\"x\",\"y\":[24324293.750000004,58827514.61999998,37656762.79,62939851.72999998,127366494.88000001,90397888.51999997,97737074.08999999,117577228.92999996,110631896.33,176486193.75999996,128361784.49,162207254.2599999,185494782.87999997,160256986.70999998,154767411.23999995,223677020.33,229433601.33000004,340928201.84999996,411706914.45,518748181.45000035,353361346.5899999,544698584.6200001,400010370.71999997,468734269.02000004,407526070.15,389917566.2700001,515789041.1799998,406622898.03999996,557468014.0699998,678136778.0899998,653927159.5999999,705108037.5599998,700086999.89,795804823.4000005,796566691.5099998,755983685.0699997,751572626.1999999,898818223.1,1382456109.5400002,923089445.3399992,989631065.2099991,1266437007.4199996,1240075119.9099998,1432565908.2099998,1408441713.1800005,1794862017.760001,2187894073.8100004,2892099664.9000015,3545453052.7200003,3163068510.879997,4568202867.240004],\"yaxis\":\"y\"}],                        {\"barmode\":\"relative\",\"legend\":{\"tracegroupgap\":0},\"template\":{\"data\":{\"bar\":[{\"error_x\":{\"color\":\"#2a3f5f\"},\"error_y\":{\"color\":\"#2a3f5f\"},\"marker\":{\"line\":{\"color\":\"#E5ECF6\",\"width\":0.5},\"pattern\":{\"fillmode\":\"overlay\",\"size\":10,\"solidity\":0.2}},\"type\":\"bar\"}],\"barpolar\":[{\"marker\":{\"line\":{\"color\":\"#E5ECF6\",\"width\":0.5},\"pattern\":{\"fillmode\":\"overlay\",\"size\":10,\"solidity\":0.2}},\"type\":\"barpolar\"}],\"carpet\":[{\"aaxis\":{\"endlinecolor\":\"#2a3f5f\",\"gridcolor\":\"white\",\"linecolor\":\"white\",\"minorgridcolor\":\"white\",\"startlinecolor\":\"#2a3f5f\"},\"baxis\":{\"endlinecolor\":\"#2a3f5f\",\"gridcolor\":\"white\",\"linecolor\":\"white\",\"minorgridcolor\":\"white\",\"startlinecolor\":\"#2a3f5f\"},\"type\":\"carpet\"}],\"choropleth\":[{\"colorbar\":{\"outlinewidth\":0,\"ticks\":\"\"},\"type\":\"choropleth\"}],\"contour\":[{\"colorbar\":{\"outlinewidth\":0,\"ticks\":\"\"},\"colorscale\":[[0.0,\"#0d0887\"],[0.1111111111111111,\"#46039f\"],[0.2222222222222222,\"#7201a8\"],[0.3333333333333333,\"#9c179e\"],[0.4444444444444444,\"#bd3786\"],[0.5555555555555556,\"#d8576b\"],[0.6666666666666666,\"#ed7953\"],[0.7777777777777778,\"#fb9f3a\"],[0.8888888888888888,\"#fdca26\"],[1.0,\"#f0f921\"]],\"type\":\"contour\"}],\"contourcarpet\":[{\"colorbar\":{\"outlinewidth\":0,\"ticks\":\"\"},\"type\":\"contourcarpet\"}],\"heatmap\":[{\"colorbar\":{\"outlinewidth\":0,\"ticks\":\"\"},\"colorscale\":[[0.0,\"#0d0887\"],[0.1111111111111111,\"#46039f\"],[0.2222222222222222,\"#7201a8\"],[0.3333333333333333,\"#9c179e\"],[0.4444444444444444,\"#bd3786\"],[0.5555555555555556,\"#d8576b\"],[0.6666666666666666,\"#ed7953\"],[0.7777777777777778,\"#fb9f3a\"],[0.8888888888888888,\"#fdca26\"],[1.0,\"#f0f921\"]],\"type\":\"heatmap\"}],\"heatmapgl\":[{\"colorbar\":{\"outlinewidth\":0,\"ticks\":\"\"},\"colorscale\":[[0.0,\"#0d0887\"],[0.1111111111111111,\"#46039f\"],[0.2222222222222222,\"#7201a8\"],[0.3333333333333333,\"#9c179e\"],[0.4444444444444444,\"#bd3786\"],[0.5555555555555556,\"#d8576b\"],[0.6666666666666666,\"#ed7953\"],[0.7777777777777778,\"#fb9f3a\"],[0.8888888888888888,\"#fdca26\"],[1.0,\"#f0f921\"]],\"type\":\"heatmapgl\"}],\"histogram\":[{\"marker\":{\"pattern\":{\"fillmode\":\"overlay\",\"size\":10,\"solidity\":0.2}},\"type\":\"histogram\"}],\"histogram2d\":[{\"colorbar\":{\"outlinewidth\":0,\"ticks\":\"\"},\"colorscale\":[[0.0,\"#0d0887\"],[0.1111111111111111,\"#46039f\"],[0.2222222222222222,\"#7201a8\"],[0.3333333333333333,\"#9c179e\"],[0.4444444444444444,\"#bd3786\"],[0.5555555555555556,\"#d8576b\"],[0.6666666666666666,\"#ed7953\"],[0.7777777777777778,\"#fb9f3a\"],[0.8888888888888888,\"#fdca26\"],[1.0,\"#f0f921\"]],\"type\":\"histogram2d\"}],\"histogram2dcontour\":[{\"colorbar\":{\"outlinewidth\":0,\"ticks\":\"\"},\"colorscale\":[[0.0,\"#0d0887\"],[0.1111111111111111,\"#46039f\"],[0.2222222222222222,\"#7201a8\"],[0.3333333333333333,\"#9c179e\"],[0.4444444444444444,\"#bd3786\"],[0.5555555555555556,\"#d8576b\"],[0.6666666666666666,\"#ed7953\"],[0.7777777777777778,\"#fb9f3a\"],[0.8888888888888888,\"#fdca26\"],[1.0,\"#f0f921\"]],\"type\":\"histogram2dcontour\"}],\"mesh3d\":[{\"colorbar\":{\"outlinewidth\":0,\"ticks\":\"\"},\"type\":\"mesh3d\"}],\"parcoords\":[{\"line\":{\"colorbar\":{\"outlinewidth\":0,\"ticks\":\"\"}},\"type\":\"parcoords\"}],\"pie\":[{\"automargin\":true,\"type\":\"pie\"}],\"scatter\":[{\"marker\":{\"colorbar\":{\"outlinewidth\":0,\"ticks\":\"\"}},\"type\":\"scatter\"}],\"scatter3d\":[{\"line\":{\"colorbar\":{\"outlinewidth\":0,\"ticks\":\"\"}},\"marker\":{\"colorbar\":{\"outlinewidth\":0,\"ticks\":\"\"}},\"type\":\"scatter3d\"}],\"scattercarpet\":[{\"marker\":{\"colorbar\":{\"outlinewidth\":0,\"ticks\":\"\"}},\"type\":\"scattercarpet\"}],\"scattergeo\":[{\"marker\":{\"colorbar\":{\"outlinewidth\":0,\"ticks\":\"\"}},\"type\":\"scattergeo\"}],\"scattergl\":[{\"marker\":{\"colorbar\":{\"outlinewidth\":0,\"ticks\":\"\"}},\"type\":\"scattergl\"}],\"scattermapbox\":[{\"marker\":{\"colorbar\":{\"outlinewidth\":0,\"ticks\":\"\"}},\"type\":\"scattermapbox\"}],\"scatterpolar\":[{\"marker\":{\"colorbar\":{\"outlinewidth\":0,\"ticks\":\"\"}},\"type\":\"scatterpolar\"}],\"scatterpolargl\":[{\"marker\":{\"colorbar\":{\"outlinewidth\":0,\"ticks\":\"\"}},\"type\":\"scatterpolargl\"}],\"scatterternary\":[{\"marker\":{\"colorbar\":{\"outlinewidth\":0,\"ticks\":\"\"}},\"type\":\"scatterternary\"}],\"surface\":[{\"colorbar\":{\"outlinewidth\":0,\"ticks\":\"\"},\"colorscale\":[[0.0,\"#0d0887\"],[0.1111111111111111,\"#46039f\"],[0.2222222222222222,\"#7201a8\"],[0.3333333333333333,\"#9c179e\"],[0.4444444444444444,\"#bd3786\"],[0.5555555555555556,\"#d8576b\"],[0.6666666666666666,\"#ed7953\"],[0.7777777777777778,\"#fb9f3a\"],[0.8888888888888888,\"#fdca26\"],[1.0,\"#f0f921\"]],\"type\":\"surface\"}],\"table\":[{\"cells\":{\"fill\":{\"color\":\"#EBF0F8\"},\"line\":{\"color\":\"white\"}},\"header\":{\"fill\":{\"color\":\"#C8D4E3\"},\"line\":{\"color\":\"white\"}},\"type\":\"table\"}]},\"layout\":{\"annotationdefaults\":{\"arrowcolor\":\"#2a3f5f\",\"arrowhead\":0,\"arrowwidth\":1},\"autotypenumbers\":\"strict\",\"coloraxis\":{\"colorbar\":{\"outlinewidth\":0,\"ticks\":\"\"}},\"colorscale\":{\"diverging\":[[0,\"#8e0152\"],[0.1,\"#c51b7d\"],[0.2,\"#de77ae\"],[0.3,\"#f1b6da\"],[0.4,\"#fde0ef\"],[0.5,\"#f7f7f7\"],[0.6,\"#e6f5d0\"],[0.7,\"#b8e186\"],[0.8,\"#7fbc41\"],[0.9,\"#4d9221\"],[1,\"#276419\"]],\"sequential\":[[0.0,\"#0d0887\"],[0.1111111111111111,\"#46039f\"],[0.2222222222222222,\"#7201a8\"],[0.3333333333333333,\"#9c179e\"],[0.4444444444444444,\"#bd3786\"],[0.5555555555555556,\"#d8576b\"],[0.6666666666666666,\"#ed7953\"],[0.7777777777777778,\"#fb9f3a\"],[0.8888888888888888,\"#fdca26\"],[1.0,\"#f0f921\"]],\"sequentialminus\":[[0.0,\"#0d0887\"],[0.1111111111111111,\"#46039f\"],[0.2222222222222222,\"#7201a8\"],[0.3333333333333333,\"#9c179e\"],[0.4444444444444444,\"#bd3786\"],[0.5555555555555556,\"#d8576b\"],[0.6666666666666666,\"#ed7953\"],[0.7777777777777778,\"#fb9f3a\"],[0.8888888888888888,\"#fdca26\"],[1.0,\"#f0f921\"]]},\"colorway\":[\"#636efa\",\"#EF553B\",\"#00cc96\",\"#ab63fa\",\"#FFA15A\",\"#19d3f3\",\"#FF6692\",\"#B6E880\",\"#FF97FF\",\"#FECB52\"],\"font\":{\"color\":\"#2a3f5f\"},\"geo\":{\"bgcolor\":\"white\",\"lakecolor\":\"white\",\"landcolor\":\"#E5ECF6\",\"showlakes\":true,\"showland\":true,\"subunitcolor\":\"white\"},\"hoverlabel\":{\"align\":\"left\"},\"hovermode\":\"closest\",\"mapbox\":{\"style\":\"light\"},\"paper_bgcolor\":\"white\",\"plot_bgcolor\":\"#E5ECF6\",\"polar\":{\"angularaxis\":{\"gridcolor\":\"white\",\"linecolor\":\"white\",\"ticks\":\"\"},\"bgcolor\":\"#E5ECF6\",\"radialaxis\":{\"gridcolor\":\"white\",\"linecolor\":\"white\",\"ticks\":\"\"}},\"scene\":{\"xaxis\":{\"backgroundcolor\":\"#E5ECF6\",\"gridcolor\":\"white\",\"gridwidth\":2,\"linecolor\":\"white\",\"showbackground\":true,\"ticks\":\"\",\"zerolinecolor\":\"white\"},\"yaxis\":{\"backgroundcolor\":\"#E5ECF6\",\"gridcolor\":\"white\",\"gridwidth\":2,\"linecolor\":\"white\",\"showbackground\":true,\"ticks\":\"\",\"zerolinecolor\":\"white\"},\"zaxis\":{\"backgroundcolor\":\"#E5ECF6\",\"gridcolor\":\"white\",\"gridwidth\":2,\"linecolor\":\"white\",\"showbackground\":true,\"ticks\":\"\",\"zerolinecolor\":\"white\"}},\"shapedefaults\":{\"line\":{\"color\":\"#2a3f5f\"}},\"ternary\":{\"aaxis\":{\"gridcolor\":\"white\",\"linecolor\":\"white\",\"ticks\":\"\"},\"baxis\":{\"gridcolor\":\"white\",\"linecolor\":\"white\",\"ticks\":\"\"},\"bgcolor\":\"#E5ECF6\",\"caxis\":{\"gridcolor\":\"white\",\"linecolor\":\"white\",\"ticks\":\"\"}},\"title\":{\"x\":0.05},\"xaxis\":{\"automargin\":true,\"gridcolor\":\"white\",\"linecolor\":\"white\",\"ticks\":\"\",\"title\":{\"standoff\":15},\"zerolinecolor\":\"white\",\"zerolinewidth\":2},\"yaxis\":{\"automargin\":true,\"gridcolor\":\"white\",\"linecolor\":\"white\",\"ticks\":\"\",\"title\":{\"standoff\":15},\"zerolinecolor\":\"white\",\"zerolinewidth\":2}}},\"title\":{\"text\":\"Total drug cost per state 65+ (US, 2014)\"},\"xaxis\":{\"anchor\":\"y\",\"domain\":[0.0,1.0],\"title\":{\"text\":\"State\"}},\"yaxis\":{\"anchor\":\"x\",\"domain\":[0.0,1.0],\"title\":{\"text\":\"total_drug_cost\"}}},                        {\"responsive\": true}                    ).then(function(){\n",
       "                            \n",
       "var gd = document.getElementById('e47532d5-4fbe-40eb-afe8-db7bf1c46ee0');\n",
       "var x = new MutationObserver(function (mutations, observer) {{\n",
       "        var display = window.getComputedStyle(gd).display;\n",
       "        if (!display || display === 'none') {{\n",
       "            console.log([gd, 'removed!']);\n",
       "            Plotly.purge(gd);\n",
       "            observer.disconnect();\n",
       "        }}\n",
       "}});\n",
       "\n",
       "// Listen for the removal of the full notebook cells\n",
       "var notebookContainer = gd.closest('#notebook-container');\n",
       "if (notebookContainer) {{\n",
       "    x.observe(notebookContainer, {childList: true});\n",
       "}}\n",
       "\n",
       "// Listen for the clearing of the current output cell\n",
       "var outputEl = gd.closest('.output');\n",
       "if (outputEl) {{\n",
       "    x.observe(outputEl, {childList: true});\n",
       "}}\n",
       "\n",
       "                        })                };                });            </script>        </div>"
      ]
     },
     "metadata": {},
     "output_type": "display_data"
    }
   ],
   "source": [
    "fig = px.bar(tot_meds_per_state.sort_values('total_num_medications'), x='state', y='total_drug_cost', \n",
    "                     labels={'total_num_medications':'Number of perscriptions', 'state': 'State'}, \n",
    "                     title='Total drug cost per state 65+ (US, 2014)',\n",
    "#                      hover_data=['state', 'total_num_medications', 'total_drug_cost']\n",
    "                     )\n",
    "fig.show()"
   ]
  },
  {
   "cell_type": "markdown",
   "metadata": {
    "hidden": true
   },
   "source": [
    "Fig. 2: The total drug cost per state for beneficiaries over 65 appears to also be correlated with state population."
   ]
  },
  {
   "cell_type": "code",
   "execution_count": 911,
   "metadata": {
    "ExecuteTime": {
     "end_time": "2021-07-02T14:59:57.935899Z",
     "start_time": "2021-07-02T14:59:54.498912Z"
    },
    "code_folding": [
     0
    ],
    "hidden": true
   },
   "outputs": [
    {
     "data": {
      "text/plain": [
       "array([[<AxesSubplot:title={'center':'total_num_medications'}>,\n",
       "        <AxesSubplot:title={'center':'total_drug_cost'}>]], dtype=object)"
      ]
     },
     "execution_count": 911,
     "metadata": {},
     "output_type": "execute_result"
    },
    {
     "data": {
      "image/png": "[encoded data removed]",
      "text/plain": [
       "<Figure size 2160x720 with 2 Axes>"
      ]
     },
     "metadata": {},
     "output_type": "display_data"
    }
   ],
   "source": [
    "# Looking at the distribution of the data via a histogram\n",
    "tot_meds_per_state.hist()"
   ]
  },
  {
   "cell_type": "code",
   "execution_count": 912,
   "metadata": {
    "ExecuteTime": {
     "end_time": "2021-07-02T15:01:03.132953Z",
     "start_time": "2021-07-02T15:01:02.612304Z"
    },
    "code_folding": [
     0
    ],
    "hidden": true
   },
   "outputs": [
    {
     "data": {
      "text/html": [
       "<div>\n",
       "<style scoped>\n",
       "    .dataframe tbody tr th:only-of-type {\n",
       "        vertical-align: middle;\n",
       "    }\n",
       "\n",
       "    .dataframe tbody tr th {\n",
       "        vertical-align: top;\n",
       "    }\n",
       "\n",
       "    .dataframe thead th {\n",
       "        text-align: right;\n",
       "    }\n",
       "</style>\n",
       "<table border=\"1\" class=\"dataframe\">\n",
       "  <thead>\n",
       "    <tr style=\"text-align: right;\">\n",
       "      <th></th>\n",
       "      <th>total_num_medications</th>\n",
       "      <th>total_drug_cost</th>\n",
       "    </tr>\n",
       "  </thead>\n",
       "  <tbody>\n",
       "    <tr>\n",
       "      <th>total_num_medications</th>\n",
       "      <td>1.000000</td>\n",
       "      <td>0.986998</td>\n",
       "    </tr>\n",
       "    <tr>\n",
       "      <th>total_drug_cost</th>\n",
       "      <td>0.986998</td>\n",
       "      <td>1.000000</td>\n",
       "    </tr>\n",
       "  </tbody>\n",
       "</table>\n",
       "</div>"
      ],
      "text/plain": [
       "                       total_num_medications  total_drug_cost\n",
       "total_num_medications               1.000000         0.986998\n",
       "total_drug_cost                     0.986998         1.000000"
      ]
     },
     "execution_count": 912,
     "metadata": {},
     "output_type": "execute_result"
    }
   ],
   "source": [
    "#  We expect that the total drug cost is correlated with the total number of prescriptions\n",
    "tot_meds_per_state.corr()"
   ]
  },
  {
   "cell_type": "markdown",
   "metadata": {
    "heading_collapsed": true,
    "hidden": true
   },
   "source": [
    "#### Most perscribed medication"
   ]
  },
  {
   "cell_type": "markdown",
   "metadata": {
    "heading_collapsed": true,
    "hidden": true
   },
   "source": [
    "##### SQL query: Most common per state"
   ]
  },
  {
   "cell_type": "code",
   "execution_count": 953,
   "metadata": {
    "ExecuteTime": {
     "end_time": "2021-07-02T18:55:38.418717Z",
     "start_time": "2021-07-02T18:55:38.404751Z"
    },
    "code_folding": [],
    "hidden": true
   },
   "outputs": [],
   "source": [
    "query = \"\"\" SELECT * FROM (SELECT nppes_provider_state as state, \n",
    "                                                  generic_name as medication_perscribed,\n",
    "                                                  SUM(total_claim_count_ge65) as num_perscribed,\n",
    "                                                   ROW_NUMBER() OVER (PARTITION BY nppes_provider_state \n",
    "                                                                                              ORDER BY SUM(total_claim_count_ge65) DESC) as rank \n",
    "                                                   FROM bigquery-public-data.medicare.part_d_prescriber_2014\n",
    "                                                   WHERE (nppes_provider_state != 'AA' AND \n",
    "                                                                    nppes_provider_state != 'AE' AND \n",
    "                                                                    nppes_provider_state != 'AS' AND\n",
    "                                                                    nppes_provider_state != 'AP' AND\n",
    "                                                                    nppes_provider_state != 'GU' AND\n",
    "                                                                    nppes_provider_state != 'MP' AND\n",
    "                                                                    nppes_provider_state != 'PR' AND\n",
    "                                                                    nppes_provider_state != 'VI' AND\n",
    "                                                                    nppes_provider_state != 'XX' AND\n",
    "                                                                    nppes_provider_state != 'ZZ')\n",
    "                                                   GROUP BY 1, 2\n",
    "                                                   ORDER BY 1, 3 DESC) as ranks\n",
    "                   WHERE rank = 1;\n",
    "              \"\"\""
   ]
  },
  {
   "cell_type": "code",
   "execution_count": 919,
   "metadata": {
    "ExecuteTime": {
     "end_time": "2021-07-02T17:10:42.658020Z",
     "start_time": "2021-07-02T17:10:38.060607Z"
    },
    "code_folding": [],
    "hidden": true
   },
   "outputs": [
    {
     "name": "stdout",
     "output_type": "stream",
     "text": [
      "51\n"
     ]
    },
    {
     "data": {
      "text/plain": [
       "state  medication_perscribed  num_perscribed  rank\n",
       "AK     LISINOPRIL             24329           1       1\n",
       "PA     LEVOTHYROXINE SODIUM   1686883         1       1\n",
       "ND     LEVOTHYROXINE SODIUM   84791           1       1\n",
       "NE     LEVOTHYROXINE SODIUM   250443          1       1\n",
       "NH     LEVOTHYROXINE SODIUM   96792           1       1\n",
       "dtype: int64"
      ]
     },
     "execution_count": 919,
     "metadata": {},
     "output_type": "execute_result"
    }
   ],
   "source": [
    "#  Process query\n",
    "most_common_perscription = query_to_df(query)\n",
    "\n",
    "#  Check results\n",
    "print(len(most_common_perscription))\n",
    "most_common_perscription.value_counts().head()"
   ]
  },
  {
   "cell_type": "markdown",
   "metadata": {
    "heading_collapsed": true,
    "hidden": true
   },
   "source": [
    "##### Table: Top 5 most common by state ranking"
   ]
  },
  {
   "cell_type": "code",
   "execution_count": 1092,
   "metadata": {
    "ExecuteTime": {
     "end_time": "2021-07-03T01:18:31.928969Z",
     "start_time": "2021-07-03T01:18:31.893522Z"
    },
    "hidden": true
   },
   "outputs": [
    {
     "data": {
      "text/html": [
       "<div>\n",
       "<style scoped>\n",
       "    .dataframe tbody tr th:only-of-type {\n",
       "        vertical-align: middle;\n",
       "    }\n",
       "\n",
       "    .dataframe tbody tr th {\n",
       "        vertical-align: top;\n",
       "    }\n",
       "\n",
       "    .dataframe thead th {\n",
       "        text-align: right;\n",
       "    }\n",
       "</style>\n",
       "<table border=\"1\" class=\"dataframe\">\n",
       "  <thead>\n",
       "    <tr style=\"text-align: right;\">\n",
       "      <th></th>\n",
       "      <th>medication_perscribed</th>\n",
       "      <th>num_perscribed</th>\n",
       "    </tr>\n",
       "  </thead>\n",
       "  <tbody>\n",
       "    <tr>\n",
       "      <th>3</th>\n",
       "      <td>LEVOTHYROXINE SODIUM</td>\n",
       "      <td>20756951</td>\n",
       "    </tr>\n",
       "    <tr>\n",
       "      <th>0</th>\n",
       "      <td>AMLODIPINE BESYLATE</td>\n",
       "      <td>4139983</td>\n",
       "    </tr>\n",
       "    <tr>\n",
       "      <th>4</th>\n",
       "      <td>LISINOPRIL</td>\n",
       "      <td>3458573</td>\n",
       "    </tr>\n",
       "    <tr>\n",
       "      <th>2</th>\n",
       "      <td>HYDROCODONE/ACETAMINOPHEN</td>\n",
       "      <td>608744</td>\n",
       "    </tr>\n",
       "    <tr>\n",
       "      <th>1</th>\n",
       "      <td>ATORVASTATIN CALCIUM</td>\n",
       "      <td>477505</td>\n",
       "    </tr>\n",
       "  </tbody>\n",
       "</table>\n",
       "</div>"
      ],
      "text/plain": [
       "       medication_perscribed  num_perscribed\n",
       "3       LEVOTHYROXINE SODIUM        20756951\n",
       "0        AMLODIPINE BESYLATE         4139983\n",
       "4                 LISINOPRIL         3458573\n",
       "2  HYDROCODONE/ACETAMINOPHEN          608744\n",
       "1       ATORVASTATIN CALCIUM          477505"
      ]
     },
     "execution_count": 1092,
     "metadata": {},
     "output_type": "execute_result"
    }
   ],
   "source": [
    "top_5_presc_us = most_common(most_common_perscription, 'num_perscribed', 5, \n",
    "                                                             groupby='medication_perscribed', counter=False)\n",
    "top_5_presc_us"
   ]
  },
  {
   "cell_type": "markdown",
   "metadata": {
    "hidden": true
   },
   "source": [
    "The top five prescriptions in the US to beneficiaries 65+:\n",
    "\n",
    "- Levothyroxine sodium (~ 20.7M): used to treat hypothyroidism, enlarged thyroid glands, and thyroid cancer\n",
    "- Amlodipine besylate (~ 4.1M): used to treat high blood pressure\n",
    "- Lisinopril (~ 3.5M): treats high blood pressure and heart failure; can reduce risk of death after heart attack\n",
    "- Hydrocodone/acetaminophen (e.g., vicodin; ~ 610k): narcotic used to treat pain \n",
    "- Atorvastatin calcium (~ 480k): slows cholesterol production in the body and reduce buildup in ateral walls; used to decrease LDL cholesterol and increase HDL cholesterol"
   ]
  },
  {
   "cell_type": "markdown",
   "metadata": {
    "heading_collapsed": true,
    "hidden": true
   },
   "source": [
    "##### Exploratory plots"
   ]
  },
  {
   "cell_type": "code",
   "execution_count": 924,
   "metadata": {
    "ExecuteTime": {
     "end_time": "2021-07-02T17:28:04.390463Z",
     "start_time": "2021-07-02T17:28:03.964863Z"
    },
    "hidden": true
   },
   "outputs": [
    {
     "data": {
      "application/vnd.plotly.v1+json": {
       "config": {
        "plotlyServerURL": "https://plotly.com"
       },
       "data": [
        {
         "alignmentgroup": "True",
         "customdata": [
          [
           "AK",
           24329,
           1
          ],
          [
           "DC",
           40835,
           1
          ],
          [
           "VT",
           50251,
           1
          ],
          [
           "WY",
           56337,
           1
          ],
          [
           "DE",
           64488,
           1
          ],
          [
           "ND",
           84791,
           1
          ],
          [
           "NH",
           96792,
           1
          ],
          [
           "HI",
           103532,
           1
          ],
          [
           "MT",
           110899,
           1
          ],
          [
           "SD",
           116276,
           1
          ],
          [
           "ME",
           136922,
           1
          ],
          [
           "ID",
           156156,
           1
          ],
          [
           "RI",
           157663,
           1
          ],
          [
           "UT",
           169515,
           1
          ],
          [
           "NV",
           207815,
           1
          ],
          [
           "NM",
           208557,
           1
          ],
          [
           "NE",
           250443,
           1
          ],
          [
           "MD",
           278191,
           1
          ],
          [
           "WV",
           278925,
           1
          ],
          [
           "CT",
           309485,
           1
          ],
          [
           "KS",
           362152,
           1
          ],
          [
           "OK",
           362819,
           1
          ],
          [
           "AR",
           363817,
           1
          ],
          [
           "MS",
           386290,
           1
          ],
          [
           "OR",
           399498,
           1
          ],
          [
           "IA",
           433527,
           1
          ],
          [
           "CO",
           446076,
           1
          ],
          [
           "MN",
           472550,
           1
          ],
          [
           "SC",
           490464,
           1
          ],
          [
           "WA",
           503476,
           1
          ],
          [
           "WI",
           514544,
           1
          ],
          [
           "LA",
           539678,
           1
          ],
          [
           "VA",
           567642,
           1
          ],
          [
           "NJ",
           607403,
           1
          ],
          [
           "AL",
           608744,
           1
          ],
          [
           "AZ",
           611295,
           1
          ],
          [
           "KY",
           616101,
           1
          ],
          [
           "IN",
           704582,
           1
          ],
          [
           "MO",
           758282,
           1
          ],
          [
           "MA",
           765885,
           1
          ],
          [
           "TN",
           786640,
           1
          ],
          [
           "MI",
           861491,
           1
          ],
          [
           "GA",
           927224,
           1
          ],
          [
           "IL",
           999042,
           1
          ],
          [
           "NC",
           1069480,
           1
          ],
          [
           "OH",
           1299004,
           1
          ],
          [
           "PA",
           1686883,
           1
          ],
          [
           "NY",
           1755492,
           1
          ],
          [
           "TX",
           1976578,
           1
          ],
          [
           "FL",
           2120334,
           1
          ],
          [
           "CA",
           2542561,
           1
          ]
         ],
         "hovertemplate": "=%{x}<br>Number of states=%{y}<br>state=%{customdata[0]}<br>Number perscribed=%{marker.color}<extra></extra>",
         "legendgroup": "",
         "marker": {
          "color": [
           24329,
           40835,
           50251,
           56337,
           64488,
           84791,
           96792,
           103532,
           110899,
           116276,
           136922,
           156156,
           157663,
           169515,
           207815,
           208557,
           250443,
           278191,
           278925,
           309485,
           362152,
           362819,
           363817,
           386290,
           399498,
           433527,
           446076,
           472550,
           490464,
           503476,
           514544,
           539678,
           567642,
           607403,
           608744,
           611295,
           616101,
           704582,
           758282,
           765885,
           786640,
           861491,
           927224,
           999042,
           1069480,
           1299004,
           1686883,
           1755492,
           1976578,
           2120334,
           2542561
          ],
          "coloraxis": "coloraxis",
          "pattern": {
           "shape": ""
          }
         },
         "name": "",
         "offsetgroup": "",
         "orientation": "v",
         "showlegend": false,
         "textposition": "auto",
         "type": "bar",
         "x": [
          "LISINOPRIL",
          "AMLODIPINE BESYLATE",
          "LISINOPRIL",
          "LEVOTHYROXINE SODIUM",
          "ATORVASTATIN CALCIUM",
          "LEVOTHYROXINE SODIUM",
          "LEVOTHYROXINE SODIUM",
          "ATORVASTATIN CALCIUM",
          "LEVOTHYROXINE SODIUM",
          "LEVOTHYROXINE SODIUM",
          "LISINOPRIL",
          "LEVOTHYROXINE SODIUM",
          "LISINOPRIL",
          "LEVOTHYROXINE SODIUM",
          "LISINOPRIL",
          "LEVOTHYROXINE SODIUM",
          "LEVOTHYROXINE SODIUM",
          "LISINOPRIL",
          "LEVOTHYROXINE SODIUM",
          "ATORVASTATIN CALCIUM",
          "LEVOTHYROXINE SODIUM",
          "LEVOTHYROXINE SODIUM",
          "LEVOTHYROXINE SODIUM",
          "AMLODIPINE BESYLATE",
          "LEVOTHYROXINE SODIUM",
          "LEVOTHYROXINE SODIUM",
          "LEVOTHYROXINE SODIUM",
          "LISINOPRIL",
          "AMLODIPINE BESYLATE",
          "LISINOPRIL",
          "LEVOTHYROXINE SODIUM",
          "AMLODIPINE BESYLATE",
          "LEVOTHYROXINE SODIUM",
          "LEVOTHYROXINE SODIUM",
          "HYDROCODONE/ACETAMINOPHEN",
          "LEVOTHYROXINE SODIUM",
          "LEVOTHYROXINE SODIUM",
          "LEVOTHYROXINE SODIUM",
          "LEVOTHYROXINE SODIUM",
          "LISINOPRIL",
          "LEVOTHYROXINE SODIUM",
          "LISINOPRIL",
          "AMLODIPINE BESYLATE",
          "LEVOTHYROXINE SODIUM",
          "LEVOTHYROXINE SODIUM",
          "LEVOTHYROXINE SODIUM",
          "LEVOTHYROXINE SODIUM",
          "AMLODIPINE BESYLATE",
          "LEVOTHYROXINE SODIUM",
          "LEVOTHYROXINE SODIUM",
          "LEVOTHYROXINE SODIUM"
         ],
         "xaxis": "x",
         "y": [
          1,
          1,
          1,
          1,
          1,
          1,
          1,
          1,
          1,
          1,
          1,
          1,
          1,
          1,
          1,
          1,
          1,
          1,
          1,
          1,
          1,
          1,
          1,
          1,
          1,
          1,
          1,
          1,
          1,
          1,
          1,
          1,
          1,
          1,
          1,
          1,
          1,
          1,
          1,
          1,
          1,
          1,
          1,
          1,
          1,
          1,
          1,
          1,
          1,
          1,
          1
         ],
         "yaxis": "y"
        }
       ],
       "layout": {
        "barmode": "relative",
        "coloraxis": {
         "colorbar": {
          "title": {
           "text": "Number perscribed"
          }
         },
         "colorscale": [
          [
           0,
           "#0d0887"
          ],
          [
           0.1111111111111111,
           "#46039f"
          ],
          [
           0.2222222222222222,
           "#7201a8"
          ],
          [
           0.3333333333333333,
           "#9c179e"
          ],
          [
           0.4444444444444444,
           "#bd3786"
          ],
          [
           0.5555555555555556,
           "#d8576b"
          ],
          [
           0.6666666666666666,
           "#ed7953"
          ],
          [
           0.7777777777777778,
           "#fb9f3a"
          ],
          [
           0.8888888888888888,
           "#fdca26"
          ],
          [
           1,
           "#f0f921"
          ]
         ]
        },
        "legend": {
         "tracegroupgap": 0
        },
        "template": {
         "data": {
          "bar": [
           {
            "error_x": {
             "color": "#2a3f5f"
            },
            "error_y": {
             "color": "#2a3f5f"
            },
            "marker": {
             "line": {
              "color": "#E5ECF6",
              "width": 0.5
             },
             "pattern": {
              "fillmode": "overlay",
              "size": 10,
              "solidity": 0.2
             }
            },
            "type": "bar"
           }
          ],
          "barpolar": [
           {
            "marker": {
             "line": {
              "color": "#E5ECF6",
              "width": 0.5
             },
             "pattern": {
              "fillmode": "overlay",
              "size": 10,
              "solidity": 0.2
             }
            },
            "type": "barpolar"
           }
          ],
          "carpet": [
           {
            "aaxis": {
             "endlinecolor": "#2a3f5f",
             "gridcolor": "white",
             "linecolor": "white",
             "minorgridcolor": "white",
             "startlinecolor": "#2a3f5f"
            },
            "baxis": {
             "endlinecolor": "#2a3f5f",
             "gridcolor": "white",
             "linecolor": "white",
             "minorgridcolor": "white",
             "startlinecolor": "#2a3f5f"
            },
            "type": "carpet"
           }
          ],
          "choropleth": [
           {
            "colorbar": {
             "outlinewidth": 0,
             "ticks": ""
            },
            "type": "choropleth"
           }
          ],
          "contour": [
           {
            "colorbar": {
             "outlinewidth": 0,
             "ticks": ""
            },
            "colorscale": [
             [
              0,
              "#0d0887"
             ],
             [
              0.1111111111111111,
              "#46039f"
             ],
             [
              0.2222222222222222,
              "#7201a8"
             ],
             [
              0.3333333333333333,
              "#9c179e"
             ],
             [
              0.4444444444444444,
              "#bd3786"
             ],
             [
              0.5555555555555556,
              "#d8576b"
             ],
             [
              0.6666666666666666,
              "#ed7953"
             ],
             [
              0.7777777777777778,
              "#fb9f3a"
             ],
             [
              0.8888888888888888,
              "#fdca26"
             ],
             [
              1,
              "#f0f921"
             ]
            ],
            "type": "contour"
           }
          ],
          "contourcarpet": [
           {
            "colorbar": {
             "outlinewidth": 0,
             "ticks": ""
            },
            "type": "contourcarpet"
           }
          ],
          "heatmap": [
           {
            "colorbar": {
             "outlinewidth": 0,
             "ticks": ""
            },
            "colorscale": [
             [
              0,
              "#0d0887"
             ],
             [
              0.1111111111111111,
              "#46039f"
             ],
             [
              0.2222222222222222,
              "#7201a8"
             ],
             [
              0.3333333333333333,
              "#9c179e"
             ],
             [
              0.4444444444444444,
              "#bd3786"
             ],
             [
              0.5555555555555556,
              "#d8576b"
             ],
             [
              0.6666666666666666,
              "#ed7953"
             ],
             [
              0.7777777777777778,
              "#fb9f3a"
             ],
             [
              0.8888888888888888,
              "#fdca26"
             ],
             [
              1,
              "#f0f921"
             ]
            ],
            "type": "heatmap"
           }
          ],
          "heatmapgl": [
           {
            "colorbar": {
             "outlinewidth": 0,
             "ticks": ""
            },
            "colorscale": [
             [
              0,
              "#0d0887"
             ],
             [
              0.1111111111111111,
              "#46039f"
             ],
             [
              0.2222222222222222,
              "#7201a8"
             ],
             [
              0.3333333333333333,
              "#9c179e"
             ],
             [
              0.4444444444444444,
              "#bd3786"
             ],
             [
              0.5555555555555556,
              "#d8576b"
             ],
             [
              0.6666666666666666,
              "#ed7953"
             ],
             [
              0.7777777777777778,
              "#fb9f3a"
             ],
             [
              0.8888888888888888,
              "#fdca26"
             ],
             [
              1,
              "#f0f921"
             ]
            ],
            "type": "heatmapgl"
           }
          ],
          "histogram": [
           {
            "marker": {
             "pattern": {
              "fillmode": "overlay",
              "size": 10,
              "solidity": 0.2
             }
            },
            "type": "histogram"
           }
          ],
          "histogram2d": [
           {
            "colorbar": {
             "outlinewidth": 0,
             "ticks": ""
            },
            "colorscale": [
             [
              0,
              "#0d0887"
             ],
             [
              0.1111111111111111,
              "#46039f"
             ],
             [
              0.2222222222222222,
              "#7201a8"
             ],
             [
              0.3333333333333333,
              "#9c179e"
             ],
             [
              0.4444444444444444,
              "#bd3786"
             ],
             [
              0.5555555555555556,
              "#d8576b"
             ],
             [
              0.6666666666666666,
              "#ed7953"
             ],
             [
              0.7777777777777778,
              "#fb9f3a"
             ],
             [
              0.8888888888888888,
              "#fdca26"
             ],
             [
              1,
              "#f0f921"
             ]
            ],
            "type": "histogram2d"
           }
          ],
          "histogram2dcontour": [
           {
            "colorbar": {
             "outlinewidth": 0,
             "ticks": ""
            },
            "colorscale": [
             [
              0,
              "#0d0887"
             ],
             [
              0.1111111111111111,
              "#46039f"
             ],
             [
              0.2222222222222222,
              "#7201a8"
             ],
             [
              0.3333333333333333,
              "#9c179e"
             ],
             [
              0.4444444444444444,
              "#bd3786"
             ],
             [
              0.5555555555555556,
              "#d8576b"
             ],
             [
              0.6666666666666666,
              "#ed7953"
             ],
             [
              0.7777777777777778,
              "#fb9f3a"
             ],
             [
              0.8888888888888888,
              "#fdca26"
             ],
             [
              1,
              "#f0f921"
             ]
            ],
            "type": "histogram2dcontour"
           }
          ],
          "mesh3d": [
           {
            "colorbar": {
             "outlinewidth": 0,
             "ticks": ""
            },
            "type": "mesh3d"
           }
          ],
          "parcoords": [
           {
            "line": {
             "colorbar": {
              "outlinewidth": 0,
              "ticks": ""
             }
            },
            "type": "parcoords"
           }
          ],
          "pie": [
           {
            "automargin": true,
            "type": "pie"
           }
          ],
          "scatter": [
           {
            "marker": {
             "colorbar": {
              "outlinewidth": 0,
              "ticks": ""
             }
            },
            "type": "scatter"
           }
          ],
          "scatter3d": [
           {
            "line": {
             "colorbar": {
              "outlinewidth": 0,
              "ticks": ""
             }
            },
            "marker": {
             "colorbar": {
              "outlinewidth": 0,
              "ticks": ""
             }
            },
            "type": "scatter3d"
           }
          ],
          "scattercarpet": [
           {
            "marker": {
             "colorbar": {
              "outlinewidth": 0,
              "ticks": ""
             }
            },
            "type": "scattercarpet"
           }
          ],
          "scattergeo": [
           {
            "marker": {
             "colorbar": {
              "outlinewidth": 0,
              "ticks": ""
             }
            },
            "type": "scattergeo"
           }
          ],
          "scattergl": [
           {
            "marker": {
             "colorbar": {
              "outlinewidth": 0,
              "ticks": ""
             }
            },
            "type": "scattergl"
           }
          ],
          "scattermapbox": [
           {
            "marker": {
             "colorbar": {
              "outlinewidth": 0,
              "ticks": ""
             }
            },
            "type": "scattermapbox"
           }
          ],
          "scatterpolar": [
           {
            "marker": {
             "colorbar": {
              "outlinewidth": 0,
              "ticks": ""
             }
            },
            "type": "scatterpolar"
           }
          ],
          "scatterpolargl": [
           {
            "marker": {
             "colorbar": {
              "outlinewidth": 0,
              "ticks": ""
             }
            },
            "type": "scatterpolargl"
           }
          ],
          "scatterternary": [
           {
            "marker": {
             "colorbar": {
              "outlinewidth": 0,
              "ticks": ""
             }
            },
            "type": "scatterternary"
           }
          ],
          "surface": [
           {
            "colorbar": {
             "outlinewidth": 0,
             "ticks": ""
            },
            "colorscale": [
             [
              0,
              "#0d0887"
             ],
             [
              0.1111111111111111,
              "#46039f"
             ],
             [
              0.2222222222222222,
              "#7201a8"
             ],
             [
              0.3333333333333333,
              "#9c179e"
             ],
             [
              0.4444444444444444,
              "#bd3786"
             ],
             [
              0.5555555555555556,
              "#d8576b"
             ],
             [
              0.6666666666666666,
              "#ed7953"
             ],
             [
              0.7777777777777778,
              "#fb9f3a"
             ],
             [
              0.8888888888888888,
              "#fdca26"
             ],
             [
              1,
              "#f0f921"
             ]
            ],
            "type": "surface"
           }
          ],
          "table": [
           {
            "cells": {
             "fill": {
              "color": "#EBF0F8"
             },
             "line": {
              "color": "white"
             }
            },
            "header": {
             "fill": {
              "color": "#C8D4E3"
             },
             "line": {
              "color": "white"
             }
            },
            "type": "table"
           }
          ]
         },
         "layout": {
          "annotationdefaults": {
           "arrowcolor": "#2a3f5f",
           "arrowhead": 0,
           "arrowwidth": 1
          },
          "autotypenumbers": "strict",
          "coloraxis": {
           "colorbar": {
            "outlinewidth": 0,
            "ticks": ""
           }
          },
          "colorscale": {
           "diverging": [
            [
             0,
             "#8e0152"
            ],
            [
             0.1,
             "#c51b7d"
            ],
            [
             0.2,
             "#de77ae"
            ],
            [
             0.3,
             "#f1b6da"
            ],
            [
             0.4,
             "#fde0ef"
            ],
            [
             0.5,
             "#f7f7f7"
            ],
            [
             0.6,
             "#e6f5d0"
            ],
            [
             0.7,
             "#b8e186"
            ],
            [
             0.8,
             "#7fbc41"
            ],
            [
             0.9,
             "#4d9221"
            ],
            [
             1,
             "#276419"
            ]
           ],
           "sequential": [
            [
             0,
             "#0d0887"
            ],
            [
             0.1111111111111111,
             "#46039f"
            ],
            [
             0.2222222222222222,
             "#7201a8"
            ],
            [
             0.3333333333333333,
             "#9c179e"
            ],
            [
             0.4444444444444444,
             "#bd3786"
            ],
            [
             0.5555555555555556,
             "#d8576b"
            ],
            [
             0.6666666666666666,
             "#ed7953"
            ],
            [
             0.7777777777777778,
             "#fb9f3a"
            ],
            [
             0.8888888888888888,
             "#fdca26"
            ],
            [
             1,
             "#f0f921"
            ]
           ],
           "sequentialminus": [
            [
             0,
             "#0d0887"
            ],
            [
             0.1111111111111111,
             "#46039f"
            ],
            [
             0.2222222222222222,
             "#7201a8"
            ],
            [
             0.3333333333333333,
             "#9c179e"
            ],
            [
             0.4444444444444444,
             "#bd3786"
            ],
            [
             0.5555555555555556,
             "#d8576b"
            ],
            [
             0.6666666666666666,
             "#ed7953"
            ],
            [
             0.7777777777777778,
             "#fb9f3a"
            ],
            [
             0.8888888888888888,
             "#fdca26"
            ],
            [
             1,
             "#f0f921"
            ]
           ]
          },
          "colorway": [
           "#636efa",
           "#EF553B",
           "#00cc96",
           "#ab63fa",
           "#FFA15A",
           "#19d3f3",
           "#FF6692",
           "#B6E880",
           "#FF97FF",
           "#FECB52"
          ],
          "font": {
           "color": "#2a3f5f"
          },
          "geo": {
           "bgcolor": "white",
           "lakecolor": "white",
           "landcolor": "#E5ECF6",
           "showlakes": true,
           "showland": true,
           "subunitcolor": "white"
          },
          "hoverlabel": {
           "align": "left"
          },
          "hovermode": "closest",
          "mapbox": {
           "style": "light"
          },
          "paper_bgcolor": "white",
          "plot_bgcolor": "#E5ECF6",
          "polar": {
           "angularaxis": {
            "gridcolor": "white",
            "linecolor": "white",
            "ticks": ""
           },
           "bgcolor": "#E5ECF6",
           "radialaxis": {
            "gridcolor": "white",
            "linecolor": "white",
            "ticks": ""
           }
          },
          "scene": {
           "xaxis": {
            "backgroundcolor": "#E5ECF6",
            "gridcolor": "white",
            "gridwidth": 2,
            "linecolor": "white",
            "showbackground": true,
            "ticks": "",
            "zerolinecolor": "white"
           },
           "yaxis": {
            "backgroundcolor": "#E5ECF6",
            "gridcolor": "white",
            "gridwidth": 2,
            "linecolor": "white",
            "showbackground": true,
            "ticks": "",
            "zerolinecolor": "white"
           },
           "zaxis": {
            "backgroundcolor": "#E5ECF6",
            "gridcolor": "white",
            "gridwidth": 2,
            "linecolor": "white",
            "showbackground": true,
            "ticks": "",
            "zerolinecolor": "white"
           }
          },
          "shapedefaults": {
           "line": {
            "color": "#2a3f5f"
           }
          },
          "ternary": {
           "aaxis": {
            "gridcolor": "white",
            "linecolor": "white",
            "ticks": ""
           },
           "baxis": {
            "gridcolor": "white",
            "linecolor": "white",
            "ticks": ""
           },
           "bgcolor": "#E5ECF6",
           "caxis": {
            "gridcolor": "white",
            "linecolor": "white",
            "ticks": ""
           }
          },
          "title": {
           "x": 0.05
          },
          "xaxis": {
           "automargin": true,
           "gridcolor": "white",
           "linecolor": "white",
           "ticks": "",
           "title": {
            "standoff": 15
           },
           "zerolinecolor": "white",
           "zerolinewidth": 2
          },
          "yaxis": {
           "automargin": true,
           "gridcolor": "white",
           "linecolor": "white",
           "ticks": "",
           "title": {
            "standoff": 15
           },
           "zerolinecolor": "white",
           "zerolinewidth": 2
          }
         }
        },
        "title": {
         "text": "Most commonly perscribed medications to beneficiaries 65+ (US, 2014)"
        },
        "xaxis": {
         "anchor": "y",
         "domain": [
          0,
          1
         ],
         "title": {
          "text": ""
         }
        },
        "yaxis": {
         "anchor": "x",
         "domain": [
          0,
          1
         ],
         "title": {
          "text": "Number of states"
         }
        }
       }
      },
      "text/html": [
       "<div>                            <div id=\"a07438fa-48c8-4c34-b1d0-9ecb08bcf8f5\" class=\"plotly-graph-div\" style=\"height:525px; width:100%;\"></div>            <script type=\"text/javascript\">                require([\"plotly\"], function(Plotly) {                    window.PLOTLYENV=window.PLOTLYENV || {};                                    if (document.getElementById(\"a07438fa-48c8-4c34-b1d0-9ecb08bcf8f5\")) {                    Plotly.newPlot(                        \"a07438fa-48c8-4c34-b1d0-9ecb08bcf8f5\",                        [{\"alignmentgroup\":\"True\",\"customdata\":[[\"AK\",24329,1],[\"DC\",40835,1],[\"VT\",50251,1],[\"WY\",56337,1],[\"DE\",64488,1],[\"ND\",84791,1],[\"NH\",96792,1],[\"HI\",103532,1],[\"MT\",110899,1],[\"SD\",116276,1],[\"ME\",136922,1],[\"ID\",156156,1],[\"RI\",157663,1],[\"UT\",169515,1],[\"NV\",207815,1],[\"NM\",208557,1],[\"NE\",250443,1],[\"MD\",278191,1],[\"WV\",278925,1],[\"CT\",309485,1],[\"KS\",362152,1],[\"OK\",362819,1],[\"AR\",363817,1],[\"MS\",386290,1],[\"OR\",399498,1],[\"IA\",433527,1],[\"CO\",446076,1],[\"MN\",472550,1],[\"SC\",490464,1],[\"WA\",503476,1],[\"WI\",514544,1],[\"LA\",539678,1],[\"VA\",567642,1],[\"NJ\",607403,1],[\"AL\",608744,1],[\"AZ\",611295,1],[\"KY\",616101,1],[\"IN\",704582,1],[\"MO\",758282,1],[\"MA\",765885,1],[\"TN\",786640,1],[\"MI\",861491,1],[\"GA\",927224,1],[\"IL\",999042,1],[\"NC\",1069480,1],[\"OH\",1299004,1],[\"PA\",1686883,1],[\"NY\",1755492,1],[\"TX\",1976578,1],[\"FL\",2120334,1],[\"CA\",2542561,1]],\"hovertemplate\":\"=%{x}<br>Number of states=%{y}<br>state=%{customdata[0]}<br>Number perscribed=%{marker.color}<extra></extra>\",\"legendgroup\":\"\",\"marker\":{\"color\":[24329,40835,50251,56337,64488,84791,96792,103532,110899,116276,136922,156156,157663,169515,207815,208557,250443,278191,278925,309485,362152,362819,363817,386290,399498,433527,446076,472550,490464,503476,514544,539678,567642,607403,608744,611295,616101,704582,758282,765885,786640,861491,927224,999042,1069480,1299004,1686883,1755492,1976578,2120334,2542561],\"coloraxis\":\"coloraxis\",\"pattern\":{\"shape\":\"\"}},\"name\":\"\",\"offsetgroup\":\"\",\"orientation\":\"v\",\"showlegend\":false,\"textposition\":\"auto\",\"type\":\"bar\",\"x\":[\"LISINOPRIL\",\"AMLODIPINE BESYLATE\",\"LISINOPRIL\",\"LEVOTHYROXINE SODIUM\",\"ATORVASTATIN CALCIUM\",\"LEVOTHYROXINE SODIUM\",\"LEVOTHYROXINE SODIUM\",\"ATORVASTATIN CALCIUM\",\"LEVOTHYROXINE SODIUM\",\"LEVOTHYROXINE SODIUM\",\"LISINOPRIL\",\"LEVOTHYROXINE SODIUM\",\"LISINOPRIL\",\"LEVOTHYROXINE SODIUM\",\"LISINOPRIL\",\"LEVOTHYROXINE SODIUM\",\"LEVOTHYROXINE SODIUM\",\"LISINOPRIL\",\"LEVOTHYROXINE SODIUM\",\"ATORVASTATIN CALCIUM\",\"LEVOTHYROXINE SODIUM\",\"LEVOTHYROXINE SODIUM\",\"LEVOTHYROXINE SODIUM\",\"AMLODIPINE BESYLATE\",\"LEVOTHYROXINE SODIUM\",\"LEVOTHYROXINE SODIUM\",\"LEVOTHYROXINE SODIUM\",\"LISINOPRIL\",\"AMLODIPINE BESYLATE\",\"LISINOPRIL\",\"LEVOTHYROXINE SODIUM\",\"AMLODIPINE BESYLATE\",\"LEVOTHYROXINE SODIUM\",\"LEVOTHYROXINE SODIUM\",\"HYDROCODONE/ACETAMINOPHEN\",\"LEVOTHYROXINE SODIUM\",\"LEVOTHYROXINE SODIUM\",\"LEVOTHYROXINE SODIUM\",\"LEVOTHYROXINE SODIUM\",\"LISINOPRIL\",\"LEVOTHYROXINE SODIUM\",\"LISINOPRIL\",\"AMLODIPINE BESYLATE\",\"LEVOTHYROXINE SODIUM\",\"LEVOTHYROXINE SODIUM\",\"LEVOTHYROXINE SODIUM\",\"LEVOTHYROXINE SODIUM\",\"AMLODIPINE BESYLATE\",\"LEVOTHYROXINE SODIUM\",\"LEVOTHYROXINE SODIUM\",\"LEVOTHYROXINE SODIUM\"],\"xaxis\":\"x\",\"y\":[1,1,1,1,1,1,1,1,1,1,1,1,1,1,1,1,1,1,1,1,1,1,1,1,1,1,1,1,1,1,1,1,1,1,1,1,1,1,1,1,1,1,1,1,1,1,1,1,1,1,1],\"yaxis\":\"y\"}],                        {\"barmode\":\"relative\",\"coloraxis\":{\"colorbar\":{\"title\":{\"text\":\"Number perscribed\"}},\"colorscale\":[[0.0,\"#0d0887\"],[0.1111111111111111,\"#46039f\"],[0.2222222222222222,\"#7201a8\"],[0.3333333333333333,\"#9c179e\"],[0.4444444444444444,\"#bd3786\"],[0.5555555555555556,\"#d8576b\"],[0.6666666666666666,\"#ed7953\"],[0.7777777777777778,\"#fb9f3a\"],[0.8888888888888888,\"#fdca26\"],[1.0,\"#f0f921\"]]},\"legend\":{\"tracegroupgap\":0},\"template\":{\"data\":{\"bar\":[{\"error_x\":{\"color\":\"#2a3f5f\"},\"error_y\":{\"color\":\"#2a3f5f\"},\"marker\":{\"line\":{\"color\":\"#E5ECF6\",\"width\":0.5},\"pattern\":{\"fillmode\":\"overlay\",\"size\":10,\"solidity\":0.2}},\"type\":\"bar\"}],\"barpolar\":[{\"marker\":{\"line\":{\"color\":\"#E5ECF6\",\"width\":0.5},\"pattern\":{\"fillmode\":\"overlay\",\"size\":10,\"solidity\":0.2}},\"type\":\"barpolar\"}],\"carpet\":[{\"aaxis\":{\"endlinecolor\":\"#2a3f5f\",\"gridcolor\":\"white\",\"linecolor\":\"white\",\"minorgridcolor\":\"white\",\"startlinecolor\":\"#2a3f5f\"},\"baxis\":{\"endlinecolor\":\"#2a3f5f\",\"gridcolor\":\"white\",\"linecolor\":\"white\",\"minorgridcolor\":\"white\",\"startlinecolor\":\"#2a3f5f\"},\"type\":\"carpet\"}],\"choropleth\":[{\"colorbar\":{\"outlinewidth\":0,\"ticks\":\"\"},\"type\":\"choropleth\"}],\"contour\":[{\"colorbar\":{\"outlinewidth\":0,\"ticks\":\"\"},\"colorscale\":[[0.0,\"#0d0887\"],[0.1111111111111111,\"#46039f\"],[0.2222222222222222,\"#7201a8\"],[0.3333333333333333,\"#9c179e\"],[0.4444444444444444,\"#bd3786\"],[0.5555555555555556,\"#d8576b\"],[0.6666666666666666,\"#ed7953\"],[0.7777777777777778,\"#fb9f3a\"],[0.8888888888888888,\"#fdca26\"],[1.0,\"#f0f921\"]],\"type\":\"contour\"}],\"contourcarpet\":[{\"colorbar\":{\"outlinewidth\":0,\"ticks\":\"\"},\"type\":\"contourcarpet\"}],\"heatmap\":[{\"colorbar\":{\"outlinewidth\":0,\"ticks\":\"\"},\"colorscale\":[[0.0,\"#0d0887\"],[0.1111111111111111,\"#46039f\"],[0.2222222222222222,\"#7201a8\"],[0.3333333333333333,\"#9c179e\"],[0.4444444444444444,\"#bd3786\"],[0.5555555555555556,\"#d8576b\"],[0.6666666666666666,\"#ed7953\"],[0.7777777777777778,\"#fb9f3a\"],[0.8888888888888888,\"#fdca26\"],[1.0,\"#f0f921\"]],\"type\":\"heatmap\"}],\"heatmapgl\":[{\"colorbar\":{\"outlinewidth\":0,\"ticks\":\"\"},\"colorscale\":[[0.0,\"#0d0887\"],[0.1111111111111111,\"#46039f\"],[0.2222222222222222,\"#7201a8\"],[0.3333333333333333,\"#9c179e\"],[0.4444444444444444,\"#bd3786\"],[0.5555555555555556,\"#d8576b\"],[0.6666666666666666,\"#ed7953\"],[0.7777777777777778,\"#fb9f3a\"],[0.8888888888888888,\"#fdca26\"],[1.0,\"#f0f921\"]],\"type\":\"heatmapgl\"}],\"histogram\":[{\"marker\":{\"pattern\":{\"fillmode\":\"overlay\",\"size\":10,\"solidity\":0.2}},\"type\":\"histogram\"}],\"histogram2d\":[{\"colorbar\":{\"outlinewidth\":0,\"ticks\":\"\"},\"colorscale\":[[0.0,\"#0d0887\"],[0.1111111111111111,\"#46039f\"],[0.2222222222222222,\"#7201a8\"],[0.3333333333333333,\"#9c179e\"],[0.4444444444444444,\"#bd3786\"],[0.5555555555555556,\"#d8576b\"],[0.6666666666666666,\"#ed7953\"],[0.7777777777777778,\"#fb9f3a\"],[0.8888888888888888,\"#fdca26\"],[1.0,\"#f0f921\"]],\"type\":\"histogram2d\"}],\"histogram2dcontour\":[{\"colorbar\":{\"outlinewidth\":0,\"ticks\":\"\"},\"colorscale\":[[0.0,\"#0d0887\"],[0.1111111111111111,\"#46039f\"],[0.2222222222222222,\"#7201a8\"],[0.3333333333333333,\"#9c179e\"],[0.4444444444444444,\"#bd3786\"],[0.5555555555555556,\"#d8576b\"],[0.6666666666666666,\"#ed7953\"],[0.7777777777777778,\"#fb9f3a\"],[0.8888888888888888,\"#fdca26\"],[1.0,\"#f0f921\"]],\"type\":\"histogram2dcontour\"}],\"mesh3d\":[{\"colorbar\":{\"outlinewidth\":0,\"ticks\":\"\"},\"type\":\"mesh3d\"}],\"parcoords\":[{\"line\":{\"colorbar\":{\"outlinewidth\":0,\"ticks\":\"\"}},\"type\":\"parcoords\"}],\"pie\":[{\"automargin\":true,\"type\":\"pie\"}],\"scatter\":[{\"marker\":{\"colorbar\":{\"outlinewidth\":0,\"ticks\":\"\"}},\"type\":\"scatter\"}],\"scatter3d\":[{\"line\":{\"colorbar\":{\"outlinewidth\":0,\"ticks\":\"\"}},\"marker\":{\"colorbar\":{\"outlinewidth\":0,\"ticks\":\"\"}},\"type\":\"scatter3d\"}],\"scattercarpet\":[{\"marker\":{\"colorbar\":{\"outlinewidth\":0,\"ticks\":\"\"}},\"type\":\"scattercarpet\"}],\"scattergeo\":[{\"marker\":{\"colorbar\":{\"outlinewidth\":0,\"ticks\":\"\"}},\"type\":\"scattergeo\"}],\"scattergl\":[{\"marker\":{\"colorbar\":{\"outlinewidth\":0,\"ticks\":\"\"}},\"type\":\"scattergl\"}],\"scattermapbox\":[{\"marker\":{\"colorbar\":{\"outlinewidth\":0,\"ticks\":\"\"}},\"type\":\"scattermapbox\"}],\"scatterpolar\":[{\"marker\":{\"colorbar\":{\"outlinewidth\":0,\"ticks\":\"\"}},\"type\":\"scatterpolar\"}],\"scatterpolargl\":[{\"marker\":{\"colorbar\":{\"outlinewidth\":0,\"ticks\":\"\"}},\"type\":\"scatterpolargl\"}],\"scatterternary\":[{\"marker\":{\"colorbar\":{\"outlinewidth\":0,\"ticks\":\"\"}},\"type\":\"scatterternary\"}],\"surface\":[{\"colorbar\":{\"outlinewidth\":0,\"ticks\":\"\"},\"colorscale\":[[0.0,\"#0d0887\"],[0.1111111111111111,\"#46039f\"],[0.2222222222222222,\"#7201a8\"],[0.3333333333333333,\"#9c179e\"],[0.4444444444444444,\"#bd3786\"],[0.5555555555555556,\"#d8576b\"],[0.6666666666666666,\"#ed7953\"],[0.7777777777777778,\"#fb9f3a\"],[0.8888888888888888,\"#fdca26\"],[1.0,\"#f0f921\"]],\"type\":\"surface\"}],\"table\":[{\"cells\":{\"fill\":{\"color\":\"#EBF0F8\"},\"line\":{\"color\":\"white\"}},\"header\":{\"fill\":{\"color\":\"#C8D4E3\"},\"line\":{\"color\":\"white\"}},\"type\":\"table\"}]},\"layout\":{\"annotationdefaults\":{\"arrowcolor\":\"#2a3f5f\",\"arrowhead\":0,\"arrowwidth\":1},\"autotypenumbers\":\"strict\",\"coloraxis\":{\"colorbar\":{\"outlinewidth\":0,\"ticks\":\"\"}},\"colorscale\":{\"diverging\":[[0,\"#8e0152\"],[0.1,\"#c51b7d\"],[0.2,\"#de77ae\"],[0.3,\"#f1b6da\"],[0.4,\"#fde0ef\"],[0.5,\"#f7f7f7\"],[0.6,\"#e6f5d0\"],[0.7,\"#b8e186\"],[0.8,\"#7fbc41\"],[0.9,\"#4d9221\"],[1,\"#276419\"]],\"sequential\":[[0.0,\"#0d0887\"],[0.1111111111111111,\"#46039f\"],[0.2222222222222222,\"#7201a8\"],[0.3333333333333333,\"#9c179e\"],[0.4444444444444444,\"#bd3786\"],[0.5555555555555556,\"#d8576b\"],[0.6666666666666666,\"#ed7953\"],[0.7777777777777778,\"#fb9f3a\"],[0.8888888888888888,\"#fdca26\"],[1.0,\"#f0f921\"]],\"sequentialminus\":[[0.0,\"#0d0887\"],[0.1111111111111111,\"#46039f\"],[0.2222222222222222,\"#7201a8\"],[0.3333333333333333,\"#9c179e\"],[0.4444444444444444,\"#bd3786\"],[0.5555555555555556,\"#d8576b\"],[0.6666666666666666,\"#ed7953\"],[0.7777777777777778,\"#fb9f3a\"],[0.8888888888888888,\"#fdca26\"],[1.0,\"#f0f921\"]]},\"colorway\":[\"#636efa\",\"#EF553B\",\"#00cc96\",\"#ab63fa\",\"#FFA15A\",\"#19d3f3\",\"#FF6692\",\"#B6E880\",\"#FF97FF\",\"#FECB52\"],\"font\":{\"color\":\"#2a3f5f\"},\"geo\":{\"bgcolor\":\"white\",\"lakecolor\":\"white\",\"landcolor\":\"#E5ECF6\",\"showlakes\":true,\"showland\":true,\"subunitcolor\":\"white\"},\"hoverlabel\":{\"align\":\"left\"},\"hovermode\":\"closest\",\"mapbox\":{\"style\":\"light\"},\"paper_bgcolor\":\"white\",\"plot_bgcolor\":\"#E5ECF6\",\"polar\":{\"angularaxis\":{\"gridcolor\":\"white\",\"linecolor\":\"white\",\"ticks\":\"\"},\"bgcolor\":\"#E5ECF6\",\"radialaxis\":{\"gridcolor\":\"white\",\"linecolor\":\"white\",\"ticks\":\"\"}},\"scene\":{\"xaxis\":{\"backgroundcolor\":\"#E5ECF6\",\"gridcolor\":\"white\",\"gridwidth\":2,\"linecolor\":\"white\",\"showbackground\":true,\"ticks\":\"\",\"zerolinecolor\":\"white\"},\"yaxis\":{\"backgroundcolor\":\"#E5ECF6\",\"gridcolor\":\"white\",\"gridwidth\":2,\"linecolor\":\"white\",\"showbackground\":true,\"ticks\":\"\",\"zerolinecolor\":\"white\"},\"zaxis\":{\"backgroundcolor\":\"#E5ECF6\",\"gridcolor\":\"white\",\"gridwidth\":2,\"linecolor\":\"white\",\"showbackground\":true,\"ticks\":\"\",\"zerolinecolor\":\"white\"}},\"shapedefaults\":{\"line\":{\"color\":\"#2a3f5f\"}},\"ternary\":{\"aaxis\":{\"gridcolor\":\"white\",\"linecolor\":\"white\",\"ticks\":\"\"},\"baxis\":{\"gridcolor\":\"white\",\"linecolor\":\"white\",\"ticks\":\"\"},\"bgcolor\":\"#E5ECF6\",\"caxis\":{\"gridcolor\":\"white\",\"linecolor\":\"white\",\"ticks\":\"\"}},\"title\":{\"x\":0.05},\"xaxis\":{\"automargin\":true,\"gridcolor\":\"white\",\"linecolor\":\"white\",\"ticks\":\"\",\"title\":{\"standoff\":15},\"zerolinecolor\":\"white\",\"zerolinewidth\":2},\"yaxis\":{\"automargin\":true,\"gridcolor\":\"white\",\"linecolor\":\"white\",\"ticks\":\"\",\"title\":{\"standoff\":15},\"zerolinecolor\":\"white\",\"zerolinewidth\":2}}},\"title\":{\"text\":\"Most commonly perscribed medications to beneficiaries 65+ (US, 2014)\"},\"xaxis\":{\"anchor\":\"y\",\"domain\":[0.0,1.0],\"title\":{\"text\":\"\"}},\"yaxis\":{\"anchor\":\"x\",\"domain\":[0.0,1.0],\"title\":{\"text\":\"Number of states\"}}},                        {\"responsive\": true}                    ).then(function(){\n",
       "                            \n",
       "var gd = document.getElementById('a07438fa-48c8-4c34-b1d0-9ecb08bcf8f5');\n",
       "var x = new MutationObserver(function (mutations, observer) {{\n",
       "        var display = window.getComputedStyle(gd).display;\n",
       "        if (!display || display === 'none') {{\n",
       "            console.log([gd, 'removed!']);\n",
       "            Plotly.purge(gd);\n",
       "            observer.disconnect();\n",
       "        }}\n",
       "}});\n",
       "\n",
       "// Listen for the removal of the full notebook cells\n",
       "var notebookContainer = gd.closest('#notebook-container');\n",
       "if (notebookContainer) {{\n",
       "    x.observe(notebookContainer, {childList: true});\n",
       "}}\n",
       "\n",
       "// Listen for the clearing of the current output cell\n",
       "var outputEl = gd.closest('.output');\n",
       "if (outputEl) {{\n",
       "    x.observe(outputEl, {childList: true});\n",
       "}}\n",
       "\n",
       "                        })                };                });            </script>        </div>"
      ]
     },
     "metadata": {},
     "output_type": "display_data"
    }
   ],
   "source": [
    "fig = px.bar(most_common_perscription.sort_values('num_perscribed'), x='medication_perscribed',\n",
    "                     labels={'medication_perscribed':'', 'count': 'Number of states',\n",
    "                                    'num_perscribed': 'Number perscribed'}, \n",
    "                     color = 'num_perscribed',\n",
    "                     title='Most commonly perscribed medications to beneficiaries 65+ (US, 2014)',\n",
    "                     hover_data={'state': True, 'num_perscribed': True, 'rank':False}\n",
    "                     ) #hover_data=['lifeExp', 'gdpPercap']\n",
    "fig.show()"
   ]
  },
  {
   "cell_type": "markdown",
   "metadata": {
    "hidden": true
   },
   "source": [
    "Most common prescriptions based on the total number of claims from beneficiaries 65+ in each state. This bar chart isn't the most effective way to display this data. Let's try a geographic map instead."
   ]
  },
  {
   "cell_type": "code",
   "execution_count": 316,
   "metadata": {
    "ExecuteTime": {
     "end_time": "2021-06-25T05:43:58.384161Z",
     "start_time": "2021-06-25T05:43:58.197231Z"
    },
    "hidden": true
   },
   "outputs": [],
   "source": [
    "# def retrieve_token():\n",
    "#     with open('mapbox_token.json', 'r') as file:\n",
    "#             config = json.load(file)\n",
    "#             return config['token']"
   ]
  },
  {
   "cell_type": "code",
   "execution_count": 1109,
   "metadata": {
    "ExecuteTime": {
     "end_time": "2021-07-03T02:30:14.830526Z",
     "start_time": "2021-07-03T02:30:14.526096Z"
    },
    "hidden": true
   },
   "outputs": [
    {
     "data": {
      "application/vnd.plotly.v1+json": {
       "config": {
        "plotlyServerURL": "https://plotly.com"
       },
       "data": [
        {
         "colorscale": [
          [
           0,
           "#636efa"
          ],
          [
           1,
           "#636efa"
          ]
         ],
         "customdata": [
          [
           "LISINOPRIL",
           "AK",
           24329
          ],
          [
           "LISINOPRIL",
           "MA",
           765885
          ],
          [
           "LISINOPRIL",
           "MD",
           278191
          ],
          [
           "LISINOPRIL",
           "ME",
           136922
          ],
          [
           "LISINOPRIL",
           "MI",
           861491
          ],
          [
           "LISINOPRIL",
           "MN",
           472550
          ],
          [
           "LISINOPRIL",
           "NV",
           207815
          ],
          [
           "LISINOPRIL",
           "RI",
           157663
          ],
          [
           "LISINOPRIL",
           "VT",
           50251
          ],
          [
           "LISINOPRIL",
           "WA",
           503476
          ]
         ],
         "geo": "geo",
         "hovertemplate": "<b>%{hovertext}</b><br><br>medication_perscribed=%{customdata[0]}<br>num_perscribed=%{customdata[2]}<extra></extra>",
         "hovertext": [
          "AK",
          "MA",
          "MD",
          "ME",
          "MI",
          "MN",
          "NV",
          "RI",
          "VT",
          "WA"
         ],
         "locationmode": "USA-states",
         "locations": [
          "AK",
          "MA",
          "MD",
          "ME",
          "MI",
          "MN",
          "NV",
          "RI",
          "VT",
          "WA"
         ],
         "name": "LISINOPRIL",
         "showlegend": true,
         "showscale": false,
         "type": "choropleth",
         "z": [
          1,
          1,
          1,
          1,
          1,
          1,
          1,
          1,
          1,
          1
         ]
        },
        {
         "colorscale": [
          [
           0,
           "#EF553B"
          ],
          [
           1,
           "#EF553B"
          ]
         ],
         "customdata": [
          [
           "HYDROCODONE/ACETAMINOPHEN",
           "AL",
           608744
          ]
         ],
         "geo": "geo",
         "hovertemplate": "<b>%{hovertext}</b><br><br>medication_perscribed=%{customdata[0]}<br>num_perscribed=%{customdata[2]}<extra></extra>",
         "hovertext": [
          "AL"
         ],
         "locationmode": "USA-states",
         "locations": [
          "AL"
         ],
         "name": "HYDROCODONE/ACETAMINOPHEN",
         "showlegend": true,
         "showscale": false,
         "type": "choropleth",
         "z": [
          1
         ]
        },
        {
         "colorscale": [
          [
           0,
           "#00cc96"
          ],
          [
           1,
           "#00cc96"
          ]
         ],
         "customdata": [
          [
           "LEVOTHYROXINE SODIUM",
           "AR",
           363817
          ],
          [
           "LEVOTHYROXINE SODIUM",
           "AZ",
           611295
          ],
          [
           "LEVOTHYROXINE SODIUM",
           "CA",
           2542561
          ],
          [
           "LEVOTHYROXINE SODIUM",
           "CO",
           446076
          ],
          [
           "LEVOTHYROXINE SODIUM",
           "FL",
           2120334
          ],
          [
           "LEVOTHYROXINE SODIUM",
           "IA",
           433527
          ],
          [
           "LEVOTHYROXINE SODIUM",
           "ID",
           156156
          ],
          [
           "LEVOTHYROXINE SODIUM",
           "IL",
           999042
          ],
          [
           "LEVOTHYROXINE SODIUM",
           "IN",
           704582
          ],
          [
           "LEVOTHYROXINE SODIUM",
           "KS",
           362152
          ],
          [
           "LEVOTHYROXINE SODIUM",
           "KY",
           616101
          ],
          [
           "LEVOTHYROXINE SODIUM",
           "MO",
           758282
          ],
          [
           "LEVOTHYROXINE SODIUM",
           "MT",
           110899
          ],
          [
           "LEVOTHYROXINE SODIUM",
           "NC",
           1069480
          ],
          [
           "LEVOTHYROXINE SODIUM",
           "ND",
           84791
          ],
          [
           "LEVOTHYROXINE SODIUM",
           "NE",
           250443
          ],
          [
           "LEVOTHYROXINE SODIUM",
           "NH",
           96792
          ],
          [
           "LEVOTHYROXINE SODIUM",
           "NJ",
           607403
          ],
          [
           "LEVOTHYROXINE SODIUM",
           "NM",
           208557
          ],
          [
           "LEVOTHYROXINE SODIUM",
           "OH",
           1299004
          ],
          [
           "LEVOTHYROXINE SODIUM",
           "OK",
           362819
          ],
          [
           "LEVOTHYROXINE SODIUM",
           "OR",
           399498
          ],
          [
           "LEVOTHYROXINE SODIUM",
           "PA",
           1686883
          ],
          [
           "LEVOTHYROXINE SODIUM",
           "SD",
           116276
          ],
          [
           "LEVOTHYROXINE SODIUM",
           "TN",
           786640
          ],
          [
           "LEVOTHYROXINE SODIUM",
           "TX",
           1976578
          ],
          [
           "LEVOTHYROXINE SODIUM",
           "UT",
           169515
          ],
          [
           "LEVOTHYROXINE SODIUM",
           "VA",
           567642
          ],
          [
           "LEVOTHYROXINE SODIUM",
           "WI",
           514544
          ],
          [
           "LEVOTHYROXINE SODIUM",
           "WV",
           278925
          ],
          [
           "LEVOTHYROXINE SODIUM",
           "WY",
           56337
          ]
         ],
         "geo": "geo",
         "hovertemplate": "<b>%{hovertext}</b><br><br>medication_perscribed=%{customdata[0]}<br>num_perscribed=%{customdata[2]}<extra></extra>",
         "hovertext": [
          "AR",
          "AZ",
          "CA",
          "CO",
          "FL",
          "IA",
          "ID",
          "IL",
          "IN",
          "KS",
          "KY",
          "MO",
          "MT",
          "NC",
          "ND",
          "NE",
          "NH",
          "NJ",
          "NM",
          "OH",
          "OK",
          "OR",
          "PA",
          "SD",
          "TN",
          "TX",
          "UT",
          "VA",
          "WI",
          "WV",
          "WY"
         ],
         "locationmode": "USA-states",
         "locations": [
          "AR",
          "AZ",
          "CA",
          "CO",
          "FL",
          "IA",
          "ID",
          "IL",
          "IN",
          "KS",
          "KY",
          "MO",
          "MT",
          "NC",
          "ND",
          "NE",
          "NH",
          "NJ",
          "NM",
          "OH",
          "OK",
          "OR",
          "PA",
          "SD",
          "TN",
          "TX",
          "UT",
          "VA",
          "WI",
          "WV",
          "WY"
         ],
         "name": "LEVOTHYROXINE SODIUM",
         "showlegend": true,
         "showscale": false,
         "type": "choropleth",
         "z": [
          1,
          1,
          1,
          1,
          1,
          1,
          1,
          1,
          1,
          1,
          1,
          1,
          1,
          1,
          1,
          1,
          1,
          1,
          1,
          1,
          1,
          1,
          1,
          1,
          1,
          1,
          1,
          1,
          1,
          1,
          1
         ]
        },
        {
         "colorscale": [
          [
           0,
           "#ab63fa"
          ],
          [
           1,
           "#ab63fa"
          ]
         ],
         "customdata": [
          [
           "ATORVASTATIN CALCIUM",
           "CT",
           309485
          ],
          [
           "ATORVASTATIN CALCIUM",
           "DE",
           64488
          ],
          [
           "ATORVASTATIN CALCIUM",
           "HI",
           103532
          ]
         ],
         "geo": "geo",
         "hovertemplate": "<b>%{hovertext}</b><br><br>medication_perscribed=%{customdata[0]}<br>num_perscribed=%{customdata[2]}<extra></extra>",
         "hovertext": [
          "CT",
          "DE",
          "HI"
         ],
         "locationmode": "USA-states",
         "locations": [
          "CT",
          "DE",
          "HI"
         ],
         "name": "ATORVASTATIN CALCIUM",
         "showlegend": true,
         "showscale": false,
         "type": "choropleth",
         "z": [
          1,
          1,
          1
         ]
        },
        {
         "colorscale": [
          [
           0,
           "#FFA15A"
          ],
          [
           1,
           "#FFA15A"
          ]
         ],
         "customdata": [
          [
           "AMLODIPINE BESYLATE",
           "DC",
           40835
          ],
          [
           "AMLODIPINE BESYLATE",
           "GA",
           927224
          ],
          [
           "AMLODIPINE BESYLATE",
           "LA",
           539678
          ],
          [
           "AMLODIPINE BESYLATE",
           "MS",
           386290
          ],
          [
           "AMLODIPINE BESYLATE",
           "NY",
           1755492
          ],
          [
           "AMLODIPINE BESYLATE",
           "SC",
           490464
          ]
         ],
         "geo": "geo",
         "hovertemplate": "<b>%{hovertext}</b><br><br>medication_perscribed=%{customdata[0]}<br>num_perscribed=%{customdata[2]}<extra></extra>",
         "hovertext": [
          "DC",
          "GA",
          "LA",
          "MS",
          "NY",
          "SC"
         ],
         "locationmode": "USA-states",
         "locations": [
          "DC",
          "GA",
          "LA",
          "MS",
          "NY",
          "SC"
         ],
         "name": "AMLODIPINE BESYLATE",
         "showlegend": true,
         "showscale": false,
         "type": "choropleth",
         "z": [
          1,
          1,
          1,
          1,
          1,
          1
         ]
        }
       ],
       "layout": {
        "geo": {
         "center": {},
         "domain": {
          "x": [
           0,
           1
          ],
          "y": [
           0,
           1
          ]
         },
         "projection": {
          "type": "natural earth"
         },
         "scope": "world"
        },
        "height": 300,
        "legend": {
         "bgcolor": "white",
         "bordercolor": "white",
         "borderwidth": 2,
         "font": {
          "color": "black",
          "family": "Courier",
          "size": 16
         },
         "title": {},
         "tracegroupgap": 0,
         "traceorder": "reversed",
         "x": 1,
         "y": 0.5
        },
        "margin": {
         "b": 20,
         "l": 0,
         "r": 0,
         "t": 40
        },
        "template": {
         "data": {
          "bar": [
           {
            "error_x": {
             "color": "#2a3f5f"
            },
            "error_y": {
             "color": "#2a3f5f"
            },
            "marker": {
             "line": {
              "color": "#E5ECF6",
              "width": 0.5
             },
             "pattern": {
              "fillmode": "overlay",
              "size": 10,
              "solidity": 0.2
             }
            },
            "type": "bar"
           }
          ],
          "barpolar": [
           {
            "marker": {
             "line": {
              "color": "#E5ECF6",
              "width": 0.5
             },
             "pattern": {
              "fillmode": "overlay",
              "size": 10,
              "solidity": 0.2
             }
            },
            "type": "barpolar"
           }
          ],
          "carpet": [
           {
            "aaxis": {
             "endlinecolor": "#2a3f5f",
             "gridcolor": "white",
             "linecolor": "white",
             "minorgridcolor": "white",
             "startlinecolor": "#2a3f5f"
            },
            "baxis": {
             "endlinecolor": "#2a3f5f",
             "gridcolor": "white",
             "linecolor": "white",
             "minorgridcolor": "white",
             "startlinecolor": "#2a3f5f"
            },
            "type": "carpet"
           }
          ],
          "choropleth": [
           {
            "colorbar": {
             "outlinewidth": 0,
             "ticks": ""
            },
            "type": "choropleth"
           }
          ],
          "contour": [
           {
            "colorbar": {
             "outlinewidth": 0,
             "ticks": ""
            },
            "colorscale": [
             [
              0,
              "#0d0887"
             ],
             [
              0.1111111111111111,
              "#46039f"
             ],
             [
              0.2222222222222222,
              "#7201a8"
             ],
             [
              0.3333333333333333,
              "#9c179e"
             ],
             [
              0.4444444444444444,
              "#bd3786"
             ],
             [
              0.5555555555555556,
              "#d8576b"
             ],
             [
              0.6666666666666666,
              "#ed7953"
             ],
             [
              0.7777777777777778,
              "#fb9f3a"
             ],
             [
              0.8888888888888888,
              "#fdca26"
             ],
             [
              1,
              "#f0f921"
             ]
            ],
            "type": "contour"
           }
          ],
          "contourcarpet": [
           {
            "colorbar": {
             "outlinewidth": 0,
             "ticks": ""
            },
            "type": "contourcarpet"
           }
          ],
          "heatmap": [
           {
            "colorbar": {
             "outlinewidth": 0,
             "ticks": ""
            },
            "colorscale": [
             [
              0,
              "#0d0887"
             ],
             [
              0.1111111111111111,
              "#46039f"
             ],
             [
              0.2222222222222222,
              "#7201a8"
             ],
             [
              0.3333333333333333,
              "#9c179e"
             ],
             [
              0.4444444444444444,
              "#bd3786"
             ],
             [
              0.5555555555555556,
              "#d8576b"
             ],
             [
              0.6666666666666666,
              "#ed7953"
             ],
             [
              0.7777777777777778,
              "#fb9f3a"
             ],
             [
              0.8888888888888888,
              "#fdca26"
             ],
             [
              1,
              "#f0f921"
             ]
            ],
            "type": "heatmap"
           }
          ],
          "heatmapgl": [
           {
            "colorbar": {
             "outlinewidth": 0,
             "ticks": ""
            },
            "colorscale": [
             [
              0,
              "#0d0887"
             ],
             [
              0.1111111111111111,
              "#46039f"
             ],
             [
              0.2222222222222222,
              "#7201a8"
             ],
             [
              0.3333333333333333,
              "#9c179e"
             ],
             [
              0.4444444444444444,
              "#bd3786"
             ],
             [
              0.5555555555555556,
              "#d8576b"
             ],
             [
              0.6666666666666666,
              "#ed7953"
             ],
             [
              0.7777777777777778,
              "#fb9f3a"
             ],
             [
              0.8888888888888888,
              "#fdca26"
             ],
             [
              1,
              "#f0f921"
             ]
            ],
            "type": "heatmapgl"
           }
          ],
          "histogram": [
           {
            "marker": {
             "pattern": {
              "fillmode": "overlay",
              "size": 10,
              "solidity": 0.2
             }
            },
            "type": "histogram"
           }
          ],
          "histogram2d": [
           {
            "colorbar": {
             "outlinewidth": 0,
             "ticks": ""
            },
            "colorscale": [
             [
              0,
              "#0d0887"
             ],
             [
              0.1111111111111111,
              "#46039f"
             ],
             [
              0.2222222222222222,
              "#7201a8"
             ],
             [
              0.3333333333333333,
              "#9c179e"
             ],
             [
              0.4444444444444444,
              "#bd3786"
             ],
             [
              0.5555555555555556,
              "#d8576b"
             ],
             [
              0.6666666666666666,
              "#ed7953"
             ],
             [
              0.7777777777777778,
              "#fb9f3a"
             ],
             [
              0.8888888888888888,
              "#fdca26"
             ],
             [
              1,
              "#f0f921"
             ]
            ],
            "type": "histogram2d"
           }
          ],
          "histogram2dcontour": [
           {
            "colorbar": {
             "outlinewidth": 0,
             "ticks": ""
            },
            "colorscale": [
             [
              0,
              "#0d0887"
             ],
             [
              0.1111111111111111,
              "#46039f"
             ],
             [
              0.2222222222222222,
              "#7201a8"
             ],
             [
              0.3333333333333333,
              "#9c179e"
             ],
             [
              0.4444444444444444,
              "#bd3786"
             ],
             [
              0.5555555555555556,
              "#d8576b"
             ],
             [
              0.6666666666666666,
              "#ed7953"
             ],
             [
              0.7777777777777778,
              "#fb9f3a"
             ],
             [
              0.8888888888888888,
              "#fdca26"
             ],
             [
              1,
              "#f0f921"
             ]
            ],
            "type": "histogram2dcontour"
           }
          ],
          "mesh3d": [
           {
            "colorbar": {
             "outlinewidth": 0,
             "ticks": ""
            },
            "type": "mesh3d"
           }
          ],
          "parcoords": [
           {
            "line": {
             "colorbar": {
              "outlinewidth": 0,
              "ticks": ""
             }
            },
            "type": "parcoords"
           }
          ],
          "pie": [
           {
            "automargin": true,
            "type": "pie"
           }
          ],
          "scatter": [
           {
            "marker": {
             "colorbar": {
              "outlinewidth": 0,
              "ticks": ""
             }
            },
            "type": "scatter"
           }
          ],
          "scatter3d": [
           {
            "line": {
             "colorbar": {
              "outlinewidth": 0,
              "ticks": ""
             }
            },
            "marker": {
             "colorbar": {
              "outlinewidth": 0,
              "ticks": ""
             }
            },
            "type": "scatter3d"
           }
          ],
          "scattercarpet": [
           {
            "marker": {
             "colorbar": {
              "outlinewidth": 0,
              "ticks": ""
             }
            },
            "type": "scattercarpet"
           }
          ],
          "scattergeo": [
           {
            "marker": {
             "colorbar": {
              "outlinewidth": 0,
              "ticks": ""
             }
            },
            "type": "scattergeo"
           }
          ],
          "scattergl": [
           {
            "marker": {
             "colorbar": {
              "outlinewidth": 0,
              "ticks": ""
             }
            },
            "type": "scattergl"
           }
          ],
          "scattermapbox": [
           {
            "marker": {
             "colorbar": {
              "outlinewidth": 0,
              "ticks": ""
             }
            },
            "type": "scattermapbox"
           }
          ],
          "scatterpolar": [
           {
            "marker": {
             "colorbar": {
              "outlinewidth": 0,
              "ticks": ""
             }
            },
            "type": "scatterpolar"
           }
          ],
          "scatterpolargl": [
           {
            "marker": {
             "colorbar": {
              "outlinewidth": 0,
              "ticks": ""
             }
            },
            "type": "scatterpolargl"
           }
          ],
          "scatterternary": [
           {
            "marker": {
             "colorbar": {
              "outlinewidth": 0,
              "ticks": ""
             }
            },
            "type": "scatterternary"
           }
          ],
          "surface": [
           {
            "colorbar": {
             "outlinewidth": 0,
             "ticks": ""
            },
            "colorscale": [
             [
              0,
              "#0d0887"
             ],
             [
              0.1111111111111111,
              "#46039f"
             ],
             [
              0.2222222222222222,
              "#7201a8"
             ],
             [
              0.3333333333333333,
              "#9c179e"
             ],
             [
              0.4444444444444444,
              "#bd3786"
             ],
             [
              0.5555555555555556,
              "#d8576b"
             ],
             [
              0.6666666666666666,
              "#ed7953"
             ],
             [
              0.7777777777777778,
              "#fb9f3a"
             ],
             [
              0.8888888888888888,
              "#fdca26"
             ],
             [
              1,
              "#f0f921"
             ]
            ],
            "type": "surface"
           }
          ],
          "table": [
           {
            "cells": {
             "fill": {
              "color": "#EBF0F8"
             },
             "line": {
              "color": "white"
             }
            },
            "header": {
             "fill": {
              "color": "#C8D4E3"
             },
             "line": {
              "color": "white"
             }
            },
            "type": "table"
           }
          ]
         },
         "layout": {
          "annotationdefaults": {
           "arrowcolor": "#2a3f5f",
           "arrowhead": 0,
           "arrowwidth": 1
          },
          "autotypenumbers": "strict",
          "coloraxis": {
           "colorbar": {
            "outlinewidth": 0,
            "ticks": ""
           }
          },
          "colorscale": {
           "diverging": [
            [
             0,
             "#8e0152"
            ],
            [
             0.1,
             "#c51b7d"
            ],
            [
             0.2,
             "#de77ae"
            ],
            [
             0.3,
             "#f1b6da"
            ],
            [
             0.4,
             "#fde0ef"
            ],
            [
             0.5,
             "#f7f7f7"
            ],
            [
             0.6,
             "#e6f5d0"
            ],
            [
             0.7,
             "#b8e186"
            ],
            [
             0.8,
             "#7fbc41"
            ],
            [
             0.9,
             "#4d9221"
            ],
            [
             1,
             "#276419"
            ]
           ],
           "sequential": [
            [
             0,
             "#0d0887"
            ],
            [
             0.1111111111111111,
             "#46039f"
            ],
            [
             0.2222222222222222,
             "#7201a8"
            ],
            [
             0.3333333333333333,
             "#9c179e"
            ],
            [
             0.4444444444444444,
             "#bd3786"
            ],
            [
             0.5555555555555556,
             "#d8576b"
            ],
            [
             0.6666666666666666,
             "#ed7953"
            ],
            [
             0.7777777777777778,
             "#fb9f3a"
            ],
            [
             0.8888888888888888,
             "#fdca26"
            ],
            [
             1,
             "#f0f921"
            ]
           ],
           "sequentialminus": [
            [
             0,
             "#0d0887"
            ],
            [
             0.1111111111111111,
             "#46039f"
            ],
            [
             0.2222222222222222,
             "#7201a8"
            ],
            [
             0.3333333333333333,
             "#9c179e"
            ],
            [
             0.4444444444444444,
             "#bd3786"
            ],
            [
             0.5555555555555556,
             "#d8576b"
            ],
            [
             0.6666666666666666,
             "#ed7953"
            ],
            [
             0.7777777777777778,
             "#fb9f3a"
            ],
            [
             0.8888888888888888,
             "#fdca26"
            ],
            [
             1,
             "#f0f921"
            ]
           ]
          },
          "colorway": [
           "#636efa",
           "#EF553B",
           "#00cc96",
           "#ab63fa",
           "#FFA15A",
           "#19d3f3",
           "#FF6692",
           "#B6E880",
           "#FF97FF",
           "#FECB52"
          ],
          "font": {
           "color": "#2a3f5f"
          },
          "geo": {
           "bgcolor": "white",
           "lakecolor": "white",
           "landcolor": "#E5ECF6",
           "showlakes": true,
           "showland": true,
           "subunitcolor": "white"
          },
          "hoverlabel": {
           "align": "left"
          },
          "hovermode": "closest",
          "mapbox": {
           "style": "light"
          },
          "paper_bgcolor": "white",
          "plot_bgcolor": "#E5ECF6",
          "polar": {
           "angularaxis": {
            "gridcolor": "white",
            "linecolor": "white",
            "ticks": ""
           },
           "bgcolor": "#E5ECF6",
           "radialaxis": {
            "gridcolor": "white",
            "linecolor": "white",
            "ticks": ""
           }
          },
          "scene": {
           "xaxis": {
            "backgroundcolor": "#E5ECF6",
            "gridcolor": "white",
            "gridwidth": 2,
            "linecolor": "white",
            "showbackground": true,
            "ticks": "",
            "zerolinecolor": "white"
           },
           "yaxis": {
            "backgroundcolor": "#E5ECF6",
            "gridcolor": "white",
            "gridwidth": 2,
            "linecolor": "white",
            "showbackground": true,
            "ticks": "",
            "zerolinecolor": "white"
           },
           "zaxis": {
            "backgroundcolor": "#E5ECF6",
            "gridcolor": "white",
            "gridwidth": 2,
            "linecolor": "white",
            "showbackground": true,
            "ticks": "",
            "zerolinecolor": "white"
           }
          },
          "shapedefaults": {
           "line": {
            "color": "#2a3f5f"
           }
          },
          "ternary": {
           "aaxis": {
            "gridcolor": "white",
            "linecolor": "white",
            "ticks": ""
           },
           "baxis": {
            "gridcolor": "white",
            "linecolor": "white",
            "ticks": ""
           },
           "bgcolor": "#E5ECF6",
           "caxis": {
            "gridcolor": "white",
            "linecolor": "white",
            "ticks": ""
           }
          },
          "title": {
           "x": 0.05
          },
          "xaxis": {
           "automargin": true,
           "gridcolor": "white",
           "linecolor": "white",
           "ticks": "",
           "title": {
            "standoff": 15
           },
           "zerolinecolor": "white",
           "zerolinewidth": 2
          },
          "yaxis": {
           "automargin": true,
           "gridcolor": "white",
           "linecolor": "white",
           "ticks": "",
           "title": {
            "standoff": 15
           },
           "zerolinecolor": "white",
           "zerolinewidth": 2
          }
         }
        },
        "title": {
         "font": {
          "color": "black",
          "family": "Courier",
          "size": 20
         },
         "text": "Most common MS-DRG per state (US, 2014)"
        }
       }
      },
      "text/html": [
       "<div>                            <div id=\"461ebe2e-762b-4910-987c-83a6d267bb95\" class=\"plotly-graph-div\" style=\"height:300px; width:100%;\"></div>            <script type=\"text/javascript\">                require([\"plotly\"], function(Plotly) {                    window.PLOTLYENV=window.PLOTLYENV || {};                                    if (document.getElementById(\"461ebe2e-762b-4910-987c-83a6d267bb95\")) {                    Plotly.newPlot(                        \"461ebe2e-762b-4910-987c-83a6d267bb95\",                        [{\"colorscale\":[[0.0,\"#636efa\"],[1.0,\"#636efa\"]],\"customdata\":[[\"LISINOPRIL\",\"AK\",24329],[\"LISINOPRIL\",\"MA\",765885],[\"LISINOPRIL\",\"MD\",278191],[\"LISINOPRIL\",\"ME\",136922],[\"LISINOPRIL\",\"MI\",861491],[\"LISINOPRIL\",\"MN\",472550],[\"LISINOPRIL\",\"NV\",207815],[\"LISINOPRIL\",\"RI\",157663],[\"LISINOPRIL\",\"VT\",50251],[\"LISINOPRIL\",\"WA\",503476]],\"geo\":\"geo\",\"hovertemplate\":\"<b>%{hovertext}</b><br><br>medication_perscribed=%{customdata[0]}<br>num_perscribed=%{customdata[2]}<extra></extra>\",\"hovertext\":[\"AK\",\"MA\",\"MD\",\"ME\",\"MI\",\"MN\",\"NV\",\"RI\",\"VT\",\"WA\"],\"locationmode\":\"USA-states\",\"locations\":[\"AK\",\"MA\",\"MD\",\"ME\",\"MI\",\"MN\",\"NV\",\"RI\",\"VT\",\"WA\"],\"name\":\"LISINOPRIL\",\"showlegend\":true,\"showscale\":false,\"type\":\"choropleth\",\"z\":[1,1,1,1,1,1,1,1,1,1]},{\"colorscale\":[[0.0,\"#EF553B\"],[1.0,\"#EF553B\"]],\"customdata\":[[\"HYDROCODONE/ACETAMINOPHEN\",\"AL\",608744]],\"geo\":\"geo\",\"hovertemplate\":\"<b>%{hovertext}</b><br><br>medication_perscribed=%{customdata[0]}<br>num_perscribed=%{customdata[2]}<extra></extra>\",\"hovertext\":[\"AL\"],\"locationmode\":\"USA-states\",\"locations\":[\"AL\"],\"name\":\"HYDROCODONE/ACETAMINOPHEN\",\"showlegend\":true,\"showscale\":false,\"type\":\"choropleth\",\"z\":[1]},{\"colorscale\":[[0.0,\"#00cc96\"],[1.0,\"#00cc96\"]],\"customdata\":[[\"LEVOTHYROXINE SODIUM\",\"AR\",363817],[\"LEVOTHYROXINE SODIUM\",\"AZ\",611295],[\"LEVOTHYROXINE SODIUM\",\"CA\",2542561],[\"LEVOTHYROXINE SODIUM\",\"CO\",446076],[\"LEVOTHYROXINE SODIUM\",\"FL\",2120334],[\"LEVOTHYROXINE SODIUM\",\"IA\",433527],[\"LEVOTHYROXINE SODIUM\",\"ID\",156156],[\"LEVOTHYROXINE SODIUM\",\"IL\",999042],[\"LEVOTHYROXINE SODIUM\",\"IN\",704582],[\"LEVOTHYROXINE SODIUM\",\"KS\",362152],[\"LEVOTHYROXINE SODIUM\",\"KY\",616101],[\"LEVOTHYROXINE SODIUM\",\"MO\",758282],[\"LEVOTHYROXINE SODIUM\",\"MT\",110899],[\"LEVOTHYROXINE SODIUM\",\"NC\",1069480],[\"LEVOTHYROXINE SODIUM\",\"ND\",84791],[\"LEVOTHYROXINE SODIUM\",\"NE\",250443],[\"LEVOTHYROXINE SODIUM\",\"NH\",96792],[\"LEVOTHYROXINE SODIUM\",\"NJ\",607403],[\"LEVOTHYROXINE SODIUM\",\"NM\",208557],[\"LEVOTHYROXINE SODIUM\",\"OH\",1299004],[\"LEVOTHYROXINE SODIUM\",\"OK\",362819],[\"LEVOTHYROXINE SODIUM\",\"OR\",399498],[\"LEVOTHYROXINE SODIUM\",\"PA\",1686883],[\"LEVOTHYROXINE SODIUM\",\"SD\",116276],[\"LEVOTHYROXINE SODIUM\",\"TN\",786640],[\"LEVOTHYROXINE SODIUM\",\"TX\",1976578],[\"LEVOTHYROXINE SODIUM\",\"UT\",169515],[\"LEVOTHYROXINE SODIUM\",\"VA\",567642],[\"LEVOTHYROXINE SODIUM\",\"WI\",514544],[\"LEVOTHYROXINE SODIUM\",\"WV\",278925],[\"LEVOTHYROXINE SODIUM\",\"WY\",56337]],\"geo\":\"geo\",\"hovertemplate\":\"<b>%{hovertext}</b><br><br>medication_perscribed=%{customdata[0]}<br>num_perscribed=%{customdata[2]}<extra></extra>\",\"hovertext\":[\"AR\",\"AZ\",\"CA\",\"CO\",\"FL\",\"IA\",\"ID\",\"IL\",\"IN\",\"KS\",\"KY\",\"MO\",\"MT\",\"NC\",\"ND\",\"NE\",\"NH\",\"NJ\",\"NM\",\"OH\",\"OK\",\"OR\",\"PA\",\"SD\",\"TN\",\"TX\",\"UT\",\"VA\",\"WI\",\"WV\",\"WY\"],\"locationmode\":\"USA-states\",\"locations\":[\"AR\",\"AZ\",\"CA\",\"CO\",\"FL\",\"IA\",\"ID\",\"IL\",\"IN\",\"KS\",\"KY\",\"MO\",\"MT\",\"NC\",\"ND\",\"NE\",\"NH\",\"NJ\",\"NM\",\"OH\",\"OK\",\"OR\",\"PA\",\"SD\",\"TN\",\"TX\",\"UT\",\"VA\",\"WI\",\"WV\",\"WY\"],\"name\":\"LEVOTHYROXINE SODIUM\",\"showlegend\":true,\"showscale\":false,\"type\":\"choropleth\",\"z\":[1,1,1,1,1,1,1,1,1,1,1,1,1,1,1,1,1,1,1,1,1,1,1,1,1,1,1,1,1,1,1]},{\"colorscale\":[[0.0,\"#ab63fa\"],[1.0,\"#ab63fa\"]],\"customdata\":[[\"ATORVASTATIN CALCIUM\",\"CT\",309485],[\"ATORVASTATIN CALCIUM\",\"DE\",64488],[\"ATORVASTATIN CALCIUM\",\"HI\",103532]],\"geo\":\"geo\",\"hovertemplate\":\"<b>%{hovertext}</b><br><br>medication_perscribed=%{customdata[0]}<br>num_perscribed=%{customdata[2]}<extra></extra>\",\"hovertext\":[\"CT\",\"DE\",\"HI\"],\"locationmode\":\"USA-states\",\"locations\":[\"CT\",\"DE\",\"HI\"],\"name\":\"ATORVASTATIN CALCIUM\",\"showlegend\":true,\"showscale\":false,\"type\":\"choropleth\",\"z\":[1,1,1]},{\"colorscale\":[[0.0,\"#FFA15A\"],[1.0,\"#FFA15A\"]],\"customdata\":[[\"AMLODIPINE BESYLATE\",\"DC\",40835],[\"AMLODIPINE BESYLATE\",\"GA\",927224],[\"AMLODIPINE BESYLATE\",\"LA\",539678],[\"AMLODIPINE BESYLATE\",\"MS\",386290],[\"AMLODIPINE BESYLATE\",\"NY\",1755492],[\"AMLODIPINE BESYLATE\",\"SC\",490464]],\"geo\":\"geo\",\"hovertemplate\":\"<b>%{hovertext}</b><br><br>medication_perscribed=%{customdata[0]}<br>num_perscribed=%{customdata[2]}<extra></extra>\",\"hovertext\":[\"DC\",\"GA\",\"LA\",\"MS\",\"NY\",\"SC\"],\"locationmode\":\"USA-states\",\"locations\":[\"DC\",\"GA\",\"LA\",\"MS\",\"NY\",\"SC\"],\"name\":\"AMLODIPINE BESYLATE\",\"showlegend\":true,\"showscale\":false,\"type\":\"choropleth\",\"z\":[1,1,1,1,1,1]}],                        {\"geo\":{\"center\":{},\"domain\":{\"x\":[0.0,1.0],\"y\":[0.0,1.0]},\"projection\":{\"type\":\"natural earth\"},\"scope\":\"world\"},\"height\":300,\"legend\":{\"bgcolor\":\"white\",\"bordercolor\":\"white\",\"borderwidth\":2,\"font\":{\"color\":\"black\",\"family\":\"Courier\",\"size\":16},\"title\":{},\"tracegroupgap\":0,\"traceorder\":\"reversed\",\"x\":1,\"y\":0.5},\"margin\":{\"b\":20,\"l\":0,\"r\":0,\"t\":40},\"template\":{\"data\":{\"bar\":[{\"error_x\":{\"color\":\"#2a3f5f\"},\"error_y\":{\"color\":\"#2a3f5f\"},\"marker\":{\"line\":{\"color\":\"#E5ECF6\",\"width\":0.5},\"pattern\":{\"fillmode\":\"overlay\",\"size\":10,\"solidity\":0.2}},\"type\":\"bar\"}],\"barpolar\":[{\"marker\":{\"line\":{\"color\":\"#E5ECF6\",\"width\":0.5},\"pattern\":{\"fillmode\":\"overlay\",\"size\":10,\"solidity\":0.2}},\"type\":\"barpolar\"}],\"carpet\":[{\"aaxis\":{\"endlinecolor\":\"#2a3f5f\",\"gridcolor\":\"white\",\"linecolor\":\"white\",\"minorgridcolor\":\"white\",\"startlinecolor\":\"#2a3f5f\"},\"baxis\":{\"endlinecolor\":\"#2a3f5f\",\"gridcolor\":\"white\",\"linecolor\":\"white\",\"minorgridcolor\":\"white\",\"startlinecolor\":\"#2a3f5f\"},\"type\":\"carpet\"}],\"choropleth\":[{\"colorbar\":{\"outlinewidth\":0,\"ticks\":\"\"},\"type\":\"choropleth\"}],\"contour\":[{\"colorbar\":{\"outlinewidth\":0,\"ticks\":\"\"},\"colorscale\":[[0.0,\"#0d0887\"],[0.1111111111111111,\"#46039f\"],[0.2222222222222222,\"#7201a8\"],[0.3333333333333333,\"#9c179e\"],[0.4444444444444444,\"#bd3786\"],[0.5555555555555556,\"#d8576b\"],[0.6666666666666666,\"#ed7953\"],[0.7777777777777778,\"#fb9f3a\"],[0.8888888888888888,\"#fdca26\"],[1.0,\"#f0f921\"]],\"type\":\"contour\"}],\"contourcarpet\":[{\"colorbar\":{\"outlinewidth\":0,\"ticks\":\"\"},\"type\":\"contourcarpet\"}],\"heatmap\":[{\"colorbar\":{\"outlinewidth\":0,\"ticks\":\"\"},\"colorscale\":[[0.0,\"#0d0887\"],[0.1111111111111111,\"#46039f\"],[0.2222222222222222,\"#7201a8\"],[0.3333333333333333,\"#9c179e\"],[0.4444444444444444,\"#bd3786\"],[0.5555555555555556,\"#d8576b\"],[0.6666666666666666,\"#ed7953\"],[0.7777777777777778,\"#fb9f3a\"],[0.8888888888888888,\"#fdca26\"],[1.0,\"#f0f921\"]],\"type\":\"heatmap\"}],\"heatmapgl\":[{\"colorbar\":{\"outlinewidth\":0,\"ticks\":\"\"},\"colorscale\":[[0.0,\"#0d0887\"],[0.1111111111111111,\"#46039f\"],[0.2222222222222222,\"#7201a8\"],[0.3333333333333333,\"#9c179e\"],[0.4444444444444444,\"#bd3786\"],[0.5555555555555556,\"#d8576b\"],[0.6666666666666666,\"#ed7953\"],[0.7777777777777778,\"#fb9f3a\"],[0.8888888888888888,\"#fdca26\"],[1.0,\"#f0f921\"]],\"type\":\"heatmapgl\"}],\"histogram\":[{\"marker\":{\"pattern\":{\"fillmode\":\"overlay\",\"size\":10,\"solidity\":0.2}},\"type\":\"histogram\"}],\"histogram2d\":[{\"colorbar\":{\"outlinewidth\":0,\"ticks\":\"\"},\"colorscale\":[[0.0,\"#0d0887\"],[0.1111111111111111,\"#46039f\"],[0.2222222222222222,\"#7201a8\"],[0.3333333333333333,\"#9c179e\"],[0.4444444444444444,\"#bd3786\"],[0.5555555555555556,\"#d8576b\"],[0.6666666666666666,\"#ed7953\"],[0.7777777777777778,\"#fb9f3a\"],[0.8888888888888888,\"#fdca26\"],[1.0,\"#f0f921\"]],\"type\":\"histogram2d\"}],\"histogram2dcontour\":[{\"colorbar\":{\"outlinewidth\":0,\"ticks\":\"\"},\"colorscale\":[[0.0,\"#0d0887\"],[0.1111111111111111,\"#46039f\"],[0.2222222222222222,\"#7201a8\"],[0.3333333333333333,\"#9c179e\"],[0.4444444444444444,\"#bd3786\"],[0.5555555555555556,\"#d8576b\"],[0.6666666666666666,\"#ed7953\"],[0.7777777777777778,\"#fb9f3a\"],[0.8888888888888888,\"#fdca26\"],[1.0,\"#f0f921\"]],\"type\":\"histogram2dcontour\"}],\"mesh3d\":[{\"colorbar\":{\"outlinewidth\":0,\"ticks\":\"\"},\"type\":\"mesh3d\"}],\"parcoords\":[{\"line\":{\"colorbar\":{\"outlinewidth\":0,\"ticks\":\"\"}},\"type\":\"parcoords\"}],\"pie\":[{\"automargin\":true,\"type\":\"pie\"}],\"scatter\":[{\"marker\":{\"colorbar\":{\"outlinewidth\":0,\"ticks\":\"\"}},\"type\":\"scatter\"}],\"scatter3d\":[{\"line\":{\"colorbar\":{\"outlinewidth\":0,\"ticks\":\"\"}},\"marker\":{\"colorbar\":{\"outlinewidth\":0,\"ticks\":\"\"}},\"type\":\"scatter3d\"}],\"scattercarpet\":[{\"marker\":{\"colorbar\":{\"outlinewidth\":0,\"ticks\":\"\"}},\"type\":\"scattercarpet\"}],\"scattergeo\":[{\"marker\":{\"colorbar\":{\"outlinewidth\":0,\"ticks\":\"\"}},\"type\":\"scattergeo\"}],\"scattergl\":[{\"marker\":{\"colorbar\":{\"outlinewidth\":0,\"ticks\":\"\"}},\"type\":\"scattergl\"}],\"scattermapbox\":[{\"marker\":{\"colorbar\":{\"outlinewidth\":0,\"ticks\":\"\"}},\"type\":\"scattermapbox\"}],\"scatterpolar\":[{\"marker\":{\"colorbar\":{\"outlinewidth\":0,\"ticks\":\"\"}},\"type\":\"scatterpolar\"}],\"scatterpolargl\":[{\"marker\":{\"colorbar\":{\"outlinewidth\":0,\"ticks\":\"\"}},\"type\":\"scatterpolargl\"}],\"scatterternary\":[{\"marker\":{\"colorbar\":{\"outlinewidth\":0,\"ticks\":\"\"}},\"type\":\"scatterternary\"}],\"surface\":[{\"colorbar\":{\"outlinewidth\":0,\"ticks\":\"\"},\"colorscale\":[[0.0,\"#0d0887\"],[0.1111111111111111,\"#46039f\"],[0.2222222222222222,\"#7201a8\"],[0.3333333333333333,\"#9c179e\"],[0.4444444444444444,\"#bd3786\"],[0.5555555555555556,\"#d8576b\"],[0.6666666666666666,\"#ed7953\"],[0.7777777777777778,\"#fb9f3a\"],[0.8888888888888888,\"#fdca26\"],[1.0,\"#f0f921\"]],\"type\":\"surface\"}],\"table\":[{\"cells\":{\"fill\":{\"color\":\"#EBF0F8\"},\"line\":{\"color\":\"white\"}},\"header\":{\"fill\":{\"color\":\"#C8D4E3\"},\"line\":{\"color\":\"white\"}},\"type\":\"table\"}]},\"layout\":{\"annotationdefaults\":{\"arrowcolor\":\"#2a3f5f\",\"arrowhead\":0,\"arrowwidth\":1},\"autotypenumbers\":\"strict\",\"coloraxis\":{\"colorbar\":{\"outlinewidth\":0,\"ticks\":\"\"}},\"colorscale\":{\"diverging\":[[0,\"#8e0152\"],[0.1,\"#c51b7d\"],[0.2,\"#de77ae\"],[0.3,\"#f1b6da\"],[0.4,\"#fde0ef\"],[0.5,\"#f7f7f7\"],[0.6,\"#e6f5d0\"],[0.7,\"#b8e186\"],[0.8,\"#7fbc41\"],[0.9,\"#4d9221\"],[1,\"#276419\"]],\"sequential\":[[0.0,\"#0d0887\"],[0.1111111111111111,\"#46039f\"],[0.2222222222222222,\"#7201a8\"],[0.3333333333333333,\"#9c179e\"],[0.4444444444444444,\"#bd3786\"],[0.5555555555555556,\"#d8576b\"],[0.6666666666666666,\"#ed7953\"],[0.7777777777777778,\"#fb9f3a\"],[0.8888888888888888,\"#fdca26\"],[1.0,\"#f0f921\"]],\"sequentialminus\":[[0.0,\"#0d0887\"],[0.1111111111111111,\"#46039f\"],[0.2222222222222222,\"#7201a8\"],[0.3333333333333333,\"#9c179e\"],[0.4444444444444444,\"#bd3786\"],[0.5555555555555556,\"#d8576b\"],[0.6666666666666666,\"#ed7953\"],[0.7777777777777778,\"#fb9f3a\"],[0.8888888888888888,\"#fdca26\"],[1.0,\"#f0f921\"]]},\"colorway\":[\"#636efa\",\"#EF553B\",\"#00cc96\",\"#ab63fa\",\"#FFA15A\",\"#19d3f3\",\"#FF6692\",\"#B6E880\",\"#FF97FF\",\"#FECB52\"],\"font\":{\"color\":\"#2a3f5f\"},\"geo\":{\"bgcolor\":\"white\",\"lakecolor\":\"white\",\"landcolor\":\"#E5ECF6\",\"showlakes\":true,\"showland\":true,\"subunitcolor\":\"white\"},\"hoverlabel\":{\"align\":\"left\"},\"hovermode\":\"closest\",\"mapbox\":{\"style\":\"light\"},\"paper_bgcolor\":\"white\",\"plot_bgcolor\":\"#E5ECF6\",\"polar\":{\"angularaxis\":{\"gridcolor\":\"white\",\"linecolor\":\"white\",\"ticks\":\"\"},\"bgcolor\":\"#E5ECF6\",\"radialaxis\":{\"gridcolor\":\"white\",\"linecolor\":\"white\",\"ticks\":\"\"}},\"scene\":{\"xaxis\":{\"backgroundcolor\":\"#E5ECF6\",\"gridcolor\":\"white\",\"gridwidth\":2,\"linecolor\":\"white\",\"showbackground\":true,\"ticks\":\"\",\"zerolinecolor\":\"white\"},\"yaxis\":{\"backgroundcolor\":\"#E5ECF6\",\"gridcolor\":\"white\",\"gridwidth\":2,\"linecolor\":\"white\",\"showbackground\":true,\"ticks\":\"\",\"zerolinecolor\":\"white\"},\"zaxis\":{\"backgroundcolor\":\"#E5ECF6\",\"gridcolor\":\"white\",\"gridwidth\":2,\"linecolor\":\"white\",\"showbackground\":true,\"ticks\":\"\",\"zerolinecolor\":\"white\"}},\"shapedefaults\":{\"line\":{\"color\":\"#2a3f5f\"}},\"ternary\":{\"aaxis\":{\"gridcolor\":\"white\",\"linecolor\":\"white\",\"ticks\":\"\"},\"baxis\":{\"gridcolor\":\"white\",\"linecolor\":\"white\",\"ticks\":\"\"},\"bgcolor\":\"#E5ECF6\",\"caxis\":{\"gridcolor\":\"white\",\"linecolor\":\"white\",\"ticks\":\"\"}},\"title\":{\"x\":0.05},\"xaxis\":{\"automargin\":true,\"gridcolor\":\"white\",\"linecolor\":\"white\",\"ticks\":\"\",\"title\":{\"standoff\":15},\"zerolinecolor\":\"white\",\"zerolinewidth\":2},\"yaxis\":{\"automargin\":true,\"gridcolor\":\"white\",\"linecolor\":\"white\",\"ticks\":\"\",\"title\":{\"standoff\":15},\"zerolinecolor\":\"white\",\"zerolinewidth\":2}}},\"title\":{\"font\":{\"color\":\"black\",\"family\":\"Courier\",\"size\":20},\"text\":\"Most common MS-DRG per state (US, 2014)\"}},                        {\"responsive\": true}                    ).then(function(){\n",
       "                            \n",
       "var gd = document.getElementById('461ebe2e-762b-4910-987c-83a6d267bb95');\n",
       "var x = new MutationObserver(function (mutations, observer) {{\n",
       "        var display = window.getComputedStyle(gd).display;\n",
       "        if (!display || display === 'none') {{\n",
       "            console.log([gd, 'removed!']);\n",
       "            Plotly.purge(gd);\n",
       "            observer.disconnect();\n",
       "        }}\n",
       "}});\n",
       "\n",
       "// Listen for the removal of the full notebook cells\n",
       "var notebookContainer = gd.closest('#notebook-container');\n",
       "if (notebookContainer) {{\n",
       "    x.observe(notebookContainer, {childList: true});\n",
       "}}\n",
       "\n",
       "// Listen for the clearing of the current output cell\n",
       "var outputEl = gd.closest('.output');\n",
       "if (outputEl) {{\n",
       "    x.observe(outputEl, {childList: true});\n",
       "}}\n",
       "\n",
       "                        })                };                });            </script>        </div>"
      ]
     },
     "metadata": {},
     "output_type": "display_data"
    }
   ],
   "source": [
    "df = most_common_perscription\n",
    "locations='state'\n",
    "color='medication_perscribed'\n",
    "hover_name='state'\n",
    "title =  'Most commonly perscribed medication to beneficiaries 65+ (US, 2014)'\n",
    "hover_data={'medication_perscribed': True, 'state': False, 'num_perscribed': True}\n",
    "\n",
    "plot_most_common_by_state(df, locations, color, hover_name, title, fontsize=16, hover_data=hover_data)"
   ]
  },
  {
   "cell_type": "markdown",
   "metadata": {
    "hidden": true
   },
   "source": [
    "Fig. 3: By using a choropleth, we can plot without needing to worry about missing latitude and longitude data. Notice that a geographic viz reveals regional insights in a way that the bar chart doesn't."
   ]
  },
  {
   "cell_type": "markdown",
   "metadata": {
    "heading_collapsed": true,
    "hidden": true
   },
   "source": [
    "#### Inpatient + outpatient charges"
   ]
  },
  {
   "cell_type": "markdown",
   "metadata": {
    "heading_collapsed": true,
    "hidden": true
   },
   "source": [
    "##### Table schema"
   ]
  },
  {
   "cell_type": "code",
   "execution_count": 956,
   "metadata": {
    "ExecuteTime": {
     "end_time": "2021-07-02T19:11:25.609035Z",
     "start_time": "2021-07-02T19:11:24.814319Z"
    },
    "hidden": true
   },
   "outputs": [
    {
     "name": "stdout",
     "output_type": "stream",
     "text": [
      "[SchemaField('drg_definition', 'STRING', 'REQUIRED', 'The code and description identifying the MS-DRG. MS-DRGs are a classification system that groups similar clinical conditions (diagnoses) and the procedures furnished by the hospital during the stay', (), None), SchemaField('provider_id', 'INTEGER', 'REQUIRED', 'The CMS Certification Number (CCN) of the provider billing for outpatient hospital services', (), None), SchemaField('provider_name', 'STRING', 'NULLABLE', 'The name of the provider', (), None), SchemaField('provider_street_address', 'STRING', 'NULLABLE', 'The street address in which the provider is physically located', (), None), SchemaField('provider_city', 'STRING', 'NULLABLE', 'The city in which the provider is physically located', (), None), SchemaField('provider_state', 'STRING', 'NULLABLE', 'The state in which the provider is physically located', (), None), SchemaField('provider_zipcode', 'INTEGER', 'NULLABLE', 'The zip code in which the provider is physically located', (), None), SchemaField('hospital_referral_region_description', 'STRING', 'NULLABLE', 'The Hospital Referral Region (HRR) in which the provider is physically located', (), None), SchemaField('total_discharges', 'INTEGER', 'NULLABLE', 'The number of discharges billed by the provider for inpatient hospital services', (), None), SchemaField('average_covered_charges', 'FLOAT', 'NULLABLE', \"The provider's average charge for services covered by Medicare for all discharges in the MS-DRG. These will vary from hospital to hospital because of differences in hospital charge structures\", (), None), SchemaField('average_total_payments', 'FLOAT', 'NULLABLE', 'The average total payments to all providers for the MS-DRG including the MSDRG amount, teaching, disproportionate share, capital, and outlier payments for all cases. Also included 5 in average total payments are co-payment and deductible amounts that the patient is responsible for and any additional payments by third parties for coordination of benefits', (), None), SchemaField('average_medicare_payments', 'FLOAT', 'NULLABLE', \"The average amount that Medicare pays to the provider for Medicare's share of the MS-DRG. Average Medicare payment amounts include the MS-DRG amount, teaching, disproportionate share, capital, and outlier payments for all cases. Medicare payments DO NOT include beneficiary co-payments and deductible amounts nor any additional payments from third parties for coordination of benefits.\", (), None)]\n"
     ]
    },
    {
     "name": "stderr",
     "output_type": "stream",
     "text": [
      "/Users/Isabel/opt/anaconda3/lib/python3.8/site-packages/google/cloud/bigquery/table.py:1860: UserWarning:\n",
      "\n",
      "Cannot use bqstorage_client if max_results is set, reverting to fetching data with the REST endpoint.\n",
      "\n"
     ]
    },
    {
     "data": {
      "text/html": [
       "<div>\n",
       "<style scoped>\n",
       "    .dataframe tbody tr th:only-of-type {\n",
       "        vertical-align: middle;\n",
       "    }\n",
       "\n",
       "    .dataframe tbody tr th {\n",
       "        vertical-align: top;\n",
       "    }\n",
       "\n",
       "    .dataframe thead th {\n",
       "        text-align: right;\n",
       "    }\n",
       "</style>\n",
       "<table border=\"1\" class=\"dataframe\">\n",
       "  <thead>\n",
       "    <tr style=\"text-align: right;\">\n",
       "      <th></th>\n",
       "      <th>drg_definition</th>\n",
       "      <th>provider_id</th>\n",
       "      <th>provider_name</th>\n",
       "      <th>provider_street_address</th>\n",
       "      <th>provider_city</th>\n",
       "      <th>provider_state</th>\n",
       "      <th>provider_zipcode</th>\n",
       "      <th>hospital_referral_region_description</th>\n",
       "      <th>total_discharges</th>\n",
       "      <th>average_covered_charges</th>\n",
       "      <th>average_total_payments</th>\n",
       "      <th>average_medicare_payments</th>\n",
       "    </tr>\n",
       "  </thead>\n",
       "  <tbody>\n",
       "    <tr>\n",
       "      <th>0</th>\n",
       "      <td>164 - MAJOR CHEST PROCEDURES W CC</td>\n",
       "      <td>20001</td>\n",
       "      <td>PROVIDENCE ALASKA MEDICAL CENTER</td>\n",
       "      <td>BOX 196604</td>\n",
       "      <td>ANCHORAGE</td>\n",
       "      <td>AK</td>\n",
       "      <td>99508</td>\n",
       "      <td>AK - Anchorage</td>\n",
       "      <td>11</td>\n",
       "      <td>181591.00000</td>\n",
       "      <td>32837.18182</td>\n",
       "      <td>31369.181820</td>\n",
       "    </tr>\n",
       "    <tr>\n",
       "      <th>1</th>\n",
       "      <td>981 - EXTENSIVE O.R. PROCEDURE UNRELATED TO PR...</td>\n",
       "      <td>20001</td>\n",
       "      <td>PROVIDENCE ALASKA MEDICAL CENTER</td>\n",
       "      <td>BOX 196604</td>\n",
       "      <td>ANCHORAGE</td>\n",
       "      <td>AK</td>\n",
       "      <td>99508</td>\n",
       "      <td>AK - Anchorage</td>\n",
       "      <td>15</td>\n",
       "      <td>278825.00000</td>\n",
       "      <td>67174.86667</td>\n",
       "      <td>62515.733330</td>\n",
       "    </tr>\n",
       "    <tr>\n",
       "      <th>2</th>\n",
       "      <td>481 - HIP &amp; FEMUR PROCEDURES EXCEPT MAJOR JOIN...</td>\n",
       "      <td>20001</td>\n",
       "      <td>PROVIDENCE ALASKA MEDICAL CENTER</td>\n",
       "      <td>BOX 196604</td>\n",
       "      <td>ANCHORAGE</td>\n",
       "      <td>AK</td>\n",
       "      <td>99508</td>\n",
       "      <td>AK - Anchorage</td>\n",
       "      <td>27</td>\n",
       "      <td>83832.14815</td>\n",
       "      <td>19251.92593</td>\n",
       "      <td>16767.111110</td>\n",
       "    </tr>\n",
       "    <tr>\n",
       "      <th>3</th>\n",
       "      <td>331 - MAJOR SMALL &amp; LARGE BOWEL PROCEDURES W/O...</td>\n",
       "      <td>20001</td>\n",
       "      <td>PROVIDENCE ALASKA MEDICAL CENTER</td>\n",
       "      <td>BOX 196604</td>\n",
       "      <td>ANCHORAGE</td>\n",
       "      <td>AK</td>\n",
       "      <td>99508</td>\n",
       "      <td>AK - Anchorage</td>\n",
       "      <td>13</td>\n",
       "      <td>55260.84615</td>\n",
       "      <td>16206.38462</td>\n",
       "      <td>11776.615380</td>\n",
       "    </tr>\n",
       "    <tr>\n",
       "      <th>4</th>\n",
       "      <td>872 - SEPTICEMIA OR SEVERE SEPSIS W/O MV 96+ H...</td>\n",
       "      <td>20001</td>\n",
       "      <td>PROVIDENCE ALASKA MEDICAL CENTER</td>\n",
       "      <td>BOX 196604</td>\n",
       "      <td>ANCHORAGE</td>\n",
       "      <td>AK</td>\n",
       "      <td>99508</td>\n",
       "      <td>AK - Anchorage</td>\n",
       "      <td>71</td>\n",
       "      <td>48617.81690</td>\n",
       "      <td>12784.09859</td>\n",
       "      <td>9715.929577</td>\n",
       "    </tr>\n",
       "  </tbody>\n",
       "</table>\n",
       "</div>"
      ],
      "text/plain": [
       "                                      drg_definition  provider_id  \\\n",
       "0                  164 - MAJOR CHEST PROCEDURES W CC        20001   \n",
       "1  981 - EXTENSIVE O.R. PROCEDURE UNRELATED TO PR...        20001   \n",
       "2  481 - HIP & FEMUR PROCEDURES EXCEPT MAJOR JOIN...        20001   \n",
       "3  331 - MAJOR SMALL & LARGE BOWEL PROCEDURES W/O...        20001   \n",
       "4  872 - SEPTICEMIA OR SEVERE SEPSIS W/O MV 96+ H...        20001   \n",
       "\n",
       "                      provider_name provider_street_address provider_city  \\\n",
       "0  PROVIDENCE ALASKA MEDICAL CENTER              BOX 196604     ANCHORAGE   \n",
       "1  PROVIDENCE ALASKA MEDICAL CENTER              BOX 196604     ANCHORAGE   \n",
       "2  PROVIDENCE ALASKA MEDICAL CENTER              BOX 196604     ANCHORAGE   \n",
       "3  PROVIDENCE ALASKA MEDICAL CENTER              BOX 196604     ANCHORAGE   \n",
       "4  PROVIDENCE ALASKA MEDICAL CENTER              BOX 196604     ANCHORAGE   \n",
       "\n",
       "  provider_state  provider_zipcode hospital_referral_region_description  \\\n",
       "0             AK             99508                       AK - Anchorage   \n",
       "1             AK             99508                       AK - Anchorage   \n",
       "2             AK             99508                       AK - Anchorage   \n",
       "3             AK             99508                       AK - Anchorage   \n",
       "4             AK             99508                       AK - Anchorage   \n",
       "\n",
       "   total_discharges  average_covered_charges  average_total_payments  \\\n",
       "0                11             181591.00000             32837.18182   \n",
       "1                15             278825.00000             67174.86667   \n",
       "2                27              83832.14815             19251.92593   \n",
       "3                13              55260.84615             16206.38462   \n",
       "4                71              48617.81690             12784.09859   \n",
       "\n",
       "   average_medicare_payments  \n",
       "0               31369.181820  \n",
       "1               62515.733330  \n",
       "2               16767.111110  \n",
       "3               11776.615380  \n",
       "4                9715.929577  "
      ]
     },
     "execution_count": 956,
     "metadata": {},
     "output_type": "execute_result"
    }
   ],
   "source": [
    "table_name = 'inpatient_charges_2014'\n",
    "df = table_schema(table_name, num_results=5, view_schema=True)\n",
    "df"
   ]
  },
  {
   "cell_type": "code",
   "execution_count": 957,
   "metadata": {
    "ExecuteTime": {
     "end_time": "2021-07-02T19:12:41.382089Z",
     "start_time": "2021-07-02T19:12:40.603600Z"
    },
    "hidden": true
   },
   "outputs": [
    {
     "name": "stdout",
     "output_type": "stream",
     "text": [
      "[SchemaField('apc', 'STRING', 'REQUIRED', 'Code and description identifying the APC. APCs are a classification system where individual services (Healthcare Common Procedure Coding System [HCPCS] codes) are assigned based on similar clinical characteristics and similar costs', (), None), SchemaField('provider_id', 'INTEGER', 'REQUIRED', 'The CMS Certification Number (CCN) of the provider billing for outpatient hospital services', (), None), SchemaField('provider_name', 'STRING', 'NULLABLE', 'The name of the provider', (), None), SchemaField('provider_street_address', 'STRING', 'NULLABLE', 'The street address in which the provider is physically located', (), None), SchemaField('provider_city', 'STRING', 'NULLABLE', 'The city in which the provider is physically located', (), None), SchemaField('provider_state', 'STRING', 'NULLABLE', 'The state in which the provider is physically located', (), None), SchemaField('provider_zipcode', 'INTEGER', 'NULLABLE', 'The zip code in which the provider is physically located', (), None), SchemaField('hospital_referral_region', 'STRING', 'NULLABLE', 'The Hospital Referral Region (HRR) in which the provider is physically located', (), None), SchemaField('outpatient_services', 'INTEGER', 'NULLABLE', 'The number of services billed by the provider for outpatient hospital services', (), None), SchemaField('average_estimated_submitted_charges', 'FLOAT', 'NULLABLE', \"The provider's average estimated submitted charge for services covered by Medicare for the APC. These will vary from hospital to hospital because of differences in hospital charge structures\", (), None), SchemaField('average_total_payments', 'FLOAT', 'NULLABLE', 'The average of total payments to the provider for the APC including the Medicare APC amount. Also included in Total Payments are co-payment and deductible amounts that the patient is responsible for', (), None)]\n"
     ]
    },
    {
     "name": "stderr",
     "output_type": "stream",
     "text": [
      "/Users/Isabel/opt/anaconda3/lib/python3.8/site-packages/google/cloud/bigquery/table.py:1860: UserWarning:\n",
      "\n",
      "Cannot use bqstorage_client if max_results is set, reverting to fetching data with the REST endpoint.\n",
      "\n"
     ]
    },
    {
     "data": {
      "text/html": [
       "<div>\n",
       "<style scoped>\n",
       "    .dataframe tbody tr th:only-of-type {\n",
       "        vertical-align: middle;\n",
       "    }\n",
       "\n",
       "    .dataframe tbody tr th {\n",
       "        vertical-align: top;\n",
       "    }\n",
       "\n",
       "    .dataframe thead th {\n",
       "        text-align: right;\n",
       "    }\n",
       "</style>\n",
       "<table border=\"1\" class=\"dataframe\">\n",
       "  <thead>\n",
       "    <tr style=\"text-align: right;\">\n",
       "      <th></th>\n",
       "      <th>apc</th>\n",
       "      <th>provider_id</th>\n",
       "      <th>provider_name</th>\n",
       "      <th>provider_street_address</th>\n",
       "      <th>provider_city</th>\n",
       "      <th>provider_state</th>\n",
       "      <th>provider_zipcode</th>\n",
       "      <th>hospital_referral_region</th>\n",
       "      <th>outpatient_services</th>\n",
       "      <th>average_estimated_submitted_charges</th>\n",
       "      <th>average_total_payments</th>\n",
       "    </tr>\n",
       "  </thead>\n",
       "  <tbody>\n",
       "    <tr>\n",
       "      <th>0</th>\n",
       "      <td>0013 - Level II Debridement &amp; Destruction</td>\n",
       "      <td>20001</td>\n",
       "      <td>PROVIDENCE ALASKA MEDICAL CENTER</td>\n",
       "      <td>BOX 196604</td>\n",
       "      <td>ANCHORAGE</td>\n",
       "      <td>AK</td>\n",
       "      <td>99508</td>\n",
       "      <td>AK - Anchorage</td>\n",
       "      <td>232</td>\n",
       "      <td>308.596121</td>\n",
       "      <td>99.420302</td>\n",
       "    </tr>\n",
       "    <tr>\n",
       "      <th>1</th>\n",
       "      <td>0015 - Level III Debridement &amp; Destruction</td>\n",
       "      <td>20001</td>\n",
       "      <td>PROVIDENCE ALASKA MEDICAL CENTER</td>\n",
       "      <td>BOX 196604</td>\n",
       "      <td>ANCHORAGE</td>\n",
       "      <td>AK</td>\n",
       "      <td>99508</td>\n",
       "      <td>AK - Anchorage</td>\n",
       "      <td>401</td>\n",
       "      <td>543.633915</td>\n",
       "      <td>172.057057</td>\n",
       "    </tr>\n",
       "    <tr>\n",
       "      <th>2</th>\n",
       "      <td>0078 - Level III Pulmonary Treatment</td>\n",
       "      <td>20001</td>\n",
       "      <td>PROVIDENCE ALASKA MEDICAL CENTER</td>\n",
       "      <td>BOX 196604</td>\n",
       "      <td>ANCHORAGE</td>\n",
       "      <td>AK</td>\n",
       "      <td>99508</td>\n",
       "      <td>AK - Anchorage</td>\n",
       "      <td>58</td>\n",
       "      <td>761.327586</td>\n",
       "      <td>155.961035</td>\n",
       "    </tr>\n",
       "    <tr>\n",
       "      <th>3</th>\n",
       "      <td>0204 - Level I Nerve Injections</td>\n",
       "      <td>20001</td>\n",
       "      <td>PROVIDENCE ALASKA MEDICAL CENTER</td>\n",
       "      <td>BOX 196604</td>\n",
       "      <td>ANCHORAGE</td>\n",
       "      <td>AK</td>\n",
       "      <td>99508</td>\n",
       "      <td>AK - Anchorage</td>\n",
       "      <td>17</td>\n",
       "      <td>1938.237059</td>\n",
       "      <td>234.320000</td>\n",
       "    </tr>\n",
       "    <tr>\n",
       "      <th>4</th>\n",
       "      <td>0206 - Level II Nerve Injections</td>\n",
       "      <td>20001</td>\n",
       "      <td>PROVIDENCE ALASKA MEDICAL CENTER</td>\n",
       "      <td>BOX 196604</td>\n",
       "      <td>ANCHORAGE</td>\n",
       "      <td>AK</td>\n",
       "      <td>99508</td>\n",
       "      <td>AK - Anchorage</td>\n",
       "      <td>19</td>\n",
       "      <td>2881.493684</td>\n",
       "      <td>422.650000</td>\n",
       "    </tr>\n",
       "  </tbody>\n",
       "</table>\n",
       "</div>"
      ],
      "text/plain": [
       "                                          apc  provider_id  \\\n",
       "0   0013 - Level II Debridement & Destruction        20001   \n",
       "1  0015 - Level III Debridement & Destruction        20001   \n",
       "2        0078 - Level III Pulmonary Treatment        20001   \n",
       "3             0204 - Level I Nerve Injections        20001   \n",
       "4            0206 - Level II Nerve Injections        20001   \n",
       "\n",
       "                      provider_name provider_street_address provider_city  \\\n",
       "0  PROVIDENCE ALASKA MEDICAL CENTER              BOX 196604     ANCHORAGE   \n",
       "1  PROVIDENCE ALASKA MEDICAL CENTER              BOX 196604     ANCHORAGE   \n",
       "2  PROVIDENCE ALASKA MEDICAL CENTER              BOX 196604     ANCHORAGE   \n",
       "3  PROVIDENCE ALASKA MEDICAL CENTER              BOX 196604     ANCHORAGE   \n",
       "4  PROVIDENCE ALASKA MEDICAL CENTER              BOX 196604     ANCHORAGE   \n",
       "\n",
       "  provider_state  provider_zipcode hospital_referral_region  \\\n",
       "0             AK             99508           AK - Anchorage   \n",
       "1             AK             99508           AK - Anchorage   \n",
       "2             AK             99508           AK - Anchorage   \n",
       "3             AK             99508           AK - Anchorage   \n",
       "4             AK             99508           AK - Anchorage   \n",
       "\n",
       "   outpatient_services  average_estimated_submitted_charges  \\\n",
       "0                  232                           308.596121   \n",
       "1                  401                           543.633915   \n",
       "2                   58                           761.327586   \n",
       "3                   17                          1938.237059   \n",
       "4                   19                          2881.493684   \n",
       "\n",
       "   average_total_payments  \n",
       "0               99.420302  \n",
       "1              172.057057  \n",
       "2              155.961035  \n",
       "3              234.320000  \n",
       "4              422.650000  "
      ]
     },
     "execution_count": 957,
     "metadata": {},
     "output_type": "execute_result"
    }
   ],
   "source": [
    "table_name = 'outpatient_charges_2014'\n",
    "df = table_schema(table_name, num_results=5, view_schema=True)\n",
    "df"
   ]
  },
  {
   "cell_type": "markdown",
   "metadata": {
    "heading_collapsed": true,
    "hidden": true
   },
   "source": [
    "##### SQL query: Inpatient and outpatient totals"
   ]
  },
  {
   "cell_type": "code",
   "execution_count": 983,
   "metadata": {
    "ExecuteTime": {
     "end_time": "2021-07-02T20:02:08.929621Z",
     "start_time": "2021-07-02T20:02:08.922306Z"
    },
    "code_folding": [],
    "hidden": true
   },
   "outputs": [],
   "source": [
    "query = \"\"\"SELECT inpatient_charges_2014.provider_state as state, \n",
    "                                 SUM(inpatient_charges_2014.total_discharges) as total_discharges,\n",
    "                                 SUM(inpatient_charges_2014.average_total_payments) as inpatient_av_total_payments,\n",
    "                                 SUM(outpatient_charges_2014.outpatient_services) as total_outpatient_servies,\n",
    "                                 SUM(outpatient_charges_2014.average_total_payments) as outpatient_av_total_payments,\n",
    "                  FROM bigquery-public-data.medicare.inpatient_charges_2014\n",
    "                  JOIN bigquery-public-data.medicare.outpatient_charges_2014\n",
    "                  ON inpatient_charges_2014.provider_id = outpatient_charges_2014.provider_id\n",
    "                  WHERE (inpatient_charges_2014.provider_state != 'AA' AND \n",
    "                                 inpatient_charges_2014.provider_state != 'AE' AND \n",
    "                                 inpatient_charges_2014.provider_state != 'AS' AND\n",
    "                                 inpatient_charges_2014.provider_state != 'AP' AND\n",
    "                                 inpatient_charges_2014.provider_state != 'GU' AND\n",
    "                                 inpatient_charges_2014.provider_state != 'MP' AND\n",
    "                                 inpatient_charges_2014.provider_state != 'PR' AND\n",
    "                                 inpatient_charges_2014.provider_state != 'VI' AND\n",
    "                                 inpatient_charges_2014.provider_state != 'XX' AND\n",
    "                                 inpatient_charges_2014.provider_state != 'ZZ')\n",
    "                  GROUP BY 1\n",
    "                  ORDER BY 1, 3, 5 DESC;\n",
    "                \"\"\""
   ]
  },
  {
   "cell_type": "code",
   "execution_count": 984,
   "metadata": {
    "ExecuteTime": {
     "end_time": "2021-07-02T20:03:19.471105Z",
     "start_time": "2021-07-02T20:03:16.140976Z"
    },
    "code_folding": [
     0
    ],
    "hidden": true
   },
   "outputs": [
    {
     "name": "stdout",
     "output_type": "stream",
     "text": [
      "50\n"
     ]
    },
    {
     "data": {
      "text/plain": [
       "state  total_discharges  inpatient_av_total_payments  total_outpatient_servies  outpatient_av_total_payments\n",
       "AK     62346             5.098579e+07                 1496971                   7.397428e+05                    1\n",
       "PA     5261656           2.107692e+09                 164344086                 4.930443e+07                    1\n",
       "ND     441967            1.758384e+08                 51717947                  4.238517e+06                    1\n",
       "NE     660416            2.703427e+08                 10786468                  6.759499e+06                    1\n",
       "NH     650765            2.754683e+08                 56179904                  6.816988e+06                    1\n",
       "dtype: int64"
      ]
     },
     "execution_count": 984,
     "metadata": {},
     "output_type": "execute_result"
    }
   ],
   "source": [
    "#  Process query\n",
    "total_patient_av_payments = query_to_df(query)\n",
    "\n",
    "#  Check results\n",
    "print(len(total_patient_av_payments))\n",
    "total_patient_av_payments.value_counts().head()"
   ]
  },
  {
   "cell_type": "markdown",
   "metadata": {
    "heading_collapsed": true,
    "hidden": true
   },
   "source": [
    "#### Inpatient data"
   ]
  },
  {
   "cell_type": "markdown",
   "metadata": {
    "hidden": true
   },
   "source": [
    "##### Average total inpatient payments US"
   ]
  },
  {
   "cell_type": "code",
   "execution_count": 1158,
   "metadata": {
    "ExecuteTime": {
     "end_time": "2021-07-03T05:17:09.288800Z",
     "start_time": "2021-07-03T05:17:09.235573Z"
    },
    "hidden": true
   },
   "outputs": [],
   "source": [
    "query = \"\"\" SELECT provider_state as state,\n",
    "                                 SUM(total_discharges) as total_discharges,\n",
    "                                 SUM(average_total_payments) as average_total_payments\n",
    "                   FROM bigquery-public-data.medicare.inpatient_charges_2014\n",
    "                   GROUP BY 1;\n",
    "              \"\"\""
   ]
  },
  {
   "cell_type": "code",
   "execution_count": 1159,
   "metadata": {
    "ExecuteTime": {
     "end_time": "2021-07-03T05:18:56.914368Z",
     "start_time": "2021-07-03T05:18:53.660669Z"
    },
    "hidden": true
   },
   "outputs": [
    {
     "data": {
      "text/html": [
       "<div>\n",
       "<style scoped>\n",
       "    .dataframe tbody tr th:only-of-type {\n",
       "        vertical-align: middle;\n",
       "    }\n",
       "\n",
       "    .dataframe tbody tr th {\n",
       "        vertical-align: top;\n",
       "    }\n",
       "\n",
       "    .dataframe thead th {\n",
       "        text-align: right;\n",
       "    }\n",
       "</style>\n",
       "<table border=\"1\" class=\"dataframe\">\n",
       "  <thead>\n",
       "    <tr style=\"text-align: right;\">\n",
       "      <th></th>\n",
       "      <th>state</th>\n",
       "      <th>f0_</th>\n",
       "      <th>average_total_payments</th>\n",
       "    </tr>\n",
       "  </thead>\n",
       "  <tbody>\n",
       "    <tr>\n",
       "      <th>0</th>\n",
       "      <td>AK</td>\n",
       "      <td>6515</td>\n",
       "      <td>5.405866e+06</td>\n",
       "    </tr>\n",
       "    <tr>\n",
       "      <th>1</th>\n",
       "      <td>AL</td>\n",
       "      <td>152700</td>\n",
       "      <td>4.310311e+07</td>\n",
       "    </tr>\n",
       "    <tr>\n",
       "      <th>2</th>\n",
       "      <td>AR</td>\n",
       "      <td>89703</td>\n",
       "      <td>2.607595e+07</td>\n",
       "    </tr>\n",
       "    <tr>\n",
       "      <th>3</th>\n",
       "      <td>AZ</td>\n",
       "      <td>111269</td>\n",
       "      <td>4.772144e+07</td>\n",
       "    </tr>\n",
       "    <tr>\n",
       "      <th>4</th>\n",
       "      <td>CA</td>\n",
       "      <td>500440</td>\n",
       "      <td>2.627543e+08</td>\n",
       "    </tr>\n",
       "    <tr>\n",
       "      <th>5</th>\n",
       "      <td>CO</td>\n",
       "      <td>66216</td>\n",
       "      <td>3.009176e+07</td>\n",
       "    </tr>\n",
       "    <tr>\n",
       "      <th>6</th>\n",
       "      <td>CT</td>\n",
       "      <td>100251</td>\n",
       "      <td>3.831971e+07</td>\n",
       "    </tr>\n",
       "    <tr>\n",
       "      <th>7</th>\n",
       "      <td>DC</td>\n",
       "      <td>26278</td>\n",
       "      <td>1.371171e+07</td>\n",
       "    </tr>\n",
       "    <tr>\n",
       "      <th>8</th>\n",
       "      <td>DE</td>\n",
       "      <td>35510</td>\n",
       "      <td>1.005834e+07</td>\n",
       "    </tr>\n",
       "    <tr>\n",
       "      <th>9</th>\n",
       "      <td>FL</td>\n",
       "      <td>594009</td>\n",
       "      <td>1.744718e+08</td>\n",
       "    </tr>\n",
       "    <tr>\n",
       "      <th>10</th>\n",
       "      <td>GA</td>\n",
       "      <td>199386</td>\n",
       "      <td>6.851246e+07</td>\n",
       "    </tr>\n",
       "    <tr>\n",
       "      <th>11</th>\n",
       "      <td>HI</td>\n",
       "      <td>12211</td>\n",
       "      <td>7.569674e+06</td>\n",
       "    </tr>\n",
       "    <tr>\n",
       "      <th>12</th>\n",
       "      <td>IA</td>\n",
       "      <td>72315</td>\n",
       "      <td>2.291319e+07</td>\n",
       "    </tr>\n",
       "    <tr>\n",
       "      <th>13</th>\n",
       "      <td>ID</td>\n",
       "      <td>20765</td>\n",
       "      <td>8.077940e+06</td>\n",
       "    </tr>\n",
       "    <tr>\n",
       "      <th>14</th>\n",
       "      <td>IL</td>\n",
       "      <td>350242</td>\n",
       "      <td>1.215267e+08</td>\n",
       "    </tr>\n",
       "    <tr>\n",
       "      <th>15</th>\n",
       "      <td>IN</td>\n",
       "      <td>182826</td>\n",
       "      <td>6.011749e+07</td>\n",
       "    </tr>\n",
       "    <tr>\n",
       "      <th>16</th>\n",
       "      <td>KS</td>\n",
       "      <td>71273</td>\n",
       "      <td>2.392246e+07</td>\n",
       "    </tr>\n",
       "    <tr>\n",
       "      <th>17</th>\n",
       "      <td>KY</td>\n",
       "      <td>142644</td>\n",
       "      <td>4.461977e+07</td>\n",
       "    </tr>\n",
       "    <tr>\n",
       "      <th>18</th>\n",
       "      <td>LA</td>\n",
       "      <td>109571</td>\n",
       "      <td>3.705018e+07</td>\n",
       "    </tr>\n",
       "    <tr>\n",
       "      <th>19</th>\n",
       "      <td>MA</td>\n",
       "      <td>210188</td>\n",
       "      <td>7.808303e+07</td>\n",
       "    </tr>\n",
       "    <tr>\n",
       "      <th>20</th>\n",
       "      <td>MD</td>\n",
       "      <td>194937</td>\n",
       "      <td>7.742017e+07</td>\n",
       "    </tr>\n",
       "    <tr>\n",
       "      <th>21</th>\n",
       "      <td>ME</td>\n",
       "      <td>33873</td>\n",
       "      <td>1.129197e+07</td>\n",
       "    </tr>\n",
       "    <tr>\n",
       "      <th>22</th>\n",
       "      <td>MI</td>\n",
       "      <td>310619</td>\n",
       "      <td>9.944559e+07</td>\n",
       "    </tr>\n",
       "    <tr>\n",
       "      <th>23</th>\n",
       "      <td>MN</td>\n",
       "      <td>117759</td>\n",
       "      <td>4.710151e+07</td>\n",
       "    </tr>\n",
       "    <tr>\n",
       "      <th>24</th>\n",
       "      <td>MO</td>\n",
       "      <td>182892</td>\n",
       "      <td>6.018117e+07</td>\n",
       "    </tr>\n",
       "    <tr>\n",
       "      <th>25</th>\n",
       "      <td>MS</td>\n",
       "      <td>96337</td>\n",
       "      <td>2.947684e+07</td>\n",
       "    </tr>\n",
       "    <tr>\n",
       "      <th>26</th>\n",
       "      <td>MT</td>\n",
       "      <td>18205</td>\n",
       "      <td>6.976510e+06</td>\n",
       "    </tr>\n",
       "    <tr>\n",
       "      <th>27</th>\n",
       "      <td>NC</td>\n",
       "      <td>266839</td>\n",
       "      <td>8.337498e+07</td>\n",
       "    </tr>\n",
       "    <tr>\n",
       "      <th>28</th>\n",
       "      <td>ND</td>\n",
       "      <td>19220</td>\n",
       "      <td>7.619999e+06</td>\n",
       "    </tr>\n",
       "    <tr>\n",
       "      <th>29</th>\n",
       "      <td>NE</td>\n",
       "      <td>42103</td>\n",
       "      <td>1.674155e+07</td>\n",
       "    </tr>\n",
       "    <tr>\n",
       "      <th>30</th>\n",
       "      <td>NH</td>\n",
       "      <td>32908</td>\n",
       "      <td>1.308719e+07</td>\n",
       "    </tr>\n",
       "    <tr>\n",
       "      <th>31</th>\n",
       "      <td>NJ</td>\n",
       "      <td>258611</td>\n",
       "      <td>9.158910e+07</td>\n",
       "    </tr>\n",
       "    <tr>\n",
       "      <th>32</th>\n",
       "      <td>NM</td>\n",
       "      <td>27880</td>\n",
       "      <td>1.207431e+07</td>\n",
       "    </tr>\n",
       "    <tr>\n",
       "      <th>33</th>\n",
       "      <td>NV</td>\n",
       "      <td>46252</td>\n",
       "      <td>2.029468e+07</td>\n",
       "    </tr>\n",
       "    <tr>\n",
       "      <th>34</th>\n",
       "      <td>NY</td>\n",
       "      <td>430086</td>\n",
       "      <td>1.898730e+08</td>\n",
       "    </tr>\n",
       "    <tr>\n",
       "      <th>35</th>\n",
       "      <td>OH</td>\n",
       "      <td>284040</td>\n",
       "      <td>9.746380e+07</td>\n",
       "    </tr>\n",
       "    <tr>\n",
       "      <th>36</th>\n",
       "      <td>OK</td>\n",
       "      <td>99552</td>\n",
       "      <td>3.284629e+07</td>\n",
       "    </tr>\n",
       "    <tr>\n",
       "      <th>37</th>\n",
       "      <td>OR</td>\n",
       "      <td>47557</td>\n",
       "      <td>2.414238e+07</td>\n",
       "    </tr>\n",
       "    <tr>\n",
       "      <th>38</th>\n",
       "      <td>PA</td>\n",
       "      <td>321613</td>\n",
       "      <td>1.222773e+08</td>\n",
       "    </tr>\n",
       "    <tr>\n",
       "      <th>39</th>\n",
       "      <td>RI</td>\n",
       "      <td>24572</td>\n",
       "      <td>9.488180e+06</td>\n",
       "    </tr>\n",
       "    <tr>\n",
       "      <th>40</th>\n",
       "      <td>SC</td>\n",
       "      <td>128267</td>\n",
       "      <td>4.285997e+07</td>\n",
       "    </tr>\n",
       "    <tr>\n",
       "      <th>41</th>\n",
       "      <td>SD</td>\n",
       "      <td>23575</td>\n",
       "      <td>7.927980e+06</td>\n",
       "    </tr>\n",
       "    <tr>\n",
       "      <th>42</th>\n",
       "      <td>TN</td>\n",
       "      <td>194088</td>\n",
       "      <td>5.725556e+07</td>\n",
       "    </tr>\n",
       "    <tr>\n",
       "      <th>43</th>\n",
       "      <td>TX</td>\n",
       "      <td>493580</td>\n",
       "      <td>1.774881e+08</td>\n",
       "    </tr>\n",
       "    <tr>\n",
       "      <th>44</th>\n",
       "      <td>UT</td>\n",
       "      <td>28512</td>\n",
       "      <td>1.352432e+07</td>\n",
       "    </tr>\n",
       "    <tr>\n",
       "      <th>45</th>\n",
       "      <td>VA</td>\n",
       "      <td>216928</td>\n",
       "      <td>7.085767e+07</td>\n",
       "    </tr>\n",
       "    <tr>\n",
       "      <th>46</th>\n",
       "      <td>VT</td>\n",
       "      <td>11579</td>\n",
       "      <td>5.413683e+06</td>\n",
       "    </tr>\n",
       "    <tr>\n",
       "      <th>47</th>\n",
       "      <td>WA</td>\n",
       "      <td>117004</td>\n",
       "      <td>5.108517e+07</td>\n",
       "    </tr>\n",
       "    <tr>\n",
       "      <th>48</th>\n",
       "      <td>WI</td>\n",
       "      <td>106722</td>\n",
       "      <td>4.275741e+07</td>\n",
       "    </tr>\n",
       "    <tr>\n",
       "      <th>49</th>\n",
       "      <td>WV</td>\n",
       "      <td>60363</td>\n",
       "      <td>1.936737e+07</td>\n",
       "    </tr>\n",
       "    <tr>\n",
       "      <th>50</th>\n",
       "      <td>WY</td>\n",
       "      <td>7100</td>\n",
       "      <td>3.277124e+06</td>\n",
       "    </tr>\n",
       "  </tbody>\n",
       "</table>\n",
       "</div>"
      ],
      "text/plain": [
       "   state     f0_  average_total_payments\n",
       "0     AK    6515            5.405866e+06\n",
       "1     AL  152700            4.310311e+07\n",
       "2     AR   89703            2.607595e+07\n",
       "3     AZ  111269            4.772144e+07\n",
       "4     CA  500440            2.627543e+08\n",
       "5     CO   66216            3.009176e+07\n",
       "6     CT  100251            3.831971e+07\n",
       "7     DC   26278            1.371171e+07\n",
       "8     DE   35510            1.005834e+07\n",
       "9     FL  594009            1.744718e+08\n",
       "10    GA  199386            6.851246e+07\n",
       "11    HI   12211            7.569674e+06\n",
       "12    IA   72315            2.291319e+07\n",
       "13    ID   20765            8.077940e+06\n",
       "14    IL  350242            1.215267e+08\n",
       "15    IN  182826            6.011749e+07\n",
       "16    KS   71273            2.392246e+07\n",
       "17    KY  142644            4.461977e+07\n",
       "18    LA  109571            3.705018e+07\n",
       "19    MA  210188            7.808303e+07\n",
       "20    MD  194937            7.742017e+07\n",
       "21    ME   33873            1.129197e+07\n",
       "22    MI  310619            9.944559e+07\n",
       "23    MN  117759            4.710151e+07\n",
       "24    MO  182892            6.018117e+07\n",
       "25    MS   96337            2.947684e+07\n",
       "26    MT   18205            6.976510e+06\n",
       "27    NC  266839            8.337498e+07\n",
       "28    ND   19220            7.619999e+06\n",
       "29    NE   42103            1.674155e+07\n",
       "30    NH   32908            1.308719e+07\n",
       "31    NJ  258611            9.158910e+07\n",
       "32    NM   27880            1.207431e+07\n",
       "33    NV   46252            2.029468e+07\n",
       "34    NY  430086            1.898730e+08\n",
       "35    OH  284040            9.746380e+07\n",
       "36    OK   99552            3.284629e+07\n",
       "37    OR   47557            2.414238e+07\n",
       "38    PA  321613            1.222773e+08\n",
       "39    RI   24572            9.488180e+06\n",
       "40    SC  128267            4.285997e+07\n",
       "41    SD   23575            7.927980e+06\n",
       "42    TN  194088            5.725556e+07\n",
       "43    TX  493580            1.774881e+08\n",
       "44    UT   28512            1.352432e+07\n",
       "45    VA  216928            7.085767e+07\n",
       "46    VT   11579            5.413683e+06\n",
       "47    WA  117004            5.108517e+07\n",
       "48    WI  106722            4.275741e+07\n",
       "49    WV   60363            1.936737e+07\n",
       "50    WY    7100            3.277124e+06"
      ]
     },
     "execution_count": 1159,
     "metadata": {},
     "output_type": "execute_result"
    }
   ],
   "source": [
    "#  Process query\n",
    "total_inpatient_state_charges = query_to_df(query)\n",
    "\n",
    "#  Check results\n",
    "total_inpatient_state_charges"
   ]
  },
  {
   "cell_type": "code",
   "execution_count": 1157,
   "metadata": {
    "ExecuteTime": {
     "end_time": "2021-07-03T05:15:18.683637Z",
     "start_time": "2021-07-03T05:15:18.659474Z"
    },
    "hidden": true
   },
   "outputs": [
    {
     "name": "stdout",
     "output_type": "stream",
     "text": [
      "$2,668,687,724.55\n"
     ]
    }
   ],
   "source": [
    "total_inpatient_charges = total_inpatient_state_charges['average_total_payments'].sum()\n",
    "print('${0:,.2f}'.format(total_inpatient_charges))"
   ]
  },
  {
   "cell_type": "markdown",
   "metadata": {
    "hidden": true
   },
   "source": [
    "Total inpatient charges reached nearly $3 billion."
   ]
  },
  {
   "cell_type": "markdown",
   "metadata": {
    "hidden": true
   },
   "source": [
    "##### Map: State inpatient charges per 10,000 discharges"
   ]
  },
  {
   "cell_type": "code",
   "execution_count": 1163,
   "metadata": {
    "ExecuteTime": {
     "end_time": "2021-07-03T05:29:52.506932Z",
     "start_time": "2021-07-03T05:29:52.468758Z"
    },
    "hidden": true
   },
   "outputs": [],
   "source": [
    "total_inpatient_state_charges['inpatient_charges_per_10k_discharges'] = (total_inpatient_state_charges['average_total_payments'] / \n",
    "                                                                                                                                   total_inpatient_state_charges['f0_']) * 10000"
   ]
  },
  {
   "cell_type": "code",
   "execution_count": 1170,
   "metadata": {
    "ExecuteTime": {
     "end_time": "2021-07-03T05:50:17.198190Z",
     "start_time": "2021-07-03T05:50:16.975620Z"
    },
    "hidden": true,
    "scrolled": true
   },
   "outputs": [
    {
     "data": {
      "application/vnd.plotly.v1+json": {
       "config": {
        "plotlyServerURL": "https://plotly.com"
       },
       "data": [
        {
         "coloraxis": "coloraxis",
         "customdata": [
          [
           8297569.287148114,
           "AK"
          ],
          [
           2822731.301619257,
           "AL"
          ],
          [
           2906921.125293246,
           "AR"
          ],
          [
           4288835.5542771965,
           "AZ"
          ],
          [
           5250464.62531152,
           "CA"
          ],
          [
           4544484.860854026,
           "CO"
          ],
          [
           3822376.6389166242,
           "CT"
          ],
          [
           5217942.685355053,
           "DC"
          ],
          [
           2832536.408259083,
           "DE"
          ],
          [
           2937191.61074451,
           "FL"
          ],
          [
           3436171.834831131,
           "GA"
          ],
          [
           6199061.635471286,
           "HI"
          ],
          [
           3168525.324519535,
           "IA"
          ],
          [
           3890170.86659812,
           "ID"
          ],
          [
           3469791.0198756005,
           "IL"
          ],
          [
           3288235.4727287786,
           "IN"
          ],
          [
           3356455.4338870198,
           "KS"
          ],
          [
           3128051.2999941804,
           "KY"
          ],
          [
           3381385.1330007003,
           "LA"
          ],
          [
           3714913.723750456,
           "MA"
          ],
          [
           3971547.9939649776,
           "MD"
          ],
          [
           3333620.639997348,
           "ME"
          ],
          [
           3201529.6459952844,
           "MI"
          ],
          [
           3999822.414751319,
           "MN"
          ],
          [
           3290530.6667093714,
           "MO"
          ],
          [
           3059763.5628880886,
           "MS"
          ],
          [
           3832194.5410865173,
           "MT"
          ],
          [
           3124542.384912701,
           "NC"
          ],
          [
           3964619.616614464,
           "ND"
          ],
          [
           3976331.4542479184,
           "NE"
          ],
          [
           3976902.1392943966,
           "NH"
          ],
          [
           3541578.05457305,
           "NJ"
          ],
          [
           4330815.2409440465,
           "NM"
          ],
          [
           4387849.452325526,
           "NV"
          ],
          [
           4414768.472615465,
           "NY"
          ],
          [
           3431340.6694683935,
           "OH"
          ],
          [
           3299410.447669561,
           "OK"
          ],
          [
           5076514.678745922,
           "OR"
          ],
          [
           3802000.139083281,
           "PA"
          ],
          [
           3861378.909160836,
           "RI"
          ],
          [
           3341465.2077411995,
           "SC"
          ],
          [
           3362876.131880383,
           "SD"
          ],
          [
           2949979.1345071346,
           "TN"
          ],
          [
           3595934.5574164633,
           "TX"
          ],
          [
           4743378.416667017,
           "UT"
          ],
          [
           3266414.020892736,
           "VA"
          ],
          [
           4675432.280240949,
           "VT"
          ],
          [
           4366104.924482836,
           "WA"
          ],
          [
           4006428.948047736,
           "WI"
          ],
          [
           3208484.023890793,
           "WV"
          ],
          [
           4615667.828178873,
           "WY"
          ]
         ],
         "geo": "geo",
         "hovertemplate": "<b>%{hovertext}</b><br><br>state=%{customdata[1]}<br>inpatient_charges_per_10k_discharges=%{z}<extra></extra>",
         "hovertext": [
          "AK",
          "AL",
          "AR",
          "AZ",
          "CA",
          "CO",
          "CT",
          "DC",
          "DE",
          "FL",
          "GA",
          "HI",
          "IA",
          "ID",
          "IL",
          "IN",
          "KS",
          "KY",
          "LA",
          "MA",
          "MD",
          "ME",
          "MI",
          "MN",
          "MO",
          "MS",
          "MT",
          "NC",
          "ND",
          "NE",
          "NH",
          "NJ",
          "NM",
          "NV",
          "NY",
          "OH",
          "OK",
          "OR",
          "PA",
          "RI",
          "SC",
          "SD",
          "TN",
          "TX",
          "UT",
          "VA",
          "VT",
          "WA",
          "WI",
          "WV",
          "WY"
         ],
         "locationmode": "USA-states",
         "locations": [
          "AK",
          "AL",
          "AR",
          "AZ",
          "CA",
          "CO",
          "CT",
          "DC",
          "DE",
          "FL",
          "GA",
          "HI",
          "IA",
          "ID",
          "IL",
          "IN",
          "KS",
          "KY",
          "LA",
          "MA",
          "MD",
          "ME",
          "MI",
          "MN",
          "MO",
          "MS",
          "MT",
          "NC",
          "ND",
          "NE",
          "NH",
          "NJ",
          "NM",
          "NV",
          "NY",
          "OH",
          "OK",
          "OR",
          "PA",
          "RI",
          "SC",
          "SD",
          "TN",
          "TX",
          "UT",
          "VA",
          "VT",
          "WA",
          "WI",
          "WV",
          "WY"
         ],
         "name": "",
         "type": "choropleth",
         "z": [
          8297569.287148114,
          2822731.301619257,
          2906921.125293246,
          4288835.5542771965,
          5250464.62531152,
          4544484.860854026,
          3822376.6389166242,
          5217942.685355053,
          2832536.408259083,
          2937191.61074451,
          3436171.834831131,
          6199061.635471286,
          3168525.324519535,
          3890170.86659812,
          3469791.0198756005,
          3288235.4727287786,
          3356455.4338870198,
          3128051.2999941804,
          3381385.1330007003,
          3714913.723750456,
          3971547.9939649776,
          3333620.639997348,
          3201529.6459952844,
          3999822.414751319,
          3290530.6667093714,
          3059763.5628880886,
          3832194.5410865173,
          3124542.384912701,
          3964619.616614464,
          3976331.4542479184,
          3976902.1392943966,
          3541578.05457305,
          4330815.2409440465,
          4387849.452325526,
          4414768.472615465,
          3431340.6694683935,
          3299410.447669561,
          5076514.678745922,
          3802000.139083281,
          3861378.909160836,
          3341465.2077411995,
          3362876.131880383,
          2949979.1345071346,
          3595934.5574164633,
          4743378.416667017,
          3266414.020892736,
          4675432.280240949,
          4366104.924482836,
          4006428.948047736,
          3208484.023890793,
          4615667.828178873
         ]
        }
       ],
       "layout": {
        "coloraxis": {
         "colorbar": {
          "title": {
           "text": "inpatient_charges_per_10k_discharges"
          }
         },
         "colorscale": [
          [
           0,
           "#0d0887"
          ],
          [
           0.1111111111111111,
           "#46039f"
          ],
          [
           0.2222222222222222,
           "#7201a8"
          ],
          [
           0.3333333333333333,
           "#9c179e"
          ],
          [
           0.4444444444444444,
           "#bd3786"
          ],
          [
           0.5555555555555556,
           "#d8576b"
          ],
          [
           0.6666666666666666,
           "#ed7953"
          ],
          [
           0.7777777777777778,
           "#fb9f3a"
          ],
          [
           0.8888888888888888,
           "#fdca26"
          ],
          [
           1,
           "#f0f921"
          ]
         ]
        },
        "geo": {
         "center": {},
         "domain": {
          "x": [
           0,
           1
          ],
          "y": [
           0,
           1
          ]
         },
         "projection": {
          "type": "natural earth"
         },
         "scope": "world"
        },
        "height": 300,
        "legend": {
         "bgcolor": "white",
         "bordercolor": "white",
         "borderwidth": 2,
         "font": {
          "color": "black",
          "family": "Courier",
          "size": 12
         },
         "title": {},
         "tracegroupgap": 0,
         "traceorder": "reversed",
         "x": 1,
         "y": 0.5
        },
        "margin": {
         "b": 20,
         "l": 0,
         "r": 0,
         "t": 40
        },
        "template": {
         "data": {
          "bar": [
           {
            "error_x": {
             "color": "#2a3f5f"
            },
            "error_y": {
             "color": "#2a3f5f"
            },
            "marker": {
             "line": {
              "color": "#E5ECF6",
              "width": 0.5
             },
             "pattern": {
              "fillmode": "overlay",
              "size": 10,
              "solidity": 0.2
             }
            },
            "type": "bar"
           }
          ],
          "barpolar": [
           {
            "marker": {
             "line": {
              "color": "#E5ECF6",
              "width": 0.5
             },
             "pattern": {
              "fillmode": "overlay",
              "size": 10,
              "solidity": 0.2
             }
            },
            "type": "barpolar"
           }
          ],
          "carpet": [
           {
            "aaxis": {
             "endlinecolor": "#2a3f5f",
             "gridcolor": "white",
             "linecolor": "white",
             "minorgridcolor": "white",
             "startlinecolor": "#2a3f5f"
            },
            "baxis": {
             "endlinecolor": "#2a3f5f",
             "gridcolor": "white",
             "linecolor": "white",
             "minorgridcolor": "white",
             "startlinecolor": "#2a3f5f"
            },
            "type": "carpet"
           }
          ],
          "choropleth": [
           {
            "colorbar": {
             "outlinewidth": 0,
             "ticks": ""
            },
            "type": "choropleth"
           }
          ],
          "contour": [
           {
            "colorbar": {
             "outlinewidth": 0,
             "ticks": ""
            },
            "colorscale": [
             [
              0,
              "#0d0887"
             ],
             [
              0.1111111111111111,
              "#46039f"
             ],
             [
              0.2222222222222222,
              "#7201a8"
             ],
             [
              0.3333333333333333,
              "#9c179e"
             ],
             [
              0.4444444444444444,
              "#bd3786"
             ],
             [
              0.5555555555555556,
              "#d8576b"
             ],
             [
              0.6666666666666666,
              "#ed7953"
             ],
             [
              0.7777777777777778,
              "#fb9f3a"
             ],
             [
              0.8888888888888888,
              "#fdca26"
             ],
             [
              1,
              "#f0f921"
             ]
            ],
            "type": "contour"
           }
          ],
          "contourcarpet": [
           {
            "colorbar": {
             "outlinewidth": 0,
             "ticks": ""
            },
            "type": "contourcarpet"
           }
          ],
          "heatmap": [
           {
            "colorbar": {
             "outlinewidth": 0,
             "ticks": ""
            },
            "colorscale": [
             [
              0,
              "#0d0887"
             ],
             [
              0.1111111111111111,
              "#46039f"
             ],
             [
              0.2222222222222222,
              "#7201a8"
             ],
             [
              0.3333333333333333,
              "#9c179e"
             ],
             [
              0.4444444444444444,
              "#bd3786"
             ],
             [
              0.5555555555555556,
              "#d8576b"
             ],
             [
              0.6666666666666666,
              "#ed7953"
             ],
             [
              0.7777777777777778,
              "#fb9f3a"
             ],
             [
              0.8888888888888888,
              "#fdca26"
             ],
             [
              1,
              "#f0f921"
             ]
            ],
            "type": "heatmap"
           }
          ],
          "heatmapgl": [
           {
            "colorbar": {
             "outlinewidth": 0,
             "ticks": ""
            },
            "colorscale": [
             [
              0,
              "#0d0887"
             ],
             [
              0.1111111111111111,
              "#46039f"
             ],
             [
              0.2222222222222222,
              "#7201a8"
             ],
             [
              0.3333333333333333,
              "#9c179e"
             ],
             [
              0.4444444444444444,
              "#bd3786"
             ],
             [
              0.5555555555555556,
              "#d8576b"
             ],
             [
              0.6666666666666666,
              "#ed7953"
             ],
             [
              0.7777777777777778,
              "#fb9f3a"
             ],
             [
              0.8888888888888888,
              "#fdca26"
             ],
             [
              1,
              "#f0f921"
             ]
            ],
            "type": "heatmapgl"
           }
          ],
          "histogram": [
           {
            "marker": {
             "pattern": {
              "fillmode": "overlay",
              "size": 10,
              "solidity": 0.2
             }
            },
            "type": "histogram"
           }
          ],
          "histogram2d": [
           {
            "colorbar": {
             "outlinewidth": 0,
             "ticks": ""
            },
            "colorscale": [
             [
              0,
              "#0d0887"
             ],
             [
              0.1111111111111111,
              "#46039f"
             ],
             [
              0.2222222222222222,
              "#7201a8"
             ],
             [
              0.3333333333333333,
              "#9c179e"
             ],
             [
              0.4444444444444444,
              "#bd3786"
             ],
             [
              0.5555555555555556,
              "#d8576b"
             ],
             [
              0.6666666666666666,
              "#ed7953"
             ],
             [
              0.7777777777777778,
              "#fb9f3a"
             ],
             [
              0.8888888888888888,
              "#fdca26"
             ],
             [
              1,
              "#f0f921"
             ]
            ],
            "type": "histogram2d"
           }
          ],
          "histogram2dcontour": [
           {
            "colorbar": {
             "outlinewidth": 0,
             "ticks": ""
            },
            "colorscale": [
             [
              0,
              "#0d0887"
             ],
             [
              0.1111111111111111,
              "#46039f"
             ],
             [
              0.2222222222222222,
              "#7201a8"
             ],
             [
              0.3333333333333333,
              "#9c179e"
             ],
             [
              0.4444444444444444,
              "#bd3786"
             ],
             [
              0.5555555555555556,
              "#d8576b"
             ],
             [
              0.6666666666666666,
              "#ed7953"
             ],
             [
              0.7777777777777778,
              "#fb9f3a"
             ],
             [
              0.8888888888888888,
              "#fdca26"
             ],
             [
              1,
              "#f0f921"
             ]
            ],
            "type": "histogram2dcontour"
           }
          ],
          "mesh3d": [
           {
            "colorbar": {
             "outlinewidth": 0,
             "ticks": ""
            },
            "type": "mesh3d"
           }
          ],
          "parcoords": [
           {
            "line": {
             "colorbar": {
              "outlinewidth": 0,
              "ticks": ""
             }
            },
            "type": "parcoords"
           }
          ],
          "pie": [
           {
            "automargin": true,
            "type": "pie"
           }
          ],
          "scatter": [
           {
            "marker": {
             "colorbar": {
              "outlinewidth": 0,
              "ticks": ""
             }
            },
            "type": "scatter"
           }
          ],
          "scatter3d": [
           {
            "line": {
             "colorbar": {
              "outlinewidth": 0,
              "ticks": ""
             }
            },
            "marker": {
             "colorbar": {
              "outlinewidth": 0,
              "ticks": ""
             }
            },
            "type": "scatter3d"
           }
          ],
          "scattercarpet": [
           {
            "marker": {
             "colorbar": {
              "outlinewidth": 0,
              "ticks": ""
             }
            },
            "type": "scattercarpet"
           }
          ],
          "scattergeo": [
           {
            "marker": {
             "colorbar": {
              "outlinewidth": 0,
              "ticks": ""
             }
            },
            "type": "scattergeo"
           }
          ],
          "scattergl": [
           {
            "marker": {
             "colorbar": {
              "outlinewidth": 0,
              "ticks": ""
             }
            },
            "type": "scattergl"
           }
          ],
          "scattermapbox": [
           {
            "marker": {
             "colorbar": {
              "outlinewidth": 0,
              "ticks": ""
             }
            },
            "type": "scattermapbox"
           }
          ],
          "scatterpolar": [
           {
            "marker": {
             "colorbar": {
              "outlinewidth": 0,
              "ticks": ""
             }
            },
            "type": "scatterpolar"
           }
          ],
          "scatterpolargl": [
           {
            "marker": {
             "colorbar": {
              "outlinewidth": 0,
              "ticks": ""
             }
            },
            "type": "scatterpolargl"
           }
          ],
          "scatterternary": [
           {
            "marker": {
             "colorbar": {
              "outlinewidth": 0,
              "ticks": ""
             }
            },
            "type": "scatterternary"
           }
          ],
          "surface": [
           {
            "colorbar": {
             "outlinewidth": 0,
             "ticks": ""
            },
            "colorscale": [
             [
              0,
              "#0d0887"
             ],
             [
              0.1111111111111111,
              "#46039f"
             ],
             [
              0.2222222222222222,
              "#7201a8"
             ],
             [
              0.3333333333333333,
              "#9c179e"
             ],
             [
              0.4444444444444444,
              "#bd3786"
             ],
             [
              0.5555555555555556,
              "#d8576b"
             ],
             [
              0.6666666666666666,
              "#ed7953"
             ],
             [
              0.7777777777777778,
              "#fb9f3a"
             ],
             [
              0.8888888888888888,
              "#fdca26"
             ],
             [
              1,
              "#f0f921"
             ]
            ],
            "type": "surface"
           }
          ],
          "table": [
           {
            "cells": {
             "fill": {
              "color": "#EBF0F8"
             },
             "line": {
              "color": "white"
             }
            },
            "header": {
             "fill": {
              "color": "#C8D4E3"
             },
             "line": {
              "color": "white"
             }
            },
            "type": "table"
           }
          ]
         },
         "layout": {
          "annotationdefaults": {
           "arrowcolor": "#2a3f5f",
           "arrowhead": 0,
           "arrowwidth": 1
          },
          "autotypenumbers": "strict",
          "coloraxis": {
           "colorbar": {
            "outlinewidth": 0,
            "ticks": ""
           }
          },
          "colorscale": {
           "diverging": [
            [
             0,
             "#8e0152"
            ],
            [
             0.1,
             "#c51b7d"
            ],
            [
             0.2,
             "#de77ae"
            ],
            [
             0.3,
             "#f1b6da"
            ],
            [
             0.4,
             "#fde0ef"
            ],
            [
             0.5,
             "#f7f7f7"
            ],
            [
             0.6,
             "#e6f5d0"
            ],
            [
             0.7,
             "#b8e186"
            ],
            [
             0.8,
             "#7fbc41"
            ],
            [
             0.9,
             "#4d9221"
            ],
            [
             1,
             "#276419"
            ]
           ],
           "sequential": [
            [
             0,
             "#0d0887"
            ],
            [
             0.1111111111111111,
             "#46039f"
            ],
            [
             0.2222222222222222,
             "#7201a8"
            ],
            [
             0.3333333333333333,
             "#9c179e"
            ],
            [
             0.4444444444444444,
             "#bd3786"
            ],
            [
             0.5555555555555556,
             "#d8576b"
            ],
            [
             0.6666666666666666,
             "#ed7953"
            ],
            [
             0.7777777777777778,
             "#fb9f3a"
            ],
            [
             0.8888888888888888,
             "#fdca26"
            ],
            [
             1,
             "#f0f921"
            ]
           ],
           "sequentialminus": [
            [
             0,
             "#0d0887"
            ],
            [
             0.1111111111111111,
             "#46039f"
            ],
            [
             0.2222222222222222,
             "#7201a8"
            ],
            [
             0.3333333333333333,
             "#9c179e"
            ],
            [
             0.4444444444444444,
             "#bd3786"
            ],
            [
             0.5555555555555556,
             "#d8576b"
            ],
            [
             0.6666666666666666,
             "#ed7953"
            ],
            [
             0.7777777777777778,
             "#fb9f3a"
            ],
            [
             0.8888888888888888,
             "#fdca26"
            ],
            [
             1,
             "#f0f921"
            ]
           ]
          },
          "colorway": [
           "#636efa",
           "#EF553B",
           "#00cc96",
           "#ab63fa",
           "#FFA15A",
           "#19d3f3",
           "#FF6692",
           "#B6E880",
           "#FF97FF",
           "#FECB52"
          ],
          "font": {
           "color": "#2a3f5f"
          },
          "geo": {
           "bgcolor": "white",
           "lakecolor": "white",
           "landcolor": "#E5ECF6",
           "showlakes": true,
           "showland": true,
           "subunitcolor": "white"
          },
          "hoverlabel": {
           "align": "left"
          },
          "hovermode": "closest",
          "mapbox": {
           "style": "light"
          },
          "paper_bgcolor": "white",
          "plot_bgcolor": "#E5ECF6",
          "polar": {
           "angularaxis": {
            "gridcolor": "white",
            "linecolor": "white",
            "ticks": ""
           },
           "bgcolor": "#E5ECF6",
           "radialaxis": {
            "gridcolor": "white",
            "linecolor": "white",
            "ticks": ""
           }
          },
          "scene": {
           "xaxis": {
            "backgroundcolor": "#E5ECF6",
            "gridcolor": "white",
            "gridwidth": 2,
            "linecolor": "white",
            "showbackground": true,
            "ticks": "",
            "zerolinecolor": "white"
           },
           "yaxis": {
            "backgroundcolor": "#E5ECF6",
            "gridcolor": "white",
            "gridwidth": 2,
            "linecolor": "white",
            "showbackground": true,
            "ticks": "",
            "zerolinecolor": "white"
           },
           "zaxis": {
            "backgroundcolor": "#E5ECF6",
            "gridcolor": "white",
            "gridwidth": 2,
            "linecolor": "white",
            "showbackground": true,
            "ticks": "",
            "zerolinecolor": "white"
           }
          },
          "shapedefaults": {
           "line": {
            "color": "#2a3f5f"
           }
          },
          "ternary": {
           "aaxis": {
            "gridcolor": "white",
            "linecolor": "white",
            "ticks": ""
           },
           "baxis": {
            "gridcolor": "white",
            "linecolor": "white",
            "ticks": ""
           },
           "bgcolor": "#E5ECF6",
           "caxis": {
            "gridcolor": "white",
            "linecolor": "white",
            "ticks": ""
           }
          },
          "title": {
           "x": 0.05
          },
          "xaxis": {
           "automargin": true,
           "gridcolor": "white",
           "linecolor": "white",
           "ticks": "",
           "title": {
            "standoff": 15
           },
           "zerolinecolor": "white",
           "zerolinewidth": 2
          },
          "yaxis": {
           "automargin": true,
           "gridcolor": "white",
           "linecolor": "white",
           "ticks": "",
           "title": {
            "standoff": 15
           },
           "zerolinecolor": "white",
           "zerolinewidth": 2
          }
         }
        },
        "title": {
         "font": {
          "color": "black",
          "family": "Courier",
          "size": 20
         },
         "text": "State inpatient cost per 10,000 discharges (US, 2014)"
        }
       }
      },
      "text/html": [
       "<div>                            <div id=\"82ca268a-5382-4323-9e15-24e931881d38\" class=\"plotly-graph-div\" style=\"height:300px; width:100%;\"></div>            <script type=\"text/javascript\">                require([\"plotly\"], function(Plotly) {                    window.PLOTLYENV=window.PLOTLYENV || {};                                    if (document.getElementById(\"82ca268a-5382-4323-9e15-24e931881d38\")) {                    Plotly.newPlot(                        \"82ca268a-5382-4323-9e15-24e931881d38\",                        [{\"coloraxis\":\"coloraxis\",\"customdata\":[[8297569.287148114,\"AK\"],[2822731.301619257,\"AL\"],[2906921.125293246,\"AR\"],[4288835.5542771965,\"AZ\"],[5250464.62531152,\"CA\"],[4544484.860854026,\"CO\"],[3822376.6389166242,\"CT\"],[5217942.685355053,\"DC\"],[2832536.408259083,\"DE\"],[2937191.61074451,\"FL\"],[3436171.834831131,\"GA\"],[6199061.635471286,\"HI\"],[3168525.324519535,\"IA\"],[3890170.86659812,\"ID\"],[3469791.0198756005,\"IL\"],[3288235.4727287786,\"IN\"],[3356455.4338870198,\"KS\"],[3128051.2999941804,\"KY\"],[3381385.1330007003,\"LA\"],[3714913.723750456,\"MA\"],[3971547.9939649776,\"MD\"],[3333620.639997348,\"ME\"],[3201529.6459952844,\"MI\"],[3999822.414751319,\"MN\"],[3290530.6667093714,\"MO\"],[3059763.5628880886,\"MS\"],[3832194.5410865173,\"MT\"],[3124542.384912701,\"NC\"],[3964619.616614464,\"ND\"],[3976331.4542479184,\"NE\"],[3976902.1392943966,\"NH\"],[3541578.05457305,\"NJ\"],[4330815.2409440465,\"NM\"],[4387849.452325526,\"NV\"],[4414768.472615465,\"NY\"],[3431340.6694683935,\"OH\"],[3299410.447669561,\"OK\"],[5076514.678745922,\"OR\"],[3802000.139083281,\"PA\"],[3861378.909160836,\"RI\"],[3341465.2077411995,\"SC\"],[3362876.131880383,\"SD\"],[2949979.1345071346,\"TN\"],[3595934.5574164633,\"TX\"],[4743378.416667017,\"UT\"],[3266414.020892736,\"VA\"],[4675432.280240949,\"VT\"],[4366104.924482836,\"WA\"],[4006428.948047736,\"WI\"],[3208484.023890793,\"WV\"],[4615667.828178873,\"WY\"]],\"geo\":\"geo\",\"hovertemplate\":\"<b>%{hovertext}</b><br><br>state=%{customdata[1]}<br>inpatient_charges_per_10k_discharges=%{z}<extra></extra>\",\"hovertext\":[\"AK\",\"AL\",\"AR\",\"AZ\",\"CA\",\"CO\",\"CT\",\"DC\",\"DE\",\"FL\",\"GA\",\"HI\",\"IA\",\"ID\",\"IL\",\"IN\",\"KS\",\"KY\",\"LA\",\"MA\",\"MD\",\"ME\",\"MI\",\"MN\",\"MO\",\"MS\",\"MT\",\"NC\",\"ND\",\"NE\",\"NH\",\"NJ\",\"NM\",\"NV\",\"NY\",\"OH\",\"OK\",\"OR\",\"PA\",\"RI\",\"SC\",\"SD\",\"TN\",\"TX\",\"UT\",\"VA\",\"VT\",\"WA\",\"WI\",\"WV\",\"WY\"],\"locationmode\":\"USA-states\",\"locations\":[\"AK\",\"AL\",\"AR\",\"AZ\",\"CA\",\"CO\",\"CT\",\"DC\",\"DE\",\"FL\",\"GA\",\"HI\",\"IA\",\"ID\",\"IL\",\"IN\",\"KS\",\"KY\",\"LA\",\"MA\",\"MD\",\"ME\",\"MI\",\"MN\",\"MO\",\"MS\",\"MT\",\"NC\",\"ND\",\"NE\",\"NH\",\"NJ\",\"NM\",\"NV\",\"NY\",\"OH\",\"OK\",\"OR\",\"PA\",\"RI\",\"SC\",\"SD\",\"TN\",\"TX\",\"UT\",\"VA\",\"VT\",\"WA\",\"WI\",\"WV\",\"WY\"],\"name\":\"\",\"type\":\"choropleth\",\"z\":[8297569.287148114,2822731.301619257,2906921.125293246,4288835.5542771965,5250464.62531152,4544484.860854026,3822376.6389166242,5217942.685355053,2832536.408259083,2937191.61074451,3436171.834831131,6199061.635471286,3168525.324519535,3890170.86659812,3469791.0198756005,3288235.4727287786,3356455.4338870198,3128051.2999941804,3381385.1330007003,3714913.723750456,3971547.9939649776,3333620.639997348,3201529.6459952844,3999822.414751319,3290530.6667093714,3059763.5628880886,3832194.5410865173,3124542.384912701,3964619.616614464,3976331.4542479184,3976902.1392943966,3541578.05457305,4330815.2409440465,4387849.452325526,4414768.472615465,3431340.6694683935,3299410.447669561,5076514.678745922,3802000.139083281,3861378.909160836,3341465.2077411995,3362876.131880383,2949979.1345071346,3595934.5574164633,4743378.416667017,3266414.020892736,4675432.280240949,4366104.924482836,4006428.948047736,3208484.023890793,4615667.828178873]}],                        {\"coloraxis\":{\"colorbar\":{\"title\":{\"text\":\"inpatient_charges_per_10k_discharges\"}},\"colorscale\":[[0.0,\"#0d0887\"],[0.1111111111111111,\"#46039f\"],[0.2222222222222222,\"#7201a8\"],[0.3333333333333333,\"#9c179e\"],[0.4444444444444444,\"#bd3786\"],[0.5555555555555556,\"#d8576b\"],[0.6666666666666666,\"#ed7953\"],[0.7777777777777778,\"#fb9f3a\"],[0.8888888888888888,\"#fdca26\"],[1.0,\"#f0f921\"]]},\"geo\":{\"center\":{},\"domain\":{\"x\":[0.0,1.0],\"y\":[0.0,1.0]},\"projection\":{\"type\":\"natural earth\"},\"scope\":\"world\"},\"height\":300,\"legend\":{\"bgcolor\":\"white\",\"bordercolor\":\"white\",\"borderwidth\":2,\"font\":{\"color\":\"black\",\"family\":\"Courier\",\"size\":12},\"title\":{},\"tracegroupgap\":0,\"traceorder\":\"reversed\",\"x\":1,\"y\":0.5},\"margin\":{\"b\":20,\"l\":0,\"r\":0,\"t\":40},\"template\":{\"data\":{\"bar\":[{\"error_x\":{\"color\":\"#2a3f5f\"},\"error_y\":{\"color\":\"#2a3f5f\"},\"marker\":{\"line\":{\"color\":\"#E5ECF6\",\"width\":0.5},\"pattern\":{\"fillmode\":\"overlay\",\"size\":10,\"solidity\":0.2}},\"type\":\"bar\"}],\"barpolar\":[{\"marker\":{\"line\":{\"color\":\"#E5ECF6\",\"width\":0.5},\"pattern\":{\"fillmode\":\"overlay\",\"size\":10,\"solidity\":0.2}},\"type\":\"barpolar\"}],\"carpet\":[{\"aaxis\":{\"endlinecolor\":\"#2a3f5f\",\"gridcolor\":\"white\",\"linecolor\":\"white\",\"minorgridcolor\":\"white\",\"startlinecolor\":\"#2a3f5f\"},\"baxis\":{\"endlinecolor\":\"#2a3f5f\",\"gridcolor\":\"white\",\"linecolor\":\"white\",\"minorgridcolor\":\"white\",\"startlinecolor\":\"#2a3f5f\"},\"type\":\"carpet\"}],\"choropleth\":[{\"colorbar\":{\"outlinewidth\":0,\"ticks\":\"\"},\"type\":\"choropleth\"}],\"contour\":[{\"colorbar\":{\"outlinewidth\":0,\"ticks\":\"\"},\"colorscale\":[[0.0,\"#0d0887\"],[0.1111111111111111,\"#46039f\"],[0.2222222222222222,\"#7201a8\"],[0.3333333333333333,\"#9c179e\"],[0.4444444444444444,\"#bd3786\"],[0.5555555555555556,\"#d8576b\"],[0.6666666666666666,\"#ed7953\"],[0.7777777777777778,\"#fb9f3a\"],[0.8888888888888888,\"#fdca26\"],[1.0,\"#f0f921\"]],\"type\":\"contour\"}],\"contourcarpet\":[{\"colorbar\":{\"outlinewidth\":0,\"ticks\":\"\"},\"type\":\"contourcarpet\"}],\"heatmap\":[{\"colorbar\":{\"outlinewidth\":0,\"ticks\":\"\"},\"colorscale\":[[0.0,\"#0d0887\"],[0.1111111111111111,\"#46039f\"],[0.2222222222222222,\"#7201a8\"],[0.3333333333333333,\"#9c179e\"],[0.4444444444444444,\"#bd3786\"],[0.5555555555555556,\"#d8576b\"],[0.6666666666666666,\"#ed7953\"],[0.7777777777777778,\"#fb9f3a\"],[0.8888888888888888,\"#fdca26\"],[1.0,\"#f0f921\"]],\"type\":\"heatmap\"}],\"heatmapgl\":[{\"colorbar\":{\"outlinewidth\":0,\"ticks\":\"\"},\"colorscale\":[[0.0,\"#0d0887\"],[0.1111111111111111,\"#46039f\"],[0.2222222222222222,\"#7201a8\"],[0.3333333333333333,\"#9c179e\"],[0.4444444444444444,\"#bd3786\"],[0.5555555555555556,\"#d8576b\"],[0.6666666666666666,\"#ed7953\"],[0.7777777777777778,\"#fb9f3a\"],[0.8888888888888888,\"#fdca26\"],[1.0,\"#f0f921\"]],\"type\":\"heatmapgl\"}],\"histogram\":[{\"marker\":{\"pattern\":{\"fillmode\":\"overlay\",\"size\":10,\"solidity\":0.2}},\"type\":\"histogram\"}],\"histogram2d\":[{\"colorbar\":{\"outlinewidth\":0,\"ticks\":\"\"},\"colorscale\":[[0.0,\"#0d0887\"],[0.1111111111111111,\"#46039f\"],[0.2222222222222222,\"#7201a8\"],[0.3333333333333333,\"#9c179e\"],[0.4444444444444444,\"#bd3786\"],[0.5555555555555556,\"#d8576b\"],[0.6666666666666666,\"#ed7953\"],[0.7777777777777778,\"#fb9f3a\"],[0.8888888888888888,\"#fdca26\"],[1.0,\"#f0f921\"]],\"type\":\"histogram2d\"}],\"histogram2dcontour\":[{\"colorbar\":{\"outlinewidth\":0,\"ticks\":\"\"},\"colorscale\":[[0.0,\"#0d0887\"],[0.1111111111111111,\"#46039f\"],[0.2222222222222222,\"#7201a8\"],[0.3333333333333333,\"#9c179e\"],[0.4444444444444444,\"#bd3786\"],[0.5555555555555556,\"#d8576b\"],[0.6666666666666666,\"#ed7953\"],[0.7777777777777778,\"#fb9f3a\"],[0.8888888888888888,\"#fdca26\"],[1.0,\"#f0f921\"]],\"type\":\"histogram2dcontour\"}],\"mesh3d\":[{\"colorbar\":{\"outlinewidth\":0,\"ticks\":\"\"},\"type\":\"mesh3d\"}],\"parcoords\":[{\"line\":{\"colorbar\":{\"outlinewidth\":0,\"ticks\":\"\"}},\"type\":\"parcoords\"}],\"pie\":[{\"automargin\":true,\"type\":\"pie\"}],\"scatter\":[{\"marker\":{\"colorbar\":{\"outlinewidth\":0,\"ticks\":\"\"}},\"type\":\"scatter\"}],\"scatter3d\":[{\"line\":{\"colorbar\":{\"outlinewidth\":0,\"ticks\":\"\"}},\"marker\":{\"colorbar\":{\"outlinewidth\":0,\"ticks\":\"\"}},\"type\":\"scatter3d\"}],\"scattercarpet\":[{\"marker\":{\"colorbar\":{\"outlinewidth\":0,\"ticks\":\"\"}},\"type\":\"scattercarpet\"}],\"scattergeo\":[{\"marker\":{\"colorbar\":{\"outlinewidth\":0,\"ticks\":\"\"}},\"type\":\"scattergeo\"}],\"scattergl\":[{\"marker\":{\"colorbar\":{\"outlinewidth\":0,\"ticks\":\"\"}},\"type\":\"scattergl\"}],\"scattermapbox\":[{\"marker\":{\"colorbar\":{\"outlinewidth\":0,\"ticks\":\"\"}},\"type\":\"scattermapbox\"}],\"scatterpolar\":[{\"marker\":{\"colorbar\":{\"outlinewidth\":0,\"ticks\":\"\"}},\"type\":\"scatterpolar\"}],\"scatterpolargl\":[{\"marker\":{\"colorbar\":{\"outlinewidth\":0,\"ticks\":\"\"}},\"type\":\"scatterpolargl\"}],\"scatterternary\":[{\"marker\":{\"colorbar\":{\"outlinewidth\":0,\"ticks\":\"\"}},\"type\":\"scatterternary\"}],\"surface\":[{\"colorbar\":{\"outlinewidth\":0,\"ticks\":\"\"},\"colorscale\":[[0.0,\"#0d0887\"],[0.1111111111111111,\"#46039f\"],[0.2222222222222222,\"#7201a8\"],[0.3333333333333333,\"#9c179e\"],[0.4444444444444444,\"#bd3786\"],[0.5555555555555556,\"#d8576b\"],[0.6666666666666666,\"#ed7953\"],[0.7777777777777778,\"#fb9f3a\"],[0.8888888888888888,\"#fdca26\"],[1.0,\"#f0f921\"]],\"type\":\"surface\"}],\"table\":[{\"cells\":{\"fill\":{\"color\":\"#EBF0F8\"},\"line\":{\"color\":\"white\"}},\"header\":{\"fill\":{\"color\":\"#C8D4E3\"},\"line\":{\"color\":\"white\"}},\"type\":\"table\"}]},\"layout\":{\"annotationdefaults\":{\"arrowcolor\":\"#2a3f5f\",\"arrowhead\":0,\"arrowwidth\":1},\"autotypenumbers\":\"strict\",\"coloraxis\":{\"colorbar\":{\"outlinewidth\":0,\"ticks\":\"\"}},\"colorscale\":{\"diverging\":[[0,\"#8e0152\"],[0.1,\"#c51b7d\"],[0.2,\"#de77ae\"],[0.3,\"#f1b6da\"],[0.4,\"#fde0ef\"],[0.5,\"#f7f7f7\"],[0.6,\"#e6f5d0\"],[0.7,\"#b8e186\"],[0.8,\"#7fbc41\"],[0.9,\"#4d9221\"],[1,\"#276419\"]],\"sequential\":[[0.0,\"#0d0887\"],[0.1111111111111111,\"#46039f\"],[0.2222222222222222,\"#7201a8\"],[0.3333333333333333,\"#9c179e\"],[0.4444444444444444,\"#bd3786\"],[0.5555555555555556,\"#d8576b\"],[0.6666666666666666,\"#ed7953\"],[0.7777777777777778,\"#fb9f3a\"],[0.8888888888888888,\"#fdca26\"],[1.0,\"#f0f921\"]],\"sequentialminus\":[[0.0,\"#0d0887\"],[0.1111111111111111,\"#46039f\"],[0.2222222222222222,\"#7201a8\"],[0.3333333333333333,\"#9c179e\"],[0.4444444444444444,\"#bd3786\"],[0.5555555555555556,\"#d8576b\"],[0.6666666666666666,\"#ed7953\"],[0.7777777777777778,\"#fb9f3a\"],[0.8888888888888888,\"#fdca26\"],[1.0,\"#f0f921\"]]},\"colorway\":[\"#636efa\",\"#EF553B\",\"#00cc96\",\"#ab63fa\",\"#FFA15A\",\"#19d3f3\",\"#FF6692\",\"#B6E880\",\"#FF97FF\",\"#FECB52\"],\"font\":{\"color\":\"#2a3f5f\"},\"geo\":{\"bgcolor\":\"white\",\"lakecolor\":\"white\",\"landcolor\":\"#E5ECF6\",\"showlakes\":true,\"showland\":true,\"subunitcolor\":\"white\"},\"hoverlabel\":{\"align\":\"left\"},\"hovermode\":\"closest\",\"mapbox\":{\"style\":\"light\"},\"paper_bgcolor\":\"white\",\"plot_bgcolor\":\"#E5ECF6\",\"polar\":{\"angularaxis\":{\"gridcolor\":\"white\",\"linecolor\":\"white\",\"ticks\":\"\"},\"bgcolor\":\"#E5ECF6\",\"radialaxis\":{\"gridcolor\":\"white\",\"linecolor\":\"white\",\"ticks\":\"\"}},\"scene\":{\"xaxis\":{\"backgroundcolor\":\"#E5ECF6\",\"gridcolor\":\"white\",\"gridwidth\":2,\"linecolor\":\"white\",\"showbackground\":true,\"ticks\":\"\",\"zerolinecolor\":\"white\"},\"yaxis\":{\"backgroundcolor\":\"#E5ECF6\",\"gridcolor\":\"white\",\"gridwidth\":2,\"linecolor\":\"white\",\"showbackground\":true,\"ticks\":\"\",\"zerolinecolor\":\"white\"},\"zaxis\":{\"backgroundcolor\":\"#E5ECF6\",\"gridcolor\":\"white\",\"gridwidth\":2,\"linecolor\":\"white\",\"showbackground\":true,\"ticks\":\"\",\"zerolinecolor\":\"white\"}},\"shapedefaults\":{\"line\":{\"color\":\"#2a3f5f\"}},\"ternary\":{\"aaxis\":{\"gridcolor\":\"white\",\"linecolor\":\"white\",\"ticks\":\"\"},\"baxis\":{\"gridcolor\":\"white\",\"linecolor\":\"white\",\"ticks\":\"\"},\"bgcolor\":\"#E5ECF6\",\"caxis\":{\"gridcolor\":\"white\",\"linecolor\":\"white\",\"ticks\":\"\"}},\"title\":{\"x\":0.05},\"xaxis\":{\"automargin\":true,\"gridcolor\":\"white\",\"linecolor\":\"white\",\"ticks\":\"\",\"title\":{\"standoff\":15},\"zerolinecolor\":\"white\",\"zerolinewidth\":2},\"yaxis\":{\"automargin\":true,\"gridcolor\":\"white\",\"linecolor\":\"white\",\"ticks\":\"\",\"title\":{\"standoff\":15},\"zerolinecolor\":\"white\",\"zerolinewidth\":2}}},\"title\":{\"font\":{\"color\":\"black\",\"family\":\"Courier\",\"size\":20},\"text\":\"State inpatient cost per 10,000 discharges (US, 2014)\"}},                        {\"responsive\": true}                    ).then(function(){\n",
       "                            \n",
       "var gd = document.getElementById('82ca268a-5382-4323-9e15-24e931881d38');\n",
       "var x = new MutationObserver(function (mutations, observer) {{\n",
       "        var display = window.getComputedStyle(gd).display;\n",
       "        if (!display || display === 'none') {{\n",
       "            console.log([gd, 'removed!']);\n",
       "            Plotly.purge(gd);\n",
       "            observer.disconnect();\n",
       "        }}\n",
       "}});\n",
       "\n",
       "// Listen for the removal of the full notebook cells\n",
       "var notebookContainer = gd.closest('#notebook-container');\n",
       "if (notebookContainer) {{\n",
       "    x.observe(notebookContainer, {childList: true});\n",
       "}}\n",
       "\n",
       "// Listen for the clearing of the current output cell\n",
       "var outputEl = gd.closest('.output');\n",
       "if (outputEl) {{\n",
       "    x.observe(outputEl, {childList: true});\n",
       "}}\n",
       "\n",
       "                        })                };                });            </script>        </div>"
      ]
     },
     "metadata": {},
     "output_type": "display_data"
    }
   ],
   "source": [
    "df = total_inpatient_state_charges\n",
    "locations='state'\n",
    "color='inpatient_charges_per_10k_discharges'\n",
    "hover_name='state'\n",
    "title =  'State inpatient cost per 10,000 discharges (US, 2014)'\n",
    "hover_data={'inpatient_charges_per_10k_discharges': True, 'state': True}\n",
    "\n",
    "plot_most_common_by_state(df, locations, color, hover_name, title, fontsize=12, hover_data=hover_data)"
   ]
  },
  {
   "cell_type": "markdown",
   "metadata": {
    "hidden": true
   },
   "source": [
    "Fig. 4: Here we see a split roughly across the eastern and western states. Western states appear to have higher charges, with Alaska and Hawaii having the two highest rates."
   ]
  },
  {
   "cell_type": "markdown",
   "metadata": {
    "hidden": true
   },
   "source": [
    "##### SQL query: Most common MS-DRG by zip code"
   ]
  },
  {
   "cell_type": "code",
   "execution_count": 1133,
   "metadata": {
    "ExecuteTime": {
     "end_time": "2021-07-03T04:16:44.617674Z",
     "start_time": "2021-07-03T04:16:44.507664Z"
    },
    "code_folding": [],
    "hidden": true
   },
   "outputs": [],
   "source": [
    "query = \"\"\" SELECT * FROM (SELECT provider_state as state, \n",
    "                                                  provider_zipcode as zipcode,\n",
    "                                                  drg_definition as ms_drg,\n",
    "                                                  SUM(total_discharges) as total_discharges,\n",
    "                                                  SUM(average_total_payments) as average_total_payments,\n",
    "                                                  ROW_NUMBER() OVER (PARTITION BY provider_zipcode \n",
    "                                                                                              ORDER BY SUM(total_discharges) DESC) as rank \n",
    "                                                   FROM bigquery-public-data.medicare.inpatient_charges_2014\n",
    "                                                   WHERE (provider_state != 'AA' AND \n",
    "                                                                   provider_state != 'AE' AND \n",
    "                                                                   provider_state != 'AS' AND\n",
    "                                                                   provider_state != 'AP' AND\n",
    "                                                                   provider_state != 'GU' AND\n",
    "                                                                   provider_state != 'MP' AND\n",
    "                                                                   provider_state != 'PR' AND\n",
    "                                                                   provider_state != 'VI' AND\n",
    "                                                                   provider_state != 'XX' AND\n",
    "                                                                   provider_state != 'ZZ')\n",
    "                                                   GROUP BY 1, 2, 3\n",
    "                                                   ORDER BY 1, 4 DESC) as ranks\n",
    "                   WHERE rank = 1\n",
    "              \"\"\""
   ]
  },
  {
   "cell_type": "code",
   "execution_count": 1134,
   "metadata": {
    "ExecuteTime": {
     "end_time": "2021-07-03T04:18:25.034350Z",
     "start_time": "2021-07-03T04:18:14.240556Z"
    },
    "code_folding": [],
    "hidden": true
   },
   "outputs": [
    {
     "name": "stdout",
     "output_type": "stream",
     "text": [
      "2987\n"
     ]
    },
    {
     "data": {
      "text/plain": [
       "state  zipcode  ms_drg                                                                    total_discharges  average_total_payments  rank\n",
       "AK     99508    470 - MAJOR JOINT REPLACEMENT OR REATTACHMENT OF LOWER EXTREMITY W/O MCC  612               64628.432720            1       1\n",
       "OH     44109    871 - SEPTICEMIA OR SEVERE SEPSIS W/O MV 96+ HOURS W MCC                  142               20052.049300            1       1\n",
       "       43952    871 - SEPTICEMIA OR SEVERE SEPSIS W/O MV 96+ HOURS W MCC                  118               10431.889830            1       1\n",
       "       44004    190 - CHRONIC OBSTRUCTIVE PULMONARY DISEASE W MCC                         73                7640.465753             1       1\n",
       "       44024    871 - SEPTICEMIA OR SEVERE SEPSIS W/O MV 96+ HOURS W MCC                  149               10221.758390            1       1\n",
       "dtype: int64"
      ]
     },
     "execution_count": 1134,
     "metadata": {},
     "output_type": "execute_result"
    }
   ],
   "source": [
    "#  Process query\n",
    "most_common_ms_drg = query_to_df(query)\n",
    "\n",
    "#  Check results\n",
    "print(len(most_common_ms_drg))\n",
    "\n",
    "most_common_ms_drg.value_counts().head()"
   ]
  },
  {
   "cell_type": "markdown",
   "metadata": {
    "hidden": true
   },
   "source": [
    "##### Top 5 in the US"
   ]
  },
  {
   "cell_type": "code",
   "execution_count": 1091,
   "metadata": {
    "ExecuteTime": {
     "end_time": "2021-07-03T01:15:09.959948Z",
     "start_time": "2021-07-03T01:15:09.872640Z"
    },
    "hidden": true
   },
   "outputs": [
    {
     "data": {
      "text/html": [
       "<div>\n",
       "<style scoped>\n",
       "    .dataframe tbody tr th:only-of-type {\n",
       "        vertical-align: middle;\n",
       "    }\n",
       "\n",
       "    .dataframe tbody tr th {\n",
       "        vertical-align: top;\n",
       "    }\n",
       "\n",
       "    .dataframe thead th {\n",
       "        text-align: right;\n",
       "    }\n",
       "</style>\n",
       "<table border=\"1\" class=\"dataframe\">\n",
       "  <thead>\n",
       "    <tr style=\"text-align: right;\">\n",
       "      <th></th>\n",
       "      <th>ms_drg</th>\n",
       "      <th>total_discharges</th>\n",
       "    </tr>\n",
       "  </thead>\n",
       "  <tbody>\n",
       "    <tr>\n",
       "      <th>29</th>\n",
       "      <td>470 - MAJOR JOINT REPLACEMENT OR REATTACHMENT ...</td>\n",
       "      <td>297894</td>\n",
       "    </tr>\n",
       "    <tr>\n",
       "      <th>43</th>\n",
       "      <td>871 - SEPTICEMIA OR SEVERE SEPSIS W/O MV 96+ H...</td>\n",
       "      <td>249226</td>\n",
       "    </tr>\n",
       "    <tr>\n",
       "      <th>46</th>\n",
       "      <td>885 - PSYCHOSES</td>\n",
       "      <td>47000</td>\n",
       "    </tr>\n",
       "    <tr>\n",
       "      <th>26</th>\n",
       "      <td>392 - ESOPHAGITIS, GASTROENT &amp; MISC DIGEST DIS...</td>\n",
       "      <td>7817</td>\n",
       "    </tr>\n",
       "    <tr>\n",
       "      <th>13</th>\n",
       "      <td>194 - SIMPLE PNEUMONIA &amp; PLEURISY W CC</td>\n",
       "      <td>6388</td>\n",
       "    </tr>\n",
       "  </tbody>\n",
       "</table>\n",
       "</div>"
      ],
      "text/plain": [
       "                                               ms_drg  total_discharges\n",
       "29  470 - MAJOR JOINT REPLACEMENT OR REATTACHMENT ...            297894\n",
       "43  871 - SEPTICEMIA OR SEVERE SEPSIS W/O MV 96+ H...            249226\n",
       "46                                    885 - PSYCHOSES             47000\n",
       "26  392 - ESOPHAGITIS, GASTROENT & MISC DIGEST DIS...              7817\n",
       "13             194 - SIMPLE PNEUMONIA & PLEURISY W CC              6388"
      ]
     },
     "execution_count": 1091,
     "metadata": {},
     "output_type": "execute_result"
    }
   ],
   "source": [
    "top_5_ms_drg_us = most_common(most_common_ms_drg, 'total_discharges', 5, groupby='ms_drg', counter=False)\n",
    "top_5_ms_drg_us"
   ]
  },
  {
   "cell_type": "markdown",
   "metadata": {
    "hidden": true
   },
   "source": [
    "The 5 most common MS-DRGs in the US (in terms of total discharges) are: \n",
    "- 470: Major joint replacement or reattachment of lower extremity (297,894) \n",
    "- 871: Septicemia or severe sepsis (249,226)\n",
    "- 885: Psychoses (47,000)\n",
    "- 392: Esophagitits & gastro/digestion disorders (7,817) \n",
    "- 194: Simple pneumonia & pleurisy (6,388)\n",
    "\n",
    "We can see that theres about an order of magnitude difference between (1)/(2) and (3) as well as between (3) and (4). "
   ]
  },
  {
   "cell_type": "markdown",
   "metadata": {
    "hidden": true
   },
   "source": [
    "##### Most common by state"
   ]
  },
  {
   "cell_type": "code",
   "execution_count": 1135,
   "metadata": {
    "ExecuteTime": {
     "end_time": "2021-07-03T04:23:19.313042Z",
     "start_time": "2021-07-03T04:23:19.036195Z"
    },
    "hidden": true
   },
   "outputs": [
    {
     "data": {
      "text/html": [
       "<div>\n",
       "<style scoped>\n",
       "    .dataframe tbody tr th:only-of-type {\n",
       "        vertical-align: middle;\n",
       "    }\n",
       "\n",
       "    .dataframe tbody tr th {\n",
       "        vertical-align: top;\n",
       "    }\n",
       "\n",
       "    .dataframe thead th {\n",
       "        text-align: right;\n",
       "    }\n",
       "</style>\n",
       "<table border=\"1\" class=\"dataframe\">\n",
       "  <thead>\n",
       "    <tr style=\"text-align: right;\">\n",
       "      <th></th>\n",
       "      <th>state</th>\n",
       "      <th>ms_drg</th>\n",
       "      <th>total_discharges</th>\n",
       "      <th>average_total_payments</th>\n",
       "    </tr>\n",
       "  </thead>\n",
       "  <tbody>\n",
       "    <tr>\n",
       "      <th>0</th>\n",
       "      <td>AK</td>\n",
       "      <td>470 - MAJOR JOINT REPLACEMENT OR REATTACHMENT ...</td>\n",
       "      <td>725</td>\n",
       "      <td>103106.012130</td>\n",
       "    </tr>\n",
       "    <tr>\n",
       "      <th>1</th>\n",
       "      <td>AK</td>\n",
       "      <td>603 - CELLULITIS W/O MCC</td>\n",
       "      <td>22</td>\n",
       "      <td>15553.863640</td>\n",
       "    </tr>\n",
       "    <tr>\n",
       "      <th>2</th>\n",
       "      <td>AK</td>\n",
       "      <td>871 - SEPTICEMIA OR SEVERE SEPSIS W/O MV 96+ H...</td>\n",
       "      <td>65</td>\n",
       "      <td>19795.246150</td>\n",
       "    </tr>\n",
       "    <tr>\n",
       "      <th>3</th>\n",
       "      <td>AK</td>\n",
       "      <td>885 - PSYCHOSES</td>\n",
       "      <td>81</td>\n",
       "      <td>15896.987650</td>\n",
       "    </tr>\n",
       "    <tr>\n",
       "      <th>4</th>\n",
       "      <td>AL</td>\n",
       "      <td>101 - SEIZURES W/O MCC</td>\n",
       "      <td>29</td>\n",
       "      <td>8785.689655</td>\n",
       "    </tr>\n",
       "  </tbody>\n",
       "</table>\n",
       "</div>"
      ],
      "text/plain": [
       "  state                                             ms_drg  total_discharges  \\\n",
       "0    AK  470 - MAJOR JOINT REPLACEMENT OR REATTACHMENT ...               725   \n",
       "1    AK                           603 - CELLULITIS W/O MCC                22   \n",
       "2    AK  871 - SEPTICEMIA OR SEVERE SEPSIS W/O MV 96+ H...                65   \n",
       "3    AK                                    885 - PSYCHOSES                81   \n",
       "4    AL                             101 - SEIZURES W/O MCC                29   \n",
       "\n",
       "   average_total_payments  \n",
       "0           103106.012130  \n",
       "1            15553.863640  \n",
       "2            19795.246150  \n",
       "3            15896.987650  \n",
       "4             8785.689655  "
      ]
     },
     "execution_count": 1135,
     "metadata": {},
     "output_type": "execute_result"
    }
   ],
   "source": [
    "#  Aggregate data by state, summing total discharges for each MS-DRG\n",
    "temp_df = most_common_ms_drg.groupby(['state', 'ms_drg'])[['total_discharges', 'average_total_payments']].sum()\n",
    "#  Reset index to flatten df\n",
    "temp_df = temp_df.reset_index()\n",
    "temp_df.head()"
   ]
  },
  {
   "cell_type": "code",
   "execution_count": 1136,
   "metadata": {
    "ExecuteTime": {
     "end_time": "2021-07-03T04:24:51.557286Z",
     "start_time": "2021-07-03T04:24:51.427463Z"
    },
    "hidden": true
   },
   "outputs": [
    {
     "data": {
      "text/html": [
       "<div>\n",
       "<style scoped>\n",
       "    .dataframe tbody tr th:only-of-type {\n",
       "        vertical-align: middle;\n",
       "    }\n",
       "\n",
       "    .dataframe tbody tr th {\n",
       "        vertical-align: top;\n",
       "    }\n",
       "\n",
       "    .dataframe thead th {\n",
       "        text-align: right;\n",
       "    }\n",
       "</style>\n",
       "<table border=\"1\" class=\"dataframe\">\n",
       "  <thead>\n",
       "    <tr style=\"text-align: right;\">\n",
       "      <th></th>\n",
       "      <th>index</th>\n",
       "      <th>state</th>\n",
       "      <th>ms_drg</th>\n",
       "      <th>total_discharges</th>\n",
       "      <th>average_total_payments</th>\n",
       "      <th>rank_by_ms_drg</th>\n",
       "    </tr>\n",
       "  </thead>\n",
       "  <tbody>\n",
       "    <tr>\n",
       "      <th>0</th>\n",
       "      <td>0</td>\n",
       "      <td>AK</td>\n",
       "      <td>470 - MAJOR JOINT REPLACEMENT OR REATTACHMENT ...</td>\n",
       "      <td>725</td>\n",
       "      <td>103106.012130</td>\n",
       "      <td>1.0</td>\n",
       "    </tr>\n",
       "    <tr>\n",
       "      <th>1</th>\n",
       "      <td>1</td>\n",
       "      <td>AK</td>\n",
       "      <td>603 - CELLULITIS W/O MCC</td>\n",
       "      <td>22</td>\n",
       "      <td>15553.863640</td>\n",
       "      <td>4.0</td>\n",
       "    </tr>\n",
       "    <tr>\n",
       "      <th>2</th>\n",
       "      <td>2</td>\n",
       "      <td>AK</td>\n",
       "      <td>871 - SEPTICEMIA OR SEVERE SEPSIS W/O MV 96+ H...</td>\n",
       "      <td>65</td>\n",
       "      <td>19795.246150</td>\n",
       "      <td>3.0</td>\n",
       "    </tr>\n",
       "    <tr>\n",
       "      <th>3</th>\n",
       "      <td>3</td>\n",
       "      <td>AK</td>\n",
       "      <td>885 - PSYCHOSES</td>\n",
       "      <td>81</td>\n",
       "      <td>15896.987650</td>\n",
       "      <td>2.0</td>\n",
       "    </tr>\n",
       "    <tr>\n",
       "      <th>4</th>\n",
       "      <td>4</td>\n",
       "      <td>AL</td>\n",
       "      <td>101 - SEIZURES W/O MCC</td>\n",
       "      <td>29</td>\n",
       "      <td>8785.689655</td>\n",
       "      <td>13.0</td>\n",
       "    </tr>\n",
       "  </tbody>\n",
       "</table>\n",
       "</div>"
      ],
      "text/plain": [
       "   index state                                             ms_drg  \\\n",
       "0      0    AK  470 - MAJOR JOINT REPLACEMENT OR REATTACHMENT ...   \n",
       "1      1    AK                           603 - CELLULITIS W/O MCC   \n",
       "2      2    AK  871 - SEPTICEMIA OR SEVERE SEPSIS W/O MV 96+ H...   \n",
       "3      3    AK                                    885 - PSYCHOSES   \n",
       "4      4    AL                             101 - SEIZURES W/O MCC   \n",
       "\n",
       "   total_discharges  average_total_payments  rank_by_ms_drg  \n",
       "0               725           103106.012130             1.0  \n",
       "1                22            15553.863640             4.0  \n",
       "2                65            19795.246150             3.0  \n",
       "3                81            15896.987650             2.0  \n",
       "4                29             8785.689655            13.0  "
      ]
     },
     "execution_count": 1136,
     "metadata": {},
     "output_type": "execute_result"
    }
   ],
   "source": [
    "temp_df['rank_by_ms_drg'] = temp_df.groupby('state')['total_discharges'].rank(ascending=False)\n",
    "temp_df = temp_df.reset_index()\n",
    "temp_df.head()"
   ]
  },
  {
   "cell_type": "code",
   "execution_count": 1140,
   "metadata": {
    "ExecuteTime": {
     "end_time": "2021-07-03T04:32:43.877729Z",
     "start_time": "2021-07-03T04:32:43.357231Z"
    },
    "hidden": true
   },
   "outputs": [
    {
     "data": {
      "text/html": [
       "<div>\n",
       "<style scoped>\n",
       "    .dataframe tbody tr th:only-of-type {\n",
       "        vertical-align: middle;\n",
       "    }\n",
       "\n",
       "    .dataframe tbody tr th {\n",
       "        vertical-align: top;\n",
       "    }\n",
       "\n",
       "    .dataframe thead th {\n",
       "        text-align: right;\n",
       "    }\n",
       "</style>\n",
       "<table border=\"1\" class=\"dataframe\">\n",
       "  <thead>\n",
       "    <tr style=\"text-align: right;\">\n",
       "      <th></th>\n",
       "      <th>index</th>\n",
       "      <th>state</th>\n",
       "      <th>ms_drg</th>\n",
       "      <th>total_discharges</th>\n",
       "      <th>average_total_payments</th>\n",
       "      <th>rank_by_ms_drg</th>\n",
       "    </tr>\n",
       "  </thead>\n",
       "  <tbody>\n",
       "    <tr>\n",
       "      <th>0</th>\n",
       "      <td>0</td>\n",
       "      <td>AK</td>\n",
       "      <td>470 - MAJOR JOINT REPLACEMENT OR REATTACHMENT ...</td>\n",
       "      <td>725</td>\n",
       "      <td>1.031060e+05</td>\n",
       "      <td>1.0</td>\n",
       "    </tr>\n",
       "    <tr>\n",
       "      <th>11</th>\n",
       "      <td>11</td>\n",
       "      <td>AL</td>\n",
       "      <td>470 - MAJOR JOINT REPLACEMENT OR REATTACHMENT ...</td>\n",
       "      <td>7235</td>\n",
       "      <td>2.855679e+05</td>\n",
       "      <td>1.0</td>\n",
       "    </tr>\n",
       "    <tr>\n",
       "      <th>27</th>\n",
       "      <td>27</td>\n",
       "      <td>AR</td>\n",
       "      <td>470 - MAJOR JOINT REPLACEMENT OR REATTACHMENT ...</td>\n",
       "      <td>3491</td>\n",
       "      <td>1.386440e+05</td>\n",
       "      <td>1.0</td>\n",
       "    </tr>\n",
       "    <tr>\n",
       "      <th>36</th>\n",
       "      <td>36</td>\n",
       "      <td>AZ</td>\n",
       "      <td>470 - MAJOR JOINT REPLACEMENT OR REATTACHMENT ...</td>\n",
       "      <td>8419</td>\n",
       "      <td>4.234054e+05</td>\n",
       "      <td>1.0</td>\n",
       "    </tr>\n",
       "    <tr>\n",
       "      <th>53</th>\n",
       "      <td>53</td>\n",
       "      <td>CA</td>\n",
       "      <td>871 - SEPTICEMIA OR SEVERE SEPSIS W/O MV 96+ H...</td>\n",
       "      <td>33592</td>\n",
       "      <td>3.089695e+06</td>\n",
       "      <td>1.0</td>\n",
       "    </tr>\n",
       "    <tr>\n",
       "      <th>60</th>\n",
       "      <td>60</td>\n",
       "      <td>CO</td>\n",
       "      <td>470 - MAJOR JOINT REPLACEMENT OR REATTACHMENT ...</td>\n",
       "      <td>6499</td>\n",
       "      <td>4.895257e+05</td>\n",
       "      <td>1.0</td>\n",
       "    </tr>\n",
       "    <tr>\n",
       "      <th>65</th>\n",
       "      <td>65</td>\n",
       "      <td>CT</td>\n",
       "      <td>871 - SEPTICEMIA OR SEVERE SEPSIS W/O MV 96+ H...</td>\n",
       "      <td>5112</td>\n",
       "      <td>3.062204e+05</td>\n",
       "      <td>1.0</td>\n",
       "    </tr>\n",
       "    <tr>\n",
       "      <th>69</th>\n",
       "      <td>69</td>\n",
       "      <td>DC</td>\n",
       "      <td>470 - MAJOR JOINT REPLACEMENT OR REATTACHMENT ...</td>\n",
       "      <td>838</td>\n",
       "      <td>3.440614e+04</td>\n",
       "      <td>1.0</td>\n",
       "    </tr>\n",
       "    <tr>\n",
       "      <th>72</th>\n",
       "      <td>72</td>\n",
       "      <td>DE</td>\n",
       "      <td>470 - MAJOR JOINT REPLACEMENT OR REATTACHMENT ...</td>\n",
       "      <td>1745</td>\n",
       "      <td>2.991321e+04</td>\n",
       "      <td>1.0</td>\n",
       "    </tr>\n",
       "    <tr>\n",
       "      <th>81</th>\n",
       "      <td>81</td>\n",
       "      <td>FL</td>\n",
       "      <td>470 - MAJOR JOINT REPLACEMENT OR REATTACHMENT ...</td>\n",
       "      <td>20719</td>\n",
       "      <td>8.710640e+05</td>\n",
       "      <td>1.0</td>\n",
       "    </tr>\n",
       "    <tr>\n",
       "      <th>96</th>\n",
       "      <td>96</td>\n",
       "      <td>GA</td>\n",
       "      <td>470 - MAJOR JOINT REPLACEMENT OR REATTACHMENT ...</td>\n",
       "      <td>7618</td>\n",
       "      <td>4.481273e+05</td>\n",
       "      <td>1.0</td>\n",
       "    </tr>\n",
       "    <tr>\n",
       "      <th>104</th>\n",
       "      <td>104</td>\n",
       "      <td>HI</td>\n",
       "      <td>871 - SEPTICEMIA OR SEVERE SEPSIS W/O MV 96+ H...</td>\n",
       "      <td>1316</td>\n",
       "      <td>1.379021e+05</td>\n",
       "      <td>1.0</td>\n",
       "    </tr>\n",
       "    <tr>\n",
       "      <th>106</th>\n",
       "      <td>106</td>\n",
       "      <td>IA</td>\n",
       "      <td>470 - MAJOR JOINT REPLACEMENT OR REATTACHMENT ...</td>\n",
       "      <td>5550</td>\n",
       "      <td>2.731214e+05</td>\n",
       "      <td>1.0</td>\n",
       "    </tr>\n",
       "    <tr>\n",
       "      <th>109</th>\n",
       "      <td>109</td>\n",
       "      <td>ID</td>\n",
       "      <td>470 - MAJOR JOINT REPLACEMENT OR REATTACHMENT ...</td>\n",
       "      <td>2259</td>\n",
       "      <td>1.310169e+05</td>\n",
       "      <td>1.0</td>\n",
       "    </tr>\n",
       "    <tr>\n",
       "      <th>119</th>\n",
       "      <td>119</td>\n",
       "      <td>IL</td>\n",
       "      <td>470 - MAJOR JOINT REPLACEMENT OR REATTACHMENT ...</td>\n",
       "      <td>13718</td>\n",
       "      <td>6.304715e+05</td>\n",
       "      <td>1.0</td>\n",
       "    </tr>\n",
       "    <tr>\n",
       "      <th>137</th>\n",
       "      <td>137</td>\n",
       "      <td>IN</td>\n",
       "      <td>470 - MAJOR JOINT REPLACEMENT OR REATTACHMENT ...</td>\n",
       "      <td>7392</td>\n",
       "      <td>4.633022e+05</td>\n",
       "      <td>1.0</td>\n",
       "    </tr>\n",
       "    <tr>\n",
       "      <th>146</th>\n",
       "      <td>146</td>\n",
       "      <td>KS</td>\n",
       "      <td>470 - MAJOR JOINT REPLACEMENT OR REATTACHMENT ...</td>\n",
       "      <td>4916</td>\n",
       "      <td>3.289719e+05</td>\n",
       "      <td>1.0</td>\n",
       "    </tr>\n",
       "    <tr>\n",
       "      <th>160</th>\n",
       "      <td>160</td>\n",
       "      <td>KY</td>\n",
       "      <td>470 - MAJOR JOINT REPLACEMENT OR REATTACHMENT ...</td>\n",
       "      <td>4741</td>\n",
       "      <td>2.181561e+05</td>\n",
       "      <td>1.0</td>\n",
       "    </tr>\n",
       "    <tr>\n",
       "      <th>179</th>\n",
       "      <td>179</td>\n",
       "      <td>LA</td>\n",
       "      <td>871 - SEPTICEMIA OR SEVERE SEPSIS W/O MV 96+ H...</td>\n",
       "      <td>3479</td>\n",
       "      <td>2.660054e+05</td>\n",
       "      <td>1.0</td>\n",
       "    </tr>\n",
       "    <tr>\n",
       "      <th>188</th>\n",
       "      <td>188</td>\n",
       "      <td>MA</td>\n",
       "      <td>871 - SEPTICEMIA OR SEVERE SEPSIS W/O MV 96+ H...</td>\n",
       "      <td>7367</td>\n",
       "      <td>4.050410e+05</td>\n",
       "      <td>1.0</td>\n",
       "    </tr>\n",
       "    <tr>\n",
       "      <th>194</th>\n",
       "      <td>194</td>\n",
       "      <td>MD</td>\n",
       "      <td>470 - MAJOR JOINT REPLACEMENT OR REATTACHMENT ...</td>\n",
       "      <td>6509</td>\n",
       "      <td>3.095638e+05</td>\n",
       "      <td>1.0</td>\n",
       "    </tr>\n",
       "    <tr>\n",
       "      <th>200</th>\n",
       "      <td>200</td>\n",
       "      <td>ME</td>\n",
       "      <td>470 - MAJOR JOINT REPLACEMENT OR REATTACHMENT ...</td>\n",
       "      <td>1965</td>\n",
       "      <td>1.344854e+05</td>\n",
       "      <td>1.0</td>\n",
       "    </tr>\n",
       "    <tr>\n",
       "      <th>211</th>\n",
       "      <td>211</td>\n",
       "      <td>MI</td>\n",
       "      <td>871 - SEPTICEMIA OR SEVERE SEPSIS W/O MV 96+ H...</td>\n",
       "      <td>14103</td>\n",
       "      <td>6.251192e+05</td>\n",
       "      <td>1.0</td>\n",
       "    </tr>\n",
       "    <tr>\n",
       "      <th>218</th>\n",
       "      <td>218</td>\n",
       "      <td>MN</td>\n",
       "      <td>470 - MAJOR JOINT REPLACEMENT OR REATTACHMENT ...</td>\n",
       "      <td>9801</td>\n",
       "      <td>5.616158e+05</td>\n",
       "      <td>1.0</td>\n",
       "    </tr>\n",
       "    <tr>\n",
       "      <th>228</th>\n",
       "      <td>228</td>\n",
       "      <td>MO</td>\n",
       "      <td>470 - MAJOR JOINT REPLACEMENT OR REATTACHMENT ...</td>\n",
       "      <td>8612</td>\n",
       "      <td>4.222329e+05</td>\n",
       "      <td>1.0</td>\n",
       "    </tr>\n",
       "    <tr>\n",
       "      <th>245</th>\n",
       "      <td>245</td>\n",
       "      <td>MS</td>\n",
       "      <td>871 - SEPTICEMIA OR SEVERE SEPSIS W/O MV 96+ H...</td>\n",
       "      <td>3725</td>\n",
       "      <td>2.064176e+05</td>\n",
       "      <td>1.0</td>\n",
       "    </tr>\n",
       "    <tr>\n",
       "      <th>249</th>\n",
       "      <td>249</td>\n",
       "      <td>MT</td>\n",
       "      <td>470 - MAJOR JOINT REPLACEMENT OR REATTACHMENT ...</td>\n",
       "      <td>1895</td>\n",
       "      <td>1.246374e+05</td>\n",
       "      <td>1.0</td>\n",
       "    </tr>\n",
       "    <tr>\n",
       "      <th>259</th>\n",
       "      <td>259</td>\n",
       "      <td>NC</td>\n",
       "      <td>470 - MAJOR JOINT REPLACEMENT OR REATTACHMENT ...</td>\n",
       "      <td>10830</td>\n",
       "      <td>4.317209e+05</td>\n",
       "      <td>1.0</td>\n",
       "    </tr>\n",
       "    <tr>\n",
       "      <th>265</th>\n",
       "      <td>265</td>\n",
       "      <td>ND</td>\n",
       "      <td>470 - MAJOR JOINT REPLACEMENT OR REATTACHMENT ...</td>\n",
       "      <td>1833</td>\n",
       "      <td>6.940733e+04</td>\n",
       "      <td>1.0</td>\n",
       "    </tr>\n",
       "    <tr>\n",
       "      <th>269</th>\n",
       "      <td>269</td>\n",
       "      <td>NE</td>\n",
       "      <td>470 - MAJOR JOINT REPLACEMENT OR REATTACHMENT ...</td>\n",
       "      <td>3632</td>\n",
       "      <td>2.109101e+05</td>\n",
       "      <td>1.0</td>\n",
       "    </tr>\n",
       "    <tr>\n",
       "      <th>272</th>\n",
       "      <td>272</td>\n",
       "      <td>NH</td>\n",
       "      <td>470 - MAJOR JOINT REPLACEMENT OR REATTACHMENT ...</td>\n",
       "      <td>2167</td>\n",
       "      <td>1.386931e+05</td>\n",
       "      <td>1.0</td>\n",
       "    </tr>\n",
       "    <tr>\n",
       "      <th>280</th>\n",
       "      <td>280</td>\n",
       "      <td>NJ</td>\n",
       "      <td>871 - SEPTICEMIA OR SEVERE SEPSIS W/O MV 96+ H...</td>\n",
       "      <td>7986</td>\n",
       "      <td>4.632998e+05</td>\n",
       "      <td>1.0</td>\n",
       "    </tr>\n",
       "    <tr>\n",
       "      <th>286</th>\n",
       "      <td>286</td>\n",
       "      <td>NM</td>\n",
       "      <td>470 - MAJOR JOINT REPLACEMENT OR REATTACHMENT ...</td>\n",
       "      <td>1563</td>\n",
       "      <td>1.847085e+05</td>\n",
       "      <td>1.0</td>\n",
       "    </tr>\n",
       "    <tr>\n",
       "      <th>295</th>\n",
       "      <td>295</td>\n",
       "      <td>NV</td>\n",
       "      <td>871 - SEPTICEMIA OR SEVERE SEPSIS W/O MV 96+ H...</td>\n",
       "      <td>1966</td>\n",
       "      <td>1.360681e+05</td>\n",
       "      <td>1.0</td>\n",
       "    </tr>\n",
       "    <tr>\n",
       "      <th>304</th>\n",
       "      <td>304</td>\n",
       "      <td>NY</td>\n",
       "      <td>871 - SEPTICEMIA OR SEVERE SEPSIS W/O MV 96+ H...</td>\n",
       "      <td>20801</td>\n",
       "      <td>1.549007e+06</td>\n",
       "      <td>1.0</td>\n",
       "    </tr>\n",
       "    <tr>\n",
       "      <th>318</th>\n",
       "      <td>318</td>\n",
       "      <td>OH</td>\n",
       "      <td>470 - MAJOR JOINT REPLACEMENT OR REATTACHMENT ...</td>\n",
       "      <td>9897</td>\n",
       "      <td>7.080833e+05</td>\n",
       "      <td>1.0</td>\n",
       "    </tr>\n",
       "    <tr>\n",
       "      <th>332</th>\n",
       "      <td>332</td>\n",
       "      <td>OK</td>\n",
       "      <td>470 - MAJOR JOINT REPLACEMENT OR REATTACHMENT ...</td>\n",
       "      <td>5132</td>\n",
       "      <td>2.319707e+05</td>\n",
       "      <td>1.0</td>\n",
       "    </tr>\n",
       "    <tr>\n",
       "      <th>338</th>\n",
       "      <td>338</td>\n",
       "      <td>OR</td>\n",
       "      <td>470 - MAJOR JOINT REPLACEMENT OR REATTACHMENT ...</td>\n",
       "      <td>3998</td>\n",
       "      <td>3.479947e+05</td>\n",
       "      <td>1.0</td>\n",
       "    </tr>\n",
       "    <tr>\n",
       "      <th>349</th>\n",
       "      <td>349</td>\n",
       "      <td>PA</td>\n",
       "      <td>470 - MAJOR JOINT REPLACEMENT OR REATTACHMENT ...</td>\n",
       "      <td>11973</td>\n",
       "      <td>7.221613e+05</td>\n",
       "      <td>1.0</td>\n",
       "    </tr>\n",
       "    <tr>\n",
       "      <th>357</th>\n",
       "      <td>357</td>\n",
       "      <td>RI</td>\n",
       "      <td>470 - MAJOR JOINT REPLACEMENT OR REATTACHMENT ...</td>\n",
       "      <td>861</td>\n",
       "      <td>4.339821e+04</td>\n",
       "      <td>1.0</td>\n",
       "    </tr>\n",
       "    <tr>\n",
       "      <th>369</th>\n",
       "      <td>369</td>\n",
       "      <td>SC</td>\n",
       "      <td>470 - MAJOR JOINT REPLACEMENT OR REATTACHMENT ...</td>\n",
       "      <td>5602</td>\n",
       "      <td>2.785070e+05</td>\n",
       "      <td>1.0</td>\n",
       "    </tr>\n",
       "    <tr>\n",
       "      <th>376</th>\n",
       "      <td>376</td>\n",
       "      <td>SD</td>\n",
       "      <td>470 - MAJOR JOINT REPLACEMENT OR REATTACHMENT ...</td>\n",
       "      <td>2812</td>\n",
       "      <td>1.370886e+05</td>\n",
       "      <td>1.0</td>\n",
       "    </tr>\n",
       "    <tr>\n",
       "      <th>392</th>\n",
       "      <td>392</td>\n",
       "      <td>TN</td>\n",
       "      <td>871 - SEPTICEMIA OR SEVERE SEPSIS W/O MV 96+ H...</td>\n",
       "      <td>7044</td>\n",
       "      <td>3.641020e+05</td>\n",
       "      <td>1.0</td>\n",
       "    </tr>\n",
       "    <tr>\n",
       "      <th>412</th>\n",
       "      <td>412</td>\n",
       "      <td>TX</td>\n",
       "      <td>871 - SEPTICEMIA OR SEVERE SEPSIS W/O MV 96+ H...</td>\n",
       "      <td>20261</td>\n",
       "      <td>1.398202e+06</td>\n",
       "      <td>1.0</td>\n",
       "    </tr>\n",
       "    <tr>\n",
       "      <th>418</th>\n",
       "      <td>418</td>\n",
       "      <td>UT</td>\n",
       "      <td>470 - MAJOR JOINT REPLACEMENT OR REATTACHMENT ...</td>\n",
       "      <td>3666</td>\n",
       "      <td>3.292615e+05</td>\n",
       "      <td>1.0</td>\n",
       "    </tr>\n",
       "    <tr>\n",
       "      <th>427</th>\n",
       "      <td>427</td>\n",
       "      <td>VA</td>\n",
       "      <td>871 - SEPTICEMIA OR SEVERE SEPSIS W/O MV 96+ H...</td>\n",
       "      <td>9695</td>\n",
       "      <td>5.036442e+05</td>\n",
       "      <td>1.0</td>\n",
       "    </tr>\n",
       "    <tr>\n",
       "      <th>430</th>\n",
       "      <td>430</td>\n",
       "      <td>VT</td>\n",
       "      <td>871 - SEPTICEMIA OR SEVERE SEPSIS W/O MV 96+ H...</td>\n",
       "      <td>563</td>\n",
       "      <td>4.621767e+04</td>\n",
       "      <td>1.0</td>\n",
       "    </tr>\n",
       "    <tr>\n",
       "      <th>431</th>\n",
       "      <td>431</td>\n",
       "      <td>WA</td>\n",
       "      <td>470 - MAJOR JOINT REPLACEMENT OR REATTACHMENT ...</td>\n",
       "      <td>6781</td>\n",
       "      <td>3.776543e+05</td>\n",
       "      <td>1.0</td>\n",
       "    </tr>\n",
       "    <tr>\n",
       "      <th>437</th>\n",
       "      <td>437</td>\n",
       "      <td>WI</td>\n",
       "      <td>470 - MAJOR JOINT REPLACEMENT OR REATTACHMENT ...</td>\n",
       "      <td>7180</td>\n",
       "      <td>5.595812e+05</td>\n",
       "      <td>1.0</td>\n",
       "    </tr>\n",
       "    <tr>\n",
       "      <th>447</th>\n",
       "      <td>447</td>\n",
       "      <td>WV</td>\n",
       "      <td>871 - SEPTICEMIA OR SEVERE SEPSIS W/O MV 96+ H...</td>\n",
       "      <td>1946</td>\n",
       "      <td>1.216413e+05</td>\n",
       "      <td>1.0</td>\n",
       "    </tr>\n",
       "    <tr>\n",
       "      <th>452</th>\n",
       "      <td>452</td>\n",
       "      <td>WY</td>\n",
       "      <td>871 - SEPTICEMIA OR SEVERE SEPSIS W/O MV 96+ H...</td>\n",
       "      <td>406</td>\n",
       "      <td>4.423668e+04</td>\n",
       "      <td>1.0</td>\n",
       "    </tr>\n",
       "  </tbody>\n",
       "</table>\n",
       "</div>"
      ],
      "text/plain": [
       "     index state                                             ms_drg  \\\n",
       "0        0    AK  470 - MAJOR JOINT REPLACEMENT OR REATTACHMENT ...   \n",
       "11      11    AL  470 - MAJOR JOINT REPLACEMENT OR REATTACHMENT ...   \n",
       "27      27    AR  470 - MAJOR JOINT REPLACEMENT OR REATTACHMENT ...   \n",
       "36      36    AZ  470 - MAJOR JOINT REPLACEMENT OR REATTACHMENT ...   \n",
       "53      53    CA  871 - SEPTICEMIA OR SEVERE SEPSIS W/O MV 96+ H...   \n",
       "60      60    CO  470 - MAJOR JOINT REPLACEMENT OR REATTACHMENT ...   \n",
       "65      65    CT  871 - SEPTICEMIA OR SEVERE SEPSIS W/O MV 96+ H...   \n",
       "69      69    DC  470 - MAJOR JOINT REPLACEMENT OR REATTACHMENT ...   \n",
       "72      72    DE  470 - MAJOR JOINT REPLACEMENT OR REATTACHMENT ...   \n",
       "81      81    FL  470 - MAJOR JOINT REPLACEMENT OR REATTACHMENT ...   \n",
       "96      96    GA  470 - MAJOR JOINT REPLACEMENT OR REATTACHMENT ...   \n",
       "104    104    HI  871 - SEPTICEMIA OR SEVERE SEPSIS W/O MV 96+ H...   \n",
       "106    106    IA  470 - MAJOR JOINT REPLACEMENT OR REATTACHMENT ...   \n",
       "109    109    ID  470 - MAJOR JOINT REPLACEMENT OR REATTACHMENT ...   \n",
       "119    119    IL  470 - MAJOR JOINT REPLACEMENT OR REATTACHMENT ...   \n",
       "137    137    IN  470 - MAJOR JOINT REPLACEMENT OR REATTACHMENT ...   \n",
       "146    146    KS  470 - MAJOR JOINT REPLACEMENT OR REATTACHMENT ...   \n",
       "160    160    KY  470 - MAJOR JOINT REPLACEMENT OR REATTACHMENT ...   \n",
       "179    179    LA  871 - SEPTICEMIA OR SEVERE SEPSIS W/O MV 96+ H...   \n",
       "188    188    MA  871 - SEPTICEMIA OR SEVERE SEPSIS W/O MV 96+ H...   \n",
       "194    194    MD  470 - MAJOR JOINT REPLACEMENT OR REATTACHMENT ...   \n",
       "200    200    ME  470 - MAJOR JOINT REPLACEMENT OR REATTACHMENT ...   \n",
       "211    211    MI  871 - SEPTICEMIA OR SEVERE SEPSIS W/O MV 96+ H...   \n",
       "218    218    MN  470 - MAJOR JOINT REPLACEMENT OR REATTACHMENT ...   \n",
       "228    228    MO  470 - MAJOR JOINT REPLACEMENT OR REATTACHMENT ...   \n",
       "245    245    MS  871 - SEPTICEMIA OR SEVERE SEPSIS W/O MV 96+ H...   \n",
       "249    249    MT  470 - MAJOR JOINT REPLACEMENT OR REATTACHMENT ...   \n",
       "259    259    NC  470 - MAJOR JOINT REPLACEMENT OR REATTACHMENT ...   \n",
       "265    265    ND  470 - MAJOR JOINT REPLACEMENT OR REATTACHMENT ...   \n",
       "269    269    NE  470 - MAJOR JOINT REPLACEMENT OR REATTACHMENT ...   \n",
       "272    272    NH  470 - MAJOR JOINT REPLACEMENT OR REATTACHMENT ...   \n",
       "280    280    NJ  871 - SEPTICEMIA OR SEVERE SEPSIS W/O MV 96+ H...   \n",
       "286    286    NM  470 - MAJOR JOINT REPLACEMENT OR REATTACHMENT ...   \n",
       "295    295    NV  871 - SEPTICEMIA OR SEVERE SEPSIS W/O MV 96+ H...   \n",
       "304    304    NY  871 - SEPTICEMIA OR SEVERE SEPSIS W/O MV 96+ H...   \n",
       "318    318    OH  470 - MAJOR JOINT REPLACEMENT OR REATTACHMENT ...   \n",
       "332    332    OK  470 - MAJOR JOINT REPLACEMENT OR REATTACHMENT ...   \n",
       "338    338    OR  470 - MAJOR JOINT REPLACEMENT OR REATTACHMENT ...   \n",
       "349    349    PA  470 - MAJOR JOINT REPLACEMENT OR REATTACHMENT ...   \n",
       "357    357    RI  470 - MAJOR JOINT REPLACEMENT OR REATTACHMENT ...   \n",
       "369    369    SC  470 - MAJOR JOINT REPLACEMENT OR REATTACHMENT ...   \n",
       "376    376    SD  470 - MAJOR JOINT REPLACEMENT OR REATTACHMENT ...   \n",
       "392    392    TN  871 - SEPTICEMIA OR SEVERE SEPSIS W/O MV 96+ H...   \n",
       "412    412    TX  871 - SEPTICEMIA OR SEVERE SEPSIS W/O MV 96+ H...   \n",
       "418    418    UT  470 - MAJOR JOINT REPLACEMENT OR REATTACHMENT ...   \n",
       "427    427    VA  871 - SEPTICEMIA OR SEVERE SEPSIS W/O MV 96+ H...   \n",
       "430    430    VT  871 - SEPTICEMIA OR SEVERE SEPSIS W/O MV 96+ H...   \n",
       "431    431    WA  470 - MAJOR JOINT REPLACEMENT OR REATTACHMENT ...   \n",
       "437    437    WI  470 - MAJOR JOINT REPLACEMENT OR REATTACHMENT ...   \n",
       "447    447    WV  871 - SEPTICEMIA OR SEVERE SEPSIS W/O MV 96+ H...   \n",
       "452    452    WY  871 - SEPTICEMIA OR SEVERE SEPSIS W/O MV 96+ H...   \n",
       "\n",
       "     total_discharges  average_total_payments  rank_by_ms_drg  \n",
       "0                 725            1.031060e+05             1.0  \n",
       "11               7235            2.855679e+05             1.0  \n",
       "27               3491            1.386440e+05             1.0  \n",
       "36               8419            4.234054e+05             1.0  \n",
       "53              33592            3.089695e+06             1.0  \n",
       "60               6499            4.895257e+05             1.0  \n",
       "65               5112            3.062204e+05             1.0  \n",
       "69                838            3.440614e+04             1.0  \n",
       "72               1745            2.991321e+04             1.0  \n",
       "81              20719            8.710640e+05             1.0  \n",
       "96               7618            4.481273e+05             1.0  \n",
       "104              1316            1.379021e+05             1.0  \n",
       "106              5550            2.731214e+05             1.0  \n",
       "109              2259            1.310169e+05             1.0  \n",
       "119             13718            6.304715e+05             1.0  \n",
       "137              7392            4.633022e+05             1.0  \n",
       "146              4916            3.289719e+05             1.0  \n",
       "160              4741            2.181561e+05             1.0  \n",
       "179              3479            2.660054e+05             1.0  \n",
       "188              7367            4.050410e+05             1.0  \n",
       "194              6509            3.095638e+05             1.0  \n",
       "200              1965            1.344854e+05             1.0  \n",
       "211             14103            6.251192e+05             1.0  \n",
       "218              9801            5.616158e+05             1.0  \n",
       "228              8612            4.222329e+05             1.0  \n",
       "245              3725            2.064176e+05             1.0  \n",
       "249              1895            1.246374e+05             1.0  \n",
       "259             10830            4.317209e+05             1.0  \n",
       "265              1833            6.940733e+04             1.0  \n",
       "269              3632            2.109101e+05             1.0  \n",
       "272              2167            1.386931e+05             1.0  \n",
       "280              7986            4.632998e+05             1.0  \n",
       "286              1563            1.847085e+05             1.0  \n",
       "295              1966            1.360681e+05             1.0  \n",
       "304             20801            1.549007e+06             1.0  \n",
       "318              9897            7.080833e+05             1.0  \n",
       "332              5132            2.319707e+05             1.0  \n",
       "338              3998            3.479947e+05             1.0  \n",
       "349             11973            7.221613e+05             1.0  \n",
       "357               861            4.339821e+04             1.0  \n",
       "369              5602            2.785070e+05             1.0  \n",
       "376              2812            1.370886e+05             1.0  \n",
       "392              7044            3.641020e+05             1.0  \n",
       "412             20261            1.398202e+06             1.0  \n",
       "418              3666            3.292615e+05             1.0  \n",
       "427              9695            5.036442e+05             1.0  \n",
       "430               563            4.621767e+04             1.0  \n",
       "431              6781            3.776543e+05             1.0  \n",
       "437              7180            5.595812e+05             1.0  \n",
       "447              1946            1.216413e+05             1.0  \n",
       "452               406            4.423668e+04             1.0  "
      ]
     },
     "execution_count": 1140,
     "metadata": {},
     "output_type": "execute_result"
    }
   ],
   "source": [
    "most_common_state_ms_drg = temp_df.loc[temp_df['rank_by_ms_drg'] == 1.0]\n",
    "most_common_state_ms_drg"
   ]
  },
  {
   "cell_type": "markdown",
   "metadata": {
    "hidden": true
   },
   "source": [
    "While the US has a top N, there are two codes (470 and 871) that clearly dominate. "
   ]
  },
  {
   "cell_type": "code",
   "execution_count": 1141,
   "metadata": {
    "ExecuteTime": {
     "end_time": "2021-07-03T04:34:39.361130Z",
     "start_time": "2021-07-03T04:34:39.327535Z"
    },
    "hidden": true
   },
   "outputs": [
    {
     "name": "stdout",
     "output_type": "stream",
     "text": [
      "{'470 - MAJOR JOINT REPLACEMENT OR REATTACHMENT OF LOWER EXTREMITY W/O MCC': 35, '871 - SEPTICEMIA OR SEVERE SEPSIS W/O MV 96+ HOURS W MCC': 16}\n"
     ]
    }
   ],
   "source": [
    "#  Getting a count of states \n",
    "df = most_common_state_ms_drg\n",
    "category = 'ms_drg'\n",
    "N = 2\n",
    "most_common(df, category, N, groupby=None, counter=True)"
   ]
  },
  {
   "cell_type": "markdown",
   "metadata": {
    "hidden": true
   },
   "source": [
    "Nearly 70% of US states (including DC) have Code 470 as the top most common MS-DRG. Next we'll map this geographically to see if there are any regional trends."
   ]
  },
  {
   "cell_type": "markdown",
   "metadata": {
    "ExecuteTime": {
     "end_time": "2021-07-02T22:18:33.706589Z",
     "start_time": "2021-07-02T22:18:33.683984Z"
    },
    "heading_collapsed": true,
    "hidden": true
   },
   "source": [
    "##### Map: Most common by state"
   ]
  },
  {
   "cell_type": "code",
   "execution_count": 1142,
   "metadata": {
    "ExecuteTime": {
     "end_time": "2021-07-03T04:36:05.226542Z",
     "start_time": "2021-07-03T04:36:04.493214Z"
    },
    "hidden": true
   },
   "outputs": [
    {
     "data": {
      "application/vnd.plotly.v1+json": {
       "config": {
        "plotlyServerURL": "https://plotly.com"
       },
       "data": [
        {
         "colorscale": [
          [
           0,
           "#636efa"
          ],
          [
           1,
           "#636efa"
          ]
         ],
         "customdata": [
          [
           "470 - MAJOR JOINT REPLACEMENT OR REATTACHMENT OF LOWER EXTREMITY W/O MCC",
           "AK",
           725,
           103106.01212999999
          ],
          [
           "470 - MAJOR JOINT REPLACEMENT OR REATTACHMENT OF LOWER EXTREMITY W/O MCC",
           "AL",
           7235,
           285567.86416000006
          ],
          [
           "470 - MAJOR JOINT REPLACEMENT OR REATTACHMENT OF LOWER EXTREMITY W/O MCC",
           "AR",
           3491,
           138644.04703000002
          ],
          [
           "470 - MAJOR JOINT REPLACEMENT OR REATTACHMENT OF LOWER EXTREMITY W/O MCC",
           "AZ",
           8419,
           423405.4098200001
          ],
          [
           "470 - MAJOR JOINT REPLACEMENT OR REATTACHMENT OF LOWER EXTREMITY W/O MCC",
           "CO",
           6499,
           489525.68425000005
          ],
          [
           "470 - MAJOR JOINT REPLACEMENT OR REATTACHMENT OF LOWER EXTREMITY W/O MCC",
           "DC",
           838,
           34406.14448
          ],
          [
           "470 - MAJOR JOINT REPLACEMENT OR REATTACHMENT OF LOWER EXTREMITY W/O MCC",
           "DE",
           1745,
           29913.210769999998
          ],
          [
           "470 - MAJOR JOINT REPLACEMENT OR REATTACHMENT OF LOWER EXTREMITY W/O MCC",
           "FL",
           20719,
           871063.9722399999
          ],
          [
           "470 - MAJOR JOINT REPLACEMENT OR REATTACHMENT OF LOWER EXTREMITY W/O MCC",
           "GA",
           7618,
           448127.33999999997
          ],
          [
           "470 - MAJOR JOINT REPLACEMENT OR REATTACHMENT OF LOWER EXTREMITY W/O MCC",
           "IA",
           5550,
           273121.3693
          ],
          [
           "470 - MAJOR JOINT REPLACEMENT OR REATTACHMENT OF LOWER EXTREMITY W/O MCC",
           "ID",
           2259,
           131016.89707
          ],
          [
           "470 - MAJOR JOINT REPLACEMENT OR REATTACHMENT OF LOWER EXTREMITY W/O MCC",
           "IL",
           13718,
           630471.5003600002
          ],
          [
           "470 - MAJOR JOINT REPLACEMENT OR REATTACHMENT OF LOWER EXTREMITY W/O MCC",
           "IN",
           7392,
           463302.1561500001
          ],
          [
           "470 - MAJOR JOINT REPLACEMENT OR REATTACHMENT OF LOWER EXTREMITY W/O MCC",
           "KS",
           4916,
           328971.89362
          ],
          [
           "470 - MAJOR JOINT REPLACEMENT OR REATTACHMENT OF LOWER EXTREMITY W/O MCC",
           "KY",
           4741,
           218156.05357999995
          ],
          [
           "470 - MAJOR JOINT REPLACEMENT OR REATTACHMENT OF LOWER EXTREMITY W/O MCC",
           "MD",
           6509,
           309563.82742
          ],
          [
           "470 - MAJOR JOINT REPLACEMENT OR REATTACHMENT OF LOWER EXTREMITY W/O MCC",
           "ME",
           1965,
           134485.41364
          ],
          [
           "470 - MAJOR JOINT REPLACEMENT OR REATTACHMENT OF LOWER EXTREMITY W/O MCC",
           "MN",
           9801,
           561615.7845900002
          ],
          [
           "470 - MAJOR JOINT REPLACEMENT OR REATTACHMENT OF LOWER EXTREMITY W/O MCC",
           "MO",
           8612,
           422232.90802999993
          ],
          [
           "470 - MAJOR JOINT REPLACEMENT OR REATTACHMENT OF LOWER EXTREMITY W/O MCC",
           "MT",
           1895,
           124637.41837
          ],
          [
           "470 - MAJOR JOINT REPLACEMENT OR REATTACHMENT OF LOWER EXTREMITY W/O MCC",
           "NC",
           10830,
           431720.8710400001
          ],
          [
           "470 - MAJOR JOINT REPLACEMENT OR REATTACHMENT OF LOWER EXTREMITY W/O MCC",
           "ND",
           1833,
           69407.32988
          ],
          [
           "470 - MAJOR JOINT REPLACEMENT OR REATTACHMENT OF LOWER EXTREMITY W/O MCC",
           "NE",
           3632,
           210910.10902
          ],
          [
           "470 - MAJOR JOINT REPLACEMENT OR REATTACHMENT OF LOWER EXTREMITY W/O MCC",
           "NH",
           2167,
           138693.13887
          ],
          [
           "470 - MAJOR JOINT REPLACEMENT OR REATTACHMENT OF LOWER EXTREMITY W/O MCC",
           "NM",
           1563,
           184708.45092000003
          ],
          [
           "470 - MAJOR JOINT REPLACEMENT OR REATTACHMENT OF LOWER EXTREMITY W/O MCC",
           "OH",
           9897,
           708083.26818
          ],
          [
           "470 - MAJOR JOINT REPLACEMENT OR REATTACHMENT OF LOWER EXTREMITY W/O MCC",
           "OK",
           5132,
           231970.717
          ],
          [
           "470 - MAJOR JOINT REPLACEMENT OR REATTACHMENT OF LOWER EXTREMITY W/O MCC",
           "OR",
           3998,
           347994.68136
          ],
          [
           "470 - MAJOR JOINT REPLACEMENT OR REATTACHMENT OF LOWER EXTREMITY W/O MCC",
           "PA",
           11973,
           722161.3246200001
          ],
          [
           "470 - MAJOR JOINT REPLACEMENT OR REATTACHMENT OF LOWER EXTREMITY W/O MCC",
           "RI",
           861,
           43398.211110000004
          ],
          [
           "470 - MAJOR JOINT REPLACEMENT OR REATTACHMENT OF LOWER EXTREMITY W/O MCC",
           "SC",
           5602,
           278507.04283
          ],
          [
           "470 - MAJOR JOINT REPLACEMENT OR REATTACHMENT OF LOWER EXTREMITY W/O MCC",
           "SD",
           2812,
           137088.59623
          ],
          [
           "470 - MAJOR JOINT REPLACEMENT OR REATTACHMENT OF LOWER EXTREMITY W/O MCC",
           "UT",
           3666,
           329261.4915799999
          ],
          [
           "470 - MAJOR JOINT REPLACEMENT OR REATTACHMENT OF LOWER EXTREMITY W/O MCC",
           "WA",
           6781,
           377654.31703999994
          ],
          [
           "470 - MAJOR JOINT REPLACEMENT OR REATTACHMENT OF LOWER EXTREMITY W/O MCC",
           "WI",
           7180,
           559581.2195700001
          ]
         ],
         "geo": "geo",
         "hovertemplate": "<b>%{hovertext}</b><br><br>ms_drg=%{customdata[0]}<br>state=%{customdata[1]}<br>total_discharges=%{customdata[2]}<br>average_total_payments=%{customdata[3]}<extra></extra>",
         "hovertext": [
          "AK",
          "AL",
          "AR",
          "AZ",
          "CO",
          "DC",
          "DE",
          "FL",
          "GA",
          "IA",
          "ID",
          "IL",
          "IN",
          "KS",
          "KY",
          "MD",
          "ME",
          "MN",
          "MO",
          "MT",
          "NC",
          "ND",
          "NE",
          "NH",
          "NM",
          "OH",
          "OK",
          "OR",
          "PA",
          "RI",
          "SC",
          "SD",
          "UT",
          "WA",
          "WI"
         ],
         "locationmode": "USA-states",
         "locations": [
          "AK",
          "AL",
          "AR",
          "AZ",
          "CO",
          "DC",
          "DE",
          "FL",
          "GA",
          "IA",
          "ID",
          "IL",
          "IN",
          "KS",
          "KY",
          "MD",
          "ME",
          "MN",
          "MO",
          "MT",
          "NC",
          "ND",
          "NE",
          "NH",
          "NM",
          "OH",
          "OK",
          "OR",
          "PA",
          "RI",
          "SC",
          "SD",
          "UT",
          "WA",
          "WI"
         ],
         "name": "470 - MAJOR JOINT REPLACEMENT OR REATTACHMENT OF LOWER EXTREMITY W/O MCC",
         "showlegend": true,
         "showscale": false,
         "type": "choropleth",
         "z": [
          1,
          1,
          1,
          1,
          1,
          1,
          1,
          1,
          1,
          1,
          1,
          1,
          1,
          1,
          1,
          1,
          1,
          1,
          1,
          1,
          1,
          1,
          1,
          1,
          1,
          1,
          1,
          1,
          1,
          1,
          1,
          1,
          1,
          1,
          1
         ]
        },
        {
         "colorscale": [
          [
           0,
           "#EF553B"
          ],
          [
           1,
           "#EF553B"
          ]
         ],
         "customdata": [
          [
           "871 - SEPTICEMIA OR SEVERE SEPSIS W/O MV 96+ HOURS W MCC",
           "CA",
           33592,
           3089694.9345700005
          ],
          [
           "871 - SEPTICEMIA OR SEVERE SEPSIS W/O MV 96+ HOURS W MCC",
           "CT",
           5112,
           306220.37646
          ],
          [
           "871 - SEPTICEMIA OR SEVERE SEPSIS W/O MV 96+ HOURS W MCC",
           "HI",
           1316,
           137902.12807
          ],
          [
           "871 - SEPTICEMIA OR SEVERE SEPSIS W/O MV 96+ HOURS W MCC",
           "LA",
           3479,
           266005.418016
          ],
          [
           "871 - SEPTICEMIA OR SEVERE SEPSIS W/O MV 96+ HOURS W MCC",
           "MA",
           7367,
           405040.99118
          ],
          [
           "871 - SEPTICEMIA OR SEVERE SEPSIS W/O MV 96+ HOURS W MCC",
           "MI",
           14103,
           625119.2433099999
          ],
          [
           "871 - SEPTICEMIA OR SEVERE SEPSIS W/O MV 96+ HOURS W MCC",
           "MS",
           3725,
           206417.56999099994
          ],
          [
           "871 - SEPTICEMIA OR SEVERE SEPSIS W/O MV 96+ HOURS W MCC",
           "NJ",
           7986,
           463299.75167999987
          ],
          [
           "871 - SEPTICEMIA OR SEVERE SEPSIS W/O MV 96+ HOURS W MCC",
           "NV",
           1966,
           136068.13895
          ],
          [
           "871 - SEPTICEMIA OR SEVERE SEPSIS W/O MV 96+ HOURS W MCC",
           "NY",
           20801,
           1549006.6774549999
          ],
          [
           "871 - SEPTICEMIA OR SEVERE SEPSIS W/O MV 96+ HOURS W MCC",
           "TN",
           7044,
           364101.9646579999
          ],
          [
           "871 - SEPTICEMIA OR SEVERE SEPSIS W/O MV 96+ HOURS W MCC",
           "TX",
           20261,
           1398202.4900100003
          ],
          [
           "871 - SEPTICEMIA OR SEVERE SEPSIS W/O MV 96+ HOURS W MCC",
           "VA",
           9695,
           503644.2412829999
          ],
          [
           "871 - SEPTICEMIA OR SEVERE SEPSIS W/O MV 96+ HOURS W MCC",
           "VT",
           563,
           46217.67457
          ],
          [
           "871 - SEPTICEMIA OR SEVERE SEPSIS W/O MV 96+ HOURS W MCC",
           "WV",
           1946,
           121641.28902999999
          ],
          [
           "871 - SEPTICEMIA OR SEVERE SEPSIS W/O MV 96+ HOURS W MCC",
           "WY",
           406,
           44236.68311
          ]
         ],
         "geo": "geo",
         "hovertemplate": "<b>%{hovertext}</b><br><br>ms_drg=%{customdata[0]}<br>state=%{customdata[1]}<br>total_discharges=%{customdata[2]}<br>average_total_payments=%{customdata[3]}<extra></extra>",
         "hovertext": [
          "CA",
          "CT",
          "HI",
          "LA",
          "MA",
          "MI",
          "MS",
          "NJ",
          "NV",
          "NY",
          "TN",
          "TX",
          "VA",
          "VT",
          "WV",
          "WY"
         ],
         "locationmode": "USA-states",
         "locations": [
          "CA",
          "CT",
          "HI",
          "LA",
          "MA",
          "MI",
          "MS",
          "NJ",
          "NV",
          "NY",
          "TN",
          "TX",
          "VA",
          "VT",
          "WV",
          "WY"
         ],
         "name": "871 - SEPTICEMIA OR SEVERE SEPSIS W/O MV 96+ HOURS W MCC",
         "showlegend": true,
         "showscale": false,
         "type": "choropleth",
         "z": [
          1,
          1,
          1,
          1,
          1,
          1,
          1,
          1,
          1,
          1,
          1,
          1,
          1,
          1,
          1,
          1
         ]
        }
       ],
       "layout": {
        "geo": {
         "center": {},
         "domain": {
          "x": [
           0,
           1
          ],
          "y": [
           0,
           1
          ]
         },
         "projection": {
          "type": "natural earth"
         },
         "scope": "world"
        },
        "height": 300,
        "legend": {
         "bgcolor": "white",
         "bordercolor": "white",
         "borderwidth": 2,
         "font": {
          "color": "black",
          "family": "Courier",
          "size": 9
         },
         "title": {},
         "tracegroupgap": 0,
         "traceorder": "reversed",
         "x": 1,
         "y": 0.5
        },
        "margin": {
         "b": 20,
         "l": 0,
         "r": 0,
         "t": 40
        },
        "template": {
         "data": {
          "bar": [
           {
            "error_x": {
             "color": "#2a3f5f"
            },
            "error_y": {
             "color": "#2a3f5f"
            },
            "marker": {
             "line": {
              "color": "#E5ECF6",
              "width": 0.5
             },
             "pattern": {
              "fillmode": "overlay",
              "size": 10,
              "solidity": 0.2
             }
            },
            "type": "bar"
           }
          ],
          "barpolar": [
           {
            "marker": {
             "line": {
              "color": "#E5ECF6",
              "width": 0.5
             },
             "pattern": {
              "fillmode": "overlay",
              "size": 10,
              "solidity": 0.2
             }
            },
            "type": "barpolar"
           }
          ],
          "carpet": [
           {
            "aaxis": {
             "endlinecolor": "#2a3f5f",
             "gridcolor": "white",
             "linecolor": "white",
             "minorgridcolor": "white",
             "startlinecolor": "#2a3f5f"
            },
            "baxis": {
             "endlinecolor": "#2a3f5f",
             "gridcolor": "white",
             "linecolor": "white",
             "minorgridcolor": "white",
             "startlinecolor": "#2a3f5f"
            },
            "type": "carpet"
           }
          ],
          "choropleth": [
           {
            "colorbar": {
             "outlinewidth": 0,
             "ticks": ""
            },
            "type": "choropleth"
           }
          ],
          "contour": [
           {
            "colorbar": {
             "outlinewidth": 0,
             "ticks": ""
            },
            "colorscale": [
             [
              0,
              "#0d0887"
             ],
             [
              0.1111111111111111,
              "#46039f"
             ],
             [
              0.2222222222222222,
              "#7201a8"
             ],
             [
              0.3333333333333333,
              "#9c179e"
             ],
             [
              0.4444444444444444,
              "#bd3786"
             ],
             [
              0.5555555555555556,
              "#d8576b"
             ],
             [
              0.6666666666666666,
              "#ed7953"
             ],
             [
              0.7777777777777778,
              "#fb9f3a"
             ],
             [
              0.8888888888888888,
              "#fdca26"
             ],
             [
              1,
              "#f0f921"
             ]
            ],
            "type": "contour"
           }
          ],
          "contourcarpet": [
           {
            "colorbar": {
             "outlinewidth": 0,
             "ticks": ""
            },
            "type": "contourcarpet"
           }
          ],
          "heatmap": [
           {
            "colorbar": {
             "outlinewidth": 0,
             "ticks": ""
            },
            "colorscale": [
             [
              0,
              "#0d0887"
             ],
             [
              0.1111111111111111,
              "#46039f"
             ],
             [
              0.2222222222222222,
              "#7201a8"
             ],
             [
              0.3333333333333333,
              "#9c179e"
             ],
             [
              0.4444444444444444,
              "#bd3786"
             ],
             [
              0.5555555555555556,
              "#d8576b"
             ],
             [
              0.6666666666666666,
              "#ed7953"
             ],
             [
              0.7777777777777778,
              "#fb9f3a"
             ],
             [
              0.8888888888888888,
              "#fdca26"
             ],
             [
              1,
              "#f0f921"
             ]
            ],
            "type": "heatmap"
           }
          ],
          "heatmapgl": [
           {
            "colorbar": {
             "outlinewidth": 0,
             "ticks": ""
            },
            "colorscale": [
             [
              0,
              "#0d0887"
             ],
             [
              0.1111111111111111,
              "#46039f"
             ],
             [
              0.2222222222222222,
              "#7201a8"
             ],
             [
              0.3333333333333333,
              "#9c179e"
             ],
             [
              0.4444444444444444,
              "#bd3786"
             ],
             [
              0.5555555555555556,
              "#d8576b"
             ],
             [
              0.6666666666666666,
              "#ed7953"
             ],
             [
              0.7777777777777778,
              "#fb9f3a"
             ],
             [
              0.8888888888888888,
              "#fdca26"
             ],
             [
              1,
              "#f0f921"
             ]
            ],
            "type": "heatmapgl"
           }
          ],
          "histogram": [
           {
            "marker": {
             "pattern": {
              "fillmode": "overlay",
              "size": 10,
              "solidity": 0.2
             }
            },
            "type": "histogram"
           }
          ],
          "histogram2d": [
           {
            "colorbar": {
             "outlinewidth": 0,
             "ticks": ""
            },
            "colorscale": [
             [
              0,
              "#0d0887"
             ],
             [
              0.1111111111111111,
              "#46039f"
             ],
             [
              0.2222222222222222,
              "#7201a8"
             ],
             [
              0.3333333333333333,
              "#9c179e"
             ],
             [
              0.4444444444444444,
              "#bd3786"
             ],
             [
              0.5555555555555556,
              "#d8576b"
             ],
             [
              0.6666666666666666,
              "#ed7953"
             ],
             [
              0.7777777777777778,
              "#fb9f3a"
             ],
             [
              0.8888888888888888,
              "#fdca26"
             ],
             [
              1,
              "#f0f921"
             ]
            ],
            "type": "histogram2d"
           }
          ],
          "histogram2dcontour": [
           {
            "colorbar": {
             "outlinewidth": 0,
             "ticks": ""
            },
            "colorscale": [
             [
              0,
              "#0d0887"
             ],
             [
              0.1111111111111111,
              "#46039f"
             ],
             [
              0.2222222222222222,
              "#7201a8"
             ],
             [
              0.3333333333333333,
              "#9c179e"
             ],
             [
              0.4444444444444444,
              "#bd3786"
             ],
             [
              0.5555555555555556,
              "#d8576b"
             ],
             [
              0.6666666666666666,
              "#ed7953"
             ],
             [
              0.7777777777777778,
              "#fb9f3a"
             ],
             [
              0.8888888888888888,
              "#fdca26"
             ],
             [
              1,
              "#f0f921"
             ]
            ],
            "type": "histogram2dcontour"
           }
          ],
          "mesh3d": [
           {
            "colorbar": {
             "outlinewidth": 0,
             "ticks": ""
            },
            "type": "mesh3d"
           }
          ],
          "parcoords": [
           {
            "line": {
             "colorbar": {
              "outlinewidth": 0,
              "ticks": ""
             }
            },
            "type": "parcoords"
           }
          ],
          "pie": [
           {
            "automargin": true,
            "type": "pie"
           }
          ],
          "scatter": [
           {
            "marker": {
             "colorbar": {
              "outlinewidth": 0,
              "ticks": ""
             }
            },
            "type": "scatter"
           }
          ],
          "scatter3d": [
           {
            "line": {
             "colorbar": {
              "outlinewidth": 0,
              "ticks": ""
             }
            },
            "marker": {
             "colorbar": {
              "outlinewidth": 0,
              "ticks": ""
             }
            },
            "type": "scatter3d"
           }
          ],
          "scattercarpet": [
           {
            "marker": {
             "colorbar": {
              "outlinewidth": 0,
              "ticks": ""
             }
            },
            "type": "scattercarpet"
           }
          ],
          "scattergeo": [
           {
            "marker": {
             "colorbar": {
              "outlinewidth": 0,
              "ticks": ""
             }
            },
            "type": "scattergeo"
           }
          ],
          "scattergl": [
           {
            "marker": {
             "colorbar": {
              "outlinewidth": 0,
              "ticks": ""
             }
            },
            "type": "scattergl"
           }
          ],
          "scattermapbox": [
           {
            "marker": {
             "colorbar": {
              "outlinewidth": 0,
              "ticks": ""
             }
            },
            "type": "scattermapbox"
           }
          ],
          "scatterpolar": [
           {
            "marker": {
             "colorbar": {
              "outlinewidth": 0,
              "ticks": ""
             }
            },
            "type": "scatterpolar"
           }
          ],
          "scatterpolargl": [
           {
            "marker": {
             "colorbar": {
              "outlinewidth": 0,
              "ticks": ""
             }
            },
            "type": "scatterpolargl"
           }
          ],
          "scatterternary": [
           {
            "marker": {
             "colorbar": {
              "outlinewidth": 0,
              "ticks": ""
             }
            },
            "type": "scatterternary"
           }
          ],
          "surface": [
           {
            "colorbar": {
             "outlinewidth": 0,
             "ticks": ""
            },
            "colorscale": [
             [
              0,
              "#0d0887"
             ],
             [
              0.1111111111111111,
              "#46039f"
             ],
             [
              0.2222222222222222,
              "#7201a8"
             ],
             [
              0.3333333333333333,
              "#9c179e"
             ],
             [
              0.4444444444444444,
              "#bd3786"
             ],
             [
              0.5555555555555556,
              "#d8576b"
             ],
             [
              0.6666666666666666,
              "#ed7953"
             ],
             [
              0.7777777777777778,
              "#fb9f3a"
             ],
             [
              0.8888888888888888,
              "#fdca26"
             ],
             [
              1,
              "#f0f921"
             ]
            ],
            "type": "surface"
           }
          ],
          "table": [
           {
            "cells": {
             "fill": {
              "color": "#EBF0F8"
             },
             "line": {
              "color": "white"
             }
            },
            "header": {
             "fill": {
              "color": "#C8D4E3"
             },
             "line": {
              "color": "white"
             }
            },
            "type": "table"
           }
          ]
         },
         "layout": {
          "annotationdefaults": {
           "arrowcolor": "#2a3f5f",
           "arrowhead": 0,
           "arrowwidth": 1
          },
          "autotypenumbers": "strict",
          "coloraxis": {
           "colorbar": {
            "outlinewidth": 0,
            "ticks": ""
           }
          },
          "colorscale": {
           "diverging": [
            [
             0,
             "#8e0152"
            ],
            [
             0.1,
             "#c51b7d"
            ],
            [
             0.2,
             "#de77ae"
            ],
            [
             0.3,
             "#f1b6da"
            ],
            [
             0.4,
             "#fde0ef"
            ],
            [
             0.5,
             "#f7f7f7"
            ],
            [
             0.6,
             "#e6f5d0"
            ],
            [
             0.7,
             "#b8e186"
            ],
            [
             0.8,
             "#7fbc41"
            ],
            [
             0.9,
             "#4d9221"
            ],
            [
             1,
             "#276419"
            ]
           ],
           "sequential": [
            [
             0,
             "#0d0887"
            ],
            [
             0.1111111111111111,
             "#46039f"
            ],
            [
             0.2222222222222222,
             "#7201a8"
            ],
            [
             0.3333333333333333,
             "#9c179e"
            ],
            [
             0.4444444444444444,
             "#bd3786"
            ],
            [
             0.5555555555555556,
             "#d8576b"
            ],
            [
             0.6666666666666666,
             "#ed7953"
            ],
            [
             0.7777777777777778,
             "#fb9f3a"
            ],
            [
             0.8888888888888888,
             "#fdca26"
            ],
            [
             1,
             "#f0f921"
            ]
           ],
           "sequentialminus": [
            [
             0,
             "#0d0887"
            ],
            [
             0.1111111111111111,
             "#46039f"
            ],
            [
             0.2222222222222222,
             "#7201a8"
            ],
            [
             0.3333333333333333,
             "#9c179e"
            ],
            [
             0.4444444444444444,
             "#bd3786"
            ],
            [
             0.5555555555555556,
             "#d8576b"
            ],
            [
             0.6666666666666666,
             "#ed7953"
            ],
            [
             0.7777777777777778,
             "#fb9f3a"
            ],
            [
             0.8888888888888888,
             "#fdca26"
            ],
            [
             1,
             "#f0f921"
            ]
           ]
          },
          "colorway": [
           "#636efa",
           "#EF553B",
           "#00cc96",
           "#ab63fa",
           "#FFA15A",
           "#19d3f3",
           "#FF6692",
           "#B6E880",
           "#FF97FF",
           "#FECB52"
          ],
          "font": {
           "color": "#2a3f5f"
          },
          "geo": {
           "bgcolor": "white",
           "lakecolor": "white",
           "landcolor": "#E5ECF6",
           "showlakes": true,
           "showland": true,
           "subunitcolor": "white"
          },
          "hoverlabel": {
           "align": "left"
          },
          "hovermode": "closest",
          "mapbox": {
           "style": "light"
          },
          "paper_bgcolor": "white",
          "plot_bgcolor": "#E5ECF6",
          "polar": {
           "angularaxis": {
            "gridcolor": "white",
            "linecolor": "white",
            "ticks": ""
           },
           "bgcolor": "#E5ECF6",
           "radialaxis": {
            "gridcolor": "white",
            "linecolor": "white",
            "ticks": ""
           }
          },
          "scene": {
           "xaxis": {
            "backgroundcolor": "#E5ECF6",
            "gridcolor": "white",
            "gridwidth": 2,
            "linecolor": "white",
            "showbackground": true,
            "ticks": "",
            "zerolinecolor": "white"
           },
           "yaxis": {
            "backgroundcolor": "#E5ECF6",
            "gridcolor": "white",
            "gridwidth": 2,
            "linecolor": "white",
            "showbackground": true,
            "ticks": "",
            "zerolinecolor": "white"
           },
           "zaxis": {
            "backgroundcolor": "#E5ECF6",
            "gridcolor": "white",
            "gridwidth": 2,
            "linecolor": "white",
            "showbackground": true,
            "ticks": "",
            "zerolinecolor": "white"
           }
          },
          "shapedefaults": {
           "line": {
            "color": "#2a3f5f"
           }
          },
          "ternary": {
           "aaxis": {
            "gridcolor": "white",
            "linecolor": "white",
            "ticks": ""
           },
           "baxis": {
            "gridcolor": "white",
            "linecolor": "white",
            "ticks": ""
           },
           "bgcolor": "#E5ECF6",
           "caxis": {
            "gridcolor": "white",
            "linecolor": "white",
            "ticks": ""
           }
          },
          "title": {
           "x": 0.05
          },
          "xaxis": {
           "automargin": true,
           "gridcolor": "white",
           "linecolor": "white",
           "ticks": "",
           "title": {
            "standoff": 15
           },
           "zerolinecolor": "white",
           "zerolinewidth": 2
          },
          "yaxis": {
           "automargin": true,
           "gridcolor": "white",
           "linecolor": "white",
           "ticks": "",
           "title": {
            "standoff": 15
           },
           "zerolinecolor": "white",
           "zerolinewidth": 2
          }
         }
        },
        "title": {
         "font": {
          "color": "black",
          "family": "Courier",
          "size": 20
         },
         "text": "Most common MS-DRG per state (US, 2014)"
        }
       }
      },
      "text/html": [
       "<div>                            <div id=\"26dc7c69-621d-42e8-be78-53f81a93d12a\" class=\"plotly-graph-div\" style=\"height:300px; width:100%;\"></div>            <script type=\"text/javascript\">                require([\"plotly\"], function(Plotly) {                    window.PLOTLYENV=window.PLOTLYENV || {};                                    if (document.getElementById(\"26dc7c69-621d-42e8-be78-53f81a93d12a\")) {                    Plotly.newPlot(                        \"26dc7c69-621d-42e8-be78-53f81a93d12a\",                        [{\"colorscale\":[[0.0,\"#636efa\"],[1.0,\"#636efa\"]],\"customdata\":[[\"470 - MAJOR JOINT REPLACEMENT OR REATTACHMENT OF LOWER EXTREMITY W/O MCC\",\"AK\",725,103106.01212999999],[\"470 - MAJOR JOINT REPLACEMENT OR REATTACHMENT OF LOWER EXTREMITY W/O MCC\",\"AL\",7235,285567.86416000006],[\"470 - MAJOR JOINT REPLACEMENT OR REATTACHMENT OF LOWER EXTREMITY W/O MCC\",\"AR\",3491,138644.04703000002],[\"470 - MAJOR JOINT REPLACEMENT OR REATTACHMENT OF LOWER EXTREMITY W/O MCC\",\"AZ\",8419,423405.4098200001],[\"470 - MAJOR JOINT REPLACEMENT OR REATTACHMENT OF LOWER EXTREMITY W/O MCC\",\"CO\",6499,489525.68425000005],[\"470 - MAJOR JOINT REPLACEMENT OR REATTACHMENT OF LOWER EXTREMITY W/O MCC\",\"DC\",838,34406.14448],[\"470 - MAJOR JOINT REPLACEMENT OR REATTACHMENT OF LOWER EXTREMITY W/O MCC\",\"DE\",1745,29913.210769999998],[\"470 - MAJOR JOINT REPLACEMENT OR REATTACHMENT OF LOWER EXTREMITY W/O MCC\",\"FL\",20719,871063.9722399999],[\"470 - MAJOR JOINT REPLACEMENT OR REATTACHMENT OF LOWER EXTREMITY W/O MCC\",\"GA\",7618,448127.33999999997],[\"470 - MAJOR JOINT REPLACEMENT OR REATTACHMENT OF LOWER EXTREMITY W/O MCC\",\"IA\",5550,273121.3693],[\"470 - MAJOR JOINT REPLACEMENT OR REATTACHMENT OF LOWER EXTREMITY W/O MCC\",\"ID\",2259,131016.89707],[\"470 - MAJOR JOINT REPLACEMENT OR REATTACHMENT OF LOWER EXTREMITY W/O MCC\",\"IL\",13718,630471.5003600002],[\"470 - MAJOR JOINT REPLACEMENT OR REATTACHMENT OF LOWER EXTREMITY W/O MCC\",\"IN\",7392,463302.1561500001],[\"470 - MAJOR JOINT REPLACEMENT OR REATTACHMENT OF LOWER EXTREMITY W/O MCC\",\"KS\",4916,328971.89362],[\"470 - MAJOR JOINT REPLACEMENT OR REATTACHMENT OF LOWER EXTREMITY W/O MCC\",\"KY\",4741,218156.05357999995],[\"470 - MAJOR JOINT REPLACEMENT OR REATTACHMENT OF LOWER EXTREMITY W/O MCC\",\"MD\",6509,309563.82742],[\"470 - MAJOR JOINT REPLACEMENT OR REATTACHMENT OF LOWER EXTREMITY W/O MCC\",\"ME\",1965,134485.41364],[\"470 - MAJOR JOINT REPLACEMENT OR REATTACHMENT OF LOWER EXTREMITY W/O MCC\",\"MN\",9801,561615.7845900002],[\"470 - MAJOR JOINT REPLACEMENT OR REATTACHMENT OF LOWER EXTREMITY W/O MCC\",\"MO\",8612,422232.90802999993],[\"470 - MAJOR JOINT REPLACEMENT OR REATTACHMENT OF LOWER EXTREMITY W/O MCC\",\"MT\",1895,124637.41837],[\"470 - MAJOR JOINT REPLACEMENT OR REATTACHMENT OF LOWER EXTREMITY W/O MCC\",\"NC\",10830,431720.8710400001],[\"470 - MAJOR JOINT REPLACEMENT OR REATTACHMENT OF LOWER EXTREMITY W/O MCC\",\"ND\",1833,69407.32988],[\"470 - MAJOR JOINT REPLACEMENT OR REATTACHMENT OF LOWER EXTREMITY W/O MCC\",\"NE\",3632,210910.10902],[\"470 - MAJOR JOINT REPLACEMENT OR REATTACHMENT OF LOWER EXTREMITY W/O MCC\",\"NH\",2167,138693.13887],[\"470 - MAJOR JOINT REPLACEMENT OR REATTACHMENT OF LOWER EXTREMITY W/O MCC\",\"NM\",1563,184708.45092000003],[\"470 - MAJOR JOINT REPLACEMENT OR REATTACHMENT OF LOWER EXTREMITY W/O MCC\",\"OH\",9897,708083.26818],[\"470 - MAJOR JOINT REPLACEMENT OR REATTACHMENT OF LOWER EXTREMITY W/O MCC\",\"OK\",5132,231970.717],[\"470 - MAJOR JOINT REPLACEMENT OR REATTACHMENT OF LOWER EXTREMITY W/O MCC\",\"OR\",3998,347994.68136],[\"470 - MAJOR JOINT REPLACEMENT OR REATTACHMENT OF LOWER EXTREMITY W/O MCC\",\"PA\",11973,722161.3246200001],[\"470 - MAJOR JOINT REPLACEMENT OR REATTACHMENT OF LOWER EXTREMITY W/O MCC\",\"RI\",861,43398.211110000004],[\"470 - MAJOR JOINT REPLACEMENT OR REATTACHMENT OF LOWER EXTREMITY W/O MCC\",\"SC\",5602,278507.04283],[\"470 - MAJOR JOINT REPLACEMENT OR REATTACHMENT OF LOWER EXTREMITY W/O MCC\",\"SD\",2812,137088.59623],[\"470 - MAJOR JOINT REPLACEMENT OR REATTACHMENT OF LOWER EXTREMITY W/O MCC\",\"UT\",3666,329261.4915799999],[\"470 - MAJOR JOINT REPLACEMENT OR REATTACHMENT OF LOWER EXTREMITY W/O MCC\",\"WA\",6781,377654.31703999994],[\"470 - MAJOR JOINT REPLACEMENT OR REATTACHMENT OF LOWER EXTREMITY W/O MCC\",\"WI\",7180,559581.2195700001]],\"geo\":\"geo\",\"hovertemplate\":\"<b>%{hovertext}</b><br><br>ms_drg=%{customdata[0]}<br>state=%{customdata[1]}<br>total_discharges=%{customdata[2]}<br>average_total_payments=%{customdata[3]}<extra></extra>\",\"hovertext\":[\"AK\",\"AL\",\"AR\",\"AZ\",\"CO\",\"DC\",\"DE\",\"FL\",\"GA\",\"IA\",\"ID\",\"IL\",\"IN\",\"KS\",\"KY\",\"MD\",\"ME\",\"MN\",\"MO\",\"MT\",\"NC\",\"ND\",\"NE\",\"NH\",\"NM\",\"OH\",\"OK\",\"OR\",\"PA\",\"RI\",\"SC\",\"SD\",\"UT\",\"WA\",\"WI\"],\"locationmode\":\"USA-states\",\"locations\":[\"AK\",\"AL\",\"AR\",\"AZ\",\"CO\",\"DC\",\"DE\",\"FL\",\"GA\",\"IA\",\"ID\",\"IL\",\"IN\",\"KS\",\"KY\",\"MD\",\"ME\",\"MN\",\"MO\",\"MT\",\"NC\",\"ND\",\"NE\",\"NH\",\"NM\",\"OH\",\"OK\",\"OR\",\"PA\",\"RI\",\"SC\",\"SD\",\"UT\",\"WA\",\"WI\"],\"name\":\"470 - MAJOR JOINT REPLACEMENT OR REATTACHMENT OF LOWER EXTREMITY W/O MCC\",\"showlegend\":true,\"showscale\":false,\"type\":\"choropleth\",\"z\":[1,1,1,1,1,1,1,1,1,1,1,1,1,1,1,1,1,1,1,1,1,1,1,1,1,1,1,1,1,1,1,1,1,1,1]},{\"colorscale\":[[0.0,\"#EF553B\"],[1.0,\"#EF553B\"]],\"customdata\":[[\"871 - SEPTICEMIA OR SEVERE SEPSIS W/O MV 96+ HOURS W MCC\",\"CA\",33592,3089694.9345700005],[\"871 - SEPTICEMIA OR SEVERE SEPSIS W/O MV 96+ HOURS W MCC\",\"CT\",5112,306220.37646],[\"871 - SEPTICEMIA OR SEVERE SEPSIS W/O MV 96+ HOURS W MCC\",\"HI\",1316,137902.12807],[\"871 - SEPTICEMIA OR SEVERE SEPSIS W/O MV 96+ HOURS W MCC\",\"LA\",3479,266005.418016],[\"871 - SEPTICEMIA OR SEVERE SEPSIS W/O MV 96+ HOURS W MCC\",\"MA\",7367,405040.99118],[\"871 - SEPTICEMIA OR SEVERE SEPSIS W/O MV 96+ HOURS W MCC\",\"MI\",14103,625119.2433099999],[\"871 - SEPTICEMIA OR SEVERE SEPSIS W/O MV 96+ HOURS W MCC\",\"MS\",3725,206417.56999099994],[\"871 - SEPTICEMIA OR SEVERE SEPSIS W/O MV 96+ HOURS W MCC\",\"NJ\",7986,463299.75167999987],[\"871 - SEPTICEMIA OR SEVERE SEPSIS W/O MV 96+ HOURS W MCC\",\"NV\",1966,136068.13895],[\"871 - SEPTICEMIA OR SEVERE SEPSIS W/O MV 96+ HOURS W MCC\",\"NY\",20801,1549006.6774549999],[\"871 - SEPTICEMIA OR SEVERE SEPSIS W/O MV 96+ HOURS W MCC\",\"TN\",7044,364101.9646579999],[\"871 - SEPTICEMIA OR SEVERE SEPSIS W/O MV 96+ HOURS W MCC\",\"TX\",20261,1398202.4900100003],[\"871 - SEPTICEMIA OR SEVERE SEPSIS W/O MV 96+ HOURS W MCC\",\"VA\",9695,503644.2412829999],[\"871 - SEPTICEMIA OR SEVERE SEPSIS W/O MV 96+ HOURS W MCC\",\"VT\",563,46217.67457],[\"871 - SEPTICEMIA OR SEVERE SEPSIS W/O MV 96+ HOURS W MCC\",\"WV\",1946,121641.28902999999],[\"871 - SEPTICEMIA OR SEVERE SEPSIS W/O MV 96+ HOURS W MCC\",\"WY\",406,44236.68311]],\"geo\":\"geo\",\"hovertemplate\":\"<b>%{hovertext}</b><br><br>ms_drg=%{customdata[0]}<br>state=%{customdata[1]}<br>total_discharges=%{customdata[2]}<br>average_total_payments=%{customdata[3]}<extra></extra>\",\"hovertext\":[\"CA\",\"CT\",\"HI\",\"LA\",\"MA\",\"MI\",\"MS\",\"NJ\",\"NV\",\"NY\",\"TN\",\"TX\",\"VA\",\"VT\",\"WV\",\"WY\"],\"locationmode\":\"USA-states\",\"locations\":[\"CA\",\"CT\",\"HI\",\"LA\",\"MA\",\"MI\",\"MS\",\"NJ\",\"NV\",\"NY\",\"TN\",\"TX\",\"VA\",\"VT\",\"WV\",\"WY\"],\"name\":\"871 - SEPTICEMIA OR SEVERE SEPSIS W/O MV 96+ HOURS W MCC\",\"showlegend\":true,\"showscale\":false,\"type\":\"choropleth\",\"z\":[1,1,1,1,1,1,1,1,1,1,1,1,1,1,1,1]}],                        {\"geo\":{\"center\":{},\"domain\":{\"x\":[0.0,1.0],\"y\":[0.0,1.0]},\"projection\":{\"type\":\"natural earth\"},\"scope\":\"world\"},\"height\":300,\"legend\":{\"bgcolor\":\"white\",\"bordercolor\":\"white\",\"borderwidth\":2,\"font\":{\"color\":\"black\",\"family\":\"Courier\",\"size\":9},\"title\":{},\"tracegroupgap\":0,\"traceorder\":\"reversed\",\"x\":1,\"y\":0.5},\"margin\":{\"b\":20,\"l\":0,\"r\":0,\"t\":40},\"template\":{\"data\":{\"bar\":[{\"error_x\":{\"color\":\"#2a3f5f\"},\"error_y\":{\"color\":\"#2a3f5f\"},\"marker\":{\"line\":{\"color\":\"#E5ECF6\",\"width\":0.5},\"pattern\":{\"fillmode\":\"overlay\",\"size\":10,\"solidity\":0.2}},\"type\":\"bar\"}],\"barpolar\":[{\"marker\":{\"line\":{\"color\":\"#E5ECF6\",\"width\":0.5},\"pattern\":{\"fillmode\":\"overlay\",\"size\":10,\"solidity\":0.2}},\"type\":\"barpolar\"}],\"carpet\":[{\"aaxis\":{\"endlinecolor\":\"#2a3f5f\",\"gridcolor\":\"white\",\"linecolor\":\"white\",\"minorgridcolor\":\"white\",\"startlinecolor\":\"#2a3f5f\"},\"baxis\":{\"endlinecolor\":\"#2a3f5f\",\"gridcolor\":\"white\",\"linecolor\":\"white\",\"minorgridcolor\":\"white\",\"startlinecolor\":\"#2a3f5f\"},\"type\":\"carpet\"}],\"choropleth\":[{\"colorbar\":{\"outlinewidth\":0,\"ticks\":\"\"},\"type\":\"choropleth\"}],\"contour\":[{\"colorbar\":{\"outlinewidth\":0,\"ticks\":\"\"},\"colorscale\":[[0.0,\"#0d0887\"],[0.1111111111111111,\"#46039f\"],[0.2222222222222222,\"#7201a8\"],[0.3333333333333333,\"#9c179e\"],[0.4444444444444444,\"#bd3786\"],[0.5555555555555556,\"#d8576b\"],[0.6666666666666666,\"#ed7953\"],[0.7777777777777778,\"#fb9f3a\"],[0.8888888888888888,\"#fdca26\"],[1.0,\"#f0f921\"]],\"type\":\"contour\"}],\"contourcarpet\":[{\"colorbar\":{\"outlinewidth\":0,\"ticks\":\"\"},\"type\":\"contourcarpet\"}],\"heatmap\":[{\"colorbar\":{\"outlinewidth\":0,\"ticks\":\"\"},\"colorscale\":[[0.0,\"#0d0887\"],[0.1111111111111111,\"#46039f\"],[0.2222222222222222,\"#7201a8\"],[0.3333333333333333,\"#9c179e\"],[0.4444444444444444,\"#bd3786\"],[0.5555555555555556,\"#d8576b\"],[0.6666666666666666,\"#ed7953\"],[0.7777777777777778,\"#fb9f3a\"],[0.8888888888888888,\"#fdca26\"],[1.0,\"#f0f921\"]],\"type\":\"heatmap\"}],\"heatmapgl\":[{\"colorbar\":{\"outlinewidth\":0,\"ticks\":\"\"},\"colorscale\":[[0.0,\"#0d0887\"],[0.1111111111111111,\"#46039f\"],[0.2222222222222222,\"#7201a8\"],[0.3333333333333333,\"#9c179e\"],[0.4444444444444444,\"#bd3786\"],[0.5555555555555556,\"#d8576b\"],[0.6666666666666666,\"#ed7953\"],[0.7777777777777778,\"#fb9f3a\"],[0.8888888888888888,\"#fdca26\"],[1.0,\"#f0f921\"]],\"type\":\"heatmapgl\"}],\"histogram\":[{\"marker\":{\"pattern\":{\"fillmode\":\"overlay\",\"size\":10,\"solidity\":0.2}},\"type\":\"histogram\"}],\"histogram2d\":[{\"colorbar\":{\"outlinewidth\":0,\"ticks\":\"\"},\"colorscale\":[[0.0,\"#0d0887\"],[0.1111111111111111,\"#46039f\"],[0.2222222222222222,\"#7201a8\"],[0.3333333333333333,\"#9c179e\"],[0.4444444444444444,\"#bd3786\"],[0.5555555555555556,\"#d8576b\"],[0.6666666666666666,\"#ed7953\"],[0.7777777777777778,\"#fb9f3a\"],[0.8888888888888888,\"#fdca26\"],[1.0,\"#f0f921\"]],\"type\":\"histogram2d\"}],\"histogram2dcontour\":[{\"colorbar\":{\"outlinewidth\":0,\"ticks\":\"\"},\"colorscale\":[[0.0,\"#0d0887\"],[0.1111111111111111,\"#46039f\"],[0.2222222222222222,\"#7201a8\"],[0.3333333333333333,\"#9c179e\"],[0.4444444444444444,\"#bd3786\"],[0.5555555555555556,\"#d8576b\"],[0.6666666666666666,\"#ed7953\"],[0.7777777777777778,\"#fb9f3a\"],[0.8888888888888888,\"#fdca26\"],[1.0,\"#f0f921\"]],\"type\":\"histogram2dcontour\"}],\"mesh3d\":[{\"colorbar\":{\"outlinewidth\":0,\"ticks\":\"\"},\"type\":\"mesh3d\"}],\"parcoords\":[{\"line\":{\"colorbar\":{\"outlinewidth\":0,\"ticks\":\"\"}},\"type\":\"parcoords\"}],\"pie\":[{\"automargin\":true,\"type\":\"pie\"}],\"scatter\":[{\"marker\":{\"colorbar\":{\"outlinewidth\":0,\"ticks\":\"\"}},\"type\":\"scatter\"}],\"scatter3d\":[{\"line\":{\"colorbar\":{\"outlinewidth\":0,\"ticks\":\"\"}},\"marker\":{\"colorbar\":{\"outlinewidth\":0,\"ticks\":\"\"}},\"type\":\"scatter3d\"}],\"scattercarpet\":[{\"marker\":{\"colorbar\":{\"outlinewidth\":0,\"ticks\":\"\"}},\"type\":\"scattercarpet\"}],\"scattergeo\":[{\"marker\":{\"colorbar\":{\"outlinewidth\":0,\"ticks\":\"\"}},\"type\":\"scattergeo\"}],\"scattergl\":[{\"marker\":{\"colorbar\":{\"outlinewidth\":0,\"ticks\":\"\"}},\"type\":\"scattergl\"}],\"scattermapbox\":[{\"marker\":{\"colorbar\":{\"outlinewidth\":0,\"ticks\":\"\"}},\"type\":\"scattermapbox\"}],\"scatterpolar\":[{\"marker\":{\"colorbar\":{\"outlinewidth\":0,\"ticks\":\"\"}},\"type\":\"scatterpolar\"}],\"scatterpolargl\":[{\"marker\":{\"colorbar\":{\"outlinewidth\":0,\"ticks\":\"\"}},\"type\":\"scatterpolargl\"}],\"scatterternary\":[{\"marker\":{\"colorbar\":{\"outlinewidth\":0,\"ticks\":\"\"}},\"type\":\"scatterternary\"}],\"surface\":[{\"colorbar\":{\"outlinewidth\":0,\"ticks\":\"\"},\"colorscale\":[[0.0,\"#0d0887\"],[0.1111111111111111,\"#46039f\"],[0.2222222222222222,\"#7201a8\"],[0.3333333333333333,\"#9c179e\"],[0.4444444444444444,\"#bd3786\"],[0.5555555555555556,\"#d8576b\"],[0.6666666666666666,\"#ed7953\"],[0.7777777777777778,\"#fb9f3a\"],[0.8888888888888888,\"#fdca26\"],[1.0,\"#f0f921\"]],\"type\":\"surface\"}],\"table\":[{\"cells\":{\"fill\":{\"color\":\"#EBF0F8\"},\"line\":{\"color\":\"white\"}},\"header\":{\"fill\":{\"color\":\"#C8D4E3\"},\"line\":{\"color\":\"white\"}},\"type\":\"table\"}]},\"layout\":{\"annotationdefaults\":{\"arrowcolor\":\"#2a3f5f\",\"arrowhead\":0,\"arrowwidth\":1},\"autotypenumbers\":\"strict\",\"coloraxis\":{\"colorbar\":{\"outlinewidth\":0,\"ticks\":\"\"}},\"colorscale\":{\"diverging\":[[0,\"#8e0152\"],[0.1,\"#c51b7d\"],[0.2,\"#de77ae\"],[0.3,\"#f1b6da\"],[0.4,\"#fde0ef\"],[0.5,\"#f7f7f7\"],[0.6,\"#e6f5d0\"],[0.7,\"#b8e186\"],[0.8,\"#7fbc41\"],[0.9,\"#4d9221\"],[1,\"#276419\"]],\"sequential\":[[0.0,\"#0d0887\"],[0.1111111111111111,\"#46039f\"],[0.2222222222222222,\"#7201a8\"],[0.3333333333333333,\"#9c179e\"],[0.4444444444444444,\"#bd3786\"],[0.5555555555555556,\"#d8576b\"],[0.6666666666666666,\"#ed7953\"],[0.7777777777777778,\"#fb9f3a\"],[0.8888888888888888,\"#fdca26\"],[1.0,\"#f0f921\"]],\"sequentialminus\":[[0.0,\"#0d0887\"],[0.1111111111111111,\"#46039f\"],[0.2222222222222222,\"#7201a8\"],[0.3333333333333333,\"#9c179e\"],[0.4444444444444444,\"#bd3786\"],[0.5555555555555556,\"#d8576b\"],[0.6666666666666666,\"#ed7953\"],[0.7777777777777778,\"#fb9f3a\"],[0.8888888888888888,\"#fdca26\"],[1.0,\"#f0f921\"]]},\"colorway\":[\"#636efa\",\"#EF553B\",\"#00cc96\",\"#ab63fa\",\"#FFA15A\",\"#19d3f3\",\"#FF6692\",\"#B6E880\",\"#FF97FF\",\"#FECB52\"],\"font\":{\"color\":\"#2a3f5f\"},\"geo\":{\"bgcolor\":\"white\",\"lakecolor\":\"white\",\"landcolor\":\"#E5ECF6\",\"showlakes\":true,\"showland\":true,\"subunitcolor\":\"white\"},\"hoverlabel\":{\"align\":\"left\"},\"hovermode\":\"closest\",\"mapbox\":{\"style\":\"light\"},\"paper_bgcolor\":\"white\",\"plot_bgcolor\":\"#E5ECF6\",\"polar\":{\"angularaxis\":{\"gridcolor\":\"white\",\"linecolor\":\"white\",\"ticks\":\"\"},\"bgcolor\":\"#E5ECF6\",\"radialaxis\":{\"gridcolor\":\"white\",\"linecolor\":\"white\",\"ticks\":\"\"}},\"scene\":{\"xaxis\":{\"backgroundcolor\":\"#E5ECF6\",\"gridcolor\":\"white\",\"gridwidth\":2,\"linecolor\":\"white\",\"showbackground\":true,\"ticks\":\"\",\"zerolinecolor\":\"white\"},\"yaxis\":{\"backgroundcolor\":\"#E5ECF6\",\"gridcolor\":\"white\",\"gridwidth\":2,\"linecolor\":\"white\",\"showbackground\":true,\"ticks\":\"\",\"zerolinecolor\":\"white\"},\"zaxis\":{\"backgroundcolor\":\"#E5ECF6\",\"gridcolor\":\"white\",\"gridwidth\":2,\"linecolor\":\"white\",\"showbackground\":true,\"ticks\":\"\",\"zerolinecolor\":\"white\"}},\"shapedefaults\":{\"line\":{\"color\":\"#2a3f5f\"}},\"ternary\":{\"aaxis\":{\"gridcolor\":\"white\",\"linecolor\":\"white\",\"ticks\":\"\"},\"baxis\":{\"gridcolor\":\"white\",\"linecolor\":\"white\",\"ticks\":\"\"},\"bgcolor\":\"#E5ECF6\",\"caxis\":{\"gridcolor\":\"white\",\"linecolor\":\"white\",\"ticks\":\"\"}},\"title\":{\"x\":0.05},\"xaxis\":{\"automargin\":true,\"gridcolor\":\"white\",\"linecolor\":\"white\",\"ticks\":\"\",\"title\":{\"standoff\":15},\"zerolinecolor\":\"white\",\"zerolinewidth\":2},\"yaxis\":{\"automargin\":true,\"gridcolor\":\"white\",\"linecolor\":\"white\",\"ticks\":\"\",\"title\":{\"standoff\":15},\"zerolinecolor\":\"white\",\"zerolinewidth\":2}}},\"title\":{\"font\":{\"color\":\"black\",\"family\":\"Courier\",\"size\":20},\"text\":\"Most common MS-DRG per state (US, 2014)\"}},                        {\"responsive\": true}                    ).then(function(){\n",
       "                            \n",
       "var gd = document.getElementById('26dc7c69-621d-42e8-be78-53f81a93d12a');\n",
       "var x = new MutationObserver(function (mutations, observer) {{\n",
       "        var display = window.getComputedStyle(gd).display;\n",
       "        if (!display || display === 'none') {{\n",
       "            console.log([gd, 'removed!']);\n",
       "            Plotly.purge(gd);\n",
       "            observer.disconnect();\n",
       "        }}\n",
       "}});\n",
       "\n",
       "// Listen for the removal of the full notebook cells\n",
       "var notebookContainer = gd.closest('#notebook-container');\n",
       "if (notebookContainer) {{\n",
       "    x.observe(notebookContainer, {childList: true});\n",
       "}}\n",
       "\n",
       "// Listen for the clearing of the current output cell\n",
       "var outputEl = gd.closest('.output');\n",
       "if (outputEl) {{\n",
       "    x.observe(outputEl, {childList: true});\n",
       "}}\n",
       "\n",
       "                        })                };                });            </script>        </div>"
      ]
     },
     "metadata": {},
     "output_type": "display_data"
    }
   ],
   "source": [
    "df = most_common_state_ms_drg\n",
    "locations='state'\n",
    "color='ms_drg'\n",
    "hover_name='state'\n",
    "title =  'Most common MS-DRG per state (US, 2014)'\n",
    "hover_data={'ms_drg': True, 'state': True, 'total_discharges': True, 'average_total_payments': True}\n",
    "\n",
    "plot_most_common_by_state(df, locations, color, hover_name, title, fontsize=9, hover_data=hover_data)"
   ]
  },
  {
   "cell_type": "markdown",
   "metadata": {
    "hidden": true
   },
   "source": [
    "Fig. 5: The majority of western and midwestern states have 470 as the most common inpatient MS-DRG code, while about half of southeastern states and the majority of mid-Atlantic states have 871."
   ]
  },
  {
   "cell_type": "markdown",
   "metadata": {
    "heading_collapsed": true,
    "hidden": true
   },
   "source": [
    "#### Outpatient data"
   ]
  },
  {
   "cell_type": "markdown",
   "metadata": {
    "heading_collapsed": true,
    "hidden": true
   },
   "source": [
    "##### Average total outpatient payments US"
   ]
  },
  {
   "cell_type": "code",
   "execution_count": 1165,
   "metadata": {
    "ExecuteTime": {
     "end_time": "2021-07-03T05:38:09.907824Z",
     "start_time": "2021-07-03T05:38:09.882912Z"
    },
    "hidden": true
   },
   "outputs": [],
   "source": [
    "query = \"\"\" SELECT provider_state as state,\n",
    "                                 SUM(outpatient_services) as outpatient_services,\n",
    "                                 SUM(average_total_payments) as average_total_payments\n",
    "                   FROM bigquery-public-data.medicare.outpatient_charges_2014\n",
    "                   GROUP BY 1;\n",
    "              \"\"\""
   ]
  },
  {
   "cell_type": "code",
   "execution_count": 1166,
   "metadata": {
    "ExecuteTime": {
     "end_time": "2021-07-03T05:40:49.641659Z",
     "start_time": "2021-07-03T05:40:46.105390Z"
    },
    "hidden": true
   },
   "outputs": [
    {
     "data": {
      "text/html": [
       "<div>\n",
       "<style scoped>\n",
       "    .dataframe tbody tr th:only-of-type {\n",
       "        vertical-align: middle;\n",
       "    }\n",
       "\n",
       "    .dataframe tbody tr th {\n",
       "        vertical-align: top;\n",
       "    }\n",
       "\n",
       "    .dataframe thead th {\n",
       "        text-align: right;\n",
       "    }\n",
       "</style>\n",
       "<table border=\"1\" class=\"dataframe\">\n",
       "  <thead>\n",
       "    <tr style=\"text-align: right;\">\n",
       "      <th></th>\n",
       "      <th>state</th>\n",
       "      <th>outpatient_services</th>\n",
       "      <th>average_total_payments</th>\n",
       "    </tr>\n",
       "  </thead>\n",
       "  <tbody>\n",
       "    <tr>\n",
       "      <th>0</th>\n",
       "      <td>AK</td>\n",
       "      <td>27291</td>\n",
       "      <td>1.828298e+04</td>\n",
       "    </tr>\n",
       "    <tr>\n",
       "      <th>1</th>\n",
       "      <td>AL</td>\n",
       "      <td>286564</td>\n",
       "      <td>2.115875e+05</td>\n",
       "    </tr>\n",
       "    <tr>\n",
       "      <th>2</th>\n",
       "      <td>AR</td>\n",
       "      <td>442708</td>\n",
       "      <td>1.448559e+05</td>\n",
       "    </tr>\n",
       "    <tr>\n",
       "      <th>3</th>\n",
       "      <td>AZ</td>\n",
       "      <td>273667</td>\n",
       "      <td>1.803323e+05</td>\n",
       "    </tr>\n",
       "    <tr>\n",
       "      <th>4</th>\n",
       "      <td>CA</td>\n",
       "      <td>2011387</td>\n",
       "      <td>1.005932e+06</td>\n",
       "    </tr>\n",
       "    <tr>\n",
       "      <th>5</th>\n",
       "      <td>CO</td>\n",
       "      <td>365214</td>\n",
       "      <td>1.646786e+05</td>\n",
       "    </tr>\n",
       "    <tr>\n",
       "      <th>6</th>\n",
       "      <td>CT</td>\n",
       "      <td>415742</td>\n",
       "      <td>1.705221e+05</td>\n",
       "    </tr>\n",
       "    <tr>\n",
       "      <th>7</th>\n",
       "      <td>DC</td>\n",
       "      <td>110741</td>\n",
       "      <td>3.778744e+04</td>\n",
       "    </tr>\n",
       "    <tr>\n",
       "      <th>8</th>\n",
       "      <td>DE</td>\n",
       "      <td>147165</td>\n",
       "      <td>2.589969e+04</td>\n",
       "    </tr>\n",
       "    <tr>\n",
       "      <th>9</th>\n",
       "      <td>FL</td>\n",
       "      <td>1178232</td>\n",
       "      <td>5.608929e+05</td>\n",
       "    </tr>\n",
       "    <tr>\n",
       "      <th>10</th>\n",
       "      <td>GA</td>\n",
       "      <td>589944</td>\n",
       "      <td>3.413879e+05</td>\n",
       "    </tr>\n",
       "    <tr>\n",
       "      <th>11</th>\n",
       "      <td>HI</td>\n",
       "      <td>91959</td>\n",
       "      <td>3.930889e+04</td>\n",
       "    </tr>\n",
       "    <tr>\n",
       "      <th>12</th>\n",
       "      <td>IA</td>\n",
       "      <td>459524</td>\n",
       "      <td>1.567753e+05</td>\n",
       "    </tr>\n",
       "    <tr>\n",
       "      <th>13</th>\n",
       "      <td>ID</td>\n",
       "      <td>344342</td>\n",
       "      <td>6.148239e+04</td>\n",
       "    </tr>\n",
       "    <tr>\n",
       "      <th>14</th>\n",
       "      <td>IL</td>\n",
       "      <td>1660944</td>\n",
       "      <td>5.874050e+05</td>\n",
       "    </tr>\n",
       "    <tr>\n",
       "      <th>15</th>\n",
       "      <td>IN</td>\n",
       "      <td>600675</td>\n",
       "      <td>3.416195e+05</td>\n",
       "    </tr>\n",
       "    <tr>\n",
       "      <th>16</th>\n",
       "      <td>KS</td>\n",
       "      <td>270506</td>\n",
       "      <td>1.566555e+05</td>\n",
       "    </tr>\n",
       "    <tr>\n",
       "      <th>17</th>\n",
       "      <td>KY</td>\n",
       "      <td>429009</td>\n",
       "      <td>2.438489e+05</td>\n",
       "    </tr>\n",
       "    <tr>\n",
       "      <th>18</th>\n",
       "      <td>LA</td>\n",
       "      <td>497220</td>\n",
       "      <td>2.133919e+05</td>\n",
       "    </tr>\n",
       "    <tr>\n",
       "      <th>19</th>\n",
       "      <td>MA</td>\n",
       "      <td>1704727</td>\n",
       "      <td>4.001206e+05</td>\n",
       "    </tr>\n",
       "    <tr>\n",
       "      <th>20</th>\n",
       "      <td>ME</td>\n",
       "      <td>730918</td>\n",
       "      <td>1.105617e+05</td>\n",
       "    </tr>\n",
       "    <tr>\n",
       "      <th>21</th>\n",
       "      <td>MI</td>\n",
       "      <td>1573973</td>\n",
       "      <td>4.169254e+05</td>\n",
       "    </tr>\n",
       "    <tr>\n",
       "      <th>22</th>\n",
       "      <td>MN</td>\n",
       "      <td>982795</td>\n",
       "      <td>2.644085e+05</td>\n",
       "    </tr>\n",
       "    <tr>\n",
       "      <th>23</th>\n",
       "      <td>MO</td>\n",
       "      <td>848367</td>\n",
       "      <td>3.357861e+05</td>\n",
       "    </tr>\n",
       "    <tr>\n",
       "      <th>24</th>\n",
       "      <td>MS</td>\n",
       "      <td>218217</td>\n",
       "      <td>1.386288e+05</td>\n",
       "    </tr>\n",
       "    <tr>\n",
       "      <th>25</th>\n",
       "      <td>MT</td>\n",
       "      <td>363169</td>\n",
       "      <td>6.169850e+04</td>\n",
       "    </tr>\n",
       "    <tr>\n",
       "      <th>26</th>\n",
       "      <td>NC</td>\n",
       "      <td>1192570</td>\n",
       "      <td>3.459061e+05</td>\n",
       "    </tr>\n",
       "    <tr>\n",
       "      <th>27</th>\n",
       "      <td>ND</td>\n",
       "      <td>469355</td>\n",
       "      <td>4.595862e+04</td>\n",
       "    </tr>\n",
       "    <tr>\n",
       "      <th>28</th>\n",
       "      <td>NE</td>\n",
       "      <td>111984</td>\n",
       "      <td>9.369626e+04</td>\n",
       "    </tr>\n",
       "    <tr>\n",
       "      <th>29</th>\n",
       "      <td>NH</td>\n",
       "      <td>544144</td>\n",
       "      <td>7.856213e+04</td>\n",
       "    </tr>\n",
       "    <tr>\n",
       "      <th>30</th>\n",
       "      <td>NJ</td>\n",
       "      <td>455113</td>\n",
       "      <td>3.368834e+05</td>\n",
       "    </tr>\n",
       "    <tr>\n",
       "      <th>31</th>\n",
       "      <td>NM</td>\n",
       "      <td>265271</td>\n",
       "      <td>7.400834e+04</td>\n",
       "    </tr>\n",
       "    <tr>\n",
       "      <th>32</th>\n",
       "      <td>NV</td>\n",
       "      <td>71823</td>\n",
       "      <td>7.306202e+04</td>\n",
       "    </tr>\n",
       "    <tr>\n",
       "      <th>33</th>\n",
       "      <td>NY</td>\n",
       "      <td>1824610</td>\n",
       "      <td>6.561299e+05</td>\n",
       "    </tr>\n",
       "    <tr>\n",
       "      <th>34</th>\n",
       "      <td>OH</td>\n",
       "      <td>1851735</td>\n",
       "      <td>5.571936e+05</td>\n",
       "    </tr>\n",
       "    <tr>\n",
       "      <th>35</th>\n",
       "      <td>OK</td>\n",
       "      <td>431691</td>\n",
       "      <td>2.130034e+05</td>\n",
       "    </tr>\n",
       "    <tr>\n",
       "      <th>36</th>\n",
       "      <td>OR</td>\n",
       "      <td>364557</td>\n",
       "      <td>1.333085e+05</td>\n",
       "    </tr>\n",
       "    <tr>\n",
       "      <th>37</th>\n",
       "      <td>PA</td>\n",
       "      <td>1352224</td>\n",
       "      <td>5.915515e+05</td>\n",
       "    </tr>\n",
       "    <tr>\n",
       "      <th>38</th>\n",
       "      <td>RI</td>\n",
       "      <td>105702</td>\n",
       "      <td>4.919158e+04</td>\n",
       "    </tr>\n",
       "    <tr>\n",
       "      <th>39</th>\n",
       "      <td>SC</td>\n",
       "      <td>373116</td>\n",
       "      <td>2.017853e+05</td>\n",
       "    </tr>\n",
       "    <tr>\n",
       "      <th>40</th>\n",
       "      <td>SD</td>\n",
       "      <td>358088</td>\n",
       "      <td>6.978286e+04</td>\n",
       "    </tr>\n",
       "    <tr>\n",
       "      <th>41</th>\n",
       "      <td>TN</td>\n",
       "      <td>407814</td>\n",
       "      <td>2.664771e+05</td>\n",
       "    </tr>\n",
       "    <tr>\n",
       "      <th>42</th>\n",
       "      <td>TX</td>\n",
       "      <td>1697135</td>\n",
       "      <td>7.798263e+05</td>\n",
       "    </tr>\n",
       "    <tr>\n",
       "      <th>43</th>\n",
       "      <td>UT</td>\n",
       "      <td>224895</td>\n",
       "      <td>1.069527e+05</td>\n",
       "    </tr>\n",
       "    <tr>\n",
       "      <th>44</th>\n",
       "      <td>VA</td>\n",
       "      <td>1181013</td>\n",
       "      <td>3.033700e+05</td>\n",
       "    </tr>\n",
       "    <tr>\n",
       "      <th>45</th>\n",
       "      <td>VT</td>\n",
       "      <td>254024</td>\n",
       "      <td>3.731660e+04</td>\n",
       "    </tr>\n",
       "    <tr>\n",
       "      <th>46</th>\n",
       "      <td>WA</td>\n",
       "      <td>1046638</td>\n",
       "      <td>2.500339e+05</td>\n",
       "    </tr>\n",
       "    <tr>\n",
       "      <th>47</th>\n",
       "      <td>WI</td>\n",
       "      <td>1149032</td>\n",
       "      <td>3.093680e+05</td>\n",
       "    </tr>\n",
       "    <tr>\n",
       "      <th>48</th>\n",
       "      <td>WV</td>\n",
       "      <td>291296</td>\n",
       "      <td>1.064992e+05</td>\n",
       "    </tr>\n",
       "    <tr>\n",
       "      <th>49</th>\n",
       "      <td>WY</td>\n",
       "      <td>16203</td>\n",
       "      <td>3.869139e+04</td>\n",
       "    </tr>\n",
       "  </tbody>\n",
       "</table>\n",
       "</div>"
      ],
      "text/plain": [
       "   state  outpatient_services  average_total_payments\n",
       "0     AK                27291            1.828298e+04\n",
       "1     AL               286564            2.115875e+05\n",
       "2     AR               442708            1.448559e+05\n",
       "3     AZ               273667            1.803323e+05\n",
       "4     CA              2011387            1.005932e+06\n",
       "5     CO               365214            1.646786e+05\n",
       "6     CT               415742            1.705221e+05\n",
       "7     DC               110741            3.778744e+04\n",
       "8     DE               147165            2.589969e+04\n",
       "9     FL              1178232            5.608929e+05\n",
       "10    GA               589944            3.413879e+05\n",
       "11    HI                91959            3.930889e+04\n",
       "12    IA               459524            1.567753e+05\n",
       "13    ID               344342            6.148239e+04\n",
       "14    IL              1660944            5.874050e+05\n",
       "15    IN               600675            3.416195e+05\n",
       "16    KS               270506            1.566555e+05\n",
       "17    KY               429009            2.438489e+05\n",
       "18    LA               497220            2.133919e+05\n",
       "19    MA              1704727            4.001206e+05\n",
       "20    ME               730918            1.105617e+05\n",
       "21    MI              1573973            4.169254e+05\n",
       "22    MN               982795            2.644085e+05\n",
       "23    MO               848367            3.357861e+05\n",
       "24    MS               218217            1.386288e+05\n",
       "25    MT               363169            6.169850e+04\n",
       "26    NC              1192570            3.459061e+05\n",
       "27    ND               469355            4.595862e+04\n",
       "28    NE               111984            9.369626e+04\n",
       "29    NH               544144            7.856213e+04\n",
       "30    NJ               455113            3.368834e+05\n",
       "31    NM               265271            7.400834e+04\n",
       "32    NV                71823            7.306202e+04\n",
       "33    NY              1824610            6.561299e+05\n",
       "34    OH              1851735            5.571936e+05\n",
       "35    OK               431691            2.130034e+05\n",
       "36    OR               364557            1.333085e+05\n",
       "37    PA              1352224            5.915515e+05\n",
       "38    RI               105702            4.919158e+04\n",
       "39    SC               373116            2.017853e+05\n",
       "40    SD               358088            6.978286e+04\n",
       "41    TN               407814            2.664771e+05\n",
       "42    TX              1697135            7.798263e+05\n",
       "43    UT               224895            1.069527e+05\n",
       "44    VA              1181013            3.033700e+05\n",
       "45    VT               254024            3.731660e+04\n",
       "46    WA              1046638            2.500339e+05\n",
       "47    WI              1149032            3.093680e+05\n",
       "48    WV               291296            1.064992e+05\n",
       "49    WY                16203            3.869139e+04"
      ]
     },
     "execution_count": 1166,
     "metadata": {},
     "output_type": "execute_result"
    }
   ],
   "source": [
    "#  Process query\n",
    "total_outpatient_state_charges = query_to_df(query)\n",
    "\n",
    "#  Check results\n",
    "total_outpatient_state_charges"
   ]
  },
  {
   "cell_type": "code",
   "execution_count": 1153,
   "metadata": {
    "ExecuteTime": {
     "end_time": "2021-07-03T05:04:22.588645Z",
     "start_time": "2021-07-03T05:04:22.575703Z"
    },
    "hidden": true
   },
   "outputs": [
    {
     "name": "stdout",
     "output_type": "stream",
     "text": [
      "$12,109,334.59\n"
     ]
    }
   ],
   "source": [
    "total_outpatient_charges = total_outpatient_state_charges['average_total_payments'].sum()\n",
    "print('${0:,.2f}'.format(total_outpatient_charges))"
   ]
  },
  {
   "cell_type": "markdown",
   "metadata": {
    "hidden": true
   },
   "source": [
    "Outpatient charges exceeded $12 million."
   ]
  },
  {
   "cell_type": "markdown",
   "metadata": {
    "heading_collapsed": true,
    "hidden": true
   },
   "source": [
    "##### Map: State inpatient charges per 1k outpatient services"
   ]
  },
  {
   "cell_type": "code",
   "execution_count": 1167,
   "metadata": {
    "ExecuteTime": {
     "end_time": "2021-07-03T05:43:14.387625Z",
     "start_time": "2021-07-03T05:43:14.334812Z"
    },
    "hidden": true
   },
   "outputs": [],
   "source": [
    "total_outpatient_state_charges['outpatient_charges_per_1k_discharges'] = (total_outpatient_state_charges['average_total_payments'] / \n",
    "                                                                                                                                   total_outpatient_state_charges['outpatient_services']) * 1000"
   ]
  },
  {
   "cell_type": "code",
   "execution_count": 1171,
   "metadata": {
    "ExecuteTime": {
     "end_time": "2021-07-03T05:56:17.272386Z",
     "start_time": "2021-07-03T05:56:16.963844Z"
    },
    "hidden": true
   },
   "outputs": [
    {
     "data": {
      "application/vnd.plotly.v1+json": {
       "config": {
        "plotlyServerURL": "https://plotly.com"
       },
       "data": [
        {
         "coloraxis": "coloraxis",
         "customdata": [
          [
           669.9269167985782,
           "AK"
          ],
          [
           738.3604756692052,
           "AL"
          ],
          [
           327.20410910814815,
           "AR"
          ],
          [
           658.9477834857328,
           "AZ"
          ],
          [
           500.11837794370274,
           "CA"
          ],
          [
           450.90989360377745,
           "CO"
          ],
          [
           410.1633633265344,
           "CT"
          ],
          [
           341.2235901487254,
           "DC"
          ],
          [
           175.9908380769205,
           "DE"
          ],
          [
           476.04621897990427,
           "FL"
          ],
          [
           578.6785074166188,
           "GA"
          ],
          [
           427.4610065434594,
           "HI"
          ],
          [
           341.16890823717563,
           "IA"
          ],
          [
           178.55035280790614,
           "ID"
          ],
          [
           353.6572955401752,
           "IL"
          ],
          [
           568.7259582941687,
           "IN"
          ],
          [
           579.1203481132768,
           "KS"
          ],
          [
           568.400516758064,
           "KY"
          ],
          [
           429.16999021674536,
           "LA"
          ],
          [
           234.71243906964568,
           "MA"
          ],
          [
           151.26412420084068,
           "ME"
          ],
          [
           264.88727135254544,
           "MI"
          ],
          [
           269.03729418820814,
           "MN"
          ],
          [
           395.80284968201215,
           "MO"
          ],
          [
           635.2795800402357,
           "MS"
          ],
          [
           169.88921584190837,
           "MT"
          ],
          [
           290.0509636391244,
           "NC"
          ],
          [
           97.91867101226156,
           "ND"
          ],
          [
           836.6932892006001,
           "NE"
          ],
          [
           144.37745782401345,
           "NH"
          ],
          [
           740.2191871919719,
           "NJ"
          ],
          [
           278.9914507771299,
           "NM"
          ],
          [
           1017.2509724031306,
           "NV"
          ],
          [
           359.60009536653865,
           "NY"
          ],
          [
           300.90351701311516,
           "OH"
          ],
          [
           493.41630613832564,
           "OK"
          ],
          [
           365.6726656657807,
           "OR"
          ],
          [
           437.46564846895217,
           "PA"
          ],
          [
           465.3798245639627,
           "RI"
          ],
          [
           540.811038278337,
           "SC"
          ],
          [
           194.87627942421986,
           "SD"
          ],
          [
           653.4279345776014,
           "TN"
          ],
          [
           459.4957289543499,
           "TX"
          ],
          [
           475.56747772858444,
           "UT"
          ],
          [
           256.8727306711781,
           "VA"
          ],
          [
           146.90187462846035,
           "VT"
          ],
          [
           238.8923985768718,
           "WA"
          ],
          [
           269.24230683400475,
           "WI"
          ],
          [
           365.6048225037419,
           "WV"
          ],
          [
           2387.915191088069,
           "WY"
          ]
         ],
         "geo": "geo",
         "hovertemplate": "<b>%{hovertext}</b><br><br>state=%{customdata[1]}<br>outpatient_charges_per_1k_discharges=%{z}<extra></extra>",
         "hovertext": [
          "AK",
          "AL",
          "AR",
          "AZ",
          "CA",
          "CO",
          "CT",
          "DC",
          "DE",
          "FL",
          "GA",
          "HI",
          "IA",
          "ID",
          "IL",
          "IN",
          "KS",
          "KY",
          "LA",
          "MA",
          "ME",
          "MI",
          "MN",
          "MO",
          "MS",
          "MT",
          "NC",
          "ND",
          "NE",
          "NH",
          "NJ",
          "NM",
          "NV",
          "NY",
          "OH",
          "OK",
          "OR",
          "PA",
          "RI",
          "SC",
          "SD",
          "TN",
          "TX",
          "UT",
          "VA",
          "VT",
          "WA",
          "WI",
          "WV",
          "WY"
         ],
         "locationmode": "USA-states",
         "locations": [
          "AK",
          "AL",
          "AR",
          "AZ",
          "CA",
          "CO",
          "CT",
          "DC",
          "DE",
          "FL",
          "GA",
          "HI",
          "IA",
          "ID",
          "IL",
          "IN",
          "KS",
          "KY",
          "LA",
          "MA",
          "ME",
          "MI",
          "MN",
          "MO",
          "MS",
          "MT",
          "NC",
          "ND",
          "NE",
          "NH",
          "NJ",
          "NM",
          "NV",
          "NY",
          "OH",
          "OK",
          "OR",
          "PA",
          "RI",
          "SC",
          "SD",
          "TN",
          "TX",
          "UT",
          "VA",
          "VT",
          "WA",
          "WI",
          "WV",
          "WY"
         ],
         "name": "",
         "type": "choropleth",
         "z": [
          669.9269167985782,
          738.3604756692052,
          327.20410910814815,
          658.9477834857328,
          500.11837794370274,
          450.90989360377745,
          410.1633633265344,
          341.2235901487254,
          175.9908380769205,
          476.04621897990427,
          578.6785074166188,
          427.4610065434594,
          341.16890823717563,
          178.55035280790614,
          353.6572955401752,
          568.7259582941687,
          579.1203481132768,
          568.400516758064,
          429.16999021674536,
          234.71243906964568,
          151.26412420084068,
          264.88727135254544,
          269.03729418820814,
          395.80284968201215,
          635.2795800402357,
          169.88921584190837,
          290.0509636391244,
          97.91867101226156,
          836.6932892006001,
          144.37745782401345,
          740.2191871919719,
          278.9914507771299,
          1017.2509724031306,
          359.60009536653865,
          300.90351701311516,
          493.41630613832564,
          365.6726656657807,
          437.46564846895217,
          465.3798245639627,
          540.811038278337,
          194.87627942421986,
          653.4279345776014,
          459.4957289543499,
          475.56747772858444,
          256.8727306711781,
          146.90187462846035,
          238.8923985768718,
          269.24230683400475,
          365.6048225037419,
          2387.915191088069
         ]
        }
       ],
       "layout": {
        "coloraxis": {
         "colorbar": {
          "title": {
           "text": "outpatient_charges_per_1k_discharges"
          }
         },
         "colorscale": [
          [
           0,
           "#0d0887"
          ],
          [
           0.1111111111111111,
           "#46039f"
          ],
          [
           0.2222222222222222,
           "#7201a8"
          ],
          [
           0.3333333333333333,
           "#9c179e"
          ],
          [
           0.4444444444444444,
           "#bd3786"
          ],
          [
           0.5555555555555556,
           "#d8576b"
          ],
          [
           0.6666666666666666,
           "#ed7953"
          ],
          [
           0.7777777777777778,
           "#fb9f3a"
          ],
          [
           0.8888888888888888,
           "#fdca26"
          ],
          [
           1,
           "#f0f921"
          ]
         ]
        },
        "geo": {
         "center": {},
         "domain": {
          "x": [
           0,
           1
          ],
          "y": [
           0,
           1
          ]
         },
         "projection": {
          "type": "natural earth"
         },
         "scope": "world"
        },
        "height": 300,
        "legend": {
         "bgcolor": "white",
         "bordercolor": "white",
         "borderwidth": 2,
         "font": {
          "color": "black",
          "family": "Courier",
          "size": 12
         },
         "title": {},
         "tracegroupgap": 0,
         "traceorder": "reversed",
         "x": 1,
         "y": 0.5
        },
        "margin": {
         "b": 20,
         "l": 0,
         "r": 0,
         "t": 40
        },
        "template": {
         "data": {
          "bar": [
           {
            "error_x": {
             "color": "#2a3f5f"
            },
            "error_y": {
             "color": "#2a3f5f"
            },
            "marker": {
             "line": {
              "color": "#E5ECF6",
              "width": 0.5
             },
             "pattern": {
              "fillmode": "overlay",
              "size": 10,
              "solidity": 0.2
             }
            },
            "type": "bar"
           }
          ],
          "barpolar": [
           {
            "marker": {
             "line": {
              "color": "#E5ECF6",
              "width": 0.5
             },
             "pattern": {
              "fillmode": "overlay",
              "size": 10,
              "solidity": 0.2
             }
            },
            "type": "barpolar"
           }
          ],
          "carpet": [
           {
            "aaxis": {
             "endlinecolor": "#2a3f5f",
             "gridcolor": "white",
             "linecolor": "white",
             "minorgridcolor": "white",
             "startlinecolor": "#2a3f5f"
            },
            "baxis": {
             "endlinecolor": "#2a3f5f",
             "gridcolor": "white",
             "linecolor": "white",
             "minorgridcolor": "white",
             "startlinecolor": "#2a3f5f"
            },
            "type": "carpet"
           }
          ],
          "choropleth": [
           {
            "colorbar": {
             "outlinewidth": 0,
             "ticks": ""
            },
            "type": "choropleth"
           }
          ],
          "contour": [
           {
            "colorbar": {
             "outlinewidth": 0,
             "ticks": ""
            },
            "colorscale": [
             [
              0,
              "#0d0887"
             ],
             [
              0.1111111111111111,
              "#46039f"
             ],
             [
              0.2222222222222222,
              "#7201a8"
             ],
             [
              0.3333333333333333,
              "#9c179e"
             ],
             [
              0.4444444444444444,
              "#bd3786"
             ],
             [
              0.5555555555555556,
              "#d8576b"
             ],
             [
              0.6666666666666666,
              "#ed7953"
             ],
             [
              0.7777777777777778,
              "#fb9f3a"
             ],
             [
              0.8888888888888888,
              "#fdca26"
             ],
             [
              1,
              "#f0f921"
             ]
            ],
            "type": "contour"
           }
          ],
          "contourcarpet": [
           {
            "colorbar": {
             "outlinewidth": 0,
             "ticks": ""
            },
            "type": "contourcarpet"
           }
          ],
          "heatmap": [
           {
            "colorbar": {
             "outlinewidth": 0,
             "ticks": ""
            },
            "colorscale": [
             [
              0,
              "#0d0887"
             ],
             [
              0.1111111111111111,
              "#46039f"
             ],
             [
              0.2222222222222222,
              "#7201a8"
             ],
             [
              0.3333333333333333,
              "#9c179e"
             ],
             [
              0.4444444444444444,
              "#bd3786"
             ],
             [
              0.5555555555555556,
              "#d8576b"
             ],
             [
              0.6666666666666666,
              "#ed7953"
             ],
             [
              0.7777777777777778,
              "#fb9f3a"
             ],
             [
              0.8888888888888888,
              "#fdca26"
             ],
             [
              1,
              "#f0f921"
             ]
            ],
            "type": "heatmap"
           }
          ],
          "heatmapgl": [
           {
            "colorbar": {
             "outlinewidth": 0,
             "ticks": ""
            },
            "colorscale": [
             [
              0,
              "#0d0887"
             ],
             [
              0.1111111111111111,
              "#46039f"
             ],
             [
              0.2222222222222222,
              "#7201a8"
             ],
             [
              0.3333333333333333,
              "#9c179e"
             ],
             [
              0.4444444444444444,
              "#bd3786"
             ],
             [
              0.5555555555555556,
              "#d8576b"
             ],
             [
              0.6666666666666666,
              "#ed7953"
             ],
             [
              0.7777777777777778,
              "#fb9f3a"
             ],
             [
              0.8888888888888888,
              "#fdca26"
             ],
             [
              1,
              "#f0f921"
             ]
            ],
            "type": "heatmapgl"
           }
          ],
          "histogram": [
           {
            "marker": {
             "pattern": {
              "fillmode": "overlay",
              "size": 10,
              "solidity": 0.2
             }
            },
            "type": "histogram"
           }
          ],
          "histogram2d": [
           {
            "colorbar": {
             "outlinewidth": 0,
             "ticks": ""
            },
            "colorscale": [
             [
              0,
              "#0d0887"
             ],
             [
              0.1111111111111111,
              "#46039f"
             ],
             [
              0.2222222222222222,
              "#7201a8"
             ],
             [
              0.3333333333333333,
              "#9c179e"
             ],
             [
              0.4444444444444444,
              "#bd3786"
             ],
             [
              0.5555555555555556,
              "#d8576b"
             ],
             [
              0.6666666666666666,
              "#ed7953"
             ],
             [
              0.7777777777777778,
              "#fb9f3a"
             ],
             [
              0.8888888888888888,
              "#fdca26"
             ],
             [
              1,
              "#f0f921"
             ]
            ],
            "type": "histogram2d"
           }
          ],
          "histogram2dcontour": [
           {
            "colorbar": {
             "outlinewidth": 0,
             "ticks": ""
            },
            "colorscale": [
             [
              0,
              "#0d0887"
             ],
             [
              0.1111111111111111,
              "#46039f"
             ],
             [
              0.2222222222222222,
              "#7201a8"
             ],
             [
              0.3333333333333333,
              "#9c179e"
             ],
             [
              0.4444444444444444,
              "#bd3786"
             ],
             [
              0.5555555555555556,
              "#d8576b"
             ],
             [
              0.6666666666666666,
              "#ed7953"
             ],
             [
              0.7777777777777778,
              "#fb9f3a"
             ],
             [
              0.8888888888888888,
              "#fdca26"
             ],
             [
              1,
              "#f0f921"
             ]
            ],
            "type": "histogram2dcontour"
           }
          ],
          "mesh3d": [
           {
            "colorbar": {
             "outlinewidth": 0,
             "ticks": ""
            },
            "type": "mesh3d"
           }
          ],
          "parcoords": [
           {
            "line": {
             "colorbar": {
              "outlinewidth": 0,
              "ticks": ""
             }
            },
            "type": "parcoords"
           }
          ],
          "pie": [
           {
            "automargin": true,
            "type": "pie"
           }
          ],
          "scatter": [
           {
            "marker": {
             "colorbar": {
              "outlinewidth": 0,
              "ticks": ""
             }
            },
            "type": "scatter"
           }
          ],
          "scatter3d": [
           {
            "line": {
             "colorbar": {
              "outlinewidth": 0,
              "ticks": ""
             }
            },
            "marker": {
             "colorbar": {
              "outlinewidth": 0,
              "ticks": ""
             }
            },
            "type": "scatter3d"
           }
          ],
          "scattercarpet": [
           {
            "marker": {
             "colorbar": {
              "outlinewidth": 0,
              "ticks": ""
             }
            },
            "type": "scattercarpet"
           }
          ],
          "scattergeo": [
           {
            "marker": {
             "colorbar": {
              "outlinewidth": 0,
              "ticks": ""
             }
            },
            "type": "scattergeo"
           }
          ],
          "scattergl": [
           {
            "marker": {
             "colorbar": {
              "outlinewidth": 0,
              "ticks": ""
             }
            },
            "type": "scattergl"
           }
          ],
          "scattermapbox": [
           {
            "marker": {
             "colorbar": {
              "outlinewidth": 0,
              "ticks": ""
             }
            },
            "type": "scattermapbox"
           }
          ],
          "scatterpolar": [
           {
            "marker": {
             "colorbar": {
              "outlinewidth": 0,
              "ticks": ""
             }
            },
            "type": "scatterpolar"
           }
          ],
          "scatterpolargl": [
           {
            "marker": {
             "colorbar": {
              "outlinewidth": 0,
              "ticks": ""
             }
            },
            "type": "scatterpolargl"
           }
          ],
          "scatterternary": [
           {
            "marker": {
             "colorbar": {
              "outlinewidth": 0,
              "ticks": ""
             }
            },
            "type": "scatterternary"
           }
          ],
          "surface": [
           {
            "colorbar": {
             "outlinewidth": 0,
             "ticks": ""
            },
            "colorscale": [
             [
              0,
              "#0d0887"
             ],
             [
              0.1111111111111111,
              "#46039f"
             ],
             [
              0.2222222222222222,
              "#7201a8"
             ],
             [
              0.3333333333333333,
              "#9c179e"
             ],
             [
              0.4444444444444444,
              "#bd3786"
             ],
             [
              0.5555555555555556,
              "#d8576b"
             ],
             [
              0.6666666666666666,
              "#ed7953"
             ],
             [
              0.7777777777777778,
              "#fb9f3a"
             ],
             [
              0.8888888888888888,
              "#fdca26"
             ],
             [
              1,
              "#f0f921"
             ]
            ],
            "type": "surface"
           }
          ],
          "table": [
           {
            "cells": {
             "fill": {
              "color": "#EBF0F8"
             },
             "line": {
              "color": "white"
             }
            },
            "header": {
             "fill": {
              "color": "#C8D4E3"
             },
             "line": {
              "color": "white"
             }
            },
            "type": "table"
           }
          ]
         },
         "layout": {
          "annotationdefaults": {
           "arrowcolor": "#2a3f5f",
           "arrowhead": 0,
           "arrowwidth": 1
          },
          "autotypenumbers": "strict",
          "coloraxis": {
           "colorbar": {
            "outlinewidth": 0,
            "ticks": ""
           }
          },
          "colorscale": {
           "diverging": [
            [
             0,
             "#8e0152"
            ],
            [
             0.1,
             "#c51b7d"
            ],
            [
             0.2,
             "#de77ae"
            ],
            [
             0.3,
             "#f1b6da"
            ],
            [
             0.4,
             "#fde0ef"
            ],
            [
             0.5,
             "#f7f7f7"
            ],
            [
             0.6,
             "#e6f5d0"
            ],
            [
             0.7,
             "#b8e186"
            ],
            [
             0.8,
             "#7fbc41"
            ],
            [
             0.9,
             "#4d9221"
            ],
            [
             1,
             "#276419"
            ]
           ],
           "sequential": [
            [
             0,
             "#0d0887"
            ],
            [
             0.1111111111111111,
             "#46039f"
            ],
            [
             0.2222222222222222,
             "#7201a8"
            ],
            [
             0.3333333333333333,
             "#9c179e"
            ],
            [
             0.4444444444444444,
             "#bd3786"
            ],
            [
             0.5555555555555556,
             "#d8576b"
            ],
            [
             0.6666666666666666,
             "#ed7953"
            ],
            [
             0.7777777777777778,
             "#fb9f3a"
            ],
            [
             0.8888888888888888,
             "#fdca26"
            ],
            [
             1,
             "#f0f921"
            ]
           ],
           "sequentialminus": [
            [
             0,
             "#0d0887"
            ],
            [
             0.1111111111111111,
             "#46039f"
            ],
            [
             0.2222222222222222,
             "#7201a8"
            ],
            [
             0.3333333333333333,
             "#9c179e"
            ],
            [
             0.4444444444444444,
             "#bd3786"
            ],
            [
             0.5555555555555556,
             "#d8576b"
            ],
            [
             0.6666666666666666,
             "#ed7953"
            ],
            [
             0.7777777777777778,
             "#fb9f3a"
            ],
            [
             0.8888888888888888,
             "#fdca26"
            ],
            [
             1,
             "#f0f921"
            ]
           ]
          },
          "colorway": [
           "#636efa",
           "#EF553B",
           "#00cc96",
           "#ab63fa",
           "#FFA15A",
           "#19d3f3",
           "#FF6692",
           "#B6E880",
           "#FF97FF",
           "#FECB52"
          ],
          "font": {
           "color": "#2a3f5f"
          },
          "geo": {
           "bgcolor": "white",
           "lakecolor": "white",
           "landcolor": "#E5ECF6",
           "showlakes": true,
           "showland": true,
           "subunitcolor": "white"
          },
          "hoverlabel": {
           "align": "left"
          },
          "hovermode": "closest",
          "mapbox": {
           "style": "light"
          },
          "paper_bgcolor": "white",
          "plot_bgcolor": "#E5ECF6",
          "polar": {
           "angularaxis": {
            "gridcolor": "white",
            "linecolor": "white",
            "ticks": ""
           },
           "bgcolor": "#E5ECF6",
           "radialaxis": {
            "gridcolor": "white",
            "linecolor": "white",
            "ticks": ""
           }
          },
          "scene": {
           "xaxis": {
            "backgroundcolor": "#E5ECF6",
            "gridcolor": "white",
            "gridwidth": 2,
            "linecolor": "white",
            "showbackground": true,
            "ticks": "",
            "zerolinecolor": "white"
           },
           "yaxis": {
            "backgroundcolor": "#E5ECF6",
            "gridcolor": "white",
            "gridwidth": 2,
            "linecolor": "white",
            "showbackground": true,
            "ticks": "",
            "zerolinecolor": "white"
           },
           "zaxis": {
            "backgroundcolor": "#E5ECF6",
            "gridcolor": "white",
            "gridwidth": 2,
            "linecolor": "white",
            "showbackground": true,
            "ticks": "",
            "zerolinecolor": "white"
           }
          },
          "shapedefaults": {
           "line": {
            "color": "#2a3f5f"
           }
          },
          "ternary": {
           "aaxis": {
            "gridcolor": "white",
            "linecolor": "white",
            "ticks": ""
           },
           "baxis": {
            "gridcolor": "white",
            "linecolor": "white",
            "ticks": ""
           },
           "bgcolor": "#E5ECF6",
           "caxis": {
            "gridcolor": "white",
            "linecolor": "white",
            "ticks": ""
           }
          },
          "title": {
           "x": 0.05
          },
          "xaxis": {
           "automargin": true,
           "gridcolor": "white",
           "linecolor": "white",
           "ticks": "",
           "title": {
            "standoff": 15
           },
           "zerolinecolor": "white",
           "zerolinewidth": 2
          },
          "yaxis": {
           "automargin": true,
           "gridcolor": "white",
           "linecolor": "white",
           "ticks": "",
           "title": {
            "standoff": 15
           },
           "zerolinecolor": "white",
           "zerolinewidth": 2
          }
         }
        },
        "title": {
         "font": {
          "color": "black",
          "family": "Courier",
          "size": 20
         },
         "text": "State outpatient cost per 1k outpatient services (US, 2014)"
        }
       }
      },
      "text/html": [
       "<div>                            <div id=\"eb00a787-bc51-45c8-937f-9dd8b973e8ef\" class=\"plotly-graph-div\" style=\"height:300px; width:100%;\"></div>            <script type=\"text/javascript\">                require([\"plotly\"], function(Plotly) {                    window.PLOTLYENV=window.PLOTLYENV || {};                                    if (document.getElementById(\"eb00a787-bc51-45c8-937f-9dd8b973e8ef\")) {                    Plotly.newPlot(                        \"eb00a787-bc51-45c8-937f-9dd8b973e8ef\",                        [{\"coloraxis\":\"coloraxis\",\"customdata\":[[669.9269167985782,\"AK\"],[738.3604756692052,\"AL\"],[327.20410910814815,\"AR\"],[658.9477834857328,\"AZ\"],[500.11837794370274,\"CA\"],[450.90989360377745,\"CO\"],[410.1633633265344,\"CT\"],[341.2235901487254,\"DC\"],[175.9908380769205,\"DE\"],[476.04621897990427,\"FL\"],[578.6785074166188,\"GA\"],[427.4610065434594,\"HI\"],[341.16890823717563,\"IA\"],[178.55035280790614,\"ID\"],[353.6572955401752,\"IL\"],[568.7259582941687,\"IN\"],[579.1203481132768,\"KS\"],[568.400516758064,\"KY\"],[429.16999021674536,\"LA\"],[234.71243906964568,\"MA\"],[151.26412420084068,\"ME\"],[264.88727135254544,\"MI\"],[269.03729418820814,\"MN\"],[395.80284968201215,\"MO\"],[635.2795800402357,\"MS\"],[169.88921584190837,\"MT\"],[290.0509636391244,\"NC\"],[97.91867101226156,\"ND\"],[836.6932892006001,\"NE\"],[144.37745782401345,\"NH\"],[740.2191871919719,\"NJ\"],[278.9914507771299,\"NM\"],[1017.2509724031306,\"NV\"],[359.60009536653865,\"NY\"],[300.90351701311516,\"OH\"],[493.41630613832564,\"OK\"],[365.6726656657807,\"OR\"],[437.46564846895217,\"PA\"],[465.3798245639627,\"RI\"],[540.811038278337,\"SC\"],[194.87627942421986,\"SD\"],[653.4279345776014,\"TN\"],[459.4957289543499,\"TX\"],[475.56747772858444,\"UT\"],[256.8727306711781,\"VA\"],[146.90187462846035,\"VT\"],[238.8923985768718,\"WA\"],[269.24230683400475,\"WI\"],[365.6048225037419,\"WV\"],[2387.915191088069,\"WY\"]],\"geo\":\"geo\",\"hovertemplate\":\"<b>%{hovertext}</b><br><br>state=%{customdata[1]}<br>outpatient_charges_per_1k_discharges=%{z}<extra></extra>\",\"hovertext\":[\"AK\",\"AL\",\"AR\",\"AZ\",\"CA\",\"CO\",\"CT\",\"DC\",\"DE\",\"FL\",\"GA\",\"HI\",\"IA\",\"ID\",\"IL\",\"IN\",\"KS\",\"KY\",\"LA\",\"MA\",\"ME\",\"MI\",\"MN\",\"MO\",\"MS\",\"MT\",\"NC\",\"ND\",\"NE\",\"NH\",\"NJ\",\"NM\",\"NV\",\"NY\",\"OH\",\"OK\",\"OR\",\"PA\",\"RI\",\"SC\",\"SD\",\"TN\",\"TX\",\"UT\",\"VA\",\"VT\",\"WA\",\"WI\",\"WV\",\"WY\"],\"locationmode\":\"USA-states\",\"locations\":[\"AK\",\"AL\",\"AR\",\"AZ\",\"CA\",\"CO\",\"CT\",\"DC\",\"DE\",\"FL\",\"GA\",\"HI\",\"IA\",\"ID\",\"IL\",\"IN\",\"KS\",\"KY\",\"LA\",\"MA\",\"ME\",\"MI\",\"MN\",\"MO\",\"MS\",\"MT\",\"NC\",\"ND\",\"NE\",\"NH\",\"NJ\",\"NM\",\"NV\",\"NY\",\"OH\",\"OK\",\"OR\",\"PA\",\"RI\",\"SC\",\"SD\",\"TN\",\"TX\",\"UT\",\"VA\",\"VT\",\"WA\",\"WI\",\"WV\",\"WY\"],\"name\":\"\",\"type\":\"choropleth\",\"z\":[669.9269167985782,738.3604756692052,327.20410910814815,658.9477834857328,500.11837794370274,450.90989360377745,410.1633633265344,341.2235901487254,175.9908380769205,476.04621897990427,578.6785074166188,427.4610065434594,341.16890823717563,178.55035280790614,353.6572955401752,568.7259582941687,579.1203481132768,568.400516758064,429.16999021674536,234.71243906964568,151.26412420084068,264.88727135254544,269.03729418820814,395.80284968201215,635.2795800402357,169.88921584190837,290.0509636391244,97.91867101226156,836.6932892006001,144.37745782401345,740.2191871919719,278.9914507771299,1017.2509724031306,359.60009536653865,300.90351701311516,493.41630613832564,365.6726656657807,437.46564846895217,465.3798245639627,540.811038278337,194.87627942421986,653.4279345776014,459.4957289543499,475.56747772858444,256.8727306711781,146.90187462846035,238.8923985768718,269.24230683400475,365.6048225037419,2387.915191088069]}],                        {\"coloraxis\":{\"colorbar\":{\"title\":{\"text\":\"outpatient_charges_per_1k_discharges\"}},\"colorscale\":[[0.0,\"#0d0887\"],[0.1111111111111111,\"#46039f\"],[0.2222222222222222,\"#7201a8\"],[0.3333333333333333,\"#9c179e\"],[0.4444444444444444,\"#bd3786\"],[0.5555555555555556,\"#d8576b\"],[0.6666666666666666,\"#ed7953\"],[0.7777777777777778,\"#fb9f3a\"],[0.8888888888888888,\"#fdca26\"],[1.0,\"#f0f921\"]]},\"geo\":{\"center\":{},\"domain\":{\"x\":[0.0,1.0],\"y\":[0.0,1.0]},\"projection\":{\"type\":\"natural earth\"},\"scope\":\"world\"},\"height\":300,\"legend\":{\"bgcolor\":\"white\",\"bordercolor\":\"white\",\"borderwidth\":2,\"font\":{\"color\":\"black\",\"family\":\"Courier\",\"size\":12},\"title\":{},\"tracegroupgap\":0,\"traceorder\":\"reversed\",\"x\":1,\"y\":0.5},\"margin\":{\"b\":20,\"l\":0,\"r\":0,\"t\":40},\"template\":{\"data\":{\"bar\":[{\"error_x\":{\"color\":\"#2a3f5f\"},\"error_y\":{\"color\":\"#2a3f5f\"},\"marker\":{\"line\":{\"color\":\"#E5ECF6\",\"width\":0.5},\"pattern\":{\"fillmode\":\"overlay\",\"size\":10,\"solidity\":0.2}},\"type\":\"bar\"}],\"barpolar\":[{\"marker\":{\"line\":{\"color\":\"#E5ECF6\",\"width\":0.5},\"pattern\":{\"fillmode\":\"overlay\",\"size\":10,\"solidity\":0.2}},\"type\":\"barpolar\"}],\"carpet\":[{\"aaxis\":{\"endlinecolor\":\"#2a3f5f\",\"gridcolor\":\"white\",\"linecolor\":\"white\",\"minorgridcolor\":\"white\",\"startlinecolor\":\"#2a3f5f\"},\"baxis\":{\"endlinecolor\":\"#2a3f5f\",\"gridcolor\":\"white\",\"linecolor\":\"white\",\"minorgridcolor\":\"white\",\"startlinecolor\":\"#2a3f5f\"},\"type\":\"carpet\"}],\"choropleth\":[{\"colorbar\":{\"outlinewidth\":0,\"ticks\":\"\"},\"type\":\"choropleth\"}],\"contour\":[{\"colorbar\":{\"outlinewidth\":0,\"ticks\":\"\"},\"colorscale\":[[0.0,\"#0d0887\"],[0.1111111111111111,\"#46039f\"],[0.2222222222222222,\"#7201a8\"],[0.3333333333333333,\"#9c179e\"],[0.4444444444444444,\"#bd3786\"],[0.5555555555555556,\"#d8576b\"],[0.6666666666666666,\"#ed7953\"],[0.7777777777777778,\"#fb9f3a\"],[0.8888888888888888,\"#fdca26\"],[1.0,\"#f0f921\"]],\"type\":\"contour\"}],\"contourcarpet\":[{\"colorbar\":{\"outlinewidth\":0,\"ticks\":\"\"},\"type\":\"contourcarpet\"}],\"heatmap\":[{\"colorbar\":{\"outlinewidth\":0,\"ticks\":\"\"},\"colorscale\":[[0.0,\"#0d0887\"],[0.1111111111111111,\"#46039f\"],[0.2222222222222222,\"#7201a8\"],[0.3333333333333333,\"#9c179e\"],[0.4444444444444444,\"#bd3786\"],[0.5555555555555556,\"#d8576b\"],[0.6666666666666666,\"#ed7953\"],[0.7777777777777778,\"#fb9f3a\"],[0.8888888888888888,\"#fdca26\"],[1.0,\"#f0f921\"]],\"type\":\"heatmap\"}],\"heatmapgl\":[{\"colorbar\":{\"outlinewidth\":0,\"ticks\":\"\"},\"colorscale\":[[0.0,\"#0d0887\"],[0.1111111111111111,\"#46039f\"],[0.2222222222222222,\"#7201a8\"],[0.3333333333333333,\"#9c179e\"],[0.4444444444444444,\"#bd3786\"],[0.5555555555555556,\"#d8576b\"],[0.6666666666666666,\"#ed7953\"],[0.7777777777777778,\"#fb9f3a\"],[0.8888888888888888,\"#fdca26\"],[1.0,\"#f0f921\"]],\"type\":\"heatmapgl\"}],\"histogram\":[{\"marker\":{\"pattern\":{\"fillmode\":\"overlay\",\"size\":10,\"solidity\":0.2}},\"type\":\"histogram\"}],\"histogram2d\":[{\"colorbar\":{\"outlinewidth\":0,\"ticks\":\"\"},\"colorscale\":[[0.0,\"#0d0887\"],[0.1111111111111111,\"#46039f\"],[0.2222222222222222,\"#7201a8\"],[0.3333333333333333,\"#9c179e\"],[0.4444444444444444,\"#bd3786\"],[0.5555555555555556,\"#d8576b\"],[0.6666666666666666,\"#ed7953\"],[0.7777777777777778,\"#fb9f3a\"],[0.8888888888888888,\"#fdca26\"],[1.0,\"#f0f921\"]],\"type\":\"histogram2d\"}],\"histogram2dcontour\":[{\"colorbar\":{\"outlinewidth\":0,\"ticks\":\"\"},\"colorscale\":[[0.0,\"#0d0887\"],[0.1111111111111111,\"#46039f\"],[0.2222222222222222,\"#7201a8\"],[0.3333333333333333,\"#9c179e\"],[0.4444444444444444,\"#bd3786\"],[0.5555555555555556,\"#d8576b\"],[0.6666666666666666,\"#ed7953\"],[0.7777777777777778,\"#fb9f3a\"],[0.8888888888888888,\"#fdca26\"],[1.0,\"#f0f921\"]],\"type\":\"histogram2dcontour\"}],\"mesh3d\":[{\"colorbar\":{\"outlinewidth\":0,\"ticks\":\"\"},\"type\":\"mesh3d\"}],\"parcoords\":[{\"line\":{\"colorbar\":{\"outlinewidth\":0,\"ticks\":\"\"}},\"type\":\"parcoords\"}],\"pie\":[{\"automargin\":true,\"type\":\"pie\"}],\"scatter\":[{\"marker\":{\"colorbar\":{\"outlinewidth\":0,\"ticks\":\"\"}},\"type\":\"scatter\"}],\"scatter3d\":[{\"line\":{\"colorbar\":{\"outlinewidth\":0,\"ticks\":\"\"}},\"marker\":{\"colorbar\":{\"outlinewidth\":0,\"ticks\":\"\"}},\"type\":\"scatter3d\"}],\"scattercarpet\":[{\"marker\":{\"colorbar\":{\"outlinewidth\":0,\"ticks\":\"\"}},\"type\":\"scattercarpet\"}],\"scattergeo\":[{\"marker\":{\"colorbar\":{\"outlinewidth\":0,\"ticks\":\"\"}},\"type\":\"scattergeo\"}],\"scattergl\":[{\"marker\":{\"colorbar\":{\"outlinewidth\":0,\"ticks\":\"\"}},\"type\":\"scattergl\"}],\"scattermapbox\":[{\"marker\":{\"colorbar\":{\"outlinewidth\":0,\"ticks\":\"\"}},\"type\":\"scattermapbox\"}],\"scatterpolar\":[{\"marker\":{\"colorbar\":{\"outlinewidth\":0,\"ticks\":\"\"}},\"type\":\"scatterpolar\"}],\"scatterpolargl\":[{\"marker\":{\"colorbar\":{\"outlinewidth\":0,\"ticks\":\"\"}},\"type\":\"scatterpolargl\"}],\"scatterternary\":[{\"marker\":{\"colorbar\":{\"outlinewidth\":0,\"ticks\":\"\"}},\"type\":\"scatterternary\"}],\"surface\":[{\"colorbar\":{\"outlinewidth\":0,\"ticks\":\"\"},\"colorscale\":[[0.0,\"#0d0887\"],[0.1111111111111111,\"#46039f\"],[0.2222222222222222,\"#7201a8\"],[0.3333333333333333,\"#9c179e\"],[0.4444444444444444,\"#bd3786\"],[0.5555555555555556,\"#d8576b\"],[0.6666666666666666,\"#ed7953\"],[0.7777777777777778,\"#fb9f3a\"],[0.8888888888888888,\"#fdca26\"],[1.0,\"#f0f921\"]],\"type\":\"surface\"}],\"table\":[{\"cells\":{\"fill\":{\"color\":\"#EBF0F8\"},\"line\":{\"color\":\"white\"}},\"header\":{\"fill\":{\"color\":\"#C8D4E3\"},\"line\":{\"color\":\"white\"}},\"type\":\"table\"}]},\"layout\":{\"annotationdefaults\":{\"arrowcolor\":\"#2a3f5f\",\"arrowhead\":0,\"arrowwidth\":1},\"autotypenumbers\":\"strict\",\"coloraxis\":{\"colorbar\":{\"outlinewidth\":0,\"ticks\":\"\"}},\"colorscale\":{\"diverging\":[[0,\"#8e0152\"],[0.1,\"#c51b7d\"],[0.2,\"#de77ae\"],[0.3,\"#f1b6da\"],[0.4,\"#fde0ef\"],[0.5,\"#f7f7f7\"],[0.6,\"#e6f5d0\"],[0.7,\"#b8e186\"],[0.8,\"#7fbc41\"],[0.9,\"#4d9221\"],[1,\"#276419\"]],\"sequential\":[[0.0,\"#0d0887\"],[0.1111111111111111,\"#46039f\"],[0.2222222222222222,\"#7201a8\"],[0.3333333333333333,\"#9c179e\"],[0.4444444444444444,\"#bd3786\"],[0.5555555555555556,\"#d8576b\"],[0.6666666666666666,\"#ed7953\"],[0.7777777777777778,\"#fb9f3a\"],[0.8888888888888888,\"#fdca26\"],[1.0,\"#f0f921\"]],\"sequentialminus\":[[0.0,\"#0d0887\"],[0.1111111111111111,\"#46039f\"],[0.2222222222222222,\"#7201a8\"],[0.3333333333333333,\"#9c179e\"],[0.4444444444444444,\"#bd3786\"],[0.5555555555555556,\"#d8576b\"],[0.6666666666666666,\"#ed7953\"],[0.7777777777777778,\"#fb9f3a\"],[0.8888888888888888,\"#fdca26\"],[1.0,\"#f0f921\"]]},\"colorway\":[\"#636efa\",\"#EF553B\",\"#00cc96\",\"#ab63fa\",\"#FFA15A\",\"#19d3f3\",\"#FF6692\",\"#B6E880\",\"#FF97FF\",\"#FECB52\"],\"font\":{\"color\":\"#2a3f5f\"},\"geo\":{\"bgcolor\":\"white\",\"lakecolor\":\"white\",\"landcolor\":\"#E5ECF6\",\"showlakes\":true,\"showland\":true,\"subunitcolor\":\"white\"},\"hoverlabel\":{\"align\":\"left\"},\"hovermode\":\"closest\",\"mapbox\":{\"style\":\"light\"},\"paper_bgcolor\":\"white\",\"plot_bgcolor\":\"#E5ECF6\",\"polar\":{\"angularaxis\":{\"gridcolor\":\"white\",\"linecolor\":\"white\",\"ticks\":\"\"},\"bgcolor\":\"#E5ECF6\",\"radialaxis\":{\"gridcolor\":\"white\",\"linecolor\":\"white\",\"ticks\":\"\"}},\"scene\":{\"xaxis\":{\"backgroundcolor\":\"#E5ECF6\",\"gridcolor\":\"white\",\"gridwidth\":2,\"linecolor\":\"white\",\"showbackground\":true,\"ticks\":\"\",\"zerolinecolor\":\"white\"},\"yaxis\":{\"backgroundcolor\":\"#E5ECF6\",\"gridcolor\":\"white\",\"gridwidth\":2,\"linecolor\":\"white\",\"showbackground\":true,\"ticks\":\"\",\"zerolinecolor\":\"white\"},\"zaxis\":{\"backgroundcolor\":\"#E5ECF6\",\"gridcolor\":\"white\",\"gridwidth\":2,\"linecolor\":\"white\",\"showbackground\":true,\"ticks\":\"\",\"zerolinecolor\":\"white\"}},\"shapedefaults\":{\"line\":{\"color\":\"#2a3f5f\"}},\"ternary\":{\"aaxis\":{\"gridcolor\":\"white\",\"linecolor\":\"white\",\"ticks\":\"\"},\"baxis\":{\"gridcolor\":\"white\",\"linecolor\":\"white\",\"ticks\":\"\"},\"bgcolor\":\"#E5ECF6\",\"caxis\":{\"gridcolor\":\"white\",\"linecolor\":\"white\",\"ticks\":\"\"}},\"title\":{\"x\":0.05},\"xaxis\":{\"automargin\":true,\"gridcolor\":\"white\",\"linecolor\":\"white\",\"ticks\":\"\",\"title\":{\"standoff\":15},\"zerolinecolor\":\"white\",\"zerolinewidth\":2},\"yaxis\":{\"automargin\":true,\"gridcolor\":\"white\",\"linecolor\":\"white\",\"ticks\":\"\",\"title\":{\"standoff\":15},\"zerolinecolor\":\"white\",\"zerolinewidth\":2}}},\"title\":{\"font\":{\"color\":\"black\",\"family\":\"Courier\",\"size\":20},\"text\":\"State outpatient cost per 1k outpatient services (US, 2014)\"}},                        {\"responsive\": true}                    ).then(function(){\n",
       "                            \n",
       "var gd = document.getElementById('eb00a787-bc51-45c8-937f-9dd8b973e8ef');\n",
       "var x = new MutationObserver(function (mutations, observer) {{\n",
       "        var display = window.getComputedStyle(gd).display;\n",
       "        if (!display || display === 'none') {{\n",
       "            console.log([gd, 'removed!']);\n",
       "            Plotly.purge(gd);\n",
       "            observer.disconnect();\n",
       "        }}\n",
       "}});\n",
       "\n",
       "// Listen for the removal of the full notebook cells\n",
       "var notebookContainer = gd.closest('#notebook-container');\n",
       "if (notebookContainer) {{\n",
       "    x.observe(notebookContainer, {childList: true});\n",
       "}}\n",
       "\n",
       "// Listen for the clearing of the current output cell\n",
       "var outputEl = gd.closest('.output');\n",
       "if (outputEl) {{\n",
       "    x.observe(outputEl, {childList: true});\n",
       "}}\n",
       "\n",
       "                        })                };                });            </script>        </div>"
      ]
     },
     "metadata": {},
     "output_type": "display_data"
    }
   ],
   "source": [
    "df = total_outpatient_state_charges\n",
    "locations='state'\n",
    "color='outpatient_charges_per_1k_discharges'\n",
    "hover_name='state'\n",
    "title =  'State outpatient cost per 1k outpatient services (US, 2014)'\n",
    "hover_data={'outpatient_charges_per_1k_discharges': True, 'state': True}\n",
    "\n",
    "plot_most_common_by_state(df, locations, color, hover_name, title, fontsize=12, hover_data=hover_data)"
   ]
  },
  {
   "cell_type": "markdown",
   "metadata": {
    "hidden": true
   },
   "source": [
    "Fig. 6: Where Alaska was the outlier for inpatient charges, Wyoming is the outlier for outpatient service charges."
   ]
  },
  {
   "cell_type": "markdown",
   "metadata": {
    "heading_collapsed": true,
    "hidden": true
   },
   "source": [
    "##### SQL query: Most common APC by zip code"
   ]
  },
  {
   "cell_type": "code",
   "execution_count": 1143,
   "metadata": {
    "ExecuteTime": {
     "end_time": "2021-07-03T04:37:24.146157Z",
     "start_time": "2021-07-03T04:37:24.117044Z"
    },
    "code_folding": [],
    "hidden": true
   },
   "outputs": [],
   "source": [
    "query = \"\"\" SELECT * FROM (SELECT provider_state as state, \n",
    "                                                  provider_zipcode as zipcode,\n",
    "                                                  apc as apc,\n",
    "                                                  SUM(outpatient_services) as total_outpatient_services,\n",
    "                                                  SUM(average_total_payments) as average_total_payments,\n",
    "                                                  ROW_NUMBER() OVER (PARTITION BY provider_zipcode \n",
    "                                                                                              ORDER BY SUM(outpatient_services) DESC) as rank \n",
    "                                                   FROM bigquery-public-data.medicare.outpatient_charges_2014\n",
    "                                                   WHERE (provider_state != 'AA' AND \n",
    "                                                                   provider_state != 'AE' AND \n",
    "                                                                   provider_state != 'AS' AND\n",
    "                                                                   provider_state != 'AP' AND\n",
    "                                                                   provider_state != 'GU' AND\n",
    "                                                                   provider_state != 'MP' AND\n",
    "                                                                   provider_state != 'PR' AND\n",
    "                                                                   provider_state != 'VI' AND\n",
    "                                                                   provider_state != 'XX' AND\n",
    "                                                                   provider_state != 'ZZ')\n",
    "                                                   GROUP BY 1, 2, 3\n",
    "                                                   ORDER BY 1, 4 DESC) as ranks\n",
    "                   WHERE rank = 1\n",
    "              \"\"\""
   ]
  },
  {
   "cell_type": "code",
   "execution_count": 1144,
   "metadata": {
    "ExecuteTime": {
     "end_time": "2021-07-03T04:38:42.115730Z",
     "start_time": "2021-07-03T04:38:38.049013Z"
    },
    "code_folding": [],
    "hidden": true
   },
   "outputs": [
    {
     "name": "stdout",
     "output_type": "stream",
     "text": [
      "2806\n"
     ]
    },
    {
     "data": {
      "text/plain": [
       "state  zipcode  apc                            total_outpatient_services  average_total_payments  rank\n",
       "AK     99508    0634 - Hospital Clinic Visits  8739                       220.672185              1       1\n",
       "OH     44307    0634 - Hospital Clinic Visits  5456                       85.389500               1       1\n",
       "       44143    0634 - Hospital Clinic Visits  3139                       87.061682               1       1\n",
       "       44145    0634 - Hospital Clinic Visits  1541                       86.393303               1       1\n",
       "       44195    0634 - Hospital Clinic Visits  358931                     86.682060               1       1\n",
       "dtype: int64"
      ]
     },
     "execution_count": 1144,
     "metadata": {},
     "output_type": "execute_result"
    }
   ],
   "source": [
    "#  Process query\n",
    "most_common_apc = query_to_df(query)\n",
    "\n",
    "#  Check results\n",
    "print(len(most_common_apc))\n",
    "most_common_apc.value_counts().head()"
   ]
  },
  {
   "cell_type": "markdown",
   "metadata": {
    "heading_collapsed": true,
    "hidden": true
   },
   "source": [
    "##### Top 5 APC in the US"
   ]
  },
  {
   "cell_type": "code",
   "execution_count": 1146,
   "metadata": {
    "ExecuteTime": {
     "end_time": "2021-07-03T04:51:23.290575Z",
     "start_time": "2021-07-03T04:51:23.203995Z"
    },
    "hidden": true
   },
   "outputs": [
    {
     "data": {
      "text/html": [
       "<div>\n",
       "<style scoped>\n",
       "    .dataframe tbody tr th:only-of-type {\n",
       "        vertical-align: middle;\n",
       "    }\n",
       "\n",
       "    .dataframe tbody tr th {\n",
       "        vertical-align: top;\n",
       "    }\n",
       "\n",
       "    .dataframe thead th {\n",
       "        text-align: right;\n",
       "    }\n",
       "</style>\n",
       "<table border=\"1\" class=\"dataframe\">\n",
       "  <thead>\n",
       "    <tr style=\"text-align: right;\">\n",
       "      <th></th>\n",
       "      <th>apc</th>\n",
       "      <th>total_outpatient_services</th>\n",
       "    </tr>\n",
       "  </thead>\n",
       "  <tbody>\n",
       "    <tr>\n",
       "      <th>13</th>\n",
       "      <td>0634 - Hospital Clinic Visits</td>\n",
       "      <td>22651720</td>\n",
       "    </tr>\n",
       "    <tr>\n",
       "      <th>7</th>\n",
       "      <td>0269 - Level II Echocardiogram Without Contrast</td>\n",
       "      <td>260307</td>\n",
       "    </tr>\n",
       "    <tr>\n",
       "      <th>8</th>\n",
       "      <td>0336 - Magnetic Resonance Imaging and Magnetic...</td>\n",
       "      <td>100223</td>\n",
       "    </tr>\n",
       "    <tr>\n",
       "      <th>4</th>\n",
       "      <td>0207 - Level III Nerve Injections</td>\n",
       "      <td>75810</td>\n",
       "    </tr>\n",
       "    <tr>\n",
       "      <th>6</th>\n",
       "      <td>0267 - Level III Diagnostic and Screening Ultr...</td>\n",
       "      <td>64962</td>\n",
       "    </tr>\n",
       "  </tbody>\n",
       "</table>\n",
       "</div>"
      ],
      "text/plain": [
       "                                                  apc  \\\n",
       "13                      0634 - Hospital Clinic Visits   \n",
       "7     0269 - Level II Echocardiogram Without Contrast   \n",
       "8   0336 - Magnetic Resonance Imaging and Magnetic...   \n",
       "4                   0207 - Level III Nerve Injections   \n",
       "6   0267 - Level III Diagnostic and Screening Ultr...   \n",
       "\n",
       "    total_outpatient_services  \n",
       "13                   22651720  \n",
       "7                      260307  \n",
       "8                      100223  \n",
       "4                       75810  \n",
       "6                       64962  "
      ]
     },
     "execution_count": 1146,
     "metadata": {},
     "output_type": "execute_result"
    }
   ],
   "source": [
    "top_5_apc_us = most_common(most_common_apc, 'total_outpatient_services', 5, groupby='apc', counter=False)\n",
    "top_5_apc_us"
   ]
  },
  {
   "cell_type": "markdown",
   "metadata": {
    "hidden": true
   },
   "source": [
    "The 5 most common APCs in the US (in terms of total outpatient services) are: \n",
    "- 0634: Hospital Clinic Visits (~ 23M) \n",
    "- 0269: L2 Echocardiogram w/o contrast (~ 260k)\n",
    "- 0336: MRI (~ 100k)\n",
    "- 0207: L3 Nerve injections (~ 76k) \n",
    "- 0267: L3 Diagnostic and screening ultrasounds (~ 65k)\n",
    "\n",
    "Given that hospital clinic visits is more than three orders of magitudes larger than the next four combined, we expect that this would be the single most common APC in each state."
   ]
  },
  {
   "cell_type": "markdown",
   "metadata": {
    "heading_collapsed": true,
    "hidden": true
   },
   "source": [
    "##### Most common APC by state"
   ]
  },
  {
   "cell_type": "code",
   "execution_count": 1148,
   "metadata": {
    "ExecuteTime": {
     "end_time": "2021-07-03T04:53:34.126552Z",
     "start_time": "2021-07-03T04:53:34.078124Z"
    },
    "hidden": true
   },
   "outputs": [
    {
     "data": {
      "text/html": [
       "<div>\n",
       "<style scoped>\n",
       "    .dataframe tbody tr th:only-of-type {\n",
       "        vertical-align: middle;\n",
       "    }\n",
       "\n",
       "    .dataframe tbody tr th {\n",
       "        vertical-align: top;\n",
       "    }\n",
       "\n",
       "    .dataframe thead th {\n",
       "        text-align: right;\n",
       "    }\n",
       "</style>\n",
       "<table border=\"1\" class=\"dataframe\">\n",
       "  <thead>\n",
       "    <tr style=\"text-align: right;\">\n",
       "      <th></th>\n",
       "      <th>state</th>\n",
       "      <th>apc</th>\n",
       "      <th>total_outpatient_services</th>\n",
       "      <th>average_total_payments</th>\n",
       "    </tr>\n",
       "  </thead>\n",
       "  <tbody>\n",
       "    <tr>\n",
       "      <th>0</th>\n",
       "      <td>AK</td>\n",
       "      <td>0634 - Hospital Clinic Visits</td>\n",
       "      <td>17935</td>\n",
       "      <td>676.677802</td>\n",
       "    </tr>\n",
       "    <tr>\n",
       "      <th>1</th>\n",
       "      <td>AL</td>\n",
       "      <td>0015 - Level III Debridement &amp; Destruction</td>\n",
       "      <td>2195</td>\n",
       "      <td>252.064553</td>\n",
       "    </tr>\n",
       "    <tr>\n",
       "      <th>2</th>\n",
       "      <td>AL</td>\n",
       "      <td>0207 - Level III Nerve Injections</td>\n",
       "      <td>5438</td>\n",
       "      <td>2763.603221</td>\n",
       "    </tr>\n",
       "    <tr>\n",
       "      <th>3</th>\n",
       "      <td>AL</td>\n",
       "      <td>0265 - Level I Diagnostic and Screening Ultras...</td>\n",
       "      <td>145</td>\n",
       "      <td>73.310483</td>\n",
       "    </tr>\n",
       "    <tr>\n",
       "      <th>4</th>\n",
       "      <td>AL</td>\n",
       "      <td>0267 - Level III Diagnostic and Screening Ultr...</td>\n",
       "      <td>2043</td>\n",
       "      <td>2254.117451</td>\n",
       "    </tr>\n",
       "  </tbody>\n",
       "</table>\n",
       "</div>"
      ],
      "text/plain": [
       "  state                                                apc  \\\n",
       "0    AK                      0634 - Hospital Clinic Visits   \n",
       "1    AL         0015 - Level III Debridement & Destruction   \n",
       "2    AL                  0207 - Level III Nerve Injections   \n",
       "3    AL  0265 - Level I Diagnostic and Screening Ultras...   \n",
       "4    AL  0267 - Level III Diagnostic and Screening Ultr...   \n",
       "\n",
       "   total_outpatient_services  average_total_payments  \n",
       "0                      17935              676.677802  \n",
       "1                       2195              252.064553  \n",
       "2                       5438             2763.603221  \n",
       "3                        145               73.310483  \n",
       "4                       2043             2254.117451  "
      ]
     },
     "execution_count": 1148,
     "metadata": {},
     "output_type": "execute_result"
    }
   ],
   "source": [
    "#  Aggregate data by state, summing total discharges for each MS-DRG\n",
    "temp_df_apc = most_common_apc.groupby(['state', 'apc'])[['total_outpatient_services', 'average_total_payments']].sum()\n",
    "#  Reset index to flatten df\n",
    "temp_df_apc = temp_df_apc.reset_index()\n",
    "temp_df_apc.head()"
   ]
  },
  {
   "cell_type": "code",
   "execution_count": 1154,
   "metadata": {
    "ExecuteTime": {
     "end_time": "2021-07-03T05:08:58.066330Z",
     "start_time": "2021-07-03T05:08:57.904177Z"
    },
    "hidden": true
   },
   "outputs": [
    {
     "data": {
      "text/html": [
       "<div>\n",
       "<style scoped>\n",
       "    .dataframe tbody tr th:only-of-type {\n",
       "        vertical-align: middle;\n",
       "    }\n",
       "\n",
       "    .dataframe tbody tr th {\n",
       "        vertical-align: top;\n",
       "    }\n",
       "\n",
       "    .dataframe thead th {\n",
       "        text-align: right;\n",
       "    }\n",
       "</style>\n",
       "<table border=\"1\" class=\"dataframe\">\n",
       "  <thead>\n",
       "    <tr style=\"text-align: right;\">\n",
       "      <th></th>\n",
       "      <th>index</th>\n",
       "      <th>state</th>\n",
       "      <th>apc</th>\n",
       "      <th>total_outpatient_services</th>\n",
       "      <th>average_total_payments</th>\n",
       "      <th>rank_by_apc</th>\n",
       "    </tr>\n",
       "  </thead>\n",
       "  <tbody>\n",
       "    <tr>\n",
       "      <th>0</th>\n",
       "      <td>0</td>\n",
       "      <td>AK</td>\n",
       "      <td>0634 - Hospital Clinic Visits</td>\n",
       "      <td>17935</td>\n",
       "      <td>676.677802</td>\n",
       "      <td>1.0</td>\n",
       "    </tr>\n",
       "    <tr>\n",
       "      <th>1</th>\n",
       "      <td>1</td>\n",
       "      <td>AL</td>\n",
       "      <td>0015 - Level III Debridement &amp; Destruction</td>\n",
       "      <td>2195</td>\n",
       "      <td>252.064553</td>\n",
       "      <td>5.0</td>\n",
       "    </tr>\n",
       "    <tr>\n",
       "      <th>2</th>\n",
       "      <td>2</td>\n",
       "      <td>AL</td>\n",
       "      <td>0207 - Level III Nerve Injections</td>\n",
       "      <td>5438</td>\n",
       "      <td>2763.603221</td>\n",
       "      <td>4.0</td>\n",
       "    </tr>\n",
       "    <tr>\n",
       "      <th>3</th>\n",
       "      <td>3</td>\n",
       "      <td>AL</td>\n",
       "      <td>0265 - Level I Diagnostic and Screening Ultras...</td>\n",
       "      <td>145</td>\n",
       "      <td>73.310483</td>\n",
       "      <td>7.0</td>\n",
       "    </tr>\n",
       "    <tr>\n",
       "      <th>4</th>\n",
       "      <td>4</td>\n",
       "      <td>AL</td>\n",
       "      <td>0267 - Level III Diagnostic and Screening Ultr...</td>\n",
       "      <td>2043</td>\n",
       "      <td>2254.117451</td>\n",
       "      <td>6.0</td>\n",
       "    </tr>\n",
       "  </tbody>\n",
       "</table>\n",
       "</div>"
      ],
      "text/plain": [
       "   index state                                                apc  \\\n",
       "0      0    AK                      0634 - Hospital Clinic Visits   \n",
       "1      1    AL         0015 - Level III Debridement & Destruction   \n",
       "2      2    AL                  0207 - Level III Nerve Injections   \n",
       "3      3    AL  0265 - Level I Diagnostic and Screening Ultras...   \n",
       "4      4    AL  0267 - Level III Diagnostic and Screening Ultr...   \n",
       "\n",
       "   total_outpatient_services  average_total_payments  rank_by_apc  \n",
       "0                      17935              676.677802          1.0  \n",
       "1                       2195              252.064553          5.0  \n",
       "2                       5438             2763.603221          4.0  \n",
       "3                        145               73.310483          7.0  \n",
       "4                       2043             2254.117451          6.0  "
      ]
     },
     "execution_count": 1154,
     "metadata": {},
     "output_type": "execute_result"
    }
   ],
   "source": [
    "temp_df_apc['rank_by_apc'] = temp_df_apc.groupby('state')[['total_outpatient_services']].rank(ascending=False)\n",
    "temp_df_apc = temp_df_apc.reset_index()\n",
    "temp_df_apc.head()"
   ]
  },
  {
   "cell_type": "code",
   "execution_count": 1130,
   "metadata": {
    "ExecuteTime": {
     "end_time": "2021-07-03T03:59:38.107000Z",
     "start_time": "2021-07-03T03:59:38.036832Z"
    },
    "hidden": true
   },
   "outputs": [
    {
     "data": {
      "text/html": [
       "<div>\n",
       "<style scoped>\n",
       "    .dataframe tbody tr th:only-of-type {\n",
       "        vertical-align: middle;\n",
       "    }\n",
       "\n",
       "    .dataframe tbody tr th {\n",
       "        vertical-align: top;\n",
       "    }\n",
       "\n",
       "    .dataframe thead th {\n",
       "        text-align: right;\n",
       "    }\n",
       "</style>\n",
       "<table border=\"1\" class=\"dataframe\">\n",
       "  <thead>\n",
       "    <tr style=\"text-align: right;\">\n",
       "      <th></th>\n",
       "      <th>index</th>\n",
       "      <th>state</th>\n",
       "      <th>apc</th>\n",
       "      <th>total_outpatient_services</th>\n",
       "      <th>rank_by_apc</th>\n",
       "    </tr>\n",
       "  </thead>\n",
       "  <tbody>\n",
       "    <tr>\n",
       "      <th>0</th>\n",
       "      <td>0</td>\n",
       "      <td>AK</td>\n",
       "      <td>0634 - Hospital Clinic Visits</td>\n",
       "      <td>17935</td>\n",
       "      <td>1.0</td>\n",
       "    </tr>\n",
       "    <tr>\n",
       "      <th>7</th>\n",
       "      <td>7</td>\n",
       "      <td>AL</td>\n",
       "      <td>0634 - Hospital Clinic Visits</td>\n",
       "      <td>125011</td>\n",
       "      <td>1.0</td>\n",
       "    </tr>\n",
       "    <tr>\n",
       "      <th>13</th>\n",
       "      <td>13</td>\n",
       "      <td>AR</td>\n",
       "      <td>0634 - Hospital Clinic Visits</td>\n",
       "      <td>280430</td>\n",
       "      <td>1.0</td>\n",
       "    </tr>\n",
       "    <tr>\n",
       "      <th>21</th>\n",
       "      <td>21</td>\n",
       "      <td>AZ</td>\n",
       "      <td>0634 - Hospital Clinic Visits</td>\n",
       "      <td>172605</td>\n",
       "      <td>1.0</td>\n",
       "    </tr>\n",
       "    <tr>\n",
       "      <th>30</th>\n",
       "      <td>30</td>\n",
       "      <td>CA</td>\n",
       "      <td>0634 - Hospital Clinic Visits</td>\n",
       "      <td>1458274</td>\n",
       "      <td>1.0</td>\n",
       "    </tr>\n",
       "    <tr>\n",
       "      <th>37</th>\n",
       "      <td>37</td>\n",
       "      <td>CO</td>\n",
       "      <td>0634 - Hospital Clinic Visits</td>\n",
       "      <td>241086</td>\n",
       "      <td>1.0</td>\n",
       "    </tr>\n",
       "    <tr>\n",
       "      <th>43</th>\n",
       "      <td>43</td>\n",
       "      <td>CT</td>\n",
       "      <td>0634 - Hospital Clinic Visits</td>\n",
       "      <td>281677</td>\n",
       "      <td>1.0</td>\n",
       "    </tr>\n",
       "    <tr>\n",
       "      <th>45</th>\n",
       "      <td>45</td>\n",
       "      <td>DC</td>\n",
       "      <td>0634 - Hospital Clinic Visits</td>\n",
       "      <td>88160</td>\n",
       "      <td>1.0</td>\n",
       "    </tr>\n",
       "    <tr>\n",
       "      <th>46</th>\n",
       "      <td>46</td>\n",
       "      <td>DE</td>\n",
       "      <td>0634 - Hospital Clinic Visits</td>\n",
       "      <td>106688</td>\n",
       "      <td>1.0</td>\n",
       "    </tr>\n",
       "    <tr>\n",
       "      <th>52</th>\n",
       "      <td>52</td>\n",
       "      <td>FL</td>\n",
       "      <td>0634 - Hospital Clinic Visits</td>\n",
       "      <td>766486</td>\n",
       "      <td>1.0</td>\n",
       "    </tr>\n",
       "    <tr>\n",
       "      <th>60</th>\n",
       "      <td>60</td>\n",
       "      <td>GA</td>\n",
       "      <td>0634 - Hospital Clinic Visits</td>\n",
       "      <td>314509</td>\n",
       "      <td>1.0</td>\n",
       "    </tr>\n",
       "    <tr>\n",
       "      <th>65</th>\n",
       "      <td>65</td>\n",
       "      <td>HI</td>\n",
       "      <td>0634 - Hospital Clinic Visits</td>\n",
       "      <td>69177</td>\n",
       "      <td>1.0</td>\n",
       "    </tr>\n",
       "    <tr>\n",
       "      <th>68</th>\n",
       "      <td>68</td>\n",
       "      <td>IA</td>\n",
       "      <td>0634 - Hospital Clinic Visits</td>\n",
       "      <td>323210</td>\n",
       "      <td>1.0</td>\n",
       "    </tr>\n",
       "    <tr>\n",
       "      <th>70</th>\n",
       "      <td>70</td>\n",
       "      <td>ID</td>\n",
       "      <td>0634 - Hospital Clinic Visits</td>\n",
       "      <td>289683</td>\n",
       "      <td>1.0</td>\n",
       "    </tr>\n",
       "    <tr>\n",
       "      <th>76</th>\n",
       "      <td>76</td>\n",
       "      <td>IL</td>\n",
       "      <td>0634 - Hospital Clinic Visits</td>\n",
       "      <td>1116697</td>\n",
       "      <td>1.0</td>\n",
       "    </tr>\n",
       "    <tr>\n",
       "      <th>81</th>\n",
       "      <td>81</td>\n",
       "      <td>IN</td>\n",
       "      <td>0634 - Hospital Clinic Visits</td>\n",
       "      <td>351079</td>\n",
       "      <td>1.0</td>\n",
       "    </tr>\n",
       "    <tr>\n",
       "      <th>86</th>\n",
       "      <td>86</td>\n",
       "      <td>KS</td>\n",
       "      <td>0634 - Hospital Clinic Visits</td>\n",
       "      <td>154406</td>\n",
       "      <td>1.0</td>\n",
       "    </tr>\n",
       "    <tr>\n",
       "      <th>91</th>\n",
       "      <td>91</td>\n",
       "      <td>KY</td>\n",
       "      <td>0634 - Hospital Clinic Visits</td>\n",
       "      <td>250839</td>\n",
       "      <td>1.0</td>\n",
       "    </tr>\n",
       "    <tr>\n",
       "      <th>101</th>\n",
       "      <td>101</td>\n",
       "      <td>LA</td>\n",
       "      <td>0634 - Hospital Clinic Visits</td>\n",
       "      <td>341268</td>\n",
       "      <td>1.0</td>\n",
       "    </tr>\n",
       "    <tr>\n",
       "      <th>107</th>\n",
       "      <td>107</td>\n",
       "      <td>MA</td>\n",
       "      <td>0634 - Hospital Clinic Visits</td>\n",
       "      <td>1304950</td>\n",
       "      <td>1.0</td>\n",
       "    </tr>\n",
       "    <tr>\n",
       "      <th>108</th>\n",
       "      <td>108</td>\n",
       "      <td>ME</td>\n",
       "      <td>0634 - Hospital Clinic Visits</td>\n",
       "      <td>607518</td>\n",
       "      <td>1.0</td>\n",
       "    </tr>\n",
       "    <tr>\n",
       "      <th>114</th>\n",
       "      <td>114</td>\n",
       "      <td>MI</td>\n",
       "      <td>0634 - Hospital Clinic Visits</td>\n",
       "      <td>1117289</td>\n",
       "      <td>1.0</td>\n",
       "    </tr>\n",
       "    <tr>\n",
       "      <th>119</th>\n",
       "      <td>119</td>\n",
       "      <td>MN</td>\n",
       "      <td>0634 - Hospital Clinic Visits</td>\n",
       "      <td>718874</td>\n",
       "      <td>1.0</td>\n",
       "    </tr>\n",
       "    <tr>\n",
       "      <th>125</th>\n",
       "      <td>125</td>\n",
       "      <td>MO</td>\n",
       "      <td>0634 - Hospital Clinic Visits</td>\n",
       "      <td>572042</td>\n",
       "      <td>1.0</td>\n",
       "    </tr>\n",
       "    <tr>\n",
       "      <th>130</th>\n",
       "      <td>130</td>\n",
       "      <td>MS</td>\n",
       "      <td>0634 - Hospital Clinic Visits</td>\n",
       "      <td>118965</td>\n",
       "      <td>1.0</td>\n",
       "    </tr>\n",
       "    <tr>\n",
       "      <th>131</th>\n",
       "      <td>131</td>\n",
       "      <td>MT</td>\n",
       "      <td>0634 - Hospital Clinic Visits</td>\n",
       "      <td>298279</td>\n",
       "      <td>1.0</td>\n",
       "    </tr>\n",
       "    <tr>\n",
       "      <th>137</th>\n",
       "      <td>137</td>\n",
       "      <td>NC</td>\n",
       "      <td>0634 - Hospital Clinic Visits</td>\n",
       "      <td>885062</td>\n",
       "      <td>1.0</td>\n",
       "    </tr>\n",
       "    <tr>\n",
       "      <th>138</th>\n",
       "      <td>138</td>\n",
       "      <td>ND</td>\n",
       "      <td>0634 - Hospital Clinic Visits</td>\n",
       "      <td>365351</td>\n",
       "      <td>1.0</td>\n",
       "    </tr>\n",
       "    <tr>\n",
       "      <th>142</th>\n",
       "      <td>142</td>\n",
       "      <td>NE</td>\n",
       "      <td>0634 - Hospital Clinic Visits</td>\n",
       "      <td>48894</td>\n",
       "      <td>1.0</td>\n",
       "    </tr>\n",
       "    <tr>\n",
       "      <th>143</th>\n",
       "      <td>143</td>\n",
       "      <td>NH</td>\n",
       "      <td>0634 - Hospital Clinic Visits</td>\n",
       "      <td>437465</td>\n",
       "      <td>1.0</td>\n",
       "    </tr>\n",
       "    <tr>\n",
       "      <th>150</th>\n",
       "      <td>150</td>\n",
       "      <td>NJ</td>\n",
       "      <td>0634 - Hospital Clinic Visits</td>\n",
       "      <td>177020</td>\n",
       "      <td>1.0</td>\n",
       "    </tr>\n",
       "    <tr>\n",
       "      <th>157</th>\n",
       "      <td>157</td>\n",
       "      <td>NM</td>\n",
       "      <td>0634 - Hospital Clinic Visits</td>\n",
       "      <td>215756</td>\n",
       "      <td>1.0</td>\n",
       "    </tr>\n",
       "    <tr>\n",
       "      <th>160</th>\n",
       "      <td>160</td>\n",
       "      <td>NV</td>\n",
       "      <td>0634 - Hospital Clinic Visits</td>\n",
       "      <td>36288</td>\n",
       "      <td>1.0</td>\n",
       "    </tr>\n",
       "    <tr>\n",
       "      <th>169</th>\n",
       "      <td>169</td>\n",
       "      <td>NY</td>\n",
       "      <td>0634 - Hospital Clinic Visits</td>\n",
       "      <td>1406152</td>\n",
       "      <td>1.0</td>\n",
       "    </tr>\n",
       "    <tr>\n",
       "      <th>176</th>\n",
       "      <td>176</td>\n",
       "      <td>OH</td>\n",
       "      <td>0634 - Hospital Clinic Visits</td>\n",
       "      <td>1314332</td>\n",
       "      <td>1.0</td>\n",
       "    </tr>\n",
       "    <tr>\n",
       "      <th>183</th>\n",
       "      <td>183</td>\n",
       "      <td>OK</td>\n",
       "      <td>0634 - Hospital Clinic Visits</td>\n",
       "      <td>237615</td>\n",
       "      <td>1.0</td>\n",
       "    </tr>\n",
       "    <tr>\n",
       "      <th>186</th>\n",
       "      <td>186</td>\n",
       "      <td>OR</td>\n",
       "      <td>0634 - Hospital Clinic Visits</td>\n",
       "      <td>259787</td>\n",
       "      <td>1.0</td>\n",
       "    </tr>\n",
       "    <tr>\n",
       "      <th>194</th>\n",
       "      <td>194</td>\n",
       "      <td>PA</td>\n",
       "      <td>0634 - Hospital Clinic Visits</td>\n",
       "      <td>794572</td>\n",
       "      <td>1.0</td>\n",
       "    </tr>\n",
       "    <tr>\n",
       "      <th>197</th>\n",
       "      <td>197</td>\n",
       "      <td>RI</td>\n",
       "      <td>0634 - Hospital Clinic Visits</td>\n",
       "      <td>77681</td>\n",
       "      <td>1.0</td>\n",
       "    </tr>\n",
       "    <tr>\n",
       "      <th>204</th>\n",
       "      <td>204</td>\n",
       "      <td>SC</td>\n",
       "      <td>0634 - Hospital Clinic Visits</td>\n",
       "      <td>207058</td>\n",
       "      <td>1.0</td>\n",
       "    </tr>\n",
       "    <tr>\n",
       "      <th>207</th>\n",
       "      <td>207</td>\n",
       "      <td>SD</td>\n",
       "      <td>0634 - Hospital Clinic Visits</td>\n",
       "      <td>264966</td>\n",
       "      <td>1.0</td>\n",
       "    </tr>\n",
       "    <tr>\n",
       "      <th>213</th>\n",
       "      <td>213</td>\n",
       "      <td>TN</td>\n",
       "      <td>0634 - Hospital Clinic Visits</td>\n",
       "      <td>169041</td>\n",
       "      <td>1.0</td>\n",
       "    </tr>\n",
       "    <tr>\n",
       "      <th>222</th>\n",
       "      <td>222</td>\n",
       "      <td>TX</td>\n",
       "      <td>0634 - Hospital Clinic Visits</td>\n",
       "      <td>1135715</td>\n",
       "      <td>1.0</td>\n",
       "    </tr>\n",
       "    <tr>\n",
       "      <th>228</th>\n",
       "      <td>228</td>\n",
       "      <td>UT</td>\n",
       "      <td>0634 - Hospital Clinic Visits</td>\n",
       "      <td>157771</td>\n",
       "      <td>1.0</td>\n",
       "    </tr>\n",
       "    <tr>\n",
       "      <th>233</th>\n",
       "      <td>233</td>\n",
       "      <td>VA</td>\n",
       "      <td>0634 - Hospital Clinic Visits</td>\n",
       "      <td>871501</td>\n",
       "      <td>1.0</td>\n",
       "    </tr>\n",
       "    <tr>\n",
       "      <th>235</th>\n",
       "      <td>235</td>\n",
       "      <td>VT</td>\n",
       "      <td>0634 - Hospital Clinic Visits</td>\n",
       "      <td>209592</td>\n",
       "      <td>1.0</td>\n",
       "    </tr>\n",
       "    <tr>\n",
       "      <th>238</th>\n",
       "      <td>238</td>\n",
       "      <td>WA</td>\n",
       "      <td>0634 - Hospital Clinic Visits</td>\n",
       "      <td>829251</td>\n",
       "      <td>1.0</td>\n",
       "    </tr>\n",
       "    <tr>\n",
       "      <th>245</th>\n",
       "      <td>245</td>\n",
       "      <td>WI</td>\n",
       "      <td>0634 - Hospital Clinic Visits</td>\n",
       "      <td>856582</td>\n",
       "      <td>1.0</td>\n",
       "    </tr>\n",
       "    <tr>\n",
       "      <th>251</th>\n",
       "      <td>251</td>\n",
       "      <td>WV</td>\n",
       "      <td>0634 - Hospital Clinic Visits</td>\n",
       "      <td>205289</td>\n",
       "      <td>1.0</td>\n",
       "    </tr>\n",
       "    <tr>\n",
       "      <th>257</th>\n",
       "      <td>257</td>\n",
       "      <td>WY</td>\n",
       "      <td>0634 - Hospital Clinic Visits</td>\n",
       "      <td>1842</td>\n",
       "      <td>1.0</td>\n",
       "    </tr>\n",
       "  </tbody>\n",
       "</table>\n",
       "</div>"
      ],
      "text/plain": [
       "     index state                            apc  total_outpatient_services  \\\n",
       "0        0    AK  0634 - Hospital Clinic Visits                      17935   \n",
       "7        7    AL  0634 - Hospital Clinic Visits                     125011   \n",
       "13      13    AR  0634 - Hospital Clinic Visits                     280430   \n",
       "21      21    AZ  0634 - Hospital Clinic Visits                     172605   \n",
       "30      30    CA  0634 - Hospital Clinic Visits                    1458274   \n",
       "37      37    CO  0634 - Hospital Clinic Visits                     241086   \n",
       "43      43    CT  0634 - Hospital Clinic Visits                     281677   \n",
       "45      45    DC  0634 - Hospital Clinic Visits                      88160   \n",
       "46      46    DE  0634 - Hospital Clinic Visits                     106688   \n",
       "52      52    FL  0634 - Hospital Clinic Visits                     766486   \n",
       "60      60    GA  0634 - Hospital Clinic Visits                     314509   \n",
       "65      65    HI  0634 - Hospital Clinic Visits                      69177   \n",
       "68      68    IA  0634 - Hospital Clinic Visits                     323210   \n",
       "70      70    ID  0634 - Hospital Clinic Visits                     289683   \n",
       "76      76    IL  0634 - Hospital Clinic Visits                    1116697   \n",
       "81      81    IN  0634 - Hospital Clinic Visits                     351079   \n",
       "86      86    KS  0634 - Hospital Clinic Visits                     154406   \n",
       "91      91    KY  0634 - Hospital Clinic Visits                     250839   \n",
       "101    101    LA  0634 - Hospital Clinic Visits                     341268   \n",
       "107    107    MA  0634 - Hospital Clinic Visits                    1304950   \n",
       "108    108    ME  0634 - Hospital Clinic Visits                     607518   \n",
       "114    114    MI  0634 - Hospital Clinic Visits                    1117289   \n",
       "119    119    MN  0634 - Hospital Clinic Visits                     718874   \n",
       "125    125    MO  0634 - Hospital Clinic Visits                     572042   \n",
       "130    130    MS  0634 - Hospital Clinic Visits                     118965   \n",
       "131    131    MT  0634 - Hospital Clinic Visits                     298279   \n",
       "137    137    NC  0634 - Hospital Clinic Visits                     885062   \n",
       "138    138    ND  0634 - Hospital Clinic Visits                     365351   \n",
       "142    142    NE  0634 - Hospital Clinic Visits                      48894   \n",
       "143    143    NH  0634 - Hospital Clinic Visits                     437465   \n",
       "150    150    NJ  0634 - Hospital Clinic Visits                     177020   \n",
       "157    157    NM  0634 - Hospital Clinic Visits                     215756   \n",
       "160    160    NV  0634 - Hospital Clinic Visits                      36288   \n",
       "169    169    NY  0634 - Hospital Clinic Visits                    1406152   \n",
       "176    176    OH  0634 - Hospital Clinic Visits                    1314332   \n",
       "183    183    OK  0634 - Hospital Clinic Visits                     237615   \n",
       "186    186    OR  0634 - Hospital Clinic Visits                     259787   \n",
       "194    194    PA  0634 - Hospital Clinic Visits                     794572   \n",
       "197    197    RI  0634 - Hospital Clinic Visits                      77681   \n",
       "204    204    SC  0634 - Hospital Clinic Visits                     207058   \n",
       "207    207    SD  0634 - Hospital Clinic Visits                     264966   \n",
       "213    213    TN  0634 - Hospital Clinic Visits                     169041   \n",
       "222    222    TX  0634 - Hospital Clinic Visits                    1135715   \n",
       "228    228    UT  0634 - Hospital Clinic Visits                     157771   \n",
       "233    233    VA  0634 - Hospital Clinic Visits                     871501   \n",
       "235    235    VT  0634 - Hospital Clinic Visits                     209592   \n",
       "238    238    WA  0634 - Hospital Clinic Visits                     829251   \n",
       "245    245    WI  0634 - Hospital Clinic Visits                     856582   \n",
       "251    251    WV  0634 - Hospital Clinic Visits                     205289   \n",
       "257    257    WY  0634 - Hospital Clinic Visits                       1842   \n",
       "\n",
       "     rank_by_apc  \n",
       "0            1.0  \n",
       "7            1.0  \n",
       "13           1.0  \n",
       "21           1.0  \n",
       "30           1.0  \n",
       "37           1.0  \n",
       "43           1.0  \n",
       "45           1.0  \n",
       "46           1.0  \n",
       "52           1.0  \n",
       "60           1.0  \n",
       "65           1.0  \n",
       "68           1.0  \n",
       "70           1.0  \n",
       "76           1.0  \n",
       "81           1.0  \n",
       "86           1.0  \n",
       "91           1.0  \n",
       "101          1.0  \n",
       "107          1.0  \n",
       "108          1.0  \n",
       "114          1.0  \n",
       "119          1.0  \n",
       "125          1.0  \n",
       "130          1.0  \n",
       "131          1.0  \n",
       "137          1.0  \n",
       "138          1.0  \n",
       "142          1.0  \n",
       "143          1.0  \n",
       "150          1.0  \n",
       "157          1.0  \n",
       "160          1.0  \n",
       "169          1.0  \n",
       "176          1.0  \n",
       "183          1.0  \n",
       "186          1.0  \n",
       "194          1.0  \n",
       "197          1.0  \n",
       "204          1.0  \n",
       "207          1.0  \n",
       "213          1.0  \n",
       "222          1.0  \n",
       "228          1.0  \n",
       "233          1.0  \n",
       "235          1.0  \n",
       "238          1.0  \n",
       "245          1.0  \n",
       "251          1.0  \n",
       "257          1.0  "
      ]
     },
     "execution_count": 1130,
     "metadata": {},
     "output_type": "execute_result"
    }
   ],
   "source": [
    "most_common_state_apc = temp_df_apc.loc[temp_df_apc['rank_by_apc'] == 1.0]\n",
    "most_common_state_apc"
   ]
  },
  {
   "cell_type": "markdown",
   "metadata": {
    "hidden": true
   },
   "source": [
    "And this is actually the case!"
   ]
  },
  {
   "cell_type": "code",
   "execution_count": 1132,
   "metadata": {
    "ExecuteTime": {
     "end_time": "2021-07-03T04:01:58.461518Z",
     "start_time": "2021-07-03T04:01:58.452233Z"
    },
    "hidden": true
   },
   "outputs": [
    {
     "name": "stdout",
     "output_type": "stream",
     "text": [
      "{'0634 - Hospital Clinic Visits': 50}\n"
     ]
    }
   ],
   "source": [
    "#  Getting a count of states \n",
    "df = most_common_state_apc\n",
    "category = 'apc'\n",
    "N = 2\n",
    "most_common(df, category, N, groupby=None, counter=True)"
   ]
  },
  {
   "cell_type": "markdown",
   "metadata": {
    "heading_collapsed": true
   },
   "source": [
    "## Merge state datasets"
   ]
  },
  {
   "cell_type": "markdown",
   "metadata": {
    "heading_collapsed": true,
    "hidden": true
   },
   "source": [
    "### State population over 65 (est., 2014)"
   ]
  },
  {
   "cell_type": "markdown",
   "metadata": {
    "heading_collapsed": true,
    "hidden": true
   },
   "source": [
    "#### Looking at data"
   ]
  },
  {
   "cell_type": "code",
   "execution_count": 635,
   "metadata": {
    "ExecuteTime": {
     "end_time": "2021-06-27T15:42:35.565271Z",
     "start_time": "2021-06-27T15:42:33.972594Z"
    },
    "hidden": true
   },
   "outputs": [
    {
     "data": {
      "text/html": [
       "<div>\n",
       "<style scoped>\n",
       "    .dataframe tbody tr th:only-of-type {\n",
       "        vertical-align: middle;\n",
       "    }\n",
       "\n",
       "    .dataframe tbody tr th {\n",
       "        vertical-align: top;\n",
       "    }\n",
       "\n",
       "    .dataframe thead th {\n",
       "        text-align: right;\n",
       "    }\n",
       "</style>\n",
       "<table border=\"1\" class=\"dataframe\">\n",
       "  <thead>\n",
       "    <tr style=\"text-align: right;\">\n",
       "      <th></th>\n",
       "      <th>NAME</th>\n",
       "      <th>SEX</th>\n",
       "      <th>ORIGIN</th>\n",
       "      <th>RACE</th>\n",
       "      <th>AGE</th>\n",
       "      <th>POPESTIMATE2014</th>\n",
       "    </tr>\n",
       "  </thead>\n",
       "  <tbody>\n",
       "    <tr>\n",
       "      <th>0</th>\n",
       "      <td>Alabama</td>\n",
       "      <td>0</td>\n",
       "      <td>0</td>\n",
       "      <td>1</td>\n",
       "      <td>0</td>\n",
       "      <td>37575</td>\n",
       "    </tr>\n",
       "    <tr>\n",
       "      <th>1</th>\n",
       "      <td>Alabama</td>\n",
       "      <td>0</td>\n",
       "      <td>0</td>\n",
       "      <td>1</td>\n",
       "      <td>1</td>\n",
       "      <td>36968</td>\n",
       "    </tr>\n",
       "    <tr>\n",
       "      <th>2</th>\n",
       "      <td>Alabama</td>\n",
       "      <td>0</td>\n",
       "      <td>0</td>\n",
       "      <td>1</td>\n",
       "      <td>2</td>\n",
       "      <td>37769</td>\n",
       "    </tr>\n",
       "    <tr>\n",
       "      <th>3</th>\n",
       "      <td>Alabama</td>\n",
       "      <td>0</td>\n",
       "      <td>0</td>\n",
       "      <td>1</td>\n",
       "      <td>3</td>\n",
       "      <td>38605</td>\n",
       "    </tr>\n",
       "    <tr>\n",
       "      <th>4</th>\n",
       "      <td>Alabama</td>\n",
       "      <td>0</td>\n",
       "      <td>0</td>\n",
       "      <td>1</td>\n",
       "      <td>4</td>\n",
       "      <td>37751</td>\n",
       "    </tr>\n",
       "  </tbody>\n",
       "</table>\n",
       "</div>"
      ],
      "text/plain": [
       "      NAME  SEX  ORIGIN  RACE  AGE  POPESTIMATE2014\n",
       "0  Alabama    0       0     1    0            37575\n",
       "1  Alabama    0       0     1    1            36968\n",
       "2  Alabama    0       0     1    2            37769\n",
       "3  Alabama    0       0     1    3            38605\n",
       "4  Alabama    0       0     1    4            37751"
      ]
     },
     "execution_count": 635,
     "metadata": {},
     "output_type": "execute_result"
    }
   ],
   "source": [
    "# Pull in state population by age group data\n",
    "pop_alldata_2014 = pd.read_csv(\"../data/input/csv/sc-est2019-alldata6.csv\", usecols=[ \"NAME\", \"AGE\", \"SEX\", \n",
    "                                                                                                                                                 \"RACE\", \"ORIGIN\", \"POPESTIMATE2014\"])\n",
    "pop_alldata_2014.head()"
   ]
  },
  {
   "cell_type": "code",
   "execution_count": 636,
   "metadata": {
    "ExecuteTime": {
     "end_time": "2021-06-27T15:42:46.793280Z",
     "start_time": "2021-06-27T15:42:46.776276Z"
    },
    "hidden": true
   },
   "outputs": [
    {
     "data": {
      "text/html": [
       "<div>\n",
       "<style scoped>\n",
       "    .dataframe tbody tr th:only-of-type {\n",
       "        vertical-align: middle;\n",
       "    }\n",
       "\n",
       "    .dataframe tbody tr th {\n",
       "        vertical-align: top;\n",
       "    }\n",
       "\n",
       "    .dataframe thead th {\n",
       "        text-align: right;\n",
       "    }\n",
       "</style>\n",
       "<table border=\"1\" class=\"dataframe\">\n",
       "  <thead>\n",
       "    <tr style=\"text-align: right;\">\n",
       "      <th></th>\n",
       "      <th>NAME</th>\n",
       "      <th>SEX</th>\n",
       "      <th>ORIGIN</th>\n",
       "      <th>RACE</th>\n",
       "      <th>AGE</th>\n",
       "      <th>POPESTIMATE2014</th>\n",
       "    </tr>\n",
       "  </thead>\n",
       "  <tbody>\n",
       "    <tr>\n",
       "      <th>236839</th>\n",
       "      <td>Wyoming</td>\n",
       "      <td>2</td>\n",
       "      <td>2</td>\n",
       "      <td>6</td>\n",
       "      <td>81</td>\n",
       "      <td>2</td>\n",
       "    </tr>\n",
       "    <tr>\n",
       "      <th>236840</th>\n",
       "      <td>Wyoming</td>\n",
       "      <td>2</td>\n",
       "      <td>2</td>\n",
       "      <td>6</td>\n",
       "      <td>82</td>\n",
       "      <td>1</td>\n",
       "    </tr>\n",
       "    <tr>\n",
       "      <th>236841</th>\n",
       "      <td>Wyoming</td>\n",
       "      <td>2</td>\n",
       "      <td>2</td>\n",
       "      <td>6</td>\n",
       "      <td>83</td>\n",
       "      <td>2</td>\n",
       "    </tr>\n",
       "    <tr>\n",
       "      <th>236842</th>\n",
       "      <td>Wyoming</td>\n",
       "      <td>2</td>\n",
       "      <td>2</td>\n",
       "      <td>6</td>\n",
       "      <td>84</td>\n",
       "      <td>1</td>\n",
       "    </tr>\n",
       "    <tr>\n",
       "      <th>236843</th>\n",
       "      <td>Wyoming</td>\n",
       "      <td>2</td>\n",
       "      <td>2</td>\n",
       "      <td>6</td>\n",
       "      <td>85</td>\n",
       "      <td>3</td>\n",
       "    </tr>\n",
       "  </tbody>\n",
       "</table>\n",
       "</div>"
      ],
      "text/plain": [
       "           NAME  SEX  ORIGIN  RACE  AGE  POPESTIMATE2014\n",
       "236839  Wyoming    2       2     6   81                2\n",
       "236840  Wyoming    2       2     6   82                1\n",
       "236841  Wyoming    2       2     6   83                2\n",
       "236842  Wyoming    2       2     6   84                1\n",
       "236843  Wyoming    2       2     6   85                3"
      ]
     },
     "execution_count": 636,
     "metadata": {},
     "output_type": "execute_result"
    }
   ],
   "source": [
    "pop_alldata_2014.tail()"
   ]
  },
  {
   "cell_type": "markdown",
   "metadata": {
    "hidden": true
   },
   "source": [
    "AGE is single-year of age (0, 1, 2,… 84, 85+ years)\n",
    "\n",
    "The key for SEX is as follows:\n",
    "- 0 = Total\n",
    "- 1 = Male\n",
    "- 2 = Female\n",
    "\n",
    "The key for ORIGIN is as follows:\n",
    "- 0 = Total\n",
    "- 1 = Not Hispanic\n",
    "- 2 = Hispanic\n",
    "\n",
    "The key for RACE is as follows:\n",
    "- 1 = White Alone\n",
    "- 2 = Black or African American Alone\n",
    "- 3 = American Indian or Alaska Native Alone\n",
    "- 4 = Asian Alone\n",
    "- 5 = Native Hawaiian and Other Pacific Islander Alone\n",
    "- 6 = Two or more races\n",
    "\n",
    "We want (per state ages 65+): 1) total pop 2) percentages by gender 4) percent hisp 6) percentages by race"
   ]
  },
  {
   "cell_type": "code",
   "execution_count": 637,
   "metadata": {
    "ExecuteTime": {
     "end_time": "2021-06-27T15:43:04.634273Z",
     "start_time": "2021-06-27T15:43:04.628876Z"
    },
    "hidden": true
   },
   "outputs": [
    {
     "name": "stdout",
     "output_type": "stream",
     "text": [
      "236844\n"
     ]
    }
   ],
   "source": [
    "print(len(pop_alldata_2014))"
   ]
  },
  {
   "cell_type": "markdown",
   "metadata": {
    "heading_collapsed": true,
    "hidden": true
   },
   "source": [
    "#### Define helper calculation functions"
   ]
  },
  {
   "cell_type": "code",
   "execution_count": 714,
   "metadata": {
    "ExecuteTime": {
     "end_time": "2021-06-27T16:46:29.760168Z",
     "start_time": "2021-06-27T16:46:29.752486Z"
    },
    "hidden": true
   },
   "outputs": [],
   "source": [
    "def sum_data(df, where_category, value, column):\n",
    "    return df.where(df[where_category] == value)[column].sum()\n",
    "\n",
    "def calc_percent(df, category1, category2, state, val1, val2, column, use_sum=False):\n",
    "    if use_sum:\n",
    "            partial_sum =  df.where((df[category1] == state) & \n",
    "                                                (df[category2] == val1))[column].sum()\n",
    "            total_sum = val2\n",
    "    else:\n",
    "        partial_sum =  df.where((df[category1] == state) & \n",
    "                                                    (df[category2] == val1))[column].sum() \n",
    "        total_sum = df.where((df[category1] == state) & \n",
    "                                                    (df[category2] == val2))[column].sum()\n",
    "    percent = (partial_sum / total_sum) * 100\n",
    "    return percent"
   ]
  },
  {
   "cell_type": "markdown",
   "metadata": {
    "heading_collapsed": true,
    "hidden": true
   },
   "source": [
    "#### Defining useful dictionaries"
   ]
  },
  {
   "cell_type": "code",
   "execution_count": 640,
   "metadata": {
    "ExecuteTime": {
     "end_time": "2021-06-27T15:53:58.706426Z",
     "start_time": "2021-06-27T15:53:58.549573Z"
    },
    "code_folding": [
     1
    ],
    "hidden": true
   },
   "outputs": [],
   "source": [
    "# Source: A Python Dictionary to translate US States to Two letter codes (https://gist.github.com/rogerallen/1583593)\n",
    "us_state_abbrev = {\n",
    "    'Alabama': 'AL',\n",
    "    'Alaska': 'AK',\n",
    "    'Arizona': 'AZ',\n",
    "    'Arkansas': 'AR',\n",
    "    'California': 'CA',\n",
    "    'Colorado': 'CO',\n",
    "    'Connecticut': 'CT',\n",
    "    'Delaware': 'DE',\n",
    "    'District of Columbia': 'DC',\n",
    "    'Florida': 'FL',\n",
    "    'Georgia': 'GA',\n",
    "    'Hawaii': 'HI',\n",
    "    'Idaho': 'ID',\n",
    "    'Illinois': 'IL',\n",
    "    'Indiana': 'IN',\n",
    "    'Iowa': 'IA',\n",
    "    'Kansas': 'KS',\n",
    "    'Kentucky': 'KY',\n",
    "    'Louisiana': 'LA',\n",
    "    'Maine': 'ME',\n",
    "    'Maryland': 'MD',\n",
    "    'Massachusetts': 'MA',\n",
    "    'Michigan': 'MI',\n",
    "    'Minnesota': 'MN',\n",
    "    'Mississippi': 'MS',\n",
    "    'Missouri': 'MO',\n",
    "    'Montana': 'MT',\n",
    "    'Nebraska': 'NE',\n",
    "    'Nevada': 'NV',\n",
    "    'New Hampshire': 'NH',\n",
    "    'New Jersey': 'NJ',\n",
    "    'New Mexico': 'NM',\n",
    "    'New York': 'NY',\n",
    "    'North Carolina': 'NC',\n",
    "    'North Dakota': 'ND',\n",
    "    'Ohio': 'OH',\n",
    "    'Oklahoma': 'OK',\n",
    "    'Oregon': 'OR',\n",
    "    'Pennsylvania': 'PA',\n",
    "    'Rhode Island': 'RI',\n",
    "    'South Carolina': 'SC',\n",
    "    'South Dakota': 'SD',\n",
    "    'Tennessee': 'TN',\n",
    "    'Texas': 'TX',\n",
    "    'United States': 'US',\n",
    "    'Utah': 'UT',\n",
    "    'Vermont': 'VT',\n",
    "    'Virginia': 'VA',\n",
    "    'Washington': 'WA',\n",
    "    'West Virginia': 'WV',\n",
    "    'Wisconsin': 'WI',\n",
    "    'Wyoming': 'WY'\n",
    "}\n",
    "\n",
    "abbrev_us_state = dict(map(reversed, us_state_abbrev.items()))"
   ]
  },
  {
   "cell_type": "code",
   "execution_count": 709,
   "metadata": {
    "ExecuteTime": {
     "end_time": "2021-06-27T16:38:26.135440Z",
     "start_time": "2021-06-27T16:38:26.122118Z"
    },
    "code_folding": [],
    "hidden": true
   },
   "outputs": [],
   "source": [
    "data_key = {'total gender': 0.0, \n",
    "                     'm': 1.0, 'f': 2.0, \n",
    "                     'hisp': 1.0, 'white': 1.0, \n",
    "                     'black': 2.0, 'nam': 3.0, \n",
    "                      'asian': 4.0, 'nhi pi': 5.0, \n",
    "                      '2+': 6.0}"
   ]
  },
  {
   "cell_type": "markdown",
   "metadata": {
    "heading_collapsed": true,
    "hidden": true
   },
   "source": [
    "#### Pull and format data"
   ]
  },
  {
   "cell_type": "code",
   "execution_count": 638,
   "metadata": {
    "ExecuteTime": {
     "end_time": "2021-06-27T15:43:43.700372Z",
     "start_time": "2021-06-27T15:43:43.455561Z"
    },
    "code_folding": [
     0
    ],
    "hidden": true
   },
   "outputs": [],
   "source": [
    "# Want all ages over 65, but don't want to include 999 (which likley means 'unknown')\n",
    "pop_alldata_over_65_2014 = pop_alldata_2014[ (pop_alldata_2014[\"AGE\"] >= 65) &  (pop_alldata_2014[\"AGE\"] < 999)] "
   ]
  },
  {
   "cell_type": "code",
   "execution_count": 1189,
   "metadata": {
    "ExecuteTime": {
     "end_time": "2021-07-03T16:02:53.997966Z",
     "start_time": "2021-07-03T16:02:41.278075Z"
    },
    "code_folding": [],
    "hidden": true
   },
   "outputs": [
    {
     "name": "stderr",
     "output_type": "stream",
     "text": [
      "<ipython-input-714-46509bf6a8f4>:14: RuntimeWarning:\n",
      "\n",
      "invalid value encountered in double_scalars\n",
      "\n",
      "<ipython-input-714-46509bf6a8f4>:14: RuntimeWarning:\n",
      "\n",
      "invalid value encountered in double_scalars\n",
      "\n",
      "<ipython-input-714-46509bf6a8f4>:14: RuntimeWarning:\n",
      "\n",
      "invalid value encountered in double_scalars\n",
      "\n",
      "<ipython-input-714-46509bf6a8f4>:14: RuntimeWarning:\n",
      "\n",
      "invalid value encountered in double_scalars\n",
      "\n",
      "<ipython-input-714-46509bf6a8f4>:14: RuntimeWarning:\n",
      "\n",
      "invalid value encountered in double_scalars\n",
      "\n",
      "<ipython-input-714-46509bf6a8f4>:14: RuntimeWarning:\n",
      "\n",
      "invalid value encountered in double_scalars\n",
      "\n",
      "<ipython-input-714-46509bf6a8f4>:14: RuntimeWarning:\n",
      "\n",
      "invalid value encountered in double_scalars\n",
      "\n",
      "<ipython-input-714-46509bf6a8f4>:14: RuntimeWarning:\n",
      "\n",
      "invalid value encountered in double_scalars\n",
      "\n",
      "<ipython-input-714-46509bf6a8f4>:14: RuntimeWarning:\n",
      "\n",
      "invalid value encountered in double_scalars\n",
      "\n"
     ]
    }
   ],
   "source": [
    "#  Want demographics in terms of percent of folks over 65, and population sums for each state\n",
    "my_dict = {}\n",
    "for key, val in abbrev_us_state.items():\n",
    "    state_pop = sum_data(pop_alldata_over_65_2014, 'NAME', val,  'POPESTIMATE2014')\n",
    "    my_dict[val] = {\"State\": key, \n",
    "                                'Population over 65': state_pop,\n",
    "                                'Male (%)': calc_percent(pop_alldata_over_65_2014, 'NAME', 'SEX', val, data_key['m'], \n",
    "                                                                           data_key['total gender'], 'POPESTIMATE2014'),\n",
    "                                'Female (%)': calc_percent(pop_alldata_over_65_2014, 'NAME', 'SEX', val, data_key['f'], \n",
    "                                                                           data_key['total gender'], 'POPESTIMATE2014'),\n",
    "                                'White (%)': calc_percent(pop_alldata_over_65_2014, 'NAME', 'RACE', val, data_key['white'], \n",
    "                                                                           state_pop, 'POPESTIMATE2014', use_sum=True),\n",
    "                                'Black (%)': calc_percent(pop_alldata_over_65_2014, 'NAME', 'RACE', val, data_key['black'], \n",
    "                                                                           state_pop, 'POPESTIMATE2014', use_sum=True),\n",
    "                                'Native American (%)': calc_percent(pop_alldata_over_65_2014, 'NAME', 'RACE', val, \n",
    "                                                                            data_key['nam'], state_pop, 'POPESTIMATE2014', use_sum=True),\n",
    "                                'Asian (%)': calc_percent(pop_alldata_over_65_2014, 'NAME', 'RACE', val, \n",
    "                                                                            data_key['asian'], state_pop, 'POPESTIMATE2014', use_sum=True),\n",
    "                                'Native Hawaiian and Pacific Islander (%)': calc_percent(pop_alldata_over_65_2014, 'NAME', 'RACE', val, \n",
    "                                                                            data_key['nhi pi'], state_pop, 'POPESTIMATE2014', use_sum=True),\n",
    "                                'Two or More Races (%)': calc_percent(pop_alldata_over_65_2014, 'NAME', 'RACE', val, \n",
    "                                                                            data_key['2+'], state_pop, 'POPESTIMATE2014', use_sum=True),\n",
    "                                'Hispanic (%)': calc_percent(pop_alldata_over_65_2014, 'NAME', 'ORIGIN', val, \n",
    "                                                                            data_key['hisp'], state_pop, 'POPESTIMATE2014', use_sum=True)\n",
    "                                }"
   ]
  },
  {
   "cell_type": "code",
   "execution_count": 1190,
   "metadata": {
    "ExecuteTime": {
     "end_time": "2021-07-03T16:04:17.124514Z",
     "start_time": "2021-07-03T16:04:17.035624Z"
    },
    "hidden": true
   },
   "outputs": [
    {
     "data": {
      "text/html": [
       "<div>\n",
       "<style scoped>\n",
       "    .dataframe tbody tr th:only-of-type {\n",
       "        vertical-align: middle;\n",
       "    }\n",
       "\n",
       "    .dataframe tbody tr th {\n",
       "        vertical-align: top;\n",
       "    }\n",
       "\n",
       "    .dataframe thead th {\n",
       "        text-align: right;\n",
       "    }\n",
       "</style>\n",
       "<table border=\"1\" class=\"dataframe\">\n",
       "  <thead>\n",
       "    <tr style=\"text-align: right;\">\n",
       "      <th></th>\n",
       "      <th>State</th>\n",
       "      <th>Population over 65</th>\n",
       "      <th>Male (%)</th>\n",
       "      <th>Female (%)</th>\n",
       "      <th>White (%)</th>\n",
       "      <th>Black (%)</th>\n",
       "      <th>Native American (%)</th>\n",
       "      <th>Asian (%)</th>\n",
       "      <th>Native Hawaiian and Pacific Islander (%)</th>\n",
       "      <th>Two or More Races (%)</th>\n",
       "      <th>Hispanic (%)</th>\n",
       "    </tr>\n",
       "  </thead>\n",
       "  <tbody>\n",
       "    <tr>\n",
       "      <th>Alabama</th>\n",
       "      <td>AL</td>\n",
       "      <td>2967264.0</td>\n",
       "      <td>43.217860</td>\n",
       "      <td>56.782140</td>\n",
       "      <td>79.907147</td>\n",
       "      <td>18.243877</td>\n",
       "      <td>0.475050</td>\n",
       "      <td>0.655958</td>\n",
       "      <td>0.025478</td>\n",
       "      <td>0.692490</td>\n",
       "      <td>49.528657</td>\n",
       "    </tr>\n",
       "    <tr>\n",
       "      <th>Alaska</th>\n",
       "      <td>AK</td>\n",
       "      <td>279576.0</td>\n",
       "      <td>49.587947</td>\n",
       "      <td>50.412053</td>\n",
       "      <td>76.867828</td>\n",
       "      <td>2.057401</td>\n",
       "      <td>12.408790</td>\n",
       "      <td>5.923255</td>\n",
       "      <td>0.437806</td>\n",
       "      <td>2.304919</td>\n",
       "      <td>48.770281</td>\n",
       "    </tr>\n",
       "    <tr>\n",
       "      <th>Arizona</th>\n",
       "      <td>AZ</td>\n",
       "      <td>4239816.0</td>\n",
       "      <td>46.086245</td>\n",
       "      <td>53.913755</td>\n",
       "      <td>92.575999</td>\n",
       "      <td>2.212926</td>\n",
       "      <td>2.428879</td>\n",
       "      <td>1.953575</td>\n",
       "      <td>0.096891</td>\n",
       "      <td>0.731730</td>\n",
       "      <td>44.125594</td>\n",
       "    </tr>\n",
       "    <tr>\n",
       "      <th>Arkansas</th>\n",
       "      <td>AR</td>\n",
       "      <td>1862060.0</td>\n",
       "      <td>44.251420</td>\n",
       "      <td>55.748580</td>\n",
       "      <td>88.554826</td>\n",
       "      <td>9.309260</td>\n",
       "      <td>0.558951</td>\n",
       "      <td>0.630914</td>\n",
       "      <td>0.038452</td>\n",
       "      <td>0.907597</td>\n",
       "      <td>49.319786</td>\n",
       "    </tr>\n",
       "    <tr>\n",
       "      <th>California</th>\n",
       "      <td>CA</td>\n",
       "      <td>19803224.0</td>\n",
       "      <td>44.155315</td>\n",
       "      <td>55.844685</td>\n",
       "      <td>77.230576</td>\n",
       "      <td>5.423359</td>\n",
       "      <td>0.933000</td>\n",
       "      <td>14.692052</td>\n",
       "      <td>0.295326</td>\n",
       "      <td>1.425687</td>\n",
       "      <td>40.602924</td>\n",
       "    </tr>\n",
       "  </tbody>\n",
       "</table>\n",
       "</div>"
      ],
      "text/plain": [
       "           State  Population over 65   Male (%)  Female (%)  White (%)  \\\n",
       "Alabama       AL           2967264.0  43.217860   56.782140  79.907147   \n",
       "Alaska        AK            279576.0  49.587947   50.412053  76.867828   \n",
       "Arizona       AZ           4239816.0  46.086245   53.913755  92.575999   \n",
       "Arkansas      AR           1862060.0  44.251420   55.748580  88.554826   \n",
       "California    CA          19803224.0  44.155315   55.844685  77.230576   \n",
       "\n",
       "            Black (%)  Native American (%)  Asian (%)  \\\n",
       "Alabama     18.243877             0.475050   0.655958   \n",
       "Alaska       2.057401            12.408790   5.923255   \n",
       "Arizona      2.212926             2.428879   1.953575   \n",
       "Arkansas     9.309260             0.558951   0.630914   \n",
       "California   5.423359             0.933000  14.692052   \n",
       "\n",
       "            Native Hawaiian and Pacific Islander (%)  Two or More Races (%)  \\\n",
       "Alabama                                     0.025478               0.692490   \n",
       "Alaska                                      0.437806               2.304919   \n",
       "Arizona                                     0.096891               0.731730   \n",
       "Arkansas                                    0.038452               0.907597   \n",
       "California                                  0.295326               1.425687   \n",
       "\n",
       "            Hispanic (%)  \n",
       "Alabama        49.528657  \n",
       "Alaska         48.770281  \n",
       "Arizona        44.125594  \n",
       "Arkansas       49.319786  \n",
       "California     40.602924  "
      ]
     },
     "execution_count": 1190,
     "metadata": {},
     "output_type": "execute_result"
    }
   ],
   "source": [
    "state_data_over_65_2014 = pd.DataFrame.from_dict(my_dict, orient='index')\n",
    "state_data_over_65_2014.head()"
   ]
  },
  {
   "cell_type": "markdown",
   "metadata": {
    "heading_collapsed": true,
    "hidden": true
   },
   "source": [
    "#### Compiling medicare and population data"
   ]
  },
  {
   "cell_type": "code",
   "execution_count": 1200,
   "metadata": {
    "ExecuteTime": {
     "end_time": "2021-07-03T16:24:31.218394Z",
     "start_time": "2021-07-03T16:24:31.114840Z"
    },
    "hidden": true
   },
   "outputs": [
    {
     "data": {
      "text/html": [
       "<div>\n",
       "<style scoped>\n",
       "    .dataframe tbody tr th:only-of-type {\n",
       "        vertical-align: middle;\n",
       "    }\n",
       "\n",
       "    .dataframe tbody tr th {\n",
       "        vertical-align: top;\n",
       "    }\n",
       "\n",
       "    .dataframe thead th {\n",
       "        text-align: right;\n",
       "    }\n",
       "</style>\n",
       "<table border=\"1\" class=\"dataframe\">\n",
       "  <thead>\n",
       "    <tr style=\"text-align: right;\">\n",
       "      <th></th>\n",
       "      <th>state</th>\n",
       "      <th>total_discharges</th>\n",
       "      <th>inpatient_av_total_payments</th>\n",
       "      <th>total_outpatient_servies</th>\n",
       "      <th>outpatient_av_total_payments</th>\n",
       "      <th>num_prescribed</th>\n",
       "      <th>total_drug_cost</th>\n",
       "    </tr>\n",
       "  </thead>\n",
       "  <tbody>\n",
       "    <tr>\n",
       "      <th>0</th>\n",
       "      <td>AK</td>\n",
       "      <td>62346</td>\n",
       "      <td>5.098579e+07</td>\n",
       "      <td>1496971</td>\n",
       "      <td>7.397428e+05</td>\n",
       "      <td>428694</td>\n",
       "      <td>2.432429e+07</td>\n",
       "    </tr>\n",
       "    <tr>\n",
       "      <th>1</th>\n",
       "      <td>AL</td>\n",
       "      <td>1780806</td>\n",
       "      <td>5.357359e+08</td>\n",
       "      <td>43108168</td>\n",
       "      <td>1.660494e+07</td>\n",
       "      <td>14067221</td>\n",
       "      <td>7.515726e+08</td>\n",
       "    </tr>\n",
       "    <tr>\n",
       "      <th>2</th>\n",
       "      <td>AR</td>\n",
       "      <td>1312795</td>\n",
       "      <td>3.954642e+08</td>\n",
       "      <td>50587464</td>\n",
       "      <td>1.120277e+07</td>\n",
       "      <td>8452560</td>\n",
       "      <td>3.899176e+08</td>\n",
       "    </tr>\n",
       "    <tr>\n",
       "      <th>3</th>\n",
       "      <td>AZ</td>\n",
       "      <td>1263027</td>\n",
       "      <td>5.776273e+08</td>\n",
       "      <td>25075217</td>\n",
       "      <td>1.485696e+07</td>\n",
       "      <td>9845726</td>\n",
       "      <td>6.781368e+08</td>\n",
       "    </tr>\n",
       "    <tr>\n",
       "      <th>4</th>\n",
       "      <td>CA</td>\n",
       "      <td>6171333</td>\n",
       "      <td>3.575782e+09</td>\n",
       "      <td>251614007</td>\n",
       "      <td>8.115323e+07</td>\n",
       "      <td>61833844</td>\n",
       "      <td>4.568203e+09</td>\n",
       "    </tr>\n",
       "  </tbody>\n",
       "</table>\n",
       "</div>"
      ],
      "text/plain": [
       "  state  total_discharges  inpatient_av_total_payments  \\\n",
       "0    AK             62346                 5.098579e+07   \n",
       "1    AL           1780806                 5.357359e+08   \n",
       "2    AR           1312795                 3.954642e+08   \n",
       "3    AZ           1263027                 5.776273e+08   \n",
       "4    CA           6171333                 3.575782e+09   \n",
       "\n",
       "   total_outpatient_servies  outpatient_av_total_payments  num_prescribed  \\\n",
       "0                   1496971                  7.397428e+05          428694   \n",
       "1                  43108168                  1.660494e+07        14067221   \n",
       "2                  50587464                  1.120277e+07         8452560   \n",
       "3                  25075217                  1.485696e+07         9845726   \n",
       "4                 251614007                  8.115323e+07        61833844   \n",
       "\n",
       "   total_drug_cost  \n",
       "0     2.432429e+07  \n",
       "1     7.515726e+08  \n",
       "2     3.899176e+08  \n",
       "3     6.781368e+08  \n",
       "4     4.568203e+09  "
      ]
     },
     "execution_count": 1200,
     "metadata": {},
     "output_type": "execute_result"
    }
   ],
   "source": [
    "#  Merge in/outpatient data with prescription totals\n",
    "compiled_df = pd.merge(total_patient_av_payments, total_prescription_state, on=\"state\")\n",
    "compiled_df.head()"
   ]
  },
  {
   "cell_type": "code",
   "execution_count": 1201,
   "metadata": {
    "ExecuteTime": {
     "end_time": "2021-07-03T16:25:42.280916Z",
     "start_time": "2021-07-03T16:25:42.218667Z"
    },
    "hidden": true
   },
   "outputs": [
    {
     "data": {
      "text/html": [
       "<div>\n",
       "<style scoped>\n",
       "    .dataframe tbody tr th:only-of-type {\n",
       "        vertical-align: middle;\n",
       "    }\n",
       "\n",
       "    .dataframe tbody tr th {\n",
       "        vertical-align: top;\n",
       "    }\n",
       "\n",
       "    .dataframe thead th {\n",
       "        text-align: right;\n",
       "    }\n",
       "</style>\n",
       "<table border=\"1\" class=\"dataframe\">\n",
       "  <thead>\n",
       "    <tr style=\"text-align: right;\">\n",
       "      <th></th>\n",
       "      <th>state</th>\n",
       "      <th>total_discharges</th>\n",
       "      <th>inpatient_av_total_payments</th>\n",
       "      <th>total_outpatient_servies</th>\n",
       "      <th>outpatient_av_total_payments</th>\n",
       "      <th>num_prescribed</th>\n",
       "      <th>total_drug_cost</th>\n",
       "      <th>medication_perscribed</th>\n",
       "      <th>num_perscribed</th>\n",
       "      <th>rank</th>\n",
       "    </tr>\n",
       "  </thead>\n",
       "  <tbody>\n",
       "    <tr>\n",
       "      <th>0</th>\n",
       "      <td>AK</td>\n",
       "      <td>62346</td>\n",
       "      <td>5.098579e+07</td>\n",
       "      <td>1496971</td>\n",
       "      <td>7.397428e+05</td>\n",
       "      <td>428694</td>\n",
       "      <td>2.432429e+07</td>\n",
       "      <td>LISINOPRIL</td>\n",
       "      <td>24329</td>\n",
       "      <td>1</td>\n",
       "    </tr>\n",
       "    <tr>\n",
       "      <th>1</th>\n",
       "      <td>AL</td>\n",
       "      <td>1780806</td>\n",
       "      <td>5.357359e+08</td>\n",
       "      <td>43108168</td>\n",
       "      <td>1.660494e+07</td>\n",
       "      <td>14067221</td>\n",
       "      <td>7.515726e+08</td>\n",
       "      <td>HYDROCODONE/ACETAMINOPHEN</td>\n",
       "      <td>608744</td>\n",
       "      <td>1</td>\n",
       "    </tr>\n",
       "    <tr>\n",
       "      <th>2</th>\n",
       "      <td>AR</td>\n",
       "      <td>1312795</td>\n",
       "      <td>3.954642e+08</td>\n",
       "      <td>50587464</td>\n",
       "      <td>1.120277e+07</td>\n",
       "      <td>8452560</td>\n",
       "      <td>3.899176e+08</td>\n",
       "      <td>LEVOTHYROXINE SODIUM</td>\n",
       "      <td>363817</td>\n",
       "      <td>1</td>\n",
       "    </tr>\n",
       "    <tr>\n",
       "      <th>3</th>\n",
       "      <td>AZ</td>\n",
       "      <td>1263027</td>\n",
       "      <td>5.776273e+08</td>\n",
       "      <td>25075217</td>\n",
       "      <td>1.485696e+07</td>\n",
       "      <td>9845726</td>\n",
       "      <td>6.781368e+08</td>\n",
       "      <td>LEVOTHYROXINE SODIUM</td>\n",
       "      <td>611295</td>\n",
       "      <td>1</td>\n",
       "    </tr>\n",
       "    <tr>\n",
       "      <th>4</th>\n",
       "      <td>CA</td>\n",
       "      <td>6171333</td>\n",
       "      <td>3.575782e+09</td>\n",
       "      <td>251614007</td>\n",
       "      <td>8.115323e+07</td>\n",
       "      <td>61833844</td>\n",
       "      <td>4.568203e+09</td>\n",
       "      <td>LEVOTHYROXINE SODIUM</td>\n",
       "      <td>2542561</td>\n",
       "      <td>1</td>\n",
       "    </tr>\n",
       "  </tbody>\n",
       "</table>\n",
       "</div>"
      ],
      "text/plain": [
       "  state  total_discharges  inpatient_av_total_payments  \\\n",
       "0    AK             62346                 5.098579e+07   \n",
       "1    AL           1780806                 5.357359e+08   \n",
       "2    AR           1312795                 3.954642e+08   \n",
       "3    AZ           1263027                 5.776273e+08   \n",
       "4    CA           6171333                 3.575782e+09   \n",
       "\n",
       "   total_outpatient_servies  outpatient_av_total_payments  num_prescribed  \\\n",
       "0                   1496971                  7.397428e+05          428694   \n",
       "1                  43108168                  1.660494e+07        14067221   \n",
       "2                  50587464                  1.120277e+07         8452560   \n",
       "3                  25075217                  1.485696e+07         9845726   \n",
       "4                 251614007                  8.115323e+07        61833844   \n",
       "\n",
       "   total_drug_cost      medication_perscribed  num_perscribed  rank  \n",
       "0     2.432429e+07                 LISINOPRIL           24329     1  \n",
       "1     7.515726e+08  HYDROCODONE/ACETAMINOPHEN          608744     1  \n",
       "2     3.899176e+08       LEVOTHYROXINE SODIUM          363817     1  \n",
       "3     6.781368e+08       LEVOTHYROXINE SODIUM          611295     1  \n",
       "4     4.568203e+09       LEVOTHYROXINE SODIUM         2542561     1  "
      ]
     },
     "execution_count": 1201,
     "metadata": {},
     "output_type": "execute_result"
    }
   ],
   "source": [
    "#  Merge with most commonly prescribed data\n",
    "compiled_df = pd.merge(compiled_df, most_common_perscription, on='state')\n",
    "compiled_df.head()"
   ]
  },
  {
   "cell_type": "code",
   "execution_count": 1202,
   "metadata": {
    "ExecuteTime": {
     "end_time": "2021-07-03T16:26:53.749742Z",
     "start_time": "2021-07-03T16:26:53.745018Z"
    },
    "hidden": true
   },
   "outputs": [],
   "source": [
    "#  Renaming columns, will eventually drop 'rank'\n",
    "compiled_df.columns = ['State', \n",
    "                                            'Total discharges', \n",
    "                                            'Inpatient total payments (avg)', \n",
    "                                            'Total outpatient services', \n",
    "                                            'Outpatient total payments (avg)', \n",
    "                                            'Total prescriptions 65+ (Medicare D)', \n",
    "                                            'Total drug cost 65+',\n",
    "                                            'Top prescription',\n",
    "                                            'Number of prescriptions',\n",
    "                                            'rank']"
   ]
  },
  {
   "cell_type": "code",
   "execution_count": 1203,
   "metadata": {
    "ExecuteTime": {
     "end_time": "2021-07-03T16:28:04.379389Z",
     "start_time": "2021-07-03T16:28:04.358562Z"
    },
    "hidden": true
   },
   "outputs": [],
   "source": [
    "compiled_df['Percent of total prescriptions']=(compiled_df[\"Number of prescriptions\"] / \n",
    "                                                                                 compiled_df[\"Total prescriptions 65+ (Medicare D)\"]) * 100"
   ]
  },
  {
   "cell_type": "code",
   "execution_count": 1204,
   "metadata": {
    "ExecuteTime": {
     "end_time": "2021-07-03T16:29:11.554915Z",
     "start_time": "2021-07-03T16:29:11.502831Z"
    },
    "hidden": true
   },
   "outputs": [
    {
     "data": {
      "text/html": [
       "<div>\n",
       "<style scoped>\n",
       "    .dataframe tbody tr th:only-of-type {\n",
       "        vertical-align: middle;\n",
       "    }\n",
       "\n",
       "    .dataframe tbody tr th {\n",
       "        vertical-align: top;\n",
       "    }\n",
       "\n",
       "    .dataframe thead th {\n",
       "        text-align: right;\n",
       "    }\n",
       "</style>\n",
       "<table border=\"1\" class=\"dataframe\">\n",
       "  <thead>\n",
       "    <tr style=\"text-align: right;\">\n",
       "      <th></th>\n",
       "      <th>State</th>\n",
       "      <th>Population over 65</th>\n",
       "      <th>Total discharges</th>\n",
       "      <th>Inpatient total payments (avg)</th>\n",
       "      <th>Total outpatient services</th>\n",
       "      <th>Outpatient total payments (avg)</th>\n",
       "      <th>Total prescriptions 65+ (Medicare D)</th>\n",
       "      <th>Total drug cost 65+</th>\n",
       "      <th>Top prescription</th>\n",
       "      <th>Number of prescriptions</th>\n",
       "      <th>rank</th>\n",
       "      <th>Percent of total prescriptions</th>\n",
       "    </tr>\n",
       "  </thead>\n",
       "  <tbody>\n",
       "    <tr>\n",
       "      <th>0</th>\n",
       "      <td>AL</td>\n",
       "      <td>2967264.0</td>\n",
       "      <td>1780806</td>\n",
       "      <td>5.357359e+08</td>\n",
       "      <td>43108168</td>\n",
       "      <td>1.660494e+07</td>\n",
       "      <td>14067221</td>\n",
       "      <td>7.515726e+08</td>\n",
       "      <td>HYDROCODONE/ACETAMINOPHEN</td>\n",
       "      <td>608744</td>\n",
       "      <td>1</td>\n",
       "      <td>4.327393</td>\n",
       "    </tr>\n",
       "    <tr>\n",
       "      <th>1</th>\n",
       "      <td>AK</td>\n",
       "      <td>279576.0</td>\n",
       "      <td>62346</td>\n",
       "      <td>5.098579e+07</td>\n",
       "      <td>1496971</td>\n",
       "      <td>7.397428e+05</td>\n",
       "      <td>428694</td>\n",
       "      <td>2.432429e+07</td>\n",
       "      <td>LISINOPRIL</td>\n",
       "      <td>24329</td>\n",
       "      <td>1</td>\n",
       "      <td>5.675144</td>\n",
       "    </tr>\n",
       "    <tr>\n",
       "      <th>2</th>\n",
       "      <td>AZ</td>\n",
       "      <td>4239816.0</td>\n",
       "      <td>1263027</td>\n",
       "      <td>5.776273e+08</td>\n",
       "      <td>25075217</td>\n",
       "      <td>1.485696e+07</td>\n",
       "      <td>9845726</td>\n",
       "      <td>6.781368e+08</td>\n",
       "      <td>LEVOTHYROXINE SODIUM</td>\n",
       "      <td>611295</td>\n",
       "      <td>1</td>\n",
       "      <td>6.208735</td>\n",
       "    </tr>\n",
       "    <tr>\n",
       "      <th>3</th>\n",
       "      <td>AR</td>\n",
       "      <td>1862060.0</td>\n",
       "      <td>1312795</td>\n",
       "      <td>3.954642e+08</td>\n",
       "      <td>50587464</td>\n",
       "      <td>1.120277e+07</td>\n",
       "      <td>8452560</td>\n",
       "      <td>3.899176e+08</td>\n",
       "      <td>LEVOTHYROXINE SODIUM</td>\n",
       "      <td>363817</td>\n",
       "      <td>1</td>\n",
       "      <td>4.304223</td>\n",
       "    </tr>\n",
       "    <tr>\n",
       "      <th>4</th>\n",
       "      <td>CA</td>\n",
       "      <td>19803224.0</td>\n",
       "      <td>6171333</td>\n",
       "      <td>3.575782e+09</td>\n",
       "      <td>251614007</td>\n",
       "      <td>8.115323e+07</td>\n",
       "      <td>61833844</td>\n",
       "      <td>4.568203e+09</td>\n",
       "      <td>LEVOTHYROXINE SODIUM</td>\n",
       "      <td>2542561</td>\n",
       "      <td>1</td>\n",
       "      <td>4.111925</td>\n",
       "    </tr>\n",
       "  </tbody>\n",
       "</table>\n",
       "</div>"
      ],
      "text/plain": [
       "  State  Population over 65  Total discharges  Inpatient total payments (avg)  \\\n",
       "0    AL           2967264.0           1780806                    5.357359e+08   \n",
       "1    AK            279576.0             62346                    5.098579e+07   \n",
       "2    AZ           4239816.0           1263027                    5.776273e+08   \n",
       "3    AR           1862060.0           1312795                    3.954642e+08   \n",
       "4    CA          19803224.0           6171333                    3.575782e+09   \n",
       "\n",
       "   Total outpatient services  Outpatient total payments (avg)  \\\n",
       "0                   43108168                     1.660494e+07   \n",
       "1                    1496971                     7.397428e+05   \n",
       "2                   25075217                     1.485696e+07   \n",
       "3                   50587464                     1.120277e+07   \n",
       "4                  251614007                     8.115323e+07   \n",
       "\n",
       "   Total prescriptions 65+ (Medicare D)  Total drug cost 65+  \\\n",
       "0                              14067221         7.515726e+08   \n",
       "1                                428694         2.432429e+07   \n",
       "2                               9845726         6.781368e+08   \n",
       "3                               8452560         3.899176e+08   \n",
       "4                              61833844         4.568203e+09   \n",
       "\n",
       "            Top prescription  Number of prescriptions  rank  \\\n",
       "0  HYDROCODONE/ACETAMINOPHEN                   608744     1   \n",
       "1                 LISINOPRIL                    24329     1   \n",
       "2       LEVOTHYROXINE SODIUM                   611295     1   \n",
       "3       LEVOTHYROXINE SODIUM                   363817     1   \n",
       "4       LEVOTHYROXINE SODIUM                  2542561     1   \n",
       "\n",
       "   Percent of total prescriptions  \n",
       "0                        4.327393  \n",
       "1                        5.675144  \n",
       "2                        6.208735  \n",
       "3                        4.304223  \n",
       "4                        4.111925  "
      ]
     },
     "execution_count": 1204,
     "metadata": {},
     "output_type": "execute_result"
    }
   ],
   "source": [
    "compiled_df = pd.merge(state_data_over_65_2014[['State', 'Population over 65']], compiled_df, on='State')\n",
    "compiled_df.head()"
   ]
  },
  {
   "cell_type": "code",
   "execution_count": 1207,
   "metadata": {
    "ExecuteTime": {
     "end_time": "2021-07-03T16:45:22.762553Z",
     "start_time": "2021-07-03T16:45:22.747072Z"
    },
    "hidden": true
   },
   "outputs": [],
   "source": [
    "#  Per capita normalizes data so that it's not skewed by state population size\n",
    "compiled_df['Total perscriptions per 100k'] = (compiled_df['Total prescriptions 65+ (Medicare D)'] / \n",
    "                                                                                 compiled_df['Population over 65']) * 100000"
   ]
  },
  {
   "cell_type": "code",
   "execution_count": 1206,
   "metadata": {
    "ExecuteTime": {
     "end_time": "2021-07-03T16:42:40.671829Z",
     "start_time": "2021-07-03T16:42:40.627180Z"
    },
    "hidden": true
   },
   "outputs": [
    {
     "data": {
      "text/plain": [
       "5.16"
      ]
     },
     "execution_count": 1206,
     "metadata": {},
     "output_type": "execute_result"
    }
   ],
   "source": [
    "np.round(compiled_df['Percent of total prescriptions'].mean(), 2)"
   ]
  },
  {
   "cell_type": "markdown",
   "metadata": {
    "hidden": true
   },
   "source": [
    "Table: When we look at what percentage the most commonly perscribed medication is compared to the total number of perscriptions, we get an average value of ~5.2%, i.e., it makes up a small piece of the prescription pie."
   ]
  },
  {
   "cell_type": "code",
   "execution_count": 1213,
   "metadata": {
    "ExecuteTime": {
     "end_time": "2021-07-03T17:07:20.956889Z",
     "start_time": "2021-07-03T17:07:20.945890Z"
    },
    "hidden": true
   },
   "outputs": [],
   "source": [
    "# Dropping rank column\n",
    "compiled_df = compiled_df.drop(columns=['rank'])"
   ]
  },
  {
   "cell_type": "code",
   "execution_count": 1223,
   "metadata": {
    "ExecuteTime": {
     "end_time": "2021-07-03T17:34:34.226680Z",
     "start_time": "2021-07-03T17:34:34.104095Z"
    },
    "hidden": true
   },
   "outputs": [
    {
     "data": {
      "text/html": [
       "<div>\n",
       "<style scoped>\n",
       "    .dataframe tbody tr th:only-of-type {\n",
       "        vertical-align: middle;\n",
       "    }\n",
       "\n",
       "    .dataframe tbody tr th {\n",
       "        vertical-align: top;\n",
       "    }\n",
       "\n",
       "    .dataframe thead th {\n",
       "        text-align: right;\n",
       "    }\n",
       "</style>\n",
       "<table border=\"1\" class=\"dataframe\">\n",
       "  <thead>\n",
       "    <tr style=\"text-align: right;\">\n",
       "      <th></th>\n",
       "      <th>State</th>\n",
       "      <th>Population over 65</th>\n",
       "      <th>Total discharges</th>\n",
       "      <th>Inpatient total payments (avg)</th>\n",
       "      <th>Total outpatient services</th>\n",
       "      <th>Outpatient total payments (avg)</th>\n",
       "      <th>Total prescriptions 65+ (Medicare D)</th>\n",
       "      <th>Total perscriptions per 100k</th>\n",
       "      <th>Total drug cost 65+</th>\n",
       "      <th>Top prescription</th>\n",
       "      <th>Number of prescriptions</th>\n",
       "      <th>Percent of total prescriptions</th>\n",
       "    </tr>\n",
       "  </thead>\n",
       "  <tbody>\n",
       "    <tr>\n",
       "      <th>0</th>\n",
       "      <td>AL</td>\n",
       "      <td>2967264.0</td>\n",
       "      <td>1780806</td>\n",
       "      <td>5.357359e+08</td>\n",
       "      <td>43108168</td>\n",
       "      <td>1.660494e+07</td>\n",
       "      <td>14067221</td>\n",
       "      <td>474080.533448</td>\n",
       "      <td>7.515726e+08</td>\n",
       "      <td>HYDROCODONE/ACETAMINOPHEN</td>\n",
       "      <td>608744</td>\n",
       "      <td>4.327393</td>\n",
       "    </tr>\n",
       "    <tr>\n",
       "      <th>1</th>\n",
       "      <td>AK</td>\n",
       "      <td>279576.0</td>\n",
       "      <td>62346</td>\n",
       "      <td>5.098579e+07</td>\n",
       "      <td>1496971</td>\n",
       "      <td>7.397428e+05</td>\n",
       "      <td>428694</td>\n",
       "      <td>153337.196326</td>\n",
       "      <td>2.432429e+07</td>\n",
       "      <td>LISINOPRIL</td>\n",
       "      <td>24329</td>\n",
       "      <td>5.675144</td>\n",
       "    </tr>\n",
       "    <tr>\n",
       "      <th>2</th>\n",
       "      <td>AZ</td>\n",
       "      <td>4239816.0</td>\n",
       "      <td>1263027</td>\n",
       "      <td>5.776273e+08</td>\n",
       "      <td>25075217</td>\n",
       "      <td>1.485696e+07</td>\n",
       "      <td>9845726</td>\n",
       "      <td>232220.596366</td>\n",
       "      <td>6.781368e+08</td>\n",
       "      <td>LEVOTHYROXINE SODIUM</td>\n",
       "      <td>611295</td>\n",
       "      <td>6.208735</td>\n",
       "    </tr>\n",
       "    <tr>\n",
       "      <th>3</th>\n",
       "      <td>AR</td>\n",
       "      <td>1862060.0</td>\n",
       "      <td>1312795</td>\n",
       "      <td>3.954642e+08</td>\n",
       "      <td>50587464</td>\n",
       "      <td>1.120277e+07</td>\n",
       "      <td>8452560</td>\n",
       "      <td>453935.963395</td>\n",
       "      <td>3.899176e+08</td>\n",
       "      <td>LEVOTHYROXINE SODIUM</td>\n",
       "      <td>363817</td>\n",
       "      <td>4.304223</td>\n",
       "    </tr>\n",
       "    <tr>\n",
       "      <th>4</th>\n",
       "      <td>CA</td>\n",
       "      <td>19803224.0</td>\n",
       "      <td>6171333</td>\n",
       "      <td>3.575782e+09</td>\n",
       "      <td>251614007</td>\n",
       "      <td>8.115323e+07</td>\n",
       "      <td>61833844</td>\n",
       "      <td>312241.299699</td>\n",
       "      <td>4.568203e+09</td>\n",
       "      <td>LEVOTHYROXINE SODIUM</td>\n",
       "      <td>2542561</td>\n",
       "      <td>4.111925</td>\n",
       "    </tr>\n",
       "  </tbody>\n",
       "</table>\n",
       "</div>"
      ],
      "text/plain": [
       "  State  Population over 65  Total discharges  Inpatient total payments (avg)  \\\n",
       "0    AL           2967264.0           1780806                    5.357359e+08   \n",
       "1    AK            279576.0             62346                    5.098579e+07   \n",
       "2    AZ           4239816.0           1263027                    5.776273e+08   \n",
       "3    AR           1862060.0           1312795                    3.954642e+08   \n",
       "4    CA          19803224.0           6171333                    3.575782e+09   \n",
       "\n",
       "   Total outpatient services  Outpatient total payments (avg)  \\\n",
       "0                   43108168                     1.660494e+07   \n",
       "1                    1496971                     7.397428e+05   \n",
       "2                   25075217                     1.485696e+07   \n",
       "3                   50587464                     1.120277e+07   \n",
       "4                  251614007                     8.115323e+07   \n",
       "\n",
       "   Total prescriptions 65+ (Medicare D)  Total perscriptions per 100k  \\\n",
       "0                              14067221                 474080.533448   \n",
       "1                                428694                 153337.196326   \n",
       "2                               9845726                 232220.596366   \n",
       "3                               8452560                 453935.963395   \n",
       "4                              61833844                 312241.299699   \n",
       "\n",
       "   Total drug cost 65+           Top prescription  Number of prescriptions  \\\n",
       "0         7.515726e+08  HYDROCODONE/ACETAMINOPHEN                   608744   \n",
       "1         2.432429e+07                 LISINOPRIL                    24329   \n",
       "2         6.781368e+08       LEVOTHYROXINE SODIUM                   611295   \n",
       "3         3.899176e+08       LEVOTHYROXINE SODIUM                   363817   \n",
       "4         4.568203e+09       LEVOTHYROXINE SODIUM                  2542561   \n",
       "\n",
       "   Percent of total prescriptions  \n",
       "0                        4.327393  \n",
       "1                        5.675144  \n",
       "2                        6.208735  \n",
       "3                        4.304223  \n",
       "4                        4.111925  "
      ]
     },
     "execution_count": 1223,
     "metadata": {},
     "output_type": "execute_result"
    }
   ],
   "source": [
    "#  Shifting per capita column and finalizing variable name\n",
    "state_med_pop_data = compiled_df[['State',\n",
    "                                                                  'Population over 65',\n",
    "                                                                  'Total discharges', \n",
    "                                                                  'Inpatient total payments (avg)', \n",
    "                                                                  'Total outpatient services', \n",
    "                                                                  'Outpatient total payments (avg)', \n",
    "                                                                  'Total prescriptions 65+ (Medicare D)', \n",
    "                                                                  'Total perscriptions per 100k', \n",
    "                                                                  'Total drug cost 65+',\n",
    "                                                                  'Top prescription',\n",
    "                                                                  'Number of prescriptions',\n",
    "                                                                  'Percent of total prescriptions']]\n",
    "state_med_pop_data.head()"
   ]
  },
  {
   "cell_type": "markdown",
   "metadata": {
    "heading_collapsed": true,
    "hidden": true
   },
   "source": [
    "#### Plot: Number of perscriptions per capita (over 65)"
   ]
  },
  {
   "cell_type": "code",
   "execution_count": 1225,
   "metadata": {
    "ExecuteTime": {
     "end_time": "2021-07-03T17:36:05.098406Z",
     "start_time": "2021-07-03T17:36:04.679197Z"
    },
    "hidden": true,
    "scrolled": true
   },
   "outputs": [
    {
     "data": {
      "application/vnd.plotly.v1+json": {
       "config": {
        "plotlyServerURL": "https://plotly.com"
       },
       "data": [
        {
         "alignmentgroup": "True",
         "hovertemplate": "State=%{x}<br>=%{y}<br>Population over 65=%{marker.color}<extra></extra>",
         "legendgroup": "",
         "marker": {
          "color": [
           279576,
           327824,
           309376,
           849028,
           918924,
           1269060,
           422556,
           2702640,
           615796,
           4239816,
           1176544,
           3942632,
           1600164,
           678340,
           925752,
           972768,
           3110104,
           2511540,
           5269872,
           4591688,
           2252040,
           6124864,
           3481504,
           19803224,
           7196932,
           4082484,
           12319260,
           15082188,
           2244544,
           11694912,
           513304,
           3043484,
           3767316,
           1658416,
           418536,
           7199992,
           8538972,
           1083268,
           5835596,
           1958552,
           4992452,
           3730236,
           1317204,
           1862060,
           3931888,
           2967264,
           666240,
           2537576,
           1704688,
           2618168
          ],
          "coloraxis": "coloraxis",
          "pattern": {
           "shape": ""
          }
         },
         "name": "",
         "offsetgroup": "",
         "orientation": "v",
         "showlegend": false,
         "textposition": "auto",
         "type": "bar",
         "x": [
          "AK",
          "WY",
          "DC",
          "NH",
          "HI",
          "NM",
          "VT",
          "CO",
          "DE",
          "AZ",
          "UT",
          "WA",
          "NV",
          "MT",
          "ID",
          "ME",
          "MN",
          "OR",
          "NJ",
          "VA",
          "CT",
          "MI",
          "WI",
          "CA",
          "IL",
          "MA",
          "TX",
          "FL",
          "OK",
          "NY",
          "SD",
          "SC",
          "IN",
          "KS",
          "ND",
          "OH",
          "PA",
          "NE",
          "NC",
          "IA",
          "GA",
          "MO",
          "WV",
          "AR",
          "TN",
          "AL",
          "RI",
          "LA",
          "MS",
          "KY"
         ],
         "xaxis": "x",
         "y": [
          153337.19632586488,
          211927.43667333692,
          215380.31392221764,
          216166.01572621867,
          221843.37333664158,
          224081.91890060357,
          226504.6526377569,
          229112.31240564783,
          230518.54835042774,
          232220.5963655027,
          232782.3693801507,
          233806.1731351037,
          240901.9325519134,
          244971.84302856977,
          254347.49263301617,
          259375.3083983026,
          272889.33103201695,
          278466.677815205,
          281492.16906976106,
          287123.646031699,
          294392.2399246905,
          304795.4207636284,
          310979.73749276175,
          312241.29969948326,
          313721.8053470562,
          324940.20797142136,
          326779.9932788171,
          332862.0953405434,
          340883.89445695875,
          364596.0055107726,
          379090.75323784736,
          381000.42582776846,
          384111.2080855442,
          391335.40679781185,
          392125.16963893187,
          393412.3954582171,
          399967.3731217294,
          406051.9649800419,
          419546.6067219184,
          422062.7279745445,
          431135.7625471412,
          436870.8843086604,
          446445.04571805126,
          453935.96339537925,
          465602.40271340386,
          474080.5334476474,
          476702.2394332373,
          486125.578110764,
          498746.5154913979,
          529389.9398357936
         ],
         "yaxis": "y"
        }
       ],
       "layout": {
        "barmode": "relative",
        "coloraxis": {
         "colorbar": {
          "title": {
           "text": "Population over 65"
          }
         },
         "colorscale": [
          [
           0,
           "#0d0887"
          ],
          [
           0.1111111111111111,
           "#46039f"
          ],
          [
           0.2222222222222222,
           "#7201a8"
          ],
          [
           0.3333333333333333,
           "#9c179e"
          ],
          [
           0.4444444444444444,
           "#bd3786"
          ],
          [
           0.5555555555555556,
           "#d8576b"
          ],
          [
           0.6666666666666666,
           "#ed7953"
          ],
          [
           0.7777777777777778,
           "#fb9f3a"
          ],
          [
           0.8888888888888888,
           "#fdca26"
          ],
          [
           1,
           "#f0f921"
          ]
         ]
        },
        "legend": {
         "tracegroupgap": 0
        },
        "template": {
         "data": {
          "bar": [
           {
            "error_x": {
             "color": "#2a3f5f"
            },
            "error_y": {
             "color": "#2a3f5f"
            },
            "marker": {
             "line": {
              "color": "#E5ECF6",
              "width": 0.5
             },
             "pattern": {
              "fillmode": "overlay",
              "size": 10,
              "solidity": 0.2
             }
            },
            "type": "bar"
           }
          ],
          "barpolar": [
           {
            "marker": {
             "line": {
              "color": "#E5ECF6",
              "width": 0.5
             },
             "pattern": {
              "fillmode": "overlay",
              "size": 10,
              "solidity": 0.2
             }
            },
            "type": "barpolar"
           }
          ],
          "carpet": [
           {
            "aaxis": {
             "endlinecolor": "#2a3f5f",
             "gridcolor": "white",
             "linecolor": "white",
             "minorgridcolor": "white",
             "startlinecolor": "#2a3f5f"
            },
            "baxis": {
             "endlinecolor": "#2a3f5f",
             "gridcolor": "white",
             "linecolor": "white",
             "minorgridcolor": "white",
             "startlinecolor": "#2a3f5f"
            },
            "type": "carpet"
           }
          ],
          "choropleth": [
           {
            "colorbar": {
             "outlinewidth": 0,
             "ticks": ""
            },
            "type": "choropleth"
           }
          ],
          "contour": [
           {
            "colorbar": {
             "outlinewidth": 0,
             "ticks": ""
            },
            "colorscale": [
             [
              0,
              "#0d0887"
             ],
             [
              0.1111111111111111,
              "#46039f"
             ],
             [
              0.2222222222222222,
              "#7201a8"
             ],
             [
              0.3333333333333333,
              "#9c179e"
             ],
             [
              0.4444444444444444,
              "#bd3786"
             ],
             [
              0.5555555555555556,
              "#d8576b"
             ],
             [
              0.6666666666666666,
              "#ed7953"
             ],
             [
              0.7777777777777778,
              "#fb9f3a"
             ],
             [
              0.8888888888888888,
              "#fdca26"
             ],
             [
              1,
              "#f0f921"
             ]
            ],
            "type": "contour"
           }
          ],
          "contourcarpet": [
           {
            "colorbar": {
             "outlinewidth": 0,
             "ticks": ""
            },
            "type": "contourcarpet"
           }
          ],
          "heatmap": [
           {
            "colorbar": {
             "outlinewidth": 0,
             "ticks": ""
            },
            "colorscale": [
             [
              0,
              "#0d0887"
             ],
             [
              0.1111111111111111,
              "#46039f"
             ],
             [
              0.2222222222222222,
              "#7201a8"
             ],
             [
              0.3333333333333333,
              "#9c179e"
             ],
             [
              0.4444444444444444,
              "#bd3786"
             ],
             [
              0.5555555555555556,
              "#d8576b"
             ],
             [
              0.6666666666666666,
              "#ed7953"
             ],
             [
              0.7777777777777778,
              "#fb9f3a"
             ],
             [
              0.8888888888888888,
              "#fdca26"
             ],
             [
              1,
              "#f0f921"
             ]
            ],
            "type": "heatmap"
           }
          ],
          "heatmapgl": [
           {
            "colorbar": {
             "outlinewidth": 0,
             "ticks": ""
            },
            "colorscale": [
             [
              0,
              "#0d0887"
             ],
             [
              0.1111111111111111,
              "#46039f"
             ],
             [
              0.2222222222222222,
              "#7201a8"
             ],
             [
              0.3333333333333333,
              "#9c179e"
             ],
             [
              0.4444444444444444,
              "#bd3786"
             ],
             [
              0.5555555555555556,
              "#d8576b"
             ],
             [
              0.6666666666666666,
              "#ed7953"
             ],
             [
              0.7777777777777778,
              "#fb9f3a"
             ],
             [
              0.8888888888888888,
              "#fdca26"
             ],
             [
              1,
              "#f0f921"
             ]
            ],
            "type": "heatmapgl"
           }
          ],
          "histogram": [
           {
            "marker": {
             "pattern": {
              "fillmode": "overlay",
              "size": 10,
              "solidity": 0.2
             }
            },
            "type": "histogram"
           }
          ],
          "histogram2d": [
           {
            "colorbar": {
             "outlinewidth": 0,
             "ticks": ""
            },
            "colorscale": [
             [
              0,
              "#0d0887"
             ],
             [
              0.1111111111111111,
              "#46039f"
             ],
             [
              0.2222222222222222,
              "#7201a8"
             ],
             [
              0.3333333333333333,
              "#9c179e"
             ],
             [
              0.4444444444444444,
              "#bd3786"
             ],
             [
              0.5555555555555556,
              "#d8576b"
             ],
             [
              0.6666666666666666,
              "#ed7953"
             ],
             [
              0.7777777777777778,
              "#fb9f3a"
             ],
             [
              0.8888888888888888,
              "#fdca26"
             ],
             [
              1,
              "#f0f921"
             ]
            ],
            "type": "histogram2d"
           }
          ],
          "histogram2dcontour": [
           {
            "colorbar": {
             "outlinewidth": 0,
             "ticks": ""
            },
            "colorscale": [
             [
              0,
              "#0d0887"
             ],
             [
              0.1111111111111111,
              "#46039f"
             ],
             [
              0.2222222222222222,
              "#7201a8"
             ],
             [
              0.3333333333333333,
              "#9c179e"
             ],
             [
              0.4444444444444444,
              "#bd3786"
             ],
             [
              0.5555555555555556,
              "#d8576b"
             ],
             [
              0.6666666666666666,
              "#ed7953"
             ],
             [
              0.7777777777777778,
              "#fb9f3a"
             ],
             [
              0.8888888888888888,
              "#fdca26"
             ],
             [
              1,
              "#f0f921"
             ]
            ],
            "type": "histogram2dcontour"
           }
          ],
          "mesh3d": [
           {
            "colorbar": {
             "outlinewidth": 0,
             "ticks": ""
            },
            "type": "mesh3d"
           }
          ],
          "parcoords": [
           {
            "line": {
             "colorbar": {
              "outlinewidth": 0,
              "ticks": ""
             }
            },
            "type": "parcoords"
           }
          ],
          "pie": [
           {
            "automargin": true,
            "type": "pie"
           }
          ],
          "scatter": [
           {
            "marker": {
             "colorbar": {
              "outlinewidth": 0,
              "ticks": ""
             }
            },
            "type": "scatter"
           }
          ],
          "scatter3d": [
           {
            "line": {
             "colorbar": {
              "outlinewidth": 0,
              "ticks": ""
             }
            },
            "marker": {
             "colorbar": {
              "outlinewidth": 0,
              "ticks": ""
             }
            },
            "type": "scatter3d"
           }
          ],
          "scattercarpet": [
           {
            "marker": {
             "colorbar": {
              "outlinewidth": 0,
              "ticks": ""
             }
            },
            "type": "scattercarpet"
           }
          ],
          "scattergeo": [
           {
            "marker": {
             "colorbar": {
              "outlinewidth": 0,
              "ticks": ""
             }
            },
            "type": "scattergeo"
           }
          ],
          "scattergl": [
           {
            "marker": {
             "colorbar": {
              "outlinewidth": 0,
              "ticks": ""
             }
            },
            "type": "scattergl"
           }
          ],
          "scattermapbox": [
           {
            "marker": {
             "colorbar": {
              "outlinewidth": 0,
              "ticks": ""
             }
            },
            "type": "scattermapbox"
           }
          ],
          "scatterpolar": [
           {
            "marker": {
             "colorbar": {
              "outlinewidth": 0,
              "ticks": ""
             }
            },
            "type": "scatterpolar"
           }
          ],
          "scatterpolargl": [
           {
            "marker": {
             "colorbar": {
              "outlinewidth": 0,
              "ticks": ""
             }
            },
            "type": "scatterpolargl"
           }
          ],
          "scatterternary": [
           {
            "marker": {
             "colorbar": {
              "outlinewidth": 0,
              "ticks": ""
             }
            },
            "type": "scatterternary"
           }
          ],
          "surface": [
           {
            "colorbar": {
             "outlinewidth": 0,
             "ticks": ""
            },
            "colorscale": [
             [
              0,
              "#0d0887"
             ],
             [
              0.1111111111111111,
              "#46039f"
             ],
             [
              0.2222222222222222,
              "#7201a8"
             ],
             [
              0.3333333333333333,
              "#9c179e"
             ],
             [
              0.4444444444444444,
              "#bd3786"
             ],
             [
              0.5555555555555556,
              "#d8576b"
             ],
             [
              0.6666666666666666,
              "#ed7953"
             ],
             [
              0.7777777777777778,
              "#fb9f3a"
             ],
             [
              0.8888888888888888,
              "#fdca26"
             ],
             [
              1,
              "#f0f921"
             ]
            ],
            "type": "surface"
           }
          ],
          "table": [
           {
            "cells": {
             "fill": {
              "color": "#EBF0F8"
             },
             "line": {
              "color": "white"
             }
            },
            "header": {
             "fill": {
              "color": "#C8D4E3"
             },
             "line": {
              "color": "white"
             }
            },
            "type": "table"
           }
          ]
         },
         "layout": {
          "annotationdefaults": {
           "arrowcolor": "#2a3f5f",
           "arrowhead": 0,
           "arrowwidth": 1
          },
          "autotypenumbers": "strict",
          "coloraxis": {
           "colorbar": {
            "outlinewidth": 0,
            "ticks": ""
           }
          },
          "colorscale": {
           "diverging": [
            [
             0,
             "#8e0152"
            ],
            [
             0.1,
             "#c51b7d"
            ],
            [
             0.2,
             "#de77ae"
            ],
            [
             0.3,
             "#f1b6da"
            ],
            [
             0.4,
             "#fde0ef"
            ],
            [
             0.5,
             "#f7f7f7"
            ],
            [
             0.6,
             "#e6f5d0"
            ],
            [
             0.7,
             "#b8e186"
            ],
            [
             0.8,
             "#7fbc41"
            ],
            [
             0.9,
             "#4d9221"
            ],
            [
             1,
             "#276419"
            ]
           ],
           "sequential": [
            [
             0,
             "#0d0887"
            ],
            [
             0.1111111111111111,
             "#46039f"
            ],
            [
             0.2222222222222222,
             "#7201a8"
            ],
            [
             0.3333333333333333,
             "#9c179e"
            ],
            [
             0.4444444444444444,
             "#bd3786"
            ],
            [
             0.5555555555555556,
             "#d8576b"
            ],
            [
             0.6666666666666666,
             "#ed7953"
            ],
            [
             0.7777777777777778,
             "#fb9f3a"
            ],
            [
             0.8888888888888888,
             "#fdca26"
            ],
            [
             1,
             "#f0f921"
            ]
           ],
           "sequentialminus": [
            [
             0,
             "#0d0887"
            ],
            [
             0.1111111111111111,
             "#46039f"
            ],
            [
             0.2222222222222222,
             "#7201a8"
            ],
            [
             0.3333333333333333,
             "#9c179e"
            ],
            [
             0.4444444444444444,
             "#bd3786"
            ],
            [
             0.5555555555555556,
             "#d8576b"
            ],
            [
             0.6666666666666666,
             "#ed7953"
            ],
            [
             0.7777777777777778,
             "#fb9f3a"
            ],
            [
             0.8888888888888888,
             "#fdca26"
            ],
            [
             1,
             "#f0f921"
            ]
           ]
          },
          "colorway": [
           "#636efa",
           "#EF553B",
           "#00cc96",
           "#ab63fa",
           "#FFA15A",
           "#19d3f3",
           "#FF6692",
           "#B6E880",
           "#FF97FF",
           "#FECB52"
          ],
          "font": {
           "color": "#2a3f5f"
          },
          "geo": {
           "bgcolor": "white",
           "lakecolor": "white",
           "landcolor": "#E5ECF6",
           "showlakes": true,
           "showland": true,
           "subunitcolor": "white"
          },
          "hoverlabel": {
           "align": "left"
          },
          "hovermode": "closest",
          "mapbox": {
           "style": "light"
          },
          "paper_bgcolor": "white",
          "plot_bgcolor": "#E5ECF6",
          "polar": {
           "angularaxis": {
            "gridcolor": "white",
            "linecolor": "white",
            "ticks": ""
           },
           "bgcolor": "#E5ECF6",
           "radialaxis": {
            "gridcolor": "white",
            "linecolor": "white",
            "ticks": ""
           }
          },
          "scene": {
           "xaxis": {
            "backgroundcolor": "#E5ECF6",
            "gridcolor": "white",
            "gridwidth": 2,
            "linecolor": "white",
            "showbackground": true,
            "ticks": "",
            "zerolinecolor": "white"
           },
           "yaxis": {
            "backgroundcolor": "#E5ECF6",
            "gridcolor": "white",
            "gridwidth": 2,
            "linecolor": "white",
            "showbackground": true,
            "ticks": "",
            "zerolinecolor": "white"
           },
           "zaxis": {
            "backgroundcolor": "#E5ECF6",
            "gridcolor": "white",
            "gridwidth": 2,
            "linecolor": "white",
            "showbackground": true,
            "ticks": "",
            "zerolinecolor": "white"
           }
          },
          "shapedefaults": {
           "line": {
            "color": "#2a3f5f"
           }
          },
          "ternary": {
           "aaxis": {
            "gridcolor": "white",
            "linecolor": "white",
            "ticks": ""
           },
           "baxis": {
            "gridcolor": "white",
            "linecolor": "white",
            "ticks": ""
           },
           "bgcolor": "#E5ECF6",
           "caxis": {
            "gridcolor": "white",
            "linecolor": "white",
            "ticks": ""
           }
          },
          "title": {
           "x": 0.05
          },
          "xaxis": {
           "automargin": true,
           "gridcolor": "white",
           "linecolor": "white",
           "ticks": "",
           "title": {
            "standoff": 15
           },
           "zerolinecolor": "white",
           "zerolinewidth": 2
          },
          "yaxis": {
           "automargin": true,
           "gridcolor": "white",
           "linecolor": "white",
           "ticks": "",
           "title": {
            "standoff": 15
           },
           "zerolinecolor": "white",
           "zerolinewidth": 2
          }
         }
        },
        "title": {
         "text": "Number of perscriptions per 100,000 over 65 (US, 2014)"
        },
        "xaxis": {
         "anchor": "y",
         "domain": [
          0,
          1
         ],
         "title": {
          "text": "State"
         }
        },
        "yaxis": {
         "anchor": "x",
         "domain": [
          0,
          1
         ],
         "title": {
          "text": ""
         }
        }
       }
      },
      "text/html": [
       "<div>                            <div id=\"1b0cedb2-234f-493d-a291-6f121f6526a5\" class=\"plotly-graph-div\" style=\"height:525px; width:100%;\"></div>            <script type=\"text/javascript\">                require([\"plotly\"], function(Plotly) {                    window.PLOTLYENV=window.PLOTLYENV || {};                                    if (document.getElementById(\"1b0cedb2-234f-493d-a291-6f121f6526a5\")) {                    Plotly.newPlot(                        \"1b0cedb2-234f-493d-a291-6f121f6526a5\",                        [{\"alignmentgroup\":\"True\",\"hovertemplate\":\"State=%{x}<br>=%{y}<br>Population over 65=%{marker.color}<extra></extra>\",\"legendgroup\":\"\",\"marker\":{\"color\":[279576.0,327824.0,309376.0,849028.0,918924.0,1269060.0,422556.0,2702640.0,615796.0,4239816.0,1176544.0,3942632.0,1600164.0,678340.0,925752.0,972768.0,3110104.0,2511540.0,5269872.0,4591688.0,2252040.0,6124864.0,3481504.0,19803224.0,7196932.0,4082484.0,12319260.0,15082188.0,2244544.0,11694912.0,513304.0,3043484.0,3767316.0,1658416.0,418536.0,7199992.0,8538972.0,1083268.0,5835596.0,1958552.0,4992452.0,3730236.0,1317204.0,1862060.0,3931888.0,2967264.0,666240.0,2537576.0,1704688.0,2618168.0],\"coloraxis\":\"coloraxis\",\"pattern\":{\"shape\":\"\"}},\"name\":\"\",\"offsetgroup\":\"\",\"orientation\":\"v\",\"showlegend\":false,\"textposition\":\"auto\",\"type\":\"bar\",\"x\":[\"AK\",\"WY\",\"DC\",\"NH\",\"HI\",\"NM\",\"VT\",\"CO\",\"DE\",\"AZ\",\"UT\",\"WA\",\"NV\",\"MT\",\"ID\",\"ME\",\"MN\",\"OR\",\"NJ\",\"VA\",\"CT\",\"MI\",\"WI\",\"CA\",\"IL\",\"MA\",\"TX\",\"FL\",\"OK\",\"NY\",\"SD\",\"SC\",\"IN\",\"KS\",\"ND\",\"OH\",\"PA\",\"NE\",\"NC\",\"IA\",\"GA\",\"MO\",\"WV\",\"AR\",\"TN\",\"AL\",\"RI\",\"LA\",\"MS\",\"KY\"],\"xaxis\":\"x\",\"y\":[153337.19632586488,211927.43667333692,215380.31392221764,216166.01572621867,221843.37333664158,224081.91890060357,226504.6526377569,229112.31240564783,230518.54835042774,232220.5963655027,232782.3693801507,233806.1731351037,240901.9325519134,244971.84302856977,254347.49263301617,259375.3083983026,272889.33103201695,278466.677815205,281492.16906976106,287123.646031699,294392.2399246905,304795.4207636284,310979.73749276175,312241.29969948326,313721.8053470562,324940.20797142136,326779.9932788171,332862.0953405434,340883.89445695875,364596.0055107726,379090.75323784736,381000.42582776846,384111.2080855442,391335.40679781185,392125.16963893187,393412.3954582171,399967.3731217294,406051.9649800419,419546.6067219184,422062.7279745445,431135.7625471412,436870.8843086604,446445.04571805126,453935.96339537925,465602.40271340386,474080.5334476474,476702.2394332373,486125.578110764,498746.5154913979,529389.9398357936],\"yaxis\":\"y\"}],                        {\"barmode\":\"relative\",\"coloraxis\":{\"colorbar\":{\"title\":{\"text\":\"Population over 65\"}},\"colorscale\":[[0.0,\"#0d0887\"],[0.1111111111111111,\"#46039f\"],[0.2222222222222222,\"#7201a8\"],[0.3333333333333333,\"#9c179e\"],[0.4444444444444444,\"#bd3786\"],[0.5555555555555556,\"#d8576b\"],[0.6666666666666666,\"#ed7953\"],[0.7777777777777778,\"#fb9f3a\"],[0.8888888888888888,\"#fdca26\"],[1.0,\"#f0f921\"]]},\"legend\":{\"tracegroupgap\":0},\"template\":{\"data\":{\"bar\":[{\"error_x\":{\"color\":\"#2a3f5f\"},\"error_y\":{\"color\":\"#2a3f5f\"},\"marker\":{\"line\":{\"color\":\"#E5ECF6\",\"width\":0.5},\"pattern\":{\"fillmode\":\"overlay\",\"size\":10,\"solidity\":0.2}},\"type\":\"bar\"}],\"barpolar\":[{\"marker\":{\"line\":{\"color\":\"#E5ECF6\",\"width\":0.5},\"pattern\":{\"fillmode\":\"overlay\",\"size\":10,\"solidity\":0.2}},\"type\":\"barpolar\"}],\"carpet\":[{\"aaxis\":{\"endlinecolor\":\"#2a3f5f\",\"gridcolor\":\"white\",\"linecolor\":\"white\",\"minorgridcolor\":\"white\",\"startlinecolor\":\"#2a3f5f\"},\"baxis\":{\"endlinecolor\":\"#2a3f5f\",\"gridcolor\":\"white\",\"linecolor\":\"white\",\"minorgridcolor\":\"white\",\"startlinecolor\":\"#2a3f5f\"},\"type\":\"carpet\"}],\"choropleth\":[{\"colorbar\":{\"outlinewidth\":0,\"ticks\":\"\"},\"type\":\"choropleth\"}],\"contour\":[{\"colorbar\":{\"outlinewidth\":0,\"ticks\":\"\"},\"colorscale\":[[0.0,\"#0d0887\"],[0.1111111111111111,\"#46039f\"],[0.2222222222222222,\"#7201a8\"],[0.3333333333333333,\"#9c179e\"],[0.4444444444444444,\"#bd3786\"],[0.5555555555555556,\"#d8576b\"],[0.6666666666666666,\"#ed7953\"],[0.7777777777777778,\"#fb9f3a\"],[0.8888888888888888,\"#fdca26\"],[1.0,\"#f0f921\"]],\"type\":\"contour\"}],\"contourcarpet\":[{\"colorbar\":{\"outlinewidth\":0,\"ticks\":\"\"},\"type\":\"contourcarpet\"}],\"heatmap\":[{\"colorbar\":{\"outlinewidth\":0,\"ticks\":\"\"},\"colorscale\":[[0.0,\"#0d0887\"],[0.1111111111111111,\"#46039f\"],[0.2222222222222222,\"#7201a8\"],[0.3333333333333333,\"#9c179e\"],[0.4444444444444444,\"#bd3786\"],[0.5555555555555556,\"#d8576b\"],[0.6666666666666666,\"#ed7953\"],[0.7777777777777778,\"#fb9f3a\"],[0.8888888888888888,\"#fdca26\"],[1.0,\"#f0f921\"]],\"type\":\"heatmap\"}],\"heatmapgl\":[{\"colorbar\":{\"outlinewidth\":0,\"ticks\":\"\"},\"colorscale\":[[0.0,\"#0d0887\"],[0.1111111111111111,\"#46039f\"],[0.2222222222222222,\"#7201a8\"],[0.3333333333333333,\"#9c179e\"],[0.4444444444444444,\"#bd3786\"],[0.5555555555555556,\"#d8576b\"],[0.6666666666666666,\"#ed7953\"],[0.7777777777777778,\"#fb9f3a\"],[0.8888888888888888,\"#fdca26\"],[1.0,\"#f0f921\"]],\"type\":\"heatmapgl\"}],\"histogram\":[{\"marker\":{\"pattern\":{\"fillmode\":\"overlay\",\"size\":10,\"solidity\":0.2}},\"type\":\"histogram\"}],\"histogram2d\":[{\"colorbar\":{\"outlinewidth\":0,\"ticks\":\"\"},\"colorscale\":[[0.0,\"#0d0887\"],[0.1111111111111111,\"#46039f\"],[0.2222222222222222,\"#7201a8\"],[0.3333333333333333,\"#9c179e\"],[0.4444444444444444,\"#bd3786\"],[0.5555555555555556,\"#d8576b\"],[0.6666666666666666,\"#ed7953\"],[0.7777777777777778,\"#fb9f3a\"],[0.8888888888888888,\"#fdca26\"],[1.0,\"#f0f921\"]],\"type\":\"histogram2d\"}],\"histogram2dcontour\":[{\"colorbar\":{\"outlinewidth\":0,\"ticks\":\"\"},\"colorscale\":[[0.0,\"#0d0887\"],[0.1111111111111111,\"#46039f\"],[0.2222222222222222,\"#7201a8\"],[0.3333333333333333,\"#9c179e\"],[0.4444444444444444,\"#bd3786\"],[0.5555555555555556,\"#d8576b\"],[0.6666666666666666,\"#ed7953\"],[0.7777777777777778,\"#fb9f3a\"],[0.8888888888888888,\"#fdca26\"],[1.0,\"#f0f921\"]],\"type\":\"histogram2dcontour\"}],\"mesh3d\":[{\"colorbar\":{\"outlinewidth\":0,\"ticks\":\"\"},\"type\":\"mesh3d\"}],\"parcoords\":[{\"line\":{\"colorbar\":{\"outlinewidth\":0,\"ticks\":\"\"}},\"type\":\"parcoords\"}],\"pie\":[{\"automargin\":true,\"type\":\"pie\"}],\"scatter\":[{\"marker\":{\"colorbar\":{\"outlinewidth\":0,\"ticks\":\"\"}},\"type\":\"scatter\"}],\"scatter3d\":[{\"line\":{\"colorbar\":{\"outlinewidth\":0,\"ticks\":\"\"}},\"marker\":{\"colorbar\":{\"outlinewidth\":0,\"ticks\":\"\"}},\"type\":\"scatter3d\"}],\"scattercarpet\":[{\"marker\":{\"colorbar\":{\"outlinewidth\":0,\"ticks\":\"\"}},\"type\":\"scattercarpet\"}],\"scattergeo\":[{\"marker\":{\"colorbar\":{\"outlinewidth\":0,\"ticks\":\"\"}},\"type\":\"scattergeo\"}],\"scattergl\":[{\"marker\":{\"colorbar\":{\"outlinewidth\":0,\"ticks\":\"\"}},\"type\":\"scattergl\"}],\"scattermapbox\":[{\"marker\":{\"colorbar\":{\"outlinewidth\":0,\"ticks\":\"\"}},\"type\":\"scattermapbox\"}],\"scatterpolar\":[{\"marker\":{\"colorbar\":{\"outlinewidth\":0,\"ticks\":\"\"}},\"type\":\"scatterpolar\"}],\"scatterpolargl\":[{\"marker\":{\"colorbar\":{\"outlinewidth\":0,\"ticks\":\"\"}},\"type\":\"scatterpolargl\"}],\"scatterternary\":[{\"marker\":{\"colorbar\":{\"outlinewidth\":0,\"ticks\":\"\"}},\"type\":\"scatterternary\"}],\"surface\":[{\"colorbar\":{\"outlinewidth\":0,\"ticks\":\"\"},\"colorscale\":[[0.0,\"#0d0887\"],[0.1111111111111111,\"#46039f\"],[0.2222222222222222,\"#7201a8\"],[0.3333333333333333,\"#9c179e\"],[0.4444444444444444,\"#bd3786\"],[0.5555555555555556,\"#d8576b\"],[0.6666666666666666,\"#ed7953\"],[0.7777777777777778,\"#fb9f3a\"],[0.8888888888888888,\"#fdca26\"],[1.0,\"#f0f921\"]],\"type\":\"surface\"}],\"table\":[{\"cells\":{\"fill\":{\"color\":\"#EBF0F8\"},\"line\":{\"color\":\"white\"}},\"header\":{\"fill\":{\"color\":\"#C8D4E3\"},\"line\":{\"color\":\"white\"}},\"type\":\"table\"}]},\"layout\":{\"annotationdefaults\":{\"arrowcolor\":\"#2a3f5f\",\"arrowhead\":0,\"arrowwidth\":1},\"autotypenumbers\":\"strict\",\"coloraxis\":{\"colorbar\":{\"outlinewidth\":0,\"ticks\":\"\"}},\"colorscale\":{\"diverging\":[[0,\"#8e0152\"],[0.1,\"#c51b7d\"],[0.2,\"#de77ae\"],[0.3,\"#f1b6da\"],[0.4,\"#fde0ef\"],[0.5,\"#f7f7f7\"],[0.6,\"#e6f5d0\"],[0.7,\"#b8e186\"],[0.8,\"#7fbc41\"],[0.9,\"#4d9221\"],[1,\"#276419\"]],\"sequential\":[[0.0,\"#0d0887\"],[0.1111111111111111,\"#46039f\"],[0.2222222222222222,\"#7201a8\"],[0.3333333333333333,\"#9c179e\"],[0.4444444444444444,\"#bd3786\"],[0.5555555555555556,\"#d8576b\"],[0.6666666666666666,\"#ed7953\"],[0.7777777777777778,\"#fb9f3a\"],[0.8888888888888888,\"#fdca26\"],[1.0,\"#f0f921\"]],\"sequentialminus\":[[0.0,\"#0d0887\"],[0.1111111111111111,\"#46039f\"],[0.2222222222222222,\"#7201a8\"],[0.3333333333333333,\"#9c179e\"],[0.4444444444444444,\"#bd3786\"],[0.5555555555555556,\"#d8576b\"],[0.6666666666666666,\"#ed7953\"],[0.7777777777777778,\"#fb9f3a\"],[0.8888888888888888,\"#fdca26\"],[1.0,\"#f0f921\"]]},\"colorway\":[\"#636efa\",\"#EF553B\",\"#00cc96\",\"#ab63fa\",\"#FFA15A\",\"#19d3f3\",\"#FF6692\",\"#B6E880\",\"#FF97FF\",\"#FECB52\"],\"font\":{\"color\":\"#2a3f5f\"},\"geo\":{\"bgcolor\":\"white\",\"lakecolor\":\"white\",\"landcolor\":\"#E5ECF6\",\"showlakes\":true,\"showland\":true,\"subunitcolor\":\"white\"},\"hoverlabel\":{\"align\":\"left\"},\"hovermode\":\"closest\",\"mapbox\":{\"style\":\"light\"},\"paper_bgcolor\":\"white\",\"plot_bgcolor\":\"#E5ECF6\",\"polar\":{\"angularaxis\":{\"gridcolor\":\"white\",\"linecolor\":\"white\",\"ticks\":\"\"},\"bgcolor\":\"#E5ECF6\",\"radialaxis\":{\"gridcolor\":\"white\",\"linecolor\":\"white\",\"ticks\":\"\"}},\"scene\":{\"xaxis\":{\"backgroundcolor\":\"#E5ECF6\",\"gridcolor\":\"white\",\"gridwidth\":2,\"linecolor\":\"white\",\"showbackground\":true,\"ticks\":\"\",\"zerolinecolor\":\"white\"},\"yaxis\":{\"backgroundcolor\":\"#E5ECF6\",\"gridcolor\":\"white\",\"gridwidth\":2,\"linecolor\":\"white\",\"showbackground\":true,\"ticks\":\"\",\"zerolinecolor\":\"white\"},\"zaxis\":{\"backgroundcolor\":\"#E5ECF6\",\"gridcolor\":\"white\",\"gridwidth\":2,\"linecolor\":\"white\",\"showbackground\":true,\"ticks\":\"\",\"zerolinecolor\":\"white\"}},\"shapedefaults\":{\"line\":{\"color\":\"#2a3f5f\"}},\"ternary\":{\"aaxis\":{\"gridcolor\":\"white\",\"linecolor\":\"white\",\"ticks\":\"\"},\"baxis\":{\"gridcolor\":\"white\",\"linecolor\":\"white\",\"ticks\":\"\"},\"bgcolor\":\"#E5ECF6\",\"caxis\":{\"gridcolor\":\"white\",\"linecolor\":\"white\",\"ticks\":\"\"}},\"title\":{\"x\":0.05},\"xaxis\":{\"automargin\":true,\"gridcolor\":\"white\",\"linecolor\":\"white\",\"ticks\":\"\",\"title\":{\"standoff\":15},\"zerolinecolor\":\"white\",\"zerolinewidth\":2},\"yaxis\":{\"automargin\":true,\"gridcolor\":\"white\",\"linecolor\":\"white\",\"ticks\":\"\",\"title\":{\"standoff\":15},\"zerolinecolor\":\"white\",\"zerolinewidth\":2}}},\"title\":{\"text\":\"Number of perscriptions per 100,000 over 65 (US, 2014)\"},\"xaxis\":{\"anchor\":\"y\",\"domain\":[0.0,1.0],\"title\":{\"text\":\"State\"}},\"yaxis\":{\"anchor\":\"x\",\"domain\":[0.0,1.0],\"title\":{\"text\":\"\"}}},                        {\"responsive\": true}                    ).then(function(){\n",
       "                            \n",
       "var gd = document.getElementById('1b0cedb2-234f-493d-a291-6f121f6526a5');\n",
       "var x = new MutationObserver(function (mutations, observer) {{\n",
       "        var display = window.getComputedStyle(gd).display;\n",
       "        if (!display || display === 'none') {{\n",
       "            console.log([gd, 'removed!']);\n",
       "            Plotly.purge(gd);\n",
       "            observer.disconnect();\n",
       "        }}\n",
       "}});\n",
       "\n",
       "// Listen for the removal of the full notebook cells\n",
       "var notebookContainer = gd.closest('#notebook-container');\n",
       "if (notebookContainer) {{\n",
       "    x.observe(notebookContainer, {childList: true});\n",
       "}}\n",
       "\n",
       "// Listen for the clearing of the current output cell\n",
       "var outputEl = gd.closest('.output');\n",
       "if (outputEl) {{\n",
       "    x.observe(outputEl, {childList: true});\n",
       "}}\n",
       "\n",
       "                        })                };                });            </script>        </div>"
      ]
     },
     "metadata": {},
     "output_type": "display_data"
    }
   ],
   "source": [
    "df = state_med_pop_data\n",
    "x = 'State'\n",
    "y = 'Total perscriptions per 100k'\n",
    "fig = px.bar(df.sort_values(y), \n",
    "                     x=x, y=y, \n",
    "                     labels={x: 'State', y: ''}, \n",
    "                     title='Number of perscriptions per 100,000 over 65 (US, 2014)',\n",
    "                     color = 'Population over 65')\n",
    "fig.show()"
   ]
  },
  {
   "cell_type": "markdown",
   "metadata": {
    "hidden": true
   },
   "source": [
    "Fig. 6: Above figure is per 1000 people over the age of 65. Notice that in this case, Alaska ranks the lowest but Kentuky ranks the highest. The top 5 states with the most perscriptions per capita over 65 (KY, MS, LA, RI, AL) have elderly populations below 3M while bottom 5 states (AK, WY, DC, NH, HI) have elderly populations under 1M. Note that use of a heat map is helpful for exploratory purposes. Actually, top 10-ish sates are largely southern and midwestern while the bottom 10-ish are largely western and mid-atlantic states. Some of the things we could consider in an explanitory analysis is how these states differ in terms of gender, income and poverty rates, and race."
   ]
  },
  {
   "cell_type": "markdown",
   "metadata": {
    "heading_collapsed": true,
    "hidden": true
   },
   "source": [
    "### Poverty and median household income data (2014)"
   ]
  },
  {
   "cell_type": "code",
   "execution_count": 1226,
   "metadata": {
    "ExecuteTime": {
     "end_time": "2021-07-03T17:43:26.760863Z",
     "start_time": "2021-07-03T17:43:26.714271Z"
    },
    "hidden": true
   },
   "outputs": [],
   "source": [
    "#  Renaming state column to match poverty dataset for merge, and fixing typo\n",
    "state_med_pop_data = state_med_pop_data.rename(columns={'State':'Postal Code', \n",
    "                                                                                                                  'Total perscriptions per 100k': 'Total prescriptions per 100k'})"
   ]
  },
  {
   "cell_type": "code",
   "execution_count": 1228,
   "metadata": {
    "ExecuteTime": {
     "end_time": "2021-07-03T17:49:12.894528Z",
     "start_time": "2021-07-03T17:49:12.798485Z"
    },
    "hidden": true
   },
   "outputs": [],
   "source": [
    "poverty_data = pd.read_csv(\"../data/input/csv/est14us.csv\", usecols=['Postal Code', 'Poverty Percent, All Ages', \n",
    "                                                                                                                   'Median Household Income'])"
   ]
  },
  {
   "cell_type": "code",
   "execution_count": 1229,
   "metadata": {
    "ExecuteTime": {
     "end_time": "2021-07-03T17:50:25.320163Z",
     "start_time": "2021-07-03T17:50:25.208117Z"
    },
    "hidden": true
   },
   "outputs": [
    {
     "data": {
      "text/html": [
       "<div>\n",
       "<style scoped>\n",
       "    .dataframe tbody tr th:only-of-type {\n",
       "        vertical-align: middle;\n",
       "    }\n",
       "\n",
       "    .dataframe tbody tr th {\n",
       "        vertical-align: top;\n",
       "    }\n",
       "\n",
       "    .dataframe thead th {\n",
       "        text-align: right;\n",
       "    }\n",
       "</style>\n",
       "<table border=\"1\" class=\"dataframe\">\n",
       "  <thead>\n",
       "    <tr style=\"text-align: right;\">\n",
       "      <th></th>\n",
       "      <th>Postal Code</th>\n",
       "      <th>Population over 65</th>\n",
       "      <th>Total discharges</th>\n",
       "      <th>Inpatient total payments (avg)</th>\n",
       "      <th>Total outpatient services</th>\n",
       "      <th>Outpatient total payments (avg)</th>\n",
       "      <th>Total prescriptions 65+ (Medicare D)</th>\n",
       "      <th>Total prescriptions per 100k</th>\n",
       "      <th>Total drug cost 65+</th>\n",
       "      <th>Top prescription</th>\n",
       "      <th>Number of prescriptions</th>\n",
       "      <th>Percent of total prescriptions</th>\n",
       "      <th>Poverty Percent, All Ages</th>\n",
       "      <th>Median Household Income</th>\n",
       "    </tr>\n",
       "  </thead>\n",
       "  <tbody>\n",
       "    <tr>\n",
       "      <th>0</th>\n",
       "      <td>AL</td>\n",
       "      <td>2967264.0</td>\n",
       "      <td>1780806</td>\n",
       "      <td>5.357359e+08</td>\n",
       "      <td>43108168</td>\n",
       "      <td>1.660494e+07</td>\n",
       "      <td>14067221</td>\n",
       "      <td>474080.533448</td>\n",
       "      <td>7.515726e+08</td>\n",
       "      <td>HYDROCODONE/ACETAMINOPHEN</td>\n",
       "      <td>608744</td>\n",
       "      <td>4.327393</td>\n",
       "      <td>19.2</td>\n",
       "      <td>42917.0</td>\n",
       "    </tr>\n",
       "    <tr>\n",
       "      <th>1</th>\n",
       "      <td>AK</td>\n",
       "      <td>279576.0</td>\n",
       "      <td>62346</td>\n",
       "      <td>5.098579e+07</td>\n",
       "      <td>1496971</td>\n",
       "      <td>7.397428e+05</td>\n",
       "      <td>428694</td>\n",
       "      <td>153337.196326</td>\n",
       "      <td>2.432429e+07</td>\n",
       "      <td>LISINOPRIL</td>\n",
       "      <td>24329</td>\n",
       "      <td>5.675144</td>\n",
       "      <td>11.4</td>\n",
       "      <td>70898.0</td>\n",
       "    </tr>\n",
       "    <tr>\n",
       "      <th>2</th>\n",
       "      <td>AZ</td>\n",
       "      <td>4239816.0</td>\n",
       "      <td>1263027</td>\n",
       "      <td>5.776273e+08</td>\n",
       "      <td>25075217</td>\n",
       "      <td>1.485696e+07</td>\n",
       "      <td>9845726</td>\n",
       "      <td>232220.596366</td>\n",
       "      <td>6.781368e+08</td>\n",
       "      <td>LEVOTHYROXINE SODIUM</td>\n",
       "      <td>611295</td>\n",
       "      <td>6.208735</td>\n",
       "      <td>18.2</td>\n",
       "      <td>50036.0</td>\n",
       "    </tr>\n",
       "    <tr>\n",
       "      <th>3</th>\n",
       "      <td>AR</td>\n",
       "      <td>1862060.0</td>\n",
       "      <td>1312795</td>\n",
       "      <td>3.954642e+08</td>\n",
       "      <td>50587464</td>\n",
       "      <td>1.120277e+07</td>\n",
       "      <td>8452560</td>\n",
       "      <td>453935.963395</td>\n",
       "      <td>3.899176e+08</td>\n",
       "      <td>LEVOTHYROXINE SODIUM</td>\n",
       "      <td>363817</td>\n",
       "      <td>4.304223</td>\n",
       "      <td>18.7</td>\n",
       "      <td>41335.0</td>\n",
       "    </tr>\n",
       "    <tr>\n",
       "      <th>4</th>\n",
       "      <td>CA</td>\n",
       "      <td>19803224.0</td>\n",
       "      <td>6171333</td>\n",
       "      <td>3.575782e+09</td>\n",
       "      <td>251614007</td>\n",
       "      <td>8.115323e+07</td>\n",
       "      <td>61833844</td>\n",
       "      <td>312241.299699</td>\n",
       "      <td>4.568203e+09</td>\n",
       "      <td>LEVOTHYROXINE SODIUM</td>\n",
       "      <td>2542561</td>\n",
       "      <td>4.111925</td>\n",
       "      <td>16.4</td>\n",
       "      <td>61927.0</td>\n",
       "    </tr>\n",
       "  </tbody>\n",
       "</table>\n",
       "</div>"
      ],
      "text/plain": [
       "  Postal Code  Population over 65  Total discharges  \\\n",
       "0          AL           2967264.0           1780806   \n",
       "1          AK            279576.0             62346   \n",
       "2          AZ           4239816.0           1263027   \n",
       "3          AR           1862060.0           1312795   \n",
       "4          CA          19803224.0           6171333   \n",
       "\n",
       "   Inpatient total payments (avg)  Total outpatient services  \\\n",
       "0                    5.357359e+08                   43108168   \n",
       "1                    5.098579e+07                    1496971   \n",
       "2                    5.776273e+08                   25075217   \n",
       "3                    3.954642e+08                   50587464   \n",
       "4                    3.575782e+09                  251614007   \n",
       "\n",
       "   Outpatient total payments (avg)  Total prescriptions 65+ (Medicare D)  \\\n",
       "0                     1.660494e+07                              14067221   \n",
       "1                     7.397428e+05                                428694   \n",
       "2                     1.485696e+07                               9845726   \n",
       "3                     1.120277e+07                               8452560   \n",
       "4                     8.115323e+07                              61833844   \n",
       "\n",
       "   Total prescriptions per 100k  Total drug cost 65+  \\\n",
       "0                 474080.533448         7.515726e+08   \n",
       "1                 153337.196326         2.432429e+07   \n",
       "2                 232220.596366         6.781368e+08   \n",
       "3                 453935.963395         3.899176e+08   \n",
       "4                 312241.299699         4.568203e+09   \n",
       "\n",
       "            Top prescription  Number of prescriptions  \\\n",
       "0  HYDROCODONE/ACETAMINOPHEN                   608744   \n",
       "1                 LISINOPRIL                    24329   \n",
       "2       LEVOTHYROXINE SODIUM                   611295   \n",
       "3       LEVOTHYROXINE SODIUM                   363817   \n",
       "4       LEVOTHYROXINE SODIUM                  2542561   \n",
       "\n",
       "   Percent of total prescriptions  Poverty Percent, All Ages  \\\n",
       "0                        4.327393                       19.2   \n",
       "1                        5.675144                       11.4   \n",
       "2                        6.208735                       18.2   \n",
       "3                        4.304223                       18.7   \n",
       "4                        4.111925                       16.4   \n",
       "\n",
       "   Median Household Income  \n",
       "0                  42917.0  \n",
       "1                  70898.0  \n",
       "2                  50036.0  \n",
       "3                  41335.0  \n",
       "4                  61927.0  "
      ]
     },
     "execution_count": 1229,
     "metadata": {},
     "output_type": "execute_result"
    }
   ],
   "source": [
    "state_med_estpop_income = pd.merge(state_med_pop_data, poverty_data, on='Postal Code')\n",
    "state_med_estpop_income.head()"
   ]
  },
  {
   "cell_type": "markdown",
   "metadata": {
    "heading_collapsed": true,
    "hidden": true
   },
   "source": [
    "#### Map: Poverty rate"
   ]
  },
  {
   "cell_type": "code",
   "execution_count": 1240,
   "metadata": {
    "ExecuteTime": {
     "end_time": "2021-07-03T18:23:08.374696Z",
     "start_time": "2021-07-03T18:23:08.135024Z"
    },
    "hidden": true
   },
   "outputs": [
    {
     "data": {
      "application/vnd.plotly.v1+json": {
       "config": {
        "plotlyServerURL": "https://plotly.com"
       },
       "data": [
        {
         "coloraxis": "coloraxis",
         "geo": "geo",
         "hovertemplate": "<b>%{hovertext}</b><br><br>Postal Code=%{location}<br>Poverty Percent, All Ages=%{z}<extra></extra>",
         "hovertext": [
          "AL",
          "AK",
          "AZ",
          "AR",
          "CA",
          "CO",
          "CT",
          "DE",
          "DC",
          "FL",
          "GA",
          "HI",
          "ID",
          "IL",
          "IN",
          "IA",
          "KS",
          "KY",
          "LA",
          "ME",
          "MA",
          "MI",
          "MN",
          "MS",
          "MO",
          "MT",
          "NE",
          "NV",
          "NH",
          "NJ",
          "NM",
          "NY",
          "NC",
          "ND",
          "OH",
          "OK",
          "OR",
          "PA",
          "RI",
          "SC",
          "SD",
          "TN",
          "TX",
          "UT",
          "VT",
          "VA",
          "WA",
          "WV",
          "WI",
          "WY"
         ],
         "locationmode": "USA-states",
         "locations": [
          "AL",
          "AK",
          "AZ",
          "AR",
          "CA",
          "CO",
          "CT",
          "DE",
          "DC",
          "FL",
          "GA",
          "HI",
          "ID",
          "IL",
          "IN",
          "IA",
          "KS",
          "KY",
          "LA",
          "ME",
          "MA",
          "MI",
          "MN",
          "MS",
          "MO",
          "MT",
          "NE",
          "NV",
          "NH",
          "NJ",
          "NM",
          "NY",
          "NC",
          "ND",
          "OH",
          "OK",
          "OR",
          "PA",
          "RI",
          "SC",
          "SD",
          "TN",
          "TX",
          "UT",
          "VT",
          "VA",
          "WA",
          "WV",
          "WI",
          "WY"
         ],
         "name": "",
         "type": "choropleth",
         "z": [
          19.2,
          11.4,
          18.2,
          18.7,
          16.4,
          12.1,
          10.8,
          13,
          18.4,
          16.6,
          18.4,
          11.5,
          14.8,
          14.3,
          15.2,
          12.3,
          13.5,
          19,
          19.9,
          14,
          11.7,
          16.2,
          11.4,
          21.9,
          15.5,
          15.2,
          12.3,
          15.4,
          9.2,
          11.1,
          20.6,
          16,
          17.2,
          11.1,
          15.8,
          16.6,
          16.4,
          13.6,
          14.8,
          17.9,
          14.1,
          18.2,
          17.2,
          11.8,
          12,
          11.8,
          13.2,
          18.3,
          13.2,
          11.2
         ]
        }
       ],
       "layout": {
        "coloraxis": {
         "colorbar": {
          "title": {
           "text": "Poverty Percent, All Ages"
          }
         },
         "colorscale": [
          [
           0,
           "#0d0887"
          ],
          [
           0.1111111111111111,
           "#46039f"
          ],
          [
           0.2222222222222222,
           "#7201a8"
          ],
          [
           0.3333333333333333,
           "#9c179e"
          ],
          [
           0.4444444444444444,
           "#bd3786"
          ],
          [
           0.5555555555555556,
           "#d8576b"
          ],
          [
           0.6666666666666666,
           "#ed7953"
          ],
          [
           0.7777777777777778,
           "#fb9f3a"
          ],
          [
           0.8888888888888888,
           "#fdca26"
          ],
          [
           1,
           "#f0f921"
          ]
         ]
        },
        "geo": {
         "center": {},
         "domain": {
          "x": [
           0,
           1
          ],
          "y": [
           0,
           1
          ]
         },
         "projection": {
          "type": "natural earth"
         },
         "scope": "world"
        },
        "height": 300,
        "legend": {
         "bgcolor": "white",
         "bordercolor": "white",
         "borderwidth": 2,
         "font": {
          "color": "black",
          "family": "Courier",
          "size": 12
         },
         "title": {},
         "tracegroupgap": 0,
         "traceorder": "reversed",
         "x": 1,
         "y": 0.5
        },
        "margin": {
         "b": 20,
         "l": 0,
         "r": 0,
         "t": 40
        },
        "template": {
         "data": {
          "bar": [
           {
            "error_x": {
             "color": "#2a3f5f"
            },
            "error_y": {
             "color": "#2a3f5f"
            },
            "marker": {
             "line": {
              "color": "#E5ECF6",
              "width": 0.5
             },
             "pattern": {
              "fillmode": "overlay",
              "size": 10,
              "solidity": 0.2
             }
            },
            "type": "bar"
           }
          ],
          "barpolar": [
           {
            "marker": {
             "line": {
              "color": "#E5ECF6",
              "width": 0.5
             },
             "pattern": {
              "fillmode": "overlay",
              "size": 10,
              "solidity": 0.2
             }
            },
            "type": "barpolar"
           }
          ],
          "carpet": [
           {
            "aaxis": {
             "endlinecolor": "#2a3f5f",
             "gridcolor": "white",
             "linecolor": "white",
             "minorgridcolor": "white",
             "startlinecolor": "#2a3f5f"
            },
            "baxis": {
             "endlinecolor": "#2a3f5f",
             "gridcolor": "white",
             "linecolor": "white",
             "minorgridcolor": "white",
             "startlinecolor": "#2a3f5f"
            },
            "type": "carpet"
           }
          ],
          "choropleth": [
           {
            "colorbar": {
             "outlinewidth": 0,
             "ticks": ""
            },
            "type": "choropleth"
           }
          ],
          "contour": [
           {
            "colorbar": {
             "outlinewidth": 0,
             "ticks": ""
            },
            "colorscale": [
             [
              0,
              "#0d0887"
             ],
             [
              0.1111111111111111,
              "#46039f"
             ],
             [
              0.2222222222222222,
              "#7201a8"
             ],
             [
              0.3333333333333333,
              "#9c179e"
             ],
             [
              0.4444444444444444,
              "#bd3786"
             ],
             [
              0.5555555555555556,
              "#d8576b"
             ],
             [
              0.6666666666666666,
              "#ed7953"
             ],
             [
              0.7777777777777778,
              "#fb9f3a"
             ],
             [
              0.8888888888888888,
              "#fdca26"
             ],
             [
              1,
              "#f0f921"
             ]
            ],
            "type": "contour"
           }
          ],
          "contourcarpet": [
           {
            "colorbar": {
             "outlinewidth": 0,
             "ticks": ""
            },
            "type": "contourcarpet"
           }
          ],
          "heatmap": [
           {
            "colorbar": {
             "outlinewidth": 0,
             "ticks": ""
            },
            "colorscale": [
             [
              0,
              "#0d0887"
             ],
             [
              0.1111111111111111,
              "#46039f"
             ],
             [
              0.2222222222222222,
              "#7201a8"
             ],
             [
              0.3333333333333333,
              "#9c179e"
             ],
             [
              0.4444444444444444,
              "#bd3786"
             ],
             [
              0.5555555555555556,
              "#d8576b"
             ],
             [
              0.6666666666666666,
              "#ed7953"
             ],
             [
              0.7777777777777778,
              "#fb9f3a"
             ],
             [
              0.8888888888888888,
              "#fdca26"
             ],
             [
              1,
              "#f0f921"
             ]
            ],
            "type": "heatmap"
           }
          ],
          "heatmapgl": [
           {
            "colorbar": {
             "outlinewidth": 0,
             "ticks": ""
            },
            "colorscale": [
             [
              0,
              "#0d0887"
             ],
             [
              0.1111111111111111,
              "#46039f"
             ],
             [
              0.2222222222222222,
              "#7201a8"
             ],
             [
              0.3333333333333333,
              "#9c179e"
             ],
             [
              0.4444444444444444,
              "#bd3786"
             ],
             [
              0.5555555555555556,
              "#d8576b"
             ],
             [
              0.6666666666666666,
              "#ed7953"
             ],
             [
              0.7777777777777778,
              "#fb9f3a"
             ],
             [
              0.8888888888888888,
              "#fdca26"
             ],
             [
              1,
              "#f0f921"
             ]
            ],
            "type": "heatmapgl"
           }
          ],
          "histogram": [
           {
            "marker": {
             "pattern": {
              "fillmode": "overlay",
              "size": 10,
              "solidity": 0.2
             }
            },
            "type": "histogram"
           }
          ],
          "histogram2d": [
           {
            "colorbar": {
             "outlinewidth": 0,
             "ticks": ""
            },
            "colorscale": [
             [
              0,
              "#0d0887"
             ],
             [
              0.1111111111111111,
              "#46039f"
             ],
             [
              0.2222222222222222,
              "#7201a8"
             ],
             [
              0.3333333333333333,
              "#9c179e"
             ],
             [
              0.4444444444444444,
              "#bd3786"
             ],
             [
              0.5555555555555556,
              "#d8576b"
             ],
             [
              0.6666666666666666,
              "#ed7953"
             ],
             [
              0.7777777777777778,
              "#fb9f3a"
             ],
             [
              0.8888888888888888,
              "#fdca26"
             ],
             [
              1,
              "#f0f921"
             ]
            ],
            "type": "histogram2d"
           }
          ],
          "histogram2dcontour": [
           {
            "colorbar": {
             "outlinewidth": 0,
             "ticks": ""
            },
            "colorscale": [
             [
              0,
              "#0d0887"
             ],
             [
              0.1111111111111111,
              "#46039f"
             ],
             [
              0.2222222222222222,
              "#7201a8"
             ],
             [
              0.3333333333333333,
              "#9c179e"
             ],
             [
              0.4444444444444444,
              "#bd3786"
             ],
             [
              0.5555555555555556,
              "#d8576b"
             ],
             [
              0.6666666666666666,
              "#ed7953"
             ],
             [
              0.7777777777777778,
              "#fb9f3a"
             ],
             [
              0.8888888888888888,
              "#fdca26"
             ],
             [
              1,
              "#f0f921"
             ]
            ],
            "type": "histogram2dcontour"
           }
          ],
          "mesh3d": [
           {
            "colorbar": {
             "outlinewidth": 0,
             "ticks": ""
            },
            "type": "mesh3d"
           }
          ],
          "parcoords": [
           {
            "line": {
             "colorbar": {
              "outlinewidth": 0,
              "ticks": ""
             }
            },
            "type": "parcoords"
           }
          ],
          "pie": [
           {
            "automargin": true,
            "type": "pie"
           }
          ],
          "scatter": [
           {
            "marker": {
             "colorbar": {
              "outlinewidth": 0,
              "ticks": ""
             }
            },
            "type": "scatter"
           }
          ],
          "scatter3d": [
           {
            "line": {
             "colorbar": {
              "outlinewidth": 0,
              "ticks": ""
             }
            },
            "marker": {
             "colorbar": {
              "outlinewidth": 0,
              "ticks": ""
             }
            },
            "type": "scatter3d"
           }
          ],
          "scattercarpet": [
           {
            "marker": {
             "colorbar": {
              "outlinewidth": 0,
              "ticks": ""
             }
            },
            "type": "scattercarpet"
           }
          ],
          "scattergeo": [
           {
            "marker": {
             "colorbar": {
              "outlinewidth": 0,
              "ticks": ""
             }
            },
            "type": "scattergeo"
           }
          ],
          "scattergl": [
           {
            "marker": {
             "colorbar": {
              "outlinewidth": 0,
              "ticks": ""
             }
            },
            "type": "scattergl"
           }
          ],
          "scattermapbox": [
           {
            "marker": {
             "colorbar": {
              "outlinewidth": 0,
              "ticks": ""
             }
            },
            "type": "scattermapbox"
           }
          ],
          "scatterpolar": [
           {
            "marker": {
             "colorbar": {
              "outlinewidth": 0,
              "ticks": ""
             }
            },
            "type": "scatterpolar"
           }
          ],
          "scatterpolargl": [
           {
            "marker": {
             "colorbar": {
              "outlinewidth": 0,
              "ticks": ""
             }
            },
            "type": "scatterpolargl"
           }
          ],
          "scatterternary": [
           {
            "marker": {
             "colorbar": {
              "outlinewidth": 0,
              "ticks": ""
             }
            },
            "type": "scatterternary"
           }
          ],
          "surface": [
           {
            "colorbar": {
             "outlinewidth": 0,
             "ticks": ""
            },
            "colorscale": [
             [
              0,
              "#0d0887"
             ],
             [
              0.1111111111111111,
              "#46039f"
             ],
             [
              0.2222222222222222,
              "#7201a8"
             ],
             [
              0.3333333333333333,
              "#9c179e"
             ],
             [
              0.4444444444444444,
              "#bd3786"
             ],
             [
              0.5555555555555556,
              "#d8576b"
             ],
             [
              0.6666666666666666,
              "#ed7953"
             ],
             [
              0.7777777777777778,
              "#fb9f3a"
             ],
             [
              0.8888888888888888,
              "#fdca26"
             ],
             [
              1,
              "#f0f921"
             ]
            ],
            "type": "surface"
           }
          ],
          "table": [
           {
            "cells": {
             "fill": {
              "color": "#EBF0F8"
             },
             "line": {
              "color": "white"
             }
            },
            "header": {
             "fill": {
              "color": "#C8D4E3"
             },
             "line": {
              "color": "white"
             }
            },
            "type": "table"
           }
          ]
         },
         "layout": {
          "annotationdefaults": {
           "arrowcolor": "#2a3f5f",
           "arrowhead": 0,
           "arrowwidth": 1
          },
          "autotypenumbers": "strict",
          "coloraxis": {
           "colorbar": {
            "outlinewidth": 0,
            "ticks": ""
           }
          },
          "colorscale": {
           "diverging": [
            [
             0,
             "#8e0152"
            ],
            [
             0.1,
             "#c51b7d"
            ],
            [
             0.2,
             "#de77ae"
            ],
            [
             0.3,
             "#f1b6da"
            ],
            [
             0.4,
             "#fde0ef"
            ],
            [
             0.5,
             "#f7f7f7"
            ],
            [
             0.6,
             "#e6f5d0"
            ],
            [
             0.7,
             "#b8e186"
            ],
            [
             0.8,
             "#7fbc41"
            ],
            [
             0.9,
             "#4d9221"
            ],
            [
             1,
             "#276419"
            ]
           ],
           "sequential": [
            [
             0,
             "#0d0887"
            ],
            [
             0.1111111111111111,
             "#46039f"
            ],
            [
             0.2222222222222222,
             "#7201a8"
            ],
            [
             0.3333333333333333,
             "#9c179e"
            ],
            [
             0.4444444444444444,
             "#bd3786"
            ],
            [
             0.5555555555555556,
             "#d8576b"
            ],
            [
             0.6666666666666666,
             "#ed7953"
            ],
            [
             0.7777777777777778,
             "#fb9f3a"
            ],
            [
             0.8888888888888888,
             "#fdca26"
            ],
            [
             1,
             "#f0f921"
            ]
           ],
           "sequentialminus": [
            [
             0,
             "#0d0887"
            ],
            [
             0.1111111111111111,
             "#46039f"
            ],
            [
             0.2222222222222222,
             "#7201a8"
            ],
            [
             0.3333333333333333,
             "#9c179e"
            ],
            [
             0.4444444444444444,
             "#bd3786"
            ],
            [
             0.5555555555555556,
             "#d8576b"
            ],
            [
             0.6666666666666666,
             "#ed7953"
            ],
            [
             0.7777777777777778,
             "#fb9f3a"
            ],
            [
             0.8888888888888888,
             "#fdca26"
            ],
            [
             1,
             "#f0f921"
            ]
           ]
          },
          "colorway": [
           "#636efa",
           "#EF553B",
           "#00cc96",
           "#ab63fa",
           "#FFA15A",
           "#19d3f3",
           "#FF6692",
           "#B6E880",
           "#FF97FF",
           "#FECB52"
          ],
          "font": {
           "color": "#2a3f5f"
          },
          "geo": {
           "bgcolor": "white",
           "lakecolor": "white",
           "landcolor": "#E5ECF6",
           "showlakes": true,
           "showland": true,
           "subunitcolor": "white"
          },
          "hoverlabel": {
           "align": "left"
          },
          "hovermode": "closest",
          "mapbox": {
           "style": "light"
          },
          "paper_bgcolor": "white",
          "plot_bgcolor": "#E5ECF6",
          "polar": {
           "angularaxis": {
            "gridcolor": "white",
            "linecolor": "white",
            "ticks": ""
           },
           "bgcolor": "#E5ECF6",
           "radialaxis": {
            "gridcolor": "white",
            "linecolor": "white",
            "ticks": ""
           }
          },
          "scene": {
           "xaxis": {
            "backgroundcolor": "#E5ECF6",
            "gridcolor": "white",
            "gridwidth": 2,
            "linecolor": "white",
            "showbackground": true,
            "ticks": "",
            "zerolinecolor": "white"
           },
           "yaxis": {
            "backgroundcolor": "#E5ECF6",
            "gridcolor": "white",
            "gridwidth": 2,
            "linecolor": "white",
            "showbackground": true,
            "ticks": "",
            "zerolinecolor": "white"
           },
           "zaxis": {
            "backgroundcolor": "#E5ECF6",
            "gridcolor": "white",
            "gridwidth": 2,
            "linecolor": "white",
            "showbackground": true,
            "ticks": "",
            "zerolinecolor": "white"
           }
          },
          "shapedefaults": {
           "line": {
            "color": "#2a3f5f"
           }
          },
          "ternary": {
           "aaxis": {
            "gridcolor": "white",
            "linecolor": "white",
            "ticks": ""
           },
           "baxis": {
            "gridcolor": "white",
            "linecolor": "white",
            "ticks": ""
           },
           "bgcolor": "#E5ECF6",
           "caxis": {
            "gridcolor": "white",
            "linecolor": "white",
            "ticks": ""
           }
          },
          "title": {
           "x": 0.05
          },
          "xaxis": {
           "automargin": true,
           "gridcolor": "white",
           "linecolor": "white",
           "ticks": "",
           "title": {
            "standoff": 15
           },
           "zerolinecolor": "white",
           "zerolinewidth": 2
          },
          "yaxis": {
           "automargin": true,
           "gridcolor": "white",
           "linecolor": "white",
           "ticks": "",
           "title": {
            "standoff": 15
           },
           "zerolinecolor": "white",
           "zerolinewidth": 2
          }
         }
        },
        "title": {
         "font": {
          "color": "black",
          "family": "Courier",
          "size": 20
         },
         "text": "Poverty Rate (All ages, 2014)"
        }
       }
      },
      "text/html": [
       "<div>                            <div id=\"d83f377d-8834-4042-9f11-a300a44cce07\" class=\"plotly-graph-div\" style=\"height:300px; width:100%;\"></div>            <script type=\"text/javascript\">                require([\"plotly\"], function(Plotly) {                    window.PLOTLYENV=window.PLOTLYENV || {};                                    if (document.getElementById(\"d83f377d-8834-4042-9f11-a300a44cce07\")) {                    Plotly.newPlot(                        \"d83f377d-8834-4042-9f11-a300a44cce07\",                        [{\"coloraxis\":\"coloraxis\",\"geo\":\"geo\",\"hovertemplate\":\"<b>%{hovertext}</b><br><br>Postal Code=%{location}<br>Poverty Percent, All Ages=%{z}<extra></extra>\",\"hovertext\":[\"AL\",\"AK\",\"AZ\",\"AR\",\"CA\",\"CO\",\"CT\",\"DE\",\"DC\",\"FL\",\"GA\",\"HI\",\"ID\",\"IL\",\"IN\",\"IA\",\"KS\",\"KY\",\"LA\",\"ME\",\"MA\",\"MI\",\"MN\",\"MS\",\"MO\",\"MT\",\"NE\",\"NV\",\"NH\",\"NJ\",\"NM\",\"NY\",\"NC\",\"ND\",\"OH\",\"OK\",\"OR\",\"PA\",\"RI\",\"SC\",\"SD\",\"TN\",\"TX\",\"UT\",\"VT\",\"VA\",\"WA\",\"WV\",\"WI\",\"WY\"],\"locationmode\":\"USA-states\",\"locations\":[\"AL\",\"AK\",\"AZ\",\"AR\",\"CA\",\"CO\",\"CT\",\"DE\",\"DC\",\"FL\",\"GA\",\"HI\",\"ID\",\"IL\",\"IN\",\"IA\",\"KS\",\"KY\",\"LA\",\"ME\",\"MA\",\"MI\",\"MN\",\"MS\",\"MO\",\"MT\",\"NE\",\"NV\",\"NH\",\"NJ\",\"NM\",\"NY\",\"NC\",\"ND\",\"OH\",\"OK\",\"OR\",\"PA\",\"RI\",\"SC\",\"SD\",\"TN\",\"TX\",\"UT\",\"VT\",\"VA\",\"WA\",\"WV\",\"WI\",\"WY\"],\"name\":\"\",\"type\":\"choropleth\",\"z\":[19.2,11.4,18.2,18.7,16.4,12.1,10.8,13.0,18.4,16.6,18.4,11.5,14.8,14.3,15.2,12.3,13.5,19.0,19.9,14.0,11.7,16.2,11.4,21.9,15.5,15.2,12.3,15.4,9.2,11.1,20.6,16.0,17.2,11.1,15.8,16.6,16.4,13.6,14.8,17.9,14.1,18.2,17.2,11.8,12.0,11.8,13.2,18.3,13.2,11.2]}],                        {\"coloraxis\":{\"colorbar\":{\"title\":{\"text\":\"Poverty Percent, All Ages\"}},\"colorscale\":[[0.0,\"#0d0887\"],[0.1111111111111111,\"#46039f\"],[0.2222222222222222,\"#7201a8\"],[0.3333333333333333,\"#9c179e\"],[0.4444444444444444,\"#bd3786\"],[0.5555555555555556,\"#d8576b\"],[0.6666666666666666,\"#ed7953\"],[0.7777777777777778,\"#fb9f3a\"],[0.8888888888888888,\"#fdca26\"],[1.0,\"#f0f921\"]]},\"geo\":{\"center\":{},\"domain\":{\"x\":[0.0,1.0],\"y\":[0.0,1.0]},\"projection\":{\"type\":\"natural earth\"},\"scope\":\"world\"},\"height\":300,\"legend\":{\"bgcolor\":\"white\",\"bordercolor\":\"white\",\"borderwidth\":2,\"font\":{\"color\":\"black\",\"family\":\"Courier\",\"size\":12},\"title\":{},\"tracegroupgap\":0,\"traceorder\":\"reversed\",\"x\":1,\"y\":0.5},\"margin\":{\"b\":20,\"l\":0,\"r\":0,\"t\":40},\"template\":{\"data\":{\"bar\":[{\"error_x\":{\"color\":\"#2a3f5f\"},\"error_y\":{\"color\":\"#2a3f5f\"},\"marker\":{\"line\":{\"color\":\"#E5ECF6\",\"width\":0.5},\"pattern\":{\"fillmode\":\"overlay\",\"size\":10,\"solidity\":0.2}},\"type\":\"bar\"}],\"barpolar\":[{\"marker\":{\"line\":{\"color\":\"#E5ECF6\",\"width\":0.5},\"pattern\":{\"fillmode\":\"overlay\",\"size\":10,\"solidity\":0.2}},\"type\":\"barpolar\"}],\"carpet\":[{\"aaxis\":{\"endlinecolor\":\"#2a3f5f\",\"gridcolor\":\"white\",\"linecolor\":\"white\",\"minorgridcolor\":\"white\",\"startlinecolor\":\"#2a3f5f\"},\"baxis\":{\"endlinecolor\":\"#2a3f5f\",\"gridcolor\":\"white\",\"linecolor\":\"white\",\"minorgridcolor\":\"white\",\"startlinecolor\":\"#2a3f5f\"},\"type\":\"carpet\"}],\"choropleth\":[{\"colorbar\":{\"outlinewidth\":0,\"ticks\":\"\"},\"type\":\"choropleth\"}],\"contour\":[{\"colorbar\":{\"outlinewidth\":0,\"ticks\":\"\"},\"colorscale\":[[0.0,\"#0d0887\"],[0.1111111111111111,\"#46039f\"],[0.2222222222222222,\"#7201a8\"],[0.3333333333333333,\"#9c179e\"],[0.4444444444444444,\"#bd3786\"],[0.5555555555555556,\"#d8576b\"],[0.6666666666666666,\"#ed7953\"],[0.7777777777777778,\"#fb9f3a\"],[0.8888888888888888,\"#fdca26\"],[1.0,\"#f0f921\"]],\"type\":\"contour\"}],\"contourcarpet\":[{\"colorbar\":{\"outlinewidth\":0,\"ticks\":\"\"},\"type\":\"contourcarpet\"}],\"heatmap\":[{\"colorbar\":{\"outlinewidth\":0,\"ticks\":\"\"},\"colorscale\":[[0.0,\"#0d0887\"],[0.1111111111111111,\"#46039f\"],[0.2222222222222222,\"#7201a8\"],[0.3333333333333333,\"#9c179e\"],[0.4444444444444444,\"#bd3786\"],[0.5555555555555556,\"#d8576b\"],[0.6666666666666666,\"#ed7953\"],[0.7777777777777778,\"#fb9f3a\"],[0.8888888888888888,\"#fdca26\"],[1.0,\"#f0f921\"]],\"type\":\"heatmap\"}],\"heatmapgl\":[{\"colorbar\":{\"outlinewidth\":0,\"ticks\":\"\"},\"colorscale\":[[0.0,\"#0d0887\"],[0.1111111111111111,\"#46039f\"],[0.2222222222222222,\"#7201a8\"],[0.3333333333333333,\"#9c179e\"],[0.4444444444444444,\"#bd3786\"],[0.5555555555555556,\"#d8576b\"],[0.6666666666666666,\"#ed7953\"],[0.7777777777777778,\"#fb9f3a\"],[0.8888888888888888,\"#fdca26\"],[1.0,\"#f0f921\"]],\"type\":\"heatmapgl\"}],\"histogram\":[{\"marker\":{\"pattern\":{\"fillmode\":\"overlay\",\"size\":10,\"solidity\":0.2}},\"type\":\"histogram\"}],\"histogram2d\":[{\"colorbar\":{\"outlinewidth\":0,\"ticks\":\"\"},\"colorscale\":[[0.0,\"#0d0887\"],[0.1111111111111111,\"#46039f\"],[0.2222222222222222,\"#7201a8\"],[0.3333333333333333,\"#9c179e\"],[0.4444444444444444,\"#bd3786\"],[0.5555555555555556,\"#d8576b\"],[0.6666666666666666,\"#ed7953\"],[0.7777777777777778,\"#fb9f3a\"],[0.8888888888888888,\"#fdca26\"],[1.0,\"#f0f921\"]],\"type\":\"histogram2d\"}],\"histogram2dcontour\":[{\"colorbar\":{\"outlinewidth\":0,\"ticks\":\"\"},\"colorscale\":[[0.0,\"#0d0887\"],[0.1111111111111111,\"#46039f\"],[0.2222222222222222,\"#7201a8\"],[0.3333333333333333,\"#9c179e\"],[0.4444444444444444,\"#bd3786\"],[0.5555555555555556,\"#d8576b\"],[0.6666666666666666,\"#ed7953\"],[0.7777777777777778,\"#fb9f3a\"],[0.8888888888888888,\"#fdca26\"],[1.0,\"#f0f921\"]],\"type\":\"histogram2dcontour\"}],\"mesh3d\":[{\"colorbar\":{\"outlinewidth\":0,\"ticks\":\"\"},\"type\":\"mesh3d\"}],\"parcoords\":[{\"line\":{\"colorbar\":{\"outlinewidth\":0,\"ticks\":\"\"}},\"type\":\"parcoords\"}],\"pie\":[{\"automargin\":true,\"type\":\"pie\"}],\"scatter\":[{\"marker\":{\"colorbar\":{\"outlinewidth\":0,\"ticks\":\"\"}},\"type\":\"scatter\"}],\"scatter3d\":[{\"line\":{\"colorbar\":{\"outlinewidth\":0,\"ticks\":\"\"}},\"marker\":{\"colorbar\":{\"outlinewidth\":0,\"ticks\":\"\"}},\"type\":\"scatter3d\"}],\"scattercarpet\":[{\"marker\":{\"colorbar\":{\"outlinewidth\":0,\"ticks\":\"\"}},\"type\":\"scattercarpet\"}],\"scattergeo\":[{\"marker\":{\"colorbar\":{\"outlinewidth\":0,\"ticks\":\"\"}},\"type\":\"scattergeo\"}],\"scattergl\":[{\"marker\":{\"colorbar\":{\"outlinewidth\":0,\"ticks\":\"\"}},\"type\":\"scattergl\"}],\"scattermapbox\":[{\"marker\":{\"colorbar\":{\"outlinewidth\":0,\"ticks\":\"\"}},\"type\":\"scattermapbox\"}],\"scatterpolar\":[{\"marker\":{\"colorbar\":{\"outlinewidth\":0,\"ticks\":\"\"}},\"type\":\"scatterpolar\"}],\"scatterpolargl\":[{\"marker\":{\"colorbar\":{\"outlinewidth\":0,\"ticks\":\"\"}},\"type\":\"scatterpolargl\"}],\"scatterternary\":[{\"marker\":{\"colorbar\":{\"outlinewidth\":0,\"ticks\":\"\"}},\"type\":\"scatterternary\"}],\"surface\":[{\"colorbar\":{\"outlinewidth\":0,\"ticks\":\"\"},\"colorscale\":[[0.0,\"#0d0887\"],[0.1111111111111111,\"#46039f\"],[0.2222222222222222,\"#7201a8\"],[0.3333333333333333,\"#9c179e\"],[0.4444444444444444,\"#bd3786\"],[0.5555555555555556,\"#d8576b\"],[0.6666666666666666,\"#ed7953\"],[0.7777777777777778,\"#fb9f3a\"],[0.8888888888888888,\"#fdca26\"],[1.0,\"#f0f921\"]],\"type\":\"surface\"}],\"table\":[{\"cells\":{\"fill\":{\"color\":\"#EBF0F8\"},\"line\":{\"color\":\"white\"}},\"header\":{\"fill\":{\"color\":\"#C8D4E3\"},\"line\":{\"color\":\"white\"}},\"type\":\"table\"}]},\"layout\":{\"annotationdefaults\":{\"arrowcolor\":\"#2a3f5f\",\"arrowhead\":0,\"arrowwidth\":1},\"autotypenumbers\":\"strict\",\"coloraxis\":{\"colorbar\":{\"outlinewidth\":0,\"ticks\":\"\"}},\"colorscale\":{\"diverging\":[[0,\"#8e0152\"],[0.1,\"#c51b7d\"],[0.2,\"#de77ae\"],[0.3,\"#f1b6da\"],[0.4,\"#fde0ef\"],[0.5,\"#f7f7f7\"],[0.6,\"#e6f5d0\"],[0.7,\"#b8e186\"],[0.8,\"#7fbc41\"],[0.9,\"#4d9221\"],[1,\"#276419\"]],\"sequential\":[[0.0,\"#0d0887\"],[0.1111111111111111,\"#46039f\"],[0.2222222222222222,\"#7201a8\"],[0.3333333333333333,\"#9c179e\"],[0.4444444444444444,\"#bd3786\"],[0.5555555555555556,\"#d8576b\"],[0.6666666666666666,\"#ed7953\"],[0.7777777777777778,\"#fb9f3a\"],[0.8888888888888888,\"#fdca26\"],[1.0,\"#f0f921\"]],\"sequentialminus\":[[0.0,\"#0d0887\"],[0.1111111111111111,\"#46039f\"],[0.2222222222222222,\"#7201a8\"],[0.3333333333333333,\"#9c179e\"],[0.4444444444444444,\"#bd3786\"],[0.5555555555555556,\"#d8576b\"],[0.6666666666666666,\"#ed7953\"],[0.7777777777777778,\"#fb9f3a\"],[0.8888888888888888,\"#fdca26\"],[1.0,\"#f0f921\"]]},\"colorway\":[\"#636efa\",\"#EF553B\",\"#00cc96\",\"#ab63fa\",\"#FFA15A\",\"#19d3f3\",\"#FF6692\",\"#B6E880\",\"#FF97FF\",\"#FECB52\"],\"font\":{\"color\":\"#2a3f5f\"},\"geo\":{\"bgcolor\":\"white\",\"lakecolor\":\"white\",\"landcolor\":\"#E5ECF6\",\"showlakes\":true,\"showland\":true,\"subunitcolor\":\"white\"},\"hoverlabel\":{\"align\":\"left\"},\"hovermode\":\"closest\",\"mapbox\":{\"style\":\"light\"},\"paper_bgcolor\":\"white\",\"plot_bgcolor\":\"#E5ECF6\",\"polar\":{\"angularaxis\":{\"gridcolor\":\"white\",\"linecolor\":\"white\",\"ticks\":\"\"},\"bgcolor\":\"#E5ECF6\",\"radialaxis\":{\"gridcolor\":\"white\",\"linecolor\":\"white\",\"ticks\":\"\"}},\"scene\":{\"xaxis\":{\"backgroundcolor\":\"#E5ECF6\",\"gridcolor\":\"white\",\"gridwidth\":2,\"linecolor\":\"white\",\"showbackground\":true,\"ticks\":\"\",\"zerolinecolor\":\"white\"},\"yaxis\":{\"backgroundcolor\":\"#E5ECF6\",\"gridcolor\":\"white\",\"gridwidth\":2,\"linecolor\":\"white\",\"showbackground\":true,\"ticks\":\"\",\"zerolinecolor\":\"white\"},\"zaxis\":{\"backgroundcolor\":\"#E5ECF6\",\"gridcolor\":\"white\",\"gridwidth\":2,\"linecolor\":\"white\",\"showbackground\":true,\"ticks\":\"\",\"zerolinecolor\":\"white\"}},\"shapedefaults\":{\"line\":{\"color\":\"#2a3f5f\"}},\"ternary\":{\"aaxis\":{\"gridcolor\":\"white\",\"linecolor\":\"white\",\"ticks\":\"\"},\"baxis\":{\"gridcolor\":\"white\",\"linecolor\":\"white\",\"ticks\":\"\"},\"bgcolor\":\"#E5ECF6\",\"caxis\":{\"gridcolor\":\"white\",\"linecolor\":\"white\",\"ticks\":\"\"}},\"title\":{\"x\":0.05},\"xaxis\":{\"automargin\":true,\"gridcolor\":\"white\",\"linecolor\":\"white\",\"ticks\":\"\",\"title\":{\"standoff\":15},\"zerolinecolor\":\"white\",\"zerolinewidth\":2},\"yaxis\":{\"automargin\":true,\"gridcolor\":\"white\",\"linecolor\":\"white\",\"ticks\":\"\",\"title\":{\"standoff\":15},\"zerolinecolor\":\"white\",\"zerolinewidth\":2}}},\"title\":{\"font\":{\"color\":\"black\",\"family\":\"Courier\",\"size\":20},\"text\":\"Poverty Rate (All ages, 2014)\"}},                        {\"responsive\": true}                    ).then(function(){\n",
       "                            \n",
       "var gd = document.getElementById('d83f377d-8834-4042-9f11-a300a44cce07');\n",
       "var x = new MutationObserver(function (mutations, observer) {{\n",
       "        var display = window.getComputedStyle(gd).display;\n",
       "        if (!display || display === 'none') {{\n",
       "            console.log([gd, 'removed!']);\n",
       "            Plotly.purge(gd);\n",
       "            observer.disconnect();\n",
       "        }}\n",
       "}});\n",
       "\n",
       "// Listen for the removal of the full notebook cells\n",
       "var notebookContainer = gd.closest('#notebook-container');\n",
       "if (notebookContainer) {{\n",
       "    x.observe(notebookContainer, {childList: true});\n",
       "}}\n",
       "\n",
       "// Listen for the clearing of the current output cell\n",
       "var outputEl = gd.closest('.output');\n",
       "if (outputEl) {{\n",
       "    x.observe(outputEl, {childList: true});\n",
       "}}\n",
       "\n",
       "                        })                };                });            </script>        </div>"
      ]
     },
     "metadata": {},
     "output_type": "display_data"
    }
   ],
   "source": [
    "df = state_med_estpop_income\n",
    "locations = 'Postal Code'\n",
    "color = 'Poverty Percent, All Ages'\n",
    "hover_name = 'Postal Code'\n",
    "title = 'Poverty Rate (All ages, 2014)'\n",
    "fontsize= 12\n",
    "plot_most_common_by_state(df, locations, color, hover_name, title, fontsize, hover_data=None)"
   ]
  },
  {
   "cell_type": "markdown",
   "metadata": {
    "hidden": true
   },
   "source": [
    "Fig. 7: The lowest poverty rates appaer to be concentrated in southern states."
   ]
  },
  {
   "cell_type": "markdown",
   "metadata": {
    "heading_collapsed": true,
    "hidden": true
   },
   "source": [
    "### Incorporating shape files"
   ]
  },
  {
   "cell_type": "markdown",
   "metadata": {
    "hidden": true
   },
   "source": [
    "To create bivariate maps using Tableau, we'll add the shapefile information for each state.\n",
    "To learn more about how to create bivariate maps, check out this article: https://www.tableau.com/about/blog/2018/2/how-make-effective-bivariate-choropleth-maps-tableau-83121"
   ]
  },
  {
   "cell_type": "code",
   "execution_count": 847,
   "metadata": {
    "ExecuteTime": {
     "end_time": "2021-07-01T00:40:35.155606Z",
     "start_time": "2021-07-01T00:40:31.378208Z"
    },
    "hidden": true
   },
   "outputs": [],
   "source": [
    "states = gpd.read_file('../data/input/cb_2014_us_state_5m/cb_2014_us_state_5m.shp')\n",
    "states = states.rename(columns={\"STUSPS\": \"Postal Code\"})"
   ]
  },
  {
   "cell_type": "code",
   "execution_count": 1230,
   "metadata": {
    "ExecuteTime": {
     "end_time": "2021-07-03T17:58:31.041954Z",
     "start_time": "2021-07-03T17:58:30.033668Z"
    },
    "hidden": true
   },
   "outputs": [],
   "source": [
    "state_med_estpop_income_gdf = pd.merge(state_med_estpop_income, states, on=\"Postal Code\")"
   ]
  },
  {
   "cell_type": "markdown",
   "metadata": {
    "heading_collapsed": true
   },
   "source": [
    "## Saving datasets to csv"
   ]
  },
  {
   "cell_type": "code",
   "execution_count": 1241,
   "metadata": {
    "ExecuteTime": {
     "end_time": "2021-07-03T18:29:50.171493Z",
     "start_time": "2021-07-03T18:29:49.619505Z"
    },
    "hidden": true
   },
   "outputs": [],
   "source": [
    "#  State Medicare, population, and income data w/ state geometry data\n",
    "state_med_estpop_income_gdf.to_csv('../data/output/state_med_estpop_income_geo_2014.csv', header=True)"
   ]
  },
  {
   "cell_type": "code",
   "execution_count": 1242,
   "metadata": {
    "ExecuteTime": {
     "end_time": "2021-07-03T18:31:08.711923Z",
     "start_time": "2021-07-03T18:31:08.654184Z"
    },
    "hidden": true
   },
   "outputs": [],
   "source": [
    "#  State population and demographics \n",
    "state_data_over_65_2014.to_csv('../data/output/state_data_over_65_2014.csv', header=True)"
   ]
  },
  {
   "cell_type": "markdown",
   "metadata": {
    "heading_collapsed": true
   },
   "source": [
    "## Statistical analysis"
   ]
  },
  {
   "cell_type": "markdown",
   "metadata": {
    "heading_collapsed": true,
    "hidden": true
   },
   "source": [
    "#### Histograms (all data)"
   ]
  },
  {
   "cell_type": "code",
   "execution_count": 1233,
   "metadata": {
    "ExecuteTime": {
     "end_time": "2021-07-03T18:11:36.959217Z",
     "start_time": "2021-07-03T18:11:28.365950Z"
    },
    "hidden": true,
    "scrolled": false
   },
   "outputs": [
    {
     "data": {
      "image/png": "[encoded data removed]",
      "text/plain": [
       "<Figure size 1440x720 with 12 Axes>"
      ]
     },
     "metadata": {},
     "output_type": "display_data"
    }
   ],
   "source": [
    "#  Right click image to open in a new tab\n",
    "state_med_estpop_income.hist(alpha=0.5, figsize=(20, 10))\n",
    "plt.tight_layout()\n",
    "plt.show()"
   ]
  },
  {
   "cell_type": "markdown",
   "metadata": {
    "heading_collapsed": true,
    "hidden": true
   },
   "source": [
    "#### Correlations (all data)"
   ]
  },
  {
   "cell_type": "code",
   "execution_count": 1234,
   "metadata": {
    "ExecuteTime": {
     "end_time": "2021-07-03T18:12:56.286304Z",
     "start_time": "2021-07-03T18:12:55.421299Z"
    },
    "hidden": true,
    "scrolled": true
   },
   "outputs": [
    {
     "data": {
      "text/html": [
       "<style  type=\"text/css\" >\n",
       "#T_4a3e7_row0_col0,#T_4a3e7_row1_col1,#T_4a3e7_row2_col2,#T_4a3e7_row3_col3,#T_4a3e7_row4_col4,#T_4a3e7_row5_col5,#T_4a3e7_row6_col6,#T_4a3e7_row7_col7,#T_4a3e7_row8_col8,#T_4a3e7_row9_col9,#T_4a3e7_row10_col10,#T_4a3e7_row11_col11{\n",
       "            background-color:  #ff00ff;\n",
       "            color:  #f1f1f1;\n",
       "        }#T_4a3e7_row0_col1{\n",
       "            background-color:  #ed12ff;\n",
       "            color:  #f1f1f1;\n",
       "        }#T_4a3e7_row0_col2,#T_4a3e7_row2_col0{\n",
       "            background-color:  #f609ff;\n",
       "            color:  #f1f1f1;\n",
       "        }#T_4a3e7_row0_col3{\n",
       "            background-color:  #d32cff;\n",
       "            color:  #f1f1f1;\n",
       "        }#T_4a3e7_row0_col4,#T_4a3e7_row2_col5,#T_4a3e7_row2_col8,#T_4a3e7_row4_col0,#T_4a3e7_row4_col5,#T_4a3e7_row4_col7,#T_4a3e7_row4_col8,#T_4a3e7_row5_col2,#T_4a3e7_row5_col4,#T_4a3e7_row7_col4,#T_4a3e7_row8_col2,#T_4a3e7_row8_col4{\n",
       "            background-color:  #f50aff;\n",
       "            color:  #f1f1f1;\n",
       "        }#T_4a3e7_row0_col5,#T_4a3e7_row1_col4,#T_4a3e7_row4_col1,#T_4a3e7_row5_col0{\n",
       "            background-color:  #fc03ff;\n",
       "            color:  #f1f1f1;\n",
       "        }#T_4a3e7_row0_col6{\n",
       "            background-color:  #649bff;\n",
       "            color:  #000000;\n",
       "        }#T_4a3e7_row0_col7,#T_4a3e7_row5_col7,#T_4a3e7_row7_col0,#T_4a3e7_row7_col5{\n",
       "            background-color:  #fd02ff;\n",
       "            color:  #f1f1f1;\n",
       "        }#T_4a3e7_row0_col8,#T_4a3e7_row7_col8,#T_4a3e7_row8_col0,#T_4a3e7_row8_col7{\n",
       "            background-color:  #fb04ff;\n",
       "            color:  #f1f1f1;\n",
       "        }#T_4a3e7_row0_col9,#T_4a3e7_row1_col9,#T_4a3e7_row2_col9,#T_4a3e7_row3_col9,#T_4a3e7_row4_col9,#T_4a3e7_row5_col9,#T_4a3e7_row6_col11,#T_4a3e7_row7_col9,#T_4a3e7_row8_col9,#T_4a3e7_row9_col6,#T_4a3e7_row10_col11,#T_4a3e7_row11_col10{\n",
       "            background-color:  #00ffff;\n",
       "            color:  #000000;\n",
       "        }#T_4a3e7_row0_col10{\n",
       "            background-color:  #718eff;\n",
       "            color:  #000000;\n",
       "        }#T_4a3e7_row0_col11{\n",
       "            background-color:  #50afff;\n",
       "            color:  #000000;\n",
       "        }#T_4a3e7_row1_col0,#T_4a3e7_row1_col7{\n",
       "            background-color:  #ef10ff;\n",
       "            color:  #f1f1f1;\n",
       "        }#T_4a3e7_row1_col2,#T_4a3e7_row2_col1{\n",
       "            background-color:  #f906ff;\n",
       "            color:  #f1f1f1;\n",
       "        }#T_4a3e7_row1_col3,#T_4a3e7_row2_col3,#T_4a3e7_row4_col3{\n",
       "            background-color:  #eb14ff;\n",
       "            color:  #f1f1f1;\n",
       "        }#T_4a3e7_row1_col5,#T_4a3e7_row5_col1,#T_4a3e7_row8_col1{\n",
       "            background-color:  #f10eff;\n",
       "            color:  #f1f1f1;\n",
       "        }#T_4a3e7_row1_col6,#T_4a3e7_row6_col7,#T_4a3e7_row8_col10,#T_4a3e7_row10_col4{\n",
       "            background-color:  #7f80ff;\n",
       "            color:  #000000;\n",
       "        }#T_4a3e7_row1_col8{\n",
       "            background-color:  #f20dff;\n",
       "            color:  #f1f1f1;\n",
       "        }#T_4a3e7_row1_col10,#T_4a3e7_row7_col6{\n",
       "            background-color:  #748bff;\n",
       "            color:  #000000;\n",
       "        }#T_4a3e7_row1_col11{\n",
       "            background-color:  #59a6ff;\n",
       "            color:  #000000;\n",
       "        }#T_4a3e7_row2_col4,#T_4a3e7_row4_col2,#T_4a3e7_row5_col8,#T_4a3e7_row8_col5{\n",
       "            background-color:  #fe01ff;\n",
       "            color:  #f1f1f1;\n",
       "        }#T_4a3e7_row2_col6,#T_4a3e7_row11_col0{\n",
       "            background-color:  #6e91ff;\n",
       "            color:  #000000;\n",
       "        }#T_4a3e7_row2_col7,#T_4a3e7_row7_col2{\n",
       "            background-color:  #f708ff;\n",
       "            color:  #f1f1f1;\n",
       "        }#T_4a3e7_row2_col10{\n",
       "            background-color:  #6897ff;\n",
       "            color:  #000000;\n",
       "        }#T_4a3e7_row2_col11{\n",
       "            background-color:  #639cff;\n",
       "            color:  #000000;\n",
       "        }#T_4a3e7_row3_col0,#T_4a3e7_row3_col5,#T_4a3e7_row7_col3{\n",
       "            background-color:  #d12eff;\n",
       "            color:  #f1f1f1;\n",
       "        }#T_4a3e7_row3_col1,#T_4a3e7_row3_col2{\n",
       "            background-color:  #e916ff;\n",
       "            color:  #f1f1f1;\n",
       "        }#T_4a3e7_row3_col4{\n",
       "            background-color:  #ea15ff;\n",
       "            color:  #f1f1f1;\n",
       "        }#T_4a3e7_row3_col6{\n",
       "            background-color:  #5da2ff;\n",
       "            color:  #000000;\n",
       "        }#T_4a3e7_row3_col7{\n",
       "            background-color:  #cf30ff;\n",
       "            color:  #f1f1f1;\n",
       "        }#T_4a3e7_row3_col8,#T_4a3e7_row5_col3{\n",
       "            background-color:  #d42bff;\n",
       "            color:  #f1f1f1;\n",
       "        }#T_4a3e7_row3_col10{\n",
       "            background-color:  #4bb4ff;\n",
       "            color:  #000000;\n",
       "        }#T_4a3e7_row3_col11{\n",
       "            background-color:  #5ba4ff;\n",
       "            color:  #000000;\n",
       "        }#T_4a3e7_row4_col6{\n",
       "            background-color:  #7689ff;\n",
       "            color:  #000000;\n",
       "        }#T_4a3e7_row4_col10{\n",
       "            background-color:  #6b94ff;\n",
       "            color:  #000000;\n",
       "        }#T_4a3e7_row4_col11{\n",
       "            background-color:  #629dff;\n",
       "            color:  #000000;\n",
       "        }#T_4a3e7_row5_col6,#T_4a3e7_row5_col10,#T_4a3e7_row6_col1,#T_4a3e7_row10_col1,#T_4a3e7_row11_col9{\n",
       "            background-color:  #847bff;\n",
       "            color:  #000000;\n",
       "        }#T_4a3e7_row5_col11{\n",
       "            background-color:  #47b8ff;\n",
       "            color:  #000000;\n",
       "        }#T_4a3e7_row6_col0{\n",
       "            background-color:  #738cff;\n",
       "            color:  #000000;\n",
       "        }#T_4a3e7_row6_col2{\n",
       "            background-color:  #7986ff;\n",
       "            color:  #000000;\n",
       "        }#T_4a3e7_row6_col3{\n",
       "            background-color:  #728dff;\n",
       "            color:  #000000;\n",
       "        }#T_4a3e7_row6_col4,#T_4a3e7_row8_col6,#T_4a3e7_row10_col2{\n",
       "            background-color:  #7e81ff;\n",
       "            color:  #000000;\n",
       "        }#T_4a3e7_row6_col5{\n",
       "            background-color:  #8b74ff;\n",
       "            color:  #000000;\n",
       "        }#T_4a3e7_row6_col8,#T_4a3e7_row10_col0{\n",
       "            background-color:  #8976ff;\n",
       "            color:  #000000;\n",
       "        }#T_4a3e7_row6_col9{\n",
       "            background-color:  #08f7ff;\n",
       "            color:  #000000;\n",
       "        }#T_4a3e7_row6_col10{\n",
       "            background-color:  #b24dff;\n",
       "            color:  #000000;\n",
       "        }#T_4a3e7_row7_col1{\n",
       "            background-color:  #ee11ff;\n",
       "            color:  #f1f1f1;\n",
       "        }#T_4a3e7_row7_col10{\n",
       "            background-color:  #7887ff;\n",
       "            color:  #000000;\n",
       "        }#T_4a3e7_row7_col11{\n",
       "            background-color:  #52adff;\n",
       "            color:  #000000;\n",
       "        }#T_4a3e7_row8_col3{\n",
       "            background-color:  #d629ff;\n",
       "            color:  #f1f1f1;\n",
       "        }#T_4a3e7_row8_col11{\n",
       "            background-color:  #41beff;\n",
       "            color:  #000000;\n",
       "        }#T_4a3e7_row9_col0{\n",
       "            background-color:  #12edff;\n",
       "            color:  #000000;\n",
       "        }#T_4a3e7_row9_col1{\n",
       "            background-color:  #01feff;\n",
       "            color:  #000000;\n",
       "        }#T_4a3e7_row9_col2{\n",
       "            background-color:  #0af5ff;\n",
       "            color:  #000000;\n",
       "        }#T_4a3e7_row9_col3{\n",
       "            background-color:  #19e6ff;\n",
       "            color:  #000000;\n",
       "        }#T_4a3e7_row9_col4,#T_4a3e7_row9_col5{\n",
       "            background-color:  #06f9ff;\n",
       "            color:  #000000;\n",
       "        }#T_4a3e7_row9_col7{\n",
       "            background-color:  #0bf4ff;\n",
       "            color:  #000000;\n",
       "        }#T_4a3e7_row9_col8{\n",
       "            background-color:  #0ef1ff;\n",
       "            color:  #000000;\n",
       "        }#T_4a3e7_row9_col10{\n",
       "            background-color:  #32cdff;\n",
       "            color:  #000000;\n",
       "        }#T_4a3e7_row9_col11{\n",
       "            background-color:  #758aff;\n",
       "            color:  #000000;\n",
       "        }#T_4a3e7_row10_col3{\n",
       "            background-color:  #6f90ff;\n",
       "            color:  #000000;\n",
       "        }#T_4a3e7_row10_col5{\n",
       "            background-color:  #946bff;\n",
       "            color:  #000000;\n",
       "        }#T_4a3e7_row10_col6{\n",
       "            background-color:  #b847ff;\n",
       "            color:  #000000;\n",
       "        }#T_4a3e7_row10_col7{\n",
       "            background-color:  #8c73ff;\n",
       "            color:  #000000;\n",
       "        }#T_4a3e7_row10_col8{\n",
       "            background-color:  #936cff;\n",
       "            color:  #000000;\n",
       "        }#T_4a3e7_row10_col9{\n",
       "            background-color:  #48b7ff;\n",
       "            color:  #000000;\n",
       "        }#T_4a3e7_row11_col1,#T_4a3e7_row11_col7{\n",
       "            background-color:  #6c93ff;\n",
       "            color:  #000000;\n",
       "        }#T_4a3e7_row11_col2{\n",
       "            background-color:  #7a85ff;\n",
       "            color:  #000000;\n",
       "        }#T_4a3e7_row11_col3{\n",
       "            background-color:  #7b84ff;\n",
       "            color:  #000000;\n",
       "        }#T_4a3e7_row11_col4{\n",
       "            background-color:  #7788ff;\n",
       "            color:  #000000;\n",
       "        }#T_4a3e7_row11_col5,#T_4a3e7_row11_col8{\n",
       "            background-color:  #5fa0ff;\n",
       "            color:  #000000;\n",
       "        }#T_4a3e7_row11_col6{\n",
       "            background-color:  #14ebff;\n",
       "            color:  #000000;\n",
       "        }</style><table id=\"T_4a3e7_\" ><thead>    <tr>        <th class=\"blank level0\" ></th>        <th class=\"col_heading level0 col0\" >Population over 65</th>        <th class=\"col_heading level0 col1\" >Total discharges</th>        <th class=\"col_heading level0 col2\" >Inpatient total payments (avg)</th>        <th class=\"col_heading level0 col3\" >Total outpatient services</th>        <th class=\"col_heading level0 col4\" >Outpatient total payments (avg)</th>        <th class=\"col_heading level0 col5\" >Total prescriptions 65+ (Medicare D)</th>        <th class=\"col_heading level0 col6\" >Total prescriptions per 100k</th>        <th class=\"col_heading level0 col7\" >Total drug cost 65+</th>        <th class=\"col_heading level0 col8\" >Number of prescriptions</th>        <th class=\"col_heading level0 col9\" >Percent of total prescriptions</th>        <th class=\"col_heading level0 col10\" >Poverty Percent, All Ages</th>        <th class=\"col_heading level0 col11\" >Median Household Income</th>    </tr></thead><tbody>\n",
       "                <tr>\n",
       "                        <th id=\"T_4a3e7_level0_row0\" class=\"row_heading level0 row0\" >Population over 65</th>\n",
       "                        <td id=\"T_4a3e7_row0_col0\" class=\"data row0 col0\" >1.0</td>\n",
       "                        <td id=\"T_4a3e7_row0_col1\" class=\"data row0 col1\" >0.9</td>\n",
       "                        <td id=\"T_4a3e7_row0_col2\" class=\"data row0 col2\" >0.94</td>\n",
       "                        <td id=\"T_4a3e7_row0_col3\" class=\"data row0 col3\" >0.75</td>\n",
       "                        <td id=\"T_4a3e7_row0_col4\" class=\"data row0 col4\" >0.94</td>\n",
       "                        <td id=\"T_4a3e7_row0_col5\" class=\"data row0 col5\" >0.98</td>\n",
       "                        <td id=\"T_4a3e7_row0_col6\" class=\"data row0 col6\" >0.12</td>\n",
       "                        <td id=\"T_4a3e7_row0_col7\" class=\"data row0 col7\" >0.98</td>\n",
       "                        <td id=\"T_4a3e7_row0_col8\" class=\"data row0 col8\" >0.98</td>\n",
       "                        <td id=\"T_4a3e7_row0_col9\" class=\"data row0 col9\" >-0.45</td>\n",
       "                        <td id=\"T_4a3e7_row0_col10\" class=\"data row0 col10\" >0.19</td>\n",
       "                        <td id=\"T_4a3e7_row0_col11\" class=\"data row0 col11\" >0.0079</td>\n",
       "            </tr>\n",
       "            <tr>\n",
       "                        <th id=\"T_4a3e7_level0_row1\" class=\"row_heading level0 row1\" >Total discharges</th>\n",
       "                        <td id=\"T_4a3e7_row1_col0\" class=\"data row1 col0\" >0.9</td>\n",
       "                        <td id=\"T_4a3e7_row1_col1\" class=\"data row1 col1\" >1.0</td>\n",
       "                        <td id=\"T_4a3e7_row1_col2\" class=\"data row1 col2\" >0.96</td>\n",
       "                        <td id=\"T_4a3e7_row1_col3\" class=\"data row1 col3\" >0.88</td>\n",
       "                        <td id=\"T_4a3e7_row1_col4\" class=\"data row1 col4\" >0.98</td>\n",
       "                        <td id=\"T_4a3e7_row1_col5\" class=\"data row1 col5\" >0.91</td>\n",
       "                        <td id=\"T_4a3e7_row1_col6\" class=\"data row1 col6\" >0.22</td>\n",
       "                        <td id=\"T_4a3e7_row1_col7\" class=\"data row1 col7\" >0.9</td>\n",
       "                        <td id=\"T_4a3e7_row1_col8\" class=\"data row1 col8\" >0.92</td>\n",
       "                        <td id=\"T_4a3e7_row1_col9\" class=\"data row1 col9\" >-0.55</td>\n",
       "                        <td id=\"T_4a3e7_row1_col10\" class=\"data row1 col10\" >0.15</td>\n",
       "                        <td id=\"T_4a3e7_row1_col11\" class=\"data row1 col11\" >-0.0066</td>\n",
       "            </tr>\n",
       "            <tr>\n",
       "                        <th id=\"T_4a3e7_level0_row2\" class=\"row_heading level0 row2\" >Inpatient total payments (avg)</th>\n",
       "                        <td id=\"T_4a3e7_row2_col0\" class=\"data row2 col0\" >0.94</td>\n",
       "                        <td id=\"T_4a3e7_row2_col1\" class=\"data row2 col1\" >0.96</td>\n",
       "                        <td id=\"T_4a3e7_row2_col2\" class=\"data row2 col2\" >1.0</td>\n",
       "                        <td id=\"T_4a3e7_row2_col3\" class=\"data row2 col3\" >0.88</td>\n",
       "                        <td id=\"T_4a3e7_row2_col4\" class=\"data row2 col4\" >0.99</td>\n",
       "                        <td id=\"T_4a3e7_row2_col5\" class=\"data row2 col5\" >0.94</td>\n",
       "                        <td id=\"T_4a3e7_row2_col6\" class=\"data row2 col6\" >0.15</td>\n",
       "                        <td id=\"T_4a3e7_row2_col7\" class=\"data row2 col7\" >0.95</td>\n",
       "                        <td id=\"T_4a3e7_row2_col8\" class=\"data row2 col8\" >0.94</td>\n",
       "                        <td id=\"T_4a3e7_row2_col9\" class=\"data row2 col9\" >-0.49</td>\n",
       "                        <td id=\"T_4a3e7_row2_col10\" class=\"data row2 col10\" >0.11</td>\n",
       "                        <td id=\"T_4a3e7_row2_col11\" class=\"data row2 col11\" >0.087</td>\n",
       "            </tr>\n",
       "            <tr>\n",
       "                        <th id=\"T_4a3e7_level0_row3\" class=\"row_heading level0 row3\" >Total outpatient services</th>\n",
       "                        <td id=\"T_4a3e7_row3_col0\" class=\"data row3 col0\" >0.75</td>\n",
       "                        <td id=\"T_4a3e7_row3_col1\" class=\"data row3 col1\" >0.88</td>\n",
       "                        <td id=\"T_4a3e7_row3_col2\" class=\"data row3 col2\" >0.88</td>\n",
       "                        <td id=\"T_4a3e7_row3_col3\" class=\"data row3 col3\" >1.0</td>\n",
       "                        <td id=\"T_4a3e7_row3_col4\" class=\"data row3 col4\" >0.88</td>\n",
       "                        <td id=\"T_4a3e7_row3_col5\" class=\"data row3 col5\" >0.74</td>\n",
       "                        <td id=\"T_4a3e7_row3_col6\" class=\"data row3 col6\" >0.11</td>\n",
       "                        <td id=\"T_4a3e7_row3_col7\" class=\"data row3 col7\" >0.73</td>\n",
       "                        <td id=\"T_4a3e7_row3_col8\" class=\"data row3 col8\" >0.76</td>\n",
       "                        <td id=\"T_4a3e7_row3_col9\" class=\"data row3 col9\" >-0.4</td>\n",
       "                        <td id=\"T_4a3e7_row3_col10\" class=\"data row3 col10\" >0.012</td>\n",
       "                        <td id=\"T_4a3e7_row3_col11\" class=\"data row3 col11\" >0.098</td>\n",
       "            </tr>\n",
       "            <tr>\n",
       "                        <th id=\"T_4a3e7_level0_row4\" class=\"row_heading level0 row4\" >Outpatient total payments (avg)</th>\n",
       "                        <td id=\"T_4a3e7_row4_col0\" class=\"data row4 col0\" >0.94</td>\n",
       "                        <td id=\"T_4a3e7_row4_col1\" class=\"data row4 col1\" >0.98</td>\n",
       "                        <td id=\"T_4a3e7_row4_col2\" class=\"data row4 col2\" >0.99</td>\n",
       "                        <td id=\"T_4a3e7_row4_col3\" class=\"data row4 col3\" >0.88</td>\n",
       "                        <td id=\"T_4a3e7_row4_col4\" class=\"data row4 col4\" >1.0</td>\n",
       "                        <td id=\"T_4a3e7_row4_col5\" class=\"data row4 col5\" >0.94</td>\n",
       "                        <td id=\"T_4a3e7_row4_col6\" class=\"data row4 col6\" >0.18</td>\n",
       "                        <td id=\"T_4a3e7_row4_col7\" class=\"data row4 col7\" >0.94</td>\n",
       "                        <td id=\"T_4a3e7_row4_col8\" class=\"data row4 col8\" >0.94</td>\n",
       "                        <td id=\"T_4a3e7_row4_col9\" class=\"data row4 col9\" >-0.52</td>\n",
       "                        <td id=\"T_4a3e7_row4_col10\" class=\"data row4 col10\" >0.12</td>\n",
       "                        <td id=\"T_4a3e7_row4_col11\" class=\"data row4 col11\" >0.065</td>\n",
       "            </tr>\n",
       "            <tr>\n",
       "                        <th id=\"T_4a3e7_level0_row5\" class=\"row_heading level0 row5\" >Total prescriptions 65+ (Medicare D)</th>\n",
       "                        <td id=\"T_4a3e7_row5_col0\" class=\"data row5 col0\" >0.98</td>\n",
       "                        <td id=\"T_4a3e7_row5_col1\" class=\"data row5 col1\" >0.91</td>\n",
       "                        <td id=\"T_4a3e7_row5_col2\" class=\"data row5 col2\" >0.94</td>\n",
       "                        <td id=\"T_4a3e7_row5_col3\" class=\"data row5 col3\" >0.74</td>\n",
       "                        <td id=\"T_4a3e7_row5_col4\" class=\"data row5 col4\" >0.94</td>\n",
       "                        <td id=\"T_4a3e7_row5_col5\" class=\"data row5 col5\" >1.0</td>\n",
       "                        <td id=\"T_4a3e7_row5_col6\" class=\"data row5 col6\" >0.27</td>\n",
       "                        <td id=\"T_4a3e7_row5_col7\" class=\"data row5 col7\" >0.99</td>\n",
       "                        <td id=\"T_4a3e7_row5_col8\" class=\"data row5 col8\" >0.99</td>\n",
       "                        <td id=\"T_4a3e7_row5_col9\" class=\"data row5 col9\" >-0.52</td>\n",
       "                        <td id=\"T_4a3e7_row5_col10\" class=\"data row5 col10\" >0.27</td>\n",
       "                        <td id=\"T_4a3e7_row5_col11\" class=\"data row5 col11\" >-0.093</td>\n",
       "            </tr>\n",
       "            <tr>\n",
       "                        <th id=\"T_4a3e7_level0_row6\" class=\"row_heading level0 row6\" >Total prescriptions per 100k</th>\n",
       "                        <td id=\"T_4a3e7_row6_col0\" class=\"data row6 col0\" >0.12</td>\n",
       "                        <td id=\"T_4a3e7_row6_col1\" class=\"data row6 col1\" >0.22</td>\n",
       "                        <td id=\"T_4a3e7_row6_col2\" class=\"data row6 col2\" >0.15</td>\n",
       "                        <td id=\"T_4a3e7_row6_col3\" class=\"data row6 col3\" >0.11</td>\n",
       "                        <td id=\"T_4a3e7_row6_col4\" class=\"data row6 col4\" >0.18</td>\n",
       "                        <td id=\"T_4a3e7_row6_col5\" class=\"data row6 col5\" >0.27</td>\n",
       "                        <td id=\"T_4a3e7_row6_col6\" class=\"data row6 col6\" >1.0</td>\n",
       "                        <td id=\"T_4a3e7_row6_col7\" class=\"data row6 col7\" >0.19</td>\n",
       "                        <td id=\"T_4a3e7_row6_col8\" class=\"data row6 col8\" >0.25</td>\n",
       "                        <td id=\"T_4a3e7_row6_col9\" class=\"data row6 col9\" >-0.56</td>\n",
       "                        <td id=\"T_4a3e7_row6_col10\" class=\"data row6 col10\" >0.51</td>\n",
       "                        <td id=\"T_4a3e7_row6_col11\" class=\"data row6 col11\" >-0.61</td>\n",
       "            </tr>\n",
       "            <tr>\n",
       "                        <th id=\"T_4a3e7_level0_row7\" class=\"row_heading level0 row7\" >Total drug cost 65+</th>\n",
       "                        <td id=\"T_4a3e7_row7_col0\" class=\"data row7 col0\" >0.98</td>\n",
       "                        <td id=\"T_4a3e7_row7_col1\" class=\"data row7 col1\" >0.9</td>\n",
       "                        <td id=\"T_4a3e7_row7_col2\" class=\"data row7 col2\" >0.95</td>\n",
       "                        <td id=\"T_4a3e7_row7_col3\" class=\"data row7 col3\" >0.73</td>\n",
       "                        <td id=\"T_4a3e7_row7_col4\" class=\"data row7 col4\" >0.94</td>\n",
       "                        <td id=\"T_4a3e7_row7_col5\" class=\"data row7 col5\" >0.99</td>\n",
       "                        <td id=\"T_4a3e7_row7_col6\" class=\"data row7 col6\" >0.19</td>\n",
       "                        <td id=\"T_4a3e7_row7_col7\" class=\"data row7 col7\" >1.0</td>\n",
       "                        <td id=\"T_4a3e7_row7_col8\" class=\"data row7 col8\" >0.98</td>\n",
       "                        <td id=\"T_4a3e7_row7_col9\" class=\"data row7 col9\" >-0.49</td>\n",
       "                        <td id=\"T_4a3e7_row7_col10\" class=\"data row7 col10\" >0.21</td>\n",
       "                        <td id=\"T_4a3e7_row7_col11\" class=\"data row7 col11\" >-0.0072</td>\n",
       "            </tr>\n",
       "            <tr>\n",
       "                        <th id=\"T_4a3e7_level0_row8\" class=\"row_heading level0 row8\" >Number of prescriptions</th>\n",
       "                        <td id=\"T_4a3e7_row8_col0\" class=\"data row8 col0\" >0.98</td>\n",
       "                        <td id=\"T_4a3e7_row8_col1\" class=\"data row8 col1\" >0.92</td>\n",
       "                        <td id=\"T_4a3e7_row8_col2\" class=\"data row8 col2\" >0.94</td>\n",
       "                        <td id=\"T_4a3e7_row8_col3\" class=\"data row8 col3\" >0.76</td>\n",
       "                        <td id=\"T_4a3e7_row8_col4\" class=\"data row8 col4\" >0.94</td>\n",
       "                        <td id=\"T_4a3e7_row8_col5\" class=\"data row8 col5\" >0.99</td>\n",
       "                        <td id=\"T_4a3e7_row8_col6\" class=\"data row8 col6\" >0.25</td>\n",
       "                        <td id=\"T_4a3e7_row8_col7\" class=\"data row8 col7\" >0.98</td>\n",
       "                        <td id=\"T_4a3e7_row8_col8\" class=\"data row8 col8\" >1.0</td>\n",
       "                        <td id=\"T_4a3e7_row8_col9\" class=\"data row8 col9\" >-0.47</td>\n",
       "                        <td id=\"T_4a3e7_row8_col10\" class=\"data row8 col10\" >0.26</td>\n",
       "                        <td id=\"T_4a3e7_row8_col11\" class=\"data row8 col11\" >-0.094</td>\n",
       "            </tr>\n",
       "            <tr>\n",
       "                        <th id=\"T_4a3e7_level0_row9\" class=\"row_heading level0 row9\" >Percent of total prescriptions</th>\n",
       "                        <td id=\"T_4a3e7_row9_col0\" class=\"data row9 col0\" >-0.45</td>\n",
       "                        <td id=\"T_4a3e7_row9_col1\" class=\"data row9 col1\" >-0.55</td>\n",
       "                        <td id=\"T_4a3e7_row9_col2\" class=\"data row9 col2\" >-0.49</td>\n",
       "                        <td id=\"T_4a3e7_row9_col3\" class=\"data row9 col3\" >-0.4</td>\n",
       "                        <td id=\"T_4a3e7_row9_col4\" class=\"data row9 col4\" >-0.52</td>\n",
       "                        <td id=\"T_4a3e7_row9_col5\" class=\"data row9 col5\" >-0.52</td>\n",
       "                        <td id=\"T_4a3e7_row9_col6\" class=\"data row9 col6\" >-0.56</td>\n",
       "                        <td id=\"T_4a3e7_row9_col7\" class=\"data row9 col7\" >-0.49</td>\n",
       "                        <td id=\"T_4a3e7_row9_col8\" class=\"data row9 col8\" >-0.47</td>\n",
       "                        <td id=\"T_4a3e7_row9_col9\" class=\"data row9 col9\" >1.0</td>\n",
       "                        <td id=\"T_4a3e7_row9_col10\" class=\"data row9 col10\" >-0.25</td>\n",
       "                        <td id=\"T_4a3e7_row9_col11\" class=\"data row9 col11\" >0.15</td>\n",
       "            </tr>\n",
       "            <tr>\n",
       "                        <th id=\"T_4a3e7_level0_row10\" class=\"row_heading level0 row10\" >Poverty Percent, All Ages</th>\n",
       "                        <td id=\"T_4a3e7_row10_col0\" class=\"data row10 col0\" >0.19</td>\n",
       "                        <td id=\"T_4a3e7_row10_col1\" class=\"data row10 col1\" >0.15</td>\n",
       "                        <td id=\"T_4a3e7_row10_col2\" class=\"data row10 col2\" >0.11</td>\n",
       "                        <td id=\"T_4a3e7_row10_col3\" class=\"data row10 col3\" >0.012</td>\n",
       "                        <td id=\"T_4a3e7_row10_col4\" class=\"data row10 col4\" >0.12</td>\n",
       "                        <td id=\"T_4a3e7_row10_col5\" class=\"data row10 col5\" >0.27</td>\n",
       "                        <td id=\"T_4a3e7_row10_col6\" class=\"data row10 col6\" >0.51</td>\n",
       "                        <td id=\"T_4a3e7_row10_col7\" class=\"data row10 col7\" >0.21</td>\n",
       "                        <td id=\"T_4a3e7_row10_col8\" class=\"data row10 col8\" >0.26</td>\n",
       "                        <td id=\"T_4a3e7_row10_col9\" class=\"data row10 col9\" >-0.25</td>\n",
       "                        <td id=\"T_4a3e7_row10_col10\" class=\"data row10 col10\" >1.0</td>\n",
       "                        <td id=\"T_4a3e7_row10_col11\" class=\"data row10 col11\" >-0.75</td>\n",
       "            </tr>\n",
       "            <tr>\n",
       "                        <th id=\"T_4a3e7_level0_row11\" class=\"row_heading level0 row11\" >Median Household Income</th>\n",
       "                        <td id=\"T_4a3e7_row11_col0\" class=\"data row11 col0\" >0.0079</td>\n",
       "                        <td id=\"T_4a3e7_row11_col1\" class=\"data row11 col1\" >-0.0066</td>\n",
       "                        <td id=\"T_4a3e7_row11_col2\" class=\"data row11 col2\" >0.087</td>\n",
       "                        <td id=\"T_4a3e7_row11_col3\" class=\"data row11 col3\" >0.098</td>\n",
       "                        <td id=\"T_4a3e7_row11_col4\" class=\"data row11 col4\" >0.065</td>\n",
       "                        <td id=\"T_4a3e7_row11_col5\" class=\"data row11 col5\" >-0.093</td>\n",
       "                        <td id=\"T_4a3e7_row11_col6\" class=\"data row11 col6\" >-0.61</td>\n",
       "                        <td id=\"T_4a3e7_row11_col7\" class=\"data row11 col7\" >-0.0072</td>\n",
       "                        <td id=\"T_4a3e7_row11_col8\" class=\"data row11 col8\" >-0.094</td>\n",
       "                        <td id=\"T_4a3e7_row11_col9\" class=\"data row11 col9\" >0.15</td>\n",
       "                        <td id=\"T_4a3e7_row11_col10\" class=\"data row11 col10\" >-0.75</td>\n",
       "                        <td id=\"T_4a3e7_row11_col11\" class=\"data row11 col11\" >1.0</td>\n",
       "            </tr>\n",
       "    </tbody></table>"
      ],
      "text/plain": [
       "<pandas.io.formats.style.Styler at 0x7fb6ec7a6310>"
      ]
     },
     "execution_count": 1234,
     "metadata": {},
     "output_type": "execute_result"
    }
   ],
   "source": [
    "state_med_estpop_income.corr().style.format(\"{:.2}\").background_gradient(cmap=plt.get_cmap(\"cool\"), axis=1)"
   ]
  },
  {
   "cell_type": "markdown",
   "metadata": {
    "heading_collapsed": true,
    "hidden": true
   },
   "source": [
    "#### Bivariate correlations w/ p-value"
   ]
  },
  {
   "cell_type": "code",
   "execution_count": 1238,
   "metadata": {
    "ExecuteTime": {
     "end_time": "2021-07-03T18:20:30.271342Z",
     "start_time": "2021-07-03T18:20:29.998499Z"
    },
    "hidden": true
   },
   "outputs": [
    {
     "data": {
      "application/vnd.plotly.v1+json": {
       "config": {
        "plotlyServerURL": "https://plotly.com"
       },
       "data": [
        {
         "hovertemplate": "x=%{x}<br>y=%{y}<extra></extra>",
         "legendgroup": "",
         "marker": {
          "color": "#636efa",
          "symbol": "circle"
         },
         "mode": "markers",
         "name": "",
         "orientation": "v",
         "showlegend": false,
         "type": "scatter",
         "x": [
          14067221,
          428694,
          9845726,
          8452560,
          61833844,
          6192081,
          6629831,
          1419524,
          666335,
          50202887,
          21524246,
          2038572,
          2354627,
          22578345,
          14470683,
          8266318,
          6489969,
          13860318,
          12335806,
          2523120,
          13265632,
          18668305,
          8487142,
          8502072,
          16296315,
          1661742,
          4398631,
          3854826,
          1835310,
          14834277,
          2843734,
          42639182,
          24483045,
          1641185,
          28325661,
          7651289,
          6993802,
          34153102,
          3175981,
          11595687,
          1945888,
          18306965,
          40256877,
          2738787,
          957109,
          13183822,
          9218117,
          5880592,
          10826772,
          694749
         ],
         "xaxis": "x",
         "y": [
          2967264,
          279576,
          4239816,
          1862060,
          19803224,
          2702640,
          2252040,
          615796,
          309376,
          15082188,
          4992452,
          918924,
          925752,
          7196932,
          3767316,
          1958552,
          1658416,
          2618168,
          2537576,
          972768,
          4082484,
          6124864,
          3110104,
          1704688,
          3730236,
          678340,
          1083268,
          1600164,
          849028,
          5269872,
          1269060,
          11694912,
          5835596,
          418536,
          7199992,
          2244544,
          2511540,
          8538972,
          666240,
          3043484,
          513304,
          3931888,
          12319260,
          1176544,
          422556,
          4591688,
          3942632,
          1317204,
          3481504,
          327824
         ],
         "yaxis": "y"
        }
       ],
       "layout": {
        "legend": {
         "tracegroupgap": 0
        },
        "template": {
         "data": {
          "bar": [
           {
            "error_x": {
             "color": "#2a3f5f"
            },
            "error_y": {
             "color": "#2a3f5f"
            },
            "marker": {
             "line": {
              "color": "#E5ECF6",
              "width": 0.5
             },
             "pattern": {
              "fillmode": "overlay",
              "size": 10,
              "solidity": 0.2
             }
            },
            "type": "bar"
           }
          ],
          "barpolar": [
           {
            "marker": {
             "line": {
              "color": "#E5ECF6",
              "width": 0.5
             },
             "pattern": {
              "fillmode": "overlay",
              "size": 10,
              "solidity": 0.2
             }
            },
            "type": "barpolar"
           }
          ],
          "carpet": [
           {
            "aaxis": {
             "endlinecolor": "#2a3f5f",
             "gridcolor": "white",
             "linecolor": "white",
             "minorgridcolor": "white",
             "startlinecolor": "#2a3f5f"
            },
            "baxis": {
             "endlinecolor": "#2a3f5f",
             "gridcolor": "white",
             "linecolor": "white",
             "minorgridcolor": "white",
             "startlinecolor": "#2a3f5f"
            },
            "type": "carpet"
           }
          ],
          "choropleth": [
           {
            "colorbar": {
             "outlinewidth": 0,
             "ticks": ""
            },
            "type": "choropleth"
           }
          ],
          "contour": [
           {
            "colorbar": {
             "outlinewidth": 0,
             "ticks": ""
            },
            "colorscale": [
             [
              0,
              "#0d0887"
             ],
             [
              0.1111111111111111,
              "#46039f"
             ],
             [
              0.2222222222222222,
              "#7201a8"
             ],
             [
              0.3333333333333333,
              "#9c179e"
             ],
             [
              0.4444444444444444,
              "#bd3786"
             ],
             [
              0.5555555555555556,
              "#d8576b"
             ],
             [
              0.6666666666666666,
              "#ed7953"
             ],
             [
              0.7777777777777778,
              "#fb9f3a"
             ],
             [
              0.8888888888888888,
              "#fdca26"
             ],
             [
              1,
              "#f0f921"
             ]
            ],
            "type": "contour"
           }
          ],
          "contourcarpet": [
           {
            "colorbar": {
             "outlinewidth": 0,
             "ticks": ""
            },
            "type": "contourcarpet"
           }
          ],
          "heatmap": [
           {
            "colorbar": {
             "outlinewidth": 0,
             "ticks": ""
            },
            "colorscale": [
             [
              0,
              "#0d0887"
             ],
             [
              0.1111111111111111,
              "#46039f"
             ],
             [
              0.2222222222222222,
              "#7201a8"
             ],
             [
              0.3333333333333333,
              "#9c179e"
             ],
             [
              0.4444444444444444,
              "#bd3786"
             ],
             [
              0.5555555555555556,
              "#d8576b"
             ],
             [
              0.6666666666666666,
              "#ed7953"
             ],
             [
              0.7777777777777778,
              "#fb9f3a"
             ],
             [
              0.8888888888888888,
              "#fdca26"
             ],
             [
              1,
              "#f0f921"
             ]
            ],
            "type": "heatmap"
           }
          ],
          "heatmapgl": [
           {
            "colorbar": {
             "outlinewidth": 0,
             "ticks": ""
            },
            "colorscale": [
             [
              0,
              "#0d0887"
             ],
             [
              0.1111111111111111,
              "#46039f"
             ],
             [
              0.2222222222222222,
              "#7201a8"
             ],
             [
              0.3333333333333333,
              "#9c179e"
             ],
             [
              0.4444444444444444,
              "#bd3786"
             ],
             [
              0.5555555555555556,
              "#d8576b"
             ],
             [
              0.6666666666666666,
              "#ed7953"
             ],
             [
              0.7777777777777778,
              "#fb9f3a"
             ],
             [
              0.8888888888888888,
              "#fdca26"
             ],
             [
              1,
              "#f0f921"
             ]
            ],
            "type": "heatmapgl"
           }
          ],
          "histogram": [
           {
            "marker": {
             "pattern": {
              "fillmode": "overlay",
              "size": 10,
              "solidity": 0.2
             }
            },
            "type": "histogram"
           }
          ],
          "histogram2d": [
           {
            "colorbar": {
             "outlinewidth": 0,
             "ticks": ""
            },
            "colorscale": [
             [
              0,
              "#0d0887"
             ],
             [
              0.1111111111111111,
              "#46039f"
             ],
             [
              0.2222222222222222,
              "#7201a8"
             ],
             [
              0.3333333333333333,
              "#9c179e"
             ],
             [
              0.4444444444444444,
              "#bd3786"
             ],
             [
              0.5555555555555556,
              "#d8576b"
             ],
             [
              0.6666666666666666,
              "#ed7953"
             ],
             [
              0.7777777777777778,
              "#fb9f3a"
             ],
             [
              0.8888888888888888,
              "#fdca26"
             ],
             [
              1,
              "#f0f921"
             ]
            ],
            "type": "histogram2d"
           }
          ],
          "histogram2dcontour": [
           {
            "colorbar": {
             "outlinewidth": 0,
             "ticks": ""
            },
            "colorscale": [
             [
              0,
              "#0d0887"
             ],
             [
              0.1111111111111111,
              "#46039f"
             ],
             [
              0.2222222222222222,
              "#7201a8"
             ],
             [
              0.3333333333333333,
              "#9c179e"
             ],
             [
              0.4444444444444444,
              "#bd3786"
             ],
             [
              0.5555555555555556,
              "#d8576b"
             ],
             [
              0.6666666666666666,
              "#ed7953"
             ],
             [
              0.7777777777777778,
              "#fb9f3a"
             ],
             [
              0.8888888888888888,
              "#fdca26"
             ],
             [
              1,
              "#f0f921"
             ]
            ],
            "type": "histogram2dcontour"
           }
          ],
          "mesh3d": [
           {
            "colorbar": {
             "outlinewidth": 0,
             "ticks": ""
            },
            "type": "mesh3d"
           }
          ],
          "parcoords": [
           {
            "line": {
             "colorbar": {
              "outlinewidth": 0,
              "ticks": ""
             }
            },
            "type": "parcoords"
           }
          ],
          "pie": [
           {
            "automargin": true,
            "type": "pie"
           }
          ],
          "scatter": [
           {
            "marker": {
             "colorbar": {
              "outlinewidth": 0,
              "ticks": ""
             }
            },
            "type": "scatter"
           }
          ],
          "scatter3d": [
           {
            "line": {
             "colorbar": {
              "outlinewidth": 0,
              "ticks": ""
             }
            },
            "marker": {
             "colorbar": {
              "outlinewidth": 0,
              "ticks": ""
             }
            },
            "type": "scatter3d"
           }
          ],
          "scattercarpet": [
           {
            "marker": {
             "colorbar": {
              "outlinewidth": 0,
              "ticks": ""
             }
            },
            "type": "scattercarpet"
           }
          ],
          "scattergeo": [
           {
            "marker": {
             "colorbar": {
              "outlinewidth": 0,
              "ticks": ""
             }
            },
            "type": "scattergeo"
           }
          ],
          "scattergl": [
           {
            "marker": {
             "colorbar": {
              "outlinewidth": 0,
              "ticks": ""
             }
            },
            "type": "scattergl"
           }
          ],
          "scattermapbox": [
           {
            "marker": {
             "colorbar": {
              "outlinewidth": 0,
              "ticks": ""
             }
            },
            "type": "scattermapbox"
           }
          ],
          "scatterpolar": [
           {
            "marker": {
             "colorbar": {
              "outlinewidth": 0,
              "ticks": ""
             }
            },
            "type": "scatterpolar"
           }
          ],
          "scatterpolargl": [
           {
            "marker": {
             "colorbar": {
              "outlinewidth": 0,
              "ticks": ""
             }
            },
            "type": "scatterpolargl"
           }
          ],
          "scatterternary": [
           {
            "marker": {
             "colorbar": {
              "outlinewidth": 0,
              "ticks": ""
             }
            },
            "type": "scatterternary"
           }
          ],
          "surface": [
           {
            "colorbar": {
             "outlinewidth": 0,
             "ticks": ""
            },
            "colorscale": [
             [
              0,
              "#0d0887"
             ],
             [
              0.1111111111111111,
              "#46039f"
             ],
             [
              0.2222222222222222,
              "#7201a8"
             ],
             [
              0.3333333333333333,
              "#9c179e"
             ],
             [
              0.4444444444444444,
              "#bd3786"
             ],
             [
              0.5555555555555556,
              "#d8576b"
             ],
             [
              0.6666666666666666,
              "#ed7953"
             ],
             [
              0.7777777777777778,
              "#fb9f3a"
             ],
             [
              0.8888888888888888,
              "#fdca26"
             ],
             [
              1,
              "#f0f921"
             ]
            ],
            "type": "surface"
           }
          ],
          "table": [
           {
            "cells": {
             "fill": {
              "color": "#EBF0F8"
             },
             "line": {
              "color": "white"
             }
            },
            "header": {
             "fill": {
              "color": "#C8D4E3"
             },
             "line": {
              "color": "white"
             }
            },
            "type": "table"
           }
          ]
         },
         "layout": {
          "annotationdefaults": {
           "arrowcolor": "#2a3f5f",
           "arrowhead": 0,
           "arrowwidth": 1
          },
          "autotypenumbers": "strict",
          "coloraxis": {
           "colorbar": {
            "outlinewidth": 0,
            "ticks": ""
           }
          },
          "colorscale": {
           "diverging": [
            [
             0,
             "#8e0152"
            ],
            [
             0.1,
             "#c51b7d"
            ],
            [
             0.2,
             "#de77ae"
            ],
            [
             0.3,
             "#f1b6da"
            ],
            [
             0.4,
             "#fde0ef"
            ],
            [
             0.5,
             "#f7f7f7"
            ],
            [
             0.6,
             "#e6f5d0"
            ],
            [
             0.7,
             "#b8e186"
            ],
            [
             0.8,
             "#7fbc41"
            ],
            [
             0.9,
             "#4d9221"
            ],
            [
             1,
             "#276419"
            ]
           ],
           "sequential": [
            [
             0,
             "#0d0887"
            ],
            [
             0.1111111111111111,
             "#46039f"
            ],
            [
             0.2222222222222222,
             "#7201a8"
            ],
            [
             0.3333333333333333,
             "#9c179e"
            ],
            [
             0.4444444444444444,
             "#bd3786"
            ],
            [
             0.5555555555555556,
             "#d8576b"
            ],
            [
             0.6666666666666666,
             "#ed7953"
            ],
            [
             0.7777777777777778,
             "#fb9f3a"
            ],
            [
             0.8888888888888888,
             "#fdca26"
            ],
            [
             1,
             "#f0f921"
            ]
           ],
           "sequentialminus": [
            [
             0,
             "#0d0887"
            ],
            [
             0.1111111111111111,
             "#46039f"
            ],
            [
             0.2222222222222222,
             "#7201a8"
            ],
            [
             0.3333333333333333,
             "#9c179e"
            ],
            [
             0.4444444444444444,
             "#bd3786"
            ],
            [
             0.5555555555555556,
             "#d8576b"
            ],
            [
             0.6666666666666666,
             "#ed7953"
            ],
            [
             0.7777777777777778,
             "#fb9f3a"
            ],
            [
             0.8888888888888888,
             "#fdca26"
            ],
            [
             1,
             "#f0f921"
            ]
           ]
          },
          "colorway": [
           "#636efa",
           "#EF553B",
           "#00cc96",
           "#ab63fa",
           "#FFA15A",
           "#19d3f3",
           "#FF6692",
           "#B6E880",
           "#FF97FF",
           "#FECB52"
          ],
          "font": {
           "color": "#2a3f5f"
          },
          "geo": {
           "bgcolor": "white",
           "lakecolor": "white",
           "landcolor": "#E5ECF6",
           "showlakes": true,
           "showland": true,
           "subunitcolor": "white"
          },
          "hoverlabel": {
           "align": "left"
          },
          "hovermode": "closest",
          "mapbox": {
           "style": "light"
          },
          "paper_bgcolor": "white",
          "plot_bgcolor": "#E5ECF6",
          "polar": {
           "angularaxis": {
            "gridcolor": "white",
            "linecolor": "white",
            "ticks": ""
           },
           "bgcolor": "#E5ECF6",
           "radialaxis": {
            "gridcolor": "white",
            "linecolor": "white",
            "ticks": ""
           }
          },
          "scene": {
           "xaxis": {
            "backgroundcolor": "#E5ECF6",
            "gridcolor": "white",
            "gridwidth": 2,
            "linecolor": "white",
            "showbackground": true,
            "ticks": "",
            "zerolinecolor": "white"
           },
           "yaxis": {
            "backgroundcolor": "#E5ECF6",
            "gridcolor": "white",
            "gridwidth": 2,
            "linecolor": "white",
            "showbackground": true,
            "ticks": "",
            "zerolinecolor": "white"
           },
           "zaxis": {
            "backgroundcolor": "#E5ECF6",
            "gridcolor": "white",
            "gridwidth": 2,
            "linecolor": "white",
            "showbackground": true,
            "ticks": "",
            "zerolinecolor": "white"
           }
          },
          "shapedefaults": {
           "line": {
            "color": "#2a3f5f"
           }
          },
          "ternary": {
           "aaxis": {
            "gridcolor": "white",
            "linecolor": "white",
            "ticks": ""
           },
           "baxis": {
            "gridcolor": "white",
            "linecolor": "white",
            "ticks": ""
           },
           "bgcolor": "#E5ECF6",
           "caxis": {
            "gridcolor": "white",
            "linecolor": "white",
            "ticks": ""
           }
          },
          "title": {
           "x": 0.05
          },
          "xaxis": {
           "automargin": true,
           "gridcolor": "white",
           "linecolor": "white",
           "ticks": "",
           "title": {
            "standoff": 15
           },
           "zerolinecolor": "white",
           "zerolinewidth": 2
          },
          "yaxis": {
           "automargin": true,
           "gridcolor": "white",
           "linecolor": "white",
           "ticks": "",
           "title": {
            "standoff": 15
           },
           "zerolinecolor": "white",
           "zerolinewidth": 2
          }
         }
        },
        "title": {
         "text": "Total prescriptions vs. Population over 65"
        },
        "xaxis": {
         "anchor": "y",
         "domain": [
          0,
          1
         ],
         "title": {
          "text": "x"
         }
        },
        "yaxis": {
         "anchor": "x",
         "domain": [
          0,
          1
         ],
         "title": {
          "text": "y"
         }
        }
       }
      },
      "text/html": [
       "<div>                            <div id=\"e19d5cca-e659-4ebd-9841-c4e2786cacfe\" class=\"plotly-graph-div\" style=\"height:525px; width:100%;\"></div>            <script type=\"text/javascript\">                require([\"plotly\"], function(Plotly) {                    window.PLOTLYENV=window.PLOTLYENV || {};                                    if (document.getElementById(\"e19d5cca-e659-4ebd-9841-c4e2786cacfe\")) {                    Plotly.newPlot(                        \"e19d5cca-e659-4ebd-9841-c4e2786cacfe\",                        [{\"hovertemplate\":\"x=%{x}<br>y=%{y}<extra></extra>\",\"legendgroup\":\"\",\"marker\":{\"color\":\"#636efa\",\"symbol\":\"circle\"},\"mode\":\"markers\",\"name\":\"\",\"orientation\":\"v\",\"showlegend\":false,\"type\":\"scatter\",\"x\":[14067221,428694,9845726,8452560,61833844,6192081,6629831,1419524,666335,50202887,21524246,2038572,2354627,22578345,14470683,8266318,6489969,13860318,12335806,2523120,13265632,18668305,8487142,8502072,16296315,1661742,4398631,3854826,1835310,14834277,2843734,42639182,24483045,1641185,28325661,7651289,6993802,34153102,3175981,11595687,1945888,18306965,40256877,2738787,957109,13183822,9218117,5880592,10826772,694749],\"xaxis\":\"x\",\"y\":[2967264.0,279576.0,4239816.0,1862060.0,19803224.0,2702640.0,2252040.0,615796.0,309376.0,15082188.0,4992452.0,918924.0,925752.0,7196932.0,3767316.0,1958552.0,1658416.0,2618168.0,2537576.0,972768.0,4082484.0,6124864.0,3110104.0,1704688.0,3730236.0,678340.0,1083268.0,1600164.0,849028.0,5269872.0,1269060.0,11694912.0,5835596.0,418536.0,7199992.0,2244544.0,2511540.0,8538972.0,666240.0,3043484.0,513304.0,3931888.0,12319260.0,1176544.0,422556.0,4591688.0,3942632.0,1317204.0,3481504.0,327824.0],\"yaxis\":\"y\"}],                        {\"legend\":{\"tracegroupgap\":0},\"template\":{\"data\":{\"bar\":[{\"error_x\":{\"color\":\"#2a3f5f\"},\"error_y\":{\"color\":\"#2a3f5f\"},\"marker\":{\"line\":{\"color\":\"#E5ECF6\",\"width\":0.5},\"pattern\":{\"fillmode\":\"overlay\",\"size\":10,\"solidity\":0.2}},\"type\":\"bar\"}],\"barpolar\":[{\"marker\":{\"line\":{\"color\":\"#E5ECF6\",\"width\":0.5},\"pattern\":{\"fillmode\":\"overlay\",\"size\":10,\"solidity\":0.2}},\"type\":\"barpolar\"}],\"carpet\":[{\"aaxis\":{\"endlinecolor\":\"#2a3f5f\",\"gridcolor\":\"white\",\"linecolor\":\"white\",\"minorgridcolor\":\"white\",\"startlinecolor\":\"#2a3f5f\"},\"baxis\":{\"endlinecolor\":\"#2a3f5f\",\"gridcolor\":\"white\",\"linecolor\":\"white\",\"minorgridcolor\":\"white\",\"startlinecolor\":\"#2a3f5f\"},\"type\":\"carpet\"}],\"choropleth\":[{\"colorbar\":{\"outlinewidth\":0,\"ticks\":\"\"},\"type\":\"choropleth\"}],\"contour\":[{\"colorbar\":{\"outlinewidth\":0,\"ticks\":\"\"},\"colorscale\":[[0.0,\"#0d0887\"],[0.1111111111111111,\"#46039f\"],[0.2222222222222222,\"#7201a8\"],[0.3333333333333333,\"#9c179e\"],[0.4444444444444444,\"#bd3786\"],[0.5555555555555556,\"#d8576b\"],[0.6666666666666666,\"#ed7953\"],[0.7777777777777778,\"#fb9f3a\"],[0.8888888888888888,\"#fdca26\"],[1.0,\"#f0f921\"]],\"type\":\"contour\"}],\"contourcarpet\":[{\"colorbar\":{\"outlinewidth\":0,\"ticks\":\"\"},\"type\":\"contourcarpet\"}],\"heatmap\":[{\"colorbar\":{\"outlinewidth\":0,\"ticks\":\"\"},\"colorscale\":[[0.0,\"#0d0887\"],[0.1111111111111111,\"#46039f\"],[0.2222222222222222,\"#7201a8\"],[0.3333333333333333,\"#9c179e\"],[0.4444444444444444,\"#bd3786\"],[0.5555555555555556,\"#d8576b\"],[0.6666666666666666,\"#ed7953\"],[0.7777777777777778,\"#fb9f3a\"],[0.8888888888888888,\"#fdca26\"],[1.0,\"#f0f921\"]],\"type\":\"heatmap\"}],\"heatmapgl\":[{\"colorbar\":{\"outlinewidth\":0,\"ticks\":\"\"},\"colorscale\":[[0.0,\"#0d0887\"],[0.1111111111111111,\"#46039f\"],[0.2222222222222222,\"#7201a8\"],[0.3333333333333333,\"#9c179e\"],[0.4444444444444444,\"#bd3786\"],[0.5555555555555556,\"#d8576b\"],[0.6666666666666666,\"#ed7953\"],[0.7777777777777778,\"#fb9f3a\"],[0.8888888888888888,\"#fdca26\"],[1.0,\"#f0f921\"]],\"type\":\"heatmapgl\"}],\"histogram\":[{\"marker\":{\"pattern\":{\"fillmode\":\"overlay\",\"size\":10,\"solidity\":0.2}},\"type\":\"histogram\"}],\"histogram2d\":[{\"colorbar\":{\"outlinewidth\":0,\"ticks\":\"\"},\"colorscale\":[[0.0,\"#0d0887\"],[0.1111111111111111,\"#46039f\"],[0.2222222222222222,\"#7201a8\"],[0.3333333333333333,\"#9c179e\"],[0.4444444444444444,\"#bd3786\"],[0.5555555555555556,\"#d8576b\"],[0.6666666666666666,\"#ed7953\"],[0.7777777777777778,\"#fb9f3a\"],[0.8888888888888888,\"#fdca26\"],[1.0,\"#f0f921\"]],\"type\":\"histogram2d\"}],\"histogram2dcontour\":[{\"colorbar\":{\"outlinewidth\":0,\"ticks\":\"\"},\"colorscale\":[[0.0,\"#0d0887\"],[0.1111111111111111,\"#46039f\"],[0.2222222222222222,\"#7201a8\"],[0.3333333333333333,\"#9c179e\"],[0.4444444444444444,\"#bd3786\"],[0.5555555555555556,\"#d8576b\"],[0.6666666666666666,\"#ed7953\"],[0.7777777777777778,\"#fb9f3a\"],[0.8888888888888888,\"#fdca26\"],[1.0,\"#f0f921\"]],\"type\":\"histogram2dcontour\"}],\"mesh3d\":[{\"colorbar\":{\"outlinewidth\":0,\"ticks\":\"\"},\"type\":\"mesh3d\"}],\"parcoords\":[{\"line\":{\"colorbar\":{\"outlinewidth\":0,\"ticks\":\"\"}},\"type\":\"parcoords\"}],\"pie\":[{\"automargin\":true,\"type\":\"pie\"}],\"scatter\":[{\"marker\":{\"colorbar\":{\"outlinewidth\":0,\"ticks\":\"\"}},\"type\":\"scatter\"}],\"scatter3d\":[{\"line\":{\"colorbar\":{\"outlinewidth\":0,\"ticks\":\"\"}},\"marker\":{\"colorbar\":{\"outlinewidth\":0,\"ticks\":\"\"}},\"type\":\"scatter3d\"}],\"scattercarpet\":[{\"marker\":{\"colorbar\":{\"outlinewidth\":0,\"ticks\":\"\"}},\"type\":\"scattercarpet\"}],\"scattergeo\":[{\"marker\":{\"colorbar\":{\"outlinewidth\":0,\"ticks\":\"\"}},\"type\":\"scattergeo\"}],\"scattergl\":[{\"marker\":{\"colorbar\":{\"outlinewidth\":0,\"ticks\":\"\"}},\"type\":\"scattergl\"}],\"scattermapbox\":[{\"marker\":{\"colorbar\":{\"outlinewidth\":0,\"ticks\":\"\"}},\"type\":\"scattermapbox\"}],\"scatterpolar\":[{\"marker\":{\"colorbar\":{\"outlinewidth\":0,\"ticks\":\"\"}},\"type\":\"scatterpolar\"}],\"scatterpolargl\":[{\"marker\":{\"colorbar\":{\"outlinewidth\":0,\"ticks\":\"\"}},\"type\":\"scatterpolargl\"}],\"scatterternary\":[{\"marker\":{\"colorbar\":{\"outlinewidth\":0,\"ticks\":\"\"}},\"type\":\"scatterternary\"}],\"surface\":[{\"colorbar\":{\"outlinewidth\":0,\"ticks\":\"\"},\"colorscale\":[[0.0,\"#0d0887\"],[0.1111111111111111,\"#46039f\"],[0.2222222222222222,\"#7201a8\"],[0.3333333333333333,\"#9c179e\"],[0.4444444444444444,\"#bd3786\"],[0.5555555555555556,\"#d8576b\"],[0.6666666666666666,\"#ed7953\"],[0.7777777777777778,\"#fb9f3a\"],[0.8888888888888888,\"#fdca26\"],[1.0,\"#f0f921\"]],\"type\":\"surface\"}],\"table\":[{\"cells\":{\"fill\":{\"color\":\"#EBF0F8\"},\"line\":{\"color\":\"white\"}},\"header\":{\"fill\":{\"color\":\"#C8D4E3\"},\"line\":{\"color\":\"white\"}},\"type\":\"table\"}]},\"layout\":{\"annotationdefaults\":{\"arrowcolor\":\"#2a3f5f\",\"arrowhead\":0,\"arrowwidth\":1},\"autotypenumbers\":\"strict\",\"coloraxis\":{\"colorbar\":{\"outlinewidth\":0,\"ticks\":\"\"}},\"colorscale\":{\"diverging\":[[0,\"#8e0152\"],[0.1,\"#c51b7d\"],[0.2,\"#de77ae\"],[0.3,\"#f1b6da\"],[0.4,\"#fde0ef\"],[0.5,\"#f7f7f7\"],[0.6,\"#e6f5d0\"],[0.7,\"#b8e186\"],[0.8,\"#7fbc41\"],[0.9,\"#4d9221\"],[1,\"#276419\"]],\"sequential\":[[0.0,\"#0d0887\"],[0.1111111111111111,\"#46039f\"],[0.2222222222222222,\"#7201a8\"],[0.3333333333333333,\"#9c179e\"],[0.4444444444444444,\"#bd3786\"],[0.5555555555555556,\"#d8576b\"],[0.6666666666666666,\"#ed7953\"],[0.7777777777777778,\"#fb9f3a\"],[0.8888888888888888,\"#fdca26\"],[1.0,\"#f0f921\"]],\"sequentialminus\":[[0.0,\"#0d0887\"],[0.1111111111111111,\"#46039f\"],[0.2222222222222222,\"#7201a8\"],[0.3333333333333333,\"#9c179e\"],[0.4444444444444444,\"#bd3786\"],[0.5555555555555556,\"#d8576b\"],[0.6666666666666666,\"#ed7953\"],[0.7777777777777778,\"#fb9f3a\"],[0.8888888888888888,\"#fdca26\"],[1.0,\"#f0f921\"]]},\"colorway\":[\"#636efa\",\"#EF553B\",\"#00cc96\",\"#ab63fa\",\"#FFA15A\",\"#19d3f3\",\"#FF6692\",\"#B6E880\",\"#FF97FF\",\"#FECB52\"],\"font\":{\"color\":\"#2a3f5f\"},\"geo\":{\"bgcolor\":\"white\",\"lakecolor\":\"white\",\"landcolor\":\"#E5ECF6\",\"showlakes\":true,\"showland\":true,\"subunitcolor\":\"white\"},\"hoverlabel\":{\"align\":\"left\"},\"hovermode\":\"closest\",\"mapbox\":{\"style\":\"light\"},\"paper_bgcolor\":\"white\",\"plot_bgcolor\":\"#E5ECF6\",\"polar\":{\"angularaxis\":{\"gridcolor\":\"white\",\"linecolor\":\"white\",\"ticks\":\"\"},\"bgcolor\":\"#E5ECF6\",\"radialaxis\":{\"gridcolor\":\"white\",\"linecolor\":\"white\",\"ticks\":\"\"}},\"scene\":{\"xaxis\":{\"backgroundcolor\":\"#E5ECF6\",\"gridcolor\":\"white\",\"gridwidth\":2,\"linecolor\":\"white\",\"showbackground\":true,\"ticks\":\"\",\"zerolinecolor\":\"white\"},\"yaxis\":{\"backgroundcolor\":\"#E5ECF6\",\"gridcolor\":\"white\",\"gridwidth\":2,\"linecolor\":\"white\",\"showbackground\":true,\"ticks\":\"\",\"zerolinecolor\":\"white\"},\"zaxis\":{\"backgroundcolor\":\"#E5ECF6\",\"gridcolor\":\"white\",\"gridwidth\":2,\"linecolor\":\"white\",\"showbackground\":true,\"ticks\":\"\",\"zerolinecolor\":\"white\"}},\"shapedefaults\":{\"line\":{\"color\":\"#2a3f5f\"}},\"ternary\":{\"aaxis\":{\"gridcolor\":\"white\",\"linecolor\":\"white\",\"ticks\":\"\"},\"baxis\":{\"gridcolor\":\"white\",\"linecolor\":\"white\",\"ticks\":\"\"},\"bgcolor\":\"#E5ECF6\",\"caxis\":{\"gridcolor\":\"white\",\"linecolor\":\"white\",\"ticks\":\"\"}},\"title\":{\"x\":0.05},\"xaxis\":{\"automargin\":true,\"gridcolor\":\"white\",\"linecolor\":\"white\",\"ticks\":\"\",\"title\":{\"standoff\":15},\"zerolinecolor\":\"white\",\"zerolinewidth\":2},\"yaxis\":{\"automargin\":true,\"gridcolor\":\"white\",\"linecolor\":\"white\",\"ticks\":\"\",\"title\":{\"standoff\":15},\"zerolinecolor\":\"white\",\"zerolinewidth\":2}}},\"title\":{\"text\":\"Total prescriptions vs. Population over 65\"},\"xaxis\":{\"anchor\":\"y\",\"domain\":[0.0,1.0],\"title\":{\"text\":\"x\"}},\"yaxis\":{\"anchor\":\"x\",\"domain\":[0.0,1.0],\"title\":{\"text\":\"y\"}}},                        {\"responsive\": true}                    ).then(function(){\n",
       "                            \n",
       "var gd = document.getElementById('e19d5cca-e659-4ebd-9841-c4e2786cacfe');\n",
       "var x = new MutationObserver(function (mutations, observer) {{\n",
       "        var display = window.getComputedStyle(gd).display;\n",
       "        if (!display || display === 'none') {{\n",
       "            console.log([gd, 'removed!']);\n",
       "            Plotly.purge(gd);\n",
       "            observer.disconnect();\n",
       "        }}\n",
       "}});\n",
       "\n",
       "// Listen for the removal of the full notebook cells\n",
       "var notebookContainer = gd.closest('#notebook-container');\n",
       "if (notebookContainer) {{\n",
       "    x.observe(notebookContainer, {childList: true});\n",
       "}}\n",
       "\n",
       "// Listen for the clearing of the current output cell\n",
       "var outputEl = gd.closest('.output');\n",
       "if (outputEl) {{\n",
       "    x.observe(outputEl, {childList: true});\n",
       "}}\n",
       "\n",
       "                        })                };                });            </script>        </div>"
      ]
     },
     "metadata": {},
     "output_type": "display_data"
    }
   ],
   "source": [
    "fig = px.scatter(x=state_med_estpop_income['Total prescriptions 65+ (Medicare D)'], \n",
    "                            y=state_med_pop_data['Population over 65'],\n",
    "                            title='Total prescriptions vs. Population over 65')\n",
    "fig.show()"
   ]
  },
  {
   "cell_type": "code",
   "execution_count": 1236,
   "metadata": {
    "ExecuteTime": {
     "end_time": "2021-07-03T18:16:24.957573Z",
     "start_time": "2021-07-03T18:16:24.878151Z"
    },
    "hidden": true,
    "scrolled": true
   },
   "outputs": [
    {
     "name": "stdout",
     "output_type": "stream",
     "text": [
      "0.9814\n",
      "5.000000000000001e-36\n"
     ]
    }
   ],
   "source": [
    "#  returns correlation, p-value\n",
    "# r=1 implies a strong, positive relationship\n",
    "# r=0 implies no correlation\n",
    "# r=-1 implies strong, negative relationship\n",
    "x = state_med_estpop_income['Total prescriptions 65+ (Medicare D)']\n",
    "y = state_med_pop_data['Population over 65']\n",
    "r, p_value = stats.pearsonr(x, y)\n",
    "print(np.round(r, 4))\n",
    "print(np.round(p_value, 36))"
   ]
  },
  {
   "cell_type": "markdown",
   "metadata": {
    "hidden": true
   },
   "source": [
    "With a correlation of 0.98 and a p-value of 5e-36, we can say that Fig.1 indeed implied a correlation between population and total number of perscriptions. This is why a per capita approach was needed."
   ]
  },
  {
   "cell_type": "markdown",
   "metadata": {
    "heading_collapsed": true
   },
   "source": [
    "## Tangents"
   ]
  },
  {
   "cell_type": "markdown",
   "metadata": {
    "heading_collapsed": true,
    "hidden": true
   },
   "source": [
    "#### Slices of the prescription pie"
   ]
  },
  {
   "cell_type": "markdown",
   "metadata": {
    "hidden": true
   },
   "source": [
    "We'll look at the total number of prescriptions for the states with the highest (KY) and lowest (AK) per capita rate."
   ]
  },
  {
   "cell_type": "code",
   "execution_count": 1251,
   "metadata": {
    "ExecuteTime": {
     "end_time": "2021-07-03T18:52:48.319106Z",
     "start_time": "2021-07-03T18:52:48.307785Z"
    },
    "hidden": true
   },
   "outputs": [],
   "source": [
    "query = \"\"\" SELECT nppes_provider_state as state,\n",
    "                   generic_name as medication_perscribed,\n",
    "                   SUM(total_claim_count_ge65) as total_num_medications,\n",
    "                   SUM(total_drug_cost_ge65) as total_drug_cost\n",
    "                    FROM bigquery-public-data.medicare.part_d_prescriber_2014\n",
    "                    WHERE nppes_provider_state in ('AK', 'KY')\n",
    "                    GROUP BY 1, 2\n",
    "                    ORDER BY 1\n",
    "              \"\"\""
   ]
  },
  {
   "cell_type": "code",
   "execution_count": 1252,
   "metadata": {
    "ExecuteTime": {
     "end_time": "2021-07-03T18:53:55.949401Z",
     "start_time": "2021-07-03T18:53:52.565801Z"
    },
    "hidden": true
   },
   "outputs": [
    {
     "data": {
      "text/plain": [
       "state  medication_perscribed  total_num_medications  total_drug_cost\n",
       "AK     0.9 % SODIUM CHLORIDE  0.0                    0.00               1\n",
       "KY     HYDROMORPHONE HCL      2435.0                 82902.97           1\n",
       "       IBUPROFEN              27287.0                229329.55          1\n",
       "       IBRUTINIB              140.0                  1305737.99         1\n",
       "       IBANDRONATE SODIUM     4960.0                 523042.93          1\n",
       "dtype: int64"
      ]
     },
     "execution_count": 1252,
     "metadata": {},
     "output_type": "execute_result"
    }
   ],
   "source": [
    "#  Process query\n",
    "prescriptions_ak_ky = query_to_df(query)\n",
    "\n",
    "#  Check results\n",
    "prescriptions_ak_ky.value_counts().head()"
   ]
  },
  {
   "cell_type": "code",
   "execution_count": 1253,
   "metadata": {
    "ExecuteTime": {
     "end_time": "2021-07-03T18:55:16.628233Z",
     "start_time": "2021-07-03T18:55:16.555290Z"
    },
    "hidden": true
   },
   "outputs": [
    {
     "data": {
      "text/html": [
       "<div>\n",
       "<style scoped>\n",
       "    .dataframe tbody tr th:only-of-type {\n",
       "        vertical-align: middle;\n",
       "    }\n",
       "\n",
       "    .dataframe tbody tr th {\n",
       "        vertical-align: top;\n",
       "    }\n",
       "\n",
       "    .dataframe thead th {\n",
       "        text-align: right;\n",
       "    }\n",
       "</style>\n",
       "<table border=\"1\" class=\"dataframe\">\n",
       "  <thead>\n",
       "    <tr style=\"text-align: right;\">\n",
       "      <th></th>\n",
       "      <th>state</th>\n",
       "      <th>medication_perscribed</th>\n",
       "      <th>total_num_medications</th>\n",
       "      <th>total_drug_cost</th>\n",
       "    </tr>\n",
       "  </thead>\n",
       "  <tbody>\n",
       "    <tr>\n",
       "      <th>0</th>\n",
       "      <td>AK</td>\n",
       "      <td>FUROSEMIDE</td>\n",
       "      <td>13231.0</td>\n",
       "      <td>71930.31</td>\n",
       "    </tr>\n",
       "    <tr>\n",
       "      <th>1</th>\n",
       "      <td>AK</td>\n",
       "      <td>HYDROCHLOROTHIAZIDE</td>\n",
       "      <td>7022.0</td>\n",
       "      <td>44415.24</td>\n",
       "    </tr>\n",
       "    <tr>\n",
       "      <th>2</th>\n",
       "      <td>AK</td>\n",
       "      <td>IBUPROFEN</td>\n",
       "      <td>481.0</td>\n",
       "      <td>4369.94</td>\n",
       "    </tr>\n",
       "    <tr>\n",
       "      <th>3</th>\n",
       "      <td>AK</td>\n",
       "      <td>GABAPENTIN</td>\n",
       "      <td>8286.0</td>\n",
       "      <td>125578.08</td>\n",
       "    </tr>\n",
       "    <tr>\n",
       "      <th>4</th>\n",
       "      <td>AK</td>\n",
       "      <td>AMLODIPINE BESYLATE</td>\n",
       "      <td>14317.0</td>\n",
       "      <td>121532.06</td>\n",
       "    </tr>\n",
       "  </tbody>\n",
       "</table>\n",
       "</div>"
      ],
      "text/plain": [
       "  state medication_perscribed  total_num_medications  total_drug_cost\n",
       "0    AK            FUROSEMIDE                13231.0         71930.31\n",
       "1    AK   HYDROCHLOROTHIAZIDE                 7022.0         44415.24\n",
       "2    AK             IBUPROFEN                  481.0          4369.94\n",
       "3    AK            GABAPENTIN                 8286.0        125578.08\n",
       "4    AK   AMLODIPINE BESYLATE                14317.0        121532.06"
      ]
     },
     "execution_count": 1253,
     "metadata": {},
     "output_type": "execute_result"
    }
   ],
   "source": [
    "prescriptions_ak_ky.head()"
   ]
  },
  {
   "cell_type": "code",
   "execution_count": 1259,
   "metadata": {
    "ExecuteTime": {
     "end_time": "2021-07-03T19:06:51.651263Z",
     "start_time": "2021-07-03T19:06:51.456108Z"
    },
    "hidden": true
   },
   "outputs": [
    {
     "data": {
      "application/vnd.plotly.v1+json": {
       "config": {
        "plotlyServerURL": "https://plotly.com"
       },
       "data": [
        {
         "alignmentgroup": "True",
         "hovertemplate": "x=%{x}<br>y=%{y}<extra></extra>",
         "legendgroup": "",
         "marker": {
          "color": "#636efa",
          "pattern": {
           "shape": ""
          }
         },
         "name": "",
         "offsetgroup": "",
         "orientation": "h",
         "showlegend": false,
         "textposition": "auto",
         "type": "bar",
         "x": [
          13231,
          7022,
          481,
          8286,
          14317,
          898,
          2304,
          503,
          520,
          1059,
          222,
          1420,
          207,
          1282,
          1670,
          4459,
          5207,
          373,
          1729,
          193,
          305,
          1454,
          3143,
          658,
          1886,
          296,
          244,
          3093,
          3411,
          1150,
          5700,
          1327,
          983,
          125,
          146,
          173,
          1881,
          11,
          26,
          29,
          11,
          2701,
          5004,
          305,
          33,
          0,
          803,
          73,
          925,
          853,
          206,
          128,
          40,
          24,
          12,
          0,
          153,
          0,
          34,
          494,
          48,
          12,
          353,
          430,
          184,
          204,
          177,
          34,
          402,
          221,
          25,
          149,
          209,
          47,
          null,
          327,
          232,
          241,
          0,
          498,
          207,
          66,
          198,
          262,
          25,
          481,
          89,
          19,
          42,
          25,
          223,
          22,
          30,
          16,
          85,
          162,
          null,
          103,
          null,
          92,
          0,
          102,
          0,
          24,
          0,
          47,
          103,
          26,
          67,
          0,
          210,
          null,
          145,
          112,
          null,
          0,
          59,
          0,
          11,
          24,
          210,
          118,
          0,
          0,
          12,
          0,
          0,
          43,
          69,
          null,
          0,
          88,
          null,
          0,
          31,
          25,
          103,
          59,
          26,
          null,
          0,
          29,
          27,
          182,
          25,
          34,
          0,
          0,
          0,
          13,
          null,
          0,
          0,
          0,
          0,
          null,
          0,
          20,
          11,
          null,
          12,
          0,
          26,
          null,
          0,
          11,
          null,
          null,
          0,
          93,
          12,
          28,
          0,
          0,
          12,
          50,
          null,
          0,
          0,
          0,
          null,
          20,
          278,
          1431,
          642,
          814,
          772,
          2851,
          2813,
          1836,
          382,
          781,
          913,
          411,
          1362,
          189,
          225,
          1113,
          676,
          113,
          2160,
          771,
          449,
          517,
          2289,
          1233,
          76,
          1676,
          1496,
          348,
          419,
          4165,
          1741,
          387,
          6256,
          123,
          1997,
          687,
          2936,
          1077,
          1049,
          150,
          510,
          391,
          124,
          3834,
          2038,
          96,
          489,
          188,
          31,
          1342,
          297,
          104,
          57,
          39,
          12,
          0,
          12,
          14,
          187,
          134,
          73,
          24,
          132,
          206,
          480,
          22,
          448,
          50,
          25,
          443,
          77,
          194,
          38,
          866,
          12,
          0,
          130,
          0,
          50,
          162,
          345,
          45,
          12,
          29,
          233,
          12,
          27,
          326,
          27,
          61,
          0,
          16,
          237,
          49,
          66,
          131,
          145,
          12,
          210,
          33,
          11,
          11,
          104,
          42,
          0,
          13,
          0,
          150,
          76,
          296,
          null,
          193,
          74,
          38,
          0,
          null,
          21,
          0,
          11,
          0,
          11,
          12,
          null,
          0,
          28,
          0,
          38,
          0,
          0,
          0,
          26,
          38,
          30,
          47,
          91,
          25,
          12,
          13,
          0,
          0,
          0,
          36,
          null,
          26,
          37,
          42,
          18,
          0,
          0,
          11,
          27,
          12,
          0,
          52,
          11,
          null,
          null,
          0,
          22,
          11,
          17,
          40,
          0,
          null,
          0,
          12,
          0,
          14,
          16,
          25,
          0,
          7155,
          11061,
          6788,
          11287,
          2903,
          2629,
          528,
          499,
          5412,
          11,
          2075,
          1065,
          480,
          397,
          271,
          579,
          1074,
          3331,
          16941,
          6683,
          1597,
          892,
          955,
          6132,
          1050,
          1995,
          679,
          1327,
          867,
          583,
          1481,
          88,
          541,
          79,
          68,
          345,
          158,
          40,
          57,
          837,
          277,
          104,
          11,
          0,
          104,
          289,
          552,
          1299,
          39,
          243,
          235,
          39,
          331,
          34,
          0,
          337,
          32,
          216,
          188,
          336,
          18,
          12,
          12,
          185,
          161,
          302,
          99,
          13,
          338,
          28,
          33,
          83,
          94,
          0,
          194,
          104,
          13,
          181,
          526,
          179,
          29,
          null,
          49,
          0,
          51,
          23,
          0,
          0,
          22,
          175,
          89,
          12,
          null,
          0,
          0,
          0,
          97,
          64,
          85,
          120,
          0,
          0,
          null,
          11,
          69,
          39,
          0,
          43,
          23,
          13,
          70,
          11,
          0,
          219,
          0,
          0,
          41,
          null,
          55,
          0,
          46,
          0,
          14,
          25,
          16,
          null,
          0,
          25,
          0,
          18,
          22,
          0,
          22,
          0,
          11,
          11,
          13,
          0,
          24,
          0,
          0,
          31,
          null,
          12,
          0,
          0,
          13,
          0,
          0,
          12,
          0,
          null,
          12,
          27,
          0,
          11,
          938,
          5866,
          4044,
          10575,
          10575,
          24329,
          15850,
          13154,
          3631,
          1484,
          23,
          3993,
          2340,
          2724,
          4395,
          1401,
          2852,
          463,
          450,
          838,
          398,
          849,
          1415,
          639,
          72,
          508,
          371,
          1703,
          1242,
          1950,
          959,
          157,
          54,
          879,
          707,
          774,
          303,
          67,
          2361,
          2688,
          72,
          1009,
          247,
          407,
          24,
          61,
          66,
          14,
          0,
          437,
          343,
          1400,
          490,
          212,
          599,
          17,
          12,
          65,
          232,
          29,
          1938,
          260,
          null,
          231,
          161,
          91,
          22,
          136,
          147,
          622,
          119,
          140,
          70,
          88,
          27,
          159,
          49,
          0,
          23,
          55,
          88,
          82,
          null,
          null,
          null,
          0,
          0,
          0,
          0,
          0,
          165,
          161,
          103,
          78,
          null,
          null,
          257,
          33,
          43,
          0,
          0,
          0,
          48,
          0,
          12,
          136,
          58,
          90,
          71,
          28,
          0,
          37,
          32,
          121,
          null,
          null,
          null,
          53,
          14,
          0,
          95,
          0,
          11,
          0,
          81,
          48,
          11,
          0,
          0,
          0,
          59,
          13,
          23,
          null,
          36,
          13,
          11,
          0,
          0,
          14,
          12,
          11,
          20,
          13,
          0,
          11,
          48,
          12,
          15,
          51,
          13,
          null,
          0,
          0,
          15,
          0,
          12,
          null,
          0,
          12
         ],
         "xaxis": "x",
         "y": [
          "0.9 % SODIUM CHLORIDE",
          "ABACAVIR SULFATE",
          "ABACAVIR SULFATE/LAMIVUDINE",
          "ABACAVIR/LAMIVUDINE/ZIDOVUDINE",
          "ABATACEPT",
          "ABIRATERONE ACETATE",
          "ACARBOSE",
          "ACEBUTOLOL HCL",
          "ACETAMINOPHEN WITH CODEINE",
          "ACETAZOLAMIDE",
          "ACETIC ACID/HYDROCORTISONE",
          "ACETYLCYSTEINE",
          "ACITRETIN",
          "ACLIDINIUM BROMIDE",
          "ACYCLOVIR",
          "ADALIMUMAB",
          "ALBUTEROL SULFATE",
          "ALCOHOL ANTISEPTIC PADS",
          "ALENDRONATE SODIUM",
          "ALENDRONATE SODIUM/VITAMIN D3",
          "ALFUZOSIN HCL",
          "ALISKIREN HEMIFUMARATE",
          "ALLOPURINOL",
          "ALPRAZOLAM",
          "AMANTADINE HCL",
          "AMBRISENTAN",
          "AMILORIDE HCL",
          "AMILORIDE/HYDROCHLOROTHIAZIDE",
          "AMIODARONE HCL",
          "AMITRIPTYLINE HCL",
          "AMLODIPINE BESYLATE",
          "AMLODIPINE BESYLATE/BENAZEPRIL",
          "AMLODIPINE/ATORVASTATIN",
          "AMLODIPINE/VALSARTAN",
          "AMLODIPINE/VALSARTAN/HCTHIAZID",
          "AMMONIUM LACTATE",
          "AMOXICILLIN",
          "AMOXICILLIN/POTASSIUM CLAV",
          "AMPICILLIN TRIHYDRATE",
          "ANAGRELIDE HCL",
          "ANASTROZOLE",
          "APIXABAN",
          "ARIPIPRAZOLE",
          "ARMODAFINIL",
          "ASENAPINE MALEATE",
          "ASPIRIN/DIPYRIDAMOLE",
          "ATAZANAVIR SULFATE",
          "ATENOLOL",
          "ATENOLOL/CHLORTHALIDONE",
          "ATOMOXETINE HCL",
          "ATORVASTATIN CALCIUM",
          "AZATHIOPRINE",
          "AZELASTINE HCL",
          "AZITHROMYCIN",
          "BACITRACIN",
          "BACLOFEN",
          "BALSALAZIDE DISODIUM",
          "BECLOMETHASONE DIPROPIONATE",
          "BENAZEPRIL HCL",
          "BENAZEPRIL/HYDROCHLOROTHIAZIDE",
          "BENZTROPINE MESYLATE",
          "BEPOTASTINE BESILATE",
          "BETAMETHASONE DIPROPIONATE",
          "BETAXOLOL HCL",
          "BETHANECHOL CHLORIDE",
          "BICALUTAMIDE",
          "BIMATOPROST",
          "BISOPROLOL FUMARATE",
          "BISOPROLOL FUMARATE/HCTZ",
          "BORTEZOMIB",
          "BOSENTAN",
          "BRIMONIDINE TARTRATE",
          "BRIMONIDINE TARTRATE/TIMOLOL",
          "BRINZOLAMIDE",
          "BUDESONIDE",
          "BUDESONIDE/FORMOTEROL FUMARATE",
          "BUMETANIDE",
          "BUPRENORPHINE",
          "BUPRENORPHINE HCL",
          "BUPRENORPHINE HCL/NALOXONE HCL",
          "BUPROPION HCL",
          "BUSPIRONE HCL",
          "BUTALB/ACETAMINOPHEN/CAFFEINE",
          "BUTALBIT/ACETAMIN/CAFF/CODEINE",
          "BUTORPHANOL TARTRATE",
          "CALCIPOTRIENE",
          "CALCITONIN,SALMON,SYNTHETIC",
          "CALCITRIOL",
          "CALCIUM ACETATE",
          "CANAGLIFLOZIN",
          "CANDESARTAN/HYDROCHLOROTHIAZID",
          "CAPTOPRIL",
          "CARBAMAZEPINE",
          "CARBIDOPA/LEVODOPA",
          "CARBIDOPA/LEVODOPA/ENTACAPONE",
          "CARISOPRODOL",
          "CARVEDILOL",
          "CARVEDILOL PHOSPHATE",
          "CEFADROXIL",
          "CEFDINIR",
          "CEFPROZIL",
          "CEFTRIAXONE SODIUM",
          "CEFUROXIME AXETIL",
          "CELECOXIB",
          "CEPHALEXIN",
          "CERTOLIZUMAB PEGOL",
          "CEVIMELINE HCL",
          "CHLORDIAZEPOXIDE HCL",
          "CHLORHEXIDINE GLUCONATE",
          "CHLORPROMAZINE HCL",
          "CHLORTHALIDONE",
          "CHLORZOXAZONE",
          "CHOLESTYRAMINE (WITH SUGAR)",
          "CICLESONIDE",
          "CICLOPIROX",
          "CICLOPIROX OLAMINE",
          "CILOSTAZOL",
          "CINACALCET HCL",
          "CIPROFLOXACIN HCL",
          "CIPROFLOXACIN HCL/DEXAMETH",
          "CITALOPRAM HYDROBROMIDE",
          "CLARITHROMYCIN",
          "CLINDAMYCIN HCL",
          "CLINDAMYCIN PHOSPHATE",
          "CLOBAZAM",
          "CLOBETASOL PROPIONATE",
          "CLOMIPRAMINE HCL",
          "CLONAZEPAM",
          "CLONIDINE",
          "CLONIDINE HCL",
          "CLOPIDOGREL BISULFATE",
          "CLORAZEPATE DIPOTASSIUM",
          "CLOTRIMAZOLE",
          "CLOTRIMAZOLE/BETAMETHASONE DIP",
          "CLOZAPINE",
          "CODEINE SULFATE",
          "CODEINE/BUTALBITAL/ASA/CAFFEIN",
          "COLCHICINE",
          "COLESEVELAM HCL",
          "COLESTIPOL HCL",
          "CORTICOTROPIN",
          "CYCLOBENZAPRINE HCL",
          "CYCLOSPORINE",
          "CYPROHEPTADINE HCL",
          "DABIGATRAN ETEXILATE MESYLATE",
          "DALFAMPRIDINE",
          "DANTROLENE SODIUM",
          "DAPAGLIFLOZIN PROPANEDIOL",
          "DAPSONE",
          "DARIFENACIN HYDROBROMIDE",
          "DARUNAVIR ETHANOLATE",
          "DASATINIB",
          "DESIPRAMINE HCL",
          "DESLORATADINE",
          "DESMOPRESSIN (NONREFRIGERATED)",
          "DESMOPRESSIN ACETATE",
          "DESOG-E.ESTRADIOL/E.ESTRADIOL",
          "DESONIDE",
          "DESVENLAFAXINE SUCCINATE",
          "DEXAMETHASONE",
          "DEXLANSOPRAZOLE",
          "DEXTROAMPHETAMINE SULFATE",
          "DEXTROAMPHETAMINE/AMPHETAMINE",
          "DEXTROSE 70 % IN WATER",
          "DIAZEPAM",
          "DICLOFENAC EPOLAMINE",
          "DICLOFENAC POTASSIUM",
          "DICLOFENAC SODIUM",
          "DICLOFENAC SODIUM/MISOPROSTOL",
          "DICLOXACILLIN SODIUM",
          "DICYCLOMINE HCL",
          "DIDANOSINE",
          "DIFLUPREDNATE",
          "DIGOXIN",
          "DILTIAZEM HCL",
          "DIMETHYL FUMARATE",
          "DIPH,PERTUSS(ACELL),TET VAC/PF",
          "DIPHENHYDRAMINE HCL",
          "DIPHENOXYLATE HCL/ATROPINE",
          "DIPHTH,PERTUSS(ACELL),TET VAC",
          "DIPYRIDAMOLE",
          "DISULFIRAM",
          "DIVALPROEX SODIUM",
          "DOFETILIDE",
          "DOLUTEGRAVIR SODIUM",
          "DONEPEZIL HCL",
          "DORZOLAMIDE HCL",
          "DORZOLAMIDE HCL/TIMOLOL MALEAT",
          "DOXAZOSIN MESYLATE",
          "DOXEPIN HCL",
          "DOXYCYCLINE HYCLATE",
          "DOXYCYCLINE MONOHYDRATE",
          "DRONABINOL",
          "DRONEDARONE HCL",
          "DULOXETINE HCL",
          "DUTASTERIDE",
          "DUTASTERIDE/TAMSULOSIN HCL",
          "ECONAZOLE NITRATE",
          "EFAVIRENZ",
          "EFAVIRENZ/EMTRICITAB/TENOFOVIR",
          "ELETRIPTAN HBR",
          "ELVITEGR/COBICIST/EMTRIC/TENOF",
          "EMTRICITAB/RILPIVIRINE/TENOFOV",
          "EMTRICITABINE/TENOFOVIR",
          "ENALAPRIL MALEATE",
          "ENOXAPARIN SODIUM",
          "ENTACAPONE",
          "ENTECAVIR",
          "ENZALUTAMIDE",
          "EPINEPHRINE",
          "EPLERENONE",
          "EPOETIN ALFA",
          "ERLOTINIB HCL",
          "ERYTHROMYCIN BASE",
          "ERYTHROMYCIN BASE/ETHANOL",
          "ERYTHROMYCIN ETHYLSUCCINATE",
          "ERYTHROMYCIN STEARATE",
          "ESCITALOPRAM OXALATE",
          "ESOMEPRAZOLE MAGNESIUM",
          "ESTAZOLAM",
          "ESTRADIOL",
          "ESTRADIOL CYPIONATE",
          "ESTRADIOL/LEVONORGESTREL",
          "ESTROGEN,CON/M-PROGEST ACET",
          "ESTROGENS, CONJUGATED",
          "ESTROGENS,CONJ.,SYNTHETIC B",
          "ESTROGENS,ESTERIFIED",
          "ESTROPIPATE",
          "ESZOPICLONE",
          "ETANERCEPT",
          "ETHAMBUTOL HCL",
          "ETHINYL ESTRADIOL/DROSPIRENONE",
          "ETODOLAC",
          "ETRAVIRINE",
          "EVEROLIMUS",
          "EXEMESTANE",
          "EXENATIDE",
          "EXENATIDE MICROSPHERES",
          "EZETIMIBE",
          "EZETIMIBE/SIMVASTATIN",
          "FAMOTIDINE",
          "FEBUXOSTAT",
          "FELBAMATE",
          "FELODIPINE",
          "FENOFIBRATE",
          "FENOFIBRATE NANOCRYSTALLIZED",
          "FENOFIBRATE,MICRONIZED",
          "FENOFIBRIC ACID (CHOLINE)",
          "FENTANYL",
          "FESOTERODINE FUMARATE",
          "FINASTERIDE",
          "FINGOLIMOD HCL",
          "FLECAINIDE ACETATE",
          "FLUCONAZOLE",
          "FLUDROCORTISONE ACETATE",
          "FLUNISOLIDE",
          "FLUOCINONIDE",
          "FLUOCINONIDE/EMOLLIENT BASE",
          "FLUOROURACIL",
          "FLUOXETINE HCL",
          "FLUPHENAZINE DECANOATE",
          "FLUPHENAZINE HCL",
          "FLURBIPROFEN",
          "FLURBIPROFEN SODIUM",
          "FLUTICASONE PROPIONATE",
          "FLUTICASONE/SALMETEROL",
          "FLUTICASONE/VILANTEROL",
          "FLUVASTATIN SODIUM",
          "FLUVOXAMINE MALEATE",
          "FONDAPARINUX SODIUM",
          "FORMOTEROL FUMARATE",
          "FOSINOPRIL SODIUM",
          "FUROSEMIDE",
          "GABAPENTIN",
          "GABAPENTIN ENACARBIL",
          "GALANTAMINE HBR",
          "GANCICLOVIR",
          "GATIFLOXACIN",
          "GEMFIBROZIL",
          "GENTAMICIN SULFATE",
          "GLATIRAMER ACETATE",
          "GLIMEPIRIDE",
          "GLIPIZIDE",
          "GLIPIZIDE/METFORMIN HCL",
          "GLUCAGON,HUMAN RECOMBINANT",
          "GLYBURIDE",
          "GLYBURIDE,MICRONIZED",
          "GLYBURIDE/METFORMIN HCL",
          "GLYCOPYRROLATE",
          "GUANFACINE HCL",
          "HALOBETASOL PROPIONATE",
          "HALOPERIDOL",
          "HALOPERIDOL DECANOATE",
          "HEPARIN SODIUM,PORCINE",
          "HYDRALAZINE HCL",
          "HYDROCHLOROTHIAZIDE",
          "HYDROCODONE/ACETAMINOPHEN",
          "HYDROCODONE/IBUPROFEN",
          "HYDROCORTISONE",
          "HYDROCORTISONE BUTYRATE",
          "HYDROCORTISONE VALERATE",
          "HYDROMORPHONE HCL",
          "HYDROMORPHONE HCL/PF",
          "HYDROXYCHLOROQUINE SULFATE",
          "HYDROXYUREA",
          "HYDROXYZINE HCL",
          "HYDROXYZINE PAMOATE",
          "IBANDRONATE SODIUM",
          "IBUPROFEN",
          "ILOPERIDONE",
          "IMATINIB MESYLATE",
          "IMIPRAMINE HCL",
          "IMIQUIMOD",
          "INDAPAMIDE",
          "INDOMETHACIN",
          "INSULIN ASPART",
          "INSULIN DETEMIR",
          "INSULIN GLARGINE,HUM.REC.ANLOG",
          "INSULIN GLULISINE",
          "INSULIN LISPRO",
          "INSULIN NPH HUM/REG INSULIN HM",
          "INSULIN NPH HUMAN ISOPHANE",
          "INSULIN NPL/INSULIN LISPRO",
          "INSULIN REGULAR, HUMAN",
          "INSULN ASP PRT/INSULIN ASPART",
          "INTERFERON BETA-1A",
          "INTERFERON BETA-1A/ALBUMIN",
          "INTERFERON BETA-1B",
          "IPRATROPIUM BROMIDE",
          "IPRATROPIUM/ALBUTEROL SULFATE",
          "IRBESARTAN",
          "IRBESARTAN/HYDROCHLOROTHIAZIDE",
          "ISOSORBIDE DINITRATE",
          "ISOSORBIDE MONONITRATE",
          "ISOTRETINOIN",
          "KETOCONAZOLE",
          "KETOPROFEN",
          "KETOROLAC TROMETHAMINE",
          "LABETALOL HCL",
          "LACOSAMIDE",
          "LACTULOSE",
          "LAMIVUDINE",
          "LAMIVUDINE/ZIDOVUDINE",
          "LAMOTRIGINE",
          "LANSOPRAZOLE",
          "LATANOPROST",
          "LEFLUNOMIDE",
          "LENALIDOMIDE",
          "LETROZOLE",
          "LEUCOVORIN CALCIUM",
          "LEUPROLIDE ACETATE",
          "LEVALBUTEROL TARTRATE",
          "LEVETIRACETAM",
          "LEVOCARNITINE (WITH SUGAR)",
          "LEVOCETIRIZINE DIHYDROCHLORIDE",
          "LEVOFLOXACIN",
          "LEVOMILNACIPRAN HYDROCHLORIDE",
          "LEVONORGESTREL-ETHIN ESTRADIOL",
          "LEVOTHYROXINE SODIUM",
          "LIDOCAINE",
          "LIDOCAINE HCL",
          "LIDOCAINE/PRILOCAINE",
          "LINACLOTIDE",
          "LINAGLIPTIN",
          "LIOTHYRONINE SODIUM",
          "LIPASE/PROTEASE/AMYLASE",
          "LIRAGLUTIDE",
          "LISDEXAMFETAMINE DIMESYLATE",
          "LISINOPRIL",
          "LISINOPRIL/HYDROCHLOROTHIAZIDE",
          "LITHIUM CARBONATE",
          "LITHIUM CITRATE",
          "LOPERAMIDE HCL",
          "LOPINAVIR/RITONAVIR",
          "LORAZEPAM",
          "LOSARTAN POTASSIUM",
          "LOSARTAN/HYDROCHLOROTHIAZIDE",
          "LOTEPREDNOL ETABONATE",
          "LOVASTATIN",
          "LOXAPINE SUCCINATE",
          "LUBIPROSTONE",
          "LURASIDONE HCL",
          "MAGNESIUM SULFATE",
          "MECLIZINE HCL",
          "MEDROXYPROGESTERONE ACETATE",
          "MEGESTROL ACETATE",
          "MELOXICAM",
          "MEMANTINE HCL",
          "MEPERIDINE HCL",
          "MESALAMINE",
          "METAXALONE",
          "METFORMIN HCL",
          "METHADONE HCL",
          "METHAZOLAMIDE",
          "METHENAMINE HIPPURATE",
          "METHIMAZOLE",
          "METHOCARBAMOL",
          "METHOTREXATE SODIUM",
          "METHYLPHENIDATE HCL",
          "METHYLPREDNISOLONE",
          "METOCLOPRAMIDE HCL",
          "METOLAZONE",
          "METOPROLOL SUCCINATE",
          "METOPROLOL TARTRATE",
          "METOPROLOL/HYDROCHLOROTHIAZIDE",
          "METRONIDAZOLE",
          "MEXILETINE HCL",
          "MIDODRINE HCL",
          "MILNACIPRAN HCL",
          "MINOCYCLINE HCL",
          "MINOXIDIL",
          "MIRABEGRON",
          "MIRTAZAPINE",
          "MODAFINIL",
          "MOEXIPRIL HCL",
          "MOMETASONE FUROATE",
          "MOMETASONE/FORMOTEROL",
          "MONTELUKAST SODIUM",
          "MORPHINE SULFATE",
          "MOXIFLOXACIN HCL",
          "MUPIROCIN",
          "MYCOPHENOLATE MOFETIL",
          "NABUMETONE",
          "NADOLOL",
          "NAFCILLIN SODIUM",
          "NALTREXONE HCL",
          "NALTREXONE MICROSPHERES",
          "NAPHOS M-B M-H/NA PHOS,DI-BA",
          "NAPROXEN",
          "NAPROXEN SODIUM",
          "NATEGLINIDE",
          "NEBIVOLOL HCL",
          "NEEDLES, INSULIN DISP., SAFETY",
          "NEEDLES, INSULIN DISPOSABLE",
          "NEFAZODONE HCL",
          "NELFINAVIR MESYLATE",
          "NEO/POLYMYX B SULF/DEXAMETH",
          "NEOMYCIN SULFATE",
          "NEOMYCIN/POLYMYXIN B SULF/HC",
          "NEPAFENAC",
          "NEVIRAPINE",
          "NIACIN",
          "NIACIN/SIMVASTATIN",
          "NIFEDIPINE",
          "NITROFURANTOIN MACROCRYSTAL",
          "NITROFURANTOIN MONOHYD/M-CRYST",
          "NITROGLYCERIN",
          "NIZATIDINE",
          "NORETHINDRONE ACETATE",
          "NORETHINDRONE-E.ESTRADIOL-IRON",
          "NORETHINDRONE-ETHINYL ESTRAD",
          "NORGESTIMATE-ETHINYL ESTRADIOL",
          "NORGESTREL-ETHINYL ESTRADIOL",
          "NORTRIPTYLINE HCL",
          "NYSTATIN",
          "NYSTATIN/TRIAMCIN",
          "OCTREOTIDE ACETATE",
          "OFLOXACIN",
          "OLANZAPINE",
          "OLANZAPINE/FLUOXETINE HCL",
          "OLMESARTAN MEDOXOMIL",
          "OLMESARTAN/AMLODIPIN/HCTHIAZID",
          "OLMESARTAN/HYDROCHLOROTHIAZIDE",
          "OLOPATADINE HCL",
          "OMALIZUMAB",
          "OMEGA-3 ACID ETHYL ESTERS",
          "OMEPRAZOLE",
          "ONDANSETRON",
          "ONDANSETRON HCL",
          "OPIUM/BELLADONNA ALKALOIDS",
          "ORPHENADRINE CITRATE",
          "OSELTAMIVIR PHOSPHATE",
          "OXAPROZIN",
          "OXAZEPAM",
          "OXCARBAZEPINE",
          "OXYBUTYNIN",
          "OXYBUTYNIN CHLORIDE",
          "OXYCODONE HCL",
          "OXYCODONE HCL/ACETAMINOPHEN",
          "OXYCODONE HCL/ASPIRIN",
          "OXYMORPHONE HCL",
          "PALIPERIDONE",
          "PALIPERIDONE PALMITATE",
          "PANTOPRAZOLE SODIUM",
          "PARENTERAL AMINO ACID 15% NO.1",
          "PARICALCITOL",
          "PAROXETINE HCL",
          "PEG 3350/NA SULF,BICARB,CL/KCL",
          "PEG3350/SOD SUL/NACL/ASB/C/KCL",
          "PENICILLIN V POTASSIUM",
          "PENTOSAN POLYSULFATE SODIUM",
          "PENTOXIFYLLINE",
          "PERMETHRIN",
          "PERPHENAZINE",
          "PHENELZINE SULFATE",
          "PHENOBARBITAL",
          "PHENYTOIN",
          "PHENYTOIN SODIUM",
          "PHENYTOIN SODIUM EXTENDED",
          "PILOCARPINE HCL",
          "PIMECROLIMUS",
          "PINDOLOL",
          "PIOGLITAZONE HCL",
          "PIOGLITAZONE HCL/METFORMIN HCL",
          "PIPERACILLIN SODIUM/TAZOBACTAM",
          "PIROXICAM",
          "PITAVASTATIN CALCIUM",
          "PNV WITH CA,NO.72/IRON,CARB/FA",
          "PNV WITH CA,NO.72/IRON/FA",
          "POLYETHYLENE GLYCOL 3350",
          "POLYMYXIN B SULF/TRIMETHOPRIM",
          "POTASSIUM CHLORIDE",
          "POTASSIUM CITRATE",
          "PRAMIPEXOLE DI-HCL",
          "PRAMLINTIDE ACETATE",
          "PRASUGREL HCL",
          "PRAVASTATIN SODIUM",
          "PRAZOSIN HCL",
          "PREDNISOLONE ACETATE",
          "PREDNISONE",
          "PREGABALIN",
          "PRIMIDONE",
          "PROBENECID",
          "PROCHLORPERAZINE MALEATE",
          "PROGESTERONE,MICRONIZED",
          "PROMETHAZINE HCL",
          "PROPAFENONE HCL",
          "PROPRANOLOL HCL",
          "PYRIDOSTIGMINE BROMIDE",
          "PYRIMETHAMINE",
          "QUETIAPINE FUMARATE",
          "QUINAPRIL HCL",
          "QUINAPRIL/HYDROCHLOROTHIAZIDE",
          "QUININE SULFATE",
          "RABEPRAZOLE SODIUM",
          "RALOXIFENE HCL",
          "RALTEGRAVIR POTASSIUM",
          "RAMELTEON",
          "RAMIPRIL",
          "RANITIDINE HCL",
          "RANOLAZINE",
          "RASAGILINE MESYLATE",
          "REPAGLINIDE",
          "RIBAVIRIN",
          "RIFAMPIN",
          "RIFAXIMIN",
          "RISEDRONATE SODIUM",
          "RISPERIDONE",
          "RISPERIDONE MICROSPHERES",
          "RITONAVIR",
          "RIVAROXABAN",
          "RIVASTIGMINE",
          "RIVASTIGMINE TARTRATE",
          "RIZATRIPTAN BENZOATE",
          "ROFLUMILAST",
          "ROPINIROLE HCL",
          "ROSUVASTATIN CALCIUM",
          "ROTIGOTINE",
          "RUFINAMIDE",
          "RUXOLITINIB PHOSPHATE",
          "SALMETEROL XINAFOATE",
          "SALSALATE",
          "SAXAGLIPTIN HCL",
          "SAXAGLIPTIN HCL/METFORMIN HCL",
          "SCOPOLAMINE",
          "SELEGILINE HCL",
          "SERTRALINE HCL",
          "SEVELAMER CARBONATE",
          "SILDENAFIL CITRATE",
          "SILODOSIN",
          "SILVER SULFADIAZINE",
          "SIMEPREVIR SODIUM",
          "SIMVASTATIN",
          "SITAGLIPTIN PHOS/METFORMIN HCL",
          "SITAGLIPTIN PHOSPHATE",
          "SODIUM CHLORIDE 0.45 %",
          "SODIUM CHLORIDE IRRIG SOLUTION",
          "SODIUM CHLORIDE/NAHCO3/KCL/PEG",
          "SODIUM FLUORIDE",
          "SODIUM OXYBATE",
          "SODIUM POLYSTYRENE SULFONATE",
          "SODIUM,POTASSIUM,&MAG SULFATES",
          "SOFOSBUVIR",
          "SOLIFENACIN SUCCINATE",
          "SOMATROPIN",
          "SORAFENIB TOSYLATE",
          "SOTALOL HCL",
          "SPIRONOLACT/HYDROCHLOROTHIAZID",
          "SPIRONOLACTONE",
          "SUCRALFATE",
          "SULFACETAMIDE SODIUM",
          "SULFAMETHOXAZOLE/TRIMETHOPRIM",
          "SULFASALAZINE",
          "SULINDAC",
          "SUMATRIPTAN",
          "SUMATRIPTAN SUCC/NAPROXEN SOD",
          "SUMATRIPTAN SUCCINATE",
          "SYR W-NDL,INS 0.3 ML HALF MARK",
          "SYRING W-NDL,DISP,INSUL,0.3 ML",
          "SYRING W-NDL,DISP,INSUL,0.5 ML",
          "SYRINGE & NEEDLE,INSULIN,1 ML",
          "TACROLIMUS",
          "TADALAFIL",
          "TAMOXIFEN CITRATE",
          "TAMSULOSIN HCL",
          "TAPENTADOL HCL",
          "TELMISARTAN",
          "TELMISARTAN/HYDROCHLOROTHIAZID",
          "TEMAZEPAM",
          "TENOFOVIR DISOPROXIL FUMARATE",
          "TERAZOSIN HCL",
          "TERBINAFINE HCL",
          "TERCONAZOLE",
          "TERIFLUNOMIDE",
          "TERIPARATIDE",
          "TESTOSTERONE",
          "TESTOSTERONE CYPIONATE",
          "TESTOSTERONE ENANTHATE",
          "THEOPHYLLINE ANHYDROUS",
          "THIORIDAZINE HCL",
          "THIOTHIXENE",
          "THYROID,PORK",
          "TIAGABINE HCL",
          "TICAGRELOR",
          "TIMOLOL",
          "TIMOLOL MALEATE",
          "TIOTROPIUM BROMIDE",
          "TIZANIDINE HCL",
          "TOBRAMYCIN/DEXAMETHASONE",
          "TOLTERODINE TARTRATE",
          "TOPIRAMATE",
          "TORSEMIDE",
          "TRAMADOL HCL",
          "TRAMADOL HCL/ACETAMINOPHEN",
          "TRAVOPROST",
          "TRAZODONE HCL",
          "TRETINOIN",
          "TRIAMCINOLONE ACETONIDE",
          "TRIAMTERENE",
          "TRIAMTERENE/HYDROCHLOROTHIAZID",
          "TRIAZOLAM",
          "TRIFLUOPERAZINE HCL",
          "TRIHEXYPHENIDYL HCL",
          "TRIMETHOPRIM",
          "TROSPIUM CHLORIDE",
          "UMECLIDINIUM BRM/VILANTEROL TR",
          "URSODIOL",
          "VALACYCLOVIR HCL",
          "VALGANCICLOVIR HCL",
          "VALPROIC ACID",
          "VALPROIC ACID (AS SODIUM SALT)",
          "VALSARTAN",
          "VALSARTAN/HYDROCHLOROTHIAZIDE",
          "VANCOMYCIN HCL",
          "VARENICLINE TARTRATE",
          "VENLAFAXINE HCL",
          "VERAPAMIL HCL",
          "VILAZODONE HYDROCHLORIDE",
          "VORTIOXETINE HYDROBROMIDE",
          "WARFARIN SODIUM",
          "WATER FOR IRRIGATION,STERILE",
          "ZAFIRLUKAST",
          "ZALEPLON",
          "ZIDOVUDINE",
          "ZIPRASIDONE HCL",
          "ZOLMITRIPTAN",
          "ZOLPIDEM TARTRATE",
          "ZONISAMIDE",
          "ZOSTER VACCINE LIVE/PF"
         ],
         "yaxis": "y"
        }
       ],
       "layout": {
        "barmode": "relative",
        "legend": {
         "tracegroupgap": 0
        },
        "margin": {
         "t": 60
        },
        "template": {
         "data": {
          "bar": [
           {
            "error_x": {
             "color": "#2a3f5f"
            },
            "error_y": {
             "color": "#2a3f5f"
            },
            "marker": {
             "line": {
              "color": "#E5ECF6",
              "width": 0.5
             },
             "pattern": {
              "fillmode": "overlay",
              "size": 10,
              "solidity": 0.2
             }
            },
            "type": "bar"
           }
          ],
          "barpolar": [
           {
            "marker": {
             "line": {
              "color": "#E5ECF6",
              "width": 0.5
             },
             "pattern": {
              "fillmode": "overlay",
              "size": 10,
              "solidity": 0.2
             }
            },
            "type": "barpolar"
           }
          ],
          "carpet": [
           {
            "aaxis": {
             "endlinecolor": "#2a3f5f",
             "gridcolor": "white",
             "linecolor": "white",
             "minorgridcolor": "white",
             "startlinecolor": "#2a3f5f"
            },
            "baxis": {
             "endlinecolor": "#2a3f5f",
             "gridcolor": "white",
             "linecolor": "white",
             "minorgridcolor": "white",
             "startlinecolor": "#2a3f5f"
            },
            "type": "carpet"
           }
          ],
          "choropleth": [
           {
            "colorbar": {
             "outlinewidth": 0,
             "ticks": ""
            },
            "type": "choropleth"
           }
          ],
          "contour": [
           {
            "colorbar": {
             "outlinewidth": 0,
             "ticks": ""
            },
            "colorscale": [
             [
              0,
              "#0d0887"
             ],
             [
              0.1111111111111111,
              "#46039f"
             ],
             [
              0.2222222222222222,
              "#7201a8"
             ],
             [
              0.3333333333333333,
              "#9c179e"
             ],
             [
              0.4444444444444444,
              "#bd3786"
             ],
             [
              0.5555555555555556,
              "#d8576b"
             ],
             [
              0.6666666666666666,
              "#ed7953"
             ],
             [
              0.7777777777777778,
              "#fb9f3a"
             ],
             [
              0.8888888888888888,
              "#fdca26"
             ],
             [
              1,
              "#f0f921"
             ]
            ],
            "type": "contour"
           }
          ],
          "contourcarpet": [
           {
            "colorbar": {
             "outlinewidth": 0,
             "ticks": ""
            },
            "type": "contourcarpet"
           }
          ],
          "heatmap": [
           {
            "colorbar": {
             "outlinewidth": 0,
             "ticks": ""
            },
            "colorscale": [
             [
              0,
              "#0d0887"
             ],
             [
              0.1111111111111111,
              "#46039f"
             ],
             [
              0.2222222222222222,
              "#7201a8"
             ],
             [
              0.3333333333333333,
              "#9c179e"
             ],
             [
              0.4444444444444444,
              "#bd3786"
             ],
             [
              0.5555555555555556,
              "#d8576b"
             ],
             [
              0.6666666666666666,
              "#ed7953"
             ],
             [
              0.7777777777777778,
              "#fb9f3a"
             ],
             [
              0.8888888888888888,
              "#fdca26"
             ],
             [
              1,
              "#f0f921"
             ]
            ],
            "type": "heatmap"
           }
          ],
          "heatmapgl": [
           {
            "colorbar": {
             "outlinewidth": 0,
             "ticks": ""
            },
            "colorscale": [
             [
              0,
              "#0d0887"
             ],
             [
              0.1111111111111111,
              "#46039f"
             ],
             [
              0.2222222222222222,
              "#7201a8"
             ],
             [
              0.3333333333333333,
              "#9c179e"
             ],
             [
              0.4444444444444444,
              "#bd3786"
             ],
             [
              0.5555555555555556,
              "#d8576b"
             ],
             [
              0.6666666666666666,
              "#ed7953"
             ],
             [
              0.7777777777777778,
              "#fb9f3a"
             ],
             [
              0.8888888888888888,
              "#fdca26"
             ],
             [
              1,
              "#f0f921"
             ]
            ],
            "type": "heatmapgl"
           }
          ],
          "histogram": [
           {
            "marker": {
             "pattern": {
              "fillmode": "overlay",
              "size": 10,
              "solidity": 0.2
             }
            },
            "type": "histogram"
           }
          ],
          "histogram2d": [
           {
            "colorbar": {
             "outlinewidth": 0,
             "ticks": ""
            },
            "colorscale": [
             [
              0,
              "#0d0887"
             ],
             [
              0.1111111111111111,
              "#46039f"
             ],
             [
              0.2222222222222222,
              "#7201a8"
             ],
             [
              0.3333333333333333,
              "#9c179e"
             ],
             [
              0.4444444444444444,
              "#bd3786"
             ],
             [
              0.5555555555555556,
              "#d8576b"
             ],
             [
              0.6666666666666666,
              "#ed7953"
             ],
             [
              0.7777777777777778,
              "#fb9f3a"
             ],
             [
              0.8888888888888888,
              "#fdca26"
             ],
             [
              1,
              "#f0f921"
             ]
            ],
            "type": "histogram2d"
           }
          ],
          "histogram2dcontour": [
           {
            "colorbar": {
             "outlinewidth": 0,
             "ticks": ""
            },
            "colorscale": [
             [
              0,
              "#0d0887"
             ],
             [
              0.1111111111111111,
              "#46039f"
             ],
             [
              0.2222222222222222,
              "#7201a8"
             ],
             [
              0.3333333333333333,
              "#9c179e"
             ],
             [
              0.4444444444444444,
              "#bd3786"
             ],
             [
              0.5555555555555556,
              "#d8576b"
             ],
             [
              0.6666666666666666,
              "#ed7953"
             ],
             [
              0.7777777777777778,
              "#fb9f3a"
             ],
             [
              0.8888888888888888,
              "#fdca26"
             ],
             [
              1,
              "#f0f921"
             ]
            ],
            "type": "histogram2dcontour"
           }
          ],
          "mesh3d": [
           {
            "colorbar": {
             "outlinewidth": 0,
             "ticks": ""
            },
            "type": "mesh3d"
           }
          ],
          "parcoords": [
           {
            "line": {
             "colorbar": {
              "outlinewidth": 0,
              "ticks": ""
             }
            },
            "type": "parcoords"
           }
          ],
          "pie": [
           {
            "automargin": true,
            "type": "pie"
           }
          ],
          "scatter": [
           {
            "marker": {
             "colorbar": {
              "outlinewidth": 0,
              "ticks": ""
             }
            },
            "type": "scatter"
           }
          ],
          "scatter3d": [
           {
            "line": {
             "colorbar": {
              "outlinewidth": 0,
              "ticks": ""
             }
            },
            "marker": {
             "colorbar": {
              "outlinewidth": 0,
              "ticks": ""
             }
            },
            "type": "scatter3d"
           }
          ],
          "scattercarpet": [
           {
            "marker": {
             "colorbar": {
              "outlinewidth": 0,
              "ticks": ""
             }
            },
            "type": "scattercarpet"
           }
          ],
          "scattergeo": [
           {
            "marker": {
             "colorbar": {
              "outlinewidth": 0,
              "ticks": ""
             }
            },
            "type": "scattergeo"
           }
          ],
          "scattergl": [
           {
            "marker": {
             "colorbar": {
              "outlinewidth": 0,
              "ticks": ""
             }
            },
            "type": "scattergl"
           }
          ],
          "scattermapbox": [
           {
            "marker": {
             "colorbar": {
              "outlinewidth": 0,
              "ticks": ""
             }
            },
            "type": "scattermapbox"
           }
          ],
          "scatterpolar": [
           {
            "marker": {
             "colorbar": {
              "outlinewidth": 0,
              "ticks": ""
             }
            },
            "type": "scatterpolar"
           }
          ],
          "scatterpolargl": [
           {
            "marker": {
             "colorbar": {
              "outlinewidth": 0,
              "ticks": ""
             }
            },
            "type": "scatterpolargl"
           }
          ],
          "scatterternary": [
           {
            "marker": {
             "colorbar": {
              "outlinewidth": 0,
              "ticks": ""
             }
            },
            "type": "scatterternary"
           }
          ],
          "surface": [
           {
            "colorbar": {
             "outlinewidth": 0,
             "ticks": ""
            },
            "colorscale": [
             [
              0,
              "#0d0887"
             ],
             [
              0.1111111111111111,
              "#46039f"
             ],
             [
              0.2222222222222222,
              "#7201a8"
             ],
             [
              0.3333333333333333,
              "#9c179e"
             ],
             [
              0.4444444444444444,
              "#bd3786"
             ],
             [
              0.5555555555555556,
              "#d8576b"
             ],
             [
              0.6666666666666666,
              "#ed7953"
             ],
             [
              0.7777777777777778,
              "#fb9f3a"
             ],
             [
              0.8888888888888888,
              "#fdca26"
             ],
             [
              1,
              "#f0f921"
             ]
            ],
            "type": "surface"
           }
          ],
          "table": [
           {
            "cells": {
             "fill": {
              "color": "#EBF0F8"
             },
             "line": {
              "color": "white"
             }
            },
            "header": {
             "fill": {
              "color": "#C8D4E3"
             },
             "line": {
              "color": "white"
             }
            },
            "type": "table"
           }
          ]
         },
         "layout": {
          "annotationdefaults": {
           "arrowcolor": "#2a3f5f",
           "arrowhead": 0,
           "arrowwidth": 1
          },
          "autotypenumbers": "strict",
          "coloraxis": {
           "colorbar": {
            "outlinewidth": 0,
            "ticks": ""
           }
          },
          "colorscale": {
           "diverging": [
            [
             0,
             "#8e0152"
            ],
            [
             0.1,
             "#c51b7d"
            ],
            [
             0.2,
             "#de77ae"
            ],
            [
             0.3,
             "#f1b6da"
            ],
            [
             0.4,
             "#fde0ef"
            ],
            [
             0.5,
             "#f7f7f7"
            ],
            [
             0.6,
             "#e6f5d0"
            ],
            [
             0.7,
             "#b8e186"
            ],
            [
             0.8,
             "#7fbc41"
            ],
            [
             0.9,
             "#4d9221"
            ],
            [
             1,
             "#276419"
            ]
           ],
           "sequential": [
            [
             0,
             "#0d0887"
            ],
            [
             0.1111111111111111,
             "#46039f"
            ],
            [
             0.2222222222222222,
             "#7201a8"
            ],
            [
             0.3333333333333333,
             "#9c179e"
            ],
            [
             0.4444444444444444,
             "#bd3786"
            ],
            [
             0.5555555555555556,
             "#d8576b"
            ],
            [
             0.6666666666666666,
             "#ed7953"
            ],
            [
             0.7777777777777778,
             "#fb9f3a"
            ],
            [
             0.8888888888888888,
             "#fdca26"
            ],
            [
             1,
             "#f0f921"
            ]
           ],
           "sequentialminus": [
            [
             0,
             "#0d0887"
            ],
            [
             0.1111111111111111,
             "#46039f"
            ],
            [
             0.2222222222222222,
             "#7201a8"
            ],
            [
             0.3333333333333333,
             "#9c179e"
            ],
            [
             0.4444444444444444,
             "#bd3786"
            ],
            [
             0.5555555555555556,
             "#d8576b"
            ],
            [
             0.6666666666666666,
             "#ed7953"
            ],
            [
             0.7777777777777778,
             "#fb9f3a"
            ],
            [
             0.8888888888888888,
             "#fdca26"
            ],
            [
             1,
             "#f0f921"
            ]
           ]
          },
          "colorway": [
           "#636efa",
           "#EF553B",
           "#00cc96",
           "#ab63fa",
           "#FFA15A",
           "#19d3f3",
           "#FF6692",
           "#B6E880",
           "#FF97FF",
           "#FECB52"
          ],
          "font": {
           "color": "#2a3f5f"
          },
          "geo": {
           "bgcolor": "white",
           "lakecolor": "white",
           "landcolor": "#E5ECF6",
           "showlakes": true,
           "showland": true,
           "subunitcolor": "white"
          },
          "hoverlabel": {
           "align": "left"
          },
          "hovermode": "closest",
          "mapbox": {
           "style": "light"
          },
          "paper_bgcolor": "white",
          "plot_bgcolor": "#E5ECF6",
          "polar": {
           "angularaxis": {
            "gridcolor": "white",
            "linecolor": "white",
            "ticks": ""
           },
           "bgcolor": "#E5ECF6",
           "radialaxis": {
            "gridcolor": "white",
            "linecolor": "white",
            "ticks": ""
           }
          },
          "scene": {
           "xaxis": {
            "backgroundcolor": "#E5ECF6",
            "gridcolor": "white",
            "gridwidth": 2,
            "linecolor": "white",
            "showbackground": true,
            "ticks": "",
            "zerolinecolor": "white"
           },
           "yaxis": {
            "backgroundcolor": "#E5ECF6",
            "gridcolor": "white",
            "gridwidth": 2,
            "linecolor": "white",
            "showbackground": true,
            "ticks": "",
            "zerolinecolor": "white"
           },
           "zaxis": {
            "backgroundcolor": "#E5ECF6",
            "gridcolor": "white",
            "gridwidth": 2,
            "linecolor": "white",
            "showbackground": true,
            "ticks": "",
            "zerolinecolor": "white"
           }
          },
          "shapedefaults": {
           "line": {
            "color": "#2a3f5f"
           }
          },
          "ternary": {
           "aaxis": {
            "gridcolor": "white",
            "linecolor": "white",
            "ticks": ""
           },
           "baxis": {
            "gridcolor": "white",
            "linecolor": "white",
            "ticks": ""
           },
           "bgcolor": "#E5ECF6",
           "caxis": {
            "gridcolor": "white",
            "linecolor": "white",
            "ticks": ""
           }
          },
          "title": {
           "x": 0.05
          },
          "xaxis": {
           "automargin": true,
           "gridcolor": "white",
           "linecolor": "white",
           "ticks": "",
           "title": {
            "standoff": 15
           },
           "zerolinecolor": "white",
           "zerolinewidth": 2
          },
          "yaxis": {
           "automargin": true,
           "gridcolor": "white",
           "linecolor": "white",
           "ticks": "",
           "title": {
            "standoff": 15
           },
           "zerolinecolor": "white",
           "zerolinewidth": 2
          }
         }
        },
        "xaxis": {
         "anchor": "y",
         "domain": [
          0,
          1
         ],
         "title": {
          "text": "x"
         }
        },
        "yaxis": {
         "anchor": "x",
         "domain": [
          0,
          1
         ],
         "title": {
          "text": "y"
         }
        }
       }
      },
      "text/html": [
       "<div>                            <div id=\"6129f14a-ae61-43b6-bb0e-ad5218552e46\" class=\"plotly-graph-div\" style=\"height:525px; width:100%;\"></div>            <script type=\"text/javascript\">                require([\"plotly\"], function(Plotly) {                    window.PLOTLYENV=window.PLOTLYENV || {};                                    if (document.getElementById(\"6129f14a-ae61-43b6-bb0e-ad5218552e46\")) {                    Plotly.newPlot(                        \"6129f14a-ae61-43b6-bb0e-ad5218552e46\",                        [{\"alignmentgroup\":\"True\",\"hovertemplate\":\"x=%{x}<br>y=%{y}<extra></extra>\",\"legendgroup\":\"\",\"marker\":{\"color\":\"#636efa\",\"pattern\":{\"shape\":\"\"}},\"name\":\"\",\"offsetgroup\":\"\",\"orientation\":\"h\",\"showlegend\":false,\"textposition\":\"auto\",\"type\":\"bar\",\"x\":[13231.0,7022.0,481.0,8286.0,14317.0,898.0,2304.0,503.0,520.0,1059.0,222.0,1420.0,207.0,1282.0,1670.0,4459.0,5207.0,373.0,1729.0,193.0,305.0,1454.0,3143.0,658.0,1886.0,296.0,244.0,3093.0,3411.0,1150.0,5700.0,1327.0,983.0,125.0,146.0,173.0,1881.0,11.0,26.0,29.0,11.0,2701.0,5004.0,305.0,33.0,0.0,803.0,73.0,925.0,853.0,206.0,128.0,40.0,24.0,12.0,0.0,153.0,0.0,34.0,494.0,48.0,12.0,353.0,430.0,184.0,204.0,177.0,34.0,402.0,221.0,25.0,149.0,209.0,47.0,null,327.0,232.0,241.0,0.0,498.0,207.0,66.0,198.0,262.0,25.0,481.0,89.0,19.0,42.0,25.0,223.0,22.0,30.0,16.0,85.0,162.0,null,103.0,null,92.0,0.0,102.0,0.0,24.0,0.0,47.0,103.0,26.0,67.0,0.0,210.0,null,145.0,112.0,null,0.0,59.0,0.0,11.0,24.0,210.0,118.0,0.0,0.0,12.0,0.0,0.0,43.0,69.0,null,0.0,88.0,null,0.0,31.0,25.0,103.0,59.0,26.0,null,0.0,29.0,27.0,182.0,25.0,34.0,0.0,0.0,0.0,13.0,null,0.0,0.0,0.0,0.0,null,0.0,20.0,11.0,null,12.0,0.0,26.0,null,0.0,11.0,null,null,0.0,93.0,12.0,28.0,0.0,0.0,12.0,50.0,null,0.0,0.0,0.0,null,20.0,278.0,1431.0,642.0,814.0,772.0,2851.0,2813.0,1836.0,382.0,781.0,913.0,411.0,1362.0,189.0,225.0,1113.0,676.0,113.0,2160.0,771.0,449.0,517.0,2289.0,1233.0,76.0,1676.0,1496.0,348.0,419.0,4165.0,1741.0,387.0,6256.0,123.0,1997.0,687.0,2936.0,1077.0,1049.0,150.0,510.0,391.0,124.0,3834.0,2038.0,96.0,489.0,188.0,31.0,1342.0,297.0,104.0,57.0,39.0,12.0,0.0,12.0,14.0,187.0,134.0,73.0,24.0,132.0,206.0,480.0,22.0,448.0,50.0,25.0,443.0,77.0,194.0,38.0,866.0,12.0,0.0,130.0,0.0,50.0,162.0,345.0,45.0,12.0,29.0,233.0,12.0,27.0,326.0,27.0,61.0,0.0,16.0,237.0,49.0,66.0,131.0,145.0,12.0,210.0,33.0,11.0,11.0,104.0,42.0,0.0,13.0,0.0,150.0,76.0,296.0,null,193.0,74.0,38.0,0.0,null,21.0,0.0,11.0,0.0,11.0,12.0,null,0.0,28.0,0.0,38.0,0.0,0.0,0.0,26.0,38.0,30.0,47.0,91.0,25.0,12.0,13.0,0.0,0.0,0.0,36.0,null,26.0,37.0,42.0,18.0,0.0,0.0,11.0,27.0,12.0,0.0,52.0,11.0,null,null,0.0,22.0,11.0,17.0,40.0,0.0,null,0.0,12.0,0.0,14.0,16.0,25.0,0.0,7155.0,11061.0,6788.0,11287.0,2903.0,2629.0,528.0,499.0,5412.0,11.0,2075.0,1065.0,480.0,397.0,271.0,579.0,1074.0,3331.0,16941.0,6683.0,1597.0,892.0,955.0,6132.0,1050.0,1995.0,679.0,1327.0,867.0,583.0,1481.0,88.0,541.0,79.0,68.0,345.0,158.0,40.0,57.0,837.0,277.0,104.0,11.0,0.0,104.0,289.0,552.0,1299.0,39.0,243.0,235.0,39.0,331.0,34.0,0.0,337.0,32.0,216.0,188.0,336.0,18.0,12.0,12.0,185.0,161.0,302.0,99.0,13.0,338.0,28.0,33.0,83.0,94.0,0.0,194.0,104.0,13.0,181.0,526.0,179.0,29.0,null,49.0,0.0,51.0,23.0,0.0,0.0,22.0,175.0,89.0,12.0,null,0.0,0.0,0.0,97.0,64.0,85.0,120.0,0.0,0.0,null,11.0,69.0,39.0,0.0,43.0,23.0,13.0,70.0,11.0,0.0,219.0,0.0,0.0,41.0,null,55.0,0.0,46.0,0.0,14.0,25.0,16.0,null,0.0,25.0,0.0,18.0,22.0,0.0,22.0,0.0,11.0,11.0,13.0,0.0,24.0,0.0,0.0,31.0,null,12.0,0.0,0.0,13.0,0.0,0.0,12.0,0.0,null,12.0,27.0,0.0,11.0,938.0,5866.0,4044.0,10575.0,10575.0,24329.0,15850.0,13154.0,3631.0,1484.0,23.0,3993.0,2340.0,2724.0,4395.0,1401.0,2852.0,463.0,450.0,838.0,398.0,849.0,1415.0,639.0,72.0,508.0,371.0,1703.0,1242.0,1950.0,959.0,157.0,54.0,879.0,707.0,774.0,303.0,67.0,2361.0,2688.0,72.0,1009.0,247.0,407.0,24.0,61.0,66.0,14.0,0.0,437.0,343.0,1400.0,490.0,212.0,599.0,17.0,12.0,65.0,232.0,29.0,1938.0,260.0,null,231.0,161.0,91.0,22.0,136.0,147.0,622.0,119.0,140.0,70.0,88.0,27.0,159.0,49.0,0.0,23.0,55.0,88.0,82.0,null,null,null,0.0,0.0,0.0,0.0,0.0,165.0,161.0,103.0,78.0,null,null,257.0,33.0,43.0,0.0,0.0,0.0,48.0,0.0,12.0,136.0,58.0,90.0,71.0,28.0,0.0,37.0,32.0,121.0,null,null,null,53.0,14.0,0.0,95.0,0.0,11.0,0.0,81.0,48.0,11.0,0.0,0.0,0.0,59.0,13.0,23.0,null,36.0,13.0,11.0,0.0,0.0,14.0,12.0,11.0,20.0,13.0,0.0,11.0,48.0,12.0,15.0,51.0,13.0,null,0.0,0.0,15.0,0.0,12.0,null,0.0,12.0],\"xaxis\":\"x\",\"y\":[\"0.9 % SODIUM CHLORIDE\",\"ABACAVIR SULFATE\",\"ABACAVIR SULFATE/LAMIVUDINE\",\"ABACAVIR/LAMIVUDINE/ZIDOVUDINE\",\"ABATACEPT\",\"ABIRATERONE ACETATE\",\"ACARBOSE\",\"ACEBUTOLOL HCL\",\"ACETAMINOPHEN WITH CODEINE\",\"ACETAZOLAMIDE\",\"ACETIC ACID/HYDROCORTISONE\",\"ACETYLCYSTEINE\",\"ACITRETIN\",\"ACLIDINIUM BROMIDE\",\"ACYCLOVIR\",\"ADALIMUMAB\",\"ALBUTEROL SULFATE\",\"ALCOHOL ANTISEPTIC PADS\",\"ALENDRONATE SODIUM\",\"ALENDRONATE SODIUM/VITAMIN D3\",\"ALFUZOSIN HCL\",\"ALISKIREN HEMIFUMARATE\",\"ALLOPURINOL\",\"ALPRAZOLAM\",\"AMANTADINE HCL\",\"AMBRISENTAN\",\"AMILORIDE HCL\",\"AMILORIDE/HYDROCHLOROTHIAZIDE\",\"AMIODARONE HCL\",\"AMITRIPTYLINE HCL\",\"AMLODIPINE BESYLATE\",\"AMLODIPINE BESYLATE/BENAZEPRIL\",\"AMLODIPINE/ATORVASTATIN\",\"AMLODIPINE/VALSARTAN\",\"AMLODIPINE/VALSARTAN/HCTHIAZID\",\"AMMONIUM LACTATE\",\"AMOXICILLIN\",\"AMOXICILLIN/POTASSIUM CLAV\",\"AMPICILLIN TRIHYDRATE\",\"ANAGRELIDE HCL\",\"ANASTROZOLE\",\"APIXABAN\",\"ARIPIPRAZOLE\",\"ARMODAFINIL\",\"ASENAPINE MALEATE\",\"ASPIRIN/DIPYRIDAMOLE\",\"ATAZANAVIR SULFATE\",\"ATENOLOL\",\"ATENOLOL/CHLORTHALIDONE\",\"ATOMOXETINE HCL\",\"ATORVASTATIN CALCIUM\",\"AZATHIOPRINE\",\"AZELASTINE HCL\",\"AZITHROMYCIN\",\"BACITRACIN\",\"BACLOFEN\",\"BALSALAZIDE DISODIUM\",\"BECLOMETHASONE DIPROPIONATE\",\"BENAZEPRIL HCL\",\"BENAZEPRIL/HYDROCHLOROTHIAZIDE\",\"BENZTROPINE MESYLATE\",\"BEPOTASTINE BESILATE\",\"BETAMETHASONE DIPROPIONATE\",\"BETAXOLOL HCL\",\"BETHANECHOL CHLORIDE\",\"BICALUTAMIDE\",\"BIMATOPROST\",\"BISOPROLOL FUMARATE\",\"BISOPROLOL FUMARATE/HCTZ\",\"BORTEZOMIB\",\"BOSENTAN\",\"BRIMONIDINE TARTRATE\",\"BRIMONIDINE TARTRATE/TIMOLOL\",\"BRINZOLAMIDE\",\"BUDESONIDE\",\"BUDESONIDE/FORMOTEROL FUMARATE\",\"BUMETANIDE\",\"BUPRENORPHINE\",\"BUPRENORPHINE HCL\",\"BUPRENORPHINE HCL/NALOXONE HCL\",\"BUPROPION HCL\",\"BUSPIRONE HCL\",\"BUTALB/ACETAMINOPHEN/CAFFEINE\",\"BUTALBIT/ACETAMIN/CAFF/CODEINE\",\"BUTORPHANOL TARTRATE\",\"CALCIPOTRIENE\",\"CALCITONIN,SALMON,SYNTHETIC\",\"CALCITRIOL\",\"CALCIUM ACETATE\",\"CANAGLIFLOZIN\",\"CANDESARTAN/HYDROCHLOROTHIAZID\",\"CAPTOPRIL\",\"CARBAMAZEPINE\",\"CARBIDOPA/LEVODOPA\",\"CARBIDOPA/LEVODOPA/ENTACAPONE\",\"CARISOPRODOL\",\"CARVEDILOL\",\"CARVEDILOL PHOSPHATE\",\"CEFADROXIL\",\"CEFDINIR\",\"CEFPROZIL\",\"CEFTRIAXONE SODIUM\",\"CEFUROXIME AXETIL\",\"CELECOXIB\",\"CEPHALEXIN\",\"CERTOLIZUMAB PEGOL\",\"CEVIMELINE HCL\",\"CHLORDIAZEPOXIDE HCL\",\"CHLORHEXIDINE GLUCONATE\",\"CHLORPROMAZINE HCL\",\"CHLORTHALIDONE\",\"CHLORZOXAZONE\",\"CHOLESTYRAMINE (WITH SUGAR)\",\"CICLESONIDE\",\"CICLOPIROX\",\"CICLOPIROX OLAMINE\",\"CILOSTAZOL\",\"CINACALCET HCL\",\"CIPROFLOXACIN HCL\",\"CIPROFLOXACIN HCL/DEXAMETH\",\"CITALOPRAM HYDROBROMIDE\",\"CLARITHROMYCIN\",\"CLINDAMYCIN HCL\",\"CLINDAMYCIN PHOSPHATE\",\"CLOBAZAM\",\"CLOBETASOL PROPIONATE\",\"CLOMIPRAMINE HCL\",\"CLONAZEPAM\",\"CLONIDINE\",\"CLONIDINE HCL\",\"CLOPIDOGREL BISULFATE\",\"CLORAZEPATE DIPOTASSIUM\",\"CLOTRIMAZOLE\",\"CLOTRIMAZOLE/BETAMETHASONE DIP\",\"CLOZAPINE\",\"CODEINE SULFATE\",\"CODEINE/BUTALBITAL/ASA/CAFFEIN\",\"COLCHICINE\",\"COLESEVELAM HCL\",\"COLESTIPOL HCL\",\"CORTICOTROPIN\",\"CYCLOBENZAPRINE HCL\",\"CYCLOSPORINE\",\"CYPROHEPTADINE HCL\",\"DABIGATRAN ETEXILATE MESYLATE\",\"DALFAMPRIDINE\",\"DANTROLENE SODIUM\",\"DAPAGLIFLOZIN PROPANEDIOL\",\"DAPSONE\",\"DARIFENACIN HYDROBROMIDE\",\"DARUNAVIR ETHANOLATE\",\"DASATINIB\",\"DESIPRAMINE HCL\",\"DESLORATADINE\",\"DESMOPRESSIN (NONREFRIGERATED)\",\"DESMOPRESSIN ACETATE\",\"DESOG-E.ESTRADIOL/E.ESTRADIOL\",\"DESONIDE\",\"DESVENLAFAXINE SUCCINATE\",\"DEXAMETHASONE\",\"DEXLANSOPRAZOLE\",\"DEXTROAMPHETAMINE SULFATE\",\"DEXTROAMPHETAMINE/AMPHETAMINE\",\"DEXTROSE 70 % IN WATER\",\"DIAZEPAM\",\"DICLOFENAC EPOLAMINE\",\"DICLOFENAC POTASSIUM\",\"DICLOFENAC SODIUM\",\"DICLOFENAC SODIUM/MISOPROSTOL\",\"DICLOXACILLIN SODIUM\",\"DICYCLOMINE HCL\",\"DIDANOSINE\",\"DIFLUPREDNATE\",\"DIGOXIN\",\"DILTIAZEM HCL\",\"DIMETHYL FUMARATE\",\"DIPH,PERTUSS(ACELL),TET VAC/PF\",\"DIPHENHYDRAMINE HCL\",\"DIPHENOXYLATE HCL/ATROPINE\",\"DIPHTH,PERTUSS(ACELL),TET VAC\",\"DIPYRIDAMOLE\",\"DISULFIRAM\",\"DIVALPROEX SODIUM\",\"DOFETILIDE\",\"DOLUTEGRAVIR SODIUM\",\"DONEPEZIL HCL\",\"DORZOLAMIDE HCL\",\"DORZOLAMIDE HCL/TIMOLOL MALEAT\",\"DOXAZOSIN MESYLATE\",\"DOXEPIN HCL\",\"DOXYCYCLINE HYCLATE\",\"DOXYCYCLINE MONOHYDRATE\",\"DRONABINOL\",\"DRONEDARONE HCL\",\"DULOXETINE HCL\",\"DUTASTERIDE\",\"DUTASTERIDE/TAMSULOSIN HCL\",\"ECONAZOLE NITRATE\",\"EFAVIRENZ\",\"EFAVIRENZ/EMTRICITAB/TENOFOVIR\",\"ELETRIPTAN HBR\",\"ELVITEGR/COBICIST/EMTRIC/TENOF\",\"EMTRICITAB/RILPIVIRINE/TENOFOV\",\"EMTRICITABINE/TENOFOVIR\",\"ENALAPRIL MALEATE\",\"ENOXAPARIN SODIUM\",\"ENTACAPONE\",\"ENTECAVIR\",\"ENZALUTAMIDE\",\"EPINEPHRINE\",\"EPLERENONE\",\"EPOETIN ALFA\",\"ERLOTINIB HCL\",\"ERYTHROMYCIN BASE\",\"ERYTHROMYCIN BASE/ETHANOL\",\"ERYTHROMYCIN ETHYLSUCCINATE\",\"ERYTHROMYCIN STEARATE\",\"ESCITALOPRAM OXALATE\",\"ESOMEPRAZOLE MAGNESIUM\",\"ESTAZOLAM\",\"ESTRADIOL\",\"ESTRADIOL CYPIONATE\",\"ESTRADIOL/LEVONORGESTREL\",\"ESTROGEN,CON/M-PROGEST ACET\",\"ESTROGENS, CONJUGATED\",\"ESTROGENS,CONJ.,SYNTHETIC B\",\"ESTROGENS,ESTERIFIED\",\"ESTROPIPATE\",\"ESZOPICLONE\",\"ETANERCEPT\",\"ETHAMBUTOL HCL\",\"ETHINYL ESTRADIOL/DROSPIRENONE\",\"ETODOLAC\",\"ETRAVIRINE\",\"EVEROLIMUS\",\"EXEMESTANE\",\"EXENATIDE\",\"EXENATIDE MICROSPHERES\",\"EZETIMIBE\",\"EZETIMIBE/SIMVASTATIN\",\"FAMOTIDINE\",\"FEBUXOSTAT\",\"FELBAMATE\",\"FELODIPINE\",\"FENOFIBRATE\",\"FENOFIBRATE NANOCRYSTALLIZED\",\"FENOFIBRATE,MICRONIZED\",\"FENOFIBRIC ACID (CHOLINE)\",\"FENTANYL\",\"FESOTERODINE FUMARATE\",\"FINASTERIDE\",\"FINGOLIMOD HCL\",\"FLECAINIDE ACETATE\",\"FLUCONAZOLE\",\"FLUDROCORTISONE ACETATE\",\"FLUNISOLIDE\",\"FLUOCINONIDE\",\"FLUOCINONIDE/EMOLLIENT BASE\",\"FLUOROURACIL\",\"FLUOXETINE HCL\",\"FLUPHENAZINE DECANOATE\",\"FLUPHENAZINE HCL\",\"FLURBIPROFEN\",\"FLURBIPROFEN SODIUM\",\"FLUTICASONE PROPIONATE\",\"FLUTICASONE/SALMETEROL\",\"FLUTICASONE/VILANTEROL\",\"FLUVASTATIN SODIUM\",\"FLUVOXAMINE MALEATE\",\"FONDAPARINUX SODIUM\",\"FORMOTEROL FUMARATE\",\"FOSINOPRIL SODIUM\",\"FUROSEMIDE\",\"GABAPENTIN\",\"GABAPENTIN ENACARBIL\",\"GALANTAMINE HBR\",\"GANCICLOVIR\",\"GATIFLOXACIN\",\"GEMFIBROZIL\",\"GENTAMICIN SULFATE\",\"GLATIRAMER ACETATE\",\"GLIMEPIRIDE\",\"GLIPIZIDE\",\"GLIPIZIDE/METFORMIN HCL\",\"GLUCAGON,HUMAN RECOMBINANT\",\"GLYBURIDE\",\"GLYBURIDE,MICRONIZED\",\"GLYBURIDE/METFORMIN HCL\",\"GLYCOPYRROLATE\",\"GUANFACINE HCL\",\"HALOBETASOL PROPIONATE\",\"HALOPERIDOL\",\"HALOPERIDOL DECANOATE\",\"HEPARIN SODIUM,PORCINE\",\"HYDRALAZINE HCL\",\"HYDROCHLOROTHIAZIDE\",\"HYDROCODONE/ACETAMINOPHEN\",\"HYDROCODONE/IBUPROFEN\",\"HYDROCORTISONE\",\"HYDROCORTISONE BUTYRATE\",\"HYDROCORTISONE VALERATE\",\"HYDROMORPHONE HCL\",\"HYDROMORPHONE HCL/PF\",\"HYDROXYCHLOROQUINE SULFATE\",\"HYDROXYUREA\",\"HYDROXYZINE HCL\",\"HYDROXYZINE PAMOATE\",\"IBANDRONATE SODIUM\",\"IBUPROFEN\",\"ILOPERIDONE\",\"IMATINIB MESYLATE\",\"IMIPRAMINE HCL\",\"IMIQUIMOD\",\"INDAPAMIDE\",\"INDOMETHACIN\",\"INSULIN ASPART\",\"INSULIN DETEMIR\",\"INSULIN GLARGINE,HUM.REC.ANLOG\",\"INSULIN GLULISINE\",\"INSULIN LISPRO\",\"INSULIN NPH HUM/REG INSULIN HM\",\"INSULIN NPH HUMAN ISOPHANE\",\"INSULIN NPL/INSULIN LISPRO\",\"INSULIN REGULAR, HUMAN\",\"INSULN ASP PRT/INSULIN ASPART\",\"INTERFERON BETA-1A\",\"INTERFERON BETA-1A/ALBUMIN\",\"INTERFERON BETA-1B\",\"IPRATROPIUM BROMIDE\",\"IPRATROPIUM/ALBUTEROL SULFATE\",\"IRBESARTAN\",\"IRBESARTAN/HYDROCHLOROTHIAZIDE\",\"ISOSORBIDE DINITRATE\",\"ISOSORBIDE MONONITRATE\",\"ISOTRETINOIN\",\"KETOCONAZOLE\",\"KETOPROFEN\",\"KETOROLAC TROMETHAMINE\",\"LABETALOL HCL\",\"LACOSAMIDE\",\"LACTULOSE\",\"LAMIVUDINE\",\"LAMIVUDINE/ZIDOVUDINE\",\"LAMOTRIGINE\",\"LANSOPRAZOLE\",\"LATANOPROST\",\"LEFLUNOMIDE\",\"LENALIDOMIDE\",\"LETROZOLE\",\"LEUCOVORIN CALCIUM\",\"LEUPROLIDE ACETATE\",\"LEVALBUTEROL TARTRATE\",\"LEVETIRACETAM\",\"LEVOCARNITINE (WITH SUGAR)\",\"LEVOCETIRIZINE DIHYDROCHLORIDE\",\"LEVOFLOXACIN\",\"LEVOMILNACIPRAN HYDROCHLORIDE\",\"LEVONORGESTREL-ETHIN ESTRADIOL\",\"LEVOTHYROXINE SODIUM\",\"LIDOCAINE\",\"LIDOCAINE HCL\",\"LIDOCAINE/PRILOCAINE\",\"LINACLOTIDE\",\"LINAGLIPTIN\",\"LIOTHYRONINE SODIUM\",\"LIPASE/PROTEASE/AMYLASE\",\"LIRAGLUTIDE\",\"LISDEXAMFETAMINE DIMESYLATE\",\"LISINOPRIL\",\"LISINOPRIL/HYDROCHLOROTHIAZIDE\",\"LITHIUM CARBONATE\",\"LITHIUM CITRATE\",\"LOPERAMIDE HCL\",\"LOPINAVIR/RITONAVIR\",\"LORAZEPAM\",\"LOSARTAN POTASSIUM\",\"LOSARTAN/HYDROCHLOROTHIAZIDE\",\"LOTEPREDNOL ETABONATE\",\"LOVASTATIN\",\"LOXAPINE SUCCINATE\",\"LUBIPROSTONE\",\"LURASIDONE HCL\",\"MAGNESIUM SULFATE\",\"MECLIZINE HCL\",\"MEDROXYPROGESTERONE ACETATE\",\"MEGESTROL ACETATE\",\"MELOXICAM\",\"MEMANTINE HCL\",\"MEPERIDINE HCL\",\"MESALAMINE\",\"METAXALONE\",\"METFORMIN HCL\",\"METHADONE HCL\",\"METHAZOLAMIDE\",\"METHENAMINE HIPPURATE\",\"METHIMAZOLE\",\"METHOCARBAMOL\",\"METHOTREXATE SODIUM\",\"METHYLPHENIDATE HCL\",\"METHYLPREDNISOLONE\",\"METOCLOPRAMIDE HCL\",\"METOLAZONE\",\"METOPROLOL SUCCINATE\",\"METOPROLOL TARTRATE\",\"METOPROLOL/HYDROCHLOROTHIAZIDE\",\"METRONIDAZOLE\",\"MEXILETINE HCL\",\"MIDODRINE HCL\",\"MILNACIPRAN HCL\",\"MINOCYCLINE HCL\",\"MINOXIDIL\",\"MIRABEGRON\",\"MIRTAZAPINE\",\"MODAFINIL\",\"MOEXIPRIL HCL\",\"MOMETASONE FUROATE\",\"MOMETASONE/FORMOTEROL\",\"MONTELUKAST SODIUM\",\"MORPHINE SULFATE\",\"MOXIFLOXACIN HCL\",\"MUPIROCIN\",\"MYCOPHENOLATE MOFETIL\",\"NABUMETONE\",\"NADOLOL\",\"NAFCILLIN SODIUM\",\"NALTREXONE HCL\",\"NALTREXONE MICROSPHERES\",\"NAPHOS M-B M-H/NA PHOS,DI-BA\",\"NAPROXEN\",\"NAPROXEN SODIUM\",\"NATEGLINIDE\",\"NEBIVOLOL HCL\",\"NEEDLES, INSULIN DISP., SAFETY\",\"NEEDLES, INSULIN DISPOSABLE\",\"NEFAZODONE HCL\",\"NELFINAVIR MESYLATE\",\"NEO/POLYMYX B SULF/DEXAMETH\",\"NEOMYCIN SULFATE\",\"NEOMYCIN/POLYMYXIN B SULF/HC\",\"NEPAFENAC\",\"NEVIRAPINE\",\"NIACIN\",\"NIACIN/SIMVASTATIN\",\"NIFEDIPINE\",\"NITROFURANTOIN MACROCRYSTAL\",\"NITROFURANTOIN MONOHYD/M-CRYST\",\"NITROGLYCERIN\",\"NIZATIDINE\",\"NORETHINDRONE ACETATE\",\"NORETHINDRONE-E.ESTRADIOL-IRON\",\"NORETHINDRONE-ETHINYL ESTRAD\",\"NORGESTIMATE-ETHINYL ESTRADIOL\",\"NORGESTREL-ETHINYL ESTRADIOL\",\"NORTRIPTYLINE HCL\",\"NYSTATIN\",\"NYSTATIN/TRIAMCIN\",\"OCTREOTIDE ACETATE\",\"OFLOXACIN\",\"OLANZAPINE\",\"OLANZAPINE/FLUOXETINE HCL\",\"OLMESARTAN MEDOXOMIL\",\"OLMESARTAN/AMLODIPIN/HCTHIAZID\",\"OLMESARTAN/HYDROCHLOROTHIAZIDE\",\"OLOPATADINE HCL\",\"OMALIZUMAB\",\"OMEGA-3 ACID ETHYL ESTERS\",\"OMEPRAZOLE\",\"ONDANSETRON\",\"ONDANSETRON HCL\",\"OPIUM/BELLADONNA ALKALOIDS\",\"ORPHENADRINE CITRATE\",\"OSELTAMIVIR PHOSPHATE\",\"OXAPROZIN\",\"OXAZEPAM\",\"OXCARBAZEPINE\",\"OXYBUTYNIN\",\"OXYBUTYNIN CHLORIDE\",\"OXYCODONE HCL\",\"OXYCODONE HCL/ACETAMINOPHEN\",\"OXYCODONE HCL/ASPIRIN\",\"OXYMORPHONE HCL\",\"PALIPERIDONE\",\"PALIPERIDONE PALMITATE\",\"PANTOPRAZOLE SODIUM\",\"PARENTERAL AMINO ACID 15% NO.1\",\"PARICALCITOL\",\"PAROXETINE HCL\",\"PEG 3350/NA SULF,BICARB,CL/KCL\",\"PEG3350/SOD SUL/NACL/ASB/C/KCL\",\"PENICILLIN V POTASSIUM\",\"PENTOSAN POLYSULFATE SODIUM\",\"PENTOXIFYLLINE\",\"PERMETHRIN\",\"PERPHENAZINE\",\"PHENELZINE SULFATE\",\"PHENOBARBITAL\",\"PHENYTOIN\",\"PHENYTOIN SODIUM\",\"PHENYTOIN SODIUM EXTENDED\",\"PILOCARPINE HCL\",\"PIMECROLIMUS\",\"PINDOLOL\",\"PIOGLITAZONE HCL\",\"PIOGLITAZONE HCL/METFORMIN HCL\",\"PIPERACILLIN SODIUM/TAZOBACTAM\",\"PIROXICAM\",\"PITAVASTATIN CALCIUM\",\"PNV WITH CA,NO.72/IRON,CARB/FA\",\"PNV WITH CA,NO.72/IRON/FA\",\"POLYETHYLENE GLYCOL 3350\",\"POLYMYXIN B SULF/TRIMETHOPRIM\",\"POTASSIUM CHLORIDE\",\"POTASSIUM CITRATE\",\"PRAMIPEXOLE DI-HCL\",\"PRAMLINTIDE ACETATE\",\"PRASUGREL HCL\",\"PRAVASTATIN SODIUM\",\"PRAZOSIN HCL\",\"PREDNISOLONE ACETATE\",\"PREDNISONE\",\"PREGABALIN\",\"PRIMIDONE\",\"PROBENECID\",\"PROCHLORPERAZINE MALEATE\",\"PROGESTERONE,MICRONIZED\",\"PROMETHAZINE HCL\",\"PROPAFENONE HCL\",\"PROPRANOLOL HCL\",\"PYRIDOSTIGMINE BROMIDE\",\"PYRIMETHAMINE\",\"QUETIAPINE FUMARATE\",\"QUINAPRIL HCL\",\"QUINAPRIL/HYDROCHLOROTHIAZIDE\",\"QUININE SULFATE\",\"RABEPRAZOLE SODIUM\",\"RALOXIFENE HCL\",\"RALTEGRAVIR POTASSIUM\",\"RAMELTEON\",\"RAMIPRIL\",\"RANITIDINE HCL\",\"RANOLAZINE\",\"RASAGILINE MESYLATE\",\"REPAGLINIDE\",\"RIBAVIRIN\",\"RIFAMPIN\",\"RIFAXIMIN\",\"RISEDRONATE SODIUM\",\"RISPERIDONE\",\"RISPERIDONE MICROSPHERES\",\"RITONAVIR\",\"RIVAROXABAN\",\"RIVASTIGMINE\",\"RIVASTIGMINE TARTRATE\",\"RIZATRIPTAN BENZOATE\",\"ROFLUMILAST\",\"ROPINIROLE HCL\",\"ROSUVASTATIN CALCIUM\",\"ROTIGOTINE\",\"RUFINAMIDE\",\"RUXOLITINIB PHOSPHATE\",\"SALMETEROL XINAFOATE\",\"SALSALATE\",\"SAXAGLIPTIN HCL\",\"SAXAGLIPTIN HCL/METFORMIN HCL\",\"SCOPOLAMINE\",\"SELEGILINE HCL\",\"SERTRALINE HCL\",\"SEVELAMER CARBONATE\",\"SILDENAFIL CITRATE\",\"SILODOSIN\",\"SILVER SULFADIAZINE\",\"SIMEPREVIR SODIUM\",\"SIMVASTATIN\",\"SITAGLIPTIN PHOS/METFORMIN HCL\",\"SITAGLIPTIN PHOSPHATE\",\"SODIUM CHLORIDE 0.45 %\",\"SODIUM CHLORIDE IRRIG SOLUTION\",\"SODIUM CHLORIDE/NAHCO3/KCL/PEG\",\"SODIUM FLUORIDE\",\"SODIUM OXYBATE\",\"SODIUM POLYSTYRENE SULFONATE\",\"SODIUM,POTASSIUM,&MAG SULFATES\",\"SOFOSBUVIR\",\"SOLIFENACIN SUCCINATE\",\"SOMATROPIN\",\"SORAFENIB TOSYLATE\",\"SOTALOL HCL\",\"SPIRONOLACT/HYDROCHLOROTHIAZID\",\"SPIRONOLACTONE\",\"SUCRALFATE\",\"SULFACETAMIDE SODIUM\",\"SULFAMETHOXAZOLE/TRIMETHOPRIM\",\"SULFASALAZINE\",\"SULINDAC\",\"SUMATRIPTAN\",\"SUMATRIPTAN SUCC/NAPROXEN SOD\",\"SUMATRIPTAN SUCCINATE\",\"SYR W-NDL,INS 0.3 ML HALF MARK\",\"SYRING W-NDL,DISP,INSUL,0.3 ML\",\"SYRING W-NDL,DISP,INSUL,0.5 ML\",\"SYRINGE & NEEDLE,INSULIN,1 ML\",\"TACROLIMUS\",\"TADALAFIL\",\"TAMOXIFEN CITRATE\",\"TAMSULOSIN HCL\",\"TAPENTADOL HCL\",\"TELMISARTAN\",\"TELMISARTAN/HYDROCHLOROTHIAZID\",\"TEMAZEPAM\",\"TENOFOVIR DISOPROXIL FUMARATE\",\"TERAZOSIN HCL\",\"TERBINAFINE HCL\",\"TERCONAZOLE\",\"TERIFLUNOMIDE\",\"TERIPARATIDE\",\"TESTOSTERONE\",\"TESTOSTERONE CYPIONATE\",\"TESTOSTERONE ENANTHATE\",\"THEOPHYLLINE ANHYDROUS\",\"THIORIDAZINE HCL\",\"THIOTHIXENE\",\"THYROID,PORK\",\"TIAGABINE HCL\",\"TICAGRELOR\",\"TIMOLOL\",\"TIMOLOL MALEATE\",\"TIOTROPIUM BROMIDE\",\"TIZANIDINE HCL\",\"TOBRAMYCIN/DEXAMETHASONE\",\"TOLTERODINE TARTRATE\",\"TOPIRAMATE\",\"TORSEMIDE\",\"TRAMADOL HCL\",\"TRAMADOL HCL/ACETAMINOPHEN\",\"TRAVOPROST\",\"TRAZODONE HCL\",\"TRETINOIN\",\"TRIAMCINOLONE ACETONIDE\",\"TRIAMTERENE\",\"TRIAMTERENE/HYDROCHLOROTHIAZID\",\"TRIAZOLAM\",\"TRIFLUOPERAZINE HCL\",\"TRIHEXYPHENIDYL HCL\",\"TRIMETHOPRIM\",\"TROSPIUM CHLORIDE\",\"UMECLIDINIUM BRM/VILANTEROL TR\",\"URSODIOL\",\"VALACYCLOVIR HCL\",\"VALGANCICLOVIR HCL\",\"VALPROIC ACID\",\"VALPROIC ACID (AS SODIUM SALT)\",\"VALSARTAN\",\"VALSARTAN/HYDROCHLOROTHIAZIDE\",\"VANCOMYCIN HCL\",\"VARENICLINE TARTRATE\",\"VENLAFAXINE HCL\",\"VERAPAMIL HCL\",\"VILAZODONE HYDROCHLORIDE\",\"VORTIOXETINE HYDROBROMIDE\",\"WARFARIN SODIUM\",\"WATER FOR IRRIGATION,STERILE\",\"ZAFIRLUKAST\",\"ZALEPLON\",\"ZIDOVUDINE\",\"ZIPRASIDONE HCL\",\"ZOLMITRIPTAN\",\"ZOLPIDEM TARTRATE\",\"ZONISAMIDE\",\"ZOSTER VACCINE LIVE/PF\"],\"yaxis\":\"y\"}],                        {\"barmode\":\"relative\",\"legend\":{\"tracegroupgap\":0},\"margin\":{\"t\":60},\"template\":{\"data\":{\"bar\":[{\"error_x\":{\"color\":\"#2a3f5f\"},\"error_y\":{\"color\":\"#2a3f5f\"},\"marker\":{\"line\":{\"color\":\"#E5ECF6\",\"width\":0.5},\"pattern\":{\"fillmode\":\"overlay\",\"size\":10,\"solidity\":0.2}},\"type\":\"bar\"}],\"barpolar\":[{\"marker\":{\"line\":{\"color\":\"#E5ECF6\",\"width\":0.5},\"pattern\":{\"fillmode\":\"overlay\",\"size\":10,\"solidity\":0.2}},\"type\":\"barpolar\"}],\"carpet\":[{\"aaxis\":{\"endlinecolor\":\"#2a3f5f\",\"gridcolor\":\"white\",\"linecolor\":\"white\",\"minorgridcolor\":\"white\",\"startlinecolor\":\"#2a3f5f\"},\"baxis\":{\"endlinecolor\":\"#2a3f5f\",\"gridcolor\":\"white\",\"linecolor\":\"white\",\"minorgridcolor\":\"white\",\"startlinecolor\":\"#2a3f5f\"},\"type\":\"carpet\"}],\"choropleth\":[{\"colorbar\":{\"outlinewidth\":0,\"ticks\":\"\"},\"type\":\"choropleth\"}],\"contour\":[{\"colorbar\":{\"outlinewidth\":0,\"ticks\":\"\"},\"colorscale\":[[0.0,\"#0d0887\"],[0.1111111111111111,\"#46039f\"],[0.2222222222222222,\"#7201a8\"],[0.3333333333333333,\"#9c179e\"],[0.4444444444444444,\"#bd3786\"],[0.5555555555555556,\"#d8576b\"],[0.6666666666666666,\"#ed7953\"],[0.7777777777777778,\"#fb9f3a\"],[0.8888888888888888,\"#fdca26\"],[1.0,\"#f0f921\"]],\"type\":\"contour\"}],\"contourcarpet\":[{\"colorbar\":{\"outlinewidth\":0,\"ticks\":\"\"},\"type\":\"contourcarpet\"}],\"heatmap\":[{\"colorbar\":{\"outlinewidth\":0,\"ticks\":\"\"},\"colorscale\":[[0.0,\"#0d0887\"],[0.1111111111111111,\"#46039f\"],[0.2222222222222222,\"#7201a8\"],[0.3333333333333333,\"#9c179e\"],[0.4444444444444444,\"#bd3786\"],[0.5555555555555556,\"#d8576b\"],[0.6666666666666666,\"#ed7953\"],[0.7777777777777778,\"#fb9f3a\"],[0.8888888888888888,\"#fdca26\"],[1.0,\"#f0f921\"]],\"type\":\"heatmap\"}],\"heatmapgl\":[{\"colorbar\":{\"outlinewidth\":0,\"ticks\":\"\"},\"colorscale\":[[0.0,\"#0d0887\"],[0.1111111111111111,\"#46039f\"],[0.2222222222222222,\"#7201a8\"],[0.3333333333333333,\"#9c179e\"],[0.4444444444444444,\"#bd3786\"],[0.5555555555555556,\"#d8576b\"],[0.6666666666666666,\"#ed7953\"],[0.7777777777777778,\"#fb9f3a\"],[0.8888888888888888,\"#fdca26\"],[1.0,\"#f0f921\"]],\"type\":\"heatmapgl\"}],\"histogram\":[{\"marker\":{\"pattern\":{\"fillmode\":\"overlay\",\"size\":10,\"solidity\":0.2}},\"type\":\"histogram\"}],\"histogram2d\":[{\"colorbar\":{\"outlinewidth\":0,\"ticks\":\"\"},\"colorscale\":[[0.0,\"#0d0887\"],[0.1111111111111111,\"#46039f\"],[0.2222222222222222,\"#7201a8\"],[0.3333333333333333,\"#9c179e\"],[0.4444444444444444,\"#bd3786\"],[0.5555555555555556,\"#d8576b\"],[0.6666666666666666,\"#ed7953\"],[0.7777777777777778,\"#fb9f3a\"],[0.8888888888888888,\"#fdca26\"],[1.0,\"#f0f921\"]],\"type\":\"histogram2d\"}],\"histogram2dcontour\":[{\"colorbar\":{\"outlinewidth\":0,\"ticks\":\"\"},\"colorscale\":[[0.0,\"#0d0887\"],[0.1111111111111111,\"#46039f\"],[0.2222222222222222,\"#7201a8\"],[0.3333333333333333,\"#9c179e\"],[0.4444444444444444,\"#bd3786\"],[0.5555555555555556,\"#d8576b\"],[0.6666666666666666,\"#ed7953\"],[0.7777777777777778,\"#fb9f3a\"],[0.8888888888888888,\"#fdca26\"],[1.0,\"#f0f921\"]],\"type\":\"histogram2dcontour\"}],\"mesh3d\":[{\"colorbar\":{\"outlinewidth\":0,\"ticks\":\"\"},\"type\":\"mesh3d\"}],\"parcoords\":[{\"line\":{\"colorbar\":{\"outlinewidth\":0,\"ticks\":\"\"}},\"type\":\"parcoords\"}],\"pie\":[{\"automargin\":true,\"type\":\"pie\"}],\"scatter\":[{\"marker\":{\"colorbar\":{\"outlinewidth\":0,\"ticks\":\"\"}},\"type\":\"scatter\"}],\"scatter3d\":[{\"line\":{\"colorbar\":{\"outlinewidth\":0,\"ticks\":\"\"}},\"marker\":{\"colorbar\":{\"outlinewidth\":0,\"ticks\":\"\"}},\"type\":\"scatter3d\"}],\"scattercarpet\":[{\"marker\":{\"colorbar\":{\"outlinewidth\":0,\"ticks\":\"\"}},\"type\":\"scattercarpet\"}],\"scattergeo\":[{\"marker\":{\"colorbar\":{\"outlinewidth\":0,\"ticks\":\"\"}},\"type\":\"scattergeo\"}],\"scattergl\":[{\"marker\":{\"colorbar\":{\"outlinewidth\":0,\"ticks\":\"\"}},\"type\":\"scattergl\"}],\"scattermapbox\":[{\"marker\":{\"colorbar\":{\"outlinewidth\":0,\"ticks\":\"\"}},\"type\":\"scattermapbox\"}],\"scatterpolar\":[{\"marker\":{\"colorbar\":{\"outlinewidth\":0,\"ticks\":\"\"}},\"type\":\"scatterpolar\"}],\"scatterpolargl\":[{\"marker\":{\"colorbar\":{\"outlinewidth\":0,\"ticks\":\"\"}},\"type\":\"scatterpolargl\"}],\"scatterternary\":[{\"marker\":{\"colorbar\":{\"outlinewidth\":0,\"ticks\":\"\"}},\"type\":\"scatterternary\"}],\"surface\":[{\"colorbar\":{\"outlinewidth\":0,\"ticks\":\"\"},\"colorscale\":[[0.0,\"#0d0887\"],[0.1111111111111111,\"#46039f\"],[0.2222222222222222,\"#7201a8\"],[0.3333333333333333,\"#9c179e\"],[0.4444444444444444,\"#bd3786\"],[0.5555555555555556,\"#d8576b\"],[0.6666666666666666,\"#ed7953\"],[0.7777777777777778,\"#fb9f3a\"],[0.8888888888888888,\"#fdca26\"],[1.0,\"#f0f921\"]],\"type\":\"surface\"}],\"table\":[{\"cells\":{\"fill\":{\"color\":\"#EBF0F8\"},\"line\":{\"color\":\"white\"}},\"header\":{\"fill\":{\"color\":\"#C8D4E3\"},\"line\":{\"color\":\"white\"}},\"type\":\"table\"}]},\"layout\":{\"annotationdefaults\":{\"arrowcolor\":\"#2a3f5f\",\"arrowhead\":0,\"arrowwidth\":1},\"autotypenumbers\":\"strict\",\"coloraxis\":{\"colorbar\":{\"outlinewidth\":0,\"ticks\":\"\"}},\"colorscale\":{\"diverging\":[[0,\"#8e0152\"],[0.1,\"#c51b7d\"],[0.2,\"#de77ae\"],[0.3,\"#f1b6da\"],[0.4,\"#fde0ef\"],[0.5,\"#f7f7f7\"],[0.6,\"#e6f5d0\"],[0.7,\"#b8e186\"],[0.8,\"#7fbc41\"],[0.9,\"#4d9221\"],[1,\"#276419\"]],\"sequential\":[[0.0,\"#0d0887\"],[0.1111111111111111,\"#46039f\"],[0.2222222222222222,\"#7201a8\"],[0.3333333333333333,\"#9c179e\"],[0.4444444444444444,\"#bd3786\"],[0.5555555555555556,\"#d8576b\"],[0.6666666666666666,\"#ed7953\"],[0.7777777777777778,\"#fb9f3a\"],[0.8888888888888888,\"#fdca26\"],[1.0,\"#f0f921\"]],\"sequentialminus\":[[0.0,\"#0d0887\"],[0.1111111111111111,\"#46039f\"],[0.2222222222222222,\"#7201a8\"],[0.3333333333333333,\"#9c179e\"],[0.4444444444444444,\"#bd3786\"],[0.5555555555555556,\"#d8576b\"],[0.6666666666666666,\"#ed7953\"],[0.7777777777777778,\"#fb9f3a\"],[0.8888888888888888,\"#fdca26\"],[1.0,\"#f0f921\"]]},\"colorway\":[\"#636efa\",\"#EF553B\",\"#00cc96\",\"#ab63fa\",\"#FFA15A\",\"#19d3f3\",\"#FF6692\",\"#B6E880\",\"#FF97FF\",\"#FECB52\"],\"font\":{\"color\":\"#2a3f5f\"},\"geo\":{\"bgcolor\":\"white\",\"lakecolor\":\"white\",\"landcolor\":\"#E5ECF6\",\"showlakes\":true,\"showland\":true,\"subunitcolor\":\"white\"},\"hoverlabel\":{\"align\":\"left\"},\"hovermode\":\"closest\",\"mapbox\":{\"style\":\"light\"},\"paper_bgcolor\":\"white\",\"plot_bgcolor\":\"#E5ECF6\",\"polar\":{\"angularaxis\":{\"gridcolor\":\"white\",\"linecolor\":\"white\",\"ticks\":\"\"},\"bgcolor\":\"#E5ECF6\",\"radialaxis\":{\"gridcolor\":\"white\",\"linecolor\":\"white\",\"ticks\":\"\"}},\"scene\":{\"xaxis\":{\"backgroundcolor\":\"#E5ECF6\",\"gridcolor\":\"white\",\"gridwidth\":2,\"linecolor\":\"white\",\"showbackground\":true,\"ticks\":\"\",\"zerolinecolor\":\"white\"},\"yaxis\":{\"backgroundcolor\":\"#E5ECF6\",\"gridcolor\":\"white\",\"gridwidth\":2,\"linecolor\":\"white\",\"showbackground\":true,\"ticks\":\"\",\"zerolinecolor\":\"white\"},\"zaxis\":{\"backgroundcolor\":\"#E5ECF6\",\"gridcolor\":\"white\",\"gridwidth\":2,\"linecolor\":\"white\",\"showbackground\":true,\"ticks\":\"\",\"zerolinecolor\":\"white\"}},\"shapedefaults\":{\"line\":{\"color\":\"#2a3f5f\"}},\"ternary\":{\"aaxis\":{\"gridcolor\":\"white\",\"linecolor\":\"white\",\"ticks\":\"\"},\"baxis\":{\"gridcolor\":\"white\",\"linecolor\":\"white\",\"ticks\":\"\"},\"bgcolor\":\"#E5ECF6\",\"caxis\":{\"gridcolor\":\"white\",\"linecolor\":\"white\",\"ticks\":\"\"}},\"title\":{\"x\":0.05},\"xaxis\":{\"automargin\":true,\"gridcolor\":\"white\",\"linecolor\":\"white\",\"ticks\":\"\",\"title\":{\"standoff\":15},\"zerolinecolor\":\"white\",\"zerolinewidth\":2},\"yaxis\":{\"automargin\":true,\"gridcolor\":\"white\",\"linecolor\":\"white\",\"ticks\":\"\",\"title\":{\"standoff\":15},\"zerolinecolor\":\"white\",\"zerolinewidth\":2}}},\"xaxis\":{\"anchor\":\"y\",\"domain\":[0.0,1.0],\"title\":{\"text\":\"x\"}},\"yaxis\":{\"anchor\":\"x\",\"domain\":[0.0,1.0],\"title\":{\"text\":\"y\"}}},                        {\"responsive\": true}                    ).then(function(){\n",
       "                            \n",
       "var gd = document.getElementById('6129f14a-ae61-43b6-bb0e-ad5218552e46');\n",
       "var x = new MutationObserver(function (mutations, observer) {{\n",
       "        var display = window.getComputedStyle(gd).display;\n",
       "        if (!display || display === 'none') {{\n",
       "            console.log([gd, 'removed!']);\n",
       "            Plotly.purge(gd);\n",
       "            observer.disconnect();\n",
       "        }}\n",
       "}});\n",
       "\n",
       "// Listen for the removal of the full notebook cells\n",
       "var notebookContainer = gd.closest('#notebook-container');\n",
       "if (notebookContainer) {{\n",
       "    x.observe(notebookContainer, {childList: true});\n",
       "}}\n",
       "\n",
       "// Listen for the clearing of the current output cell\n",
       "var outputEl = gd.closest('.output');\n",
       "if (outputEl) {{\n",
       "    x.observe(outputEl, {childList: true});\n",
       "}}\n",
       "\n",
       "                        })                };                });            </script>        </div>"
      ]
     },
     "metadata": {},
     "output_type": "display_data"
    }
   ],
   "source": [
    "df = prescriptions_ak_ky\n",
    "y = prescriptions_ak_ky[prescriptions_ak_ky[\"state\"] == \"AK\"][\"medication_perscribed\"] \n",
    "x = prescriptions_ak_ky[prescriptions_ak_ky[\"state\"] == \"AK\"][\"total_num_medications\"] \n",
    "fig = px.bar(df, x, y, orientation='h')\n",
    "fig.show()"
   ]
  },
  {
   "cell_type": "code",
   "execution_count": 1260,
   "metadata": {
    "ExecuteTime": {
     "end_time": "2021-07-03T19:08:43.750535Z",
     "start_time": "2021-07-03T19:08:43.724085Z"
    },
    "hidden": true
   },
   "outputs": [
    {
     "data": {
      "text/plain": [
       "669"
      ]
     },
     "execution_count": 1260,
     "metadata": {},
     "output_type": "execute_result"
    }
   ],
   "source": [
    "len(prescriptions_ak_ky[prescriptions_ak_ky[\"state\"] == \"AK\"][\"total_num_medications\"])"
   ]
  },
  {
   "cell_type": "markdown",
   "metadata": {
    "hidden": true
   },
   "source": [
    "Too many to plot effectively. Maybe top and bottom N?"
   ]
  }
 ],
 "metadata": {
  "kernelspec": {
   "display_name": "Python 3",
   "language": "python",
   "name": "python3"
  },
  "language_info": {
   "codemirror_mode": {
    "name": "ipython",
    "version": 3
   },
   "file_extension": ".py",
   "mimetype": "text/x-python",
   "name": "python",
   "nbconvert_exporter": "python",
   "pygments_lexer": "ipython3",
   "version": "3.8.8"
  },
  "toc": {
   "base_numbering": 1,
   "nav_menu": {},
   "number_sections": true,
   "sideBar": true,
   "skip_h1_title": true,
   "title_cell": "Table of Contents",
   "title_sidebar": "Contents",
   "toc_cell": false,
   "toc_position": {},
   "toc_section_display": true,
   "toc_window_display": false
  },
  "varInspector": {
   "cols": {
    "lenName": 16,
    "lenType": 16,
    "lenVar": 40
   },
   "kernels_config": {
    "python": {
     "delete_cmd_postfix": "",
     "delete_cmd_prefix": "del ",
     "library": "var_list.py",
     "varRefreshCmd": "print(var_dic_list())"
    },
    "r": {
     "delete_cmd_postfix": ") ",
     "delete_cmd_prefix": "rm(",
     "library": "var_list.r",
     "varRefreshCmd": "cat(var_dic_list()) "
    }
   },
   "types_to_exclude": [
    "module",
    "function",
    "builtin_function_or_method",
    "instance",
    "_Feature"
   ],
   "window_display": false
  }
 },
 "nbformat": 4,
 "nbformat_minor": 4
}
