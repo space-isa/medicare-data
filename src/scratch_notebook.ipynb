{
 "cells": [
  {
   "cell_type": "code",
   "execution_count": 1,
   "metadata": {
    "ExecuteTime": {
     "end_time": "2021-06-24T22:01:56.114970Z",
     "start_time": "2021-06-24T22:01:52.935404Z"
    }
   },
   "outputs": [],
   "source": [
    "from client_auth import create_client\n",
    "client = create_client()"
   ]
  },
  {
   "cell_type": "code",
   "execution_count": null,
   "metadata": {},
   "outputs": [],
   "source": []
  },
  {
   "cell_type": "code",
   "execution_count": 2,
   "metadata": {
    "ExecuteTime": {
     "end_time": "2021-06-25T22:21:38.070533Z",
     "start_time": "2021-06-25T22:21:37.633698Z"
    }
   },
   "outputs": [],
   "source": [
    "import pandas as pd"
   ]
  },
  {
   "cell_type": "code",
   "execution_count": 20,
   "metadata": {
    "ExecuteTime": {
     "end_time": "2021-06-25T22:53:21.114974Z",
     "start_time": "2021-06-25T22:53:21.027680Z"
    }
   },
   "outputs": [],
   "source": [
    "nst_est_data = pd.read_csv(\"../data/nst-est2014-01-cleaned.csv\", usecols=[\"State\",\"Abbrv.\",\n",
    "                                                                \"2011.0\",\"2012.0\",\"2013.0\",\"2014.0\"])\n",
    "\n",
    "nst_est_data.columns = [\"state\", \"abbrv\", \"2011\", \"2012\", \"2013\", \"2014\"]\n",
    "nst_est_data[\"state\"] = nst_est_data[\"state\"].str.replace(\".\", \"\")"
   ]
  },
  {
   "cell_type": "code",
   "execution_count": 21,
   "metadata": {
    "ExecuteTime": {
     "end_time": "2021-06-25T22:53:24.018135Z",
     "start_time": "2021-06-25T22:53:24.007198Z"
    }
   },
   "outputs": [
    {
     "name": "stdout",
     "output_type": "stream",
     "text": [
      "         state abbrv        2011        2012        2013        2014\n",
      "0     .Alabama    AL   4799069.0   4815588.0   4830081.0   4841799.0\n",
      "1      .Alaska    AK    722128.0    730443.0    737068.0    736283.0\n",
      "2     .Arizona    AZ   6472643.0   6554978.0   6632764.0   6730413.0\n",
      "3    .Arkansas    AR   2940667.0   2952164.0   2959400.0   2967392.0\n",
      "4  .California    CA  37638369.0  37948800.0  38260787.0  38596972.0\n"
     ]
    }
   ],
   "source": [
    "print(nst_est_data.head())"
   ]
  },
  {
   "cell_type": "code",
   "execution_count": 22,
   "metadata": {
    "ExecuteTime": {
     "end_time": "2021-06-25T22:55:01.840635Z",
     "start_time": "2021-06-25T22:55:01.752860Z"
    }
   },
   "outputs": [
    {
     "name": "stderr",
     "output_type": "stream",
     "text": [
      "<ipython-input-22-ef8a1a8dcde9>:1: FutureWarning: The default value of regex will change from True to False in a future version. In addition, single character regular expressions will*not* be treated as literal strings when regex=True.\n",
      "  nst_est_data[\"state\"] = nst_est_data[\"state\"].str.replace(\".\", \"\")\n"
     ]
    }
   ],
   "source": [
    "nst_est_data[\"state\"] = nst_est_data[\"state\"].str.replace(\".\", \"\")"
   ]
  },
  {
   "cell_type": "code",
   "execution_count": 24,
   "metadata": {
    "ExecuteTime": {
     "end_time": "2021-06-25T22:55:20.628724Z",
     "start_time": "2021-06-25T22:55:20.623107Z"
    }
   },
   "outputs": [
    {
     "name": "stdout",
     "output_type": "stream",
     "text": [
      "51\n"
     ]
    }
   ],
   "source": [
    "print(len(nst_est_data))"
   ]
  },
  {
   "cell_type": "code",
   "execution_count": 23,
   "metadata": {
    "ExecuteTime": {
     "end_time": "2021-06-25T22:55:14.519919Z",
     "start_time": "2021-06-25T22:55:14.504842Z"
    }
   },
   "outputs": [
    {
     "name": "stdout",
     "output_type": "stream",
     "text": [
      "            state abbrv        2011        2012        2013        2014\n",
      "41   South Dakota    SD    823579.0    833566.0    842316.0    849129.0\n",
      "42      Tennessee    TN   6399291.0   6453898.0   6494340.0   6541223.0\n",
      "43          Texas    TX  25645629.0  26084481.0  26480266.0  26964333.0\n",
      "44           Utah    UT   2814384.0   2853375.0   2897640.0   2936879.0\n",
      "45        Vermont    VT    627049.0    626090.0    626210.0    625214.0\n",
      "46       Virginia    VA   8101155.0   8185080.0   8252427.0   8310993.0\n",
      "47     Washington    WA   6826627.0   6897058.0   6963985.0   7054655.0\n",
      "48  West Virginia    WV   1856301.0   1856872.0   1853914.0   1849489.0\n",
      "49      Wisconsin    WI   5705288.0   5719960.0   5736754.0   5751525.0\n",
      "50        Wyoming    WY    567299.0    576305.0    582122.0    582531.0\n"
     ]
    }
   ],
   "source": [
    "print(nst_est_data.tail(10))"
   ]
  },
  {
   "cell_type": "code",
   "execution_count": 63,
   "metadata": {
    "ExecuteTime": {
     "end_time": "2021-06-26T03:41:20.637617Z",
     "start_time": "2021-06-26T03:41:20.033301Z"
    }
   },
   "outputs": [],
   "source": [
    "agg_pop_data = pd.read_csv(\"../data/sc-est2019-agesex-civ.csv\", usecols=[ \"STATE\", \"NAME\", \"SEX\", \"AGE\", \"POPEST2014_CIV\"])"
   ]
  },
  {
   "cell_type": "code",
   "execution_count": 64,
   "metadata": {
    "ExecuteTime": {
     "end_time": "2021-06-26T03:41:21.910242Z",
     "start_time": "2021-06-26T03:41:21.896327Z"
    }
   },
   "outputs": [
    {
     "data": {
      "text/html": [
       "<div>\n",
       "<style scoped>\n",
       "    .dataframe tbody tr th:only-of-type {\n",
       "        vertical-align: middle;\n",
       "    }\n",
       "\n",
       "    .dataframe tbody tr th {\n",
       "        vertical-align: top;\n",
       "    }\n",
       "\n",
       "    .dataframe thead th {\n",
       "        text-align: right;\n",
       "    }\n",
       "</style>\n",
       "<table border=\"1\" class=\"dataframe\">\n",
       "  <thead>\n",
       "    <tr style=\"text-align: right;\">\n",
       "      <th></th>\n",
       "      <th>STATE</th>\n",
       "      <th>NAME</th>\n",
       "      <th>SEX</th>\n",
       "      <th>AGE</th>\n",
       "      <th>POPEST2014_CIV</th>\n",
       "    </tr>\n",
       "  </thead>\n",
       "  <tbody>\n",
       "    <tr>\n",
       "      <th>0</th>\n",
       "      <td>0</td>\n",
       "      <td>United States</td>\n",
       "      <td>0</td>\n",
       "      <td>0</td>\n",
       "      <td>3954787</td>\n",
       "    </tr>\n",
       "    <tr>\n",
       "      <th>1</th>\n",
       "      <td>0</td>\n",
       "      <td>United States</td>\n",
       "      <td>0</td>\n",
       "      <td>1</td>\n",
       "      <td>3948891</td>\n",
       "    </tr>\n",
       "    <tr>\n",
       "      <th>2</th>\n",
       "      <td>0</td>\n",
       "      <td>United States</td>\n",
       "      <td>0</td>\n",
       "      <td>2</td>\n",
       "      <td>3958711</td>\n",
       "    </tr>\n",
       "    <tr>\n",
       "      <th>3</th>\n",
       "      <td>0</td>\n",
       "      <td>United States</td>\n",
       "      <td>0</td>\n",
       "      <td>3</td>\n",
       "      <td>4005928</td>\n",
       "    </tr>\n",
       "    <tr>\n",
       "      <th>4</th>\n",
       "      <td>0</td>\n",
       "      <td>United States</td>\n",
       "      <td>0</td>\n",
       "      <td>4</td>\n",
       "      <td>4004032</td>\n",
       "    </tr>\n",
       "  </tbody>\n",
       "</table>\n",
       "</div>"
      ],
      "text/plain": [
       "   STATE           NAME  SEX  AGE  POPEST2014_CIV\n",
       "0      0  United States    0    0         3954787\n",
       "1      0  United States    0    1         3948891\n",
       "2      0  United States    0    2         3958711\n",
       "3      0  United States    0    3         4005928\n",
       "4      0  United States    0    4         4004032"
      ]
     },
     "execution_count": 64,
     "metadata": {},
     "output_type": "execute_result"
    }
   ],
   "source": [
    "agg_pop_data.head()"
   ]
  },
  {
   "cell_type": "code",
   "execution_count": 65,
   "metadata": {
    "ExecuteTime": {
     "end_time": "2021-06-26T03:41:26.999636Z",
     "start_time": "2021-06-26T03:41:26.992518Z"
    }
   },
   "outputs": [
    {
     "name": "stdout",
     "output_type": "stream",
     "text": [
      "13572\n"
     ]
    }
   ],
   "source": [
    "print(len(agg_pop_data))"
   ]
  },
  {
   "cell_type": "code",
   "execution_count": 81,
   "metadata": {
    "ExecuteTime": {
     "end_time": "2021-06-26T03:51:02.566533Z",
     "start_time": "2021-06-26T03:51:02.526745Z"
    }
   },
   "outputs": [],
   "source": [
    "agg_65 = agg_pop_data[ (agg_pop_data[\"AGE\"] >= 65) &  (agg_pop_data[\"AGE\"] < 999) ] "
   ]
  },
  {
   "cell_type": "code",
   "execution_count": 82,
   "metadata": {
    "ExecuteTime": {
     "end_time": "2021-06-26T03:51:03.962613Z",
     "start_time": "2021-06-26T03:51:03.956898Z"
    }
   },
   "outputs": [],
   "source": [
    "agg_65_al = agg_65[agg_65[\"NAME\"] == \"Alabama\"]"
   ]
  },
  {
   "cell_type": "code",
   "execution_count": 68,
   "metadata": {
    "ExecuteTime": {
     "end_time": "2021-06-26T03:41:38.777516Z",
     "start_time": "2021-06-26T03:41:38.772108Z"
    }
   },
   "outputs": [
    {
     "name": "stdout",
     "output_type": "stream",
     "text": [
      "60\n"
     ]
    }
   ],
   "source": [
    "print(len(agg_65_al))"
   ]
  },
  {
   "cell_type": "code",
   "execution_count": 83,
   "metadata": {
    "ExecuteTime": {
     "end_time": "2021-06-26T03:51:05.366094Z",
     "start_time": "2021-06-26T03:51:05.344423Z"
    }
   },
   "outputs": [
    {
     "data": {
      "text/html": [
       "<div>\n",
       "<style scoped>\n",
       "    .dataframe tbody tr th:only-of-type {\n",
       "        vertical-align: middle;\n",
       "    }\n",
       "\n",
       "    .dataframe tbody tr th {\n",
       "        vertical-align: top;\n",
       "    }\n",
       "\n",
       "    .dataframe thead th {\n",
       "        text-align: right;\n",
       "    }\n",
       "</style>\n",
       "<table border=\"1\" class=\"dataframe\">\n",
       "  <thead>\n",
       "    <tr style=\"text-align: right;\">\n",
       "      <th></th>\n",
       "      <th>STATE</th>\n",
       "      <th>NAME</th>\n",
       "      <th>SEX</th>\n",
       "      <th>AGE</th>\n",
       "      <th>POPEST2014_CIV</th>\n",
       "    </tr>\n",
       "  </thead>\n",
       "  <tbody>\n",
       "    <tr>\n",
       "      <th>326</th>\n",
       "      <td>1</td>\n",
       "      <td>Alabama</td>\n",
       "      <td>0</td>\n",
       "      <td>65</td>\n",
       "      <td>54995</td>\n",
       "    </tr>\n",
       "    <tr>\n",
       "      <th>327</th>\n",
       "      <td>1</td>\n",
       "      <td>Alabama</td>\n",
       "      <td>0</td>\n",
       "      <td>66</td>\n",
       "      <td>54848</td>\n",
       "    </tr>\n",
       "    <tr>\n",
       "      <th>328</th>\n",
       "      <td>1</td>\n",
       "      <td>Alabama</td>\n",
       "      <td>0</td>\n",
       "      <td>67</td>\n",
       "      <td>56873</td>\n",
       "    </tr>\n",
       "    <tr>\n",
       "      <th>329</th>\n",
       "      <td>1</td>\n",
       "      <td>Alabama</td>\n",
       "      <td>0</td>\n",
       "      <td>68</td>\n",
       "      <td>41763</td>\n",
       "    </tr>\n",
       "    <tr>\n",
       "      <th>330</th>\n",
       "      <td>1</td>\n",
       "      <td>Alabama</td>\n",
       "      <td>0</td>\n",
       "      <td>69</td>\n",
       "      <td>41638</td>\n",
       "    </tr>\n",
       "    <tr>\n",
       "      <th>...</th>\n",
       "      <td>...</td>\n",
       "      <td>...</td>\n",
       "      <td>...</td>\n",
       "      <td>...</td>\n",
       "      <td>...</td>\n",
       "    </tr>\n",
       "    <tr>\n",
       "      <th>516</th>\n",
       "      <td>1</td>\n",
       "      <td>Alabama</td>\n",
       "      <td>2</td>\n",
       "      <td>81</td>\n",
       "      <td>11471</td>\n",
       "    </tr>\n",
       "    <tr>\n",
       "      <th>517</th>\n",
       "      <td>1</td>\n",
       "      <td>Alabama</td>\n",
       "      <td>2</td>\n",
       "      <td>82</td>\n",
       "      <td>10915</td>\n",
       "    </tr>\n",
       "    <tr>\n",
       "      <th>518</th>\n",
       "      <td>1</td>\n",
       "      <td>Alabama</td>\n",
       "      <td>2</td>\n",
       "      <td>83</td>\n",
       "      <td>10360</td>\n",
       "    </tr>\n",
       "    <tr>\n",
       "      <th>519</th>\n",
       "      <td>1</td>\n",
       "      <td>Alabama</td>\n",
       "      <td>2</td>\n",
       "      <td>84</td>\n",
       "      <td>9816</td>\n",
       "    </tr>\n",
       "    <tr>\n",
       "      <th>520</th>\n",
       "      <td>1</td>\n",
       "      <td>Alabama</td>\n",
       "      <td>2</td>\n",
       "      <td>85</td>\n",
       "      <td>56858</td>\n",
       "    </tr>\n",
       "  </tbody>\n",
       "</table>\n",
       "<p>63 rows × 5 columns</p>\n",
       "</div>"
      ],
      "text/plain": [
       "     STATE     NAME  SEX  AGE  POPEST2014_CIV\n",
       "326      1  Alabama    0   65           54995\n",
       "327      1  Alabama    0   66           54848\n",
       "328      1  Alabama    0   67           56873\n",
       "329      1  Alabama    0   68           41763\n",
       "330      1  Alabama    0   69           41638\n",
       "..     ...      ...  ...  ...             ...\n",
       "516      1  Alabama    2   81           11471\n",
       "517      1  Alabama    2   82           10915\n",
       "518      1  Alabama    2   83           10360\n",
       "519      1  Alabama    2   84            9816\n",
       "520      1  Alabama    2   85           56858\n",
       "\n",
       "[63 rows x 5 columns]"
      ]
     },
     "execution_count": 83,
     "metadata": {},
     "output_type": "execute_result"
    }
   ],
   "source": [
    "agg_65_al"
   ]
  },
  {
   "cell_type": "code",
   "execution_count": 86,
   "metadata": {
    "ExecuteTime": {
     "end_time": "2021-06-26T03:57:08.525507Z",
     "start_time": "2021-06-26T03:57:08.518880Z"
    }
   },
   "outputs": [],
   "source": [
    "pop_65_plus_AL = agg_65_al[\"POPEST2014_CIV\"].sum()"
   ]
  },
  {
   "cell_type": "code",
   "execution_count": 87,
   "metadata": {
    "ExecuteTime": {
     "end_time": "2021-06-26T03:57:12.103257Z",
     "start_time": "2021-06-26T03:57:12.094465Z"
    }
   },
   "outputs": [
    {
     "data": {
      "text/plain": [
       "1483632"
      ]
     },
     "execution_count": 87,
     "metadata": {},
     "output_type": "execute_result"
    }
   ],
   "source": [
    "pop_65_plus_AL"
   ]
  },
  {
   "cell_type": "code",
   "execution_count": 77,
   "metadata": {
    "ExecuteTime": {
     "end_time": "2021-06-26T03:47:39.599260Z",
     "start_time": "2021-06-26T03:47:39.576008Z"
    }
   },
   "outputs": [],
   "source": [
    "dict_pop_65 = {\"Alabama\": \"AL\", \"\"}"
   ]
  },
  {
   "cell_type": "code",
   "execution_count": 80,
   "metadata": {
    "ExecuteTime": {
     "end_time": "2021-06-26T03:48:05.203321Z",
     "start_time": "2021-06-26T03:48:05.198333Z"
    }
   },
   "outputs": [
    {
     "name": "stdout",
     "output_type": "stream",
     "text": [
      "Alabama\n"
     ]
    }
   ],
   "source": [
    "for key, val in dict_pop_65.items():\n",
    "    print(key)"
   ]
  },
  {
   "cell_type": "code",
   "execution_count": 103,
   "metadata": {
    "ExecuteTime": {
     "end_time": "2021-06-26T04:05:19.459028Z",
     "start_time": "2021-06-26T04:05:19.432519Z"
    }
   },
   "outputs": [],
   "source": [
    "states =  list(set(df['NAME']))\n",
    "states.sort()"
   ]
  },
  {
   "cell_type": "code",
   "execution_count": 119,
   "metadata": {
    "ExecuteTime": {
     "end_time": "2021-06-26T04:30:00.485552Z",
     "start_time": "2021-06-26T04:30:00.470314Z"
    }
   },
   "outputs": [],
   "source": [
    "us_state_abbrev = {\n",
    "    'Alabama': 'AL',\n",
    "    'Alaska': 'AK',\n",
    "    'Arizona': 'AZ',\n",
    "    'Arkansas': 'AR',\n",
    "    'California': 'CA',\n",
    "    'Colorado': 'CO',\n",
    "    'Connecticut': 'CT',\n",
    "    'Delaware': 'DE',\n",
    "    'District of Columbia': 'DC',\n",
    "    'Florida': 'FL',\n",
    "    'Georgia': 'GA',\n",
    "    'Hawaii': 'HI',\n",
    "    'Idaho': 'ID',\n",
    "    'Illinois': 'IL',\n",
    "    'Indiana': 'IN',\n",
    "    'Iowa': 'IA',\n",
    "    'Kansas': 'KS',\n",
    "    'Kentucky': 'KY',\n",
    "    'Louisiana': 'LA',\n",
    "    'Maine': 'ME',\n",
    "    'Maryland': 'MD',\n",
    "    'Massachusetts': 'MA',\n",
    "    'Michigan': 'MI',\n",
    "    'Minnesota': 'MN',\n",
    "    'Mississippi': 'MS',\n",
    "    'Missouri': 'MO',\n",
    "    'Montana': 'MT',\n",
    "    'Nebraska': 'NE',\n",
    "    'Nevada': 'NV',\n",
    "    'New Hampshire': 'NH',\n",
    "    'New Jersey': 'NJ',\n",
    "    'New Mexico': 'NM',\n",
    "    'New York': 'NY',\n",
    "    'North Carolina': 'NC',\n",
    "    'North Dakota': 'ND',\n",
    "    'Ohio': 'OH',\n",
    "    'Oklahoma': 'OK',\n",
    "    'Oregon': 'OR',\n",
    "    'Pennsylvania': 'PA',\n",
    "    'Rhode Island': 'RI',\n",
    "    'South Carolina': 'SC',\n",
    "    'South Dakota': 'SD',\n",
    "    'Tennessee': 'TN',\n",
    "    'Texas': 'TX',\n",
    "    'Utah': 'UT',\n",
    "    'Vermont': 'VT',\n",
    "    'Virginia': 'VA',\n",
    "    'Washington': 'WA',\n",
    "    'West Virginia': 'WV',\n",
    "    'Wisconsin': 'WI',\n",
    "    'Wyoming': 'WY'\n",
    "}\n",
    "\n",
    "abbrev_us_state = dict(map(reversed, us_state_abbrev.items()))"
   ]
  },
  {
   "cell_type": "code",
   "execution_count": 120,
   "metadata": {
    "ExecuteTime": {
     "end_time": "2021-06-26T04:30:03.192106Z",
     "start_time": "2021-06-26T04:30:03.186950Z"
    }
   },
   "outputs": [],
   "source": [
    "abbrev_us_state = dict(map(reversed, us_state_abbrev.items()))"
   ]
  },
  {
   "cell_type": "code",
   "execution_count": 136,
   "metadata": {
    "ExecuteTime": {
     "end_time": "2021-06-27T04:09:09.167764Z",
     "start_time": "2021-06-27T04:09:08.547959Z"
    }
   },
   "outputs": [],
   "source": [
    "df = agg_65\n",
    "states =  list(set(df['NAME']))\n",
    "states.sort()\n",
    "my_dict = {}\n",
    "for key, val in abbrev_us_state.items():\n",
    "    my_dict[val] = {\"state\": key, \"pop_over_65\": df.where(df['NAME'] == val)['POPEST2014_CIV'].sum()}"
   ]
  },
  {
   "cell_type": "code",
   "execution_count": 137,
   "metadata": {
    "ExecuteTime": {
     "end_time": "2021-06-27T04:09:12.341914Z",
     "start_time": "2021-06-27T04:09:12.333750Z"
    }
   },
   "outputs": [],
   "source": [
    "new_df = pd.DataFrame.from_dict(my_dict, orient='index')"
   ]
  },
  {
   "cell_type": "code",
   "execution_count": 138,
   "metadata": {
    "ExecuteTime": {
     "end_time": "2021-06-27T04:09:14.693400Z",
     "start_time": "2021-06-27T04:09:14.669966Z"
    }
   },
   "outputs": [
    {
     "data": {
      "text/html": [
       "<div>\n",
       "<style scoped>\n",
       "    .dataframe tbody tr th:only-of-type {\n",
       "        vertical-align: middle;\n",
       "    }\n",
       "\n",
       "    .dataframe tbody tr th {\n",
       "        vertical-align: top;\n",
       "    }\n",
       "\n",
       "    .dataframe thead th {\n",
       "        text-align: right;\n",
       "    }\n",
       "</style>\n",
       "<table border=\"1\" class=\"dataframe\">\n",
       "  <thead>\n",
       "    <tr style=\"text-align: right;\">\n",
       "      <th></th>\n",
       "      <th>index</th>\n",
       "      <th>state</th>\n",
       "      <th>pop_over_65</th>\n",
       "    </tr>\n",
       "  </thead>\n",
       "  <tbody>\n",
       "    <tr>\n",
       "      <th>0</th>\n",
       "      <td>Alabama</td>\n",
       "      <td>AL</td>\n",
       "      <td>1483632.0</td>\n",
       "    </tr>\n",
       "    <tr>\n",
       "      <th>1</th>\n",
       "      <td>Alaska</td>\n",
       "      <td>AK</td>\n",
       "      <td>139788.0</td>\n",
       "    </tr>\n",
       "    <tr>\n",
       "      <th>2</th>\n",
       "      <td>Arizona</td>\n",
       "      <td>AZ</td>\n",
       "      <td>2119908.0</td>\n",
       "    </tr>\n",
       "    <tr>\n",
       "      <th>3</th>\n",
       "      <td>Arkansas</td>\n",
       "      <td>AR</td>\n",
       "      <td>931030.0</td>\n",
       "    </tr>\n",
       "    <tr>\n",
       "      <th>4</th>\n",
       "      <td>California</td>\n",
       "      <td>CA</td>\n",
       "      <td>9901612.0</td>\n",
       "    </tr>\n",
       "    <tr>\n",
       "      <th>5</th>\n",
       "      <td>Colorado</td>\n",
       "      <td>CO</td>\n",
       "      <td>1351320.0</td>\n",
       "    </tr>\n",
       "    <tr>\n",
       "      <th>6</th>\n",
       "      <td>Connecticut</td>\n",
       "      <td>CT</td>\n",
       "      <td>1126020.0</td>\n",
       "    </tr>\n",
       "    <tr>\n",
       "      <th>7</th>\n",
       "      <td>Delaware</td>\n",
       "      <td>DE</td>\n",
       "      <td>307898.0</td>\n",
       "    </tr>\n",
       "    <tr>\n",
       "      <th>8</th>\n",
       "      <td>District of Columbia</td>\n",
       "      <td>DC</td>\n",
       "      <td>154688.0</td>\n",
       "    </tr>\n",
       "    <tr>\n",
       "      <th>9</th>\n",
       "      <td>Florida</td>\n",
       "      <td>FL</td>\n",
       "      <td>7541094.0</td>\n",
       "    </tr>\n",
       "    <tr>\n",
       "      <th>10</th>\n",
       "      <td>Georgia</td>\n",
       "      <td>GA</td>\n",
       "      <td>2496226.0</td>\n",
       "    </tr>\n",
       "    <tr>\n",
       "      <th>11</th>\n",
       "      <td>Hawaii</td>\n",
       "      <td>HI</td>\n",
       "      <td>459462.0</td>\n",
       "    </tr>\n",
       "    <tr>\n",
       "      <th>12</th>\n",
       "      <td>Idaho</td>\n",
       "      <td>ID</td>\n",
       "      <td>462876.0</td>\n",
       "    </tr>\n",
       "    <tr>\n",
       "      <th>13</th>\n",
       "      <td>Illinois</td>\n",
       "      <td>IL</td>\n",
       "      <td>3598466.0</td>\n",
       "    </tr>\n",
       "    <tr>\n",
       "      <th>14</th>\n",
       "      <td>Indiana</td>\n",
       "      <td>IN</td>\n",
       "      <td>1883658.0</td>\n",
       "    </tr>\n",
       "    <tr>\n",
       "      <th>15</th>\n",
       "      <td>Iowa</td>\n",
       "      <td>IA</td>\n",
       "      <td>979276.0</td>\n",
       "    </tr>\n",
       "    <tr>\n",
       "      <th>16</th>\n",
       "      <td>Kansas</td>\n",
       "      <td>KS</td>\n",
       "      <td>829208.0</td>\n",
       "    </tr>\n",
       "    <tr>\n",
       "      <th>17</th>\n",
       "      <td>Kentucky</td>\n",
       "      <td>KY</td>\n",
       "      <td>1309084.0</td>\n",
       "    </tr>\n",
       "    <tr>\n",
       "      <th>18</th>\n",
       "      <td>Louisiana</td>\n",
       "      <td>LA</td>\n",
       "      <td>1268788.0</td>\n",
       "    </tr>\n",
       "    <tr>\n",
       "      <th>19</th>\n",
       "      <td>Maine</td>\n",
       "      <td>ME</td>\n",
       "      <td>486384.0</td>\n",
       "    </tr>\n",
       "    <tr>\n",
       "      <th>20</th>\n",
       "      <td>Maryland</td>\n",
       "      <td>MD</td>\n",
       "      <td>1643450.0</td>\n",
       "    </tr>\n",
       "    <tr>\n",
       "      <th>21</th>\n",
       "      <td>Massachusetts</td>\n",
       "      <td>MA</td>\n",
       "      <td>2041242.0</td>\n",
       "    </tr>\n",
       "    <tr>\n",
       "      <th>22</th>\n",
       "      <td>Michigan</td>\n",
       "      <td>MI</td>\n",
       "      <td>3062432.0</td>\n",
       "    </tr>\n",
       "    <tr>\n",
       "      <th>23</th>\n",
       "      <td>Minnesota</td>\n",
       "      <td>MN</td>\n",
       "      <td>1555052.0</td>\n",
       "    </tr>\n",
       "    <tr>\n",
       "      <th>24</th>\n",
       "      <td>Mississippi</td>\n",
       "      <td>MS</td>\n",
       "      <td>852344.0</td>\n",
       "    </tr>\n",
       "    <tr>\n",
       "      <th>25</th>\n",
       "      <td>Missouri</td>\n",
       "      <td>MO</td>\n",
       "      <td>1865118.0</td>\n",
       "    </tr>\n",
       "    <tr>\n",
       "      <th>26</th>\n",
       "      <td>Montana</td>\n",
       "      <td>MT</td>\n",
       "      <td>339170.0</td>\n",
       "    </tr>\n",
       "    <tr>\n",
       "      <th>27</th>\n",
       "      <td>Nebraska</td>\n",
       "      <td>NE</td>\n",
       "      <td>541634.0</td>\n",
       "    </tr>\n",
       "    <tr>\n",
       "      <th>28</th>\n",
       "      <td>Nevada</td>\n",
       "      <td>NV</td>\n",
       "      <td>800082.0</td>\n",
       "    </tr>\n",
       "    <tr>\n",
       "      <th>29</th>\n",
       "      <td>New Hampshire</td>\n",
       "      <td>NH</td>\n",
       "      <td>424514.0</td>\n",
       "    </tr>\n",
       "    <tr>\n",
       "      <th>30</th>\n",
       "      <td>New Jersey</td>\n",
       "      <td>NJ</td>\n",
       "      <td>2634936.0</td>\n",
       "    </tr>\n",
       "    <tr>\n",
       "      <th>31</th>\n",
       "      <td>New Mexico</td>\n",
       "      <td>NM</td>\n",
       "      <td>634530.0</td>\n",
       "    </tr>\n",
       "    <tr>\n",
       "      <th>32</th>\n",
       "      <td>New York</td>\n",
       "      <td>NY</td>\n",
       "      <td>5847456.0</td>\n",
       "    </tr>\n",
       "    <tr>\n",
       "      <th>33</th>\n",
       "      <td>North Carolina</td>\n",
       "      <td>NC</td>\n",
       "      <td>2917798.0</td>\n",
       "    </tr>\n",
       "    <tr>\n",
       "      <th>34</th>\n",
       "      <td>North Dakota</td>\n",
       "      <td>ND</td>\n",
       "      <td>209268.0</td>\n",
       "    </tr>\n",
       "    <tr>\n",
       "      <th>35</th>\n",
       "      <td>Ohio</td>\n",
       "      <td>OH</td>\n",
       "      <td>3599996.0</td>\n",
       "    </tr>\n",
       "    <tr>\n",
       "      <th>36</th>\n",
       "      <td>Oklahoma</td>\n",
       "      <td>OK</td>\n",
       "      <td>1122272.0</td>\n",
       "    </tr>\n",
       "    <tr>\n",
       "      <th>37</th>\n",
       "      <td>Oregon</td>\n",
       "      <td>OR</td>\n",
       "      <td>1255770.0</td>\n",
       "    </tr>\n",
       "    <tr>\n",
       "      <th>38</th>\n",
       "      <td>Pennsylvania</td>\n",
       "      <td>PA</td>\n",
       "      <td>4269486.0</td>\n",
       "    </tr>\n",
       "    <tr>\n",
       "      <th>39</th>\n",
       "      <td>Rhode Island</td>\n",
       "      <td>RI</td>\n",
       "      <td>333120.0</td>\n",
       "    </tr>\n",
       "    <tr>\n",
       "      <th>40</th>\n",
       "      <td>South Carolina</td>\n",
       "      <td>SC</td>\n",
       "      <td>1521742.0</td>\n",
       "    </tr>\n",
       "    <tr>\n",
       "      <th>41</th>\n",
       "      <td>South Dakota</td>\n",
       "      <td>SD</td>\n",
       "      <td>256652.0</td>\n",
       "    </tr>\n",
       "    <tr>\n",
       "      <th>42</th>\n",
       "      <td>Tennessee</td>\n",
       "      <td>TN</td>\n",
       "      <td>1965944.0</td>\n",
       "    </tr>\n",
       "    <tr>\n",
       "      <th>43</th>\n",
       "      <td>Texas</td>\n",
       "      <td>TX</td>\n",
       "      <td>6159630.0</td>\n",
       "    </tr>\n",
       "    <tr>\n",
       "      <th>44</th>\n",
       "      <td>Utah</td>\n",
       "      <td>UT</td>\n",
       "      <td>588272.0</td>\n",
       "    </tr>\n",
       "    <tr>\n",
       "      <th>45</th>\n",
       "      <td>Vermont</td>\n",
       "      <td>VT</td>\n",
       "      <td>211278.0</td>\n",
       "    </tr>\n",
       "    <tr>\n",
       "      <th>46</th>\n",
       "      <td>Virginia</td>\n",
       "      <td>VA</td>\n",
       "      <td>2295844.0</td>\n",
       "    </tr>\n",
       "    <tr>\n",
       "      <th>47</th>\n",
       "      <td>Washington</td>\n",
       "      <td>WA</td>\n",
       "      <td>1971316.0</td>\n",
       "    </tr>\n",
       "    <tr>\n",
       "      <th>48</th>\n",
       "      <td>West Virginia</td>\n",
       "      <td>WV</td>\n",
       "      <td>658602.0</td>\n",
       "    </tr>\n",
       "    <tr>\n",
       "      <th>49</th>\n",
       "      <td>Wisconsin</td>\n",
       "      <td>WI</td>\n",
       "      <td>1740752.0</td>\n",
       "    </tr>\n",
       "    <tr>\n",
       "      <th>50</th>\n",
       "      <td>Wyoming</td>\n",
       "      <td>WY</td>\n",
       "      <td>163912.0</td>\n",
       "    </tr>\n",
       "  </tbody>\n",
       "</table>\n",
       "</div>"
      ],
      "text/plain": [
       "                   index state  pop_over_65\n",
       "0                Alabama    AL    1483632.0\n",
       "1                 Alaska    AK     139788.0\n",
       "2                Arizona    AZ    2119908.0\n",
       "3               Arkansas    AR     931030.0\n",
       "4             California    CA    9901612.0\n",
       "5               Colorado    CO    1351320.0\n",
       "6            Connecticut    CT    1126020.0\n",
       "7               Delaware    DE     307898.0\n",
       "8   District of Columbia    DC     154688.0\n",
       "9                Florida    FL    7541094.0\n",
       "10               Georgia    GA    2496226.0\n",
       "11                Hawaii    HI     459462.0\n",
       "12                 Idaho    ID     462876.0\n",
       "13              Illinois    IL    3598466.0\n",
       "14               Indiana    IN    1883658.0\n",
       "15                  Iowa    IA     979276.0\n",
       "16                Kansas    KS     829208.0\n",
       "17              Kentucky    KY    1309084.0\n",
       "18             Louisiana    LA    1268788.0\n",
       "19                 Maine    ME     486384.0\n",
       "20              Maryland    MD    1643450.0\n",
       "21         Massachusetts    MA    2041242.0\n",
       "22              Michigan    MI    3062432.0\n",
       "23             Minnesota    MN    1555052.0\n",
       "24           Mississippi    MS     852344.0\n",
       "25              Missouri    MO    1865118.0\n",
       "26               Montana    MT     339170.0\n",
       "27              Nebraska    NE     541634.0\n",
       "28                Nevada    NV     800082.0\n",
       "29         New Hampshire    NH     424514.0\n",
       "30            New Jersey    NJ    2634936.0\n",
       "31            New Mexico    NM     634530.0\n",
       "32              New York    NY    5847456.0\n",
       "33        North Carolina    NC    2917798.0\n",
       "34          North Dakota    ND     209268.0\n",
       "35                  Ohio    OH    3599996.0\n",
       "36              Oklahoma    OK    1122272.0\n",
       "37                Oregon    OR    1255770.0\n",
       "38          Pennsylvania    PA    4269486.0\n",
       "39          Rhode Island    RI     333120.0\n",
       "40        South Carolina    SC    1521742.0\n",
       "41          South Dakota    SD     256652.0\n",
       "42             Tennessee    TN    1965944.0\n",
       "43                 Texas    TX    6159630.0\n",
       "44                  Utah    UT     588272.0\n",
       "45               Vermont    VT     211278.0\n",
       "46              Virginia    VA    2295844.0\n",
       "47            Washington    WA    1971316.0\n",
       "48         West Virginia    WV     658602.0\n",
       "49             Wisconsin    WI    1740752.0\n",
       "50               Wyoming    WY     163912.0"
      ]
     },
     "execution_count": 138,
     "metadata": {},
     "output_type": "execute_result"
    }
   ],
   "source": [
    "new_df.reset_index()"
   ]
  },
  {
   "cell_type": "code",
   "execution_count": 132,
   "metadata": {
    "ExecuteTime": {
     "end_time": "2021-06-27T02:37:08.734170Z",
     "start_time": "2021-06-27T02:37:08.717596Z"
    }
   },
   "outputs": [
    {
     "data": {
      "text/plain": [
       "state                AL\n",
       "pop_over_65    163912.0\n",
       "Name: Alabama, dtype: object"
      ]
     },
     "execution_count": 132,
     "metadata": {},
     "output_type": "execute_result"
    }
   ],
   "source": [
    "new_df.iloc[0]"
   ]
  },
  {
   "cell_type": "code",
   "execution_count": 154,
   "metadata": {
    "ExecuteTime": {
     "end_time": "2021-06-30T18:10:55.016532Z",
     "start_time": "2021-06-30T18:10:54.901062Z"
    }
   },
   "outputs": [
    {
     "data": {
      "text/plain": [
       "['Postal Code', 'Poverty Estimate, All Ages', 'Median Household Income']"
      ]
     },
     "execution_count": 154,
     "metadata": {},
     "output_type": "execute_result"
    }
   ],
   "source": [
    "poverty_data = pd.read_csv(\"../data/csv/est14us.csv\", usecols=['Postal Code', 'Poverty Estimate, All Ages', \n",
    "                                                                                                                   'Median Household Income'])\n",
    "list(poverty_data.columns.values)"
   ]
  },
  {
   "cell_type": "code",
   "execution_count": 155,
   "metadata": {
    "ExecuteTime": {
     "end_time": "2021-06-30T18:11:19.844269Z",
     "start_time": "2021-06-30T18:11:19.777628Z"
    }
   },
   "outputs": [
    {
     "data": {
      "text/html": [
       "<div>\n",
       "<style scoped>\n",
       "    .dataframe tbody tr th:only-of-type {\n",
       "        vertical-align: middle;\n",
       "    }\n",
       "\n",
       "    .dataframe tbody tr th {\n",
       "        vertical-align: top;\n",
       "    }\n",
       "\n",
       "    .dataframe thead th {\n",
       "        text-align: right;\n",
       "    }\n",
       "</style>\n",
       "<table border=\"1\" class=\"dataframe\">\n",
       "  <thead>\n",
       "    <tr style=\"text-align: right;\">\n",
       "      <th></th>\n",
       "      <th>Postal Code</th>\n",
       "      <th>Poverty Estimate, All Ages</th>\n",
       "      <th>Median Household Income</th>\n",
       "    </tr>\n",
       "  </thead>\n",
       "  <tbody>\n",
       "    <tr>\n",
       "      <th>0</th>\n",
       "      <td>US</td>\n",
       "      <td>48208387.0</td>\n",
       "      <td>53657.0</td>\n",
       "    </tr>\n",
       "    <tr>\n",
       "      <th>1</th>\n",
       "      <td>AL</td>\n",
       "      <td>905682.0</td>\n",
       "      <td>42917.0</td>\n",
       "    </tr>\n",
       "    <tr>\n",
       "      <th>2</th>\n",
       "      <td>AK</td>\n",
       "      <td>81622.0</td>\n",
       "      <td>70898.0</td>\n",
       "    </tr>\n",
       "    <tr>\n",
       "      <th>3</th>\n",
       "      <td>AZ</td>\n",
       "      <td>1195889.0</td>\n",
       "      <td>50036.0</td>\n",
       "    </tr>\n",
       "    <tr>\n",
       "      <th>4</th>\n",
       "      <td>AR</td>\n",
       "      <td>539999.0</td>\n",
       "      <td>41335.0</td>\n",
       "    </tr>\n",
       "  </tbody>\n",
       "</table>\n",
       "</div>"
      ],
      "text/plain": [
       "  Postal Code  Poverty Estimate, All Ages  Median Household Income\n",
       "0          US                  48208387.0                  53657.0\n",
       "1          AL                    905682.0                  42917.0\n",
       "2          AK                     81622.0                  70898.0\n",
       "3          AZ                   1195889.0                  50036.0\n",
       "4          AR                    539999.0                  41335.0"
      ]
     },
     "execution_count": 155,
     "metadata": {},
     "output_type": "execute_result"
    }
   ],
   "source": [
    "poverty_data.head()\n"
   ]
  },
  {
   "cell_type": "code",
   "execution_count": 158,
   "metadata": {
    "ExecuteTime": {
     "end_time": "2021-06-30T18:46:22.391173Z",
     "start_time": "2021-06-30T18:45:33.482038Z"
    }
   },
   "outputs": [
    {
     "name": "stdout",
     "output_type": "stream",
     "text": [
      "Collecting geopandas\n",
      "  Downloading geopandas-0.9.0-py2.py3-none-any.whl (994 kB)\n",
      "\u001b[K     |████████████████████████████████| 994 kB 1.7 MB/s eta 0:00:01\n",
      "\u001b[?25hCollecting splot\n",
      "  Downloading splot-1.1.3.tar.gz (34 kB)\n",
      "Collecting shapely>=1.6\n",
      "  Using cached Shapely-1.7.1-cp38-cp38-macosx_10_9_x86_64.whl (1.0 MB)\n",
      "Collecting fiona>=1.8\n",
      "  Downloading Fiona-1.8.20-cp38-cp38-macosx_10_9_x86_64.whl (19.3 MB)\n",
      "\u001b[K     |████████████████████████████████| 19.3 MB 1.6 MB/s eta 0:00:01    |███▊                            | 2.2 MB 1.1 MB/s eta 0:00:16     |█████▌                          | 3.3 MB 1.2 MB/s eta 0:00:13     |███████                         | 4.2 MB 1.2 MB/s eta 0:00:13     |███████████▉                    | 7.1 MB 1.3 MB/s eta 0:00:10     |████████████▍                   | 7.5 MB 1.3 MB/s eta 0:00:09     |████████████████▌               | 9.9 MB 1.5 MB/s eta 0:00:07\n",
      "\u001b[?25hRequirement already satisfied: pandas>=0.24.0 in /Users/Isabel/opt/anaconda3/lib/python3.8/site-packages (from geopandas) (1.2.4)\n",
      "Collecting pyproj>=2.2.0\n",
      "  Downloading pyproj-3.1.0-cp38-cp38-macosx_10_9_x86_64.whl (7.6 MB)\n",
      "\u001b[K     |████████████████████████████████| 7.6 MB 1.8 MB/s eta 0:00:01     |█████████████████▎              | 4.1 MB 1.4 MB/s eta 0:00:03\n",
      "\u001b[?25hCollecting munch\n",
      "  Using cached munch-2.5.0-py2.py3-none-any.whl (10 kB)\n",
      "Requirement already satisfied: certifi in /Users/Isabel/opt/anaconda3/lib/python3.8/site-packages (from fiona>=1.8->geopandas) (2020.12.5)\n",
      "Requirement already satisfied: setuptools in /Users/Isabel/opt/anaconda3/lib/python3.8/site-packages (from fiona>=1.8->geopandas) (52.0.0.post20210125)\n",
      "Requirement already satisfied: six>=1.7 in /Users/Isabel/opt/anaconda3/lib/python3.8/site-packages (from fiona>=1.8->geopandas) (1.15.0)\n",
      "Requirement already satisfied: click>=4.0 in /Users/Isabel/opt/anaconda3/lib/python3.8/site-packages (from fiona>=1.8->geopandas) (7.1.2)\n",
      "Requirement already satisfied: attrs>=17 in /Users/Isabel/opt/anaconda3/lib/python3.8/site-packages (from fiona>=1.8->geopandas) (20.3.0)\n",
      "Collecting click-plugins>=1.0\n",
      "  Using cached click_plugins-1.1.1-py2.py3-none-any.whl (7.5 kB)\n",
      "Collecting cligj>=0.5\n",
      "  Downloading cligj-0.7.2-py3-none-any.whl (7.1 kB)\n",
      "Requirement already satisfied: python-dateutil>=2.7.3 in /Users/Isabel/opt/anaconda3/lib/python3.8/site-packages (from pandas>=0.24.0->geopandas) (2.8.1)\n",
      "Requirement already satisfied: pytz>=2017.3 in /Users/Isabel/opt/anaconda3/lib/python3.8/site-packages (from pandas>=0.24.0->geopandas) (2021.1)\n",
      "Requirement already satisfied: numpy>=1.16.5 in /Users/Isabel/opt/anaconda3/lib/python3.8/site-packages (from pandas>=0.24.0->geopandas) (1.20.1)\n",
      "Requirement already satisfied: matplotlib in /Users/Isabel/opt/anaconda3/lib/python3.8/site-packages (from splot) (3.3.4)\n",
      "Requirement already satisfied: seaborn in /Users/Isabel/opt/anaconda3/lib/python3.8/site-packages (from splot) (0.11.1)\n",
      "Collecting libpysal\n",
      "  Downloading libpysal-4.5.1-py3-none-any.whl (2.4 MB)\n",
      "\u001b[K     |████████████████████████████████| 2.4 MB 2.8 MB/s eta 0:00:01\n",
      "\u001b[?25hCollecting mapclassify\n",
      "  Downloading mapclassify-2.4.2-py3-none-any.whl (38 kB)\n",
      "Collecting esda\n",
      "  Downloading esda-2.3.6-py3-none-any.whl (102 kB)\n",
      "\u001b[K     |████████████████████████████████| 102 kB 1.8 MB/s eta 0:00:01\n",
      "\u001b[?25hCollecting spreg\n",
      "  Downloading spreg-1.2.4-py3-none-any.whl (209 kB)\n",
      "\u001b[K     |████████████████████████████████| 209 kB 1.4 MB/s eta 0:00:01\n",
      "\u001b[?25hCollecting giddy\n",
      "  Downloading giddy-2.3.3-py3-none-any.whl (60 kB)\n",
      "\u001b[K     |████████████████████████████████| 60 kB 1.3 MB/s eta 0:00:01\n",
      "\u001b[?25hCollecting descartes\n",
      "  Downloading descartes-1.1.0-py3-none-any.whl (5.8 kB)\n",
      "Requirement already satisfied: scikit-learn in /Users/Isabel/opt/anaconda3/lib/python3.8/site-packages (from esda->splot) (0.24.1)\n",
      "Requirement already satisfied: scipy>=0.11 in /Users/Isabel/opt/anaconda3/lib/python3.8/site-packages (from esda->splot) (1.6.2)\n",
      "Collecting quantecon>=0.4.7\n",
      "  Downloading quantecon-0.5.1-py3-none-any.whl (240 kB)\n",
      "\u001b[K     |████████████████████████████████| 240 kB 1.9 MB/s eta 0:00:01\n",
      "\u001b[?25hRequirement already satisfied: jinja2 in /Users/Isabel/opt/anaconda3/lib/python3.8/site-packages (from libpysal->splot) (2.11.3)\n",
      "Requirement already satisfied: beautifulsoup4 in /Users/Isabel/opt/anaconda3/lib/python3.8/site-packages (from libpysal->splot) (4.9.3)\n",
      "Requirement already satisfied: requests in /Users/Isabel/opt/anaconda3/lib/python3.8/site-packages (from libpysal->splot) (2.25.1)\n",
      "Requirement already satisfied: networkx in /Users/Isabel/opt/anaconda3/lib/python3.8/site-packages (from mapclassify->splot) (2.5)\n",
      "Requirement already satisfied: sympy in /Users/Isabel/opt/anaconda3/lib/python3.8/site-packages (from quantecon>=0.4.7->giddy->splot) (1.8)\n",
      "Requirement already satisfied: numba>=0.38 in /Users/Isabel/opt/anaconda3/lib/python3.8/site-packages (from quantecon>=0.4.7->giddy->splot) (0.53.1)\n",
      "Requirement already satisfied: llvmlite<0.37,>=0.36.0rc1 in /Users/Isabel/opt/anaconda3/lib/python3.8/site-packages (from numba>=0.38->quantecon>=0.4.7->giddy->splot) (0.36.0)\n",
      "Requirement already satisfied: soupsieve>1.2 in /Users/Isabel/opt/anaconda3/lib/python3.8/site-packages (from beautifulsoup4->libpysal->splot) (2.2.1)\n",
      "Requirement already satisfied: MarkupSafe>=0.23 in /Users/Isabel/opt/anaconda3/lib/python3.8/site-packages (from jinja2->libpysal->splot) (1.1.1)\n",
      "Requirement already satisfied: pillow>=6.2.0 in /Users/Isabel/opt/anaconda3/lib/python3.8/site-packages (from matplotlib->splot) (8.2.0)\n",
      "Requirement already satisfied: cycler>=0.10 in /Users/Isabel/opt/anaconda3/lib/python3.8/site-packages (from matplotlib->splot) (0.10.0)\n",
      "Requirement already satisfied: pyparsing!=2.0.4,!=2.1.2,!=2.1.6,>=2.0.3 in /Users/Isabel/opt/anaconda3/lib/python3.8/site-packages (from matplotlib->splot) (2.4.7)\n",
      "Requirement already satisfied: kiwisolver>=1.0.1 in /Users/Isabel/opt/anaconda3/lib/python3.8/site-packages (from matplotlib->splot) (1.3.1)\n",
      "Requirement already satisfied: decorator>=4.3.0 in /Users/Isabel/opt/anaconda3/lib/python3.8/site-packages (from networkx->mapclassify->splot) (5.0.6)\n",
      "Requirement already satisfied: chardet<5,>=3.0.2 in /Users/Isabel/opt/anaconda3/lib/python3.8/site-packages (from requests->libpysal->splot) (4.0.0)\n",
      "Requirement already satisfied: urllib3<1.27,>=1.21.1 in /Users/Isabel/opt/anaconda3/lib/python3.8/site-packages (from requests->libpysal->splot) (1.26.4)\n",
      "Requirement already satisfied: idna<3,>=2.5 in /Users/Isabel/opt/anaconda3/lib/python3.8/site-packages (from requests->libpysal->splot) (2.10)\n",
      "Requirement already satisfied: joblib>=0.11 in /Users/Isabel/opt/anaconda3/lib/python3.8/site-packages (from scikit-learn->esda->splot) (1.0.1)\n",
      "Requirement already satisfied: threadpoolctl>=2.0.0 in /Users/Isabel/opt/anaconda3/lib/python3.8/site-packages (from scikit-learn->esda->splot) (2.1.0)\n",
      "Requirement already satisfied: mpmath>=0.19 in /Users/Isabel/opt/anaconda3/lib/python3.8/site-packages (from sympy->quantecon>=0.4.7->giddy->splot) (1.2.1)\n",
      "Building wheels for collected packages: splot\n",
      "  Building wheel for splot (setup.py) ... \u001b[?25ldone\n",
      "\u001b[?25h  Created wheel for splot: filename=splot-1.1.3-py3-none-any.whl size=37865 sha256=ec0da1ef1b8ea7408efbc5a0756a41ce16756af3b25522b7379f83348042db49\n",
      "  Stored in directory: /Users/Isabel/Library/Caches/pip/wheels/2e/69/f4/7219a1d43dd61eba0fd69b9fb583bc71abdd353504d72fade7\n",
      "Successfully built splot\n",
      "Installing collected packages: munch, libpysal, cligj, click-plugins, shapely, quantecon, pyproj, mapclassify, fiona, esda, spreg, giddy, geopandas, descartes, splot\n",
      "Successfully installed click-plugins-1.1.1 cligj-0.7.2 descartes-1.1.0 esda-2.3.6 fiona-1.8.20 geopandas-0.9.0 giddy-2.3.3 libpysal-4.5.1 mapclassify-2.4.2 munch-2.5.0 pyproj-3.1.0 quantecon-0.5.1 shapely-1.7.1 splot-1.1.3 spreg-1.2.4\n"
     ]
    }
   ],
   "source": [
    "# !pip3 install geopandas splot"
   ]
  },
  {
   "cell_type": "code",
   "execution_count": 226,
   "metadata": {
    "ExecuteTime": {
     "end_time": "2021-06-30T21:24:25.506827Z",
     "start_time": "2021-06-30T21:24:25.486865Z"
    }
   },
   "outputs": [],
   "source": [
    "from splot.mapping import vba_choropleth\n",
    "import geopandas as gpd"
   ]
  },
  {
   "cell_type": "code",
   "execution_count": 227,
   "metadata": {
    "ExecuteTime": {
     "end_time": "2021-06-30T21:24:52.940132Z",
     "start_time": "2021-06-30T21:24:51.114794Z"
    }
   },
   "outputs": [
    {
     "data": {
      "text/html": [
       "<div>\n",
       "<style scoped>\n",
       "    .dataframe tbody tr th:only-of-type {\n",
       "        vertical-align: middle;\n",
       "    }\n",
       "\n",
       "    .dataframe tbody tr th {\n",
       "        vertical-align: top;\n",
       "    }\n",
       "\n",
       "    .dataframe thead th {\n",
       "        text-align: right;\n",
       "    }\n",
       "</style>\n",
       "<table border=\"1\" class=\"dataframe\">\n",
       "  <thead>\n",
       "    <tr style=\"text-align: right;\">\n",
       "      <th></th>\n",
       "      <th>State FIPS Code</th>\n",
       "      <th>Postal Code</th>\n",
       "      <th>Name</th>\n",
       "      <th>Poverty Estimate, All Ages</th>\n",
       "      <th>90% CI Lower Bound</th>\n",
       "      <th>90% CI Upper Bound</th>\n",
       "      <th>Poverty Percent, All Ages</th>\n",
       "      <th>Poverty Estimate, Age 0-17</th>\n",
       "      <th>Poverty Percent, Age 0-17</th>\n",
       "      <th>Poverty Estimate, Age 5-17 in Families</th>\n",
       "      <th>Poverty Percent, Age 5-17 in Families</th>\n",
       "      <th>Median Household Income</th>\n",
       "      <th>Poverty Estimate, Age 0-4</th>\n",
       "      <th>Poverty Percent, Age 0-4</th>\n",
       "      <th>geometry</th>\n",
       "    </tr>\n",
       "  </thead>\n",
       "  <tbody>\n",
       "    <tr>\n",
       "      <th>0</th>\n",
       "      <td>00</td>\n",
       "      <td>US</td>\n",
       "      <td>United States</td>\n",
       "      <td>48208387.0</td>\n",
       "      <td>23.7</td>\n",
       "      <td>24.1</td>\n",
       "      <td>15.5</td>\n",
       "      <td>15686012.0</td>\n",
       "      <td>21.7</td>\n",
       "      <td>10714518.0</td>\n",
       "      <td>20.4</td>\n",
       "      <td>53657.0</td>\n",
       "      <td>4658187.0</td>\n",
       "      <td>23.9</td>\n",
       "      <td>None</td>\n",
       "    </tr>\n",
       "    <tr>\n",
       "      <th>1</th>\n",
       "      <td>01</td>\n",
       "      <td>AL</td>\n",
       "      <td>Alabama</td>\n",
       "      <td>905682.0</td>\n",
       "      <td>29.1</td>\n",
       "      <td>32.1</td>\n",
       "      <td>19.2</td>\n",
       "      <td>298682.0</td>\n",
       "      <td>27.4</td>\n",
       "      <td>207154.0</td>\n",
       "      <td>25.9</td>\n",
       "      <td>42917.0</td>\n",
       "      <td>88203.0</td>\n",
       "      <td>30.6</td>\n",
       "      <td>None</td>\n",
       "    </tr>\n",
       "    <tr>\n",
       "      <th>2</th>\n",
       "      <td>02</td>\n",
       "      <td>AK</td>\n",
       "      <td>Alaska</td>\n",
       "      <td>81622.0</td>\n",
       "      <td>15.3</td>\n",
       "      <td>19.5</td>\n",
       "      <td>11.4</td>\n",
       "      <td>28273.0</td>\n",
       "      <td>15.5</td>\n",
       "      <td>18113.0</td>\n",
       "      <td>14.1</td>\n",
       "      <td>70898.0</td>\n",
       "      <td>9170.0</td>\n",
       "      <td>17.4</td>\n",
       "      <td>None</td>\n",
       "    </tr>\n",
       "    <tr>\n",
       "      <th>3</th>\n",
       "      <td>04</td>\n",
       "      <td>AZ</td>\n",
       "      <td>Arizona</td>\n",
       "      <td>1195889.0</td>\n",
       "      <td>27.1</td>\n",
       "      <td>29.7</td>\n",
       "      <td>18.2</td>\n",
       "      <td>406457.0</td>\n",
       "      <td>25.6</td>\n",
       "      <td>278735.0</td>\n",
       "      <td>24.0</td>\n",
       "      <td>50036.0</td>\n",
       "      <td>118958.0</td>\n",
       "      <td>28.4</td>\n",
       "      <td>None</td>\n",
       "    </tr>\n",
       "    <tr>\n",
       "      <th>4</th>\n",
       "      <td>05</td>\n",
       "      <td>AR</td>\n",
       "      <td>Arkansas</td>\n",
       "      <td>539999.0</td>\n",
       "      <td>28.1</td>\n",
       "      <td>31.3</td>\n",
       "      <td>18.7</td>\n",
       "      <td>183334.0</td>\n",
       "      <td>26.3</td>\n",
       "      <td>123704.0</td>\n",
       "      <td>24.5</td>\n",
       "      <td>41335.0</td>\n",
       "      <td>55833.0</td>\n",
       "      <td>29.7</td>\n",
       "      <td>None</td>\n",
       "    </tr>\n",
       "  </tbody>\n",
       "</table>\n",
       "</div>"
      ],
      "text/plain": [
       "  State FIPS Code Postal Code           Name Poverty Estimate, All Ages  \\\n",
       "0              00          US  United States                 48208387.0   \n",
       "1              01          AL        Alabama                   905682.0   \n",
       "2              02          AK         Alaska                    81622.0   \n",
       "3              04          AZ        Arizona                  1195889.0   \n",
       "4              05          AR       Arkansas                   539999.0   \n",
       "\n",
       "  90% CI Lower Bound 90% CI Upper Bound Poverty Percent, All Ages  \\\n",
       "0               23.7               24.1                      15.5   \n",
       "1               29.1               32.1                      19.2   \n",
       "2               15.3               19.5                      11.4   \n",
       "3               27.1               29.7                      18.2   \n",
       "4               28.1               31.3                      18.7   \n",
       "\n",
       "  Poverty Estimate, Age 0-17 Poverty Percent, Age 0-17  \\\n",
       "0                 15686012.0                      21.7   \n",
       "1                   298682.0                      27.4   \n",
       "2                    28273.0                      15.5   \n",
       "3                   406457.0                      25.6   \n",
       "4                   183334.0                      26.3   \n",
       "\n",
       "  Poverty Estimate, Age 5-17 in Families  \\\n",
       "0                             10714518.0   \n",
       "1                               207154.0   \n",
       "2                                18113.0   \n",
       "3                               278735.0   \n",
       "4                               123704.0   \n",
       "\n",
       "  Poverty Percent, Age 5-17 in Families Median Household Income  \\\n",
       "0                                  20.4                 53657.0   \n",
       "1                                  25.9                 42917.0   \n",
       "2                                  14.1                 70898.0   \n",
       "3                                  24.0                 50036.0   \n",
       "4                                  24.5                 41335.0   \n",
       "\n",
       "  Poverty Estimate, Age 0-4 Poverty Percent, Age 0-4 geometry  \n",
       "0                 4658187.0                     23.9     None  \n",
       "1                   88203.0                     30.6     None  \n",
       "2                    9170.0                     17.4     None  \n",
       "3                  118958.0                     28.4     None  \n",
       "4                   55833.0                     29.7     None  "
      ]
     },
     "execution_count": 227,
     "metadata": {},
     "output_type": "execute_result"
    }
   ],
   "source": [
    "poverty_data = gpd.read_file(\"../data/csv/est14us.csv\", usecols=['Postal Code', 'Poverty Estimate, All Ages', \n",
    "                                                                                                                   'Median Household Income'])\n",
    "poverty_data.head()"
   ]
  },
  {
   "cell_type": "code",
   "execution_count": 228,
   "metadata": {
    "ExecuteTime": {
     "end_time": "2021-06-30T21:25:17.664405Z",
     "start_time": "2021-06-30T21:25:17.196986Z"
    }
   },
   "outputs": [
    {
     "data": {
      "text/plain": [
       "geopandas.geodataframe.GeoDataFrame"
      ]
     },
     "execution_count": 228,
     "metadata": {},
     "output_type": "execute_result"
    }
   ],
   "source": [
    "states = gpd.read_file('../data/cb_2014_us_state_5m/cb_2014_us_state_5m.shp')\n",
    "type(states)"
   ]
  },
  {
   "cell_type": "code",
   "execution_count": null,
   "metadata": {},
   "outputs": [],
   "source": [
    "states1 = gpd.read_file('../data/cb_2014_us_state_5m/cb_2014_us_state_5m.shp')\n"
   ]
  },
  {
   "cell_type": "code",
   "execution_count": 229,
   "metadata": {
    "ExecuteTime": {
     "end_time": "2021-06-30T21:25:37.757300Z",
     "start_time": "2021-06-30T21:25:37.301188Z"
    }
   },
   "outputs": [
    {
     "data": {
      "text/plain": [
       "<AxesSubplot:>"
      ]
     },
     "execution_count": 229,
     "metadata": {},
     "output_type": "execute_result"
    },
    {
     "data": {
      "image/png": "[encoded data removed]",
      "text/plain": [
       "<Figure size 640x480 with 1 Axes>"
      ]
     },
     "metadata": {},
     "output_type": "display_data"
    }
   ],
   "source": [
    "states.plot()"
   ]
  },
  {
   "cell_type": "code",
   "execution_count": 302,
   "metadata": {
    "ExecuteTime": {
     "end_time": "2021-06-30T23:39:50.754191Z",
     "start_time": "2021-06-30T23:39:50.218239Z"
    }
   },
   "outputs": [
    {
     "data": {
      "text/plain": [
       "<Geographic 2D CRS: EPSG:4269>\n",
       "Name: NAD83\n",
       "Axis Info [ellipsoidal]:\n",
       "- Lat[north]: Geodetic latitude (degree)\n",
       "- Lon[east]: Geodetic longitude (degree)\n",
       "Area of Use:\n",
       "- name: North America - onshore and offshore: Canada - Alberta; British Columbia; Manitoba; New Brunswick; Newfoundland and Labrador; Northwest Territories; Nova Scotia; Nunavut; Ontario; Prince Edward Island; Quebec; Saskatchewan; Yukon. Puerto Rico. United States (USA) - Alabama; Alaska; Arizona; Arkansas; California; Colorado; Connecticut; Delaware; Florida; Georgia; Hawaii; Idaho; Illinois; Indiana; Iowa; Kansas; Kentucky; Louisiana; Maine; Maryland; Massachusetts; Michigan; Minnesota; Mississippi; Missouri; Montana; Nebraska; Nevada; New Hampshire; New Jersey; New Mexico; New York; North Carolina; North Dakota; Ohio; Oklahoma; Oregon; Pennsylvania; Rhode Island; South Carolina; South Dakota; Tennessee; Texas; Utah; Vermont; Virginia; Washington; West Virginia; Wisconsin; Wyoming. US Virgin Islands. British Virgin Islands.\n",
       "- bounds: (167.65071105957, 14.928194130078, -47.743430543984, 86.453745196084)\n",
       "Datum: North American Datum 1983\n",
       "- Ellipsoid: GRS 1980\n",
       "- Prime Meridian: Greenwich"
      ]
     },
     "execution_count": 302,
     "metadata": {},
     "output_type": "execute_result"
    }
   ],
   "source": [
    "states.crs"
   ]
  },
  {
   "cell_type": "code",
   "execution_count": 166,
   "metadata": {
    "ExecuteTime": {
     "end_time": "2021-06-30T19:04:11.229550Z",
     "start_time": "2021-06-30T19:04:11.129086Z"
    }
   },
   "outputs": [
    {
     "data": {
      "text/html": [
       "<div>\n",
       "<style scoped>\n",
       "    .dataframe tbody tr th:only-of-type {\n",
       "        vertical-align: middle;\n",
       "    }\n",
       "\n",
       "    .dataframe tbody tr th {\n",
       "        vertical-align: top;\n",
       "    }\n",
       "\n",
       "    .dataframe thead th {\n",
       "        text-align: right;\n",
       "    }\n",
       "</style>\n",
       "<table border=\"1\" class=\"dataframe\">\n",
       "  <thead>\n",
       "    <tr style=\"text-align: right;\">\n",
       "      <th></th>\n",
       "      <th>STATEFP</th>\n",
       "      <th>STATENS</th>\n",
       "      <th>AFFGEOID</th>\n",
       "      <th>GEOID</th>\n",
       "      <th>STUSPS</th>\n",
       "      <th>NAME</th>\n",
       "      <th>LSAD</th>\n",
       "      <th>ALAND</th>\n",
       "      <th>AWATER</th>\n",
       "      <th>geometry</th>\n",
       "    </tr>\n",
       "  </thead>\n",
       "  <tbody>\n",
       "    <tr>\n",
       "      <th>0</th>\n",
       "      <td>04</td>\n",
       "      <td>01779777</td>\n",
       "      <td>0400000US04</td>\n",
       "      <td>04</td>\n",
       "      <td>AZ</td>\n",
       "      <td>Arizona</td>\n",
       "      <td>00</td>\n",
       "      <td>294205282243</td>\n",
       "      <td>1027790845</td>\n",
       "      <td>POLYGON Z ((-114.79968 32.59362 0.00000, -114....</td>\n",
       "    </tr>\n",
       "    <tr>\n",
       "      <th>1</th>\n",
       "      <td>05</td>\n",
       "      <td>00068085</td>\n",
       "      <td>0400000US05</td>\n",
       "      <td>05</td>\n",
       "      <td>AR</td>\n",
       "      <td>Arkansas</td>\n",
       "      <td>00</td>\n",
       "      <td>134771603434</td>\n",
       "      <td>2960200961</td>\n",
       "      <td>POLYGON Z ((-94.61792 36.49941 0.00000, -94.55...</td>\n",
       "    </tr>\n",
       "    <tr>\n",
       "      <th>2</th>\n",
       "      <td>06</td>\n",
       "      <td>01779778</td>\n",
       "      <td>0400000US06</td>\n",
       "      <td>06</td>\n",
       "      <td>CA</td>\n",
       "      <td>California</td>\n",
       "      <td>00</td>\n",
       "      <td>403483823181</td>\n",
       "      <td>20483271881</td>\n",
       "      <td>MULTIPOLYGON Z (((-118.60337 33.47810 0.00000,...</td>\n",
       "    </tr>\n",
       "    <tr>\n",
       "      <th>3</th>\n",
       "      <td>09</td>\n",
       "      <td>01779780</td>\n",
       "      <td>0400000US09</td>\n",
       "      <td>09</td>\n",
       "      <td>CT</td>\n",
       "      <td>Connecticut</td>\n",
       "      <td>00</td>\n",
       "      <td>12542396439</td>\n",
       "      <td>1814978794</td>\n",
       "      <td>POLYGON Z ((-73.72777 41.10070 0.00000, -73.69...</td>\n",
       "    </tr>\n",
       "    <tr>\n",
       "      <th>4</th>\n",
       "      <td>12</td>\n",
       "      <td>00294478</td>\n",
       "      <td>0400000US12</td>\n",
       "      <td>12</td>\n",
       "      <td>FL</td>\n",
       "      <td>Florida</td>\n",
       "      <td>00</td>\n",
       "      <td>138903200855</td>\n",
       "      <td>31407883551</td>\n",
       "      <td>MULTIPOLYGON Z (((-80.75164 24.85725 0.00000, ...</td>\n",
       "    </tr>\n",
       "  </tbody>\n",
       "</table>\n",
       "</div>"
      ],
      "text/plain": [
       "  STATEFP   STATENS     AFFGEOID GEOID STUSPS         NAME LSAD         ALAND  \\\n",
       "0      04  01779777  0400000US04    04     AZ      Arizona   00  294205282243   \n",
       "1      05  00068085  0400000US05    05     AR     Arkansas   00  134771603434   \n",
       "2      06  01779778  0400000US06    06     CA   California   00  403483823181   \n",
       "3      09  01779780  0400000US09    09     CT  Connecticut   00   12542396439   \n",
       "4      12  00294478  0400000US12    12     FL      Florida   00  138903200855   \n",
       "\n",
       "        AWATER                                           geometry  \n",
       "0   1027790845  POLYGON Z ((-114.79968 32.59362 0.00000, -114....  \n",
       "1   2960200961  POLYGON Z ((-94.61792 36.49941 0.00000, -94.55...  \n",
       "2  20483271881  MULTIPOLYGON Z (((-118.60337 33.47810 0.00000,...  \n",
       "3   1814978794  POLYGON Z ((-73.72777 41.10070 0.00000, -73.69...  \n",
       "4  31407883551  MULTIPOLYGON Z (((-80.75164 24.85725 0.00000, ...  "
      ]
     },
     "execution_count": 166,
     "metadata": {},
     "output_type": "execute_result"
    }
   ],
   "source": [
    "states.head()"
   ]
  },
  {
   "cell_type": "code",
   "execution_count": 170,
   "metadata": {
    "ExecuteTime": {
     "end_time": "2021-06-30T19:16:39.141566Z",
     "start_time": "2021-06-30T19:16:38.942399Z"
    }
   },
   "outputs": [],
   "source": [
    "states = states.rename(columns={\"STUSPS\": \"Postal Code\"})"
   ]
  },
  {
   "cell_type": "code",
   "execution_count": 171,
   "metadata": {
    "ExecuteTime": {
     "end_time": "2021-06-30T19:16:51.548276Z",
     "start_time": "2021-06-30T19:16:51.312957Z"
    }
   },
   "outputs": [],
   "source": [
    "test = pd.merge(states, poverty_data, on=\"Postal Code\")"
   ]
  },
  {
   "cell_type": "code",
   "execution_count": 172,
   "metadata": {
    "ExecuteTime": {
     "end_time": "2021-06-30T19:17:33.965470Z",
     "start_time": "2021-06-30T19:17:33.664738Z"
    }
   },
   "outputs": [
    {
     "data": {
      "text/html": [
       "<div>\n",
       "<style scoped>\n",
       "    .dataframe tbody tr th:only-of-type {\n",
       "        vertical-align: middle;\n",
       "    }\n",
       "\n",
       "    .dataframe tbody tr th {\n",
       "        vertical-align: top;\n",
       "    }\n",
       "\n",
       "    .dataframe thead th {\n",
       "        text-align: right;\n",
       "    }\n",
       "</style>\n",
       "<table border=\"1\" class=\"dataframe\">\n",
       "  <thead>\n",
       "    <tr style=\"text-align: right;\">\n",
       "      <th></th>\n",
       "      <th>STATEFP</th>\n",
       "      <th>STATENS</th>\n",
       "      <th>AFFGEOID</th>\n",
       "      <th>GEOID</th>\n",
       "      <th>Postal Code</th>\n",
       "      <th>NAME</th>\n",
       "      <th>LSAD</th>\n",
       "      <th>ALAND</th>\n",
       "      <th>AWATER</th>\n",
       "      <th>geometry_x</th>\n",
       "      <th>...</th>\n",
       "      <th>90% CI Upper Bound</th>\n",
       "      <th>Poverty Percent, All Ages</th>\n",
       "      <th>Poverty Estimate, Age 0-17</th>\n",
       "      <th>Poverty Percent, Age 0-17</th>\n",
       "      <th>Poverty Estimate, Age 5-17 in Families</th>\n",
       "      <th>Poverty Percent, Age 5-17 in Families</th>\n",
       "      <th>Median Household Income</th>\n",
       "      <th>Poverty Estimate, Age 0-4</th>\n",
       "      <th>Poverty Percent, Age 0-4</th>\n",
       "      <th>geometry_y</th>\n",
       "    </tr>\n",
       "  </thead>\n",
       "  <tbody>\n",
       "    <tr>\n",
       "      <th>0</th>\n",
       "      <td>04</td>\n",
       "      <td>01779777</td>\n",
       "      <td>0400000US04</td>\n",
       "      <td>04</td>\n",
       "      <td>AZ</td>\n",
       "      <td>Arizona</td>\n",
       "      <td>00</td>\n",
       "      <td>294205282243</td>\n",
       "      <td>1027790845</td>\n",
       "      <td>POLYGON Z ((-114.79968 32.59362 0.00000, -114....</td>\n",
       "      <td>...</td>\n",
       "      <td>29.7</td>\n",
       "      <td>18.2</td>\n",
       "      <td>406457.0</td>\n",
       "      <td>25.6</td>\n",
       "      <td>278735.0</td>\n",
       "      <td>24.0</td>\n",
       "      <td>50036.0</td>\n",
       "      <td>118958.0</td>\n",
       "      <td>28.4</td>\n",
       "      <td>None</td>\n",
       "    </tr>\n",
       "    <tr>\n",
       "      <th>1</th>\n",
       "      <td>05</td>\n",
       "      <td>00068085</td>\n",
       "      <td>0400000US05</td>\n",
       "      <td>05</td>\n",
       "      <td>AR</td>\n",
       "      <td>Arkansas</td>\n",
       "      <td>00</td>\n",
       "      <td>134771603434</td>\n",
       "      <td>2960200961</td>\n",
       "      <td>POLYGON Z ((-94.61792 36.49941 0.00000, -94.55...</td>\n",
       "      <td>...</td>\n",
       "      <td>31.3</td>\n",
       "      <td>18.7</td>\n",
       "      <td>183334.0</td>\n",
       "      <td>26.3</td>\n",
       "      <td>123704.0</td>\n",
       "      <td>24.5</td>\n",
       "      <td>41335.0</td>\n",
       "      <td>55833.0</td>\n",
       "      <td>29.7</td>\n",
       "      <td>None</td>\n",
       "    </tr>\n",
       "    <tr>\n",
       "      <th>2</th>\n",
       "      <td>06</td>\n",
       "      <td>01779778</td>\n",
       "      <td>0400000US06</td>\n",
       "      <td>06</td>\n",
       "      <td>CA</td>\n",
       "      <td>California</td>\n",
       "      <td>00</td>\n",
       "      <td>403483823181</td>\n",
       "      <td>20483271881</td>\n",
       "      <td>MULTIPOLYGON Z (((-118.60337 33.47810 0.00000,...</td>\n",
       "      <td>...</td>\n",
       "      <td>24.0</td>\n",
       "      <td>16.4</td>\n",
       "      <td>2040811.0</td>\n",
       "      <td>22.6</td>\n",
       "      <td>1424469.0</td>\n",
       "      <td>21.9</td>\n",
       "      <td>61927.0</td>\n",
       "      <td>575759.0</td>\n",
       "      <td>23.4</td>\n",
       "      <td>None</td>\n",
       "    </tr>\n",
       "    <tr>\n",
       "      <th>3</th>\n",
       "      <td>09</td>\n",
       "      <td>01779780</td>\n",
       "      <td>0400000US09</td>\n",
       "      <td>09</td>\n",
       "      <td>CT</td>\n",
       "      <td>Connecticut</td>\n",
       "      <td>00</td>\n",
       "      <td>12542396439</td>\n",
       "      <td>1814978794</td>\n",
       "      <td>POLYGON Z ((-73.72777 41.10070 0.00000, -73.69...</td>\n",
       "      <td>...</td>\n",
       "      <td>18.2</td>\n",
       "      <td>10.8</td>\n",
       "      <td>113733.0</td>\n",
       "      <td>14.9</td>\n",
       "      <td>78909.0</td>\n",
       "      <td>13.7</td>\n",
       "      <td>70007.0</td>\n",
       "      <td>31176.0</td>\n",
       "      <td>16.8</td>\n",
       "      <td>None</td>\n",
       "    </tr>\n",
       "    <tr>\n",
       "      <th>4</th>\n",
       "      <td>12</td>\n",
       "      <td>00294478</td>\n",
       "      <td>0400000US12</td>\n",
       "      <td>12</td>\n",
       "      <td>FL</td>\n",
       "      <td>Florida</td>\n",
       "      <td>00</td>\n",
       "      <td>138903200855</td>\n",
       "      <td>31407883551</td>\n",
       "      <td>MULTIPOLYGON Z (((-80.75164 24.85725 0.00000, ...</td>\n",
       "      <td>...</td>\n",
       "      <td>27.5</td>\n",
       "      <td>16.6</td>\n",
       "      <td>962857.0</td>\n",
       "      <td>24.2</td>\n",
       "      <td>666307.0</td>\n",
       "      <td>22.9</td>\n",
       "      <td>47439.0</td>\n",
       "      <td>280898.0</td>\n",
       "      <td>26.5</td>\n",
       "      <td>None</td>\n",
       "    </tr>\n",
       "  </tbody>\n",
       "</table>\n",
       "<p>5 rows × 24 columns</p>\n",
       "</div>"
      ],
      "text/plain": [
       "  STATEFP   STATENS     AFFGEOID GEOID Postal Code         NAME LSAD  \\\n",
       "0      04  01779777  0400000US04    04          AZ      Arizona   00   \n",
       "1      05  00068085  0400000US05    05          AR     Arkansas   00   \n",
       "2      06  01779778  0400000US06    06          CA   California   00   \n",
       "3      09  01779780  0400000US09    09          CT  Connecticut   00   \n",
       "4      12  00294478  0400000US12    12          FL      Florida   00   \n",
       "\n",
       "          ALAND       AWATER  \\\n",
       "0  294205282243   1027790845   \n",
       "1  134771603434   2960200961   \n",
       "2  403483823181  20483271881   \n",
       "3   12542396439   1814978794   \n",
       "4  138903200855  31407883551   \n",
       "\n",
       "                                          geometry_x  ... 90% CI Upper Bound  \\\n",
       "0  POLYGON Z ((-114.79968 32.59362 0.00000, -114....  ...               29.7   \n",
       "1  POLYGON Z ((-94.61792 36.49941 0.00000, -94.55...  ...               31.3   \n",
       "2  MULTIPOLYGON Z (((-118.60337 33.47810 0.00000,...  ...               24.0   \n",
       "3  POLYGON Z ((-73.72777 41.10070 0.00000, -73.69...  ...               18.2   \n",
       "4  MULTIPOLYGON Z (((-80.75164 24.85725 0.00000, ...  ...               27.5   \n",
       "\n",
       "  Poverty Percent, All Ages Poverty Estimate, Age 0-17  \\\n",
       "0                      18.2                   406457.0   \n",
       "1                      18.7                   183334.0   \n",
       "2                      16.4                  2040811.0   \n",
       "3                      10.8                   113733.0   \n",
       "4                      16.6                   962857.0   \n",
       "\n",
       "  Poverty Percent, Age 0-17 Poverty Estimate, Age 5-17 in Families  \\\n",
       "0                      25.6                               278735.0   \n",
       "1                      26.3                               123704.0   \n",
       "2                      22.6                              1424469.0   \n",
       "3                      14.9                                78909.0   \n",
       "4                      24.2                               666307.0   \n",
       "\n",
       "  Poverty Percent, Age 5-17 in Families Median Household Income  \\\n",
       "0                                  24.0                 50036.0   \n",
       "1                                  24.5                 41335.0   \n",
       "2                                  21.9                 61927.0   \n",
       "3                                  13.7                 70007.0   \n",
       "4                                  22.9                 47439.0   \n",
       "\n",
       "  Poverty Estimate, Age 0-4 Poverty Percent, Age 0-4 geometry_y  \n",
       "0                  118958.0                     28.4       None  \n",
       "1                   55833.0                     29.7       None  \n",
       "2                  575759.0                     23.4       None  \n",
       "3                   31176.0                     16.8       None  \n",
       "4                  280898.0                     26.5       None  \n",
       "\n",
       "[5 rows x 24 columns]"
      ]
     },
     "execution_count": 172,
     "metadata": {},
     "output_type": "execute_result"
    }
   ],
   "source": [
    "test.head()"
   ]
  },
  {
   "cell_type": "code",
   "execution_count": 330,
   "metadata": {
    "ExecuteTime": {
     "end_time": "2021-07-01T00:25:53.088727Z",
     "start_time": "2021-07-01T00:25:52.155890Z"
    }
   },
   "outputs": [
    {
     "data": {
      "image/png": "[encoded data removed]",
      "text/plain": [
       "<Figure size 1000x1000 with 2 Axes>"
      ]
     },
     "metadata": {
      "image/png": {
       "height": 410,
       "width": 997
      }
     },
     "output_type": "display_data"
    }
   ],
   "source": [
    "from matplotlib import pyplot as plt\n",
    "plt.style.use('dark_background') #dark_background, default\n",
    "# plt.rcParams[\"figure.figsize\"]=10,10\n",
    "\n",
    "gdf = test\n",
    "# determines color value\n",
    "x = gdf['Poverty Percent, All Ages'].values\n",
    "# determines alpha value\n",
    "y = gdf['Median Household Income'].values\n",
    "# colors = ['#e8e8e8', '#dfb0d6', '#be64ac', '#ace4e4', '#a5add3', '#8c62aa', '#5ac8c8', '#5698b9', '#3b4994']\n",
    "fig = plt.figure(figsize=(10,10)) #dpi=300\n",
    "ax = fig.add_subplot(111)\n",
    "# gdf.plot(column='Poverty Percent, All Ages', scheme='quantiles', cmap='RdBu') #, cax=cax\n",
    "vba_choropleth(x, y, gdf, \n",
    "                             rgb_mapclassify=dict(classifier='quantiles', k=4),\n",
    "                             alpha_mapclassify=dict(classifier='quantiles', k=4),\n",
    "                             cmap= 'cool', #'RdBu', \n",
    "                             ax=ax,\n",
    "                             revert_alpha=False,\n",
    "                             legend=True)\n",
    "ax.set_xlim([-190, -65])\n",
    "ax.set_ylim([15, 75])\n",
    "#add title to the map\n",
    "# ax.set_title('Total revenue of all companies by country', fontdict= \n",
    "#             {'fontsize':25})\n",
    "#remove axes\n",
    "ax.set_axis_off()\n",
    "plt.show()"
   ]
  },
  {
   "cell_type": "code",
   "execution_count": 183,
   "metadata": {
    "ExecuteTime": {
     "end_time": "2021-06-30T19:25:06.161730Z",
     "start_time": "2021-06-30T19:25:06.112875Z"
    }
   },
   "outputs": [],
   "source": [
    "gdf['Poverty Percent, All Ages'] = gdf['Poverty Percent, All Ages'].astype(float)\n",
    "gdf['Median Household Income'] = gdf['Median Household Income'].astype(float)"
   ]
  },
  {
   "cell_type": "code",
   "execution_count": 186,
   "metadata": {
    "ExecuteTime": {
     "end_time": "2021-06-30T19:28:15.980240Z",
     "start_time": "2021-06-30T19:28:15.886323Z"
    }
   },
   "outputs": [],
   "source": [
    "test = test.rename(columns={\"geometry_x\": 'geometry'})"
   ]
  },
  {
   "cell_type": "code",
   "execution_count": 260,
   "metadata": {
    "ExecuteTime": {
     "end_time": "2021-06-30T22:26:37.528140Z",
     "start_time": "2021-06-30T22:26:34.338642Z"
    }
   },
   "outputs": [
    {
     "data": {
      "text/plain": [
       "array([[<AxesSubplot:title={'center':'ALAND'}>,\n",
       "        <AxesSubplot:title={'center':'AWATER'}>],\n",
       "       [<AxesSubplot:title={'center':'Poverty Percent, All Ages'}>,\n",
       "        <AxesSubplot:title={'center':'Median Household Income'}>]],\n",
       "      dtype=object)"
      ]
     },
     "execution_count": 260,
     "metadata": {},
     "output_type": "execute_result"
    },
    {
     "data": {
      "image/png": "[encoded data removed]",
      "text/plain": [
       "<Figure size 2000x2000 with 4 Axes>"
      ]
     },
     "metadata": {
      "image/png": {
       "height": 1605,
       "width": 1609
      }
     },
     "output_type": "display_data"
    }
   ],
   "source": [
    "test.hist()"
   ]
  },
  {
   "cell_type": "code",
   "execution_count": 307,
   "metadata": {
    "ExecuteTime": {
     "end_time": "2021-06-30T23:45:53.194825Z",
     "start_time": "2021-06-30T23:45:53.149445Z"
    }
   },
   "outputs": [],
   "source": [
    "southeast = test[test['Postal Code'].isin(['FL','GA','AL','SC','NC', 'TN', 'AR', 'LA', 'MS'])]"
   ]
  },
  {
   "cell_type": "code",
   "execution_count": 308,
   "metadata": {
    "ExecuteTime": {
     "end_time": "2021-06-30T23:46:54.656442Z",
     "start_time": "2021-06-30T23:46:54.167580Z"
    }
   },
   "outputs": [
    {
     "data": {
      "text/html": [
       "<div>\n",
       "<style scoped>\n",
       "    .dataframe tbody tr th:only-of-type {\n",
       "        vertical-align: middle;\n",
       "    }\n",
       "\n",
       "    .dataframe tbody tr th {\n",
       "        vertical-align: top;\n",
       "    }\n",
       "\n",
       "    .dataframe thead th {\n",
       "        text-align: right;\n",
       "    }\n",
       "</style>\n",
       "<table border=\"1\" class=\"dataframe\">\n",
       "  <thead>\n",
       "    <tr style=\"text-align: right;\">\n",
       "      <th></th>\n",
       "      <th>STATEFP</th>\n",
       "      <th>STATENS</th>\n",
       "      <th>AFFGEOID</th>\n",
       "      <th>GEOID</th>\n",
       "      <th>Postal Code</th>\n",
       "      <th>NAME</th>\n",
       "      <th>LSAD</th>\n",
       "      <th>ALAND</th>\n",
       "      <th>AWATER</th>\n",
       "      <th>geometry</th>\n",
       "      <th>...</th>\n",
       "      <th>90% CI Upper Bound</th>\n",
       "      <th>Poverty Percent, All Ages</th>\n",
       "      <th>Poverty Estimate, Age 0-17</th>\n",
       "      <th>Poverty Percent, Age 0-17</th>\n",
       "      <th>Poverty Estimate, Age 5-17 in Families</th>\n",
       "      <th>Poverty Percent, Age 5-17 in Families</th>\n",
       "      <th>Median Household Income</th>\n",
       "      <th>Poverty Estimate, Age 0-4</th>\n",
       "      <th>Poverty Percent, Age 0-4</th>\n",
       "      <th>geometry_y</th>\n",
       "    </tr>\n",
       "  </thead>\n",
       "  <tbody>\n",
       "    <tr>\n",
       "      <th>1</th>\n",
       "      <td>05</td>\n",
       "      <td>00068085</td>\n",
       "      <td>0400000US05</td>\n",
       "      <td>05</td>\n",
       "      <td>AR</td>\n",
       "      <td>Arkansas</td>\n",
       "      <td>00</td>\n",
       "      <td>134771603434</td>\n",
       "      <td>2960200961</td>\n",
       "      <td>POLYGON Z ((-94.61792 36.49941 0.00000, -94.55...</td>\n",
       "      <td>...</td>\n",
       "      <td>31.3</td>\n",
       "      <td>18.7</td>\n",
       "      <td>183334.0</td>\n",
       "      <td>26.3</td>\n",
       "      <td>123704.0</td>\n",
       "      <td>24.5</td>\n",
       "      <td>41335.0</td>\n",
       "      <td>55833.0</td>\n",
       "      <td>29.7</td>\n",
       "      <td>None</td>\n",
       "    </tr>\n",
       "    <tr>\n",
       "      <th>4</th>\n",
       "      <td>12</td>\n",
       "      <td>00294478</td>\n",
       "      <td>0400000US12</td>\n",
       "      <td>12</td>\n",
       "      <td>FL</td>\n",
       "      <td>Florida</td>\n",
       "      <td>00</td>\n",
       "      <td>138903200855</td>\n",
       "      <td>31407883551</td>\n",
       "      <td>MULTIPOLYGON Z (((-80.75164 24.85725 0.00000, ...</td>\n",
       "      <td>...</td>\n",
       "      <td>27.5</td>\n",
       "      <td>16.6</td>\n",
       "      <td>962857.0</td>\n",
       "      <td>24.2</td>\n",
       "      <td>666307.0</td>\n",
       "      <td>22.9</td>\n",
       "      <td>47439.0</td>\n",
       "      <td>280898.0</td>\n",
       "      <td>26.5</td>\n",
       "      <td>None</td>\n",
       "    </tr>\n",
       "    <tr>\n",
       "      <th>5</th>\n",
       "      <td>13</td>\n",
       "      <td>01705317</td>\n",
       "      <td>0400000US13</td>\n",
       "      <td>13</td>\n",
       "      <td>GA</td>\n",
       "      <td>Georgia</td>\n",
       "      <td>00</td>\n",
       "      <td>148963503399</td>\n",
       "      <td>4947080103</td>\n",
       "      <td>POLYGON Z ((-85.60516 34.98468 0.00000, -85.47...</td>\n",
       "      <td>...</td>\n",
       "      <td>30.8</td>\n",
       "      <td>18.4</td>\n",
       "      <td>646960.0</td>\n",
       "      <td>26.3</td>\n",
       "      <td>447407.0</td>\n",
       "      <td>24.8</td>\n",
       "      <td>49240.0</td>\n",
       "      <td>191807.0</td>\n",
       "      <td>29.6</td>\n",
       "      <td>None</td>\n",
       "    </tr>\n",
       "    <tr>\n",
       "      <th>10</th>\n",
       "      <td>22</td>\n",
       "      <td>01629543</td>\n",
       "      <td>0400000US22</td>\n",
       "      <td>22</td>\n",
       "      <td>LA</td>\n",
       "      <td>Louisiana</td>\n",
       "      <td>00</td>\n",
       "      <td>111901043977</td>\n",
       "      <td>23750204105</td>\n",
       "      <td>MULTIPOLYGON Z (((-88.88145 30.05320 0.00000, ...</td>\n",
       "      <td>...</td>\n",
       "      <td>33.1</td>\n",
       "      <td>19.9</td>\n",
       "      <td>307469.0</td>\n",
       "      <td>28.0</td>\n",
       "      <td>207577.0</td>\n",
       "      <td>26.3</td>\n",
       "      <td>44680.0</td>\n",
       "      <td>95627.0</td>\n",
       "      <td>31.6</td>\n",
       "      <td>None</td>\n",
       "    </tr>\n",
       "    <tr>\n",
       "      <th>13</th>\n",
       "      <td>28</td>\n",
       "      <td>01779790</td>\n",
       "      <td>0400000US28</td>\n",
       "      <td>28</td>\n",
       "      <td>MS</td>\n",
       "      <td>Mississippi</td>\n",
       "      <td>00</td>\n",
       "      <td>121531899917</td>\n",
       "      <td>3928587545</td>\n",
       "      <td>MULTIPOLYGON Z (((-88.51067 30.21702 0.00000, ...</td>\n",
       "      <td>...</td>\n",
       "      <td>35.2</td>\n",
       "      <td>21.9</td>\n",
       "      <td>220885.0</td>\n",
       "      <td>30.7</td>\n",
       "      <td>154129.0</td>\n",
       "      <td>29.4</td>\n",
       "      <td>39738.0</td>\n",
       "      <td>63695.0</td>\n",
       "      <td>33.3</td>\n",
       "      <td>None</td>\n",
       "    </tr>\n",
       "    <tr>\n",
       "      <th>22</th>\n",
       "      <td>45</td>\n",
       "      <td>01779799</td>\n",
       "      <td>0400000US45</td>\n",
       "      <td>45</td>\n",
       "      <td>SC</td>\n",
       "      <td>South Carolina</td>\n",
       "      <td>00</td>\n",
       "      <td>77857913931</td>\n",
       "      <td>5074749305</td>\n",
       "      <td>POLYGON Z ((-83.35324 34.72865 0.00000, -83.34...</td>\n",
       "      <td>...</td>\n",
       "      <td>30.3</td>\n",
       "      <td>17.9</td>\n",
       "      <td>281738.0</td>\n",
       "      <td>26.4</td>\n",
       "      <td>195415.0</td>\n",
       "      <td>25.1</td>\n",
       "      <td>45337.0</td>\n",
       "      <td>81681.0</td>\n",
       "      <td>28.7</td>\n",
       "      <td>None</td>\n",
       "    </tr>\n",
       "    <tr>\n",
       "      <th>30</th>\n",
       "      <td>01</td>\n",
       "      <td>01779775</td>\n",
       "      <td>0400000US01</td>\n",
       "      <td>01</td>\n",
       "      <td>AL</td>\n",
       "      <td>Alabama</td>\n",
       "      <td>00</td>\n",
       "      <td>131172403111</td>\n",
       "      <td>4594951242</td>\n",
       "      <td>MULTIPOLYGON Z (((-88.04374 30.51742 0.00000, ...</td>\n",
       "      <td>...</td>\n",
       "      <td>32.1</td>\n",
       "      <td>19.2</td>\n",
       "      <td>298682.0</td>\n",
       "      <td>27.4</td>\n",
       "      <td>207154.0</td>\n",
       "      <td>25.9</td>\n",
       "      <td>42917.0</td>\n",
       "      <td>88203.0</td>\n",
       "      <td>30.6</td>\n",
       "      <td>None</td>\n",
       "    </tr>\n",
       "    <tr>\n",
       "      <th>44</th>\n",
       "      <td>37</td>\n",
       "      <td>01027616</td>\n",
       "      <td>0400000US37</td>\n",
       "      <td>37</td>\n",
       "      <td>NC</td>\n",
       "      <td>North Carolina</td>\n",
       "      <td>00</td>\n",
       "      <td>125917995955</td>\n",
       "      <td>13472722504</td>\n",
       "      <td>MULTIPOLYGON Z (((-75.72681 35.93584 0.00000, ...</td>\n",
       "      <td>...</td>\n",
       "      <td>28.2</td>\n",
       "      <td>17.2</td>\n",
       "      <td>544149.0</td>\n",
       "      <td>24.1</td>\n",
       "      <td>373438.0</td>\n",
       "      <td>22.6</td>\n",
       "      <td>46596.0</td>\n",
       "      <td>161245.0</td>\n",
       "      <td>27.1</td>\n",
       "      <td>None</td>\n",
       "    </tr>\n",
       "    <tr>\n",
       "      <th>47</th>\n",
       "      <td>47</td>\n",
       "      <td>01325873</td>\n",
       "      <td>0400000US47</td>\n",
       "      <td>47</td>\n",
       "      <td>TN</td>\n",
       "      <td>Tennessee</td>\n",
       "      <td>00</td>\n",
       "      <td>106800130794</td>\n",
       "      <td>2352882756</td>\n",
       "      <td>POLYGON Z ((-90.30988 35.00975 0.00000, -90.30...</td>\n",
       "      <td>...</td>\n",
       "      <td>30.6</td>\n",
       "      <td>18.2</td>\n",
       "      <td>380159.0</td>\n",
       "      <td>25.9</td>\n",
       "      <td>260262.0</td>\n",
       "      <td>24.3</td>\n",
       "      <td>44357.0</td>\n",
       "      <td>113943.0</td>\n",
       "      <td>29.2</td>\n",
       "      <td>None</td>\n",
       "    </tr>\n",
       "  </tbody>\n",
       "</table>\n",
       "<p>9 rows × 24 columns</p>\n",
       "</div>"
      ],
      "text/plain": [
       "   STATEFP   STATENS     AFFGEOID GEOID Postal Code            NAME LSAD  \\\n",
       "1       05  00068085  0400000US05    05          AR        Arkansas   00   \n",
       "4       12  00294478  0400000US12    12          FL         Florida   00   \n",
       "5       13  01705317  0400000US13    13          GA         Georgia   00   \n",
       "10      22  01629543  0400000US22    22          LA       Louisiana   00   \n",
       "13      28  01779790  0400000US28    28          MS     Mississippi   00   \n",
       "22      45  01779799  0400000US45    45          SC  South Carolina   00   \n",
       "30      01  01779775  0400000US01    01          AL         Alabama   00   \n",
       "44      37  01027616  0400000US37    37          NC  North Carolina   00   \n",
       "47      47  01325873  0400000US47    47          TN       Tennessee   00   \n",
       "\n",
       "           ALAND       AWATER  \\\n",
       "1   134771603434   2960200961   \n",
       "4   138903200855  31407883551   \n",
       "5   148963503399   4947080103   \n",
       "10  111901043977  23750204105   \n",
       "13  121531899917   3928587545   \n",
       "22   77857913931   5074749305   \n",
       "30  131172403111   4594951242   \n",
       "44  125917995955  13472722504   \n",
       "47  106800130794   2352882756   \n",
       "\n",
       "                                             geometry  ... 90% CI Upper Bound  \\\n",
       "1   POLYGON Z ((-94.61792 36.49941 0.00000, -94.55...  ...               31.3   \n",
       "4   MULTIPOLYGON Z (((-80.75164 24.85725 0.00000, ...  ...               27.5   \n",
       "5   POLYGON Z ((-85.60516 34.98468 0.00000, -85.47...  ...               30.8   \n",
       "10  MULTIPOLYGON Z (((-88.88145 30.05320 0.00000, ...  ...               33.1   \n",
       "13  MULTIPOLYGON Z (((-88.51067 30.21702 0.00000, ...  ...               35.2   \n",
       "22  POLYGON Z ((-83.35324 34.72865 0.00000, -83.34...  ...               30.3   \n",
       "30  MULTIPOLYGON Z (((-88.04374 30.51742 0.00000, ...  ...               32.1   \n",
       "44  MULTIPOLYGON Z (((-75.72681 35.93584 0.00000, ...  ...               28.2   \n",
       "47  POLYGON Z ((-90.30988 35.00975 0.00000, -90.30...  ...               30.6   \n",
       "\n",
       "   Poverty Percent, All Ages Poverty Estimate, Age 0-17  \\\n",
       "1                       18.7                   183334.0   \n",
       "4                       16.6                   962857.0   \n",
       "5                       18.4                   646960.0   \n",
       "10                      19.9                   307469.0   \n",
       "13                      21.9                   220885.0   \n",
       "22                      17.9                   281738.0   \n",
       "30                      19.2                   298682.0   \n",
       "44                      17.2                   544149.0   \n",
       "47                      18.2                   380159.0   \n",
       "\n",
       "   Poverty Percent, Age 0-17 Poverty Estimate, Age 5-17 in Families  \\\n",
       "1                       26.3                               123704.0   \n",
       "4                       24.2                               666307.0   \n",
       "5                       26.3                               447407.0   \n",
       "10                      28.0                               207577.0   \n",
       "13                      30.7                               154129.0   \n",
       "22                      26.4                               195415.0   \n",
       "30                      27.4                               207154.0   \n",
       "44                      24.1                               373438.0   \n",
       "47                      25.9                               260262.0   \n",
       "\n",
       "    Poverty Percent, Age 5-17 in Families Median Household Income  \\\n",
       "1                                    24.5                 41335.0   \n",
       "4                                    22.9                 47439.0   \n",
       "5                                    24.8                 49240.0   \n",
       "10                                   26.3                 44680.0   \n",
       "13                                   29.4                 39738.0   \n",
       "22                                   25.1                 45337.0   \n",
       "30                                   25.9                 42917.0   \n",
       "44                                   22.6                 46596.0   \n",
       "47                                   24.3                 44357.0   \n",
       "\n",
       "   Poverty Estimate, Age 0-4 Poverty Percent, Age 0-4 geometry_y  \n",
       "1                    55833.0                     29.7       None  \n",
       "4                   280898.0                     26.5       None  \n",
       "5                   191807.0                     29.6       None  \n",
       "10                   95627.0                     31.6       None  \n",
       "13                   63695.0                     33.3       None  \n",
       "22                   81681.0                     28.7       None  \n",
       "30                   88203.0                     30.6       None  \n",
       "44                  161245.0                     27.1       None  \n",
       "47                  113943.0                     29.2       None  \n",
       "\n",
       "[9 rows x 24 columns]"
      ]
     },
     "execution_count": 308,
     "metadata": {},
     "output_type": "execute_result"
    }
   ],
   "source": [
    "southeast"
   ]
  }
 ],
 "metadata": {
  "kernelspec": {
   "display_name": "Python 3",
   "language": "python",
   "name": "python3"
  },
  "language_info": {
   "codemirror_mode": {
    "name": "ipython",
    "version": 3
   },
   "file_extension": ".py",
   "mimetype": "text/x-python",
   "name": "python",
   "nbconvert_exporter": "python",
   "pygments_lexer": "ipython3",
   "version": "3.8.8"
  },
  "toc": {
   "base_numbering": 1,
   "nav_menu": {},
   "number_sections": true,
   "sideBar": true,
   "skip_h1_title": true,
   "title_cell": "Table of Contents",
   "title_sidebar": "Contents",
   "toc_cell": false,
   "toc_position": {},
   "toc_section_display": true,
   "toc_window_display": false
  },
  "varInspector": {
   "cols": {
    "lenName": 16,
    "lenType": 16,
    "lenVar": 40
   },
   "kernels_config": {
    "python": {
     "delete_cmd_postfix": "",
     "delete_cmd_prefix": "del ",
     "library": "var_list.py",
     "varRefreshCmd": "print(var_dic_list())"
    },
    "r": {
     "delete_cmd_postfix": ") ",
     "delete_cmd_prefix": "rm(",
     "library": "var_list.r",
     "varRefreshCmd": "cat(var_dic_list()) "
    }
   },
   "types_to_exclude": [
    "module",
    "function",
    "builtin_function_or_method",
    "instance",
    "_Feature"
   ],
   "window_display": false
  }
 },
 "nbformat": 4,
 "nbformat_minor": 4
}
