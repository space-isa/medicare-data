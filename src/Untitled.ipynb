{
 "cells": [
  {
   "cell_type": "code",
   "execution_count": 6,
   "metadata": {
    "ExecuteTime": {
     "end_time": "2021-06-24T01:36:54.007458Z",
     "start_time": "2021-06-24T01:36:53.999721Z"
    }
   },
   "outputs": [],
   "source": [
    "# !python3 -m pip install --upgrade 'google-cloud-bigquery[bqstorage,pandas]'"
   ]
  },
  {
   "cell_type": "code",
   "execution_count": 19,
   "metadata": {
    "ExecuteTime": {
     "end_time": "2021-06-24T21:31:55.903883Z",
     "start_time": "2021-06-24T21:31:55.897830Z"
    }
   },
   "outputs": [],
   "source": [
    "#  Standard library imports\n",
    "from collections import Counter\n",
    "#  Google authenitication package\n",
    "from google.oauth2 import service_account\n",
    "#  BigQuery package\n",
    "from google.cloud import bigquery\n",
    "#  Data processing\n",
    "import pandas as pd\n",
    "pd.set_option(\"display.max_columns\", None) \n",
    "#  Data vizualization\n",
    "from matplotlib import pyplot as plt\n",
    "import seaborn as sns"
   ]
  },
  {
   "cell_type": "markdown",
   "metadata": {},
   "source": [
    "## Initialize client \n",
    "\n",
    "Authenticate and connect to BigQuery API."
   ]
  },
  {
   "cell_type": "code",
   "execution_count": 8,
   "metadata": {
    "ExecuteTime": {
     "end_time": "2021-06-24T01:51:31.274508Z",
     "start_time": "2021-06-24T01:51:31.011002Z"
    }
   },
   "outputs": [],
   "source": [
    "#  Define credentials\n",
    "def create_client(project):\n",
    "    key_path = '/Users/Isabel/Documents/Git/iron-axon-317718-542c36710a0a.json'\n",
    "    scope = \"https://www.googleapis.com/auth/cloud-platform\"\n",
    "    credentials = service_account.Credentials.from_service_account_file(key_path, scopes=[scope],)\n",
    "    #  Create an instance of the bigquery.Client class to create the client\n",
    "    client = bigquery.Client(credentials=credentials, project=credentials.project_id,)\n",
    "    return client"
   ]
  },
  {
   "cell_type": "markdown",
   "metadata": {},
   "source": [
    "## Data exploration"
   ]
  },
  {
   "cell_type": "code",
   "execution_count": 9,
   "metadata": {
    "ExecuteTime": {
     "end_time": "2021-06-24T01:52:11.929693Z",
     "start_time": "2021-06-24T01:52:11.924493Z"
    }
   },
   "outputs": [],
   "source": [
    "#  Define dataset reference\n",
    "dataset_ref = client.dataset(\"medicare\", project=\"bigquery-public-data\")"
   ]
  },
  {
   "cell_type": "code",
   "execution_count": 10,
   "metadata": {
    "ExecuteTime": {
     "end_time": "2021-06-24T01:52:17.873663Z",
     "start_time": "2021-06-24T01:52:17.451419Z"
    }
   },
   "outputs": [
    {
     "name": "stdout",
     "output_type": "stream",
     "text": [
      "['inpatient_charges_2011', 'inpatient_charges_2012', 'inpatient_charges_2013', 'inpatient_charges_2014', 'outpatient_charges_2011', 'outpatient_charges_2012', 'outpatient_charges_2013', 'outpatient_charges_2014', 'part_d_prescriber_2014', 'physicians_and_other_supplier_2012', 'physicians_and_other_supplier_2013', 'physicians_and_other_supplier_2014']\n"
     ]
    }
   ],
   "source": [
    "columns = [x.table_id for x in client.list_tables(dataset_ref)]\n",
    "print(columns)"
   ]
  },
  {
   "cell_type": "code",
   "execution_count": 12,
   "metadata": {
    "ExecuteTime": {
     "end_time": "2021-06-24T20:45:23.073740Z",
     "start_time": "2021-06-24T20:45:22.138560Z"
    }
   },
   "outputs": [],
   "source": [
    "table_ref = dataset_ref.table('inpatient_charges_2011')\n",
    "table = client.get_table(table_ref)"
   ]
  },
  {
   "cell_type": "code",
   "execution_count": 13,
   "metadata": {
    "ExecuteTime": {
     "end_time": "2021-06-24T20:46:29.335250Z",
     "start_time": "2021-06-24T20:45:54.236690Z"
    }
   },
   "outputs": [
    {
     "name": "stdout",
     "output_type": "stream",
     "text": [
      "Index(['drg_definition', 'provider_id', 'provider_name',\n",
      "       'provider_street_address', 'provider_city', 'provider_state',\n",
      "       'provider_zipcode', 'hospital_referral_region_description',\n",
      "       'total_discharges', 'average_covered_charges', 'average_total_payments',\n",
      "       'average_medicare_payments'],\n",
      "      dtype='object')\n"
     ]
    }
   ],
   "source": [
    "df = client.list_rows(table).to_dataframe()\n",
    "print(df.columns)"
   ]
  },
  {
   "cell_type": "code",
   "execution_count": 14,
   "metadata": {
    "ExecuteTime": {
     "end_time": "2021-06-24T20:46:37.616657Z",
     "start_time": "2021-06-24T20:46:37.599469Z"
    }
   },
   "outputs": [
    {
     "name": "stdout",
     "output_type": "stream",
     "text": [
      "163065\n"
     ]
    }
   ],
   "source": [
    "print(len(df))"
   ]
  },
  {
   "cell_type": "code",
   "execution_count": 15,
   "metadata": {
    "ExecuteTime": {
     "end_time": "2021-06-24T20:46:47.284569Z",
     "start_time": "2021-06-24T20:46:47.231199Z"
    }
   },
   "outputs": [
    {
     "name": "stdout",
     "output_type": "stream",
     "text": [
      "                                      drg_definition  provider_id  \\\n",
      "0  418 - LAPAROSCOPIC CHOLECYSTECTOMY W/O C.D.E. ...        20001   \n",
      "1  481 - HIP & FEMUR PROCEDURES EXCEPT MAJOR JOIN...        20001   \n",
      "2            473 - CERVICAL SPINAL FUSION W/O CC/MCC        20001   \n",
      "3  871 - SEPTICEMIA OR SEVERE SEPSIS W/O MV 96+ H...        20001   \n",
      "4  065 - INTRACRANIAL HEMORRHAGE OR CEREBRAL INFA...        20001   \n",
      "\n",
      "                      provider_name provider_street_address provider_city  \\\n",
      "0  PROVIDENCE ALASKA MEDICAL CENTER              BOX 196604     ANCHORAGE   \n",
      "1  PROVIDENCE ALASKA MEDICAL CENTER              BOX 196604     ANCHORAGE   \n",
      "2  PROVIDENCE ALASKA MEDICAL CENTER              BOX 196604     ANCHORAGE   \n",
      "3  PROVIDENCE ALASKA MEDICAL CENTER              BOX 196604     ANCHORAGE   \n",
      "4  PROVIDENCE ALASKA MEDICAL CENTER              BOX 196604     ANCHORAGE   \n",
      "\n",
      "  provider_state  provider_zipcode hospital_referral_region_description  \\\n",
      "0             AK             99519                       AK - Anchorage   \n",
      "1             AK             99519                       AK - Anchorage   \n",
      "2             AK             99519                       AK - Anchorage   \n",
      "3             AK             99519                       AK - Anchorage   \n",
      "4             AK             99519                       AK - Anchorage   \n",
      "\n",
      "   total_discharges  average_covered_charges  average_total_payments  \\\n",
      "0                15              51772.20000             14947.80000   \n",
      "1                26              66346.50000             16523.88462   \n",
      "2                38              46312.21053             17798.55263   \n",
      "3                82              64126.21951             20012.18293   \n",
      "4                72              47362.62500             10424.84722   \n",
      "\n",
      "   average_medicare_payments  \n",
      "0               12831.333330  \n",
      "1               15662.961540  \n",
      "2               16117.815790  \n",
      "3               16658.609760  \n",
      "4                9364.027778  \n"
     ]
    }
   ],
   "source": [
    "print(df.head())"
   ]
  },
  {
   "cell_type": "code",
   "execution_count": 21,
   "metadata": {
    "ExecuteTime": {
     "end_time": "2021-06-24T21:33:09.405224Z",
     "start_time": "2021-06-24T21:33:09.399996Z"
    }
   },
   "outputs": [],
   "source": [
    "def most_common(category, N):\n",
    "    print(dict(Counter(df[category].values).most_common(N)))"
   ]
  },
  {
   "cell_type": "code",
   "execution_count": 27,
   "metadata": {
    "ExecuteTime": {
     "end_time": "2021-06-24T21:34:50.169486Z",
     "start_time": "2021-06-24T21:34:50.067451Z"
    }
   },
   "outputs": [
    {
     "name": "stdout",
     "output_type": "stream",
     "text": [
      "{'194 - SIMPLE PNEUMONIA & PLEURISY W CC': 3023, '690 - KIDNEY & URINARY TRACT INFECTIONS W/O MCC': 2989, '292 - HEART FAILURE & SHOCK W CC': 2953, '392 - ESOPHAGITIS, GASTROENT & MISC DIGEST DISORDERS W/O MCC': 2950, '641 - MISC DISORDERS OF NUTRITION,METABOLISM,FLUIDS/ELECTROLYTES W/O MCC': 2899}\n"
     ]
    }
   ],
   "source": [
    "category = 'drg_definition'\n",
    "N = 5\n",
    "most_common(category, N)"
   ]
  },
  {
   "cell_type": "code",
   "execution_count": null,
   "metadata": {},
   "outputs": [],
   "source": []
  }
 ],
 "metadata": {
  "kernelspec": {
   "display_name": "Python 3",
   "language": "python",
   "name": "python3"
  },
  "language_info": {
   "codemirror_mode": {
    "name": "ipython",
    "version": 3
   },
   "file_extension": ".py",
   "mimetype": "text/x-python",
   "name": "python",
   "nbconvert_exporter": "python",
   "pygments_lexer": "ipython3",
   "version": "3.8.8"
  },
  "toc": {
   "base_numbering": 1,
   "nav_menu": {},
   "number_sections": true,
   "sideBar": true,
   "skip_h1_title": true,
   "title_cell": "Table of Contents",
   "title_sidebar": "Contents",
   "toc_cell": false,
   "toc_position": {},
   "toc_section_display": true,
   "toc_window_display": false
  },
  "varInspector": {
   "cols": {
    "lenName": 16,
    "lenType": 16,
    "lenVar": 40
   },
   "kernels_config": {
    "python": {
     "delete_cmd_postfix": "",
     "delete_cmd_prefix": "del ",
     "library": "var_list.py",
     "varRefreshCmd": "print(var_dic_list())"
    },
    "r": {
     "delete_cmd_postfix": ") ",
     "delete_cmd_prefix": "rm(",
     "library": "var_list.r",
     "varRefreshCmd": "cat(var_dic_list()) "
    }
   },
   "types_to_exclude": [
    "module",
    "function",
    "builtin_function_or_method",
    "instance",
    "_Feature"
   ],
   "window_display": false
  }
 },
 "nbformat": 4,
 "nbformat_minor": 4
}
